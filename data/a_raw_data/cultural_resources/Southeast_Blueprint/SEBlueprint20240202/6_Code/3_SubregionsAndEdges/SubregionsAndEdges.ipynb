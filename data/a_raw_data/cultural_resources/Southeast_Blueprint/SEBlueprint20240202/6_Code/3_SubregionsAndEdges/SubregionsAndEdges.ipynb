{
 "cells": [
  {
   "cell_type": "markdown",
   "metadata": {},
   "source": [
    "# Subregions and Edges\n",
    "\n",
    "This code was used to create the masks used in zonaton for the inland continental subregions of the 2023 Blueprint"
   ]
  },
  {
   "cell_type": "code",
   "execution_count": 1,
   "metadata": {},
   "outputs": [],
   "source": [
    "import os, fnmatch\n",
    "import arcpy"
   ]
  },
  {
   "cell_type": "code",
   "execution_count": 2,
   "metadata": {},
   "outputs": [],
   "source": [
    "import time\n",
    "start = time.time()"
   ]
  },
  {
   "cell_type": "code",
   "execution_count": 3,
   "metadata": {},
   "outputs": [],
   "source": [
    "# define spatial reference and workspaces\n",
    "sr= arcpy.SpatialReference(5070)\n",
    "# this is my scratch workspace\n",
    "OutWorkspace = r\"E:\\WORKING\\BaseBlueprint\\2022\\4_SubregionsAndEdges\\SubregionsAndEdgesForWorkshops.gdb\"\n",
    "# this is where the all the zonaiton masks will go so I can easily zip up to put on teams\n",
    "OutWorkspace2 = r\"E:\\WORKING\\BaseBlueprint\\2022\\4_SubregionsAndEdges\\SubregionsAndEdgesForWorkshops\"\n",
    "# I'm putting roads in the root directory to make it easier to zip it seperate from the masks\n",
    "OutWorkspace3 = r\"E:\\WORKING\\BaseBlueprint\\2022\\4_SubregionsAndEdges\""
   ]
  },
  {
   "cell_type": "code",
   "execution_count": 4,
   "metadata": {},
   "outputs": [],
   "source": [
    "# define rasters used for cell size, extent, and snapping\n",
    "SEraster= r\"E:\\WORKING\\BaseBlueprint\\2022\\2_Subregions\\BaseBlueprintExtent2022.tif\""
   ]
  },
  {
   "cell_type": "code",
   "execution_count": 5,
   "metadata": {},
   "outputs": [],
   "source": [
    "# define inputs\n",
    "nlcd= r\"F:\\GIS_DATA\\LanduseLandcover\\NLCD\\NLCD_landcover_2019_release_all_files_20210604\\nlcd_2019_land_cover_l48_20210604\\nlcd_2019_land_cover_l48_20210604.img\"\n",
    "subr= r\"E:\\WORKING\\BaseBlueprint\\2022\\2_Subregions\\BaseBlueprintSubRgn.shp\"\n",
    "resNull= r\"E:\\WORKING\\BaseBlueprint\\2022\\3_Reservoirs\\BaseBP_2022_ResNull.tif\"\n",
    "roads= r\"F:\\GIS_DATA\\Transporation\\OpenStreetMap20220223\\MainRoadsAE_20220223.shp\""
   ]
  },
  {
   "cell_type": "markdown",
   "metadata": {},
   "source": [
    "### Start Analysis"
   ]
  },
  {
   "cell_type": "code",
   "execution_count": 6,
   "metadata": {},
   "outputs": [],
   "source": [
    "# Set the workspace where I want the output to go\n",
    "arcpy.env.workspace = OutWorkspace"
   ]
  },
  {
   "cell_type": "code",
   "execution_count": 7,
   "metadata": {},
   "outputs": [
    {
     "name": "stdout",
     "output_type": "stream",
     "text": [
      "E:\\WORKING\\BaseBlueprint\\2022\\4_SubregionsAndEdges\\SubregionsAndEdgesForWorkshops.gdb\n"
     ]
    }
   ],
   "source": [
    "print(arcpy.env.workspace)"
   ]
  },
  {
   "cell_type": "markdown",
   "metadata": {},
   "source": [
    "### Wrangle subregions\n",
    "Now that our extent is so large, we can no longer just input the full extent into our zonation subregion runs. We have to generate masks that have the extent for each subregion, and then we need to clip all the indicators for that zonation run to that smaller mask area as well. Blah."
   ]
  },
  {
   "cell_type": "code",
   "execution_count": 8,
   "metadata": {},
   "outputs": [
    {
     "name": "stdout",
     "output_type": "stream",
     "text": [
      "True\n"
     ]
    }
   ],
   "source": [
    "# it would be nice if I could just overwrite in the steps below, because Rua needs both the subregion I and the subregion II \n",
    "# for testing, but some subregion I areas are not subdivided again into a subregion II (not east to do with ecoregions and \n",
    "#HUCS for those). Here I am checking to see if the environments should allow overwriting\n",
    "print (arcpy.env.overwriteOutput)"
   ]
  },
  {
   "cell_type": "code",
   "execution_count": 9,
   "metadata": {},
   "outputs": [
    {
     "data": {
      "text/html": [
       "<h2>Output</h2>E:\\WORKING\\BaseBlueprint\\2022\\4_SubregionsAndEdges\\SubregionsAndEdgesForWorkshops.gdb<h2>Messages</h2>Start Time: Monday, February 28, 2022 3:27:38 PM<br/>Value(s) Appalachians written to E:\\WORKING\\BaseBlueprint\\2022\\4_SubregionsAndEdges\\SubregionsAndEdgesForWorkshops.gdb\\Appalachians.<br/>Value(s) Atlantic Coastal Plain written to E:\\WORKING\\BaseBlueprint\\2022\\4_SubregionsAndEdges\\SubregionsAndEdgesForWorkshops.gdb\\Atlantic_Coastal_Plain.<br/>Value(s) Chihuahuan Deserts written to E:\\WORKING\\BaseBlueprint\\2022\\4_SubregionsAndEdges\\SubregionsAndEdgesForWorkshops.gdb\\Chihuahuan_Deserts.<br/>Value(s) East Gulf Coastal Plain written to E:\\WORKING\\BaseBlueprint\\2022\\4_SubregionsAndEdges\\SubregionsAndEdgesForWorkshops.gdb\\East_Gulf_Coastal_Plain.<br/>Value(s) Edwards Plateau written to E:\\WORKING\\BaseBlueprint\\2022\\4_SubregionsAndEdges\\SubregionsAndEdgesForWorkshops.gdb\\Edwards_Plateau.<br/>Value(s) Florida Peninsula written to E:\\WORKING\\BaseBlueprint\\2022\\4_SubregionsAndEdges\\SubregionsAndEdgesForWorkshops.gdb\\Florida_Peninsula.<br/>Value(s) Gulf Coastal Prairies written to E:\\WORKING\\BaseBlueprint\\2022\\4_SubregionsAndEdges\\SubregionsAndEdgesForWorkshops.gdb\\Gulf_Coastal_Prairies.<br/>Value(s) High Plains and Tablelands written to E:\\WORKING\\BaseBlueprint\\2022\\4_SubregionsAndEdges\\SubregionsAndEdgesForWorkshops.gdb\\High_Plains_and_Tablelands.<br/>Value(s) Interior Plateau written to E:\\WORKING\\BaseBlueprint\\2022\\4_SubregionsAndEdges\\SubregionsAndEdgesForWorkshops.gdb\\Interior_Plateau.<br/>Value(s) Marine Gulf Stream written to E:\\WORKING\\BaseBlueprint\\2022\\4_SubregionsAndEdges\\SubregionsAndEdgesForWorkshops.gdb\\Marine_Gulf_Stream.<br/>Value(s) Marine Shelf and Extension written to E:\\WORKING\\BaseBlueprint\\2022\\4_SubregionsAndEdges\\SubregionsAndEdgesForWorkshops.gdb\\Marine_Shelf_and_Extension.<br/>Value(s) Mississippi Alluvial Valley written to E:\\WORKING\\BaseBlueprint\\2022\\4_SubregionsAndEdges\\SubregionsAndEdgesForWorkshops.gdb\\Mississippi_Alluvial_Valley.<br/>Value(s) North Missouri written to E:\\WORKING\\BaseBlueprint\\2022\\4_SubregionsAndEdges\\SubregionsAndEdgesForWorkshops.gdb\\North_Missouri.<br/>Value(s) Ouachita written to E:\\WORKING\\BaseBlueprint\\2022\\4_SubregionsAndEdges\\SubregionsAndEdgesForWorkshops.gdb\\Ouachita.<br/>Value(s) Ozarks and Plains written to E:\\WORKING\\BaseBlueprint\\2022\\4_SubregionsAndEdges\\SubregionsAndEdgesForWorkshops.gdb\\Ozarks_and_Plains.<br/>Value(s) Piedmont written to E:\\WORKING\\BaseBlueprint\\2022\\4_SubregionsAndEdges\\SubregionsAndEdgesForWorkshops.gdb\\Piedmont.<br/>Value(s) Plains and Timbers written to E:\\WORKING\\BaseBlueprint\\2022\\4_SubregionsAndEdges\\SubregionsAndEdgesForWorkshops.gdb\\Plains_and_Timbers.<br/>Value(s) South Texas Plains written to E:\\WORKING\\BaseBlueprint\\2022\\4_SubregionsAndEdges\\SubregionsAndEdgesForWorkshops.gdb\\South_Texas_Plains.<br/>Value(s) Texas Blackland Prairies written to E:\\WORKING\\BaseBlueprint\\2022\\4_SubregionsAndEdges\\SubregionsAndEdgesForWorkshops.gdb\\Texas_Blackland_Prairies.<br/>Value(s) West Gulf Coastal Plain written to E:\\WORKING\\BaseBlueprint\\2022\\4_SubregionsAndEdges\\SubregionsAndEdgesForWorkshops.gdb\\West_Gulf_Coastal_Plain.<br/>Succeeded at Monday, February 28, 2022 3:27:48 PM (Elapsed Time: 9.65 seconds)<br/><style>.rendered_html td, .rendered_html th {text-align: left;}.rendered_html tbody {border: 1px solid black;}</style>"
      ],
      "text/plain": [
       "<Result 'E:\\\\WORKING\\\\BaseBlueprint\\\\2022\\\\4_SubregionsAndEdges\\\\SubregionsAndEdgesForWorkshops.gdb'>"
      ]
     },
     "execution_count": 9,
     "metadata": {},
     "output_type": "execute_result"
    }
   ],
   "source": [
    "# make individual feature classes for each level 1 subregion\n",
    "arcpy.analysis.SplitByAttributes(subr, OutWorkspace, \"SubRgn_I\")"
   ]
  },
  {
   "cell_type": "code",
   "execution_count": 10,
   "metadata": {},
   "outputs": [
    {
     "data": {
      "text/html": [
       "<h2>Output</h2>E:\\WORKING\\BaseBlueprint\\2022\\4_SubregionsAndEdges\\SubregionsAndEdgesForWorkshops.gdb<h2>Messages</h2>Start Time: Monday, February 28, 2022 3:27:48 PM<br/>Value(s) Central Atlantic Coastal Plain written to E:\\WORKING\\BaseBlueprint\\2022\\4_SubregionsAndEdges\\SubregionsAndEdgesForWorkshops.gdb\\Central_Atlantic_Coastal_Plain.<br/>Value(s) Central Gulf Coastal Plain written to E:\\WORKING\\BaseBlueprint\\2022\\4_SubregionsAndEdges\\SubregionsAndEdgesForWorkshops.gdb\\Central_Gulf_Coastal_Plain.<br/>Value(s) Chihuahuan Deserts written to E:\\WORKING\\BaseBlueprint\\2022\\4_SubregionsAndEdges\\SubregionsAndEdgesForWorkshops.gdb\\Chihuahuan_Deserts0.<br/>Value(s) East Gulf Coastal Plain Sub written to E:\\WORKING\\BaseBlueprint\\2022\\4_SubregionsAndEdges\\SubregionsAndEdgesForWorkshops.gdb\\East_Gulf_Coastal_Plain_Sub.<br/>Value(s) Edwards Plateau written to E:\\WORKING\\BaseBlueprint\\2022\\4_SubregionsAndEdges\\SubregionsAndEdgesForWorkshops.gdb\\Edwards_Plateau0.<br/>Value(s) Florida Peninsula written to E:\\WORKING\\BaseBlueprint\\2022\\4_SubregionsAndEdges\\SubregionsAndEdgesForWorkshops.gdb\\Florida_Peninsula0.<br/>Value(s) Gulf Coastal Prairies written to E:\\WORKING\\BaseBlueprint\\2022\\4_SubregionsAndEdges\\SubregionsAndEdgesForWorkshops.gdb\\Gulf_Coastal_Prairies0.<br/>Value(s) Interior Plateau written to E:\\WORKING\\BaseBlueprint\\2022\\4_SubregionsAndEdges\\SubregionsAndEdgesForWorkshops.gdb\\Interior_Plateau0.<br/>Value(s) Marine Gulf Stream written to E:\\WORKING\\BaseBlueprint\\2022\\4_SubregionsAndEdges\\SubregionsAndEdgesForWorkshops.gdb\\Marine_Gulf_Stream0.<br/>Value(s) Marine Shelf and Extension written to E:\\WORKING\\BaseBlueprint\\2022\\4_SubregionsAndEdges\\SubregionsAndEdgesForWorkshops.gdb\\Marine_Shelf_and_Extension0.<br/>Value(s) Mid East Gulf Coastal Plain written to E:\\WORKING\\BaseBlueprint\\2022\\4_SubregionsAndEdges\\SubregionsAndEdgesForWorkshops.gdb\\Mid_East_Gulf_Coastal_Plain.<br/>Value(s) Mississippi Alluvial Valley written to E:\\WORKING\\BaseBlueprint\\2022\\4_SubregionsAndEdges\\SubregionsAndEdgesForWorkshops.gdb\\Mississippi_Alluvial_Valley0.<br/>Value(s) North Appalachians written to E:\\WORKING\\BaseBlueprint\\2022\\4_SubregionsAndEdges\\SubregionsAndEdgesForWorkshops.gdb\\North_Appalachians.<br/>Value(s) North Atlantic Coastal Plain written to E:\\WORKING\\BaseBlueprint\\2022\\4_SubregionsAndEdges\\SubregionsAndEdgesForWorkshops.gdb\\North_Atlantic_Coastal_Plain.<br/>Value(s) North High Plains and Tablelands written to E:\\WORKING\\BaseBlueprint\\2022\\4_SubregionsAndEdges\\SubregionsAndEdgesForWorkshops.gdb\\North_High_Plains_and_Tablelands.<br/>Value(s) North Missouri written to E:\\WORKING\\BaseBlueprint\\2022\\4_SubregionsAndEdges\\SubregionsAndEdgesForWorkshops.gdb\\North_Missouri0.<br/>Value(s) North Piedmont written to E:\\WORKING\\BaseBlueprint\\2022\\4_SubregionsAndEdges\\SubregionsAndEdgesForWorkshops.gdb\\North_Piedmont.<br/>Value(s) Ouachita written to E:\\WORKING\\BaseBlueprint\\2022\\4_SubregionsAndEdges\\SubregionsAndEdgesForWorkshops.gdb\\Ouachita0.<br/>Value(s) Ozarks and Plains written to E:\\WORKING\\BaseBlueprint\\2022\\4_SubregionsAndEdges\\SubregionsAndEdgesForWorkshops.gdb\\Ozarks_and_Plains0.<br/>Value(s) Plains and Timbers written to E:\\WORKING\\BaseBlueprint\\2022\\4_SubregionsAndEdges\\SubregionsAndEdgesForWorkshops.gdb\\Plains_and_Timbers0.<br/>Value(s) South Appalachians written to E:\\WORKING\\BaseBlueprint\\2022\\4_SubregionsAndEdges\\SubregionsAndEdgesForWorkshops.gdb\\South_Appalachians.<br/>Value(s) South Atlantic Coastal Plain written to E:\\WORKING\\BaseBlueprint\\2022\\4_SubregionsAndEdges\\SubregionsAndEdgesForWorkshops.gdb\\South_Atlantic_Coastal_Plain.<br/>Value(s) South High Plains and Tablelands written to E:\\WORKING\\BaseBlueprint\\2022\\4_SubregionsAndEdges\\SubregionsAndEdgesForWorkshops.gdb\\South_High_Plains_and_Tablelands.<br/>Value(s) South Piedmont written to E:\\WORKING\\BaseBlueprint\\2022\\4_SubregionsAndEdges\\SubregionsAndEdgesForWorkshops.gdb\\South_Piedmont.<br/>Value(s) South Texas Plains written to E:\\WORKING\\BaseBlueprint\\2022\\4_SubregionsAndEdges\\SubregionsAndEdgesForWorkshops.gdb\\South_Texas_Plains0.<br/>Value(s) Texas Blackland Prairies written to E:\\WORKING\\BaseBlueprint\\2022\\4_SubregionsAndEdges\\SubregionsAndEdgesForWorkshops.gdb\\Texas_Blackland_Prairies0.<br/>Value(s) West Gulf Coastal Plain written to E:\\WORKING\\BaseBlueprint\\2022\\4_SubregionsAndEdges\\SubregionsAndEdgesForWorkshops.gdb\\West_Gulf_Coastal_Plain0.<br/>Succeeded at Monday, February 28, 2022 3:28:01 PM (Elapsed Time: 13.57 seconds)<br/><style>.rendered_html td, .rendered_html th {text-align: left;}.rendered_html tbody {border: 1px solid black;}</style>"
      ],
      "text/plain": [
       "<Result 'E:\\\\WORKING\\\\BaseBlueprint\\\\2022\\\\4_SubregionsAndEdges\\\\SubregionsAndEdgesForWorkshops.gdb'>"
      ]
     },
     "execution_count": 10,
     "metadata": {},
     "output_type": "execute_result"
    }
   ],
   "source": [
    "# make individual feature classes for each level 2 subregion\n",
    "# dang, looking at results, it did not overwrite, instead it made copies of the Subregion I and II that are identical and just put \n",
    "# a 0 at the end of the name. Doh\n",
    "arcpy.analysis.SplitByAttributes(subr, OutWorkspace, \"SubRgn_II\")"
   ]
  },
  {
   "cell_type": "code",
   "execution_count": 11,
   "metadata": {},
   "outputs": [],
   "source": [
    "# make a list of all feature classes\n",
    "FCList = arcpy.ListFeatureClasses() "
   ]
  },
  {
   "cell_type": "code",
   "execution_count": 12,
   "metadata": {},
   "outputs": [
    {
     "name": "stdout",
     "output_type": "stream",
     "text": [
      "['Appalachians', 'Atlantic_Coastal_Plain', 'Chihuahuan_Deserts', 'East_Gulf_Coastal_Plain', 'Edwards_Plateau', 'Florida_Peninsula', 'Gulf_Coastal_Prairies', 'High_Plains_and_Tablelands', 'Interior_Plateau', 'Marine_Gulf_Stream', 'Marine_Shelf_and_Extension', 'Mississippi_Alluvial_Valley', 'North_Missouri', 'Ouachita', 'Ozarks_and_Plains', 'Piedmont', 'Plains_and_Timbers', 'South_Texas_Plains', 'Texas_Blackland_Prairies', 'West_Gulf_Coastal_Plain', 'Central_Atlantic_Coastal_Plain', 'Central_Gulf_Coastal_Plain', 'Chihuahuan_Deserts0', 'East_Gulf_Coastal_Plain_Sub', 'Edwards_Plateau0', 'Florida_Peninsula0', 'Gulf_Coastal_Prairies0', 'Interior_Plateau0', 'Marine_Gulf_Stream0', 'Marine_Shelf_and_Extension0', 'Mid_East_Gulf_Coastal_Plain', 'Mississippi_Alluvial_Valley0', 'North_Appalachians', 'North_Atlantic_Coastal_Plain', 'North_High_Plains_and_Tablelands', 'North_Missouri0', 'North_Piedmont', 'Ouachita0', 'Ozarks_and_Plains0', 'Plains_and_Timbers0', 'South_Appalachians', 'South_Atlantic_Coastal_Plain', 'South_High_Plains_and_Tablelands', 'South_Piedmont', 'South_Texas_Plains0', 'Texas_Blackland_Prairies0', 'West_Gulf_Coastal_Plain0']\n"
     ]
    }
   ],
   "source": [
    "#Print the list made in the above step to see what I found\n",
    "print(FCList)"
   ]
  },
  {
   "cell_type": "code",
   "execution_count": 13,
   "metadata": {},
   "outputs": [],
   "source": [
    "# too many feature classes! I have double copies where the LevelI subregions are not split into Level II subregions.\n",
    "# here I'm making a new list of the ones I don't want, I'm doing this because I couldn't figure out how to do a negative wildcard\n",
    "# what I really want is a lit of all subregions that don't end in 0\n",
    "# above I checked to see if I could just overwrite instead of making the ones that end in 0, and it said it would overwrite\n",
    "# but alas, it did not\n",
    "FCListNeg =[]\n",
    "\n",
    "for fc in FCList:\n",
    "    if fnmatch.fnmatch(fc, \"*0\"):\n",
    "        FCListNeg.append(fc)"
   ]
  },
  {
   "cell_type": "code",
   "execution_count": 14,
   "metadata": {},
   "outputs": [
    {
     "name": "stdout",
     "output_type": "stream",
     "text": [
      "['Chihuahuan_Deserts0', 'Edwards_Plateau0', 'Florida_Peninsula0', 'Gulf_Coastal_Prairies0', 'Interior_Plateau0', 'Marine_Gulf_Stream0', 'Marine_Shelf_and_Extension0', 'Mississippi_Alluvial_Valley0', 'North_Missouri0', 'Ouachita0', 'Ozarks_and_Plains0', 'Plains_and_Timbers0', 'South_Texas_Plains0', 'Texas_Blackland_Prairies0', 'West_Gulf_Coastal_Plain0']\n"
     ]
    }
   ],
   "source": [
    "print(FCListNeg)"
   ]
  },
  {
   "cell_type": "code",
   "execution_count": 15,
   "metadata": {},
   "outputs": [],
   "source": [
    "# remove the ones I don't want from the list\n",
    "FCListG = [x for x in FCList if x not in FCListNeg]"
   ]
  },
  {
   "cell_type": "code",
   "execution_count": 16,
   "metadata": {},
   "outputs": [
    {
     "name": "stdout",
     "output_type": "stream",
     "text": [
      "['Appalachians', 'Atlantic_Coastal_Plain', 'Chihuahuan_Deserts', 'East_Gulf_Coastal_Plain', 'Edwards_Plateau', 'Florida_Peninsula', 'Gulf_Coastal_Prairies', 'High_Plains_and_Tablelands', 'Interior_Plateau', 'Marine_Gulf_Stream', 'Marine_Shelf_and_Extension', 'Mississippi_Alluvial_Valley', 'North_Missouri', 'Ouachita', 'Ozarks_and_Plains', 'Piedmont', 'Plains_and_Timbers', 'South_Texas_Plains', 'Texas_Blackland_Prairies', 'West_Gulf_Coastal_Plain', 'Central_Atlantic_Coastal_Plain', 'Central_Gulf_Coastal_Plain', 'East_Gulf_Coastal_Plain_Sub', 'Mid_East_Gulf_Coastal_Plain', 'North_Appalachians', 'North_Atlantic_Coastal_Plain', 'North_High_Plains_and_Tablelands', 'North_Piedmont', 'South_Appalachians', 'South_Atlantic_Coastal_Plain', 'South_High_Plains_and_Tablelands', 'South_Piedmont']\n"
     ]
    }
   ],
   "source": [
    "print(FCListG)"
   ]
  },
  {
   "cell_type": "code",
   "execution_count": 17,
   "metadata": {},
   "outputs": [
    {
     "name": "stdout",
     "output_type": "stream",
     "text": [
      "finished polygon to raster\n"
     ]
    }
   ],
   "source": [
    "# Loop convert subregions to polygons, snapping cells\n",
    "for fc in FCListG:\n",
    "\n",
    "     output = fc + \"_R\"\n",
    "\n",
    "     # Process: Polygon to Raster\n",
    "     with arcpy.EnvManager(snapRaster=SEraster):\n",
    "        arcpy.PolygonToRaster_conversion(fc, \"SubRgn_I\", output, \"CELL_CENTER\", \"\", SEraster)\n",
    "\n",
    "print (\"finished polygon to raster\") "
   ]
  },
  {
   "cell_type": "code",
   "execution_count": 18,
   "metadata": {},
   "outputs": [],
   "source": [
    "# make a list of all subregions rasters\n",
    "RList = arcpy.ListRasters() "
   ]
  },
  {
   "cell_type": "code",
   "execution_count": 19,
   "metadata": {},
   "outputs": [
    {
     "name": "stdout",
     "output_type": "stream",
     "text": [
      "['Appalachians_R', 'Atlantic_Coastal_Plain_R', 'Chihuahuan_Deserts_R', 'East_Gulf_Coastal_Plain_R', 'Edwards_Plateau_R', 'Florida_Peninsula_R', 'Gulf_Coastal_Prairies_R', 'High_Plains_and_Tablelands_R', 'Interior_Plateau_R', 'Marine_Gulf_Stream_R', 'Marine_Shelf_and_Extension_R', 'Mississippi_Alluvial_Valley_R', 'North_Missouri_R', 'Ouachita_R', 'Ozarks_and_Plains_R', 'Piedmont_R', 'Plains_and_Timbers_R', 'South_Texas_Plains_R', 'Texas_Blackland_Prairies_R', 'West_Gulf_Coastal_Plain_R', 'Central_Atlantic_Coastal_Plain_R', 'Central_Gulf_Coastal_Plain_R', 'East_Gulf_Coastal_Plain_Sub_R', 'Mid_East_Gulf_Coastal_Plain_R', 'North_Appalachians_R', 'North_Atlantic_Coastal_Plain_R', 'North_High_Plains_and_Tablelands_R', 'North_Piedmont_R', 'South_Appalachians_R', 'South_Atlantic_Coastal_Plain_R', 'South_High_Plains_and_Tablelands_R', 'South_Piedmont_R']\n"
     ]
    }
   ],
   "source": [
    "print(RList)"
   ]
  },
  {
   "cell_type": "markdown",
   "metadata": {},
   "source": [
    "### Roads"
   ]
  },
  {
   "cell_type": "code",
   "execution_count": 20,
   "metadata": {},
   "outputs": [],
   "source": [
    "# select out the larger roads from the file created in R from the openstreetmap download\n",
    "# these are larger roads that we definately want to capture some aspect of\n",
    "with arcpy.EnvManager(outputCoordinateSystem=sr):\n",
    "    arcpy.analysis.Select(roads, \"roadsLarge\", \"fclass NOT IN ('secondary','secondary_link','tertiary','tertiary_link','residential')\")"
   ]
  },
  {
   "cell_type": "code",
   "execution_count": 21,
   "metadata": {},
   "outputs": [
    {
     "data": {
      "text/html": [
       "<h2>Output</h2>E:\\WORKING\\BaseBlueprint\\2022\\4_SubregionsAndEdges\\SubregionsAndEdgesForWorkshops.gdb\\roadsLarge<h2>Messages</h2>Start Time: Monday, February 28, 2022 3:38:30 PM<br/>Adding dissolve to roadsLarge...<br/>Succeeded at Monday, February 28, 2022 3:39:06 PM (Elapsed Time: 35.14 seconds)<br/><style>.rendered_html td, .rendered_html th {text-align: left;}.rendered_html tbody {border: 1px solid black;}</style>"
      ],
      "text/plain": [
       "<Result 'E:\\\\WORKING\\\\BaseBlueprint\\\\2022\\\\4_SubregionsAndEdges\\\\SubregionsAndEdgesForWorkshops.gdb\\\\roadsLarge'>"
      ]
     },
     "execution_count": 21,
     "metadata": {},
     "output_type": "execute_result"
    }
   ],
   "source": [
    "# add and calculate a field that we can use to convert to a raster\n",
    "arcpy.management.CalculateField(\"roadsLarge\", \"dissolve\", \"1\", \"PYTHON3\", '', \"SHORT\")"
   ]
  },
  {
   "cell_type": "code",
   "execution_count": 22,
   "metadata": {},
   "outputs": [],
   "source": [
    "# convert lines to raster\n",
    "with arcpy.EnvManager(outputCoordinateSystem=sr, extent=SEraster, snapRaster=SEraster, cellSize=SEraster):\n",
    "    arcpy.conversion.FeatureToRaster(\"roadsLarge\", \"dissolve\", \"roadsLargeR\", SEraster)"
   ]
  },
  {
   "cell_type": "code",
   "execution_count": 23,
   "metadata": {},
   "outputs": [],
   "source": [
    "# select out the smaller roads from the file created in R from the openstreetmap download\n",
    "# these are smaller roads, but ones that sometimes get picked up in the NLCD low intensity urban class\n",
    "# I'm pulling them out incase they are important to create edges in rural areas\n",
    "with arcpy.EnvManager(outputCoordinateSystem=sr):\n",
    "    arcpy.analysis.Select(roads, \"roadsMed\", \"fclass IN ('secondary','secondary_link','tertiary','tertiary_link')\")"
   ]
  },
  {
   "cell_type": "code",
   "execution_count": 24,
   "metadata": {},
   "outputs": [
    {
     "data": {
      "text/html": [
       "<h2>Output</h2>E:\\WORKING\\BaseBlueprint\\2022\\4_SubregionsAndEdges\\SubregionsAndEdgesForWorkshops.gdb\\roadsMed<h2>Messages</h2>Start Time: Monday, February 28, 2022 3:43:47 PM<br/>Adding dissolve to roadsMed...<br/>Succeeded at Monday, February 28, 2022 3:44:24 PM (Elapsed Time: 36.52 seconds)<br/><style>.rendered_html td, .rendered_html th {text-align: left;}.rendered_html tbody {border: 1px solid black;}</style>"
      ],
      "text/plain": [
       "<Result 'E:\\\\WORKING\\\\BaseBlueprint\\\\2022\\\\4_SubregionsAndEdges\\\\SubregionsAndEdgesForWorkshops.gdb\\\\roadsMed'>"
      ]
     },
     "execution_count": 24,
     "metadata": {},
     "output_type": "execute_result"
    }
   ],
   "source": [
    "# add and calculate a field that we can use to convert to a raster\n",
    "arcpy.management.CalculateField(\"roadsMed\", \"dissolve\", \"1\", \"PYTHON3\", '', \"SHORT\")"
   ]
  },
  {
   "cell_type": "code",
   "execution_count": 25,
   "metadata": {},
   "outputs": [],
   "source": [
    "# convert lines to raster\n",
    "# I'm coverting these smaller roads to a 10 meter raster, then resampling, so they don't form full linear features\n",
    "with arcpy.EnvManager(outputCoordinateSystem=sr):\n",
    "    arcpy.conversion.FeatureToRaster(\"roadsMed\", \"dissolve\", \"roadsMedR\", 10)"
   ]
  },
  {
   "cell_type": "code",
   "execution_count": 26,
   "metadata": {},
   "outputs": [],
   "source": [
    "# resample up to 30 meters\n",
    "with arcpy.EnvManager(outputCoordinateSystem=sr, extent=SEraster, snapRaster=SEraster, cellSize=SEraster):\n",
    "    arcpy.management.Resample(\"roadsMedR\", \"roadsMedR30\", \"30 30\", \"NEAREST\")"
   ]
  },
  {
   "cell_type": "code",
   "execution_count": 27,
   "metadata": {},
   "outputs": [],
   "source": [
    "# combine the roads layers\n",
    "out_raster = arcpy.sa.CellStatistics(\"roadsLargeR;roadsMedR30\", \"MAXIMUM\", \"DATA\", \"SINGLE_BAND\"); out_raster.save(\"roads2\")"
   ]
  },
  {
   "cell_type": "code",
   "execution_count": 28,
   "metadata": {},
   "outputs": [],
   "source": [
    "# Make a raster with the 3 road as 0 and everything else is 1\n",
    "with arcpy.EnvManager(outputCoordinateSystem=sr, extent=SEraster, snapRaster=SEraster, cellSize=SEraster):\n",
    "    out_raster = arcpy.sa.Reclassify(\"roads2\", \"Value\", \"1 0;NODATA 1\", \"DATA\"); out_raster.save(\"roads2z\")"
   ]
  },
  {
   "cell_type": "markdown",
   "metadata": {},
   "source": [
    "### NLCD urban"
   ]
  },
  {
   "cell_type": "code",
   "execution_count": 29,
   "metadata": {},
   "outputs": [],
   "source": [
    "# Make a raster with the 2 highest urban classes as 0 and everything else is 1\n",
    "with arcpy.EnvManager(outputCoordinateSystem=sr, extent=SEraster, snapRaster=SEraster, cellSize=SEraster):\n",
    "    out_raster = arcpy.sa.Con(nlcd, 0, 1, \"Value = 23 Or Value = 24\"); out_raster.save(\"urb\")"
   ]
  },
  {
   "cell_type": "markdown",
   "metadata": {},
   "source": [
    "### reservoirs"
   ]
  },
  {
   "cell_type": "code",
   "execution_count": 30,
   "metadata": {},
   "outputs": [],
   "source": [
    "# make a raster with reservoris as 0 and everything else as 1 \n",
    "with arcpy.EnvManager(outputCoordinateSystem=sr, extent=SEraster, snapRaster=SEraster, cellSize=SEraster):\n",
    "    out_raster = arcpy.sa.Reclassify(resNull, \"VALUE\", \"1 1;0 0;NODATA 0\", \"DATA\"); out_raster.save(\"res2\")"
   ]
  },
  {
   "cell_type": "code",
   "execution_count": 31,
   "metadata": {},
   "outputs": [],
   "source": [
    "# this should make a raster with both reservoirs and urban as 0 and everything else as 1\n",
    "#out_raster = arcpy.sa.Times(\"res\", \"urb\"); out_raster.save(\"UrbRes\")"
   ]
  },
  {
   "cell_type": "code",
   "execution_count": 32,
   "metadata": {},
   "outputs": [],
   "source": [
    "# this should make a raster with roads, reservoirs, or urban as 0 and everything else as 1\n",
    "out_raster = arcpy.sa.CellStatistics(\"res2;urb;roads2z\", \"MINIMUM\", \"DATA\", \"SINGLE_BAND\"); out_raster.save(\"UrbResRoad\")"
   ]
  },
  {
   "cell_type": "code",
   "execution_count": 33,
   "metadata": {},
   "outputs": [],
   "source": [
    "# make a raster with roads, urban or reservoris as NODATA and everything else as 1 \n",
    "with arcpy.EnvManager(outputCoordinateSystem=sr, extent=SEraster, snapRaster=SEraster, cellSize=SEraster):\n",
    "    out_raster = arcpy.sa.Reclassify(\"UrbResRoad\", \"VALUE\", \"1 1;0 NODATA\", \"DATA\"); out_raster.save(\"UrbResRoadND\")"
   ]
  },
  {
   "cell_type": "markdown",
   "metadata": {},
   "source": [
    "### make subregion masks for use in zonation\n",
    "These masks have NoData for urban and reservoirs and 1 for the areas inside the subregion we want zonation to prioritize"
   ]
  },
  {
   "cell_type": "code",
   "execution_count": 34,
   "metadata": {},
   "outputs": [
    {
     "name": "stdout",
     "output_type": "stream",
     "text": [
      "finished making zonation masks\n"
     ]
    }
   ],
   "source": [
    "# Loop through all rasters, use times to remove urban and reservoirs from subregions\n",
    "for r in RList:\n",
    "   \n",
    "    # Process: \n",
    "    with arcpy.EnvManager(snapRaster=SEraster):\n",
    "        out_raster = arcpy.sa.Times(r, \"UrbResRoadND\"); out_raster.save(OutWorkspace2 + \"\\\\\" + r + \"Z.tif\")\n",
    "\n",
    "print (\"finished making zonation masks\") "
   ]
  },
  {
   "cell_type": "markdown",
   "metadata": {},
   "source": [
    "### make subregion masks to rebalance zonation results\n",
    "These masks have 0 for urban and reservoirs, 1 for the areas inside the subregion we want zonation to prioritize, NoData outside the subregion"
   ]
  },
  {
   "cell_type": "code",
   "execution_count": 35,
   "metadata": {},
   "outputs": [
    {
     "name": "stdout",
     "output_type": "stream",
     "text": [
      "finished making zonation rebalancing rasters\n"
     ]
    }
   ],
   "source": [
    "# Loop through all rasters, use times to remove urban and reservoirs from subregions\n",
    "for r in RList:\n",
    "   \n",
    "    # Process: \n",
    "    with arcpy.EnvManager(snapRaster=SEraster):\n",
    "        out_raster = arcpy.sa.Times(r, \"UrbResRoad\"); out_raster.save(OutWorkspace2 + \"\\\\\" + r + \".tif\")\n",
    "\n",
    "print (\"finished making zonation rebalancing rasters\") "
   ]
  },
  {
   "cell_type": "markdown",
   "metadata": {},
   "source": [
    "### Export roads layer as .tif"
   ]
  },
  {
   "cell_type": "code",
   "execution_count": 36,
   "metadata": {},
   "outputs": [],
   "source": [
    "# export as .tif with SE extent\n",
    "with arcpy.EnvManager(outputCoordinateSystem=sr, extent=SEraster, snapRaster=SEraster, cellSize=SEraster):\n",
    "    arcpy.management.CopyRaster(\"roads2\", OutWorkspace3 + \"\\\\\" + \"roads.tif\", '', None, \"255\", \"NONE\", \"NONE\", \"8_BIT_UNSIGNED\", \"NONE\", \"NONE\", \"TIFF\", \"NONE\", \"CURRENT_SLICE\", \"NO_TRANSPOSE\")"
   ]
  },
  {
   "cell_type": "code",
   "execution_count": 37,
   "metadata": {},
   "outputs": [],
   "source": [
    "# clean up space, delete files\n",
    "#for fc in FCList:\n",
    "#    arcpy.Delete_management(fc)\n",
    "    \n",
    "#print (\"finished deleting\")"
   ]
  },
  {
   "cell_type": "code",
   "execution_count": 38,
   "metadata": {},
   "outputs": [
    {
     "name": "stdout",
     "output_type": "stream",
     "text": [
      "7986.33199596405\n"
     ]
    }
   ],
   "source": [
    "# this prints the time it took this notebook to run in seconds\n",
    "end = time.time()\n",
    "print(end - start)"
   ]
  }
 ],
 "metadata": {
  "kernelspec": {
   "display_name": "ArcGISPro",
   "language": "Python",
   "name": "python3"
  },
  "language_info": {
   "file_extension": ".py",
   "name": "python",
   "version": "3"
  }
 },
 "nbformat": 4,
 "nbformat_minor": 2
}
