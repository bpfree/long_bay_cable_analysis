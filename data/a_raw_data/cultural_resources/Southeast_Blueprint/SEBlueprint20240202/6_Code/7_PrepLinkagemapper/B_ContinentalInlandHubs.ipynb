{
 "cells": [
  {
   "cell_type": "markdown",
   "metadata": {},
   "source": [
    "# This is the second step in running corridor analysis\n",
    "\n",
    "This needs to be run with a map open so the select at the end will work\n",
    "\n",
    "Created by Amy Keister, last run by Amy Keister on 8/18/2022. It took 1 hour to run. "
   ]
  },
  {
   "cell_type": "code",
   "execution_count": 1,
   "metadata": {},
   "outputs": [],
   "source": [
    "import os\n",
    "import arcpy\n",
    "import numpy"
   ]
  },
  {
   "cell_type": "code",
   "execution_count": 2,
   "metadata": {},
   "outputs": [],
   "source": [
    "import time\n",
    "start = time.time()"
   ]
  },
  {
   "cell_type": "code",
   "execution_count": 3,
   "metadata": {},
   "outputs": [],
   "source": [
    "# define spatial reference and workspaces\n",
    "sr= arcpy.SpatialReference(5070)\n",
    "#SourceWorkspace = \n",
    "OutWorkspace = r\"D:\\SE_Blueprint_2023\\8_PrepLinkageMapperRuns\\B_ConInlandHubs.gdb\""
   ]
  },
  {
   "cell_type": "code",
   "execution_count": 4,
   "metadata": {},
   "outputs": [],
   "source": [
    "# define final outputs\n",
    "Hub= r\"D:\\SE_Blueprint_2023\\8_PrepLinkageMapperRuns\\Ba_Con_LM_Input.gdb\\Hubs\""
   ]
  },
  {
   "cell_type": "code",
   "execution_count": 5,
   "metadata": {},
   "outputs": [],
   "source": [
    "# define rasters used for cell size, extent, and snapping\n",
    "SEraster= r\"F:\\GIS_DATA\\SECAS\\SE_Blueprint_2022\\Southeast_Blueprint_2022_Data_Download\\SEBlueprint20221215\\Inputs\\BaseBlueprint\\1_ExtentLayers\\BaseBlueprintExtent2022.tif\""
   ]
  },
  {
   "cell_type": "code",
   "execution_count": 6,
   "metadata": {},
   "outputs": [],
   "source": [
    "# define additional inputs\n",
    "TNCLocalCon= r\"F:\\GIS_DATA\\DecisionSupportTools\\TNCTerrestrialResilient\\Local_Connectedness\\Local_connectedness_CONUSnew.tif\"\n",
    "Zonation= r\"D:\\SE_Blueprint_2023\\7_CombineZonation\\CombineZonation.tif\"\n",
    "Inland= r\"D:\\SE_Blueprint_2023\\8_PrepLinkageMapperRuns\\A_ConInlandResistance.gdb\\InlandNearShoreBuffRNoEst\"\n",
    "Inlandv= r\"D:\\SE_Blueprint_2023\\8_PrepLinkageMapperRuns\\A_ConInlandResistance.gdb\\InlandNearShore_Buff2\"\n",
    "PAD= r\"F:\\GIS_DATA\\ProtectedLands\\PAD_US2_1_GDB\\PAD_US2_1.gdb\\PADUS2_1Combined_Fee_Easement\"\n",
    "res= r\"F:\\GIS_DATA\\SECAS\\SE_Blueprint_2022\\Southeast_Blueprint_2022_Ancillary_Data_Download\\Reservoirs.tif\"\n",
    "Extent= r\"F:\\GIS_DATA\\SECAS\\SE_Blueprint_2022\\Southeast_Blueprint_2022_Data_Download\\SEBlueprint20221215\\Inputs\\BaseBlueprint\\1_ExtentLayers\\BaseBlueprintSubRgn.shp\""
   ]
  },
  {
   "cell_type": "markdown",
   "metadata": {},
   "source": [
    "# Start Analysis"
   ]
  },
  {
   "cell_type": "code",
   "execution_count": 7,
   "metadata": {},
   "outputs": [],
   "source": [
    "# Change the workspace to where I am saving the outputs\n",
    "arcpy.env.workspace = OutWorkspace"
   ]
  },
  {
   "cell_type": "code",
   "execution_count": 8,
   "metadata": {},
   "outputs": [
    {
     "name": "stdout",
     "output_type": "stream",
     "text": [
      "D:\\SE_Blueprint_2023\\8_PrepLinkageMapperRuns\\B_ConInlandHubs.gdb\n"
     ]
    }
   ],
   "source": [
    "# Print the current workspace to make sure I'm in the right spot\n",
    "print(arcpy.env.workspace)"
   ]
  },
  {
   "cell_type": "markdown",
   "metadata": {},
   "source": [
    "# Identify areas in the top 10% of the zonation runs"
   ]
  },
  {
   "cell_type": "code",
   "execution_count": 9,
   "metadata": {},
   "outputs": [],
   "source": [
    "# use a conditional statement to pull out the top 10%, use environemnts to clip to inland\n",
    "with arcpy.EnvManager(outputCoordinateSystem=sr, extent=Inland, snapRaster=Inland, cellSize=Inland, mask=Inland):\n",
    "    out_raster = arcpy.sa.Con(Zonation, 1, 0, \"VALUE >90\"); out_raster.save(\"Top10\")"
   ]
  },
  {
   "cell_type": "code",
   "execution_count": 10,
   "metadata": {},
   "outputs": [],
   "source": [
    "# reclassify to turn NoData into 0\n",
    "# 0 1 is <=1 (1 is included)\n",
    "# 1 5 is >1 - 5 (1 is not included, 5 is included)\n",
    "# 5 20 is >5 - 20 (5 is not included, 20 is included)\n",
    "out_raster = arcpy.sa.Reclassify(\"Top10\", \"Value\", \"0 0;1 1;NODATA 0\", \"DATA\"); out_raster.save(\"Top10z\")"
   ]
  },
  {
   "cell_type": "markdown",
   "metadata": {},
   "source": [
    "# Bring in Protected Areas\n",
    "In the South Atlantic we used TNC's secured areas, and we had it pretty figured out what to keep and remove. I'm learning on \n",
    "PADUS 2.1 Combined Fee, Easement, but we need to keep an eye out for improvements\n",
    "I checked and it doesn't seem like this layer includes department of defense lands like Army or Air force bases, so no need to remove them"
   ]
  },
  {
   "cell_type": "code",
   "execution_count": 11,
   "metadata": {},
   "outputs": [
    {
     "data": {
      "text/html": [
       "<div class='gpresult'><h2>Messages</h2><div id='messages' data-messages='[\"Start Time: Friday, August 18, 2023 11:04:37 PM\",\"Succeeded at Friday, August 18, 2023 11:04:52 PM (Elapsed Time: 14.48 seconds)\"]' data-show='true'><div id = 'default' /></div></div>"
      ],
      "text/plain": [
       "<Result 'D:\\\\SE_Blueprint_2023\\\\8_PrepLinkageMapperRuns\\\\B_ConInlandHubs.gdb\\\\PAD1'>"
      ]
     },
     "execution_count": 11,
     "metadata": {},
     "output_type": "execute_result"
    }
   ],
   "source": [
    "# Bring in PADUS 2.1 Combined Fee, Easement \n",
    "# remove the weird squares \n",
    "arcpy.analysis.Select(PAD, \"PAD1\", \"Loc_Ds NOT IN ('School Trust Land','School Lands','State Land Board','3201')\")"
   ]
  },
  {
   "cell_type": "code",
   "execution_count": 12,
   "metadata": {},
   "outputs": [
    {
     "data": {
      "text/html": [
       "<div class='gpresult'><h2>Messages</h2><div id='messages' data-messages='[\"Start Time: Friday, August 18, 2023 11:04:52 PM\",\"Adding raster to PAD1...\",\"Succeeded at Friday, August 18, 2023 11:05:00 PM (Elapsed Time: 8.51 seconds)\"]' data-show='true'><div id = 'default' /></div></div>"
      ],
      "text/plain": [
       "<Result 'D:\\\\SE_Blueprint_2023\\\\8_PrepLinkageMapperRuns\\\\B_ConInlandHubs.gdb\\\\PAD1'>"
      ]
     },
     "execution_count": 12,
     "metadata": {},
     "output_type": "execute_result"
    }
   ],
   "source": [
    "# add field to use to convert to raster\n",
    "arcpy.management.CalculateField(\"PAD1\", \"raster\", \"1\", \"PYTHON3\", '', \"SHORT\", \"NO_ENFORCE_DOMAINS\")"
   ]
  },
  {
   "cell_type": "code",
   "execution_count": 13,
   "metadata": {},
   "outputs": [],
   "source": [
    "# convert to raster\n",
    "with arcpy.EnvManager(outputCoordinateSystem=sr, snapRaster=SEraster, cellSize=SEraster, extent=SEraster):\n",
    "    arcpy.conversion.PolygonToRaster(\"PAD1\", \"raster\", \"PAD1a\", \"CELL_CENTER\", \"NONE\", SEraster)"
   ]
  },
  {
   "cell_type": "markdown",
   "metadata": {},
   "source": [
    "# Identify potential hubs from local connectedness\n",
    "Areas with a local connected score >= 1 standard deviation were considered potential hubs outside of the South Atlantic area"
   ]
  },
  {
   "cell_type": "code",
   "execution_count": 14,
   "metadata": {},
   "outputs": [],
   "source": [
    "# reclassify Inland near shore raster to seperate buffered area from the area covered by zonation\n",
    "# 0 1 is <=1 (1 is included)\n",
    "# 1 5 is >1 - 5 (1 is not included, 5 is included)\n",
    "# 5 20 is >5 - 20 (5 is not included, 20 is included)\n",
    "with arcpy.EnvManager(outputCoordinateSystem=sr, extent=Inland, snapRaster=Inland, cellSize=Inland):\n",
    "    out_raster = arcpy.sa.Reclassify(SEraster, \"Value\", \"1 0;NODATA NODATA\", \"DATA\"); out_raster.save(\"SEraster1\")"
   ]
  },
  {
   "cell_type": "code",
   "execution_count": 15,
   "metadata": {},
   "outputs": [],
   "source": [
    "# combine rasters, keeping min value\n",
    "out_raster = arcpy.sa.CellStatistics([\"SEraster1\", Inland],\\\n",
    "\"MINIMUM\", \"DATA\", \"SINGLE_BAND\"); out_raster.save(\"Buff\")"
   ]
  },
  {
   "cell_type": "code",
   "execution_count": 16,
   "metadata": {},
   "outputs": [],
   "source": [
    "# clip local connectedness to buffer area\n",
    "with arcpy.EnvManager(outputCoordinateSystem=sr, extent=Inland, snapRaster=Inland, cellSize=Inland):\n",
    "    out_raster = arcpy.sa.Times(TNCLocalCon, \"Buff\"); out_raster.save(\"TNCLocalConB\")"
   ]
  },
  {
   "cell_type": "code",
   "execution_count": 17,
   "metadata": {},
   "outputs": [],
   "source": [
    "# pull out high areas in local connectedness\n",
    "with arcpy.EnvManager(outputCoordinateSystem=sr, extent=Inland, snapRaster=Inland, cellSize=Inland, mask=Inland):\n",
    "    out_raster = arcpy.sa.Con(\"TNCLocalConB\", 1, 0, \"VALUE >1000\"); out_raster.save(\"TNChigh\")"
   ]
  },
  {
   "cell_type": "markdown",
   "metadata": {},
   "source": [
    "# Combine 3 potential hub layers "
   ]
  },
  {
   "cell_type": "code",
   "execution_count": 18,
   "metadata": {},
   "outputs": [],
   "source": [
    "# combine rasters, keeping max value\n",
    "out_raster = arcpy.sa.CellStatistics([\"Top10z\", \"PAD1a\", \"TNChigh\"],\\\n",
    "\"MAXIMUM\", \"DATA\", \"SINGLE_BAND\"); out_raster.save(\"PotHub\")"
   ]
  },
  {
   "cell_type": "markdown",
   "metadata": {},
   "source": [
    "# Remove reservoirs as potential hubs"
   ]
  },
  {
   "cell_type": "code",
   "execution_count": 19,
   "metadata": {},
   "outputs": [],
   "source": [
    "# reclassify reservoirs\n",
    "# 0 1 is <=1 (1 is included)\n",
    "# 1 5 is >1 - 5 (1 is not included, 5 is included)\n",
    "# 5 20 is >5 - 20 (5 is not included, 20 is included)\n",
    "with arcpy.EnvManager(outputCoordinateSystem=sr, extent=Inland, snapRaster=Inland, cellSize=Inland):\n",
    "    out_raster = arcpy.sa.Reclassify(res, \"Value\", \"0 0;1 1;NODATA 1\", \"DATA\"); out_raster.save(\"res1\")"
   ]
  },
  {
   "cell_type": "code",
   "execution_count": 20,
   "metadata": {},
   "outputs": [],
   "source": [
    "# remove reservoirs as potential hubs from the South Atlantic Area\n",
    "out_raster = arcpy.sa.Times(\"res1\", \"PotHub\"); out_raster.save(\"PotHub2\")"
   ]
  },
  {
   "cell_type": "markdown",
   "metadata": {},
   "source": [
    "# convert to 90 meter raster and back to vector to make sure it won't throw errors in corridor analysis\n",
    "Because we need to do corridor analysis at 90 meters, we need to make sure that after cores are converted to 90 meter rasters, there aren't small isolated cores"
   ]
  },
  {
   "cell_type": "code",
   "execution_count": 21,
   "metadata": {},
   "outputs": [
    {
     "data": {
      "text/html": [
       "<div class='gpresult'><h2>Messages</h2><div id='messages' data-messages='[\"Start Time: Friday, August 18, 2023 11:38:35 PM\",\"Building Pyramids...\",\"Succeeded at Friday, August 18, 2023 11:39:16 PM (Elapsed Time: 41.41 seconds)\"]' data-show='true'><div id = 'default' /></div></div>"
      ],
      "text/plain": [
       "<Result 'D:\\\\SE_Blueprint_2023\\\\8_PrepLinkageMapperRuns\\\\B_ConInlandHubs.gdb\\\\PotHub2_90'>"
      ]
     },
     "execution_count": 21,
     "metadata": {},
     "output_type": "execute_result"
    }
   ],
   "source": [
    "# resample to 90 meters using default esri method\n",
    "arcpy.management.Resample(\"PotHub2\", \"PotHub2_90\", \"90 90\", '')"
   ]
  },
  {
   "cell_type": "markdown",
   "metadata": {},
   "source": [
    "# Calculate size of potential hubs"
   ]
  },
  {
   "cell_type": "code",
   "execution_count": 22,
   "metadata": {},
   "outputs": [],
   "source": [
    "# use region group to create clumps of isolated potential hubs\n",
    "out_raster = arcpy.sa.RegionGroup(\"PotHub2_90\", \"EIGHT\", '', '', '0'); out_raster.save(\"PotHub3a\")"
   ]
  },
  {
   "cell_type": "code",
   "execution_count": 23,
   "metadata": {},
   "outputs": [],
   "source": [
    "# pull out clumps that are larger than 2,000 ha (5,000 acres), keep their region group value\n",
    "# this is for the 30 meter resolution version\n",
    "#out_raster = arcpy.sa.Con(\"PotHub3a\", \"PotHub3a\", '', \"Count > 22482 And Link = 1\"); out_raster.save(\"PotHub4\")"
   ]
  },
  {
   "cell_type": "code",
   "execution_count": 24,
   "metadata": {},
   "outputs": [],
   "source": [
    "# pull out clumps that are larger than 2,000 ha (5,000 acres), keep their region group value\n",
    "# this is for the 90 meter resolution version\n",
    "out_raster = arcpy.sa.Con(\"PotHub3a\", \"PotHub3a\", '', \"Count > 2498 And Link = 1\"); out_raster.save(\"PotHub4\")"
   ]
  },
  {
   "cell_type": "code",
   "execution_count": 25,
   "metadata": {},
   "outputs": [
    {
     "data": {
      "text/html": [
       "<div class='gpresult'><h2>Messages</h2><div id='messages' data-messages='[\"Start Time: Friday, August 18, 2023 11:41:43 PM\",\"Succeeded at Friday, August 18, 2023 11:41:48 PM (Elapsed Time: 5.00 seconds)\"]' data-show='true'><div id = 'default' /></div></div>"
      ],
      "text/plain": [
       "<Result 'D:\\\\SE_Blueprint_2023\\\\8_PrepLinkageMapperRuns\\\\B_ConInlandHubs.gdb\\\\PotHub5'>"
      ]
     },
     "execution_count": 25,
     "metadata": {},
     "output_type": "execute_result"
    }
   ],
   "source": [
    "# convert to vector\n",
    "arcpy.conversion.RasterToPolygon(\"PotHub4\", \"PotHub5\", \"NO_SIMPLIFY\", \"Value\", \"MULTIPLE_OUTER_PART\", None)"
   ]
  },
  {
   "cell_type": "code",
   "execution_count": 31,
   "metadata": {},
   "outputs": [
    {
     "data": {
      "text/html": [
       "<div class='gpresult'><h2>Messages</h2><div id='messages' data-messages='[\"Start Time: Friday, August 18, 2023 11:44:23 PM\",\"Succeeded at Friday, August 18, 2023 11:44:23 PM (Elapsed Time: 0.61 seconds)\"]' data-show='true'><div id = 'default' /></div></div>"
      ],
      "text/plain": [
       "<Result 'PotHub5'>"
      ]
     },
     "execution_count": 31,
     "metadata": {},
     "output_type": "execute_result"
    }
   ],
   "source": [
    "#Select potential hubs that intersect buffered Southeast inland area\n",
    "arcpy.management.SelectLayerByLocation(\"PotHub5\", \"INTERSECT\", Inlandv, None, \"NEW_SELECTION\", \"NOT_INVERT\")"
   ]
  },
  {
   "cell_type": "code",
   "execution_count": 32,
   "metadata": {},
   "outputs": [
    {
     "data": {
      "text/html": [
       "<div class='gpresult'><h2>Messages</h2><div id='messages' data-messages='[\"Start Time: Friday, August 18, 2023 11:44:24 PM\",\"Succeeded at Friday, August 18, 2023 11:44:25 PM (Elapsed Time: 0.41 seconds)\"]' data-show='true'><div id = 'default' /></div></div>"
      ],
      "text/plain": [
       "<Result 'PotHub5'>"
      ]
     },
     "execution_count": 32,
     "metadata": {},
     "output_type": "execute_result"
    }
   ],
   "source": [
    "#Add field that ESRI is willing to read\n",
    "arcpy.management.CalculateField(\"PotHub5\", \"UID\", \"!OBJECTID!\", \"PYTHON3\", '', \"SHORT\", \"NO_ENFORCE_DOMAINS\")"
   ]
  },
  {
   "cell_type": "code",
   "execution_count": 33,
   "metadata": {},
   "outputs": [],
   "source": [
    "#I'm going to clip the hubs to the buffer area because having hubs with centroids that don't have resistance is \n",
    "# throwing an error in linkage mapper\n",
    "# I'm not sure if this will work because it will make some hubs on the edge split into multiple polygons\n",
    "#arcpy.analysis.Clip(\n",
    "#    in_features=\"PotHub5\",\n",
    "#    clip_features=Inlandv,\n",
    "#    out_feature_class=Hub,\n",
    "#    cluster_tolerance=None\n",
    "#)"
   ]
  },
  {
   "cell_type": "code",
   "execution_count": 34,
   "metadata": {},
   "outputs": [
    {
     "data": {
      "text/html": [
       "<div class='gpresult'><h2>Messages</h2><div id='messages' data-messages='[\"Start Time: Friday, August 18, 2023 11:44:27 PM\",\"Succeeded at Friday, August 18, 2023 11:44:28 PM (Elapsed Time: 0.65 seconds)\"]' data-show='true'><div id = 'default' /></div></div>"
      ],
      "text/plain": [
       "<Result 'D:\\\\SE_Blueprint_2023\\\\8_PrepLinkageMapperRuns\\\\Ba_Con_LM_Input.gdb\\\\Hubs'>"
      ]
     },
     "execution_count": 34,
     "metadata": {},
     "output_type": "execute_result"
    }
   ],
   "source": [
    "# copy features\n",
    "arcpy.management.CopyFeatures(\"PotHub5\", Hub, '', None, None, None)"
   ]
  },
  {
   "cell_type": "code",
   "execution_count": 30,
   "metadata": {},
   "outputs": [
    {
     "name": "stdout",
     "output_type": "stream",
     "text": [
      "2846.573084592819\n"
     ]
    }
   ],
   "source": [
    "end = time.time()\n",
    "print(end - start)"
   ]
  },
  {
   "cell_type": "code",
   "execution_count": null,
   "metadata": {},
   "outputs": [],
   "source": []
  }
 ],
 "metadata": {
  "kernelspec": {
   "display_name": "ArcGISPro",
   "language": "Python",
   "name": "python3"
  },
  "language_info": {
   "file_extension": ".py",
   "name": "python",
   "version": "3"
  }
 },
 "nbformat": 4,
 "nbformat_minor": 2
}
