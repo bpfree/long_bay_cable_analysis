{
 "cells": [
  {
   "cell_type": "markdown",
   "metadata": {},
   "source": [
    "# This is the first step in running corridor analysis for the Caribbean portion of the Blueprint\n",
    "\n",
    "We are testing different things on the Virgin Islands / Puerto Rico corridor run. We don't have road crossing data here. We also don't go far into the deep marine, so our approach to marine vs inland runs won't be the same as in the base blueprint.\n",
    "\n",
    "Created by Amy Keister, last run by Amy Keister on 9/6/2023. It took one minute to run."
   ]
  },
  {
   "cell_type": "code",
   "execution_count": 51,
   "metadata": {},
   "outputs": [],
   "source": [
    "import os\n",
    "import arcpy\n",
    "import numpy"
   ]
  },
  {
   "cell_type": "code",
   "execution_count": 52,
   "metadata": {},
   "outputs": [],
   "source": [
    "import time\n",
    "start = time.time()"
   ]
  },
  {
   "cell_type": "code",
   "execution_count": 53,
   "metadata": {},
   "outputs": [],
   "source": [
    "# define spatial reference and workspaces\n",
    "sr= arcpy.SpatialReference(5070)\n",
    "#SourceWorkspace = \n",
    "OutWorkspace = r\"D:\\SE_Blueprint_2023\\8_PrepLinkageMapperRuns\\G_VIPRresistance.gdb\""
   ]
  },
  {
   "cell_type": "code",
   "execution_count": 67,
   "metadata": {},
   "outputs": [],
   "source": [
    "# define final outputs\n",
    "Out = r\"D:\\SE_Blueprint_2023\\8_PrepLinkageMapperRuns\\Ha_VIPR_LM_Input.gdb\\VIPRResistance\""
   ]
  },
  {
   "cell_type": "code",
   "execution_count": 55,
   "metadata": {},
   "outputs": [],
   "source": [
    "# define rasters used for cell size, extent, and snapping\n",
    "Rextent= r\"D:\\SE_Blueprint_2023\\1_VIPR_Extent\\VIPR_Extent_v6.tif\""
   ]
  },
  {
   "cell_type": "code",
   "execution_count": 56,
   "metadata": {},
   "outputs": [],
   "source": [
    "# define additional inputs\n",
    "Zonation= r\"D:\\SE_Blueprint_2023\\7_CombineZonation\\CombineZonation.tif\"\n",
    "lulc= r\"F:\\GIS_DATA\\LanduseLandcover\\Landfire\\LF2020_Puerto_Rico_Virgin_Islands_220_IA\\LF2020_PRVI_220_IA\\LF2020_EVT_220_PRVI\\Tif\\LV20_EVT_220.tif\"\n",
    "\n",
    "# we didn't have any road crossing data for VIPR yet, but wanted to keep this code incase we leared of some during workshops\n",
    "#RoadX= r\"F:\\GIS_DATA\\LanduseLandcover\\WildlifeRoadCrossings\\NCandFLWildlifeRoadCrossings.shp\"\n",
    "# I had to do this buffer outside of the model, because it would not buffer all point inside the model\n",
    "#RoadX210buff= r\"F:\\GIS_DATA\\LanduseLandcover\\WildlifeRoadCrossings\\NCandFLWildlifeRoadCrossings_Buffer210m.shp\"\n",
    "#Road= r\"F:\\GIS_DATA\\LanduseLandcover\\WildlifeRoadCrossings\\WildlifeRoadCrossingsNCFL.gdb\\RoadsAroundNCandFLWildlifeRoadCrossings\""
   ]
  },
  {
   "cell_type": "markdown",
   "metadata": {},
   "source": [
    "# Start Analysis"
   ]
  },
  {
   "cell_type": "code",
   "execution_count": 57,
   "metadata": {},
   "outputs": [],
   "source": [
    "# Change the workspace to where I am saving the outputs\n",
    "arcpy.env.workspace = OutWorkspace"
   ]
  },
  {
   "cell_type": "code",
   "execution_count": 58,
   "metadata": {},
   "outputs": [
    {
     "name": "stdout",
     "output_type": "stream",
     "text": [
      "D:\\SE_Blueprint_2023\\8_PrepLinkageMapperRuns\\G_VIPRresistance.gdb\n"
     ]
    }
   ],
   "source": [
    "# Print the current workspace to make sure I'm in the right spot\n",
    "print(arcpy.env.workspace)"
   ]
  },
  {
   "cell_type": "markdown",
   "metadata": {},
   "source": [
    "# Bring in Zonation results"
   ]
  },
  {
   "cell_type": "code",
   "execution_count": 60,
   "metadata": {},
   "outputs": [],
   "source": [
    "# flip zonation results so that high is low and low is high to make resistance layer\n",
    "with arcpy.EnvManager(outputCoordinateSystem=sr, extent=Rextent, snapRaster=Rextent, cellSize=Rextent):\n",
    "    out_raster = arcpy.sa.Minus(100, Zonation); out_raster.save(\"ZonationFlip\")"
   ]
  },
  {
   "cell_type": "code",
   "execution_count": null,
   "metadata": {},
   "outputs": [],
   "source": [
    "# take zonation times 100\n",
    "# I only needed this on the workshop run where I didn't start with the combined zonation raster\n",
    "#out_raster = arcpy.sa.Times(\"ZonationFlip\", 100); out_raster.save(\"ZonationFlip100\")"
   ]
  },
  {
   "cell_type": "code",
   "execution_count": null,
   "metadata": {},
   "outputs": [],
   "source": [
    "# convert to integer\n",
    "# I only needed this on the workshop run where I didn't start with the combined zonation raster\n",
    "#out_raster = arcpy.sa.Int(\"ZonationFlip100\"); out_raster.save(\"ZonationFlip100Int\")"
   ]
  },
  {
   "cell_type": "markdown",
   "metadata": {},
   "source": [
    "# Burn Landfire urban in to try to influence corridors to go around\n"
   ]
  },
  {
   "cell_type": "code",
   "execution_count": 61,
   "metadata": {},
   "outputs": [],
   "source": [
    "# Make a raster where developed (low, medium, high, roads, or open space) is 0 and everything else is 1\n",
    "with arcpy.EnvManager(outputCoordinateSystem=sr, extent=Rextent, snapRaster=Rextent, cellSize=Rextent):\n",
    "    out_raster = arcpy.sa.Con(lulc, 500, '', \"Value IN (7296, 7297, 7298, 7299, 7300)\"); out_raster.save(\"Dev\")"
   ]
  },
  {
   "cell_type": "code",
   "execution_count": 63,
   "metadata": {},
   "outputs": [],
   "source": [
    "# Combine urban with the zonation results, using a maximum value so that these urban areas are very hard to cross\n",
    "# I only needed this on the workshop run where I didn't start with the combined zonation raster\n",
    "#with arcpy.EnvManager(outputCoordinateSystem=sr, extent=Rextent, snapRaster=Rextent, cellSize=Rextent):\n",
    "#    out_raster = arcpy.sa.CellStatistics([\"ZonationFlip100Int\", \"Dev\"], \"MAXIMUM\", 'DATA'); out_raster.save(\"ZonationFlip100IntUrb\")"
   ]
  },
  {
   "cell_type": "code",
   "execution_count": 69,
   "metadata": {},
   "outputs": [],
   "source": [
    "# Combine urban with the zonation results, using a maximum value so that these urban areas are very hard to cross\n",
    "with arcpy.EnvManager(outputCoordinateSystem=sr, extent=Rextent, snapRaster=Rextent, cellSize=Rextent):\n",
    "    out_raster = arcpy.sa.CellStatistics([\"ZonationFlip\", \"Dev\"], \"MAXIMUM\", 'DATA'); out_raster.save(Out)"
   ]
  },
  {
   "cell_type": "code",
   "execution_count": 68,
   "metadata": {},
   "outputs": [],
   "source": [
    "# export\n",
    "#arcpy.management.CopyRaster(\"ZonationFlipUrb\", Out, '', None, \"255\", \"NONE\", \"NONE\", \"8_BIT_UNSIGNED\", \"NONE\", \"NONE\", \"TIFF\", \"NONE\", \"CURRENT_SLICE\", \"NO_TRANSPOSE\")"
   ]
  },
  {
   "cell_type": "code",
   "execution_count": null,
   "metadata": {},
   "outputs": [],
   "source": [
    "end = time.time()\n",
    "print(end - start)"
   ]
  },
  {
   "cell_type": "code",
   "execution_count": null,
   "metadata": {},
   "outputs": [],
   "source": []
  },
  {
   "cell_type": "code",
   "execution_count": null,
   "metadata": {},
   "outputs": [],
   "source": []
  },
  {
   "cell_type": "code",
   "execution_count": null,
   "metadata": {},
   "outputs": [],
   "source": []
  },
  {
   "cell_type": "code",
   "execution_count": null,
   "metadata": {},
   "outputs": [],
   "source": []
  },
  {
   "cell_type": "code",
   "execution_count": null,
   "metadata": {},
   "outputs": [],
   "source": []
  },
  {
   "cell_type": "code",
   "execution_count": null,
   "metadata": {},
   "outputs": [],
   "source": []
  },
  {
   "cell_type": "code",
   "execution_count": null,
   "metadata": {},
   "outputs": [],
   "source": []
  },
  {
   "cell_type": "markdown",
   "metadata": {},
   "source": [
    "# Below here is extra code not used this year, but that may be helpful in the future"
   ]
  },
  {
   "cell_type": "markdown",
   "metadata": {},
   "source": [
    "## make known wildlife road crossings easy to move through\n",
    "Right now I only have a few known road crossings in eastern North Carolina, but I'm looking for more"
   ]
  },
  {
   "cell_type": "code",
   "execution_count": null,
   "metadata": {},
   "outputs": [],
   "source": [
    "# make a copy of the road crossing data because it is being stupid\n",
    "#with arcpy.EnvManager(outputCoordinateSystem=sr, extent=SEraster):\n",
    "#    arcpy.management.CopyFeatures(RoadX, \"RoadX\", '', None, None, None)"
   ]
  },
  {
   "cell_type": "code",
   "execution_count": null,
   "metadata": {},
   "outputs": [],
   "source": [
    "# buffer road crossings by 210 meters\n",
    "\n",
    "#This is maddening and bizarre, but when I run this in the model, it will only buffer\n",
    "# a handfull of these points. I have no idea why, it works fine outside of the model.\n",
    "#arcpy.analysis.Buffer(\"RoadX\", \"RoadXbuff\", \"210 Meters\", \"FULL\", \"ROUND\", \"NONE\", None, \"PLANAR\")"
   ]
  },
  {
   "cell_type": "code",
   "execution_count": null,
   "metadata": {},
   "outputs": [],
   "source": [
    "# buffer road crossings by 210 meters\n",
    "#with arcpy.EnvManager(outputCoordinateSystem=sr, extent=\"MosaicInlandNoEst\", snapRaster=SEraster, cellSize=SEraster):\n",
    "#    arcpy.analysis.Buffer(RoadXa, \"RoadXb\", \"210 Meters\", \"FULL\", \"ROUND\", \"NONE\", None, \"PLANAR\")"
   ]
  },
  {
   "cell_type": "code",
   "execution_count": null,
   "metadata": {},
   "outputs": [],
   "source": [
    "# add and calculate field to use to raster conversion\n",
    "arcpy.management.CalculateField(RoadX210buff, \"raster\", 1, \"PYTHON3\", '', \"SHORT\")"
   ]
  },
  {
   "cell_type": "code",
   "execution_count": null,
   "metadata": {},
   "outputs": [],
   "source": [
    "# convert to raster\n",
    "with arcpy.EnvManager(outputCoordinateSystem=sr, snapRaster=SEraster, cellSize=SEraster, extent=\"MosaicInlandNoEst\"):\n",
    "    arcpy.conversion.PolygonToRaster(RoadX210buff, \"raster\", \"RoadXR\", \"CELL_CENTER\", \"NONE\", SEraster)"
   ]
  },
  {
   "cell_type": "code",
   "execution_count": null,
   "metadata": {},
   "outputs": [],
   "source": [
    "# now bring in roads around wildlife road crossings, we want to make these extra hard to move through in the \n",
    "# resistance raster\n",
    "# buffer roads around crossings by 180 meters\n",
    "with arcpy.EnvManager(outputCoordinateSystem=sr):\n",
    "    arcpy.analysis.Buffer(Road, \"Road\", \"180 Meters\", \"FULL\", \"ROUND\", \"NONE\", None, \"PLANAR\")"
   ]
  },
  {
   "cell_type": "code",
   "execution_count": null,
   "metadata": {},
   "outputs": [],
   "source": [
    "# convert to raster\n",
    "with arcpy.EnvManager(outputCoordinateSystem=sr, snapRaster=SEraster, cellSize=SEraster, extent=\"MosaicInlandNoEst\"):\n",
    "    arcpy.conversion.PolygonToRaster(\"Road\", \"BUFF_DIST\", \"RoadR\", \"CELL_CENTER\", \"NONE\", SEraster)"
   ]
  },
  {
   "cell_type": "code",
   "execution_count": null,
   "metadata": {},
   "outputs": [],
   "source": [
    "# reclassify roads near wildlife road crossings and give a value of 500\n",
    "out_raster = arcpy.sa.Reclassify(\"RoadR\", \"Value\", \"180 500\", \"DATA\"); out_raster.save(\"RoadR2\")"
   ]
  },
  {
   "cell_type": "code",
   "execution_count": null,
   "metadata": {},
   "outputs": [],
   "source": [
    "# maybe also do a larger buffer and make it low but not zero resistance\n",
    "# buffer road crossings by 450 meters\n",
    "arcpy.analysis.Buffer(RoadX, \"RoadX2\", \"900 Meters\", \"FULL\", \"ROUND\", \"NONE\", None, \"PLANAR\")"
   ]
  },
  {
   "cell_type": "code",
   "execution_count": null,
   "metadata": {},
   "outputs": [],
   "source": [
    "# erase road area from the larger buffered road crossing\n",
    "arcpy.analysis.Erase(\"RoadX2\", \"Road\", \"RoadX2_Erase\", None)"
   ]
  },
  {
   "cell_type": "code",
   "execution_count": null,
   "metadata": {},
   "outputs": [],
   "source": [
    "# convert to raster\n",
    "with arcpy.EnvManager(outputCoordinateSystem=sr, snapRaster=SEraster, cellSize=SEraster, extent=\"MosaicInlandNoEst\"):\n",
    "    arcpy.conversion.PolygonToRaster(\"RoadX2_Erase\", \"SymbolID\", \"RoadX2R\", \"CELL_CENTER\", \"NONE\", SEraster)"
   ]
  },
  {
   "cell_type": "code",
   "execution_count": null,
   "metadata": {},
   "outputs": [],
   "source": [
    "# reclassify larger buffer and give a value of 10\n",
    "out_raster = arcpy.sa.Reclassify(\"RoadX2R\", \"Value\", \"0 10\", \"DATA\"); out_raster.save(\"RoadX3R\")"
   ]
  },
  {
   "cell_type": "code",
   "execution_count": null,
   "metadata": {},
   "outputs": [],
   "source": [
    "# Combine roads with the mosaiced zonation results, using a maximum value so that these roads are very hard to cross\n",
    "out_raster = arcpy.sa.CellStatistics([\"MosaicInlandNoEstUrb\", \"RoadR2\"], \"MAXIMUM\", 'DATA'); out_raster.save(\"MosaicInRoad\")"
   ]
  },
  {
   "cell_type": "code",
   "execution_count": null,
   "metadata": {},
   "outputs": [],
   "source": [
    "# Combine above raster with the road crossing data, using a minimum value so that the areas with road crossings are\n",
    "# easier to cross\n",
    "out_raster = arcpy.sa.CellStatistics([\"MosaicInRoad\",\"RoadX3R\", \"RoadXR\"], \"MINIMUM\", 'DATA'); out_raster.save(\"MosaicInRoadX\")"
   ]
  },
  {
   "cell_type": "code",
   "execution_count": null,
   "metadata": {},
   "outputs": [],
   "source": [
    "# use times to remove the urban and road areas that fall outside extent\n",
    "out_raster = arcpy.sa.Times(\"MosaicInRoadX\", \"InlandNearShoreBuffRNoEst\"); out_raster.save(\"MosaicInRoadXa\")"
   ]
  },
  {
   "cell_type": "code",
   "execution_count": null,
   "metadata": {},
   "outputs": [],
   "source": []
  },
  {
   "cell_type": "code",
   "execution_count": null,
   "metadata": {},
   "outputs": [],
   "source": []
  },
  {
   "cell_type": "code",
   "execution_count": null,
   "metadata": {},
   "outputs": [],
   "source": []
  },
  {
   "cell_type": "code",
   "execution_count": null,
   "metadata": {},
   "outputs": [],
   "source": []
  },
  {
   "cell_type": "code",
   "execution_count": null,
   "metadata": {},
   "outputs": [],
   "source": []
  },
  {
   "cell_type": "code",
   "execution_count": null,
   "metadata": {},
   "outputs": [],
   "source": []
  },
  {
   "cell_type": "code",
   "execution_count": null,
   "metadata": {},
   "outputs": [],
   "source": []
  },
  {
   "cell_type": "code",
   "execution_count": null,
   "metadata": {},
   "outputs": [],
   "source": []
  },
  {
   "cell_type": "markdown",
   "metadata": {},
   "source": [
    "# bring in potential corridors\n",
    "In the 2021 South Atlantic Blueprint, we used a new method where we use corridors from other projects to try to help keep corridors more stable. The idea is that we use our old corridors and corridors from other projects and use them to limit the resistance raster to try to get corridors to move through them.\n",
    "\n",
    "Since we didn't have previous corridors for the whole Base Blueprint area, we didn't do that this year. We expect to pick this back up in 2023 base blueprint."
   ]
  },
  {
   "cell_type": "code",
   "execution_count": null,
   "metadata": {},
   "outputs": [],
   "source": [
    "# Make eastern wildway core a raster\n",
    "#with arcpy.EnvManager(outputCoordinateSystem=sr, extent=\"InlandR\", snapRaster=SAraster, cellSize=SAraster):\n",
    "#    arcpy.conversion.FeatureToRaster(EWCore, \"Id\", \"EWCore\", 30)"
   ]
  },
  {
   "cell_type": "code",
   "execution_count": null,
   "metadata": {},
   "outputs": [],
   "source": [
    "# Make eastern wildway corridor a raster\n",
    "#with arcpy.EnvManager(outputCoordinateSystem=sr, extent=\"InlandR\", snapRaster=SAraster, cellSize=SAraster):\n",
    "#    arcpy.conversion.FeatureToRaster(EWCorr, \"Id\", \"EWCorr\", 30)"
   ]
  },
  {
   "cell_type": "code",
   "execution_count": null,
   "metadata": {},
   "outputs": [],
   "source": [
    "# Make SA 2020 hub a raster\n",
    "#with arcpy.EnvManager(outputCoordinateSystem=sr, extent=\"InlandR\", snapRaster=SAraster, cellSize=SAraster):\n",
    "#    arcpy.conversion.FeatureToRaster(SA20Hub, \"GRIDCODE\", \"SA20Hub\", 30)"
   ]
  },
  {
   "cell_type": "code",
   "execution_count": null,
   "metadata": {},
   "outputs": [],
   "source": [
    "# Select out top portion of SA 2020 linkagemapper corridor output\n",
    "# I'm picking 500000 as a cutoff, It may be helpful to move that around in testing\n",
    "# could try 1000000 or 1200000\n",
    "#with arcpy.EnvManager(outputCoordinateSystem=sr, extent=\"InlandR\", snapRaster=SAraster, cellSize=SAraster):\n",
    "#    out_raster = arcpy.sa.Con(SA20Cor, 1, None, \"Value < 500000\"); out_raster.save(\"SA20Cor\")"
   ]
  },
  {
   "cell_type": "code",
   "execution_count": null,
   "metadata": {},
   "outputs": [],
   "source": [
    "# combine potential cores/corridors\n",
    "#out_raster = arcpy.sa.CellStatistics([\"EWCore\",\"EWCorr\",\"SA20Hub\", \"SA20Cor\"], \"MAXIMUM\", 'DATA'); out_raster.save(\"Prev\")"
   ]
  },
  {
   "cell_type": "code",
   "execution_count": null,
   "metadata": {},
   "outputs": [],
   "source": [
    "#reclassify \n",
    "#out_raster = arcpy.sa.Reclassify(\"Prev\", \"Value\", \"0 500 1;NODATA 0\", \"DATA\"); out_raster.save(\"Prev1\")"
   ]
  },
  {
   "cell_type": "code",
   "execution_count": null,
   "metadata": {},
   "outputs": [],
   "source": [
    "# change NODATA to zero so expand will work\n",
    "#out_raster = arcpy.sa.Reclassify(\"Prev\", \"Value\", \"1 1; 0 0; NODATA 0\", \"DATA\"); out_raster.save(\"Top10zROW2\")"
   ]
  },
  {
   "cell_type": "code",
   "execution_count": null,
   "metadata": {},
   "outputs": [],
   "source": [
    "# expand to get rid of small gaps\n",
    "#out_raster = arcpy.sa.Expand(\"Prev1\", 2, 1, ''); out_raster.save(\"Prev2\")"
   ]
  },
  {
   "cell_type": "code",
   "execution_count": null,
   "metadata": {},
   "outputs": [],
   "source": [
    "# shrink to bring it back to size\n",
    "#out_raster = arcpy.sa.Shrink(\"Prev2\", 2, 1, ''); out_raster.save(\"Prev3\")"
   ]
  },
  {
   "cell_type": "code",
   "execution_count": null,
   "metadata": {},
   "outputs": [],
   "source": [
    "# change 0 to NoData\n",
    "#out_raster = arcpy.sa.Reclassify(\"Prev3\", \"Value\", \"1 1;0 NODATA\", \"DATA\"); out_raster.save(\"Prev4\")"
   ]
  },
  {
   "cell_type": "markdown",
   "metadata": {},
   "source": [
    "# limit resistance raster to areas around previous corridors"
   ]
  },
  {
   "cell_type": "code",
   "execution_count": null,
   "metadata": {},
   "outputs": [],
   "source": [
    "# limit resistance raster to areas around previous corridors, this is the most dramatic option and does not allow\n",
    "# linkagemapper to even consider areas that were not around previous corridors\n",
    "#with arcpy.EnvManager(outputCoordinateSystem=sr, mask=\"InlandR\", snapRaster=SAraster, cellSize=SAraster):\n",
    "#    out_raster = arcpy.sa.ExtractByMask(\"MosaicInRoadX\", \"Prev4\"); out_raster.save(\"ResistanceTest7\")"
   ]
  },
  {
   "cell_type": "markdown",
   "metadata": {},
   "source": [
    "# clip to test area"
   ]
  },
  {
   "cell_type": "code",
   "execution_count": null,
   "metadata": {},
   "outputs": [],
   "source": [
    "# clip to a test area so I can see how it is working\n",
    "#with arcpy.EnvManager(outputCoordinateSystem=sr, extent=Pextent):\n",
    "#    out_raster = arcpy.sa.Times(\"ResistanceTest7_90mBilinear\", 1); out_raster.save(\"ResistanceTest7_90mBilinearTest\")"
   ]
  },
  {
   "cell_type": "code",
   "execution_count": null,
   "metadata": {},
   "outputs": [],
   "source": []
  }
 ],
 "metadata": {
  "kernelspec": {
   "display_name": "ArcGISPro",
   "language": "Python",
   "name": "python3"
  },
  "language_info": {
   "file_extension": ".py",
   "name": "python",
   "version": "3"
  }
 },
 "nbformat": 4,
 "nbformat_minor": 2
}
