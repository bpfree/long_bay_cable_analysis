{
 "cells": [
  {
   "cell_type": "markdown",
   "metadata": {},
   "source": [
    "### This is the third step in running the corridor analysis. \n",
    "It splits the resistance raster and hubs into manageable pieces using buffered hexagons. This allows it to run in linkage mapper.\n",
    "\n",
    "This needs to be run with a map open, so the select at the very end to make the hub outputs will work.\n",
    "\n",
    "Created by Amy Keister, last run by Amy Keister on August 18, 2023. "
   ]
  },
  {
   "cell_type": "code",
   "execution_count": 1,
   "metadata": {},
   "outputs": [],
   "source": [
    "import time\n",
    "start = time.time()"
   ]
  },
  {
   "cell_type": "code",
   "execution_count": 2,
   "metadata": {},
   "outputs": [],
   "source": [
    "import os\n",
    "import arcpy\n",
    "import numpy"
   ]
  },
  {
   "cell_type": "code",
   "execution_count": 3,
   "metadata": {},
   "outputs": [],
   "source": [
    "# define spatial reference and workspaces\n",
    "sr= arcpy.SpatialReference(5070)\n",
    "#SourceWorkspace = \n",
    "OutWorkspace = r\"D:\\SE_Blueprint_2023\\8_PrepLinkageMapperRuns\\C_ConInlandInputPrepHexBuff.gdb\""
   ]
  },
  {
   "cell_type": "code",
   "execution_count": 4,
   "metadata": {},
   "outputs": [],
   "source": [
    "# define rasters used for cell size, extent, and snapping\n",
    "SEraster= r\"F:\\GIS_DATA\\SECAS\\SE_Blueprint_2022\\Southeast_Blueprint_2022_Data_Download\\SEBlueprint20221215\\Inputs\\BaseBlueprint\\1_ExtentLayers\\BaseBlueprintExtent2022.tif\"\n",
    "# I was able to re-snap back this year, but next year I need to use the 90 meter resistance raster as the snap, since we had to resample to get corridors to run\n",
    "Rextent= r\"D:\\SE_Blueprint_2023\\8_PrepLinkageMapperRuns\\Ba_Con_LM_Input.gdb\\Resistance\""
   ]
  },
  {
   "cell_type": "code",
   "execution_count": 5,
   "metadata": {},
   "outputs": [],
   "source": [
    "# define additional inputs\n",
    "Resist= r\"D:\\SE_Blueprint_2023\\8_PrepLinkageMapperRuns\\Ba_Con_LM_Input.gdb\\Resistance\"\n",
    "Hub= r\"D:\\SE_Blueprint_2023\\8_PrepLinkageMapperRuns\\Ba_Con_LM_Input.gdb\\Hubs\"\n",
    "Hex= r\"D:\\SE_Blueprint_2023\\8_PrepLinkageMapperRuns\\Hexagons500000_2023.shp\""
   ]
  },
  {
   "cell_type": "markdown",
   "metadata": {},
   "source": [
    "# Start Analysis"
   ]
  },
  {
   "cell_type": "code",
   "execution_count": 6,
   "metadata": {},
   "outputs": [],
   "source": [
    "# Change the workspace to where I am saving the outputs\n",
    "arcpy.env.workspace = OutWorkspace"
   ]
  },
  {
   "cell_type": "code",
   "execution_count": 7,
   "metadata": {},
   "outputs": [
    {
     "name": "stdout",
     "output_type": "stream",
     "text": [
      "D:\\SE_Blueprint_2023\\8_PrepLinkageMapperRuns\\C_ConInlandInputPrepHexBuff.gdb\n"
     ]
    }
   ],
   "source": [
    "# Print the current workspace to make sure I'm in the right spot\n",
    "print(arcpy.env.workspace)"
   ]
  },
  {
   "cell_type": "markdown",
   "metadata": {},
   "source": [
    "# Buffer Hexagons"
   ]
  },
  {
   "cell_type": "code",
   "execution_count": 8,
   "metadata": {},
   "outputs": [
    {
     "data": {
      "text/html": [
       "<div class='gpresult'><h2>Messages</h2><div id='messages' data-messages='[\"Start Time: Friday, August 18, 2023 11:45:31 PM\",\"Succeeded at Friday, August 18, 2023 11:45:32 PM (Elapsed Time: 1.15 seconds)\"]' data-show='true'><div id = 'default' /></div></div>"
      ],
      "text/plain": [
       "<Result 'D:\\\\SE_Blueprint_2023\\\\8_PrepLinkageMapperRuns\\\\C_ConInlandInputPrepHexBuff.gdb\\\\Hex_200kmBuff'>"
      ]
     },
     "execution_count": 8,
     "metadata": {},
     "output_type": "execute_result"
    }
   ],
   "source": [
    "arcpy.analysis.Buffer(Hex, \"Hex_200kmBuff\", \"200 Kilometers\", \"FULL\", \"ROUND\", \"NONE\", None, \"PLANAR\")"
   ]
  },
  {
   "cell_type": "markdown",
   "metadata": {},
   "source": [
    "# Make individual feature classes for each buffered hexagon"
   ]
  },
  {
   "cell_type": "code",
   "execution_count": 9,
   "metadata": {},
   "outputs": [
    {
     "data": {
      "text/html": [
       "<div class='gpresult'><h2>Messages</h2><div id='messages' data-messages='[\"Start Time: Friday, August 18, 2023 11:45:32 PM\",\"Value(s) A-1 written to D:\\\\SE_Blueprint_2023\\\\8_PrepLinkageMapperRuns\\\\C_ConInlandInputPrepHexBuff.gdb\\\\A_1.\",\"Value(s) A-2 written to D:\\\\SE_Blueprint_2023\\\\8_PrepLinkageMapperRuns\\\\C_ConInlandInputPrepHexBuff.gdb\\\\A_2.\",\"Value(s) B-1 written to D:\\\\SE_Blueprint_2023\\\\8_PrepLinkageMapperRuns\\\\C_ConInlandInputPrepHexBuff.gdb\\\\B_1.\",\"Value(s) B-2 written to D:\\\\SE_Blueprint_2023\\\\8_PrepLinkageMapperRuns\\\\C_ConInlandInputPrepHexBuff.gdb\\\\B_2.\",\"Value(s) B-3 written to D:\\\\SE_Blueprint_2023\\\\8_PrepLinkageMapperRuns\\\\C_ConInlandInputPrepHexBuff.gdb\\\\B_3.\",\"Value(s) C-1 written to D:\\\\SE_Blueprint_2023\\\\8_PrepLinkageMapperRuns\\\\C_ConInlandInputPrepHexBuff.gdb\\\\C_1.\",\"Value(s) C-2 written to D:\\\\SE_Blueprint_2023\\\\8_PrepLinkageMapperRuns\\\\C_ConInlandInputPrepHexBuff.gdb\\\\C_2.\",\"Value(s) D-1 written to D:\\\\SE_Blueprint_2023\\\\8_PrepLinkageMapperRuns\\\\C_ConInlandInputPrepHexBuff.gdb\\\\D_1.\",\"Value(s) D-2 written to D:\\\\SE_Blueprint_2023\\\\8_PrepLinkageMapperRuns\\\\C_ConInlandInputPrepHexBuff.gdb\\\\D_2.\",\"Value(s) D-3 written to D:\\\\SE_Blueprint_2023\\\\8_PrepLinkageMapperRuns\\\\C_ConInlandInputPrepHexBuff.gdb\\\\D_3.\",\"Value(s) E-1 written to D:\\\\SE_Blueprint_2023\\\\8_PrepLinkageMapperRuns\\\\C_ConInlandInputPrepHexBuff.gdb\\\\E_1.\",\"Succeeded at Friday, August 18, 2023 11:45:35 PM (Elapsed Time: 3.29 seconds)\"]' data-show='true'><div id = 'default' /></div></div>"
      ],
      "text/plain": [
       "<Result 'D:\\\\SE_Blueprint_2023\\\\8_PrepLinkageMapperRuns\\\\C_ConInlandInputPrepHexBuff.gdb'>"
      ]
     },
     "execution_count": 9,
     "metadata": {},
     "output_type": "execute_result"
    }
   ],
   "source": [
    "# make individual feature classes for each hexagon\n",
    "arcpy.analysis.SplitByAttributes(\"Hex_200kmBuff\", OutWorkspace, \"GRID_ID\")"
   ]
  },
  {
   "cell_type": "markdown",
   "metadata": {},
   "source": [
    "# Clip raster to buffered hexagons"
   ]
  },
  {
   "cell_type": "code",
   "execution_count": 10,
   "metadata": {},
   "outputs": [],
   "source": [
    "# make a list of all feature classes\n",
    "FCList = arcpy.ListFeatureClasses() "
   ]
  },
  {
   "cell_type": "code",
   "execution_count": 11,
   "metadata": {},
   "outputs": [
    {
     "name": "stdout",
     "output_type": "stream",
     "text": [
      "['Hex_200kmBuff', 'A_1', 'A_2', 'B_1', 'B_2', 'B_3', 'C_1', 'C_2', 'D_1', 'D_2', 'D_3', 'E_1']\n"
     ]
    }
   ],
   "source": [
    "#Print the list made in the above step to see what I found\n",
    "print(FCList)"
   ]
  },
  {
   "cell_type": "code",
   "execution_count": 12,
   "metadata": {},
   "outputs": [],
   "source": [
    "# remove the full buffered hexagon from the list\n",
    "FCList.remove(\"Hex_200kmBuff\")"
   ]
  },
  {
   "cell_type": "code",
   "execution_count": 13,
   "metadata": {},
   "outputs": [
    {
     "name": "stdout",
     "output_type": "stream",
     "text": [
      "['A_1', 'A_2', 'B_1', 'B_2', 'B_3', 'C_1', 'C_2', 'D_1', 'D_2', 'D_3', 'E_1']\n"
     ]
    }
   ],
   "source": [
    "#Print the list made in the above step to see what I found\n",
    "print(FCList)"
   ]
  },
  {
   "cell_type": "code",
   "execution_count": 14,
   "metadata": {},
   "outputs": [
    {
     "name": "stdout",
     "output_type": "stream",
     "text": [
      "finished clipping raster\n"
     ]
    }
   ],
   "source": [
    "# Loop to clip resistance raster to buffered hexagons\n",
    "for fc in FCList:\n",
    "\n",
    "     output = \"Resist_\" + fc\n",
    "\n",
    "     # Process: Buffer\n",
    "     with arcpy.EnvManager(snapRaster=SEraster):\n",
    "        out_raster = arcpy.sa.ExtractByMask(Resist, fc); out_raster.save(output)\n",
    "\n",
    "print (\"finished clipping raster\") "
   ]
  },
  {
   "cell_type": "markdown",
   "metadata": {},
   "source": [
    "# select hubs that intersect buffered hexagons"
   ]
  },
  {
   "cell_type": "code",
   "execution_count": 19,
   "metadata": {},
   "outputs": [
    {
     "data": {
      "text/html": [
       "<div class='gpresult'><h2>Messages</h2><div id='messages' data-messages='[\"Start Time: Friday, August 18, 2023 11:50:57 PM\",\"Succeeded at Friday, August 18, 2023 11:50:57 PM (Elapsed Time: 0.14 seconds)\"]' data-show='true'><div id = 'default' /></div></div>"
      ],
      "text/plain": [
       "<Result 'Hubs_Layer1'>"
      ]
     },
     "execution_count": 19,
     "metadata": {},
     "output_type": "execute_result"
    }
   ],
   "source": [
    "arcpy.management.SelectLayerByLocation(Hub, \"INTERSECT\", \"A_1\", None, \"NEW_SELECTION\", \"NOT_INVERT\")"
   ]
  },
  {
   "cell_type": "code",
   "execution_count": 20,
   "metadata": {},
   "outputs": [
    {
     "name": "stdout",
     "output_type": "stream",
     "text": [
      "finished selecting and exporting hubs\n"
     ]
    }
   ],
   "source": [
    "# Loop to select hubs that intersec the buffered hexagon and export as a new feature class\n",
    "for fc in FCList:\n",
    "\n",
    "     output = \"Hubs_\" + fc\n",
    "\n",
    "     # Process: Buffer\n",
    "     with arcpy.EnvManager():\n",
    "        #arcpy.management.MakeFeatureLayer(Hub, 'Hublyr')\n",
    "        select = arcpy.management.SelectLayerByLocation(Hub, \"INTERSECT\", fc, None, \"NEW_SELECTION\", \"NOT_INVERT\")\n",
    "        arcpy.conversion.FeatureClassToFeatureClass(select, OutWorkspace, output) \n",
    "        \n",
    "\n",
    "print (\"finished selecting and exporting hubs\") "
   ]
  },
  {
   "cell_type": "code",
   "execution_count": 21,
   "metadata": {},
   "outputs": [
    {
     "name": "stdout",
     "output_type": "stream",
     "text": [
      "346.5761706829071\n"
     ]
    }
   ],
   "source": [
    "end = time.time()\n",
    "print(end - start)"
   ]
  },
  {
   "cell_type": "code",
   "execution_count": null,
   "metadata": {},
   "outputs": [],
   "source": []
  }
 ],
 "metadata": {
  "kernelspec": {
   "display_name": "ArcGISPro",
   "language": "Python",
   "name": "python3"
  },
  "language_info": {
   "file_extension": ".py",
   "name": "python",
   "version": "3"
  }
 },
 "nbformat": 4,
 "nbformat_minor": 2
}
