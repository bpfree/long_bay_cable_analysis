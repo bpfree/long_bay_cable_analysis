{
 "cells": [
  {
   "cell_type": "markdown",
   "metadata": {},
   "source": [
    "# Make Marine Resistance and Hubs\n",
    "\n",
    "Created by Amy Keister, last run by Amy Keister on September 7 2023. It took 50 minutes to run."
   ]
  },
  {
   "cell_type": "code",
   "execution_count": 1,
   "metadata": {},
   "outputs": [],
   "source": [
    "import os\n",
    "import arcpy\n",
    "import numpy"
   ]
  },
  {
   "cell_type": "code",
   "execution_count": 2,
   "metadata": {},
   "outputs": [],
   "source": [
    "import time\n",
    "start = time.time()"
   ]
  },
  {
   "cell_type": "code",
   "execution_count": 3,
   "metadata": {},
   "outputs": [],
   "source": [
    "# define spatial reference and workspaces\n",
    "sr= arcpy.SpatialReference(5070)\n",
    "#SourceWorkspace = \n",
    "OutWorkspace = r\"D:\\SE_Blueprint_2023\\8_PrepLinkageMapperRuns\\E_ConMarineResistanceAndHubs.gdb\""
   ]
  },
  {
   "cell_type": "code",
   "execution_count": 4,
   "metadata": {},
   "outputs": [],
   "source": [
    "# define rasters used for cell size, extent, and snapping\n",
    "Rextent= r\"D:\\SE_Blueprint_2023\\2_FullExtent\\SEBlueprint2023ExtentVIPR6.tif\""
   ]
  },
  {
   "cell_type": "code",
   "execution_count": 45,
   "metadata": {},
   "outputs": [],
   "source": [
    "# define final outputs\n",
    "Hubs= r\"D:\\SE_Blueprint_2023\\8_PrepLinkageMapperRuns\\Ea_ConMarine_LM_Input.gdb\\Hubs\"\n",
    "Resist= r\"D:\\SE_Blueprint_2023\\8_PrepLinkageMapperRuns\\Ea_ConMarine_LM_Input.gdb\\Resistance\"\n",
    "\n",
    "HubsGoM= r\"D:\\SE_Blueprint_2023\\8_PrepLinkageMapperRuns\\Ea_ConMarine_LM_Input.gdb\\HubsGoM\"\n",
    "ResistGoM= r\"D:\\SE_Blueprint_2023\\8_PrepLinkageMapperRuns\\Ea_ConMarine_LM_Input.gdb\\ResistanceGoM\"\n",
    "\n",
    "HubsA= r\"D:\\SE_Blueprint_2023\\8_PrepLinkageMapperRuns\\Ea_ConMarine_LM_Input.gdb\\HubsA\"\n",
    "ResistA= r\"D:\\SE_Blueprint_2023\\8_PrepLinkageMapperRuns\\Ea_ConMarine_LM_Input.gdb\\ResistanceA\""
   ]
  },
  {
   "cell_type": "code",
   "execution_count": 6,
   "metadata": {},
   "outputs": [],
   "source": [
    "# define additional inputs\n",
    "subR = r\"D:\\SE_Blueprint_2023\\2_FullExtent\\SEBlueprint2023SubregionsVIPR6.shp\"\n",
    "estuary= r\"D:\\SE_Blueprint_2023\\8_PrepLinkageMapperRuns\\A_ConInlandResistance.gdb\\estuaryDeep\"\n",
    "Inland= r\"D:\\SE_Blueprint_2023\\8_PrepLinkageMapperRuns\\A_ConInlandResistance.gdb\\InlandNearShoreBuffRNoEst\"\n",
    "Zonation= r\"D:\\SE_Blueprint_2023\\7_CombineZonation\\CombineZonation.tif\"\n",
    "# this was created using the E_MarineMammalAndTurtleMovementAreas.ipynb\n",
    "mask= r\"D:\\SE_Blueprint_2023\\8_PrepLinkageMapperRuns\\MarineDataFromRua\\MarineMammalAndTurtleMovementAreas\\MarineMammalAndTurtleMovementAreas.tif\""
   ]
  },
  {
   "cell_type": "markdown",
   "metadata": {
    "heading_collapsed": true
   },
   "source": [
    "# Start Analysis"
   ]
  },
  {
   "cell_type": "code",
   "execution_count": 7,
   "metadata": {
    "hidden": true
   },
   "outputs": [],
   "source": [
    "# Change the workspace to where I am saving the outputs\n",
    "arcpy.env.workspace = OutWorkspace"
   ]
  },
  {
   "cell_type": "code",
   "execution_count": 8,
   "metadata": {
    "hidden": true
   },
   "outputs": [
    {
     "name": "stdout",
     "output_type": "stream",
     "text": [
      "D:\\SE_Blueprint_2023\\8_PrepLinkageMapperRuns\\E_ConMarineResistanceAndHubs.gdb\n"
     ]
    }
   ],
   "source": [
    "# Print the current workspace to make sure I'm in the right spot\n",
    "print(arcpy.env.workspace)"
   ]
  },
  {
   "cell_type": "markdown",
   "metadata": {
    "heading_collapsed": true
   },
   "source": [
    "# Define Continental estuarine/marine area\n",
    "I'm using the inland definition created for the inland resistance layer and just picking everything else in the Continental extent.\n",
    "This looks unnecessarily complicated but it works"
   ]
  },
  {
   "cell_type": "code",
   "execution_count": 9,
   "metadata": {
    "hidden": true
   },
   "outputs": [
    {
     "data": {
      "text/html": [
       "<div class='gpresult'><h2>Messages</h2><div id='messages' data-messages='[\"Start Time: Thursday, September 7, 2023 11:02:45 AM\",\"Succeeded at Thursday, September 7, 2023 11:02:46 AM (Elapsed Time: 1.11 seconds)\"]' data-show='true'><div id = 'default' /></div></div>"
      ],
      "text/plain": [
       "<Result 'D:\\\\SE_Blueprint_2023\\\\8_PrepLinkageMapperRuns\\\\E_ConMarineResistanceAndHubs.gdb\\\\NotCaribbean'>"
      ]
     },
     "execution_count": 9,
     "metadata": {},
     "output_type": "execute_result"
    }
   ],
   "source": [
    "# pull out only the Continental polygons from the subregions\n",
    "arcpy.analysis.Select(subR, \"NotCaribbean\", \"SubRgn <> 'Caribbean'\")"
   ]
  },
  {
   "cell_type": "code",
   "execution_count": 10,
   "metadata": {
    "hidden": true
   },
   "outputs": [],
   "source": [
    "# reclassify inland\n",
    "with arcpy.EnvManager(outputCoordinateSystem=sr, extent=\"NotCaribbean\", snapRaster=Rextent, cellSize=Rextent):\n",
    "    out_raster = arcpy.sa.Reclassify(Inland, \"Value\", \"1 1;NODATA 0\", \"DATA\"); out_raster.save(\"Inland1\")"
   ]
  },
  {
   "cell_type": "code",
   "execution_count": 11,
   "metadata": {
    "hidden": true
   },
   "outputs": [],
   "source": [
    "# reduce area to estuarine/marine extent\n",
    "out_raster = arcpy.sa.Times(Rextent, \"Inland1\"); out_raster.save(\"EmarineCar\")"
   ]
  },
  {
   "cell_type": "code",
   "execution_count": 12,
   "metadata": {
    "hidden": true
   },
   "outputs": [],
   "source": [
    "# remove Caribbean\n",
    "out_raster = arcpy.sa.ExtractByMask(\n",
    "    in_raster=\"EmarineCar\",\n",
    "    in_mask_data=\"NotCaribbean\",\n",
    "    extraction_area=\"INSIDE\",\n",
    "    analysis_extent= Rextent\n",
    ")\n",
    "out_raster.save(\"Emarine\")"
   ]
  },
  {
   "cell_type": "code",
   "execution_count": 13,
   "metadata": {
    "hidden": true
   },
   "outputs": [],
   "source": [
    "# reclassify to turn NoData into 0\n",
    "with arcpy.EnvManager(outputCoordinateSystem=sr, snapRaster=Rextent, cellSize=Rextent, extent=\"NotCaribbean\"):\n",
    "    out_raster = arcpy.sa.Reclassify(\"Emarine\", \"Value\", \"0 1;1 NODATA\", \"DATA\"); out_raster.save(\"Emarine1\")"
   ]
  },
  {
   "cell_type": "markdown",
   "metadata": {},
   "source": [
    "# Make estuaries hubs\n",
    "\n",
    "Select all estuaries from the NWI that are deep water, but not the buffer into marine"
   ]
  },
  {
   "cell_type": "code",
   "execution_count": 14,
   "metadata": {},
   "outputs": [
    {
     "data": {
      "text/html": [
       "<div class='gpresult'><h2>Messages</h2><div id='messages' data-messages='[\"Start Time: Thursday, September 7, 2023 11:21:20 AM\",\"Succeeded at Thursday, September 7, 2023 11:21:24 AM (Elapsed Time: 4.00 seconds)\"]' data-show='true'><div id = 'default' /></div></div>"
      ],
      "text/plain": [
       "<Result 'D:\\\\SE_Blueprint_2023\\\\8_PrepLinkageMapperRuns\\\\E_ConMarineResistanceAndHubs.gdb\\\\estuary1'>"
      ]
     },
     "execution_count": 14,
     "metadata": {},
     "output_type": "execute_result"
    }
   ],
   "source": [
    "arcpy.analysis.Select(estuary, \"estuary1\", \"WETLAND_TY = 'Estuarine and Marine Deepwater' And ATTRIBUTE <> 'M1UBL'\")"
   ]
  },
  {
   "cell_type": "code",
   "execution_count": 15,
   "metadata": {},
   "outputs": [
    {
     "data": {
      "text/html": [
       "<div class='gpresult'><h2>Messages</h2><div id='messages' data-messages='[\"Start Time: Thursday, September 7, 2023 11:21:24 AM\",\"Adding raster to estuary1...\",\"Succeeded at Thursday, September 7, 2023 11:21:28 AM (Elapsed Time: 3.83 seconds)\"]' data-show='true'><div id = 'default' /></div></div>"
      ],
      "text/plain": [
       "<Result 'D:\\\\SE_Blueprint_2023\\\\8_PrepLinkageMapperRuns\\\\E_ConMarineResistanceAndHubs.gdb\\\\estuary1'>"
      ]
     },
     "execution_count": 15,
     "metadata": {},
     "output_type": "execute_result"
    }
   ],
   "source": [
    "# add and calculate description field to use for raster conversion\n",
    "arcpy.management.CalculateField(\"estuary1\", \"raster\", 1, \"PYTHON3\", '', \"SHORT\")"
   ]
  },
  {
   "cell_type": "code",
   "execution_count": 16,
   "metadata": {},
   "outputs": [],
   "source": [
    "# convert to raster\n",
    "with arcpy.EnvManager(outputCoordinateSystem=sr, snapRaster=Rextent, cellSize=Rextent, extent=\"NotCaribbean\", mask=\"Emarine1\"):\n",
    "    arcpy.conversion.PolygonToRaster(\"estuary1\", \"raster\", \"estuary2\", \"CELL_CENTER\", \"NONE\", Rextent)"
   ]
  },
  {
   "cell_type": "markdown",
   "metadata": {},
   "source": [
    "## Identify areas in the top 10% of the marine zonation runs"
   ]
  },
  {
   "cell_type": "code",
   "execution_count": 17,
   "metadata": {},
   "outputs": [],
   "source": [
    "# use a conditional statement to pull out the top 10%, use environemnts to clip to inland\n",
    "with arcpy.EnvManager(outputCoordinateSystem=sr, mask=\"Emarine1\"):\n",
    "    out_raster = arcpy.sa.Con(Zonation, 1, '', \"VALUE >90\"); out_raster.save(\"Top10\")"
   ]
  },
  {
   "cell_type": "markdown",
   "metadata": {},
   "source": [
    "## combine estuary hubs with zontion hubs"
   ]
  },
  {
   "cell_type": "code",
   "execution_count": 18,
   "metadata": {},
   "outputs": [],
   "source": [
    "# combine rasters, keeping max value\n",
    "with arcpy.EnvManager(outputCoordinateSystem=sr, snapRaster=Rextent, cellSize=Rextent, extent=\"NotCaribbean\", mask=\"Emarine1\"):\n",
    "    out_raster = arcpy.sa.CellStatistics([\"Top10\", \"estuary2\"],\"MAXIMUM\", \"DATA\", \"SINGLE_BAND\"); out_raster.save(\"PotHub\")"
   ]
  },
  {
   "cell_type": "markdown",
   "metadata": {},
   "source": [
    "## convert to 90 meter raster and back to vector to make sure it won't throw errors in corridor analysis\n",
    "Because we need to do corridor analysis at 90 meters, we need to make sure that after cores are converted to 90 meter rasters, there aren't small isolated cores"
   ]
  },
  {
   "cell_type": "code",
   "execution_count": 19,
   "metadata": {},
   "outputs": [
    {
     "data": {
      "text/html": [
       "<div class='gpresult'><h2>Messages</h2><div id='messages' data-messages='[\"Start Time: Thursday, September 7, 2023 11:29:07 AM\",\"Building Pyramids...\",\"Succeeded at Thursday, September 7, 2023 11:29:23 AM (Elapsed Time: 16.14 seconds)\"]' data-show='true'><div id = 'default' /></div></div>"
      ],
      "text/plain": [
       "<Result 'D:\\\\SE_Blueprint_2023\\\\8_PrepLinkageMapperRuns\\\\E_ConMarineResistanceAndHubs.gdb\\\\PotHub_90'>"
      ]
     },
     "execution_count": 19,
     "metadata": {},
     "output_type": "execute_result"
    }
   ],
   "source": [
    "# resample to 90 meters using default esri method\n",
    "arcpy.management.Resample(\"PotHub\", \"PotHub_90\", \"90 90\", '')"
   ]
  },
  {
   "cell_type": "markdown",
   "metadata": {},
   "source": [
    "## Calculate size of potential hubs"
   ]
  },
  {
   "cell_type": "code",
   "execution_count": 20,
   "metadata": {},
   "outputs": [],
   "source": [
    "# use region group to create clumps of isolated potential hubs\n",
    "out_raster = arcpy.sa.RegionGroup(\"PotHub_90\", \"EIGHT\", '', '', '0'); out_raster.save(\"PotHub3a\")"
   ]
  },
  {
   "cell_type": "code",
   "execution_count": 21,
   "metadata": {},
   "outputs": [],
   "source": [
    "# pull out clumps that are larger than 2,000 ha (5,000 acres), keep their region group value\n",
    "# this is for the 90 meter resolution version\n",
    "out_raster = arcpy.sa.Con(\"PotHub3a\", \"PotHub3a\", '', \"Count > 2498 And Link = 1\"); out_raster.save(\"PotHub4\")"
   ]
  },
  {
   "cell_type": "code",
   "execution_count": 22,
   "metadata": {},
   "outputs": [
    {
     "data": {
      "text/html": [
       "<div class='gpresult'><h2>Messages</h2><div id='messages' data-messages='[\"Start Time: Thursday, September 7, 2023 11:30:33 AM\",\"Succeeded at Thursday, September 7, 2023 11:30:37 AM (Elapsed Time: 4.14 seconds)\"]' data-show='true'><div id = 'default' /></div></div>"
      ],
      "text/plain": [
       "<Result 'D:\\\\SE_Blueprint_2023\\\\8_PrepLinkageMapperRuns\\\\E_ConMarineResistanceAndHubs.gdb\\\\PotHub5'>"
      ]
     },
     "execution_count": 22,
     "metadata": {},
     "output_type": "execute_result"
    }
   ],
   "source": [
    "# convert to vector\n",
    "arcpy.conversion.RasterToPolygon(\"PotHub4\", \"PotHub5\", \"NO_SIMPLIFY\", \"Value\", \"MULTIPLE_OUTER_PART\", None)"
   ]
  },
  {
   "cell_type": "code",
   "execution_count": 23,
   "metadata": {},
   "outputs": [
    {
     "data": {
      "text/html": [
       "<div class='gpresult'><h2>Messages</h2><div id='messages' data-messages='[\"Start Time: Thursday, September 7, 2023 11:30:38 AM\",\"Adding UID to PotHub5...\",\"Succeeded at Thursday, September 7, 2023 11:30:38 AM (Elapsed Time: 0.10 seconds)\"]' data-show='true'><div id = 'default' /></div></div>"
      ],
      "text/plain": [
       "<Result 'D:\\\\SE_Blueprint_2023\\\\8_PrepLinkageMapperRuns\\\\E_ConMarineResistanceAndHubs.gdb\\\\PotHub5'>"
      ]
     },
     "execution_count": 23,
     "metadata": {},
     "output_type": "execute_result"
    }
   ],
   "source": [
    "# add field that LinkageMapper will recognize\n",
    "arcpy.management.CalculateField(\"PotHub5\", \"UID\", \"!Id!\", \"PYTHON3\", '', \"SHORT\", \"NO_ENFORCE_DOMAINS\")"
   ]
  },
  {
   "cell_type": "code",
   "execution_count": 25,
   "metadata": {},
   "outputs": [
    {
     "data": {
      "text/html": [
       "<div class='gpresult'><h2>Messages</h2><div id='messages' data-messages='[\"Start Time: Thursday, September 7, 2023 11:41:37 AM\",\"Succeeded at Thursday, September 7, 2023 11:41:37 AM (Elapsed Time: 0.34 seconds)\"]' data-show='true'><div id = 'default' /></div></div>"
      ],
      "text/plain": [
       "<Result 'D:\\\\SE_Blueprint_2023\\\\8_PrepLinkageMapperRuns\\\\Ea_ConMarine_LM_Input.gdb\\\\Hubs'>"
      ]
     },
     "execution_count": 25,
     "metadata": {},
     "output_type": "execute_result"
    }
   ],
   "source": [
    "# copy features\n",
    "arcpy.management.CopyFeatures(\"PotHub5\", Hubs, '', None, None, None)"
   ]
  },
  {
   "cell_type": "markdown",
   "metadata": {
    "heading_collapsed": true
   },
   "source": [
    "# Make resistance raster"
   ]
  },
  {
   "cell_type": "code",
   "execution_count": 26,
   "metadata": {
    "hidden": true
   },
   "outputs": [],
   "source": [
    "# flip zonation results so that high is low and low is high to make resistance layer\n",
    "with arcpy.EnvManager(outputCoordinateSystem=sr, snapRaster=Rextent, cellSize=Rextent, extent=\"NotCaribbean\", mask=\"Emarine1\"):\n",
    "    out_raster = arcpy.sa.Minus(100, Zonation); out_raster.save(\"ZFlipEMarine\")"
   ]
  },
  {
   "cell_type": "markdown",
   "metadata": {
    "hidden": true
   },
   "source": [
    "## bring in potential corridors\n",
    "This year we are trying a new method where we use corridors from other projects to try to help keep corridors more stable. The idea is that we use our old corridors and corridors from other projects and use them to limit the resistance raster to try to get corridors to move through them.\n",
    "\n",
    "Rua made the potential corridors for the marine and estuarine environment\n",
    "\n",
    "The data from the Gulf are cutting out estuarine areas that we don't want cut out. In this raster, the 1s are the potential corridors. The 0s are a mixed class. They include some areas that are NOT corridors, but they also include estuarine areas. I'm trying to fix this by giving all estuarine areas a value of 1"
   ]
  },
  {
   "cell_type": "code",
   "execution_count": 27,
   "metadata": {
    "hidden": true
   },
   "outputs": [],
   "source": [
    "# make a copy of the estuaries for edits\n",
    "# make a copy of the subregion layer for edits\n",
    "with arcpy.EnvManager(outputCoordinateSystem=sr, snapRaster=Rextent, cellSize=Rextent, extent=\"NotCaribbean\"):\n",
    "    arcpy.management.CopyFeatures(estuary, \"estuaryDeep\", '', None, None, None)"
   ]
  },
  {
   "cell_type": "code",
   "execution_count": 28,
   "metadata": {
    "hidden": true
   },
   "outputs": [
    {
     "data": {
      "text/html": [
       "<div class='gpresult'><h2>Messages</h2><div id='messages' data-messages='[\"Start Time: Thursday, September 7, 2023 11:44:14 AM\",\"Adding raster to estuaryDeep...\",\"Succeeded at Thursday, September 7, 2023 11:44:18 AM (Elapsed Time: 4.12 seconds)\"]' data-show='true'><div id = 'default' /></div></div>"
      ],
      "text/plain": [
       "<Result 'D:\\\\SE_Blueprint_2023\\\\8_PrepLinkageMapperRuns\\\\E_ConMarineResistanceAndHubs.gdb\\\\estuaryDeep'>"
      ]
     },
     "execution_count": 28,
     "metadata": {},
     "output_type": "execute_result"
    }
   ],
   "source": [
    "# add and calculate description field to use for raster conversion\n",
    "arcpy.management.CalculateField(\"estuaryDeep\", \"raster\", 1, \"PYTHON3\", '', \"SHORT\")"
   ]
  },
  {
   "cell_type": "code",
   "execution_count": 29,
   "metadata": {
    "hidden": true
   },
   "outputs": [],
   "source": [
    "# convert to raster\n",
    "with arcpy.EnvManager(outputCoordinateSystem=sr, snapRaster=Rextent, cellSize=Rextent, extent=\"NotCaribbean\"):\n",
    "    arcpy.conversion.PolygonToRaster(\"estuaryDeep\", \"raster\", \"estuaryDeep2\", \"CELL_CENTER\", \"NONE\", Rextent)"
   ]
  },
  {
   "cell_type": "code",
   "execution_count": 30,
   "metadata": {
    "hidden": true
   },
   "outputs": [],
   "source": [
    "# The data from the Gulf are cutting out estuarine areas that we don't want cut out. In this raster, the 1s are the potential corridors. The 0s are a mixed class. They include some areas \n",
    "# that are NOT corridors, but they also include estuarine areas. I'm trying to fix this by giving all estuarine areas a value of 1\n",
    "with arcpy.EnvManager(outputCoordinateSystem=sr, snapRaster=Rextent, cellSize=Rextent, extent=\"NotCaribbean\", mask=\"Emarine1\"):\n",
    "    out_raster = arcpy.sa.CellStatistics([mask, \"estuaryDeep2\"], \"MAXIMUM\", 'DATA'); out_raster.save(\"mask2\")"
   ]
  },
  {
   "cell_type": "code",
   "execution_count": 34,
   "metadata": {
    "hidden": true
   },
   "outputs": [],
   "source": [
    "# reclassify mask to remove zeros\n",
    "out_raster = arcpy.sa.Reclassify(\"mask2\", \"Value\", \"0 NODATA;1 1\", \"DATA\"); out_raster.save(\"mask3\")"
   ]
  },
  {
   "cell_type": "code",
   "execution_count": 35,
   "metadata": {
    "hidden": true
   },
   "outputs": [],
   "source": [
    "# limit resistance raster to areas around previous corridors, this is the most dramatic option and does not allow\n",
    "# linkagemapper to even consider areas that were not around previous corridors\n",
    "out_raster = arcpy.sa.ExtractByMask(\"ZFlipEMarine\", \"mask3\"); out_raster.save(\"MResist2\")"
   ]
  },
  {
   "cell_type": "code",
   "execution_count": null,
   "metadata": {
    "hidden": true
   },
   "outputs": [],
   "source": []
  },
  {
   "cell_type": "markdown",
   "metadata": {
    "hidden": true
   },
   "source": [
    "## resample because 30 meter for the whole SA area is too large for Linkagemapper  to run"
   ]
  },
  {
   "cell_type": "code",
   "execution_count": 37,
   "metadata": {
    "hidden": true
   },
   "outputs": [
    {
     "data": {
      "text/html": [
       "<div class='gpresult'><h2>Messages</h2><div id='messages' data-messages='[\"Start Time: Thursday, September 7, 2023 12:05:38 PM\",\"Building Pyramids...\",\"Succeeded at Thursday, September 7, 2023 12:06:00 PM (Elapsed Time: 21.95 seconds)\"]' data-show='true'><div id = 'default' /></div></div>"
      ],
      "text/plain": [
       "<Result 'D:\\\\SE_Blueprint_2023\\\\8_PrepLinkageMapperRuns\\\\Ea_ConMarine_LM_Input.gdb\\\\Resistance'>"
      ]
     },
     "execution_count": 37,
     "metadata": {},
     "output_type": "execute_result"
    }
   ],
   "source": [
    "# might need to resample to 60 or 90 meter pixels like I had to do last year\n",
    "# I tried all the options (Nearest,Majority, Bilinear, Cubic) it is a tough call\n",
    "# the bilinear did a little better job retaining linear features\n",
    "arcpy.management.Resample(\"MResist2\", Resist, \"90 90\", \"BILINEAR\")"
   ]
  },
  {
   "cell_type": "markdown",
   "metadata": {
    "hidden": true
   },
   "source": [
    "## This is too big to run at once, need to seperate into pieces"
   ]
  },
  {
   "cell_type": "code",
   "execution_count": 38,
   "metadata": {
    "hidden": true
   },
   "outputs": [
    {
     "data": {
      "text/html": [
       "<div class='gpresult'><h2>Messages</h2><div id='messages' data-messages='[\"Start Time: Thursday, September 7, 2023 12:46:10 PM\",\"Succeeded at Thursday, September 7, 2023 12:46:11 PM (Elapsed Time: 0.47 seconds)\"]' data-show='true'><div id = 'default' /></div></div>"
      ],
      "text/plain": [
       "<Result 'D:\\\\SE_Blueprint_2023\\\\8_PrepLinkageMapperRuns\\\\E_ConMarineResistanceAndHubs.gdb\\\\GulfOfMexico'>"
      ]
     },
     "execution_count": 38,
     "metadata": {},
     "output_type": "execute_result"
    }
   ],
   "source": [
    "# pull out only the Gulf of Mexico polygon from the subregions\n",
    "arcpy.analysis.Select(subR, \"GulfOfMexico\", \"SubRgn = 'Gulf of Mexico'\")"
   ]
  },
  {
   "cell_type": "code",
   "execution_count": 39,
   "metadata": {
    "hidden": true
   },
   "outputs": [
    {
     "data": {
      "text/html": [
       "<div class='gpresult'><h2>Messages</h2><div id='messages' data-messages='[\"Start Time: Thursday, September 7, 2023 12:47:08 PM\",\"Succeeded at Thursday, September 7, 2023 12:47:08 PM (Elapsed Time: 0.42 seconds)\"]' data-show='true'><div id = 'default' /></div></div>"
      ],
      "text/plain": [
       "<Result 'D:\\\\SE_Blueprint_2023\\\\8_PrepLinkageMapperRuns\\\\E_ConMarineResistanceAndHubs.gdb\\\\GulfOfMexico_200kmBuff'>"
      ]
     },
     "execution_count": 39,
     "metadata": {},
     "output_type": "execute_result"
    }
   ],
   "source": [
    "# buffer GoM by 200km\n",
    "arcpy.analysis.Buffer(\"GulfOfMexico\", \"GulfOfMexico_200kmBuff\", \"200 Kilometers\", \"FULL\", \"ROUND\", \"NONE\", None, \"PLANAR\")"
   ]
  },
  {
   "cell_type": "code",
   "execution_count": 41,
   "metadata": {
    "hidden": true
   },
   "outputs": [],
   "source": [
    "# clip resistance layer to buffered GoM\n",
    "out_raster = arcpy.sa.ExtractByMask(Resist, \"GulfOfMexico_200kmBuff\"); out_raster.save(ResistGoM)"
   ]
  },
  {
   "cell_type": "code",
   "execution_count": null,
   "metadata": {
    "hidden": true
   },
   "outputs": [],
   "source": [
    "# select hubs that intersect buffered GoM\n",
    "select = arcpy.management.SelectLayerByLocation(Hubs, \"INTERSECT\", \"GulfOfMexico_200kmBuff\", None, \"NEW_SELECTION\", \"NOT_INVERT\")\n",
    "arcpy.conversion.FeatureClassToFeatureClass(select, OutWorkspace2, \"HubsGoM\") "
   ]
  },
  {
   "cell_type": "code",
   "execution_count": 47,
   "metadata": {
    "hidden": true
   },
   "outputs": [
    {
     "data": {
      "text/html": [
       "<div class='gpresult'><h2>Messages</h2><div id='messages' data-messages='[\"Start Time: Thursday, September 7, 2023 1:27:47 PM\",\"Succeeded at Thursday, September 7, 2023 1:27:48 PM (Elapsed Time: 0.53 seconds)\"]' data-show='true'><div id = 'default' /></div></div>"
      ],
      "text/plain": [
       "<Result 'D:\\\\SE_Blueprint_2023\\\\8_PrepLinkageMapperRuns\\\\E_ConMarineResistanceAndHubs.gdb\\\\Atlantic'>"
      ]
     },
     "execution_count": 47,
     "metadata": {},
     "output_type": "execute_result"
    }
   ],
   "source": [
    "# pull out only the Atlantic Marine polygon from the subregions\n",
    "arcpy.analysis.Select(subR, \"Atlantic\", \"SubRgn = 'Atlantic Marine'\")"
   ]
  },
  {
   "cell_type": "code",
   "execution_count": 48,
   "metadata": {
    "hidden": true
   },
   "outputs": [
    {
     "data": {
      "text/html": [
       "<div class='gpresult'><h2>Messages</h2><div id='messages' data-messages='[\"Start Time: Thursday, September 7, 2023 1:28:29 PM\",\"Succeeded at Thursday, September 7, 2023 1:28:29 PM (Elapsed Time: 0.47 seconds)\"]' data-show='true'><div id = 'default' /></div></div>"
      ],
      "text/plain": [
       "<Result 'D:\\\\SE_Blueprint_2023\\\\8_PrepLinkageMapperRuns\\\\E_ConMarineResistanceAndHubs.gdb\\\\Atlantic_200kmBuff'>"
      ]
     },
     "execution_count": 48,
     "metadata": {},
     "output_type": "execute_result"
    }
   ],
   "source": [
    "# buffer Atlantic by 200km\n",
    "arcpy.analysis.Buffer(\"Atlantic\", \"Atlantic_200kmBuff\", \"200 Kilometers\", \"FULL\", \"ROUND\", \"NONE\", None, \"PLANAR\")"
   ]
  },
  {
   "cell_type": "code",
   "execution_count": 49,
   "metadata": {
    "hidden": true
   },
   "outputs": [],
   "source": [
    "# clip resistance layer to buffered Atlantic\n",
    "out_raster = arcpy.sa.ExtractByMask(Resist, \"Atlantic_200kmBuff\"); out_raster.save(ResistA)"
   ]
  },
  {
   "cell_type": "code",
   "execution_count": 50,
   "metadata": {
    "hidden": true
   },
   "outputs": [
    {
     "data": {
      "text/html": [
       "<div class='gpresult'><h2>Messages</h2><div id='messages' data-messages='[\"Start Time: Thursday, September 7, 2023 1:29:44 PM\",\"Succeeded at Thursday, September 7, 2023 1:29:45 PM (Elapsed Time: 0.62 seconds)\"]' data-show='true'><div id = 'default' /></div></div>"
      ],
      "text/plain": [
       "<Result 'D:\\\\SE_Blueprint_2023\\\\8_PrepLinkageMapperRuns\\\\Ea_ConMarine_LM_Input.gdb\\\\HubsA'>"
      ]
     },
     "execution_count": 50,
     "metadata": {},
     "output_type": "execute_result"
    }
   ],
   "source": [
    "# select hubs that intersect buffered GoM\n",
    "select = arcpy.management.SelectLayerByLocation(Hubs, \"INTERSECT\", \"Atlantic_200kmBuff\", None, \"NEW_SELECTION\", \"NOT_INVERT\")\n",
    "arcpy.conversion.FeatureClassToFeatureClass(select, OutWorkspace2, \"HubsA\") "
   ]
  },
  {
   "cell_type": "code",
   "execution_count": 33,
   "metadata": {
    "hidden": true
   },
   "outputs": [
    {
     "name": "stdout",
     "output_type": "stream",
     "text": [
      "2901.4779844284058\n"
     ]
    }
   ],
   "source": [
    "end = time.time()\n",
    "print(end - start)"
   ]
  },
  {
   "cell_type": "code",
   "execution_count": null,
   "metadata": {
    "hidden": true
   },
   "outputs": [],
   "source": []
  }
 ],
 "metadata": {
  "kernelspec": {
   "display_name": "ArcGISPro",
   "language": "Python",
   "name": "python3"
  },
  "language_info": {
   "file_extension": ".py",
   "name": "python",
   "version": "3"
  }
 },
 "nbformat": 4,
 "nbformat_minor": 2
}
