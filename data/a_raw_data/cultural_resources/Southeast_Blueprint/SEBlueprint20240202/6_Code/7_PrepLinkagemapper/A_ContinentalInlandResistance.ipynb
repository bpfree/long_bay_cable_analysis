{
 "cells": [
  {
   "cell_type": "markdown",
   "metadata": {},
   "source": [
    "# This is the first step in running corridor analysis for the Blueprint\n",
    "\n",
    "\n",
    "\n",
    "Created by Amy Keister, last run by Amy Keister on 8/18/2023. It took 1 hour 32 minutes to run."
   ]
  },
  {
   "cell_type": "code",
   "execution_count": 1,
   "metadata": {},
   "outputs": [],
   "source": [
    "import os\n",
    "import arcpy\n",
    "import numpy"
   ]
  },
  {
   "cell_type": "code",
   "execution_count": 2,
   "metadata": {},
   "outputs": [],
   "source": [
    "import time\n",
    "start = time.time()"
   ]
  },
  {
   "cell_type": "code",
   "execution_count": 3,
   "metadata": {},
   "outputs": [],
   "source": [
    "# define spatial reference and workspaces\n",
    "sr= arcpy.SpatialReference(5070)\n",
    "#SourceWorkspace = \n",
    "OutWorkspace = r\"D:\\SE_Blueprint_2023\\8_PrepLinkageMapperRuns\\A_ConInlandResistance.gdb\""
   ]
  },
  {
   "cell_type": "code",
   "execution_count": 4,
   "metadata": {},
   "outputs": [],
   "source": [
    "# define final outputs\n",
    "#Out = r\"D:\\SE_Blueprint_2023\\8_PrepLinkageMapperRuns\\Resistance.tif\"\n",
    "Out= r\"D:\\SE_Blueprint_2023\\8_PrepLinkageMapperRuns\\Ba_Con_LM_Input.gdb\\Resistance\""
   ]
  },
  {
   "cell_type": "code",
   "execution_count": 5,
   "metadata": {},
   "outputs": [],
   "source": [
    "# define rasters used for cell size, extent, and snapping\n",
    "SEraster= r\"F:\\GIS_DATA\\SECAS\\SE_Blueprint_2022\\Southeast_Blueprint_2022_Data_Download\\SEBlueprint20221215\\Inputs\\BaseBlueprint\\1_ExtentLayers\\BaseBlueprintExtent2022.tif\""
   ]
  },
  {
   "cell_type": "code",
   "execution_count": 6,
   "metadata": {},
   "outputs": [],
   "source": [
    "# define additional inputs\n",
    "subR= r\"F:\\GIS_DATA\\SECAS\\SE_Blueprint_2022\\Southeast_Blueprint_2022_Data_Download\\SEBlueprint20221215\\Inputs\\BaseBlueprint\\1_ExtentLayers\\BaseBlueprintSubRgn.shp\"\n",
    "estuary= r\"F:\\GIS_DATA\\WaterResources\\NWI\\Estuary.shp\"\n",
    "TNCLocalCon= r\"F:\\GIS_DATA\\DecisionSupportTools\\TNCTerrestrialResilient\\Local_Connectedness\\Local_connectedness_CONUSnew.tif\"\n",
    "Zonation= r\"D:\\SE_Blueprint_2023\\7_CombineZonation\\CombineZonation.tif\"\n",
    "RoadX= r\"F:\\GIS_DATA\\LanduseLandcover\\WildlifeRoadCrossings\\WildlifeRoadCrossingsNCFL.gdb\\NCandFLWildlifeRoadCrossingsNoAttributes\"\n",
    "# I had to do this buffer outside of the model, because it would not buffer all point inside the model\n",
    "#RoadX210buff= r\"F:\\GIS_DATA\\LanduseLandcover\\WildlifeRoadCrossings\\NCandFLWildlifeRoadCrossings_Buffer210m.shp\"\n",
    "Road= r\"F:\\GIS_DATA\\LanduseLandcover\\WildlifeRoadCrossings\\WildlifeRoadCrossingsNCFL.gdb\\RoadsAroundNCandFLWildlifeRoadCrossings\"\n",
    "nlcd= r\"F:\\GIS_DATA\\LanduseLandcover\\NLCD\\NLCD_landcover_2019_release_all_files_20210604\\nlcd_2019_land_cover_l48_20210604\\nlcd_2019_land_cover_l48_20210604.img\"\n",
    "WBD= r\"F:\\GIS_DATA\\WaterResources\\NHD\\WBD_National_GDB\\WBD_National_GDB.gdb\\WBDHU2\""
   ]
  },
  {
   "cell_type": "markdown",
   "metadata": {},
   "source": [
    "# Start Analysis"
   ]
  },
  {
   "cell_type": "code",
   "execution_count": 7,
   "metadata": {},
   "outputs": [],
   "source": [
    "# Change the workspace to where I am saving the outputs\n",
    "arcpy.env.workspace = OutWorkspace"
   ]
  },
  {
   "cell_type": "code",
   "execution_count": 8,
   "metadata": {},
   "outputs": [
    {
     "name": "stdout",
     "output_type": "stream",
     "text": [
      "D:\\SE_Blueprint_2023\\8_PrepLinkageMapperRuns\\A_ConInlandResistance.gdb\n"
     ]
    }
   ],
   "source": [
    "# Print the current workspace to make sure I'm in the right spot\n",
    "print(arcpy.env.workspace)"
   ]
  },
  {
   "cell_type": "markdown",
   "metadata": {},
   "source": [
    "# Define inland and nearshore area\n",
    "Need to identify the area where the inland corridor analysis will occur. "
   ]
  },
  {
   "cell_type": "code",
   "execution_count": 9,
   "metadata": {},
   "outputs": [],
   "source": [
    "# make a copy of the subregion layer for edits\n",
    "with arcpy.EnvManager(outputCoordinateSystem=sr, extent=SEraster):\n",
    "    arcpy.management.CopyFeatures(subR, \"subR\", '', None, None, None)"
   ]
  },
  {
   "cell_type": "code",
   "execution_count": 10,
   "metadata": {},
   "outputs": [],
   "source": [
    "# set code block for next step\n",
    "codeblock = \"\"\"\n",
    "def Reclass(SubRgn):\n",
    "    if SubRgn in ('Marine Gulf Stream', 'Marine Shelf and Extension'):\n",
    "        return 'Marine'\n",
    "    else:\n",
    "        return 'Inland and near shore'\n",
    "\"\"\""
   ]
  },
  {
   "cell_type": "code",
   "execution_count": 11,
   "metadata": {},
   "outputs": [
    {
     "data": {
      "text/html": [
       "<div class='gpresult'><h2>Messages</h2><div id='messages' data-messages='[\"Start Time: Friday, August 18, 2023 9:18:19 PM\",\"Adding SubRgn_III to subR...\",\"Succeeded at Friday, August 18, 2023 9:18:19 PM (Elapsed Time: 0.11 seconds)\"]' data-show='true'><div id = 'default' /></div></div>"
      ],
      "text/plain": [
       "<Result 'D:\\\\SE_Blueprint_2023\\\\8_PrepLinkageMapperRuns\\\\A_ConInlandResistance.gdb\\\\subR'>"
      ]
     },
     "execution_count": 11,
     "metadata": {},
     "output_type": "execute_result"
    }
   ],
   "source": [
    "# add and calculate a field that seperates marine from the inland and near shore\n",
    "arcpy.management.CalculateField(\"subR\", \"SubRgn_III\", \"Reclass(!SubRgn!)\", \"PYTHON3\", codeblock, \"Text\")"
   ]
  },
  {
   "cell_type": "code",
   "execution_count": 12,
   "metadata": {},
   "outputs": [
    {
     "data": {
      "text/html": [
       "<div class='gpresult'><h2>Messages</h2><div id='messages' data-messages='[\"Start Time: Friday, August 18, 2023 9:18:20 PM\",\"Sorting Attributes...\",\"Dissolving...\",\"Succeeded at Friday, August 18, 2023 9:18:20 PM (Elapsed Time: 0.63 seconds)\"]' data-show='true'><div id = 'default' /></div></div>"
      ],
      "text/plain": [
       "<Result 'D:\\\\SE_Blueprint_2023\\\\8_PrepLinkageMapperRuns\\\\A_ConInlandResistance.gdb\\\\subRD'>"
      ]
     },
     "execution_count": 12,
     "metadata": {},
     "output_type": "execute_result"
    }
   ],
   "source": [
    "# dissolve into marine/inland and near shore marine\n",
    "arcpy.management.Dissolve(\"subR\", \"subRD\", \"SubRgn_III\", None, \"MULTI_PART\", \"DISSOLVE_LINES\")"
   ]
  },
  {
   "cell_type": "code",
   "execution_count": 13,
   "metadata": {},
   "outputs": [
    {
     "data": {
      "text/html": [
       "<div class='gpresult'><h2>Messages</h2><div id='messages' data-messages='[\"Start Time: Friday, August 18, 2023 9:18:20 PM\",\"Succeeded at Friday, August 18, 2023 9:18:21 PM (Elapsed Time: 0.23 seconds)\"]' data-show='true'><div id = 'default' /></div></div>"
      ],
      "text/plain": [
       "<Result 'D:\\\\SE_Blueprint_2023\\\\8_PrepLinkageMapperRuns\\\\A_ConInlandResistance.gdb\\\\InlandNearShore'>"
      ]
     },
     "execution_count": 13,
     "metadata": {},
     "output_type": "execute_result"
    }
   ],
   "source": [
    "# pull out the inland and near shore \n",
    "arcpy.analysis.Select(\"subRD\", \"InlandNearShore\", \"SubRgn_III = 'Inland and near shore'\")"
   ]
  },
  {
   "cell_type": "markdown",
   "metadata": {},
   "source": [
    "# buffer inland and nearshore extent by 26.1 km\n",
    "To try to allow corridors to connect to nearby areas outside the Southeast, we buffer it by 26.1 km \n",
    "This creates a problem in the coastal side, because we don't want to buffer into the marine environment. We take care of the problem by clipping back down to the WBD extent"
   ]
  },
  {
   "cell_type": "code",
   "execution_count": 14,
   "metadata": {},
   "outputs": [
    {
     "data": {
      "text/html": [
       "<div class='gpresult'><h2>Messages</h2><div id='messages' data-messages='[\"Start Time: Friday, August 18, 2023 9:18:21 PM\",\"Succeeded at Friday, August 18, 2023 9:18:28 PM (Elapsed Time: 7.37 seconds)\"]' data-show='true'><div id = 'default' /></div></div>"
      ],
      "text/plain": [
       "<Result 'D:\\\\SE_Blueprint_2023\\\\8_PrepLinkageMapperRuns\\\\A_ConInlandResistance.gdb\\\\InlandNearShore_Buff'>"
      ]
     },
     "execution_count": 14,
     "metadata": {},
     "output_type": "execute_result"
    }
   ],
   "source": [
    "# buffer inland and nearshore area by 26.1 km\n",
    "arcpy.analysis.Buffer(\"InlandNearShore\", \"InlandNearShore_Buff\", \"26.1 Kilometers\", \"FULL\", \"ROUND\", \"ALL\", None, \"PLANAR\")"
   ]
  },
  {
   "cell_type": "code",
   "execution_count": 15,
   "metadata": {},
   "outputs": [
    {
     "data": {
      "text/html": [
       "<div class='gpresult'><h2>Messages</h2><div id='messages' data-messages='[\"Start Time: Friday, August 18, 2023 9:18:30 PM\",\"Reading Features...\",\"Cracking Features...\",\"Assembling Features...\",\"Succeeded at Friday, August 18, 2023 9:18:34 PM (Elapsed Time: 3.50 seconds)\"]' data-show='true'><div id = 'default' /></div></div>"
      ],
      "text/plain": [
       "<Result 'D:\\\\SE_Blueprint_2023\\\\8_PrepLinkageMapperRuns\\\\A_ConInlandResistance.gdb\\\\InlandNearShore_Buff2'>"
      ]
     },
     "execution_count": 15,
     "metadata": {},
     "output_type": "execute_result"
    }
   ],
   "source": [
    "# use HUC boundary to remove buffer area along the shore\n",
    "# this still leaves extra buffer area in Mexico, but our data doesn't extend there, so it shouln't be a problem\n",
    "arcpy.analysis.Clip(\"InlandNearShore_Buff\", WBD, \"InlandNearShore_Buff2\", None)"
   ]
  },
  {
   "cell_type": "code",
   "execution_count": 16,
   "metadata": {},
   "outputs": [],
   "source": [
    "# convert to raster\n",
    "with arcpy.EnvManager(outputCoordinateSystem=sr, extent=\"InlandNearShore_Buff\", snapRaster=SEraster, cellSize=SEraster):\n",
    "    arcpy.conversion.PolygonToRaster(\"InlandNearShore_Buff2\", \"OBJECTID\", \"InlandNearShoreBuffR\", \"CELL_CENTER\", \"NONE\", SEraster)"
   ]
  },
  {
   "cell_type": "markdown",
   "metadata": {},
   "source": [
    "# Use TNC local connectedness to fill in missing areas \n",
    "Our zonation results do not extend into the buffer area, so we are using TNC's local connectedness (from the resilence data) to fill in those areas. This data is from the original TNC download, so it does not go west of the Mississippi river."
   ]
  },
  {
   "cell_type": "code",
   "execution_count": 17,
   "metadata": {},
   "outputs": [],
   "source": [
    "# clip TNC local connectedness to buffered Inland raster extent\n",
    "with arcpy.EnvManager(outputCoordinateSystem=sr, snapRaster=SEraster, cellSize=SEraster):\n",
    "    out_raster = arcpy.sa.ExtractByMask(TNCLocalCon, \"InlandNearShoreBuffR\"); out_raster.save(\"TNCLocalCon1\")"
   ]
  },
  {
   "cell_type": "code",
   "execution_count": 18,
   "metadata": {},
   "outputs": [],
   "source": [
    "# rescale the local connectedness so it will match the zonation, but I'm flipping it, making the low values high and the high values low\n",
    "out_raster = arcpy.sa.RescaleByFunction(\"TNCLocalCon1\", \"LINEAR # # # # # #\", 100, 1); out_raster.save(\"TNCLocalCon1Rescale\")"
   ]
  },
  {
   "cell_type": "code",
   "execution_count": 19,
   "metadata": {},
   "outputs": [],
   "source": [
    "# add 0.5 so that Int will round\n",
    "out_raster = arcpy.sa.Plus(\"TNCLocalCon1Rescale\", 0.5); out_raster.save(\"TNCLocalCon1Rescale1\")"
   ]
  },
  {
   "cell_type": "code",
   "execution_count": 20,
   "metadata": {},
   "outputs": [],
   "source": [
    "# make integer\n",
    "out_raster = arcpy.sa.Int(\"TNCLocalCon1Rescale1\"); out_raster.save(\"TNCLocalCon1RescaleInt1\")"
   ]
  },
  {
   "cell_type": "markdown",
   "metadata": {},
   "source": [
    "# Bring in Zonation results"
   ]
  },
  {
   "cell_type": "code",
   "execution_count": 21,
   "metadata": {},
   "outputs": [],
   "source": [
    "# flip zonation results so that high is low and low is high to make resistance layer\n",
    "out_raster = arcpy.sa.Minus(100, Zonation); out_raster.save(\"ZonationFlip\")"
   ]
  },
  {
   "cell_type": "code",
   "execution_count": 22,
   "metadata": {},
   "outputs": [
    {
     "data": {
      "text/html": [
       "<div class='gpresult'><h2>Messages</h2><div id='messages' data-messages='[\"Start Time: Friday, August 18, 2023 9:51:47 PM\",\"D:\\\\SE_Blueprint_2023\\\\8_PrepLinkageMapperRuns\\\\A_ConInlandResistance.gdb\\\\TNCLocalCon1RescaleInt1 is loading...\",\"D:\\\\SE_Blueprint_2023\\\\8_PrepLinkageMapperRuns\\\\A_ConInlandResistance.gdb\\\\ZonationFlip is loading...\",\"Succeeded at Friday, August 18, 2023 9:58:24 PM (Elapsed Time: 6 minutes 36 seconds)\"]' data-show='true'><div id = 'default' /></div></div>"
      ],
      "text/plain": [
       "<Result 'D:\\\\SE_Blueprint_2023\\\\8_PrepLinkageMapperRuns\\\\A_ConInlandResistance.gdb\\\\Mosaic'>"
      ]
     },
     "execution_count": 22,
     "metadata": {},
     "output_type": "execute_result"
    }
   ],
   "source": [
    "# mosaic the zonation results with the TNC local connectedness, keeping zonation anywhere it exists\n",
    "arcpy.management.MosaicToNewRaster([\"TNCLocalCon1RescaleInt1\", \"ZonationFlip\"], \\\n",
    "OutWorkspace, \"Mosaic\", None, \"8_BIT_UNSIGNED\", None, 1, \"LAST\", \"FIRST\")"
   ]
  },
  {
   "cell_type": "markdown",
   "metadata": {},
   "source": [
    "# Clip back down to buffered inland area \n",
    "Need to remove the coastal areas"
   ]
  },
  {
   "cell_type": "code",
   "execution_count": 23,
   "metadata": {},
   "outputs": [],
   "source": [
    "# use times to remove marine area from the mosaiced cost surface\n",
    "out_raster = arcpy.sa.Times(\"Mosaic\", \"InlandNearShoreBuffR\"); out_raster.save(\"MosaicInland\")"
   ]
  },
  {
   "cell_type": "markdown",
   "metadata": {},
   "source": [
    "# Identify estuaries to remove from inland analysis\n",
    "In the past, we have seperated the terrestrial from the estuarine and marine for corridor analysis. \n",
    "We normally do not include deep water estuaries in the inland analysis\n",
    "We normally include deep water estuaries in the marine corridor analysis\n",
    "\n",
    "This year we are still doing that, but using a new esutary layer from NWI. "
   ]
  },
  {
   "cell_type": "code",
   "execution_count": 28,
   "metadata": {},
   "outputs": [
    {
     "data": {
      "text/html": [
       "<div class='gpresult'><h2>Messages</h2><div id='messages' data-messages='[\"Start Time: Friday, August 18, 2023 10:01:02 PM\",\"Succeeded at Friday, August 18, 2023 10:01:17 PM (Elapsed Time: 14.89 seconds)\"]' data-show='true'><div id = 'default' /></div></div>"
      ],
      "text/plain": [
       "<Result 'D:\\\\SE_Blueprint_2023\\\\8_PrepLinkageMapperRuns\\\\A_ConInlandResistance.gdb\\\\estuaryDeep'>"
      ]
     },
     "execution_count": 28,
     "metadata": {},
     "output_type": "execute_result"
    }
   ],
   "source": [
    "# select out just the Estuarine and Marine Deepwater class from the NWI (not estuarine and Marine wetland)\n",
    "arcpy.analysis.Select(estuary, \"estuaryDeep\", \"WETLAND_TY = 'Estuarine and Marine Deepwater'\")"
   ]
  },
  {
   "cell_type": "code",
   "execution_count": 29,
   "metadata": {},
   "outputs": [],
   "source": [
    "# convert to raster\n",
    "with arcpy.EnvManager(outputCoordinateSystem=sr, extent=SEraster, snapRaster=SEraster, cellSize=SEraster):\n",
    "    arcpy.conversion.PolygonToRaster(\"estuaryDeep\", \"OBJECTID\", \"EstuaryDeepR\", \"CELL_CENTER\", \"NONE\", SEraster)"
   ]
  },
  {
   "cell_type": "code",
   "execution_count": 30,
   "metadata": {},
   "outputs": [],
   "source": [
    "# reclassify so I can use a times to remove deep estuaries\n",
    "with arcpy.EnvManager(outputCoordinateSystem=sr, extent=SEraster, snapRaster=SEraster, cellSize=SEraster):\n",
    "    out_raster = arcpy.sa.Reclassify(\"EstuaryDeepR\", \"Value\", \"1 10000000 NODATA;NODATA 1\", \"DATA\"); out_raster.save(\"EstuaryDeepR1\")"
   ]
  },
  {
   "cell_type": "code",
   "execution_count": 31,
   "metadata": {},
   "outputs": [],
   "source": [
    "# use times to remove estuarine area from the mosaiced cost surface\n",
    "out_raster = arcpy.sa.Times(\"MosaicInland\", \"EstuaryDeepR1\"); out_raster.save(\"MosaicInlandNoEst\")"
   ]
  },
  {
   "cell_type": "code",
   "execution_count": 32,
   "metadata": {},
   "outputs": [],
   "source": [
    "# use times to remove estuarine area from the inland mask (will be used to help build inland hubs)\n",
    "out_raster = arcpy.sa.Times(\"InlandNearShoreBuffR\", \"EstuaryDeepR1\"); out_raster.save(\"InlandNearShoreBuffRNoEst\")"
   ]
  },
  {
   "cell_type": "markdown",
   "metadata": {},
   "source": [
    "# Burn 90 meter NLCD urban in to try to influence corridors to go around\n"
   ]
  },
  {
   "cell_type": "code",
   "execution_count": 33,
   "metadata": {},
   "outputs": [],
   "source": [
    "# Make a raster where developed, high or medium intensity is 150 and everything else is 1\n",
    "with arcpy.EnvManager(outputCoordinateSystem=sr, extent=\"MosaicInlandNoEst\", snapRaster=SEraster, cellSize=SEraster):\n",
    "    out_raster = arcpy.sa.Con(nlcd, 150, '', \"Value IN (23, 24)\"); out_raster.save(\"DevHM\")"
   ]
  },
  {
   "cell_type": "code",
   "execution_count": 34,
   "metadata": {
    "scrolled": false
   },
   "outputs": [
    {
     "data": {
      "text/html": [
       "<div class='gpresult'><h2>Messages</h2><div id='messages' data-messages='[\"Start Time: Friday, August 18, 2023 10:27:19 PM\",\"Building Pyramids...\",\"Succeeded at Friday, August 18, 2023 10:27:52 PM (Elapsed Time: 32.71 seconds)\"]' data-show='true'><div id = 'default' /></div></div>"
      ],
      "text/plain": [
       "<Result 'D:\\\\SE_Blueprint_2023\\\\8_PrepLinkageMapperRuns\\\\A_ConInlandResistance.gdb\\\\DevHM_90m'>"
      ]
     },
     "execution_count": 34,
     "metadata": {},
     "output_type": "execute_result"
    }
   ],
   "source": [
    "# resample\n",
    "arcpy.management.Resample(\"DevHM\", \"DevHM_90m\", \"90 90\", \"MAJORITY\")"
   ]
  },
  {
   "cell_type": "code",
   "execution_count": 35,
   "metadata": {},
   "outputs": [],
   "source": [
    "# Combine urban with the mosaiced zonation results, using a maximum value so that these roads are very hard to cross\n",
    "with arcpy.EnvManager(outputCoordinateSystem=sr, extent=\"MosaicInlandNoEst\", snapRaster=SEraster, cellSize=SEraster):\n",
    "    out_raster = arcpy.sa.CellStatistics([\"MosaicInlandNoEst\", \"DevHM_90m\"], \"MAXIMUM\", 'DATA'); out_raster.save(\"MosaicInlandNoEstUrb\")"
   ]
  },
  {
   "cell_type": "markdown",
   "metadata": {},
   "source": [
    "# make known wildlife road crossings easy to move through\n",
    "Right now I only have a few known road crossings in eastern North Carolina, but I'm looking for more"
   ]
  },
  {
   "cell_type": "code",
   "execution_count": 36,
   "metadata": {},
   "outputs": [],
   "source": [
    "# make a copy of the road crossing data because it is being stupid\n",
    "with arcpy.EnvManager(outputCoordinateSystem=sr, extent=SEraster):\n",
    "    arcpy.management.CopyFeatures(RoadX, \"RoadX\", '', None, None, None)"
   ]
  },
  {
   "cell_type": "code",
   "execution_count": 37,
   "metadata": {},
   "outputs": [
    {
     "data": {
      "text/html": [
       "<div class='gpresult'><h2>Messages</h2><div id='messages' data-messages='[\"Start Time: Friday, August 18, 2023 10:31:31 PM\",\"Succeeded at Friday, August 18, 2023 10:31:31 PM (Elapsed Time: 0.35 seconds)\"]' data-show='true'><div id = 'default' /></div></div>"
      ],
      "text/plain": [
       "<Result 'D:\\\\SE_Blueprint_2023\\\\8_PrepLinkageMapperRuns\\\\A_ConInlandResistance.gdb\\\\RoadX210buff'>"
      ]
     },
     "execution_count": 37,
     "metadata": {},
     "output_type": "execute_result"
    }
   ],
   "source": [
    "# buffer road crossings by 210 meters\n",
    "arcpy.analysis.Buffer(\"RoadX\", \"RoadX210buff\", \"210 Meters\", \"FULL\", \"ROUND\", \"NONE\", None, \"PLANAR\")"
   ]
  },
  {
   "cell_type": "code",
   "execution_count": 39,
   "metadata": {},
   "outputs": [
    {
     "data": {
      "text/html": [
       "<div class='gpresult'><h2>Messages</h2><div id='messages' data-messages='[\"Start Time: Friday, August 18, 2023 10:38:57 PM\",\"Adding raster to RoadX210buff...\",\"Succeeded at Friday, August 18, 2023 10:38:57 PM (Elapsed Time: 0.09 seconds)\"]' data-show='true'><div id = 'default' /></div></div>"
      ],
      "text/plain": [
       "<Result 'D:\\\\SE_Blueprint_2023\\\\8_PrepLinkageMapperRuns\\\\A_ConInlandResistance.gdb\\\\RoadX210buff'>"
      ]
     },
     "execution_count": 39,
     "metadata": {},
     "output_type": "execute_result"
    }
   ],
   "source": [
    "# add and calculate field to use to raster conversion\n",
    "arcpy.management.CalculateField(\"RoadX210buff\", \"raster\", 1, \"PYTHON3\", '', \"SHORT\")"
   ]
  },
  {
   "cell_type": "code",
   "execution_count": 42,
   "metadata": {},
   "outputs": [],
   "source": [
    "# convert to raster\n",
    "with arcpy.EnvManager(outputCoordinateSystem=sr, snapRaster=SEraster, cellSize=SEraster, extent=\"MosaicInlandNoEst\"):\n",
    "    arcpy.conversion.PolygonToRaster(\"RoadX210buff\", \"raster\", \"RoadXR\", \"CELL_CENTER\", \"NONE\", SEraster)"
   ]
  },
  {
   "cell_type": "code",
   "execution_count": 43,
   "metadata": {},
   "outputs": [],
   "source": [
    "# now bring in roads around wildlife road crossings, we want to make these extra hard to move through in the \n",
    "# resistance raster\n",
    "# buffer roads around crossings by 180 meters\n",
    "with arcpy.EnvManager(outputCoordinateSystem=sr):\n",
    "    arcpy.analysis.Buffer(Road, \"Road\", \"180 Meters\", \"FULL\", \"ROUND\", \"NONE\", None, \"PLANAR\")"
   ]
  },
  {
   "cell_type": "code",
   "execution_count": 44,
   "metadata": {},
   "outputs": [],
   "source": [
    "# convert to raster\n",
    "with arcpy.EnvManager(outputCoordinateSystem=sr, snapRaster=SEraster, cellSize=SEraster, extent=\"MosaicInlandNoEst\"):\n",
    "    arcpy.conversion.PolygonToRaster(\"Road\", \"BUFF_DIST\", \"RoadR\", \"CELL_CENTER\", \"NONE\", SEraster)"
   ]
  },
  {
   "cell_type": "code",
   "execution_count": 45,
   "metadata": {},
   "outputs": [],
   "source": [
    "# reclassify roads near wildlife road crossings and give a value of 150\n",
    "out_raster = arcpy.sa.Reclassify(\"RoadR\", \"Value\", \"180 150\", \"DATA\"); out_raster.save(\"RoadR2\")"
   ]
  },
  {
   "cell_type": "code",
   "execution_count": 46,
   "metadata": {},
   "outputs": [
    {
     "data": {
      "text/html": [
       "<div class='gpresult'><h2>Messages</h2><div id='messages' data-messages='[\"Start Time: Friday, August 18, 2023 10:40:43 PM\",\"Succeeded at Friday, August 18, 2023 10:40:44 PM (Elapsed Time: 0.42 seconds)\"]' data-show='true'><div id = 'default' /></div></div>"
      ],
      "text/plain": [
       "<Result 'D:\\\\SE_Blueprint_2023\\\\8_PrepLinkageMapperRuns\\\\A_ConInlandResistance.gdb\\\\RoadX2'>"
      ]
     },
     "execution_count": 46,
     "metadata": {},
     "output_type": "execute_result"
    }
   ],
   "source": [
    "# maybe also do a larger buffer and make it low but not zero resistance\n",
    "# buffer road crossings by 450 meters\n",
    "arcpy.analysis.Buffer(RoadX, \"RoadX2\", \"900 Meters\", \"FULL\", \"ROUND\", \"NONE\", None, \"PLANAR\")"
   ]
  },
  {
   "cell_type": "code",
   "execution_count": 47,
   "metadata": {},
   "outputs": [
    {
     "data": {
      "text/html": [
       "<div class='gpresult'><h2>Messages</h2><div id='messages' data-messages='[\"Start Time: Friday, August 18, 2023 10:40:44 PM\",\"Reading Features...\",\"Cracking Features...\",\"Assembling Features...\",\"Succeeded at Friday, August 18, 2023 10:40:50 PM (Elapsed Time: 6.49 seconds)\"]' data-show='true'><div id = 'default' /></div></div>"
      ],
      "text/plain": [
       "<Result 'D:\\\\SE_Blueprint_2023\\\\8_PrepLinkageMapperRuns\\\\A_ConInlandResistance.gdb\\\\RoadX2_Erase'>"
      ]
     },
     "execution_count": 47,
     "metadata": {},
     "output_type": "execute_result"
    }
   ],
   "source": [
    "# erase road area from the larger buffered road crossing\n",
    "arcpy.analysis.Erase(\"RoadX2\", \"Road\", \"RoadX2_Erase\", None)"
   ]
  },
  {
   "cell_type": "code",
   "execution_count": 48,
   "metadata": {},
   "outputs": [
    {
     "data": {
      "text/html": [
       "<div class='gpresult'><h2>Messages</h2><div id='messages' data-messages='[\"Start Time: Friday, August 18, 2023 10:40:50 PM\",\"Adding raster to RoadX2_Erase...\",\"Succeeded at Friday, August 18, 2023 10:40:50 PM (Elapsed Time: 0.08 seconds)\"]' data-show='true'><div id = 'default' /></div></div>"
      ],
      "text/plain": [
       "<Result 'D:\\\\SE_Blueprint_2023\\\\8_PrepLinkageMapperRuns\\\\A_ConInlandResistance.gdb\\\\RoadX2_Erase'>"
      ]
     },
     "execution_count": 48,
     "metadata": {},
     "output_type": "execute_result"
    }
   ],
   "source": [
    "# add field for converting to raster\n",
    "arcpy.management.CalculateField(\n",
    "    in_table=\"RoadX2_Erase\",\n",
    "    field=\"raster\",\n",
    "    expression=\"10\",\n",
    "    expression_type=\"PYTHON3\",\n",
    "    code_block=\"\",\n",
    "    field_type=\"SHORT\",\n",
    "    enforce_domains=\"NO_ENFORCE_DOMAINS\"\n",
    ")"
   ]
  },
  {
   "cell_type": "code",
   "execution_count": 49,
   "metadata": {},
   "outputs": [],
   "source": [
    "# convert to raster\n",
    "with arcpy.EnvManager(outputCoordinateSystem=sr, snapRaster=SEraster, cellSize=SEraster, extent=\"MosaicInlandNoEst\"):\n",
    "    arcpy.conversion.PolygonToRaster(\"RoadX2_Erase\", \"raster\", \"RoadX2R\", \"CELL_CENTER\", \"NONE\", SEraster)"
   ]
  },
  {
   "cell_type": "code",
   "execution_count": 50,
   "metadata": {},
   "outputs": [],
   "source": [
    "# reclassify larger buffer and give a value of 10\n",
    "#out_raster = arcpy.sa.Reclassify(\"RoadX2R\", \"Value\", \"0 10\", \"DATA\"); out_raster.save(\"RoadX3R\")"
   ]
  },
  {
   "cell_type": "code",
   "execution_count": 51,
   "metadata": {},
   "outputs": [],
   "source": [
    "# Combine roads with the mosaiced zonation results, using a maximum value so that these roads are very hard to cross\n",
    "out_raster = arcpy.sa.CellStatistics([\"MosaicInlandNoEstUrb\", \"RoadR2\"], \"MAXIMUM\", 'DATA'); out_raster.save(\"MosaicInRoad\")"
   ]
  },
  {
   "cell_type": "code",
   "execution_count": 52,
   "metadata": {},
   "outputs": [],
   "source": [
    "# Combine above raster with the road crossing data, using a minimum value so that the areas with road crossings are\n",
    "# easier to cross\n",
    "out_raster = arcpy.sa.CellStatistics([\"MosaicInRoad\",\"RoadX2R\", \"RoadXR\"], \"MINIMUM\", 'DATA'); out_raster.save(\"MosaicInRoadX\")"
   ]
  },
  {
   "cell_type": "code",
   "execution_count": 53,
   "metadata": {},
   "outputs": [],
   "source": [
    "# use times to remove the urban and road areas that fall outside extent\n",
    "out_raster = arcpy.sa.Times(\"MosaicInRoadX\", \"InlandNearShoreBuffRNoEst\"); out_raster.save(\"MosaicInRoadXa\")"
   ]
  },
  {
   "cell_type": "markdown",
   "metadata": {},
   "source": [
    "# resample because 30 meter is too large to use with Linkage Mapper over this size area"
   ]
  },
  {
   "cell_type": "code",
   "execution_count": 54,
   "metadata": {},
   "outputs": [
    {
     "data": {
      "text/html": [
       "<div class='gpresult'><h2>Messages</h2><div id='messages' data-messages='[\"Start Time: Friday, August 18, 2023 10:50:16 PM\",\"Building Pyramids...\",\"Succeeded at Friday, August 18, 2023 10:50:50 PM (Elapsed Time: 33.90 seconds)\"]' data-show='true'><div id = 'default' /></div></div>"
      ],
      "text/plain": [
       "<Result 'D:\\\\SE_Blueprint_2023\\\\8_PrepLinkageMapperRuns\\\\Ba_Con_LM_Input.gdb\\\\Resistance'>"
      ]
     },
     "execution_count": 54,
     "metadata": {},
     "output_type": "execute_result"
    }
   ],
   "source": [
    "# might need to resample to 60 or 90 meter pixels like I had to do last year\n",
    "# I tried all the options (Nearest,Majority, Bilinear, Cubic) it is a tough call\n",
    "# the bilinear did a little better job retaining linear features\n",
    "arcpy.management.Resample(\"MosaicInRoadXa\", Out, \"90 90\", \"BILINEAR\")"
   ]
  },
  {
   "cell_type": "code",
   "execution_count": 55,
   "metadata": {},
   "outputs": [
    {
     "name": "stdout",
     "output_type": "stream",
     "text": [
      "5552.595414876938\n"
     ]
    }
   ],
   "source": [
    "end = time.time()\n",
    "print(end - start)"
   ]
  },
  {
   "cell_type": "code",
   "execution_count": null,
   "metadata": {},
   "outputs": [],
   "source": []
  },
  {
   "cell_type": "code",
   "execution_count": null,
   "metadata": {},
   "outputs": [],
   "source": []
  },
  {
   "cell_type": "code",
   "execution_count": null,
   "metadata": {},
   "outputs": [],
   "source": []
  },
  {
   "cell_type": "code",
   "execution_count": null,
   "metadata": {},
   "outputs": [],
   "source": []
  },
  {
   "cell_type": "code",
   "execution_count": null,
   "metadata": {},
   "outputs": [],
   "source": []
  },
  {
   "cell_type": "code",
   "execution_count": null,
   "metadata": {},
   "outputs": [],
   "source": []
  },
  {
   "cell_type": "code",
   "execution_count": null,
   "metadata": {},
   "outputs": [],
   "source": []
  },
  {
   "cell_type": "code",
   "execution_count": null,
   "metadata": {},
   "outputs": [],
   "source": []
  },
  {
   "cell_type": "markdown",
   "metadata": {},
   "source": [
    "# bring in potential corridors\n",
    "In the 2021 South Atlantic Blueprint, we used a new method where we use corridors from other projects to try to help keep corridors more stable. The idea is that we use our old corridors and corridors from other projects and use them to limit the resistance raster to try to get corridors to move through them.\n",
    "\n",
    "Since we didn't have previous corridors for the whole Base Blueprint area, we didn't do that this year. We expect to pick this back up in 2023 base blueprint."
   ]
  },
  {
   "cell_type": "code",
   "execution_count": null,
   "metadata": {},
   "outputs": [],
   "source": [
    "# Make eastern wildway core a raster\n",
    "#with arcpy.EnvManager(outputCoordinateSystem=sr, extent=\"InlandR\", snapRaster=SAraster, cellSize=SAraster):\n",
    "#    arcpy.conversion.FeatureToRaster(EWCore, \"Id\", \"EWCore\", 30)"
   ]
  },
  {
   "cell_type": "code",
   "execution_count": null,
   "metadata": {},
   "outputs": [],
   "source": [
    "# Make eastern wildway corridor a raster\n",
    "#with arcpy.EnvManager(outputCoordinateSystem=sr, extent=\"InlandR\", snapRaster=SAraster, cellSize=SAraster):\n",
    "#    arcpy.conversion.FeatureToRaster(EWCorr, \"Id\", \"EWCorr\", 30)"
   ]
  },
  {
   "cell_type": "code",
   "execution_count": null,
   "metadata": {},
   "outputs": [],
   "source": [
    "# Make SA 2020 hub a raster\n",
    "#with arcpy.EnvManager(outputCoordinateSystem=sr, extent=\"InlandR\", snapRaster=SAraster, cellSize=SAraster):\n",
    "#    arcpy.conversion.FeatureToRaster(SA20Hub, \"GRIDCODE\", \"SA20Hub\", 30)"
   ]
  },
  {
   "cell_type": "code",
   "execution_count": null,
   "metadata": {},
   "outputs": [],
   "source": [
    "# Select out top portion of SA 2020 linkagemapper corridor output\n",
    "# I'm picking 500000 as a cutoff, It may be helpful to move that around in testing\n",
    "# could try 1000000 or 1200000\n",
    "#with arcpy.EnvManager(outputCoordinateSystem=sr, extent=\"InlandR\", snapRaster=SAraster, cellSize=SAraster):\n",
    "#    out_raster = arcpy.sa.Con(SA20Cor, 1, None, \"Value < 500000\"); out_raster.save(\"SA20Cor\")"
   ]
  },
  {
   "cell_type": "code",
   "execution_count": null,
   "metadata": {},
   "outputs": [],
   "source": [
    "# combine potential cores/corridors\n",
    "#out_raster = arcpy.sa.CellStatistics([\"EWCore\",\"EWCorr\",\"SA20Hub\", \"SA20Cor\"], \"MAXIMUM\", 'DATA'); out_raster.save(\"Prev\")"
   ]
  },
  {
   "cell_type": "code",
   "execution_count": null,
   "metadata": {},
   "outputs": [],
   "source": [
    "#reclassify \n",
    "#out_raster = arcpy.sa.Reclassify(\"Prev\", \"Value\", \"0 500 1;NODATA 0\", \"DATA\"); out_raster.save(\"Prev1\")"
   ]
  },
  {
   "cell_type": "code",
   "execution_count": null,
   "metadata": {},
   "outputs": [],
   "source": [
    "# change NODATA to zero so expand will work\n",
    "#out_raster = arcpy.sa.Reclassify(\"Prev\", \"Value\", \"1 1; 0 0; NODATA 0\", \"DATA\"); out_raster.save(\"Top10zROW2\")"
   ]
  },
  {
   "cell_type": "code",
   "execution_count": null,
   "metadata": {},
   "outputs": [],
   "source": [
    "# expand to get rid of small gaps\n",
    "#out_raster = arcpy.sa.Expand(\"Prev1\", 2, 1, ''); out_raster.save(\"Prev2\")"
   ]
  },
  {
   "cell_type": "code",
   "execution_count": null,
   "metadata": {},
   "outputs": [],
   "source": [
    "# shrink to bring it back to size\n",
    "#out_raster = arcpy.sa.Shrink(\"Prev2\", 2, 1, ''); out_raster.save(\"Prev3\")"
   ]
  },
  {
   "cell_type": "code",
   "execution_count": null,
   "metadata": {},
   "outputs": [],
   "source": [
    "# change 0 to NoData\n",
    "#out_raster = arcpy.sa.Reclassify(\"Prev3\", \"Value\", \"1 1;0 NODATA\", \"DATA\"); out_raster.save(\"Prev4\")"
   ]
  },
  {
   "cell_type": "markdown",
   "metadata": {},
   "source": [
    "# limit resistance raster to areas around previous corridors"
   ]
  },
  {
   "cell_type": "code",
   "execution_count": null,
   "metadata": {},
   "outputs": [],
   "source": [
    "# limit resistance raster to areas around previous corridors, this is the most dramatic option and does not allow\n",
    "# linkagemapper to even consider areas that were not around previous corridors\n",
    "#with arcpy.EnvManager(outputCoordinateSystem=sr, mask=\"InlandR\", snapRaster=SAraster, cellSize=SAraster):\n",
    "#    out_raster = arcpy.sa.ExtractByMask(\"MosaicInRoadX\", \"Prev4\"); out_raster.save(\"ResistanceTest7\")"
   ]
  },
  {
   "cell_type": "markdown",
   "metadata": {},
   "source": [
    "# clip to test area"
   ]
  },
  {
   "cell_type": "code",
   "execution_count": null,
   "metadata": {},
   "outputs": [],
   "source": [
    "# clip to a test area so I can see how it is working\n",
    "#with arcpy.EnvManager(outputCoordinateSystem=sr, extent=Pextent):\n",
    "#    out_raster = arcpy.sa.Times(\"ResistanceTest7_90mBilinear\", 1); out_raster.save(\"ResistanceTest7_90mBilinearTest\")"
   ]
  },
  {
   "cell_type": "markdown",
   "metadata": {},
   "source": [
    "# Explore smoothing out the estuaries layer\n",
    "The estuaries layer is very detailed and has lots of islands created by narrow estuaries and canals. \n",
    "\n",
    "Do we want inland corridors to be able to go to those islands? If so, we need to connect them to the mainland by smoothing out and removing the narrow \"estuaries\"\n",
    "\n",
    "I didn't use this in the test, but I'm keeping it in case we need it after testing"
   ]
  },
  {
   "cell_type": "code",
   "execution_count": null,
   "metadata": {},
   "outputs": [],
   "source": [
    "# expand by 1 cells to try to close off rivers but leave estuaries\n",
    "#out_raster = arcpy.sa.Expand(\"InlandR\", 1, [1], \"MORPHOLOGICAL\"); out_raster.save(\"InlandREx1\")"
   ]
  },
  {
   "cell_type": "code",
   "execution_count": null,
   "metadata": {},
   "outputs": [],
   "source": [
    "# shrink above raster to return to something close to previous shoreline, but it will be smoothed some\n",
    "#out_raster = arcpy.sa.Shrink(\"InlandREx1\", 1, [1]); out_raster.save(\"InlandRExSh1\")"
   ]
  },
  {
   "cell_type": "code",
   "execution_count": null,
   "metadata": {},
   "outputs": [],
   "source": [
    "# expand by 2 cells to try to close off rivers but leave estuaries\n",
    "#out_raster = arcpy.sa.Expand(\"InlandR\", 2, [1], \"MORPHOLOGICAL\"); out_raster.save(\"InlandREx2\")"
   ]
  },
  {
   "cell_type": "code",
   "execution_count": null,
   "metadata": {},
   "outputs": [],
   "source": [
    "# shrink above raster to return to something close to previous shoreline, but it will be smoothed some\n",
    "#out_raster = arcpy.sa.Shrink(\"InlandREx2\", 2, [1]); out_raster.save(\"InlandRExSh2\")"
   ]
  },
  {
   "cell_type": "code",
   "execution_count": null,
   "metadata": {},
   "outputs": [],
   "source": [
    "# expand by 3 cells to try to close off rivers but leave estuaries\n",
    "#out_raster = arcpy.sa.Expand(\"InlandR\", 3, [1], \"MORPHOLOGICAL\"); out_raster.save(\"InlandREx3\")"
   ]
  },
  {
   "cell_type": "code",
   "execution_count": null,
   "metadata": {},
   "outputs": [],
   "source": [
    "# shrink above raster to return to something close to previous shoreline, but it will be smoothed some\n",
    "# this cuts off a lot of estuaries at the neck and makes isolated areas\n",
    "#out_raster = arcpy.sa.Shrink(\"InlandREx3\", 3, [1]); out_raster.save(\"InlandRExSh3\")"
   ]
  },
  {
   "cell_type": "code",
   "execution_count": null,
   "metadata": {},
   "outputs": [],
   "source": [
    "# expand by 4 cells to try to close off rivers but leave estuaries\n",
    "# this cuts off a lot of estuaries at the neck and makes isolated areas\n",
    "#out_raster = arcpy.sa.Expand(\"InlandR\", 4, [1], \"MORPHOLOGICAL\"); out_raster.save(\"InlandREx4\")"
   ]
  },
  {
   "cell_type": "code",
   "execution_count": null,
   "metadata": {},
   "outputs": [],
   "source": [
    "# shrink above raster to return to something close to previous shoreline, but it will be smoothed some\n",
    "#out_raster = arcpy.sa.Shrink(\"InlandREx4\", 4, [1]); out_raster.save(\"InlandRExSh4\")"
   ]
  },
  {
   "cell_type": "code",
   "execution_count": null,
   "metadata": {},
   "outputs": [],
   "source": []
  },
  {
   "cell_type": "code",
   "execution_count": null,
   "metadata": {},
   "outputs": [],
   "source": []
  }
 ],
 "metadata": {
  "kernelspec": {
   "display_name": "ArcGISPro",
   "language": "Python",
   "name": "python3"
  },
  "language_info": {
   "file_extension": ".py",
   "name": "python",
   "version": "3"
  }
 },
 "nbformat": 4,
 "nbformat_minor": 2
}
