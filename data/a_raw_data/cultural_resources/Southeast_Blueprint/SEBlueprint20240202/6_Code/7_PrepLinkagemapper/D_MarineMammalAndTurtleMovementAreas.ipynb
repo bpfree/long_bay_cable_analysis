{
 "cells": [
  {
   "cell_type": "markdown",
   "metadata": {},
   "source": [
    "# Marine mammal and turtle movement areas\n",
    "This code creates areas to use as a mask in 2023 Southeast Conservation Blueprint marine corridors analysis\n",
    "\n",
    "Code written by Rua Mordecai "
   ]
  },
  {
   "cell_type": "code",
   "execution_count": 1,
   "metadata": {},
   "outputs": [],
   "source": [
    "import os, string\n",
    "import arcpy"
   ]
  },
  {
   "cell_type": "code",
   "execution_count": 2,
   "metadata": {},
   "outputs": [],
   "source": [
    "# define spatial reference and workspaces\n",
    "sr= arcpy.SpatialReference(5070)\n",
    "OutWorkspace = \"D:/Blueprint/2023/corridors/MarineMammalMovement/working\""
   ]
  },
  {
   "cell_type": "code",
   "execution_count": 3,
   "metadata": {},
   "outputs": [],
   "source": [
    "# define final output name\n",
    "maskFileName = \"MarineMammalAndTurtleMovementAreas.tif\""
   ]
  },
  {
   "cell_type": "code",
   "execution_count": 4,
   "metadata": {},
   "outputs": [],
   "source": [
    "# define rasters used for cell size, extent, and snapping\n",
    "MarineRaster = r\"D:\\Blueprint\\2023\\extent\\Marine_Extent_v1.tif\""
   ]
  },
  {
   "cell_type": "code",
   "execution_count": 5,
   "metadata": {},
   "outputs": [],
   "source": [
    "# species data folder\n",
    "speciesFolder = r\"D:\\Blueprint\\2023\\corridors\\MarineMammalMovement\\speciesData\""
   ]
  },
  {
   "cell_type": "code",
   "execution_count": 6,
   "metadata": {},
   "outputs": [],
   "source": [
    "# pilot whale data. Unlike the other species, this only has one yearly layer so we treat it differently\n",
    "AtlanticPilot = r\"D:\\Blueprint\\2023\\corridors\\MarineMammalMovement\\speciesData\\PIWH_v7_density.img\""
   ]
  },
  {
   "cell_type": "code",
   "execution_count": 7,
   "metadata": {},
   "outputs": [],
   "source": [
    "# Sometimes arcpro is fussy about not overwriting things\n",
    "arcpy.env.overwriteOutput = True"
   ]
  },
  {
   "cell_type": "markdown",
   "metadata": {
    "heading_collapsed": true
   },
   "source": [
    "### Combine marine mammal monthly abundance"
   ]
  },
  {
   "cell_type": "code",
   "execution_count": 24,
   "metadata": {
    "hidden": true
   },
   "outputs": [],
   "source": [
    "# Set the workspace where the marine mammal monthly data are stored\n",
    "arcpy.env.workspace = speciesFolder"
   ]
  },
  {
   "cell_type": "code",
   "execution_count": 25,
   "metadata": {
    "hidden": true
   },
   "outputs": [],
   "source": [
    "# find all the species rasters\n",
    "speciesFileList = arcpy.ListRasters()"
   ]
  },
  {
   "cell_type": "code",
   "execution_count": 26,
   "metadata": {
    "hidden": true
   },
   "outputs": [],
   "source": [
    "# make empty lists for the individual species\n",
    "pilotList = []\n",
    "riceList = []\n",
    "loggerheadList = []\n",
    "kempsList = []\n",
    "rightList = []\n",
    "humpbackList = []"
   ]
  },
  {
   "cell_type": "code",
   "execution_count": 27,
   "metadata": {
    "hidden": true
   },
   "outputs": [],
   "source": [
    "# make species specific file lists\n",
    "for i in speciesFileList:\n",
    "    if i[0:5] == \"Pilot\":\n",
    "        pilotList.append(i)\n",
    "    elif i[0:5] == \"Rices\":\n",
    "        riceList.append(i)    \n",
    "    elif i[0:5] == \"logge\":\n",
    "        loggerheadList.append(i)\n",
    "    elif i[0:5] == \"kemps\":\n",
    "        kempsList.append(i)\n",
    "    elif i[0:5] == \"NARW_\":\n",
    "        rightList.append(i)\n",
    "    elif i[0:5] == \"HUWH_\":\n",
    "        humpbackList.append(i)    \n",
    "    else:\n",
    "        print(\"error in species list\")"
   ]
  },
  {
   "cell_type": "code",
   "execution_count": 28,
   "metadata": {
    "hidden": true
   },
   "outputs": [],
   "source": [
    "# make a consecutive list of letters for the 12 months of data for each raster\n",
    "formulaLetters = list(string.ascii_lowercase)[:12]"
   ]
  },
  {
   "cell_type": "code",
   "execution_count": 29,
   "metadata": {
    "hidden": true
   },
   "outputs": [],
   "source": [
    "# make a formula using those letters\n",
    "spFormula = ''\n",
    "for i in formulaLetters:\n",
    "    spFormula += i + \" + \"\n",
    "# remove the last + from the formula\n",
    "spFormula = spFormula[:-3]    "
   ]
  },
  {
   "cell_type": "code",
   "execution_count": 34,
   "metadata": {
    "hidden": true
   },
   "outputs": [],
   "source": [
    "#Sum pilot whale rasters\n",
    "output_raster = arcpy.sa.RasterCalculator(pilotList,formulaLetters,spFormula); output_raster.save(OutWorkspace + \"/\" + \"pilotSum.tif\")"
   ]
  },
  {
   "cell_type": "code",
   "execution_count": 35,
   "metadata": {
    "hidden": true
   },
   "outputs": [],
   "source": [
    "#Sum rice whale rasters\n",
    "output_raster = arcpy.sa.RasterCalculator(riceList,formulaLetters,spFormula); output_raster.save(OutWorkspace + \"/\" + \"riceSum.tif\")"
   ]
  },
  {
   "cell_type": "code",
   "execution_count": 13,
   "metadata": {
    "hidden": true
   },
   "outputs": [],
   "source": [
    "#Sum gulf loggerhead sea turtle rasters\n",
    "output_raster = arcpy.sa.RasterCalculator(loggerheadList,formulaLetters,spFormula); output_raster.save(OutWorkspace + \"/\" + \"loggerheadSum.tif\")"
   ]
  },
  {
   "cell_type": "code",
   "execution_count": 14,
   "metadata": {
    "hidden": true
   },
   "outputs": [],
   "source": [
    "#Sum gulf kemps sea turtle rasters\n",
    "output_raster = arcpy.sa.RasterCalculator(kempsList,formulaLetters,spFormula); output_raster.save(OutWorkspace + \"/\" + \"kempsSum.tif\")"
   ]
  },
  {
   "cell_type": "code",
   "execution_count": 22,
   "metadata": {
    "hidden": true
   },
   "outputs": [],
   "source": [
    "#Sum Atlantic Right whale rasters\n",
    "output_raster = arcpy.sa.RasterCalculator(rightList,formulaLetters,spFormula); output_raster.save(OutWorkspace + \"/\" + \"rightSum.tif\")"
   ]
  },
  {
   "cell_type": "code",
   "execution_count": 23,
   "metadata": {
    "hidden": true
   },
   "outputs": [],
   "source": [
    "#Sum Atlantic humpback whale rasters\n",
    "output_raster = arcpy.sa.RasterCalculator(humpbackList,formulaLetters,spFormula); output_raster.save(OutWorkspace + \"/\" + \"humpbackSum.tif\")"
   ]
  },
  {
   "cell_type": "markdown",
   "metadata": {},
   "source": [
    "## Apply species specific cutoffs"
   ]
  },
  {
   "cell_type": "code",
   "execution_count": 8,
   "metadata": {},
   "outputs": [],
   "source": [
    "# Change the workspace to where I am saving the outputs\n",
    "arcpy.env.workspace = OutWorkspace"
   ]
  },
  {
   "cell_type": "code",
   "execution_count": 8,
   "metadata": {},
   "outputs": [],
   "source": [
    "# reclassify species using the top 70% based on a 10 class quantile classification"
   ]
  },
  {
   "cell_type": "code",
   "execution_count": 9,
   "metadata": {},
   "outputs": [],
   "source": [
    "out_raster = arcpy.sa.Reclassify(\"riceSum.tif\", \"Value\", \"0 0.097 0;0.097 8.135 1\", \"DATA\"); out_raster.save(\"riceBin.tif\")"
   ]
  },
  {
   "cell_type": "code",
   "execution_count": 31,
   "metadata": {},
   "outputs": [],
   "source": [
    "# for this species only include the top 60% to make more cohesive and selective corridors\n",
    "out_raster = arcpy.sa.Reclassify(\"pilotSum.tif\", \"Value\", \"0 1.183 0;1.183 21.543 1\", \"DATA\"); out_raster.save(\"pilotBin.tif\")"
   ]
  },
  {
   "cell_type": "code",
   "execution_count": 32,
   "metadata": {},
   "outputs": [],
   "source": [
    "# for this species only include the top 50% to make more cohesive and selective corridors\n",
    "out_raster = arcpy.sa.Reclassify(\"loggerheadSum.tif\", \"Value\", \"0 149.581 0;149.581 2007.517 1\", \"DATA\"); out_raster.save(\"loggerheadBin.tif\")"
   ]
  },
  {
   "cell_type": "code",
   "execution_count": 13,
   "metadata": {},
   "outputs": [],
   "source": [
    "out_raster = arcpy.sa.Reclassify(\"kempsSum.tif\", \"Value\", \"0 39.072 0;39.072 2490.783 1\", \"DATA\"); out_raster.save(\"kempsBin.tif\")"
   ]
  },
  {
   "cell_type": "code",
   "execution_count": 12,
   "metadata": {},
   "outputs": [],
   "source": [
    "out_raster = arcpy.sa.Reclassify(\"rightSum.tif\", \"Value\", \"0 0.198 0;0.198 25.137 1\", \"DATA\"); out_raster.save(\"rightBin.tif\")"
   ]
  },
  {
   "cell_type": "code",
   "execution_count": 10,
   "metadata": {},
   "outputs": [],
   "source": [
    "# This one has a defined threshold of 0.4 to created a complete corridor for the species and match the 2022 approach\n",
    "out_raster = arcpy.sa.Reclassify(\"humpbackSum.tif\", \"Value\", \"0 0.04 0;0.04 45.723 1\", \"DATA\"); out_raster.save(\"humpbackBin.tif\")"
   ]
  },
  {
   "cell_type": "code",
   "execution_count": 11,
   "metadata": {},
   "outputs": [],
   "source": [
    "out_raster = arcpy.sa.Reclassify(AtlanticPilot, \"Value\", \"0 0.7889 0;0.7889 100.6 1\", \"DATA\"); out_raster.save(\"atlanticPilotBin.tif\")"
   ]
  },
  {
   "cell_type": "markdown",
   "metadata": {},
   "source": [
    "### Combine species corridors"
   ]
  },
  {
   "cell_type": "code",
   "execution_count": 9,
   "metadata": {},
   "outputs": [],
   "source": [
    "# combine gulf species corridors (loggerhead, kemps, rices, and pilot) and align with Marine extent\n",
    "with arcpy.EnvManager(outputCoordinateSystem=sr, extent=MarineRaster, snapRaster=MarineRaster, cellSize=MarineRaster):\n",
    "    out_raster = arcpy.sa.CellStatistics(\"kempsBin.tif;loggerheadBin.tif;pilotBin.tif;riceBin.tif\", \"MAXIMUM\", \"DATA\", \"SINGLE_BAND\"); out_raster.save(\"GulfCorridor.tif\")"
   ]
  },
  {
   "cell_type": "code",
   "execution_count": 10,
   "metadata": {},
   "outputs": [],
   "source": [
    "# combine atlantic species corridors (right, pilot, and humpback) and align with Marine extent\n",
    "with arcpy.EnvManager(outputCoordinateSystem=sr, extent=MarineRaster, snapRaster=MarineRaster, cellSize=MarineRaster):\n",
    "    out_raster = arcpy.sa.CellStatistics(\"rightBin.tif;humpbackBin.tif;atlanticPilotBin.tif\", \"MAXIMUM\", \"DATA\", \"SINGLE_BAND\"); out_raster.save(\"AtlanticCorridor.tif\")"
   ]
  },
  {
   "cell_type": "code",
   "execution_count": 11,
   "metadata": {},
   "outputs": [
    {
     "data": {
      "text/html": [
       "<div class='gpresult'><h2>Messages</h2><div id='messages' data-messages='[\"Start Time: Friday, August 25, 2023 2:29:00 PM\",\"Building Pyramids...\",\"Succeeded at Friday, August 25, 2023 2:34:04 PM (Elapsed Time: 5 minutes 3 seconds)\"]' data-show='true'><div id = 'default' /></div></div>"
      ],
      "text/plain": [
       "<Result 'D:/Blueprint/2023/corridors/MarineMammalMovement/working\\\\MarineMammalAndTurtleMovementAreas.tif'>"
      ]
     },
     "execution_count": 11,
     "metadata": {},
     "output_type": "execute_result"
    }
   ],
   "source": [
    "# combine gulf and atlantic corridors. For overlap areas use the maximum value\n",
    "arcpy.management.MosaicToNewRaster([\"GulfCorridor.tif\", \"AtlanticCorridor.tif\"], OutWorkspace, maskFileName,\"\",\"\",\"\", 1,\"MAXIMUM\")"
   ]
  },
  {
   "cell_type": "code",
   "execution_count": null,
   "metadata": {},
   "outputs": [],
   "source": []
  }
 ],
 "metadata": {
  "kernelspec": {
   "display_name": "ArcGISPro",
   "language": "Python",
   "name": "python3"
  },
  "language_info": {
   "file_extension": ".py",
   "name": "python",
   "version": "3"
  }
 },
 "nbformat": 4,
 "nbformat_minor": 2
}
