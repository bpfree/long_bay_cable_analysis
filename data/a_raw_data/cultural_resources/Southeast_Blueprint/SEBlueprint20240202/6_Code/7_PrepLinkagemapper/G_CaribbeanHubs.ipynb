{
 "cells": [
  {
   "cell_type": "markdown",
   "metadata": {},
   "source": [
    "# This is the second step in running corridor analysis for the Caribbean portion of the blueprint\n",
    "\n",
    "\n",
    "\n",
    "Created by Amy Keister, last run by Amy Keister on 9/6/2023. It took less than a minute to run. "
   ]
  },
  {
   "cell_type": "code",
   "execution_count": 70,
   "metadata": {},
   "outputs": [],
   "source": [
    "import os\n",
    "import arcpy\n",
    "import numpy"
   ]
  },
  {
   "cell_type": "code",
   "execution_count": 71,
   "metadata": {},
   "outputs": [],
   "source": [
    "import time\n",
    "start = time.time()"
   ]
  },
  {
   "cell_type": "code",
   "execution_count": 72,
   "metadata": {},
   "outputs": [],
   "source": [
    "# define spatial reference and workspaces\n",
    "sr= arcpy.SpatialReference(5070)\n",
    "#SourceWorkspace = \n",
    "OutWorkspace = r\"D:\\SE_Blueprint_2023\\8_PrepLinkageMapperRuns\\H_VIPRhubs.gdb\""
   ]
  },
  {
   "cell_type": "code",
   "execution_count": 96,
   "metadata": {},
   "outputs": [],
   "source": [
    "# define final outputs\n",
    "Hub= r\"D:\\SE_Blueprint_2023\\8_PrepLinkageMapperRuns\\Ha_VIPR_LM_Input.gdb\\Hubs\""
   ]
  },
  {
   "cell_type": "code",
   "execution_count": 74,
   "metadata": {},
   "outputs": [],
   "source": [
    "# define rasters used for cell size, extent, and snapping\n",
    "Rextent= r\"D:\\SE_Blueprint_2023\\1_VIPR_Extent\\VIPR_Extent_v6.tif\""
   ]
  },
  {
   "cell_type": "code",
   "execution_count": 75,
   "metadata": {},
   "outputs": [],
   "source": [
    "# define additional inputs\n",
    "Zonation= r\"D:\\SE_Blueprint_2023\\7_CombineZonation\\CombineZonation.tif\"\n",
    "PADFee= r\"F:\\GIS_DATA\\ProtectedLands\\PADUS3_0Geodatabase\\PAD_US3_0.gdb\\PADUS3_0Fee\"\n",
    "PADEasement = r\"F:\\GIS_DATA\\ProtectedLands\\PADUS3_0Geodatabase\\PAD_US3_0.gdb\\PADUS3_0Easement\""
   ]
  },
  {
   "cell_type": "markdown",
   "metadata": {},
   "source": [
    "# Start Analysis"
   ]
  },
  {
   "cell_type": "code",
   "execution_count": 76,
   "metadata": {},
   "outputs": [],
   "source": [
    "# Change the workspace to where I am saving the outputs\n",
    "arcpy.env.workspace = OutWorkspace"
   ]
  },
  {
   "cell_type": "code",
   "execution_count": 77,
   "metadata": {},
   "outputs": [
    {
     "name": "stdout",
     "output_type": "stream",
     "text": [
      "D:\\SE_Blueprint_2023\\8_PrepLinkageMapperRuns\\H_VIPRhubs.gdb\n"
     ]
    }
   ],
   "source": [
    "# Print the current workspace to make sure I'm in the right spot\n",
    "print(arcpy.env.workspace)"
   ]
  },
  {
   "cell_type": "markdown",
   "metadata": {},
   "source": [
    "# Identify areas in the top 10% of the zonation runs"
   ]
  },
  {
   "cell_type": "code",
   "execution_count": 78,
   "metadata": {},
   "outputs": [],
   "source": [
    "# take zonation times 100\n",
    "# I only needed this on the workshop run where I didn't start with the combined zonation raster\n",
    "#out_raster = arcpy.sa.Times(Zonation, 100); out_raster.save(\"Zonation100\")"
   ]
  },
  {
   "cell_type": "code",
   "execution_count": 79,
   "metadata": {},
   "outputs": [],
   "source": [
    "# convert to integer\n",
    "# I only needed this on the workshop run where I didn't start with the combined zonation raster\n",
    "#out_raster = arcpy.sa.Int(\"Zonation100\"); out_raster.save(\"Zonation100Int\")"
   ]
  },
  {
   "cell_type": "code",
   "execution_count": 81,
   "metadata": {},
   "outputs": [],
   "source": [
    "# use a conditional statement to pull out the top 10%, use environemnts to clip to inland\n",
    "with arcpy.EnvManager(outputCoordinateSystem=sr, extent=Rextent, snapRaster=Rextent, cellSize=Rextent, mask=Rextent):\n",
    "    out_raster = arcpy.sa.Con(Zonation, 1, 0, \"VALUE >90\"); out_raster.save(\"Top10\")"
   ]
  },
  {
   "cell_type": "code",
   "execution_count": 82,
   "metadata": {},
   "outputs": [],
   "source": [
    "# reclassify to turn NoData into 0\n",
    "# 0 1 is <=1 (1 is included)\n",
    "# 1 5 is >1 - 5 (1 is not included, 5 is included)\n",
    "# 5 20 is >5 - 20 (5 is not included, 20 is included)\n",
    "out_raster = arcpy.sa.Reclassify(\"Top10\", \"Value\", \"0 0;1 1;NODATA 0\", \"DATA\"); out_raster.save(\"Top10z\")"
   ]
  },
  {
   "cell_type": "markdown",
   "metadata": {},
   "source": [
    "# Bring in Protected Areas\n",
    "In the South Atlantic we used TNC's secured areas, and we had it pretty figured out what to keep and remove. I'm learning on \n",
    "PADUS 2.1 Combined Fee, Easement, but we need to keep an eye out for improvements\n",
    "I checked and it doesn't seem like this layer includes department of defense lands like Army or Air force bases, so no need to remove them"
   ]
  },
  {
   "cell_type": "code",
   "execution_count": 83,
   "metadata": {},
   "outputs": [],
   "source": [
    "# Bring in PADUS 3.0. national geodatabase download doesn't have it's own combined Fee and Easement layer, so we have to create it. Combined Fee, Easement \n",
    "with arcpy.EnvManager(outputCoordinateSystem=sr, extent=Rextent):\n",
    "    arcpy.analysis.Union([PADFee,PADEasement], \"PadFeeEase\", \"ALL\", None, \"GAPS\")"
   ]
  },
  {
   "cell_type": "code",
   "execution_count": 84,
   "metadata": {},
   "outputs": [
    {
     "data": {
      "text/html": [
       "<div class='gpresult'><h2>Messages</h2><div id='messages' data-messages='[\"Start Time: Wednesday, September 6, 2023 11:45:26 AM\",\"Adding raster to PadFeeEase...\",\"Succeeded at Wednesday, September 6, 2023 11:45:27 AM (Elapsed Time: 0.45 seconds)\"]' data-show='true'><div id = 'default' /></div></div>"
      ],
      "text/plain": [
       "<Result 'PadFeeEase'>"
      ]
     },
     "execution_count": 84,
     "metadata": {},
     "output_type": "execute_result"
    }
   ],
   "source": [
    "# add field to use to convert to raster\n",
    "arcpy.management.CalculateField(\"PadFeeEase\", \"raster\", \"1\", \"PYTHON3\", '', \"SHORT\", \"NO_ENFORCE_DOMAINS\")"
   ]
  },
  {
   "cell_type": "code",
   "execution_count": 85,
   "metadata": {},
   "outputs": [],
   "source": [
    "# convert to raster\n",
    "with arcpy.EnvManager(outputCoordinateSystem=sr, snapRaster=Rextent, cellSize=Rextent, extent=Rextent):\n",
    "    arcpy.conversion.PolygonToRaster(\"PadFeeEase\", \"raster\", \"PAD\", \"CELL_CENTER\", \"NONE\", Rextent)"
   ]
  },
  {
   "cell_type": "markdown",
   "metadata": {},
   "source": [
    "# Combine 2 potential hub layers "
   ]
  },
  {
   "cell_type": "code",
   "execution_count": 86,
   "metadata": {},
   "outputs": [],
   "source": [
    "# combine rasters, keeping max value\n",
    "out_raster = arcpy.sa.CellStatistics([\"Top10z\", \"PAD\"],\\\n",
    "\"MAXIMUM\", \"DATA\", \"SINGLE_BAND\"); out_raster.save(\"PotHub\")"
   ]
  },
  {
   "cell_type": "code",
   "execution_count": null,
   "metadata": {},
   "outputs": [],
   "source": []
  },
  {
   "cell_type": "markdown",
   "metadata": {},
   "source": [
    "# Calculate size of potential hubs"
   ]
  },
  {
   "cell_type": "code",
   "execution_count": 87,
   "metadata": {},
   "outputs": [],
   "source": [
    "# use region group to create clumps of isolated potential hubs\n",
    "out_raster = arcpy.sa.RegionGroup(\"PotHub\", \"EIGHT\", '', '', '0'); out_raster.save(\"PotHubRG\")"
   ]
  },
  {
   "cell_type": "code",
   "execution_count": 88,
   "metadata": {},
   "outputs": [],
   "source": [
    "# pull out clumps that are larger than 2,000 ha (5,000 acres), keep their region group value\n",
    "# this is for the 30 meter resolution version\n",
    "#out_raster = arcpy.sa.Con(\"PotHub3a\", \"PotHub3a\", '', \"Count > 22482 And Link = 1\"); out_raster.save(\"PotHub4\")"
   ]
  },
  {
   "cell_type": "code",
   "execution_count": 89,
   "metadata": {},
   "outputs": [],
   "source": [
    "# pull out clumps that are larger than 2,000 ha (5,000 acres), keep their region group value\n",
    "# this is for the 90 meter resolution version\n",
    "#out_raster = arcpy.sa.Con(\"PotHuba\", \"PotHuba\", '', \"Count > 2498 And Link = 1\"); out_raster.save(\"PotHub4\")"
   ]
  },
  {
   "cell_type": "code",
   "execution_count": 90,
   "metadata": {},
   "outputs": [],
   "source": [
    "# pull out clumps that are larger than 200 ha (500 acres), keep their region group value\n",
    "# this is for the 30 meter resolution version\n",
    "out_raster = arcpy.sa.Con(\"PotHubRG\", \"PotHubRG\", '', \"Count > 2222 And Link = 1\"); out_raster.save(\"PotHub200hR\")"
   ]
  },
  {
   "cell_type": "code",
   "execution_count": 91,
   "metadata": {},
   "outputs": [
    {
     "data": {
      "text/html": [
       "<div class='gpresult'><h2>Messages</h2><div id='messages' data-messages='[\"Start Time: Wednesday, September 6, 2023 11:45:43 AM\",\"Succeeded at Wednesday, September 6, 2023 11:45:44 AM (Elapsed Time: 1.02 seconds)\"]' data-show='true'><div id = 'default' /></div></div>"
      ],
      "text/plain": [
       "<Result 'D:\\\\SE_Blueprint_2023\\\\8_PrepLinkageMapperRuns\\\\H_VIPRhubs.gdb\\\\PotHub200h'>"
      ]
     },
     "execution_count": 91,
     "metadata": {},
     "output_type": "execute_result"
    }
   ],
   "source": [
    "# convert to vector\n",
    "arcpy.conversion.RasterToPolygon(\"PotHub200hR\", \"PotHub200h\", \"NO_SIMPLIFY\", \"Value\", \"MULTIPLE_OUTER_PART\", None)"
   ]
  },
  {
   "cell_type": "code",
   "execution_count": 92,
   "metadata": {},
   "outputs": [
    {
     "data": {
      "text/html": [
       "<div class='gpresult'><h2>Messages</h2><div id='messages' data-messages='[\"Start Time: Wednesday, September 6, 2023 11:45:44 AM\",\"Adding UID to PotHub200h...\",\"Succeeded at Wednesday, September 6, 2023 11:45:45 AM (Elapsed Time: 0.42 seconds)\"]' data-show='true'><div id = 'default' /></div></div>"
      ],
      "text/plain": [
       "<Result 'PotHub200h'>"
      ]
     },
     "execution_count": 92,
     "metadata": {},
     "output_type": "execute_result"
    }
   ],
   "source": [
    "#Add field that ESRI is willing to read\n",
    "arcpy.management.CalculateField(\"PotHub200h\", \"UID\", \"!OBJECTID!\", \"PYTHON3\", '', \"SHORT\", \"NO_ENFORCE_DOMAINS\")"
   ]
  },
  {
   "cell_type": "code",
   "execution_count": 97,
   "metadata": {},
   "outputs": [
    {
     "data": {
      "text/html": [
       "<div class='gpresult'><h2>Messages</h2><div id='messages' data-messages='[\"Start Time: Wednesday, September 6, 2023 1:43:05 PM\",\"Succeeded at Wednesday, September 6, 2023 1:43:06 PM (Elapsed Time: 0.53 seconds)\"]' data-show='true'><div id = 'default' /></div></div>"
      ],
      "text/plain": [
       "<Result 'D:\\\\SE_Blueprint_2023\\\\8_PrepLinkageMapperRuns\\\\Ha_VIPR_LM_Input.gdb\\\\Hubs'>"
      ]
     },
     "execution_count": 97,
     "metadata": {},
     "output_type": "execute_result"
    }
   ],
   "source": [
    "# copy features\n",
    "arcpy.management.CopyFeatures(\"PotHub200h\", Hub, '', None, None, None)"
   ]
  },
  {
   "cell_type": "code",
   "execution_count": null,
   "metadata": {},
   "outputs": [],
   "source": [
    "end = time.time()\n",
    "print(end - start)"
   ]
  },
  {
   "cell_type": "code",
   "execution_count": null,
   "metadata": {},
   "outputs": [],
   "source": []
  },
  {
   "cell_type": "code",
   "execution_count": null,
   "metadata": {},
   "outputs": [],
   "source": []
  },
  {
   "cell_type": "code",
   "execution_count": null,
   "metadata": {},
   "outputs": [],
   "source": []
  },
  {
   "cell_type": "code",
   "execution_count": null,
   "metadata": {},
   "outputs": [],
   "source": []
  },
  {
   "cell_type": "code",
   "execution_count": null,
   "metadata": {},
   "outputs": [],
   "source": []
  },
  {
   "cell_type": "code",
   "execution_count": null,
   "metadata": {},
   "outputs": [],
   "source": []
  }
 ],
 "metadata": {
  "kernelspec": {
   "display_name": "ArcGISPro",
   "language": "Python",
   "name": "python3"
  },
  "language_info": {
   "file_extension": ".py",
   "name": "python",
   "version": "3"
  }
 },
 "nbformat": 4,
 "nbformat_minor": 2
}
