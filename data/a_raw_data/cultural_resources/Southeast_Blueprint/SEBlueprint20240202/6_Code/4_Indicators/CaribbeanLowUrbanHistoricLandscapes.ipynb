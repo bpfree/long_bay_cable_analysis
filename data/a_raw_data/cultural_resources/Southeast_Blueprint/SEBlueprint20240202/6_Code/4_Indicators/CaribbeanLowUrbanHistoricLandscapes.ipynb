{
 "cells": [
  {
   "cell_type": "markdown",
   "metadata": {},
   "source": [
    "# Caribbean Low Urban Historic Landscapes\n",
    "This is an indicator for the 2023 Blueprint.\n",
    "\n",
    "It uses data representing the National Register of Historic Places. There is a national database for this from the park service, but the data has not been maintained and the polygons have huge slivers that are clearly errors. We dont use the polygon data from the national dataset. We do use the point data from the national dataset, in the contiguous SE only use it in places where we don't have better data. In the Virgin Islands and Puerto Rico, I am testing using it also.\n",
    "\n",
    "We have territory level data dat representing the National Register of Historic Places for PR and are hoping to get more data for VI. These data tend to be more regularly maintained. \n",
    "\n",
    "We are also exploring using historic polygons from the OpenStreetMap."
   ]
  },
  {
   "cell_type": "code",
   "execution_count": 65,
   "metadata": {},
   "outputs": [],
   "source": [
    "import time\n",
    "start = time.time()"
   ]
  },
  {
   "cell_type": "code",
   "execution_count": 66,
   "metadata": {},
   "outputs": [],
   "source": [
    "import os\n",
    "import arcpy"
   ]
  },
  {
   "cell_type": "code",
   "execution_count": 67,
   "metadata": {},
   "outputs": [],
   "source": [
    "# define spatial reference and workspaces\n",
    "sr= arcpy.SpatialReference(5070)\n",
    "NSourceWorkspace = r\"F:\\GIS_DATA\\Cultural_Resources\\NationalRegisterOfHistoricPlaces\\NRIS_CR_Standards_Public.gdb\"\n",
    "#SSourceWorkspace = r\"F:\\GIS_DATA\\Cultural_Resources\\NationalRegisterOfHistoricPlacesStateData\"\n",
    "OutWorkspace = r\"D:\\SE_Blueprint_2023\\4_Indicators\\CarLowUrbanHistoric\\CaribbeanLowU.gdb\""
   ]
  },
  {
   "cell_type": "code",
   "execution_count": 68,
   "metadata": {},
   "outputs": [],
   "source": [
    "# define final outputs\n",
    "Out = r\"D:\\SE_Blueprint_2023\\4_Indicators\\CarLowUrbanHistoric\\CaribbeanLowUrbanHistoricLandscapes.tif\""
   ]
  },
  {
   "cell_type": "code",
   "execution_count": 69,
   "metadata": {},
   "outputs": [],
   "source": [
    "# define sub-indicator outputs to help with user support"
   ]
  },
  {
   "cell_type": "code",
   "execution_count": 70,
   "metadata": {},
   "outputs": [],
   "source": [
    "# define rasters used for cell size, extent, and snapping\n",
    "Rextent= r\"D:\\SE_Blueprint_2023\\1_VIPR_Extent\\VIPR_Extent_v6.tif\""
   ]
  },
  {
   "cell_type": "code",
   "execution_count": 71,
   "metadata": {},
   "outputs": [],
   "source": [
    "# define additional inputs\n",
    "\n",
    "# historic sites from the PR Historic Preservation Office\n",
    "prPly= r\"F:\\GIS_DATA\\Cultural_Resources\\NationalRegisterOfHistoricPlacesStateData\\NRHP Puerto Rico Shape Files\\NRHP_PR_polygonal_districts.shp\"\n",
    "prLn= r\"F:\\GIS_DATA\\Cultural_Resources\\NationalRegisterOfHistoricPlacesStateData\\NRHP Puerto Rico Shape Files\\NRHP_PR_lineal_districts.shp\"\n",
    "prPt=r\"F:\\GIS_DATA\\Cultural_Resources\\NationalRegisterOfHistoricPlacesStateData\\NRHP Puerto Rico Shape Files\\NRHP_PR_individual_properties.shp\"\n",
    "\n",
    "# historic districts from Nikita Beck\n",
    "viHd1= r\"F:\\GIS_DATA\\Cultural_Resources\\USVI_Data\\HistricDistricts\\CharlotteAmalie_historic_boundary.shp\"\n",
    "viHd2= r\"F:\\GIS_DATA\\Cultural_Resources\\USVI_Data\\HistricDistricts\\Christiansted_historic_boundary.shp\"\n",
    "viHd3= r\"F:\\GIS_DATA\\Cultural_Resources\\USVI_Data\\HistricDistricts\\Frederiksted_historic_boundary.shp\"\n",
    "\n",
    "\n",
    "# historic sites from OpenStreetMap\n",
    "osmH= r\"F:\\GIS_DATA\\Cultural_Resources\\OpenStreetMap20230314\\Historic.gpkg\\main.Historic\"\n",
    "\n",
    "# culturally important places from Greg Guannel\n",
    "#ciVi= r\"F:\\GIS_DATA\\Cultural_Resources\\StCroix_CulturallyImportantPlaces\\Culturally Important Places\\culturally_important_places.shp\"\n",
    "\n",
    "# historic sites from the VI Historic Preservation Office\n",
    "#viKMZ= r\"F:\\GIS_DATA\\Cultural_Resources\\USVI_Data\\My Places.kmz\"\n",
    "\n",
    "# land use used to calculate urban\n",
    "lulc= r\"F:\\GIS_DATA\\LanduseLandcover\\Landfire\\LF2020_Puerto_Rico_Virgin_Islands_220_IA\\LF2020_PRVI_220_IA\\LF2020_EVT_220_PRVI\\Tif\\LV20_EVT_220.tif\"\n",
    "\n"
   ]
  },
  {
   "cell_type": "markdown",
   "metadata": {},
   "source": [
    "### Start Analysis"
   ]
  },
  {
   "cell_type": "code",
   "execution_count": 72,
   "metadata": {},
   "outputs": [],
   "source": [
    "# Set the workspace where I want to save my output\n",
    "arcpy.env.workspace = OutWorkspace"
   ]
  },
  {
   "cell_type": "code",
   "execution_count": 73,
   "metadata": {},
   "outputs": [
    {
     "name": "stdout",
     "output_type": "stream",
     "text": [
      "D:\\SE_Blueprint_2023\\4_Indicators\\CarLowUrbanHistoric\\CaribbeanLowU.gdb\n"
     ]
    }
   ],
   "source": [
    "print(arcpy.env.workspace)"
   ]
  },
  {
   "cell_type": "markdown",
   "metadata": {},
   "source": [
    "### Import and buffer Point data\n",
    "\n"
   ]
  },
  {
   "cell_type": "code",
   "execution_count": 10,
   "metadata": {},
   "outputs": [],
   "source": [
    "# Make a list of the all the point data to be used in this project \n",
    "#Pt = [prPt, ciVi, \"MergeNational\"]"
   ]
  },
  {
   "cell_type": "code",
   "execution_count": 11,
   "metadata": {},
   "outputs": [],
   "source": [
    "# Merge all the point feature classes from the State Level National Register of Historic Places, using the list \n",
    "# created above as the input\n",
    "#with arcpy.EnvManager(outputCoordinateSystem=sr, extent=Rextent):\n",
    "#    arcpy.management.Merge(Pt,'MergeAllPoint', 'NO_SOURCE_INFO')"
   ]
  },
  {
   "cell_type": "code",
   "execution_count": 12,
   "metadata": {},
   "outputs": [
    {
     "data": {
      "text/html": [
       "<div class='gpresult'><h2>Messages</h2><div id='messages' data-messages='[\"Start Time: Friday, July 14, 2023 3:08:16 PM\",\"Succeeded at Friday, July 14, 2023 3:08:16 PM (Elapsed Time: 0.31 seconds)\"]' data-show='true'><div id = 'default' /></div></div>"
      ],
      "text/plain": [
       "<Result 'D:\\\\SE_Blueprint_2023\\\\4_Indicators\\\\CarLowUrbanHistoric\\\\CaribbeanLowU.gdb\\\\PtBuff'>"
      ]
     },
     "execution_count": 12,
     "metadata": {},
     "output_type": "execute_result"
    }
   ],
   "source": [
    "# buffer the points by 100 meters\n",
    "arcpy.analysis.Buffer(prPt, \"PtBuff\", \"100 Meters\", \"FULL\", \"ROUND\", \"NONE\", None, \"PLANAR\")"
   ]
  },
  {
   "cell_type": "markdown",
   "metadata": {},
   "source": [
    "### Import and buffer Polygon data \n"
   ]
  },
  {
   "cell_type": "code",
   "execution_count": 13,
   "metadata": {},
   "outputs": [
    {
     "data": {
      "text/html": [
       "<div class='gpresult'><h2>Messages</h2><div id='messages' data-messages='[\"Start Time: Friday, July 14, 2023 3:08:17 PM\",\"Succeeded at Friday, July 14, 2023 3:08:17 PM (Elapsed Time: 0.14 seconds)\"]' data-show='true'><div id = 'default' /></div></div>"
      ],
      "text/plain": [
       "<Result 'D:\\\\SE_Blueprint_2023\\\\4_Indicators\\\\CarLowUrbanHistoric\\\\CaribbeanLowU.gdb\\\\osmHName'>"
      ]
     },
     "execution_count": 13,
     "metadata": {},
     "output_type": "execute_result"
    }
   ],
   "source": [
    "# select only historic places with names\n",
    "arcpy.analysis.Select(osmH, \"osmHName\", \"name IS NOT NULL\")"
   ]
  },
  {
   "cell_type": "code",
   "execution_count": 14,
   "metadata": {},
   "outputs": [],
   "source": [
    "# convert all named OSM historic polygons to a geodatabase\n",
    "with arcpy.EnvManager(extent=Rextent):\n",
    "    #arcpy.management.FeatureToPolygon(osmH, \"osmH\", None, \"ATTRIBUTES\")\n",
    "    #arcpy.conversion.FeatureClassToFeatureClass(osmH, \"osmH\", \"OSMhistoric\", '', 'osm_id \"osm_id\" true true false 2147483647 Text 0 0,First,#,main.historic,osm_id,0,2147483647;name \"name\" true true false 2147483647 Text 0 0,First,#,main.historic,name,0,2147483647;historic \"historic\" true true false 2147483647 Text 0 0,First,#,main.historic,historic,0,2147483647;other_tags \"other_tags\" true true false 2147483647 Text 0 0,First,#,main.historic,other_tags,0,2147483647', '')\n",
    "    arcpy.management.FeatureToPolygon(\"osmHName\", \"osmHName2\", None, \"ATTRIBUTES\", None)"
   ]
  },
  {
   "cell_type": "code",
   "execution_count": 15,
   "metadata": {},
   "outputs": [],
   "source": [
    "# reproject OSM historic\n",
    "with arcpy.EnvManager(outputCoordinateSystem=sr):\n",
    "    arcpy.management.CopyFeatures(\"osmHName2\", \"osmHName3\", '', None, None, None)"
   ]
  },
  {
   "cell_type": "code",
   "execution_count": 16,
   "metadata": {},
   "outputs": [],
   "source": [
    "# Make a list of the polygon data\n",
    "Ply = [prPly,viHd1, viHd2, viHd3,'osmHName3']"
   ]
  },
  {
   "cell_type": "code",
   "execution_count": 17,
   "metadata": {},
   "outputs": [],
   "source": [
    "# Merge all the polygon feature classes from the State level National Register of Historic Places, using the list \n",
    "# created above as the input\n",
    "with arcpy.EnvManager(outputCoordinateSystem=sr, extent=Rextent):\n",
    "    arcpy.management.Merge(Ply,'MergePoly', 'NO_SOURCE_INFO')"
   ]
  },
  {
   "cell_type": "code",
   "execution_count": 18,
   "metadata": {},
   "outputs": [
    {
     "data": {
      "text/html": [
       "<div class='gpresult'><h2>Messages</h2><div id='messages' data-messages='[\"Start Time: Friday, July 14, 2023 3:08:18 PM\",\"Succeeded at Friday, July 14, 2023 3:08:19 PM (Elapsed Time: 0.31 seconds)\"]' data-show='true'><div id = 'default' /></div></div>"
      ],
      "text/plain": [
       "<Result 'D:\\\\SE_Blueprint_2023\\\\4_Indicators\\\\CarLowUrbanHistoric\\\\CaribbeanLowU.gdb\\\\PolyBuff'>"
      ]
     },
     "execution_count": 18,
     "metadata": {},
     "output_type": "execute_result"
    }
   ],
   "source": [
    "# Buffer the merged polygon layer by 30 meters. We did this because some of the polygons are so small that they \n",
    "# weren't represented when we convereted to 30 meter rasters. The buffer allows them to be represented in the raster.\n",
    "arcpy.analysis.Buffer(\"MergePoly\", \"PolyBuff\", \"30 Meters\", \"FULL\", \"ROUND\", \"NONE\", None, \"PLANAR\")"
   ]
  },
  {
   "cell_type": "markdown",
   "metadata": {},
   "source": [
    "## Import and buffer lines"
   ]
  },
  {
   "cell_type": "code",
   "execution_count": 19,
   "metadata": {},
   "outputs": [
    {
     "data": {
      "text/html": [
       "<div class='gpresult'><h2>Messages</h2><div id='messages' data-messages='[\"Start Time: Friday, July 14, 2023 3:08:19 PM\",\"Succeeded at Friday, July 14, 2023 3:08:19 PM (Elapsed Time: 0.43 seconds)\"]' data-show='true'><div id = 'default' /></div></div>"
      ],
      "text/plain": [
       "<Result 'D:\\\\SE_Blueprint_2023\\\\4_Indicators\\\\CarLowUrbanHistoric\\\\CaribbeanLowU.gdb\\\\LnBuff'>"
      ]
     },
     "execution_count": 19,
     "metadata": {},
     "output_type": "execute_result"
    }
   ],
   "source": [
    "# Buffer the line layer by 30 meters. \n",
    "\n",
    "# not sure if I should use 30 or 100 here, so I went with 30\n",
    "\n",
    "arcpy.analysis.Buffer(prLn, \"LnBuff\", \"30 Meters\", \"FULL\", \"ROUND\", \"NONE\", None, \"PLANAR\")"
   ]
  },
  {
   "cell_type": "markdown",
   "metadata": {},
   "source": [
    "## Make a raster of all historic places\n",
    "\n",
    "Now we merge together the 3 different layers we made above: buffered national points for states we don't have data for, buffered state points, buffered state polygons"
   ]
  },
  {
   "cell_type": "code",
   "execution_count": 20,
   "metadata": {},
   "outputs": [
    {
     "data": {
      "text/html": [
       "<div class='gpresult'><h2>Messages</h2><div id='messages' data-messages='[\"Start Time: Friday, July 14, 2023 3:08:19 PM\",\"Succeeded at Friday, July 14, 2023 3:08:20 PM (Elapsed Time: 0.26 seconds)\"]' data-show='true'><div id = 'default' /></div></div>"
      ],
      "text/plain": [
       "<Result 'D:\\\\SE_Blueprint_2023\\\\4_Indicators\\\\CarLowUrbanHistoric\\\\CaribbeanLowU.gdb\\\\MergeAllBuffered'>"
      ]
     },
     "execution_count": 20,
     "metadata": {},
     "output_type": "execute_result"
    }
   ],
   "source": [
    "# Merge 3 processed inputs we made above\n",
    "arcpy.management.Merge([\"PtBuff\",\"PolyBuff\",\"LnBuff\"], \"MergeAllBuffered\", \"NO_SOURCE_INFO\")"
   ]
  },
  {
   "cell_type": "code",
   "execution_count": 21,
   "metadata": {},
   "outputs": [
    {
     "data": {
      "text/html": [
       "<div class='gpresult'><h2>Messages</h2><div id='messages' data-messages='[\"Start Time: Friday, July 14, 2023 3:08:20 PM\",\"Adding raster to MergeAllBuffered...\",\"Succeeded at Friday, July 14, 2023 3:08:20 PM (Elapsed Time: 0.05 seconds)\"]' data-show='true'><div id = 'default' /></div></div>"
      ],
      "text/plain": [
       "<Result 'D:\\\\SE_Blueprint_2023\\\\4_Indicators\\\\CarLowUrbanHistoric\\\\CaribbeanLowU.gdb\\\\MergeAllBuffered'>"
      ]
     },
     "execution_count": 21,
     "metadata": {},
     "output_type": "execute_result"
    }
   ],
   "source": [
    "# add and calculate a field that we can use to convert to a raster\n",
    "arcpy.management.CalculateField(\"MergeAllBuffered\", \"raster\", \"1\", \"PYTHON3\", '', \"TEXT\")"
   ]
  },
  {
   "cell_type": "code",
   "execution_count": 22,
   "metadata": {},
   "outputs": [],
   "source": [
    "# convert all historic polygon to raster\n",
    "with arcpy.EnvManager(outputCoordinateSystem=sr, extent=Rextent, snapRaster=Rextent, cellSize=Rextent):\n",
    "    arcpy.conversion.PolygonToRaster(\"MergeAllBuffered\", \"raster\", \"MergeAllBufferedr\", \"CELL_CENTER\", \"NONE\", Rextent)"
   ]
  },
  {
   "cell_type": "markdown",
   "metadata": {},
   "source": [
    "### Bring in Landcover\n",
    "\n",
    "These steps take the landcover, pull out all urban classes as 1 and leave everything else as 0, then uses focal statistics\\mean to calculate the percent urban in a 270 meter radius (we used 270 instead of 250 since we are using 30 meter pixels).  All pixels that are < 50% urban in a 270 meter radius are considered low urban and are given a value of 1.  All pixels that are > 50% urban in a 279 meter radius are considered high urban and are give a value of 0. "
   ]
  },
  {
   "cell_type": "code",
   "execution_count": 23,
   "metadata": {},
   "outputs": [],
   "source": [
    "# In the contiguous US, we used NLCD and made a raster with the 4 urban classes as 1 and everything else is 0\n",
    "# to match those methods, I\"m making all 5 Landvire Developed classes 1 and everything else 0\n",
    "# I'm now wondering why we made NLCD Developed, Open Space 1?\n",
    "# Perhaps we should only use the higher developed classes?\n",
    "with arcpy.EnvManager(extent=Rextent):\n",
    "    out_raster = arcpy.sa.Con(lulc, 1, 0, \"EVT_NAME IN ('Developed-High Intensity', 'Developed-Low Intensity', 'Developed-Medium Intensity', 'Developed-Open Space', 'Developed-Roads')\"); out_raster.save(\"lulcUrb\")"
   ]
  },
  {
   "cell_type": "code",
   "execution_count": 24,
   "metadata": {},
   "outputs": [],
   "source": [
    "# calculate focal statistics on above raster. Cacluate mean in a circle neighborhood with a radius of 270 meters. This will give us the\n",
    "# percent urban in that focal window (because of how we reclassified above)\n",
    "# This ran before, and it runs now, but now I keep getting an error that I cannot save this to my workspace. Grr.\n",
    "# I'm going to try to save as a .tif to see if that works\n",
    "# nope still got the runtime error\n",
    "# problem solved, my harddrive was running out of space\n",
    "out_raster = arcpy.sa.FocalStatistics(\"lulcUrb\", \"Circle 270 MAP\", \"MEAN\", \"DATA\", 90); out_raster.save(\"M270m\")"
   ]
  },
  {
   "cell_type": "code",
   "execution_count": 25,
   "metadata": {},
   "outputs": [],
   "source": [
    "# reclassify so that all pixels that are > 50% urban in a 279 meter radius are considered high urban and are give a value of 0\n",
    "out_raster = arcpy.sa.Reclassify(\"M270m\", \"VALUE\", \"0 0.500000 1;0.500000 1 0\", \"DATA\"); out_raster.save(\"M270m50T\")"
   ]
  },
  {
   "cell_type": "code",
   "execution_count": 26,
   "metadata": {},
   "outputs": [],
   "source": [
    "# Landfire is already in the same projection we use for the blueprint, so don't need to worry about reprojecting"
   ]
  },
  {
   "cell_type": "code",
   "execution_count": 27,
   "metadata": {},
   "outputs": [],
   "source": [
    "# Mask out areas that are not historic by taking the percent urban raster times the historic areas raster\n",
    "out_raster = arcpy.sa.Times(\"MergeAllBufferedr\", \"M270m50T\"); out_raster.save(\"M270m50TH\")"
   ]
  },
  {
   "cell_type": "code",
   "execution_count": 28,
   "metadata": {},
   "outputs": [],
   "source": [
    "# We decided in the end to change the classification so that 0 = not a historic site, 1 = high urban historic site, 2 = low urban historic site\n",
    "out_raster = arcpy.sa.Reclassify(\"M270m50TH\", \"VALUE\", \"0 1;1 2;NODATA 0\" \"DATA\"); out_raster.save(\"prelim\")"
   ]
  },
  {
   "cell_type": "markdown",
   "metadata": {},
   "source": [
    "### need to figure out what extent is for 0/NoData\n",
    "This is probably a round about way to do it, but I am just trying to get a draft out"
   ]
  },
  {
   "cell_type": "code",
   "execution_count": 29,
   "metadata": {},
   "outputs": [],
   "source": [
    "# reclassify to get 0/NoData\n",
    "with arcpy.EnvManager(outputCoordinateSystem=sr, extent=Rextent, snapRaster=Rextent, cellSize=Rextent):\n",
    "    out_raster = arcpy.sa.Con(lulc, 1, '', \"EVT_NAME <> 'Fill-NoData'\"); out_raster.save(\"lfEx\")"
   ]
  },
  {
   "cell_type": "code",
   "execution_count": 30,
   "metadata": {},
   "outputs": [],
   "source": [
    "# Mask out areas that are not covered by land cover data\n",
    "out_raster = arcpy.sa.Times(\"lfEx\", \"prelim\"); out_raster.save(\"indicator\")"
   ]
  },
  {
   "cell_type": "markdown",
   "metadata": {},
   "source": [
    "### Finalize indiator\n",
    "\n",
    "do final steps for all indicators to add description fields, clip and export to SE extent, clip and export to SA extent"
   ]
  },
  {
   "cell_type": "code",
   "execution_count": 31,
   "metadata": {},
   "outputs": [],
   "source": [
    "# set code block for next step\n",
    "codeblock = \"\"\"\n",
    "def Reclass(value):\n",
    "    if value == 2:\n",
    "        return '2 = Historic place with nearby low-urban buffer'\n",
    "    elif value == 1:\n",
    "        return '1 = Historic place with nearby high-urban buffer'\n",
    "    elif value == 0:\n",
    "        return '0 = Not identified as a historic place'    \n",
    "\"\"\""
   ]
  },
  {
   "cell_type": "code",
   "execution_count": 32,
   "metadata": {},
   "outputs": [
    {
     "data": {
      "text/html": [
       "<div class='gpresult'><h2>Messages</h2><div id='messages' data-messages='[\"Start Time: Friday, July 14, 2023 3:08:52 PM\",\"Adding descript to VAT_indicator...\",\"Succeeded at Friday, July 14, 2023 3:08:52 PM (Elapsed Time: 0.06 seconds)\"]' data-show='true'><div id = 'default' /></div></div>"
      ],
      "text/plain": [
       "<Result 'D:\\\\SE_Blueprint_2023\\\\4_Indicators\\\\CarLowUrbanHistoric\\\\CaribbeanLowU.gdb\\\\indicator'>"
      ]
     },
     "execution_count": 32,
     "metadata": {},
     "output_type": "execute_result"
    }
   ],
   "source": [
    "# add and calculate description field to hold indicator values\n",
    "arcpy.management.CalculateField(\"indicator\", \"descript\", \"Reclass(!value!)\", \"PYTHON3\", codeblock, \"TEXT\")"
   ]
  },
  {
   "cell_type": "code",
   "execution_count": 74,
   "metadata": {},
   "outputs": [],
   "source": [
    "# set code block for next step\n",
    "codeblock = \"\"\"\n",
    "def Reclass1(Value):\n",
    "\tif Value == 2:\n",
    "\t\treturn 93\n",
    "\tif Value == 1:\n",
    "\t\treturn 161\n",
    "\telse:\n",
    "\t\treturn 255\n",
    "\t\t\n",
    "def Reclass2(Value):\n",
    "\tif Value == 2:\n",
    "\t\treturn 64\n",
    "\tif Value == 1:\n",
    "\t\treturn 136\n",
    "\telse:\n",
    "\t\treturn 255\n",
    "\t\t\n",
    "def Reclass3(Value):\n",
    "\tif Value == 2:\n",
    "\t\treturn 55\n",
    "\tif Value == 1:\n",
    "\t\treturn 127\n",
    "\telse:\n",
    "\t\treturn 255\n",
    "\t\t\n",
    "\"\"\""
   ]
  },
  {
   "cell_type": "code",
   "execution_count": 75,
   "metadata": {},
   "outputs": [
    {
     "data": {
      "text/html": [
       "<div class='gpresult'><h2>Messages</h2><div id='messages' data-messages='[\"Start Time: Friday, September 15, 2023 2:04:58 PM\",\"Succeeded at Friday, September 15, 2023 2:04:58 PM (Elapsed Time: 0.19 seconds)\"]' data-show='true'><div id = 'default' /></div></div>"
      ],
      "text/plain": [
       "<Result 'indicator'>"
      ]
     },
     "execution_count": 75,
     "metadata": {},
     "output_type": "execute_result"
    }
   ],
   "source": [
    "# calculate Red field\n",
    "arcpy.management.CalculateField(\"indicator\", \"Red\", \"Reclass1(!Value!)\", \"PYTHON3\", codeblock, \"SHORT\")\n",
    "# calculate Green field\n",
    "arcpy.management.CalculateField(\"indicator\", \"Green\", \"Reclass2(!Value!)\", \"PYTHON3\", codeblock, \"SHORT\")\n",
    "# calculate Blue field\n",
    "arcpy.management.CalculateField(\"indicator\", \"Blue\", \"Reclass3(!Value!)\", \"PYTHON3\", codeblock, \"SHORT\")"
   ]
  },
  {
   "cell_type": "code",
   "execution_count": 76,
   "metadata": {},
   "outputs": [],
   "source": [
    "# clip to SE 2022 Blueprint extent\n",
    "with arcpy.EnvManager(outputCoordinateSystem=sr, snapRaster=Rextent, cellSize=Rextent):\n",
    "    out_raster = arcpy.sa.ExtractByMask(\"indicator\", Rextent); out_raster.save(\"indicator1\")"
   ]
  },
  {
   "cell_type": "code",
   "execution_count": 77,
   "metadata": {},
   "outputs": [],
   "source": [
    "# export as .tif\n",
    "with arcpy.EnvManager(outputCoordinateSystem=sr, snapRaster=Rextent, cellSize=Rextent):\n",
    "    arcpy.management.CopyRaster(\"indicator1\", Out, '', None, \"255\", \"NONE\", \"NONE\", \"8_BIT_UNSIGNED\", \"NONE\", \"NONE\", \"TIFF\", \"NONE\", \"CURRENT_SLICE\", \"NO_TRANSPOSE\")"
   ]
  },
  {
   "cell_type": "code",
   "execution_count": 37,
   "metadata": {},
   "outputs": [
    {
     "name": "stdout",
     "output_type": "stream",
     "text": [
      "43.57563877105713\n"
     ]
    }
   ],
   "source": [
    "# this prints the time it took this notebook to run in seconds\n",
    "end = time.time()\n",
    "print(end - start)"
   ]
  }
 ],
 "metadata": {
  "kernelspec": {
   "display_name": "ArcGISPro",
   "language": "Python",
   "name": "python3"
  },
  "language_info": {
   "file_extension": ".py",
   "name": "python",
   "version": "3"
  }
 },
 "nbformat": 4,
 "nbformat_minor": 2
}
