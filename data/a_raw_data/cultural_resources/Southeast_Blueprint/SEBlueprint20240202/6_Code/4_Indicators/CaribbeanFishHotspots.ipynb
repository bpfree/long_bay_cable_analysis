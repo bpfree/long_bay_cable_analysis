{
 "cells": [
  {
   "cell_type": "markdown",
   "metadata": {},
   "source": [
    "# Caribbean fish hotspots\n",
    "\n",
    "This is code for Southeast Conservation Blueprint 2023. Written by Rua Mordecai."
   ]
  },
  {
   "cell_type": "markdown",
   "metadata": {},
   "source": [
    "## Import libraries and define variables"
   ]
  },
  {
   "cell_type": "code",
   "execution_count": 95,
   "metadata": {},
   "outputs": [],
   "source": [
    "import os\n",
    "import arcpy"
   ]
  },
  {
   "cell_type": "code",
   "execution_count": 96,
   "metadata": {},
   "outputs": [],
   "source": [
    "# define spatial reference, workspaces, and source data location\n",
    "sr= arcpy.SpatialReference(5070)\n",
    "OutputWorkspace = r\"D:\\Blueprint\\2023\\finalIndicatorEdits\\CaribbeanBlueprint2023_FinalIndicators\\CaribbeanBlueprint2023_FinalIndicators\\SpatialData\"\n",
    "benthicPR = r\"D:\\CaribbeanData\\TNC\\BenthicCondition\\BENTHIC_CONDITION_PRVI\\pr_mar_benhab4m_2021_EEZs_gridcode.tif\"\n",
    "benthicVI = r\"D:\\CaribbeanData\\TNC\\BenthicCondition\\BENTHIC_CONDITION_PRVI\\usvi_mar_benhab4m_2021_EEZs_gridcode.tif\"\n",
    "CCAPPR = r\"D:\\Landcover\\CCAP\\Caribbean\\pr_2010_ccap_hr_land_cover20170214.img\"\n",
    "CCAPStCroix = r\"D:\\Landcover\\CCAP\\Caribbean\\usvi_stcroix_2012_ccap_hr_land_cover20150910.img\"\n",
    "CCAPStJohn = r\"D:\\Landcover\\CCAP\\Caribbean\\usvi_stjohn_2012_ccap_hr_land_cover20140915.img\"\n",
    "CCAPStThomas = r\"D:\\Landcover\\CCAP\\Caribbean\\usvi_stthomas_2012_ccap_hr_land_cover20150914.img\""
   ]
  },
  {
   "cell_type": "code",
   "execution_count": 97,
   "metadata": {},
   "outputs": [],
   "source": [
    "# define final output name\n",
    "IndicatorFileName = \"CaribbeanFishHotspots.tif\""
   ]
  },
  {
   "cell_type": "code",
   "execution_count": 98,
   "metadata": {},
   "outputs": [],
   "source": [
    "# define raster used for cell size, extent, and snapping\n",
    "CaribbeanRaster= r\"D:\\Blueprint\\2023\\extent\\VIPR_Extent_v6.tif\""
   ]
  },
  {
   "cell_type": "code",
   "execution_count": 99,
   "metadata": {},
   "outputs": [],
   "source": [
    "# Sometimes arcpro is fussy about not overwriting things\n",
    "arcpy.env.overwriteOutput = True"
   ]
  },
  {
   "cell_type": "markdown",
   "metadata": {},
   "source": [
    "## Start analysis"
   ]
  },
  {
   "cell_type": "markdown",
   "metadata": {},
   "source": [
    "### Prep data"
   ]
  },
  {
   "cell_type": "code",
   "execution_count": 100,
   "metadata": {},
   "outputs": [],
   "source": [
    "# Set the source workspace\n",
    "arcpy.env.workspace = OutputWorkspace"
   ]
  },
  {
   "cell_type": "code",
   "execution_count": 70,
   "metadata": {},
   "outputs": [
    {
     "data": {
      "text/html": [
       "<div class='gpresult'><h2>Messages</h2><div id='messages' data-messages='[\"Start Time: Tuesday, July 11, 2023 9:59:20 AM\",\"Building Pyramids...\",\"Succeeded at Tuesday, July 11, 2023 10:01:13 AM (Elapsed Time: 1 minutes 52 seconds)\"]' data-show='true'><div id = 'default' /></div></div>"
      ],
      "text/plain": [
       "<Result 'D:\\\\Blueprint\\\\2023\\\\Caribbean\\\\Indicators\\\\WaterscapeHabitat\\\\working\\\\vipr_mar_benhab4m_2021_EEZs_gridcode.tif'>"
      ]
     },
     "execution_count": 70,
     "metadata": {},
     "output_type": "execute_result"
    }
   ],
   "source": [
    "# Combine TNC benthic data\n",
    "arcpy.management.MosaicToNewRaster(benthicPR+\";\"+benthicVI, OutputWorkspace, \"vipr_mar_benhab4m_2021_EEZs_gridcode.tif\", None, \"8_BIT_UNSIGNED\", None, 1, \"LAST\", \"FIRST\")"
   ]
  },
  {
   "cell_type": "code",
   "execution_count": 71,
   "metadata": {},
   "outputs": [
    {
     "data": {
      "text/html": [
       "<div class='gpresult'><h2>Messages</h2><div id='messages' data-messages='[\"Start Time: Tuesday, July 11, 2023 10:01:14 AM\",\"D:\\\\Landcover\\\\CCAP\\\\Caribbean\\\\pr_2010_ccap_hr_land_cover20170214.img is loading...\",\"D:\\\\Landcover\\\\CCAP\\\\Caribbean\\\\usvi_stcroix_2012_ccap_hr_land_cover20150910.img is loading...\",\"D:\\\\Landcover\\\\CCAP\\\\Caribbean\\\\usvi_stjohn_2012_ccap_hr_land_cover20140915.img is loading...\",\"D:\\\\Landcover\\\\CCAP\\\\Caribbean\\\\usvi_stthomas_2012_ccap_hr_land_cover20150914.img is loading...\",\"Succeeded at Tuesday, July 11, 2023 10:09:18 AM (Elapsed Time: 8 minutes 3 seconds)\"]' data-show='true'><div id = 'default' /></div></div>"
      ],
      "text/plain": [
       "<Result 'D:\\\\Blueprint\\\\2023\\\\Caribbean\\\\Indicators\\\\WaterscapeHabitat\\\\working\\\\vipr_ccap.tif'>"
      ]
     },
     "execution_count": 71,
     "metadata": {},
     "output_type": "execute_result"
    }
   ],
   "source": [
    "# Combine CCAP data\n",
    "arcpy.management.MosaicToNewRaster(CCAPPR+\";\"+CCAPStCroix+\";\"+CCAPStJohn+\";\"+CCAPStThomas, OutputWorkspace, \"vipr_ccap.tif\", None, \"8_BIT_UNSIGNED\", None, 1, \"LAST\", \"FIRST\")"
   ]
  },
  {
   "cell_type": "code",
   "execution_count": 72,
   "metadata": {},
   "outputs": [],
   "source": [
    "# reproject benthic data and convert to 30 meters\n",
    "with arcpy.EnvManager(outputCoordinateSystem=sr, extent=CaribbeanRaster, snapRaster=CaribbeanRaster, cellSize=CaribbeanRaster):\n",
    "        arcpy.management.Resample(\"vipr_mar_benhab4m_2021_EEZs_gridcode.tif\", \"benthic.tif\", \"30 30\", \"MAJORITY\")"
   ]
  },
  {
   "cell_type": "code",
   "execution_count": 73,
   "metadata": {},
   "outputs": [],
   "source": [
    "# reproject ccap data and convert to 30 meters\n",
    "with arcpy.EnvManager(outputCoordinateSystem=sr, extent=CaribbeanRaster, snapRaster=CaribbeanRaster, cellSize=CaribbeanRaster):\n",
    "        arcpy.management.Resample(\"vipr_ccap.tif\", \"vipr_ccap30.tif\", \"30 30\", \"MAJORITY\")"
   ]
  },
  {
   "cell_type": "code",
   "execution_count": 74,
   "metadata": {},
   "outputs": [],
   "source": [
    "# reclassify so dense seagrass is 1 and everything else is 0. Make NoData 1000 so we can combine with CCAP mangrove data.\n",
    "out_raster = arcpy.sa.Reclassify(\"benthic.tif\", \"Value\", \"1 11 0;12 0;13 1;NoData 1000\", \"DATA\"); out_raster.save(\"Seagrass.tif\")"
   ]
  },
  {
   "cell_type": "code",
   "execution_count": 75,
   "metadata": {},
   "outputs": [],
   "source": [
    "# reclassify so Estuarine forested wetland is 1 and everything else is 0. This is to map mangrove. Make NoData 0 to combine with seagrass.\n",
    "with arcpy.EnvManager(outputCoordinateSystem=sr, extent=CaribbeanRaster, snapRaster=CaribbeanRaster, cellSize=CaribbeanRaster):\n",
    "    out_raster = arcpy.sa.Reclassify(\"vipr_ccap30.tif\", \"Value\", \"1 15 0;16 1;17 0;18 0;19 23 0;NoData 0\", \"DATA\"); out_raster.save(\"Mangrove.tif\")"
   ]
  },
  {
   "cell_type": "code",
   "execution_count": 76,
   "metadata": {},
   "outputs": [],
   "source": [
    "# reclassify so coral is 1\n",
    "out_raster = arcpy.sa.Reclassify(\"benthic.tif\", \"Value\", \"1 5 1;6 13 0;NoData 0\", \"DATA\"); out_raster.save(\"Coral.tif\")"
   ]
  },
  {
   "cell_type": "code",
   "execution_count": 77,
   "metadata": {},
   "outputs": [],
   "source": [
    "# Combine rasters to address overlapping pixel predictions and differences in NoData between CCAP and TNC benthic\n",
    "out_raster = arcpy.sa.Plus(\"Seagrass.tif\", \"Mangrove.tif\"); out_raster.save(\"SeagrassMangrove.tif\")"
   ]
  },
  {
   "cell_type": "code",
   "execution_count": 78,
   "metadata": {},
   "outputs": [],
   "source": [
    "# Make a mask to remove land (including mangrove) based on combined seagrass and mangrove layer\n",
    "out_raster = arcpy.sa.Reclassify(\"SeagrassMangrove.tif\", \"Value\", \"0 999 1;1000 NoData;1001 NoData\", \"DATA\"); out_raster.save(\"waterMask.tif\")"
   ]
  },
  {
   "cell_type": "code",
   "execution_count": 79,
   "metadata": {},
   "outputs": [],
   "source": [
    "# Reclassify seagrass to convert NoData back to 0\n",
    "out_raster = arcpy.sa.Reclassify(\"Seagrass.tif\", \"Value\", \"0 0;1 1;1000 0\", \"DATA\"); out_raster.save(\"SeagrassBin.tif\")"
   ]
  },
  {
   "cell_type": "markdown",
   "metadata": {},
   "source": [
    "### 600m radius analysis"
   ]
  },
  {
   "cell_type": "code",
   "execution_count": 80,
   "metadata": {},
   "outputs": [],
   "source": [
    "# 20 cell max for 600m radius. These ID whether there's at least one pixel of the habitat in 600m radius  \n",
    "out_raster = arcpy.ia.FocalStatistics(\"Mangrove.tif\", \"Circle 20 CELL\", \"MAXIMUM\", \"DATA\", 90); out_raster.save(\"MangroveBin20.tif\")"
   ]
  },
  {
   "cell_type": "code",
   "execution_count": 81,
   "metadata": {},
   "outputs": [],
   "source": [
    "# 20 cell max for 600m radius.  \n",
    "out_raster = arcpy.ia.FocalStatistics(\"Coral.tif\", \"Circle 20 CELL\", \"MAXIMUM\", \"DATA\", 90); out_raster.save(\"CoralBin20.tif\")"
   ]
  },
  {
   "cell_type": "code",
   "execution_count": 82,
   "metadata": {},
   "outputs": [],
   "source": [
    "# 20 cell max for 600m radius.  \n",
    "out_raster = arcpy.ia.FocalStatistics(\"SeagrassBin.tif\", \"Circle 20 CELL\", \"MAXIMUM\", \"DATA\", 90); out_raster.save(\"SeagrassBin20.tif\")"
   ]
  },
  {
   "cell_type": "code",
   "execution_count": 83,
   "metadata": {},
   "outputs": [],
   "source": [
    "# Sum habitat diversity then multiply by mangrove to remove places without any mangrove in 600m radius\n",
    "output_raster = arcpy.ia.RasterCalculator([\"CoralBin20.tif\",\"MangroveBin20.tif\",\"SeagrassBin20.tif\"],['A','B','C'],'(A + B + C)*10'); output_raster.save(\"habRichness600m.tif\")"
   ]
  },
  {
   "cell_type": "markdown",
   "metadata": {},
   "source": [
    "### 300m radius analysis"
   ]
  },
  {
   "cell_type": "code",
   "execution_count": 84,
   "metadata": {},
   "outputs": [],
   "source": [
    "# 10 cell max for 300m radius. These ID whether there's at least one pixel of the habitat in 300m radius  \n",
    "out_raster = arcpy.ia.FocalStatistics(\"Mangrove.tif\", \"Circle 10 CELL\", \"MAXIMUM\", \"DATA\", 90); out_raster.save(\"MangroveBin10.tif\")"
   ]
  },
  {
   "cell_type": "code",
   "execution_count": 85,
   "metadata": {},
   "outputs": [],
   "source": [
    "# 10 cell max for 300m radius.  \n",
    "out_raster = arcpy.ia.FocalStatistics(\"Coral.tif\", \"Circle 10 CELL\", \"MAXIMUM\", \"DATA\", 90); out_raster.save(\"CoralBin10.tif\")"
   ]
  },
  {
   "cell_type": "code",
   "execution_count": 86,
   "metadata": {},
   "outputs": [],
   "source": [
    "# 10 cell max for 300m radius.  \n",
    "out_raster = arcpy.ia.FocalStatistics(\"SeagrassBin.tif\", \"Circle 10 CELL\", \"MAXIMUM\", \"DATA\", 90); out_raster.save(\"SeagrassBin10.tif\")"
   ]
  },
  {
   "cell_type": "code",
   "execution_count": 87,
   "metadata": {},
   "outputs": [],
   "source": [
    "# Combine habitats info to get number of habitats\n",
    "output_raster = arcpy.ia.RasterCalculator([\"CoralBin10.tif\",\"MangroveBin10.tif\",\"SeagrassBin10.tif\"],['A','B','C'],'A + B + C'); output_raster.save(\"habRichness300m.tif\")"
   ]
  },
  {
   "cell_type": "markdown",
   "metadata": {},
   "source": [
    "### Combine multiscale analysis"
   ]
  },
  {
   "cell_type": "code",
   "execution_count": 88,
   "metadata": {},
   "outputs": [],
   "source": [
    "# Combine to results from both scales\n",
    "out_raster = arcpy.sa.Plus(\"habRichness600m.tif\", \"habRichness300m.tif\"); out_raster.save(\"multiScaleHab.tif\")"
   ]
  },
  {
   "cell_type": "code",
   "execution_count": 89,
   "metadata": {},
   "outputs": [],
   "source": [
    "# Reclassify for final indicator categories\n",
    "out_raster = arcpy.sa.Reclassify(\"multiScaleHab.tif\", \"Value\", \"0 0;10 0;11 0;20 1;21 1;22 3;30 2;31 2;32 3;33 4\", \"DATA\"); out_raster.save(\"multiScaleHabClass.tif\")"
   ]
  },
  {
   "cell_type": "code",
   "execution_count": 90,
   "metadata": {},
   "outputs": [],
   "source": [
    "# Remove land (including mangrove) from indicator\n",
    "out_raster = arcpy.sa.Times(\"multiScaleHabClass.tif\", \"waterMask.tif\"); out_raster.save(\"multiScaleHabClassNoLand.tif\")"
   ]
  },
  {
   "cell_type": "code",
   "execution_count": 91,
   "metadata": {},
   "outputs": [],
   "source": [
    "# clip raster to Caribbean extent\n",
    "out_raster = arcpy.sa.ExtractByMask(\"multiScaleHabClassNoLand.tif\", CaribbeanRaster); out_raster.save(IndicatorFileName)"
   ]
  },
  {
   "cell_type": "markdown",
   "metadata": {},
   "source": [
    "## Finalize indicator"
   ]
  },
  {
   "cell_type": "code",
   "execution_count": 94,
   "metadata": {},
   "outputs": [],
   "source": [
    "# set code block for legend\n",
    "codeblock = \"\"\"\n",
    "def Reclass(value):\n",
    "    if value == 0:\n",
    "        return '0 = Low predicted fish density/diversity (no coral, mangrove, or dense seagrass present within 600 m of one other)'\n",
    "    elif value == 1:\n",
    "        return '1 = Medium predicted fish density/diversity (either mangrove and coral, mangrove and dense seagrass, or coral and dense seagrass present within 600 m)'    \n",
    "    elif value == 2:\n",
    "        return '2 = High predicted fish density/diversity (mangrove, coral, and dense seagrass all present within 600 m'\n",
    "    elif value == 3:\n",
    "        return '3 = Very high predicted fish density/diversity (either mangrove and coral, mangrove and dense seagrass, or coral and dense seagrass present within 300 m)' \n",
    "    elif value == 4:\n",
    "        return '4 = Highest predicted fish density/diversity (mangrove, coral, and dense seagrass all present within 300 m)'             \n",
    "\"\"\""
   ]
  },
  {
   "cell_type": "code",
   "execution_count": 95,
   "metadata": {},
   "outputs": [
    {
     "data": {
      "text/html": [
       "<div class='gpresult'><h2>Messages</h2><div id='messages' data-messages='[\"Start Time: Tuesday, July 11, 2023 10:18:06 AM\",\"Succeeded at Tuesday, July 11, 2023 10:18:07 AM (Elapsed Time: 0.13 seconds)\"]' data-show='true'><div id = 'default' /></div></div>"
      ],
      "text/plain": [
       "<Result 'D:\\\\Blueprint\\\\2023\\\\Caribbean\\\\Indicators\\\\WaterscapeHabitat\\\\working\\\\CaribbeanFishHotspots.tif'>"
      ]
     },
     "execution_count": 95,
     "metadata": {},
     "output_type": "execute_result"
    }
   ],
   "source": [
    "# add and calculate description field to hold indicator values\n",
    "arcpy.management.CalculateField(IndicatorFileName, \"descript\", \"Reclass(!value!)\", \"PYTHON3\", codeblock, \"TEXT\")"
   ]
  },
  {
   "cell_type": "code",
   "execution_count": 101,
   "metadata": {},
   "outputs": [],
   "source": [
    "# set code block for next step\n",
    "codeblock = \"\"\"\n",
    "def Reclass1(Value):\n",
    "\tif Value == 4:\n",
    "\t\treturn 169\n",
    "\tif Value == 3:\n",
    "\t\treturn 186\n",
    "\tif Value == 2:\n",
    "\t\treturn 187\n",
    "\tif Value == 1:\n",
    "\t\treturn 178\n",
    "\tif Value == 0:\n",
    "\t\treturn 255\n",
    "\telse:\n",
    "\t\treturn 255\n",
    "\t\t\n",
    "def Reclass2(Value):\n",
    "\tif Value == 4:\n",
    "\t\treturn 49\n",
    "\tif Value == 3:\n",
    "\t\treturn 78\n",
    "\tif Value == 2:\n",
    "\t\treturn 117\n",
    "\tif Value == 1:\n",
    "\t\treturn 158\n",
    "\tif Value == 0:\n",
    "\t\treturn 255\n",
    "\telse:\n",
    "\t\treturn 255\n",
    "\t\t\n",
    "def Reclass3(Value):\n",
    "\tif Value == 4:\n",
    "\t\treturn 84\n",
    "\tif Value == 3:\n",
    "\t\treturn 146\n",
    "\tif Value == 2:\n",
    "\t\treturn 190\n",
    "\tif Value == 1:\n",
    "\t\treturn 218\n",
    "\tif Value == 0:\n",
    "\t\treturn 255\n",
    "\telse:\n",
    "\t\treturn 255\n",
    "\t\t\n",
    "\"\"\""
   ]
  },
  {
   "cell_type": "code",
   "execution_count": 102,
   "metadata": {},
   "outputs": [
    {
     "data": {
      "text/html": [
       "<div class='gpresult'><h2>Messages</h2><div id='messages' data-messages='[\"Start Time: Thursday, September 14, 2023 10:28:28 AM\",\"Succeeded at Thursday, September 14, 2023 10:28:28 AM (Elapsed Time: 0.43 seconds)\"]' data-show='true'><div id = 'default' /></div></div>"
      ],
      "text/plain": [
       "<Result 'D:\\\\Blueprint\\\\2023\\\\finalIndicatorEdits\\\\CaribbeanBlueprint2023_FinalIndicators\\\\CaribbeanBlueprint2023_FinalIndicators\\\\SpatialData\\\\CaribbeanFishHotspots.tif'>"
      ]
     },
     "execution_count": 102,
     "metadata": {},
     "output_type": "execute_result"
    }
   ],
   "source": [
    "# calculate Red field\n",
    "arcpy.management.CalculateField(IndicatorFileName, \"Red\", \"Reclass1(!Value!)\", \"PYTHON3\", codeblock, \"SHORT\")\n",
    "# calculate Green field\n",
    "arcpy.management.CalculateField(IndicatorFileName, \"Green\", \"Reclass2(!Value!)\", \"PYTHON3\", codeblock, \"SHORT\")\n",
    "# calculate Blue field\n",
    "arcpy.management.CalculateField(IndicatorFileName, \"Blue\", \"Reclass3(!Value!)\", \"PYTHON3\", codeblock, \"SHORT\")"
   ]
  },
  {
   "cell_type": "code",
   "execution_count": null,
   "metadata": {},
   "outputs": [],
   "source": []
  }
 ],
 "metadata": {
  "kernelspec": {
   "display_name": "ArcGISPro",
   "language": "Python",
   "name": "python3"
  },
  "language_info": {
   "file_extension": ".py",
   "name": "python",
   "version": "3"
  }
 },
 "nbformat": 4,
 "nbformat_minor": 2
}
