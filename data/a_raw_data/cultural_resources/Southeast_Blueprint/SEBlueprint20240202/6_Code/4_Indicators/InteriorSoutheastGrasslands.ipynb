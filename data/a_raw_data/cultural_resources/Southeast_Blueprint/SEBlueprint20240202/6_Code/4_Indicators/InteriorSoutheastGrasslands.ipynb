{
 "cells": [
  {
   "cell_type": "markdown",
   "metadata": {},
   "source": [
    "###### Central Southeast Grasslands\n",
    "\n",
    "This is a draft indicator for the 2022 base blueprint.\n",
    "\n",
    "\n",
    "\n",
    "Created by Amy Keister, last run by Amy Keister on June 24, 2022. It took 6 hours and 38 minutes to run."
   ]
  },
  {
   "cell_type": "code",
   "execution_count": 1,
   "metadata": {},
   "outputs": [],
   "source": [
    "#import libraries\n",
    "import os\n",
    "import arcpy"
   ]
  },
  {
   "cell_type": "code",
   "execution_count": 2,
   "metadata": {},
   "outputs": [],
   "source": [
    "import time\n",
    "start = time.time()"
   ]
  },
  {
   "cell_type": "code",
   "execution_count": 3,
   "metadata": {},
   "outputs": [],
   "source": [
    "# define spatial reference and workspaces\n",
    "sr= arcpy.SpatialReference(5070)\n",
    "SourceWorkspace= r\"F:\\GIS_DATA\\LanduseLandcover\\KnownGrasslands\"\n",
    "OutWorkspace = r\"E:\\WORKING\\BaseBlueprint\\2022\\4_Indicators\\InteriorSoutheastGrasslands\\InteriorSEGrasslands.gdb\""
   ]
  },
  {
   "cell_type": "code",
   "execution_count": 4,
   "metadata": {},
   "outputs": [],
   "source": [
    "# define final indicator outputs\n",
    "SEout = r\"E:\\WORKING\\BaseBlueprint\\2022\\4_Indicators\\InteriorSoutheastGrasslands\\InteriorSoutheastGrasslands.tif\""
   ]
  },
  {
   "cell_type": "code",
   "execution_count": 5,
   "metadata": {},
   "outputs": [],
   "source": [
    "# define sub-indicator outputs\n",
    "#Known\n",
    "#PerFrb"
   ]
  },
  {
   "cell_type": "code",
   "execution_count": 6,
   "metadata": {},
   "outputs": [],
   "source": [
    "# define rasters used for cell size, extent, and snapping\n",
    "SEraster= r\"E:\\WORKING\\BaseBlueprint\\2022\\1_SubregionsAndExtent\\BaseBlueprintExtent2022.tif\""
   ]
  },
  {
   "cell_type": "code",
   "execution_count": 7,
   "metadata": {},
   "outputs": [],
   "source": [
    "# define inputs\n",
    "SubRg= r\"E:\\WORKING\\BaseBlueprint\\2022\\1_SubregionsAndExtent\\BaseBlueprintSubRgn.shp\"\n",
    "TNCgs= r\"F:\\GIS_DATA\\DecisionSupportTools\\TNCGeophysicalSettings\\Settings_2020_3_31_USAwwat.tif\"\n",
    "chEPV= r\"F:\\GIS_DATA\\LanduseLandcover\\CentralHardwoodsEcologicalPotential\\raster_data.gdb\\ecopot_al_60\"\n",
    "nlcd= r\"F:\\GIS_DATA\\LanduseLandcover\\NLCD\\NLCD_landcover_2019_release_all_files_20210604\\nlcd_2019_land_cover_l48_20210604\\nlcd_2019_land_cover_l48_20210604.img\"\n",
    "RcovB421= r\"F:\\GIS_DATA\\LanduseLandcover\\RangelandAnalysisPlatform\\vegetation-cover-v3-2021.tif/Band_4\"\n",
    "row= r\"F:\\GIS_DATA\\LanduseLandcover\\Electric_Power_Transmission_Lines\\Electric_Power_Transmission_Lines.shp\"\n",
    "PAD= r\"F:\\GIS_DATA\\ProtectedLands\\PAD_US2_1_GDB\\PAD_US2_1.gdb\\PADUS2_1Combined_Fee_Easement\""
   ]
  },
  {
   "cell_type": "markdown",
   "metadata": {},
   "source": [
    "## Start Analysis"
   ]
  },
  {
   "cell_type": "code",
   "execution_count": 8,
   "metadata": {},
   "outputs": [],
   "source": [
    "# Set the workspace where I want the output to go\n",
    "arcpy.env.workspace = OutWorkspace"
   ]
  },
  {
   "cell_type": "code",
   "execution_count": 9,
   "metadata": {},
   "outputs": [
    {
     "name": "stdout",
     "output_type": "stream",
     "text": [
      "E:\\WORKING\\BaseBlueprint\\2022\\4_Indicators\\CentralSEGrasslands\\InteriorSEGrasslands.gdb\n"
     ]
    }
   ],
   "source": [
    "print(arcpy.env.workspace)"
   ]
  },
  {
   "cell_type": "markdown",
   "metadata": {},
   "source": [
    "## Define extent of indicator"
   ]
  },
  {
   "cell_type": "code",
   "execution_count": 10,
   "metadata": {},
   "outputs": [
    {
     "data": {
      "text/html": [
       "<h2>Output</h2>E:\\WORKING\\BaseBlueprint\\2022\\4_Indicators\\CentralSEGrasslands\\InteriorSEGrasslands.gdb\\SubRg1<h2>Messages</h2>Start Time: Sunday, June 26, 2022 10:39:55 AM<br/>Succeeded at Sunday, June 26, 2022 10:39:56 AM (Elapsed Time: 0.49 seconds)<br/><style>.rendered_html td, .rendered_html th {text-align: left;}.rendered_html tbody {border: 1px solid black;}</style>"
      ],
      "text/plain": [
       "<Result 'E:\\\\WORKING\\\\BaseBlueprint\\\\2022\\\\4_Indicators\\\\CentralSEGrasslands\\\\InteriorSEGrasslands.gdb\\\\SubRg1'>"
      ]
     },
     "execution_count": 10,
     "metadata": {},
     "output_type": "execute_result"
    }
   ],
   "source": [
    "# select the subregions where this indicator is being used\n",
    "arcpy.analysis.Select(SubRg, \"SubRg1\", \"SubRgn_II IN ('Central Gulf Coastal Plain', 'Interior Plateau', 'Mid East Gulf Coastal Plain', 'North Appalachians', 'North Piedmont', 'Ozarks and Plains', 'South Appalachians', 'South Piedmont')\")"
   ]
  },
  {
   "cell_type": "code",
   "execution_count": 11,
   "metadata": {},
   "outputs": [
    {
     "data": {
      "text/html": [
       "<h2>Output</h2>a Layer object<h2>Messages</h2>Start Time: Sunday, June 26, 2022 10:39:56 AM<br/>Adding Raster to SubRg1...<br/>Succeeded at Sunday, June 26, 2022 10:39:56 AM (Elapsed Time: 0.18 seconds)<br/><style>.rendered_html td, .rendered_html th {text-align: left;}.rendered_html tbody {border: 1px solid black;}</style>"
      ],
      "text/plain": [
       "<Result 'SubRg1'>"
      ]
     },
     "execution_count": 11,
     "metadata": {},
     "output_type": "execute_result"
    }
   ],
   "source": [
    "# add field to convert to raster\n",
    "arcpy.management.CalculateField(\"SubRg1\", \"Raster\", \"1\", \"PYTHON3\", '', \"TEXT\", \"NO_ENFORCE_DOMAINS\")"
   ]
  },
  {
   "cell_type": "code",
   "execution_count": 12,
   "metadata": {},
   "outputs": [],
   "source": [
    "# convert to raster\n",
    "with arcpy.EnvManager(outputCoordinateSystem=sr, extent=SEraster, snapRaster=SEraster, cellSize=SEraster):\n",
    "    arcpy.conversion.FeatureToRaster(\"SubRg1\", \"Raster\", \"SubRg1R\", SEraster)"
   ]
  },
  {
   "cell_type": "markdown",
   "metadata": {},
   "source": [
    "## Known Prairies (Bin 5)"
   ]
  },
  {
   "cell_type": "markdown",
   "metadata": {},
   "source": [
    "### kml file conversion\n",
    "I'm converting the kml files to feature classes first using a batch function"
   ]
  },
  {
   "cell_type": "code",
   "execution_count": 13,
   "metadata": {},
   "outputs": [
    {
     "data": {
      "text/html": [
       "<h2>Output</h2>F:\\GIS_DATA\\LanduseLandcover\\KnownGrasslands\\temp.gdb<h2>Messages</h2>Start Time: Sunday, June 26, 2022 10:41:30 AM<br/>Succeeded at Sunday, June 26, 2022 10:41:31 AM (Elapsed Time: 0.94 seconds)<br/><style>.rendered_html td, .rendered_html th {text-align: left;}.rendered_html tbody {border: 1px solid black;}</style>"
      ],
      "text/plain": [
       "<Result 'F:\\\\GIS_DATA\\\\LanduseLandcover\\\\KnownGrasslands\\\\temp.gdb'>"
      ]
     },
     "execution_count": 13,
     "metadata": {},
     "output_type": "execute_result"
    }
   ],
   "source": [
    "# I can't figure out how to get my walk to include kml files\n",
    "# so I'm making a temporary geodatabase and using a batch import\n",
    "arcpy.management.CreateFileGDB(SourceWorkspace, \"temp\", \"CURRENT\")"
   ]
  },
  {
   "cell_type": "code",
   "execution_count": 14,
   "metadata": {},
   "outputs": [
    {
     "data": {
      "text/html": [
       "<h2>Output</h2>F:\\GIS_DATA\\LanduseLandcover\\KnownGrasslands\\temp.gdb<h2>Messages</h2>Start Time: Sunday, June 26, 2022 10:41:35 AM<br/>Searching folder F:\\GIS_DATA\\LanduseLandcover\\KnownGrasslands for source datasets...<br/>----------------------------------------<br/>Source file: F:\\GIS_DATA\\LanduseLandcover\\KnownGrasslands\\KnownGrasslandsSGI\\allegheny-mountains-riverscour-barrens.kml<br/>----------------------------------------<br/>Source file: F:\\GIS_DATA\\LanduseLandcover\\KnownGrasslands\\KnownGrasslandsSGI\\big-south-fork-riverscour-barrens-1.kml<br/>----------------------------------------<br/>Source file: F:\\GIS_DATA\\LanduseLandcover\\KnownGrasslands\\KnownGrasslandsSGI\\big-south-fork-riverscour-barrens-2.kml<br/>----------------------------------------<br/>Source file: F:\\GIS_DATA\\LanduseLandcover\\KnownGrasslands\\KnownGrasslandsSGI\\big-south-fork-riverscour-barrens-4-us.kml<br/>----------------------------------------<br/>Source file: F:\\GIS_DATA\\LanduseLandcover\\KnownGrasslands\\KnownGrasslandsSGI\\big-south-fork-riverscour-barrens-6.kml<br/>----------------------------------------<br/>Source file: F:\\GIS_DATA\\LanduseLandcover\\KnownGrasslands\\KnownGrasslandsSGI\\biodiversity-of-piedmont-granite-glades-outcrops.kml<br/>----------------------------------------<br/>Source file: F:\\GIS_DATA\\LanduseLandcover\\KnownGrasslands\\KnownGrasslandsSGI\\bluff-mountain-fen.kml<br/>----------------------------------------<br/>Source file: F:\\GIS_DATA\\LanduseLandcover\\KnownGrasslands\\KnownGrasslandsSGI\\caney-fork-sandstone-riverscour-barrens-and-glades.kml<br/>----------------------------------------<br/>Source file: F:\\GIS_DATA\\LanduseLandcover\\KnownGrasslands\\KnownGrasslandsSGI\\clear-creek-sandstone-riverscour-barrens.kml<br/>----------------------------------------<br/>Source file: F:\\GIS_DATA\\LanduseLandcover\\KnownGrasslands\\KnownGrasslandsSGI\\clear-fork-river-riverscour-barrens.kml<br/>----------------------------------------<br/>Source file: F:\\GIS_DATA\\LanduseLandcover\\KnownGrasslands\\KnownGrasslandsSGI\\craggy-mountains-mafic-outcrops-and-barrens.kml<br/>----------------------------------------<br/>Source file: F:\\GIS_DATA\\LanduseLandcover\\KnownGrasslands\\KnownGrasslandsSGI\\cumberland-plateau-escarpment-limestone-barrens.kml<br/>----------------------------------------<br/>Source file: F:\\GIS_DATA\\LanduseLandcover\\KnownGrasslands\\KnownGrasslandsSGI\\cumberland-river-limestone-riverscour-glades.kml<br/>----------------------------------------<br/>Source file: F:\\GIS_DATA\\LanduseLandcover\\KnownGrasslands\\KnownGrasslandsSGI\\daddy-s-creek-riverscour-barrens.kml<br/>----------------------------------------<br/>Source file: F:\\GIS_DATA\\LanduseLandcover\\KnownGrasslands\\KnownGrasslandsSGI\\dunbar-cave-prairie-restoration.kml<br/>----------------------------------------<br/>Source file: F:\\GIS_DATA\\LanduseLandcover\\KnownGrasslands\\KnownGrasslandsSGI\\eastern-highland-rim-limestone-riverscour-glade.kml<br/>----------------------------------------<br/>Source file: F:\\GIS_DATA\\LanduseLandcover\\KnownGrasslands\\KnownGrasslandsSGI\\emory-river-sandstone-riverscour-barrens.kml<br/>----------------------------------------<br/>Source file: F:\\GIS_DATA\\LanduseLandcover\\KnownGrasslands\\KnownGrasslandsSGI\\falls-of-the-ohio-river-limestone-riverscour-glade.kml<br/>----------------------------------------<br/>Source file: F:\\GIS_DATA\\LanduseLandcover\\KnownGrasslands\\KnownGrasslandsSGI\\flat-rock-cedar-glades-and-barrens-state-natural-area.kml<br/>----------------------------------------<br/>Source file: F:\\GIS_DATA\\LanduseLandcover\\KnownGrasslands\\KnownGrasslandsSGI\\grasshopper-hollow-fen.kml<br/>----------------------------------------<br/>Source file: F:\\GIS_DATA\\LanduseLandcover\\KnownGrasslands\\KnownGrasslandsSGI\\gunstocker-glade.kml<br/>----------------------------------------<br/>Source file: F:\\GIS_DATA\\LanduseLandcover\\KnownGrasslands\\KnownGrasslandsSGI\\hiwassee-river-phyllite-riverscour-glade.kml<br/>----------------------------------------<br/>Source file: F:\\GIS_DATA\\LanduseLandcover\\KnownGrasslands\\KnownGrasslandsSGI\\ketona-dolomite-barrens.kml<br/>----------------------------------------<br/>Source file: F:\\GIS_DATA\\LanduseLandcover\\KnownGrasslands\\KnownGrasslandsSGI\\laurel-river-riverscour-barrens-and-glades.kml<br/>----------------------------------------<br/>Source file: F:\\GIS_DATA\\LanduseLandcover\\KnownGrasslands\\KnownGrasslandsSGI\\lime-hills-limestone-barrens.kml<br/>----------------------------------------<br/>Source file: F:\\GIS_DATA\\LanduseLandcover\\KnownGrasslands\\KnownGrasslandsSGI\\limestone-barrens-of-the-western-valley-of-the-tennessee-river.kml<br/>----------------------------------------<br/>Source file: F:\\GIS_DATA\\LanduseLandcover\\KnownGrasslands\\KnownGrasslandsSGI\\little-mountains-limestone-barrens.kml<br/>----------------------------------------<br/>Source file: F:\\GIS_DATA\\LanduseLandcover\\KnownGrasslands\\KnownGrasslandsSGI\\little-river-canyon-riverscour-barrens-and-glades.kml<br/>----------------------------------------<br/>Source file: F:\\GIS_DATA\\LanduseLandcover\\KnownGrasslands\\KnownGrasslandsSGI\\moulton-valley-limestone-glades.kml<br/>----------------------------------------<br/>Source file: F:\\GIS_DATA\\LanduseLandcover\\KnownGrasslands\\KnownGrasslandsSGI\\mulberry-fork-of-black-warrior-river-riverscour-barrens-and-glades.kml<br/>----------------------------------------<br/>Source file: F:\\GIS_DATA\\LanduseLandcover\\KnownGrasslands\\KnownGrasslandsSGI\\muldraugh-s-hill-limestone-barrens.kml<br/>----------------------------------------<br/>Source file: F:\\GIS_DATA\\LanduseLandcover\\KnownGrasslands\\KnownGrasslandsSGI\\new-river-riverscour-barrens.kml<br/>----------------------------------------<br/>Source file: F:\\GIS_DATA\\LanduseLandcover\\KnownGrasslands\\KnownGrasslandsSGI\\obed-river-sandstone-riverscour-barrens.kml<br/>----------------------------------------<br/>Source file: F:\\GIS_DATA\\LanduseLandcover\\KnownGrasslands\\KnownGrasslandsSGI\\outer-bluegrass-dolomite-barrens.kml<br/>----------------------------------------<br/>Source file: F:\\GIS_DATA\\LanduseLandcover\\KnownGrasslands\\KnownGrasslandsSGI\\ridge-and-valley-sandstone-outcrops.kml<br/>----------------------------------------<br/>Source file: F:\\GIS_DATA\\LanduseLandcover\\KnownGrasslands\\KnownGrasslandsSGI\\rock-creek-sandstone-riverscour-barrens.kml<br/>----------------------------------------<br/>Source file: F:\\GIS_DATA\\LanduseLandcover\\KnownGrasslands\\KnownGrasslandsSGI\\rockcastle-river-sandstone-riverscour-barrens.kml<br/>----------------------------------------<br/>Source file: F:\\GIS_DATA\\LanduseLandcover\\KnownGrasslands\\KnownGrasslandsSGI\\shawnee-hills-sandstone-glades-and-outcrops.kml<br/>----------------------------------------<br/>Source file: F:\\GIS_DATA\\LanduseLandcover\\KnownGrasslands\\KnownGrasslandsSGI\\southern-blue-ridge-mountains-grass-balds.kml<br/>----------------------------------------<br/>Source file: F:\\GIS_DATA\\LanduseLandcover\\KnownGrasslands\\KnownGrasslandsSGI\\southern-blue-ridge-mountains-serpentine-barrens.kml<br/>----------------------------------------<br/>Source file: F:\\GIS_DATA\\LanduseLandcover\\KnownGrasslands\\KnownGrasslandsSGI\\southern-blue-ridge-phyllite-outcrops.kml<br/>----------------------------------------<br/>Source file: F:\\GIS_DATA\\LanduseLandcover\\KnownGrasslands\\KnownGrasslandsSGI\\southern-ridge-and-valley-limestone-glades.kml<br/>----------------------------------------<br/>Source file: F:\\GIS_DATA\\LanduseLandcover\\KnownGrasslands\\KnownGrasslandsSGI\\southern-ridge-and-valley-shale-barrens.kml<br/>----------------------------------------<br/>Source file: F:\\GIS_DATA\\LanduseLandcover\\KnownGrasslands\\KnownGrasslandsSGI\\southern-ridge-and-valley-siltstone-barrens.kml<br/>----------------------------------------<br/>Source file: F:\\GIS_DATA\\LanduseLandcover\\KnownGrasslands\\KnownGrasslandsSGI\\tennessee-ridge-and-valley-dolomite-barrens-and-woodlands-tn-us.kml<br/>----------------------------------------<br/>Source file: F:\\GIS_DATA\\LanduseLandcover\\KnownGrasslands\\KnownGrasslandsSGI\\the-farm-prairie-and-oak-savanna.kml<br/>----------------------------------------<br/>Source file: F:\\GIS_DATA\\LanduseLandcover\\KnownGrasslands\\KnownGrasslandsSGI\\tin-top-road-savanna.kml<br/>----------------------------------------<br/>Source file: F:\\GIS_DATA\\LanduseLandcover\\KnownGrasslands\\KnownGrasslandsSGI\\western-allegheny-escarpment-limestone-barrens.kml<br/>----------------------------------------<br/>Source file: F:\\GIS_DATA\\LanduseLandcover\\KnownGrasslands\\KnownGrasslandsSGI\\western-highland-rim-limestone-glade-and-barrens.kml<br/>----------------------------------------<br/>Source file: F:\\GIS_DATA\\LanduseLandcover\\KnownGrasslands\\KnownGrasslandsSGI\\western-valley-limestone-barrens-decatur-co-north-us.kml<br/>----------------------------------------<br/>Source file: F:\\GIS_DATA\\LanduseLandcover\\KnownGrasslands\\KnownGrasslandsSGI\\western-valley-limestone-barrens-hardin-wayne-cos.kml<br/>----------------------------------------<br/>Source file: F:\\GIS_DATA\\LanduseLandcover\\KnownGrasslands\\KnownGrasslandsSGI\\western-valley-limestone-barrens-perry-co.kml<br/>----------------------------------------<br/>Source file: F:\\GIS_DATA\\LanduseLandcover\\KnownGrasslands\\KnownGrasslandsSGI\\western-valley-silurian-limestone-barrens.kml<br/>----------------------------------------<br/>Source file: F:\\GIS_DATA\\LanduseLandcover\\KnownGrasslands\\KnownGrasslandsSGI\\white-s-creek-sandstone-riverscour-barrens-and-glades.kml<br/>Succeeded at Sunday, June 26, 2022 10:46:51 AM (Elapsed Time: 5 minutes 15 seconds)<br/><style>.rendered_html td, .rendered_html th {text-align: left;}.rendered_html tbody {border: 1px solid black;}</style>"
      ],
      "text/plain": [
       "<Result 'F:\\\\GIS_DATA\\\\LanduseLandcover\\\\KnownGrasslands\\\\temp.gdb'>"
      ]
     },
     "execution_count": 14,
     "metadata": {},
     "output_type": "execute_result"
    }
   ],
   "source": [
    "# use batch import to convert kml files to feature classes\n",
    "# I couldn't figure out how to write it so that I didn't have to re-write the full output path :(\n",
    "\n",
    "arcpy.intelligence.BatchImportData(SourceWorkspace, r\"F:\\GIS_DATA\\LanduseLandcover\\KnownGrasslands\\temp.gdb\", \"*.kml\", \"SUBFOLDERS\", \"GROUNDOVERLAY\")"
   ]
  },
  {
   "cell_type": "markdown",
   "metadata": {},
   "source": [
    "### Feature classes"
   ]
  },
  {
   "cell_type": "code",
   "execution_count": 15,
   "metadata": {},
   "outputs": [],
   "source": [
    "# Set the workspace where the known south atlantic prairies are stored\n",
    "arcpy.env.workspace = SourceWorkspace"
   ]
  },
  {
   "cell_type": "code",
   "execution_count": 16,
   "metadata": {},
   "outputs": [
    {
     "name": "stdout",
     "output_type": "stream",
     "text": [
      "F:\\GIS_DATA\\LanduseLandcover\\KnownGrasslands\n"
     ]
    }
   ],
   "source": [
    "print(arcpy.env.workspace)"
   ]
  },
  {
   "cell_type": "code",
   "execution_count": 17,
   "metadata": {},
   "outputs": [],
   "source": [
    "#look in the source data for known praries, make a list of all the polygon feature classes\n",
    "FCList = []\n",
    "\n",
    "walk = arcpy.da.Walk(SourceWorkspace, datatype=\"FeatureClass\", type=\"Polygon\")\n",
    "\n",
    "for dirpath, dirnames, filenames in walk:\n",
    "    # disregard all the additional non-prarie polygons that came with the prairie ridge data\n",
    "    if \"prairie_ridge_final_data.gdb\" in dirnames:\n",
    "        dirnames.remove('prairie_ridge_final_data.gdb')\n",
    "    for filename in filenames:\n",
    "        FCList.append(os.path.join(dirpath, filename))"
   ]
  },
  {
   "cell_type": "code",
   "execution_count": 18,
   "metadata": {},
   "outputs": [
    {
     "name": "stdout",
     "output_type": "stream",
     "text": [
      "['F:\\\\GIS_DATA\\\\LanduseLandcover\\\\KnownGrasslands\\\\KnownGrasslandsSGI\\\\NashvilleBasinLimestoneGlades.shp', 'F:\\\\GIS_DATA\\\\LanduseLandcover\\\\KnownGrasslands\\\\KnownPrairiePatchesInTheGCPO\\\\Prairies_AL_AR_MO_MS.shp', 'F:\\\\GIS_DATA\\\\LanduseLandcover\\\\KnownGrasslands\\\\KnownPrairieSouthAtlantic\\\\CVP\\\\CVP.shp', 'F:\\\\GIS_DATA\\\\LanduseLandcover\\\\KnownGrasslands\\\\KnownPrairieSouthAtlantic\\\\Mecklenburg_Piedmont_prairies\\\\EarlySuccessional.shp', 'F:\\\\GIS_DATA\\\\LanduseLandcover\\\\KnownGrasslands\\\\KnownPrairieSouthAtlantic\\\\NCBG_managedprairies\\\\NCBG_Managed_Fields.shp', 'F:\\\\GIS_DATA\\\\LanduseLandcover\\\\KnownGrasslands\\\\KnownPrairieSouthAtlantic\\\\NC_PrairieRidge\\\\PrairieRidge_UpdatedPrairies.shp', 'F:\\\\GIS_DATA\\\\LanduseLandcover\\\\KnownGrasslands\\\\KnownPrairieSouthAtlantic\\\\NC_TurnipseedNaturePreserveAndQualityROWs\\\\OS_poly.shp', 'F:\\\\GIS_DATA\\\\LanduseLandcover\\\\KnownGrasslands\\\\KnownPrairieSouthAtlantic\\\\SBG_Grass_Restoration\\\\SBG_Grass_Restoration.shp', 'F:\\\\GIS_DATA\\\\LanduseLandcover\\\\KnownGrasslands\\\\KnownPrairieSouthAtlantic\\\\Sumter_PiedmontPrairies\\\\FMS_PostOakSavanna.shp', 'F:\\\\GIS_DATA\\\\LanduseLandcover\\\\KnownGrasslands\\\\KnownPrairieSouthAtlantic\\\\VAHertageConfirmedLocations\\\\TargetAreas_Habitat_ConfirmedLocation.shp', 'F:\\\\GIS_DATA\\\\LanduseLandcover\\\\KnownGrasslands\\\\temp.gdb\\\\allegheny_mountains_riverscour_barrens_Polygons', 'F:\\\\GIS_DATA\\\\LanduseLandcover\\\\KnownGrasslands\\\\temp.gdb\\\\big_south_fork_riverscour_barrens_1_Polygons', 'F:\\\\GIS_DATA\\\\LanduseLandcover\\\\KnownGrasslands\\\\temp.gdb\\\\big_south_fork_riverscour_barrens_2_Polygons', 'F:\\\\GIS_DATA\\\\LanduseLandcover\\\\KnownGrasslands\\\\temp.gdb\\\\big_south_fork_riverscour_barrens_4_us_Polygons', 'F:\\\\GIS_DATA\\\\LanduseLandcover\\\\KnownGrasslands\\\\temp.gdb\\\\big_south_fork_riverscour_barrens_6_Polygons', 'F:\\\\GIS_DATA\\\\LanduseLandcover\\\\KnownGrasslands\\\\temp.gdb\\\\biodiversity_of_piedmont_granite_glades_outcrops_Polygons', 'F:\\\\GIS_DATA\\\\LanduseLandcover\\\\KnownGrasslands\\\\temp.gdb\\\\bluff_mountain_fen_Polygons', 'F:\\\\GIS_DATA\\\\LanduseLandcover\\\\KnownGrasslands\\\\temp.gdb\\\\caney_fork_sandstone_riverscour_barrens_and_glades_Polygons', 'F:\\\\GIS_DATA\\\\LanduseLandcover\\\\KnownGrasslands\\\\temp.gdb\\\\clear_creek_sandstone_riverscour_barrens_Polygons', 'F:\\\\GIS_DATA\\\\LanduseLandcover\\\\KnownGrasslands\\\\temp.gdb\\\\clear_fork_river_riverscour_barrens_Polygons', 'F:\\\\GIS_DATA\\\\LanduseLandcover\\\\KnownGrasslands\\\\temp.gdb\\\\craggy_mountains_mafic_outcrops_and_barrens_Polygons', 'F:\\\\GIS_DATA\\\\LanduseLandcover\\\\KnownGrasslands\\\\temp.gdb\\\\cumberland_plateau_escarpment_limestone_barrens_Polygons', 'F:\\\\GIS_DATA\\\\LanduseLandcover\\\\KnownGrasslands\\\\temp.gdb\\\\cumberland_river_limestone_riverscour_glades_Polygons', 'F:\\\\GIS_DATA\\\\LanduseLandcover\\\\KnownGrasslands\\\\temp.gdb\\\\daddy_s_creek_riverscour_barrens_Polygons', 'F:\\\\GIS_DATA\\\\LanduseLandcover\\\\KnownGrasslands\\\\temp.gdb\\\\dunbar_cave_prairie_restoration_Polygons', 'F:\\\\GIS_DATA\\\\LanduseLandcover\\\\KnownGrasslands\\\\temp.gdb\\\\eastern_highland_rim_limestone_riverscour_glade_Polygons', 'F:\\\\GIS_DATA\\\\LanduseLandcover\\\\KnownGrasslands\\\\temp.gdb\\\\emory_river_sandstone_riverscour_barrens_Polygons', 'F:\\\\GIS_DATA\\\\LanduseLandcover\\\\KnownGrasslands\\\\temp.gdb\\\\falls_of_the_ohio_river_limestone_riverscour_glade_Polygons', 'F:\\\\GIS_DATA\\\\LanduseLandcover\\\\KnownGrasslands\\\\temp.gdb\\\\flat_rock_cedar_glades_and_barrens_state_natural_area_Polygons', 'F:\\\\GIS_DATA\\\\LanduseLandcover\\\\KnownGrasslands\\\\temp.gdb\\\\grasshopper_hollow_fen_Polygons', 'F:\\\\GIS_DATA\\\\LanduseLandcover\\\\KnownGrasslands\\\\temp.gdb\\\\gunstocker_glade_Polygons', 'F:\\\\GIS_DATA\\\\LanduseLandcover\\\\KnownGrasslands\\\\temp.gdb\\\\hiwassee_river_phyllite_riverscour_glade_Polygons', 'F:\\\\GIS_DATA\\\\LanduseLandcover\\\\KnownGrasslands\\\\temp.gdb\\\\ketona_dolomite_barrens_Polygons', 'F:\\\\GIS_DATA\\\\LanduseLandcover\\\\KnownGrasslands\\\\temp.gdb\\\\laurel_river_riverscour_barrens_and_glades_Polygons', 'F:\\\\GIS_DATA\\\\LanduseLandcover\\\\KnownGrasslands\\\\temp.gdb\\\\lime_hills_limestone_barrens_Polygons', 'F:\\\\GIS_DATA\\\\LanduseLandcover\\\\KnownGrasslands\\\\temp.gdb\\\\limestone_barrens_of_the_western_valley_of_the_tennessee_river_Polygons', 'F:\\\\GIS_DATA\\\\LanduseLandcover\\\\KnownGrasslands\\\\temp.gdb\\\\little_mountains_limestone_barrens_Polygons', 'F:\\\\GIS_DATA\\\\LanduseLandcover\\\\KnownGrasslands\\\\temp.gdb\\\\little_river_canyon_riverscour_barrens_and_glades_Polygons', 'F:\\\\GIS_DATA\\\\LanduseLandcover\\\\KnownGrasslands\\\\temp.gdb\\\\moulton_valley_limestone_glades_Polygons', 'F:\\\\GIS_DATA\\\\LanduseLandcover\\\\KnownGrasslands\\\\temp.gdb\\\\mulberry_fork_of_black_warrior_river_riverscour_barrens_and_glades_Polygons', 'F:\\\\GIS_DATA\\\\LanduseLandcover\\\\KnownGrasslands\\\\temp.gdb\\\\muldraugh_s_hill_limestone_barrens_Polygons', 'F:\\\\GIS_DATA\\\\LanduseLandcover\\\\KnownGrasslands\\\\temp.gdb\\\\new_river_riverscour_barrens_Polygons', 'F:\\\\GIS_DATA\\\\LanduseLandcover\\\\KnownGrasslands\\\\temp.gdb\\\\obed_river_sandstone_riverscour_barrens_Polygons', 'F:\\\\GIS_DATA\\\\LanduseLandcover\\\\KnownGrasslands\\\\temp.gdb\\\\outer_bluegrass_dolomite_barrens_Polygons', 'F:\\\\GIS_DATA\\\\LanduseLandcover\\\\KnownGrasslands\\\\temp.gdb\\\\ridge_and_valley_sandstone_outcrops_Polygons', 'F:\\\\GIS_DATA\\\\LanduseLandcover\\\\KnownGrasslands\\\\temp.gdb\\\\rock_creek_sandstone_riverscour_barrens_Polygons', 'F:\\\\GIS_DATA\\\\LanduseLandcover\\\\KnownGrasslands\\\\temp.gdb\\\\rockcastle_river_sandstone_riverscour_barrens_Polygons', 'F:\\\\GIS_DATA\\\\LanduseLandcover\\\\KnownGrasslands\\\\temp.gdb\\\\shawnee_hills_sandstone_glades_and_outcrops_Polygons', 'F:\\\\GIS_DATA\\\\LanduseLandcover\\\\KnownGrasslands\\\\temp.gdb\\\\southern_blue_ridge_mountains_grass_balds_Polygons', 'F:\\\\GIS_DATA\\\\LanduseLandcover\\\\KnownGrasslands\\\\temp.gdb\\\\southern_blue_ridge_mountains_serpentine_barrens_Polygons', 'F:\\\\GIS_DATA\\\\LanduseLandcover\\\\KnownGrasslands\\\\temp.gdb\\\\southern_blue_ridge_phyllite_outcrops_Polygons', 'F:\\\\GIS_DATA\\\\LanduseLandcover\\\\KnownGrasslands\\\\temp.gdb\\\\southern_ridge_and_valley_limestone_glades_Polygons', 'F:\\\\GIS_DATA\\\\LanduseLandcover\\\\KnownGrasslands\\\\temp.gdb\\\\southern_ridge_and_valley_shale_barrens_Polygons', 'F:\\\\GIS_DATA\\\\LanduseLandcover\\\\KnownGrasslands\\\\temp.gdb\\\\southern_ridge_and_valley_siltstone_barrens_Polygons', 'F:\\\\GIS_DATA\\\\LanduseLandcover\\\\KnownGrasslands\\\\temp.gdb\\\\tennessee_ridge_and_valley_dolomite_barrens_and_woodlands_tn_us_Polygons', 'F:\\\\GIS_DATA\\\\LanduseLandcover\\\\KnownGrasslands\\\\temp.gdb\\\\the_farm_prairie_and_oak_savanna_Polygons', 'F:\\\\GIS_DATA\\\\LanduseLandcover\\\\KnownGrasslands\\\\temp.gdb\\\\tin_top_road_savanna_Polygons', 'F:\\\\GIS_DATA\\\\LanduseLandcover\\\\KnownGrasslands\\\\temp.gdb\\\\western_allegheny_escarpment_limestone_barrens_Polygons', 'F:\\\\GIS_DATA\\\\LanduseLandcover\\\\KnownGrasslands\\\\temp.gdb\\\\western_highland_rim_limestone_glade_and_barrens_Polygons', 'F:\\\\GIS_DATA\\\\LanduseLandcover\\\\KnownGrasslands\\\\temp.gdb\\\\western_valley_limestone_barrens_decatur_co_north_us_Polygons', 'F:\\\\GIS_DATA\\\\LanduseLandcover\\\\KnownGrasslands\\\\temp.gdb\\\\western_valley_limestone_barrens_hardin_wayne_cos_Polygons', 'F:\\\\GIS_DATA\\\\LanduseLandcover\\\\KnownGrasslands\\\\temp.gdb\\\\western_valley_limestone_barrens_perry_co_Polygons', 'F:\\\\GIS_DATA\\\\LanduseLandcover\\\\KnownGrasslands\\\\temp.gdb\\\\western_valley_silurian_limestone_barrens_Polygons', 'F:\\\\GIS_DATA\\\\LanduseLandcover\\\\KnownGrasslands\\\\temp.gdb\\\\white_s_creek_sandstone_riverscour_barrens_and_glades_Polygons']\n"
     ]
    }
   ],
   "source": [
    "#Print the list made in the above step to make sure it is correct\n",
    "print(FCList)"
   ]
  },
  {
   "cell_type": "code",
   "execution_count": 19,
   "metadata": {},
   "outputs": [],
   "source": [
    "# Change the workspace to where I am saving the outputs\n",
    "arcpy.env.workspace = OutWorkspace"
   ]
  },
  {
   "cell_type": "code",
   "execution_count": 20,
   "metadata": {},
   "outputs": [
    {
     "name": "stdout",
     "output_type": "stream",
     "text": [
      "E:\\WORKING\\BaseBlueprint\\2022\\4_Indicators\\CentralSEGrasslands\\InteriorSEGrasslands.gdb\n"
     ]
    }
   ],
   "source": [
    "# Print the current workspace to make sure I'm in the right spot\n",
    "print(arcpy.env.workspace)"
   ]
  },
  {
   "cell_type": "code",
   "execution_count": 21,
   "metadata": {},
   "outputs": [],
   "source": [
    "# I keep getting an error when I try to union, so I'm going to try to repair geometery\n",
    "for FC in FCList:\n",
    "    arcpy.management.RepairGeometry(FC, \"DELETE_NULL\", \"ESRI\")"
   ]
  },
  {
   "cell_type": "code",
   "execution_count": 22,
   "metadata": {},
   "outputs": [
    {
     "data": {
      "text/html": [
       "<h2>Output</h2>E:\\WORKING\\BaseBlueprint\\2022\\4_Indicators\\CentralSEGrasslands\\InteriorSEGrasslands.gdb\\KnownPrairieUnion<h2>Messages</h2>Start Time: Sunday, June 26, 2022 10:48:43 AM<br/>Assembling Features...<br/>Reading Features...<br/>Cracking Features...<br/>Succeeded at Sunday, June 26, 2022 10:49:11 AM (Elapsed Time: 28.57 seconds)<br/>WARNING 001003: Datum conflict between input and output.<br/><style>.rendered_html td, .rendered_html th {text-align: left;}.rendered_html tbody {border: 1px solid black;}</style>"
      ],
      "text/plain": [
       "<Result 'E:\\\\WORKING\\\\BaseBlueprint\\\\2022\\\\4_Indicators\\\\CentralSEGrasslands\\\\InteriorSEGrasslands.gdb\\\\KnownPrairieUnion'>"
      ]
     },
     "execution_count": 22,
     "metadata": {},
     "output_type": "execute_result"
    }
   ],
   "source": [
    "# combine known prairie into one layer\n",
    "arcpy.analysis.Union(FCList, \"KnownPrairieUnion\")"
   ]
  },
  {
   "cell_type": "code",
   "execution_count": 23,
   "metadata": {},
   "outputs": [
    {
     "data": {
      "text/html": [
       "<h2>Output</h2>true<h2>Messages</h2>Start Time: Sunday, June 26, 2022 10:49:19 AM<br/>Succeeded at Sunday, June 26, 2022 10:49:21 AM (Elapsed Time: 2.31 seconds)<br/><style>.rendered_html td, .rendered_html th {text-align: left;}.rendered_html tbody {border: 1px solid black;}</style>"
      ],
      "text/plain": [
       "<Result 'true'>"
      ]
     },
     "execution_count": 23,
     "metadata": {},
     "output_type": "execute_result"
    }
   ],
   "source": [
    "# delete the temprorary geodatabase that stored the converted kml files\n",
    "arcpy.management.Delete(r\"F:\\GIS_DATA\\LanduseLandcover\\KnownGrasslands\\temp.gdb\", '')"
   ]
  },
  {
   "cell_type": "markdown",
   "metadata": {},
   "source": [
    "### PADUS 2.1 Combined Fee, Easement"
   ]
  },
  {
   "cell_type": "code",
   "execution_count": 24,
   "metadata": {},
   "outputs": [
    {
     "data": {
      "text/html": [
       "<h2>Output</h2>E:\\WORKING\\BaseBlueprint\\2022\\4_Indicators\\CentralSEGrasslands\\InteriorSEGrasslands.gdb\\PADclip<h2>Messages</h2>Start Time: Sunday, June 26, 2022 10:49:24 AM<br/>Clipping input features...<br/>Succeeded at Sunday, June 26, 2022 10:49:33 AM (Elapsed Time: 9.46 seconds)<br/><style>.rendered_html td, .rendered_html th {text-align: left;}.rendered_html tbody {border: 1px solid black;}</style>"
      ],
      "text/plain": [
       "<Result 'E:\\\\WORKING\\\\BaseBlueprint\\\\2022\\\\4_Indicators\\\\CentralSEGrasslands\\\\InteriorSEGrasslands.gdb\\\\PADclip'>"
      ]
     },
     "execution_count": 24,
     "metadata": {},
     "output_type": "execute_result"
    }
   ],
   "source": [
    "# clip pad to the extent of this indicator\n",
    "arcpy.analysis.PairwiseClip(PAD, \"SubRg1\", \"PADclip\", None)"
   ]
  },
  {
   "cell_type": "code",
   "execution_count": 25,
   "metadata": {},
   "outputs": [
    {
     "data": {
      "text/html": [
       "<h2>Output</h2>E:\\WORKING\\BaseBlueprint\\2022\\4_Indicators\\CentralSEGrasslands\\InteriorSEGrasslands.gdb\\PADgrp<h2>Messages</h2>Start Time: Sunday, June 26, 2022 10:49:34 AM<br/>Succeeded at Sunday, June 26, 2022 10:49:35 AM (Elapsed Time: 1.04 seconds)<br/><style>.rendered_html td, .rendered_html th {text-align: left;}.rendered_html tbody {border: 1px solid black;}</style>"
      ],
      "text/plain": [
       "<Result 'E:\\\\WORKING\\\\BaseBlueprint\\\\2022\\\\4_Indicators\\\\CentralSEGrasslands\\\\InteriorSEGrasslands.gdb\\\\PADgrp'>"
      ]
     },
     "execution_count": 25,
     "metadata": {},
     "output_type": "execute_result"
    }
   ],
   "source": [
    "# select polygons from the PAD US that are designated as grassland reserve program\n",
    "arcpy.analysis.Select(\"PADclip\", \"PADgrp\", \"Loc_Ds = 'GRP' Or Unit_Nm LIKE '%Grasslands Reserve Program%' Or Unit_Nm LIKE '%Grassland Reserve Program%'\")"
   ]
  },
  {
   "cell_type": "markdown",
   "metadata": {},
   "source": [
    "## Combine known grassland layers\n"
   ]
  },
  {
   "cell_type": "code",
   "execution_count": 26,
   "metadata": {},
   "outputs": [
    {
     "data": {
      "text/html": [
       "<h2>Output</h2>E:\\WORKING\\BaseBlueprint\\2022\\4_Indicators\\CentralSEGrasslands\\InteriorSEGrasslands.gdb\\KnownGrasslands<h2>Messages</h2>Start Time: Sunday, June 26, 2022 10:49:36 AM<br/>Assembling Features...<br/>Reading Features...<br/>Cracking Features...<br/>Succeeded at Sunday, June 26, 2022 10:50:06 AM (Elapsed Time: 30.25 seconds)<br/><style>.rendered_html td, .rendered_html th {text-align: left;}.rendered_html tbody {border: 1px solid black;}</style>"
      ],
      "text/plain": [
       "<Result 'E:\\\\WORKING\\\\BaseBlueprint\\\\2022\\\\4_Indicators\\\\CentralSEGrasslands\\\\InteriorSEGrasslands.gdb\\\\KnownGrasslands'>"
      ]
     },
     "execution_count": 26,
     "metadata": {},
     "output_type": "execute_result"
    }
   ],
   "source": [
    "# union the known grasslands made above\n",
    "arcpy.analysis.Union(\"PADgrp #;KnownPrairieUnion #\", \"KnownGrasslands\", \"ALL\", None, \"GAPS\")"
   ]
  },
  {
   "cell_type": "code",
   "execution_count": 27,
   "metadata": {},
   "outputs": [
    {
     "data": {
      "text/html": [
       "<h2>Output</h2>a Layer object<h2>Messages</h2>Start Time: Sunday, June 26, 2022 10:50:07 AM<br/>Adding raster to KnownGrasslands...<br/>Succeeded at Sunday, June 26, 2022 10:50:09 AM (Elapsed Time: 1.95 seconds)<br/><style>.rendered_html td, .rendered_html th {text-align: left;}.rendered_html tbody {border: 1px solid black;}</style>"
      ],
      "text/plain": [
       "<Result 'KnownGrasslands'>"
      ]
     },
     "execution_count": 27,
     "metadata": {},
     "output_type": "execute_result"
    }
   ],
   "source": [
    "# add and calculate a field that we can use to convert to a raster, give a value of 5\n",
    "arcpy.management.CalculateField(\"KnownGrasslands\", \"raster\", \"5\", \"PYTHON3\", '', \"SHORT\")"
   ]
  },
  {
   "cell_type": "code",
   "execution_count": 28,
   "metadata": {},
   "outputs": [],
   "source": [
    "# convert PAD grassland reserve polygons to raster\n",
    "with arcpy.EnvManager(outputCoordinateSystem=sr, extent=SEraster, snapRaster=SEraster, cellSize=SEraster):\n",
    "    arcpy.conversion.FeatureToRaster(\"KnownGrasslands\", \"raster\", \"KnownGrasslandsR\", SEraster)"
   ]
  },
  {
   "cell_type": "markdown",
   "metadata": {},
   "source": [
    "## wrangle NLCD to make masks for some of these bins\n",
    "\n",
    "From the known prairie buffer areas, we are going to remove high and medium urban and water from the NLCD\n",
    "\n",
    "From the potentially compatible management areas we are going to remove low, medium, and high urban, along with a 1 pixel buffer around those classes. Then we will further limit the potentially compatible management class by only keeping the following NLCD classes: 'Developed, Open Space', 'Barren Land', 'Deciduous Forest', 'Evergreen Forest', 'Mixed Forest', 'Shrub/Scrub', 'Herbaceous', 'Hay/Pasture'"
   ]
  },
  {
   "cell_type": "markdown",
   "metadata": {},
   "source": [
    "### make mask for known prairie buffer area"
   ]
  },
  {
   "cell_type": "code",
   "execution_count": 29,
   "metadata": {},
   "outputs": [],
   "source": [
    "# Make a raster with the 2 highest urban classes and water as 0 and everything else is 1\n",
    "with arcpy.EnvManager(outputCoordinateSystem=sr, extent=\"SubRg1R\", snapRaster=SEraster, cellSize=SEraster):\n",
    "    out_raster = arcpy.sa.Con(nlcd, 0, 1, \"Value IN (23,24,11)\"); out_raster.save(\"NLCDBee\")"
   ]
  },
  {
   "cell_type": "markdown",
   "metadata": {},
   "source": [
    "### make mask for potentially compatible management area"
   ]
  },
  {
   "cell_type": "code",
   "execution_count": 30,
   "metadata": {},
   "outputs": [],
   "source": [
    "# Make a raster with the 3 urban classes as 0 and everything else is 1\n",
    "with arcpy.EnvManager(outputCoordinateSystem=sr, extent=\"SubRg1R\", snapRaster=SEraster, cellSize=SEraster):\n",
    "    out_raster = arcpy.sa.Con(nlcd, 0, 1, \"Value IN (22,23,24)\"); out_raster.save(\"Urb\")"
   ]
  },
  {
   "cell_type": "code",
   "execution_count": 31,
   "metadata": {},
   "outputs": [],
   "source": [
    "# expand to capture pixels that are within one pixel of a Developed High, Medium or Low intensity pixel in the NLCD. \n",
    "# maked all developed pixels and pixels withi 1 pixel of developed 0, everything else is 1\n",
    "# this can be used as a mask to remove these areas from the potential compatible managment layers\n",
    "out_raster = arcpy.sa.Expand(\"Urb\", 1, 0); out_raster.save(\"UrbE\")"
   ]
  },
  {
   "cell_type": "code",
   "execution_count": 32,
   "metadata": {},
   "outputs": [],
   "source": [
    "# make another \"restorable landcver class\" mask to further restrict the potentially compatible habitat class\n",
    "# restorable is 1 and everything else is 0\n",
    "with arcpy.EnvManager(outputCoordinateSystem=sr, extent=\"SubRg1R\", snapRaster=SEraster, cellSize=SEraster):\n",
    "    out_raster = arcpy.sa.Con(nlcd, 1, 0, \"Value IN (21,31,41,42,43,52,71,81)\"); out_raster.save(\"Restorable\")"
   ]
  },
  {
   "cell_type": "markdown",
   "metadata": {},
   "source": [
    "## Buffer known grasslands (Bin 4)\n",
    "research on bee habitat suggests an 800 meter buffer should be good"
   ]
  },
  {
   "cell_type": "code",
   "execution_count": 33,
   "metadata": {},
   "outputs": [
    {
     "data": {
      "text/html": [
       "<h2>Output</h2>E:\\WORKING\\BaseBlueprint\\2022\\4_Indicators\\CentralSEGrasslands\\InteriorSEGrasslands.gdb\\KnownGrasslandsBuff<h2>Messages</h2>Start Time: Sunday, June 26, 2022 12:00:29 PM<br/>Succeeded at Sunday, June 26, 2022 12:00:52 PM (Elapsed Time: 22.43 seconds)<br/><style>.rendered_html td, .rendered_html th {text-align: left;}.rendered_html tbody {border: 1px solid black;}</style>"
      ],
      "text/plain": [
       "<Result 'E:\\\\WORKING\\\\BaseBlueprint\\\\2022\\\\4_Indicators\\\\CentralSEGrasslands\\\\InteriorSEGrasslands.gdb\\\\KnownGrasslandsBuff'>"
      ]
     },
     "execution_count": 33,
     "metadata": {},
     "output_type": "execute_result"
    }
   ],
   "source": [
    "arcpy.analysis.Buffer(\"KnownGrasslands\", \"KnownGrasslandsBuff\", \"800 Meters\", \"FULL\", \"ROUND\", \"NONE\", None, \"PLANAR\")"
   ]
  },
  {
   "cell_type": "code",
   "execution_count": 34,
   "metadata": {},
   "outputs": [
    {
     "data": {
      "text/html": [
       "<h2>Output</h2>a Layer object<h2>Messages</h2>Start Time: Sunday, June 26, 2022 12:00:53 PM<br/>Adding raster4 to KnownGrasslandsBuff...<br/>Succeeded at Sunday, June 26, 2022 12:00:55 PM (Elapsed Time: 2.15 seconds)<br/><style>.rendered_html td, .rendered_html th {text-align: left;}.rendered_html tbody {border: 1px solid black;}</style>"
      ],
      "text/plain": [
       "<Result 'KnownGrasslandsBuff'>"
      ]
     },
     "execution_count": 34,
     "metadata": {},
     "output_type": "execute_result"
    }
   ],
   "source": [
    "# add and calculate a field that we can use to convert to a raster, give a value of 4\n",
    "arcpy.management.CalculateField(\"KnownGrasslandsBuff\", \"raster4\", \"4\", \"PYTHON3\", '', \"SHORT\")"
   ]
  },
  {
   "cell_type": "code",
   "execution_count": 35,
   "metadata": {},
   "outputs": [],
   "source": [
    "# convert buffered known grasslands to raster\n",
    "with arcpy.EnvManager(outputCoordinateSystem=sr, extent=SEraster, snapRaster=SEraster, cellSize=SEraster):\n",
    "    arcpy.conversion.FeatureToRaster(\"KnownGrasslandsBuff\", \"raster4\", \"KnownGrasslandsBuffR\", SEraster)"
   ]
  },
  {
   "cell_type": "code",
   "execution_count": 36,
   "metadata": {},
   "outputs": [],
   "source": [
    "# remove pixels that are within one pixel of a developed or water pixel in the NLCD using a times\n",
    "with arcpy.EnvManager(outputCoordinateSystem=sr, extent=\"SubRg1R\", snapRaster=SEraster, cellSize=SEraster):\n",
    "    out_raster = arcpy.sa.Times(\"KnownGrasslandsBuffR\", \"NLCDBee\"); out_raster.save(\"KnownGrasslandsBuffR1\") "
   ]
  },
  {
   "cell_type": "markdown",
   "metadata": {},
   "source": [
    "## Grassland geology layer (contributes to Bins 1, 2 and 3)"
   ]
  },
  {
   "cell_type": "markdown",
   "metadata": {},
   "source": [
    "### Find grassland associated pixels in the TNC geophysical settings"
   ]
  },
  {
   "cell_type": "code",
   "execution_count": 37,
   "metadata": {},
   "outputs": [],
   "source": [
    "# clip TNC data to this indicator extent\n",
    "out_raster = arcpy.sa.ExtractByMask(TNCgs, \"SubRg1R\"); out_raster.save(\"TNCgs1\")"
   ]
  },
  {
   "cell_type": "code",
   "execution_count": 38,
   "metadata": {},
   "outputs": [],
   "source": [
    "# here I am trying to best match the results Rua got with the eastern dataset\n",
    "# I'm doing a first cut using the CL_GEOSOIL class\n",
    "with arcpy.EnvManager(outputCoordinateSystem=sr, extent=\"SubRg1R\", snapRaster=SEraster, cellSize=SEraster):\n",
    "    out_raster = arcpy.sa.Con(\"TNCgs1\", 1, 0, \"CL_GEOSOIL IN ('Calcareous Sedimentary','Mafic/Intermediate Granitic', 'Silt/Clay over Limestone', 'Ultramafic')\"); out_raster.save(\"TNC_GeoSoil\")"
   ]
  },
  {
   "cell_type": "code",
   "execution_count": 39,
   "metadata": {},
   "outputs": [],
   "source": [
    "# here I am trying to best match the results Rua got with the eastern dataset\n",
    "# I'm adding some missing areas using the Full_Name class\n",
    "with arcpy.EnvManager(outputCoordinateSystem=sr, extent=\"SubRg1R\", snapRaster=SEraster, cellSize=SEraster):\n",
    "    out_raster = arcpy.sa.Con(\"TNCgs1\", 1, 0, \"Full_Name IN ('Calcareous Sedimentary','Moderately Calcareous Sedimentary','Mid Elevation Acidic Sedimentary')\"); out_raster.save(\"TNC_FullName\")"
   ]
  },
  {
   "cell_type": "code",
   "execution_count": 40,
   "metadata": {},
   "outputs": [],
   "source": [
    "# combine the 2 above using cells statistics max\n",
    "out_raster = arcpy.sa.CellStatistics(\"TNC_GeoSoil;TNC_FullName\", \"MAXIMUM\", \"DATA\", \"SINGLE_BAND\"); out_raster.save(\"TNCmatch\")"
   ]
  },
  {
   "cell_type": "markdown",
   "metadata": {},
   "source": [
    "### Find grassland associated pixels in the central hardwoods potential veg"
   ]
  },
  {
   "cell_type": "code",
   "execution_count": 41,
   "metadata": {},
   "outputs": [],
   "source": [
    "# reclassify the Central Hardwoods Ecological Potential Vegitation to pull out grassland associated classes\n",
    "# in this geodatabase raster, the values in the VEG_ORDER field related to grass are as follows:\n",
    "# 1 = Prairie/Grassland, 2 = Prairie/Savanna  (< 20% canopy), 3 = Prairie/Savanna (Barrens)  (< 20% canopy),  \n",
    "# 4 = Glade/Savanna Mosaic (< 20% canopy), 5 = Oak Open Woodland  (20-50% canopy), 7 = Pine/Bluestem Open Woodland (20-50% canopy)\n",
    "with arcpy.EnvManager(outputCoordinateSystem=sr, extent=\"SubRg1R\", snapRaster=SEraster, cellSize=SEraster):\n",
    "    out_raster = arcpy.sa.Reclassify(chEPV, \"VEG_ORDER\", \"1 1;2 1;3 1;4 1;5 1;6 0;7 1;8 0;9 0;10 0;11 0\", \"DATA\"); out_raster.save(\"chPVgrass\")"
   ]
  },
  {
   "cell_type": "code",
   "execution_count": 42,
   "metadata": {},
   "outputs": [],
   "source": [
    "# clip Central Hardwoods grassland assocated classes to this indicator extent\n",
    "#out_raster = arcpy.sa.ExtractByMask(\"chPVgrass\", \"SubRg1R\"); out_raster.save(\"chPVgrass1\")"
   ]
  },
  {
   "cell_type": "markdown",
   "metadata": {},
   "source": [
    "### Combine TNC and CH grassland associated classes"
   ]
  },
  {
   "cell_type": "code",
   "execution_count": 43,
   "metadata": {},
   "outputs": [
    {
     "data": {
      "text/html": [
       "<h2>Output</h2>E:\\WORKING\\BaseBlueprint\\2022\\4_Indicators\\CentralSEGrasslands\\InteriorSEGrasslands.gdb\\GrassGeology<h2>Messages</h2>Start Time: Sunday, June 26, 2022 12:35:13 PM<br/>E:\\WORKING\\BaseBlueprint\\2022\\4_Indicators\\CentralSEGrasslands\\InteriorSEGrasslands.gdb\\chPVgrass is loading...<br/>E:\\WORKING\\BaseBlueprint\\2022\\4_Indicators\\CentralSEGrasslands\\InteriorSEGrasslands.gdb\\TNCmatch is loading...<br/>Succeeded at Sunday, June 26, 2022 1:05:38 PM (Elapsed Time: 30 minutes 24 seconds)<br/><style>.rendered_html td, .rendered_html th {text-align: left;}.rendered_html tbody {border: 1px solid black;}</style>"
      ],
      "text/plain": [
       "<Result 'E:\\\\WORKING\\\\BaseBlueprint\\\\2022\\\\4_Indicators\\\\CentralSEGrasslands\\\\InteriorSEGrasslands.gdb\\\\GrassGeology'>"
      ]
     },
     "execution_count": 43,
     "metadata": {},
     "output_type": "execute_result"
    }
   ],
   "source": [
    "# Use a mosaic and pick which layer gets used first\n",
    "arcpy.management.MosaicToNewRaster(\"chPVgrass;TNCmatch\", OutWorkspace, \"GrassGeology\", None, \"8_BIT_UNSIGNED\", None, 1, \"FIRST\", \"FIRST\")"
   ]
  },
  {
   "cell_type": "code",
   "execution_count": 44,
   "metadata": {},
   "outputs": [],
   "source": [
    "# the above output was striped so I take times 1\n",
    "out_raster = arcpy.sa.Times(\"GrassGeology\", 1); out_raster.save(\"GrassGeology1\")"
   ]
  },
  {
   "cell_type": "markdown",
   "metadata": {},
   "source": [
    "## Potentially compatible management layer (contributes to bins 2 and 3)"
   ]
  },
  {
   "cell_type": "markdown",
   "metadata": {},
   "source": [
    "### Power line right-of-way\n",
    "this does yet not include variable buffering of transmission lines based on voltage"
   ]
  },
  {
   "cell_type": "code",
   "execution_count": 45,
   "metadata": {},
   "outputs": [
    {
     "data": {
      "text/html": [
       "<h2>Output</h2>E:\\WORKING\\BaseBlueprint\\2022\\4_Indicators\\CentralSEGrasslands\\InteriorSEGrasslands.gdb\\row<h2>Messages</h2>Start Time: Sunday, June 26, 2022 1:07:13 PM<br/>Succeeded at Sunday, June 26, 2022 1:07:19 PM (Elapsed Time: 5.50 seconds)<br/><style>.rendered_html td, .rendered_html th {text-align: left;}.rendered_html tbody {border: 1px solid black;}</style>"
      ],
      "text/plain": [
       "<Result 'E:\\\\WORKING\\\\BaseBlueprint\\\\2022\\\\4_Indicators\\\\CentralSEGrasslands\\\\InteriorSEGrasslands.gdb\\\\row'>"
      ]
     },
     "execution_count": 45,
     "metadata": {},
     "output_type": "execute_result"
    }
   ],
   "source": [
    "# make a copy of the lines for edits\n",
    "arcpy.management.CopyFeatures(row, \"row\", '', None, None, None)"
   ]
  },
  {
   "cell_type": "code",
   "execution_count": 46,
   "metadata": {},
   "outputs": [
    {
     "data": {
      "text/html": [
       "<h2>Output</h2>a Layer object<h2>Messages</h2>Start Time: Sunday, June 26, 2022 1:07:20 PM<br/>Adding dissolve to row...<br/>Succeeded at Sunday, June 26, 2022 1:07:25 PM (Elapsed Time: 5.13 seconds)<br/><style>.rendered_html td, .rendered_html th {text-align: left;}.rendered_html tbody {border: 1px solid black;}</style>"
      ],
      "text/plain": [
       "<Result 'row'>"
      ]
     },
     "execution_count": 46,
     "metadata": {},
     "output_type": "execute_result"
    }
   ],
   "source": [
    "# add and calculate a field that we can use to convert to a raster\n",
    "arcpy.management.CalculateField(\"row\", \"dissolve\", \"3\", \"PYTHON3\", '', \"SHORT\")"
   ]
  },
  {
   "cell_type": "code",
   "execution_count": 47,
   "metadata": {},
   "outputs": [],
   "source": [
    "# convert lines to raster\n",
    "with arcpy.EnvManager(outputCoordinateSystem=sr, extent=\"SubRg1R\", snapRaster=SEraster, cellSize=SEraster):\n",
    "    arcpy.conversion.FeatureToRaster(\"row\", \"dissolve\", \"rowr\", SEraster)"
   ]
  },
  {
   "cell_type": "markdown",
   "metadata": {},
   "source": [
    "### perenial forb and grass from range cover layers\n",
    "we thought about trying to use 5 years of data to see if the area remained in rangeland over 5 years, but didn't have time this year."
   ]
  },
  {
   "cell_type": "code",
   "execution_count": 48,
   "metadata": {},
   "outputs": [
    {
     "data": {
      "text/html": [
       "<h2>Output</h2>E:\\WORKING\\BaseBlueprint\\2022\\4_Indicators\\CentralSEGrasslands\\InteriorSEGrasslands.gdb\\PerFrbGrs21<h2>Messages</h2>Start Time: Sunday, June 26, 2022 1:12:57 PM<br/>Building Pyramids...<br/>Calculating Statistics...<br/>Succeeded at Sunday, June 26, 2022 2:07:18 PM (Elapsed Time: 54 minutes 21 seconds)<br/><style>.rendered_html td, .rendered_html th {text-align: left;}.rendered_html tbody {border: 1px solid black;}</style>"
      ],
      "text/plain": [
       "<Result 'E:\\\\WORKING\\\\BaseBlueprint\\\\2022\\\\4_Indicators\\\\CentralSEGrasslands\\\\InteriorSEGrasslands.gdb\\\\PerFrbGrs21'>"
      ]
     },
     "execution_count": 48,
     "metadata": {},
     "output_type": "execute_result"
    }
   ],
   "source": [
    "# extract band 4 - perennial forb and grass\n",
    "# This didn't work when I tried to add environments to reproject while extracting\n",
    "arcpy.management.CopyRaster(RcovB421, \"PerFrbGrs21\", '', None, \"255\", \"NONE\", \"NONE\", '', \"NONE\", \"NONE\", '', \"NONE\", \"CURRENT_SLICE\", \"NO_TRANSPOSE\")"
   ]
  },
  {
   "cell_type": "code",
   "execution_count": 49,
   "metadata": {},
   "outputs": [],
   "source": [
    "# reproject the perennial forb and grass raster\n",
    "with arcpy.EnvManager(outputCoordinateSystem=sr, extent=\"SubRg1R\", snapRaster=SEraster, cellSize=SEraster):\n",
    "    arcpy.management.ProjectRaster(\"PerFrbGrs21\", \"PerFrbGrs21a\", 'PROJCS[\"NAD_1983_Contiguous_USA_Albers\",GEOGCS[\"GCS_North_American_1983\",DATUM[\"D_North_American_1983\",SPHEROID[\"GRS_1980\",6378137.0,298.257222101]],PRIMEM[\"Greenwich\",0.0],UNIT[\"Degree\",0.0174532925199433]],PROJECTION[\"Albers\"],PARAMETER[\"False_Easting\",0.0],PARAMETER[\"False_Northing\",0.0],PARAMETER[\"Central_Meridian\",-96.0],PARAMETER[\"Standard_Parallel_1\",29.5],PARAMETER[\"Standard_Parallel_2\",45.5],PARAMETER[\"Latitude_Of_Origin\",23.0],UNIT[\"Meter\",1.0]]', \"NEAREST\", \"30.2197497164463 30.2197497164463\", \"WGS_1984_(ITRF00)_To_NAD_1983\", None, 'GEOGCS[\"GCS_WGS_1984\",DATUM[\"D_WGS_1984\",SPHEROID[\"WGS_1984\",6378137.0,298.257223563]],PRIMEM[\"Greenwich\",0.0],UNIT[\"Degree\",0.0174532925199433]]', \"NO_VERTICAL\")"
   ]
  },
  {
   "cell_type": "code",
   "execution_count": 50,
   "metadata": {},
   "outputs": [],
   "source": [
    "# pull out rangeland pixels with perennial forb and gras cover greater than 30%\n",
    "with arcpy.EnvManager(outputCoordinateSystem=sr, extent=\"SubRg1R\", snapRaster=SEraster, cellSize=SEraster):\n",
    "    out_raster = arcpy.sa.Con(\"PerFrbGrs21a\", 3, 0, \"VALUE > 30\"); out_raster.save(\"PerFrbGrs21aGT30\")"
   ]
  },
  {
   "cell_type": "markdown",
   "metadata": {},
   "source": [
    "### Combine the transmission lines and rangeland potentially compatible habitat\n"
   ]
  },
  {
   "cell_type": "code",
   "execution_count": 51,
   "metadata": {},
   "outputs": [],
   "source": [
    "# use cell statistics to combine\n",
    "out_raster = arcpy.sa.CellStatistics(\"rowr;PerFrbGrs21aGT30\", \"MAXIMUM\", \"DATA\", \"SINGLE_BAND\"); out_raster.save(\"PotCompMang\")"
   ]
  },
  {
   "cell_type": "markdown",
   "metadata": {},
   "source": [
    "### Limit potentially compatible habitat using NLCD"
   ]
  },
  {
   "cell_type": "code",
   "execution_count": 52,
   "metadata": {},
   "outputs": [],
   "source": [
    "# remove pixels that are within one pixel of low, medium, or high development\n",
    "with arcpy.EnvManager(outputCoordinateSystem=sr, extent=\"SubRg1R\", snapRaster=SEraster, cellSize=SEraster):\n",
    "    out_raster = arcpy.sa.Times(\"PotCompMang\", \"UrbE\"); out_raster.save(\"PotCompMang2\") "
   ]
  },
  {
   "cell_type": "code",
   "execution_count": 53,
   "metadata": {},
   "outputs": [],
   "source": [
    "# Limit to restorable landcover types\n",
    "with arcpy.EnvManager(outputCoordinateSystem=sr, extent=\"SubRg1R\", snapRaster=SEraster, cellSize=SEraster):\n",
    "    out_raster = arcpy.sa.Times(\"PotCompMang2\", \"Restorable\"); out_raster.save(\"PotCompMang3\") "
   ]
  },
  {
   "cell_type": "code",
   "execution_count": 54,
   "metadata": {},
   "outputs": [],
   "source": [
    "# reclassify to remove 0s for region group\n",
    "out_raster = arcpy.sa.Reclassify(\"PotCompMang3\", \"Value\", \"0 NODATA;1 3;3 3\", \"DATA\"); out_raster.save(\"PotCompMang4\")"
   ]
  },
  {
   "cell_type": "code",
   "execution_count": 55,
   "metadata": {},
   "outputs": [],
   "source": [
    "# use a region group to remove isolated pixels from compatible managment\n",
    "out_raster = arcpy.sa.RegionGroup(\"PotCompMang4\", \"EIGHT\", \"WITHIN\", \"ADD_LINK\", 0); out_raster.save(\"PotCompMang4Rg\")"
   ]
  },
  {
   "cell_type": "code",
   "execution_count": 56,
   "metadata": {},
   "outputs": [],
   "source": [
    "# use lookup to access the count field from the previous raster, this lets us see how big each clump is\n",
    "out_raster = arcpy.sa.Lookup(\"PotCompMang4Rg\", \"Count\"); out_raster.save(\"count1\")"
   ]
  },
  {
   "cell_type": "code",
   "execution_count": 57,
   "metadata": {},
   "outputs": [],
   "source": [
    "# pull out clumps less than 3 pixels \n",
    "# need to re-run this because I changed from out value of 1 to 3 to make the minus work\n",
    "out_raster = arcpy.sa.Con(\"count1\", 3, 0, \"VALUE < 3\"); out_raster.save(\"small\")"
   ]
  },
  {
   "cell_type": "code",
   "execution_count": 58,
   "metadata": {},
   "outputs": [],
   "source": [
    "# reclassify to change nodata to 0\n",
    "out_raster = arcpy.sa.Reclassify(\"small\", \"Value\", \"NODATA 0;0 0;3 3\", \"DATA\"); out_raster.save(\"small0\")"
   ]
  },
  {
   "cell_type": "code",
   "execution_count": 59,
   "metadata": {},
   "outputs": [],
   "source": [
    "# remove the clumps less than 3 pixels from the potentially compatible management layer\n",
    "out_raster = arcpy.sa.Minus(\"PotCompMang3\", \"small0\"); out_raster.save(\"PotCompMang5\") "
   ]
  },
  {
   "cell_type": "markdown",
   "metadata": {},
   "source": [
    "### Make layers for bins 1, 2, and 3\n"
   ]
  },
  {
   "cell_type": "code",
   "execution_count": 60,
   "metadata": {},
   "outputs": [],
   "source": [
    "# take potentially compatible managment times grassland geology \n",
    "# this gives me potentially compatible manamgent in grassland as value 3\n",
    "out_raster = arcpy.sa.Times(\"PotCompMang5\", \"GrassGeology1\"); out_raster.save(\"PotCompINGeo\") "
   ]
  },
  {
   "cell_type": "code",
   "execution_count": 61,
   "metadata": {},
   "outputs": [],
   "source": [
    "# this results in potentially compatible manamgnet outside grassland as value 3, need to reclass\n",
    "out_raster = arcpy.sa.Con(\"GrassGeology1\", \"PotCompMang5\", 0, \"VALUE = 0\"); out_raster.save(\"PotCompOUTGeo\")"
   ]
  },
  {
   "cell_type": "code",
   "execution_count": 62,
   "metadata": {},
   "outputs": [],
   "source": [
    "# reclass\n",
    "out_raster = arcpy.sa.Reclassify(\"PotCompOUTGeo\", \"Value\", \"0 0;3 2\", \"DATA\"); out_raster.save(\"PotCompOUTGeo2\")"
   ]
  },
  {
   "cell_type": "markdown",
   "metadata": {},
   "source": [
    "## Combine all classes\n"
   ]
  },
  {
   "cell_type": "code",
   "execution_count": 63,
   "metadata": {},
   "outputs": [],
   "source": [
    "# use cell statistics to combine\n",
    "out_raster = arcpy.sa.CellStatistics(\"KnownGrasslandsR;KnownGrasslandsBuffR1;PotCompInGeo;PotCompOUTGeo2;GrassGeology1\", \"MAXIMUM\", \"DATA\", \"SINGLE_BAND\"); out_raster.save(\"indicator\")"
   ]
  },
  {
   "cell_type": "markdown",
   "metadata": {},
   "source": [
    "### Finalize indiator\n",
    "\n",
    "do final steps for all indicators to add description fields, clip and export to SE extent, clip and export to SA extent"
   ]
  },
  {
   "cell_type": "code",
   "execution_count": 64,
   "metadata": {},
   "outputs": [],
   "source": [
    "# set code block for next step\n",
    "codeblock = \"\"\"\n",
    "def Reclass(v):\n",
    "    if v == 5:\n",
    "        return '5 = Known grassland'\n",
    "    elif v == 4:\n",
    "        return '4 = Known grassland buffer'\n",
    "    elif v == 3:\n",
    "        return '3 = Potentially compatible management within grassland geology (undeveloped powerline right-of-way or perennial forbs and grasses)'\n",
    "    elif v == 2:\n",
    "        return '2 = Potentially compatible management outside of grassland geology (undeveloped powerline right-of-way or perennial forbs and grasses)'\n",
    "    elif v == 1:\n",
    "        return '1 = Grassland geology'\n",
    "    elif v == 0:\n",
    "        return '0 = Grassland less likely'\n",
    "\"\"\""
   ]
  },
  {
   "cell_type": "code",
   "execution_count": 65,
   "metadata": {},
   "outputs": [
    {
     "data": {
      "text/html": [
       "<h2>Output</h2>E:\\WORKING\\BaseBlueprint\\2022\\4_Indicators\\CentralSEGrasslands\\InteriorSEGrasslands.gdb\\indicator<h2>Messages</h2>Start Time: Sunday, June 26, 2022 5:14:45 PM<br/>Adding descript to VAT_indicator...<br/>Succeeded at Sunday, June 26, 2022 5:14:45 PM (Elapsed Time: 0.32 seconds)<br/><style>.rendered_html td, .rendered_html th {text-align: left;}.rendered_html tbody {border: 1px solid black;}</style>"
      ],
      "text/plain": [
       "<Result 'E:\\\\WORKING\\\\BaseBlueprint\\\\2022\\\\4_Indicators\\\\CentralSEGrasslands\\\\InteriorSEGrasslands.gdb\\\\indicator'>"
      ]
     },
     "execution_count": 65,
     "metadata": {},
     "output_type": "execute_result"
    }
   ],
   "source": [
    "# add and calculate description field to hold indicator values\n",
    "arcpy.management.CalculateField(\"indicator\", \"descript\", \"Reclass(!value!)\", \"PYTHON3\", codeblock, \"TEXT\")"
   ]
  },
  {
   "cell_type": "code",
   "execution_count": 66,
   "metadata": {},
   "outputs": [],
   "source": [
    "# set code block for next step\n",
    "codeblock = \"\"\"\n",
    "def Reclass1(Value):\n",
    "\tif Value == 5:\n",
    "\t\treturn 115\n",
    "\tif Value == 4:\n",
    "\t\treturn 168\n",
    "\tif Value == 3:\n",
    "\t\treturn 255\n",
    "\tif Value == 2:\n",
    "\t\treturn 255\n",
    "\tif Value == 1:\n",
    "\t\treturn 255\n",
    "\tif Value == 0:\n",
    "\t\treturn 255\n",
    "\telse:\n",
    "\t\treturn 255\n",
    "\t\t\n",
    "def Reclass2(Value):\n",
    "\tif Value == 5:\n",
    "\t\treturn 76\n",
    "\tif Value == 4:\n",
    "\t\treturn 112\n",
    "\tif Value == 3:\n",
    "\t\treturn 170\n",
    "\tif Value == 2:\n",
    "\t\treturn 211\n",
    "\tif Value == 1:\n",
    "\t\treturn 235\n",
    "\tif Value == 0:\n",
    "\t\treturn 255\n",
    "\telse:\n",
    "\t\treturn 255\n",
    "\t\t\n",
    "def Reclass3(Value):\n",
    "\tif Value == 5:\n",
    "\t\treturn 0\n",
    "\tif Value == 4:\n",
    "\t\treturn 0\n",
    "\tif Value == 3:\n",
    "\t\treturn 0\n",
    "\tif Value == 2:\n",
    "\t\treturn 127\n",
    "\tif Value == 1:\n",
    "\t\treturn 175\n",
    "\tif Value == 0:\n",
    "\t\treturn 255\n",
    "\telse:\n",
    "\t\treturn 255\n",
    "\"\"\""
   ]
  },
  {
   "cell_type": "code",
   "execution_count": 67,
   "metadata": {},
   "outputs": [
    {
     "data": {
      "text/html": [
       "<h2>Output</h2>E:\\WORKING\\BaseBlueprint\\2022\\4_Indicators\\CentralSEGrasslands\\InteriorSEGrasslands.gdb\\indicator<h2>Messages</h2>Start Time: Sunday, June 26, 2022 5:14:48 PM<br/>Adding Blue to VAT_indicator...<br/>Succeeded at Sunday, June 26, 2022 5:14:48 PM (Elapsed Time: 0.27 seconds)<br/><style>.rendered_html td, .rendered_html th {text-align: left;}.rendered_html tbody {border: 1px solid black;}</style>"
      ],
      "text/plain": [
       "<Result 'E:\\\\WORKING\\\\BaseBlueprint\\\\2022\\\\4_Indicators\\\\CentralSEGrasslands\\\\InteriorSEGrasslands.gdb\\\\indicator'>"
      ]
     },
     "execution_count": 67,
     "metadata": {},
     "output_type": "execute_result"
    }
   ],
   "source": [
    "# calculate Red field\n",
    "arcpy.management.CalculateField(\"indicator\", \"Red\", \"Reclass1(!Value!)\", \"PYTHON3\", codeblock, \"SHORT\")\n",
    "# calculate Green field\n",
    "arcpy.management.CalculateField(\"indicator\", \"Green\", \"Reclass2(!Value!)\", \"PYTHON3\", codeblock, \"SHORT\")\n",
    "# calculate Blue field\n",
    "arcpy.management.CalculateField(\"indicator\", \"Blue\", \"Reclass3(!Value!)\", \"PYTHON3\", codeblock, \"SHORT\")"
   ]
  },
  {
   "cell_type": "code",
   "execution_count": 68,
   "metadata": {
    "scrolled": true
   },
   "outputs": [],
   "source": [
    "# clip to the exent of this indicator\n",
    "with arcpy.EnvManager(outputCoordinateSystem=sr, snapRaster=SEraster, cellSize=SEraster):\n",
    "    out_raster = arcpy.sa.ExtractByMask(\"indicator\", \"SubRg1R\"); out_raster.save(\"SEMask2\")"
   ]
  },
  {
   "cell_type": "code",
   "execution_count": 8,
   "metadata": {},
   "outputs": [],
   "source": [
    "# export as .tif \n",
    "with arcpy.EnvManager(outputCoordinateSystem=sr, snapRaster=SEraster, cellSize=SEraster):\n",
    "    arcpy.management.CopyRaster(\"SEMask2\", SEout, '', None, \"255\", \"NONE\", \"NONE\", \"16_BIT_UNSIGNED\", \"NONE\", \"NONE\", \"TIFF\", \"NONE\", \"CURRENT_SLICE\", \"NO_TRANSPOSE\")"
   ]
  },
  {
   "cell_type": "code",
   "execution_count": 70,
   "metadata": {},
   "outputs": [
    {
     "name": "stdout",
     "output_type": "stream",
     "text": [
      "23921.42526960373\n"
     ]
    }
   ],
   "source": [
    "# this prints the time it took this notebook to run in seconds\n",
    "end = time.time()\n",
    "print(end - start)"
   ]
  },
  {
   "cell_type": "code",
   "execution_count": null,
   "metadata": {},
   "outputs": [],
   "source": []
  }
 ],
 "metadata": {
  "kernelspec": {
   "display_name": "ArcGISPro",
   "language": "Python",
   "name": "python3"
  },
  "language_info": {
   "file_extension": ".py",
   "name": "python",
   "version": "3"
  }
 },
 "nbformat": 4,
 "nbformat_minor": 2
}
