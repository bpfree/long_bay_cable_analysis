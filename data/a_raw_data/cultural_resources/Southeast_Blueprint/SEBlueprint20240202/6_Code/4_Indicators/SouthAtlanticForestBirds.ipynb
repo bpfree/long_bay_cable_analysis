{
 "cells": [
  {
   "cell_type": "markdown",
   "metadata": {},
   "source": [
    "# South Atlantic Forest Birds\n",
    "\n",
    "This indicator was used in the 2022 base blueprint.\n",
    "\n",
    "This indicator was originally made for the South Atlantic Blueprint.\n",
    "\n",
    "Created by Amy Keister, last run by Amy Keister on 22 June 2023. It took 38 minutes to run "
   ]
  },
  {
   "cell_type": "code",
   "execution_count": 91,
   "metadata": {},
   "outputs": [],
   "source": [
    "import os\n",
    "import arcpy"
   ]
  },
  {
   "cell_type": "code",
   "execution_count": 92,
   "metadata": {},
   "outputs": [],
   "source": [
    "import time\n",
    "start = time.time()"
   ]
  },
  {
   "cell_type": "code",
   "execution_count": 93,
   "metadata": {},
   "outputs": [],
   "source": [
    "# define spatial reference and workspaces\n",
    "sr= arcpy.SpatialReference(5070)\n",
    "#SourceWorkspace= \n",
    "OutWorkspace = r\"D:\\SE_Blueprint_2023\\5_Indicators_Tier2_UnClipped\\SouthAtlanticFor\\SouthAtlanticFor.gdb\""
   ]
  },
  {
   "cell_type": "code",
   "execution_count": 94,
   "metadata": {},
   "outputs": [],
   "source": [
    "# define final indicator outputs\n",
    "Out = r\"D:\\SE_Blueprint_2023\\5_Indicators_Tier2_UnClipped\\SouthAtlanticFor\\SouthAtlanticForestBirds.tif\""
   ]
  },
  {
   "cell_type": "code",
   "execution_count": 95,
   "metadata": {},
   "outputs": [],
   "source": [
    "# define sub-indicator outputs to help with user support"
   ]
  },
  {
   "cell_type": "code",
   "execution_count": 96,
   "metadata": {},
   "outputs": [],
   "source": [
    "# define rasters used for cell size, extent, and snapping\n",
    "Rextent= r\"F:\\GIS_DATA\\SECAS\\SE_Blueprint_2022\\Southeast_Blueprint_2022_Data_Download\\SEBlueprint20221215\\Inputs\\BaseBlueprint\\1_ExtentLayers\\BaseBlueprintExtent2022.tif\""
   ]
  },
  {
   "cell_type": "code",
   "execution_count": 97,
   "metadata": {},
   "outputs": [],
   "source": [
    "# define additional inputs\n",
    "# chuck-will's widow, red-headed woodpecker, wood thrush, whip-poor-will, american woodcock\n",
    "cwwi= arcpy.Raster(\"F:\\\\GIS_DATA\\\\SpeciesAndHabitats\\\\SE_GAP_models\\\\bCWWI_data\\\\d_bcwwi\")\n",
    "rhwo= arcpy.Raster(\"F:\\\\GIS_DATA\\\\SpeciesAndHabitats\\\\SE_GAP_models\\\\bRHWO_data\\\\d_brhwo\")\n",
    "woth= arcpy.Raster(\"F:\\\\GIS_DATA\\\\SpeciesAndHabitats\\\\SE_GAP_models\\\\bWOTH_data\\\\d_bwoth\")\n",
    "wpwi= arcpy.Raster(\"F:\\\\GIS_DATA\\\\SpeciesAndHabitats\\\\SE_GAP_models\\\\bWPWI_data\\\\d_bwpwi\")\n",
    "amwo= arcpy.Raster(\"F:\\\\GIS_DATA\\\\SpeciesAndHabitats\\\\SE_GAP_models\\\\bAMWO_data\\\\d_bamwo\")\n",
    "# hooded warbler, kentucky warbler\n",
    "howa= arcpy.Raster(\"F:\\\\GIS_DATA\\\\SpeciesAndHabitats\\\\SE_GAP_models\\\\bHOWA_data\\\\d_bhowa\")\n",
    "kewa= arcpy.Raster(\"F:\\\\GIS_DATA\\\\SpeciesAndHabitats\\\\SE_GAP_models\\\\bKEWA_data\\\\d_bkewa\")\n",
    "# acadian flycatcher\n",
    "acfl= arcpy.Raster(\"F:\\\\GIS_DATA\\\\SpeciesAndHabitats\\\\SE_GAP_models\\\\bACFL_data\\\\d_bacfl\")\n",
    "# black throated green warbler, northern parula, prothonotary warbler\n",
    "btnw= arcpy.Raster(\"F:\\\\GIS_DATA\\\\SpeciesAndHabitats\\\\SE_GAP_models\\\\bBTNW_data\\\\d_bbtnw\")\n",
    "nopa= arcpy.Raster(\"F:\\\\GIS_DATA\\\\SpeciesAndHabitats\\\\SE_GAP_models\\\\bNOPA_data\\\\d_bnopa\")\n",
    "prow= arcpy.Raster(\"F:\\\\GIS_DATA\\\\SpeciesAndHabitats\\\\SE_GAP_models\\\\bPROW_data\\\\d_bprow\")\n",
    "prowDSL= arcpy.Raster(\"F:\\\\GIS_DATA\\\\SpeciesAndHabitats\\\\DesigningSustainableLandscapes_SERAP\\\\bprowx_data\\\\bprowx\\\\bprowx_s\\\\a1fi\\\\bprowx_s00a1\")\n",
    "# swainson's warbler\n",
    "swwa= arcpy.Raster(\"F:\\\\GIS_DATA\\\\SpeciesAndHabitats\\\\SE_GAP_models\\\\bSWWA_data\\\\d_bswwa\")\n",
    "swwaDSL= arcpy.Raster(\"F:\\\\GIS_DATA\\\\SpeciesAndHabitats\\\\DesigningSustainableLandscapes_SERAP\\\\bswwax_data\\\\bswwax\\\\bswwax_s\\\\a1fi\\\\bswwax_s00a1\")\n",
    "# landcover\n",
    "nlcd= r\"F:\\GIS_DATA\\LanduseLandcover\\NLCD\\NLCD_landcover_2019_release_all_files_20210604\\nlcd_2019_land_cover_l48_20210604\\nlcd_2019_land_cover_l48_20210604.img\"\n",
    "\n",
    "SAraster= r\"F:\\GIS_DATA\\SALCC_BLUEPRINT\\Version_2021\\Blueprint_2021_Data_Download_20220204\\1_ExtentLayers\\SA2021extent.tif\""
   ]
  },
  {
   "cell_type": "markdown",
   "metadata": {},
   "source": [
    "### Start Analysis"
   ]
  },
  {
   "cell_type": "code",
   "execution_count": 98,
   "metadata": {},
   "outputs": [],
   "source": [
    "# Change the workspace to where I am saving the outputs\n",
    "arcpy.env.workspace = OutWorkspace"
   ]
  },
  {
   "cell_type": "code",
   "execution_count": 99,
   "metadata": {},
   "outputs": [
    {
     "name": "stdout",
     "output_type": "stream",
     "text": [
      "D:\\SE_Blueprint_2023\\5_Indicators_Tier2_UnClipped\\SouthAtlanticFor\\SouthAtlanticFor.gdb\n"
     ]
    }
   ],
   "source": [
    "# Print the current workspace to make sure I'm in the right spot\n",
    "print(arcpy.env.workspace)"
   ]
  },
  {
   "cell_type": "markdown",
   "metadata": {},
   "source": [
    "### Bring in chuck-will's widow, red-headed woodpecker, wood thrush, whip-poor-will, american woodcock"
   ]
  },
  {
   "cell_type": "code",
   "execution_count": 20,
   "metadata": {},
   "outputs": [],
   "source": [
    "# use cell statistics to combine chuck-will's widow, red-headed woodpecker, wood thrush, whip-poor-will, american woodcock\n",
    "with arcpy.EnvManager(extent=SAraster):\n",
    "    out_raster = arcpy.sa.CellStatistics([cwwi, rhwo, woth, wpwi, amwo], \"MAXIMUM\", \"DATA\", \"SINGLE_BAND\"); out_raster.save(\"CwwiRhwoWothWpwiAmwo\")"
   ]
  },
  {
   "cell_type": "code",
   "execution_count": 21,
   "metadata": {},
   "outputs": [],
   "source": [
    "# change all values >0 to 1\n",
    "out_raster = arcpy.sa.Con(\"CwwiRhwoWothWpwiAmwo\", 1, 0, \"Value > 0\"); out_raster.save(\"CwwiRhwoWothWpwiAmwo1\")"
   ]
  },
  {
   "cell_type": "markdown",
   "metadata": {},
   "source": [
    "### Bring in hooded warbler, kentucky warbler"
   ]
  },
  {
   "cell_type": "code",
   "execution_count": 22,
   "metadata": {},
   "outputs": [],
   "source": [
    "# use cell statistics to combine hooded warbler, kentucky warbler\n",
    "with arcpy.EnvManager(extent=SAraster):\n",
    "    out_raster = arcpy.sa.CellStatistics([howa, kewa], \"MAXIMUM\", \"DATA\", \"SINGLE_BAND\"); out_raster.save(\"HowaKewa\")"
   ]
  },
  {
   "cell_type": "code",
   "execution_count": 23,
   "metadata": {},
   "outputs": [],
   "source": [
    "# change all values >0 to 2\n",
    "out_raster = arcpy.sa.Con(\"HowaKewa\", 2, 0, \"Value > 0\"); out_raster.save(\"HowaKewa1\")"
   ]
  },
  {
   "cell_type": "markdown",
   "metadata": {},
   "source": [
    "### Bring in acadian flycatcher"
   ]
  },
  {
   "cell_type": "code",
   "execution_count": 24,
   "metadata": {},
   "outputs": [],
   "source": [
    "# change all values >0 to 3\n",
    "with arcpy.EnvManager(extent=SAraster):\n",
    "    out_raster = arcpy.sa.Con(acfl, 3, 0, \"Value > 0\"); out_raster.save(\"Acfl1\")"
   ]
  },
  {
   "cell_type": "markdown",
   "metadata": {},
   "source": [
    "### Bring in black throated green warbler, northern parula, prothonotary warbler"
   ]
  },
  {
   "cell_type": "code",
   "execution_count": 25,
   "metadata": {},
   "outputs": [],
   "source": [
    "# use cell statistics to combine black throated green warbler, northern parula, prothonotary warbler\n",
    "with arcpy.EnvManager(extent=SAraster):\n",
    "    out_raster = arcpy.sa.CellStatistics([btnw, nopa, prow, prowDSL], \"MAXIMUM\", \"DATA\", \"SINGLE_BAND\"); out_raster.save(\"BtnwNopaProwProwDSL\")"
   ]
  },
  {
   "cell_type": "code",
   "execution_count": 26,
   "metadata": {},
   "outputs": [],
   "source": [
    "# change all values >0 to 4\n",
    "out_raster = arcpy.sa.Con(\"BtnwNopaProwProwDSL\", 4, 0, \"Value > 0\"); out_raster.save(\"BtnwNopaProwProwDSL1\")"
   ]
  },
  {
   "cell_type": "markdown",
   "metadata": {},
   "source": [
    "### Bring in swainson's warbler"
   ]
  },
  {
   "cell_type": "code",
   "execution_count": 27,
   "metadata": {},
   "outputs": [],
   "source": [
    "# use cell statistics to combine swainson's warbler\n",
    "with arcpy.EnvManager(extent=SAraster):\n",
    "    out_raster = arcpy.sa.CellStatistics([swwa, swwaDSL], \"MAXIMUM\", \"DATA\", \"SINGLE_BAND\"); out_raster.save(\"SwwaSwwaDSL\")"
   ]
  },
  {
   "cell_type": "code",
   "execution_count": 28,
   "metadata": {},
   "outputs": [],
   "source": [
    "# change all values >0 to 5\n",
    "out_raster = arcpy.sa.Con(\"SwwaSwwaDSL\", 5, 0, \"Value > 0\"); out_raster.save(\"SwwaSwwaDSL1\")"
   ]
  },
  {
   "cell_type": "markdown",
   "metadata": {},
   "source": [
    "### Combine above results"
   ]
  },
  {
   "cell_type": "code",
   "execution_count": 29,
   "metadata": {},
   "outputs": [],
   "source": [
    "# use cell statistics to combine \n",
    "out_raster = arcpy.sa.CellStatistics(\"CwwiRhwoWothWpwiAmwo1;HowaKewa1;Acfl1;BtnwNopaProwProwDSL1;SwwaSwwaDSL1\", \"MAXIMUM\", \"DATA\", \"SINGLE_BAND\"); out_raster.save(\"ForestBirds\")"
   ]
  },
  {
   "cell_type": "markdown",
   "metadata": {},
   "source": [
    "### wrangle NLCD"
   ]
  },
  {
   "cell_type": "code",
   "execution_count": 30,
   "metadata": {},
   "outputs": [],
   "source": [
    "# Make a raster with the 3 highest urban classes 0 and everything else is 1\n",
    "with arcpy.EnvManager(extent=SAraster, mask=SAraster):\n",
    "    out_raster = arcpy.sa.Con(nlcd, 0, 1, \"Value IN (22, 23, 24)\"); out_raster.save(\"urb\")"
   ]
  },
  {
   "cell_type": "code",
   "execution_count": 31,
   "metadata": {},
   "outputs": [],
   "source": [
    "# limit the pixels in the combined bird raster to places that are not low, medium, or high developed\n",
    "with arcpy.EnvManager(extent=SAraster, mask=SAraster):\n",
    "    out_raster = arcpy.sa.Times(\"ForestBirds\", \"urb\"); out_raster.save(\"indicator\")"
   ]
  },
  {
   "cell_type": "markdown",
   "metadata": {},
   "source": [
    "### Finalize indiator\n",
    "\n",
    "do final steps for all indicators to add description fields, clip and export to SE extent, clip and export to SA extent"
   ]
  },
  {
   "cell_type": "code",
   "execution_count": 100,
   "metadata": {},
   "outputs": [],
   "source": [
    "# clip to SE 2022 Blueprint extent\n",
    "with arcpy.EnvManager(outputCoordinateSystem=sr, snapRaster=Rextent, cellSize=Rextent):\n",
    "    out_raster = arcpy.sa.ExtractByMask(\"indicator\", Rextent); out_raster.save(\"SEMask\")"
   ]
  },
  {
   "cell_type": "code",
   "execution_count": 101,
   "metadata": {},
   "outputs": [],
   "source": [
    "# export as .tif\n",
    "with arcpy.EnvManager(outputCoordinateSystem=sr, snapRaster=Rextent, cellSize=Rextent):\n",
    "    arcpy.management.CopyRaster(\"SEMask\", Out, '', None, \"15\", \"NONE\", \"NONE\", \"4_BIT\", \"NONE\", \"NONE\", \"TIFF\", \"NONE\", \"CURRENT_SLICE\", \"NO_TRANSPOSE\")"
   ]
  },
  {
   "cell_type": "code",
   "execution_count": 104,
   "metadata": {},
   "outputs": [],
   "source": [
    "# set code block for next step\n",
    "codeblock = \"\"\"\n",
    "def Reclass(v):\n",
    "    if v == 5:\n",
    "        return \"5 = Very large patches near water (potential for presence of Swainson's warbler)\"\n",
    "    elif v == 4:\n",
    "        return '4 = Large patches often near water (potential for presence of Northern parula, black-throated green warbler, or prothonotary warbler)'\n",
    "    elif v == 3:\n",
    "        return '3 = Medium patches (potential for presence of Acadian flycatcher)'\n",
    "    elif v == 2:\n",
    "        return '2 = Small patches often near water (potential for presence of hooded warbler or Kentucky warbler)'\n",
    "    elif v == 1:\n",
    "        return '1 = Very small patches or near open areas (potential for presence of wood thrush, whip-poor-will, red-headed woodpecker, Chuck-will’s widow, or American woodcock)'\n",
    "    elif v == 0:\n",
    "        return '0 = Less potential for presence of forest bird index species'  \n",
    "\"\"\""
   ]
  },
  {
   "cell_type": "code",
   "execution_count": 105,
   "metadata": {},
   "outputs": [
    {
     "data": {
      "text/html": [
       "<div class='gpresult'><h2>Messages</h2><div id='messages' data-messages='[\"Start Time: Friday, September 15, 2023 10:43:28 PM\",\"Succeeded at Friday, September 15, 2023 10:43:29 PM (Elapsed Time: 0.15 seconds)\"]' data-show='true'><div id = 'default' /></div></div>"
      ],
      "text/plain": [
       "<Result 'D:\\\\SE_Blueprint_2023\\\\5_Indicators_Tier2_UnClipped\\\\SouthAtlanticFor\\\\SouthAtlanticForestBirds.tif'>"
      ]
     },
     "execution_count": 105,
     "metadata": {},
     "output_type": "execute_result"
    }
   ],
   "source": [
    "# add and calculate description field to hold indicator values\n",
    "arcpy.management.CalculateField(Out, \"descript\", \"Reclass(!value!)\", \"PYTHON3\", codeblock, \"TEXT\")"
   ]
  },
  {
   "cell_type": "code",
   "execution_count": 106,
   "metadata": {},
   "outputs": [],
   "source": [
    "# set code block for next step\n",
    "codeblock = \"\"\"\n",
    "def Reclass1(Value):\n",
    "\tif Value == 5:\n",
    "\t\treturn 112\n",
    "\tif Value == 4:\n",
    "\t\treturn 174\n",
    "\tif Value == 3:\n",
    "\t\treturn 216\n",
    "\tif Value == 2:\n",
    "\t\treturn 240\n",
    "\tif Value == 1:\n",
    "\t\treturn 249\n",
    "\tif Value == 1:\n",
    "\t\treturn 255\n",
    "\telse:\n",
    "\t\treturn 255\n",
    "\t\t\n",
    "def Reclass2(Value):\n",
    "\tif Value == 5:\n",
    "\t\treturn 40\n",
    "\tif Value == 4:\n",
    "\t\treturn 73\n",
    "\tif Value == 3:\n",
    "\t\treturn 109\n",
    "\tif Value == 2:\n",
    "\t\treturn 149\n",
    "\tif Value == 1:\n",
    "\t\treturn 214\n",
    "\tif Value == 1:\n",
    "\t\treturn 255\n",
    "\telse:\n",
    "\t\treturn 255\n",
    "\t\t\n",
    "def Reclass3(Value):\n",
    "\tif Value == 5:\n",
    "\t\treturn 75\n",
    "\tif Value == 4:\n",
    "\t\treturn 99\n",
    "\tif Value == 3:\n",
    "\t\treturn 116\n",
    "\tif Value == 2:\n",
    "\t\treturn 135\n",
    "\tif Value == 1:\n",
    "\t\treturn 181\n",
    "\telse:\n",
    "\t\treturn 255\n",
    "\t\t\n",
    "\"\"\""
   ]
  },
  {
   "cell_type": "code",
   "execution_count": 107,
   "metadata": {},
   "outputs": [
    {
     "data": {
      "text/html": [
       "<div class='gpresult'><h2>Messages</h2><div id='messages' data-messages='[\"Start Time: Friday, September 15, 2023 10:43:31 PM\",\"Succeeded at Friday, September 15, 2023 10:43:32 PM (Elapsed Time: 0.16 seconds)\"]' data-show='true'><div id = 'default' /></div></div>"
      ],
      "text/plain": [
       "<Result 'D:\\\\SE_Blueprint_2023\\\\5_Indicators_Tier2_UnClipped\\\\SouthAtlanticFor\\\\SouthAtlanticForestBirds.tif'>"
      ]
     },
     "execution_count": 107,
     "metadata": {},
     "output_type": "execute_result"
    }
   ],
   "source": [
    "# calculate Red field\n",
    "arcpy.management.CalculateField(Out, \"Red\", \"Reclass1(!Value!)\", \"PYTHON3\", codeblock, \"SHORT\")\n",
    "# calculate Green field\n",
    "arcpy.management.CalculateField(Out, \"Green\", \"Reclass2(!Value!)\", \"PYTHON3\", codeblock, \"SHORT\")\n",
    "# calculate Blue field\n",
    "arcpy.management.CalculateField(Out, \"Blue\", \"Reclass3(!Value!)\", \"PYTHON3\", codeblock, \"SHORT\")"
   ]
  },
  {
   "cell_type": "code",
   "execution_count": 42,
   "metadata": {},
   "outputs": [
    {
     "name": "stdout",
     "output_type": "stream",
     "text": [
      "1257.277999639511\n"
     ]
    }
   ],
   "source": [
    "end = time.time()\n",
    "print(end - start)"
   ]
  },
  {
   "cell_type": "code",
   "execution_count": null,
   "metadata": {},
   "outputs": [],
   "source": []
  }
 ],
 "metadata": {
  "kernelspec": {
   "display_name": "ArcGISPro",
   "language": "Python",
   "name": "python3"
  },
  "language_info": {
   "file_extension": ".py",
   "name": "python",
   "version": "3"
  }
 },
 "nbformat": 4,
 "nbformat_minor": 2
}
