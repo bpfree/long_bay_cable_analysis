{
 "cells": [
  {
   "cell_type": "markdown",
   "metadata": {},
   "source": [
    "# Gulf Migratory Fish Connectivity\n",
    "\n",
    "This indicator was used in South Atlantic 2021 Blueprint.\n",
    "\n",
    "Originally, we were using it for both the Atlantic and the Gulf drainages. When we found the Atlantic migratory fish analysis from SARP, we modified this to only apply to the Gulf drainages.\n",
    "\n",
    "\n",
    "Created by Amy Keister, last run by Amy Keister on 17 May 2023. It took 10 minutes to run"
   ]
  },
  {
   "cell_type": "code",
   "execution_count": 44,
   "metadata": {},
   "outputs": [],
   "source": [
    "import os\n",
    "import arcpy"
   ]
  },
  {
   "cell_type": "code",
   "execution_count": 45,
   "metadata": {},
   "outputs": [],
   "source": [
    "import time\n",
    "start = time.time()"
   ]
  },
  {
   "cell_type": "code",
   "execution_count": 46,
   "metadata": {},
   "outputs": [],
   "source": [
    "# define spatial reference and workspaces\n",
    "sr= arcpy.SpatialReference(5070)\n",
    "#SourceWorkspace= \n",
    "OutWorkspace= r\"D:\\SE_Blueprint_2023\\5_Indicators_Tier2_UnClipped\\GulfMigratoryFish\\GulfMigratoryFishCo.gdb\""
   ]
  },
  {
   "cell_type": "code",
   "execution_count": 53,
   "metadata": {},
   "outputs": [],
   "source": [
    "# define final indicator outputs\n",
    "Out = r\"D:\\SE_Blueprint_2023\\5_Indicators_Tier2_UnClipped\\GulfMigratoryFish\\GulfMigratoryFishConnectivity.tif\""
   ]
  },
  {
   "cell_type": "code",
   "execution_count": 48,
   "metadata": {},
   "outputs": [],
   "source": [
    "# define rasters used for cell size, extent, and snapping\n",
    "Rextent= r\"F:\\GIS_DATA\\SECAS\\SE_Blueprint_2022\\Southeast_Blueprint_2022_Data_Download\\SEBlueprint20221215\\Inputs\\BaseBlueprint\\1_ExtentLayers\\BaseBlueprintExtent2022.tif\""
   ]
  },
  {
   "cell_type": "code",
   "execution_count": 49,
   "metadata": {},
   "outputs": [],
   "source": [
    "# define inputs\n",
    "# species layers from the SEACAP project\n",
    "amshad=\"F:\\\\GIS_DATA\\\\WaterResources\\\\SEACAP\\\\SEACAP_forSALCC.gdb\\\\NAD83_Albers\\\\amshad1\"\n",
    "alshad=\"F:\\\\GIS_DATA\\\\WaterResources\\\\SEACAP\\\\SEACAP_forSALCC.gdb\\\\NAD83_Albers\\\\alashad1\"\n",
    "#blueback=\"F:\\\\GIS_DATA\\\\WaterResources\\\\SEACAP\\\\SEACAP_forSALCC.gdb\\\\NAD83_Albers\\\\blueback1\"\n",
    "strbass=\"F:\\\\GIS_DATA\\\\WaterResources\\\\SEACAP\\\\SEACAP_forSALCC.gdb\\\\NAD83_Albers\\\\strbass1\"\n",
    "#astur=\"F:\\\\GIS_DATA\\\\WaterResources\\\\SEACAP\\\\SEACAP_forSALCC.gdb\\\\NAD83_Albers\\\\atlstur1\"\n",
    "gstur=\"F:\\\\GIS_DATA\\\\WaterResources\\\\SEACAP\\\\SEACAP_forSALCC.gdb\\\\NAD83_Albers\\\\gulflstur1\"\n",
    "# critical habitat for Sturgeon from NOAA\n",
    "# asturCH= r\"F:\\GIS_DATA\\SpeciesAndHabitats\\NOAA_CriticalHabitat\\shapefile-Atlantic-sturgeon-critical-habitat-GARFO-SERO\\shapefile-Atlantic-sturgeon-critical-habitat-GARFO-SERO.shp\"\n",
    "gsturCH= r\"F:\\GIS_DATA\\SpeciesAndHabitats\\NOAA_CriticalHabitat\\shapefile-Gulf-sturgeon-critical-habitat-all-units-USFWS-NMFS-SERO\\shapefile_Gulf_sturgeon_critical_habitat_Unit1_7_USFWS_SERO.shp\"\n",
    "gsturCHp= r\"F:\\GIS_DATA\\SpeciesAndHabitats\\NOAA_CriticalHabitat\\shapefile-Gulf-sturgeon-critical-habitat-all-units-USFWS-NMFS-SERO\\shapefile_Gulf_sturgeon_critical_habitat_Unit8_14_SERO.shp\"\n",
    "# EPA floodplain\n",
    "FP = r\"F:\\GIS_DATA\\WaterResources\\Estimated_floodplain_CONUS\\Estimated_floodplain_CONUS.tif\"\n",
    "# HUCs\n",
    "H12 = r\"F:\\GIS_DATA\\WaterResources\\NHD\\WBD_National_GDB\\WBD_National_GDB.gdb\\WBD\\WBDHU12\"\n",
    "H6= r\"F:\\GIS_DATA\\WaterResources\\NHD\\WBD_National_GDB\\WBD_National_GDB.gdb\\WBD\\WBDHU6\""
   ]
  },
  {
   "cell_type": "markdown",
   "metadata": {},
   "source": [
    "### Start Analysis"
   ]
  },
  {
   "cell_type": "code",
   "execution_count": 50,
   "metadata": {},
   "outputs": [],
   "source": [
    "# Set the workspace where I want the output to go\n",
    "arcpy.env.workspace = OutWorkspace"
   ]
  },
  {
   "cell_type": "code",
   "execution_count": 51,
   "metadata": {},
   "outputs": [
    {
     "name": "stdout",
     "output_type": "stream",
     "text": [
      "D:\\SE_Blueprint_2023\\5_Indicators_Tier2_UnClipped\\GulfMigratoryFish\\GulfMigratoryFishCo.gdb\n"
     ]
    }
   ],
   "source": [
    "print(arcpy.env.workspace)"
   ]
  },
  {
   "cell_type": "markdown",
   "metadata": {},
   "source": [
    "### Assign species line work to an area \n",
    "\n",
    "These steps use the HUC12s \n",
    "\n",
    "I tried using the high resolution catchments, but they left out areas inside large floodplains that did not intersect with the lines.\n",
    "\n",
    "I tried using the NHDPlus medium resolution catchments to represent locations where species have either been observed, or where there is critical habitat for those species, but they didn't do much better than the high res on the large river floodplains.\n",
    "\n",
    "I also tried using the size classes, but many large floodplains still have small size classes in the center of the floodplains.\n",
    "\n",
    "I tried using the HUC12s to slice up the functional networks, but that resulted in holes I had to fill in in convoluted ways\n",
    "\n",
    "I join the non sturgeon species and the sturgeon species seperately so I can make sure that for lines that contain both, the sturgeon values take precedence"
   ]
  },
  {
   "cell_type": "code",
   "execution_count": 9,
   "metadata": {},
   "outputs": [
    {
     "data": {
      "text/html": [
       "<div class='gpresult'><h2>Messages</h2><div id='messages' data-messages='[\"Start Time: Wednesday, May 17, 2023 3:04:38 PM\",\"Succeeded at Wednesday, May 17, 2023 3:04:39 PM (Elapsed Time: 0.98 seconds)\"]' data-show='true'><div id = 'default' /></div></div>"
      ],
      "text/plain": [
       "<Result 'D:\\\\SE_Blueprint_2023\\\\5_Indicators_Tier2_UnClipped\\\\GulfMigratoryFish\\\\GulfMigratoryFishCo.gdb\\\\gsturCH1'>"
      ]
     },
     "execution_count": 9,
     "metadata": {},
     "output_type": "execute_result"
    }
   ],
   "source": [
    "# make a copy of the gulf sturgeon critical habiat lines for edits\n",
    "arcpy.management.CopyFeatures(gsturCH, \"gsturCH1\", '', None, None, None)"
   ]
  },
  {
   "cell_type": "code",
   "execution_count": 10,
   "metadata": {},
   "outputs": [
    {
     "name": "stdout",
     "output_type": "stream",
     "text": [
      "can't delete OBJECTID\n",
      "can't delete Shape\n",
      "can't delete Shape_Length\n"
     ]
    }
   ],
   "source": [
    "# delete all fields from the copy of the gulf sturgeon\n",
    "fc = \"gsturCH1\"\n",
    "for f in arcpy.ListFields(fc):\n",
    "  if (f.name == 'OBJECTID' or f.name == 'Shape' or f.name == 'Shape_Length'):\n",
    "    print(\"can't delete {}\".format(f.name))\n",
    "  else:\n",
    "    arcpy.management.DeleteField(fc, f.name)"
   ]
  },
  {
   "cell_type": "code",
   "execution_count": 11,
   "metadata": {},
   "outputs": [
    {
     "data": {
      "text/html": [
       "<div class='gpresult'><h2>Messages</h2><div id='messages' data-messages='[\"Start Time: Wednesday, May 17, 2023 3:04:47 PM\",\"Succeeded at Wednesday, May 17, 2023 3:04:48 PM (Elapsed Time: 0.30 seconds)\"]' data-show='true'><div id = 'default' /></div></div>"
      ],
      "text/plain": [
       "<Result 'F:\\\\GIS_DATA\\\\SpeciesAndHabitats\\\\NOAA_CriticalHabitat\\\\shapefile-Gulf-sturgeon-critical-habitat-all-units-USFWS-NMFS-SERO\\\\shapefile_Gulf_sturgeon_critical_habitat_Unit1_7_USFWS_SERO.shp'>"
      ]
     },
     "execution_count": 11,
     "metadata": {},
     "output_type": "execute_result"
    }
   ],
   "source": [
    "# add a field to gulf sturgeon critical habitat and calculate it\n",
    "arcpy.management.CalculateField(gsturCH, \"gsturCH1\", \"1\", \"PYTHON3\", '', \"SHORT\")"
   ]
  },
  {
   "cell_type": "code",
   "execution_count": 12,
   "metadata": {},
   "outputs": [],
   "source": [
    "# merge all no sturgeon species linework into a single layer with attributes for each species\n",
    "# don't use this b/c bluepback aren't in gulf\n",
    "#arcpy.management.Merge([amshad, alshad, blueback, strbass], \"MSpeciesLines3\", \"\", \"ADD_SOURCE_INFO\")"
   ]
  },
  {
   "cell_type": "code",
   "execution_count": 13,
   "metadata": {},
   "outputs": [
    {
     "data": {
      "text/html": [
       "<div class='gpresult'><h2>Messages</h2><div id='messages' data-messages='[\"Start Time: Wednesday, May 17, 2023 3:04:49 PM\",\"Succeeded at Wednesday, May 17, 2023 3:04:51 PM (Elapsed Time: 1.39 seconds)\"]' data-show='true'><div id = 'default' /></div></div>"
      ],
      "text/plain": [
       "<Result 'D:\\\\SE_Blueprint_2023\\\\5_Indicators_Tier2_UnClipped\\\\GulfMigratoryFish\\\\GulfMigratoryFishCo.gdb\\\\MSpeciesLines3'>"
      ]
     },
     "execution_count": 13,
     "metadata": {},
     "output_type": "execute_result"
    }
   ],
   "source": [
    "# merge all no sturgeon species linework into a single layer with attributes for each species\n",
    "arcpy.management.Merge([amshad, alshad, strbass], \"MSpeciesLines3\", \"\", \"ADD_SOURCE_INFO\")"
   ]
  },
  {
   "cell_type": "code",
   "execution_count": 14,
   "metadata": {},
   "outputs": [
    {
     "data": {
      "text/html": [
       "<div class='gpresult'><h2>Messages</h2><div id='messages' data-messages='[\"Start Time: Wednesday, May 17, 2023 3:04:51 PM\",\"Adding NotSturg to MSpeciesLines3...\",\"Succeeded at Wednesday, May 17, 2023 3:04:51 PM (Elapsed Time: 0.44 seconds)\"]' data-show='true'><div id = 'default' /></div></div>"
      ],
      "text/plain": [
       "<Result 'D:\\\\SE_Blueprint_2023\\\\5_Indicators_Tier2_UnClipped\\\\GulfMigratoryFish\\\\GulfMigratoryFishCo.gdb\\\\MSpeciesLines3'>"
      ]
     },
     "execution_count": 14,
     "metadata": {},
     "output_type": "execute_result"
    }
   ],
   "source": [
    "# add and calculate a field to show which lines are associated with the non sturgen species\n",
    "arcpy.management.CalculateField(\"MSpeciesLines3\", \"NotSturg\", '\"NotSturg\"', \"PYTHON3\", '', \"TEXT\")"
   ]
  },
  {
   "cell_type": "code",
   "execution_count": 15,
   "metadata": {},
   "outputs": [],
   "source": [
    "# merge all sturgeon species linework into a single layer with attributes for each species\n",
    "# don't use Atlantic sturgeon lines since we are restricting this to the gulf\n",
    "# arcpy.management.Merge([astur, gstur, \"asturCH1\", \"gsturCH1\"], \"MSpeciesLines4\", \"\", \"ADD_SOURCE_INFO\")"
   ]
  },
  {
   "cell_type": "code",
   "execution_count": 16,
   "metadata": {},
   "outputs": [
    {
     "data": {
      "text/html": [
       "<div class='gpresult'><h2>Messages</h2><div id='messages' data-messages='[\"Start Time: Wednesday, May 17, 2023 3:04:52 PM\",\"Succeeded at Wednesday, May 17, 2023 3:04:53 PM (Elapsed Time: 0.95 seconds)\"]' data-show='true'><div id = 'default' /></div></div>"
      ],
      "text/plain": [
       "<Result 'D:\\\\SE_Blueprint_2023\\\\5_Indicators_Tier2_UnClipped\\\\GulfMigratoryFish\\\\GulfMigratoryFishCo.gdb\\\\MSpeciesLines4'>"
      ]
     },
     "execution_count": 16,
     "metadata": {},
     "output_type": "execute_result"
    }
   ],
   "source": [
    "# merge all gulf sturgeon species linework into a single layer with attributes for each species\n",
    "arcpy.management.Merge([gstur, \"gsturCH1\"], \"MSpeciesLines4\", \"\", \"ADD_SOURCE_INFO\")"
   ]
  },
  {
   "cell_type": "code",
   "execution_count": 17,
   "metadata": {},
   "outputs": [
    {
     "data": {
      "text/html": [
       "<div class='gpresult'><h2>Messages</h2><div id='messages' data-messages='[\"Start Time: Wednesday, May 17, 2023 3:04:53 PM\",\"Adding Sturg to MSpeciesLines4...\",\"Succeeded at Wednesday, May 17, 2023 3:04:54 PM (Elapsed Time: 0.34 seconds)\"]' data-show='true'><div id = 'default' /></div></div>"
      ],
      "text/plain": [
       "<Result 'D:\\\\SE_Blueprint_2023\\\\5_Indicators_Tier2_UnClipped\\\\GulfMigratoryFish\\\\GulfMigratoryFishCo.gdb\\\\MSpeciesLines4'>"
      ]
     },
     "execution_count": 17,
     "metadata": {},
     "output_type": "execute_result"
    }
   ],
   "source": [
    "# add and calculate a field to show which lines are associated with gulf sturgeon species\n",
    "arcpy.management.CalculateField(\"MSpeciesLines4\", \"Sturg\", '\"Sturg\"', \"PYTHON3\", '', \"TEXT\")"
   ]
  },
  {
   "cell_type": "markdown",
   "metadata": {},
   "source": [
    "### Join species lines to HUC12"
   ]
  },
  {
   "cell_type": "code",
   "execution_count": 18,
   "metadata": {},
   "outputs": [],
   "source": [
    "# make a copy of the HUC12 for edits\n",
    "with arcpy.EnvManager(outputCoordinateSystem=sr, extent=Rextent):\n",
    "    arcpy.management.CopyFeatures(H12, \"H12\", '', None, None, None)"
   ]
  },
  {
   "cell_type": "code",
   "execution_count": 19,
   "metadata": {},
   "outputs": [],
   "source": [
    "# perform a spatial join with the merged line work to huc12s \n",
    "with arcpy.EnvManager(outputCoordinateSystem=sr, extent=Rextent):\n",
    "    arcpy.analysis.SpatialJoin(\"H12\", \"MSpeciesLines4\", \"poly4\", \"JOIN_ONE_TO_ONE\", \"KEEP_ALL\")"
   ]
  },
  {
   "cell_type": "code",
   "execution_count": 20,
   "metadata": {},
   "outputs": [],
   "source": [
    "# perform a spatial join with the merged line work to huc12s\n",
    "with arcpy.EnvManager(outputCoordinateSystem=sr, extent=Rextent):\n",
    "    arcpy.analysis.SpatialJoin(\"poly4\", \"MSpeciesLines3\", \"poly43\", \"JOIN_ONE_TO_ONE\", \"KEEP_ALL\")"
   ]
  },
  {
   "cell_type": "code",
   "execution_count": 21,
   "metadata": {},
   "outputs": [],
   "source": [
    "# set code block for next step\n",
    "codeblock = \"\"\"\n",
    "def Reclass(Sturg, NotSturg):\n",
    "    if (Sturg == \"Sturg\"):\n",
    "        return 2\n",
    "    elif (NotSturg == \"NotSturg\"):\n",
    "        return 1  \n",
    "\"\"\""
   ]
  },
  {
   "cell_type": "code",
   "execution_count": 22,
   "metadata": {},
   "outputs": [
    {
     "data": {
      "text/html": [
       "<div class='gpresult'><h2>Messages</h2><div id='messages' data-messages='[\"Start Time: Wednesday, May 17, 2023 3:06:29 PM\",\"Adding Value to poly43...\",\"Succeeded at Wednesday, May 17, 2023 3:06:31 PM (Elapsed Time: 1.88 seconds)\"]' data-show='true'><div id = 'default' /></div></div>"
      ],
      "text/plain": [
       "<Result 'D:\\\\SE_Blueprint_2023\\\\5_Indicators_Tier2_UnClipped\\\\GulfMigratoryFish\\\\GulfMigratoryFishCo.gdb\\\\poly43'>"
      ]
     },
     "execution_count": 22,
     "metadata": {},
     "output_type": "execute_result"
    }
   ],
   "source": [
    "# add and calculate a field of the HUC12 that intersect the species linework to contain\n",
    "# values of 1 or 2 based on species presence\n",
    "arcpy.management.CalculateField(\"poly43\", \"Value\", \"Reclass(!Sturg!,!NotSturg!)\", \"PYTHON3\", codeblock, \"SHORT\")"
   ]
  },
  {
   "cell_type": "code",
   "execution_count": 23,
   "metadata": {},
   "outputs": [],
   "source": [
    "# convert to raster\n",
    "with arcpy.EnvManager(outputCoordinateSystem=sr, extent=Rextent, snapRaster=Rextent, cellSize=Rextent):\n",
    "    arcpy.conversion.FeatureToRaster(in_features=\"poly43\", field=\"Value\", out_raster=\"poly43r\", cell_size=Rextent)"
   ]
  },
  {
   "cell_type": "markdown",
   "metadata": {},
   "source": [
    "### clip to floodplains\n",
    "\n",
    "I am clipping to floodplains before I add in the polygon critical habitat for the gulf sturgeon, because that extents out into the near shore environment and our floodplain clip was removing it."
   ]
  },
  {
   "cell_type": "code",
   "execution_count": 24,
   "metadata": {},
   "outputs": [],
   "source": [
    "# Limit the result to the EPA floodplain\n",
    "with arcpy.EnvManager(outputCoordinateSystem=sr, extent=Rextent, snapRaster=Rextent):\n",
    "    out_raster = arcpy.sa.Con(FP, \"poly43r\", '',\"Value = 1\"); out_raster.save(\"poly43rFP\")"
   ]
  },
  {
   "cell_type": "code",
   "execution_count": 25,
   "metadata": {},
   "outputs": [],
   "source": [
    "# If we want places outside the floodplain to be 0, we can use this one\n",
    "# out_raster = arcpy.sa.Con(FP, \"indicator2\", '0',\"Value = 1\"); out_raster.save(\"poly43rFP\")"
   ]
  },
  {
   "cell_type": "markdown",
   "metadata": {},
   "source": [
    "### add sturgeon polygon data"
   ]
  },
  {
   "cell_type": "code",
   "execution_count": 26,
   "metadata": {},
   "outputs": [
    {
     "data": {
      "text/html": [
       "<div class='gpresult'><h2>Messages</h2><div id='messages' data-messages='[\"Start Time: Wednesday, May 17, 2023 3:09:03 PM\",\"Succeeded at Wednesday, May 17, 2023 3:09:05 PM (Elapsed Time: 1.17 seconds)\"]' data-show='true'><div id = 'default' /></div></div>"
      ],
      "text/plain": [
       "<Result 'D:\\\\SE_Blueprint_2023\\\\5_Indicators_Tier2_UnClipped\\\\GulfMigratoryFish\\\\GulfMigratoryFishCo.gdb\\\\gsturCHp1'>"
      ]
     },
     "execution_count": 26,
     "metadata": {},
     "output_type": "execute_result"
    }
   ],
   "source": [
    "# make a copy of the gulf sturgeon polygons for edits\n",
    "arcpy.management.CopyFeatures(gsturCHp, \"gsturCHp1\", '', None, None, None)"
   ]
  },
  {
   "cell_type": "code",
   "execution_count": 27,
   "metadata": {},
   "outputs": [
    {
     "data": {
      "text/html": [
       "<div class='gpresult'><h2>Messages</h2><div id='messages' data-messages='[\"Start Time: Wednesday, May 17, 2023 3:09:05 PM\",\"Adding gsturCHp1 to gsturCHp1...\",\"Succeeded at Wednesday, May 17, 2023 3:09:05 PM (Elapsed Time: 0.13 seconds)\"]' data-show='true'><div id = 'default' /></div></div>"
      ],
      "text/plain": [
       "<Result 'D:\\\\SE_Blueprint_2023\\\\5_Indicators_Tier2_UnClipped\\\\GulfMigratoryFish\\\\GulfMigratoryFishCo.gdb\\\\gsturCHp1'>"
      ]
     },
     "execution_count": 27,
     "metadata": {},
     "output_type": "execute_result"
    }
   ],
   "source": [
    "# add a field to gulf sturgeon critical habitat polygon and give them a value of 2\n",
    "arcpy.management.CalculateField(\"gsturCHp1\", \"gsturCHp1\", \"2\", \"PYTHON3\", '', \"SHORT\")"
   ]
  },
  {
   "cell_type": "code",
   "execution_count": 28,
   "metadata": {},
   "outputs": [],
   "source": [
    "# convert gulf sturgeon critical habitat polygon to raster\n",
    "with arcpy.EnvManager(outputCoordinateSystem=sr, extent=Rextent, snapRaster=Rextent):\n",
    "    arcpy.conversion.FeatureToRaster(\"gsturCHp1\", \"gsturCHp1\", \"gsturCHpR\", cell_size=Rextent)"
   ]
  },
  {
   "cell_type": "code",
   "execution_count": 29,
   "metadata": {},
   "outputs": [],
   "source": [
    "# use cell statistics to combine the raster\n",
    "with arcpy.EnvManager(outputCoordinateSystem=sr, extent=Rextent, snapRaster=Rextent):\n",
    "    out_raster = arcpy.sa.CellStatistics(\"poly43rFP;gsturCHpR\", \"MAXIMUM\", \"DATA\", \"SINGLE_BAND\"); out_raster.save(\"allSpecies\")"
   ]
  },
  {
   "cell_type": "markdown",
   "metadata": {},
   "source": [
    "### clip to gulf"
   ]
  },
  {
   "cell_type": "code",
   "execution_count": 30,
   "metadata": {},
   "outputs": [],
   "source": [
    "# make a copy of the HUC6 for edits\n",
    "with arcpy.EnvManager(outputCoordinateSystem=sr, extent=Rextent):\n",
    "    arcpy.management.CopyFeatures(H6, \"H6\", '', None, None, None)"
   ]
  },
  {
   "cell_type": "code",
   "execution_count": 31,
   "metadata": {},
   "outputs": [],
   "source": [
    "# select the Gulf drainage hucs that intersects the input data\n",
    "with arcpy.EnvManager(outputCoordinateSystem=sr):\n",
    "    arcpy.analysis.Select(\"H6\", \"H6_Select\", \"huc6 IN ('031700','031602','031800','080902','031501', '031403', '031200', '031300', '031101', '031502', '031401', '031402', '031102')\")"
   ]
  },
  {
   "cell_type": "code",
   "execution_count": 32,
   "metadata": {},
   "outputs": [
    {
     "data": {
      "text/html": [
       "<div class='gpresult'><h2>Messages</h2><div id='messages' data-messages='[\"Start Time: Wednesday, May 17, 2023 3:10:44 PM\",\"Adding dissolve to H6_Select...\",\"Succeeded at Wednesday, May 17, 2023 3:10:44 PM (Elapsed Time: 0.15 seconds)\"]' data-show='true'><div id = 'default' /></div></div>"
      ],
      "text/plain": [
       "<Result 'D:\\\\SE_Blueprint_2023\\\\5_Indicators_Tier2_UnClipped\\\\GulfMigratoryFish\\\\GulfMigratoryFishCo.gdb\\\\H6_Select'>"
      ]
     },
     "execution_count": 32,
     "metadata": {},
     "output_type": "execute_result"
    }
   ],
   "source": [
    "# add and calculate a field so I can dissolve the SA Gulf Huc6\n",
    "arcpy.management.CalculateField(\"H6_Select\", \"dissolve\", '0', \"PYTHON3\", '', \"SHORT\")"
   ]
  },
  {
   "cell_type": "code",
   "execution_count": 33,
   "metadata": {},
   "outputs": [
    {
     "data": {
      "text/html": [
       "<div class='gpresult'><h2>Messages</h2><div id='messages' data-messages='[\"Start Time: Wednesday, May 17, 2023 3:10:44 PM\",\"Sorting Attributes...\",\"Dissolving...\",\"Succeeded at Wednesday, May 17, 2023 3:10:46 PM (Elapsed Time: 1.34 seconds)\"]' data-show='true'><div id = 'default' /></div></div>"
      ],
      "text/plain": [
       "<Result 'D:\\\\SE_Blueprint_2023\\\\5_Indicators_Tier2_UnClipped\\\\GulfMigratoryFish\\\\GulfMigratoryFishCo.gdb\\\\H6_SelectDiss'>"
      ]
     },
     "execution_count": 33,
     "metadata": {},
     "output_type": "execute_result"
    }
   ],
   "source": [
    "arcpy.management.Dissolve(\"H6_Select\", \"H6_SelectDiss\", \"dissolve\", None, \"MULTI_PART\", \"DISSOLVE_LINES\")"
   ]
  },
  {
   "cell_type": "code",
   "execution_count": 34,
   "metadata": {},
   "outputs": [],
   "source": [
    "# remove areas outside the Gulf drainages where the input data apply\n",
    "with arcpy.EnvManager(outputCoordinateSystem=sr, extent=Rextent, snapRaster=Rextent):\n",
    "    out_raster = arcpy.sa.ExtractByMask(\"allSpecies\", \"H6_SelectDiss\"); out_raster.save(\"allSpeciesG\")"
   ]
  },
  {
   "cell_type": "markdown",
   "metadata": {},
   "source": [
    "### add zero values"
   ]
  },
  {
   "cell_type": "code",
   "execution_count": 35,
   "metadata": {},
   "outputs": [],
   "source": [
    "# convert the gulf HUC6s where we have data to a raster, this will be used to make a study area\n",
    "with arcpy.EnvManager(outputCoordinateSystem=sr, extent=Rextent, snapRaster=Rextent, cellSize=Rextent):\n",
    "    arcpy.conversion.FeatureToRaster(in_features=\"H6_SelectDiss\", field=\"dissolve\", out_raster=\"H6_SelectDissR\", cell_size=Rextent)"
   ]
  },
  {
   "cell_type": "code",
   "execution_count": 36,
   "metadata": {},
   "outputs": [],
   "source": [
    "#use cell statistics max to combine above rasters\n",
    "out_raster = arcpy.sa.CellStatistics(\"allSpeciesG;H6_SelectDissR\", \"MAXIMUM\", \"DATA\", \"SINGLE_BAND\", 90, \"AUTO_DETECT\"); out_raster.save(\"indicator\")"
   ]
  },
  {
   "cell_type": "markdown",
   "metadata": {},
   "source": [
    "### Finalize indiator\n",
    "\n",
    "do final steps for all indicators to add description fields, clip and export to SE extent, clip and export to SA extent"
   ]
  },
  {
   "cell_type": "code",
   "execution_count": 54,
   "metadata": {},
   "outputs": [],
   "source": [
    "# clip to Base Blueprint extent\n",
    "with arcpy.EnvManager(outputCoordinateSystem=sr, snapRaster=Rextent, cellSize=Rextent):\n",
    "    out_raster = arcpy.sa.ExtractByMask(\"indicator\", Rextent); out_raster.save(\"SEMask\")"
   ]
  },
  {
   "cell_type": "code",
   "execution_count": 55,
   "metadata": {},
   "outputs": [],
   "source": [
    "# export as .tif with Base Blueprint extent\n",
    "with arcpy.EnvManager(outputCoordinateSystem=sr, snapRaster=Rextent, cellSize=Rextent):\n",
    "    arcpy.management.CopyRaster(\"SEMask\", Out, '', None, \"15\", \"NONE\", \"NONE\", \"4_BIT\", \"NONE\", \"NONE\", \"TIFF\", \"NONE\", \"CURRENT_SLICE\", \"NO_TRANSPOSE\")"
   ]
  },
  {
   "cell_type": "code",
   "execution_count": 56,
   "metadata": {},
   "outputs": [],
   "source": [
    "# set code block for next step\n",
    "codeblock = \"\"\"\n",
    "def Reclass(value):\n",
    "    if value == 2:\n",
    "        return '2 = Presence of Gulf sturgeon'\n",
    "    elif value == 1:\n",
    "        return '1 = Presence of Alabama shad, American shad, or striped bass' \n",
    "    elif value == 0:\n",
    "        return '0 = Not identified as Gulf migratory fish habitat (east of the Mississippi River)'\n",
    "\"\"\""
   ]
  },
  {
   "cell_type": "code",
   "execution_count": 57,
   "metadata": {},
   "outputs": [
    {
     "data": {
      "text/html": [
       "<div class='gpresult'><h2>Messages</h2><div id='messages' data-messages='[\"Start Time: Friday, September 15, 2023 9:52:51 PM\",\"Succeeded at Friday, September 15, 2023 9:52:52 PM (Elapsed Time: 0.23 seconds)\"]' data-show='true'><div id = 'default' /></div></div>"
      ],
      "text/plain": [
       "<Result 'D:\\\\SE_Blueprint_2023\\\\5_Indicators_Tier2_UnClipped\\\\GulfMigratoryFish\\\\GulfMigratoryFishConnectivity2023.tif'>"
      ]
     },
     "execution_count": 57,
     "metadata": {},
     "output_type": "execute_result"
    }
   ],
   "source": [
    "# add and calculate description field to hold indicator values\n",
    "arcpy.management.CalculateField(Out, \"descript\", \"Reclass(!value!)\", \"PYTHON3\", codeblock, \"TEXT\")"
   ]
  },
  {
   "cell_type": "code",
   "execution_count": 58,
   "metadata": {},
   "outputs": [],
   "source": [
    "# set code block for next step\n",
    "codeblock = \"\"\"\n",
    "def Reclass1(Value):\n",
    "\tif Value == 2:\n",
    "\t\treturn 49\n",
    "\tif Value == 1:\n",
    "\t\treturn 158\n",
    "\telse:\n",
    "\t\treturn 255\n",
    "\t\t\n",
    "def Reclass2(Value):\n",
    "\tif Value == 2:\n",
    "\t\treturn 130\n",
    "\tif Value == 1:\n",
    "\t\treturn 202\n",
    "\telse:\n",
    "\t\treturn 255\n",
    "\t\t\n",
    "def Reclass3(Value):\n",
    "\tif Value == 2:\n",
    "\t\treturn 189\n",
    "\tif Value == 1:\n",
    "\t\treturn 225\n",
    "\telse:\n",
    "\t\treturn 255\n",
    "\"\"\""
   ]
  },
  {
   "cell_type": "code",
   "execution_count": 59,
   "metadata": {},
   "outputs": [
    {
     "data": {
      "text/html": [
       "<div class='gpresult'><h2>Messages</h2><div id='messages' data-messages='[\"Start Time: Friday, September 15, 2023 9:52:52 PM\",\"Succeeded at Friday, September 15, 2023 9:52:52 PM (Elapsed Time: 0.12 seconds)\"]' data-show='true'><div id = 'default' /></div></div>"
      ],
      "text/plain": [
       "<Result 'D:\\\\SE_Blueprint_2023\\\\5_Indicators_Tier2_UnClipped\\\\GulfMigratoryFish\\\\GulfMigratoryFishConnectivity2023.tif'>"
      ]
     },
     "execution_count": 59,
     "metadata": {},
     "output_type": "execute_result"
    }
   ],
   "source": [
    "# calculate Red field\n",
    "arcpy.management.CalculateField(Out, \"Red\", \"Reclass1(!Value!)\", \"PYTHON3\", codeblock, \"SHORT\")\n",
    "# calculate Green field\n",
    "arcpy.management.CalculateField(Out, \"Green\", \"Reclass2(!Value!)\", \"PYTHON3\", codeblock, \"SHORT\")\n",
    "# calculate Blue field\n",
    "arcpy.management.CalculateField(Out, \"Blue\", \"Reclass3(!Value!)\", \"PYTHON3\", codeblock, \"SHORT\")"
   ]
  },
  {
   "cell_type": "code",
   "execution_count": 43,
   "metadata": {},
   "outputs": [
    {
     "name": "stdout",
     "output_type": "stream",
     "text": [
      "673.2844398021698\n"
     ]
    }
   ],
   "source": [
    "# this prints the time it took this notebook to run in seconds\n",
    "end = time.time()\n",
    "print(end - start)"
   ]
  },
  {
   "cell_type": "code",
   "execution_count": null,
   "metadata": {},
   "outputs": [],
   "source": []
  }
 ],
 "metadata": {
  "kernelspec": {
   "display_name": "ArcGISPro",
   "language": "Python",
   "name": "python3"
  },
  "language_info": {
   "file_extension": ".py",
   "name": "python",
   "version": "3"
  }
 },
 "nbformat": 4,
 "nbformat_minor": 2
}
