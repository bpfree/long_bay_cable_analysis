{
 "cells": [
  {
   "cell_type": "markdown",
   "metadata": {},
   "source": [
    "# Caribbean Beach Habitat\n",
    "Created by Blair Tirpak. Last run July 17, 2023\n",
    "Updated by Blair Tirpak August 30, 2023"
   ]
  },
  {
   "cell_type": "code",
   "execution_count": 1,
   "metadata": {},
   "outputs": [],
   "source": [
    "# Import system modules\n",
    "import arcpy\n",
    "from arcpy import env\n",
    "from arcpy.sa import *\n",
    "\n",
    "# Set environment settings\n",
    "env.workspace = r\"C:\\Data\\Indicators\\Beach\\Beach.gdb\"\n",
    "workspace = r\"C:\\Data\\Indicators\\Beach\\Beach.gdb\"\n",
    "\n",
    "# define spatial reference\n",
    "sr= arcpy.SpatialReference(5070)\n",
    "\n",
    "# Final Extent\n",
    "extent = r\"C:\\Data\\Indicators\\VIPR_Extent_v6.tif\"\n",
    "# define final indicator outputs\n",
    "VIPRout = r\"C:\\Data\\Indicators\\Beach\\CaribbeanBeachHabitat.tif\""
   ]
  },
  {
   "cell_type": "markdown",
   "metadata": {},
   "source": [
    "# Beach "
   ]
  },
  {
   "cell_type": "code",
   "execution_count": 32,
   "metadata": {},
   "outputs": [],
   "source": [
    "# beach from OSM for USVI\n",
    "OSM_b = r\"C:\\Data\\Indicators\\Beach\\PR\\beach20230628.shp\"\n",
    "\n",
    "# bufer beaches by 15m \n",
    "arcpy.analysis.PairwiseBuffer(OSM_b, \"OSM_b15\", \"15 Meters\", \"ALL\", None, \"PLANAR\", \"0 Meters\")\n",
    "\n",
    "arcpy.management.Project(\"OSM_b15\", \"OSM_b15_albers\", sr, \"WGS_1984_(ITRF00)_To_NAD_1983\", 'GEOGCS[\"GCS_WGS_1984\",DATUM[\"D_WGS_1984\",SPHEROID[\"WGS_1984\",6378137.0,298.257223563]],PRIMEM[\"Greenwich\",0.0],UNIT[\"Degree\",0.0174532925199433]]', \"NO_PRESERVE_SHAPE\", None, \"NO_VERTICAL\")\n",
    "\n",
    "with arcpy.EnvManager(snapRaster=extent, cellSize=extent):\n",
    "    arcpy.conversion.PolygonToRaster(\"OSM_b15_albers\", \"OBJECTID\", \"OSM_b15_albersR\", \"CELL_CENTER\", \"NONE\", 30, \"BUILD\")"
   ]
  },
  {
   "cell_type": "markdown",
   "metadata": {
    "heading_collapsed": true
   },
   "source": [
    "## PR Beach"
   ]
  },
  {
   "cell_type": "code",
   "execution_count": 33,
   "metadata": {
    "hidden": true
   },
   "outputs": [],
   "source": [
    "with arcpy.EnvManager(snapRaster=extent, cellSize=extent):\n",
    "    arcpy.conversion.PolygonToRaster(\"OSM_b15_albers\", \"OBJECTID\", \"OSM_b15_albersR\", \"CELL_CENTER\", \"NONE\", 30, \"BUILD\")\n",
    "    "
   ]
  },
  {
   "cell_type": "code",
   "execution_count": 36,
   "metadata": {
    "hidden": true
   },
   "outputs": [],
   "source": [
    "# PR GAP\n",
    "PRgap = r\"C:\\Data\\Indicators\\Beach\\PR\\pr_landcover\\prgap_landcover.img\"\n",
    "PR_gap_beach = arcpy.sa.Reclassify(PRgap, \"PRGAP_CL\", \"'Gravel beaches and stony shoreline' 1;'Fine to coarse sandy beaches, mixed sand and gravel beaches' 1\", \"NODATA\");\n",
    "PR_gap_beach.save(\"PR_gap_beach\")"
   ]
  },
  {
   "cell_type": "code",
   "execution_count": 37,
   "metadata": {
    "hidden": true
   },
   "outputs": [],
   "source": [
    "# resample to 30 m\n",
    "with arcpy.EnvManager(scratchWorkspace=workspace, outputCoordinateSystem=sr, snapRaster=extent, workspace=workspace):\n",
    "    arcpy.management.Resample(\"PR_gap_beach\", \"PR_gap_beach_30\", \"30 30\", \"NEAREST\")\n"
   ]
  },
  {
   "cell_type": "code",
   "execution_count": 38,
   "metadata": {
    "hidden": true
   },
   "outputs": [
    {
     "data": {
      "text/html": [
       "<div class='gpresult'><h2>Messages</h2><div id='messages' data-messages='[\"Start Time: Monday, July 17, 2023 10:17:26 AM\",\"PR_gap_beach_30 is loading...\",\"OSM_b15_albersR is loading...\",\"Succeeded at Monday, July 17, 2023 10:17:43 AM (Elapsed Time: 16.51 seconds)\"]' data-show='true'><div id = 'default' /></div></div>"
      ],
      "text/plain": [
       "<Result 'C:\\\\Data\\\\Indicators\\\\Beach\\\\Beach.gdb\\\\PR_Beach_all'>"
      ]
     },
     "execution_count": 38,
     "metadata": {},
     "output_type": "execute_result"
    }
   ],
   "source": [
    "# merge two beach files together\n",
    "arcpy.management.MosaicToNewRaster(\"PR_gap_beach_30;OSM_b15_albersR\", workspace, \"PR_Beach_all\", sr, \"8_BIT_UNSIGNED\", None, 1, \"MAXIMUM\", \"FIRST\")"
   ]
  },
  {
   "cell_type": "markdown",
   "metadata": {},
   "source": [
    "## VI"
   ]
  },
  {
   "cell_type": "code",
   "execution_count": 45,
   "metadata": {},
   "outputs": [
    {
     "data": {
      "text/html": [
       "<div class='gpresult'><h2>Messages</h2><div id='messages' data-messages='[\"Start Time: Monday, July 17, 2023 10:32:51 AM\",\"Succeeded at Monday, July 17, 2023 10:32:52 AM (Elapsed Time: 1.28 seconds)\"]' data-show='true'><div id = 'default' /></div></div>"
      ],
      "text/plain": [
       "<Result 'C:\\\\Data\\\\Indicators\\\\Beach\\\\Beach.gdb\\\\VI_Beaches_Joe'>"
      ]
     },
     "execution_count": 45,
     "metadata": {},
     "output_type": "execute_result"
    }
   ],
   "source": [
    "# combine Beach polys from Joe for USVI\n",
    "STJ = r\"C:\\Data\\Indicators\\Beach\\InputDataFromJoeDwyer3-3-2023\\STJ_Beaches.shp\"\n",
    "STT = r\"C:\\Data\\Indicators\\Beach\\InputDataFromJoeDwyer3-3-2023\\STT_Beaches.shp\"                            \n",
    "STX = r\"C:\\Data\\Indicators\\Beach\\InputDataFromJoeDwyer3-3-2023\\STXBeaches.shp\"  \n",
    "\n",
    "arcpy.Merge_management([STJ,STT,STX], \"VI_Beaches_Joe\", \"NO_SOURCE_INFO\")"
   ]
  },
  {
   "cell_type": "code",
   "execution_count": 47,
   "metadata": {},
   "outputs": [],
   "source": [
    "# bufer beaches by 15m \n",
    "arcpy.analysis.PairwiseBuffer(\"VI_Beaches_Joe\", \"VI_Beaches_Joe15\", \"15 Meters\", \"ALL\", None, \"PLANAR\", \"0 Meters\")\n",
    "arcpy.Project_management(\"VI_Beaches_Joe15\", \"VI_Beaches_Joe15_Albers\", sr, \"WGS_1984_(ITRF00)_To_NAD_1983\", \n",
    "                         'PROJCS[\"WGS_1984_UTM_Zone_20N\",GEOGCS[\"GCS_WGS_1984\",DATUM[\"D_WGS_1984\",SPHEROID[\"WGS_1984\",6378137.0,298.257223563]],PRIMEM[\"Greenwich\",0.0],UNIT[\"Degree\",0.0174532925199433]],PROJECTION[\"Transverse_Mercator\"],PARAMETER[\"False_Easting\",500000.0],PARAMETER[\"False_Northing\",0.0],PARAMETER[\"Central_Meridian\",-63.0],PARAMETER[\"Scale_Factor\",0.9996],PARAMETER[\"Latitude_Of_Origin\",0.0],UNIT[\"Meter\",1.0]]', \"NO_PRESERVE_SHAPE\", None, \"NO_VERTICAL\")\n",
    "with arcpy.EnvManager(snapRaster=extent, cellSize=extent):\n",
    "    arcpy.conversion.PolygonToRaster(\"VI_Beaches_Joe15_Albers\", \"OBJECTID\", \"VI_Beaches_JoeR\", \"CELL_CENTER\", \"NONE\", 30, \"BUILD\")"
   ]
  },
  {
   "cell_type": "code",
   "execution_count": 50,
   "metadata": {},
   "outputs": [
    {
     "data": {
      "text/html": [
       "<div class='gpresult'><h2>Messages</h2><div id='messages' data-messages='[\"Start Time: Monday, July 17, 2023 10:40:23 AM\",\"GAP_beach_30 is loading...\",\"VI_Beaches_JoeR is loading...\",\"Succeeded at Monday, July 17, 2023 10:40:30 AM (Elapsed Time: 6.85 seconds)\"]' data-show='true'><div id = 'default' /></div></div>"
      ],
      "text/plain": [
       "<Result 'C:\\\\Data\\\\Indicators\\\\Beach\\\\Beach.gdb\\\\VI_Beach_all'>"
      ]
     },
     "execution_count": 50,
     "metadata": {},
     "output_type": "execute_result"
    }
   ],
   "source": [
    "# gap data\n",
    "# extract beach\n",
    "GAP = r\"C:\\Data\\Indicators\\Beach\\USVI_GAP_DVD\\GISdata\\Landcover\\1_Land_cover_grid\\USVI_Land_Cover_USVIGAP.img\"\n",
    "GAP_beach = arcpy.sa.Reclassify(GAP, \"Class_Name\", \"'Fine to Medium Grained Sandy Beaches' 1;'Gravel Beaches' 1;'Mixed Sand and Gravel Beaches' 1\", \"NODATA\")\n",
    "GAP_beach.save(\"GAP_beach\")\n",
    "# resample to 30 m\n",
    "with arcpy.EnvManager(scratchWorkspace=workspace, outputCoordinateSystem=sr, snapRaster=extent, workspace=workspace):\n",
    "    arcpy.management.Resample(\"GAP_beach\", \"GAP_beach_30\", \"30 30\", \"NEAREST\")\n",
    "    \n",
    "# merge two beach files together\n",
    "arcpy.management.MosaicToNewRaster(\"GAP_beach_30;VI_Beaches_JoeR\", workspace, \"VI_Beach_all\", sr, \"8_BIT_UNSIGNED\", None, 1, \"MAXIMUM\", \"FIRST\")"
   ]
  },
  {
   "cell_type": "markdown",
   "metadata": {},
   "source": [
    "## Merge PR and VI "
   ]
  },
  {
   "cell_type": "code",
   "execution_count": 51,
   "metadata": {},
   "outputs": [],
   "source": [
    "# beach\n",
    "with arcpy.EnvManager(outputCoordinateSystem=sr, snapRaster=extent, cellSize=extent):\n",
    "    arcpy.MosaicToNewRaster_management(\"PR_Beach_all;VI_Beach_all\", env.workspace, \"VIPR_beach\", sr, \n",
    "                                   \"8_BIT_UNSIGNED\", \"30\", \"1\", \"Maximum\",\"FIRST\")"
   ]
  },
  {
   "cell_type": "markdown",
   "metadata": {},
   "source": [
    "# Species"
   ]
  },
  {
   "cell_type": "markdown",
   "metadata": {},
   "source": [
    "## PR Species"
   ]
  },
  {
   "cell_type": "code",
   "execution_count": 11,
   "metadata": {},
   "outputs": [],
   "source": [
    "# Set environment settings\n",
    "sp = r\"C:\\Data\\Indicators\\Beach\\PR\\Predicted_habitat\\1_Raster_files\\Charadrius_wilsonia_habitat.img\"\n",
    "\n",
    "# extract predicted only\n",
    "PRwilsonia = Reclassify(sp, \"Value\", RemapRange([[0,1,\"NODATA\"],[2,2,1]]))\n",
    "PRwilsonia.save(\"PRwilsonia\")\n",
    "\n",
    "# resample to 30 m\n",
    "with arcpy.EnvManager(scratchWorkspace=workspace, outputCoordinateSystem=sr, snapRaster=extent, workspace=workspace):\n",
    "    arcpy.management.Resample(\"PRwilsonia\", \"PRwilsonia30\", \"30 30\", \"NEAREST\")"
   ]
  },
  {
   "cell_type": "markdown",
   "metadata": {},
   "source": [
    "### turtles"
   ]
  },
  {
   "cell_type": "code",
   "execution_count": 12,
   "metadata": {},
   "outputs": [],
   "source": [
    "#SWOT points\n",
    "Tpt = r\"C:\\Data\\Indicators\\Beach\\turtles\\obis_seamap_swot_site_locations_shapefile_78020\\obis_seamap_swot_64a6062cbee32_20230705_204220_site_locations_shapefile.shp\"\n"
   ]
  },
  {
   "cell_type": "code",
   "execution_count": 15,
   "metadata": {},
   "outputs": [],
   "source": [
    "# SWOT points for Hawksbill \n",
    "arcpy.conversion.FeatureClassToFeatureClass(Tpt, workspace, \"Hawskbill_PR\", \"country = 'Puerto Rico' And commonname = 'Hawksbill sea turtle'\", 'Id \"Id\" true true false 6 Long 0 6,First,#,obis_seamap_swot_64a6062cbee32_20230705_204220_site_locations_shapefile,Id,-1,-1;code \"code\" true true false 10 Text 0 0,First,#,obis_seamap_swot_64a6062cbee32_20230705_204220_site_locations_shapefile,code,0,10;country \"country\" true true false 60 Text 0 0,First,#,obis_seamap_swot_64a6062cbee32_20230705_204220_site_locations_shapefile,country,0,60;siteid \"siteid\" true true false 20 Text 0 0,First,#,obis_seamap_swot_64a6062cbee32_20230705_204220_site_locations_shapefile,siteid,0,20;site_name \"site_name\" true true false 180 Text 0 0,First,#,obis_seamap_swot_64a6062cbee32_20230705_204220_site_locations_shapefile,site_name,0,180;compiler \"compiler\" true true false 100 Text 0 0,First,#,obis_seamap_swot_64a6062cbee32_20230705_204220_site_locations_shapefile,compiler,0,100;species \"species\" true true false 25 Text 0 0,First,#,obis_seamap_swot_64a6062cbee32_20230705_204220_site_locations_shapefile,species,0,25;commonname \"commonname\" true true false 30 Text 0 0,First,#,obis_seamap_swot_64a6062cbee32_20230705_204220_site_locations_shapefile,commonname,0,30;years_mon \"years_mon\" true true false 254 Text 0 0,First,#,obis_seamap_swot_64a6062cbee32_20230705_204220_site_locations_shapefile,years_mon,0,254;monitoring \"monitoring\" true true false 150 Text 0 0,First,#,obis_seamap_swot_64a6062cbee32_20230705_204220_site_locations_shapefile,monitoring,0,150;latitude \"latitude\" true true false 12 Double 6 11,First,#,obis_seamap_swot_64a6062cbee32_20230705_204220_site_locations_shapefile,latitude,-1,-1;longitude \"longitude\" true true false 12 Double 6 11,First,#,obis_seamap_swot_64a6062cbee32_20230705_204220_site_locations_shapefile,longitude,-1,-1;neststatus \"neststatus\" true true false 15 Text 0 0,First,#,obis_seamap_swot_64a6062cbee32_20230705_204220_site_locations_shapefile,neststatus,0,15;contact1 \"contact1\" true true false 254 Text 0 0,First,#,obis_seamap_swot_64a6062cbee32_20230705_204220_site_locations_shapefile,contact1,0,254;contact2 \"contact2\" true true false 254 Text 0 0,First,#,obis_seamap_swot_64a6062cbee32_20230705_204220_site_locations_shapefile,contact2,0,254;contact3 \"contact3\" true true false 254 Text 0 0,First,#,obis_seamap_swot_64a6062cbee32_20230705_204220_site_locations_shapefile,contact3,0,254;contact4 \"contact4\" true true false 254 Text 0 0,First,#,obis_seamap_swot_64a6062cbee32_20230705_204220_site_locations_shapefile,contact4,0,254;contact5 \"contact5\" true true false 254 Text 0 0,First,#,obis_seamap_swot_64a6062cbee32_20230705_204220_site_locations_shapefile,contact5,0,254', '')\n",
    "\n",
    "with arcpy.EnvManager(outputCoordinateSystem=sr, snapRaster=extent, cellSize=extent):\n",
    "    arcpy.conversion.PointToRaster(\"Hawskbill_PR\", \"species\", \"Hawksbill_PR_30\", \"MOST_FREQUENT\", \"NONE\", 30, \"BUILD\")\n"
   ]
  },
  {
   "cell_type": "code",
   "execution_count": 16,
   "metadata": {},
   "outputs": [],
   "source": [
    "# Leatherback\n",
    "   \n",
    "# SWOT points \n",
    "arcpy.conversion.FeatureClassToFeatureClass(Tpt, workspace, \"Leatherback_PR\", \"country = 'Puerto Rico' And commonname = 'Leatherback sea turtle'\", 'Id \"Id\" true true false 6 Long 0 6,First,#,obis_seamap_swot_64a6062cbee32_20230705_204220_site_locations_shapefile,Id,-1,-1;code \"code\" true true false 10 Text 0 0,First,#,obis_seamap_swot_64a6062cbee32_20230705_204220_site_locations_shapefile,code,0,10;country \"country\" true true false 60 Text 0 0,First,#,obis_seamap_swot_64a6062cbee32_20230705_204220_site_locations_shapefile,country,0,60;siteid \"siteid\" true true false 20 Text 0 0,First,#,obis_seamap_swot_64a6062cbee32_20230705_204220_site_locations_shapefile,siteid,0,20;site_name \"site_name\" true true false 180 Text 0 0,First,#,obis_seamap_swot_64a6062cbee32_20230705_204220_site_locations_shapefile,site_name,0,180;compiler \"compiler\" true true false 100 Text 0 0,First,#,obis_seamap_swot_64a6062cbee32_20230705_204220_site_locations_shapefile,compiler,0,100;species \"species\" true true false 25 Text 0 0,First,#,obis_seamap_swot_64a6062cbee32_20230705_204220_site_locations_shapefile,species,0,25;commonname \"commonname\" true true false 30 Text 0 0,First,#,obis_seamap_swot_64a6062cbee32_20230705_204220_site_locations_shapefile,commonname,0,30;years_mon \"years_mon\" true true false 254 Text 0 0,First,#,obis_seamap_swot_64a6062cbee32_20230705_204220_site_locations_shapefile,years_mon,0,254;monitoring \"monitoring\" true true false 150 Text 0 0,First,#,obis_seamap_swot_64a6062cbee32_20230705_204220_site_locations_shapefile,monitoring,0,150;latitude \"latitude\" true true false 12 Double 6 11,First,#,obis_seamap_swot_64a6062cbee32_20230705_204220_site_locations_shapefile,latitude,-1,-1;longitude \"longitude\" true true false 12 Double 6 11,First,#,obis_seamap_swot_64a6062cbee32_20230705_204220_site_locations_shapefile,longitude,-1,-1;neststatus \"neststatus\" true true false 15 Text 0 0,First,#,obis_seamap_swot_64a6062cbee32_20230705_204220_site_locations_shapefile,neststatus,0,15;contact1 \"contact1\" true true false 254 Text 0 0,First,#,obis_seamap_swot_64a6062cbee32_20230705_204220_site_locations_shapefile,contact1,0,254;contact2 \"contact2\" true true false 254 Text 0 0,First,#,obis_seamap_swot_64a6062cbee32_20230705_204220_site_locations_shapefile,contact2,0,254;contact3 \"contact3\" true true false 254 Text 0 0,First,#,obis_seamap_swot_64a6062cbee32_20230705_204220_site_locations_shapefile,contact3,0,254;contact4 \"contact4\" true true false 254 Text 0 0,First,#,obis_seamap_swot_64a6062cbee32_20230705_204220_site_locations_shapefile,contact4,0,254;contact5 \"contact5\" true true false 254 Text 0 0,First,#,obis_seamap_swot_64a6062cbee32_20230705_204220_site_locations_shapefile,contact5,0,254', '')\n",
    "\n",
    "with arcpy.EnvManager(outputCoordinateSystem=sr, snapRaster=extent, cellSize=extent):\n",
    "    arcpy.conversion.PointToRaster(\"Leatherback_PR\", \"species\", \"Leatherback_PR_30\", \"MOST_FREQUENT\", \"NONE\", 30, \"BUILD\")\n"
   ]
  },
  {
   "cell_type": "code",
   "execution_count": 17,
   "metadata": {},
   "outputs": [],
   "source": [
    "# Green Sea Turtle\n",
    "#points from SWOT \n",
    "arcpy.conversion.FeatureClassToFeatureClass(Tpt, workspace, \"Green_PR\", \"country = 'Puerto Rico' And commonname = 'Green sea turtle'\", 'Id \"Id\" true true false 6 Long 0 6,First,#,obis_seamap_swot_64a6062cbee32_20230705_204220_site_locations_shapefile,Id,-1,-1;code \"code\" true true false 10 Text 0 0,First,#,obis_seamap_swot_64a6062cbee32_20230705_204220_site_locations_shapefile,code,0,10;country \"country\" true true false 60 Text 0 0,First,#,obis_seamap_swot_64a6062cbee32_20230705_204220_site_locations_shapefile,country,0,60;siteid \"siteid\" true true false 20 Text 0 0,First,#,obis_seamap_swot_64a6062cbee32_20230705_204220_site_locations_shapefile,siteid,0,20;site_name \"site_name\" true true false 180 Text 0 0,First,#,obis_seamap_swot_64a6062cbee32_20230705_204220_site_locations_shapefile,site_name,0,180;compiler \"compiler\" true true false 100 Text 0 0,First,#,obis_seamap_swot_64a6062cbee32_20230705_204220_site_locations_shapefile,compiler,0,100;species \"species\" true true false 25 Text 0 0,First,#,obis_seamap_swot_64a6062cbee32_20230705_204220_site_locations_shapefile,species,0,25;commonname \"commonname\" true true false 30 Text 0 0,First,#,obis_seamap_swot_64a6062cbee32_20230705_204220_site_locations_shapefile,commonname,0,30;years_mon \"years_mon\" true true false 254 Text 0 0,First,#,obis_seamap_swot_64a6062cbee32_20230705_204220_site_locations_shapefile,years_mon,0,254;monitoring \"monitoring\" true true false 150 Text 0 0,First,#,obis_seamap_swot_64a6062cbee32_20230705_204220_site_locations_shapefile,monitoring,0,150;latitude \"latitude\" true true false 12 Double 6 11,First,#,obis_seamap_swot_64a6062cbee32_20230705_204220_site_locations_shapefile,latitude,-1,-1;longitude \"longitude\" true true false 12 Double 6 11,First,#,obis_seamap_swot_64a6062cbee32_20230705_204220_site_locations_shapefile,longitude,-1,-1;neststatus \"neststatus\" true true false 15 Text 0 0,First,#,obis_seamap_swot_64a6062cbee32_20230705_204220_site_locations_shapefile,neststatus,0,15;contact1 \"contact1\" true true false 254 Text 0 0,First,#,obis_seamap_swot_64a6062cbee32_20230705_204220_site_locations_shapefile,contact1,0,254;contact2 \"contact2\" true true false 254 Text 0 0,First,#,obis_seamap_swot_64a6062cbee32_20230705_204220_site_locations_shapefile,contact2,0,254;contact3 \"contact3\" true true false 254 Text 0 0,First,#,obis_seamap_swot_64a6062cbee32_20230705_204220_site_locations_shapefile,contact3,0,254;contact4 \"contact4\" true true false 254 Text 0 0,First,#,obis_seamap_swot_64a6062cbee32_20230705_204220_site_locations_shapefile,contact4,0,254;contact5 \"contact5\" true true false 254 Text 0 0,First,#,obis_seamap_swot_64a6062cbee32_20230705_204220_site_locations_shapefile,contact5,0,254', '')\n",
    "\n",
    "with arcpy.EnvManager(outputCoordinateSystem=sr, snapRaster=extent, cellSize=extent):\n",
    "    arcpy.conversion.PointToRaster(\"Green_PR\", \"species\", \"Green_PR_30\", \"MOST_FREQUENT\", \"NONE\", 30, \"BUILD\")\n"
   ]
  },
  {
   "cell_type": "markdown",
   "metadata": {},
   "source": [
    "### Make spp presence file"
   ]
  },
  {
   "cell_type": "code",
   "execution_count": 18,
   "metadata": {},
   "outputs": [],
   "source": [
    "# merge spp rasters\n",
    "with arcpy.EnvManager(outputCoordinateSystem=sr, snapRaster=extent, cellSize=extent):\n",
    "    arcpy.MosaicToNewRaster_management(\"PRwilsonia30;Hawksbill_PR_30;Green_PR_30;Leatherback_PR_30\", env.workspace, \"PR_sp_presence\", sr, \n",
    "                                   \"8_BIT_UNSIGNED\", \"30\", \"1\", \"MAXIMUM\",\"FIRST\")"
   ]
  },
  {
   "cell_type": "code",
   "execution_count": 19,
   "metadata": {},
   "outputs": [],
   "source": [
    "# Clip to beach\n",
    "PR_sp_beach = arcpy.sa.ExtractByMask(\"PR_sp_presence\", \"PR_Beach_all\"); \n",
    "PR_sp_beach.save(\"PR_sp_beach\")"
   ]
  },
  {
   "cell_type": "markdown",
   "metadata": {},
   "source": [
    "## VI Spcies"
   ]
  },
  {
   "cell_type": "markdown",
   "metadata": {},
   "source": [
    "### birds"
   ]
  },
  {
   "cell_type": "code",
   "execution_count": 20,
   "metadata": {},
   "outputs": [],
   "source": [
    "# Wilson's Plover\n",
    "sp = r\"C:\\Data\\Indicators\\Beach\\USVI_GAP_DVD\\GISdata\\Vertebrates\\Predicted_habitat\\1_Raster_files\\Charadrius_wilsonia_PHM.img\"\n",
    "\n",
    "# extract predicted only\n",
    "VIwilsonia = Reclassify(sp, \"Value\", RemapRange([[0,1,\"NODATA\"],[2,2,1]]))\n",
    "VIwilsonia.save(\"VIwilsonia\")\n",
    "\n",
    "# resample to 30 m\n",
    "with arcpy.EnvManager(scratchWorkspace=workspace, outputCoordinateSystem=sr, snapRaster=extent, workspace=workspace):\n",
    "    arcpy.management.Resample(\"VIwilsonia\", \"VIwilsonia30\", \"30 30\", \"NEAREST\")"
   ]
  },
  {
   "cell_type": "code",
   "execution_count": 21,
   "metadata": {},
   "outputs": [],
   "source": [
    "# American Oystercatcher\n",
    "sp = r\"C:\\Data\\Indicators\\Beach\\USVI_GAP_DVD\\GISdata\\Vertebrates\\Predicted_habitat\\1_Raster_files\\Haematopus_palliatus_PHM.img\"\n",
    "\n",
    "# extract predicted only\n",
    "VIpalliatus = Reclassify(sp, \"Value\", RemapRange([[0,1,\"NODATA\"],[2,2,1]]))\n",
    "VIpalliatus.save(\"VIpalliatus\")\n",
    "\n",
    "# resample to 30 m\n",
    "with arcpy.EnvManager(scratchWorkspace=workspace, outputCoordinateSystem=sr, snapRaster=extent, workspace=workspace):\n",
    "    arcpy.management.Resample(\"VIpalliatus\", \"VIpalliatus30\", \"30 30\", \"NEAREST\")"
   ]
  },
  {
   "cell_type": "markdown",
   "metadata": {},
   "source": [
    "### Turtles"
   ]
  },
  {
   "cell_type": "code",
   "execution_count": 22,
   "metadata": {},
   "outputs": [
    {
     "data": {
      "text/html": [
       "<div class='gpresult'><h2>Messages</h2><div id='messages' data-messages='[\"Start Time: Monday, July 17, 2023 5:10:12 PM\",\"VIimbricata30 is loading...\",\"VIHawksbill_VI_30 is loading...\",\"Succeeded at Monday, July 17, 2023 5:10:15 PM (Elapsed Time: 3.49 seconds)\"]' data-show='true'><div id = 'default' /></div></div>"
      ],
      "text/plain": [
       "<Result 'C:\\\\Data\\\\Indicators\\\\Beach\\\\Beach.gdb\\\\VIHawksbill_all'>"
      ]
     },
     "execution_count": 22,
     "metadata": {},
     "output_type": "execute_result"
    }
   ],
   "source": [
    "# Hawksbill\n",
    "# Set environment settings\n",
    "sp = r\"C:\\Data\\Indicators\\Beach\\USVI_GAP_DVD\\GISdata\\Vertebrates\\Predicted_habitat\\1_Raster_files\\Eretmochelys_imbricata_PHM.img\"\n",
    "\n",
    "# extract predicted only\n",
    "VIimbricata = Reclassify(sp, \"Value\", RemapRange([[0,1,\"NODATA\"],[2,2,1]]))\n",
    "VIimbricata.save(\"VIimbricata\")\n",
    "\n",
    "# resample to 30 m\n",
    "with arcpy.EnvManager(scratchWorkspace=workspace, outputCoordinateSystem=sr, snapRaster=extent, workspace=workspace):\n",
    "    arcpy.management.Resample(\"VIimbricata\", \"VIimbricata30\", \"30 30\", \"NEAREST\")\n",
    "\n",
    "#SWOT points\n",
    "Tpt = r\"C:\\Data\\Indicators\\Beach\\turtles\\obis_seamap_swot_site_locations_shapefile_78020\\obis_seamap_swot_64a6062cbee32_20230705_204220_site_locations_shapefile.shp\"\n",
    "\n",
    "# SWOT points for Hawksbill\n",
    "arcpy.conversion.FeatureClassToFeatureClass(Tpt, workspace, \"VIHawskbill_VI\", \"country = 'Virgin Islands, United States' And commonname = 'Hawksbill sea turtle' And siteid <> 'VI05'\")\n",
    "\n",
    "with arcpy.EnvManager(outputCoordinateSystem=sr, snapRaster=extent, cellSize=extent):\n",
    "    arcpy.conversion.PointToRaster(\"VIHawskbill_VI\", \"species\", \"VIHawksbill_VI_30\", \"MOST_FREQUENT\", \"NONE\", 30, \"BUILD\")\n",
    "\n",
    "# merge turtle files together\n",
    "arcpy.management.MosaicToNewRaster(\"VIimbricata30;VIHawksbill_VI_30\", workspace, \"VIHawksbill_all\", sr, \"8_BIT_UNSIGNED\", None, 1, \"MAXIMUM\", \"FIRST\")"
   ]
  },
  {
   "cell_type": "code",
   "execution_count": 25,
   "metadata": {},
   "outputs": [
    {
     "data": {
      "text/html": [
       "<div class='gpresult'><h2>Messages</h2><div id='messages' data-messages='[\"Start Time: Monday, July 17, 2023 5:12:05 PM\",\"VIcoriacea30 is loading...\",\"Leatherback_VI_30 is loading...\",\"Succeeded at Monday, July 17, 2023 5:12:09 PM (Elapsed Time: 3.31 seconds)\"]' data-show='true'><div id = 'default' /></div></div>"
      ],
      "text/plain": [
       "<Result 'C:\\\\Data\\\\Indicators\\\\Beach\\\\Beach.gdb\\\\VILeatherback_all'>"
      ]
     },
     "execution_count": 25,
     "metadata": {},
     "output_type": "execute_result"
    }
   ],
   "source": [
    "# Leatherback\n",
    "# Set environment settings\n",
    "sp = r\"C:\\Data\\Indicators\\Beach\\USVI_GAP_DVD\\GISdata\\Vertebrates\\Predicted_habitat\\1_Raster_files\\Dermochelys_coriacea_PHM.img\"\n",
    "\n",
    "# extract predicted only\n",
    "VIcoriacea = Reclassify(sp, \"Value\", RemapRange([[0,1,\"NODATA\"],[2,2,1]]))\n",
    "VIcoriacea.save(\"VIcoriacea\")\n",
    "\n",
    "# resample to 30 m\n",
    "with arcpy.EnvManager(scratchWorkspace=workspace, outputCoordinateSystem=sr, snapRaster=extent, workspace=workspace):\n",
    "    arcpy.management.Resample(\"VIcoriacea\", \"VIcoriacea30\", \"30 30\", \"NEAREST\")\n",
    "    \n",
    "# SWOT points for Hawksbill that don't overlap\n",
    "arcpy.conversion.FeatureClassToFeatureClass(Tpt, workspace, \"Leatherback_VI\", \"country = 'Virgin Islands, United States' And commonname = 'Leatherback sea turtle'\", 'Id \"Id\" true true false 6 Long 0 6,First,#,obis_seamap_swot_64a6062cbee32_20230705_204220_site_locations_shapefile,Id,-1,-1;code \"code\" true true false 10 Text 0 0,First,#,obis_seamap_swot_64a6062cbee32_20230705_204220_site_locations_shapefile,code,0,10;country \"country\" true true false 60 Text 0 0,First,#,obis_seamap_swot_64a6062cbee32_20230705_204220_site_locations_shapefile,country,0,60;siteid \"siteid\" true true false 20 Text 0 0,First,#,obis_seamap_swot_64a6062cbee32_20230705_204220_site_locations_shapefile,siteid,0,20;site_name \"site_name\" true true false 180 Text 0 0,First,#,obis_seamap_swot_64a6062cbee32_20230705_204220_site_locations_shapefile,site_name,0,180;compiler \"compiler\" true true false 100 Text 0 0,First,#,obis_seamap_swot_64a6062cbee32_20230705_204220_site_locations_shapefile,compiler,0,100;species \"species\" true true false 25 Text 0 0,First,#,obis_seamap_swot_64a6062cbee32_20230705_204220_site_locations_shapefile,species,0,25;commonname \"commonname\" true true false 30 Text 0 0,First,#,obis_seamap_swot_64a6062cbee32_20230705_204220_site_locations_shapefile,commonname,0,30;years_mon \"years_mon\" true true false 254 Text 0 0,First,#,obis_seamap_swot_64a6062cbee32_20230705_204220_site_locations_shapefile,years_mon,0,254;monitoring \"monitoring\" true true false 150 Text 0 0,First,#,obis_seamap_swot_64a6062cbee32_20230705_204220_site_locations_shapefile,monitoring,0,150;latitude \"latitude\" true true false 12 Double 6 11,First,#,obis_seamap_swot_64a6062cbee32_20230705_204220_site_locations_shapefile,latitude,-1,-1;longitude \"longitude\" true true false 12 Double 6 11,First,#,obis_seamap_swot_64a6062cbee32_20230705_204220_site_locations_shapefile,longitude,-1,-1;neststatus \"neststatus\" true true false 15 Text 0 0,First,#,obis_seamap_swot_64a6062cbee32_20230705_204220_site_locations_shapefile,neststatus,0,15;contact1 \"contact1\" true true false 254 Text 0 0,First,#,obis_seamap_swot_64a6062cbee32_20230705_204220_site_locations_shapefile,contact1,0,254;contact2 \"contact2\" true true false 254 Text 0 0,First,#,obis_seamap_swot_64a6062cbee32_20230705_204220_site_locations_shapefile,contact2,0,254;contact3 \"contact3\" true true false 254 Text 0 0,First,#,obis_seamap_swot_64a6062cbee32_20230705_204220_site_locations_shapefile,contact3,0,254;contact4 \"contact4\" true true false 254 Text 0 0,First,#,obis_seamap_swot_64a6062cbee32_20230705_204220_site_locations_shapefile,contact4,0,254;contact5 \"contact5\" true true false 254 Text 0 0,First,#,obis_seamap_swot_64a6062cbee32_20230705_204220_site_locations_shapefile,contact5,0,254', '')\n",
    "\n",
    "with arcpy.EnvManager(outputCoordinateSystem=sr, snapRaster=extent, cellSize=extent):\n",
    "    arcpy.conversion.PointToRaster(\"Leatherback_VI\", \"species\", \"Leatherback_VI_30\", \"MOST_FREQUENT\", \"NONE\", 30, \"BUILD\")\n",
    "\n",
    "# merge turtle files together\n",
    "arcpy.management.MosaicToNewRaster(\"VIcoriacea30;Leatherback_VI_30\", workspace, \"VILeatherback_all\", sr, \n",
    "                                   \"8_BIT_UNSIGNED\", None, 1, \"MAXIMUM\", \"FIRST\")"
   ]
  },
  {
   "cell_type": "code",
   "execution_count": 26,
   "metadata": {},
   "outputs": [
    {
     "data": {
      "text/html": [
       "<div class='gpresult'><h2>Messages</h2><div id='messages' data-messages='[\"Start Time: Monday, July 17, 2023 5:12:30 PM\",\"VImydas30 is loading...\",\"Green_VI_30 is loading...\",\"Succeeded at Monday, July 17, 2023 5:12:32 PM (Elapsed Time: 2.09 seconds)\"]' data-show='true'><div id = 'default' /></div></div>"
      ],
      "text/plain": [
       "<Result 'C:\\\\Data\\\\Indicators\\\\Beach\\\\Beach.gdb\\\\VIGreen_all'>"
      ]
     },
     "execution_count": 26,
     "metadata": {},
     "output_type": "execute_result"
    }
   ],
   "source": [
    "# Green Sea Turtle\n",
    "#points from SWOT overlap\n",
    "# Set environment settings\n",
    "sp = r\"C:\\Data\\Indicators\\Beach\\USVI_GAP_DVD\\GISdata\\Vertebrates\\Predicted_habitat\\1_Raster_files\\Chelonia_mydas_PHM.img\"\n",
    "\n",
    "# extract predicted only\n",
    "VImydas = Reclassify(sp, \"Value\", RemapRange([[0,1,\"NODATA\"],[2,2,1]]))\n",
    "VImydas.save(\"VImydas\")\n",
    "\n",
    "# resample to 30 m\n",
    "with arcpy.EnvManager(scratchWorkspace=workspace, outputCoordinateSystem=sr, snapRaster=extent, workspace=workspace):\n",
    "    arcpy.management.Resample(\"VImydas\", \"VImydas30\", \"30 30\", \"NEAREST\")\n",
    "    \n",
    "# SWOT points for Hawksbill that don't overlap\n",
    "arcpy.conversion.FeatureClassToFeatureClass(Tpt, workspace, \"Green_VI\", \"country = 'Virgin Islands, United States' And commonname = 'Green sea turtle'\", 'Id \"Id\" true true false 6 Long 0 6,First,#,obis_seamap_swot_64a6062cbee32_20230705_204220_site_locations_shapefile,Id,-1,-1;code \"code\" true true false 10 Text 0 0,First,#,obis_seamap_swot_64a6062cbee32_20230705_204220_site_locations_shapefile,code,0,10;country \"country\" true true false 60 Text 0 0,First,#,obis_seamap_swot_64a6062cbee32_20230705_204220_site_locations_shapefile,country,0,60;siteid \"siteid\" true true false 20 Text 0 0,First,#,obis_seamap_swot_64a6062cbee32_20230705_204220_site_locations_shapefile,siteid,0,20;site_name \"site_name\" true true false 180 Text 0 0,First,#,obis_seamap_swot_64a6062cbee32_20230705_204220_site_locations_shapefile,site_name,0,180;compiler \"compiler\" true true false 100 Text 0 0,First,#,obis_seamap_swot_64a6062cbee32_20230705_204220_site_locations_shapefile,compiler,0,100;species \"species\" true true false 25 Text 0 0,First,#,obis_seamap_swot_64a6062cbee32_20230705_204220_site_locations_shapefile,species,0,25;commonname \"commonname\" true true false 30 Text 0 0,First,#,obis_seamap_swot_64a6062cbee32_20230705_204220_site_locations_shapefile,commonname,0,30;years_mon \"years_mon\" true true false 254 Text 0 0,First,#,obis_seamap_swot_64a6062cbee32_20230705_204220_site_locations_shapefile,years_mon,0,254;monitoring \"monitoring\" true true false 150 Text 0 0,First,#,obis_seamap_swot_64a6062cbee32_20230705_204220_site_locations_shapefile,monitoring,0,150;latitude \"latitude\" true true false 12 Double 6 11,First,#,obis_seamap_swot_64a6062cbee32_20230705_204220_site_locations_shapefile,latitude,-1,-1;longitude \"longitude\" true true false 12 Double 6 11,First,#,obis_seamap_swot_64a6062cbee32_20230705_204220_site_locations_shapefile,longitude,-1,-1;neststatus \"neststatus\" true true false 15 Text 0 0,First,#,obis_seamap_swot_64a6062cbee32_20230705_204220_site_locations_shapefile,neststatus,0,15;contact1 \"contact1\" true true false 254 Text 0 0,First,#,obis_seamap_swot_64a6062cbee32_20230705_204220_site_locations_shapefile,contact1,0,254;contact2 \"contact2\" true true false 254 Text 0 0,First,#,obis_seamap_swot_64a6062cbee32_20230705_204220_site_locations_shapefile,contact2,0,254;contact3 \"contact3\" true true false 254 Text 0 0,First,#,obis_seamap_swot_64a6062cbee32_20230705_204220_site_locations_shapefile,contact3,0,254;contact4 \"contact4\" true true false 254 Text 0 0,First,#,obis_seamap_swot_64a6062cbee32_20230705_204220_site_locations_shapefile,contact4,0,254;contact5 \"contact5\" true true false 254 Text 0 0,First,#,obis_seamap_swot_64a6062cbee32_20230705_204220_site_locations_shapefile,contact5,0,254', '')\n",
    "\n",
    "with arcpy.EnvManager(outputCoordinateSystem=sr, snapRaster=extent, cellSize=extent):\n",
    "    arcpy.conversion.PointToRaster(\"Green_VI\", \"species\", \"Green_VI_30\", \"MOST_FREQUENT\", \"NONE\", 30, \"BUILD\")\n",
    "\n",
    "# merge turtle files together\n",
    "arcpy.management.MosaicToNewRaster(\"VImydas30;Green_VI_30\", workspace, \"VIGreen_all\", sr, \"8_BIT_UNSIGNED\", None, 1, \"MAXIMUM\", \"FIRST\")"
   ]
  },
  {
   "cell_type": "code",
   "execution_count": 27,
   "metadata": {},
   "outputs": [],
   "source": [
    "# Loggerhead\n",
    "# Set environment settings\n",
    "    \n",
    "# SWOT points for Loggerhead\n",
    "arcpy.conversion.FeatureClassToFeatureClass(Tpt, workspace, \"Loggerhead_VI\", \"country = 'Virgin Islands, United States' And commonname = 'Loggerhead sea turtle'\", 'Id \"Id\" true true false 6 Long 0 6,First,#,obis_seamap_swot_64a6062cbee32_20230705_204220_site_locations_shapefile,Id,-1,-1;code \"code\" true true false 10 Text 0 0,First,#,obis_seamap_swot_64a6062cbee32_20230705_204220_site_locations_shapefile,code,0,10;country \"country\" true true false 60 Text 0 0,First,#,obis_seamap_swot_64a6062cbee32_20230705_204220_site_locations_shapefile,country,0,60;siteid \"siteid\" true true false 20 Text 0 0,First,#,obis_seamap_swot_64a6062cbee32_20230705_204220_site_locations_shapefile,siteid,0,20;site_name \"site_name\" true true false 180 Text 0 0,First,#,obis_seamap_swot_64a6062cbee32_20230705_204220_site_locations_shapefile,site_name,0,180;compiler \"compiler\" true true false 100 Text 0 0,First,#,obis_seamap_swot_64a6062cbee32_20230705_204220_site_locations_shapefile,compiler,0,100;species \"species\" true true false 25 Text 0 0,First,#,obis_seamap_swot_64a6062cbee32_20230705_204220_site_locations_shapefile,species,0,25;commonname \"commonname\" true true false 30 Text 0 0,First,#,obis_seamap_swot_64a6062cbee32_20230705_204220_site_locations_shapefile,commonname,0,30;years_mon \"years_mon\" true true false 254 Text 0 0,First,#,obis_seamap_swot_64a6062cbee32_20230705_204220_site_locations_shapefile,years_mon,0,254;monitoring \"monitoring\" true true false 150 Text 0 0,First,#,obis_seamap_swot_64a6062cbee32_20230705_204220_site_locations_shapefile,monitoring,0,150;latitude \"latitude\" true true false 12 Double 6 11,First,#,obis_seamap_swot_64a6062cbee32_20230705_204220_site_locations_shapefile,latitude,-1,-1;longitude \"longitude\" true true false 12 Double 6 11,First,#,obis_seamap_swot_64a6062cbee32_20230705_204220_site_locations_shapefile,longitude,-1,-1;neststatus \"neststatus\" true true false 15 Text 0 0,First,#,obis_seamap_swot_64a6062cbee32_20230705_204220_site_locations_shapefile,neststatus,0,15;contact1 \"contact1\" true true false 254 Text 0 0,First,#,obis_seamap_swot_64a6062cbee32_20230705_204220_site_locations_shapefile,contact1,0,254;contact2 \"contact2\" true true false 254 Text 0 0,First,#,obis_seamap_swot_64a6062cbee32_20230705_204220_site_locations_shapefile,contact2,0,254;contact3 \"contact3\" true true false 254 Text 0 0,First,#,obis_seamap_swot_64a6062cbee32_20230705_204220_site_locations_shapefile,contact3,0,254;contact4 \"contact4\" true true false 254 Text 0 0,First,#,obis_seamap_swot_64a6062cbee32_20230705_204220_site_locations_shapefile,contact4,0,254;contact5 \"contact5\" true true false 254 Text 0 0,First,#,obis_seamap_swot_64a6062cbee32_20230705_204220_site_locations_shapefile,contact5,0,254', '')\n",
    "\n",
    "with arcpy.EnvManager(outputCoordinateSystem=sr, snapRaster=extent, cellSize=extent):\n",
    "    arcpy.conversion.PointToRaster(\"Loggerhead_VI\", \"species\", \"Loggerhead_VI_30\", \"MOST_FREQUENT\", \"NONE\", 30, \"BUILD\")\n",
    "\n",
    "with arcpy.EnvManager(outputCoordinateSystem=sr, snapRaster=extent):\n",
    "    Loggerhead_all = arcpy.sa.Reclassify(\"Leatherback_VI_30\", \"species\", \"'Dermochelys coriacea' 1\", \"DATA\"); \n",
    "    Loggerhead_all.save(\"Loggerhead_all\")"
   ]
  },
  {
   "cell_type": "code",
   "execution_count": 28,
   "metadata": {},
   "outputs": [],
   "source": [
    "# merge spp rasters\n",
    "arcpy.MosaicToNewRaster_management(\"VIwilsonia;VIpalliatus;VIimbricata;VIcoriacea;VImydas;Loggerhead_all\", env.workspace, \"VI_sp\", sr, \n",
    "                                   \"8_BIT_UNSIGNED\", \"10\", \"1\", \"MAXIMUM\",\"FIRST\")\n",
    "\n",
    "# Clip to beach\n",
    "VI_sp_beach = arcpy.sa.ExtractByMask(\"VI_sp\", \"VIPR_Beach\"); \n",
    "VI_sp_beach.save(\"VI_sp_beach\")"
   ]
  },
  {
   "cell_type": "markdown",
   "metadata": {},
   "source": [
    "# Merge PR and VI "
   ]
  },
  {
   "cell_type": "code",
   "execution_count": 29,
   "metadata": {},
   "outputs": [],
   "source": [
    "# Species \n",
    "with arcpy.EnvManager(outputCoordinateSystem=sr, snapRaster=extent, cellSize=extent):\n",
    "    arcpy.MosaicToNewRaster_management(\"PR_sp_beach;VI_sp_beach\", env.workspace, \"VIPR_sp_beach\", sr, \n",
    "                                   \"8_BIT_UNSIGNED\", \"30\", \"1\", \"SUM\",\"FIRST\")"
   ]
  },
  {
   "cell_type": "code",
   "execution_count": 30,
   "metadata": {},
   "outputs": [],
   "source": [
    "# id beaches\n",
    "VIPR_beach_numbers = arcpy.sa.RegionGroup(\"VIPR_beach\", \"EIGHT\", \"WITHIN\", \"ADD_LINK\", None); \n",
    "VIPR_beach_numbers.save(\"VIPR_beach_numbers\")\n",
    "\n",
    "# calculate max spp for each beach\n",
    "Beach_wSp = arcpy.ia.ZonalStatistics(\"VIPR_beach_numbers\", \"Value\", \"VIPR_sp_beach\", \"MAXIMUM\", \"DATA\", \"CURRENT_SLICE\", 90, \"AUTO_DETECT\"); \n",
    "Beach_wSp.save(\"Beach_wSp\")\n",
    "\n",
    "# reclass to 2 for final raster\n",
    "Beach_wSp2 = arcpy.sa.Reclassify(\"Beach_wSp\", \"Value\", \"1 2\", \"DATA\"); \n",
    "Beach_wSp2.save(\"Beach_wSp2\")"
   ]
  },
  {
   "cell_type": "code",
   "execution_count": 31,
   "metadata": {},
   "outputs": [],
   "source": [
    "# reclass VIPR extent to make 0 value\n",
    "# reclass to 2 for final raster\n",
    "VIPR0 = arcpy.sa.Reclassify(extent, \"Value\", \"1 0\", \"DATA\"); \n",
    "VIPR0.save(\"VIPR0\")"
   ]
  },
  {
   "cell_type": "code",
   "execution_count": 32,
   "metadata": {},
   "outputs": [],
   "source": [
    "# beach\n",
    "with arcpy.EnvManager(outputCoordinateSystem=sr, snapRaster=extent, cellSize=extent):\n",
    "    arcpy.MosaicToNewRaster_management(\"Beach_wSp2;VIPR_beach;VIPR0\", env.workspace, \"Beach_Habitat\", sr, \n",
    "                                   \"8_BIT_UNSIGNED\", \"30\", \"1\", \"Maximum\",\"FIRST\")\n"
   ]
  },
  {
   "cell_type": "code",
   "execution_count": 33,
   "metadata": {},
   "outputs": [],
   "source": [
    "# clip to 2023 VIPR Blueprint extent\n",
    "VIPRMask = arcpy.sa.ExtractByMask(\"Beach_Habitat\", extent); VIPRMask.save(\"VIPRMask\")"
   ]
  },
  {
   "cell_type": "markdown",
   "metadata": {},
   "source": [
    "## Add description and colors"
   ]
  },
  {
   "cell_type": "code",
   "execution_count": 34,
   "metadata": {},
   "outputs": [
    {
     "data": {
      "text/html": [
       "<div class='gpresult'><h2>Messages</h2><div id='messages' data-messages='[\"Start Time: Monday, July 17, 2023 5:14:56 PM\",\"Adding descript to VAT_VIPRMask...\",\"Succeeded at Monday, July 17, 2023 5:14:57 PM (Elapsed Time: 0.40 seconds)\"]' data-show='true'><div id = 'default' /></div></div>"
      ],
      "text/plain": [
       "<Result 'VIPRMask'>"
      ]
     },
     "execution_count": 34,
     "metadata": {},
     "output_type": "execute_result"
    }
   ],
   "source": [
    "# set code block for next step\n",
    "codeblock = \"\"\"\n",
    "def Reclass(value):\n",
    "    if value == 2:\n",
    "        return '2 = Beach with 1+ nesting species predicted or observed '\n",
    "    elif value == 1:\n",
    "        return '1 = Other beach' \n",
    "    elif value == 0:\n",
    "        return '0 = Not identified as a beach'  \n",
    "\"\"\"\n",
    "\n",
    "# add and calculate description field to hold indicator values\n",
    "arcpy.management.CalculateField(\"VIPRMask\", \"descript\", \"Reclass(!value!)\", \"PYTHON3\", codeblock, \"TEXT\")"
   ]
  },
  {
   "cell_type": "code",
   "execution_count": 2,
   "metadata": {},
   "outputs": [
    {
     "data": {
      "text/html": [
       "<div class='gpresult'><h2>Messages</h2><div id='messages' data-messages='[\"Start Time: Wednesday, August 30, 2023 6:22:11 AM\",\"Succeeded at Wednesday, August 30, 2023 6:22:13 AM (Elapsed Time: 2.14 seconds)\"]' data-show='true'><div id = 'default' /></div></div>"
      ],
      "text/plain": [
       "<Result 'C:\\\\Data\\\\Indicators\\\\Beach\\\\Beach.gdb\\\\VIPRMask'>"
      ]
     },
     "execution_count": 2,
     "metadata": {},
     "output_type": "execute_result"
    }
   ],
   "source": [
    "# set code block for next step\n",
    "codeblock = \"\"\"\n",
    "def Reclass1(Value):\n",
    "\tif Value == 2:\n",
    "\t\treturn 234\n",
    "\tif Value == 1:\n",
    "\t\treturn 244\n",
    "\telse:\n",
    "\t\treturn 255\n",
    "\t\t\n",
    "def Reclass2(Value):\n",
    "\tif Value == 2:\n",
    "\t\treturn 72\n",
    "\tif Value == 1:\n",
    "\t\treturn 151\n",
    "\telse:\n",
    "\t\treturn 255\n",
    "\t\t\n",
    "def Reclass3(Value):\n",
    "\tif Value == 2:\n",
    "\t\treturn 59\n",
    "\tif Value == 1:\n",
    "\t\treturn 106\n",
    "\telse:\n",
    "\t\treturn 255\n",
    "\"\"\"\n",
    "\n",
    "# calculate Red field\n",
    "arcpy.management.CalculateField(\"VIPRMask\", \"Red\", \"Reclass1(!Value!)\", \"PYTHON3\", codeblock, \"SHORT\")\n",
    "# calculate Green field\n",
    "arcpy.management.CalculateField(\"VIPRMask\", \"Green\", \"Reclass2(!Value!)\", \"PYTHON3\", codeblock, \"SHORT\")\n",
    "# calculate Blue field\n",
    "arcpy.management.CalculateField(\"VIPRMask\", \"Blue\", \"Reclass3(!Value!)\", \"PYTHON3\", codeblock, \"SHORT\")"
   ]
  },
  {
   "cell_type": "code",
   "execution_count": 3,
   "metadata": {},
   "outputs": [],
   "source": [
    "# export as .tif with VIPR extent\n",
    "with arcpy.EnvManager(outputCoordinateSystem=sr, extent=Extent, snapRaster=Extent, cellSize=Extent):\n",
    "    arcpy.management.CopyRaster(\"VIPRMask\", VIPRout, '', None, \"255\", \"NONE\", \"NONE\", \"8_BIT_UNSIGNED\", \"NONE\", \"NONE\", \"TIFF\", \"NONE\", \"CURRENT_SLICE\", \"NO_TRANSPOSE\")"
   ]
  },
  {
   "cell_type": "markdown",
   "metadata": {},
   "source": [
    "END"
   ]
  }
 ],
 "metadata": {
  "kernelspec": {
   "display_name": "ArcGISPro",
   "language": "Python",
   "name": "python3"
  },
  "language_info": {
   "file_extension": ".py",
   "name": "python",
   "version": "3"
  }
 },
 "nbformat": 4,
 "nbformat_minor": 2
}
