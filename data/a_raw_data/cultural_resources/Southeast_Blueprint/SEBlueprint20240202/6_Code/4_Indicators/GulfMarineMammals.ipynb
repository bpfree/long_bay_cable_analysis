{
 "cells": [
  {
   "cell_type": "markdown",
   "metadata": {},
   "source": [
    "# Gulf Marine Mammals\n",
    "\n",
    "This indicator was used in the Southeast Blueprint 2023.\n",
    "Code written by Rua Mordecai and Amy Keister"
   ]
  },
  {
   "cell_type": "code",
   "execution_count": 1,
   "metadata": {},
   "outputs": [],
   "source": [
    "import os\n",
    "import arcpy"
   ]
  },
  {
   "cell_type": "code",
   "execution_count": 2,
   "metadata": {},
   "outputs": [],
   "source": [
    "# define spatial reference and workspaces\n",
    "sr= arcpy.SpatialReference(5070)\n",
    "OutWorkspace = r\"D:\\Blueprint\\2023\\finalIndicatorEdits\\ContinentalSoutheastBlueprint2023_FinalIndicators\\ContinentalSoutheastBlueprint2023_FinalIndicators\\SpatialData\""
   ]
  },
  {
   "cell_type": "code",
   "execution_count": 3,
   "metadata": {},
   "outputs": [],
   "source": [
    "# define final output name\n",
    "IndicatorFileName = \"GulfMarineMammals.tif\""
   ]
  },
  {
   "cell_type": "code",
   "execution_count": 4,
   "metadata": {},
   "outputs": [],
   "source": [
    "# define raster used for cell size, extent, and snapping\n",
    "MarineRaster = r\"D:\\Blueprint\\2023\\extent\\Marine_Extent_v1.tif\"\n",
    "MarineSubregion = r\"D:\\Blueprint\\2023\\extent\\Marine_GoM_v1.tif\"\n",
    "MarineSubregionVector = r\"D:\\Blueprint\\2023\\extent\\Marine_GoM_v1.shp\""
   ]
  },
  {
   "cell_type": "code",
   "execution_count": 5,
   "metadata": {},
   "outputs": [],
   "source": [
    "# define inputs\n",
    "mammal = r\"D:\\Blueprint\\2023\\Indicators\\GulfMarineMammals\\zonation\\rankmap.tif\"\n",
    "nlcd = r\"D:\\Landcover\\nlcd_2019_land_cover_l48_20210604\\nlcd_2019_land_cover_l48_20210604.img\""
   ]
  },
  {
   "cell_type": "code",
   "execution_count": 6,
   "metadata": {},
   "outputs": [],
   "source": [
    "# species data folder\n",
    "speciesFolder = \"D:/Blueprint/2023/Indicators/GulfMarineMammals/speciesData\""
   ]
  },
  {
   "cell_type": "code",
   "execution_count": 7,
   "metadata": {},
   "outputs": [],
   "source": [
    "# Sometimes arcpro is fussy about not overwriting things\n",
    "arcpy.env.overwriteOutput = True"
   ]
  },
  {
   "cell_type": "markdown",
   "metadata": {},
   "source": [
    "### Start analysis"
   ]
  },
  {
   "cell_type": "markdown",
   "metadata": {},
   "source": [
    "### Prep data for Zonation"
   ]
  },
  {
   "cell_type": "code",
   "execution_count": 11,
   "metadata": {},
   "outputs": [],
   "source": [
    "# Go to folder with species data\n",
    "arcpy.env.workspace = speciesFolder"
   ]
  },
  {
   "cell_type": "code",
   "execution_count": 12,
   "metadata": {},
   "outputs": [
    {
     "name": "stdout",
     "output_type": "stream",
     "text": [
      "['Beaked_Whales_Monthly_Density.shp', 'Blackfish_Monthly_Density_wUnids.shp', 'Clymene_Dolphin_Monthly_Density_wUnids.shp', 'Oceanic_AtlanticSpotted_Dolphin_Monthly_Density_wUnids.shp', 'Oceanic_CommonBottlenose_Dolphin_Monthly_Density_wUnids.shp', 'PantropicalSpotted_Dolphin_Monthly_Density_wUnids.shp', 'Pilot_Whales_Monthly_Density_wUnids.shp', 'Pygmy_Dwarf_SpermWhales_Monthly_Density.shp', 'Rices_Whale_Monthly_Density.shp', 'Rissos_Dolphin_Monthly_Density_wUnids.shp', 'Shelf_AtlanticSpotted_Dolphin_Monthly_Density_Unclipped.shp', 'Shelf_CommonBottlenose_Dolphin_Monthly_Density_Unclipped.shp', 'Sperm_Whale_Monthly_Density.shp', 'Spinner_Dolphin_Monthly_Density_wUnids.shp', 'Striped_Dolphin_Monthly_Density_wUnids.shp']\n"
     ]
    }
   ],
   "source": [
    "# find all the species shapefiles\n",
    "speciesFileList = arcpy.ListFeatureClasses()\n",
    "print(speciesFileList)"
   ]
  },
  {
   "cell_type": "code",
   "execution_count": 13,
   "metadata": {},
   "outputs": [],
   "source": [
    "# make another list with the full directory path to species files\n",
    "SpeciesFilesWithDirectory = []\n",
    "for i in range(len(speciesFileList)):\n",
    "    SpeciesFilesWithDirectory.append(speciesFolder + \"/\" + speciesFileList[i])"
   ]
  },
  {
   "cell_type": "code",
   "execution_count": 8,
   "metadata": {},
   "outputs": [],
   "source": [
    "# Go to the output workspace\n",
    "arcpy.env.workspace = OutWorkspace"
   ]
  },
  {
   "cell_type": "code",
   "execution_count": 36,
   "metadata": {},
   "outputs": [],
   "source": [
    "# make copies of the source data\n",
    "for i in range(len(speciesFileList)):\n",
    "    arcpy.CopyFeatures_management(SpeciesFilesWithDirectory[i], speciesFileList[i])"
   ]
  },
  {
   "cell_type": "code",
   "execution_count": 37,
   "metadata": {},
   "outputs": [],
   "source": [
    "# Replace null value -9999 with 0 based on ESRI script \n",
    "for i in range(len(speciesFileList)):\n",
    "    path = speciesFileList[i]\n",
    "    fieldObs = arcpy.ListFields(path)  \n",
    "    fieldNames = []  \n",
    "    for field in fieldObs:  \n",
    "        fieldNames.append(field.name)  \n",
    "    del fieldObs  \n",
    "    fieldCount = len(fieldNames)  \n",
    "\n",
    "    with arcpy.da.UpdateCursor(path, fieldNames) as curU:  \n",
    "        for row in curU:  \n",
    "            rowU = row  \n",
    "            for field in range(fieldCount):  \n",
    "                if rowU[field] == -9999:  \n",
    "                    rowU[field] = 0           \n",
    "            curU.updateRow(rowU)\n",
    "    del curU"
   ]
  },
  {
   "cell_type": "code",
   "execution_count": 9,
   "metadata": {},
   "outputs": [],
   "source": [
    "# Shapefile fields for monthly data\n",
    "months = [\"Jan_n\",\"Feb_n\",\"Mar_n\",\"Apr_n\",\"May_n\",\"Jun_n\",\"Jul_n\",\"Aug_n\",\"Sep_n\",\"Oct_n\",\"Nov_n\",\"Dec_n\"]\n",
    "pygmySpermWhaleMonths = [\"Apr_n\",\"May_n\",\"Jun_n\",\"Jul_n\",\"Aug_n\",\"Sep_n\",\"Oct_n\",\"Nov_n\"]"
   ]
  },
  {
   "cell_type": "code",
   "execution_count": 40,
   "metadata": {},
   "outputs": [],
   "source": [
    "# Loop through all the species and months and make rasters. This takes about 12 hours to finish and makes some big files\n",
    "for i in range(len(speciesFileList)):\n",
    "    if speciesFileList[i] == 'Pygmy_Dwarf_SpermWhales_Monthly_Density.shp':\n",
    "        # Convert monthly species info for this species, which includes less months, to rasters\n",
    "        for mon in pygmySpermWhaleMonths:\n",
    "            outRasterName=speciesFileList[i][:-4]+mon+\".tif\"\n",
    "            arcpy.conversion.FeatureToRaster(in_features=speciesFileList[i], field=mon, out_raster=outRasterName, cell_size=MarineSubregion)\n",
    "    else:\n",
    "        # Convert monthly species info to rasters\n",
    "        for mon in months:\n",
    "            outRasterName=speciesFileList[i][:-4]+mon+\".tif\"\n",
    "            arcpy.conversion.FeatureToRaster(in_features=speciesFileList[i], field=mon, out_raster=outRasterName, cell_size=MarineSubregion)       \n",
    "        "
   ]
  },
  {
   "cell_type": "markdown",
   "metadata": {},
   "source": [
    "### Make Zonation mask"
   ]
  },
  {
   "cell_type": "code",
   "execution_count": 9,
   "metadata": {},
   "outputs": [],
   "source": [
    "# Reclass to make mask for analysis area\n",
    "with arcpy.EnvManager(outputCoordinateSystem=\"Beaked_Whales_Monthly_DensityJan_n.tif\", extent=\"Beaked_Whales_Monthly_DensityJan_n.tif\", snapRaster=\"Beaked_Whales_Monthly_DensityJan_n.tif\", cellSize=\"Beaked_Whales_Monthly_DensityJan_n.tif\"):\n",
    "    out_raster = arcpy.sa.Reclassify(nlcd, \"Value\", \"0 11 1;12 95 NODATA\"); out_raster.save(\"nlcdWaterMask.tif\")"
   ]
  },
  {
   "cell_type": "code",
   "execution_count": 10,
   "metadata": {},
   "outputs": [
    {
     "data": {
      "text/html": [
       "<div class='gpresult'><h2>Messages</h2><div id='messages' data-messages='[\"Start Time: Wednesday, May 31, 2023 7:27:00 AM\",\"Dissolving...\",\"Succeeded at Wednesday, May 31, 2023 7:27:03 AM (Elapsed Time: 3.43 seconds)\"]' data-show='true'><div id = 'default' /></div></div>"
      ],
      "text/plain": [
       "<Result 'D:\\\\Blueprint\\\\2023\\\\Indicators\\\\GulfMarineMammals\\\\working\\\\MammalSampleArea.shp'>"
      ]
     },
     "execution_count": 10,
     "metadata": {},
     "output_type": "execute_result"
    }
   ],
   "source": [
    "# Dissolve sample polygons to get sampled area\n",
    "arcpy.management.Dissolve(\"Beaked_Whales_Monthly_Density.shp\", \"MammalSampleArea.shp\")"
   ]
  },
  {
   "cell_type": "code",
   "execution_count": 11,
   "metadata": {},
   "outputs": [],
   "source": [
    "# extract only sampled area that's part of NLCD water mask. This takes out shore pixels and a bunch of the pixels outside\n",
    "# of the US. Match the dimensions of the turtle layers going into Zonation\n",
    "with arcpy.EnvManager(outputCoordinateSystem=\"Beaked_Whales_Monthly_DensityJan_n.tif\", extent=\"Beaked_Whales_Monthly_DensityJan_n.tif\", snapRaster=\"Beaked_Whales_Monthly_DensityJan_n.tif\", cellSize=\"Beaked_Whales_Monthly_DensityJan_n.tif\"):\n",
    "    out_raster = arcpy.sa.ExtractByMask(\"nlcdWaterMask.tif\", \"MammalSampleArea.shp\"); out_raster.save(\"mammalZonationMask.tif\")"
   ]
  },
  {
   "cell_type": "code",
   "execution_count": 12,
   "metadata": {},
   "outputs": [],
   "source": [
    "# not sure why the last step doesn't result in the right dimensions. This step, without using environmental settings works.\n",
    "out_raster = arcpy.sa.ExtractByMask(\"mammalZonationMask.tif\", \"Beaked_Whales_Monthly_DensityJan_n.tif\"); out_raster.save(\"mammalZonationMask2.tif\")"
   ]
  },
  {
   "cell_type": "code",
   "execution_count": 10,
   "metadata": {},
   "outputs": [],
   "source": [
    "# Convert sampled area to a raster. This is used later to mark small areas of land in the \n",
    "# sampling extent as 0\n",
    "with arcpy.EnvManager(outputCoordinateSystem=sr, extent=MarineRaster, snapRaster=MarineRaster, cellSize=MarineRaster):\n",
    "    arcpy.conversion.FeatureToRaster(in_features=\"MammalSampleArea.shp\", field=\"Id\", out_raster=\"zero.tif\", cell_size=MarineRaster)"
   ]
  },
  {
   "cell_type": "code",
   "execution_count": 9,
   "metadata": {},
   "outputs": [],
   "source": [
    "# Reclass to make mask of only land to use in zero/noData\n",
    "with arcpy.EnvManager(outputCoordinateSystem=\"Beaked_Whales_Monthly_DensityJan_n.tif\", extent=\"Beaked_Whales_Monthly_DensityJan_n.tif\", snapRaster=\"Beaked_Whales_Monthly_DensityJan_n.tif\", cellSize=\"Beaked_Whales_Monthly_DensityJan_n.tif\"):\n",
    "    out_raster = arcpy.sa.Reclassify(nlcd, \"Value\", \"0 11 NODATA;12 95 0\"); out_raster.save(\"nlcdLandMask.tif\")"
   ]
  },
  {
   "cell_type": "code",
   "execution_count": 10,
   "metadata": {},
   "outputs": [],
   "source": [
    "# make raster of zeros to include land removed but also match southern extent of nlcd mask used in Zonation\n",
    "out_raster = arcpy.sa.Times(\"nlcdLandMask.tif\", \"zero.tif\"); out_raster.save(\"zeros.tif\")"
   ]
  },
  {
   "cell_type": "markdown",
   "metadata": {},
   "source": [
    "### Continue prepping data"
   ]
  },
  {
   "cell_type": "code",
   "execution_count": 15,
   "metadata": {},
   "outputs": [],
   "source": [
    "# I originally thought the big floating point rasters were too big for Zonation to handle. \n",
    "# That wasn't the case but I still ended up using the outputs from this in the next step for\n",
    "# shelfAtlanticSpottedDolphin and shelfBottlenoseDolphin. In theory, it should be possible to skip this step\n",
    "# and just do the next step of fixing the dimensions for those two species. It's just take a couple name changes.\n",
    "# Loop through species and months and make smaller rasters.\n",
    "for i in range(len(speciesFileList)):\n",
    "    if speciesFileList[i] == 'Pygmy_Dwarf_SpermWhales_Monthly_Density.shp':\n",
    "        # Convert monthly species info for this species, which includes less months, to smaller rasters\n",
    "        for mon in pygmySpermWhaleMonths:\n",
    "            outRasterName=\"fixed\"+speciesFileList[i][:-4]+mon+\".tif\"\n",
    "            inRasterName=speciesFileList[i][:-4]+mon+\".tif\"\n",
    "            arcpy.management.CopyRaster(inRasterName, outRasterName, '', None, \"\", \"NONE\", \"NONE\", \"16_BIT_UNSIGNED\", \"NONE\", \"NONE\", \"TIFF\", \"NONE\", \"CURRENT_SLICE\", \"NO_TRANSPOSE\")            \n",
    "    else:\n",
    "        # Convert monthly species info to smaller rasters\n",
    "        for mon in months:\n",
    "            outRasterName=\"fixed\"+speciesFileList[i][:-4]+mon+\".tif\"\n",
    "            inRasterName=speciesFileList[i][:-4]+mon+\".tif\"\n",
    "            arcpy.management.CopyRaster(inRasterName, outRasterName, '', None, \"\", \"NONE\", \"NONE\", \"16_BIT_UNSIGNED\", \"NONE\", \"NONE\", \"TIFF\", \"NONE\", \"CURRENT_SLICE\", \"NO_TRANSPOSE\")                   "
   ]
  },
  {
   "cell_type": "code",
   "execution_count": 16,
   "metadata": {},
   "outputs": [],
   "source": [
    "# Fix size issues with spotted and bottlenose dolphins on the shelf\n",
    "for mon in months:\n",
    "    shelfSpottedDolphinFile = \"fixedShelf_AtlanticSpotted_Dolphin_Monthly_Density_Unclipped\"+mon+\".tif\"\n",
    "    fixName = \"s\"+shelfSpottedDolphinFile\n",
    "    with arcpy.EnvManager(snapRaster=\"Beaked_Whales_Monthly_DensityJan_n.tif\"):\n",
    "        out_raster = arcpy.sa.ExtractByMask(shelfSpottedDolphinFile, \"Beaked_Whales_Monthly_DensityJan_n.tif\"); out_raster.save(fixName)\n",
    "    shelfBottlenoseDolphinFile = \"fixedShelf_CommonBottlenose_Dolphin_Monthly_Density_Unclipped\"+mon+\".tif\"\n",
    "    fixName = \"s\"+shelfBottlenoseDolphinFile\n",
    "    with arcpy.EnvManager(snapRaster=\"Beaked_Whales_Monthly_DensityJan_n.tif\"):\n",
    "        out_raster = arcpy.sa.ExtractByMask(shelfBottlenoseDolphinFile, \"Beaked_Whales_Monthly_DensityJan_n.tif\"); out_raster.save(fixName) "
   ]
  },
  {
   "cell_type": "markdown",
   "metadata": {},
   "source": [
    "### Bring in zonation results"
   ]
  },
  {
   "cell_type": "code",
   "execution_count": 9,
   "metadata": {},
   "outputs": [],
   "source": [
    "# take zonation results times 100\n",
    "out_raster = arcpy.sa.Times(mammal, 100); out_raster.save(\"mammal.tif\")"
   ]
  },
  {
   "cell_type": "code",
   "execution_count": 10,
   "metadata": {},
   "outputs": [],
   "source": [
    "# convert to integer\n",
    "out_raster = arcpy.sa.Int(\"mammal.tif\"); out_raster.save(\"indicator1.tif\")"
   ]
  },
  {
   "cell_type": "code",
   "execution_count": 9,
   "metadata": {},
   "outputs": [],
   "source": [
    "# Reclassify into bins and align with Marine extent\n",
    "with arcpy.EnvManager(outputCoordinateSystem=sr, extent=MarineRaster, snapRaster=MarineRaster, cellSize=MarineRaster):\n",
    "    out_raster = arcpy.sa.Reclassify('indicator1.tif', \"Value\", \"0 10 1;11 20 2;21 30 3;31 40 4;41 50 5;51 60 6;61 70 7;71 80 8;81 90 9;91 100 10\", \"DATA\"); out_raster.save(\"indicator2.tif\")"
   ]
  },
  {
   "cell_type": "code",
   "execution_count": 11,
   "metadata": {},
   "outputs": [],
   "source": [
    "# add back in small areas removed from sampling extent b/c they were on land. These are 0.\n",
    "with arcpy.EnvManager(outputCoordinateSystem=sr, extent=MarineRaster, snapRaster=MarineRaster, cellSize=MarineRaster):\n",
    "    out_raster = arcpy.sa.CellStatistics(\"zeros.tif;indicator2.tif\", \"MAXIMUM\", \"DATA\", \"SINGLE_BAND\"); out_raster.save(IndicatorFileName)"
   ]
  },
  {
   "cell_type": "markdown",
   "metadata": {},
   "source": [
    "### Finalize indicator\n",
    "\n"
   ]
  },
  {
   "cell_type": "code",
   "execution_count": 9,
   "metadata": {},
   "outputs": [],
   "source": [
    "# set code block for next step\n",
    "codeblock = \"\"\"\n",
    "def Reclass(v):\n",
    "    if v == 10:\n",
    "        return '10 = >90th percentile of importance for marine mammal index species (across larger analysis area)'\n",
    "    elif v == 9:\n",
    "        return '9 = >80th-90th percentile of importance'  \n",
    "    elif v == 8:\n",
    "        return '8 = >70th-80th percentile of importance'  \n",
    "    elif v == 7:\n",
    "        return '7 = >60th-70th percentile of importance'\n",
    "    elif v == 6:\n",
    "        return '6 = >50th-60th percentile of importance'\n",
    "    elif v == 5:\n",
    "        return '5 = >40th-50th percentile of importance'\n",
    "    elif v == 4:\n",
    "        return '4 = >30th-40th percentile of importance'  \n",
    "    elif v == 3:\n",
    "        return '3 = >20th-30th percentile of importance'  \n",
    "    elif v == 2:\n",
    "        return '2 = >10th-20th percentile of importance'\n",
    "    elif v == 1:\n",
    "        return '1 = ≤10th percentile of importance'\n",
    "    elif v == 0:\n",
    "        return '0 = Land'\n",
    "        \n",
    "\"\"\""
   ]
  },
  {
   "cell_type": "code",
   "execution_count": 10,
   "metadata": {},
   "outputs": [
    {
     "data": {
      "text/html": [
       "<div class='gpresult'><h2>Messages</h2><div id='messages' data-messages='[\"Start Time: Tuesday, September 12, 2023 12:57:57 PM\",\"Succeeded at Tuesday, September 12, 2023 12:57:57 PM (Elapsed Time: 0.33 seconds)\"]' data-show='true'><div id = 'default' /></div></div>"
      ],
      "text/plain": [
       "<Result 'D:\\\\Blueprint\\\\2023\\\\finalIndicatorEdits\\\\ContinentalSoutheastBlueprint2023_FinalIndicators\\\\ContinentalSoutheastBlueprint2023_FinalIndicators\\\\SpatialData\\\\GulfMarineMammals.tif'>"
      ]
     },
     "execution_count": 10,
     "metadata": {},
     "output_type": "execute_result"
    }
   ],
   "source": [
    "# add and calculate description field to hold indicator values\n",
    "arcpy.management.CalculateField(IndicatorFileName, \"descript\", \"Reclass(!value!)\", \"PYTHON3\", codeblock, \"TEXT\")"
   ]
  },
  {
   "cell_type": "code",
   "execution_count": 14,
   "metadata": {},
   "outputs": [],
   "source": [
    "# set code block for next step\n",
    "codeblock = \"\"\"\n",
    "def Reclass1(Value):\n",
    "\tif Value == 10:\n",
    "\t\treturn 217\n",
    "\tif Value == 9:\n",
    "\t\treturn 225\n",
    "\tif Value == 8:\n",
    "\t\treturn 233\n",
    "\tif Value == 7:\n",
    "\t\treturn 240\n",
    "\tif Value == 6:\n",
    "\t\treturn 244\n",
    "\tif Value == 5:\n",
    "\t\treturn 247\n",
    "\tif Value == 4:\n",
    "\t\treturn 250\n",
    "\tif Value == 3:\n",
    "\t\treturn 251\n",
    "\tif Value == 2:\n",
    "\t\treturn 253\n",
    "\tif Value == 1:\n",
    "\t\treturn 255\n",
    "\telse:\n",
    "\t\treturn 255\n",
    "\t\t\n",
    "def Reclass2(Value):\n",
    "\tif Value == 10:\n",
    "\t\treturn 52\n",
    "\tif Value == 9:\n",
    "\t\treturn 73\n",
    "\tif Value == 8:\n",
    "\t\treturn 102\n",
    "\tif Value == 7:\n",
    "\t\treturn 131\n",
    "\tif Value == 6:\n",
    "\t\treturn 157\n",
    "\tif Value == 5:\n",
    "\t\treturn 181\n",
    "\tif Value == 4:\n",
    "\t\treturn 204\n",
    "\tif Value == 3:\n",
    "\t\treturn 227\n",
    "\tif Value == 2:\n",
    "\t\treturn 247\n",
    "\tif Value == 1:\n",
    "\t\treturn 255\n",
    "\telse:\n",
    "\t\treturn 255\n",
    "\t\t\n",
    "def Reclass3(Value):\n",
    "\tif Value == 10:\n",
    "\t\treturn 139\n",
    "\tif Value == 9:\n",
    "\t\treturn 129\n",
    "\tif Value == 8:\n",
    "\t\treturn 119\n",
    "\tif Value == 7:\n",
    "\t\treturn 113\n",
    "\tif Value == 6:\n",
    "\t\treturn 113\n",
    "\tif Value == 5:\n",
    "\t\treturn 120\n",
    "\tif Value == 4:\n",
    "\t\treturn 136\n",
    "\tif Value == 3:\n",
    "\t\treturn 158\n",
    "\tif Value == 2:\n",
    "\t\treturn 185\n",
    "\tif Value == 1:\n",
    "\t\treturn 217\n",
    "\telse:\n",
    "\t\treturn 255\n",
    "\t\t\n",
    "\"\"\""
   ]
  },
  {
   "cell_type": "code",
   "execution_count": 15,
   "metadata": {},
   "outputs": [
    {
     "data": {
      "text/html": [
       "<div class='gpresult'><h2>Messages</h2><div id='messages' data-messages='[\"Start Time: Wednesday, June 28, 2023 10:06:15 AM\",\"Adding Blue to GulfMarineMammals.tif.vat...\",\"Succeeded at Wednesday, June 28, 2023 10:06:15 AM (Elapsed Time: 0.08 seconds)\"]' data-show='true'><div id = 'default' /></div></div>"
      ],
      "text/plain": [
       "<Result 'D:\\\\Blueprint\\\\2023\\\\Indicators\\\\GulfMarineMammals\\\\working\\\\GulfMarineMammals.tif'>"
      ]
     },
     "execution_count": 15,
     "metadata": {},
     "output_type": "execute_result"
    }
   ],
   "source": [
    "# calculate Red field\n",
    "arcpy.management.CalculateField(IndicatorFileName, \"Red\", \"Reclass1(!Value!)\", \"PYTHON3\", codeblock, \"SHORT\")\n",
    "# calculate Green field\n",
    "arcpy.management.CalculateField(IndicatorFileName, \"Green\", \"Reclass2(!Value!)\", \"PYTHON3\", codeblock, \"SHORT\")\n",
    "# calculate Blue field\n",
    "arcpy.management.CalculateField(IndicatorFileName, \"Blue\", \"Reclass3(!Value!)\", \"PYTHON3\", codeblock, \"SHORT\")"
   ]
  },
  {
   "cell_type": "code",
   "execution_count": null,
   "metadata": {},
   "outputs": [],
   "source": []
  },
  {
   "cell_type": "code",
   "execution_count": null,
   "metadata": {},
   "outputs": [],
   "source": []
  }
 ],
 "metadata": {
  "kernelspec": {
   "display_name": "ArcGISPro",
   "language": "Python",
   "name": "python3"
  },
  "language_info": {
   "file_extension": ".py",
   "name": "python",
   "version": "3"
  }
 },
 "nbformat": 4,
 "nbformat_minor": 2
}
