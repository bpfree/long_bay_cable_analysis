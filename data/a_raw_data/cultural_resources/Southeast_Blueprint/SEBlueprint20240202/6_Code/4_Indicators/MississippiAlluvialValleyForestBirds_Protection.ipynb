{
 "cells": [
  {
   "cell_type": "markdown",
   "metadata": {},
   "source": [
    "## Mississippi Valley Forest Birds - Protection\n",
    "\n",
    "This indicator was used in the 2023 base blueprint. This code creates the full extent raster.\n",
    "\n",
    "Created by Amy Keister, last run by Amy Keister on 1 June 2023. It took 2 minutes to run"
   ]
  },
  {
   "cell_type": "code",
   "execution_count": 66,
   "metadata": {},
   "outputs": [],
   "source": [
    "import os\n",
    "import arcpy"
   ]
  },
  {
   "cell_type": "code",
   "execution_count": 67,
   "metadata": {},
   "outputs": [],
   "source": [
    "import time\n",
    "start = time.time()"
   ]
  },
  {
   "cell_type": "code",
   "execution_count": 68,
   "metadata": {},
   "outputs": [],
   "source": [
    "# define spatial reference and workspaces\n",
    "sr= arcpy.SpatialReference(5070)\n",
    "#SourceWorkspace= \n",
    "OutWorkspace = r\"D:\\SE_Blueprint_2023\\5_Indicators_Tier2_UnClipped\\MississippiAlluvialValleyForestBirds_P\\MAVProtect.gdb\""
   ]
  },
  {
   "cell_type": "code",
   "execution_count": 69,
   "metadata": {},
   "outputs": [],
   "source": [
    "# define final indicator outputs\n",
    "Out = r\"D:\\SE_Blueprint_2023\\5_Indicators_Tier2_UnClipped\\MississippiAlluvialValleyForestBirds_P\\MississippiAlluvialValleyForestBirds_Protection.tif\""
   ]
  },
  {
   "cell_type": "code",
   "execution_count": 70,
   "metadata": {},
   "outputs": [],
   "source": [
    "# define sub-indicator outputs"
   ]
  },
  {
   "cell_type": "code",
   "execution_count": 71,
   "metadata": {},
   "outputs": [],
   "source": [
    "# define rasters used for cell size, extent, and snapping\n",
    "Rextent= r\"F:\\GIS_DATA\\SECAS\\SE_Blueprint_2022\\Southeast_Blueprint_2022_Data_Download\\SEBlueprint20221215\\Inputs\\BaseBlueprint\\1_ExtentLayers\\BaseBlueprintExtent2022.tif\""
   ]
  },
  {
   "cell_type": "code",
   "execution_count": 72,
   "metadata": {},
   "outputs": [],
   "source": [
    "# define inputs\n",
    "FP= r\"F:\\GIS_DATA\\DecisionSupportTools\\LMVJV\\FPDSM\\MAV_FPDSM_FINAL\\MAV_FPDSM_v7_noCE_final_2.img\""
   ]
  },
  {
   "cell_type": "markdown",
   "metadata": {},
   "source": [
    "## Start Analysis"
   ]
  },
  {
   "cell_type": "code",
   "execution_count": 73,
   "metadata": {},
   "outputs": [],
   "source": [
    "# Set the workspace where I want the output to go\n",
    "arcpy.env.workspace = OutWorkspace"
   ]
  },
  {
   "cell_type": "code",
   "execution_count": 74,
   "metadata": {},
   "outputs": [
    {
     "name": "stdout",
     "output_type": "stream",
     "text": [
      "D:\\SE_Blueprint_2023\\5_Indicators_Tier2_UnClipped\\MississippiAlluvialValleyForestBirds_P\\MAVProtect.gdb\n"
     ]
    }
   ],
   "source": [
    "print(arcpy.env.workspace)"
   ]
  },
  {
   "cell_type": "markdown",
   "metadata": {},
   "source": [
    "## bring in LMVJV forest protection DSM for interior forest breeding birds of the MAV"
   ]
  },
  {
   "cell_type": "code",
   "execution_count": 10,
   "metadata": {},
   "outputs": [
    {
     "data": {
      "text/html": [
       "<div class='gpresult'><h2>Messages</h2><div id='messages' data-messages='[\"Start Time: Thursday, June 29, 2023 11:48:34 AM\",\"Successfully converted:  F:\\\\GIS_DATA\\\\DecisionSupportTools\\\\LMVJV\\\\FPDSM\\\\MAV_FPDSM_FINAL\\\\MAV_FPDSM_v7_noCE_final_2.img To D:\\\\SE_Blueprint_2023\\\\5_Indicators_Tier2_UnClipped\\\\MississippiAlluvialValleyForestBirds_P\\\\MAVProtect.gdb\\\\MAV_FPDSM_v7_noCE_final_2\",\"Succeeded at Thursday, June 29, 2023 11:48:39 AM (Elapsed Time: 5.66 seconds)\"]' data-show='true'><div id = 'default' /></div></div>"
      ],
      "text/plain": [
       "<Result ''>"
      ]
     },
     "execution_count": 10,
     "metadata": {},
     "output_type": "execute_result"
    }
   ],
   "source": [
    "# make a copy of the LMVJV .img\n",
    "arcpy.conversion.RasterToGeodatabase(FP, OutWorkspace, '')"
   ]
  },
  {
   "cell_type": "code",
   "execution_count": 11,
   "metadata": {},
   "outputs": [],
   "source": [
    "# reclassify to bin\n",
    "\n",
    "# ArcGIS reclass includes the second value in the class for example,\n",
    "# 0 1 is <=1 (1 is included)\n",
    "# 1 5 is >1 - 5 (1 is not included, 5 is included)\n",
    "# 5 20 is >5 - 20 (5 is not included, 20 is included)\n",
    "\n",
    "out_raster = arcpy.sa.Reclassify(\"MAV_FPDSM_v7_noCE_final_2\", \"VALUE\", \"0 0 0;1 10 1;10 20 2;20 30 3;30 40 4;40 50 5;50 60 6;60 70 7;70 80 8;80 90 9;90 100 10\", \"DATA\"); out_raster.save(\"indicator\")"
   ]
  },
  {
   "cell_type": "markdown",
   "metadata": {},
   "source": [
    "### Finalize indiator\n",
    "\n",
    "do final steps for all indicators to add description fields, clip and export to SE extent, clip and export to SA extent"
   ]
  },
  {
   "cell_type": "code",
   "execution_count": 81,
   "metadata": {
    "scrolled": true
   },
   "outputs": [],
   "source": [
    "# clip to SE 2022 Blueprint extent\n",
    "with arcpy.EnvManager(outputCoordinateSystem=sr, snapRaster=Rextent, cellSize=Rextent):\n",
    "    out_raster = arcpy.sa.ExtractByMask(\"indicator\", Rextent); out_raster.save(\"SEMask\")"
   ]
  },
  {
   "cell_type": "code",
   "execution_count": 87,
   "metadata": {},
   "outputs": [],
   "source": [
    "# export as .tif\n",
    "with arcpy.EnvManager(outputCoordinateSystem=sr, snapRaster=Rextent, cellSize=Rextent):\n",
    "    arcpy.management.CopyRaster(\"SEMask\", Out, '', None, \"15\", \"NONE\", \"NONE\", \"4_BIT\", \"NONE\", \"NONE\", \"TIFF\", \"NONE\", \"CURRENT_SLICE\", \"NO_TRANSPOSE\")"
   ]
  },
  {
   "cell_type": "code",
   "execution_count": 88,
   "metadata": {},
   "outputs": [],
   "source": [
    "# set code block for next step\n",
    "codeblock = \"\"\"\n",
    "def Reclass(value):\n",
    "    if value == 10:\n",
    "        return '10 = Highest priority forest breeding bird habitat patch for future protection (score >90-100)'\n",
    "    elif value == 9:\n",
    "        return '9 = (score >80-90)'\n",
    "    elif value == 8:\n",
    "        return '8 = (score >70-80)'\n",
    "    elif value == 7:\n",
    "        return '7 = (score >60-70)'\n",
    "    elif value == 6:\n",
    "        return '6 = (score >50-60)'\n",
    "    elif value == 5:\n",
    "        return '5 = (score >40-50)'\n",
    "    elif value == 6:\n",
    "        return '6 = (score >40-50)'\n",
    "    elif value == 4:\n",
    "        return '4 = (score >30-40)'\n",
    "    elif value == 3:\n",
    "        return '3 = (score >20-30)'\n",
    "    elif value == 2:\n",
    "        return '2 = (score >10-20)'\n",
    "    elif value == 1: \n",
    "        return '1 = Low priority (score >0-10)'\n",
    "    elif value == 0: \n",
    "        return '0 = Not a priority (score =0)'\n",
    "\"\"\""
   ]
  },
  {
   "cell_type": "code",
   "execution_count": 89,
   "metadata": {},
   "outputs": [
    {
     "data": {
      "text/html": [
       "<div class='gpresult'><h2>Messages</h2><div id='messages' data-messages='[\"Start Time: Friday, September 15, 2023 8:22:15 PM\",\"Succeeded at Friday, September 15, 2023 8:22:15 PM (Elapsed Time: 0.12 seconds)\"]' data-show='true'><div id = 'default' /></div></div>"
      ],
      "text/plain": [
       "<Result 'D:\\\\SE_Blueprint_2023\\\\5_Indicators_Tier2_UnClipped\\\\MississippiAlluvialValleyForestBirds_P\\\\MississippiAlluvialValleyForestBirds_Protection.tif'>"
      ]
     },
     "execution_count": 89,
     "metadata": {},
     "output_type": "execute_result"
    }
   ],
   "source": [
    "# add and calculate description field to hold indicator values\n",
    "arcpy.management.CalculateField(Out, \"descript\", \"Reclass(!value!)\", \"PYTHON3\", codeblock, \"TEXT\")"
   ]
  },
  {
   "cell_type": "code",
   "execution_count": 90,
   "metadata": {},
   "outputs": [],
   "source": [
    "# set code block for next step\n",
    "codeblock = \"\"\"\n",
    "def Reclass1(Value):\n",
    "\tif Value == 10:\n",
    "\t\treturn 51\n",
    "\tif Value == 9:\n",
    "\t\treturn 90\n",
    "\tif Value == 8:\n",
    "\t\treturn 126\n",
    "\tif Value == 7:\n",
    "\t\treturn 163\n",
    "\tif Value == 6:\n",
    "\t\treturn 201\n",
    "\tif Value == 5:\n",
    "\t\treturn 234\n",
    "\tif Value == 4:\n",
    "\t\treturn 251\n",
    "\tif Value == 3:\n",
    "\t\treturn 255\n",
    "\tif Value == 2:\n",
    "\t\treturn 255\n",
    "\tif Value == 1:\n",
    "\t\treturn 253\n",
    "\telse:\n",
    "\t\treturn 255\n",
    "\t\t\n",
    "def Reclass2(Value):\n",
    "\tif Value == 10:\n",
    "\t\treturn 16\n",
    "\tif Value == 9:\n",
    "\t\treturn 22\n",
    "\tif Value == 8:\n",
    "\t\treturn 36\n",
    "\tif Value == 7:\n",
    "\t\treturn 48\n",
    "\tif Value == 6:\n",
    "\t\treturn 60\n",
    "\tif Value == 5:\n",
    "\t\treturn 80\n",
    "\tif Value == 4:\n",
    "\t\treturn 117\n",
    "\tif Value == 3:\n",
    "\t\treturn 160\n",
    "\tif Value == 2:\n",
    "\t\treturn 202\n",
    "\tif Value == 1:\n",
    "\t\treturn 254\n",
    "\telse:\n",
    "\t\treturn 255\n",
    "\t\t\n",
    "def Reclass3(Value):\n",
    "\tif Value == 10:\n",
    "\t\treturn 104\n",
    "\tif Value == 9:\n",
    "\t\treturn 127\n",
    "\tif Value == 8:\n",
    "\t\treturn 130\n",
    "\tif Value == 7:\n",
    "\t\treturn 127\n",
    "\tif Value == 6:\n",
    "\t\treturn 114\n",
    "\tif Value == 5:\n",
    "\t\treturn 94\n",
    "\tif Value == 4:\n",
    "\t\treturn 84\n",
    "\tif Value == 3:\n",
    "\t\treturn 100\n",
    "\tif Value == 2:\n",
    "\t\treturn 130\n",
    "\tif Value == 1:\n",
    "\t\treturn 167\n",
    "\telse:\n",
    "\t\treturn 255\n",
    "\t\t\n",
    "\"\"\""
   ]
  },
  {
   "cell_type": "code",
   "execution_count": 91,
   "metadata": {},
   "outputs": [
    {
     "data": {
      "text/html": [
       "<div class='gpresult'><h2>Messages</h2><div id='messages' data-messages='[\"Start Time: Friday, September 15, 2023 8:22:15 PM\",\"Succeeded at Friday, September 15, 2023 8:22:15 PM (Elapsed Time: 0.08 seconds)\"]' data-show='true'><div id = 'default' /></div></div>"
      ],
      "text/plain": [
       "<Result 'D:\\\\SE_Blueprint_2023\\\\5_Indicators_Tier2_UnClipped\\\\MississippiAlluvialValleyForestBirds_P\\\\MississippiAlluvialValleyForestBirds_Protection.tif'>"
      ]
     },
     "execution_count": 91,
     "metadata": {},
     "output_type": "execute_result"
    }
   ],
   "source": [
    "# calculate Red field\n",
    "arcpy.management.CalculateField(Out, \"Red\", \"Reclass1(!Value!)\", \"PYTHON3\", codeblock, \"SHORT\")\n",
    "# calculate Green field\n",
    "arcpy.management.CalculateField(Out, \"Green\", \"Reclass2(!Value!)\", \"PYTHON3\", codeblock, \"SHORT\")\n",
    "# calculate Blue field\n",
    "arcpy.management.CalculateField(Out, \"Blue\", \"Reclass3(!Value!)\", \"PYTHON3\", codeblock, \"SHORT\")"
   ]
  },
  {
   "cell_type": "code",
   "execution_count": 18,
   "metadata": {},
   "outputs": [
    {
     "name": "stdout",
     "output_type": "stream",
     "text": [
      "263.945853471756\n"
     ]
    }
   ],
   "source": [
    "end = time.time()\n",
    "print(end - start)"
   ]
  },
  {
   "cell_type": "code",
   "execution_count": null,
   "metadata": {},
   "outputs": [],
   "source": []
  }
 ],
 "metadata": {
  "kernelspec": {
   "display_name": "ArcGISPro",
   "language": "Python",
   "name": "python3"
  },
  "language_info": {
   "file_extension": ".py",
   "name": "python",
   "version": "3"
  }
 },
 "nbformat": 4,
 "nbformat_minor": 2
}
