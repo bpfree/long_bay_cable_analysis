{
 "cells": [
  {
   "cell_type": "markdown",
   "metadata": {},
   "source": [
    "# Batch Clip Indicators to final Blueprint area\n",
    "\n"
   ]
  },
  {
   "cell_type": "code",
   "execution_count": 1,
   "metadata": {},
   "outputs": [],
   "source": [
    "import os, fnmatch\n",
    "import arcpy"
   ]
  },
  {
   "cell_type": "code",
   "execution_count": 2,
   "metadata": {},
   "outputs": [],
   "source": [
    "# define spatial reference and workspaces\n",
    "sr= arcpy.SpatialReference(5070)\n",
    "SourceWorkspace= r\"D:\\SE_Blueprint_2023\\5_IndicatorBatchClip\\PreClip\"\n",
    "OutWorkspace= r\"D:\\SE_Blueprint_2023\\5_IndicatorBatchClip\\PostClip\""
   ]
  },
  {
   "cell_type": "code",
   "execution_count": 3,
   "metadata": {},
   "outputs": [],
   "source": [
    "# define rasters used for cell size, extent, and snapping\n",
    "Rextent= r\"D:\\SE_Blueprint_2023\\2_FullExtent\\SEBlueprint2023ExtentVIPR6.tif\""
   ]
  },
  {
   "cell_type": "code",
   "execution_count": 4,
   "metadata": {},
   "outputs": [],
   "source": [
    "# define inputs\n"
   ]
  },
  {
   "cell_type": "markdown",
   "metadata": {},
   "source": [
    "### Start Analysis"
   ]
  },
  {
   "cell_type": "code",
   "execution_count": 5,
   "metadata": {},
   "outputs": [],
   "source": [
    "# Set the workspace where the indicators are\n",
    "arcpy.env.workspace = SourceWorkspace"
   ]
  },
  {
   "cell_type": "code",
   "execution_count": 6,
   "metadata": {
    "scrolled": true
   },
   "outputs": [
    {
     "name": "stdout",
     "output_type": "stream",
     "text": [
      "D:\\SE_Blueprint_2023\\5_IndicatorBatchClip\\PreClip\n"
     ]
    }
   ],
   "source": [
    "print(arcpy.env.workspace)"
   ]
  },
  {
   "cell_type": "markdown",
   "metadata": {},
   "source": [
    "### Make a list of indicators to be clipped\n"
   ]
  },
  {
   "cell_type": "code",
   "execution_count": 7,
   "metadata": {},
   "outputs": [],
   "source": [
    "# make a list of indicators to be clipped\n",
    "RList = arcpy.ListRasters() "
   ]
  },
  {
   "cell_type": "code",
   "execution_count": 8,
   "metadata": {
    "scrolled": true
   },
   "outputs": [
    {
     "name": "stdout",
     "output_type": "stream",
     "text": [
      "['AtlanticCoralAndHardbottom.tif', 'AtlanticDeepSeaCoralRichness.tif', 'AtlanticEstuarineFishHabitat.tif', 'AtlanticMarineBirds.tif', 'AtlanticMarineMammals.tif', 'AtlanticMigratoryFishHabitat.tif', 'CaribbeanBeachHabitat.tif', 'CaribbeanCoastalShorelineCondition.tif', 'CaribbeanFishHotspots.tif', 'CaribbeanFishNurseryHabitat.tif', 'CaribbeanGreenwaysAndTrails.tif', 'CaribbeanHabitatPatchSizeLargeIslands.tif', 'CaribbeanHabitatPatchSizeSmallIslands.tif', 'CaribbeanIslandHabitat.tif', 'CaribbeanKarstHabitat.tif', 'CaribbeanLandscapeCondition.tif', 'CaribbeanLowUrbanHistoricLandscapes.tif', 'CaribbeanNaturalLandcoverInFloodplains.tif', 'CaribbeanNetworkComplexity.tif', 'CaribbeanPermeableSurface.tif', 'CaribbeanReforestationPotential.tif', 'CaribbeanSeagrass.tif', 'CaribbeanShallowHardbottomAndCoral.tif', 'CaribbeanUrbanParkSize.tif', 'CoastalShorelineCondition.tif', 'EastCoastalPlainOpenPineBirds.tif', 'EquitableAccessToPotentialParks.tif', 'EstuarineCoastalCondition.tif', 'FireFrequency.tif', 'GreatPlainsPerennialGrasslands.tif', 'GreenwaysAndTrails.tif', 'GulfCoralAndHardbottom.tif', 'GulfDeepSeaCoralRichness.tif', 'GulfMarineMammals.tif', 'GulfMigratoryFishConnectivity.tif', 'GulfSeaTurtles.tif', 'ImperiledAquaticSpecies.tif', 'IntactHabitatCores.tif', 'InteriorSoutheastGrasslands.tif', 'IslandHabitat.tif', 'MarineHighlyMigratoryFish.tif', 'MississippiAlluvialValleyForestBirds_Protection.tif', 'MississippiAlluvialValleyForestBirds_Reforestation.tif', 'NaturalLandcoverInFloodplains.tif', 'NetworkComplexity.tif', 'PermeableSurface.tif', 'Playas.tif', 'ResilientCoastalSites.tif', 'ResilientTerrestrialSites.tif', 'Seagrass.tif', 'SouthAtlanticAmphibianAndReptileAreas.tif', 'SouthAtlanticBeachBirds.tif', 'SouthAtlanticForestBirds.tif', 'SouthAtlanticLowUrbanHistoricLandscapes.tif', 'SouthAtlanticMaritimeForest.tif', 'StableCoastalWetlands.tif', 'UrbanParkSize.tif', 'WestCoastalPlainAndOuachitasForestedWetlandBirds.tif', 'WestCoastalPlainAndOuachitasOpenPineBirds.tif', 'WestGulfCoastMottledDuckNesting.tif', 'WestVirginiaImperiledAquaticSpecies.tif']\n"
     ]
    }
   ],
   "source": [
    "# print list of indicators to make sure it looks right\n",
    "print(RList)"
   ]
  },
  {
   "cell_type": "markdown",
   "metadata": {},
   "source": [
    "### loop through indicators and clip to subregion"
   ]
  },
  {
   "cell_type": "code",
   "execution_count": 9,
   "metadata": {},
   "outputs": [
    {
     "name": "stdout",
     "output_type": "stream",
     "text": [
      "finished clipping indicators\n"
     ]
    }
   ],
   "source": [
    "# Loop through all indicator rasters, clip to 2023 blueprint extent and change to 4bit raster\n",
    "for r in RList:\n",
    "   \n",
    "    # Process:\n",
    "    with arcpy.EnvManager(outputCoordinateSystem=sr, snapRaster=Rextent, cellSize=Rextent):\n",
    "        out_raster = arcpy.sa.ExtractByMask(r, Rextent)\n",
    "        # export as 4 bit .tif \n",
    "        arcpy.management.CopyRaster(out_raster, OutWorkspace + '\\\\' + r, '', None, \"15\", \"NONE\", \"NONE\", \"4_BIT\", \"NONE\", \"NONE\", \"TIFF\", \"NONE\", \"CURRENT_SLICE\", \"NO_TRANSPOSE\")\n",
    "        \n",
    "print (\"finished clipping indicators\") "
   ]
  },
  {
   "cell_type": "code",
   "execution_count": null,
   "metadata": {},
   "outputs": [],
   "source": []
  },
  {
   "cell_type": "code",
   "execution_count": null,
   "metadata": {},
   "outputs": [],
   "source": []
  },
  {
   "cell_type": "code",
   "execution_count": null,
   "metadata": {},
   "outputs": [],
   "source": []
  },
  {
   "cell_type": "code",
   "execution_count": null,
   "metadata": {},
   "outputs": [],
   "source": []
  },
  {
   "cell_type": "code",
   "execution_count": null,
   "metadata": {},
   "outputs": [],
   "source": []
  },
  {
   "cell_type": "code",
   "execution_count": null,
   "metadata": {},
   "outputs": [],
   "source": []
  },
  {
   "cell_type": "code",
   "execution_count": null,
   "metadata": {},
   "outputs": [],
   "source": []
  },
  {
   "cell_type": "code",
   "execution_count": null,
   "metadata": {},
   "outputs": [],
   "source": []
  },
  {
   "cell_type": "markdown",
   "metadata": {},
   "source": [
    "another option to get a list of files, this allows you to get the entire path"
   ]
  },
  {
   "cell_type": "code",
   "execution_count": null,
   "metadata": {},
   "outputs": [],
   "source": [
    "#look in the source data, make a list of all the raster with .tif types\n",
    "RList = []\n",
    "\n",
    "walk = arcpy.da.Walk(SourceWorkspace, datatype=\"RasterDataset\", type=\"TIF\")\n",
    "\n",
    "for dirpath, dirnames, filenames in walk:\n",
    "    for filename in filenames:\n",
    "        RList.append(os.path.join(dirpath, filename))"
   ]
  },
  {
   "cell_type": "code",
   "execution_count": null,
   "metadata": {},
   "outputs": [],
   "source": [
    "# print list of indicators to make sure it looks right\n",
    "print(RList)"
   ]
  }
 ],
 "metadata": {
  "kernelspec": {
   "display_name": "ArcGISPro",
   "language": "Python",
   "name": "python3"
  },
  "language_info": {
   "file_extension": ".py",
   "name": "python",
   "version": "3"
  }
 },
 "nbformat": 4,
 "nbformat_minor": 2
}
