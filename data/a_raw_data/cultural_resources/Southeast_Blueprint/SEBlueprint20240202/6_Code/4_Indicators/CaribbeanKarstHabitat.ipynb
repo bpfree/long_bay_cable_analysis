{
 "cells": [
  {
   "cell_type": "markdown",
   "metadata": {},
   "source": [
    "# Caribbean Karst Habitat\n",
    "\n",
    "This is code for Southeast Conservation Blueprint 2023. Written by Rua Mordecai."
   ]
  },
  {
   "cell_type": "markdown",
   "metadata": {},
   "source": [
    "## Import libraries and define variables"
   ]
  },
  {
   "cell_type": "code",
   "execution_count": 65,
   "metadata": {},
   "outputs": [],
   "source": [
    "import os\n",
    "import arcpy"
   ]
  },
  {
   "cell_type": "code",
   "execution_count": 66,
   "metadata": {},
   "outputs": [],
   "source": [
    "# define spatial reference, workspaces, and source data location\n",
    "sr= arcpy.SpatialReference(5070)\n",
    "OutputWorkspace = r\"D:\\Blueprint\\2023\\finalIndicatorEdits\\CaribbeanBlueprint2023_FinalIndicators\\CaribbeanBlueprint2023_FinalIndicators\\SpatialData\"\n",
    "landfire = r\"D:\\Landcover\\LF2020_Puerto_Rico_Virgin_Islands_220_IA\\LF2020_PRVI_220_IA\\LF2020_EVT_220_PRVI\\Tif\\LV20_EVT_220.tif\"\n",
    "PRKarst = r\"D:\\Blueprint\\2023\\Caribbean\\Indicators\\Karst\\PR_DRNA\\karst\\karst\\karstpublichearingSept2013\\APE-RC.shp\"\n",
    "PRKarstBuffer = r\"D:\\Blueprint\\2023\\Caribbean\\Indicators\\Karst\\PR_DRNA\\karst\\karst\\karstpublichearingSept2013\\Buffer50M.shp\"\n",
    "USGSVIKarst = r\"D:\\Blueprint\\2023\\Caribbean\\Indicators\\Karst\\USGS_USKarstMap\\Shapefiles\\PuertoRico_VirginIslands\\VIcarbonates.shp\"\n",
    "NPSGeology = r\"D:\\Blueprint\\2023\\Caribbean\\Indicators\\Karst\\NPS\\buisshp\\buisglg.shp\""
   ]
  },
  {
   "cell_type": "code",
   "execution_count": 67,
   "metadata": {},
   "outputs": [],
   "source": [
    "# define final output name\n",
    "IndicatorFileName = \"CaribbeanKarstHabitat.tif\""
   ]
  },
  {
   "cell_type": "code",
   "execution_count": 68,
   "metadata": {},
   "outputs": [],
   "source": [
    "# define raster used for cell size, extent, and snapping\n",
    "CaribbeanRaster= r\"D:\\Blueprint\\2023\\extent\\VIPR_Extent_v6.tif\""
   ]
  },
  {
   "cell_type": "code",
   "execution_count": 69,
   "metadata": {},
   "outputs": [],
   "source": [
    "# Sometimes arcpro is fussy about not overwriting things\n",
    "arcpy.env.overwriteOutput = True"
   ]
  },
  {
   "cell_type": "markdown",
   "metadata": {},
   "source": [
    "## Start analysis"
   ]
  },
  {
   "cell_type": "markdown",
   "metadata": {},
   "source": [
    "### Prep data"
   ]
  },
  {
   "cell_type": "code",
   "execution_count": 70,
   "metadata": {},
   "outputs": [],
   "source": [
    "# Switch to working directory\n",
    "arcpy.env.workspace = OutputWorkspace"
   ]
  },
  {
   "cell_type": "code",
   "execution_count": 36,
   "metadata": {},
   "outputs": [],
   "source": [
    "# Make a version of USGS Karst without St. Croix. \n",
    "# Those data are very coarse and we have better info for St. Croix\n",
    "out_raster = arcpy.management.SelectLayerByAttribute(USGSVIKarst, \"NEW_SELECTION\", \"UNIT_NAME <> 'Kingshill Marl'\", None)"
   ]
  },
  {
   "cell_type": "code",
   "execution_count": 37,
   "metadata": {},
   "outputs": [],
   "source": [
    "# Export the shapefile with St. Croix removed\n",
    "out_raster2 = arcpy.conversion.FeatureClassToFeatureClass(out_raster, OutputWorkspace, \"USGSVIKarstNoStCroix.shp\")"
   ]
  },
  {
   "cell_type": "code",
   "execution_count": 38,
   "metadata": {},
   "outputs": [],
   "source": [
    "# Extract karst from NPS St. Croix Geology. MIkh is the symbol for Kingshill Marl.\n",
    "out_raster = arcpy.management.SelectLayerByAttribute(NPSGeology, \"NEW_SELECTION\", \"GLG_SYM = 'MIkh'\", None)"
   ]
  },
  {
   "cell_type": "code",
   "execution_count": 39,
   "metadata": {},
   "outputs": [],
   "source": [
    "# Export the shapefile with St. Croix karst\n",
    "out_raster2 = arcpy.conversion.FeatureClassToFeatureClass(out_raster, OutputWorkspace, \"StCroixKarst.shp\")"
   ]
  },
  {
   "cell_type": "markdown",
   "metadata": {},
   "source": [
    "### Begin analysis"
   ]
  },
  {
   "cell_type": "code",
   "execution_count": 40,
   "metadata": {},
   "outputs": [
    {
     "data": {
      "text/html": [
       "<div class='gpresult'><h2>Messages</h2><div id='messages' data-messages='[\"Start Time: Friday, July 14, 2023 8:29:39 AM\",\"Succeeded at Friday, July 14, 2023 8:29:42 AM (Elapsed Time: 2.58 seconds)\"]' data-show='true'><div id = 'default' /></div></div>"
      ],
      "text/plain": [
       "<Result 'D:\\\\Blueprint\\\\2023\\\\Caribbean\\\\Indicators\\\\Karst\\\\working\\\\CaribbeanKarst.shp'>"
      ]
     },
     "execution_count": 40,
     "metadata": {},
     "output_type": "execute_result"
    }
   ],
   "source": [
    "# combine karst from Puerto Rico and Virgin Islands\n",
    "arcpy.management.Merge([\"USGSVIKarstNoStCroix.shp\", \"StCroixKarst.shp\", PRKarst, PRKarstBuffer], \"CaribbeanKarst.shp\")"
   ]
  },
  {
   "cell_type": "code",
   "execution_count": 41,
   "metadata": {},
   "outputs": [
    {
     "data": {
      "text/html": [
       "<div class='gpresult'><h2>Messages</h2><div id='messages' data-messages='[\"Start Time: Friday, July 14, 2023 8:29:42 AM\",\"Adding raster to CaribbeanKarst...\",\"Succeeded at Friday, July 14, 2023 8:29:43 AM (Elapsed Time: 0.15 seconds)\"]' data-show='true'><div id = 'default' /></div></div>"
      ],
      "text/plain": [
       "<Result 'D:\\\\Blueprint\\\\2023\\\\Caribbean\\\\Indicators\\\\Karst\\\\working\\\\CaribbeanKarst.shp'>"
      ]
     },
     "execution_count": 41,
     "metadata": {},
     "output_type": "execute_result"
    }
   ],
   "source": [
    "# add a field to convert to raster, give a value of 1\n",
    "arcpy.management.CalculateField(\"CaribbeanKarst.shp\", \"raster\", \"1\", \"PYTHON3\", '', \"SHORT\")"
   ]
  },
  {
   "cell_type": "code",
   "execution_count": 42,
   "metadata": {},
   "outputs": [],
   "source": [
    "# convert to raster\n",
    "with arcpy.EnvManager(outputCoordinateSystem=sr, extent=CaribbeanRaster, snapRaster=CaribbeanRaster, cellSize=CaribbeanRaster):\n",
    "    arcpy.conversion.FeatureToRaster(in_features=\"CaribbeanKarst.shp\", field=\"raster\", out_raster=\"CaribbeanKarstRaster.tif\", cell_size=CaribbeanRaster)"
   ]
  },
  {
   "cell_type": "code",
   "execution_count": 43,
   "metadata": {},
   "outputs": [],
   "source": [
    "# Make no data zero\n",
    "out_raster = arcpy.sa.Reclassify(\"CaribbeanKarstRaster.tif\", \"Value\", \"NODATA 0;1 1\", \"DATA\"); out_raster.save(\"CaribbeanKarstRasterZ.tif\")"
   ]
  },
  {
   "cell_type": "code",
   "execution_count": 44,
   "metadata": {},
   "outputs": [],
   "source": [
    "# Use the same alteration categories as the landscape condition indicator\n",
    "# Reclassify Landfire based on amount of alteration. 3 is natural, 2 is altered, and 1 is heavily altered. \n",
    "# Medium and High intensity developed are 1, anything else categorized as \"Developed\",\"Agriculture\", or \"Barren\" in \"EVT_LF\" \n",
    "# or \"Agriculture - Pasture and Hay\" or \"Bush fruit and berries\" in \"EVT_NAME\" is 2, everything else is 3.\n",
    "#\"Open Water\" is NoDATA\n",
    "with arcpy.EnvManager(outputCoordinateSystem=sr, extent=CaribbeanRaster, snapRaster=CaribbeanRaster, cellSize=CaribbeanRaster):\n",
    "    out_raster = arcpy.sa.Reclassify(landfire, \"Value\", \"-9999 NODATA;7292 NODATA;7295 7296 2;7297 7298 1;7299 7300 2;7754 2;7755 2;7838 2;7861 7888 3;9303 9355 3;9803 3\", \"DATA\"); out_raster.save(\"LandscapeConditionBins.tif\")"
   ]
  },
  {
   "cell_type": "code",
   "execution_count": 45,
   "metadata": {},
   "outputs": [],
   "source": [
    "# Combine rasters for indicator categories\n",
    "out_raster = arcpy.sa.Times(\"CaribbeanKarstRasterZ.tif\", \"LandscapeConditionBins.tif\"); out_raster.save(\"indicatorBins.tif\")"
   ]
  },
  {
   "cell_type": "code",
   "execution_count": 46,
   "metadata": {},
   "outputs": [],
   "source": [
    "# clip raster to Caribbean extent\n",
    "out_raster = arcpy.sa.ExtractByMask(\"indicatorBins.tif\", CaribbeanRaster); out_raster.save(IndicatorFileName)"
   ]
  },
  {
   "cell_type": "markdown",
   "metadata": {},
   "source": [
    "## Finalize indicator"
   ]
  },
  {
   "cell_type": "code",
   "execution_count": 71,
   "metadata": {},
   "outputs": [],
   "source": [
    "# set code block for legend\n",
    "codeblock = \"\"\"\n",
    "def Reclass(value):\n",
    "    if value == 0:\n",
    "        return '0 = Not identified as karst'    \n",
    "    elif value == 1:\n",
    "        return '1 = Karst with developed landcover'\n",
    "    elif value == 2:\n",
    "        return '2 = Karst with pasture, crops, or open space in developed area' \n",
    "    elif value == 3:\n",
    "        return '3 = Karst with natural landcover'             \n",
    "\"\"\""
   ]
  },
  {
   "cell_type": "code",
   "execution_count": 72,
   "metadata": {},
   "outputs": [
    {
     "data": {
      "text/html": [
       "<div class='gpresult'><h2>Messages</h2><div id='messages' data-messages='[\"Start Time: Thursday, September 14, 2023 10:06:21 AM\",\"Succeeded at Thursday, September 14, 2023 10:06:22 AM (Elapsed Time: 0.45 seconds)\"]' data-show='true'><div id = 'default' /></div></div>"
      ],
      "text/plain": [
       "<Result 'D:\\\\Blueprint\\\\2023\\\\finalIndicatorEdits\\\\CaribbeanBlueprint2023_FinalIndicators\\\\CaribbeanBlueprint2023_FinalIndicators\\\\SpatialData\\\\CaribbeanKarstHabitat.tif'>"
      ]
     },
     "execution_count": 72,
     "metadata": {},
     "output_type": "execute_result"
    }
   ],
   "source": [
    "# add and calculate description field to hold indicator values\n",
    "arcpy.management.CalculateField(IndicatorFileName, \"descript\", \"Reclass(!value!)\", \"PYTHON3\", codeblock, \"TEXT\")"
   ]
  },
  {
   "cell_type": "code",
   "execution_count": 73,
   "metadata": {},
   "outputs": [],
   "source": [
    "# set code block for next step\n",
    "codeblock = \"\"\"\n",
    "def Reclass1(Value):\n",
    "\tif Value == 3:\n",
    "\t\treturn 199\n",
    "\tif Value == 2:\n",
    "\t\treturn 230\n",
    "\tif Value == 1:\n",
    "\t\treturn 252\n",
    "\tif Value == 0:\n",
    "\t\treturn 255\n",
    "\telse:\n",
    "\t\treturn 255\n",
    "\t\t\n",
    "def Reclass2(Value):\n",
    "\tif Value == 3:\n",
    "\t\treturn 0\n",
    "\tif Value == 2:\n",
    "\t\treturn 108\n",
    "\tif Value == 1:\n",
    "\t\treturn 192\n",
    "\tif Value == 0:\n",
    "\t\treturn 255\n",
    "\telse:\n",
    "\t\treturn 255\n",
    "\t\t\n",
    "def Reclass3(Value):\n",
    "\tif Value == 3:\n",
    "\t\treturn 99\n",
    "\tif Value == 2:\n",
    "\t\treturn 153\n",
    "\tif Value == 1:\n",
    "\t\treturn 238\n",
    "\tif Value == 0:\n",
    "\t\treturn 255\n",
    "\telse:\n",
    "\t\treturn 255\n",
    "\t\t\n",
    "\"\"\""
   ]
  },
  {
   "cell_type": "code",
   "execution_count": 74,
   "metadata": {},
   "outputs": [
    {
     "data": {
      "text/html": [
       "<div class='gpresult'><h2>Messages</h2><div id='messages' data-messages='[\"Start Time: Thursday, September 14, 2023 10:06:25 AM\",\"Succeeded at Thursday, September 14, 2023 10:06:25 AM (Elapsed Time: 0.45 seconds)\"]' data-show='true'><div id = 'default' /></div></div>"
      ],
      "text/plain": [
       "<Result 'D:\\\\Blueprint\\\\2023\\\\finalIndicatorEdits\\\\CaribbeanBlueprint2023_FinalIndicators\\\\CaribbeanBlueprint2023_FinalIndicators\\\\SpatialData\\\\CaribbeanKarstHabitat.tif'>"
      ]
     },
     "execution_count": 74,
     "metadata": {},
     "output_type": "execute_result"
    }
   ],
   "source": [
    "# calculate Red field\n",
    "arcpy.management.CalculateField(IndicatorFileName, \"Red\", \"Reclass1(!Value!)\", \"PYTHON3\", codeblock, \"SHORT\")\n",
    "# calculate Green field\n",
    "arcpy.management.CalculateField(IndicatorFileName, \"Green\", \"Reclass2(!Value!)\", \"PYTHON3\", codeblock, \"SHORT\")\n",
    "# calculate Blue field\n",
    "arcpy.management.CalculateField(IndicatorFileName, \"Blue\", \"Reclass3(!Value!)\", \"PYTHON3\", codeblock, \"SHORT\")"
   ]
  },
  {
   "cell_type": "code",
   "execution_count": null,
   "metadata": {},
   "outputs": [],
   "source": []
  }
 ],
 "metadata": {
  "kernelspec": {
   "display_name": "ArcGISPro",
   "language": "Python",
   "name": "python3"
  },
  "language_info": {
   "file_extension": ".py",
   "name": "python",
   "version": "3"
  }
 },
 "nbformat": 4,
 "nbformat_minor": 2
}
