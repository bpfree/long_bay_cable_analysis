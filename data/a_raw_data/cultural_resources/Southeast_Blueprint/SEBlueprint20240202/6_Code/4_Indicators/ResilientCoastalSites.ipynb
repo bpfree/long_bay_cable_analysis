{
 "cells": [
  {
   "cell_type": "markdown",
   "metadata": {},
   "source": [
    "# Resilient Coastal Sites\n",
    "This is a draft indicator for the 2022 base blueprint.\n",
    "\n",
    "Created by Blair Tirpak, modified from Amy Keister for combined Reslient Sites "
   ]
  },
  {
   "cell_type": "code",
   "execution_count": 21,
   "metadata": {},
   "outputs": [],
   "source": [
    "import arcpy\n",
    "from arcpy import env  \n",
    "from arcpy.sa import *"
   ]
  },
  {
   "cell_type": "code",
   "execution_count": 22,
   "metadata": {},
   "outputs": [],
   "source": [
    "# define spatial reference and workspaces\n",
    "sr= arcpy.SpatialReference(5070)\n",
    "#SourceWorkspace = \n",
    "OutWorkspace = r\"C:\\Data\\ResilientSites\\CoastalResilient.gdb\""
   ]
  },
  {
   "cell_type": "code",
   "execution_count": 23,
   "metadata": {},
   "outputs": [],
   "source": [
    "# define final outputs\n",
    "SEout = r\"C:\\Data\\ResilientSites\\ResilientCoastalSites.tif\""
   ]
  },
  {
   "cell_type": "code",
   "execution_count": 24,
   "metadata": {},
   "outputs": [],
   "source": [
    "# define sub-indicator outputs to help with user support"
   ]
  },
  {
   "cell_type": "code",
   "execution_count": null,
   "metadata": {},
   "outputs": [],
   "source": [
    "# Create extent\n",
    "# extent must exclude tribal areas not reviewed by their respecitve tribe\n",
    "SEpoly = r\"E:\\2022Indicators\\BBP_extent\\BaseBlueprintExtent2002.shp\"\n",
    "BIA = r\"C:\\Data\\ResilientSites\\BIA\\BIA_National_LAR.shp\" \n",
    "# remove unapproved tribal areas from extent\n",
    "arcpy.analysis.Erase(SEpoly, BIA, r\"C:\\Data\\ResilientSites\\BPextent2022_BIA.shp\", None)"
   ]
  },
  {
   "cell_type": "code",
   "execution_count": null,
   "metadata": {},
   "outputs": [],
   "source": [
    "# convert mask to raster\n",
    "arcpy.conversion.PolygonToRaster(r\"C:\\Data\\ResilientSites\\BPextent2022_BIA.shp\", \"gridcode\", r\"C:\\Data\\ResilientSites\\SEextent2022_BIA.tif\", \"CELL_CENTER\", \"NONE\", 30)"
   ]
  },
  {
   "cell_type": "code",
   "execution_count": 32,
   "metadata": {},
   "outputs": [],
   "source": [
    "# define rasters used for cell size, extent, and snapping\n",
    "SEraster= r\"C:\\Data\\ResilientSites\\SEextent2022_BIA.tif\"\n",
    "# snap raster \n",
    "arcpy.env.snapRaster = r\"C:\\Data\\ResilientSites\\SEextent2022_BIA.tif\"\n",
    "arcpy.env.cellSize = r\"C:\\Data\\ResilientSites\\SEextent2022_BIA.tif\""
   ]
  },
  {
   "cell_type": "code",
   "execution_count": 26,
   "metadata": {},
   "outputs": [],
   "source": [
    "# define additional inputs\n",
    "GOMtidal65 = r\"C:\\Data\\ResilientSites\\Gulf_of_Mexico\\Tidal_Complex\\Stratified_Resilience_Scores.gdb\\Gulf_of_Mexico_Tidal_Complex_Resilience_Score_SLR65\"\n",
    "SAtidal65 = r\"C:\\Data\\ResilientSites\\South_Atlantic\\Tidal_Complexes\\Stratified_Resilience_Scores.gdb\\South_Atlantic_Tidal_Complex_Resilience_Score_SLR65\"\n",
    "\n",
    "GOMmig65 = r\"C:\\Data\\ResilientSites\\Gulf_of_Mexico\\Migration_Space\\Migration_Space_units.gdb\\Gulf_of_Mexico_Migration_Space_SLR65\"\n",
    "SAmig65 = r\"C:\\Data\\ResilientSites\\South_Atlantic\\Migration_Space\\Migration_Space_units.gdb\\South_Atlantic_Migration_Space_SLR65\"\n",
    "\n",
    "GOMmig40 = r\"C:\\Data\\ResilientSites\\Gulf_of_Mexico\\Migration_Space\\Migration_Space_units.gdb\\Gulf_of_Mexico_Migration_Space_SLR40\"\n",
    "SAmig40 = r\"C:\\Data\\ResilientSites\\South_Atlantic\\Migration_Space\\Migration_Space_units.gdb\\South_Atlantic_Migration_Space_SLR40\"\n",
    "\n",
    "GOMmig30 = r\"C:\\Data\\ResilientSites\\Gulf_of_Mexico\\Migration_Space\\Migration_Space_units.gdb\\Gulf_of_Mexico_Migration_Space_SLR30\"\n",
    "SAmig30 = r\"C:\\Data\\ResilientSites\\South_Atlantic\\Migration_Space\\Migration_Space_units.gdb\\South_Atlantic_Migration_Space_SLR30\"\n",
    "\n",
    "GOMmig15= r\"C:\\Data\\ResilientSites\\Gulf_of_Mexico\\Migration_Space\\Migration_Space_units.gdb\\Gulf_of_Mexico_Migration_Space_SLR15\"\n",
    "SAmig15 = r\"C:\\Data\\ResilientSites\\South_Atlantic\\Migration_Space\\Migration_Space_units.gdb\\South_Atlantic_Migration_Space_SLR15\"\n",
    "\n",
    "GOMadmig65 = r\"C:\\Data\\ResilientSites\\Gulf_of_Mexico\\Migration_Space\\Migration_Space_units.gdb\\Gulf_of_Mexico_Additional_Migration_Space_SLR65\"\n",
    "SAadmig65 = r\"C:\\Data\\ResilientSites\\South_Atlantic\\Migration_Space\\Migration_Space_units.gdb\\South_Atlantic_Additional_Migration_Space_SLR65\"\n",
    "\n",
    "GOMadmig40 = r\"C:\\Data\\ResilientSites\\Gulf_of_Mexico\\Migration_Space\\Migration_Space_units.gdb\\Gulf_of_Mexico_Additional_Migration_Space_SLR40\"\n",
    "SAadmig40 = r\"C:\\Data\\ResilientSites\\South_Atlantic\\Migration_Space\\Migration_Space_units.gdb\\South_Atlantic_Additional_Migration_Space_SLR40\"\n",
    "\n",
    "GOMadmig30 = r\"C:\\Data\\ResilientSites\\Gulf_of_Mexico\\Migration_Space\\Migration_Space_units.gdb\\Gulf_of_Mexico_Additional_Migration_Space_SLR30\"\n",
    "SAadmig30 = r\"C:\\Data\\ResilientSites\\South_Atlantic\\Migration_Space\\Migration_Space_units.gdb\\South_Atlantic_Additional_Migration_Space_SLR30\"\n",
    "\n",
    "GOMadmig15 = r\"C:\\Data\\ResilientSites\\Gulf_of_Mexico\\Migration_Space\\Migration_Space_units.gdb\\Gulf_of_Mexico_Additional_Migration_Space_SLR15\"\n",
    "SAadmig15 = r\"C:\\Data\\ResilientSites\\South_Atlantic\\Migration_Space\\Migration_Space_units.gdb\\South_Atlantic_Additional_Migration_Space_SLR15\""
   ]
  },
  {
   "cell_type": "code",
   "execution_count": 27,
   "metadata": {},
   "outputs": [],
   "source": [
    "# define additional NE coastal inputs. \n",
    "SAExtent = r\"C:\\Data\\ResilientSites\\South_Atlantic\\Coastal_Shoreline_Regions\\Coastal_Shoreline_Regions.gdb\\South_Atlantic_Coastal_Shoreline_Regions\"\n",
    "NEtidal65 = r\"C:\\Data\\ResilientSites\\NE_Resilient_Coastal_Sites\\Tidal_Complex\\Resilience_Scores.gdb\\slr06_stratified_resilience\"\n",
    "#NEmig60 = r\"C:\\Data\\ResilientSites\\NE_Resilient_Coastal_Sites\\Migration_Space\\migration_space_slr06\"\n",
    "#NEmig50 = r\"C:\\Data\\ResilientSites\\NE_Resilient_Coastal_Sites\\Migration_Space\\migration_space_slr05\"\n",
    "#NEmig40 = r\"C:\\Data\\ResilientSites\\NE_Resilient_Coastal_Sites\\Migration_Space\\migration_space_slr04\"\n",
    "#NEmig30 = r\"C:\\Data\\ResilientSites\\NE_Resilient_Coastal_Sites\\Migration_Space\\migration_space_slr03\"\n",
    "#NEmig20 = r\"C:\\Data\\ResilientSites\\NE_Resilient_Coastal_Sites\\Migration_Space\\migration_space_slr02\"\n",
    "#NEmig10 = r\"C:\\Data\\ResilientSites\\NE_Resilient_Coastal_Sites\\Migration_Space\\migration_space_slr01\""
   ]
  },
  {
   "cell_type": "markdown",
   "metadata": {},
   "source": [
    "## Start Analysis"
   ]
  },
  {
   "cell_type": "code",
   "execution_count": 28,
   "metadata": {},
   "outputs": [],
   "source": [
    "# Change the workspace to where I am saving the outputs\n",
    "arcpy.env.workspace = OutWorkspace"
   ]
  },
  {
   "cell_type": "code",
   "execution_count": 29,
   "metadata": {},
   "outputs": [
    {
     "name": "stdout",
     "output_type": "stream",
     "text": [
      "C:\\Data\\ResilientSites\\CoastalResilient.gdb\n"
     ]
    }
   ],
   "source": [
    "# Print the current workspace to make sure I'm in the right spot\n",
    "print(arcpy.env.workspace)"
   ]
  },
  {
   "cell_type": "markdown",
   "metadata": {},
   "source": [
    "### Clip NE coastal dataset to remove overlap area with SA Coastal dataset"
   ]
  },
  {
   "cell_type": "code",
   "execution_count": 12,
   "metadata": {},
   "outputs": [
    {
     "data": {
      "text/html": [
       "<h2>Output</h2>C:\\Data\\ResilientSites\\CoastalResilient.gdb\\VAtidal65<h2>Messages</h2>Start Time: Tuesday, February 22, 2022 1:07:46 PM<br/>Reading Features...<br/>Cracking Features...<br/>Assembling Features...<br/>Succeeded at Tuesday, February 22, 2022 1:08:02 PM (Elapsed Time: 16.18 seconds)<br/><style>.rendered_html td, .rendered_html th {text-align: left;}.rendered_html tbody {border: 1px solid black;}</style>"
      ],
      "text/plain": [
       "<Result 'C:\\\\Data\\\\ResilientSites\\\\CoastalResilient.gdb\\\\VAtidal65'>"
      ]
     },
     "execution_count": 12,
     "metadata": {},
     "output_type": "execute_result"
    }
   ],
   "source": [
    "# erase SA Coastal Extent from the NE Coastal Sites\n",
    "arcpy.Erase_analysis(NEtidal65, SAExtent, \"VAtidal65\")"
   ]
  },
  {
   "cell_type": "markdown",
   "metadata": {},
   "source": [
    "## Convert all coastal data to raster and combine using max value\n",
    "we are only using the slr65 for the tidal complex\n",
    "we are using all SLR scenarios for the migration space and additional migration space"
   ]
  },
  {
   "cell_type": "code",
   "execution_count": 13,
   "metadata": {},
   "outputs": [],
   "source": [
    "# convert from feature to raster \n",
    "with arcpy.EnvManager(outputCoordinateSystem=sr, extent=SEraster, snapRaster=SEraster, cellSize=SEraster):\n",
    "    arcpy.conversion.FeatureToRaster(GOMtidal65, \"RESILB1stC\", \"GOMtidal65\", cell_size=SEraster)\n",
    "    arcpy.conversion.FeatureToRaster(SAtidal65, \"RESILB1stC\", \"SAtidal65\", cell_size=SEraster)\n",
    "    arcpy.conversion.FeatureToRaster(GOMmig65, \"RESILB1stC\", \"GOMmig65\", cell_size=SEraster)\n",
    "    arcpy.conversion.FeatureToRaster(SAmig65, \"RESILB1stC\", \"SAmig65\", cell_size=SEraster)\n",
    "    arcpy.conversion.FeatureToRaster(GOMmig40, \"RESILB1stC\", \"GOMmig40\", cell_size=SEraster)\n",
    "    arcpy.conversion.FeatureToRaster(SAmig40, \"RESILB1stC\", \"SAmig40\", cell_size=SEraster)\n",
    "    arcpy.conversion.FeatureToRaster(GOMmig30, \"RESILB1stC\", \"GOMmig30\", cell_size=SEraster)\n",
    "    arcpy.conversion.FeatureToRaster(SAmig30, \"RESILB1stC\", \"SAmig30\", cell_size=SEraster)\n",
    "    arcpy.conversion.FeatureToRaster(GOMmig15, \"RESILB1stC\", \"GOMmig15\", cell_size=SEraster)\n",
    "    arcpy.conversion.FeatureToRaster(SAmig15, \"RESILB1stC\", \"SAmig15\", cell_size=SEraster)\n",
    "    arcpy.conversion.FeatureToRaster(GOMadmig65, \"RESILB1stC\", \"GOMadmig65\", cell_size=SEraster)\n",
    "    arcpy.conversion.FeatureToRaster(SAadmig65, \"RESILB1stC\", \"SAadmig65\", cell_size=SEraster)\n",
    "    arcpy.conversion.FeatureToRaster(GOMadmig40, \"RESILB1stC\", \"GOMadmig40\", cell_size=SEraster)\n",
    "    arcpy.conversion.FeatureToRaster(SAadmig40, \"RESILB1stC\", \"SAadmig40\", cell_size=SEraster)\n",
    "    arcpy.conversion.FeatureToRaster(GOMadmig30, \"RESILB1stC\", \"GOMadmig30\", cell_size=SEraster)\n",
    "    arcpy.conversion.FeatureToRaster(SAadmig30, \"RESILB1stC\", \"SAadmig30\", cell_size=SEraster)\n",
    "    arcpy.conversion.FeatureToRaster(GOMadmig15, \"RESILB1stC\", \"GOMadmig15\", cell_size=SEraster)\n",
    "    arcpy.conversion.FeatureToRaster(SAadmig15, \"RESILB1stC\", \"SAadmig15\", cell_size=SEraster)"
   ]
  },
  {
   "cell_type": "code",
   "execution_count": 14,
   "metadata": {},
   "outputs": [
    {
     "data": {
      "text/html": [
       "<h2>Output</h2>C:\\Data\\ResilientSites\\CoastalResilient.gdb\\NEtidal60<h2>Messages</h2>Start Time: Tuesday, February 22, 2022 1:18:34 PM<br/>Succeeded at Tuesday, February 22, 2022 1:18:56 PM (Elapsed Time: 22.78 seconds)<br/><style>.rendered_html td, .rendered_html th {text-align: left;}.rendered_html tbody {border: 1px solid black;}</style>"
      ],
      "text/plain": [
       "<Result 'C:\\\\Data\\\\ResilientSites\\\\CoastalResilient.gdb\\\\NEtidal60'>"
      ]
     },
     "execution_count": 14,
     "metadata": {},
     "output_type": "execute_result"
    }
   ],
   "source": [
    "# attempted at converting the VA eslience score \n",
    "# # RESILssBZ seemed to be the same as RESILB1stC in the other datasets - Estimated Resilience + Migration Space Trend Stratified Z-score Class\n",
    "arcpy.FeatureToRaster_conversion(\"VAtidal65\", \"RESILssBZ\", \"NEtidal60\")"
   ]
  },
  {
   "cell_type": "code",
   "execution_count": 15,
   "metadata": {},
   "outputs": [],
   "source": [
    "# create remap table\n",
    "remap = arcpy.sa.RemapValue([[\"'Far Above Average'\", 7],[\"'Above Average'\", 6],[\"'Slightly Above Average'\", 5], [\"'Average'\", 4],[\"'Slightly Below Average'\", 3],[\"'Below Average'\", 2],[\"'Far Below Average'\", 1]])                                                                                                                                  "
   ]
  },
  {
   "cell_type": "code",
   "execution_count": 16,
   "metadata": {},
   "outputs": [],
   "source": [
    "# reclassify\n",
    "out_raster = arcpy.sa.Reclassify(\"GOMtidal65\", \"RESILB1stC\", remap, \"DATA\"); out_raster.save(\"GOMtidal65rclss\")\n",
    "out_raster = arcpy.sa.Reclassify(\"SAtidal65\", \"RESILB1stC\", remap, \"DATA\"); out_raster.save(\"SAtidal65rclss\")\n",
    "out_raster = arcpy.sa.Reclassify(\"GOMmig65\", \"RESILB1stC\", remap, \"DATA\"); out_raster.save(\"GOMmig65rclss\")\n",
    "out_raster = arcpy.sa.Reclassify(\"SAmig65\", \"RESILB1stC\", remap, \"DATA\"); out_raster.save(\"SAmig65rclss\")\n",
    "out_raster = arcpy.sa.Reclassify(\"GOMmig40\", \"RESILB1stC\", remap, \"DATA\"); out_raster.save(\"GOMmig40rclss\")\n",
    "out_raster = arcpy.sa.Reclassify(\"SAmig40\", \"RESILB1stC\", remap, \"DATA\"); out_raster.save(\"SAmig40rclss\")\n",
    "out_raster = arcpy.sa.Reclassify(\"GOMmig30\", \"RESILB1stC\", remap, \"DATA\"); out_raster.save(\"GOMmig30rclss\")\n",
    "out_raster = arcpy.sa.Reclassify(\"SAmig30\", \"RESILB1stC\", remap, \"DATA\"); out_raster.save(\"SAmig30rclss\")\n",
    "out_raster = arcpy.sa.Reclassify(\"GOMmig15\", \"RESILB1stC\", remap, \"DATA\"); out_raster.save(\"GOMmig15rclss\")\n",
    "out_raster = arcpy.sa.Reclassify(\"SAmig15\", \"RESILB1stC\", remap, \"DATA\"); out_raster.save(\"SAmig15rclss\")\n",
    "out_raster = arcpy.sa.Reclassify(\"GOMadmig65\", \"RESILB1stC\", remap, \"DATA\"); out_raster.save(\"GOMadmig65rclss\")\n",
    "out_raster = arcpy.sa.Reclassify(\"SAadmig65\", \"RESILB1stC\", remap, \"DATA\"); out_raster.save(\"SAadmig65rclss\")\n",
    "out_raster = arcpy.sa.Reclassify(\"GOMadmig40\", \"RESILB1stC\", remap, \"DATA\"); out_raster.save(\"GOMadmig40rclss\")\n",
    "out_raster = arcpy.sa.Reclassify(\"SAadmig40\", \"RESILB1stC\", remap, \"DATA\"); out_raster.save(\"SAadmig40rclss\")\n",
    "out_raster = arcpy.sa.Reclassify(\"GOMadmig30\", \"RESILB1stC\", remap, \"DATA\"); out_raster.save(\"GOMadmig30rclss\")\n",
    "out_raster = arcpy.sa.Reclassify(\"SAadmig30\", \"RESILB1stC\", remap, \"DATA\"); out_raster.save(\"SAadmig30rclss\")\n",
    "out_raster = arcpy.sa.Reclassify(\"GOMadmig15\", \"RESILB1stC\", remap, \"DATA\"); out_raster.save(\"GOMadmig15rclss\")\n",
    "out_raster = arcpy.sa.Reclassify(\"SAadmig15\", \"RESILB1stC\", remap, \"DATA\"); out_raster.save(\"SAadmig15rclss\")"
   ]
  },
  {
   "cell_type": "code",
   "execution_count": 17,
   "metadata": {},
   "outputs": [],
   "source": [
    "outReclassify = Reclassify(\"NEtidal60\", \"RESILssBZ\", remap, \"NODATA\")\n",
    "outReclassify.save(\"NEtidal60rclss\")"
   ]
  },
  {
   "cell_type": "markdown",
   "metadata": {},
   "source": [
    "### combine all the coastal resilence data into one layer"
   ]
  },
  {
   "cell_type": "code",
   "execution_count": 30,
   "metadata": {},
   "outputs": [],
   "source": [
    "# combine rasters, keeping max value\n",
    "out_raster = arcpy.sa.CellStatistics([\\\n",
    "\"GOMtidal65rclss\",\"SAtidal65rclss\",\\\n",
    "\"GOMmig65rclss\",\"SAmig65rclss\",\"GOMmig40rclss\",\"SAmig40rclss\",\"GOMmig30rclss\",\"SAmig30rclss\",\"GOMmig15rclss\",\"SAmig15rclss\",\\\n",
    "\"GOMadmig65rclss\",\"SAadmig65rclss\",\"GOMadmig40rclss\",\"SAadmig40rclss\",\"GOMadmig30rclss\",\"SAadmig30rclss\",\"GOMadmig15rclss\",\"SAadmig15rclss\",],\\\n",
    "\"MAXIMUM\", \"DATA\", \"SINGLE_BAND\"); out_raster.save(\"CoastalMax\")"
   ]
  },
  {
   "cell_type": "code",
   "execution_count": 38,
   "metadata": {},
   "outputs": [
    {
     "data": {
      "text/html": [
       "<h2>Output</h2>C:\\Data\\ResilientSites\\CoastalResilient.gdb\\VAcoastal<h2>Messages</h2>Start Time: Tuesday, February 22, 2022 2:33:56 PM<br/>C:\\Data\\ResilientSites\\CoastalResilient.gdb\\CoastalMax is loading...<br/>C:\\Data\\ResilientSites\\CoastalResilient.gdb\\NEtidal60rclss is loading...<br/>Succeeded at Tuesday, February 22, 2022 2:46:50 PM (Elapsed Time: 12 minutes 54 seconds)<br/><style>.rendered_html td, .rendered_html th {text-align: left;}.rendered_html tbody {border: 1px solid black;}</style>"
      ],
      "text/plain": [
       "<Result 'C:\\\\Data\\\\ResilientSites\\\\CoastalResilient.gdb\\\\VAcoastal'>"
      ]
     },
     "execution_count": 38,
     "metadata": {},
     "output_type": "execute_result"
    }
   ],
   "source": [
    "# Mosaic NE Raster\n",
    "arcpy.MosaicToNewRaster_management(\"CoastalMax;NEtidal60rclss\", OutWorkspace,\"VAcoastal\", None, \"8_BIT_UNSIGNED\", None, 1, \"FIRST\",\"FIRST\")\n",
    "# add attribute table\n",
    "arcpy.management.BuildRasterAttributeTable(\"VAcoastal\", \"NONE\")"
   ]
  },
  {
   "cell_type": "markdown",
   "metadata": {},
   "source": [
    "### Finalize indiator\n",
    "\n",
    "do final steps for all indicators to add description fields, clip and export to SE extent, clip and export to SA extent"
   ]
  },
  {
   "cell_type": "code",
   "execution_count": 41,
   "metadata": {},
   "outputs": [],
   "source": [
    "# set code block for next step\n",
    "\n",
    "codeblock = \"\"\"\n",
    "def Reclass(v):\n",
    "\tif v == 7:\n",
    "\t\treturn '7 = Most resilient'\n",
    "\telif v == 6:\n",
    "\t\treturn '6 = More resilient'\n",
    "\telif v == 5:\n",
    "\t\treturn '5 = Slightly more resilient'\n",
    "\telif v == 4:\n",
    "\t\treturn '4 = Average/median resilience'\n",
    "\telif v == 3:\n",
    "\t\treturn '3 = Slightly less resilient'\n",
    "\telif v == 2:\n",
    "\t\treturn '2 = Less resilient'\n",
    "\telif v == 1:\n",
    "\t\treturn '1 = Least resilient'\n",
    "\telif v == 0:\n",
    "\t\treturn '0 = Developed'\n",
    "\"\"\""
   ]
  },
  {
   "cell_type": "code",
   "execution_count": 42,
   "metadata": {},
   "outputs": [
    {
     "data": {
      "text/html": [
       "<h2>Output</h2>a Layer object<h2>Messages</h2>Start Time: Tuesday, February 22, 2022 3:25:00 PM<br/>Adding descript to VAT_VAcoastal...<br/>Succeeded at Tuesday, February 22, 2022 3:25:00 PM (Elapsed Time: 0.51 seconds)<br/><style>.rendered_html td, .rendered_html th {text-align: left;}.rendered_html tbody {border: 1px solid black;}</style>"
      ],
      "text/plain": [
       "<Result 'VAcoastal'>"
      ]
     },
     "execution_count": 42,
     "metadata": {},
     "output_type": "execute_result"
    }
   ],
   "source": [
    "# add and calculate description field to hold indicator values\n",
    "arcpy.management.CalculateField(\"VAcoastal\", \"descript\", \"Reclass(!Value!)\", \"PYTHON3\", codeblock, \"TEXT\")"
   ]
  },
  {
   "cell_type": "code",
   "execution_count": 43,
   "metadata": {},
   "outputs": [],
   "source": [
    "# set code block for next step\n",
    "codeblock = \"\"\"\n",
    "def Reclass1(Value):\n",
    "\tif Value == 7:\n",
    "\t\treturn 32\n",
    "\tif Value == 6:\n",
    "\t\treturn 94\n",
    "\tif Value == 5:\n",
    "\t\treturn 169\n",
    "\tif Value == 4:\n",
    "\t\treturn 255\n",
    "\tif Value == 3:\n",
    "\t\treturn 224\n",
    "\tif Value == 2:\n",
    "\t\treturn 191\n",
    "\tif Value == 1:\n",
    "\t\treturn 156\n",
    "\tif Value == 0:\n",
    "\t\treturn 156\n",
    "\telse:\n",
    "\t\treturn 255\n",
    "\t\t\n",
    "def Reclass2(Value):\n",
    "\tif Value == 7:\n",
    "\t\treturn 89\n",
    "\tif Value == 6:\n",
    "\t\treturn 138\n",
    "\tif Value == 5:\n",
    "\t\treturn 194\n",
    "\tif Value == 4:\n",
    "\t\treturn 255\n",
    "\tif Value == 3:\n",
    "\t\treturn 192\n",
    "\tif Value == 2:\n",
    "\t\treturn 135\n",
    "\tif Value == 1:\n",
    "\t\treturn 85\n",
    "\tif Value == 0:\n",
    "\t\treturn 156\n",
    "\telse:\n",
    "\t\treturn 255\n",
    "\t\t\n",
    "def Reclass3(Value):\n",
    "\tif Value == 7:\n",
    "\t\treturn 5\n",
    "\tif Value == 6:\n",
    "\t\treturn 58\n",
    "\tif Value == 5:\n",
    "\t\treturn 118\n",
    "\tif Value == 4:\n",
    "\t\treturn 191\n",
    "\tif Value == 3:\n",
    "\t\treturn 128\n",
    "\tif Value == 2:\n",
    "\t\treturn 75\n",
    "\tif Value == 1:\n",
    "\t\treturn 31\n",
    "\tif Value == 0:\n",
    "\t\treturn 156\n",
    "\telse:\n",
    "\t\treturn 255\n",
    "\"\"\""
   ]
  },
  {
   "cell_type": "code",
   "execution_count": 44,
   "metadata": {},
   "outputs": [
    {
     "data": {
      "text/html": [
       "<h2>Output</h2>a Layer object<h2>Messages</h2>Start Time: Tuesday, February 22, 2022 3:25:09 PM<br/>Adding Blue to VAT_VAcoastal...<br/>Succeeded at Tuesday, February 22, 2022 3:25:10 PM (Elapsed Time: 0.41 seconds)<br/><style>.rendered_html td, .rendered_html th {text-align: left;}.rendered_html tbody {border: 1px solid black;}</style>"
      ],
      "text/plain": [
       "<Result 'VAcoastal'>"
      ]
     },
     "execution_count": 44,
     "metadata": {},
     "output_type": "execute_result"
    }
   ],
   "source": [
    "# calculate Red field\n",
    "arcpy.management.CalculateField(\"VAcoastal\", \"Red\", \"Reclass1(!Value!)\", \"PYTHON3\", codeblock, \"SHORT\")\n",
    "# calculate Green field\n",
    "arcpy.management.CalculateField(\"VAcoastal\", \"Green\", \"Reclass2(!Value!)\", \"PYTHON3\", codeblock, \"SHORT\")\n",
    "# calculate Blue field\n",
    "arcpy.management.CalculateField(\"VAcoastal\", \"Blue\", \"Reclass3(!Value!)\", \"PYTHON3\", codeblock, \"SHORT\")"
   ]
  },
  {
   "cell_type": "code",
   "execution_count": 45,
   "metadata": {},
   "outputs": [],
   "source": [
    "# clip to SE 2022 Blueprint extent\n",
    "with arcpy.EnvManager(outputCoordinateSystem=sr, extent=SEraster, snapRaster=SEraster, cellSize=SEraster):\n",
    "    out_raster = arcpy.sa.ExtractByMask(\"VAcoastal\", SEraster); out_raster.save(\"SEMask\")"
   ]
  },
  {
   "cell_type": "code",
   "execution_count": 46,
   "metadata": {},
   "outputs": [],
   "source": [
    "# export as .tif with SE extent\n",
    "with arcpy.EnvManager(outputCoordinateSystem=sr, extent=SEraster, snapRaster=SEraster, cellSize=SEraster):\n",
    "    arcpy.management.CopyRaster(\"SEMask\", SEout , '', None, \"255\", \"NONE\", \"NONE\", \"8_BIT_UNSIGNED\", \"NONE\", \"NONE\", \"TIFF\", \"NONE\", \"CURRENT_SLICE\", \"NO_TRANSPOSE\")"
   ]
  },
  {
   "cell_type": "markdown",
   "metadata": {},
   "source": [
    "## Possible fix to our coastal problems - missing VA and our codes not matching TNCs "
   ]
  },
  {
   "cell_type": "code",
   "execution_count": null,
   "metadata": {},
   "outputs": [],
   "source": [
    "# load most recent/publc conus terra and coastal to extract coastal \n",
    "Res = r\"C:\\Data\\ResilientSites\\TNCconus20220218\\Resilience_Terrestrial_and_Coastal_conus_region\\Resilience_Conus_Region.gdb\\Resilience_terrestial_and_coastal\"\n",
    "\n",
    "# cZone inported above"
   ]
  },
  {
   "cell_type": "code",
   "execution_count": null,
   "metadata": {},
   "outputs": [],
   "source": [
    "# clip conus res to coast\n",
    "outExtractByMask = ExtractByMask(Res, cZone)\n",
    "outExtractByMask.save(\"SEcoastRaw\")"
   ]
  },
  {
   "cell_type": "code",
   "execution_count": null,
   "metadata": {},
   "outputs": [],
   "source": []
  }
 ],
 "metadata": {
  "kernelspec": {
   "display_name": "ArcGISPro",
   "language": "Python",
   "name": "python3"
  },
  "language_info": {
   "file_extension": ".py",
   "name": "python",
   "version": "3"
  }
 },
 "nbformat": 4,
 "nbformat_minor": 2
}
