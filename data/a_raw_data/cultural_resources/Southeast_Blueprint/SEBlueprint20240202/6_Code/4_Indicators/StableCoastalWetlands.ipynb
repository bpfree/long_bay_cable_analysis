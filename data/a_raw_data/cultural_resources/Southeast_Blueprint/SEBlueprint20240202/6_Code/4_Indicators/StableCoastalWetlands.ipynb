{
 "cells": [
  {
   "cell_type": "markdown",
   "metadata": {},
   "source": [
    "# Stable Coastal Wetlands \n",
    "Created by Blair Tirpak in 2022. Updated 5/19/2023 to add values for unstable coastal wetlands and stables wetlands with high uncertainty as well as overall extent. Updated 8/29/2023 to update color and legend. "
   ]
  },
  {
   "cell_type": "markdown",
   "metadata": {},
   "source": [
    "Calcuate standard deviation of UVVR yearly rasters to calc confidence"
   ]
  },
  {
   "cell_type": "markdown",
   "metadata": {},
   "source": [
    "## GOM"
   ]
  },
  {
   "cell_type": "code",
   "execution_count": 8,
   "metadata": {},
   "outputs": [],
   "source": [
    "# import arcpy and set enviorments\n",
    "\n",
    "import arcpy\n",
    "from arcpy import env\n",
    "from arcpy.sa import *\n",
    "\n",
    "# set enviorments\n",
    "env.workspace = r\"C:\\Data\\Indicators\\CoastalMarsh\\CoastalMarsh2023.gdb\"\n",
    "\n",
    "# Final Extent\n",
    "extent = r\"C:\\Data\\Indicators\\BaseBlueprintExtent2022.tif\"\n",
    "\n",
    "# define final outputs\n",
    "SEout = r\"C:\\Data\\Indicators\\CoastalMarsh\\CoastalMarsh\\StableCoastalWetlands.tif\""
   ]
  },
  {
   "cell_type": "code",
   "execution_count": 8,
   "metadata": {},
   "outputs": [],
   "source": [
    "# extract UVVR band from composite raster\n",
    "arcpy.env.snapRaster = r\"C:\\Data\\Indicators\\CoastalMarsh\\GOM\\L8_2014_GOM_Unveg_Veg_Water_UVVR.tif\"\n",
    "arcpy.env.cellSize =  r\"C:\\Data\\Indicators\\CoastalMarsh\\GOM\\L8_2014_GOM_Unveg_Veg_Water_UVVR.tif\"\n",
    "\n",
    "G14 = arcpy.ia.ExtractBand( r\"F:\\Blueprint\\2022\\2022Indicators\\SaltMarshIndex\\SaltMarsh\\L8_2014_GOM_Unveg_Veg_Water_UVVR.tif\", 4)\n",
    "G14.save(\"G14\")\n",
    "G15 = arcpy.ia.ExtractBand( r\"F:\\Blueprint\\2022\\2022Indicators\\SaltMarshIndex\\SaltMarsh\\L8_2015_GOM_Unveg_Veg_Water_UVVR.tif\", 4)\n",
    "G15.save(\"G15\")\n",
    "G16 = arcpy.ia.ExtractBand( r\"F:\\Blueprint\\2022\\2022Indicators\\SaltMarshIndex\\SaltMarsh\\L8_2016_GOM_Unveg_Veg_Water_UVVR.tif\", 4)\n",
    "G16.save(\"G16\")\n",
    "G17 = arcpy.ia.ExtractBand( r\"F:\\Blueprint\\2022\\2022Indicators\\SaltMarshIndex\\SaltMarsh\\L8_2017_GOM_Unveg_Veg_Water_UVVR.tif\", 4)\n",
    "G17.save(\"G17\")\n",
    "G18 = arcpy.ia.ExtractBand( r\"F:\\Blueprint\\2022\\2022Indicators\\SaltMarshIndex\\SaltMarsh\\L8_2018_GOM_Unveg_Veg_Water_UVVR.tif\", 4)\n",
    "G18.save(\"G18\")"
   ]
  },
  {
   "cell_type": "code",
   "execution_count": 9,
   "metadata": {},
   "outputs": [],
   "source": [
    "# calculate mean and SD of UVVR 2014-2018\n",
    "\n",
    "Gmean = arcpy.sa.CellStatistics(\"G14;G15;G16;G17;G18\", \"MEAN\", \"NODATA\", \"SINGLE_BAND\"); \n",
    "Gmeanr.save(\"Gmean\")                    \n",
    "\n",
    "Gsd = arcpy.sa.CellStatistics(\"G14;G15;G16;G17;G18\", \"STD\", \"NODATA\", \"SINGLE_BAND\"); \n",
    "Gsd.save(\"Gsd\")"
   ]
  },
  {
   "cell_type": "code",
   "execution_count": 2,
   "metadata": {},
   "outputs": [],
   "source": [
    "## extract stable marsh mean and SD <= 0.15\n",
    "\n",
    "# mulitple raster by 1000 to convert to integer\n",
    "Gmean_1000 = arcpy.sa.Times(\"Gmean\", 1000); Gmean_1000.save(\"Gmean_1000\")\n",
    "    \n",
    "Gsd_1000 = arcpy.sa.Times(\"Gsd\", 1000); Gsd_1000.save(\"Gsd_1000\")\n",
    "\n",
    "# convert to integer\n",
    "Gmean_1000_int = arcpy.ia.Int(\"Gmean_1000\"); Gmean_1000_int.save(\"Gmean_1000_int\")\n",
    "\n",
    "Gsd_1000_int = arcpy.ia.Int(\"Gsd_1000\"); Gsd_1000_int.save(\"Gsd_1000_int\")\n",
    "\n",
    "# extract only stable marsh; <= 0.15\n",
    "Gmean_1000_int_15 = arcpy.sa.Reclassify(\"Gmean_1000_int\", \"Value\", \"0 150 1;151 3203996160 NODATA\", \"DATA\"); Gmean_1000_int_15.save(\"Gmean_1000_int_15\")\n",
    "\n",
    "Gsd_1000_int_15 = arcpy.sa.Reclassify(\"Gsd_1000_int\", \"Value\", \"0 150 1;151 4090510592 NODATA\", \"DATA\"); Gsd_1000_int_15.save(\"Gsd_1000_int_15\")"
   ]
  },
  {
   "cell_type": "code",
   "execution_count": 3,
   "metadata": {},
   "outputs": [],
   "source": [
    "# find areas that meet both thresholds; stable marsh - full extent\n",
    "GOM_StableMarsh_all = arcpy.sa.Times(\"Gmean_1000_int_15\", \"Gsd_1000_int_15\"); GOM_StableMarsh_all.save(\"GOM_StableMarsh_all\")"
   ]
  },
  {
   "cell_type": "code",
   "execution_count": 5,
   "metadata": {},
   "outputs": [],
   "source": [
    "# define spatial reference\n",
    "sr= arcpy.SpatialReference(5070)\n",
    "\n",
    "arcpy.env.snapRaster = r\"C:\\Data\\Indicators\\BaseBlueprintExtent2022.tif\"\n",
    "arcpy.env.cellSize = r\"C:\\Data\\Indicators\\BaseBlueprintExtent2022.tif\""
   ]
  },
  {
   "cell_type": "code",
   "execution_count": 4,
   "metadata": {},
   "outputs": [
    {
     "data": {
      "text/html": [
       "<div class='gpresult'><h2>Messages</h2><div id='messages' data-messages='[\"Start Time: Friday, June 2, 2023 2:14:46 PM\",\"Succeeded at Friday, June 2, 2023 2:16:54 PM (Elapsed Time: 2 minutes 7 seconds)\"]' data-show='true'><div id = 'default' /></div></div>"
      ],
      "text/plain": [
       "<Result 'C:\\\\Data\\\\Indicators\\\\CoastalMarsh\\\\CoastalMarsh2023.gdb\\\\GOM_StableMarsh_allP'>"
      ]
     },
     "execution_count": 4,
     "metadata": {},
     "output_type": "execute_result"
    }
   ],
   "source": [
    "# define spatial reference\n",
    "sr= arcpy.SpatialReference(5070)\n",
    "\n",
    "arcpy.env.snapRaster = r\"C:\\Data\\Indicators\\BaseBlueprintExtent2022.tif\"\n",
    "arcpy.env.cellSize = r\"C:\\Data\\Indicators\\BaseBlueprintExtent2022.tif\"\n",
    "\n",
    "# project rasters\n",
    "\n",
    "arcpy.management.ProjectRaster(\"GOM_StableMarsh_all\", \"GOM_StableMarsh_allP\", sr,  \"BILINEAR\", \"30 30\", \"WGS_1984_(ITRF00)_To_NAD_1983\", \"#\", \"#\", \"NO_VERTICAL\")"
   ]
  },
  {
   "cell_type": "markdown",
   "metadata": {},
   "source": [
    "### create GOM Extent RAster"
   ]
  },
  {
   "cell_type": "code",
   "execution_count": null,
   "metadata": {},
   "outputs": [],
   "source": [
    "# define spatial reference\n",
    "sr= arcpy.SpatialReference(5070)\n",
    "\n",
    "arcpy.env.snapRaster = r\"C:\\Data\\Indicators\\BaseBlueprintExtent2022.tif\"\n",
    "arcpy.env.cellSize = r\"C:\\Data\\Indicators\\BaseBlueprintExtent2022.tif\"\n",
    "\n",
    "# project rasters\n",
    "#arcpy.management.ProjectRaster(\"Gmean\", \"GmeanP\", sr, \"BILINEAR\", \"30 30\", \"WGS_1984_(ITRF00)_To_NAD_1983\", \"#\", \"#\", \"NO_VERTICAL\")\n",
    "arcpy.management.ProjectRaster(\"Gsd\", \"GsdP\", sr,  \"BILINEAR\", \"30 30\", \"WGS_1984_(ITRF00)_To_NAD_1983\", \"#\", \"#\", \"NO_VERTICAL\")"
   ]
  },
  {
   "cell_type": "code",
   "execution_count": 5,
   "metadata": {},
   "outputs": [],
   "source": [
    "## For reference\n",
    "# define spatial reference\n",
    "sr= arcpy.SpatialReference(5070)\n",
    "\n",
    "arcpy.env.snapRaster = r\"C:\\Data\\Indicators\\BaseBlueprintExtent2022.tif\"\n",
    "arcpy.env.cellSize = r\"C:\\Data\\Indicators\\BaseBlueprintExtent2022.tif\""
   ]
  },
  {
   "cell_type": "markdown",
   "metadata": {},
   "source": [
    "### Make GOM Extent raster"
   ]
  },
  {
   "cell_type": "code",
   "execution_count": 7,
   "metadata": {},
   "outputs": [],
   "source": [
    "# Reclass to 0 \n",
    "GMax = arcpy.GetRasterProperties_management(\"GsdP\", \"MAXIMUM\")\n",
    "GMax\n",
    "\n",
    "remap = RemapRange([[0, GMax, 0]]) \n",
    "\n",
    "GOM_extent = arcpy.sa.Reclassify(\"GsdP\", \"VALUE\", remap, \"DATA\"); \n",
    "GOM_extent.save(\"GOM_extent\")"
   ]
  },
  {
   "cell_type": "markdown",
   "metadata": {
    "heading_collapsed": true
   },
   "source": [
    "## ATL "
   ]
  },
  {
   "cell_type": "code",
   "execution_count": 20,
   "metadata": {
    "hidden": true
   },
   "outputs": [],
   "source": [
    "# import arcpy and set enviorments\n",
    "\n",
    "import arcpy\n",
    "from arcpy import env\n",
    "from arcpy.sa import *\n",
    "\n",
    "# set enviorments\n",
    "env.workspace = r\"F:\\Blueprint\\2023Indicators\\CoastalMarsh\\CoastalMarsh2023.gdb\"\n",
    "\n",
    "arcpy.env.snapRaster = r\"F:\\Blueprint\\2022\\2022Indicators\\SaltMarshIndex\\ATL\\L8_2014_ATL_Unveg_Veg_Water_UVVR.tif\"\n",
    "arcpy.env.cellSize = r\"F:\\Blueprint\\2022\\2022Indicators\\SaltMarshIndex\\ATL\\L8_2014_ATL_Unveg_Veg_Water_UVVR.tif\""
   ]
  },
  {
   "cell_type": "code",
   "execution_count": 19,
   "metadata": {
    "hidden": true
   },
   "outputs": [],
   "source": [
    "# extract UVVR band from composite raster\n",
    "A14 = arcpy.ia.ExtractBand(r\"F:\\Blueprint\\2022\\2022Indicators\\SaltMarshIndex\\ATL\\L8_2014_ATL_Unveg_Veg_Water_UVVR.tif\", 4)\n",
    "A14.save(\"A14\")\n",
    "\n",
    "A15 = arcpy.ia.ExtractBand(r\"F:\\Blueprint\\2022\\2022Indicators\\SaltMarshIndex\\ATL\\L8_2015_ATL_Unveg_Veg_Water_UVVR.tif\", 4)\n",
    "A15.save(\"A15\")\n",
    "\n",
    "A16 = arcpy.ia.ExtractBand(r\"F:\\Blueprint\\2022\\2022Indicators\\SaltMarshIndex\\ATL\\L8_2016_ATL_Unveg_Veg_Water_UVVR.tif\", 4)\n",
    "A16.save(\"A16\")\n",
    "\n",
    "A17 = arcpy.ia.ExtractBand(r\"F:\\Blueprint\\2022\\2022Indicators\\SaltMarshIndex\\ATL\\L8_2017_ATL_Unveg_Veg_Water_UVVR.tif\", 4)\n",
    "A17.save(\"A17\")\n",
    "\n",
    "A18 = arcpy.ia.ExtractBand(r\"F:\\Blueprint\\2022\\2022Indicators\\SaltMarshIndex\\ATL\\L8_2018_ATL_Unveg_Veg_Water_UVVR.tif\", 4)\n",
    "A18.save(\"A18\")"
   ]
  },
  {
   "cell_type": "code",
   "execution_count": 20,
   "metadata": {
    "hidden": true
   },
   "outputs": [],
   "source": [
    "# calculate mean and SD of UVVR 2014-2018\n",
    "AMean = arcpy.sa.CellStatistics(\"A14;A15;A16;A17;A18\", \"MEAN\", \"NODATA\", \"SINGLE_BAND\"); \n",
    "AMean.save(\"AMean\")                    \n",
    "\n",
    "Asd = arcpy.sa.CellStatistics(\"A14;A15;A16;A17;A18\", \"STD\", \"NODATA\", \"SINGLE_BAND\"); \n",
    "Asd.save(\"Asd\")"
   ]
  },
  {
   "cell_type": "code",
   "execution_count": 11,
   "metadata": {
    "hidden": true
   },
   "outputs": [],
   "source": [
    "# reclassify rasters\n",
    "Amean_1000 = arcpy.sa.Times(\"Amean\", 1000); Amean_1000.save(\"Amean_1000\")    \n",
    "Asd_1000 = arcpy.sa.Times(\"Asd\", 1000); Asd_1000.save(\"Asd_1000\")"
   ]
  },
  {
   "cell_type": "code",
   "execution_count": 13,
   "metadata": {
    "hidden": true
   },
   "outputs": [],
   "source": [
    "# convert to integer\n",
    "Amean_1000_int = arcpy.ia.Int(\"Amean_1000\"); Amean_1000_int.save(\"Amean_1000_int\")\n",
    "\n",
    "Asd_1000_int = arcpy.ia.Int(\"Asd_1000\"); Asd_1000_int.save(\"Asd_1000_int\")"
   ]
  },
  {
   "cell_type": "code",
   "execution_count": 21,
   "metadata": {
    "hidden": true
   },
   "outputs": [],
   "source": [
    " # extract only stable marsh; <= 0.15\n",
    "Amean_1000_int_15 = arcpy.sa.Reclassify(\"Amean_1000_int\", \"Value\", \"0 150 1;151 4210423808 NODATA\", \"DATA\"); \n",
    "Amean_1000_int_15.save(\"Amean_1000_int_15\")\n",
    "\n",
    "Asd_1000_int_15 = arcpy.sa.Reclassify(\"Asd_1000_int\", \"Value\", \"0 150 1;151 4124790784 NODATA\", \"DATA\"); \n",
    "Asd_1000_int_15.save(\"Asd_1000_int_15\")"
   ]
  },
  {
   "cell_type": "code",
   "execution_count": 22,
   "metadata": {
    "hidden": true
   },
   "outputs": [],
   "source": [
    "# find areas that meet both thresholds\n",
    "\n",
    "ATL_StableMarsh_all = arcpy.sa.Times(\"Amean_1000_int_15\", \"Asd_1000_int_15\"); ATL_StableMarsh_all.save(\"ATL_StableMarsh_all\")"
   ]
  },
  {
   "cell_type": "code",
   "execution_count": 23,
   "metadata": {
    "hidden": true
   },
   "outputs": [
    {
     "data": {
      "text/html": [
       "<div class='gpresult'><h2>Messages</h2><div id='messages' data-messages='[\"Start Time: Friday, June 2, 2023 3:49:30 PM\",\"Succeeded at Friday, June 2, 2023 3:54:32 PM (Elapsed Time: 5 minutes 1 seconds)\"]' data-show='true'><div id = 'default' /></div></div>"
      ],
      "text/plain": [
       "<Result 'F:\\\\Blueprint\\\\2023Indicators\\\\CoastalMarsh\\\\CoastalMarsh2023.gdb\\\\ATL_StableMarsh_allP'>"
      ]
     },
     "execution_count": 23,
     "metadata": {},
     "output_type": "execute_result"
    }
   ],
   "source": [
    "# define spatial reference\n",
    "sr= arcpy.SpatialReference(5070)\n",
    "\n",
    "arcpy.env.snapRaster = r\"C:\\Data\\Indicators\\BaseBlueprintExtent2022.tif\"\n",
    "arcpy.env.cellSize = r\"C:\\Data\\Indicators\\BaseBlueprintExtent2022.tif\"\n",
    "\n",
    "# project rasters\n",
    "arcpy.management.ProjectRaster(\"ATL_StableMarsh_all\", \"ATL_StableMarsh_allP\", sr,  \"BILINEAR\", \"30 30\", \"WGS_1984_(ITRF00)_To_NAD_1983\", \"#\", \"#\", \"NO_VERTICAL\")"
   ]
  },
  {
   "cell_type": "code",
   "execution_count": 24,
   "metadata": {
    "hidden": true
   },
   "outputs": [],
   "source": [
    "# clip ATL rasters to BP extent\n",
    "ATL_StableMarsh_all_SE = ExtractByMask(\"ATL_StableMarsh_allP\", extent); ATL_StableMarsh_all_SE.save(\"ATL_StableMarsh_all_SE\")"
   ]
  },
  {
   "cell_type": "code",
   "execution_count": 14,
   "metadata": {
    "hidden": true
   },
   "outputs": [],
   "source": [
    "#### NEED THIS???\n",
    "#out_raster = arcpy.sa.Reclassify(\"ATL_StableMarsh_all\", \"Value\", \"0 10 1;100 100 2\", \"DATA\"); \n",
    "#out_raster.save(\"ATL_StableMarsh_full\")\n"
   ]
  },
  {
   "cell_type": "code",
   "execution_count": null,
   "metadata": {
    "hidden": true
   },
   "outputs": [],
   "source": []
  },
  {
   "cell_type": "markdown",
   "metadata": {
    "hidden": true
   },
   "source": [
    "### Make ATL Extent raster"
   ]
  },
  {
   "cell_type": "code",
   "execution_count": 26,
   "metadata": {
    "hidden": true
   },
   "outputs": [],
   "source": [
    "# define spatial reference\n",
    "sr= arcpy.SpatialReference(5070)\n",
    "\n",
    "arcpy.env.snapRaster = r\"C:\\Data\\Indicators\\BaseBlueprintExtent2022.tif\"\n",
    "arcpy.env.cellSize = r\"C:\\Data\\Indicators\\BaseBlueprintExtent2022.tif\"\n",
    "\n",
    "# project rasters\n",
    "#arcpy.management.ProjectRaster(\"Amean\", \"AmeanP\", sr, \"BILINEAR\", \"30 30\", \"WGS_1984_(ITRF00)_To_NAD_1983\", \"#\", \"#\", \"NO_VERTICAL\")\n",
    "arcpy.management.ProjectRaster(\"Asd\", \"AsdP\", sr,  \"BILINEAR\", \"30 30\", \"WGS_1984_(ITRF00)_To_NAD_1983\", \"#\", \"#\", \"NO_VERTICAL\")\n",
    "\n",
    "# clip to SE BP extent\n",
    "AsdP_SE = ExtractByMask(\"AsdP\", extent); AsdP_SE.save(\"AsdP_SE\")"
   ]
  },
  {
   "cell_type": "code",
   "execution_count": 27,
   "metadata": {
    "hidden": true
   },
   "outputs": [],
   "source": [
    "# clip to SE BP extent\n",
    "AsdP_SE = ExtractByMask(\"AsdP\", extent); AsdP_SE.save(\"AsdP_SE\")"
   ]
  },
  {
   "cell_type": "code",
   "execution_count": 28,
   "metadata": {
    "hidden": true
   },
   "outputs": [],
   "source": [
    "# Reclass SD raster to 0 for extent\n",
    "# identify max for reclass\n",
    "AMax = arcpy.GetRasterProperties_management(\"AsdP_SE\", \"MAXIMUM\")\n",
    "AMax\n",
    "\n",
    "# set up local variables\n",
    "remap = RemapRange([[0, AMax, 0]]) \n",
    "\n",
    "# Execute Reclassify\n",
    "ATL_extent = Reclassify(\"AsdP_SE\", \"VALUE\", remap)\n",
    "ATL_extent.save(\"ATL_extent\")\n"
   ]
  },
  {
   "cell_type": "code",
   "execution_count": 32,
   "metadata": {
    "hidden": true
   },
   "outputs": [
    {
     "data": {
      "text/html": [
       "<div class='gpresult'><h2>Messages</h2><div id='messages' data-messages='[\"Start Time: Tuesday, June 6, 2023 12:48:36 PM\",\"GOM_extent is loading...\",\"ATL_extent is loading...\",\"Succeeded at Tuesday, June 6, 2023 1:03:34 PM (Elapsed Time: 14 minutes 58 seconds)\"]' data-show='true'><div id = 'default' /></div></div>"
      ],
      "text/plain": [
       "<Result 'C:\\\\Data\\\\Indicators\\\\CoastalMarsh\\\\CoastalMarsh2023.gdb\\\\SE_extent'>"
      ]
     },
     "execution_count": 32,
     "metadata": {},
     "output_type": "execute_result"
    }
   ],
   "source": [
    "## Merge Extents\n",
    "arcpy.MosaicToNewRaster_management(\"GOM_extent;ATL_extent\", env.workspace, \"SE_extent\",  sr,\\\n",
    "                                   \"8_BIT_UNSIGNED\", \"30\", \"1\", \"MAXIMUM\",\"FIRST\")"
   ]
  },
  {
   "cell_type": "markdown",
   "metadata": {
    "heading_collapsed": true
   },
   "source": [
    "## NWI formating"
   ]
  },
  {
   "cell_type": "markdown",
   "metadata": {
    "hidden": true
   },
   "source": [
    "### Extract wetlands"
   ]
  },
  {
   "cell_type": "code",
   "execution_count": 26,
   "metadata": {
    "hidden": true
   },
   "outputs": [
    {
     "data": {
      "text/html": [
       "<div class='gpresult'><h2>Messages</h2><div id='messages' data-messages='[\"Start Time: Sunday, May 21, 2023 10:00:44 PM\",\"Succeeded at Sunday, May 21, 2023 10:01:33 PM (Elapsed Time: 48.92 seconds)\"]' data-show='true'><div id = 'default' /></div></div>"
      ],
      "text/plain": [
       "<Result 'F:\\\\Blueprint\\\\2023Indicators\\\\CoastalMarsh\\\\CoastalMarsh2023.gdb\\\\TX_Wetlands_coastal'>"
      ]
     },
     "execution_count": 26,
     "metadata": {},
     "output_type": "execute_result"
    }
   ],
   "source": [
    "# Select for coastal wetlands including estuarine intertidal and tidal and freshwater wetlands\n",
    "\n",
    "arcpy.analysis.Select(r\"F:\\Blueprint\\2022\\2022Indicators\\SaltMarshIndex\\TX_geodatabase_wetlands.gdb\\TX_Wetlands\", \"TX_Wetlands_coastal\", \"\"\"ATTRIBUTE LIKE 'E2%' \n",
    "OR \n",
    "(\n",
    "ATTRIBUTE LIKE '%L' OR ATTRIBUTE LIKE '%N' OR ATTRIBUTE LIKE '%P' OR ATTRIBUTE LIKE '%M' OR ATTRIBUTE LIKE '%S' OR ATTRIBUTE LIKE '%R' OR ATTRIBUTE LIKE '%T' OR ATTRIBUTE LIKE '%V' \n",
    "OR \n",
    "( \n",
    "(\n",
    "ATTRIBUTE LIKE '%L_' OR ATTRIBUTE LIKE '%N_' OR ATTRIBUTE LIKE '%P_' OR ATTRIBUTE LIKE '%M_' OR ATTRIBUTE LIKE '%S_' OR ATTRIBUTE LIKE '%R_' OR ATTRIBUTE LIKE '%T_' OR ATTRIBUTE LIKE '%V_' \n",
    "OR \n",
    "ATTRIBUTE LIKE '%L__' OR ATTRIBUTE LIKE '%N__' OR ATTRIBUTE LIKE '%P__' OR ATTRIBUTE LIKE '%M__' OR ATTRIBUTE LIKE '%S__' OR ATTRIBUTE LIKE '%R__' OR ATTRIBUTE LIKE '%T__' OR ATTRIBUTE LIKE '%V__' \n",
    ")\n",
    "AND \n",
    "(\n",
    "ATTRIBUTE LIKE '%b' OR ATTRIBUTE LIKE '%d' OR ATTRIBUTE LIKE '%f' OR ATTRIBUTE LIKE '%h' OR ATTRIBUTE LIKE '%r' OR ATTRIBUTE LIKE '%s' OR ATTRIBUTE LIKE '%x' \n",
    "OR \n",
    "ATTRIBUTE LIKE '%1' OR ATTRIBUTE LIKE '%2' OR ATTRIBUTE LIKE '%3' OR ATTRIBUTE LIKE '%4' OR ATTRIBUTE LIKE '%5' OR ATTRIBUTE LIKE '%6' OR ATTRIBUTE LIKE '%7' OR ATTRIBUTE LIKE '%8' OR ATTRIBUTE LIKE '%9' \n",
    ") \n",
    ")\n",
    "AND NOT \n",
    "(\n",
    "ATTRIBUTE LIKE 'PUSb%' OR ATTRIBUTE LIKE 'PUSd%' OR ATTRIBUTE LIKE 'PUSf%' OR ATTRIBUTE LIKE 'PUSh%' OR ATTRIBUTE LIKE 'PUSr%' OR ATTRIBUTE LIKE 'PUSs%' OR ATTRIBUTE LIKE 'PUSx%' \n",
    "OR \n",
    "ATTRIBUTE LIKE 'L%USb%' OR ATTRIBUTE LIKE 'L%USd%' OR ATTRIBUTE LIKE 'L%USf%' OR ATTRIBUTE LIKE 'L%USh%' OR ATTRIBUTE LIKE 'L%USr%' OR ATTRIBUTE LIKE 'L%USs%' OR ATTRIBUTE LIKE 'L%USx%' \n",
    ") \n",
    "OR \n",
    "(\n",
    "ATTRIBUTE LIKE 'R1%' AND (ATTRIBUTE LIKE '%EM%' OR ATTRIBUTE LIKE '%US%')\n",
    ") \n",
    ") \n",
    "AND NOT \n",
    "(\n",
    "ATTRIBUTE LIKE '%A_' OR ATTRIBUTE LIKE '%C_' OR ATTRIBUTE LIKE '%E_' OR ATTRIBUTE LIKE '%F_' OR ATTRIBUTE LIKE '%G_' OR ATTRIBUTE LIKE '%H_' OR ATTRIBUTE LIKE '%J_' OR ATTRIBUTE LIKE '%K_' \n",
    "OR \n",
    "ATTRIBUTE LIKE '%C__' OR ATTRIBUTE LIKE '%E__' OR ATTRIBUTE LIKE '%F__' OR ATTRIBUTE LIKE '%G__' OR ATTRIBUTE LIKE '%H__' OR ATTRIBUTE LIKE '%J__' OR ATTRIBUTE LIKE '%K__' \n",
    ") \n",
    "AND NOT\n",
    "(\n",
    "ATTRIBUTE LIKE '_b' OR ATTRIBUTE LIKE '_d' OR ATTRIBUTE LIKE '_f' OR ATTRIBUTE LIKE '_h' OR ATTRIBUTE LIKE '_r' OR ATTRIBUTE LIKE '_s' OR ATTRIBUTE LIKE '_x' \n",
    ")\n",
    "AND ATTRIBUTE NOT LIKE '__S' \n",
    "AND ATTRIBUTE NOT LIKE '__M' \n",
    "AND ATTRIBUTE NOT LIKE '_'\"\"\")"
   ]
  },
  {
   "cell_type": "code",
   "execution_count": 28,
   "metadata": {
    "hidden": true
   },
   "outputs": [
    {
     "data": {
      "text/html": [
       "<div class='gpresult'><h2>Messages</h2><div id='messages' data-messages='[\"Start Time: Monday, May 22, 2023 7:01:07 AM\",\"Succeeded at Monday, May 22, 2023 7:01:36 AM (Elapsed Time: 29.12 seconds)\"]' data-show='true'><div id = 'default' /></div></div>"
      ],
      "text/plain": [
       "<Result 'F:\\\\Blueprint\\\\2023Indicators\\\\CoastalMarsh\\\\CoastalMarsh2023.gdb\\\\LA_Wetlands_coastal'>"
      ]
     },
     "execution_count": 28,
     "metadata": {},
     "output_type": "execute_result"
    }
   ],
   "source": [
    "# Select for coastal wetlands including estuarine intertidal and tidal and freshwater wetlands\n",
    "\n",
    "arcpy.analysis.Select(r\"F:\\Blueprint\\2022\\2022Indicators\\SaltMarshIndex\\LA_geodatabase_wetlands.gdb\\LA_Wetlands\", \"LA_Wetlands_coastal\", \"\"\"ATTRIBUTE LIKE 'E2%' \n",
    "OR \n",
    "(\n",
    "ATTRIBUTE LIKE '%L' OR ATTRIBUTE LIKE '%N' OR ATTRIBUTE LIKE '%P' OR ATTRIBUTE LIKE '%M' OR ATTRIBUTE LIKE '%S' OR ATTRIBUTE LIKE '%R' OR ATTRIBUTE LIKE '%T' OR ATTRIBUTE LIKE '%V' \n",
    "OR \n",
    "( \n",
    "(\n",
    "ATTRIBUTE LIKE '%L_' OR ATTRIBUTE LIKE '%N_' OR ATTRIBUTE LIKE '%P_' OR ATTRIBUTE LIKE '%M_' OR ATTRIBUTE LIKE '%S_' OR ATTRIBUTE LIKE '%R_' OR ATTRIBUTE LIKE '%T_' OR ATTRIBUTE LIKE '%V_' \n",
    "OR \n",
    "ATTRIBUTE LIKE '%L__' OR ATTRIBUTE LIKE '%N__' OR ATTRIBUTE LIKE '%P__' OR ATTRIBUTE LIKE '%M__' OR ATTRIBUTE LIKE '%S__' OR ATTRIBUTE LIKE '%R__' OR ATTRIBUTE LIKE '%T__' OR ATTRIBUTE LIKE '%V__' \n",
    ")\n",
    "AND \n",
    "(\n",
    "ATTRIBUTE LIKE '%b' OR ATTRIBUTE LIKE '%d' OR ATTRIBUTE LIKE '%f' OR ATTRIBUTE LIKE '%h' OR ATTRIBUTE LIKE '%r' OR ATTRIBUTE LIKE '%s' OR ATTRIBUTE LIKE '%x' \n",
    "OR \n",
    "ATTRIBUTE LIKE '%1' OR ATTRIBUTE LIKE '%2' OR ATTRIBUTE LIKE '%3' OR ATTRIBUTE LIKE '%4' OR ATTRIBUTE LIKE '%5' OR ATTRIBUTE LIKE '%6' OR ATTRIBUTE LIKE '%7' OR ATTRIBUTE LIKE '%8' OR ATTRIBUTE LIKE '%9' \n",
    ") \n",
    ")\n",
    "AND NOT \n",
    "(\n",
    "ATTRIBUTE LIKE 'PUSb%' OR ATTRIBUTE LIKE 'PUSd%' OR ATTRIBUTE LIKE 'PUSf%' OR ATTRIBUTE LIKE 'PUSh%' OR ATTRIBUTE LIKE 'PUSr%' OR ATTRIBUTE LIKE 'PUSs%' OR ATTRIBUTE LIKE 'PUSx%' \n",
    "OR \n",
    "ATTRIBUTE LIKE 'L%USb%' OR ATTRIBUTE LIKE 'L%USd%' OR ATTRIBUTE LIKE 'L%USf%' OR ATTRIBUTE LIKE 'L%USh%' OR ATTRIBUTE LIKE 'L%USr%' OR ATTRIBUTE LIKE 'L%USs%' OR ATTRIBUTE LIKE 'L%USx%' \n",
    ") \n",
    "OR \n",
    "(\n",
    "ATTRIBUTE LIKE 'R1%' AND (ATTRIBUTE LIKE '%EM%' OR ATTRIBUTE LIKE '%US%')\n",
    ") \n",
    ") \n",
    "AND NOT \n",
    "(\n",
    "ATTRIBUTE LIKE '%A_' OR ATTRIBUTE LIKE '%C_' OR ATTRIBUTE LIKE '%E_' OR ATTRIBUTE LIKE '%F_' OR ATTRIBUTE LIKE '%G_' OR ATTRIBUTE LIKE '%H_' OR ATTRIBUTE LIKE '%J_' OR ATTRIBUTE LIKE '%K_' \n",
    "OR \n",
    "ATTRIBUTE LIKE '%C__' OR ATTRIBUTE LIKE '%E__' OR ATTRIBUTE LIKE '%F__' OR ATTRIBUTE LIKE '%G__' OR ATTRIBUTE LIKE '%H__' OR ATTRIBUTE LIKE '%J__' OR ATTRIBUTE LIKE '%K__' \n",
    ") \n",
    "AND NOT\n",
    "(\n",
    "ATTRIBUTE LIKE '_b' OR ATTRIBUTE LIKE '_d' OR ATTRIBUTE LIKE '_f' OR ATTRIBUTE LIKE '_h' OR ATTRIBUTE LIKE '_r' OR ATTRIBUTE LIKE '_s' OR ATTRIBUTE LIKE '_x' \n",
    ")\n",
    "AND ATTRIBUTE NOT LIKE '__S' \n",
    "AND ATTRIBUTE NOT LIKE '__M' \n",
    "AND ATTRIBUTE NOT LIKE '_'\"\"\")"
   ]
  },
  {
   "cell_type": "code",
   "execution_count": 40,
   "metadata": {
    "hidden": true
   },
   "outputs": [
    {
     "data": {
      "text/html": [
       "<div class='gpresult'><h2>Messages</h2><div id='messages' data-messages='[\"Start Time: Monday, May 22, 2023 7:21:07 AM\",\"Succeeded at Monday, May 22, 2023 7:21:20 AM (Elapsed Time: 13.15 seconds)\"]' data-show='true'><div id = 'default' /></div></div>"
      ],
      "text/plain": [
       "<Result 'F:\\\\Blueprint\\\\2023Indicators\\\\CoastalMarsh\\\\CoastalMarsh2023.gdb\\\\MS_Wetlands_coastal'>"
      ]
     },
     "execution_count": 40,
     "metadata": {},
     "output_type": "execute_result"
    }
   ],
   "source": [
    "# Select for coastal wetlands including estuarine intertidal and tidal and freshwater wetlands\n",
    "\n",
    "arcpy.analysis.Select(r\"F:\\Blueprint\\2022\\2022Indicators\\SaltMarshIndex\\MS_geodatabase_wetlands.gdb\\MS_Wetlands\", \"MS_Wetlands_coastal\", \"\"\"ATTRIBUTE LIKE 'E2%' \n",
    "OR \n",
    "(\n",
    "ATTRIBUTE LIKE '%L' OR ATTRIBUTE LIKE '%N' OR ATTRIBUTE LIKE '%P' OR ATTRIBUTE LIKE '%M' OR ATTRIBUTE LIKE '%S' OR ATTRIBUTE LIKE '%R' OR ATTRIBUTE LIKE '%T' OR ATTRIBUTE LIKE '%V' \n",
    "OR \n",
    "( \n",
    "(\n",
    "ATTRIBUTE LIKE '%L_' OR ATTRIBUTE LIKE '%N_' OR ATTRIBUTE LIKE '%P_' OR ATTRIBUTE LIKE '%M_' OR ATTRIBUTE LIKE '%S_' OR ATTRIBUTE LIKE '%R_' OR ATTRIBUTE LIKE '%T_' OR ATTRIBUTE LIKE '%V_' \n",
    "OR \n",
    "ATTRIBUTE LIKE '%L__' OR ATTRIBUTE LIKE '%N__' OR ATTRIBUTE LIKE '%P__' OR ATTRIBUTE LIKE '%M__' OR ATTRIBUTE LIKE '%S__' OR ATTRIBUTE LIKE '%R__' OR ATTRIBUTE LIKE '%T__' OR ATTRIBUTE LIKE '%V__' \n",
    ")\n",
    "AND \n",
    "(\n",
    "ATTRIBUTE LIKE '%b' OR ATTRIBUTE LIKE '%d' OR ATTRIBUTE LIKE '%f' OR ATTRIBUTE LIKE '%h' OR ATTRIBUTE LIKE '%r' OR ATTRIBUTE LIKE '%s' OR ATTRIBUTE LIKE '%x' \n",
    "OR \n",
    "ATTRIBUTE LIKE '%1' OR ATTRIBUTE LIKE '%2' OR ATTRIBUTE LIKE '%3' OR ATTRIBUTE LIKE '%4' OR ATTRIBUTE LIKE '%5' OR ATTRIBUTE LIKE '%6' OR ATTRIBUTE LIKE '%7' OR ATTRIBUTE LIKE '%8' OR ATTRIBUTE LIKE '%9' \n",
    ") \n",
    ")\n",
    "AND NOT \n",
    "(\n",
    "ATTRIBUTE LIKE 'PUSb%' OR ATTRIBUTE LIKE 'PUSd%' OR ATTRIBUTE LIKE 'PUSf%' OR ATTRIBUTE LIKE 'PUSh%' OR ATTRIBUTE LIKE 'PUSr%' OR ATTRIBUTE LIKE 'PUSs%' OR ATTRIBUTE LIKE 'PUSx%' \n",
    "OR \n",
    "ATTRIBUTE LIKE 'L%USb%' OR ATTRIBUTE LIKE 'L%USd%' OR ATTRIBUTE LIKE 'L%USf%' OR ATTRIBUTE LIKE 'L%USh%' OR ATTRIBUTE LIKE 'L%USr%' OR ATTRIBUTE LIKE 'L%USs%' OR ATTRIBUTE LIKE 'L%USx%' \n",
    ") \n",
    "OR \n",
    "(\n",
    "ATTRIBUTE LIKE 'R1%' AND (ATTRIBUTE LIKE '%EM%' OR ATTRIBUTE LIKE '%US%')\n",
    ") \n",
    ") \n",
    "AND NOT \n",
    "(\n",
    "ATTRIBUTE LIKE '%A_' OR ATTRIBUTE LIKE '%C_' OR ATTRIBUTE LIKE '%E_' OR ATTRIBUTE LIKE '%F_' OR ATTRIBUTE LIKE '%G_' OR ATTRIBUTE LIKE '%H_' OR ATTRIBUTE LIKE '%J_' OR ATTRIBUTE LIKE '%K_' \n",
    "OR \n",
    "ATTRIBUTE LIKE '%C__' OR ATTRIBUTE LIKE '%E__' OR ATTRIBUTE LIKE '%F__' OR ATTRIBUTE LIKE '%G__' OR ATTRIBUTE LIKE '%H__' OR ATTRIBUTE LIKE '%J__' OR ATTRIBUTE LIKE '%K__' \n",
    ") \n",
    "AND NOT\n",
    "(\n",
    "ATTRIBUTE LIKE '_b' OR ATTRIBUTE LIKE '_d' OR ATTRIBUTE LIKE '_f' OR ATTRIBUTE LIKE '_h' OR ATTRIBUTE LIKE '_r' OR ATTRIBUTE LIKE '_s' OR ATTRIBUTE LIKE '_x' \n",
    ")\n",
    "AND ATTRIBUTE NOT LIKE '__S' \n",
    "AND ATTRIBUTE NOT LIKE '__M' \n",
    "AND ATTRIBUTE NOT LIKE '_'\"\"\")"
   ]
  },
  {
   "cell_type": "code",
   "execution_count": 29,
   "metadata": {
    "hidden": true
   },
   "outputs": [
    {
     "data": {
      "text/html": [
       "<div class='gpresult'><h2>Messages</h2><div id='messages' data-messages='[\"Start Time: Monday, May 22, 2023 7:01:39 AM\",\"Succeeded at Monday, May 22, 2023 7:01:54 AM (Elapsed Time: 14.90 seconds)\"]' data-show='true'><div id = 'default' /></div></div>"
      ],
      "text/plain": [
       "<Result 'F:\\\\Blueprint\\\\2023Indicators\\\\CoastalMarsh\\\\CoastalMarsh2023.gdb\\\\AL_Wetlands_coastal'>"
      ]
     },
     "execution_count": 29,
     "metadata": {},
     "output_type": "execute_result"
    }
   ],
   "source": [
    "# Select for coastal wetlands including estuarine intertidal and tidal and freshwater wetlands\n",
    "\n",
    "arcpy.analysis.Select(r\"F:\\Blueprint\\2022\\2022Indicators\\SaltMarshIndex\\AL_geodatabase_wetlands.gdb\\AL_Wetlands\", \"AL_Wetlands_coastal\", \"\"\"ATTRIBUTE LIKE 'E2%' \n",
    "OR \n",
    "(\n",
    "ATTRIBUTE LIKE '%L' OR ATTRIBUTE LIKE '%N' OR ATTRIBUTE LIKE '%P' OR ATTRIBUTE LIKE '%M' OR ATTRIBUTE LIKE '%S' OR ATTRIBUTE LIKE '%R' OR ATTRIBUTE LIKE '%T' OR ATTRIBUTE LIKE '%V' \n",
    "OR \n",
    "( \n",
    "(\n",
    "ATTRIBUTE LIKE '%L_' OR ATTRIBUTE LIKE '%N_' OR ATTRIBUTE LIKE '%P_' OR ATTRIBUTE LIKE '%M_' OR ATTRIBUTE LIKE '%S_' OR ATTRIBUTE LIKE '%R_' OR ATTRIBUTE LIKE '%T_' OR ATTRIBUTE LIKE '%V_' \n",
    "OR \n",
    "ATTRIBUTE LIKE '%L__' OR ATTRIBUTE LIKE '%N__' OR ATTRIBUTE LIKE '%P__' OR ATTRIBUTE LIKE '%M__' OR ATTRIBUTE LIKE '%S__' OR ATTRIBUTE LIKE '%R__' OR ATTRIBUTE LIKE '%T__' OR ATTRIBUTE LIKE '%V__' \n",
    ")\n",
    "AND \n",
    "(\n",
    "ATTRIBUTE LIKE '%b' OR ATTRIBUTE LIKE '%d' OR ATTRIBUTE LIKE '%f' OR ATTRIBUTE LIKE '%h' OR ATTRIBUTE LIKE '%r' OR ATTRIBUTE LIKE '%s' OR ATTRIBUTE LIKE '%x' \n",
    "OR \n",
    "ATTRIBUTE LIKE '%1' OR ATTRIBUTE LIKE '%2' OR ATTRIBUTE LIKE '%3' OR ATTRIBUTE LIKE '%4' OR ATTRIBUTE LIKE '%5' OR ATTRIBUTE LIKE '%6' OR ATTRIBUTE LIKE '%7' OR ATTRIBUTE LIKE '%8' OR ATTRIBUTE LIKE '%9' \n",
    ") \n",
    ")\n",
    "AND NOT \n",
    "(\n",
    "ATTRIBUTE LIKE 'PUSb%' OR ATTRIBUTE LIKE 'PUSd%' OR ATTRIBUTE LIKE 'PUSf%' OR ATTRIBUTE LIKE 'PUSh%' OR ATTRIBUTE LIKE 'PUSr%' OR ATTRIBUTE LIKE 'PUSs%' OR ATTRIBUTE LIKE 'PUSx%' \n",
    "OR \n",
    "ATTRIBUTE LIKE 'L%USb%' OR ATTRIBUTE LIKE 'L%USd%' OR ATTRIBUTE LIKE 'L%USf%' OR ATTRIBUTE LIKE 'L%USh%' OR ATTRIBUTE LIKE 'L%USr%' OR ATTRIBUTE LIKE 'L%USs%' OR ATTRIBUTE LIKE 'L%USx%' \n",
    ") \n",
    "OR \n",
    "(\n",
    "ATTRIBUTE LIKE 'R1%' AND (ATTRIBUTE LIKE '%EM%' OR ATTRIBUTE LIKE '%US%')\n",
    ") \n",
    ") \n",
    "AND NOT \n",
    "(\n",
    "ATTRIBUTE LIKE '%A_' OR ATTRIBUTE LIKE '%C_' OR ATTRIBUTE LIKE '%E_' OR ATTRIBUTE LIKE '%F_' OR ATTRIBUTE LIKE '%G_' OR ATTRIBUTE LIKE '%H_' OR ATTRIBUTE LIKE '%J_' OR ATTRIBUTE LIKE '%K_' \n",
    "OR \n",
    "ATTRIBUTE LIKE '%C__' OR ATTRIBUTE LIKE '%E__' OR ATTRIBUTE LIKE '%F__' OR ATTRIBUTE LIKE '%G__' OR ATTRIBUTE LIKE '%H__' OR ATTRIBUTE LIKE '%J__' OR ATTRIBUTE LIKE '%K__' \n",
    ") \n",
    "AND NOT\n",
    "(\n",
    "ATTRIBUTE LIKE '_b' OR ATTRIBUTE LIKE '_d' OR ATTRIBUTE LIKE '_f' OR ATTRIBUTE LIKE '_h' OR ATTRIBUTE LIKE '_r' OR ATTRIBUTE LIKE '_s' OR ATTRIBUTE LIKE '_x' \n",
    ")\n",
    "AND ATTRIBUTE NOT LIKE '__S' \n",
    "AND ATTRIBUTE NOT LIKE '__M' \n",
    "AND ATTRIBUTE NOT LIKE '_'\"\"\")"
   ]
  },
  {
   "cell_type": "code",
   "execution_count": 32,
   "metadata": {
    "hidden": true
   },
   "outputs": [
    {
     "data": {
      "text/html": [
       "<div class='gpresult'><h2>Messages</h2><div id='messages' data-messages='[\"Start Time: Monday, May 22, 2023 7:03:28 AM\",\"Succeeded at Monday, May 22, 2023 7:03:57 AM (Elapsed Time: 28.88 seconds)\"]' data-show='true'><div id = 'default' /></div></div>"
      ],
      "text/plain": [
       "<Result 'F:\\\\Blueprint\\\\2023Indicators\\\\CoastalMarsh\\\\CoastalMarsh2023.gdb\\\\FL_Wetlands_coastal'>"
      ]
     },
     "execution_count": 32,
     "metadata": {},
     "output_type": "execute_result"
    }
   ],
   "source": [
    "# Select for coastal wetlands including estuarine intertidal and tidal and freshwater wetlands\n",
    "\n",
    "arcpy.analysis.Select(r\"F:\\Blueprint\\2022\\2022Indicators\\SaltMarshIndex\\FL_geodatabase_wetlands.gdb\\FL_Wetlands\", \"FL_Wetlands_coastal\", \"\"\"ATTRIBUTE LIKE 'E2%' \n",
    "OR \n",
    "(\n",
    "ATTRIBUTE LIKE '%L' OR ATTRIBUTE LIKE '%N' OR ATTRIBUTE LIKE '%P' OR ATTRIBUTE LIKE '%M' OR ATTRIBUTE LIKE '%S' OR ATTRIBUTE LIKE '%R' OR ATTRIBUTE LIKE '%T' OR ATTRIBUTE LIKE '%V' \n",
    "OR \n",
    "( \n",
    "(\n",
    "ATTRIBUTE LIKE '%L_' OR ATTRIBUTE LIKE '%N_' OR ATTRIBUTE LIKE '%P_' OR ATTRIBUTE LIKE '%M_' OR ATTRIBUTE LIKE '%S_' OR ATTRIBUTE LIKE '%R_' OR ATTRIBUTE LIKE '%T_' OR ATTRIBUTE LIKE '%V_' \n",
    "OR \n",
    "ATTRIBUTE LIKE '%L__' OR ATTRIBUTE LIKE '%N__' OR ATTRIBUTE LIKE '%P__' OR ATTRIBUTE LIKE '%M__' OR ATTRIBUTE LIKE '%S__' OR ATTRIBUTE LIKE '%R__' OR ATTRIBUTE LIKE '%T__' OR ATTRIBUTE LIKE '%V__' \n",
    ")\n",
    "AND \n",
    "(\n",
    "ATTRIBUTE LIKE '%b' OR ATTRIBUTE LIKE '%d' OR ATTRIBUTE LIKE '%f' OR ATTRIBUTE LIKE '%h' OR ATTRIBUTE LIKE '%r' OR ATTRIBUTE LIKE '%s' OR ATTRIBUTE LIKE '%x' \n",
    "OR \n",
    "ATTRIBUTE LIKE '%1' OR ATTRIBUTE LIKE '%2' OR ATTRIBUTE LIKE '%3' OR ATTRIBUTE LIKE '%4' OR ATTRIBUTE LIKE '%5' OR ATTRIBUTE LIKE '%6' OR ATTRIBUTE LIKE '%7' OR ATTRIBUTE LIKE '%8' OR ATTRIBUTE LIKE '%9' \n",
    ") \n",
    ")\n",
    "AND NOT \n",
    "(\n",
    "ATTRIBUTE LIKE 'PUSb%' OR ATTRIBUTE LIKE 'PUSd%' OR ATTRIBUTE LIKE 'PUSf%' OR ATTRIBUTE LIKE 'PUSh%' OR ATTRIBUTE LIKE 'PUSr%' OR ATTRIBUTE LIKE 'PUSs%' OR ATTRIBUTE LIKE 'PUSx%' \n",
    "OR \n",
    "ATTRIBUTE LIKE 'L%USb%' OR ATTRIBUTE LIKE 'L%USd%' OR ATTRIBUTE LIKE 'L%USf%' OR ATTRIBUTE LIKE 'L%USh%' OR ATTRIBUTE LIKE 'L%USr%' OR ATTRIBUTE LIKE 'L%USs%' OR ATTRIBUTE LIKE 'L%USx%' \n",
    ") \n",
    "OR \n",
    "(\n",
    "ATTRIBUTE LIKE 'R1%' AND (ATTRIBUTE LIKE '%EM%' OR ATTRIBUTE LIKE '%US%')\n",
    ") \n",
    ") \n",
    "AND NOT \n",
    "(\n",
    "ATTRIBUTE LIKE '%A_' OR ATTRIBUTE LIKE '%C_' OR ATTRIBUTE LIKE '%E_' OR ATTRIBUTE LIKE '%F_' OR ATTRIBUTE LIKE '%G_' OR ATTRIBUTE LIKE '%H_' OR ATTRIBUTE LIKE '%J_' OR ATTRIBUTE LIKE '%K_' \n",
    "OR \n",
    "ATTRIBUTE LIKE '%C__' OR ATTRIBUTE LIKE '%E__' OR ATTRIBUTE LIKE '%F__' OR ATTRIBUTE LIKE '%G__' OR ATTRIBUTE LIKE '%H__' OR ATTRIBUTE LIKE '%J__' OR ATTRIBUTE LIKE '%K__' \n",
    ") \n",
    "AND NOT\n",
    "(\n",
    "ATTRIBUTE LIKE '_b' OR ATTRIBUTE LIKE '_d' OR ATTRIBUTE LIKE '_f' OR ATTRIBUTE LIKE '_h' OR ATTRIBUTE LIKE '_r' OR ATTRIBUTE LIKE '_s' OR ATTRIBUTE LIKE '_x' \n",
    ")\n",
    "AND ATTRIBUTE NOT LIKE '__S' \n",
    "AND ATTRIBUTE NOT LIKE '__M' \n",
    "AND ATTRIBUTE NOT LIKE '_'\"\"\")"
   ]
  },
  {
   "cell_type": "code",
   "execution_count": 33,
   "metadata": {
    "hidden": true
   },
   "outputs": [
    {
     "data": {
      "text/html": [
       "<div class='gpresult'><h2>Messages</h2><div id='messages' data-messages='[\"Start Time: Monday, May 22, 2023 7:03:59 AM\",\"Succeeded at Monday, May 22, 2023 7:04:18 AM (Elapsed Time: 18.22 seconds)\"]' data-show='true'><div id = 'default' /></div></div>"
      ],
      "text/plain": [
       "<Result 'F:\\\\Blueprint\\\\2023Indicators\\\\CoastalMarsh\\\\CoastalMarsh2023.gdb\\\\GA_Wetlands_coastal'>"
      ]
     },
     "execution_count": 33,
     "metadata": {},
     "output_type": "execute_result"
    }
   ],
   "source": [
    "# Select for coastal wetlands including estuarine intertidal and tidal and freshwater wetlands\n",
    "\n",
    "arcpy.analysis.Select(r\"F:\\Blueprint\\2022\\2022Indicators\\SaltMarshIndex\\GA_geodatabase_wetlands.gdb\\GA_Wetlands\", \"GA_Wetlands_coastal\", \"\"\"ATTRIBUTE LIKE 'E2%' \n",
    "OR \n",
    "(\n",
    "ATTRIBUTE LIKE '%L' OR ATTRIBUTE LIKE '%N' OR ATTRIBUTE LIKE '%P' OR ATTRIBUTE LIKE '%M' OR ATTRIBUTE LIKE '%S' OR ATTRIBUTE LIKE '%R' OR ATTRIBUTE LIKE '%T' OR ATTRIBUTE LIKE '%V' \n",
    "OR \n",
    "( \n",
    "(\n",
    "ATTRIBUTE LIKE '%L_' OR ATTRIBUTE LIKE '%N_' OR ATTRIBUTE LIKE '%P_' OR ATTRIBUTE LIKE '%M_' OR ATTRIBUTE LIKE '%S_' OR ATTRIBUTE LIKE '%R_' OR ATTRIBUTE LIKE '%T_' OR ATTRIBUTE LIKE '%V_' \n",
    "OR \n",
    "ATTRIBUTE LIKE '%L__' OR ATTRIBUTE LIKE '%N__' OR ATTRIBUTE LIKE '%P__' OR ATTRIBUTE LIKE '%M__' OR ATTRIBUTE LIKE '%S__' OR ATTRIBUTE LIKE '%R__' OR ATTRIBUTE LIKE '%T__' OR ATTRIBUTE LIKE '%V__' \n",
    ")\n",
    "AND \n",
    "(\n",
    "ATTRIBUTE LIKE '%b' OR ATTRIBUTE LIKE '%d' OR ATTRIBUTE LIKE '%f' OR ATTRIBUTE LIKE '%h' OR ATTRIBUTE LIKE '%r' OR ATTRIBUTE LIKE '%s' OR ATTRIBUTE LIKE '%x' \n",
    "OR \n",
    "ATTRIBUTE LIKE '%1' OR ATTRIBUTE LIKE '%2' OR ATTRIBUTE LIKE '%3' OR ATTRIBUTE LIKE '%4' OR ATTRIBUTE LIKE '%5' OR ATTRIBUTE LIKE '%6' OR ATTRIBUTE LIKE '%7' OR ATTRIBUTE LIKE '%8' OR ATTRIBUTE LIKE '%9' \n",
    ") \n",
    ")\n",
    "AND NOT \n",
    "(\n",
    "ATTRIBUTE LIKE 'PUSb%' OR ATTRIBUTE LIKE 'PUSd%' OR ATTRIBUTE LIKE 'PUSf%' OR ATTRIBUTE LIKE 'PUSh%' OR ATTRIBUTE LIKE 'PUSr%' OR ATTRIBUTE LIKE 'PUSs%' OR ATTRIBUTE LIKE 'PUSx%' \n",
    "OR \n",
    "ATTRIBUTE LIKE 'L%USb%' OR ATTRIBUTE LIKE 'L%USd%' OR ATTRIBUTE LIKE 'L%USf%' OR ATTRIBUTE LIKE 'L%USh%' OR ATTRIBUTE LIKE 'L%USr%' OR ATTRIBUTE LIKE 'L%USs%' OR ATTRIBUTE LIKE 'L%USx%' \n",
    ") \n",
    "OR \n",
    "(\n",
    "ATTRIBUTE LIKE 'R1%' AND (ATTRIBUTE LIKE '%EM%' OR ATTRIBUTE LIKE '%US%')\n",
    ") \n",
    ") \n",
    "AND NOT \n",
    "(\n",
    "ATTRIBUTE LIKE '%A_' OR ATTRIBUTE LIKE '%C_' OR ATTRIBUTE LIKE '%E_' OR ATTRIBUTE LIKE '%F_' OR ATTRIBUTE LIKE '%G_' OR ATTRIBUTE LIKE '%H_' OR ATTRIBUTE LIKE '%J_' OR ATTRIBUTE LIKE '%K_' \n",
    "OR \n",
    "ATTRIBUTE LIKE '%C__' OR ATTRIBUTE LIKE '%E__' OR ATTRIBUTE LIKE '%F__' OR ATTRIBUTE LIKE '%G__' OR ATTRIBUTE LIKE '%H__' OR ATTRIBUTE LIKE '%J__' OR ATTRIBUTE LIKE '%K__' \n",
    ") \n",
    "AND NOT\n",
    "(\n",
    "ATTRIBUTE LIKE '_b' OR ATTRIBUTE LIKE '_d' OR ATTRIBUTE LIKE '_f' OR ATTRIBUTE LIKE '_h' OR ATTRIBUTE LIKE '_r' OR ATTRIBUTE LIKE '_s' OR ATTRIBUTE LIKE '_x' \n",
    ")\n",
    "AND ATTRIBUTE NOT LIKE '__S' \n",
    "AND ATTRIBUTE NOT LIKE '__M' \n",
    "AND ATTRIBUTE NOT LIKE '_'\"\"\")"
   ]
  },
  {
   "cell_type": "code",
   "execution_count": 34,
   "metadata": {
    "hidden": true
   },
   "outputs": [
    {
     "data": {
      "text/html": [
       "<div class='gpresult'><h2>Messages</h2><div id='messages' data-messages='[\"Start Time: Monday, May 22, 2023 7:04:20 AM\",\"Succeeded at Monday, May 22, 2023 7:04:39 AM (Elapsed Time: 19.11 seconds)\"]' data-show='true'><div id = 'default' /></div></div>"
      ],
      "text/plain": [
       "<Result 'F:\\\\Blueprint\\\\2023Indicators\\\\CoastalMarsh\\\\CoastalMarsh2023.gdb\\\\SC_Wetlands_coastal'>"
      ]
     },
     "execution_count": 34,
     "metadata": {},
     "output_type": "execute_result"
    }
   ],
   "source": [
    "# Select for coastal wetlands including estuarine intertidal and tidal and freshwater wetlands\n",
    "\n",
    "arcpy.analysis.Select(r\"F:\\Blueprint\\2022\\2022Indicators\\SaltMarshIndex\\SC_geodatabase_wetlands.gdb\\SC_Wetlands\", \"SC_Wetlands_coastal\", \"\"\"ATTRIBUTE LIKE 'E2%' \n",
    "OR \n",
    "(\n",
    "ATTRIBUTE LIKE '%L' OR ATTRIBUTE LIKE '%N' OR ATTRIBUTE LIKE '%P' OR ATTRIBUTE LIKE '%M' OR ATTRIBUTE LIKE '%S' OR ATTRIBUTE LIKE '%R' OR ATTRIBUTE LIKE '%T' OR ATTRIBUTE LIKE '%V' \n",
    "OR \n",
    "( \n",
    "(\n",
    "ATTRIBUTE LIKE '%L_' OR ATTRIBUTE LIKE '%N_' OR ATTRIBUTE LIKE '%P_' OR ATTRIBUTE LIKE '%M_' OR ATTRIBUTE LIKE '%S_' OR ATTRIBUTE LIKE '%R_' OR ATTRIBUTE LIKE '%T_' OR ATTRIBUTE LIKE '%V_' \n",
    "OR \n",
    "ATTRIBUTE LIKE '%L__' OR ATTRIBUTE LIKE '%N__' OR ATTRIBUTE LIKE '%P__' OR ATTRIBUTE LIKE '%M__' OR ATTRIBUTE LIKE '%S__' OR ATTRIBUTE LIKE '%R__' OR ATTRIBUTE LIKE '%T__' OR ATTRIBUTE LIKE '%V__' \n",
    ")\n",
    "AND \n",
    "(\n",
    "ATTRIBUTE LIKE '%b' OR ATTRIBUTE LIKE '%d' OR ATTRIBUTE LIKE '%f' OR ATTRIBUTE LIKE '%h' OR ATTRIBUTE LIKE '%r' OR ATTRIBUTE LIKE '%s' OR ATTRIBUTE LIKE '%x' \n",
    "OR \n",
    "ATTRIBUTE LIKE '%1' OR ATTRIBUTE LIKE '%2' OR ATTRIBUTE LIKE '%3' OR ATTRIBUTE LIKE '%4' OR ATTRIBUTE LIKE '%5' OR ATTRIBUTE LIKE '%6' OR ATTRIBUTE LIKE '%7' OR ATTRIBUTE LIKE '%8' OR ATTRIBUTE LIKE '%9' \n",
    ") \n",
    ")\n",
    "AND NOT \n",
    "(\n",
    "ATTRIBUTE LIKE 'PUSb%' OR ATTRIBUTE LIKE 'PUSd%' OR ATTRIBUTE LIKE 'PUSf%' OR ATTRIBUTE LIKE 'PUSh%' OR ATTRIBUTE LIKE 'PUSr%' OR ATTRIBUTE LIKE 'PUSs%' OR ATTRIBUTE LIKE 'PUSx%' \n",
    "OR \n",
    "ATTRIBUTE LIKE 'L%USb%' OR ATTRIBUTE LIKE 'L%USd%' OR ATTRIBUTE LIKE 'L%USf%' OR ATTRIBUTE LIKE 'L%USh%' OR ATTRIBUTE LIKE 'L%USr%' OR ATTRIBUTE LIKE 'L%USs%' OR ATTRIBUTE LIKE 'L%USx%' \n",
    ") \n",
    "OR \n",
    "(\n",
    "ATTRIBUTE LIKE 'R1%' AND (ATTRIBUTE LIKE '%EM%' OR ATTRIBUTE LIKE '%US%')\n",
    ") \n",
    ") \n",
    "AND NOT \n",
    "(\n",
    "ATTRIBUTE LIKE '%A_' OR ATTRIBUTE LIKE '%C_' OR ATTRIBUTE LIKE '%E_' OR ATTRIBUTE LIKE '%F_' OR ATTRIBUTE LIKE '%G_' OR ATTRIBUTE LIKE '%H_' OR ATTRIBUTE LIKE '%J_' OR ATTRIBUTE LIKE '%K_' \n",
    "OR \n",
    "ATTRIBUTE LIKE '%C__' OR ATTRIBUTE LIKE '%E__' OR ATTRIBUTE LIKE '%F__' OR ATTRIBUTE LIKE '%G__' OR ATTRIBUTE LIKE '%H__' OR ATTRIBUTE LIKE '%J__' OR ATTRIBUTE LIKE '%K__' \n",
    ") \n",
    "AND NOT\n",
    "(\n",
    "ATTRIBUTE LIKE '_b' OR ATTRIBUTE LIKE '_d' OR ATTRIBUTE LIKE '_f' OR ATTRIBUTE LIKE '_h' OR ATTRIBUTE LIKE '_r' OR ATTRIBUTE LIKE '_s' OR ATTRIBUTE LIKE '_x' \n",
    ")\n",
    "AND ATTRIBUTE NOT LIKE '__S' \n",
    "AND ATTRIBUTE NOT LIKE '__M' \n",
    "AND ATTRIBUTE NOT LIKE '_'\"\"\")"
   ]
  },
  {
   "cell_type": "code",
   "execution_count": 35,
   "metadata": {
    "hidden": true
   },
   "outputs": [
    {
     "data": {
      "text/html": [
       "<div class='gpresult'><h2>Messages</h2><div id='messages' data-messages='[\"Start Time: Monday, May 22, 2023 7:04:40 AM\",\"Succeeded at Monday, May 22, 2023 7:04:55 AM (Elapsed Time: 15.01 seconds)\"]' data-show='true'><div id = 'default' /></div></div>"
      ],
      "text/plain": [
       "<Result 'F:\\\\Blueprint\\\\2023Indicators\\\\CoastalMarsh\\\\CoastalMarsh2023.gdb\\\\NC_Wetlands_coastal'>"
      ]
     },
     "execution_count": 35,
     "metadata": {},
     "output_type": "execute_result"
    }
   ],
   "source": [
    "# Select for coastal wetlands including estuarine intertidal and tidal and freshwater wetlands\n",
    "\n",
    "arcpy.analysis.Select(r\"F:\\Blueprint\\2022\\2022Indicators\\SaltMarshIndex\\NC_geodatabase_wetlands.gdb\\NC_Wetlands\", \"NC_Wetlands_coastal\", \"\"\"ATTRIBUTE LIKE 'E2%' \n",
    "OR \n",
    "(\n",
    "ATTRIBUTE LIKE '%L' OR ATTRIBUTE LIKE '%N' OR ATTRIBUTE LIKE '%P' OR ATTRIBUTE LIKE '%M' OR ATTRIBUTE LIKE '%S' OR ATTRIBUTE LIKE '%R' OR ATTRIBUTE LIKE '%T' OR ATTRIBUTE LIKE '%V' \n",
    "OR \n",
    "( \n",
    "(\n",
    "ATTRIBUTE LIKE '%L_' OR ATTRIBUTE LIKE '%N_' OR ATTRIBUTE LIKE '%P_' OR ATTRIBUTE LIKE '%M_' OR ATTRIBUTE LIKE '%S_' OR ATTRIBUTE LIKE '%R_' OR ATTRIBUTE LIKE '%T_' OR ATTRIBUTE LIKE '%V_' \n",
    "OR \n",
    "ATTRIBUTE LIKE '%L__' OR ATTRIBUTE LIKE '%N__' OR ATTRIBUTE LIKE '%P__' OR ATTRIBUTE LIKE '%M__' OR ATTRIBUTE LIKE '%S__' OR ATTRIBUTE LIKE '%R__' OR ATTRIBUTE LIKE '%T__' OR ATTRIBUTE LIKE '%V__' \n",
    ")\n",
    "AND \n",
    "(\n",
    "ATTRIBUTE LIKE '%b' OR ATTRIBUTE LIKE '%d' OR ATTRIBUTE LIKE '%f' OR ATTRIBUTE LIKE '%h' OR ATTRIBUTE LIKE '%r' OR ATTRIBUTE LIKE '%s' OR ATTRIBUTE LIKE '%x' \n",
    "OR \n",
    "ATTRIBUTE LIKE '%1' OR ATTRIBUTE LIKE '%2' OR ATTRIBUTE LIKE '%3' OR ATTRIBUTE LIKE '%4' OR ATTRIBUTE LIKE '%5' OR ATTRIBUTE LIKE '%6' OR ATTRIBUTE LIKE '%7' OR ATTRIBUTE LIKE '%8' OR ATTRIBUTE LIKE '%9' \n",
    ") \n",
    ")\n",
    "AND NOT \n",
    "(\n",
    "ATTRIBUTE LIKE 'PUSb%' OR ATTRIBUTE LIKE 'PUSd%' OR ATTRIBUTE LIKE 'PUSf%' OR ATTRIBUTE LIKE 'PUSh%' OR ATTRIBUTE LIKE 'PUSr%' OR ATTRIBUTE LIKE 'PUSs%' OR ATTRIBUTE LIKE 'PUSx%' \n",
    "OR \n",
    "ATTRIBUTE LIKE 'L%USb%' OR ATTRIBUTE LIKE 'L%USd%' OR ATTRIBUTE LIKE 'L%USf%' OR ATTRIBUTE LIKE 'L%USh%' OR ATTRIBUTE LIKE 'L%USr%' OR ATTRIBUTE LIKE 'L%USs%' OR ATTRIBUTE LIKE 'L%USx%' \n",
    ") \n",
    "OR \n",
    "(\n",
    "ATTRIBUTE LIKE 'R1%' AND (ATTRIBUTE LIKE '%EM%' OR ATTRIBUTE LIKE '%US%')\n",
    ") \n",
    ") \n",
    "AND NOT \n",
    "(\n",
    "ATTRIBUTE LIKE '%A_' OR ATTRIBUTE LIKE '%C_' OR ATTRIBUTE LIKE '%E_' OR ATTRIBUTE LIKE '%F_' OR ATTRIBUTE LIKE '%G_' OR ATTRIBUTE LIKE '%H_' OR ATTRIBUTE LIKE '%J_' OR ATTRIBUTE LIKE '%K_' \n",
    "OR \n",
    "ATTRIBUTE LIKE '%C__' OR ATTRIBUTE LIKE '%E__' OR ATTRIBUTE LIKE '%F__' OR ATTRIBUTE LIKE '%G__' OR ATTRIBUTE LIKE '%H__' OR ATTRIBUTE LIKE '%J__' OR ATTRIBUTE LIKE '%K__' \n",
    ") \n",
    "AND NOT\n",
    "(\n",
    "ATTRIBUTE LIKE '_b' OR ATTRIBUTE LIKE '_d' OR ATTRIBUTE LIKE '_f' OR ATTRIBUTE LIKE '_h' OR ATTRIBUTE LIKE '_r' OR ATTRIBUTE LIKE '_s' OR ATTRIBUTE LIKE '_x' \n",
    ")\n",
    "AND ATTRIBUTE NOT LIKE '__S' \n",
    "AND ATTRIBUTE NOT LIKE '__M' \n",
    "AND ATTRIBUTE NOT LIKE '_'\"\"\")"
   ]
  },
  {
   "cell_type": "code",
   "execution_count": 36,
   "metadata": {
    "hidden": true
   },
   "outputs": [
    {
     "data": {
      "text/html": [
       "<div class='gpresult'><h2>Messages</h2><div id='messages' data-messages='[\"Start Time: Monday, May 22, 2023 7:04:58 AM\",\"Succeeded at Monday, May 22, 2023 7:05:14 AM (Elapsed Time: 16.15 seconds)\"]' data-show='true'><div id = 'default' /></div></div>"
      ],
      "text/plain": [
       "<Result 'F:\\\\Blueprint\\\\2023Indicators\\\\CoastalMarsh\\\\CoastalMarsh2023.gdb\\\\VA_Wetlands_coastal'>"
      ]
     },
     "execution_count": 36,
     "metadata": {},
     "output_type": "execute_result"
    }
   ],
   "source": [
    "# Select for coastal wetlands including estuarine intertidal and tidal and freshwater wetlands\n",
    "\n",
    "arcpy.analysis.Select(r\"F:\\Blueprint\\2022\\2022Indicators\\SaltMarshIndex\\VA_geodatabase_wetlands.gdb\\VA_Wetlands\", \"VA_Wetlands_coastal\", \"\"\"ATTRIBUTE LIKE 'E2%' \n",
    "OR \n",
    "(\n",
    "ATTRIBUTE LIKE '%L' OR ATTRIBUTE LIKE '%N' OR ATTRIBUTE LIKE '%P' OR ATTRIBUTE LIKE '%M' OR ATTRIBUTE LIKE '%S' OR ATTRIBUTE LIKE '%R' OR ATTRIBUTE LIKE '%T' OR ATTRIBUTE LIKE '%V' \n",
    "OR \n",
    "( \n",
    "(\n",
    "ATTRIBUTE LIKE '%L_' OR ATTRIBUTE LIKE '%N_' OR ATTRIBUTE LIKE '%P_' OR ATTRIBUTE LIKE '%M_' OR ATTRIBUTE LIKE '%S_' OR ATTRIBUTE LIKE '%R_' OR ATTRIBUTE LIKE '%T_' OR ATTRIBUTE LIKE '%V_' \n",
    "OR \n",
    "ATTRIBUTE LIKE '%L__' OR ATTRIBUTE LIKE '%N__' OR ATTRIBUTE LIKE '%P__' OR ATTRIBUTE LIKE '%M__' OR ATTRIBUTE LIKE '%S__' OR ATTRIBUTE LIKE '%R__' OR ATTRIBUTE LIKE '%T__' OR ATTRIBUTE LIKE '%V__' \n",
    ")\n",
    "AND \n",
    "(\n",
    "ATTRIBUTE LIKE '%b' OR ATTRIBUTE LIKE '%d' OR ATTRIBUTE LIKE '%f' OR ATTRIBUTE LIKE '%h' OR ATTRIBUTE LIKE '%r' OR ATTRIBUTE LIKE '%s' OR ATTRIBUTE LIKE '%x' \n",
    "OR \n",
    "ATTRIBUTE LIKE '%1' OR ATTRIBUTE LIKE '%2' OR ATTRIBUTE LIKE '%3' OR ATTRIBUTE LIKE '%4' OR ATTRIBUTE LIKE '%5' OR ATTRIBUTE LIKE '%6' OR ATTRIBUTE LIKE '%7' OR ATTRIBUTE LIKE '%8' OR ATTRIBUTE LIKE '%9' \n",
    ") \n",
    ")\n",
    "AND NOT \n",
    "(\n",
    "ATTRIBUTE LIKE 'PUSb%' OR ATTRIBUTE LIKE 'PUSd%' OR ATTRIBUTE LIKE 'PUSf%' OR ATTRIBUTE LIKE 'PUSh%' OR ATTRIBUTE LIKE 'PUSr%' OR ATTRIBUTE LIKE 'PUSs%' OR ATTRIBUTE LIKE 'PUSx%' \n",
    "OR \n",
    "ATTRIBUTE LIKE 'L%USb%' OR ATTRIBUTE LIKE 'L%USd%' OR ATTRIBUTE LIKE 'L%USf%' OR ATTRIBUTE LIKE 'L%USh%' OR ATTRIBUTE LIKE 'L%USr%' OR ATTRIBUTE LIKE 'L%USs%' OR ATTRIBUTE LIKE 'L%USx%' \n",
    ") \n",
    "OR \n",
    "(\n",
    "ATTRIBUTE LIKE 'R1%' AND (ATTRIBUTE LIKE '%EM%' OR ATTRIBUTE LIKE '%US%')\n",
    ") \n",
    ") \n",
    "AND NOT \n",
    "(\n",
    "ATTRIBUTE LIKE '%A_' OR ATTRIBUTE LIKE '%C_' OR ATTRIBUTE LIKE '%E_' OR ATTRIBUTE LIKE '%F_' OR ATTRIBUTE LIKE '%G_' OR ATTRIBUTE LIKE '%H_' OR ATTRIBUTE LIKE '%J_' OR ATTRIBUTE LIKE '%K_' \n",
    "OR \n",
    "ATTRIBUTE LIKE '%C__' OR ATTRIBUTE LIKE '%E__' OR ATTRIBUTE LIKE '%F__' OR ATTRIBUTE LIKE '%G__' OR ATTRIBUTE LIKE '%H__' OR ATTRIBUTE LIKE '%J__' OR ATTRIBUTE LIKE '%K__' \n",
    ") \n",
    "AND NOT\n",
    "(\n",
    "ATTRIBUTE LIKE '_b' OR ATTRIBUTE LIKE '_d' OR ATTRIBUTE LIKE '_f' OR ATTRIBUTE LIKE '_h' OR ATTRIBUTE LIKE '_r' OR ATTRIBUTE LIKE '_s' OR ATTRIBUTE LIKE '_x' \n",
    ")\n",
    "AND ATTRIBUTE NOT LIKE '__S' \n",
    "AND ATTRIBUTE NOT LIKE '__M' \n",
    "AND ATTRIBUTE NOT LIKE '_'\"\"\")"
   ]
  },
  {
   "cell_type": "markdown",
   "metadata": {
    "hidden": true
   },
   "source": [
    "### Merger and Convert to raster"
   ]
  },
  {
   "cell_type": "code",
   "execution_count": 41,
   "metadata": {
    "hidden": true
   },
   "outputs": [
    {
     "data": {
      "text/html": [
       "<div class='gpresult'><h2>Messages</h2><div id='messages' data-messages='[\"Start Time: Monday, May 22, 2023 7:21:38 AM\",\"Succeeded at Monday, May 22, 2023 7:22:23 AM (Elapsed Time: 44.91 seconds)\"]' data-show='true'><div id = 'default' /></div></div>"
      ],
      "text/plain": [
       "<Result 'F:\\\\Blueprint\\\\2023Indicators\\\\CoastalMarsh\\\\CoastalMarsh2023.gdb\\\\SE_Wetlands_coastal'>"
      ]
     },
     "execution_count": 41,
     "metadata": {},
     "output_type": "execute_result"
    }
   ],
   "source": [
    "# merge coastal wetlands\n",
    "arcpy.Merge_management([\"TX_Wetlands_coastal\", \"LA_Wetlands_coastal\", \"MS_Wetlands_coastal\", \"AL_Wetlands_coastal\", \"FL_Wetlands_coastal\", \"GA_Wetlands_coastal\", \"SC_Wetlands_coastal\", \"NC_Wetlands_coastal\", \"VA_Wetlands_coastal\"], \n",
    "                       \"SE_Wetlands_coastal\")"
   ]
  },
  {
   "cell_type": "code",
   "execution_count": 42,
   "metadata": {
    "hidden": true
   },
   "outputs": [
    {
     "data": {
      "text/html": [
       "<div class='gpresult'><h2>Messages</h2><div id='messages' data-messages='[\"Start Time: Monday, May 22, 2023 7:22:25 AM\",\"Dissolving...\",\"Succeeded at Monday, May 22, 2023 7:31:56 AM (Elapsed Time: 9 minutes 31 seconds)\"]' data-show='true'><div id = 'default' /></div></div>"
      ],
      "text/plain": [
       "<Result 'F:\\\\Blueprint\\\\2023Indicators\\\\CoastalMarsh\\\\CoastalMarsh2023.gdb\\\\SE_Wetlands_coastal_Dissolve'>"
      ]
     },
     "execution_count": 42,
     "metadata": {},
     "output_type": "execute_result"
    }
   ],
   "source": [
    "# dissolve coastal wetlands\n",
    "arcpy.management.Dissolve(\"SE_Wetlands_coastal\", \"SE_Wetlands_coastal_Dissolve\", None, None, \"MULTI_PART\", \"DISSOLVE_LINES\")"
   ]
  },
  {
   "cell_type": "code",
   "execution_count": 43,
   "metadata": {
    "hidden": true
   },
   "outputs": [
    {
     "data": {
      "text/html": [
       "<div class='gpresult'><h2>Messages</h2><div id='messages' data-messages='[\"Start Time: Monday, May 22, 2023 7:32:29 AM\",\"Succeeded at Monday, May 22, 2023 8:32:24 AM (Elapsed Time: 59 minutes 55 seconds)\"]' data-show='true'><div id = 'default' /></div></div>"
      ],
      "text/plain": [
       "<Result 'F:\\\\Blueprint\\\\2023Indicators\\\\CoastalMarsh\\\\CoastalMarsh2023.gdb\\\\SE_Wetlands_coastal_Dissolve_30m'>"
      ]
     },
     "execution_count": 43,
     "metadata": {},
     "output_type": "execute_result"
    }
   ],
   "source": [
    "# create a 30 m buffer\n",
    "arcpy.analysis.Buffer(\"SE_Wetlands_coastal_Dissolve\", \"SE_Wetlands_coastal_Dissolve_30m\", \"30 Meters\", \"FULL\", \"ROUND\", \"ALL\", None, \"PLANAR\")"
   ]
  },
  {
   "cell_type": "code",
   "execution_count": 45,
   "metadata": {
    "hidden": true
   },
   "outputs": [
    {
     "data": {
      "text/html": [
       "<div class='gpresult'><h2>Messages</h2><div id='messages' data-messages='[\"Start Time: Monday, May 22, 2023 9:04:53 AM\",\"Succeeded at Monday, May 22, 2023 12:50:56 PM (Elapsed Time: 3 hours 46 minutes 3 seconds)\"]' data-show='true'><div id = 'default' /></div></div>"
      ],
      "text/plain": [
       "<Result 'F:\\\\Blueprint\\\\2023Indicators\\\\CoastalMarsh\\\\CoastalMarsh2023.gdb\\\\WetlandMask'>"
      ]
     },
     "execution_count": 45,
     "metadata": {},
     "output_type": "execute_result"
    }
   ],
   "source": [
    "# convert poly to raster\n",
    "arcpy.FeatureToRaster_conversion(\"SE_Wetlands_coastal_Dissolve_30m\", \"OBJECTID\", \"WetlandMask\", arcpy.env.cellSize)"
   ]
  },
  {
   "cell_type": "markdown",
   "metadata": {
    "hidden": true
   },
   "source": [
    "### Projection order"
   ]
  },
  {
   "cell_type": "code",
   "execution_count": null,
   "metadata": {
    "hidden": true
   },
   "outputs": [],
   "source": []
  },
  {
   "cell_type": "code",
   "execution_count": 6,
   "metadata": {
    "hidden": true
   },
   "outputs": [
    {
     "data": {
      "text/html": [
       "<div class='gpresult'><h2>Messages</h2><div id='messages' data-messages='[\"Start Time: Thursday, June 1, 2023 1:54:52 PM\",\"Succeeded at Thursday, June 1, 2023 5:02:26 PM (Elapsed Time: 3 hours 7 minutes 34 seconds)\"]' data-show='true'><div id = 'default' /></div></div>"
      ],
      "text/plain": [
       "<Result 'C:\\\\Data\\\\Indicators\\\\CoastalMarsh\\\\CoastalMarsh2023.gdb\\\\WetlandMask2'>"
      ]
     },
     "execution_count": 6,
     "metadata": {},
     "output_type": "execute_result"
    }
   ],
   "source": [
    "# convert poly to raster\n",
    "arcpy.FeatureToRaster_conversion(\"SE_Wetlands_coastal_Dissolve_30mAlbers\", \"OBJECTID\", \"WetlandMask2\", arcpy.env.cellSize)"
   ]
  },
  {
   "cell_type": "code",
   "execution_count": 7,
   "metadata": {
    "hidden": true
   },
   "outputs": [
    {
     "data": {
      "text/html": [
       "<div class='gpresult'><h2>Messages</h2><div id='messages' data-messages='[\"Start Time: Thursday, June 1, 2023 5:02:28 PM\",\"Succeeded at Thursday, June 1, 2023 5:04:01 PM (Elapsed Time: 1 minutes 32 seconds)\"]' data-show='true'><div id = 'default' /></div></div>"
      ],
      "text/plain": [
       "<Result 'C:\\\\Data\\\\Indicators\\\\CoastalMarsh\\\\CoastalMarsh2023.gdb\\\\WetlandMaskP'>"
      ]
     },
     "execution_count": 7,
     "metadata": {},
     "output_type": "execute_result"
    }
   ],
   "source": [
    "# define spatial reference\n",
    "sr= arcpy.SpatialReference(5070)\n",
    "\n",
    "arcpy.env.snapRaster = r\"C:\\Data\\Indicators\\BaseBlueprintExtent2022.tif\"\n",
    "arcpy.env.cellSize = r\"C:\\Data\\Indicators\\BaseBlueprintExtent2022.tif\"\n",
    "\n",
    "# project rasters\n",
    "arcpy.management.ProjectRaster(\"WetlandMask\", \"WetlandMaskP\", sr, \"BILINEAR\", \"30 30\", \"#\", \"#\", \"#\", \"NO_VERTICAL\")\n",
    "#arcpy.management.ProjectRaster(\"Gsd\", \"GsdP\", sr,  \"BILINEAR\", \"30 30\", \"WGS_1984_(ITRF00)_To_NAD_1983\", \"#\", \"#\", \"NO_VERTICAL\")\n"
   ]
  },
  {
   "cell_type": "markdown",
   "metadata": {},
   "source": [
    "# Extract Stable marsh from coastal marsh mask"
   ]
  },
  {
   "cell_type": "code",
   "execution_count": 34,
   "metadata": {},
   "outputs": [],
   "source": [
    "# intersect wetland mask with full stable marsh files\n",
    "\n",
    "ATL_StableMarsh_clip = arcpy.sa.Times(\"ATL_StableMarsh_all_SE\", \"WetlandMask2\"); ATL_StableMarsh_clip.save(\"ATL_StableMarsh_clip\")\n",
    "\n",
    "GOM_StableMarsh_clip = arcpy.sa.Times(\"GOM_StableMarsh_allP\", \"WetlandMask2\"); GOM_StableMarsh_clip.save(\"GOM_StableMarsh_clip\")"
   ]
  },
  {
   "cell_type": "code",
   "execution_count": 36,
   "metadata": {},
   "outputs": [
    {
     "data": {
      "text/html": [
       "<div class='gpresult'><h2>Messages</h2><div id='messages' data-messages='[\"Start Time: Tuesday, June 6, 2023 2:36:32 PM\",\"ATL_StableMarsh_clip is loading...\",\"GOM_StableMarsh_clip is loading...\",\"Succeeded at Tuesday, June 6, 2023 2:48:20 PM (Elapsed Time: 11 minutes 47 seconds)\"]' data-show='true'><div id = 'default' /></div></div>"
      ],
      "text/plain": [
       "<Result 'C:\\\\Data\\\\Indicators\\\\CoastalMarsh\\\\CoastalMarsh2023.gdb\\\\SE_stable_marsh'>"
      ]
     },
     "execution_count": 36,
     "metadata": {},
     "output_type": "execute_result"
    }
   ],
   "source": [
    "arcpy.management.MosaicToNewRaster(\"ATL_StableMarsh_clip;GOM_StableMarsh_clip\", env.workspace, \"SE_stable_marsh\", sr, \"8_BIT_UNSIGNED\", 30, 1, \"MAXIMUM\", \"FIRST\")"
   ]
  },
  {
   "cell_type": "code",
   "execution_count": 37,
   "metadata": {},
   "outputs": [],
   "source": [
    "# reclass to Score = 2\n",
    "# set up local variables\n",
    "remap = RemapValue([[1, 2]])\n",
    "# Execute Reclassify\n",
    "SE_stable_marsh2 = Reclassify(\"SE_stable_marsh\", \"VALUE\", remap)\n",
    "SE_stable_marsh2.save(\"SE_stable_marsh2\")"
   ]
  },
  {
   "cell_type": "markdown",
   "metadata": {},
   "source": [
    "## Unstable/stable low certainity marsh"
   ]
  },
  {
   "cell_type": "code",
   "execution_count": 49,
   "metadata": {},
   "outputs": [],
   "source": [
    "# intersect wetland mask with full costal marsh files\n",
    "\n",
    "SE_CoastalMarsh = arcpy.sa.Times(\"SE_extent\", \"WetlandMask2\"); SE_CoastalMarsh.save(\"SE_CoastalMarsh\")\n",
    "\n",
    "remap = RemapValue([[0, 1]])\n",
    "# Execute Reclassify\n",
    "SE_CoastalMarsh1 = Reclassify(\"SE_CoastalMarsh\", \"VALUE\", remap)\n",
    "SE_CoastalMarsh1.save(\"SE_CoastalMarsh1\")"
   ]
  },
  {
   "cell_type": "markdown",
   "metadata": {},
   "source": [
    "## Stack up raster"
   ]
  },
  {
   "cell_type": "code",
   "execution_count": 50,
   "metadata": {},
   "outputs": [],
   "source": [
    "# Execute CellStatistics\n",
    "SE_marsh = CellStatistics([\"SE_stable_marsh2\", \"SE_CoastalMarsh1\", \"SE_extent\"], \"MAXIMUM\", \"DATA\", \"SINGLE_BAND\")\n",
    "\n",
    "# Save the output \n",
    "SE_marsh.save(\"SE_marsh\")"
   ]
  },
  {
   "cell_type": "markdown",
   "metadata": {},
   "source": [
    "## Finalize indicator"
   ]
  },
  {
   "cell_type": "code",
   "execution_count": 51,
   "metadata": {},
   "outputs": [],
   "source": [
    "# clip to SE BP boundary\n",
    "SE_marsh_clip = arcpy.sa.ExtractByMask(\"SE_marsh\", extent); SE_marsh_clip.save(\"SE_marsh_clip\")"
   ]
  },
  {
   "cell_type": "code",
   "execution_count": null,
   "metadata": {},
   "outputs": [],
   "source": [
    "## UPDATE CODE FORE MULTI CLASS RASTER"
   ]
  },
  {
   "cell_type": "code",
   "execution_count": 2,
   "metadata": {},
   "outputs": [],
   "source": [
    "# set code block for next step\n",
    "codeblock = \"\"\"\n",
    "def Reclass(value):\n",
    "    if value == 2:\n",
    "        return '2 = Stable coastal wetlands'\n",
    "    elif value == 1:\n",
    "        return '1 = Other coastal wetlands' \n",
    "    elif value == 0:\n",
    "        return '0 = Not identified as coastal wetlands'  \n",
    "\"\"\""
   ]
  },
  {
   "cell_type": "code",
   "execution_count": 3,
   "metadata": {},
   "outputs": [
    {
     "data": {
      "text/html": [
       "<div class='gpresult'><h2>Messages</h2><div id='messages' data-messages='[\"Start Time: Friday, June 23, 2023 9:09:11 AM\",\"Succeeded at Friday, June 23, 2023 9:09:12 AM (Elapsed Time: 1.11 seconds)\"]' data-show='true'><div id = 'default' /></div></div>"
      ],
      "text/plain": [
       "<Result 'C:\\\\Data\\\\Indicators\\\\CoastalMarsh\\\\CoastalMarsh2023.gdb\\\\SE_marsh_clip'>"
      ]
     },
     "execution_count": 3,
     "metadata": {},
     "output_type": "execute_result"
    }
   ],
   "source": [
    "# add and calculate description field to hold indicator values\n",
    "arcpy.management.CalculateField(\"SE_marsh_clip\", \"descript\", \"Reclass(!value!)\", \"PYTHON3\", codeblock, \"TEXT\")"
   ]
  },
  {
   "cell_type": "code",
   "execution_count": 2,
   "metadata": {},
   "outputs": [],
   "source": [
    "# set code block for next step\n",
    "codeblock = \"\"\"\n",
    "def Reclass1(Value):\n",
    "\tif Value == 2:\n",
    "\t\treturn 29\n",
    "\tif Value == 1:\n",
    "\t\treturn 157\n",
    "\telse:\n",
    "\t\treturn 255\n",
    "\t\t\n",
    "def Reclass2(Value):\n",
    "\tif Value == 2:\n",
    "\t\treturn 75\n",
    "\tif Value == 1:\n",
    "\t\treturn 164\n",
    "\telse:\n",
    "\t\treturn 255\n",
    "\t\t\n",
    "def Reclass3(Value):\n",
    "\tif Value == 2:\n",
    "\t\treturn 168\n",
    "\tif Value == 1:\n",
    "\t\treturn 233\n",
    "\telse:\n",
    "\t\treturn 255\n",
    "\"\"\""
   ]
  },
  {
   "cell_type": "code",
   "execution_count": 3,
   "metadata": {},
   "outputs": [
    {
     "data": {
      "text/html": [
       "<div class='gpresult'><h2>Messages</h2><div id='messages' data-messages='[\"Start Time: Tuesday, August 29, 2023 2:13:40 PM\",\"Succeeded at Tuesday, August 29, 2023 2:13:40 PM (Elapsed Time: 0.48 seconds)\"]' data-show='true'><div id = 'default' /></div></div>"
      ],
      "text/plain": [
       "<Result 'SE_marsh_clip'>"
      ]
     },
     "execution_count": 3,
     "metadata": {},
     "output_type": "execute_result"
    }
   ],
   "source": [
    "# calculate Red field\n",
    "arcpy.management.CalculateField(\"SE_marsh_clip\", \"Red\", \"Reclass1(!Value!)\", \"PYTHON3\", codeblock, \"SHORT\")\n",
    "# calculate Green field\n",
    "arcpy.management.CalculateField(\"SE_marsh_clip\", \"Green\", \"Reclass2(!Value!)\", \"PYTHON3\", codeblock, \"SHORT\")\n",
    "# calculate Blue field\n",
    "arcpy.management.CalculateField(\"SE_marsh_clip\", \"Blue\", \"Reclass3(!Value!)\", \"PYTHON3\", codeblock, \"SHORT\")"
   ]
  },
  {
   "cell_type": "code",
   "execution_count": 6,
   "metadata": {},
   "outputs": [],
   "source": [
    "# clip to 2023 VIPR Blueprint extent\n",
    "with arcpy.EnvManager(outputCoordinateSystem=sr, extent=extent, snapRaster=extent, cellSize=extent):\n",
    "    SEMask = arcpy.sa.ExtractByMask(\"SE_marsh_clip\", extent); SEMask.save(\"SEMask\")"
   ]
  },
  {
   "cell_type": "code",
   "execution_count": 9,
   "metadata": {},
   "outputs": [],
   "source": [
    "# export to tiff\n",
    "with arcpy.EnvManager(snapRaster=extent, extent=extent, cellSize=extent):\n",
    "    arcpy.management.CopyRaster(\"SEMask\", SEout, '', None, \"255\", \"NONE\", \"NONE\", \"8_BIT_UNSIGNED\", \"NONE\", \"NONE\", \"TIFF\", \"NONE\", \"CURRENT_SLICE\", \"NO_TRANSPOSE\")"
   ]
  },
  {
   "cell_type": "markdown",
   "metadata": {},
   "source": [
    "## FIN"
   ]
  }
 ],
 "metadata": {
  "kernelspec": {
   "display_name": "ArcGISPro",
   "language": "Python",
   "name": "python3"
  },
  "language_info": {
   "file_extension": ".py",
   "name": "python",
   "version": "3"
  }
 },
 "nbformat": 4,
 "nbformat_minor": 2
}
