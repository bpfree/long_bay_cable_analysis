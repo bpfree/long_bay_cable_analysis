{
 "cells": [
  {
   "cell_type": "code",
   "execution_count": 1,
   "metadata": {},
   "outputs": [
    {
     "data": {
      "text/html": [
       "<div class='gpresult'><h2>Messages</h2><div id='messages' data-messages='[\"Start Time: Tuesday, August 29, 2023 10:55:47 AM\",\"Succeeded at Tuesday, August 29, 2023 10:55:47 AM (Elapsed Time: 0.17 seconds)\"]' data-show='true'><div id = 'default' /></div></div>"
      ],
      "text/plain": [
       "<Result 'E:\\\\projects\\\\BP\\\\BP23\\\\VIPR_FishNursery_v19.tif'>"
      ]
     },
     "execution_count": 1,
     "metadata": {},
     "output_type": "execute_result"
    }
   ],
   "source": [
    "# define spatial reference and workspaces\n",
    "sr= arcpy.SpatialReference(5070)\n",
    "\n",
    "# define rasters used for cell size, extent, and snapping\n",
    "VIPRraster= r\"E:\\projects\\BP\\BP23\\extent\\VIPR_Extent_v6.tif\"\n",
    "#VIPRpoly = r\"E:\\projects\\BP\\BP23\\extent\\VIPR_Extent_v4.shp\"\n",
    "\n",
    "# define inputs\n",
    "out_raster2 = r\"E:\\projects\\BP\\BP23\\VIPR_FishNursery_v19.tif\"\n",
    "arcpy.management.BuildRasterAttributeTable(out_raster2, \"Overwrite\", \"NONE\")"
   ]
  },
  {
   "cell_type": "code",
   "execution_count": 2,
   "metadata": {},
   "outputs": [],
   "source": [
    "out_raster2 = arcpy.sa.Reclassify(out_raster2, \"Value\", \"1 1;NODATA 0\", \"DATA\"); out_raster2.save(r\"E:\\projects\\BP\\BP23\\VIPR_FishNursery_v20.tif\")"
   ]
  },
  {
   "cell_type": "code",
   "execution_count": 3,
   "metadata": {},
   "outputs": [],
   "source": [
    "# set code block for next step\n",
    "codeblock = \"\"\"\n",
    "def Reclass(Value):\n",
    "    if Value == 1:\n",
    "        return \"1 = Fish spawning, nursery, or other concentration area\"\n",
    "    elif Value == 0:\n",
    "        return \"0 = Not identified as a fish spawning, nursery, or other concentration area\"\n",
    "\"\"\""
   ]
  },
  {
   "cell_type": "code",
   "execution_count": 4,
   "metadata": {},
   "outputs": [],
   "source": [
    "# Value R G B\n",
    "\n",
    "# set code block for next step\n",
    "codeblock_red = \"\"\"\n",
    "def Reclass(Value):\n",
    "    if Value == 1:\n",
    "        return \"102\"\n",
    "    if Value == 0:\n",
    "        return \"255\"\n",
    "\"\"\"\n",
    "codeblock_green = \"\"\"\n",
    "def Reclass(Value):\n",
    "    if Value == 1:\n",
    "        return \"241\"\n",
    "    if Value == 0:\n",
    "        return \"255\"\n",
    "\"\"\"\n",
    "codeblock_blue = \"\"\"\n",
    "def Reclass(Value):\n",
    "    if Value == 1:\n",
    "        return \"255\"\n",
    "    if Value == 0:\n",
    "        return \"255\"\n",
    "\"\"\""
   ]
  },
  {
   "cell_type": "code",
   "execution_count": 5,
   "metadata": {},
   "outputs": [
    {
     "data": {
      "text/html": [
       "<div class='gpresult'><h2>Messages</h2><div id='messages' data-messages='[\"Start Time: Tuesday, August 29, 2023 10:56:04 AM\",\"Adding Blue to VIPR_FishNursery_v20.tif.vat...\",\"Succeeded at Tuesday, August 29, 2023 10:56:04 AM (Elapsed Time: 0.02 seconds)\"]' data-show='true'><div id = 'default' /></div></div>"
      ],
      "text/plain": [
       "<Result 'E:\\\\projects\\\\BP\\\\BP23\\\\VIPR_FishNursery_v20.tif'>"
      ]
     },
     "execution_count": 5,
     "metadata": {},
     "output_type": "execute_result"
    }
   ],
   "source": [
    "arcpy.management.CalculateField(out_raster2, \"descript\", \"Reclass(!Value!)\", \"PYTHON3\", codeblock, \"TEXT\")\n",
    "arcpy.management.CalculateField(out_raster2, \"Red\", \"Reclass(!Value!)\", \"PYTHON3\", codeblock_red, \"LONG\")\n",
    "arcpy.management.CalculateField(out_raster2, \"Green\", \"Reclass(!Value!)\", \"PYTHON3\", codeblock_green, \"LONG\")\n",
    "arcpy.management.CalculateField(out_raster2, \"Blue\", \"Reclass(!Value!)\", \"PYTHON3\", codeblock_blue, \"LONG\")"
   ]
  },
  {
   "cell_type": "code",
   "execution_count": 6,
   "metadata": {},
   "outputs": [],
   "source": [
    "# export as .tif \n",
    "out_raster2 = arcpy.sa.ExtractByMask(out_raster2, VIPRraster); out_raster2.save(r\"E:\\projects\\BP\\BP23\\VIPR_FishNursery_v25.tif\")"
   ]
  },
  {
   "cell_type": "code",
   "execution_count": null,
   "metadata": {},
   "outputs": [],
   "source": []
  }
 ],
 "metadata": {
  "kernelspec": {
   "display_name": "ArcGISPro",
   "language": "Python",
   "name": "python3"
  },
  "language_info": {
   "file_extension": ".py",
   "name": "python",
   "version": "3"
  }
 },
 "nbformat": 4,
 "nbformat_minor": 2
}
