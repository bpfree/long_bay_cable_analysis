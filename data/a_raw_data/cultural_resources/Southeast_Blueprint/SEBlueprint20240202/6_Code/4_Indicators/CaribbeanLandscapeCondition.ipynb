{
 "cells": [
  {
   "cell_type": "markdown",
   "metadata": {},
   "source": [
    "# Caribbean Landscape Condition\n",
    "\n",
    "This is an indicator for use in Southeast Blueprint 2023. Code by Rua Mordecai."
   ]
  },
  {
   "cell_type": "markdown",
   "metadata": {},
   "source": [
    "## Import libraries and define variables"
   ]
  },
  {
   "cell_type": "code",
   "execution_count": 1,
   "metadata": {},
   "outputs": [],
   "source": [
    "import os\n",
    "import arcpy"
   ]
  },
  {
   "cell_type": "code",
   "execution_count": 2,
   "metadata": {},
   "outputs": [],
   "source": [
    "# define spatial reference, workspaces, and source data location\n",
    "sr= arcpy.SpatialReference(5070)\n",
    "OutputWorkspace = r\"D:\\Blueprint\\2023\\finalIndicatorEdits\\CaribbeanBlueprint2023_FinalIndicators\\CaribbeanBlueprint2023_FinalIndicators\\SpatialData\"\n",
    "landfire = r\"D:\\Landcover\\LF2020_Puerto_Rico_Virgin_Islands_220_IA\\LF2020_PRVI_220_IA\\LF2020_EVT_220_PRVI\\Tif\\LV20_EVT_220.tif\""
   ]
  },
  {
   "cell_type": "code",
   "execution_count": 3,
   "metadata": {},
   "outputs": [],
   "source": [
    "# define final output name\n",
    "IndicatorFileName = \"CaribbeanLandscapeCondition.tif\""
   ]
  },
  {
   "cell_type": "code",
   "execution_count": 4,
   "metadata": {},
   "outputs": [],
   "source": [
    "# define raster used for cell size, extent, and snapping\n",
    "CaribbeanRaster= r\"D:\\Blueprint\\2023\\extent\\VIPR_Extent_v6.tif\""
   ]
  },
  {
   "cell_type": "code",
   "execution_count": 5,
   "metadata": {},
   "outputs": [],
   "source": [
    "# If looking at the impact of restoration in parcel, define the shapefile where all landcover should become natural\n",
    "# RestoreArea = r\"D:\\UserSupport\\USVI_RLA2023\\ParcelRLA\\ParcelRLA.shp\""
   ]
  },
  {
   "cell_type": "code",
   "execution_count": 6,
   "metadata": {},
   "outputs": [],
   "source": [
    "# island boundary data. This is to separate ocean from fresh and brackish water\n",
    "islandBoundary = r\"D:\\Blueprint\\2023\\extent\\Islands3Size.tif\""
   ]
  },
  {
   "cell_type": "code",
   "execution_count": 7,
   "metadata": {},
   "outputs": [],
   "source": [
    "# Sometimes arcpro is fussy about not overwriting things\n",
    "arcpy.env.overwriteOutput = True"
   ]
  },
  {
   "cell_type": "markdown",
   "metadata": {},
   "source": [
    "## Start analysis"
   ]
  },
  {
   "cell_type": "code",
   "execution_count": 8,
   "metadata": {},
   "outputs": [],
   "source": [
    "# Set the source workspace\n",
    "arcpy.env.workspace = OutputWorkspace"
   ]
  },
  {
   "cell_type": "code",
   "execution_count": 67,
   "metadata": {},
   "outputs": [],
   "source": [
    "# Reclassify Landfire based on amount of alteration. 3 is natural, 2 is altered, and 1 is heavily altered. \n",
    "# Medium and High intensity developed are 1, anything else categorized as \"Developed\",\"Agriculture\", or \"Barren\" in \"EVT_LF\" \n",
    "# or \"Agriculture - Pasture and Hay\" or \"Bush fruit and berries\" in \"EVT_NAME\" is 2, everything else is 3.\n",
    "# \"Open Water\" is 3 but will later only include fresh/brackish water/salt ponds after it multiplied by the \n",
    "# island boundary raster to remove ocean.\n",
    "# Reproject and snap to match the following raster\n",
    "with arcpy.EnvManager(outputCoordinateSystem=sr, extent=CaribbeanRaster, snapRaster=CaribbeanRaster, cellSize=CaribbeanRaster):\n",
    "    out_raster = arcpy.sa.Reclassify(landfire, \"Value\", \"-9999 NODATA;7292 3;7295 7296 2;7297 7298 1;7299 7300 2;7754 2;7755 2;7838 2;7861 7888 3;9303 9803 3\", \"DATA\"); out_raster.save(\"naturalness.tif\")"
   ]
  },
  {
   "cell_type": "code",
   "execution_count": 9,
   "metadata": {},
   "outputs": [],
   "source": [
    "# prep islands boundary raster. Reclass so all islands have same value\n",
    "out_raster = arcpy.sa.Reclassify(islandBoundary, \"Value\", \"1 NODATA;2 4 1\", \"DATA\"); out_raster.save(\"islandBoundaryBin.tif\")"
   ]
  },
  {
   "cell_type": "code",
   "execution_count": 10,
   "metadata": {},
   "outputs": [],
   "source": [
    "# Combine rasters to make ocean noData\n",
    "out_raster = arcpy.sa.Times(\"naturalness.tif\", \"islandBoundaryBin.tif\"); out_raster.save(\"4classRudAsNat.tif\")"
   ]
  },
  {
   "cell_type": "markdown",
   "metadata": {
    "heading_collapsed": true
   },
   "source": [
    "### Uncomment this section if looking at impact of restoration"
   ]
  },
  {
   "cell_type": "code",
   "execution_count": 8,
   "metadata": {
    "hidden": true
   },
   "outputs": [
    {
     "data": {
      "text/html": [
       "<div class='gpresult'><h2>Messages</h2><div id='messages' data-messages='[\"Start Time: Tuesday, February 21, 2023 1:59:57 PM\",\"Succeeded at Tuesday, February 21, 2023 1:59:58 PM (Elapsed Time: 0.58 seconds)\"]' data-show='true'><div id = 'default' /></div></div>"
      ],
      "text/plain": [
       "<Result 'D:\\\\Blueprint\\\\2023\\\\Caribbean\\\\Indicators\\\\LandscapeIntegrity\\\\working\\\\restoreArea.shp'>"
      ]
     },
     "execution_count": 8,
     "metadata": {},
     "output_type": "execute_result"
    }
   ],
   "source": [
    "# Make a copy of restoration shapefile\n",
    "#arcpy.management.CopyFeatures(RestoreArea, \"restoreArea.shp\")"
   ]
  },
  {
   "cell_type": "code",
   "execution_count": 9,
   "metadata": {
    "hidden": true
   },
   "outputs": [
    {
     "data": {
      "text/html": [
       "<div class='gpresult'><h2>Messages</h2><div id='messages' data-messages='[\"Start Time: Tuesday, February 21, 2023 1:59:58 PM\",\"Adding raster to restoreArea...\",\"Succeeded at Tuesday, February 21, 2023 1:59:58 PM (Elapsed Time: 0.09 seconds)\"]' data-show='true'><div id = 'default' /></div></div>"
      ],
      "text/plain": [
       "<Result 'D:\\\\Blueprint\\\\2023\\\\Caribbean\\\\Indicators\\\\LandscapeIntegrity\\\\working\\\\restoreArea.shp'>"
      ]
     },
     "execution_count": 9,
     "metadata": {},
     "output_type": "execute_result"
    }
   ],
   "source": [
    "# add a field to convert to raster\n",
    "#arcpy.management.CalculateField(\"restoreArea.shp\", \"raster\", \"3\", \"PYTHON3\", '', \"SHORT\")"
   ]
  },
  {
   "cell_type": "code",
   "execution_count": 10,
   "metadata": {
    "hidden": true
   },
   "outputs": [],
   "source": [
    "# convert to raster and snap to landfire\n",
    "#with arcpy.EnvManager(outputCoordinateSystem=landfire, extent=landfire, snapRaster=landfire, cellSize=landfire):\n",
    "#    arcpy.conversion.FeatureToRaster(in_features=\"restoreArea.shp\", field=\"raster\", out_raster=\"restoreAreaR.tif\", cell_size=landfire)"
   ]
  },
  {
   "cell_type": "code",
   "execution_count": 11,
   "metadata": {
    "hidden": true
   },
   "outputs": [],
   "source": [
    "# Change noData pixels to 0  \n",
    "#out_raster = arcpy.sa.Reclassify(\"restoreAreaR.tif\", \"Value\", \"NODATA 0;3 3\", \"DATA\"); out_raster.save(\"restoreAreaRZ.tif\")"
   ]
  },
  {
   "cell_type": "code",
   "execution_count": 19,
   "metadata": {
    "hidden": true
   },
   "outputs": [
    {
     "data": {
      "text/html": [
       "<div class='gpresult'><h2>Messages</h2><div id='messages' data-messages='[\"Start Time: Tuesday, February 21, 2023 2:09:52 PM\",\"Building Pyramids...\",\"Calculating Statistics...\",\"Succeeded at Tuesday, February 21, 2023 2:09:55 PM (Elapsed Time: 2.52 seconds)\"]' data-show='true'><div id = 'default' /></div></div>"
      ],
      "text/plain": [
       "<Result 'D:\\\\Blueprint\\\\2023\\\\Caribbean\\\\Indicators\\\\LandscapeIntegrity\\\\working\\\\4classRudAsNat2.tif'>"
      ]
     },
     "execution_count": 19,
     "metadata": {},
     "output_type": "execute_result"
    }
   ],
   "source": [
    "# Copy raster so we can use it below but get back to the original name\n",
    "#arcpy.management.CopyRaster(\"4classRudAsNat.tif\",\"4classRudAsNat2.tif\")"
   ]
  },
  {
   "cell_type": "code",
   "execution_count": 20,
   "metadata": {
    "hidden": true
   },
   "outputs": [],
   "source": [
    "# change raster so anything in restoration area that's not natural becomes natural\n",
    "# out_raster = arcpy.sa.Con(arcpy.sa.Raster(\"restoreAreaRZ.tif\") == 3,3,\"4classRudAsNat2.tif\"); out_raster.save(\"4classRudAsNat.tif\")"
   ]
  },
  {
   "cell_type": "markdown",
   "metadata": {},
   "source": [
    "### Analysis continues"
   ]
  },
  {
   "cell_type": "code",
   "execution_count": 11,
   "metadata": {},
   "outputs": [],
   "source": [
    "# 7 cell mean for area of roughly 10 acres\n",
    "out_raster = arcpy.sa.FocalStatistics(\"4classRudAsNat.tif\", \"Rectangle 7 7 CELL\", \"MEAN\", \"DATA\", 90); out_raster.save(\"4class_7cell.tif\")"
   ]
  },
  {
   "cell_type": "code",
   "execution_count": 12,
   "metadata": {},
   "outputs": [],
   "source": [
    "# 21 cell mean for area of roughly 100 acres\n",
    "out_raster = arcpy.sa.FocalStatistics(\"4classRudAsNat.tif\", \"Rectangle 21 21 CELL\", \"MEAN\", \"DATA\", 90); out_raster.save(\"4class_21cell.tif\")"
   ]
  },
  {
   "cell_type": "code",
   "execution_count": 13,
   "metadata": {},
   "outputs": [],
   "source": [
    "# 67 cell mean for area of roughly 1000 acres\n",
    "out_raster = arcpy.sa.FocalStatistics(\"4classRudAsNat.tif\", \"Rectangle 67 67 CELL\", \"MEAN\", \"DATA\", 90); out_raster.save(\"4class_67cell.tif\")"
   ]
  },
  {
   "cell_type": "code",
   "execution_count": 14,
   "metadata": {},
   "outputs": [],
   "source": [
    "# Average 4 scales together with all scales getting equal weight\n",
    "output_raster = arcpy.ia.RasterCalculator([\"4class_67cell.tif\",\"4class_21cell.tif\",\"4class_7cell.tif\",\"4classRudAsNat.tif\"],['Large','Medium','Small','Smallest'],'(Large + Medium + Small + Smallest)/4'); output_raster.save(\"4ScaleMean.tif\")"
   ]
  },
  {
   "cell_type": "code",
   "execution_count": 15,
   "metadata": {},
   "outputs": [],
   "source": [
    "# convert to indicator bins\n",
    "with arcpy.EnvManager(outputCoordinateSystem=sr, extent=CaribbeanRaster, snapRaster=CaribbeanRaster, cellSize=CaribbeanRaster):\n",
    "    out_raster = arcpy.sa.Reclassify('4ScaleMean.tif', \"Value\", \"1 1.5 1;1.5 2 2;2 2.5 3;2.5 2.9 4;2.9 3 5\", \"DATA\"); out_raster.save(\"IndicatorBins.tif\")"
   ]
  },
  {
   "cell_type": "code",
   "execution_count": 16,
   "metadata": {},
   "outputs": [],
   "source": [
    "# clip raster to Caribbean extent\n",
    "out_raster = arcpy.sa.ExtractByMask(\"IndicatorBins.tif\", CaribbeanRaster); out_raster.save(IndicatorFileName)"
   ]
  },
  {
   "cell_type": "markdown",
   "metadata": {},
   "source": [
    "## Finalize indicator"
   ]
  },
  {
   "cell_type": "code",
   "execution_count": 17,
   "metadata": {},
   "outputs": [],
   "source": [
    "# set code block for legend\n",
    "codeblock = \"\"\"\n",
    "def Reclass(value):\n",
    "    if value == 1:\n",
    "        return '1 = Heavily altered landscape'    \n",
    "    elif value == 2:\n",
    "        return '2 = Altered landscape'\n",
    "    elif value == 3:\n",
    "        return '3 = Partly natural landscape' \n",
    "    elif value == 4:\n",
    "        return '4 = Mostly natural landscape' \n",
    "    elif value == 5:\n",
    "        return '5 = Natural landscape'        \n",
    "\"\"\""
   ]
  },
  {
   "cell_type": "code",
   "execution_count": 18,
   "metadata": {},
   "outputs": [
    {
     "data": {
      "text/html": [
       "<div class='gpresult'><h2>Messages</h2><div id='messages' data-messages='[\"Start Time: Friday, July 14, 2023 9:24:36 AM\",\"Adding descript to CaribbeanLandscapeCondition.tif.vat...\",\"Succeeded at Friday, July 14, 2023 9:24:37 AM (Elapsed Time: 0.22 seconds)\"]' data-show='true'><div id = 'default' /></div></div>"
      ],
      "text/plain": [
       "<Result 'D:\\\\Blueprint\\\\2023\\\\Caribbean\\\\Indicators\\\\LandscapeIntegrity\\\\working\\\\CaribbeanLandscapeCondition.tif'>"
      ]
     },
     "execution_count": 18,
     "metadata": {},
     "output_type": "execute_result"
    }
   ],
   "source": [
    "# add and calculate description field to hold indicator values\n",
    "arcpy.management.CalculateField(IndicatorFileName, \"descript\", \"Reclass(!value!)\", \"PYTHON3\", codeblock, \"TEXT\")"
   ]
  },
  {
   "cell_type": "code",
   "execution_count": 9,
   "metadata": {},
   "outputs": [],
   "source": [
    "# set code block for next step\n",
    "codeblock = \"\"\"\n",
    "def Reclass1(Value):\n",
    "\tif Value == 5:\n",
    "\t\treturn 97\n",
    "\tif Value == 4:\n",
    "\t\treturn 140\n",
    "\tif Value == 3:\n",
    "\t\treturn 184\n",
    "\tif Value == 2:\n",
    "\t\treturn 225\n",
    "\tif Value == 1:\n",
    "\t\treturn 244\n",
    "\telse:\n",
    "\t\treturn 255\n",
    "\t\t\n",
    "def Reclass2(Value):\n",
    "\tif Value == 5:\n",
    "\t\treturn 107\n",
    "\tif Value == 4:\n",
    "\t\treturn 153\n",
    "\tif Value == 3:\n",
    "\t\treturn 188\n",
    "\tif Value == 2:\n",
    "\t\treturn 208\n",
    "\tif Value == 1:\n",
    "\t\treturn 230\n",
    "\telse:\n",
    "\t\treturn 255\n",
    "\t\t\n",
    "def Reclass3(Value):\n",
    "\tif Value == 5:\n",
    "\t\treturn 75\n",
    "\tif Value == 4:\n",
    "\t\treturn 113\n",
    "\tif Value == 3:\n",
    "\t\treturn 145\n",
    "\tif Value == 2:\n",
    "\t\treturn 170\n",
    "\tif Value == 1:\n",
    "\t\treturn 200\n",
    "\telse:\n",
    "\t\treturn 255\n",
    "\t\t\n",
    "\"\"\""
   ]
  },
  {
   "cell_type": "code",
   "execution_count": 10,
   "metadata": {},
   "outputs": [
    {
     "data": {
      "text/html": [
       "<div class='gpresult'><h2>Messages</h2><div id='messages' data-messages='[\"Start Time: Thursday, September 14, 2023 9:13:25 AM\",\"Succeeded at Thursday, September 14, 2023 9:13:25 AM (Elapsed Time: 0.37 seconds)\"]' data-show='true'><div id = 'default' /></div></div>"
      ],
      "text/plain": [
       "<Result 'D:\\\\Blueprint\\\\2023\\\\finalIndicatorEdits\\\\CaribbeanBlueprint2023_FinalIndicators\\\\CaribbeanBlueprint2023_FinalIndicators\\\\SpatialData\\\\CaribbeanLandscapeCondition.tif'>"
      ]
     },
     "execution_count": 10,
     "metadata": {},
     "output_type": "execute_result"
    }
   ],
   "source": [
    "# calculate Red field\n",
    "arcpy.management.CalculateField(IndicatorFileName, \"Red\", \"Reclass1(!Value!)\", \"PYTHON3\", codeblock, \"SHORT\")\n",
    "# calculate Green field\n",
    "arcpy.management.CalculateField(IndicatorFileName, \"Green\", \"Reclass2(!Value!)\", \"PYTHON3\", codeblock, \"SHORT\")\n",
    "# calculate Blue field\n",
    "arcpy.management.CalculateField(IndicatorFileName, \"Blue\", \"Reclass3(!Value!)\", \"PYTHON3\", codeblock, \"SHORT\")"
   ]
  },
  {
   "cell_type": "code",
   "execution_count": null,
   "metadata": {},
   "outputs": [],
   "source": []
  }
 ],
 "metadata": {
  "kernelspec": {
   "display_name": "ArcGISPro",
   "language": "Python",
   "name": "python3"
  },
  "language_info": {
   "file_extension": ".py",
   "name": "python",
   "version": "3"
  }
 },
 "nbformat": 4,
 "nbformat_minor": 2
}
