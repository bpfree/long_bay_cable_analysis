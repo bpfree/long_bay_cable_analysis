{
 "cells": [
  {
   "cell_type": "code",
   "execution_count": 1,
   "metadata": {},
   "outputs": [],
   "source": [
    "OutWorkspace = r\"E:\\projects\\BP\\Indicators\\indicators.gdb\"\n",
    "sr= arcpy.SpatialReference(5070)\n",
    "\n",
    "# define rasters used for cell size, extent, and snapping\n",
    "SEraster= r\"E:\\projects\\BP\\1_Extent\\BaseBlueprintExtent2022.tif\"\n",
    "SEpoly = r\"E:\\projects\\BP\\1_Extent\\BPExtent.gdb\\BaseBPExtent_2022\"\n",
    "\n",
    "# define inputs\n",
    "landcover = r\"E:\\generalGIS\\NLCD\\nlcd_2019_land_cover_l48_20210604\\nlcd_2019_land_cover_l48_20210604.img\"\n",
    "urbanextent = r\"E:\\generalgis\\TIGER\\tl_2017_us_uac10\\tl_2017_us_uac10_SE5070.shp\"\n",
    "PADUS = r\"E:\\generalgis\\PAD_US2_1_GDB\\PAD_US2_1.gdb\\PADUS2_1Combined_Fee_Easement\"\n"
   ]
  },
  {
   "cell_type": "code",
   "execution_count": 4,
   "metadata": {},
   "outputs": [],
   "source": [
    "#import the reclassed vector from QGIS back in\n",
    "imppolygon= r\"E:\\projects\\BP\\Indicators\\UPSfinsel_v2.shp\""
   ]
  },
  {
   "cell_type": "code",
   "execution_count": 5,
   "metadata": {},
   "outputs": [],
   "source": [
    "#### convert polygon to raster\n",
    "with arcpy.EnvManager(extent = SEraster, outputCoordinateSystem=sr, snapRaster=SEraster, cellSize=SEraster):\n",
    "    imppolygon2 =  arcpy.conversion.PolygonToRaster(imppolygon, \"areaclass\", r\"E:\\projects\\BP\\Indicators\\UrbanParkSizeZND.tif\", \"CELL_CENTER\", \"NONE\", 30, \"BUILD\")"
   ]
  },
  {
   "cell_type": "code",
   "execution_count": 6,
   "metadata": {},
   "outputs": [],
   "source": [
    "## reclassify to merge class zero parks with entire SE BP extent\n",
    "with arcpy.EnvManager(outputCoordinateSystem=sr, snapRaster=SEraster, cellSize=SEraster):\n",
    "    out_raster_znd = arcpy.sa.Reclassify(imppolygon2, \"Value\", \"0 0;1 1;2 2;3 3;4 4;5 5;NODATA 0\", \"DATA\")"
   ]
  },
  {
   "cell_type": "code",
   "execution_count": 7,
   "metadata": {},
   "outputs": [],
   "source": [
    "## reclassify marine to nodata - if NLCD = 0 then no data\n",
    "out_raster_znd2 = arcpy.ia.SetNull(\"nlcd_2019_land_cover_l48_20210604.img\", out_raster_znd, \"Value = 0\"); out_raster_znd.save(r\"E:\\projects\\BP\\Indicators\\UrbanParkSizeZND_v2.tif\")"
   ]
  },
  {
   "cell_type": "code",
   "execution_count": 7,
   "metadata": {},
   "outputs": [
    {
     "ename": "ExecuteError",
     "evalue": "Failed to execute. Parameters are not valid.\nERROR 000012: Red already exists\nFailed to execute (AddField).\n",
     "output_type": "error",
     "traceback": [
      "\u001b[0;31m---------------------------------------------------------------------------\u001b[0m\n\u001b[0;31mExecuteError\u001b[0m                              Traceback (most recent call last)",
      "In  \u001b[0;34m[7]\u001b[0m:\nLine \u001b[0;34m3\u001b[0m:     arcpy.management.AddField(out_raster_znd2, \u001b[33m\"\u001b[39;49;00m\u001b[33mRed\u001b[39;49;00m\u001b[33m\"\u001b[39;49;00m, \u001b[33m\"\u001b[39;49;00m\u001b[33mlong\u001b[39;49;00m\u001b[33m\"\u001b[39;49;00m, \u001b[34m9\u001b[39;49;00m)\n",
      "File \u001b[0;34mC:\\Program Files\\ArcGIS\\Pro\\Resources\\ArcPy\\arcpy\\management.py\u001b[0m, in \u001b[0;32mAddField\u001b[0m:\nLine \u001b[0;34m5228\u001b[0m:  \u001b[34mraise\u001b[39;49;00m e\n",
      "File \u001b[0;34mC:\\Program Files\\ArcGIS\\Pro\\Resources\\ArcPy\\arcpy\\management.py\u001b[0m, in \u001b[0;32mAddField\u001b[0m:\nLine \u001b[0;34m5225\u001b[0m:  retval = convertArcObjectToPythonObject(gp.AddField_management(*gp_fixargs((in_table, field_name, field_type, field_precision, field_scale, field_length, field_alias, field_is_nullable, field_is_required, field_domain), \u001b[34mTrue\u001b[39;49;00m)))\n",
      "File \u001b[0;34mC:\\Program Files\\ArcGIS\\Pro\\Resources\\ArcPy\\arcpy\\geoprocessing\\_base.py\u001b[0m, in \u001b[0;32m<lambda>\u001b[0m:\nLine \u001b[0;34m512\u001b[0m:   \u001b[34mreturn\u001b[39;49;00m \u001b[34mlambda\u001b[39;49;00m *args: val(*gp_fixargs(args, \u001b[34mTrue\u001b[39;49;00m))\n",
      "\u001b[0;31mExecuteError\u001b[0m: Failed to execute. Parameters are not valid.\nERROR 000012: Red already exists\nFailed to execute (AddField).\n\n\u001b[0;31m---------------------------------------------------------------------------\u001b[0m"
     ]
    }
   ],
   "source": [
    "# edit RAT \n",
    "arcpy.management.AddField(out_raster_znd2, \"descript\", \"text\", 25)\n",
    "arcpy.management.AddField(out_raster_znd2, \"Red\", \"long\", 9)\n",
    "arcpy.management.AddField(out_raster_znd2, \"Green\", \"long\", 9)\n",
    "arcpy.management.AddField(out_raster_znd2, \"Blue\", \"long\", 9)"
   ]
  },
  {
   "cell_type": "code",
   "execution_count": 8,
   "metadata": {},
   "outputs": [],
   "source": [
    "# set code block for next step\n",
    "codeblock = \"\"\"\n",
    "def Reclass(Value):\n",
    "    if Value == 5:\n",
    "        return \"5 = 75+ acre urban park\"\n",
    "    elif Value == 4:\n",
    "        return \"4 = 50 to <75 acre urban park\"\n",
    "    elif Value == 3:\n",
    "        return \"3 = 30 to <50 acre urban park\"\n",
    "    elif Value == 2:\n",
    "        return \"2 = 10 to <30 acre urban park\"\n",
    "    elif Value == 1:\n",
    "        return \"1 = 5 to <10 acre urban park\"\n",
    "    elif Value == 0:\n",
    "        return \"0 = <5 acre urban park or not identified as an urban park\"\n",
    "\"\"\""
   ]
  },
  {
   "cell_type": "code",
   "execution_count": 9,
   "metadata": {},
   "outputs": [],
   "source": [
    "# Value R G B\n",
    "\n",
    "# set code block for next step\n",
    "codeblock_red = \"\"\"\n",
    "def Reclass(Value):\n",
    "    if Value == 5:\n",
    "        return \"53\"\n",
    "    elif Value == 4:\n",
    "        return \"109\"\n",
    "    elif Value == 3:\n",
    "        return \"165\"\n",
    "    elif Value == 2:\n",
    "        return \"208\"\n",
    "    elif Value == 1:\n",
    "        return \"232\"\n",
    "    elif Value == 0:\n",
    "        return \"255\"\n",
    "\"\"\"\n",
    "codeblock_green = \"\"\"\n",
    "def Reclass(Value):\n",
    "    if Value == 5:\n",
    "        return \"2\"\n",
    "    elif Value == 4:\n",
    "        return \"35\"\n",
    "    elif Value == 3:\n",
    "        return \"81\"\n",
    "    elif Value == 2:\n",
    "        return \"122\"\n",
    "    elif Value == 1:\n",
    "        return \"188\"\n",
    "    elif Value == 0:\n",
    "        return \"255\"\n",
    "\"\"\"\n",
    "codeblock_blue = \"\"\"\n",
    "def Reclass(Value):\n",
    "    if Value == 5:\n",
    "        return \"66\"\n",
    "    elif Value == 4:\n",
    "        return \"115\"\n",
    "    elif Value == 3:\n",
    "        return \"153\"\n",
    "    elif Value == 2:\n",
    "        return \"182\"\n",
    "    elif Value == 1:\n",
    "        return \"197\"\n",
    "    elif Value == 0:\n",
    "        return \"255\"\n",
    "\"\"\""
   ]
  },
  {
   "cell_type": "code",
   "execution_count": 10,
   "metadata": {},
   "outputs": [
    {
     "data": {
      "text/html": [
       "<div class='gpresult'><h2>Messages</h2><div id='messages' data-messages='[\"Start Time: Thursday, August 24, 2023 8:52:46 AM\",\"Succeeded at Thursday, August 24, 2023 8:52:46 AM (Elapsed Time: 0.04 seconds)\"]' data-show='true'><div id = 'default' /></div></div>"
      ],
      "text/plain": [
       "<Result 'E:\\\\projects\\\\BP\\\\Indicators\\\\UrbanParkSize_ZND\\\\UrbanParkSize.tif'>"
      ]
     },
     "execution_count": 10,
     "metadata": {},
     "output_type": "execute_result"
    }
   ],
   "source": [
    "arcpy.management.CalculateField(out_raster_znd2, \"descript\", \"Reclass(!Value!)\", \"PYTHON3\", codeblock, \"TEXT\")\n",
    "arcpy.management.CalculateField(out_raster_znd2, \"Red\", \"Reclass(!Value!)\", \"PYTHON3\", codeblock_red, \"LONG\")\n",
    "arcpy.management.CalculateField(out_raster_znd2, \"Green\", \"Reclass(!Value!)\", \"PYTHON3\", codeblock_green, \"LONG\")\n",
    "arcpy.management.CalculateField(out_raster_znd2, \"Blue\", \"Reclass(!Value!)\", \"PYTHON3\", codeblock_blue, \"LONG\")"
   ]
  },
  {
   "cell_type": "code",
   "execution_count": 12,
   "metadata": {},
   "outputs": [],
   "source": [
    "# export as .tif with SE extent\n",
    "with arcpy.EnvManager(outputCoordinateSystem=sr, extent=SEraster, snapRaster=SEraster, cellSize=SEraster):\n",
    "    out_raster_znd2 = out_raster_znd2.save(r\"E:\\projects\\BP\\Indicators\\UrbanParkSize_znd_v6.tif\")"
   ]
  }
 ],
 "metadata": {
  "kernelspec": {
   "display_name": "ArcGISPro",
   "language": "Python",
   "name": "python3"
  },
  "language_info": {
   "file_extension": ".py",
   "name": "python",
   "version": "3"
  }
 },
 "nbformat": 4,
 "nbformat_minor": 2
}
