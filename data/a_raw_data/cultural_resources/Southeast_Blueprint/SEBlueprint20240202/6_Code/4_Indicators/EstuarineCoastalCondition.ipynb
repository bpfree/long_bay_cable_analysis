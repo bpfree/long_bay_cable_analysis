{
 "cells": [
  {
   "cell_type": "code",
   "execution_count": 2,
   "metadata": {},
   "outputs": [],
   "source": [
    "### Nearshore Coastal Condition for Base BP 2022 - \n",
    "##### there is some pre-work in excel.  Pull the CCA data from the website, extract\n",
    "##### the EFTI, SQI WQI and M_AMBI.  Use both 2010 and 2015 data to increase spatial coverage.  \n",
    "##### Join with EPA site locations and import to ArcPro.   "
   ]
  },
  {
   "cell_type": "code",
   "execution_count": 4,
   "metadata": {},
   "outputs": [],
   "source": [
    "#### define some inputs\n",
    "sr= arcpy.SpatialReference(5070)\n",
    "OutWorkspace = r\"E:\\projects\\BP\\Indicators\\indicators.gdb\"\n",
    "SEextent= r\"E:\\projects\\BP\\1_Extent\\BaseBlueprintExtent2022.tif\""
   ]
  },
  {
   "cell_type": "code",
   "execution_count": null,
   "metadata": {},
   "outputs": [],
   "source": [
    "##### Get bathy data from National Coastal Relief Model.  https://www.ngdc.noaa.gov/mgg/coastal/crm.html\n",
    "##### download vols 2,3,4,5 as net cdf\n",
    "##### import using \"make NetCDF Raster Layer\" in ArcPro"
   ]
  },
  {
   "cell_type": "code",
   "execution_count": null,
   "metadata": {},
   "outputs": [],
   "source": [
    "arcpy.md.MakeNetCDFRasterLayer(r\"E:\\generalgis\\bathy\\crm_vol5.nc\", \"z\", \"x\", \"y\", \"crm_vol5\", '', None, \"BY_VALUE\", \"CENTER\")\n",
    "arcpy.md.MakeNetCDFRasterLayer(r\"E:\\generalgis\\bathy\\crm_vol4.nc\", \"z\", \"x\", \"y\", \"crm_vol4\", '', None, \"BY_VALUE\", \"CENTER\")\n",
    "arcpy.md.MakeNetCDFRasterLayer(r\"E:\\generalgis\\bathy\\crm_vol3.nc\", \"z\", \"x\", \"y\", \"crm_vol3\", '', None, \"BY_VALUE\", \"CENTER\")\n",
    "arcpy.md.MakeNetCDFRasterLayer(r\"E:\\generalgis\\bathy\\crm_vol2.nc\", \"z\", \"x\", \"y\", \"crm_vol2\", '', None, \"BY_VALUE\", \"CENTER\")"
   ]
  },
  {
   "cell_type": "code",
   "execution_count": 1,
   "metadata": {},
   "outputs": [],
   "source": [
    "##### merge into one SEbathy file\n",
    "with arcpy.EnvManager(extent=\"DEFAULT\"):\n",
    "    arcpy.management.MosaicToNewRaster(\"crm_vol2;crm_vol3;crm_vol4;crm_vol5\", r\"E:\\generalgis\\bathy\", \"SE_bathy_v1.tif\", sr, \"32_BIT_FLOAT\", None, 1, \"MEAN\", \"FIRST\")"
   ]
  },
  {
   "cell_type": "code",
   "execution_count": null,
   "metadata": {},
   "outputs": [],
   "source": [
    "##### extract 0-10m\n",
    "with arcpy.EnvManager(outputCoordinateSystem=sr, snapRaster=\"BaseBlueprintExtent2022.tif\", cellSize=SEextent):\n",
    "    arcpy.ddd.Reclassify(\"SE_bathy_v1.tif\", \"Value\", \"-4369.200195 -10 NODATA;-10 0 1;0 2655 NODATA\", r\"E:\\generalgis\\bathy\\SEBP_bathy_0_10m_v1.tif\", \"NODATA\")"
   ]
  },
  {
   "cell_type": "code",
   "execution_count": null,
   "metadata": {},
   "outputs": [],
   "source": [
    "#### create a new NLCD mask - both of these take \"a while\"\n",
    "with arcpy.EnvManager(scratchWorkspace=r\"E:\\projects\\BP\\indicator review\\Default.gdb\", workspace=r\"E:\\projects\\BP\\indicator review\\Default.gdb\"):\n",
    "    arcpy.ddd.Reclassify(\"NLCD 2019 nonwater_v4.tif\", \"Value\", \"1 NODATA;2 1;NODATA 1\", r\"E:\\generalgis\\NLCD\\NLCD_mask.tif\", \"DATA\")\n",
    "##### mask land\n",
    "with arcpy.EnvManager(outputCoordinateSystem=sr, mask=\"NLCD_mask.tif\"):\n",
    "    out_raster = arcpy.sa.ExtractByMask(\"SEBP_bathy_0_10m_v1.tif\", \"NLCD_mask.tif\"); out_raster.save(r\"E:\\projects\\BP\\Indicators\\SEBP_bathy_0_10m_LandMask.tif\")"
   ]
  },
  {
   "cell_type": "code",
   "execution_count": 4,
   "metadata": {},
   "outputs": [],
   "source": [
    "#### create polygon file from raster\n",
    "with arcpy.EnvManager(outputCoordinateSystem=sr, snapRaster=SEextent, outputZFlag=\"Disabled\", outputMFlag=\"Disabled\"):\n",
    "    arcpy.conversion.RasterToPolygon(\"SEBP_bathy_0_10m_LandMask.tif\", r\"E:\\generalgis\\bathy\\SEBP_0-10mbathy_v1.shp\", \"NO_SIMPLIFY\", \"Value\", \"SINGLE_OUTER_PART\", None)"
   ]
  },
  {
   "cell_type": "code",
   "execution_count": 2,
   "metadata": {
    "scrolled": true
   },
   "outputs": [],
   "source": [
    "#### select polygons that intersect CCA locations\n",
    "outpoly1 = arcpy.management.SelectLayerByLocation(\"SEBP_0-10mbathy_v1\", \"INTERSECT\", \"SEBP_CCA20102015_v3ALB\", None, \"NEW_SELECTION\", \"NOT_INVERT\")"
   ]
  },
  {
   "cell_type": "code",
   "execution_count": 3,
   "metadata": {},
   "outputs": [],
   "source": [
    "# recode as in or out based on intersect with CCA points\n",
    "outpoly1 = arcpy.management.CalculateField(\"SEBP_0-10mbathy_v1\", \"ccainter\", \"1\", \"PYTHON3\", '', \"SHORT\", \"NO_ENFORCE_DOMAINS\")"
   ]
  },
  {
   "cell_type": "code",
   "execution_count": 4,
   "metadata": {},
   "outputs": [
    {
     "data": {
      "text/html": [
       "<div class='gpresult'><h2>Messages</h2><div id='messages' data-messages='[\"Start Time: Tuesday, April 11, 2023 2:54:26 PM\",\"Succeeded at Tuesday, April 11, 2023 2:54:31 PM (Elapsed Time: 5.25 seconds)\"]' data-show='true'><div id = 'default' /></div></div>"
      ],
      "text/plain": [
       "<Result 'E:\\\\projects\\\\BP\\\\Indicators\\\\indicators.gdb\\\\SEBP_0_10mbathy_CCApoly_out1'>"
      ]
     },
     "execution_count": 4,
     "metadata": {},
     "output_type": "execute_result"
    }
   ],
   "source": [
    "#### save vector to new file\n",
    "arcpy.conversion.FeatureClassToFeatureClass(outpoly1, OutWorkspace, \"SEBP_0_10mbathy_CCApoly_out1\", '', 'Id \"Id\" true true false 10 Long 0 10,First,#,SEBP_0-10mbathy_v1,Id,-1,-1;gridcode \"gridcode\" true true false 10 Long 0 10,First,#,SEBP_0-10mbathy_v1,gridcode,-1,-1', '')"
   ]
  },
  {
   "cell_type": "code",
   "execution_count": 5,
   "metadata": {},
   "outputs": [],
   "source": [
    "## convert vector to new raster \"estuary with no data\"\n",
    "with arcpy.EnvManager(scratchWorkspace=r\"C:\\Users\\yallen\\Documents\\ArcGIS\\Projects\\CCA_interp\\Default.gdb\", workspace=r\"C:\\Users\\yallen\\Documents\\ArcGIS\\Projects\\CCA_interp\\Default.gdb\"):\n",
    "    arcpy.conversion.FeatureToRaster(outpoly1, \"ccainter\", r\"E:\\projects\\BP\\Indicators\\estuary_with_no_data.tif\", r\"E:\\projects\\BP\\Southeast_Blueprint_2022_Data_Download\\SEBlueprint20230109\\Inputs\\BaseBlueprint\\1_ExtentLayers\\BaseBlueprintExtent2022.tif\")"
   ]
  },
  {
   "cell_type": "code",
   "execution_count": 1,
   "metadata": {},
   "outputs": [],
   "source": [
    "#### convert polygon to polylines\n",
    "#### for some reason this step doesn't run in Pro, but runs fine in ArcMap\n",
    "#with arcpy.EnvManager(scratchWorkspace=r\"E:\\projects\\BP\\indicator review\\Default.gdb\", workspace=r\"E:\\projects\\BP\\indicator review\\Default.gdb\"):\n",
    "#    arcpy.xtagp.PolygonsToPolylinesTool(\"SEBP_0_10mbathy_CCApoly\", r\"E:\\projects\\BP\\Indicators\\indicators.gdb\\SEBP_0_10mbathy_CCApolyline\", \"NONE\", '')\n",
    "#### I ran in ArcMap and added back to this project"
   ]
  },
  {
   "cell_type": "code",
   "execution_count": 3,
   "metadata": {},
   "outputs": [],
   "source": [
    "#### Have to run spline with barriers in two chunks - GOM and SA\n",
    "#### SA\n",
    "with arcpy.EnvManager(scratchWorkspace=OutWorkspace, outputCoordinateSystem=sr, snapRaster=SEextent, extent=\"1361055.8194 914384.1468 1845375.8194 2100554.1468\", cellSize=SEextent, workspace=r\"E:\\projects\\BP\\indicator review\\Default.gdb\"):\n",
    "    arcpy.ddd.SplineWithBarriers(\"SEBP_CCA20102015_v3ALB\", \"mean_index\", \"SEBP_0_10mbathy_CCApolyline_SA\", 30, r\"E:\\projects\\BP\\Indicators\\SEBP_CCA_splinewithbarr_SA.tif\", 0.5)\n",
    "#### GOM\n",
    "with arcpy.EnvManager(scratchWorkspace=OutWorkspace, outputCoordinateSystem=sr, snapRaster=SEextent, extent=\"-173594.180600001 264824.1468 1607505.8194 927104.1468\", cellSize=SEextent, workspace=r\"E:\\projects\\BP\\indicator review\\Default.gdb\"):\n",
    "    arcpy.ddd.SplineWithBarriers(\"SEBP_CCA20102015_v3ALB\", \"mean_index\", \"SEBP_0_10mbathy_CCApolyline_GOM_v2\", 30, r\"E:\\projects\\BP\\Indicators\\SEBP_CCA_splinewithbarr_GOM_v2.tif\", 0.5)"
   ]
  },
  {
   "cell_type": "code",
   "execution_count": 6,
   "metadata": {},
   "outputs": [],
   "source": [
    "#### mosaic GOM and SA to new raster (SE) \n",
    "with arcpy.EnvManager(extent=\"DEFAULT\"):\n",
    "    arcpy.management.MosaicToNewRaster(\"SEBP_CCA_splinewithbarr_GOM_v2.tif;SEBP_CCA_splinewithbarr_SA.tif\", r\"E:\\projects\\BP\\Indicators\", \"SEBP_CCA_splinewithbarr_SE_v2.tif\", sr, \"32_BIT_FLOAT\", 30, 1, \"MEAN\", \"FIRST\")"
   ]
  },
  {
   "cell_type": "code",
   "execution_count": 7,
   "metadata": {},
   "outputs": [],
   "source": [
    "## mask with \"estuary with no data\" to get znd values\n",
    "outraster3 = arcpy.ddd.Times(\"estuary_with_no_data.tif\", \"SEBP_CCA_splinewithbarr_SE_v2.tif\", r\"E:\\projects\\BP\\Indicators\\EstuarineCoastalCondition_znd_v2.tif\")"
   ]
  },
  {
   "cell_type": "code",
   "execution_count": 8,
   "metadata": {
    "scrolled": true
   },
   "outputs": [],
   "source": [
    "#### bin using Amys thresholds: 0-2 = 1; 2-2.4 = 2; 2.4-3.7 = 3; 3.7-4 = 4; 4-5 = 5 and save to final format\n",
    "outraster = arcpy.ddd.Reclassify(\"EstuarineCoastalCondition_znd_v2.tif\", \"Value\", \"0 0.308741 0;0.308741 2 1;2 2.400000 2;2.400000 3.700000 3;3.700000 4 4;4 9 5\", r\"E:\\projects\\BP\\Indicators\\EstuarineCoastalCondition_znd_v2_reclass.tif\", \"DATA\")"
   ]
  },
  {
   "cell_type": "code",
   "execution_count": 4,
   "metadata": {},
   "outputs": [],
   "source": [
    "#### extract by raster mask\n",
    "#    out_raster = arcpy.sa.ExtractByMask(\"EstuarineCoastalCondition_znd.tif\", SEextent); out_raster.save(r\"E:\\projects\\BP\\Indicators\\EstuarineCoastalConditionznd_masked.tif\")"
   ]
  },
  {
   "cell_type": "code",
   "execution_count": 10,
   "metadata": {},
   "outputs": [
    {
     "data": {
      "text/html": [
       "<div class='gpresult'><h2>Messages</h2><div id='messages' data-messages='[\"Start Time: Tuesday, May 30, 2023 10:28:24 AM\",\"Adding Blue to EstuarineCoastalCondition_znd_v2_reclass.tif.vat...\",\"Succeeded at Tuesday, May 30, 2023 10:28:24 AM (Elapsed Time: 0.05 seconds)\"]' data-show='true'><div id = 'default' /></div></div>"
      ],
      "text/plain": [
       "<Result 'E:\\\\projects\\\\BP\\\\Indicators\\\\EstuarineCoastalCondition_znd_v2_reclass.tif'>"
      ]
     },
     "execution_count": 10,
     "metadata": {},
     "output_type": "execute_result"
    }
   ],
   "source": [
    "arcpy.management.AddField(outraster, \"descript\", \"text\", 25)\n",
    "arcpy.management.AddField(outraster, \"Red\", \"long\", 9)\n",
    "arcpy.management.AddField(outraster, \"Green\", \"long\", 9)\n",
    "arcpy.management.AddField(outraster, \"Blue\", \"long\", 9)"
   ]
  },
  {
   "cell_type": "code",
   "execution_count": 11,
   "metadata": {},
   "outputs": [],
   "source": [
    "# set code block for next step\n",
    "codeblock = \"\"\"\n",
    "def Reclass(Value):\n",
    "    if Value == 5:\n",
    "        return \"5 = Good\"\n",
    "    elif Value == 4:\n",
    "        return \"4 = Fair to good\"\n",
    "    elif Value == 3:\n",
    "        return \"3 = Fair\"\n",
    "    elif Value == 2:\n",
    "        return \"2 = Poor to fair\"\n",
    "    elif Value == 1:\n",
    "        return \"1 = Poor\"\n",
    "    elif Value == 0:\n",
    "        return \"0 = Shallow estuary not assessed for condition\"    \n",
    "\"\"\""
   ]
  },
  {
   "cell_type": "code",
   "execution_count": 12,
   "metadata": {},
   "outputs": [
    {
     "data": {
      "text/html": [
       "<div class='gpresult'><h2>Messages</h2><div id='messages' data-messages='[\"Start Time: Tuesday, May 30, 2023 10:28:42 AM\",\"Succeeded at Tuesday, May 30, 2023 10:28:42 AM (Elapsed Time: 0.03 seconds)\"]' data-show='true'><div id = 'default' /></div></div>"
      ],
      "text/plain": [
       "<Result 'E:\\\\projects\\\\BP\\\\Indicators\\\\EstuarineCoastalCondition_znd_v2_reclass.tif'>"
      ]
     },
     "execution_count": 12,
     "metadata": {},
     "output_type": "execute_result"
    }
   ],
   "source": [
    "arcpy.management.CalculateField(outraster, \"descript\", \"Reclass(!Value!)\", \"PYTHON3\", codeblock, \"TEXT\")"
   ]
  },
  {
   "cell_type": "code",
   "execution_count": 13,
   "metadata": {},
   "outputs": [],
   "source": [
    "# Value R G B\n",
    "# 0 255 255 255\n",
    "# 1 255 232 133\n",
    "# 2 198 183 93\n",
    "# 3 91 147 183\n",
    "# 4 61 113 169\n",
    "# 5 58 77 107\n",
    "\n",
    "# set code block for next step\n",
    "codeblock_red = \"\"\"\n",
    "def Reclass(Value):\n",
    "    if Value == 5:\n",
    "        return \"58\"\n",
    "    elif Value == 4:\n",
    "        return \"61\"\n",
    "    elif Value == 3:\n",
    "        return \"91\"\n",
    "    elif Value == 2:\n",
    "        return \"198\"\n",
    "    elif Value == 1:\n",
    "        return \"255\"\n",
    "    elif Value == 0:\n",
    "        return \"255\"\n",
    "        \n",
    "\"\"\"\n",
    "codeblock_green = \"\"\"\n",
    "def Reclass(Value):\n",
    "    if Value == 5:\n",
    "        return \"77\"\n",
    "    elif Value == 4:\n",
    "        return \"113\"\n",
    "    elif Value == 3:\n",
    "        return \"147\"\n",
    "    elif Value == 2:\n",
    "        return \"183\"\n",
    "    elif Value == 1:\n",
    "        return \"232\"\n",
    "    elif Value == 0:\n",
    "        return \"255\"\n",
    "\"\"\"\n",
    "codeblock_blue = \"\"\"\n",
    "def Reclass(Value):\n",
    "    if Value == 5:\n",
    "        return \"107\"\n",
    "    elif Value == 4:\n",
    "        return \"169\"\n",
    "    elif Value == 3:\n",
    "        return \"183\"\n",
    "    elif Value == 2:\n",
    "        return \"93\"\n",
    "    elif Value == 1:\n",
    "        return \"133\"\n",
    "    elif Value == 0:\n",
    "        return \"255\"\n",
    "\"\"\""
   ]
  },
  {
   "cell_type": "code",
   "execution_count": 14,
   "metadata": {},
   "outputs": [
    {
     "data": {
      "text/html": [
       "<div class='gpresult'><h2>Messages</h2><div id='messages' data-messages='[\"Start Time: Tuesday, May 30, 2023 10:29:00 AM\",\"Succeeded at Tuesday, May 30, 2023 10:29:00 AM (Elapsed Time: 0.03 seconds)\"]' data-show='true'><div id = 'default' /></div></div>"
      ],
      "text/plain": [
       "<Result 'E:\\\\projects\\\\BP\\\\Indicators\\\\EstuarineCoastalCondition_znd_v2_reclass.tif'>"
      ]
     },
     "execution_count": 14,
     "metadata": {},
     "output_type": "execute_result"
    }
   ],
   "source": [
    "arcpy.management.CalculateField(outraster, \"Red\", \"Reclass(!Value!)\", \"PYTHON3\", codeblock_red, \"LONG\")\n",
    "arcpy.management.CalculateField(outraster, \"Green\", \"Reclass(!Value!)\", \"PYTHON3\", codeblock_green, \"LONG\")\n",
    "arcpy.management.CalculateField(outraster, \"Blue\", \"Reclass(!Value!)\", \"PYTHON3\", codeblock_blue, \"LONG\")"
   ]
  },
  {
   "cell_type": "code",
   "execution_count": 16,
   "metadata": {},
   "outputs": [],
   "source": [
    "# export as .tif with SE extent\n",
    "with arcpy.EnvManager(outputCoordinateSystem=sr, extent=SEextent, snapRaster=SEextent, cellSize=SEextent):\n",
    "    arcpy.management.CopyRaster(outraster, r\"E:\\projects\\BP\\Indicators\\EstuarineCoastalCondition_znd_final.tif\", '', None, \"255\", \"NONE\", \"NONE\", \"8_BIT_UNSIGNED\", \"NONE\", \"NONE\", \"TIFF\", \"NONE\", \"CURRENT_SLICE\", \"NO_TRANSPOSE\")"
   ]
  }
 ],
 "metadata": {
  "kernelspec": {
   "display_name": "ArcGISPro",
   "language": "Python",
   "name": "python3"
  },
  "language_info": {
   "file_extension": ".py",
   "name": "python",
   "version": "3"
  }
 },
 "nbformat": 4,
 "nbformat_minor": 2
}
