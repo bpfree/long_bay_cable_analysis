{
 "cells": [
  {
   "cell_type": "markdown",
   "metadata": {},
   "source": [
    "# Mississippi Valley Forest Birds Reforestation\n",
    "\n",
    "This indicator was used in the 2022 base blueprint. \n",
    "\n",
    "Created by Amy Keister, last run by Amy Keister on 1 June 2023. It took 10 minutes to run."
   ]
  },
  {
   "cell_type": "code",
   "execution_count": 47,
   "metadata": {},
   "outputs": [],
   "source": [
    "import os\n",
    "import arcpy"
   ]
  },
  {
   "cell_type": "code",
   "execution_count": 48,
   "metadata": {},
   "outputs": [],
   "source": [
    "import time\n",
    "start = time.time()"
   ]
  },
  {
   "cell_type": "code",
   "execution_count": 49,
   "metadata": {},
   "outputs": [],
   "source": [
    "# define spatial reference and workspaces\n",
    "sr= arcpy.SpatialReference(5070)\n",
    "#SourceWorkspace= \n",
    "OutWorkspace = r\"D:\\SE_Blueprint_2023\\5_Indicators_Tier2_UnClipped\\MississippiAlluvialValleyForestBirds_R\\Ref.gdb\""
   ]
  },
  {
   "cell_type": "code",
   "execution_count": 50,
   "metadata": {},
   "outputs": [],
   "source": [
    "# define final indicator outputs\n",
    "Out = r\"D:\\SE_Blueprint_2023\\5_Indicators_Tier2_UnClipped\\MississippiAlluvialValleyForestBirds_R\\MississippiAlluvialValleyForestBirds_Reforestation.tif\""
   ]
  },
  {
   "cell_type": "code",
   "execution_count": 51,
   "metadata": {},
   "outputs": [],
   "source": [
    "# define sub-indicator outputs"
   ]
  },
  {
   "cell_type": "code",
   "execution_count": 52,
   "metadata": {},
   "outputs": [],
   "source": [
    "# define rasters used for cell size, extent, and snapping\n",
    "Rextent= r\"F:\\GIS_DATA\\SECAS\\SE_Blueprint_2022\\Southeast_Blueprint_2022_Data_Download\\SEBlueprint20221215\\Inputs\\BaseBlueprint\\1_ExtentLayers\\BaseBlueprintExtent2022.tif\""
   ]
  },
  {
   "cell_type": "code",
   "execution_count": 53,
   "metadata": {},
   "outputs": [],
   "source": [
    "# define inputs\n",
    "FBB= r\"F:\\GIS_DATA\\DecisionSupportTools\\LMVJV\\FBBDSM_2011_v2\\FBBDSM_2011_v2.tif\"\n",
    "# use protection model to get full model extent\n",
    "FP= r\"F:\\GIS_DATA\\DecisionSupportTools\\LMVJV\\FPDSM\\MAV_FPDSM_FINAL\\MAV_FPDSM_v7_noCE_final_2.img\""
   ]
  },
  {
   "cell_type": "markdown",
   "metadata": {},
   "source": [
    "## Start Analysis"
   ]
  },
  {
   "cell_type": "code",
   "execution_count": 54,
   "metadata": {},
   "outputs": [],
   "source": [
    "# Set the workspace where I want the output to go\n",
    "arcpy.env.workspace = OutWorkspace"
   ]
  },
  {
   "cell_type": "code",
   "execution_count": 55,
   "metadata": {},
   "outputs": [
    {
     "name": "stdout",
     "output_type": "stream",
     "text": [
      "D:\\SE_Blueprint_2023\\5_Indicators_Tier2_UnClipped\\MississippiAlluvialValleyForestBirds_R\\Ref.gdb\n"
     ]
    }
   ],
   "source": [
    "print(arcpy.env.workspace)"
   ]
  },
  {
   "cell_type": "markdown",
   "metadata": {},
   "source": [
    "## bring in LMVJV Reforstation DSM for interior forest breeding birds of the MAV"
   ]
  },
  {
   "cell_type": "code",
   "execution_count": 10,
   "metadata": {},
   "outputs": [
    {
     "data": {
      "text/html": [
       "<div class='gpresult'><h2>Messages</h2><div id='messages' data-messages='[\"Start Time: Thursday, June 29, 2023 12:06:23 PM\",\"Successfully converted:  F:\\\\GIS_DATA\\\\DecisionSupportTools\\\\LMVJV\\\\FBBDSM_2011_v2\\\\FBBDSM_2011_v2.tif To D:\\\\SE_Blueprint_2023\\\\5_Indicators_Tier2_UnClipped\\\\MississippiAlluvialValleyForestBirds_R\\\\Ref.gdb\\\\FBBDSM_2011_v2\",\"Succeeded at Thursday, June 29, 2023 12:06:32 PM (Elapsed Time: 9.52 seconds)\"]' data-show='true'><div id = 'default' /></div></div>"
      ],
      "text/plain": [
       "<Result ''>"
      ]
     },
     "execution_count": 10,
     "metadata": {},
     "output_type": "execute_result"
    }
   ],
   "source": [
    "# Bring in the LMVJV tif\n",
    "arcpy.conversion.RasterToGeodatabase(FBB, OutWorkspace, '')"
   ]
  },
  {
   "cell_type": "code",
   "execution_count": 11,
   "metadata": {},
   "outputs": [],
   "source": [
    "# take the above raster times one because it is acting weird\n",
    "out_raster = arcpy.sa.Times(\"FBBDSM_2011_v2\", 1); out_raster.save(\"FBB\")"
   ]
  },
  {
   "cell_type": "code",
   "execution_count": 12,
   "metadata": {},
   "outputs": [],
   "source": [
    "# make extent from forest protection raster\n",
    "out_raster = arcpy.sa.Con(FP, 0, 0, \"Value > -1 \"); out_raster.save(\"full0\")"
   ]
  },
  {
   "cell_type": "code",
   "execution_count": 13,
   "metadata": {},
   "outputs": [],
   "source": [
    "# add in zeros\n",
    "out_raster = arcpy.sa.CellStatistics(\"full0;FBB\", \"MAXIMUM\", \"DATA\", \"SINGLE_BAND\", 90, \"AUTO_DETECT\"); out_raster.save(\"indicator\")"
   ]
  },
  {
   "cell_type": "markdown",
   "metadata": {},
   "source": [
    "### Finalize indiator\n",
    "\n",
    "do final steps for all indicators to add description fields, clip and export to SE extent, clip and export to SA extent"
   ]
  },
  {
   "cell_type": "code",
   "execution_count": 60,
   "metadata": {
    "scrolled": true
   },
   "outputs": [],
   "source": [
    "# clip to SE 2022 Blueprint extent\n",
    "with arcpy.EnvManager(outputCoordinateSystem=sr, snapRaster=Rextent, cellSize=Rextent):\n",
    "    out_raster = arcpy.sa.ExtractByMask(\"indicator\", Rextent); out_raster.save(\"SEMask\")"
   ]
  },
  {
   "cell_type": "code",
   "execution_count": 61,
   "metadata": {},
   "outputs": [],
   "source": [
    "# export as .tif\n",
    "with arcpy.EnvManager(outputCoordinateSystem=sr, snapRaster=Rextent, cellSize=Rextent):\n",
    "    arcpy.management.CopyRaster(\"SEMask\", Out, '', None, \"15\", \"NONE\", \"NONE\", \"4_BIT\", \"NONE\", \"NONE\", \"TIFF\", \"NONE\", \"CURRENT_SLICE\", \"NO_TRANSPOSE\")"
   ]
  },
  {
   "cell_type": "code",
   "execution_count": 62,
   "metadata": {},
   "outputs": [],
   "source": [
    "# set code block for next step\n",
    "\n",
    "# From the documentation: \"The final output was classified into 10 categories of reforestation priority based on percent \n",
    "# area (<10% of total model area, ≥10% and <20%, ≥20% and <30%, etc.) and clipped to the Mississippi Alluvial Valley Bird \n",
    "# Conservation Region boundary\" \n",
    "\n",
    "\n",
    "codeblock = \"\"\"\n",
    "def Reclass(value):\n",
    "    if value == 10:\n",
    "        return '10 = Reforestation most likely to contribute to forest breeding bird habitat needs (≥90th percentile)'\n",
    "    elif value == 9:\n",
    "        return '9 = Reforestation most likely to contribute to forest breeding bird habitat needs (80th to <90th percentile)' \n",
    "    elif value == 8:\n",
    "        return '8 = Reforestation more likely to contribute to forest breeding bird habitat needs (70th to <80th percentile)'\n",
    "    elif value == 7:\n",
    "        return '7 = Reforestation less likely to contribute to forest breeding bird habitat needs (60th to <70th percentile)'\n",
    "    elif value == 6:\n",
    "        return '6 = Reforestation least likely to contribute to forest breeding bird habitat needs (50th to <60th percentile)'\n",
    "    elif value == 5:\n",
    "        return '5 = Reforestation least likely to contribute to forest breeding bird habitat needs (40th to <50th percentile)'\n",
    "    elif value == 4:\n",
    "        return '4 = Reforestation least likely to contribute to forest breeding bird habitat needs (30th to <40th percentile)'\n",
    "    elif value == 3:\n",
    "        return '3 = Reforestation least likely to contribute to forest breeding bird habitat needs (20th to <30th percentile)'\n",
    "    elif value == 2:\n",
    "        return '2 = Reforestation least likely to contribute to forest breeding bird habitat needs (10th to <20th percentile)'\n",
    "    elif value == 1:\n",
    "        return '1 = Reforestation least likely to contribute to forest breeding bird habitat needs (<10th percentile)'\n",
    "    elif value == 0:\n",
    "        return '0 = Not a priority for reforestation'\n",
    "\"\"\""
   ]
  },
  {
   "cell_type": "code",
   "execution_count": 63,
   "metadata": {},
   "outputs": [
    {
     "data": {
      "text/html": [
       "<div class='gpresult'><h2>Messages</h2><div id='messages' data-messages='[\"Start Time: Friday, September 15, 2023 7:52:43 PM\",\"Succeeded at Friday, September 15, 2023 7:52:43 PM (Elapsed Time: 0.08 seconds)\"]' data-show='true'><div id = 'default' /></div></div>"
      ],
      "text/plain": [
       "<Result 'D:\\\\SE_Blueprint_2023\\\\5_Indicators_Tier2_UnClipped\\\\MississippiAlluvialValleyForestBirds_R\\\\MississippiAlluvialValleyForestBirds_Reforestation.tif'>"
      ]
     },
     "execution_count": 63,
     "metadata": {},
     "output_type": "execute_result"
    }
   ],
   "source": [
    "# add and calculate description field to hold indicator values\n",
    "arcpy.management.CalculateField(Out, \"descript\", \"Reclass(!Value!)\", \"PYTHON3\", codeblock, \"TEXT\")"
   ]
  },
  {
   "cell_type": "code",
   "execution_count": 64,
   "metadata": {},
   "outputs": [],
   "source": [
    "# set code block for next step\n",
    "codeblock = \"\"\"\n",
    "def Reclass1(Value):\n",
    "\tif Value == 10:\n",
    "\t\treturn 255\n",
    "\tif Value == 9:\n",
    "\t\treturn 255\n",
    "\tif Value == 8:\n",
    "\t\treturn 76\n",
    "\tif Value == 7:\n",
    "\t\treturn 0\n",
    "\tif Value == 6:\n",
    "\t\treturn 0\n",
    "\tif Value == 5:\n",
    "\t\treturn 193\n",
    "\tif Value == 4:\n",
    "\t\treturn 112\n",
    "\tif Value == 3:\n",
    "\t\treturn 24\n",
    "\tif Value == 2:\n",
    "\t\treturn 156\n",
    "\tif Value == 1:\n",
    "\t\treturn 0\n",
    "\telse:\n",
    "\t\treturn 255\n",
    "\t\t\n",
    "def Reclass2(Value):\n",
    "\tif Value == 10:\n",
    "\t\treturn 0\n",
    "\tif Value == 9:\n",
    "\t\treturn 255\n",
    "\tif Value == 8:\n",
    "\t\treturn 230\n",
    "\tif Value == 7:\n",
    "\t\treturn 255\n",
    "\tif Value == 6:\n",
    "\t\treturn 77\n",
    "\tif Value == 5:\n",
    "\t\treturn 145\n",
    "\tif Value == 4:\n",
    "\t\treturn 0\n",
    "\tif Value == 3:\n",
    "\t\treturn 0\n",
    "\tif Value == 2:\n",
    "\t\treturn 156\n",
    "\tif Value == 1:\n",
    "\t\treturn 0\n",
    "\telse:\n",
    "\t\treturn 255\n",
    "\t\t\n",
    "def Reclass3(Value):\n",
    "\tif Value == 10:\n",
    "\t\treturn 0\n",
    "\tif Value == 9:\n",
    "\t\treturn 0\n",
    "\tif Value == 8:\n",
    "\t\treturn 0\n",
    "\tif Value == 7:\n",
    "\t\treturn 197\n",
    "\tif Value == 6:\n",
    "\t\treturn 168\n",
    "\tif Value == 5:\n",
    "\t\treturn 255\n",
    "\tif Value == 4:\n",
    "\t\treturn 191\n",
    "\tif Value == 3:\n",
    "\t\treturn 237\n",
    "\tif Value == 2:\n",
    "\t\treturn 156\n",
    "\tif Value == 1:\n",
    "\t\treturn 0\n",
    "\telse:\n",
    "\t\treturn 255\n",
    "\t\t\n",
    "\"\"\""
   ]
  },
  {
   "cell_type": "code",
   "execution_count": 65,
   "metadata": {},
   "outputs": [
    {
     "data": {
      "text/html": [
       "<div class='gpresult'><h2>Messages</h2><div id='messages' data-messages='[\"Start Time: Friday, September 15, 2023 7:52:44 PM\",\"Succeeded at Friday, September 15, 2023 7:52:44 PM (Elapsed Time: 0.09 seconds)\"]' data-show='true'><div id = 'default' /></div></div>"
      ],
      "text/plain": [
       "<Result 'D:\\\\SE_Blueprint_2023\\\\5_Indicators_Tier2_UnClipped\\\\MississippiAlluvialValleyForestBirds_R\\\\MississippiAlluvialValleyForestBirds_Reforestation.tif'>"
      ]
     },
     "execution_count": 65,
     "metadata": {},
     "output_type": "execute_result"
    }
   ],
   "source": [
    "# calculate Red field\n",
    "arcpy.management.CalculateField(Out, \"Red\", \"Reclass1(!Value!)\", \"PYTHON3\", codeblock, \"SHORT\")\n",
    "# calculate Green field\n",
    "arcpy.management.CalculateField(Out, \"Green\", \"Reclass2(!Value!)\", \"PYTHON3\", codeblock, \"SHORT\")\n",
    "# calculate Blue field\n",
    "arcpy.management.CalculateField(Out, \"Blue\", \"Reclass3(!Value!)\", \"PYTHON3\", codeblock, \"SHORT\")"
   ]
  },
  {
   "cell_type": "code",
   "execution_count": 20,
   "metadata": {},
   "outputs": [
    {
     "name": "stdout",
     "output_type": "stream",
     "text": [
      "289.3651657104492\n"
     ]
    }
   ],
   "source": [
    "end = time.time()\n",
    "print(end - start)"
   ]
  },
  {
   "cell_type": "code",
   "execution_count": null,
   "metadata": {},
   "outputs": [],
   "source": []
  }
 ],
 "metadata": {
  "kernelspec": {
   "display_name": "ArcGISPro",
   "language": "Python",
   "name": "python3"
  },
  "language_info": {
   "file_extension": ".py",
   "name": "python",
   "version": "3"
  }
 },
 "nbformat": 4,
 "nbformat_minor": 2
}
