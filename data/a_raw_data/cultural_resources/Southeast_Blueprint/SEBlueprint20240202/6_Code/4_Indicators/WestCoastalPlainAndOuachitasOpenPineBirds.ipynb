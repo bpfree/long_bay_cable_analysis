{
 "cells": [
  {
   "cell_type": "markdown",
   "metadata": {},
   "source": [
    "# West Coastal Plain & Ouachitas Open Pine Birds\n",
    "\n",
    "This is an indicator for the 2023 base blueprint.\n",
    "\n",
    "The WGCPO Open Pine Decision Support Model prioritizes management and protection actions within existing pine and mixed pine/hardwood habitat according to the landscape-scale needs of three Open Pine Umbrella Species (brown-headed nuthatch, Bachman’s sparrow, and red-cockaded woodpecker).\n",
    "\n",
    "Created by Amy Keister, last run by Amy Keister on 28 February 2022. It took 55 minutes to run."
   ]
  },
  {
   "cell_type": "code",
   "execution_count": 112,
   "metadata": {},
   "outputs": [],
   "source": [
    "import os\n",
    "import arcpy"
   ]
  },
  {
   "cell_type": "code",
   "execution_count": 113,
   "metadata": {},
   "outputs": [],
   "source": [
    "import time\n",
    "start = time.time()"
   ]
  },
  {
   "cell_type": "code",
   "execution_count": 114,
   "metadata": {},
   "outputs": [],
   "source": [
    "# define spatial reference and workspaces\n",
    "sr= arcpy.SpatialReference(5070)\n",
    "#SourceWorkspace= \n",
    "OutWorkspace = r\"D:\\SE_Blueprint_2023\\5_Indicators_Tier2_UnClipped\\WestCoastalPlainAndOuachitasOpen\\West.gdb\""
   ]
  },
  {
   "cell_type": "code",
   "execution_count": 121,
   "metadata": {},
   "outputs": [],
   "source": [
    "# define final indicator outputs\n",
    "Out = r\"D:\\SE_Blueprint_2023\\5_Indicators_Tier2_UnClipped\\WestCoastalPlainAndOuachitasOpen\\WestCoastalPlainAndOuachitasOpenPineBirds.tif\""
   ]
  },
  {
   "cell_type": "code",
   "execution_count": 116,
   "metadata": {},
   "outputs": [],
   "source": [
    "# define sub-indicator outputs\n",
    "BHNUout = r\"D:\\SE_Blueprint_2023\\5_Indicators_Tier2_UnClipped\\WestCoastalPlainAndOuachitasOpen\\BHNU_2019.tif\"\n",
    "BACSout = r\"D:\\SE_Blueprint_2023\\5_Indicators_Tier2_UnClipped\\WestCoastalPlainAndOuachitasOpen\\BACS_2019.tif\"\n",
    "RCWOout = r\"D:\\SE_Blueprint_2023\\5_Indicators_Tier2_UnClipped\\WestCoastalPlainAndOuachitasOpen\\RCWO_2019.tif\""
   ]
  },
  {
   "cell_type": "code",
   "execution_count": 117,
   "metadata": {},
   "outputs": [],
   "source": [
    "# define rasters used for cell size, extent, and snapping\n",
    "SEraster= r\"F:\\GIS_DATA\\SECAS\\SE_Blueprint_2022\\Southeast_Blueprint_2022_Data_Download\\SEBlueprint20221215\\Inputs\\BaseBlueprint\\1_ExtentLayers\\BaseBlueprintExtent2022.tif\""
   ]
  },
  {
   "cell_type": "code",
   "execution_count": 118,
   "metadata": {},
   "outputs": [],
   "source": [
    "# define inputs\n",
    "FP= r\"F:\\GIS_DATA\\DecisionSupportTools\\LMVJV\\OpenPineManagementDST\\OpenPineDSMInputs\\floodplain_landform_combine.img\"\n",
    "NLCD= r\"F:\\GIS_DATA\\LanduseLandcover\\NLCD\\NLCD_landcover_2019_release_all_files_20210604\\nlcd_2019_land_cover_l48_20210604\\nlcd_2019_land_cover_l48_20210604.img\"\n",
    "WGCPO= r\"F:\\GIS_DATA\\DecisionSupportTools\\LMVJV\\OpenPineManagementDST\\OpenPineDSMInputs\\WGCP_bcr_2010_Albers.shp\"\n",
    "# I'm using this just to help limit the extent of the current NLCD to save processing time and make sure it covers the\n",
    "# whole buffer area\n",
    "NLCDb= r\"F:\\GIS_DATA\\DecisionSupportTools\\LMVJV\\OpenPineManagementDST\\OpenPineDSMInputs\\2001_NLCD_NewWGCP_10kmbuff_USGSAlbers.img\""
   ]
  },
  {
   "cell_type": "markdown",
   "metadata": {},
   "source": [
    "## Start Analysis"
   ]
  },
  {
   "cell_type": "code",
   "execution_count": 119,
   "metadata": {},
   "outputs": [],
   "source": [
    "# Set the workspace where I want the output to go\n",
    "arcpy.env.workspace = OutWorkspace"
   ]
  },
  {
   "cell_type": "code",
   "execution_count": 120,
   "metadata": {},
   "outputs": [
    {
     "name": "stdout",
     "output_type": "stream",
     "text": [
      "D:\\SE_Blueprint_2023\\5_Indicators_Tier2_UnClipped\\WestCoastalPlainAndOuachitasOpen\\West.gdb\n"
     ]
    }
   ],
   "source": [
    "print(arcpy.env.workspace)"
   ]
  },
  {
   "cell_type": "markdown",
   "metadata": {},
   "source": [
    "## Buffer study area to match previous run"
   ]
  },
  {
   "cell_type": "code",
   "execution_count": 10,
   "metadata": {},
   "outputs": [
    {
     "data": {
      "text/html": [
       "<div class='gpresult'><h2>Messages</h2><div id='messages' data-messages='[\"Start Time: Thursday, June 29, 2023 3:00:42 PM\",\"Succeeded at Thursday, June 29, 2023 3:00:43 PM (Elapsed Time: 0.39 seconds)\"]' data-show='true'><div id = 'default' /></div></div>"
      ],
      "text/plain": [
       "<Result 'D:\\\\SE_Blueprint_2023\\\\5_Indicators_Tier2_UnClipped\\\\WestCoastalPlainAndOuachitasOpen\\\\West.gdb\\\\WGCPO_Buffer'>"
      ]
     },
     "execution_count": 10,
     "metadata": {},
     "output_type": "execute_result"
    }
   ],
   "source": [
    "# buffer study area\n",
    "arcpy.analysis.Buffer(WGCPO, \"WGCPO_Buffer\", \"10 Kilometers\", \"FULL\", \"ROUND\", \"NONE\", None, \"PLANAR\")"
   ]
  },
  {
   "cell_type": "code",
   "execution_count": 11,
   "metadata": {},
   "outputs": [],
   "source": [
    "# clip NLCD to buffered study area to match methods used in 2011\n",
    "with arcpy.EnvManager(outputCoordinateSystem=NLCD, extent=NLCDb, snapRaster=NLCD, cellSize=NLCD):\n",
    "    out_raster = arcpy.sa.ExtractByMask(NLCD, \"WGCPO_Buffer\"); out_raster.save(\"NLCD2\")"
   ]
  },
  {
   "cell_type": "markdown",
   "metadata": {},
   "source": [
    "## Remove floodplains from NLCD and calculate patches"
   ]
  },
  {
   "cell_type": "code",
   "execution_count": 12,
   "metadata": {},
   "outputs": [],
   "source": [
    "# reclassify the floodplain layer\n",
    "# I use environments here to set projection, snap,and cell size. I'm trying to be careful and not change the\n",
    "# projection or snap on the NLCD source data at this point\n",
    "\n",
    "# ArcGIS reclass includes the second value in the class for example,\n",
    "# 0 1 is <=1 (1 is included)\n",
    "# 1 5 is >1 - 5 (1 is not included, 5 is included)\n",
    "# 5 20 is >5 - 20 (5 is not included, 20 is included)\n",
    "with arcpy.EnvManager(outputCoordinateSystem=NLCD, extent=NLCDb, snapRaster=NLCD, cellSize=NLCD):\n",
    "    out_raster = arcpy.sa.Reclassify(FP, \"VALUE\", \"0 1;1 0\", \"DATA\"); out_raster.save(\"FP2\")"
   ]
  },
  {
   "cell_type": "code",
   "execution_count": 13,
   "metadata": {},
   "outputs": [],
   "source": [
    "# pull out evergreen and mixed forest (42,43) from NLCD\n",
    "# I use environments here to set projection, snap, and limit the analysis to the extent of the floodplain layer\n",
    "out_raster = arcpy.sa.Con(\"NLCD2\", 1, 0, \"Value = 42 Or Value = 43\"); out_raster.save(\"pine\")"
   ]
  },
  {
   "cell_type": "code",
   "execution_count": 14,
   "metadata": {},
   "outputs": [],
   "source": [
    "# remove all evergreen and mixed forest that occurs in floodplain\n",
    "out_raster = arcpy.sa.Times(\"FP2\", \"pine\"); out_raster.save(\"pineNoFP\")"
   ]
  },
  {
   "cell_type": "code",
   "execution_count": 15,
   "metadata": {},
   "outputs": [],
   "source": [
    "# reclassify to remove 0 values\n",
    "out_raster = arcpy.sa.Reclassify(\"pineNoFP\", \"VALUE\", \"0 NODATA;1 1\", \"DATA\"); out_raster.save(\"pineNoFP2\")"
   ]
  },
  {
   "cell_type": "code",
   "execution_count": 16,
   "metadata": {},
   "outputs": [],
   "source": [
    "# perform region group to idenify patches\n",
    "out_raster = arcpy.sa.RegionGroup(\"pineNoFP2\", \"EIGHT\", \"WITHIN\"); out_raster.save(\"pineNoFPrg\")"
   ]
  },
  {
   "cell_type": "code",
   "execution_count": 17,
   "metadata": {},
   "outputs": [],
   "source": [
    "# use lookup to pull out count values, so we can see the size of each patch in pixels\n",
    "out_raster = arcpy.sa.Lookup(\"pineNoFPrg\", \"Count\"); out_raster.save(\"pineNoFPrgCnt\")"
   ]
  },
  {
   "cell_type": "code",
   "execution_count": 18,
   "metadata": {},
   "outputs": [],
   "source": [
    "# take times 0.09 to convert from pixel count to hectares. 1 pixel = 30x30 meters = 900 sq meters = 0.09 ha\n",
    "out_raster = arcpy.sa.Times(\"pineNoFPrgCnt\", 0.09); out_raster.save(\"PatchHa\")"
   ]
  },
  {
   "cell_type": "markdown",
   "metadata": {},
   "source": [
    "## Perform brown-headed nuthatch analysis (BHNU)"
   ]
  },
  {
   "cell_type": "code",
   "execution_count": 19,
   "metadata": {},
   "outputs": [],
   "source": [
    "# pull out patches greater than 3 hectares, which is the smallest patch that can still support 1 pair of BHNU\n",
    "# this is different than my 2011 model, in that I make patches smaller than 3 ha NODATA instead of 0\n",
    "out_raster = arcpy.sa.Con(\"PatchHa\", \"PatchHa\", None, \"VALUE >= 3\"); out_raster.save(\"BHNUgt3_HaClump\")"
   ]
  },
  {
   "cell_type": "code",
   "execution_count": 20,
   "metadata": {},
   "outputs": [],
   "source": [
    "# Reclassify above raster so that I can do a euclidean distance on it, the result we need is all patches\n",
    "# that are at least big enough to support a pair of BHNU to be 1 and everything else is NoData\n",
    "out_raster = arcpy.sa.Reclassify(\"BHNUgt3_HaClump\", \"VALUE\", \"0 2000000 1\", \"DATA\"); out_raster.save(\"BHNUgt3_NoData\")"
   ]
  },
  {
   "cell_type": "code",
   "execution_count": 21,
   "metadata": {},
   "outputs": [],
   "source": [
    "# calculate distance from BHNU patches, with a maximum distance of 460 meters, which is 1/2 the dispersal potential distance of 0.92 km\n",
    "out_distance_raster = arcpy.sa.EucDistance(\"BHNUgt3_NoData\", 460, 30, None, \"PLANAR\", None, None); out_distance_raster.save(\"BHNUgt3_NoData_EucDist460\")"
   ]
  },
  {
   "cell_type": "code",
   "execution_count": 22,
   "metadata": {},
   "outputs": [],
   "source": [
    "# recalssify euclidean distance to make everthing within 1500 m of a BACS patch 1 and everything else 0\n",
    "out_raster = arcpy.sa.Con(\"BHNUgt3_NoData_EucDist460\", 1, None, \"VALUE >= 0\"); out_raster.save(\"BHNUgt3_NoData_EucDist460_rcls\")"
   ]
  },
  {
   "cell_type": "code",
   "execution_count": 23,
   "metadata": {},
   "outputs": [],
   "source": [
    "# now we do a region group on these buffer areas around the BHNU patches. The reason for this is to find patches large\n",
    "# enough to support at least 1 pair of BHNU that are within dispersal distance of each other\n",
    "out_raster = arcpy.sa.RegionGroup(\"BHNUgt3_NoData_EucDist460_rcls\", \"FOUR\", \"WITHIN\"); out_raster.save(\"BHNUgt3_NoData_EucDist460_rcls_clmp4\")"
   ]
  },
  {
   "cell_type": "code",
   "execution_count": 24,
   "metadata": {},
   "outputs": [],
   "source": [
    "# now we are using zonanal statistics to calculate the sum of pixels in patches that are large enough for at least\n",
    "# 1 pair that are also within a dispersal distance of each other\n",
    "# we go back to the BHNUgt3_NoData layer for the input because it has values of 1 for pixels in a patch big enough to \n",
    "# support at least # 1 pair and NoData for everything else. This is important so we can use the sum of those pixels \n",
    "# with a value of 1 to calculate area\n",
    "out_raster = arcpy.sa.ZonalStatistics(\"BHNUgt3_NoData_EucDist460_rcls_clmp4\", \"Value\", \"BHNUgt3_NoData\", \"SUM\", \"DATA\", \"CURRENT_SLICE\", 90); out_raster.save(\"BHNUgt3_NoData_EucDist460_rcls_clmp4_ZstatSum\")"
   ]
  },
  {
   "cell_type": "code",
   "execution_count": 25,
   "metadata": {},
   "outputs": [],
   "source": [
    "# take times 0.09 to convert to hectares\n",
    "out_raster = arcpy.sa.Times(\"BHNUgt3_NoData_EucDist460_rcls_clmp4_ZstatSum\", 0.09); out_raster.save(\"BHNUgt3_NoData_EucDist460_rcls_clmp4_ZstatSum_haPls\")"
   ]
  },
  {
   "cell_type": "code",
   "execution_count": 26,
   "metadata": {},
   "outputs": [],
   "source": [
    "# round down\n",
    "out_raster = arcpy.sa.RoundDown(\"BHNUgt3_NoData_EucDist460_rcls_clmp4_ZstatSum_haPls\"); out_raster.save(\"BHNUgt3_NoData_EucDist460_rcls_clmp4_ZstatSum_haPls2\")"
   ]
  },
  {
   "cell_type": "code",
   "execution_count": 27,
   "metadata": {},
   "outputs": [],
   "source": [
    "# convert to integer\n",
    "out_raster = arcpy.sa.Int(\"BHNUgt3_NoData_EucDist460_rcls_clmp4_ZstatSum_haPls2\"); out_raster.save(\"BHNUgt3_NoData_EucDist460_rcls_clmp4_ZstatSum_ha_int\")"
   ]
  },
  {
   "cell_type": "code",
   "execution_count": 28,
   "metadata": {},
   "outputs": [],
   "source": [
    "# if the area of pine habitat (in patches at least large enough to support 1 pair of BHNU) within a dispersal distance\n",
    "# is greater than 84 (ha required to support a Minimum Viable Population) then make it 1, otherwise make it 0 \n",
    "# this value is applying to the whole buffer area, not just the pine clumps\n",
    "out_raster = arcpy.sa.Con(\"BHNUgt3_NoData_EucDist460_rcls_clmp4_ZstatSum_ha_int\", 1, 0, \"VALUE >= 84\"); out_raster.save(\"BHNUgt3_NoData_EucDist460_rcls_clmp4_ZstatSum_ha_int_gt84\")"
   ]
  },
  {
   "cell_type": "code",
   "execution_count": 29,
   "metadata": {},
   "outputs": [],
   "source": [
    "# Now we want to only show the pine habitat in patches large enough to support at least one pair that are also in\n",
    "# dispersal distances large enough to support a MVP. We do this with a times to reduce back to actual pine clumps large\n",
    "# enough to support at least 1 pair\n",
    "out_raster = arcpy.sa.Times(\"BHNUgt3_NoData_EucDist460_rcls_clmp4_ZstatSum_ha_int_gt84\", \"BHNUgt3_HaClump\"); out_raster.save(\"BHNUgt3_HaClump_MVP\")"
   ]
  },
  {
   "cell_type": "code",
   "execution_count": 30,
   "metadata": {},
   "outputs": [],
   "source": [
    "# make all values greater than 84 have the value of 84, since these patches meet the MVP, we don't need to distinguish\n",
    "# bigger patches that meet the MVP from smaller patches that meet the MVP\n",
    "out_raster = arcpy.sa.Con(\"BHNUgt3_HaClump_MVP\", 84, \"BHNUgt3_HaClump_MVP\", \"VALUE >= 84\"); out_raster.save(\"BHNUgt3_HaClump_MVP_84cut\")"
   ]
  },
  {
   "cell_type": "code",
   "execution_count": 31,
   "metadata": {},
   "outputs": [],
   "source": [
    "# reclassify the BHNU layer to combine with other layers\n",
    "# 100 = patch large enough to support 1 pair, but outside of dispersal distance of enough habitat to support MVP\n",
    "# 200 = patch is large enough to support 1 pair, and is within dispersal distance of enough habitat to support MVP\n",
    "# 300 = patch alone is large enough to support MVP\n",
    "\n",
    "# ArcGIS reclass includes the second value in the class for example,\n",
    "# 0 1 is <=1 (1 is included)\n",
    "# 1 5 is >1 - 5 (1 is not included, 5 is included)\n",
    "# 5 20 is >5 - 20 (5 is not included, 20 is included)\n",
    "out_raster = arcpy.sa.Reclassify(\"BHNUgt3_HaClump_MVP\", \"VALUE\", \"NODATA 0;0 3 100;3 83 200;83 900000000 300\", \"DATA\"); out_raster.save(\"BHNUgt3_HaClump_MVP_84cut_2clss\")"
   ]
  },
  {
   "cell_type": "code",
   "execution_count": 32,
   "metadata": {},
   "outputs": [],
   "source": [
    "# reclassify the BHNU layer for sub indicator output\n",
    "# 1 = patch large enough to support 1 pair, but outside of dispersal distance of enough habitat to support MVP\n",
    "# 2 = patch is large enough to support 1 pair, and is within dispersal distance of enough habitat to support MVP\n",
    "# 3 = patch alone is large enough to support MVP\n",
    "\n",
    "# ArcGIS reclass includes the second value in the class for example,\n",
    "# 0 1 is <=1 (1 is included)\n",
    "# 1 5 is >1 - 5 (1 is not included, 5 is included)\n",
    "# 5 20 is >5 - 20 (5 is not included, 20 is included)\n",
    "out_raster = arcpy.sa.Reclassify(\"BHNUgt3_HaClump_MVP\", \"VALUE\", \"NODATA 0;0 3 1;3 83 2;83 900000000 3\", \"DATA\"); out_raster.save(\"BHNUout1\")"
   ]
  },
  {
   "cell_type": "code",
   "execution_count": 33,
   "metadata": {},
   "outputs": [],
   "source": [
    "# set code block for next step\n",
    "codeblock = \"\"\"\n",
    "def Reclass(value):\n",
    "    if value == 0:\n",
    "        return '0 = not an upland pine patch or an upland pine patch too small to support 1 pair'\n",
    "    elif value == 1:\n",
    "        return '1 = upland pine patch large enough to support 1 pair, but outside of dispersal distance of enough habitat to support a minimum viable population' \n",
    "    elif value == 2:\n",
    "        return '2 = upland pine patch large enough to support 1 pair, and is within dispersal distance of enough habitat to support a minimum viable population'\n",
    "    elif value == 3:\n",
    "        return '3 = upland pine patch large enough to support a minimum viable population'\n",
    "\"\"\""
   ]
  },
  {
   "cell_type": "code",
   "execution_count": 34,
   "metadata": {
    "scrolled": true
   },
   "outputs": [
    {
     "data": {
      "text/html": [
       "<div class='gpresult'><h2>Messages</h2><div id='messages' data-messages='[\"Start Time: Thursday, June 29, 2023 3:14:50 PM\",\"Adding descript to VAT_BHNUout1...\",\"Succeeded at Thursday, June 29, 2023 3:14:50 PM (Elapsed Time: 0.07 seconds)\"]' data-show='true'><div id = 'default' /></div></div>"
      ],
      "text/plain": [
       "<Result 'D:\\\\SE_Blueprint_2023\\\\5_Indicators_Tier2_UnClipped\\\\WestCoastalPlainAndOuachitasOpen\\\\West.gdb\\\\BHNUout1'>"
      ]
     },
     "execution_count": 34,
     "metadata": {},
     "output_type": "execute_result"
    }
   ],
   "source": [
    "# add and calculate description field to hold indicator values\n",
    "arcpy.management.CalculateField(\"BHNUout1\", \"descript\", \"Reclass(!Value!)\", \"PYTHON3\", codeblock, \"TEXT\")"
   ]
  },
  {
   "cell_type": "code",
   "execution_count": 35,
   "metadata": {},
   "outputs": [],
   "source": [
    "# clip to WGCPO\n",
    "with arcpy.EnvManager(outputCoordinateSystem=NLCD, snapRaster=NLCD, cellSize=NLCD):\n",
    "    out_raster = arcpy.sa.ExtractByMask(\"BHNUout1\", WGCPO); out_raster.save(\"BHNUout2\")"
   ]
  },
  {
   "cell_type": "code",
   "execution_count": 36,
   "metadata": {},
   "outputs": [
    {
     "data": {
      "text/html": [
       "<div class='gpresult'><h2>Messages</h2><div id='messages' data-messages='[\"Start Time: Thursday, June 29, 2023 3:15:13 PM\",\"Building Pyramids...\",\"Calculating Statistics...\",\"Succeeded at Thursday, June 29, 2023 3:15:20 PM (Elapsed Time: 7.00 seconds)\"]' data-show='true'><div id = 'default' /></div></div>"
      ],
      "text/plain": [
       "<Result 'D:\\\\SE_Blueprint_2023\\\\5_Indicators_Tier2_UnClipped\\\\WestCoastalPlainAndOuachitasOpen\\\\BHNU_2019.tif'>"
      ]
     },
     "execution_count": 36,
     "metadata": {},
     "output_type": "execute_result"
    }
   ],
   "source": [
    "# export as .tif \n",
    "arcpy.management.CopyRaster(\"BHNUout2\", BHNUout, '', None, \"255\", \"NONE\", \"NONE\", \"8_BIT_UNSIGNED\", \"NONE\", \"NONE\", \"TIFF\", \"NONE\", \"CURRENT_SLICE\", \"NO_TRANSPOSE\")"
   ]
  },
  {
   "cell_type": "markdown",
   "metadata": {},
   "source": [
    "## Perform Bachman's sparrow analysis (BACS)"
   ]
  },
  {
   "cell_type": "code",
   "execution_count": 37,
   "metadata": {},
   "outputs": [],
   "source": [
    "# pull out patches greater than 3 hectares, which is the smallest patch that can still support 1 pair of BACS\n",
    "# this is different than my 2011 model, in that I make patches smaller than 3 ha NODATA instead of 0\n",
    "out_raster = arcpy.sa.Con(\"PatchHa\", \"PatchHa\", None, \"VALUE >= 3\"); out_raster.save(\"BACSgt3_HaClump\")"
   ]
  },
  {
   "cell_type": "code",
   "execution_count": 38,
   "metadata": {},
   "outputs": [],
   "source": [
    "# Reclassify above raster so that I can do a euclidean distance on it, the result we need is all patches\n",
    "# that are at least big enough to support a pair of BACS to be 1 and everything else is NoData\n",
    "out_raster = arcpy.sa.Reclassify(\"BACSgt3_HaClump\", \"VALUE\", \"0 2000000 1\", \"DATA\"); out_raster.save(\"BACSgt3_NoData\")"
   ]
  },
  {
   "cell_type": "code",
   "execution_count": 39,
   "metadata": {},
   "outputs": [],
   "source": [
    "# calculate distance from BACS patches, with a maximum distance of 1500 meters, which is 1/2 the dispersal potential distance of 3 km\n",
    "out_distance_raster = arcpy.sa.EucDistance(\"BACSgt3_NoData\", 1500, 30, None, \"PLANAR\", None, None); out_distance_raster.save(\"BACSgt3_NoData_EucDist1500\")"
   ]
  },
  {
   "cell_type": "code",
   "execution_count": 40,
   "metadata": {},
   "outputs": [],
   "source": [
    "# recalssify euclidean distance to make everthing within 1500 m of a BACS patch 1 and everything else 0\n",
    "out_raster = arcpy.sa.Con(\"BACSgt3_NoData_EucDist1500\", 1, None, \"VALUE >= 0\"); out_raster.save(\"BACSgt3_NoData_EucDist1500_rcls\")"
   ]
  },
  {
   "cell_type": "code",
   "execution_count": 41,
   "metadata": {},
   "outputs": [],
   "source": [
    "# now we do a region group on these buffer areas around the BACS patches. The reason for this is to find patches large\n",
    "# enough to support at least 1 pair of BACS that are within dispersal distance of each other\n",
    "out_raster = arcpy.sa.RegionGroup(\"BACSgt3_NoData_EucDist1500_rcls\", \"FOUR\", \"WITHIN\"); out_raster.save(\"BACSgt3_NoData_EucDist1500_rcls_clmp4\")"
   ]
  },
  {
   "cell_type": "code",
   "execution_count": 42,
   "metadata": {},
   "outputs": [],
   "source": [
    "# now we are using zonanal statistics to calculate the sum of pixels in patches that are large enough for at least\n",
    "# 1 pair that are also within a dispersal distance of each other\n",
    "# we go back to the BACSgt3_NoData layer for the input because it has values of 1 for pixels in a patch big enough to \n",
    "# support at least # 1 pair and NoData for everything else. This is important so we can use the sum of those pixels \n",
    "# with a value of 1 to calculate area\n",
    "out_raster = arcpy.sa.ZonalStatistics(\"BACSgt3_NoData_EucDist1500_rcls_clmp4\", \"Value\", \"BACSgt3_NoData\", \"SUM\", \"DATA\", \"CURRENT_SLICE\", 90); out_raster.save(\"BACSgt3_NoData_EucDist1500_rcls_clmp4_ZstatSum\")"
   ]
  },
  {
   "cell_type": "code",
   "execution_count": 43,
   "metadata": {},
   "outputs": [],
   "source": [
    "# take times 0.09 to convert to hectares\n",
    "out_raster = arcpy.sa.Times(\"BACSgt3_NoData_EucDist1500_rcls_clmp4_ZstatSum\", 0.09); out_raster.save(\"BACSgt3_NoData_EucDist1500_rcls_clmp4_ZstatSum_haPls\")"
   ]
  },
  {
   "cell_type": "code",
   "execution_count": 44,
   "metadata": {},
   "outputs": [],
   "source": [
    "# round down\n",
    "out_raster = arcpy.sa.RoundDown(\"BACSgt3_NoData_EucDist1500_rcls_clmp4_ZstatSum_haPls\"); out_raster.save(\"BACSgt3_NoData_EucDist1500_rcls_clmp4_ZstatSum_haPls2\")"
   ]
  },
  {
   "cell_type": "code",
   "execution_count": 45,
   "metadata": {},
   "outputs": [],
   "source": [
    "# convert to integer\n",
    "out_raster = arcpy.sa.Int(\"BACSgt3_NoData_EucDist1500_rcls_clmp4_ZstatSum_haPls2\"); out_raster.save(\"BACSgt3_NoData_EucDist1500_rcls_clmp4_ZstatSum_ha_int\")"
   ]
  },
  {
   "cell_type": "code",
   "execution_count": 46,
   "metadata": {},
   "outputs": [],
   "source": [
    "# if the area of pine habitat (in patches at least large enough to support 1 pair of BACS) within a dispersal distance\n",
    "# is greater than 150 (ha required to support a Minimum Viable Population) then make it 1, otherwise make it 0 \n",
    "# this value is applying to the whole buffer area, not just the pine clumps\n",
    "out_raster = arcpy.sa.Con(\"BACSgt3_NoData_EucDist1500_rcls_clmp4_ZstatSum_ha_int\", 1, 0, \"VALUE >= 150\"); out_raster.save(\"BACSgt3_NoData_EucDist1500_rcls_clmp4_ZstatSum_ha_int_gt150\")"
   ]
  },
  {
   "cell_type": "code",
   "execution_count": 47,
   "metadata": {},
   "outputs": [],
   "source": [
    "# Now we want to only show the pine habitat in patches large enough to support at least one pair that are also in\n",
    "# dispersal distances large enough to support a MVP. We do this with a times to reduce back to actual pine clumps large\n",
    "# enough to support at least 1 pair\n",
    "out_raster = arcpy.sa.Times(\"BACSgt3_NoData_EucDist1500_rcls_clmp4_ZstatSum_ha_int_gt150\", \"BACSgt3_HaClump\"); out_raster.save(\"BACSgt3_HaClump_MVP\")"
   ]
  },
  {
   "cell_type": "code",
   "execution_count": 48,
   "metadata": {},
   "outputs": [],
   "source": [
    "# make all values greater than 150 have the value of 150, since these patches meet the MVP, we don't need to distinguish\n",
    "# bigger patches that meet the MVP from smaller patches that meet the MVP\n",
    "out_raster = arcpy.sa.Con(\"BACSgt3_HaClump_MVP\", 150, \"BACSgt3_HaClump_MVP\", \"VALUE >= 150\"); out_raster.save(\"BACSgt3_HaClump_MVP_150cut\")"
   ]
  },
  {
   "cell_type": "code",
   "execution_count": 49,
   "metadata": {},
   "outputs": [],
   "source": [
    "# reclassify the BACS layer to combine with other layers\n",
    "# 10 = patch large enough to support 1 pair, but outside of dispersal distance of enough habitat to support MVP\n",
    "# 20 = patch is large enough to support 1 pair, and is within dispersal distance of enough habitat to support MVP\n",
    "# 30 = patch alone is large enough to support MVP\n",
    "\n",
    "# ArcGIS reclass includes the second value in the class for example,\n",
    "# 0 1 is <=1 (1 is included)\n",
    "# 1 5 is >1 - 5 (1 is not included, 5 is included)\n",
    "# 5 20 is >5 - 20 (5 is not included, 20 is included)\n",
    "out_raster = arcpy.sa.Reclassify(\"BACSgt3_HaClump_MVP\", \"VALUE\", \"NODATA 0;0 3 10;3 149 20;149 900000000 30\", \"DATA\"); out_raster.save(\"BACSgt3_HaClump_MVP_150cut_2clss\")"
   ]
  },
  {
   "cell_type": "code",
   "execution_count": 50,
   "metadata": {},
   "outputs": [],
   "source": [
    "# reclassify the BACS layer for sub indicator output\n",
    "# 1 = pine patch large enough to support 1 pair, but outside of dispersal distance of enough habitat to support a minimum viable population\n",
    "# 2 = pine patch large enough to support 1 pair, and is within dispersal distance of enough habitat to support a minimum viable population\n",
    "# 3 = pine patch large enough to support a minimum viable population\n",
    "\n",
    "# ArcGIS reclass includes the second value in the class for example,\n",
    "# 0 1 is <=1 (1 is included)\n",
    "# 1 5 is >1 - 5 (1 is not included, 5 is included)\n",
    "# 5 20 is >5 - 20 (5 is not included, 20 is included)\n",
    "out_raster = arcpy.sa.Reclassify(\"BACSgt3_HaClump_MVP_150cut\", \"VALUE\", \"NODATA 0;0 3 1;3 149 2;149 900000000 3\", \"DATA\"); out_raster.save(\"BACSout1\")"
   ]
  },
  {
   "cell_type": "code",
   "execution_count": 51,
   "metadata": {},
   "outputs": [],
   "source": [
    "# set code block for next step\n",
    "codeblock = \"\"\"\n",
    "def Reclass(value):\n",
    "    if value == 0:\n",
    "        return '0 = not an upland pine patch or an upland pine patch too small to support 1 pair'\n",
    "    elif value == 1:\n",
    "        return '1 = upland pine patch large enough to support 1 pair, but outside of dispersal distance of enough habitat to support a minimum viable population' \n",
    "    elif value == 2:\n",
    "        return '2 = upland pine patch large enough to support 1 pair, and is within dispersal distance of enough habitat to support a minimum viable population'\n",
    "    elif value == 3:\n",
    "        return '3 = upland pine patch large enough to support a minimum viable population'\n",
    "\"\"\""
   ]
  },
  {
   "cell_type": "code",
   "execution_count": 52,
   "metadata": {},
   "outputs": [
    {
     "data": {
      "text/html": [
       "<div class='gpresult'><h2>Messages</h2><div id='messages' data-messages='[\"Start Time: Thursday, June 29, 2023 3:22:19 PM\",\"Adding descript to VAT_BACSout1...\",\"Succeeded at Thursday, June 29, 2023 3:22:19 PM (Elapsed Time: 0.04 seconds)\"]' data-show='true'><div id = 'default' /></div></div>"
      ],
      "text/plain": [
       "<Result 'D:\\\\SE_Blueprint_2023\\\\5_Indicators_Tier2_UnClipped\\\\WestCoastalPlainAndOuachitasOpen\\\\West.gdb\\\\BACSout1'>"
      ]
     },
     "execution_count": 52,
     "metadata": {},
     "output_type": "execute_result"
    }
   ],
   "source": [
    "# add and calculate description field to hold indicator values\n",
    "arcpy.management.CalculateField(\"BACSout1\", \"descript\", \"Reclass(!Value!)\", \"PYTHON3\", codeblock, \"TEXT\")"
   ]
  },
  {
   "cell_type": "code",
   "execution_count": 53,
   "metadata": {},
   "outputs": [],
   "source": [
    "# clip to WGCPO\n",
    "with arcpy.EnvManager(outputCoordinateSystem=NLCD, snapRaster=NLCD, cellSize=NLCD):\n",
    "    out_raster = arcpy.sa.ExtractByMask(\"BACSout1\", WGCPO); out_raster.save(\"BACSout2\")"
   ]
  },
  {
   "cell_type": "code",
   "execution_count": 54,
   "metadata": {},
   "outputs": [
    {
     "data": {
      "text/html": [
       "<div class='gpresult'><h2>Messages</h2><div id='messages' data-messages='[\"Start Time: Thursday, June 29, 2023 3:22:41 PM\",\"Building Pyramids...\",\"Calculating Statistics...\",\"Succeeded at Thursday, June 29, 2023 3:22:47 PM (Elapsed Time: 6.45 seconds)\"]' data-show='true'><div id = 'default' /></div></div>"
      ],
      "text/plain": [
       "<Result 'D:\\\\SE_Blueprint_2023\\\\5_Indicators_Tier2_UnClipped\\\\WestCoastalPlainAndOuachitasOpen\\\\BACS_2019.tif'>"
      ]
     },
     "execution_count": 54,
     "metadata": {},
     "output_type": "execute_result"
    }
   ],
   "source": [
    "# export as .tif \n",
    "arcpy.management.CopyRaster(\"BACSout2\", BACSout, '', None, \"255\", \"NONE\", \"NONE\", \"8_BIT_UNSIGNED\", \"NONE\", \"NONE\", \"TIFF\", \"NONE\", \"CURRENT_SLICE\", \"NO_TRANSPOSE\")"
   ]
  },
  {
   "cell_type": "markdown",
   "metadata": {},
   "source": [
    "## Perform red-cockaded woodpecker analysis (RCWO)"
   ]
  },
  {
   "cell_type": "code",
   "execution_count": 55,
   "metadata": {},
   "outputs": [],
   "source": [
    "# pull out patches greater than 50 hectares, which is the smallest patch that can still support 1 pair of RCWO\n",
    "# this is different than my 2011 model, in that I make patches smaller than 50 ha NODATA instead of 0\n",
    "out_raster = arcpy.sa.Con(\"PatchHa\", \"PatchHa\", None, \"VALUE >= 50\"); out_raster.save(\"RCWOgt50_HaClump\")"
   ]
  },
  {
   "cell_type": "code",
   "execution_count": 56,
   "metadata": {},
   "outputs": [],
   "source": [
    "# Reclassify above raster so that I can do a euclidean distance on it, the result we need is all patches\n",
    "# that are at least big enough to support a pair of RCWO to be 1 and everything else is NoData\n",
    "out_raster = arcpy.sa.Reclassify(\"RCWOgt50_HaClump\", \"VALUE\", \"0 2000000 1\", \"DATA\"); out_raster.save(\"RCWOgt50_NoData\")"
   ]
  },
  {
   "cell_type": "code",
   "execution_count": 57,
   "metadata": {},
   "outputs": [],
   "source": [
    "# calculate distance from RCWO patches, with a maximum distance of 4000 meters, which is 1/2 dispersal potential distance if 8 km\n",
    "out_distance_raster = arcpy.sa.EucDistance(\"RCWOgt50_NoData\", 4000, 30, None, \"PLANAR\", None, None); out_distance_raster.save(\"RCWOgt50_NoData_EucDist4000\")"
   ]
  },
  {
   "cell_type": "code",
   "execution_count": 58,
   "metadata": {},
   "outputs": [],
   "source": [
    "# recalssify euclidean distance to make everthing within 4000 m of a RCWO patch 1 and everything else 0\n",
    "out_raster = arcpy.sa.Con(\"RCWOgt50_NoData_EucDist4000\", 1, None, \"VALUE >= 0\"); out_raster.save(\"RCWOgt50_NoData_EucDist4000_rcls\")"
   ]
  },
  {
   "cell_type": "code",
   "execution_count": 59,
   "metadata": {},
   "outputs": [],
   "source": [
    "# now we do a region group on these buffer areas around the RCWO patches. The reason for this is to find patches large\n",
    "# enough to support at least 1 pair of RCWO that are within dispersal distance of each other\n",
    "out_raster = arcpy.sa.RegionGroup(\"RCWOgt50_NoData_EucDist4000_rcls\", \"FOUR\", \"WITHIN\"); out_raster.save(\"RCWOgt50_NoData_EucDist4000_rcls_clmp4\")"
   ]
  },
  {
   "cell_type": "code",
   "execution_count": 60,
   "metadata": {},
   "outputs": [],
   "source": [
    "# now we are using zonanal statistics to calculate the sum of pixels in patches that are large enough for at least\n",
    "# 1 pair that are also within a dispersal distance of each other\n",
    "# we go back to the RCWOgt50_NoData layer for the input because it has values of 1 for pixels in a patch big enough to \n",
    "# support at least # 1 pair and NoData for everything else. This is important so we can use the sum of those pixels \n",
    "# with a value of 1 to calculate area\n",
    "out_raster = arcpy.sa.ZonalStatistics(\"RCWOgt50_NoData_EucDist4000_rcls_clmp4\", \"Value\", \"RCWOgt50_NoData\", \"SUM\", \"DATA\", \"CURRENT_SLICE\", 90); out_raster.save(\"RCWOgt50_NoData_EucDist4000_rcls_clmp4_ZstatSum\")"
   ]
  },
  {
   "cell_type": "code",
   "execution_count": 61,
   "metadata": {},
   "outputs": [],
   "source": [
    "# take times 0.09 to convert to hectares\n",
    "out_raster = arcpy.sa.Times(\"RCWOgt50_NoData_EucDist4000_rcls_clmp4_ZstatSum\", 0.09); out_raster.save(\"RCWOgt50_NoData_EucDist4000_rcls_clmp4_ZstatSum_haPls\")"
   ]
  },
  {
   "cell_type": "code",
   "execution_count": 62,
   "metadata": {},
   "outputs": [],
   "source": [
    "# round down\n",
    "out_raster = arcpy.sa.RoundDown(\"RCWOgt50_NoData_EucDist4000_rcls_clmp4_ZstatSum_haPls\"); out_raster.save(\"RCWOgt50_NoData_EucDist4000_rcls_clmp4_ZstatSum_haPls2\")"
   ]
  },
  {
   "cell_type": "code",
   "execution_count": 63,
   "metadata": {},
   "outputs": [],
   "source": [
    "# convert to integer\n",
    "out_raster = arcpy.sa.Int(\"RCWOgt50_NoData_EucDist4000_rcls_clmp4_ZstatSum_haPls2\"); out_raster.save(\"RCWOgt50_NoData_EucDist4000_rcls_clmp4_ZstatSum_ha_int\")"
   ]
  },
  {
   "cell_type": "code",
   "execution_count": 64,
   "metadata": {},
   "outputs": [],
   "source": [
    "# if the area of pine habitat (in patches at least large enough to support 1 pair of RCWO) within a dispersal distance\n",
    "# is greater than 1000 (ha required to support a Minimum Viable Population) then make it 1, otherwise make it 0 \n",
    "# this value is applying to the whole buffer area, not just the pine clumps\n",
    "out_raster = arcpy.sa.Con(\"RCWOgt50_NoData_EucDist4000_rcls_clmp4_ZstatSum_ha_int\", 1, 0, \"VALUE >= 1000\"); out_raster.save(\"RCWOgt50_NoData_EucDist4000_rcls_clmp4_ZstatSum_ha_int_gt1000\")"
   ]
  },
  {
   "cell_type": "code",
   "execution_count": 65,
   "metadata": {},
   "outputs": [],
   "source": [
    "# Now we want to only show the pine habitat in patches large enough to support at least one pair that are also in\n",
    "# dispersal distances large enough to support a MVP. We do this with a times to reduce back to actual pine clumps large\n",
    "# enough to support at least 1 pair\n",
    "out_raster = arcpy.sa.Times(\"RCWOgt50_NoData_EucDist4000_rcls_clmp4_ZstatSum_ha_int_gt1000\", \"RCWOgt50_HaClump\"); out_raster.save(\"RCWOgt50_HaClump_MVP\")"
   ]
  },
  {
   "cell_type": "code",
   "execution_count": 66,
   "metadata": {},
   "outputs": [],
   "source": [
    "# make all values greater than 1000 have the value of 1000, since these patches meet the MVP, we don't need to distinguish\n",
    "# bigger patches that meet the MVP from smaller patches that meet the MVP\n",
    "out_raster = arcpy.sa.Con(\"RCWOgt50_HaClump_MVP\", 1000, \"RCWOgt50_HaClump_MVP\", \"VALUE >= 1000\"); out_raster.save(\"RCWOgt50_HaClump_MVP_1000cut\")"
   ]
  },
  {
   "cell_type": "code",
   "execution_count": 67,
   "metadata": {},
   "outputs": [],
   "source": [
    "# reclassify the RCWO layer to combine with other layers and for sub indicator output\n",
    "# 1 = patch large enough to support 1 pair, but outside of dispersal distance of enough habitat to support MVP\n",
    "# 2 = patch is large enough to support 1 pair, and is within dispersal distance of enough habitat to support MVP\n",
    "# 3 = patch alone is large enough to support MVP\n",
    "\n",
    "# ArcGIS reclass includes the second value in the class for example,\n",
    "# 0 1 is <=1 (1 is included)\n",
    "# 1 5 is >1 - 5 (1 is not included, 5 is included)\n",
    "# 5 20 is >5 - 20 (5 is not included, 20 is included)\n",
    "out_raster = arcpy.sa.Reclassify(\"RCWOgt50_HaClump_MVP\", \"VALUE\", \"NODATA 0;0 50 1;50 999 2;999 900000000 3\", \"DATA\"); out_raster.save(\"RCWOgt50_HaClump_MVP_1000cut_2clss\")"
   ]
  },
  {
   "cell_type": "code",
   "execution_count": 68,
   "metadata": {},
   "outputs": [],
   "source": [
    "# set code block for next step\n",
    "codeblock = \"\"\"\n",
    "def Reclass(value):\n",
    "    if value == 0:\n",
    "        return '0 = not an upland pine patch or an upland pine patch too small to support 1 pair'\n",
    "    elif value == 1:\n",
    "        return '1 = upland pine patch large enough to support 1 pair, but outside of dispersal distance of enough habitat to support a minimum viable population' \n",
    "    elif value == 2:\n",
    "        return '2 = upland pine patch large enough to support 1 pair, and is within dispersal distance of enough habitat to support a minimum viable population'\n",
    "    elif value == 3:\n",
    "        return '3 = upland pine patch large enough to support a minimum viable population'\n",
    "\"\"\""
   ]
  },
  {
   "cell_type": "code",
   "execution_count": 69,
   "metadata": {},
   "outputs": [
    {
     "data": {
      "text/html": [
       "<div class='gpresult'><h2>Messages</h2><div id='messages' data-messages='[\"Start Time: Thursday, June 29, 2023 3:29:36 PM\",\"Adding descript to VAT_RCWOgt50_HaClump_MVP_1000cut_2clss...\",\"Succeeded at Thursday, June 29, 2023 3:29:36 PM (Elapsed Time: 0.05 seconds)\"]' data-show='true'><div id = 'default' /></div></div>"
      ],
      "text/plain": [
       "<Result 'D:\\\\SE_Blueprint_2023\\\\5_Indicators_Tier2_UnClipped\\\\WestCoastalPlainAndOuachitasOpen\\\\West.gdb\\\\RCWOgt50_HaClump_MVP_1000cut_2clss'>"
      ]
     },
     "execution_count": 69,
     "metadata": {},
     "output_type": "execute_result"
    }
   ],
   "source": [
    "# add and calculate description field to hold indicator values\n",
    "arcpy.management.CalculateField(\"RCWOgt50_HaClump_MVP_1000cut_2clss\", \"descript\", \"Reclass(!Value!)\", \"PYTHON3\", codeblock, \"TEXT\")"
   ]
  },
  {
   "cell_type": "code",
   "execution_count": 70,
   "metadata": {},
   "outputs": [],
   "source": [
    "# clip to WGCPO\n",
    "with arcpy.EnvManager(outputCoordinateSystem=NLCD, snapRaster=NLCD, cellSize=NLCD):\n",
    "    out_raster = arcpy.sa.ExtractByMask(\"RCWOgt50_HaClump_MVP_1000cut_2clss\", WGCPO); out_raster.save(\"RCWOout2\")"
   ]
  },
  {
   "cell_type": "code",
   "execution_count": 71,
   "metadata": {},
   "outputs": [
    {
     "data": {
      "text/html": [
       "<div class='gpresult'><h2>Messages</h2><div id='messages' data-messages='[\"Start Time: Thursday, June 29, 2023 3:30:00 PM\",\"Building Pyramids...\",\"Calculating Statistics...\",\"Succeeded at Thursday, June 29, 2023 3:30:06 PM (Elapsed Time: 6.61 seconds)\"]' data-show='true'><div id = 'default' /></div></div>"
      ],
      "text/plain": [
       "<Result 'D:\\\\SE_Blueprint_2023\\\\5_Indicators_Tier2_UnClipped\\\\WestCoastalPlainAndOuachitasOpen\\\\RCWO_2019.tif'>"
      ]
     },
     "execution_count": 71,
     "metadata": {},
     "output_type": "execute_result"
    }
   ],
   "source": [
    "# export as .tif \n",
    "arcpy.management.CopyRaster(\"RCWOout2\", RCWOout, '', None, \"255\", \"NONE\", \"NONE\", \"8_BIT_UNSIGNED\", \"NONE\", \"NONE\", \"TIFF\", \"NONE\", \"CURRENT_SLICE\", \"NO_TRANSPOSE\")"
   ]
  },
  {
   "cell_type": "markdown",
   "metadata": {},
   "source": [
    "## New method to combine 3 species layers"
   ]
  },
  {
   "cell_type": "code",
   "execution_count": 72,
   "metadata": {},
   "outputs": [],
   "source": [
    "# use cell statistics and sum to combine\n",
    "out_raster = arcpy.sa.CellStatistics(\"BHNUgt3_HaClump_MVP_84cut_2clss;BACSgt3_HaClump_MVP_150cut_2clss;RCWOgt50_HaClump_MVP_1000cut_2clss\", \"SUM\", \"DATA\", \"SINGLE_BAND\"); out_raster.save(\"SUM\")"
   ]
  },
  {
   "cell_type": "code",
   "execution_count": 73,
   "metadata": {},
   "outputs": [],
   "source": [
    "# clip to WGCPO\n",
    "with arcpy.EnvManager(outputCoordinateSystem=NLCD, snapRaster=NLCD, cellSize=NLCD):\n",
    "    out_raster = arcpy.sa.ExtractByMask(\"SUM\", WGCPO); out_raster.save(\"SUM_WGCPO\")"
   ]
  },
  {
   "cell_type": "markdown",
   "metadata": {},
   "source": [
    "## Reclassify to the 6 class legend that the JV prefered"
   ]
  },
  {
   "cell_type": "code",
   "execution_count": 74,
   "metadata": {},
   "outputs": [],
   "source": [
    "# reclassify the raster with the 3 combined species where values represent BHNU in the hundreds place, BACS in the tens, and RCWO in the ones to the preferred LMVJV legend option\n",
    "out_raster = arcpy.sa.Reclassify(\"SUM_WGCPO\", \"Value\", \"0 0;110 0;120 1;121 1;122 2;210 1;220 2;221 2;222 3;312 4;321 4;322 4;331 5;332 5;333 6\", \"DATA\"); out_raster.save(r\"indicator\")"
   ]
  },
  {
   "cell_type": "markdown",
   "metadata": {},
   "source": [
    "### Finalize indiator\n",
    "\n",
    "do final steps for all indicators to add description fields, clip and export to SE extent, clip and export to SA extent"
   ]
  },
  {
   "cell_type": "code",
   "execution_count": 133,
   "metadata": {
    "scrolled": true
   },
   "outputs": [],
   "source": [
    "# clip to SE 2022 Blueprint extent\n",
    "with arcpy.EnvManager(outputCoordinateSystem=sr, snapRaster=SEraster, cellSize=SEraster):\n",
    "    out_raster = arcpy.sa.ExtractByMask(\"indicator\", SEraster); out_raster.save(\"SEMask2\")"
   ]
  },
  {
   "cell_type": "code",
   "execution_count": 134,
   "metadata": {},
   "outputs": [],
   "source": [
    "# export as .tif \n",
    "with arcpy.EnvManager(outputCoordinateSystem=sr, snapRaster=SEraster, cellSize=SEraster):\n",
    "    arcpy.management.CopyRaster(\"SEMask2\", Out, '', None, \"15\", \"NONE\", \"NONE\", \"4_BIT\", \"NONE\", \"NONE\", \"TIFF\", \"NONE\", \"CURRENT_SLICE\", \"NO_TRANSPOSE\")"
   ]
  },
  {
   "cell_type": "code",
   "execution_count": 135,
   "metadata": {},
   "outputs": [],
   "source": [
    "# set code block for next step\n",
    "codeblock = \"\"\"\n",
    "def Reclass(value):\n",
    "    if value == 0:\n",
    "        return '0 = Pine patch too small and isolated to support a population of any umbrella bird species or not an upland pine patch'\n",
    "    elif value == 1:\n",
    "        return '1 = Pine patch part of a cluster of nearby patches able to support a population of 1 umbrella bird species if managed in open condition'\n",
    "    elif value == 2:\n",
    "        return '2 = Pine patch part of a cluster of nearby patches able to support a population of 2 umbrella bird species if managed in open condition'\n",
    "    elif value == 3:\n",
    "        return '3 = Pine patch part of a cluster of nearby patches able to support a population of all 3 umbrella bird species if managed in open condition' \n",
    "    elif value == 4:\n",
    "        return '4 = Pine patch large enough to support a population of 1 umbrella bird species if managed in open condition'\n",
    "    elif value == 5:\n",
    "        return '5 = Pine patch large enough to support a population of 2 umbrella bird species if managed in open condition'\n",
    "    elif value == 6:\n",
    "        return '6 = Pine patch large enough to support a population of all 3 umbrella bird species (brown-headed nuthatch, Bachman’s sparrow, red-cockaded woodpecker) if managed in open condition'\n",
    "\"\"\""
   ]
  },
  {
   "cell_type": "code",
   "execution_count": 136,
   "metadata": {},
   "outputs": [
    {
     "data": {
      "text/html": [
       "<div class='gpresult'><h2>Messages</h2><div id='messages' data-messages='[\"Start Time: Friday, September 15, 2023 8:59:02 PM\",\"Adding Descript to WestCoastalPlainAndOuachitasOpenPineBirds.tif.vat...\",\"Succeeded at Friday, September 15, 2023 8:59:02 PM (Elapsed Time: 0.11 seconds)\"]' data-show='true'><div id = 'default' /></div></div>"
      ],
      "text/plain": [
       "<Result 'D:\\\\SE_Blueprint_2023\\\\5_Indicators_Tier2_UnClipped\\\\WestCoastalPlainAndOuachitasOpen\\\\WestCoastalPlainAndOuachitasOpenPineBirds.tif'>"
      ]
     },
     "execution_count": 136,
     "metadata": {},
     "output_type": "execute_result"
    }
   ],
   "source": [
    "# add and calculate description field to hold second option of indicator values\n",
    "arcpy.management.CalculateField(Out, \"Descript\", \"Reclass(!Value!)\", \"PYTHON3\", codeblock, \"TEXT\")\n"
   ]
  },
  {
   "cell_type": "code",
   "execution_count": 137,
   "metadata": {},
   "outputs": [],
   "source": [
    "# set code block for next step\n",
    "codeblock = \"\"\"\n",
    "def Reclass1(Value):\n",
    "\tif Value == 6:\n",
    "\t\treturn 73\n",
    "\tif Value == 5:\n",
    "\t\treturn 139\n",
    "\tif Value == 4:\n",
    "\t\treturn 205\n",
    "\tif Value == 3:\n",
    "\t\treturn 247\n",
    "\tif Value == 2:\n",
    "\t\treturn 251\n",
    "\tif Value == 1:\n",
    "\t\treturn 253\n",
    "\tif Value == 0:\n",
    "\t\treturn 255\n",
    "\telse:\n",
    "\t\treturn 255\n",
    "\t\t\n",
    "def Reclass2(Value):\n",
    "\tif Value == 6:\n",
    "\t\treturn 0\n",
    "\tif Value == 5:\n",
    "\t\treturn 1\n",
    "\tif Value == 4:\n",
    "\t\treturn 35\n",
    "\tif Value == 3:\n",
    "\t\treturn 104\n",
    "\tif Value == 2:\n",
    "\t\treturn 172\n",
    "\tif Value == 1:\n",
    "\t\treturn 215\n",
    "\tif Value == 0:\n",
    "\t\treturn 255\n",
    "\telse:\n",
    "\t\treturn 255\n",
    "\t\t\n",
    "def Reclass3(Value):\n",
    "\tif Value == 6:\n",
    "\t\treturn 106\n",
    "\tif Value == 5:\n",
    "\t\treturn 121\n",
    "\tif Value == 4:\n",
    "\t\treturn 143\n",
    "\tif Value == 3:\n",
    "\t\treturn 161\n",
    "\tif Value == 2:\n",
    "\t\treturn 185\n",
    "\tif Value == 1:\n",
    "\t\treturn 211\n",
    "\tif Value == 0:\n",
    "\t\treturn 255\n",
    "\telse:\n",
    "\t\treturn 255\n",
    "\"\"\""
   ]
  },
  {
   "cell_type": "code",
   "execution_count": 138,
   "metadata": {},
   "outputs": [
    {
     "data": {
      "text/html": [
       "<div class='gpresult'><h2>Messages</h2><div id='messages' data-messages='[\"Start Time: Friday, September 15, 2023 8:59:03 PM\",\"Succeeded at Friday, September 15, 2023 8:59:03 PM (Elapsed Time: 0.08 seconds)\"]' data-show='true'><div id = 'default' /></div></div>"
      ],
      "text/plain": [
       "<Result 'D:\\\\SE_Blueprint_2023\\\\5_Indicators_Tier2_UnClipped\\\\WestCoastalPlainAndOuachitasOpen\\\\WestCoastalPlainAndOuachitasOpenPineBirds.tif'>"
      ]
     },
     "execution_count": 138,
     "metadata": {},
     "output_type": "execute_result"
    }
   ],
   "source": [
    "# calculate Red field\n",
    "arcpy.management.CalculateField(Out, \"Red\", \"Reclass1(!Value!)\", \"PYTHON3\", codeblock, \"SHORT\")\n",
    "# calculate Green field\n",
    "arcpy.management.CalculateField(Out, \"Green\", \"Reclass2(!Value!)\", \"PYTHON3\", codeblock, \"SHORT\")\n",
    "# calculate Blue field\n",
    "arcpy.management.CalculateField(Out, \"Blue\", \"Reclass3(!Value!)\", \"PYTHON3\", codeblock, \"SHORT\")"
   ]
  },
  {
   "cell_type": "code",
   "execution_count": 139,
   "metadata": {},
   "outputs": [
    {
     "name": "stdout",
     "output_type": "stream",
     "text": [
      "584.5379040241241\n"
     ]
    }
   ],
   "source": [
    "# this prints the time it took this notebook to run in seconds\n",
    "end = time.time()\n",
    "print(end - start)"
   ]
  },
  {
   "cell_type": "code",
   "execution_count": null,
   "metadata": {},
   "outputs": [],
   "source": []
  }
 ],
 "metadata": {
  "kernelspec": {
   "display_name": "ArcGISPro",
   "language": "Python",
   "name": "python3"
  },
  "language_info": {
   "file_extension": ".py",
   "name": "python",
   "version": "3"
  }
 },
 "nbformat": 4,
 "nbformat_minor": 2
}
