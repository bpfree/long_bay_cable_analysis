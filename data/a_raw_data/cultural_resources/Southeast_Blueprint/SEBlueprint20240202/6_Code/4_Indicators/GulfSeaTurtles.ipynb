{
 "cells": [
  {
   "cell_type": "markdown",
   "metadata": {},
   "source": [
    "# Gulf Sea Turtles\n",
    "\n",
    "This indicator was used in the Southeast Blueprint 2023.\n",
    "Code written by Rua Mordecai and Amy Keister"
   ]
  },
  {
   "cell_type": "code",
   "execution_count": 61,
   "metadata": {},
   "outputs": [],
   "source": [
    "import os\n",
    "import arcpy"
   ]
  },
  {
   "cell_type": "code",
   "execution_count": 62,
   "metadata": {},
   "outputs": [],
   "source": [
    "# define spatial reference and workspaces\n",
    "sr= arcpy.SpatialReference(5070)\n",
    "#SourceWorkspace= \n",
    "OutWorkspace = r\"D:\\Blueprint\\2023\\finalIndicatorEdits\\ContinentalSoutheastBlueprint2023_FinalIndicators\\ContinentalSoutheastBlueprint2023_FinalIndicators\\SpatialData\""
   ]
  },
  {
   "cell_type": "code",
   "execution_count": 63,
   "metadata": {},
   "outputs": [],
   "source": [
    "# define final output name\n",
    "IndicatorFileName = \"GulfSeaTurtles.tif\""
   ]
  },
  {
   "cell_type": "code",
   "execution_count": 64,
   "metadata": {},
   "outputs": [],
   "source": [
    "# define raster used for cell size, extent, and snapping\n",
    "MarineRaster = r\"D:\\Blueprint\\2023\\extent\\Marine_Extent_v1.tif\"\n",
    "MarineSubregion = r\"D:\\Blueprint\\2023\\extent\\Marine_GoM_v1.tif\"\n",
    "MarineSubregionVector = r\"D:\\Blueprint\\2023\\extent\\Marine_GoM_v1.shp\""
   ]
  },
  {
   "cell_type": "code",
   "execution_count": 65,
   "metadata": {},
   "outputs": [],
   "source": [
    "# define inputs\n",
    "turtle = r\"D:\\Blueprint\\2023\\Indicators\\GulfSeaTurtles\\zonation\\rankmap.tif\"\n",
    "nlcd = r\"D:\\Landcover\\nlcd_2019_land_cover_l48_20210604\\nlcd_2019_land_cover_l48_20210604.img\""
   ]
  },
  {
   "cell_type": "code",
   "execution_count": 66,
   "metadata": {},
   "outputs": [],
   "source": [
    "# location of species data\n",
    "loggerhead = r\"D:\\Blueprint\\2023\\Indicators\\GulfSeaTurtles\\SpeciesData\\Loggerhead_SeaTurtle_Monthly_Density_wUnids_Unclipped.shp\"\n",
    "leatherback = r\"D:\\Blueprint\\2023\\Indicators\\GulfSeaTurtles\\SpeciesData\\Leatherback_SeaTurtle_Monthly_Density_Unclipped.shp\"\n",
    "green = r\"D:\\Blueprint\\2023\\Indicators\\GulfSeaTurtles\\SpeciesData\\Green_SeaTurtle_Monthly_Density_wUnids_Unclipped.shp\"\n",
    "kemps = r\"D:\\Blueprint\\2023\\Indicators\\GulfSeaTurtles\\SpeciesData\\KempsRidley_SeaTurtle_Monthly_Density_wUnids_Unclipped.shp\""
   ]
  },
  {
   "cell_type": "code",
   "execution_count": 67,
   "metadata": {},
   "outputs": [],
   "source": [
    "# Sometimes arcpro is fussy about not overwriting things\n",
    "arcpy.env.overwriteOutput = True"
   ]
  },
  {
   "cell_type": "markdown",
   "metadata": {},
   "source": [
    "### Start analysis"
   ]
  },
  {
   "cell_type": "code",
   "execution_count": 68,
   "metadata": {},
   "outputs": [],
   "source": [
    "# Set the output workspace\n",
    "arcpy.env.workspace = OutWorkspace"
   ]
  },
  {
   "cell_type": "markdown",
   "metadata": {},
   "source": [
    "### Prep data for Zonation"
   ]
  },
  {
   "cell_type": "code",
   "execution_count": 10,
   "metadata": {},
   "outputs": [],
   "source": [
    "# Shapefile fields for monthly data\n",
    "months = [\"Jan_n\",\"Feb_n\",\"Mar_n\",\"Apr_n\",\"May_n\",\"Jun_n\",\"Jul_n\",\"Aug_n\",\"Sep_n\",\"Oct_n\",\"Nov_n\",\"Dec_n\"]"
   ]
  },
  {
   "cell_type": "code",
   "execution_count": 11,
   "metadata": {},
   "outputs": [],
   "source": [
    "# This code could be made much shorter by writing a few functions for the repetitive things\n",
    "# that happen for each species. They took so long to run (~6hrs per species) that I didn't recode\n",
    "# and rerun yet just for the sake of reducing code length."
   ]
  },
  {
   "cell_type": "markdown",
   "metadata": {
    "heading_collapsed": true
   },
   "source": [
    "### Format loggerhead data"
   ]
  },
  {
   "cell_type": "code",
   "execution_count": 12,
   "metadata": {
    "hidden": true
   },
   "outputs": [
    {
     "data": {
      "text/html": [
       "<div class='gpresult'><h2>Messages</h2><div id='messages' data-messages='[\"Start Time: Wednesday, April 26, 2023 8:25:03 AM\",\"Succeeded at Wednesday, April 26, 2023 8:25:12 AM (Elapsed Time: 9.19 seconds)\"]' data-show='true'><div id = 'default' /></div></div>"
      ],
      "text/plain": [
       "<Result 'D:\\\\Blueprint\\\\2023\\\\Indicators\\\\GulfSeaTurtles\\\\working\\\\loggerhead.shp'>"
      ]
     },
     "execution_count": 12,
     "metadata": {},
     "output_type": "execute_result"
    }
   ],
   "source": [
    "arcpy.CopyFeatures_management(loggerhead, \"loggerhead.shp\")"
   ]
  },
  {
   "cell_type": "code",
   "execution_count": 11,
   "metadata": {
    "hidden": true
   },
   "outputs": [],
   "source": [
    "# Clip vector data to Blueprint extent\n",
    "#arcpy.Clip_analysis(\"loggerhead.shp\", MarineSubregionVector,\"loggerheadClip.shp\")"
   ]
  },
  {
   "cell_type": "code",
   "execution_count": 13,
   "metadata": {
    "hidden": true
   },
   "outputs": [],
   "source": [
    "# Replace null value -9999 with 0 based on ESRI script \n",
    "path = \"loggerhead.shp\"\n",
    "fieldObs = arcpy.ListFields(path)  \n",
    "fieldNames = []  \n",
    "for field in fieldObs:  \n",
    "    fieldNames.append(field.name)  \n",
    "del fieldObs  \n",
    "fieldCount = len(fieldNames)  \n",
    "\n",
    "with arcpy.da.UpdateCursor(path, fieldNames) as curU:  \n",
    "    for row in curU:  \n",
    "        rowU = row  \n",
    "        for field in range(fieldCount):  \n",
    "            if rowU[field] == -9999:  \n",
    "                rowU[field] = 0           \n",
    "        curU.updateRow(rowU)\n",
    "del curU"
   ]
  },
  {
   "cell_type": "code",
   "execution_count": 14,
   "metadata": {
    "hidden": true
   },
   "outputs": [],
   "source": [
    "# Convert monthly species info to rasters\n",
    "for mon in months:\n",
    "    outRasterName=\"loggerhead_\"+mon+\".tif\"\n",
    "    arcpy.conversion.FeatureToRaster(in_features=\"loggerhead.shp\", field=mon, out_raster=outRasterName, cell_size=MarineSubregion)"
   ]
  },
  {
   "cell_type": "markdown",
   "metadata": {
    "heading_collapsed": true
   },
   "source": [
    "### Format Leatherback data"
   ]
  },
  {
   "cell_type": "code",
   "execution_count": 15,
   "metadata": {
    "hidden": true
   },
   "outputs": [
    {
     "data": {
      "text/html": [
       "<div class='gpresult'><h2>Messages</h2><div id='messages' data-messages='[\"Start Time: Wednesday, April 26, 2023 9:00:26 AM\",\"Succeeded at Wednesday, April 26, 2023 9:00:36 AM (Elapsed Time: 9.99 seconds)\"]' data-show='true'><div id = 'default' /></div></div>"
      ],
      "text/plain": [
       "<Result 'D:\\\\Blueprint\\\\2023\\\\Indicators\\\\GulfSeaTurtles\\\\working\\\\leatherback.shp'>"
      ]
     },
     "execution_count": 15,
     "metadata": {},
     "output_type": "execute_result"
    }
   ],
   "source": [
    "arcpy.CopyFeatures_management(leatherback, \"leatherback.shp\")"
   ]
  },
  {
   "cell_type": "code",
   "execution_count": 15,
   "metadata": {
    "hidden": true
   },
   "outputs": [],
   "source": [
    "# Clip vector data to Blueprint extent\n",
    "#arcpy.Clip_analysis(\"leatherback.shp\", MarineSubregionVector,\"leatherbackClip.shp\")"
   ]
  },
  {
   "cell_type": "code",
   "execution_count": 16,
   "metadata": {
    "hidden": true
   },
   "outputs": [],
   "source": [
    "# Replace null value -9999 with 0 based on ESRI script \n",
    "path = \"leatherback.shp\"\n",
    "fieldObs = arcpy.ListFields(path)  \n",
    "fieldNames = []  \n",
    "for field in fieldObs:  \n",
    "    fieldNames.append(field.name)  \n",
    "del fieldObs  \n",
    "fieldCount = len(fieldNames)  \n",
    "\n",
    "with arcpy.da.UpdateCursor(path, fieldNames) as curU:  \n",
    "    for row in curU:  \n",
    "        rowU = row  \n",
    "        for field in range(fieldCount):  \n",
    "            if rowU[field] == -9999:  \n",
    "                rowU[field] = 0           \n",
    "        curU.updateRow(rowU)\n",
    "del curU"
   ]
  },
  {
   "cell_type": "code",
   "execution_count": 17,
   "metadata": {
    "hidden": true
   },
   "outputs": [],
   "source": [
    "# Convert monthly species info to rasters\n",
    "for mon in months:\n",
    "    outRasterName=\"leatherback_\"+mon+\".tif\"    \n",
    "    arcpy.conversion.FeatureToRaster(in_features=\"leatherback.shp\", field=mon, out_raster=outRasterName, cell_size=MarineSubregion)"
   ]
  },
  {
   "cell_type": "markdown",
   "metadata": {
    "heading_collapsed": true
   },
   "source": [
    "### Format Green data"
   ]
  },
  {
   "cell_type": "code",
   "execution_count": 18,
   "metadata": {
    "hidden": true
   },
   "outputs": [
    {
     "data": {
      "text/html": [
       "<div class='gpresult'><h2>Messages</h2><div id='messages' data-messages='[\"Start Time: Wednesday, April 26, 2023 9:37:50 AM\",\"Succeeded at Wednesday, April 26, 2023 9:37:58 AM (Elapsed Time: 7.79 seconds)\"]' data-show='true'><div id = 'default' /></div></div>"
      ],
      "text/plain": [
       "<Result 'D:\\\\Blueprint\\\\2023\\\\Indicators\\\\GulfSeaTurtles\\\\working\\\\green.shp'>"
      ]
     },
     "execution_count": 18,
     "metadata": {},
     "output_type": "execute_result"
    }
   ],
   "source": [
    "arcpy.CopyFeatures_management(green, \"green.shp\")"
   ]
  },
  {
   "cell_type": "code",
   "execution_count": 19,
   "metadata": {
    "hidden": true
   },
   "outputs": [],
   "source": [
    "# Clip vector data to Blueprint extent\n",
    "#arcpy.Clip_analysis(\"green.shp\", MarineSubregionVector,\"greenClip.shp\")"
   ]
  },
  {
   "cell_type": "code",
   "execution_count": 20,
   "metadata": {
    "hidden": true
   },
   "outputs": [],
   "source": [
    "# Replace null value -9999 with 0 based on ESRI script \n",
    "path = \"green.shp\"\n",
    "fieldObs = arcpy.ListFields(path)  \n",
    "fieldNames = []  \n",
    "for field in fieldObs:  \n",
    "    fieldNames.append(field.name)  \n",
    "del fieldObs  \n",
    "fieldCount = len(fieldNames)  \n",
    "\n",
    "with arcpy.da.UpdateCursor(path, fieldNames) as curU:  \n",
    "    for row in curU:  \n",
    "        rowU = row  \n",
    "        for field in range(fieldCount):  \n",
    "            if rowU[field] == -9999:  \n",
    "                rowU[field] = 0           \n",
    "        curU.updateRow(rowU)\n",
    "del curU"
   ]
  },
  {
   "cell_type": "code",
   "execution_count": 21,
   "metadata": {
    "hidden": true
   },
   "outputs": [],
   "source": [
    "# Convert monthly species info to rasters\n",
    "for mon in months:\n",
    "    outRasterName=\"green_\"+mon+\".tif\"    \n",
    "    arcpy.conversion.FeatureToRaster(in_features=\"green.shp\", field=mon, out_raster=outRasterName, cell_size=MarineSubregion)"
   ]
  },
  {
   "cell_type": "markdown",
   "metadata": {
    "heading_collapsed": true
   },
   "source": [
    "### Format Kemps data"
   ]
  },
  {
   "cell_type": "code",
   "execution_count": 22,
   "metadata": {
    "hidden": true
   },
   "outputs": [
    {
     "data": {
      "text/html": [
       "<div class='gpresult'><h2>Messages</h2><div id='messages' data-messages='[\"Start Time: Wednesday, April 26, 2023 10:13:22 AM\",\"Succeeded at Wednesday, April 26, 2023 10:13:32 AM (Elapsed Time: 9.98 seconds)\"]' data-show='true'><div id = 'default' /></div></div>"
      ],
      "text/plain": [
       "<Result 'D:\\\\Blueprint\\\\2023\\\\Indicators\\\\GulfSeaTurtles\\\\working\\\\kemps.shp'>"
      ]
     },
     "execution_count": 22,
     "metadata": {},
     "output_type": "execute_result"
    }
   ],
   "source": [
    "arcpy.CopyFeatures_management(kemps, \"kemps.shp\")"
   ]
  },
  {
   "cell_type": "code",
   "execution_count": 23,
   "metadata": {
    "hidden": true
   },
   "outputs": [],
   "source": [
    "# Clip vector data to Blueprint extent\n",
    "#arcpy.Clip_analysis(\"kemps.shp\", MarineSubregionVector,\"kempsClip.shp\")"
   ]
  },
  {
   "cell_type": "code",
   "execution_count": 23,
   "metadata": {
    "hidden": true
   },
   "outputs": [],
   "source": [
    "# Replace null value -9999 with 0 based on ESRI script \n",
    "path = \"kemps.shp\"\n",
    "fieldObs = arcpy.ListFields(path)  \n",
    "fieldNames = []  \n",
    "for field in fieldObs:  \n",
    "    fieldNames.append(field.name)  \n",
    "del fieldObs  \n",
    "fieldCount = len(fieldNames)  \n",
    "\n",
    "with arcpy.da.UpdateCursor(path, fieldNames) as curU:  \n",
    "    for row in curU:  \n",
    "        rowU = row  \n",
    "        for field in range(fieldCount):  \n",
    "            if rowU[field] == -9999:  \n",
    "                rowU[field] = 0           \n",
    "        curU.updateRow(rowU)\n",
    "del curU"
   ]
  },
  {
   "cell_type": "code",
   "execution_count": 24,
   "metadata": {
    "hidden": true
   },
   "outputs": [],
   "source": [
    "# Convert monthly species info to rasters\n",
    "for mon in months:\n",
    "    outRasterName=\"kemps_\"+mon+\".tif\"    \n",
    "    arcpy.conversion.FeatureToRaster(in_features=\"kemps.shp\", field=mon, out_raster=outRasterName, cell_size=MarineSubregion)"
   ]
  },
  {
   "cell_type": "markdown",
   "metadata": {},
   "source": [
    "### Make Zonation mask"
   ]
  },
  {
   "cell_type": "code",
   "execution_count": 29,
   "metadata": {},
   "outputs": [],
   "source": [
    "# Reclass to make mask for analysis area\n",
    "with arcpy.EnvManager(outputCoordinateSystem=\"loggerhead_Jan_n.tif\", extent=\"loggerhead_Jan_n.tif\", snapRaster=\"loggerhead_Jan_n.tif\", cellSize=\"loggerhead_Jan_n.tif\"):\n",
    "    out_raster = arcpy.sa.Reclassify(nlcd, \"Value\", \"0 11 1;12 95 NODATA\"); out_raster.save(\"nlcdWaterMask.tif\")"
   ]
  },
  {
   "cell_type": "code",
   "execution_count": 9,
   "metadata": {},
   "outputs": [
    {
     "data": {
      "text/html": [
       "<div class='gpresult'><h2>Messages</h2><div id='messages' data-messages='[\"Start Time: Wednesday, April 26, 2023 8:09:35 AM\",\"Dissolving...\",\"Succeeded at Wednesday, April 26, 2023 8:09:37 AM (Elapsed Time: 1.39 seconds)\"]' data-show='true'><div id = 'default' /></div></div>"
      ],
      "text/plain": [
       "<Result 'D:\\\\Blueprint\\\\2023\\\\Indicators\\\\GulfSeaTurtles\\\\working\\\\TurtleSampleArea.shp'>"
      ]
     },
     "execution_count": 9,
     "metadata": {},
     "output_type": "execute_result"
    }
   ],
   "source": [
    "# Dissolve sample polygons to get sampled area\n",
    "arcpy.management.Dissolve(loggerhead, \"TurtleSampleArea.shp\")"
   ]
  },
  {
   "cell_type": "code",
   "execution_count": 30,
   "metadata": {},
   "outputs": [],
   "source": [
    "# extract only sampled area that's part of NLCD water mask. This takes out shore pixels and a bunch of the pixels outside\n",
    "# of the US. Match the dimensions of the turtle layers going into Zonation\n",
    "with arcpy.EnvManager(outputCoordinateSystem=\"loggerhead_Jan_n.tif\", extent=\"loggerhead_Jan_n.tif\", snapRaster=\"loggerhead_Jan_n.tif\", cellSize=\"loggerhead_Jan_n.tif\"):\n",
    "    out_raster = arcpy.sa.ExtractByMask(\"nlcdWaterMask.tif\", \"TurtleSampleArea.shp\"); out_raster.save(\"turtleZonationMask.tif\")"
   ]
  },
  {
   "cell_type": "code",
   "execution_count": 31,
   "metadata": {},
   "outputs": [],
   "source": [
    "# not sure why the last step doesn't result in the right dimensions. This step, without using environmental settings works.\n",
    "out_raster = arcpy.sa.ExtractByMask(\"turtleZonationMask.tif\", \"loggerhead_Jan_n.tif\"); out_raster.save(\"turtleZonationMask2.tif\")"
   ]
  },
  {
   "cell_type": "code",
   "execution_count": 9,
   "metadata": {},
   "outputs": [],
   "source": [
    "# Convert sampled area to a raster. This is used later to mark small areas of land in the \n",
    "# sampling extent as 0\n",
    "with arcpy.EnvManager(outputCoordinateSystem=sr, extent=MarineRaster, snapRaster=MarineRaster, cellSize=MarineRaster):\n",
    "    arcpy.conversion.FeatureToRaster(in_features=\"TurtleSampleArea.shp\", field=\"Id\", out_raster=\"zero.tif\", cell_size=MarineRaster)"
   ]
  },
  {
   "cell_type": "code",
   "execution_count": 10,
   "metadata": {},
   "outputs": [],
   "source": [
    "\n",
    "# Reclass to make mask for analysis area\n",
    "with arcpy.EnvManager(outputCoordinateSystem=\"loggerhead_Jan_n.tif\", extent=\"loggerhead_Jan_n.tif\", snapRaster=\"loggerhead_Jan_n.tif\", cellSize=\"loggerhead_Jan_n.tif\"):\n",
    "    out_raster = arcpy.sa.Reclassify(nlcd, \"Value\", \"0 11 NODATA;12 95 0\"); out_raster.save(\"nlcdLandMask.tif\")\n"
   ]
  },
  {
   "cell_type": "code",
   "execution_count": 11,
   "metadata": {},
   "outputs": [],
   "source": [
    "# make raster of zeros to include land removed but also match southern extent of nlcd mask used in Zonation\n",
    "out_raster = arcpy.sa.Times(\"nlcdLandMask.tif\", \"zero.tif\"); out_raster.save(\"zeros.tif\")"
   ]
  },
  {
   "cell_type": "markdown",
   "metadata": {},
   "source": [
    "### Bring in zonation results"
   ]
  },
  {
   "cell_type": "code",
   "execution_count": 13,
   "metadata": {},
   "outputs": [],
   "source": [
    "# take zonation results times 100\n",
    "out_raster = arcpy.sa.Times(turtle, 100); out_raster.save(\"turtle.tif\")"
   ]
  },
  {
   "cell_type": "code",
   "execution_count": 14,
   "metadata": {},
   "outputs": [],
   "source": [
    "# convert to integer\n",
    "out_raster = arcpy.sa.Int(\"turtle.tif\"); out_raster.save(\"indicator1.tif\")"
   ]
  },
  {
   "cell_type": "code",
   "execution_count": 15,
   "metadata": {},
   "outputs": [],
   "source": [
    "# Reclassify into bins and align with Marine extent\n",
    "with arcpy.EnvManager(outputCoordinateSystem=sr, extent=MarineRaster, snapRaster=MarineRaster, cellSize=MarineRaster):\n",
    "    out_raster = arcpy.sa.Reclassify('indicator1.tif', \"Value\", \"0 60 1;61 70 2;71 80 3;81 90 4;91 100 5\", \"DATA\"); out_raster.save(\"binned.tif\")"
   ]
  },
  {
   "cell_type": "code",
   "execution_count": 16,
   "metadata": {},
   "outputs": [],
   "source": [
    "# add back in areas removed from sampling extent b/c they were on land. These are 0.\n",
    "with arcpy.EnvManager(outputCoordinateSystem=sr, extent=MarineRaster, snapRaster=MarineRaster, cellSize=MarineRaster):\n",
    "    out_raster = arcpy.sa.CellStatistics(\"zeros.tif;binned.tif\", \"MAXIMUM\", \"DATA\", \"SINGLE_BAND\"); out_raster.save(IndicatorFileName)"
   ]
  },
  {
   "cell_type": "markdown",
   "metadata": {},
   "source": [
    "### Finalize indicator\n",
    "\n"
   ]
  },
  {
   "cell_type": "code",
   "execution_count": 69,
   "metadata": {},
   "outputs": [],
   "source": [
    "# set code block for next step\n",
    "codeblock = \"\"\"\n",
    "def Reclass(v):\n",
    "    if v == 5:\n",
    "        return '5 = >90th percentile of importance for sea turtle index species (across larger analysis area)'\n",
    "    elif v == 4:\n",
    "        return '4 = >80th-90th percentile of importance'  \n",
    "    elif v == 3:\n",
    "        return '3 = >70th-80th percentile of importance'  \n",
    "    elif v == 2:\n",
    "        return '2 = >60th-70th percentile of importance'\n",
    "    elif v == 1:\n",
    "        return '1 = ≤60th percentile of importance'\n",
    "    elif v == 0:\n",
    "        return '0 = Land'\n",
    "\"\"\""
   ]
  },
  {
   "cell_type": "code",
   "execution_count": 70,
   "metadata": {},
   "outputs": [
    {
     "data": {
      "text/html": [
       "<div class='gpresult'><h2>Messages</h2><div id='messages' data-messages='[\"Start Time: Tuesday, September 12, 2023 1:49:05 PM\",\"Succeeded at Tuesday, September 12, 2023 1:49:05 PM (Elapsed Time: 0.22 seconds)\"]' data-show='true'><div id = 'default' /></div></div>"
      ],
      "text/plain": [
       "<Result 'D:\\\\Blueprint\\\\2023\\\\finalIndicatorEdits\\\\ContinentalSoutheastBlueprint2023_FinalIndicators\\\\ContinentalSoutheastBlueprint2023_FinalIndicators\\\\SpatialData\\\\GulfSeaTurtles.tif'>"
      ]
     },
     "execution_count": 70,
     "metadata": {},
     "output_type": "execute_result"
    }
   ],
   "source": [
    "# add and calculate description field to hold indicator values\n",
    "arcpy.management.CalculateField(IndicatorFileName, \"descript\", \"Reclass(!value!)\", \"PYTHON3\", codeblock, \"TEXT\")"
   ]
  },
  {
   "cell_type": "code",
   "execution_count": 71,
   "metadata": {},
   "outputs": [],
   "source": [
    "# set code block for next step\n",
    "codeblock = \"\"\"\n",
    "def Reclass1(Value):\n",
    "\tif Value == 5:\n",
    "\t\treturn 57\n",
    "\tif Value == 4:\n",
    "\t\treturn 113\n",
    "\tif Value == 3:\n",
    "\t\treturn 158\n",
    "\tif Value == 2:\n",
    "\t\treturn 207\n",
    "\tif Value == 1:\n",
    "\t\treturn 235\n",
    "\telse:\n",
    "\t\treturn 255\n",
    "\t\t\n",
    "def Reclass2(Value):\n",
    "\tif Value == 5:\n",
    "\t\treturn 0\n",
    "\tif Value == 4:\n",
    "\t\treturn 77\n",
    "\tif Value == 3:\n",
    "\t\treturn 107\n",
    "\tif Value == 2:\n",
    "\t\treturn 146\n",
    "\tif Value == 1:\n",
    "\t\treturn 182\n",
    "\telse:\n",
    "\t\treturn 255\n",
    "\t\t\n",
    "def Reclass3(Value):\n",
    "\tif Value == 5:\n",
    "\t\treturn 179\n",
    "\tif Value == 4:\n",
    "\t\treturn 191\n",
    "\tif Value == 3:\n",
    "\t\treturn 144\n",
    "\tif Value == 2:\n",
    "\t\treturn 112\n",
    "\tif Value == 1:\n",
    "\t\treturn 152\n",
    "\telse:\n",
    "\t\treturn 255\n",
    "\"\"\""
   ]
  },
  {
   "cell_type": "code",
   "execution_count": 72,
   "metadata": {},
   "outputs": [
    {
     "data": {
      "text/html": [
       "<div class='gpresult'><h2>Messages</h2><div id='messages' data-messages='[\"Start Time: Tuesday, September 12, 2023 1:49:08 PM\",\"Succeeded at Tuesday, September 12, 2023 1:49:08 PM (Elapsed Time: 0.20 seconds)\"]' data-show='true'><div id = 'default' /></div></div>"
      ],
      "text/plain": [
       "<Result 'D:\\\\Blueprint\\\\2023\\\\finalIndicatorEdits\\\\ContinentalSoutheastBlueprint2023_FinalIndicators\\\\ContinentalSoutheastBlueprint2023_FinalIndicators\\\\SpatialData\\\\GulfSeaTurtles.tif'>"
      ]
     },
     "execution_count": 72,
     "metadata": {},
     "output_type": "execute_result"
    }
   ],
   "source": [
    "# calculate Red field\n",
    "arcpy.management.CalculateField(IndicatorFileName, \"Red\", \"Reclass1(!Value!)\", \"PYTHON3\", codeblock, \"SHORT\")\n",
    "# calculate Green field\n",
    "arcpy.management.CalculateField(IndicatorFileName, \"Green\", \"Reclass2(!Value!)\", \"PYTHON3\", codeblock, \"SHORT\")\n",
    "# calculate Blue field\n",
    "arcpy.management.CalculateField(IndicatorFileName, \"Blue\", \"Reclass3(!Value!)\", \"PYTHON3\", codeblock, \"SHORT\")"
   ]
  },
  {
   "cell_type": "code",
   "execution_count": null,
   "metadata": {},
   "outputs": [],
   "source": []
  },
  {
   "cell_type": "code",
   "execution_count": null,
   "metadata": {},
   "outputs": [],
   "source": []
  }
 ],
 "metadata": {
  "kernelspec": {
   "display_name": "ArcGISPro",
   "language": "Python",
   "name": "python3"
  },
  "language_info": {
   "file_extension": ".py",
   "name": "python",
   "version": "3"
  }
 },
 "nbformat": 4,
 "nbformat_minor": 2
}
