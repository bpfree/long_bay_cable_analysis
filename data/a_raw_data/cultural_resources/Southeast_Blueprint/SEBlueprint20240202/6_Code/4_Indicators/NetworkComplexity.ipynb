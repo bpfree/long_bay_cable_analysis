{
 "cells": [
  {
   "cell_type": "markdown",
   "metadata": {},
   "source": [
    "# Network Complexity\n",
    "\n",
    "This is an indicator for the 2023 base blueprint re-run.\n",
    "\n",
    "Created by Amy Keister, last run by Amy Keister on 23 June 2023. It took about 4 hours to run"
   ]
  },
  {
   "cell_type": "code",
   "execution_count": 1,
   "metadata": {},
   "outputs": [],
   "source": [
    "import os\n",
    "import arcpy"
   ]
  },
  {
   "cell_type": "code",
   "execution_count": 2,
   "metadata": {},
   "outputs": [],
   "source": [
    "import time\n",
    "start = time.time()"
   ]
  },
  {
   "cell_type": "code",
   "execution_count": 3,
   "metadata": {},
   "outputs": [],
   "source": [
    "# define spatial reference and workspaces\n",
    "sr= arcpy.SpatialReference(5070)\n",
    "#SourceWorkspace= \n",
    "OutWorkspace = r\"D:\\SE_Blueprint_2023\\5_Indicators_Tier2_UnClipped\\NetworkComplexity\\Networ.gdb\""
   ]
  },
  {
   "cell_type": "code",
   "execution_count": 4,
   "metadata": {},
   "outputs": [],
   "source": [
    "# define final indicator outputs\n",
    "Out = r\"D:\\SE_Blueprint_2023\\5_Indicators_Tier2_UnClipped\\NetworkComplexity\\NetworkComplexity.tif\""
   ]
  },
  {
   "cell_type": "code",
   "execution_count": 5,
   "metadata": {},
   "outputs": [],
   "source": [
    "# define rasters used for cell size, extent, and snapping\n",
    "Rextent= r\"F:\\GIS_DATA\\SECAS\\SE_Blueprint_2022\\Southeast_Blueprint_2022_Data_Download\\SEBlueprint20221215\\Inputs\\BaseBlueprint\\1_ExtentLayers\\BaseBlueprintExtent2022.tif\""
   ]
  },
  {
   "cell_type": "code",
   "execution_count": 6,
   "metadata": {},
   "outputs": [],
   "source": [
    "# define inputs\n",
    "# functional network lines from Brendan by region\n",
    "FNL02= r\"F:\\GIS_DATA\\WaterResources\\SARP2023\\SARP_dams_networks_3_13_2023\\region02_dams_networks.gdb\\region02_dams_networks\"\n",
    "FNL03= r\"F:\\GIS_DATA\\WaterResources\\SARP2023\\SARP_dams_networks_3_13_2023\\region03_dams_networks.gdb\\region03_dams_networks\"\n",
    "FNL05= r\"F:\\GIS_DATA\\WaterResources\\SARP2023\\SARP_dams_networks_3_13_2023\\region05_dams_networks.gdb\\region05_dams_networks\"\n",
    "FNL06= r\"F:\\GIS_DATA\\WaterResources\\SARP2023\\SARP_dams_networks_3_13_2023\\region06_dams_networks.gdb\\region06_dams_networks\"\n",
    "FNL07= r\"F:\\GIS_DATA\\WaterResources\\SARP2023\\SARP_dams_networks_3_13_2023\\region07_dams_networks.gdb\\region07_dams_networks\"\n",
    "FNL08= r\"F:\\GIS_DATA\\WaterResources\\SARP2023\\SARP_dams_networks_3_13_2023\\region08_dams_networks.gdb\\region08_dams_networks\"\n",
    "FNL10= r\"F:\\GIS_DATA\\WaterResources\\SARP2023\\SARP_dams_networks_3_13_2023\\region10_dams_networks.gdb\\region10_dams_networks\"\n",
    "FNL11= r\"F:\\GIS_DATA\\WaterResources\\SARP2023\\SARP_dams_networks_3_13_2023\\region11_dams_networks.gdb\\region11_dams_networks\"\n",
    "FNL12= r\"F:\\GIS_DATA\\WaterResources\\SARP2023\\SARP_dams_networks_3_13_2023\\region12_dams_networks.gdb\\region12_dams_networks\"\n",
    "FNL13= r\"F:\\GIS_DATA\\WaterResources\\SARP2023\\SARP_dams_networks_3_13_2023\\region13_dams_networks.gdb\\region13_dams_networks\"\n",
    "FNL21= r\"F:\\GIS_DATA\\WaterResources\\SARP2023\\SARP_dams_networks_3_13_2023\\region21_dams_networks.gdb\\region21_dams_networks\"\n",
    "# epa floodplain\n",
    "FP= r\"F:\\GIS_DATA\\WaterResources\\Estimated_floodplain_CONUS\\Estimated_floodplain_CONUS.tif\"\n",
    "# I'm going to test my code on the national download of HR catchments, but I think I need to download indivdually from the secret server\n",
    "catch= r\"F:\\GIS_DATA\\WaterResources\\NHD\\NHDPlus_H_National_Release_1_GDB\\NHDPlus_H_National_Release_1_GDB.gdb\\NHDPlusCatchment\"\n",
    "# these are the medium resolution catchments that don't have the nearshore problems in NC\n",
    "Mcatch= r\"F:\\GIS_DATA\\WaterResources\\NHD\\NHDPlusV21\\NHDPlusV21_Catchment.gdb\\CatchmentSECAS\""
   ]
  },
  {
   "cell_type": "code",
   "execution_count": 7,
   "metadata": {},
   "outputs": [],
   "source": [
    "# define inputs\n",
    "# FEMA floodplain\n",
    "#FP = r\"F:\\GIS_DATA\\WaterResources\\Estimated_floodplain_CONUS\\Estimated_floodplain_CONUS.tif\"\n",
    "# SARP funtional network lines\n",
    "#FNL= r\"F:\\GIS_DATA\\WaterResources\\NHD\\VIPR_FromBrendan\\region21_dams_networks_1_24_2023\\region21_dams_networks.gdb\\region21_dams_networks\"\n",
    "# SARP functional network line segments\n",
    "#FNLS= r\"F:\\GIS_DATA\\WaterResources\\NHD\\VIPR_FromBrendan\\region21_dams_networks_1_24_2023\\region21_dams_segments.gdb\\region21_dams_segments\"\n",
    "# NHDPLusHR catchments from national download\n",
    "#catch= r\"F:\\GIS_DATA\\WaterResources\\NHD\\NHDPlus_H_National_Release_1_GDB\\NHDPlus_H_National_Release_1_GDB.gdb\\NHDPlusCatchment\"\n",
    "# NHDPlusHR flowlines from national download\n",
    "#flow= r\"F:\\GIS_DATA\\WaterResources\\NHD\\NHDPlus_H_National_Release_1_GDB\\NHDPlus_H_National_Release_1_GDB.gdb\\NetworkNHDFlowline\"\n",
    "\n",
    "\n",
    "# NHDPlus Medium Resolution Catchments\n",
    "#catch = r\"F:\\GIS_DATA\\WaterResources\\NHD\\NHDPlusV21\\NHDPlusV21_Catchment.gdb\\Catchment\"\n",
    "# can't use high resolution for this purpose because the NC coast is messed up\n",
    "#catch= r\"F:\\GIS_DATA\\WaterResources\\NHD\\NHDPlus_H_National_Release_1_GDB\\NHDPlus_H_National_Release_1_GDB.gdb\\NHDPlusCatchment\""
   ]
  },
  {
   "cell_type": "markdown",
   "metadata": {},
   "source": [
    "### Start Analysis"
   ]
  },
  {
   "cell_type": "code",
   "execution_count": 8,
   "metadata": {},
   "outputs": [],
   "source": [
    "# Set the workspace where I want the output to go\n",
    "arcpy.env.workspace = OutWorkspace"
   ]
  },
  {
   "cell_type": "code",
   "execution_count": 9,
   "metadata": {},
   "outputs": [
    {
     "name": "stdout",
     "output_type": "stream",
     "text": [
      "D:\\SE_Blueprint_2023\\5_Indicators_Tier2_UnClipped\\NetworkComplexity\\Networ.gdb\n"
     ]
    }
   ],
   "source": [
    "print(arcpy.env.workspace)"
   ]
  },
  {
   "cell_type": "markdown",
   "metadata": {},
   "source": [
    "### Bring in SARP high res data"
   ]
  },
  {
   "cell_type": "code",
   "execution_count": 11,
   "metadata": {},
   "outputs": [],
   "source": [
    "# merge functional network lines (dams networds) together\n",
    "with arcpy.EnvManager(outputCoordinateSystem=sr, extent=Rextent):\n",
    "    arcpy.management.Merge([FNL02,FNL03,FNL05,FNL06,FNL07,FNL08,FNL10,FNL11,FNL12,FNL13,FNL21], \"FNL\")\n",
    "    #arcpy.management.Merge([FNL02,FNL05], \"FNLtest\")\n",
    "    #arcpy.management.Merge(\"region02_dams_networks;region03_dams_networks\", r\"D:\\ArcProProjects\\BlankWLinks2\\Default.gdb\\region02_dams_networks_Merge\", 'sizeclasses \"sizeclasses\" true true false 2 Short 0 0,First,#,region02_dams_networks,sizeclasses,-1,-1,region03_dams_networks,sizeclasses,-1,-1', \"NO_SOURCE_INFO\")"
   ]
  },
  {
   "cell_type": "code",
   "execution_count": 12,
   "metadata": {},
   "outputs": [],
   "source": [
    "# convert Brendan's high res linework to raster, using the \"sizes\" field, which represents network complexity\n",
    "# before I calaculated this at the original NHDPlus raster cell size, but I don't think that matters too much\n",
    "with arcpy.EnvManager(outputCoordinateSystem=sr, extent=Rextent, snapRaster=Rextent, mask=Rextent):\n",
    "    arcpy.conversion.FeatureToRaster(in_features=\"FNL\", field=\"sizeclasses\", out_raster=\"FNLsizeclss\", cell_size=Rextent)"
   ]
  },
  {
   "cell_type": "code",
   "execution_count": 13,
   "metadata": {},
   "outputs": [],
   "source": [
    "# the steps above should have clipped the data down to the extent, but it didn't so I'm going to do that now\n",
    "with arcpy.EnvManager(snapRaster=Rextent, extent=Rextent, cellSize=Rextent):\n",
    "    out_raster = arcpy.sa.Times(Rextent, \"FNLsizeclss\"); out_raster.save(\"FNLsizeclss2\")"
   ]
  },
  {
   "cell_type": "code",
   "execution_count": 14,
   "metadata": {},
   "outputs": [],
   "source": [
    "# use zonal statistics to assign \"sizes\" value from Brendan's linework to the national NHDPlus HR catchments\n",
    "# we need to do this to turn the linework into an area. The network complexity is calculated by Brendan\n",
    "# using line network analysis, for the blueprint, we need to assign those lines back to an area, we start by\n",
    "# assigning them back to the catchment that intersects with the lines.\n",
    "with arcpy.EnvManager(outputCoordinateSystem=sr, extent=Rextent, snapRaster=Rextent, cellSize=Rextent):\n",
    "    out_raster = arcpy.sa.ZonalStatistics(catch, \"OBJECTID\", \"FNLsizeclss2\", \"MAJORITY\", \"DATA\", \"CURRENT_SLICE\", 90); out_raster.save(\"ZBcatSizesMaj\")"
   ]
  },
  {
   "cell_type": "markdown",
   "metadata": {},
   "source": [
    "### Prep data to make a zero class\n",
    "zeros will be areas where there are NHD data, and NoData will be areas where there is not NHD data"
   ]
  },
  {
   "cell_type": "code",
   "execution_count": 15,
   "metadata": {},
   "outputs": [],
   "source": [
    "# make a copy of catchment layer for edits\n",
    "with arcpy.EnvManager(snapRaster=Rextent, extent=Rextent, cellSize=Rextent):\n",
    "    arcpy.management.CopyFeatures(catch, \"catch\", '', None, None, None)"
   ]
  },
  {
   "cell_type": "code",
   "execution_count": 16,
   "metadata": {},
   "outputs": [
    {
     "data": {
      "text/html": [
       "<div class='gpresult'><h2>Messages</h2><div id='messages' data-messages='[\"Start Time: Saturday, June 24, 2023 2:52:25 PM\",\"Adding raster to catch...\",\"Succeeded at Saturday, June 24, 2023 2:58:37 PM (Elapsed Time: 6 minutes 12 seconds)\"]' data-show='true'><div id = 'default' /></div></div>"
      ],
      "text/plain": [
       "<Result 'D:\\\\SE_Blueprint_2023\\\\5_Indicators_Tier2_UnClipped\\\\NetworkComplexity\\\\Networ.gdb\\\\catch'>"
      ]
     },
     "execution_count": 16,
     "metadata": {},
     "output_type": "execute_result"
    }
   ],
   "source": [
    "# add field to the catchment layer to prepare to convert to raster\n",
    "arcpy.management.CalculateField(\"catch\", \"raster\", \"1\", \"PYTHON3\", '', \"TEXT\", \"NO_ENFORCE_DOMAINS\")"
   ]
  },
  {
   "cell_type": "code",
   "execution_count": 17,
   "metadata": {},
   "outputs": [],
   "source": [
    "# convert to raster\n",
    "with arcpy.EnvManager(outputCoordinateSystem=sr, extent=Rextent, snapRaster=Rextent, cellSize=Rextent):\n",
    "    arcpy.conversion.FeatureToRaster(\"catch\", \"raster\", \"catch1\", 30)"
   ]
  },
  {
   "cell_type": "markdown",
   "metadata": {},
   "source": [
    "### Clip the zonal statistics layer to floodplain and buffered flow lines to make a preliminary network complexity layer"
   ]
  },
  {
   "cell_type": "code",
   "execution_count": 18,
   "metadata": {},
   "outputs": [],
   "source": [
    "# use conditional statement to limit results to the floodplain layer\n",
    "# the result is the prelimiary network complexity layer\n",
    "# this layer has \"holes\" in it where Brendan has had to remove the \"loops\" of braided streams\n",
    "# so he can do the network analysis\n",
    "with arcpy.EnvManager(outputCoordinateSystem=sr, extent=Rextent, snapRaster=Rextent, cellSize=Rextent):\n",
    "    out_raster = arcpy.sa.Con(FP, \"ZBcatSizesMaj\", \"\", where_clause=\"Value = 1\"); out_raster.save(\"prelimNC\")"
   ]
  },
  {
   "cell_type": "markdown",
   "metadata": {},
   "source": [
    "### Deal with missing catchments inside floodplain\n",
    "\n",
    "because Brendan has to remove loops in the network some catchments inside the floodplain do not intersect with the linework that Brendan has calculated network complexity on. These should be at least a value of 1, because they are in the floodplain. Some should have values higher than that. Normally these are small catchments in braided stream networks in large floodplains. They may be separated from the floodplain by a natural levee, but during flood stage, they should be connected to the flood plain around them."
   ]
  },
  {
   "cell_type": "code",
   "execution_count": 19,
   "metadata": {},
   "outputs": [],
   "source": [
    "# give all areas that didn't intersect with Brendan's data a crazy value we can keep track of\n",
    "out_raster = arcpy.sa.Reclassify(\"prelimNC\", \"Value\", \"NODATA 20\", \"DATA\"); out_raster.save(\"prelimNC20\")"
   ]
  },
  {
   "cell_type": "code",
   "execution_count": 20,
   "metadata": {},
   "outputs": [],
   "source": [
    "# take catchment layer times floodplain layer to help find missing catchments that don't intersect \n",
    "# Brendan's linework. We don't want to map a floodplain anywhere there \n",
    "# isn't also NHD catchments\n",
    "out_raster= arcpy.sa.Times(\"catch1\", FP); out_raster.save(\"FPcatch\")"
   ]
  },
  {
   "cell_type": "code",
   "execution_count": 21,
   "metadata": {},
   "outputs": [],
   "source": [
    "# clip back down to floodplain/NHD catchment area\n",
    "# areas with the crazy value in this raster are catchments that should be at least a value of 1\n",
    "out_raster= arcpy.sa.Times(\"prelimNC20\", \"FPcatch\"); out_raster.save(\"prelimNC20clip\")"
   ]
  },
  {
   "cell_type": "code",
   "execution_count": 22,
   "metadata": {},
   "outputs": [],
   "source": [
    "# pull those areas that are in the floodplain, that have NHD catchment data, and that do not intersect \n",
    "# brendan linework (crazy value) as a unique raster\n",
    "out_raster = arcpy.sa.Con(\"prelimNC20clip\", \"1\", \"\", where_clause=\"Value = 20\"); out_raster.save(\"missing\")"
   ]
  },
  {
   "cell_type": "code",
   "execution_count": 23,
   "metadata": {},
   "outputs": [],
   "source": [
    "# expand by one pixel\n",
    "out_raster = arcpy.sa.Expand(\"missing\", 1, [1], \"\"); out_raster.save(\"missingExpnd1\")"
   ]
  },
  {
   "cell_type": "code",
   "execution_count": 24,
   "metadata": {},
   "outputs": [],
   "source": [
    "# use a region group to identify individual missing areas\n",
    "out_raster = arcpy.sa.RegionGroup(\"missingExpnd1\", \"FOUR\", \"WITHIN\", \"ADD_LINK\", None); out_raster.save(\"missingExpnd1rg\")"
   ]
  },
  {
   "cell_type": "code",
   "execution_count": 25,
   "metadata": {},
   "outputs": [],
   "source": [
    "# calculate maximum value in the preliminary network complexity that intsersect expanded missing areas\n",
    "# useing zonal statistics\n",
    "out_raster = arcpy.sa.ZonalStatistics(\"missingExpnd1rg\", \"Value\", \"prelimNC\", \"MAXIMUM\", \"DATA\", \"CURRENT_SLICE\", 90); out_raster.save(\"MissingZstatPncMax\")"
   ]
  },
  {
   "cell_type": "code",
   "execution_count": 26,
   "metadata": {},
   "outputs": [],
   "source": [
    "# use a conditional statement to assign maximum nearby values to the missing areas in the preliminary network complexity\n",
    "out_raster = arcpy.sa.Con(\"prelimNC20clip\", \"MissingZstatPncMax\", \"prelimNC20clip\", where_clause=\"Value = 20\"); out_raster.save(\"prelimNCfill\")"
   ]
  },
  {
   "cell_type": "code",
   "execution_count": 27,
   "metadata": {},
   "outputs": [],
   "source": [
    "# reclassify to make NoData zero\n",
    "out_raster = arcpy.sa.Reclassify(\"prelimNCfill\", \"Value\", \"NODATA 0;1 1;2 2;3 3;4 4\", \"DATA\"); out_raster.save(\"prelimNCfill0\")"
   ]
  },
  {
   "cell_type": "code",
   "execution_count": 28,
   "metadata": {},
   "outputs": [],
   "source": [
    "# clip back down to NHD catchment area\n",
    "out_raster= arcpy.sa.Times(\"prelimNCfill0\", \"catch1\"); out_raster.save(\"ind\")"
   ]
  },
  {
   "cell_type": "markdown",
   "metadata": {},
   "source": [
    "### Explore fixing incorrect 1 values inside major floodplains\n",
    "\n",
    "Similar issue to the missing catchments, we also have catchments with artificially low values inside major floodplains.\n",
    "They may be separated from the floodplain by a natural levee, but during flood stage, they should be connected to the flood plain around them.\n",
    "Fixing them is trickier, as we may accidentally \"fix\" something that actually wasn't an error."
   ]
  },
  {
   "cell_type": "markdown",
   "metadata": {},
   "source": [
    "### Clip down to extent of medium resolution catchments \n",
    "The high res catchments have issues in the coast"
   ]
  },
  {
   "cell_type": "code",
   "execution_count": 29,
   "metadata": {},
   "outputs": [],
   "source": [
    "# make a copy of catchment layer for edits\n",
    "with arcpy.EnvManager(snapRaster=Rextent, extent=Rextent, cellSize=Rextent):\n",
    "    arcpy.management.CopyFeatures(Mcatch, \"Mcatch\", '', None, None, None)"
   ]
  },
  {
   "cell_type": "code",
   "execution_count": 30,
   "metadata": {},
   "outputs": [
    {
     "data": {
      "text/html": [
       "<div class='gpresult'><h2>Messages</h2><div id='messages' data-messages='[\"Start Time: Saturday, June 24, 2023 4:25:26 PM\",\"Adding raster to Mcatch...\",\"Succeeded at Saturday, June 24, 2023 4:25:45 PM (Elapsed Time: 18.57 seconds)\"]' data-show='true'><div id = 'default' /></div></div>"
      ],
      "text/plain": [
       "<Result 'D:\\\\SE_Blueprint_2023\\\\5_Indicators_Tier2_UnClipped\\\\NetworkComplexity\\\\Networ.gdb\\\\Mcatch'>"
      ]
     },
     "execution_count": 30,
     "metadata": {},
     "output_type": "execute_result"
    }
   ],
   "source": [
    "# add field to the catchment layer to prepare to convert to raster\n",
    "arcpy.management.CalculateField(\"Mcatch\", \"raster\", \"1\", \"PYTHON3\", '', \"TEXT\", \"NO_ENFORCE_DOMAINS\")"
   ]
  },
  {
   "cell_type": "code",
   "execution_count": 31,
   "metadata": {},
   "outputs": [],
   "source": [
    "# convert to raster\n",
    "with arcpy.EnvManager(outputCoordinateSystem=sr, extent=Rextent, snapRaster=Rextent, cellSize=Rextent):\n",
    "    arcpy.conversion.FeatureToRaster(\"Mcatch\", \"raster\", \"Mcatch1\", 30)"
   ]
  },
  {
   "cell_type": "code",
   "execution_count": 32,
   "metadata": {},
   "outputs": [],
   "source": [
    "# clip down to Medium resolution NHD catchment area\n",
    "out_raster= arcpy.sa.Times(\"ind\", \"Mcatch1\"); out_raster.save(\"indicator\")"
   ]
  },
  {
   "cell_type": "markdown",
   "metadata": {},
   "source": [
    "### Finalize indiator\n",
    "\n",
    "do final steps for all indicators to add description fields, clip and export to SE extent, clip and export to SA extent"
   ]
  },
  {
   "cell_type": "code",
   "execution_count": 35,
   "metadata": {},
   "outputs": [],
   "source": [
    "# clip to extent\n",
    "with arcpy.EnvManager(outputCoordinateSystem=sr, extent=Rextent, snapRaster=Rextent, cellSize=Rextent):\n",
    "    out_raster = arcpy.sa.ExtractByMask(\"indicator\", Rextent); out_raster.save(\"Mask\")"
   ]
  },
  {
   "cell_type": "code",
   "execution_count": 36,
   "metadata": {},
   "outputs": [],
   "source": [
    "# export as .tif \n",
    "with arcpy.EnvManager(outputCoordinateSystem=sr, extent=Rextent, snapRaster=Rextent, cellSize=Rextent):\n",
    "    arcpy.management.CopyRaster(\"Mask\", Out, '', None, \"15\", \"NONE\", \"NONE\", \"4_BIT\", \"NONE\", \"NONE\", \"TIFF\", \"NONE\", \"CURRENT_SLICE\", \"NO_TRANSPOSE\")"
   ]
  },
  {
   "cell_type": "code",
   "execution_count": 33,
   "metadata": {},
   "outputs": [
    {
     "data": {
      "text/html": [
       "<div class='gpresult'><h2>Messages</h2><div id='messages' data-messages='[\"Start Time: Saturday, June 24, 2023 4:33:24 PM\",\"Adding descript to VAT_indicator...\",\"Succeeded at Saturday, June 24, 2023 4:33:24 PM (Elapsed Time: 0.07 seconds)\"]' data-show='true'><div id = 'default' /></div></div>"
      ],
      "text/plain": [
       "<Result 'D:\\\\SE_Blueprint_2023\\\\5_Indicators_Tier2_UnClipped\\\\NetworkComplexity\\\\Networ.gdb\\\\indicator'>"
      ]
     },
     "execution_count": 33,
     "metadata": {},
     "output_type": "execute_result"
    }
   ],
   "source": [
    "# set code block for next step\n",
    "codeblock = \"\"\"\n",
    "def Reclass(value):\n",
    "    if value == 7:\n",
    "        return '7 = 7 connected stream classes'\n",
    "    elif value == 6:\n",
    "        return '6 = 6 connected stream classes'\n",
    "    elif value == 5:\n",
    "        return '5 = 5 connected stream classes'\n",
    "    elif value == 4:\n",
    "        return '4 = 4 connected stream classes'\n",
    "    elif value == 3:\n",
    "        return '3 = 3 connected stream classes'\n",
    "    elif value == 2:\n",
    "        return '2 = 2 connected stream classes'\n",
    "    elif value == 1:\n",
    "        return '1 = 1 connected stream class'\n",
    "    elif value == 0:\n",
    "        return '0 = Not identified as a floodplain'\n",
    "\"\"\"\n",
    "# add and calculate description field to hold indicator values\n",
    "arcpy.management.CalculateField(Out, \"descript\", \"Reclass(!value!)\", \"PYTHON3\", codeblock, \"TEXT\")"
   ]
  },
  {
   "cell_type": "code",
   "execution_count": 13,
   "metadata": {},
   "outputs": [
    {
     "data": {
      "text/html": [
       "<div class='gpresult'><h2>Messages</h2><div id='messages' data-messages='[\"Start Time: Friday, September 15, 2023 4:51:09 PM\",\"Succeeded at Friday, September 15, 2023 4:51:09 PM (Elapsed Time: 0.15 seconds)\"]' data-show='true'><div id = 'default' /></div></div>"
      ],
      "text/plain": [
       "<Result 'D:\\\\SE_Blueprint_2023\\\\5_Indicators_Tier2_UnClipped\\\\NetworkComplexity\\\\NetworkComplexity.tif'>"
      ]
     },
     "execution_count": 13,
     "metadata": {},
     "output_type": "execute_result"
    }
   ],
   "source": [
    "# set code block for next step\n",
    "codeblock = \"\"\"\n",
    "def Reclass1(Value):\n",
    "\tif Value == 7:\n",
    "\t\treturn 1\n",
    "\tif Value == 6:\n",
    "\t\treturn 1\n",
    "\tif Value == 5:\n",
    "\t\treturn 7\n",
    "\tif Value == 4:\n",
    "\t\treturn 60\n",
    "\tif Value == 3:\n",
    "\t\treturn 114\n",
    "\tif Value == 2:\n",
    "\t\treturn 175\n",
    "\tif Value == 1:\n",
    "\t\treturn 215\n",
    "\telse:\n",
    "\t\treturn 255\n",
    "\t\t\n",
    "def Reclass2(Value):\n",
    "\tif Value == 7:\n",
    "\t\treturn 70\n",
    "\tif Value == 6:\n",
    "\t\treturn 109\n",
    "\tif Value == 5:\n",
    "\t\treturn 130\n",
    "\tif Value == 4:\n",
    "\t\treturn 147\n",
    "\tif Value == 3:\n",
    "\t\treturn 172\n",
    "\tif Value == 2:\n",
    "\t\treturn 193\n",
    "\tif Value == 1:\n",
    "\t\treturn 213\n",
    "\telse:\n",
    "\t\treturn 255\n",
    "\t\t\n",
    "def Reclass3(Value):\n",
    "\tif Value == 7:\n",
    "\t\treturn 54\n",
    "\tif Value == 6:\n",
    "\t\treturn 91\n",
    "\tif Value == 5:\n",
    "\t\treturn 143\n",
    "\tif Value == 4:\n",
    "\t\treturn 194\n",
    "\tif Value == 3:\n",
    "\t\treturn 209\n",
    "\tif Value == 2:\n",
    "\t\treturn 221\n",
    "\tif Value == 1:\n",
    "\t\treturn 233\n",
    "\telse:\n",
    "\t\treturn 255\n",
    "\"\"\"\n",
    "# calculate Red field\n",
    "arcpy.management.CalculateField(Out, \"Red\", \"Reclass1(!Value!)\", \"PYTHON3\", codeblock, \"SHORT\")\n",
    "# calculate Green field\n",
    "arcpy.management.CalculateField(Out, \"Green\", \"Reclass2(!Value!)\", \"PYTHON3\", codeblock, \"SHORT\")\n",
    "# calculate Blue field\n",
    "arcpy.management.CalculateField(Out, \"Blue\", \"Reclass3(!Value!)\", \"PYTHON3\", codeblock, \"SHORT\")"
   ]
  },
  {
   "cell_type": "code",
   "execution_count": null,
   "metadata": {},
   "outputs": [],
   "source": []
  },
  {
   "cell_type": "code",
   "execution_count": 37,
   "metadata": {},
   "outputs": [
    {
     "name": "stdout",
     "output_type": "stream",
     "text": [
      "13600.865392684937\n"
     ]
    }
   ],
   "source": [
    "# this prints the time it took this notebook to run in seconds\n",
    "end = time.time()\n",
    "print(end - start)"
   ]
  },
  {
   "cell_type": "code",
   "execution_count": null,
   "metadata": {},
   "outputs": [],
   "source": []
  }
 ],
 "metadata": {
  "kernelspec": {
   "display_name": "ArcGISPro",
   "language": "Python",
   "name": "python3"
  },
  "language_info": {
   "file_extension": ".py",
   "name": "python",
   "version": "3"
  }
 },
 "nbformat": 4,
 "nbformat_minor": 2
}
