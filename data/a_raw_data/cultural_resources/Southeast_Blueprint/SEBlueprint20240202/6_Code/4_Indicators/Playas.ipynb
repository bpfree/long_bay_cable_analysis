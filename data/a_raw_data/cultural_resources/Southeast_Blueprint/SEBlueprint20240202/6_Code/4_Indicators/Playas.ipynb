{
 "cells": [
  {
   "cell_type": "markdown",
   "metadata": {},
   "source": [
    "# Playas\n",
    "\n",
    "This indicator was used in 2023 Base Blueprint.\n",
    "\n",
    "A minor change was made in 2023 to better align with how we use zero and nodata values in other indicators\n",
    "\n",
    "Created by Rua Mordecai, last run by Amy Keister on 9/15/2023"
   ]
  },
  {
   "cell_type": "code",
   "execution_count": 114,
   "metadata": {},
   "outputs": [],
   "source": [
    "import os\n",
    "import arcpy"
   ]
  },
  {
   "cell_type": "code",
   "execution_count": 115,
   "metadata": {},
   "outputs": [],
   "source": [
    "# define spatial reference and workspaces\n",
    "sr= arcpy.SpatialReference(5070)\n",
    "OutputWorkspace = r\"D:\\SE_Blueprint_2023\\5_Indicators_Tier2_UnClipped\\Playas\\working\""
   ]
  },
  {
   "cell_type": "code",
   "execution_count": 116,
   "metadata": {},
   "outputs": [],
   "source": [
    "# define raster used for cell size, extent, and snapping\n",
    "SERaster= r\"F:\\GIS_DATA\\SECAS\\SE_Blueprint_2022\\Southeast_Blueprint_2022_Data_Download\\SEBlueprint20221215\\Inputs\\BaseBlueprint\\1_ExtentLayers\\BaseBlueprintExtent2022.tif\""
   ]
  },
  {
   "cell_type": "code",
   "execution_count": 117,
   "metadata": {},
   "outputs": [],
   "source": [
    "# define original playa\n",
    "playaData= r\"D:\\SE_Blueprint_2023\\5_Indicators_Tier2_UnClipped\\Playas\\probable_playas_v5_shapefiles\\playas_v5_public.shp\"\n",
    "JV= r\"D:\\SE_Blueprint_2023\\5_Indicators_Tier2_UnClipped\\Playas\\North_American_Joint_Ventures_Albers\\North_American_Joint_Ventures_Albers.shp\""
   ]
  },
  {
   "cell_type": "code",
   "execution_count": 118,
   "metadata": {},
   "outputs": [],
   "source": [
    "indicatorName = \"Playas.tif\""
   ]
  },
  {
   "cell_type": "markdown",
   "metadata": {},
   "source": [
    "## Start analysis"
   ]
  },
  {
   "cell_type": "code",
   "execution_count": 119,
   "metadata": {},
   "outputs": [],
   "source": [
    "# Change the workspace to where I am saving the outputs\n",
    "arcpy.env.workspace = OutputWorkspace"
   ]
  },
  {
   "cell_type": "code",
   "execution_count": 7,
   "metadata": {},
   "outputs": [],
   "source": [
    "# convert to playa health data to raster\n",
    "with arcpy.EnvManager(outputCoordinateSystem=sr, snapRaster=SERaster):\n",
    "    arcpy.conversion.FeatureToRaster(in_features=playaData, field=\"healthy\", out_raster=\"Healthy_playa.tif\", cell_size=SERaster)"
   ]
  },
  {
   "cell_type": "code",
   "execution_count": 8,
   "metadata": {},
   "outputs": [],
   "source": [
    "# convert to playa cluster data to raster\n",
    "with arcpy.EnvManager(outputCoordinateSystem=sr, snapRaster=SERaster):\n",
    "    arcpy.conversion.FeatureToRaster(in_features=playaData, field=\"cluster\", out_raster=\"Cluster_playa.tif\", cell_size=SERaster)"
   ]
  },
  {
   "cell_type": "code",
   "execution_count": 9,
   "metadata": {},
   "outputs": [],
   "source": [
    "# Create raster of just healthy clusters\n",
    "out_raster = arcpy.sa.Times(\"Healthy_playa.tif\", \"Cluster_playa.tif\"); out_raster.save(\"HealthyCluster_playa.tif\")"
   ]
  },
  {
   "cell_type": "code",
   "execution_count": 10,
   "metadata": {},
   "outputs": [],
   "source": [
    "# Combine rasters for indicator categories\n",
    "out_raster = arcpy.sa.Plus(\"HealthyCluster_playa.tif\", \"Healthy_playa.tif\"); out_raster.save(\"indicatorCategories.tif\")"
   ]
  },
  {
   "cell_type": "code",
   "execution_count": 11,
   "metadata": {},
   "outputs": [],
   "source": [
    "# Add 1 so lowest playa category is 1\n",
    "out_raster = arcpy.sa.Plus(\"indicatorCategories.tif\", 1); out_raster.save(\"noZero.tif\")"
   ]
  },
  {
   "cell_type": "markdown",
   "metadata": {},
   "source": [
    "## Make zero values"
   ]
  },
  {
   "cell_type": "code",
   "execution_count": 12,
   "metadata": {},
   "outputs": [],
   "source": [
    "# reclassify\n",
    "with arcpy.EnvManager(outputCoordinateSystem=sr, extent=SERaster, snapRaster=SERaster, cellSize=SERaster):\n",
    "    out_raster = arcpy.sa.Reclassify(\"noZero.tif\", \"Value\", \"NODATA 0;1 1;2 2;3 3\", \"DATA\"); out_raster.save(\"zero.tif\")"
   ]
  },
  {
   "cell_type": "code",
   "execution_count": 13,
   "metadata": {},
   "outputs": [],
   "source": [
    "# make a shapefile of Playa Lakes JV boundary\n",
    "with arcpy.EnvManager(outputCoordinateSystem=sr):\n",
    "    # make a shapefile of only the Playa Lakes JV from JV boundaries\n",
    "    arcpy.analysis.Select(JV, \"PLJV.shp\", \"JV = 'Playa Lakes'\")\n",
    "    # add and calculate field for raster conversion\n",
    "    arcpy.management.CalculateField(\"PLJV.shp\", \"raster\", \"1\", \"PYTHON3\", '', \"TEXT\", \"NO_ENFORCE_DOMAINS\")"
   ]
  },
  {
   "cell_type": "code",
   "execution_count": 14,
   "metadata": {},
   "outputs": [],
   "source": [
    "# convert Playa Lakes JV boundary to raster\n",
    "with arcpy.EnvManager(outputCoordinateSystem=sr, snapRaster=SERaster):\n",
    "    arcpy.conversion.FeatureToRaster(\"PLJV.shp\", \"raster\", \"PLJVr.tif\", SERaster)"
   ]
  },
  {
   "cell_type": "code",
   "execution_count": 15,
   "metadata": {},
   "outputs": [],
   "source": [
    "# use Playa Lakes JV to help show extent of indicator\n",
    "with arcpy.EnvManager(outputCoordinateSystem=sr, snapRaster=SERaster):\n",
    "    # use times to remove data outside PLJV\n",
    "    out_raster = arcpy.sa.Times(\"zero.tif\", \"PLJVr.tif\"); out_raster.save(indicatorName)"
   ]
  },
  {
   "cell_type": "code",
   "execution_count": 16,
   "metadata": {},
   "outputs": [],
   "source": [
    "# clip to Blueprint extent\n",
    "with arcpy.EnvManager(outputCoordinateSystem=sr, extent=SERaster, snapRaster=SERaster, cellSize=SERaster):\n",
    "    out_raster = arcpy.sa.ExtractByMask(indicatorName, SERaster); out_raster.save(indicatorName)"
   ]
  },
  {
   "cell_type": "markdown",
   "metadata": {},
   "source": [
    "## Finalize indicator"
   ]
  },
  {
   "cell_type": "code",
   "execution_count": 17,
   "metadata": {},
   "outputs": [],
   "source": [
    "# set code block for next step\n",
    "codeblock = \"\"\"\n",
    "def Reclass(value):\n",
    "    if value == 3:\n",
    "        return '3 = Healthy playa and part of a larger cluster'\n",
    "    elif value == 2:\n",
    "        return '2 = Healthy playa'\n",
    "    elif value == 1:\n",
    "        return '1 = Other playa'\n",
    "    elif value == 0:\n",
    "        return '0 = Not identified as a playa'   \n",
    "\"\"\""
   ]
  },
  {
   "cell_type": "code",
   "execution_count": 18,
   "metadata": {},
   "outputs": [
    {
     "data": {
      "text/html": [
       "<div class='gpresult'><h2>Messages</h2><div id='messages' data-messages='[\"Start Time: Saturday, June 24, 2023 5:00:08 PM\",\"Adding descript to Playas.tif.vat...\",\"Succeeded at Saturday, June 24, 2023 5:00:08 PM (Elapsed Time: 0.01 seconds)\"]' data-show='true'><div id = 'default' /></div></div>"
      ],
      "text/plain": [
       "<Result 'D:\\\\SE_Blueprint_2023\\\\5_Indicators_Tier2_UnClipped\\\\Playas\\\\working\\\\Playas.tif'>"
      ]
     },
     "execution_count": 18,
     "metadata": {},
     "output_type": "execute_result"
    }
   ],
   "source": [
    "# add and calculate description field to hold indicator values\n",
    "arcpy.management.CalculateField(indicatorName, \"descript\", \"Reclass(!value!)\", \"PYTHON3\", codeblock, \"TEXT\")"
   ]
  },
  {
   "cell_type": "code",
   "execution_count": 120,
   "metadata": {},
   "outputs": [],
   "source": [
    "# set code block for next step of adding RGB colors\n",
    "codeblock = \"\"\"\n",
    "def Reclass1(Value):\n",
    "\tif Value == 3:\n",
    "\t\treturn 199\n",
    "\telif Value == 2:\n",
    "\t\treturn 230\n",
    "\telif Value == 1:\n",
    "\t\treturn 255\n",
    "\telse:\n",
    "\t\treturn 255\n",
    "\t\t\n",
    "def Reclass2(Value):\n",
    "\tif Value == 3:\n",
    "\t\treturn 0\n",
    "\telif Value == 2:\n",
    "\t\treturn 117\n",
    "\telif Value == 1:\n",
    "\t\treturn 204\n",
    "\telse:\n",
    "\t\treturn 255\n",
    "\t\t\n",
    "def Reclass3(Value):\n",
    "\tif Value == 3:\n",
    "\t\treturn 199\n",
    "\tif Value == 2:\n",
    "\t\treturn 228\n",
    "\telif Value == 1:\n",
    "\t\treturn 255\n",
    "\telse:\n",
    "\t\treturn 255\n",
    "\t\t\n",
    "\"\"\""
   ]
  },
  {
   "cell_type": "code",
   "execution_count": 121,
   "metadata": {},
   "outputs": [
    {
     "data": {
      "text/html": [
       "<div class='gpresult'><h2>Messages</h2><div id='messages' data-messages='[\"Start Time: Friday, September 15, 2023 3:41:58 PM\",\"Succeeded at Friday, September 15, 2023 3:41:58 PM (Elapsed Time: 0.10 seconds)\"]' data-show='true'><div id = 'default' /></div></div>"
      ],
      "text/plain": [
       "<Result 'Playas.tif'>"
      ]
     },
     "execution_count": 121,
     "metadata": {},
     "output_type": "execute_result"
    }
   ],
   "source": [
    "# calculate Red field\n",
    "arcpy.management.CalculateField(indicatorName, \"Red\", \"Reclass1(!Value!)\", \"PYTHON3\", codeblock, \"SHORT\")\n",
    "# calculate Green field\n",
    "arcpy.management.CalculateField(indicatorName, \"Green\", \"Reclass2(!Value!)\", \"PYTHON3\", codeblock, \"SHORT\")\n",
    "# calculate Blue field\n",
    "arcpy.management.CalculateField(indicatorName, \"Blue\", \"Reclass3(!Value!)\", \"PYTHON3\", codeblock, \"SHORT\")"
   ]
  },
  {
   "cell_type": "code",
   "execution_count": null,
   "metadata": {},
   "outputs": [],
   "source": []
  },
  {
   "cell_type": "code",
   "execution_count": null,
   "metadata": {},
   "outputs": [],
   "source": []
  }
 ],
 "metadata": {
  "kernelspec": {
   "display_name": "ArcGISPro",
   "language": "Python",
   "name": "python3"
  },
  "language_info": {
   "file_extension": ".py",
   "name": "python",
   "version": "3"
  }
 },
 "nbformat": 4,
 "nbformat_minor": 2
}
