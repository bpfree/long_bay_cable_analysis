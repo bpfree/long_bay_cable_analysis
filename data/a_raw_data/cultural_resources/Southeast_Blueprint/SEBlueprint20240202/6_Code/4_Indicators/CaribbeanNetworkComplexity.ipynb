{
 "cells": [
  {
   "cell_type": "markdown",
   "metadata": {},
   "source": [
    "# Caribbean Network Complexity\n",
    "\n",
    "This is an indicator for the 2023 Virgin Islands/Puerto Rico blueprint.\n",
    "\n",
    "Created by Amy Keister, last run by Amy Keister 15 February 2023. It took 5 minutes to run."
   ]
  },
  {
   "cell_type": "code",
   "execution_count": 90,
   "metadata": {},
   "outputs": [],
   "source": [
    "import os\n",
    "import arcpy"
   ]
  },
  {
   "cell_type": "code",
   "execution_count": 91,
   "metadata": {},
   "outputs": [],
   "source": [
    "import time\n",
    "start = time.time()"
   ]
  },
  {
   "cell_type": "code",
   "execution_count": 92,
   "metadata": {},
   "outputs": [],
   "source": [
    "# define spatial reference and workspaces\n",
    "sr= arcpy.SpatialReference(5070)\n",
    "#SourceWorkspace= \n",
    "OutWorkspace = r\"D:\\SE_Blueprint_2023\\4_Indicators\\CaribbeanNetworkComplexity\\CarribeanNet.gdb\""
   ]
  },
  {
   "cell_type": "code",
   "execution_count": 93,
   "metadata": {},
   "outputs": [],
   "source": [
    "# define final indicator outputs\n",
    "Out = r\"D:\\SE_Blueprint_2023\\4_Indicators\\CaribbeanNetworkComplexity\\CaribbeanNetworkComplexity.tif\""
   ]
  },
  {
   "cell_type": "code",
   "execution_count": 94,
   "metadata": {},
   "outputs": [],
   "source": [
    "# define rasters used for cell size, extent, and snapping\n",
    "Rextent= r\"D:\\SE_Blueprint_2023\\1_VIPR_Extent\\VIPR_Extent_v6.tif\""
   ]
  },
  {
   "cell_type": "code",
   "execution_count": 95,
   "metadata": {},
   "outputs": [],
   "source": [
    "# define inputs\n",
    "# FEMA floodplain\n",
    "FP = r\"F:\\GIS_DATA\\WaterResources\\VIPR_FEMA_FLOODPLAIN\\PRVI_Floodplain_5070.shp\"\n",
    "# SARP funtional network lines\n",
    "FNL= r\"F:\\GIS_DATA\\WaterResources\\NHD\\VIPR_FromBrendan\\region21_dams_networks_1_24_2023\\region21_dams_networks.gdb\\region21_dams_networks\"\n",
    "# SARP functional network line segments\n",
    "FNLS= r\"F:\\GIS_DATA\\WaterResources\\NHD\\VIPR_FromBrendan\\region21_dams_networks_1_24_2023\\region21_dams_segments.gdb\\region21_dams_segments\"\n",
    "# NHDPLusHR catchments from national download\n",
    "catch= r\"F:\\GIS_DATA\\WaterResources\\NHD\\NHDPlus_H_National_Release_1_GDB\\NHDPlus_H_National_Release_1_GDB.gdb\\NHDPlusCatchment\"\n",
    "# NHDPlusHR flowlines from national download\n",
    "flow= r\"F:\\GIS_DATA\\WaterResources\\NHD\\NHDPlus_H_National_Release_1_GDB\\NHDPlus_H_National_Release_1_GDB.gdb\\NetworkNHDFlowline\"\n",
    "# there is a large missing catchment on the west coast of PR. I made this to fill it in\n",
    "missing= r\"F:\\GIS_DATA\\WaterResources\\NHD\\NHDPlus_H_National_Release_1_GDB\\MissingCatchPR.shp\""
   ]
  },
  {
   "cell_type": "markdown",
   "metadata": {},
   "source": [
    "### Start Analysis"
   ]
  },
  {
   "cell_type": "code",
   "execution_count": 96,
   "metadata": {},
   "outputs": [],
   "source": [
    "# Set the workspace where I want the output to go\n",
    "arcpy.env.workspace = OutWorkspace"
   ]
  },
  {
   "cell_type": "code",
   "execution_count": 97,
   "metadata": {},
   "outputs": [
    {
     "name": "stdout",
     "output_type": "stream",
     "text": [
      "D:\\SE_Blueprint_2023\\4_Indicators\\CaribbeanNetworkComplexity\\CarribeanNet.gdb\n"
     ]
    }
   ],
   "source": [
    "print(arcpy.env.workspace)"
   ]
  },
  {
   "cell_type": "markdown",
   "metadata": {},
   "source": [
    "### Bring in SARP high res data"
   ]
  },
  {
   "cell_type": "code",
   "execution_count": 9,
   "metadata": {},
   "outputs": [
    {
     "data": {
      "text/html": [
       "<div class='gpresult'><h2>Messages</h2><div id='messages' data-messages='[\"Start Time: Thursday, July 13, 2023 7:04:42 PM\",\"Succeeded at Thursday, July 13, 2023 7:04:43 PM (Elapsed Time: 0.36 seconds)\"]' data-show='true'><div id = 'default' /></div></div>"
      ],
      "text/plain": [
       "<Result 'D:\\\\SE_Blueprint_2023\\\\4_Indicators\\\\CaribbeanNetworkComplexity\\\\CarribeanNet.gdb\\\\FNL'>"
      ]
     },
     "execution_count": 9,
     "metadata": {},
     "output_type": "execute_result"
    }
   ],
   "source": [
    "# make a copy of Brendan's data for editing\n",
    "arcpy.management.CopyFeatures(FNL, \"FNL\", '', None, None, None)"
   ]
  },
  {
   "cell_type": "code",
   "execution_count": 10,
   "metadata": {},
   "outputs": [
    {
     "data": {
      "text/html": [
       "<div class='gpresult'><h2>Messages</h2><div id='messages' data-messages='[\"Start Time: Thursday, July 13, 2023 7:04:43 PM\",\"Succeeded at Thursday, July 13, 2023 7:04:43 PM (Elapsed Time: 0.48 seconds)\"]' data-show='true'><div id = 'default' /></div></div>"
      ],
      "text/plain": [
       "<Result 'D:\\\\SE_Blueprint_2023\\\\4_Indicators\\\\CaribbeanNetworkComplexity\\\\CarribeanNet.gdb\\\\FNLrepro'>"
      ]
     },
     "execution_count": 10,
     "metadata": {},
     "output_type": "execute_result"
    }
   ],
   "source": [
    "# reproject Brendan's data\n",
    "\n",
    "# double check with Brendan that this is correct\n",
    "\n",
    "arcpy.management.Project(\"FNL\", \"FNLrepro\", 'PROJCS[\"NAD_1983_Contiguous_USA_Albers\",GEOGCS[\"GCS_North_American_1983\",DATUM[\"D_North_American_1983\",SPHEROID[\"GRS_1980\",6378137.0,298.257222101]],PRIMEM[\"Greenwich\",0.0],UNIT[\"Degree\",0.0174532925199433]],PROJECTION[\"Albers\"],PARAMETER[\"False_Easting\",0.0],PARAMETER[\"False_Northing\",0.0],PARAMETER[\"Central_Meridian\",-96.0],PARAMETER[\"Standard_Parallel_1\",29.5],PARAMETER[\"Standard_Parallel_2\",45.5],PARAMETER[\"Latitude_Of_Origin\",23.0],UNIT[\"Meter\",1.0]]', None, sr)"
   ]
  },
  {
   "cell_type": "code",
   "execution_count": 11,
   "metadata": {},
   "outputs": [],
   "source": [
    "# convert Brendan's high res linework to raster, using the \"sizes\" field, which represents network complexity\n",
    "# before I calaculated this at the original NHDPlus raster cell size, but I don't think that matters too much\n",
    "with arcpy.EnvManager(outputCoordinateSystem=sr, extent=Rextent, snapRaster=Rextent):\n",
    "    arcpy.conversion.FeatureToRaster(in_features=\"FNLrepro\", field=\"sizeclasses\", out_raster=\"FNLsizes\", cell_size=Rextent)"
   ]
  },
  {
   "cell_type": "code",
   "execution_count": 12,
   "metadata": {},
   "outputs": [],
   "source": [
    "# add in missing catchment on west side of Puerto Rico\n",
    "# I had created this catchment to fill in the gap. It is a weird error with sevearl narrow \"catchments\" \n",
    "# circling a donut hole\n",
    "\n",
    "with arcpy.EnvManager(outputCoordinateSystem=sr, extent=Rextent):\n",
    "    arcpy.analysis.Union([catch, missing], \"catch\", \"ALL\", None, \"NO_GAPS\")"
   ]
  },
  {
   "cell_type": "code",
   "execution_count": 13,
   "metadata": {},
   "outputs": [],
   "source": [
    "# use zonal statistics to assign \"sizes\" value from Brendan's linework to the national NHDPlus HR catchments\n",
    "# we need to do this to turn the linework into an area. The network complexity is calculated by Brendan\n",
    "# using line network analysis, for the blueprint, we need to assign those lines back to an area, we start by\n",
    "# assigning them back to the catchment that intersects with the lines.\n",
    "with arcpy.EnvManager(outputCoordinateSystem=sr, extent=Rextent, snapRaster=Rextent, cellSize=Rextent):\n",
    "    out_raster = arcpy.sa.ZonalStatistics(\"catch\", \"OBJECTID\", \"FNLsizes\", \"MAJORITY\", \"DATA\", \"CURRENT_SLICE\", 90); out_raster.save(\"ZBcatSizesMaj\")"
   ]
  },
  {
   "cell_type": "markdown",
   "metadata": {},
   "source": [
    "### Make FEMA floodplain layer"
   ]
  },
  {
   "cell_type": "code",
   "execution_count": 14,
   "metadata": {},
   "outputs": [
    {
     "data": {
      "text/html": [
       "<div class='gpresult'><h2>Messages</h2><div id='messages' data-messages='[\"Start Time: Thursday, July 13, 2023 7:05:34 PM\",\"Succeeded at Thursday, July 13, 2023 7:05:35 PM (Elapsed Time: 0.36 seconds)\"]' data-show='true'><div id = 'default' /></div></div>"
      ],
      "text/plain": [
       "<Result 'D:\\\\SE_Blueprint_2023\\\\4_Indicators\\\\CaribbeanNetworkComplexity\\\\CarribeanNet.gdb\\\\FP'>"
      ]
     },
     "execution_count": 14,
     "metadata": {},
     "output_type": "execute_result"
    }
   ],
   "source": [
    "# make a copy of the flooplain vector\n",
    "arcpy.management.CopyFeatures(FP, \"FP\", '', None, None, None)"
   ]
  },
  {
   "cell_type": "code",
   "execution_count": 15,
   "metadata": {},
   "outputs": [
    {
     "data": {
      "text/html": [
       "<div class='gpresult'><h2>Messages</h2><div id='messages' data-messages='[\"Start Time: Thursday, July 13, 2023 7:05:35 PM\",\"Adding raster to FP...\",\"Succeeded at Thursday, July 13, 2023 7:05:35 PM (Elapsed Time: 0.05 seconds)\"]' data-show='true'><div id = 'default' /></div></div>"
      ],
      "text/plain": [
       "<Result 'D:\\\\SE_Blueprint_2023\\\\4_Indicators\\\\CaribbeanNetworkComplexity\\\\CarribeanNet.gdb\\\\FP'>"
      ]
     },
     "execution_count": 15,
     "metadata": {},
     "output_type": "execute_result"
    }
   ],
   "source": [
    "# add field to floodplain to prepare to convert to raster\n",
    "arcpy.management.CalculateField(\"FP\", \"raster\", \"1\", \"PYTHON3\", '', \"TEXT\", \"NO_ENFORCE_DOMAINS\")"
   ]
  },
  {
   "cell_type": "code",
   "execution_count": 16,
   "metadata": {},
   "outputs": [],
   "source": [
    "# convert floodplain to raster\n",
    "with arcpy.EnvManager(outputCoordinateSystem=sr, extent=Rextent, snapRaster=Rextent, cellSize=Rextent):\n",
    "    arcpy.conversion.PolygonToRaster(\"FP\", \"raster\", \"FPr\", \"CELL_CENTER\", \"NONE\", Rextent, \"BUILD\")"
   ]
  },
  {
   "cell_type": "markdown",
   "metadata": {},
   "source": [
    "### Add in buffered flow lines to improve the floodplain layer"
   ]
  },
  {
   "cell_type": "code",
   "execution_count": 17,
   "metadata": {},
   "outputs": [],
   "source": [
    "# make a copy of the flowlines in the study area\n",
    "with arcpy.EnvManager(outputCoordinateSystem=sr, extent=Rextent):\n",
    "    arcpy.management.CopyFeatures(flow, \"flow\", '', None, None, None)"
   ]
  },
  {
   "cell_type": "code",
   "execution_count": 18,
   "metadata": {},
   "outputs": [
    {
     "data": {
      "text/html": [
       "<div class='gpresult'><h2>Messages</h2><div id='messages' data-messages='[\"Start Time: Thursday, July 13, 2023 7:07:40 PM\",\"Succeeded at Thursday, July 13, 2023 7:07:41 PM (Elapsed Time: 0.48 seconds)\"]' data-show='true'><div id = 'default' /></div></div>"
      ],
      "text/plain": [
       "<Result 'D:\\\\SE_Blueprint_2023\\\\4_Indicators\\\\CaribbeanNetworkComplexity\\\\CarribeanNet.gdb\\\\RS'>"
      ]
     },
     "execution_count": 18,
     "metadata": {},
     "output_type": "execute_result"
    }
   ],
   "source": [
    "# extract the stream/river lines\n",
    "# need to check with Kat to see which lines she uses\n",
    "arcpy.analysis.Select(\"flow\", \"RS\", \"ftype IN (460, 558)\")"
   ]
  },
  {
   "cell_type": "code",
   "execution_count": 19,
   "metadata": {},
   "outputs": [
    {
     "data": {
      "text/html": [
       "<div class='gpresult'><h2>Messages</h2><div id='messages' data-messages='[\"Start Time: Thursday, July 13, 2023 7:07:41 PM\",\"Adding raster to RS...\",\"Succeeded at Thursday, July 13, 2023 7:07:41 PM (Elapsed Time: 0.32 seconds)\"]' data-show='true'><div id = 'default' /></div></div>"
      ],
      "text/plain": [
       "<Result 'D:\\\\SE_Blueprint_2023\\\\4_Indicators\\\\CaribbeanNetworkComplexity\\\\CarribeanNet.gdb\\\\RS'>"
      ]
     },
     "execution_count": 19,
     "metadata": {},
     "output_type": "execute_result"
    }
   ],
   "source": [
    "# add field to prepare to convert to raster\n",
    "arcpy.management.CalculateField(\"RS\", \"raster\", \"1\", \"PYTHON3\", '', \"TEXT\", \"NO_ENFORCE_DOMAINS\")"
   ]
  },
  {
   "cell_type": "code",
   "execution_count": 20,
   "metadata": {},
   "outputs": [],
   "source": [
    "# convert to raster\n",
    "with arcpy.EnvManager(outputCoordinateSystem=sr, extent=Rextent, snapRaster=Rextent, cellSize=Rextent):\n",
    "    arcpy.conversion.FeatureToRaster(\"RS\", \"raster\", \"RSr\", 30)"
   ]
  },
  {
   "cell_type": "code",
   "execution_count": 21,
   "metadata": {},
   "outputs": [],
   "source": [
    "# use and expand to \"buffer\" the streams by 1 cell, this should create total stream width of ~90 meters\n",
    "out_raster = arcpy.sa.Expand(\"RSr\", 1, [1], \"\"); out_raster.save(\"RSrExpand1\")"
   ]
  },
  {
   "cell_type": "markdown",
   "metadata": {},
   "source": [
    "### Combine FEMA floodplains and buffered flow lines to make floodplain layer"
   ]
  },
  {
   "cell_type": "code",
   "execution_count": 22,
   "metadata": {},
   "outputs": [],
   "source": [
    "# mosaic the floodplain and buffered rasters\n",
    "with arcpy.EnvManager(outputCoordinateSystem=sr, extent=Rextent, snapRaster=Rextent, cellSize=Rextent):\n",
    "    arcpy.management.MosaicToNewRaster(\"FPr;RSrExpand1\", OutWorkspace, \"FPflowa\", None, \"8_BIT_UNSIGNED\", None, 1, \"MAXIMUM\", \"FIRST\")"
   ]
  },
  {
   "cell_type": "code",
   "execution_count": 23,
   "metadata": {},
   "outputs": [],
   "source": [
    "# Take times 1 and re calculate extent because the output is wonky\n",
    "with arcpy.EnvManager(outputCoordinateSystem=sr, extent=Rextent, snapRaster=Rextent, cellSize=Rextent):\n",
    "    out_raster= arcpy.sa.Times(\"FPflowa\", 1); out_raster.save(\"FPflow\")"
   ]
  },
  {
   "cell_type": "markdown",
   "metadata": {},
   "source": [
    "### Prep data to make a zero class\n",
    "zeros will be areas where there are NHD data, and NoData will be areas where there is not NHD data"
   ]
  },
  {
   "cell_type": "code",
   "execution_count": 24,
   "metadata": {},
   "outputs": [
    {
     "data": {
      "text/html": [
       "<div class='gpresult'><h2>Messages</h2><div id='messages' data-messages='[\"Start Time: Thursday, July 13, 2023 7:07:56 PM\",\"Adding raster to catch...\",\"Succeeded at Thursday, July 13, 2023 7:07:57 PM (Elapsed Time: 0.35 seconds)\"]' data-show='true'><div id = 'default' /></div></div>"
      ],
      "text/plain": [
       "<Result 'D:\\\\SE_Blueprint_2023\\\\4_Indicators\\\\CaribbeanNetworkComplexity\\\\CarribeanNet.gdb\\\\catch'>"
      ]
     },
     "execution_count": 24,
     "metadata": {},
     "output_type": "execute_result"
    }
   ],
   "source": [
    "# add field to the catchment layer to prepare to convert to raster\n",
    "arcpy.management.CalculateField(\"catch\", \"raster\", \"1\", \"PYTHON3\", '', \"TEXT\", \"NO_ENFORCE_DOMAINS\")"
   ]
  },
  {
   "cell_type": "code",
   "execution_count": 25,
   "metadata": {},
   "outputs": [],
   "source": [
    "# convert to raster\n",
    "with arcpy.EnvManager(outputCoordinateSystem=sr, extent=Rextent, snapRaster=Rextent, cellSize=Rextent):\n",
    "    arcpy.conversion.FeatureToRaster(\"catch\", \"raster\", \"catch1\", 30)"
   ]
  },
  {
   "cell_type": "markdown",
   "metadata": {},
   "source": [
    "### Clip the zonal statistics layer to floodplain and buffered flow lines to make a preliminary network complexity layer"
   ]
  },
  {
   "cell_type": "code",
   "execution_count": 26,
   "metadata": {},
   "outputs": [],
   "source": [
    "# use conditional statement to limit results to the floodplain layer\n",
    "# the result is the prelimiary network complexity layer\n",
    "# this layer has \"holes\" in it where Brendan has had to remove the \"loops\" of braided streams\n",
    "# so he can do the network analysis\n",
    "with arcpy.EnvManager(outputCoordinateSystem=sr, extent=Rextent, snapRaster=Rextent, cellSize=Rextent):\n",
    "    out_raster = arcpy.sa.Con(\"FPflow\", \"ZBcatSizesMaj\", \"\", where_clause=\"Value = 1\"); out_raster.save(\"prelimNC\")"
   ]
  },
  {
   "cell_type": "code",
   "execution_count": null,
   "metadata": {},
   "outputs": [],
   "source": []
  },
  {
   "cell_type": "code",
   "execution_count": null,
   "metadata": {},
   "outputs": [],
   "source": []
  },
  {
   "cell_type": "code",
   "execution_count": null,
   "metadata": {},
   "outputs": [],
   "source": []
  },
  {
   "cell_type": "markdown",
   "metadata": {},
   "source": [
    "### Deal with missing catchments inside floodplain\n",
    "\n",
    "because Brendan has to remove loops in the network some catchments inside the floodplain do not intersect with the linework that Brendan has calculated network complexity on. These should be at least a value of 1, because they are in the floodplain. Some should have values higher than that. Normally these are small catchments in braided stream networks in large floodplains. They may be separated from the floodplain by a natural levee, but during flood stage, they should be connected to the flood plain around them."
   ]
  },
  {
   "cell_type": "code",
   "execution_count": 27,
   "metadata": {},
   "outputs": [],
   "source": [
    "# give all areas that didn't intersect with Brendan's data a crazy value we can keep track of\n",
    "out_raster = arcpy.sa.Reclassify(\"prelimNC\", \"Value\", \"NODATA 20\", \"DATA\"); out_raster.save(\"prelimNC20\")"
   ]
  },
  {
   "cell_type": "code",
   "execution_count": 28,
   "metadata": {},
   "outputs": [],
   "source": [
    "# take catchment layer times floodplain layer to help find missing catchments that don't intersect \n",
    "# Brendan's linework. We don't want to map a floodplain anywhere there \n",
    "# isn't also NHD catchments\n",
    "out_raster= arcpy.sa.Times(\"catch1\", \"FPflow\"); out_raster.save(\"FPflowcatch\")"
   ]
  },
  {
   "cell_type": "code",
   "execution_count": 29,
   "metadata": {},
   "outputs": [],
   "source": [
    "# clip back down to floodplain/NHD catchment area\n",
    "# areas with the crazy value in this raster are catchments that should be at least a value of 1\n",
    "out_raster= arcpy.sa.Times(\"prelimNC20\", \"FPflowcatch\"); out_raster.save(\"prelimNC20clip\")"
   ]
  },
  {
   "cell_type": "code",
   "execution_count": 30,
   "metadata": {},
   "outputs": [],
   "source": [
    "# pull those areas that are in the floodplain, that have NHD catchment data, and that do not intersect \n",
    "# brendan linework (crazy value) as a unique raster\n",
    "out_raster = arcpy.sa.Con(\"prelimNC20clip\", \"1\", \"\", where_clause=\"Value = 20\"); out_raster.save(\"missing\")"
   ]
  },
  {
   "cell_type": "code",
   "execution_count": 31,
   "metadata": {},
   "outputs": [],
   "source": [
    "# expand by one pixel\n",
    "out_raster = arcpy.sa.Expand(\"missing\", 1, [1], \"\"); out_raster.save(\"missingExpnd1\")"
   ]
  },
  {
   "cell_type": "code",
   "execution_count": 32,
   "metadata": {},
   "outputs": [],
   "source": [
    "# use a region group to identify individual missing areas\n",
    "out_raster = arcpy.sa.RegionGroup(\"missingExpnd1\", \"FOUR\", \"WITHIN\", \"ADD_LINK\", None); out_raster.save(\"missingExpnd1rg\")"
   ]
  },
  {
   "cell_type": "code",
   "execution_count": 33,
   "metadata": {},
   "outputs": [],
   "source": [
    "# calculate maximum value in the preliminary network complexity that intsersect expanded missing areas\n",
    "# useing zonal statistics\n",
    "out_raster = arcpy.sa.ZonalStatistics(\"missingExpnd1rg\", \"Value\", \"prelimNC\", \"MAXIMUM\", \"DATA\", \"CURRENT_SLICE\", 90); out_raster.save(\"MissingZstatPncMax\")\n"
   ]
  },
  {
   "cell_type": "code",
   "execution_count": 34,
   "metadata": {},
   "outputs": [],
   "source": [
    "# use a conditional statement to assign maximum nearby values to the missing areas in the preliminary network complexity\n",
    "out_raster = arcpy.sa.Con(\"prelimNC20clip\", \"MissingZstatPncMax\", \"prelimNC20clip\", where_clause=\"Value = 20\"); out_raster.save(\"prelimNCfill\")"
   ]
  },
  {
   "cell_type": "code",
   "execution_count": 35,
   "metadata": {},
   "outputs": [],
   "source": [
    "# reclassify to make NoData zero\n",
    "out_raster = arcpy.sa.Reclassify(\"prelimNCfill\", \"Value\", \"NODATA 0;1 1;2 2;3 3;4 4\", \"DATA\"); out_raster.save(\"prelimNCfill0\")"
   ]
  },
  {
   "cell_type": "code",
   "execution_count": 36,
   "metadata": {},
   "outputs": [],
   "source": [
    "# clip back down to NHD catchment area\n",
    "out_raster= arcpy.sa.Times(\"prelimNCfill0\", \"catch1\"); out_raster.save(\"indicator\")"
   ]
  },
  {
   "cell_type": "markdown",
   "metadata": {},
   "source": [
    "### Finalize indiator\n",
    "\n",
    "do final steps for all indicators to add description fields, clip and export to SE extent, clip and export to SA extent"
   ]
  },
  {
   "cell_type": "code",
   "execution_count": 37,
   "metadata": {},
   "outputs": [
    {
     "data": {
      "text/html": [
       "<div class='gpresult'><h2>Messages</h2><div id='messages' data-messages='[\"Start Time: Thursday, July 13, 2023 7:08:43 PM\",\"Adding descript to VAT_indicator...\",\"Succeeded at Thursday, July 13, 2023 7:08:43 PM (Elapsed Time: 0.06 seconds)\"]' data-show='true'><div id = 'default' /></div></div>"
      ],
      "text/plain": [
       "<Result 'D:\\\\SE_Blueprint_2023\\\\4_Indicators\\\\CaribbeanNetworkComplexity\\\\CarribeanNet.gdb\\\\indicator'>"
      ]
     },
     "execution_count": 37,
     "metadata": {},
     "output_type": "execute_result"
    }
   ],
   "source": [
    "# set code block for next step\n",
    "codeblock = \"\"\"\n",
    "def Reclass(value):\n",
    "    if value == 7:\n",
    "        return '7 = 7 connected stream classes'\n",
    "    elif value == 6:\n",
    "        return '6 = 6 connected stream classes'\n",
    "    elif value == 5:\n",
    "        return '5 = 5 connected stream classes'\n",
    "    elif value == 4:\n",
    "        return '4 = 4 connected stream classes'\n",
    "    elif value == 3:\n",
    "        return '3 = 3 connected stream classes'\n",
    "    elif value == 2:\n",
    "        return '2 = 2 connected stream classes'\n",
    "    elif value == 1:\n",
    "        return '1 = 1 connected stream class'\n",
    "    elif value == 0:\n",
    "        return '0 = Not identified as a floodplain'\n",
    "\"\"\"\n",
    "# add and calculate description field to hold indicator values\n",
    "arcpy.management.CalculateField(\"indicator\", \"descript\", \"Reclass(!value!)\", \"PYTHON3\", codeblock, \"TEXT\")"
   ]
  },
  {
   "cell_type": "code",
   "execution_count": 38,
   "metadata": {},
   "outputs": [],
   "source": [
    "# add and calculate description field to hold indicator values\n",
    "#arcpy.management.CalculateField(\"indicator\", \"descript\", \"Reclass(!value!)\", \"PYTHON3\", codeblock, \"TEXT\")"
   ]
  },
  {
   "cell_type": "code",
   "execution_count": 98,
   "metadata": {},
   "outputs": [
    {
     "data": {
      "text/html": [
       "<div class='gpresult'><h2>Messages</h2><div id='messages' data-messages='[\"Start Time: Friday, September 15, 2023 2:24:11 PM\",\"Succeeded at Friday, September 15, 2023 2:24:11 PM (Elapsed Time: 0.24 seconds)\"]' data-show='true'><div id = 'default' /></div></div>"
      ],
      "text/plain": [
       "<Result 'indicator'>"
      ]
     },
     "execution_count": 98,
     "metadata": {},
     "output_type": "execute_result"
    }
   ],
   "source": [
    "# set code block for next step\n",
    "codeblock = \"\"\"\n",
    "def Reclass1(Value):\n",
    "\tif Value == 5:\n",
    "\t\treturn 0\n",
    "\tif Value == 4:\n",
    "\t\treturn 60\n",
    "\tif Value == 3:\n",
    "\t\treturn 114\n",
    "\tif Value == 2:\n",
    "\t\treturn 175\n",
    "\tif Value == 1:\n",
    "\t\treturn 215\n",
    "\telse:\n",
    "\t\treturn 255\n",
    "\t\t\n",
    "def Reclass2(Value):\n",
    "\tif Value == 5:\n",
    "\t\treturn 0\n",
    "\tif Value == 4:\n",
    "\t\treturn 147\n",
    "\tif Value == 3:\n",
    "\t\treturn 172\n",
    "\tif Value == 2:\n",
    "\t\treturn 193\n",
    "\tif Value == 1:\n",
    "\t\treturn 213\n",
    "\telse:\n",
    "\t\treturn 255\n",
    "\t\t\n",
    "def Reclass3(Value):\n",
    "\tif Value == 5:\n",
    "\t\treturn 0\n",
    "\tif Value == 4:\n",
    "\t\treturn 194\n",
    "\tif Value == 3:\n",
    "\t\treturn 209\n",
    "\tif Value == 2:\n",
    "\t\treturn 221\n",
    "\tif Value == 1:\n",
    "\t\treturn 233\n",
    "\telse:\n",
    "\t\treturn 255\n",
    "\"\"\"\n",
    "# calculate Red field\n",
    "arcpy.management.CalculateField(\"indicator\", \"Red\", \"Reclass1(!Value!)\", \"PYTHON3\", codeblock, \"SHORT\")\n",
    "# calculate Green field\n",
    "arcpy.management.CalculateField(\"indicator\", \"Green\", \"Reclass2(!Value!)\", \"PYTHON3\", codeblock, \"SHORT\")\n",
    "# calculate Blue field\n",
    "arcpy.management.CalculateField(\"indicator\", \"Blue\", \"Reclass3(!Value!)\", \"PYTHON3\", codeblock, \"SHORT\")"
   ]
  },
  {
   "cell_type": "code",
   "execution_count": null,
   "metadata": {},
   "outputs": [],
   "source": []
  },
  {
   "cell_type": "code",
   "execution_count": 99,
   "metadata": {},
   "outputs": [],
   "source": [
    "# clip to extent\n",
    "with arcpy.EnvManager(outputCoordinateSystem=sr, extent=Rextent, snapRaster=Rextent, cellSize=Rextent):\n",
    "    out_raster = arcpy.sa.ExtractByMask(\"indicator\", Rextent); out_raster.save(\"indicator1\")"
   ]
  },
  {
   "cell_type": "code",
   "execution_count": 100,
   "metadata": {},
   "outputs": [],
   "source": [
    "# export as .tif \n",
    "with arcpy.EnvManager(outputCoordinateSystem=sr, extent=Rextent, snapRaster=Rextent, cellSize=Rextent):\n",
    "    arcpy.management.CopyRaster(\"indicator1\", Out, '', None, \"255\", \"NONE\", \"NONE\", \"8_BIT_UNSIGNED\", \"NONE\", \"NONE\", \"TIFF\", \"NONE\", \"CURRENT_SLICE\", \"NO_TRANSPOSE\")"
   ]
  },
  {
   "cell_type": "code",
   "execution_count": 42,
   "metadata": {},
   "outputs": [
    {
     "name": "stdout",
     "output_type": "stream",
     "text": [
      "246.2326853275299\n"
     ]
    }
   ],
   "source": [
    "# this prints the time it took this notebook to run in seconds\n",
    "end = time.time()\n",
    "print(end - start)"
   ]
  },
  {
   "cell_type": "code",
   "execution_count": null,
   "metadata": {},
   "outputs": [],
   "source": []
  }
 ],
 "metadata": {
  "kernelspec": {
   "display_name": "ArcGISPro",
   "language": "Python",
   "name": "python3"
  },
  "language_info": {
   "file_extension": ".py",
   "name": "python",
   "version": "3"
  }
 },
 "nbformat": 4,
 "nbformat_minor": 2
}
