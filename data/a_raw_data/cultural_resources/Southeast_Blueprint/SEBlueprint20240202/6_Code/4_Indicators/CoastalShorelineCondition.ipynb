{
 "cells": [
  {
   "cell_type": "markdown",
   "metadata": {},
   "source": [
    "# Coastal Shoreline Condition\n",
    "\n",
    "This is an indicator for the 2023 base blueprint.\n",
    "\n",
    "Created by Blair Tirpak, modified from Shoreline Condition from Amy Keister, last run by Blair Tirpak on Feb 7 2022.\n",
    "\n",
    "Updated Sep 18 2023 to update colors. "
   ]
  },
  {
   "cell_type": "code",
   "execution_count": 1,
   "metadata": {},
   "outputs": [],
   "source": [
    "import arcpy\n",
    "from arcpy import env\n",
    "from arcpy.sa import *"
   ]
  },
  {
   "cell_type": "code",
   "execution_count": 2,
   "metadata": {},
   "outputs": [],
   "source": [
    "# define spatial reference and workspaces\n",
    "sr= arcpy.SpatialReference(5070)\n",
    "#SourceWorkspace= \n",
    "OutWorkspace = r\"F:\\Blueprint\\2022\\2022Indicators\\Shoreline\\2023\\ShorelineCondition.gdb\""
   ]
  },
  {
   "cell_type": "code",
   "execution_count": 3,
   "metadata": {},
   "outputs": [],
   "source": [
    "# define final indicator outputs\n",
    "SEout = r\"F:\\Blueprint\\2022\\2022Indicators\\Shoreline\\2023\\CoastalShorelineCondition.tif\""
   ]
  },
  {
   "cell_type": "code",
   "execution_count": 14,
   "metadata": {},
   "outputs": [],
   "source": [
    "# define rasters used for cell size, extent, and snapping\n",
    "SEraster= r\"C:\\Data\\Indicators\\BaseBlueprintExtent2022.tif\""
   ]
  },
  {
   "cell_type": "code",
   "execution_count": 14,
   "metadata": {},
   "outputs": [],
   "source": [
    "# define inputs\n",
    "ESI= r\"C:\\Data\\Shoreline\\NationalESI_Shoreline\\GULF_ATLANTIC_ESI.gdb\\GULF_ATLANTIC_ESI\"\n",
    "CBRS= r\"C:\\Data\\Shoreline\\CBRS-Boundaries\\CBRS_Polygons_03122019.shp\""
   ]
  },
  {
   "cell_type": "markdown",
   "metadata": {},
   "source": [
    "### Start Analysis"
   ]
  },
  {
   "cell_type": "code",
   "execution_count": 6,
   "metadata": {},
   "outputs": [],
   "source": [
    "# Set the output workspace \n",
    "arcpy.env.workspace = OutWorkspace"
   ]
  },
  {
   "cell_type": "code",
   "execution_count": 7,
   "metadata": {},
   "outputs": [
    {
     "name": "stdout",
     "output_type": "stream",
     "text": [
      "F:\\Blueprint\\2022\\2022Indicators\\Shoreline\\2023\\ShorelineCondition.gdb\n"
     ]
    }
   ],
   "source": [
    "# Print the current workspace to make sure I'm in the right spot\n",
    "print(arcpy.env.workspace)"
   ]
  },
  {
   "cell_type": "markdown",
   "metadata": {},
   "source": [
    "## Bring in national ESI Shoreline data"
   ]
  },
  {
   "cell_type": "code",
   "execution_count": 9,
   "metadata": {},
   "outputs": [
    {
     "data": {
      "text/html": [
       "<h2>Output</h2>C:\\Data\\Shoreline\\ShorelineCondition.gdb\\ESI<h2>Messages</h2>Start Time: Thursday, February 3, 2022 1:41:39 PM<br/>Succeeded at Thursday, February 3, 2022 1:42:28 PM (Elapsed Time: 48.92 seconds)<br/><style>.rendered_html td, .rendered_html th {text-align: left;}.rendered_html tbody {border: 1px solid black;}</style>"
      ],
      "text/plain": [
       "<Result 'C:\\\\Data\\\\Shoreline\\\\ShorelineCondition.gdb\\\\ESI'>"
      ]
     },
     "execution_count": 9,
     "metadata": {},
     "output_type": "execute_result"
    }
   ],
   "source": [
    "# extract coastal shorelines, remove freshwater lines as well as lacustrine and riverine systems \n",
    "arcpy.FeatureClassToFeatureClass_conversion(ESI, OutWorkspace, \"ESI\", \"LINE <> 'H' And ENVIR = 'E'\")"
   ]
  },
  {
   "cell_type": "markdown",
   "metadata": {},
   "source": [
    "Score line segements based on GENERALIZED_ESI_TYPE. This field contains 1-3 shoreline types, listed landward to seaward. If field contains only Armored, segment is considered fully armored. If Armored is anywhere along the shoreline, segment is considered partially armored. Otherwise segment is condidered natural. Confirmed by PI. "
   ]
  },
  {
   "cell_type": "code",
   "execution_count": 49,
   "metadata": {},
   "outputs": [],
   "source": [
    "# set code block for next step\n",
    "codeblock = \"\"\"\n",
    "def Reclass(GENERALIZED_ESI_TYPE):\n",
    "    if GENERALIZED_ESI_TYPE == \"1: Armored\":\n",
    "        return 10\n",
    "    if \"Armored\" in GENERALIZED_ESI_TYPE:\n",
    "        return 20 \n",
    "    else:\n",
    "        return 30 \n",
    "\"\"\""
   ]
  },
  {
   "cell_type": "code",
   "execution_count": 50,
   "metadata": {},
   "outputs": [
    {
     "data": {
      "text/html": [
       "<h2>Output</h2>a Layer object<h2>Messages</h2>Start Time: Thursday, February 3, 2022 2:56:52 PM<br/>Succeeded at Thursday, February 3, 2022 2:57:57 PM (Elapsed Time: 1 minutes 5 seconds)<br/><style>.rendered_html td, .rendered_html th {text-align: left;}.rendered_html tbody {border: 1px solid black;}</style>"
      ],
      "text/plain": [
       "<Result 'ESI'>"
      ]
     },
     "execution_count": 50,
     "metadata": {},
     "output_type": "execute_result"
    }
   ],
   "source": [
    "# add and calculate description field to hold indicator values\n",
    "arcpy.management.CalculateField(\"ESI\", \"Shore\", \"Reclass(!GENERALIZED_ESI_TYPE!)\", \"PYTHON3\", codeblock, \"SHORT\")"
   ]
  },
  {
   "cell_type": "markdown",
   "metadata": {},
   "source": [
    "### <font color='red'>STOP CODE HERE. Manual edits were done to ESI to remove orphaned line segements just south of Baton Rouge. They were cut off after removing the mainstem of the Mississippi River.</font>"
   ]
  },
  {
   "cell_type": "code",
   "execution_count": 58,
   "metadata": {},
   "outputs": [],
   "source": [
    "# convert to raster using \"Shore\" attribute. \n",
    "with arcpy.EnvManager(outputCoordinateSystem=sr, extent=SEraster, snapRaster=SEraster, cellSize=SEraster):\n",
    "    arcpy.conversion.FeatureToRaster(\"ESI\", \"Shore\", \"ESIr\", SEraster)"
   ]
  },
  {
   "cell_type": "markdown",
   "metadata": {},
   "source": [
    "## Bring in CBRS data"
   ]
  },
  {
   "cell_type": "code",
   "execution_count": 52,
   "metadata": {},
   "outputs": [],
   "source": [
    "# make a copy of the CBRS data so I can add a field\n",
    "with arcpy.EnvManager(outputCoordinateSystem=sr, extent=SEraster):\n",
    "    arcpy.management.CopyFeatures(CBRS, \"CBRS\", '', None, None, None)"
   ]
  },
  {
   "cell_type": "code",
   "execution_count": 53,
   "metadata": {},
   "outputs": [
    {
     "data": {
      "text/html": [
       "<h2>Output</h2>a Layer object<h2>Messages</h2>Start Time: Thursday, February 3, 2022 3:05:01 PM<br/>Adding dissolve to CBRS...<br/>Succeeded at Thursday, February 3, 2022 3:05:01 PM (Elapsed Time: 0.61 seconds)<br/><style>.rendered_html td, .rendered_html th {text-align: left;}.rendered_html tbody {border: 1px solid black;}</style>"
      ],
      "text/plain": [
       "<Result 'CBRS'>"
      ]
     },
     "execution_count": 53,
     "metadata": {},
     "output_type": "execute_result"
    }
   ],
   "source": [
    "# add a field to use for a dissolve and calculate it.\n",
    "arcpy.management.CalculateField(\"CBRS\", \"dissolve\", \"2\", \"PYTHON3\", '', \"SHORT\")"
   ]
  },
  {
   "cell_type": "code",
   "execution_count": 54,
   "metadata": {},
   "outputs": [],
   "source": [
    "# convert to raster \n",
    "with arcpy.EnvManager(outputCoordinateSystem=sr, extent=SEraster, snapRaster=SEraster, cellSize=SEraster):\n",
    "    arcpy.conversion.FeatureToRaster(\"CBRS\", \"dissolve\", \"CBRSr\", SEraster)"
   ]
  },
  {
   "cell_type": "code",
   "execution_count": null,
   "metadata": {},
   "outputs": [],
   "source": [
    "# copy Base Blueprint extent to use as background value to CBRS in order to add rasters\n",
    "arcpy.CopyRaster_management(SEraster, \"SEraster\", '', None, \"0\", \"NONE\", \"NONE\", \"8_BIT_UNSIGNED\", \"NONE\", \"NONE\", \"GRID\", \"NONE\", \"CURRENT_SLICE\",\n",
    "                            \"NO_TRANSPOSE\")"
   ]
  },
  {
   "cell_type": "code",
   "execution_count": 34,
   "metadata": {},
   "outputs": [
    {
     "data": {
      "text/html": [
       "<h2>Output</h2>C:\\Data\\Shoreline\\ShorelineCondition.gdb\\CBRSRcls<h2>Messages</h2>Start Time: Friday, February 4, 2022 1:23:16 PM<br/>CBRSr is loading...<br/>SEraster is loading...<br/>Succeeded at Friday, February 4, 2022 2:01:29 PM (Elapsed Time: 38 minutes 13 seconds)<br/><style>.rendered_html td, .rendered_html th {text-align: left;}.rendered_html tbody {border: 1px solid black;}</style>"
      ],
      "text/plain": [
       "<Result 'C:\\\\Data\\\\Shoreline\\\\ShorelineCondition.gdb\\\\CBRSRcls'>"
      ]
     },
     "execution_count": 34,
     "metadata": {},
     "output_type": "execute_result"
    }
   ],
   "source": [
    "# mosaic CBRS to extent\n",
    "arcpy.management.MosaicToNewRaster(\"CBRSr;SEraster\", env.workspace, \"CBRSRcls\",\n",
    "                                   None, \"8_BIT_UNSIGNED\", None, 1, \"MAXIMUM\", \"FIRST\")"
   ]
  },
  {
   "cell_type": "markdown",
   "metadata": {},
   "source": [
    "## Combine rasters\n",
    "here is what the classes will mean\n",
    "\n",
    "- 32 as far as we know it isn't armored and it is in the CBRS\n",
    "- 31 as far as we know it isn't armored and it is out of the CBRS\n",
    "- 22 has the word armor somewhere in the GENERALIZED_ESI_TYPE field and is in the CBRS\n",
    "- 21 has the word armor somewhere in the GENERALIZED_ESI_TYPE field and is out of the CBRS\n",
    "- 12 has a value of 1 in the GENERAL_SYMBOL field and is in the CBRS\n",
    "- 11 has a value of 1 in the GENERAL_SYMBOL field and is out of the CBRS"
   ]
  },
  {
   "cell_type": "code",
   "execution_count": 17,
   "metadata": {},
   "outputs": [],
   "source": [
    "# add above rasters together\n",
    "out_raster = arcpy.sa.Plus(\"ESIr\", \"CBRSRcls\"); out_raster.save(\"Plus\")"
   ]
  },
  {
   "cell_type": "code",
   "execution_count": 18,
   "metadata": {},
   "outputs": [],
   "source": [
    "# reclassify raster. This is a guess at the priority, need to confirm with staff.\n",
    "out_raster = arcpy.sa.Reclassify(\"Plus\", \"Value\", \"11 0;12 0;21 1;22 2;31 3;32 4\", \"DATA\"); out_raster.save(\"indicator\")"
   ]
  },
  {
   "cell_type": "markdown",
   "metadata": {},
   "source": [
    "### Finalize indiator\n",
    "\n",
    "do final steps for all indicators to add description fields, clip and export to SE extent, clip and export to SA extent"
   ]
  },
  {
   "cell_type": "code",
   "execution_count": 8,
   "metadata": {},
   "outputs": [],
   "source": [
    "# set code block for next step\n",
    "codeblock = \"\"\"\n",
    "def Reclass(value):\n",
    "    if value == 4:\n",
    "        return '4 = Natural and harder to develop'\n",
    "    elif value == 3:\n",
    "        return '3 = Natural' \n",
    "    elif value == 2:\n",
    "        return '2 = Partially armored and harder to develop' \n",
    "    elif value == 1:\n",
    "        return '1 = Partially armored' \n",
    "    elif value == 0:\n",
    "        return '0 = Armored'  \n",
    "\"\"\""
   ]
  },
  {
   "cell_type": "code",
   "execution_count": 9,
   "metadata": {},
   "outputs": [
    {
     "data": {
      "text/html": [
       "<div class='gpresult'><h2>Messages</h2><div id='messages' data-messages='[\"Start Time: Monday, September 18, 2023 3:25:08 PM\",\"Succeeded at Monday, September 18, 2023 3:25:10 PM (Elapsed Time: 2.02 seconds)\"]' data-show='true'><div id = 'default' /></div></div>"
      ],
      "text/plain": [
       "<Result 'F:\\\\Blueprint\\\\2022\\\\2022Indicators\\\\Shoreline\\\\2023\\\\ShorelineCondition.gdb\\\\indicator'>"
      ]
     },
     "execution_count": 9,
     "metadata": {},
     "output_type": "execute_result"
    }
   ],
   "source": [
    "# add and calculate description field to hold indicator values\n",
    "arcpy.management.CalculateField(\"indicator\", \"descript\", \"Reclass(!value!)\", \"PYTHON3\", codeblock, \"TEXT\")"
   ]
  },
  {
   "cell_type": "code",
   "execution_count": 10,
   "metadata": {},
   "outputs": [],
   "source": [
    "# set code block for next step\n",
    "codeblock = \"\"\"\n",
    "def Reclass1(Value):\n",
    "\tif Value == 4:\n",
    "\t\treturn 0\n",
    "\tif Value == 3:\n",
    "\t\treturn 50\n",
    "\tif Value == 2:\n",
    "\t\treturn 115\n",
    "\tif Value == 1:\n",
    "\t\treturn 172\n",
    "\telse:\n",
    "\t\treturn 222\n",
    "\t\t\n",
    "def Reclass2(Value):\n",
    "\tif Value == 4:\n",
    "\t\treturn 92\n",
    "\tif Value == 3:\n",
    "\t\treturn 125\n",
    "\tif Value == 2:\n",
    "\t\treturn 162\n",
    "\tif Value == 1:\n",
    "\t\treturn 179\n",
    "\telse:\n",
    "\t\treturn 186\n",
    "\t\t\n",
    "def Reclass3(Value):\n",
    "\tif Value == 4:\n",
    "\t\treturn 77\n",
    "\tif Value == 3:\n",
    "\t\treturn 23\n",
    "\tif Value == 2:\n",
    "\t\treturn 44\n",
    "\tif Value == 1:\n",
    "\t\treturn 101\n",
    "\telse:\n",
    "\t\treturn 165\n",
    "\"\"\""
   ]
  },
  {
   "cell_type": "code",
   "execution_count": 11,
   "metadata": {},
   "outputs": [
    {
     "data": {
      "text/html": [
       "<div class='gpresult'><h2>Messages</h2><div id='messages' data-messages='[\"Start Time: Monday, September 18, 2023 3:25:16 PM\",\"Succeeded at Monday, September 18, 2023 3:25:18 PM (Elapsed Time: 2.39 seconds)\"]' data-show='true'><div id = 'default' /></div></div>"
      ],
      "text/plain": [
       "<Result 'F:\\\\Blueprint\\\\2022\\\\2022Indicators\\\\Shoreline\\\\2023\\\\ShorelineCondition.gdb\\\\indicator'>"
      ]
     },
     "execution_count": 11,
     "metadata": {},
     "output_type": "execute_result"
    }
   ],
   "source": [
    "# calculate Red field\n",
    "arcpy.management.CalculateField(\"indicator\", \"Red\", \"Reclass1(!Value!)\", \"PYTHON3\", codeblock, \"SHORT\")\n",
    "# calculate Green field\n",
    "arcpy.management.CalculateField(\"indicator\", \"Green\", \"Reclass2(!Value!)\", \"PYTHON3\", codeblock, \"SHORT\")\n",
    "# calculate Blue field\n",
    "arcpy.management.CalculateField(\"indicator\", \"Blue\", \"Reclass3(!Value!)\", \"PYTHON3\", codeblock, \"SHORT\")"
   ]
  },
  {
   "cell_type": "code",
   "execution_count": 15,
   "metadata": {
    "scrolled": true
   },
   "outputs": [],
   "source": [
    "# clip to SE 2022 Blueprint extent\n",
    "with arcpy.EnvManager(outputCoordinateSystem=sr, extent=SEraster, snapRaster=SEraster, cellSize=SEraster):\n",
    "    out_raster = arcpy.sa.ExtractByMask(\"indicator\", SEraster); out_raster.save(\"SEMask\")"
   ]
  },
  {
   "cell_type": "code",
   "execution_count": 16,
   "metadata": {},
   "outputs": [],
   "source": [
    "# export as .tif with SE extent\n",
    "with arcpy.EnvManager(outputCoordinateSystem=sr, extent=SEraster, snapRaster=SEraster, cellSize=SEraster):\n",
    "    arcpy.management.CopyRaster(\"SEMask\", SEout, '', None, \"255\", \"NONE\", \"NONE\", \"8_BIT_UNSIGNED\", \"NONE\", \"NONE\", \"TIFF\", \"NONE\", \"CURRENT_SLICE\", \"NO_TRANSPOSE\")"
   ]
  },
  {
   "cell_type": "markdown",
   "metadata": {},
   "source": [
    "# FIN"
   ]
  }
 ],
 "metadata": {
  "kernelspec": {
   "display_name": "ArcGISPro",
   "language": "Python",
   "name": "python3"
  },
  "language_info": {
   "file_extension": ".py",
   "name": "python",
   "version": "3"
  }
 },
 "nbformat": 4,
 "nbformat_minor": 2
}
