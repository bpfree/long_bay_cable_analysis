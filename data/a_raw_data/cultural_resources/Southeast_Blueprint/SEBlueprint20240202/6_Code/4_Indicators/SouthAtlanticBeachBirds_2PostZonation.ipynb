{
 "cells": [
  {
   "cell_type": "markdown",
   "metadata": {},
   "source": [
    "# South Atlantic BeachBirds\n",
    "\n",
    "This indicator was used in the 2022 base blueprint.\n",
    "\n",
    "In 2022, it was not used in all zonation areas where the source data overlaps, so we added a step to clip it down to the area where it was used in zonation. We will revisit the exent in 2023\n",
    "\n",
    "This indicator was originally made for the South Atlantic Blueprint using zonation to combine beach bird species data.\n",
    "\n",
    "Created by Amy Keister, last run by Amy Keister on 2 August 2022. It took 1 minute to run"
   ]
  },
  {
   "cell_type": "code",
   "execution_count": 63,
   "metadata": {},
   "outputs": [],
   "source": [
    "import os\n",
    "import arcpy"
   ]
  },
  {
   "cell_type": "code",
   "execution_count": 64,
   "metadata": {},
   "outputs": [],
   "source": [
    "import time\n",
    "start = time.time()"
   ]
  },
  {
   "cell_type": "code",
   "execution_count": 65,
   "metadata": {},
   "outputs": [],
   "source": [
    "# define spatial reference and workspaces\n",
    "sr= arcpy.SpatialReference(5070)\n",
    "#SourceWorkspace= \n",
    "OutWorkspace = r\"D:\\SE_Blueprint_2023\\5_Indicators_Tier2_UnClipped\\SouthAtlanticBeach\\SouthAtlanticBPost.gdb\""
   ]
  },
  {
   "cell_type": "code",
   "execution_count": 66,
   "metadata": {},
   "outputs": [],
   "source": [
    "# define final indicator outputs\n",
    "Out = r\"D:\\SE_Blueprint_2023\\5_Indicators_Tier2_UnClipped\\SouthAtlanticBeach\\SouthAtlanticBeachBirds.tif\""
   ]
  },
  {
   "cell_type": "code",
   "execution_count": 67,
   "metadata": {},
   "outputs": [],
   "source": [
    "# define sub-indicator outputs"
   ]
  },
  {
   "cell_type": "code",
   "execution_count": 68,
   "metadata": {},
   "outputs": [],
   "source": [
    "# define rasters used for cell size, extent, and snapping\n",
    "Rextent= r\"F:\\GIS_DATA\\SECAS\\SE_Blueprint_2022\\Southeast_Blueprint_2022_Data_Download\\SEBlueprint20221215\\Inputs\\BaseBlueprint\\1_ExtentLayers\\BaseBlueprintExtent2022.tif\""
   ]
  },
  {
   "cell_type": "code",
   "execution_count": 69,
   "metadata": {},
   "outputs": [],
   "source": [
    "# define inputs\n",
    "z= r\"D:\\SE_Blueprint_2023\\5_Indicators_Tier2_UnClipped\\SouthAtlanticBeach\\SouthAtlanticBeachBirds2023Zonation\\SABeachBirdsWarp1_RemoveInputMax0\\outputs\\SABeachBirds.CAZ_.rank.compressed.tif\"\n",
    "VH= r\"F:\\GIS_DATA\\SpeciesAndHabitats\\BeachBirds\\VonHolle2011\\GIS\\SHOREBIRD_REGIONAL_POLY_WITH_RANK\\SHOREBIRD_REGIONAL_POLY_WITH_RANK.shp\"\n",
    "SubR= r\"E:\\WORKING\\BaseBlueprint\\2022\\1_SubregionsAndExtent\\BaseBlueprintSubRgn.shp\"\n",
    "NLCD= r\"F:\\GIS_DATA\\LanduseLandcover\\NLCD\\NLCD_landcover_2019_release_all_files_20210604\\nlcd_2019_land_cover_l48_20210604\\nlcd_2019_land_cover_l48_20210604.img\"\n",
    "SAraster= r\"F:\\GIS_DATA\\SALCC_BLUEPRINT\\Version_2021\\Blueprint_2021_Data_Download_20220204\\1_ExtentLayers\\SA2021extent.tif\"\n",
    "State= r\"F:\\GIS_DATA\\Boundaries\\States\\tl_rd22_us_state\\tl_rd22_us_state.shp\""
   ]
  },
  {
   "cell_type": "markdown",
   "metadata": {},
   "source": [
    "### Start analysis"
   ]
  },
  {
   "cell_type": "code",
   "execution_count": 70,
   "metadata": {},
   "outputs": [],
   "source": [
    "# Set the output workspace\n",
    "arcpy.env.workspace = OutWorkspace"
   ]
  },
  {
   "cell_type": "code",
   "execution_count": 71,
   "metadata": {},
   "outputs": [
    {
     "name": "stdout",
     "output_type": "stream",
     "text": [
      "D:\\SE_Blueprint_2023\\5_Indicators_Tier2_UnClipped\\SouthAtlanticBeach\\SouthAtlanticBPost.gdb\n"
     ]
    }
   ],
   "source": [
    "print(arcpy.env.workspace)"
   ]
  },
  {
   "cell_type": "markdown",
   "metadata": {},
   "source": [
    "### Bring in zonation results from Brad"
   ]
  },
  {
   "cell_type": "code",
   "execution_count": 10,
   "metadata": {},
   "outputs": [],
   "source": [
    "# take zonation results times 100\n",
    "with arcpy.EnvManager(outputCoordinateSystem=sr, snapRaster=Rextent, cellSize=Rextent, extent=Rextent):\n",
    "    out_raster = arcpy.sa.Times(z, 100); out_raster.save(\"birds\")"
   ]
  },
  {
   "cell_type": "code",
   "execution_count": 11,
   "metadata": {},
   "outputs": [],
   "source": [
    "# reclassify\n",
    "out_raster = arcpy.sa.Reclassify(\"birds\", \"VALUE\", \"NODATA 0;0 20 1;20 40 2;40 60 3;60 80 4;80 100 5\", \"DATA\"); out_raster.save(\"ind\")"
   ]
  },
  {
   "cell_type": "markdown",
   "metadata": {},
   "source": [
    "### Add in zeros"
   ]
  },
  {
   "cell_type": "code",
   "execution_count": 12,
   "metadata": {},
   "outputs": [],
   "source": [
    "# buffer VonHolle data to make an estimate of extent\n",
    "# buffer by 50 km to try to retain nearshore hardbottom\n",
    "# 50 km was chosen by a quick visual exploration, this number might need to be tweaked\n",
    "with arcpy.EnvManager(outputCoordinateSystem=sr):\n",
    "    arcpy.analysis.Buffer(VH, \"VHbuff25\", \"25 Kilometers\", \"FULL\", \"ROUND\", \"None\", None, \"PLANAR\")"
   ]
  },
  {
   "cell_type": "code",
   "execution_count": 13,
   "metadata": {},
   "outputs": [
    {
     "data": {
      "text/html": [
       "<div class='gpresult'><h2>Messages</h2><div id='messages' data-messages='[\"Start Time: Friday, June 30, 2023 9:35:41 AM\",\"Sorting Attributes...\",\"Dissolving...\",\"Succeeded at Friday, June 30, 2023 9:35:41 AM (Elapsed Time: 0.20 seconds)\"]' data-show='true'><div id = 'default' /></div></div>"
      ],
      "text/plain": [
       "<Result 'D:\\\\SE_Blueprint_2023\\\\5_Indicators_Tier2_UnClipped\\\\SouthAtlanticBeach\\\\SouthAtlanticBPost.gdb\\\\VHbuff50Dis'>"
      ]
     },
     "execution_count": 13,
     "metadata": {},
     "output_type": "execute_result"
    }
   ],
   "source": [
    "# dissolve buffers (when I try to dissolve while doing the buffer it takes forever)\n",
    "arcpy.management.Dissolve(\"VHbuff25\", \"VHbuff50Dis\", \"BUFF_DIST\", None, \"MULTI_PART\", \"DISSOLVE_LINES\")"
   ]
  },
  {
   "cell_type": "code",
   "execution_count": 14,
   "metadata": {},
   "outputs": [],
   "source": [
    "# remove all areas outside the 50km buffer we made above\n",
    "out_raster = arcpy.sa.ExtractByMask(\"ind\", \"VHbuff50Dis\"); out_raster.save(\"indic\")"
   ]
  },
  {
   "cell_type": "code",
   "execution_count": 15,
   "metadata": {},
   "outputs": [],
   "source": [
    "# clip to old south atlantic LCC boundary\n",
    "out_raster = arcpy.sa.ExtractByMask(\"indic\", SAraster); out_raster.save(\"indica\")"
   ]
  },
  {
   "cell_type": "code",
   "execution_count": 16,
   "metadata": {},
   "outputs": [],
   "source": [
    "# remove buffer area in Virginia, since data didn't cover VA\n",
    "with arcpy.EnvManager(outputCoordinateSystem=sr, snapRaster=Rextent, cellSize=Rextent):\n",
    "    arcpy.analysis.Select(State, \"State\", \"NAME IN ('Georgia', 'Florida', 'South Carolina', 'North Carolina')\")\n",
    "    out_raster = arcpy.sa.ExtractByMask(\"indica\", \"State\"); out_raster.save(\"indicat\")"
   ]
  },
  {
   "cell_type": "code",
   "execution_count": 84,
   "metadata": {},
   "outputs": [],
   "source": [
    "# use NLCD to remove deep marine\n",
    "with arcpy.EnvManager(outputCoordinateSystem=sr, snapRaster=Rextent, cellSize=Rextent):\n",
    "    out_raster = arcpy.sa.Con(NLCD, \"indicat\", \"\", \"Value > 0\"); out_raster.save(\"indicator\")"
   ]
  },
  {
   "cell_type": "markdown",
   "metadata": {},
   "source": [
    "### Finalize indiator\n",
    "\n",
    "do final steps for all indicators to add description fields, clip and export to SE extent, clip and export to SA extent"
   ]
  },
  {
   "cell_type": "code",
   "execution_count": 85,
   "metadata": {},
   "outputs": [],
   "source": [
    "# clip to base Blueprint extent\n",
    "with arcpy.EnvManager(outputCoordinateSystem=sr, snapRaster=Rextent, cellSize=Rextent):\n",
    "    out_raster = arcpy.sa.ExtractByMask(\"indicator\", Rextent); out_raster.save(\"Mask\")"
   ]
  },
  {
   "cell_type": "code",
   "execution_count": 86,
   "metadata": {},
   "outputs": [],
   "source": [
    "# export as .tif \n",
    "with arcpy.EnvManager(outputCoordinateSystem=sr, snapRaster=Rextent, cellSize=Rextent):\n",
    "    arcpy.management.CopyRaster(\"Mask\", Out, '', None, \"15\", \"NONE\", \"NONE\", \"4_BIT\", \"NONE\", \"NONE\", \"TIFF\", \"NONE\", \"CURRENT_SLICE\", \"NO_TRANSPOSE\")"
   ]
  },
  {
   "cell_type": "code",
   "execution_count": 87,
   "metadata": {},
   "outputs": [],
   "source": [
    "# set code block for next step\n",
    "codeblock = \"\"\"\n",
    "def Reclass(v):\n",
    "\tif v == 5:\n",
    "\t\treturn '5 = >80th percentile of importance for bird index species (American oystercatcher, Wilson’s plover, least tern, piping plover) '\n",
    "\telif v == 4:\n",
    "\t\treturn '4 = >60th-80th percentile of importance'\n",
    "\telif v == 3:\n",
    "\t\treturn '3 = >40th-60th percentile of importance'\n",
    "\telif v == 2:\n",
    "\t\treturn '2 = >20th-40th percentile of importance'\n",
    "\telif v == 1:\n",
    "\t\treturn '1 = ≤20th percentile of importance for bird index species'\n",
    "\telif v == 0:\n",
    "\t\treturn '0 = Open water or not identified as important for bird index species'\n",
    "\"\"\""
   ]
  },
  {
   "cell_type": "code",
   "execution_count": 88,
   "metadata": {},
   "outputs": [
    {
     "data": {
      "text/html": [
       "<div class='gpresult'><h2>Messages</h2><div id='messages' data-messages='[\"Start Time: Friday, September 15, 2023 10:14:43 PM\",\"Adding descript to SouthAtlanticBeachBirds.tif.vat...\",\"Succeeded at Friday, September 15, 2023 10:14:43 PM (Elapsed Time: 0.13 seconds)\"]' data-show='true'><div id = 'default' /></div></div>"
      ],
      "text/plain": [
       "<Result 'D:\\\\SE_Blueprint_2023\\\\5_Indicators_Tier2_UnClipped\\\\SouthAtlanticBeach\\\\SouthAtlanticBeachBirds.tif'>"
      ]
     },
     "execution_count": 88,
     "metadata": {},
     "output_type": "execute_result"
    }
   ],
   "source": [
    "# add and calculate description field to hold indicator values\n",
    "arcpy.management.CalculateField(Out, \"descript\", \"Reclass(!value!)\", \"PYTHON3\", codeblock, \"TEXT\")"
   ]
  },
  {
   "cell_type": "code",
   "execution_count": 89,
   "metadata": {},
   "outputs": [],
   "source": [
    "# set code block for next step\n",
    "codeblock = \"\"\"\n",
    "def Reclass1(Value):\n",
    "\tif Value == 5:\n",
    "\t\treturn 127\n",
    "\tif Value == 4:\n",
    "\t\treturn 201\n",
    "\tif Value == 3:\n",
    "\t\treturn 242\n",
    "\tif Value == 2:\n",
    "\t\treturn 253\n",
    "\tif Value == 1:\n",
    "\t\treturn 253\n",
    "\telse:\n",
    "\t\treturn 255\n",
    "\t\t\n",
    "def Reclass2(Value):\n",
    "\tif Value == 5:\n",
    "\t\treturn 0\n",
    "\tif Value == 4:\n",
    "\t\treturn 29\n",
    "\tif Value == 3:\n",
    "\t\treturn 109\n",
    "\tif Value == 2:\n",
    "\t\treturn 178\n",
    "\tif Value == 1:\n",
    "\t\treturn 220\n",
    "\telse:\n",
    "\t\treturn 255\n",
    "\t\t\n",
    "def Reclass3(Value):\n",
    "\tif Value == 5:\n",
    "\t\treturn 0\n",
    "\tif Value == 4:\n",
    "\t\treturn 19\n",
    "\tif Value == 3:\n",
    "\t\treturn 75\n",
    "\tif Value == 2:\n",
    "\t\treturn 123\n",
    "\tif Value == 1:\n",
    "\t\treturn 175\n",
    "\telse:\n",
    "\t\treturn 255\n",
    "\"\"\""
   ]
  },
  {
   "cell_type": "code",
   "execution_count": 90,
   "metadata": {},
   "outputs": [
    {
     "data": {
      "text/html": [
       "<div class='gpresult'><h2>Messages</h2><div id='messages' data-messages='[\"Start Time: Friday, September 15, 2023 10:14:43 PM\",\"Adding Blue to SouthAtlanticBeachBirds.tif.vat...\",\"Succeeded at Friday, September 15, 2023 10:14:43 PM (Elapsed Time: 0.13 seconds)\"]' data-show='true'><div id = 'default' /></div></div>"
      ],
      "text/plain": [
       "<Result 'D:\\\\SE_Blueprint_2023\\\\5_Indicators_Tier2_UnClipped\\\\SouthAtlanticBeach\\\\SouthAtlanticBeachBirds.tif'>"
      ]
     },
     "execution_count": 90,
     "metadata": {},
     "output_type": "execute_result"
    }
   ],
   "source": [
    "# calculate Red field\n",
    "arcpy.management.CalculateField(Out, \"Red\", \"Reclass1(!Value!)\", \"PYTHON3\", codeblock, \"SHORT\")\n",
    "# calculate Green field\n",
    "arcpy.management.CalculateField(Out, \"Green\", \"Reclass2(!Value!)\", \"PYTHON3\", codeblock, \"SHORT\")\n",
    "# calculate Blue field\n",
    "arcpy.management.CalculateField(Out, \"Blue\", \"Reclass3(!Value!)\", \"PYTHON3\", codeblock, \"SHORT\")"
   ]
  },
  {
   "cell_type": "code",
   "execution_count": 24,
   "metadata": {},
   "outputs": [
    {
     "name": "stdout",
     "output_type": "stream",
     "text": [
      "915.492255449295\n"
     ]
    }
   ],
   "source": [
    "# this prints the time it took this notebook to run in seconds\n",
    "end = time.time()\n",
    "print(end - start)"
   ]
  }
 ],
 "metadata": {
  "kernelspec": {
   "display_name": "ArcGISPro",
   "language": "Python",
   "name": "python3"
  },
  "language_info": {
   "file_extension": ".py",
   "name": "python",
   "version": "3"
  }
 },
 "nbformat": 4,
 "nbformat_minor": 2
}
