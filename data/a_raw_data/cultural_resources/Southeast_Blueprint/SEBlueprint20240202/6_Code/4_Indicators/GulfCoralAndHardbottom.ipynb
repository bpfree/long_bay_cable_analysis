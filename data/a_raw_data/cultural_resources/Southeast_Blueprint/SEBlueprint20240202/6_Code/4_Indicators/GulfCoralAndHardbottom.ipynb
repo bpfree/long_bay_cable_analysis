{
 "cells": [
  {
   "cell_type": "markdown",
   "metadata": {},
   "source": [
    "# Gulf coral and hardbottom\n",
    "\n",
    "This indicator was used in the Southeast Blueprint 2023.\n",
    "Code written by Rua Mordecai and Amy Keister"
   ]
  },
  {
   "cell_type": "code",
   "execution_count": 33,
   "metadata": {},
   "outputs": [],
   "source": [
    "import os, string\n",
    "import arcpy"
   ]
  },
  {
   "cell_type": "code",
   "execution_count": 34,
   "metadata": {},
   "outputs": [],
   "source": [
    "# define spatial reference and workspaces\n",
    "sr= arcpy.SpatialReference(5070)\n",
    "OutWorkspace = r\"D:\\Blueprint\\2023\\finalIndicatorEdits\\ContinentalSoutheastBlueprint2023_FinalIndicators\\ContinentalSoutheastBlueprint2023_FinalIndicators\\SpatialData\""
   ]
  },
  {
   "cell_type": "code",
   "execution_count": 35,
   "metadata": {},
   "outputs": [],
   "source": [
    "# define final output name\n",
    "IndicatorFileName = \"GulfCoralAndHardbottom.tif\""
   ]
  },
  {
   "cell_type": "code",
   "execution_count": 36,
   "metadata": {},
   "outputs": [],
   "source": [
    "# define rasters used for cell size, extent, and snapping\n",
    "MarineRaster= r\"D:\\Blueprint\\2023\\extent\\Marine_Extent_v1.tif\"\n",
    "# define raster used for cell size, extent, and snapping\n",
    "SERaster= r\"D:\\Blueprint\\2022\\Masks\\finalRegions_extent\\BaseBlueprintExtent2022.tif\""
   ]
  },
  {
   "cell_type": "code",
   "execution_count": 37,
   "metadata": {},
   "outputs": [],
   "source": [
    "# gulf subregion boundaries to remove data from outside the gulf\n",
    "GulfSubregion= r\"D:\\Blueprint\\2023\\extent\\Marine_GoM_v1.tif\"\n",
    "GulfSubregionSHP= r\"D:\\Blueprint\\2023\\extent\\Marine_GoM_v1.shp\""
   ]
  },
  {
   "cell_type": "code",
   "execution_count": 38,
   "metadata": {},
   "outputs": [],
   "source": [
    "# Shapefiles for BOEM seafloor anomaly data. Note: The download is a lpk file. 7zip can extract it so\n",
    "# you can easily get to all the shapefiles inside\n",
    "confirmedPatchReef = r\"D:\\Blueprint\\2023\\Indicators\\GulfMarineFish\\BOEMSeafloorAnomalies\\BOEM Seafloor Anomalies June 2019_0\\commondata\\2019_june\\anomaly_confirmed_relic_patchreefs.shp\"\n",
    "anomalyCretaceous = r\"D:\\Blueprint\\2023\\Indicators\\GulfMarineFish\\BOEMSeafloorAnomalies\\BOEM Seafloor Anomalies June 2019_0\\commondata\\2019_june\\anomaly_Cretaceous.shp\"\n",
    "anomalyPatchReef = r\"D:\\Blueprint\\2023\\Indicators\\GulfMarineFish\\BOEMSeafloorAnomalies\\BOEM Seafloor Anomalies June 2019_0\\commondata\\2019_june\\anomaly_relic_patchreefs.shp\"\n",
    "anomalyConfirmedBuriedCarbonate = r\"D:\\Blueprint\\2023\\Indicators\\GulfMarineFish\\BOEMSeafloorAnomalies\\BOEM Seafloor Anomalies June 2019_0\\commondata\\2019_june\\seep_anomaly_confirmed_buried_carbonate.shp\"\n",
    "anomalyConfirmedCarbonate = r\"D:\\Blueprint\\2023\\Indicators\\GulfMarineFish\\BOEMSeafloorAnomalies\\BOEM Seafloor Anomalies June 2019_0\\commondata\\2019_june\\seep_anomaly_confirmed_carbonate.shp\"\n",
    "anomalyConfirmedOrganisms = r\"D:\\Blueprint\\2023\\Indicators\\GulfMarineFish\\BOEMSeafloorAnomalies\\BOEM Seafloor Anomalies June 2019_0\\commondata\\2019_june\\seep_anomaly_confirmed_organisms.shp\"\n",
    "anomalyPositives = r\"D:\\Blueprint\\2023\\Indicators\\GulfMarineFish\\BOEMSeafloorAnomalies\\BOEM Seafloor Anomalies June 2019_0\\commondata\\2019_june\\seep_anomaly_positives.shp\"\n",
    "anomalyPositivesConfirmedGas = r\"D:\\Blueprint\\2023\\Indicators\\GulfMarineFish\\BOEMSeafloorAnomalies\\BOEM Seafloor Anomalies June 2019_0\\commondata\\2019_june\\seep_anomaly_positives_confirmed_gas.shp\"\n",
    "anomalyPositivesConfirmedOil = r\"D:\\Blueprint\\2023\\Indicators\\GulfMarineFish\\BOEMSeafloorAnomalies\\BOEM Seafloor Anomalies June 2019_0\\commondata\\2019_june\\seep_anomaly_positives_confirmed_oil.shp\"\n",
    "anomalyPositivesPossibleOil = r\"D:\\Blueprint\\2023\\Indicators\\GulfMarineFish\\BOEMSeafloorAnomalies\\BOEM Seafloor Anomalies June 2019_0\\commondata\\2019_june\\seep_anomaly_positives_possible_oil.shp\"\n",
    "anomalyConfirmedCorals = r\"D:\\Blueprint\\2023\\Indicators\\GulfMarineFish\\BOEMSeafloorAnomalies\\BOEM Seafloor Anomalies June 2019_0\\commondata\\2019_june_final\\seep_anomaly_confirmed_corals.shp\"\n",
    "anomalyConfirmedHydrate = r\"D:\\Blueprint\\2023\\Indicators\\GulfMarineFish\\BOEMSeafloorAnomalies\\BOEM Seafloor Anomalies June 2019_0\\commondata\\2019_june_final\\seep_anomaly_confirmed_hydrate.shp\""
   ]
  },
  {
   "cell_type": "code",
   "execution_count": 39,
   "metadata": {},
   "outputs": [],
   "source": [
    "# shipwreck data\n",
    "wrecks = r\"D:\\Blueprint\\2023\\Indicators\\GulfHardbottomHabitat\\wrecks\\ENC_Wrecks\\ENC_Wrecks.shp\""
   ]
  },
  {
   "cell_type": "code",
   "execution_count": 40,
   "metadata": {},
   "outputs": [],
   "source": [
    "# oil and natural gas platforms\n",
    "platforms = r\"D:\\Blueprint\\2023\\Indicators\\GulfHardbottomHabitat\\OilAndGasPlatforms\\Oil__and__Natural__Gas__Platforms\\Oil_and_Natural_Gas_Platforms.shp\""
   ]
  },
  {
   "cell_type": "code",
   "execution_count": 41,
   "metadata": {},
   "outputs": [],
   "source": [
    "# artificial reefs\n",
    "artificialReefs = r\"D:\\Blueprint\\2023\\Indicators\\GulfHardbottomHabitat\\artificialReefs\\Artificial_Reefs\\Artificial_Reefs.shp\""
   ]
  },
  {
   "cell_type": "code",
   "execution_count": 42,
   "metadata": {},
   "outputs": [],
   "source": [
    "# NOAA coral observations\n",
    "NOAACoralObs = r\"D:\\Blueprint\\2023\\Indicators\\GulfHardbottomHabitat\\NOAAcoralDatabase\\deep_sea_corals_6cb7_510e_0a83.csv\"\n",
    "# Name and location for coral observations once the code cleans them up\n",
    "NOAACoralObsClean = r\"D:\\Blueprint\\2023\\Indicators\\GulfHardbottomHabitat\\NOAAcoralDatabase\\deep_sea_corals_6cb7_510e_0a83_clean.csv\""
   ]
  },
  {
   "cell_type": "code",
   "execution_count": 43,
   "metadata": {},
   "outputs": [],
   "source": [
    "# coral habitat areas of particular concern\n",
    "Coral9NoRegs = r\"D:\\Blueprint\\2023\\Indicators\\GulfHardbottomHabitat\\GulfHAPC\\HAPCshapefiles\\shpFinal2\\Coral9NoRegs.shp\"\n",
    "Coral9Regs = r\"D:\\Blueprint\\2023\\Indicators\\GulfHardbottomHabitat\\GulfHAPC\\HAPCshapefiles\\shpFinal2\\Coral9Regs.shp\"\n",
    "ExistingWithOutRegs = r\"D:\\Blueprint\\2023\\Indicators\\GulfHardbottomHabitat\\GulfHAPC\\HAPCshapefiles\\shpFinal2\\ExistingWithOutRegs.shp\"\n",
    "ExistingWithRegs = r\"D:\\Blueprint\\2023\\Indicators\\GulfHardbottomHabitat\\GulfHAPC\\HAPCshapefiles\\shpFinal2\\ExistingWithRegs.shp\""
   ]
  },
  {
   "cell_type": "code",
   "execution_count": 44,
   "metadata": {},
   "outputs": [],
   "source": [
    "# gulf sediment layer\n",
    "sediment = r\"D:\\Blueprint\\2023\\Indicators\\GulfMarineFish\\usSEABED\\usSEABED_GOM_Sediments\\usSEABED_GOM_Sediments.shp\""
   ]
  },
  {
   "cell_type": "code",
   "execution_count": 45,
   "metadata": {},
   "outputs": [],
   "source": [
    "# Sometimes arcpro is fussy about not overwriting things\n",
    "arcpy.env.overwriteOutput = True"
   ]
  },
  {
   "cell_type": "markdown",
   "metadata": {},
   "source": [
    "### Start analysis"
   ]
  },
  {
   "cell_type": "code",
   "execution_count": 46,
   "metadata": {},
   "outputs": [],
   "source": [
    "# Set the output workspace\n",
    "arcpy.env.workspace = OutWorkspace"
   ]
  },
  {
   "cell_type": "markdown",
   "metadata": {},
   "source": [
    "### make zeros that capture the inland extent of this indicator\n",
    "There will be someoverlap with the Atlantic hardbottom and we have decided that is okay right now"
   ]
  },
  {
   "cell_type": "code",
   "execution_count": 20,
   "metadata": {},
   "outputs": [],
   "source": [
    "# buffer gulf marine shapefile by 100 km to try to retain nearshore hardbottom\n",
    "# the Atlantic version of this indicator used 150 km but 100 km was enough in the gulf.\n",
    "# less that 100 would result in some loss of nearshore marine in Louisiana\n",
    "with arcpy.EnvManager(outputCoordinateSystem=sr):\n",
    "    arcpy.analysis.Buffer(GulfSubregionSHP, \"Marine_Gulf_v1_Buffer100km.shp\", \"100 Kilometers\", \"FULL\", \"ROUND\", \"NONE\", None, \"PLANAR\")"
   ]
  },
  {
   "cell_type": "code",
   "execution_count": 24,
   "metadata": {},
   "outputs": [
    {
     "data": {
      "text/html": [
       "<div class='gpresult'><h2>Messages</h2><div id='messages' data-messages='[\"Start Time: Wednesday, June 28, 2023 6:04:51 PM\",\"Adding raster to Marine_Gulf_v1_Buffer100km...\",\"Succeeded at Wednesday, June 28, 2023 6:06:06 PM (Elapsed Time: 1 minutes 15 seconds)\"]' data-show='true'><div id = 'default' /></div></div>"
      ],
      "text/plain": [
       "<Result 'D:\\\\Blueprint\\\\2023\\\\Indicators\\\\GulfHardbottomHabitat\\\\working\\\\Marine_Gulf_v1_Buffer100km.shp'>"
      ]
     },
     "execution_count": 24,
     "metadata": {},
     "output_type": "execute_result"
    }
   ],
   "source": [
    "# add field to convert to raster\n",
    "arcpy.management.CalculateField(\"Marine_Gulf_v1_Buffer100km.shp\", \"raster\", \"0\", \"PYTHON3\", '', \"SHORT\")"
   ]
  },
  {
   "cell_type": "code",
   "execution_count": 25,
   "metadata": {},
   "outputs": [],
   "source": [
    "# convert to 30m pixels \n",
    "with arcpy.EnvManager(outputCoordinateSystem=sr, extent=MarineRaster, snapRaster=MarineRaster, cellSize=MarineRaster):\n",
    "        arcpy.conversion.FeatureToRaster(in_features=\"Marine_Gulf_v1_Buffer100km.shp\", field=\"raster\", out_raster=\"zero.tif\", cell_size=MarineRaster)"
   ]
  },
  {
   "cell_type": "markdown",
   "metadata": {},
   "source": [
    "### Prep coral HAPC"
   ]
  },
  {
   "cell_type": "code",
   "execution_count": 17,
   "metadata": {},
   "outputs": [
    {
     "data": {
      "text/html": [
       "<div class='gpresult'><h2>Messages</h2><div id='messages' data-messages='[\"Start Time: Wednesday, June 28, 2023 1:45:33 PM\",\"Succeeded at Wednesday, June 28, 2023 1:45:38 PM (Elapsed Time: 4.80 seconds)\"]' data-show='true'><div id = 'default' /></div></div>"
      ],
      "text/plain": [
       "<Result 'D:\\\\Blueprint\\\\2023\\\\Indicators\\\\GulfHardbottomHabitat\\\\working\\\\coralHAPC.shp'>"
      ]
     },
     "execution_count": 17,
     "metadata": {},
     "output_type": "execute_result"
    }
   ],
   "source": [
    "# Combine coral HAPC shapefiles\n",
    "arcpy.management.Merge([Coral9NoRegs,Coral9Regs,ExistingWithOutRegs,ExistingWithRegs], \n",
    "                       \"coralHAPC.shp\", \"\", \"NO_SOURCE_INFO\")"
   ]
  },
  {
   "cell_type": "code",
   "execution_count": 18,
   "metadata": {},
   "outputs": [
    {
     "data": {
      "text/html": [
       "<div class='gpresult'><h2>Messages</h2><div id='messages' data-messages='[\"Start Time: Wednesday, June 28, 2023 1:45:39 PM\",\"Adding raster to coralHAPC...\",\"Succeeded at Wednesday, June 28, 2023 1:45:39 PM (Elapsed Time: 0.36 seconds)\"]' data-show='true'><div id = 'default' /></div></div>"
      ],
      "text/plain": [
       "<Result 'D:\\\\Blueprint\\\\2023\\\\Indicators\\\\GulfHardbottomHabitat\\\\working\\\\coralHAPC.shp'>"
      ]
     },
     "execution_count": 18,
     "metadata": {},
     "output_type": "execute_result"
    }
   ],
   "source": [
    "# add field to convert to raster\n",
    "arcpy.management.CalculateField(\"coralHAPC.shp\", \"raster\", \"1000\", \"PYTHON3\", '', \"SHORT\")"
   ]
  },
  {
   "cell_type": "code",
   "execution_count": 19,
   "metadata": {},
   "outputs": [],
   "source": [
    "# convert to 30m pixels \n",
    "with arcpy.EnvManager(outputCoordinateSystem=sr, extent=MarineRaster, snapRaster=MarineRaster, cellSize=MarineRaster):\n",
    "        arcpy.conversion.FeatureToRaster(in_features=\"coralHAPC.shp\", field=\"raster\", out_raster=\"coralHAPCRaster.tif\", cell_size=MarineRaster)"
   ]
  },
  {
   "cell_type": "code",
   "execution_count": 20,
   "metadata": {},
   "outputs": [],
   "source": [
    "# reclassify so that noData is 0 \n",
    "out_raster = arcpy.sa.Reclassify(\"coralHAPCRaster.tif\", \"Value\", \"NODATA 0;1000 1000\", \"DATA\"); out_raster.save(\"coralHAPCRasterZ.tif\")"
   ]
  },
  {
   "cell_type": "markdown",
   "metadata": {},
   "source": [
    "### Prep anthropogenic hardbottom"
   ]
  },
  {
   "cell_type": "code",
   "execution_count": 16,
   "metadata": {},
   "outputs": [],
   "source": [
    "# combine shipwrecks, artificial reefs, and oil and gas platforms\n",
    "with arcpy.EnvManager(outputCoordinateSystem=sr, extent=MarineRaster, snapRaster=MarineRaster, cellSize=MarineRaster):\n",
    "    arcpy.management.Merge([wrecks,platforms,artificialReefs],\"anthroHardbottom.shp\", \"\", \"NO_SOURCE_INFO\")"
   ]
  },
  {
   "cell_type": "code",
   "execution_count": 17,
   "metadata": {},
   "outputs": [
    {
     "data": {
      "text/html": [
       "<div class='gpresult'><h2>Messages</h2><div id='messages' data-messages='[\"Start Time: Friday, June 9, 2023 1:20:04 PM\",\"Succeeded at Friday, June 9, 2023 1:20:14 PM (Elapsed Time: 9.53 seconds)\"]' data-show='true'><div id = 'default' /></div></div>"
      ],
      "text/plain": [
       "<Result 'D:\\\\Blueprint\\\\2023\\\\Indicators\\\\GulfHardbottomHabitat\\\\working\\\\anthroHardbottomBuf.shp'>"
      ]
     },
     "execution_count": 17,
     "metadata": {},
     "output_type": "execute_result"
    }
   ],
   "source": [
    "# Buffer anthropogenic known features to use as separate class\n",
    "arcpy.analysis.Buffer(\"anthroHardbottom.shp\", \"anthroHardbottomBuf.shp\", \"150 Meters\", \"FULL\", \"ROUND\", \"NONE\", None, \"PLANAR\")"
   ]
  },
  {
   "cell_type": "code",
   "execution_count": 18,
   "metadata": {},
   "outputs": [
    {
     "data": {
      "text/html": [
       "<div class='gpresult'><h2>Messages</h2><div id='messages' data-messages='[\"Start Time: Friday, June 9, 2023 1:26:14 PM\",\"Adding raster to anthroHardbottomBuf...\",\"Succeeded at Friday, June 9, 2023 1:26:17 PM (Elapsed Time: 2.71 seconds)\"]' data-show='true'><div id = 'default' /></div></div>"
      ],
      "text/plain": [
       "<Result 'D:\\\\Blueprint\\\\2023\\\\Indicators\\\\GulfHardbottomHabitat\\\\working\\\\anthroHardbottomBuf.shp'>"
      ]
     },
     "execution_count": 18,
     "metadata": {},
     "output_type": "execute_result"
    }
   ],
   "source": [
    "# add field to convert to raster\n",
    "arcpy.management.CalculateField(\"anthroHardbottomBuf.shp\", \"raster\", \"100\", \"PYTHON3\", '', \"SHORT\")"
   ]
  },
  {
   "cell_type": "code",
   "execution_count": 19,
   "metadata": {},
   "outputs": [],
   "source": [
    "# convert to 30m pixels \n",
    "with arcpy.EnvManager(outputCoordinateSystem=sr, extent=MarineRaster, snapRaster=MarineRaster, cellSize=MarineRaster):\n",
    "        arcpy.conversion.FeatureToRaster(in_features=\"anthroHardbottomBuf.shp\", field=\"raster\", out_raster=\"anthroHardbottomRaster.tif\", cell_size=MarineRaster)"
   ]
  },
  {
   "cell_type": "code",
   "execution_count": 41,
   "metadata": {},
   "outputs": [],
   "source": [
    "# reclassify so that noData is 0 \n",
    "out_raster = arcpy.sa.Reclassify(\"anthroHardBottomRaster.tif\", \"Value\", \"NODATA 0;100 100\", \"DATA\"); out_raster.save(\"anthroHardBottomRasterZ.tif\")"
   ]
  },
  {
   "cell_type": "markdown",
   "metadata": {
    "heading_collapsed": true
   },
   "source": [
    "### Prep BOEM data and NOAA coral observations"
   ]
  },
  {
   "cell_type": "code",
   "execution_count": 11,
   "metadata": {
    "hidden": true
   },
   "outputs": [
    {
     "data": {
      "text/html": [
       "<div class='gpresult'><h2>Messages</h2><div id='messages' data-messages='[\"Start Time: Wednesday, April 12, 2023 3:12:54 PM\",\"Succeeded at Wednesday, April 12, 2023 3:12:55 PM (Elapsed Time: 0.98 seconds)\"]' data-show='true'><div id = 'default' /></div></div>"
      ],
      "text/plain": [
       "<Result 'D:\\\\Blueprint\\\\2023\\\\Indicators\\\\GulfHardbottomHabitat\\\\working\\\\confirmedFeatures.shp'>"
      ]
     },
     "execution_count": 11,
     "metadata": {},
     "output_type": "execute_result"
    }
   ],
   "source": [
    "# Combine BOEM shapefiles for top class\n",
    "arcpy.management.Merge([confirmedPatchReef,anomalyConfirmedOrganisms,anomalyConfirmedCorals,anomalyConfirmedHydrate], \n",
    "                       \"confirmedFeatures.shp\", \"\", \"NO_SOURCE_INFO\")"
   ]
  },
  {
   "cell_type": "code",
   "execution_count": 18,
   "metadata": {
    "hidden": true
   },
   "outputs": [],
   "source": [
    "# Remove the second line from the csv NOAA provides in the download. That second line just \n",
    "# provides addition detail on the headers and doesn't have actual data in it\n",
    "lines = []\n",
    "# read file\n",
    "with open(NOAACoralObs, 'r') as fp:\n",
    "    # read an store all lines into list\n",
    "    lines = fp.readlines()\n",
    "\n",
    "# Write file\n",
    "with open(NOAACoralObsClean, 'w') as fp:\n",
    "    # iterate each line\n",
    "    for number, line in enumerate(lines):\n",
    "        # delete second line, note list index starts from 0\n",
    "        if number not in [1]:\n",
    "            fp.write(line)"
   ]
  },
  {
   "cell_type": "code",
   "execution_count": 19,
   "metadata": {
    "hidden": true
   },
   "outputs": [],
   "source": [
    "# convert NOAA coral observation csv to shapefile\n",
    "with arcpy.EnvManager(outputCoordinateSystem=sr, extent=MarineRaster, snapRaster=MarineRaster, cellSize=MarineRaster):\n",
    "    arcpy.management.XYTableToPoint(NOAACoralObsClean, \"NOAAObs.shp\", \"longitude\", \"latitude\", None, \"GEOGCS['GCS_WGS_1984',DATUM['D_WGS_1984',SPHEROID['WGS_1984',6378137.0,298.257223563]],PRIMEM['Greenwich',0.0],UNIT['Degree',0.0174532925199433]];-400 -400 1000000000;-100000 10000;-100000 10000;8.98315284119521E-09;0.001;0.001;IsHighPrecision\")"
   ]
  },
  {
   "cell_type": "code",
   "execution_count": 20,
   "metadata": {
    "hidden": true
   },
   "outputs": [],
   "source": [
    "# select just priority hard corals from observation. These are based on previous Atlantic work with these data\n",
    "out_raster = arcpy.management.SelectLayerByAttribute(\"NOAAObs.shp\", \"NEW_SELECTION\", \"Vernacular = 'stony coral (branching)' Or Vernacular = 'stony coral (cup coral)' Or Vernacular = 'stony coral (unspecified)' Or Vernacular = 'black coral' Or Vernacular = 'gorgonian coral'\", None)"
   ]
  },
  {
   "cell_type": "code",
   "execution_count": 21,
   "metadata": {
    "hidden": true
   },
   "outputs": [],
   "source": [
    "# Export the shapefile with the species removed\n",
    "out_raster2 = arcpy.conversion.FeatureClassToFeatureClass(out_raster, OutWorkspace, \"NOAAObsSelect.shp\")"
   ]
  },
  {
   "cell_type": "code",
   "execution_count": 22,
   "metadata": {
    "hidden": true
   },
   "outputs": [
    {
     "data": {
      "text/html": [
       "<div class='gpresult'><h2>Messages</h2><div id='messages' data-messages='[\"Start Time: Thursday, June 22, 2023 11:25:06 AM\",\"Succeeded at Thursday, June 22, 2023 11:25:36 AM (Elapsed Time: 29.23 seconds)\"]' data-show='true'><div id = 'default' /></div></div>"
      ],
      "text/plain": [
       "<Result 'D:\\\\Blueprint\\\\2023\\\\Indicators\\\\GulfHardbottomHabitat\\\\working\\\\NOAAObsSelectBuf.shp'>"
      ]
     },
     "execution_count": 22,
     "metadata": {},
     "output_type": "execute_result"
    }
   ],
   "source": [
    "# Buffer corals\n",
    "arcpy.analysis.Buffer(\"NOAAObsSelect.shp\", \"NOAAObsSelectBuf.shp\", \"150 Meters\", \"FULL\", \"ROUND\", \"NONE\", None, \"PLANAR\")"
   ]
  },
  {
   "cell_type": "code",
   "execution_count": 31,
   "metadata": {
    "hidden": true
   },
   "outputs": [
    {
     "data": {
      "text/html": [
       "<div class='gpresult'><h2>Messages</h2><div id='messages' data-messages='[\"Start Time: Friday, June 9, 2023 2:18:04 PM\",\"Succeeded at Friday, June 9, 2023 2:19:13 PM (Elapsed Time: 1 minutes 8 seconds)\"]' data-show='true'><div id = 'default' /></div></div>"
      ],
      "text/plain": [
       "<Result 'D:\\\\Blueprint\\\\2023\\\\Indicators\\\\GulfHardbottomHabitat\\\\working\\\\allConfirmedFeatures.shp'>"
      ]
     },
     "execution_count": 31,
     "metadata": {},
     "output_type": "execute_result"
    }
   ],
   "source": [
    "# Combine BOEM confirmed features and NOAA coral obs\n",
    "arcpy.management.Merge([\"confirmedFeatures.shp\",\"NOAAObsSelectBuf.shp\"], \n",
    "                       \"allConfirmedFeatures.shp\", \"\", \"NO_SOURCE_INFO\")"
   ]
  },
  {
   "cell_type": "code",
   "execution_count": 32,
   "metadata": {
    "hidden": true
   },
   "outputs": [
    {
     "data": {
      "text/html": [
       "<div class='gpresult'><h2>Messages</h2><div id='messages' data-messages='[\"Start Time: Friday, June 9, 2023 2:22:21 PM\",\"Succeeded at Friday, June 9, 2023 2:22:28 PM (Elapsed Time: 6.59 seconds)\"]' data-show='true'><div id = 'default' /></div></div>"
      ],
      "text/plain": [
       "<Result 'D:\\\\Blueprint\\\\2023\\\\Indicators\\\\GulfHardbottomHabitat\\\\working\\\\allConfirmedFeatures.shp'>"
      ]
     },
     "execution_count": 32,
     "metadata": {},
     "output_type": "execute_result"
    }
   ],
   "source": [
    "# add field to convert to raster\n",
    "arcpy.management.CalculateField(\"allConfirmedFeatures.shp\", \"raster\", \"20\", \"PYTHON3\", '', \"SHORT\")"
   ]
  },
  {
   "cell_type": "code",
   "execution_count": 33,
   "metadata": {
    "hidden": true
   },
   "outputs": [],
   "source": [
    "# convert to 30m pixels \n",
    "with arcpy.EnvManager(outputCoordinateSystem=sr, extent=MarineRaster, snapRaster=MarineRaster, cellSize=MarineRaster):\n",
    "        arcpy.conversion.FeatureToRaster(in_features=\"allConfirmedFeatures.shp\", field=\"raster\", out_raster=\"confirmedCoralRaster.tif\", cell_size=MarineRaster)"
   ]
  },
  {
   "cell_type": "code",
   "execution_count": 12,
   "metadata": {
    "hidden": true
   },
   "outputs": [
    {
     "data": {
      "text/html": [
       "<div class='gpresult'><h2>Messages</h2><div id='messages' data-messages='[\"Start Time: Wednesday, April 12, 2023 3:12:56 PM\",\"WARNING 000595: C:\\\\Users\\\\RMORDE~1\\\\AppData\\\\Local\\\\Temp\\\\1\\\\ArcGISProTemp12912\\\\seep_anomaly_confirmed_buried_carbonate1.fid contains the full list of records not able to be processed.\",\"WARNING 001156: Failed on input OID 0, could not write value &#39;seep_anomaly_confirmed_buried_carbonate&#39; to output field FEATURE\",\"WARNING 001156: Failed on input OID 1, could not write value &#39;seep_anomaly_confirmed_buried_carbonate&#39; to output field FEATURE\",\"WARNING 001156: Failed on input OID 2, could not write value &#39;seep_anomaly_confirmed_buried_carbonate&#39; to output field FEATURE\",\"WARNING 001156: Failed on input OID 3, could not write value &#39;seep_anomaly_confirmed_buried_carbonate&#39; to output field FEATURE\",\"WARNING 001156: Failed on input OID 4, could not write value &#39;seep_anomaly_confirmed_buried_carbonate&#39; to output field FEATURE\",\"WARNING 001156: Failed on input OID 5, could not write value &#39;seep_anomaly_confirmed_buried_carbonate&#39; to output field FEATURE\",\"WARNING 001156: Failed on input OID 6, could not write value &#39;seep_anomaly_confirmed_buried_carbonate&#39; to output field FEATURE\",\"WARNING 001156: Failed on input OID 7, could not write value &#39;seep_anomaly_confirmed_buried_carbonate&#39; to output field FEATURE\",\"WARNING 001156: Failed on input OID 8, could not write value &#39;seep_anomaly_confirmed_buried_carbonate&#39; to output field FEATURE\",\"WARNING 001156: Failed on input OID 9, could not write value &#39;seep_anomaly_confirmed_buried_carbonate&#39; to output field FEATURE\",\"WARNING 000595: C:\\\\Users\\\\RMORDE~1\\\\AppData\\\\Local\\\\Temp\\\\1\\\\ArcGISProTemp12912\\\\seep_anomaly_confirmed_carbonate1.fid contains the full list of records not able to be processed.\",\"WARNING 001156: Failed on input OID 0, could not write value &#39;seep_anomaly_confirmed_carbonate&#39; to output field FEATURE\",\"WARNING 001156: Failed on input OID 1, could not write value &#39;seep_anomaly_confirmed_carbonate&#39; to output field FEATURE\",\"WARNING 001156: Failed on input OID 2, could not write value &#39;seep_anomaly_confirmed_carbonate&#39; to output field FEATURE\",\"WARNING 001156: Failed on input OID 3, could not write value &#39;seep_anomaly_confirmed_carbonate&#39; to output field FEATURE\",\"WARNING 001156: Failed on input OID 4, could not write value &#39;seep_anomaly_confirmed_carbonate&#39; to output field FEATURE\",\"WARNING 001156: Failed on input OID 5, could not write value &#39;seep_anomaly_confirmed_carbonate&#39; to output field FEATURE\",\"WARNING 001156: Failed on input OID 6, could not write value &#39;seep_anomaly_confirmed_carbonate&#39; to output field FEATURE\",\"WARNING 001156: Failed on input OID 7, could not write value &#39;seep_anomaly_confirmed_carbonate&#39; to output field FEATURE\",\"WARNING 001156: Failed on input OID 8, could not write value &#39;seep_anomaly_confirmed_carbonate&#39; to output field FEATURE\",\"WARNING 001156: Failed on input OID 9, could not write value &#39;seep_anomaly_confirmed_carbonate&#39; to output field FEATURE\",\"WARNING 000595: C:\\\\Users\\\\RMORDE~1\\\\AppData\\\\Local\\\\Temp\\\\1\\\\ArcGISProTemp12912\\\\seep_anomaly_positives_confirmed_gas1.fid contains the full list of records not able to be processed.\",\"WARNING 001156: Failed on input OID 0, could not write value &#39;seep_anomaly_positives_confirmed_gas&#39; to output field FEATURE\",\"WARNING 001156: Failed on input OID 1, could not write value &#39;seep_anomaly_positives_confirmed_gas&#39; to output field FEATURE\",\"WARNING 001156: Failed on input OID 2, could not write value &#39;seep_anomaly_positives_confirmed_gas&#39; to output field FEATURE\",\"WARNING 001156: Failed on input OID 3, could not write value &#39;seep_anomaly_positives_confirmed_gas&#39; to output field FEATURE\",\"WARNING 001156: Failed on input OID 4, could not write value &#39;seep_anomaly_positives_confirmed_gas&#39; to output field FEATURE\",\"WARNING 001156: Failed on input OID 5, could not write value &#39;seep_anomaly_positives_confirmed_gas&#39; to output field FEATURE\",\"WARNING 001156: Failed on input OID 6, could not write value &#39;seep_anomaly_positives_confirmed_gas&#39; to output field FEATURE\",\"WARNING 001156: Failed on input OID 7, could not write value &#39;seep_anomaly_positives_confirmed_gas&#39; to output field FEATURE\",\"WARNING 001156: Failed on input OID 8, could not write value &#39;seep_anomaly_positives_confirmed_gas&#39; to output field FEATURE\",\"WARNING 001156: Failed on input OID 9, could not write value &#39;seep_anomaly_positives_confirmed_gas&#39; to output field FEATURE\",\"WARNING 000595: C:\\\\Users\\\\RMORDE~1\\\\AppData\\\\Local\\\\Temp\\\\1\\\\ArcGISProTemp12912\\\\seep_anomaly_positives_confirmed_oil1.fid contains the full list of records not able to be processed.\",\"WARNING 001156: Failed on input OID 0, could not write value &#39;seep_anomaly_positives_confirmed_oil&#39; to output field FEATURE\",\"WARNING 001156: Failed on input OID 1, could not write value &#39;seep_anomaly_positives_confirmed_oil&#39; to output field FEATURE\",\"WARNING 001156: Failed on input OID 2, could not write value &#39;seep_anomaly_positives_confirmed_oil&#39; to output field FEATURE\",\"WARNING 001156: Failed on input OID 3, could not write value &#39;seep_anomaly_positives_confirmed_oil&#39; to output field FEATURE\",\"WARNING 001156: Failed on input OID 4, could not write value &#39;seep_anomaly_positives_confirmed_oil&#39; to output field FEATURE\",\"WARNING 001156: Failed on input OID 5, could not write value &#39;seep_anomaly_positives_confirmed_oil&#39; to output field FEATURE\",\"WARNING 001156: Failed on input OID 6, could not write value &#39;seep_anomaly_positives_confirmed_oil&#39; to output field FEATURE\",\"WARNING 001156: Failed on input OID 7, could not write value &#39;seep_anomaly_positives_confirmed_oil&#39; to output field FEATURE\",\"WARNING 001156: Failed on input OID 8, could not write value &#39;seep_anomaly_positives_confirmed_oil&#39; to output field FEATURE\",\"WARNING 001156: Failed on input OID 9, could not write value &#39;seep_anomaly_positives_confirmed_oil&#39; to output field FEATURE\",\"WARNING 000595: C:\\\\Users\\\\RMORDE~1\\\\AppData\\\\Local\\\\Temp\\\\1\\\\ArcGISProTemp12912\\\\seep_anomaly_positives_possible_oil1.fid contains the full list of records not able to be processed.\",\"WARNING 001156: Failed on input OID 0, could not write value &#39;seep_anomaly_positives_possible_oil&#39; to output field FEATURE\",\"WARNING 001156: Failed on input OID 1, could not write value &#39;seep_anomaly_positives_possible_oil&#39; to output field FEATURE\",\"WARNING 001156: Failed on input OID 2, could not write value &#39;seep_anomaly_positives_possible_oil&#39; to output field FEATURE\",\"WARNING 001156: Failed on input OID 3, could not write value &#39;seep_anomaly_positives_possible_oil&#39; to output field FEATURE\",\"WARNING 001156: Failed on input OID 4, could not write value &#39;seep_anomaly_positives_possible_oil&#39; to output field FEATURE\",\"WARNING 001156: Failed on input OID 5, could not write value &#39;seep_anomaly_positives_possible_oil&#39; to output field FEATURE\",\"WARNING 001156: Failed on input OID 6, could not write value &#39;seep_anomaly_positives_possible_oil&#39; to output field FEATURE\",\"WARNING 001156: Failed on input OID 7, could not write value &#39;seep_anomaly_positives_possible_oil&#39; to output field FEATURE\",\"WARNING 001156: Failed on input OID 8, could not write value &#39;seep_anomaly_positives_possible_oil&#39; to output field FEATURE\",\"WARNING 001156: Failed on input OID 9, could not write value &#39;seep_anomaly_positives_possible_oil&#39; to output field FEATURE\",\"Succeeded at Wednesday, April 12, 2023 3:13:04 PM (Elapsed Time: 7.14 seconds)\"]' data-show='true'><div id = 'default' /></div></div>"
      ],
      "text/plain": [
       "<Result 'D:\\\\Blueprint\\\\2023\\\\Indicators\\\\GulfHardbottomHabitat\\\\working\\\\otherBOEMHardbottom.shp'>"
      ]
     },
     "execution_count": 12,
     "metadata": {},
     "output_type": "execute_result"
    }
   ],
   "source": [
    "# Combine BOEM shapefiles for other hardbottom class\n",
    "arcpy.management.Merge([anomalyCretaceous,anomalyPatchReef,anomalyConfirmedBuriedCarbonate,anomalyConfirmedCarbonate,anomalyPositives,anomalyPositivesConfirmedGas,anomalyPositivesConfirmedOil,anomalyPositivesPossibleOil], \n",
    "                       \"otherBOEMHardbottom.shp\", \"\", \"NO_SOURCE_INFO\")"
   ]
  },
  {
   "cell_type": "code",
   "execution_count": 15,
   "metadata": {
    "hidden": true
   },
   "outputs": [
    {
     "data": {
      "text/html": [
       "<div class='gpresult'><h2>Messages</h2><div id='messages' data-messages='[\"Start Time: Thursday, June 8, 2023 2:21:18 PM\",\"Succeeded at Thursday, June 8, 2023 2:21:19 PM (Elapsed Time: 0.55 seconds)\"]' data-show='true'><div id = 'default' /></div></div>"
      ],
      "text/plain": [
       "<Result 'D:\\\\Blueprint\\\\2023\\\\Indicators\\\\GulfHardbottomHabitat\\\\working\\\\otherBOEMHardbottom.shp'>"
      ]
     },
     "execution_count": 15,
     "metadata": {},
     "output_type": "execute_result"
    }
   ],
   "source": [
    "# add fields to convert to raster\n",
    "arcpy.management.CalculateField(\"otherBOEMHardbottom.shp\", \"raster\", \"10\", \"PYTHON3\", '', \"SHORT\")"
   ]
  },
  {
   "cell_type": "code",
   "execution_count": 11,
   "metadata": {
    "hidden": true
   },
   "outputs": [],
   "source": [
    "# convert to 30m pixels \n",
    "with arcpy.EnvManager(outputCoordinateSystem=sr, extent=MarineRaster, snapRaster=MarineRaster, cellSize=MarineRaster):\n",
    "        arcpy.conversion.FeatureToRaster(in_features=\"otherBOEMHardbottom.shp\", field=\"raster\", out_raster=\"otherBOEMHardbottomRaster.tif\", cell_size=MarineRaster)"
   ]
  },
  {
   "cell_type": "code",
   "execution_count": 35,
   "metadata": {
    "hidden": true
   },
   "outputs": [],
   "source": [
    "# reclassify so that noData is 0 \n",
    "out_raster = arcpy.sa.Reclassify(\"confirmedCoralRaster.tif\", \"Value\", \"NODATA 0;20 20\", \"DATA\"); out_raster.save(\"confirmedCoralRasterZ.tif\")"
   ]
  },
  {
   "cell_type": "code",
   "execution_count": 12,
   "metadata": {
    "hidden": true
   },
   "outputs": [],
   "source": [
    "# reclassify so that noData is 0 \n",
    "out_raster = arcpy.sa.Reclassify(\"otherBOEMHardbottomRaster.tif\", \"Value\", \"NODATA 0;10 10\", \"DATA\"); out_raster.save(\"otherBOEMHardbottomRasterZ.tif\")"
   ]
  },
  {
   "cell_type": "markdown",
   "metadata": {
    "heading_collapsed": true
   },
   "source": [
    "### prep sediment data"
   ]
  },
  {
   "cell_type": "code",
   "execution_count": 13,
   "metadata": {
    "hidden": true
   },
   "outputs": [],
   "source": [
    "# convert sediment shapefile to raster\n",
    "with arcpy.EnvManager(outputCoordinateSystem=sr, extent=MarineRaster, snapRaster=MarineRaster, cellSize=MarineRaster):\n",
    "        arcpy.conversion.FeatureToRaster(in_features=sediment, field=\"gom_domnc\", out_raster=\"sedimentRaster.tif\", cell_size=MarineRaster)"
   ]
  },
  {
   "cell_type": "code",
   "execution_count": 13,
   "metadata": {
    "hidden": true
   },
   "outputs": [],
   "source": [
    "# reclassify sediment data so anything with gravel 1, rock is 2, and everything else (including noData) is 0 \n",
    "out_raster = arcpy.sa.Reclassify(\"sedimentRaster.tif\", \"Value\", \"NODATA 0;-99 0;2 30 0;200 300 1;2000 3000 2\", \"DATA\"); out_raster.save(\"SedimentHardbottom.tif\")"
   ]
  },
  {
   "cell_type": "markdown",
   "metadata": {},
   "source": [
    "### combine data sources"
   ]
  },
  {
   "cell_type": "code",
   "execution_count": 21,
   "metadata": {},
   "outputs": [],
   "source": [
    "# Combine rasters for indicator categories\n",
    "output_raster = arcpy.ia.RasterCalculator([\"confirmedCoralRasterZ.tif\", \"OtherBOEMHardbottomRasterZ.tif\",\"SedimentHardbottom.tif\",\"anthroHardBottomRasterZ.tif\",\"coralHAPCRasterZ.tif\"],['a','b','c','d','e'],'a + b + c + d + e'); output_raster.save(\"hardbottomCombined.tif\")"
   ]
  },
  {
   "cell_type": "code",
   "execution_count": 19,
   "metadata": {},
   "outputs": [],
   "source": [
    "# reclassify for indicator classes \n",
    "out_raster = arcpy.sa.Reclassify(\"hardbottomCombined.tif\", \"Value\", \"0 0;1 1;2 2;10 12 4;20 32 6;100 112 5;120 132 6;1000 1002 3;1010 1012 4;1020 1032 6;1100 1112 5;1120 1132 6\", \"DATA\"); out_raster.save(\"indicatorClasses.tif\")"
   ]
  },
  {
   "cell_type": "code",
   "execution_count": 20,
   "metadata": {},
   "outputs": [],
   "source": [
    "# Add in additional zeros to address zero/NoData rules\n",
    "out_raster = arcpy.sa.CellStatistics(\"indicatorClasses.tif;zero.tif\", \"MAXIMUM\", \"DATA\", \"SINGLE_BAND\"); out_raster.save(\"ind.tif\")"
   ]
  },
  {
   "cell_type": "markdown",
   "metadata": {},
   "source": [
    "### Finalize indicator\n",
    "\n"
   ]
  },
  {
   "cell_type": "code",
   "execution_count": 21,
   "metadata": {},
   "outputs": [],
   "source": [
    "# use cell statistics to combine the Marine and base blueprint extent\n",
    "# This will be used to remvoe deep marine areas outside the blueprint\n",
    "with arcpy.EnvManager(outputCoordinateSystem=sr, extent=MarineRaster, snapRaster=MarineRaster, cellSize=MarineRaster):\n",
    "    out_raster = arcpy.sa.CellStatistics([MarineRaster, SERaster], \"MAXIMUM\", \"DATA\", \"SINGLE_BAND\"); out_raster.save(\"FullExtent.tif\")"
   ]
  },
  {
   "cell_type": "code",
   "execution_count": 21,
   "metadata": {},
   "outputs": [],
   "source": [
    "# remove all areas outside the 150km buffer we made above\n",
    "out_raster = arcpy.sa.ExtractByMask(\"ind.tif\", \"Marine_Gulf_v1_Buffer100km.shp\"); out_raster.save(\"indica.tif\")"
   ]
  },
  {
   "cell_type": "code",
   "execution_count": 22,
   "metadata": {},
   "outputs": [],
   "source": [
    "# clip to full extent of base, atlantic, and gulf combined. Also make extent the same as the marine raster so it will work in zonation\n",
    "with arcpy.EnvManager(outputCoordinateSystem=sr, extent=MarineRaster, snapRaster=MarineRaster, cellSize=MarineRaster):\n",
    "    out_raster = arcpy.sa.ExtractByMask(\"indica.tif\", \"FullExtent.tif\"); out_raster.save(IndicatorFileName)"
   ]
  },
  {
   "cell_type": "code",
   "execution_count": 47,
   "metadata": {},
   "outputs": [],
   "source": [
    "# set code block for next step\n",
    "codeblock = \"\"\"\n",
    "def Reclass(value):  \n",
    "    if value == 6:\n",
    "        return '6 = Confirmed hardbottom-associated species (corals, patch reef, chemosynthetic communities, or other organisms)'\n",
    "    elif value == 5:\n",
    "        return '5 = Confirmed human-created hardbottom (shipwrecks, artificial reefs, decommissioned oil and gas platforms)'\n",
    "    elif value == 4:\n",
    "        return '4 = Predicted hardbottom (fine resolution)'\n",
    "    elif value == 3:\n",
    "        return '3 = Coral Habitat Area of Particular Concern (HAPC)'\n",
    "    elif value == 2:\n",
    "        return '2 = Rock (coarse resolution)'\n",
    "    elif value == 1:\n",
    "        return '1 = Gravel (coarse resolution)'    \n",
    "    elif value == 0:\n",
    "        return '0 = Not identified as hardbottom'      \n",
    "\"\"\""
   ]
  },
  {
   "cell_type": "code",
   "execution_count": 48,
   "metadata": {},
   "outputs": [
    {
     "data": {
      "text/html": [
       "<div class='gpresult'><h2>Messages</h2><div id='messages' data-messages='[\"Start Time: Tuesday, September 12, 2023 1:27:18 PM\",\"Succeeded at Tuesday, September 12, 2023 1:27:18 PM (Elapsed Time: 0.28 seconds)\"]' data-show='true'><div id = 'default' /></div></div>"
      ],
      "text/plain": [
       "<Result 'D:\\\\Blueprint\\\\2023\\\\finalIndicatorEdits\\\\ContinentalSoutheastBlueprint2023_FinalIndicators\\\\ContinentalSoutheastBlueprint2023_FinalIndicators\\\\SpatialData\\\\GulfCoralAndHardbottom.tif'>"
      ]
     },
     "execution_count": 48,
     "metadata": {},
     "output_type": "execute_result"
    }
   ],
   "source": [
    "# add and calculate description field to hold indicator values\n",
    "arcpy.management.CalculateField(IndicatorFileName, \"descript\", \"Reclass(!value!)\", \"PYTHON3\", codeblock, \"TEXT\")"
   ]
  },
  {
   "cell_type": "code",
   "execution_count": 49,
   "metadata": {},
   "outputs": [],
   "source": [
    "# set code block for next step\n",
    "codeblock = \"\"\"\n",
    "def Reclass1(Value):\n",
    "\tif Value == 6:\n",
    "\t\treturn 0\n",
    "\tif Value == 5:\n",
    "\t\treturn 31\n",
    "\tif Value == 4:\n",
    "\t\treturn 118\n",
    "\tif Value == 3:\n",
    "\t\treturn 206\n",
    "\tif Value == 2:\n",
    "\t\treturn 255\n",
    "\tif Value == 1:\n",
    "\t\treturn 255\n",
    "\tif Value == 0:\n",
    "\t\treturn 255\n",
    "\telse:\n",
    "\t\treturn 255\n",
    "\t\t\n",
    "def Reclass2(Value):\n",
    "\tif Value == 6:\n",
    "\t\treturn 96\n",
    "\tif Value == 5:\n",
    "\t\treturn 124\n",
    "\tif Value == 4:\n",
    "\t\treturn 139\n",
    "\tif Value == 3:\n",
    "\t\treturn 141\n",
    "\tif Value == 2:\n",
    "\t\treturn 169\n",
    "\tif Value == 1:\n",
    "\t\treturn 202\n",
    "\tif Value == 0:\n",
    "\t\treturn 255\n",
    "\telse:\n",
    "\t\treturn 255\n",
    "\t\t\n",
    "def Reclass3(Value):\n",
    "\tif Value == 6:\n",
    "\t\treturn 166\n",
    "\tif Value == 5:\n",
    "\t\treturn 192\n",
    "\tif Value == 4:\n",
    "\t\treturn 194\n",
    "\tif Value == 3:\n",
    "\t\treturn 160\n",
    "\tif Value == 2:\n",
    "\t\treturn 152\n",
    "\tif Value == 1:\n",
    "\t\treturn 191\n",
    "\tif Value == 0:\n",
    "\t\treturn 255\n",
    "\telse:\n",
    "\t\treturn 255\n",
    "\"\"\""
   ]
  },
  {
   "cell_type": "code",
   "execution_count": 50,
   "metadata": {},
   "outputs": [
    {
     "data": {
      "text/html": [
       "<div class='gpresult'><h2>Messages</h2><div id='messages' data-messages='[\"Start Time: Tuesday, September 12, 2023 1:27:20 PM\",\"Succeeded at Tuesday, September 12, 2023 1:27:20 PM (Elapsed Time: 0.29 seconds)\"]' data-show='true'><div id = 'default' /></div></div>"
      ],
      "text/plain": [
       "<Result 'D:\\\\Blueprint\\\\2023\\\\finalIndicatorEdits\\\\ContinentalSoutheastBlueprint2023_FinalIndicators\\\\ContinentalSoutheastBlueprint2023_FinalIndicators\\\\SpatialData\\\\GulfCoralAndHardbottom.tif'>"
      ]
     },
     "execution_count": 50,
     "metadata": {},
     "output_type": "execute_result"
    }
   ],
   "source": [
    "# calculate Red field\n",
    "arcpy.management.CalculateField(IndicatorFileName, \"Red\", \"Reclass1(!Value!)\", \"PYTHON3\", codeblock, \"SHORT\")\n",
    "# calculate Green field\n",
    "arcpy.management.CalculateField(IndicatorFileName, \"Green\", \"Reclass2(!Value!)\", \"PYTHON3\", codeblock, \"SHORT\")\n",
    "# calculate Blue field\n",
    "arcpy.management.CalculateField(IndicatorFileName, \"Blue\", \"Reclass3(!Value!)\", \"PYTHON3\", codeblock, \"SHORT\")"
   ]
  },
  {
   "cell_type": "code",
   "execution_count": null,
   "metadata": {},
   "outputs": [],
   "source": []
  }
 ],
 "metadata": {
  "kernelspec": {
   "display_name": "ArcGISPro",
   "language": "Python",
   "name": "python3"
  },
  "language_info": {
   "file_extension": ".py",
   "name": "python",
   "version": "3"
  }
 },
 "nbformat": 4,
 "nbformat_minor": 2
}
