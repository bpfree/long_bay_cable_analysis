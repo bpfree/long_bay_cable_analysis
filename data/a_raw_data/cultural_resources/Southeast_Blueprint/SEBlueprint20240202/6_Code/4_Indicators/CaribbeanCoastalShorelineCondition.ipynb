{
 "cells": [
  {
   "cell_type": "markdown",
   "metadata": {},
   "source": [
    "# Caribbean Coastal Shoreline Condition\n",
    "\n",
    "This is a draft indicator for the 2023 Caribbean coastal shoreline condition.\n",
    "\n",
    "Created by Blair Tirpak, modified from Coastal Shoreline Condition 2022, which was adapted from Shoreline Condition for the South Atlantic 2021, created by Amy Keister.\n",
    "Rewritten by BT on Janurary 16, 2023. Updated on July 13, 2023 with new extent. \n",
    "Last run by Blair Tirpak on July 14, 2023\n",
    "Updated Aug 30, 2023 to update colors and dataset name. "
   ]
  },
  {
   "cell_type": "code",
   "execution_count": 1,
   "metadata": {},
   "outputs": [],
   "source": [
    "import arcpy\n",
    "from arcpy import env\n",
    "from arcpy.sa import *"
   ]
  },
  {
   "cell_type": "code",
   "execution_count": 2,
   "metadata": {},
   "outputs": [],
   "source": [
    "# define spatial reference and workspaces\n",
    "sr= arcpy.SpatialReference(5070)\n",
    "#SourceWorkspace= \n",
    "OutWorkspace = r\"C:\\Data\\Indicators\\CARshoreline\\CarShoreline.gdb\""
   ]
  },
  {
   "cell_type": "code",
   "execution_count": 3,
   "metadata": {},
   "outputs": [],
   "source": [
    "# define final indicator outputs\n",
    "VIPRout = r\"C:\\Data\\Indicators\\CARshoreline\\CaribbeanCoastalShorelineCondition.tif\""
   ]
  },
  {
   "cell_type": "code",
   "execution_count": 4,
   "metadata": {},
   "outputs": [],
   "source": [
    "# define rasters used for cell size, extent, and snapping\n",
    "Extent= r\"C:\\Data\\Indicators\\VIPR_Extent_v6.tif\""
   ]
  },
  {
   "cell_type": "code",
   "execution_count": 5,
   "metadata": {},
   "outputs": [],
   "source": [
    "# define inputs\n",
    "PRVI = r\"C:\\Data\\Indicators\\CARshoreline\\Southeast_Caribbean\\Southeast_Caribbean.shp\""
   ]
  },
  {
   "cell_type": "markdown",
   "metadata": {},
   "source": [
    "### Start Analysis"
   ]
  },
  {
   "cell_type": "code",
   "execution_count": 8,
   "metadata": {},
   "outputs": [],
   "source": [
    "# Set the output workspace \n",
    "arcpy.env.workspace = OutWorkspace"
   ]
  },
  {
   "cell_type": "code",
   "execution_count": 9,
   "metadata": {},
   "outputs": [
    {
     "name": "stdout",
     "output_type": "stream",
     "text": [
      "C:\\Data\\Indicators\\CARshoreline\\CarShoreline.gdb\n"
     ]
    }
   ],
   "source": [
    "# Print the current workspace to make sure I'm in the right spot\n",
    "print(arcpy.env.workspace)"
   ]
  },
  {
   "cell_type": "markdown",
   "metadata": {},
   "source": [
    "## Bring in national CUSP Shoreline data"
   ]
  },
  {
   "cell_type": "code",
   "execution_count": 10,
   "metadata": {},
   "outputs": [],
   "source": [
    "# set code block for next step\n",
    "codeblock = \"\"\"\n",
    "def Reclass(ATTRIBUTE):\n",
    "    if \"Natural\" in ATTRIBUTE:\n",
    "        return 1\n",
    "    else:\n",
    "        return 0 \n",
    "\"\"\""
   ]
  },
  {
   "cell_type": "code",
   "execution_count": 11,
   "metadata": {},
   "outputs": [
    {
     "data": {
      "text/html": [
       "<div class='gpresult'><h2>Messages</h2><div id='messages' data-messages='[\"Start Time: Friday, January 27, 2023 9:39:44 AM\",\"Succeeded at Friday, January 27, 2023 9:39:45 AM (Elapsed Time: 1.52 seconds)\"]' data-show='true'><div id = 'default' /></div></div>"
      ],
      "text/plain": [
       "<Result 'PRVI'>"
      ]
     },
     "execution_count": 11,
     "metadata": {},
     "output_type": "execute_result"
    }
   ],
   "source": [
    "# add and calculate description field to hold indicator values\n",
    "arcpy.management.CalculateField(\"PRVI\", \"Shore\", \"Reclass(!ATTRIBUTE!)\", \"PYTHON3\", codeblock, \"SHORT\")"
   ]
  },
  {
   "cell_type": "code",
   "execution_count": 12,
   "metadata": {},
   "outputs": [],
   "source": [
    "# convert to raster using \"Shore\" attribute. \n",
    "with arcpy.EnvManager(outputCoordinateSystem=sr, extent=Extent, snapRaster=Extent, cellSize=Extent):\n",
    "    arcpy.conversion.FeatureToRaster(\"PRVI\", \"Shore\", \"indicator\", Extent)"
   ]
  },
  {
   "cell_type": "markdown",
   "metadata": {},
   "source": [
    "### Finalize indiator\n",
    "\n",
    "do final steps for all indicators to add description fields, clip and export to VIPR extent, clip and export to VIPR extent"
   ]
  },
  {
   "cell_type": "code",
   "execution_count": 10,
   "metadata": {},
   "outputs": [],
   "source": [
    "# set code block for next step\n",
    "codeblock = \"\"\"\n",
    "def Reclass(value):\n",
    "    if value == 1:\n",
    "        return '1 = Natural'\n",
    "    elif value == 0:\n",
    "        return '0 = Armored'  \n",
    "\"\"\""
   ]
  },
  {
   "cell_type": "code",
   "execution_count": 11,
   "metadata": {},
   "outputs": [
    {
     "data": {
      "text/html": [
       "<div class='gpresult'><h2>Messages</h2><div id='messages' data-messages='[\"Start Time: Wednesday, August 30, 2023 6:01:09 AM\",\"Succeeded at Wednesday, August 30, 2023 6:01:11 AM (Elapsed Time: 1.94 seconds)\"]' data-show='true'><div id = 'default' /></div></div>"
      ],
      "text/plain": [
       "<Result 'C:\\\\Data\\\\Indicators\\\\CARshoreline\\\\CarShoreline.gdb\\\\indicator'>"
      ]
     },
     "execution_count": 11,
     "metadata": {},
     "output_type": "execute_result"
    }
   ],
   "source": [
    "# add and calculate description field to hold indicator values\n",
    "arcpy.management.CalculateField(\"indicator\", \"descript\", \"Reclass(!value!)\", \"PYTHON3\", codeblock, \"TEXT\")"
   ]
  },
  {
   "cell_type": "code",
   "execution_count": 12,
   "metadata": {},
   "outputs": [],
   "source": [
    "# set code block for next step\n",
    "codeblock = \"\"\"\n",
    "def Reclass1(Value):\n",
    "\tif Value == 1:\n",
    "\t\treturn 66\n",
    "\telse:\n",
    "\t\treturn 217\n",
    "\t\t\n",
    "def Reclass2(Value):\n",
    "\tif Value == 1:\n",
    "\t\treturn 130\n",
    "\telse:\n",
    "\t\treturn 176\n",
    "\t\t\n",
    "def Reclass3(Value):\n",
    "\tif Value == 1:\n",
    "\t\treturn 0\n",
    "\telse:\n",
    "\t\treturn 152\n",
    "\"\"\""
   ]
  },
  {
   "cell_type": "code",
   "execution_count": 13,
   "metadata": {},
   "outputs": [
    {
     "data": {
      "text/html": [
       "<div class='gpresult'><h2>Messages</h2><div id='messages' data-messages='[\"Start Time: Wednesday, August 30, 2023 6:01:19 AM\",\"Succeeded at Wednesday, August 30, 2023 6:01:21 AM (Elapsed Time: 2.14 seconds)\"]' data-show='true'><div id = 'default' /></div></div>"
      ],
      "text/plain": [
       "<Result 'C:\\\\Data\\\\Indicators\\\\CARshoreline\\\\CarShoreline.gdb\\\\indicator'>"
      ]
     },
     "execution_count": 13,
     "metadata": {},
     "output_type": "execute_result"
    }
   ],
   "source": [
    "# calculate Red field\n",
    "arcpy.management.CalculateField(\"indicator\", \"Red\", \"Reclass1(!Value!)\", \"PYTHON3\", codeblock, \"SHORT\")\n",
    "# calculate Green field\n",
    "arcpy.management.CalculateField(\"indicator\", \"Green\", \"Reclass2(!Value!)\", \"PYTHON3\", codeblock, \"SHORT\")\n",
    "# calculate Blue field\n",
    "arcpy.management.CalculateField(\"indicator\", \"Blue\", \"Reclass3(!Value!)\", \"PYTHON3\", codeblock, \"SHORT\")"
   ]
  },
  {
   "cell_type": "code",
   "execution_count": 14,
   "metadata": {},
   "outputs": [],
   "source": [
    "# FULL EXTENT FILE \n",
    "# export as .tif with VIPR extent\n",
    "with arcpy.EnvManager(outputCoordinateSystem=sr, extent=Extent, snapRaster=Extent, cellSize=Extent):\n",
    "    arcpy.management.CopyRaster(\"indicator\", VIPRout, '', None, \"255\", \"NONE\", \"NONE\", \"8_BIT_UNSIGNED\", \"NONE\", \"NONE\", \"TIFF\", \"NONE\", \"CURRENT_SLICE\", \"NO_TRANSPOSE\")"
   ]
  },
  {
   "cell_type": "code",
   "execution_count": 15,
   "metadata": {
    "scrolled": true
   },
   "outputs": [],
   "source": [
    "# clip to 2023 VIPR Blueprint extent\n",
    "out_raster = arcpy.sa.ExtractByMask(\"indicator\", Extent); out_raster.save(\"SEMask\")"
   ]
  },
  {
   "cell_type": "code",
   "execution_count": 16,
   "metadata": {},
   "outputs": [],
   "source": [
    "# export as .tif with VIPR extent\n",
    "with arcpy.EnvManager(outputCoordinateSystem=sr, extent=Extent, snapRaster=Extent, cellSize=Extent):\n",
    "    arcpy.management.CopyRaster(\"SEMask\", VIPRout, '', None, \"255\", \"NONE\", \"NONE\", \"8_BIT_UNSIGNED\", \"NONE\", \"NONE\", \"TIFF\", \"NONE\", \"CURRENT_SLICE\", \"NO_TRANSPOSE\")"
   ]
  },
  {
   "cell_type": "markdown",
   "metadata": {},
   "source": [
    "# FIN"
   ]
  }
 ],
 "metadata": {
  "kernelspec": {
   "display_name": "ArcGISPro",
   "language": "Python",
   "name": "python3"
  },
  "language_info": {
   "file_extension": ".py",
   "name": "python",
   "version": "3"
  }
 },
 "nbformat": 4,
 "nbformat_minor": 2
}
