{
 "cells": [
  {
   "cell_type": "markdown",
   "metadata": {},
   "source": [
    "# Permeable Surface\n",
    "\n",
    "This indicator was made for the 2022 base blueprint.\n",
    "\n",
    "This notebook takes the NHD Pluse v 2.1 medium resolution catchments and calculates the mean value of the NLCD 2019 impervious surface per catchment.\n",
    "\n",
    "Created by Amy Keister, last run by Amy Keister on 123 February, 2022. It took 53 minutes and 44 seconds to run. "
   ]
  },
  {
   "cell_type": "code",
   "execution_count": 1,
   "metadata": {},
   "outputs": [],
   "source": [
    "import os\n",
    "import arcpy"
   ]
  },
  {
   "cell_type": "code",
   "execution_count": 2,
   "metadata": {},
   "outputs": [],
   "source": [
    "import time\n",
    "start = time.time()"
   ]
  },
  {
   "cell_type": "code",
   "execution_count": 3,
   "metadata": {},
   "outputs": [],
   "source": [
    "# define spatial reference and workspaces\n",
    "sr= arcpy.SpatialReference(5070)\n",
    "#SourceWorkspace= \n",
    "OutWorkspace= r\"E:\\WORKING\\BaseBlueprint\\2022\\3_Indicators\\PermeableSurface\\PermeableSurface.gdb\""
   ]
  },
  {
   "cell_type": "code",
   "execution_count": 4,
   "metadata": {},
   "outputs": [],
   "source": [
    "# define final indicator outputs\n",
    "SEout= r\"E:\\WORKING\\BaseBlueprint\\2022\\3_Indicators\\PermeableSurface\\PermeableSurface.tif\""
   ]
  },
  {
   "cell_type": "code",
   "execution_count": 5,
   "metadata": {},
   "outputs": [],
   "source": [
    "# define sub-indicator outputs to help with user support"
   ]
  },
  {
   "cell_type": "code",
   "execution_count": 11,
   "metadata": {},
   "outputs": [],
   "source": [
    "# define rasters used for cell size, extent, and snapping\n",
    "SEraster= r\"E:\\WORKING\\BaseBlueprint\\2022\\1_SubregionsAndExtent\\BaseBlueprintExtent2022.tif\""
   ]
  },
  {
   "cell_type": "code",
   "execution_count": 12,
   "metadata": {},
   "outputs": [],
   "source": [
    "# define inputs\n",
    "catch= r\"F:\\GIS_DATA\\WaterResources\\NHD\\NHDPlusV21\\NHDPlusV21_Catchment.gdb\\CatchmentSECAS\"\n",
    "imp= r\"F:\\GIS_DATA\\LanduseLandcover\\NLCD\\NLCD_impervious_2019_release_L48_all_files_20210604\\nlcd_2019_impervious_l48_20210604\\nlcd_2019_impervious_l48_20210604.img\""
   ]
  },
  {
   "cell_type": "markdown",
   "metadata": {},
   "source": [
    "### Start Analysis"
   ]
  },
  {
   "cell_type": "code",
   "execution_count": 13,
   "metadata": {},
   "outputs": [],
   "source": [
    "# Set the workspace where I want the output to go\n",
    "arcpy.env.workspace = OutWorkspace"
   ]
  },
  {
   "cell_type": "code",
   "execution_count": 14,
   "metadata": {},
   "outputs": [
    {
     "name": "stdout",
     "output_type": "stream",
     "text": [
      "E:\\WORKING\\BaseBlueprint\\2022\\3_Indicators\\PermeableSurface\\PermeableSurface.gdb\n"
     ]
    }
   ],
   "source": [
    "# Print the current workspace to make sure I'm in the right spot\n",
    "print(arcpy.env.workspace)"
   ]
  },
  {
   "cell_type": "markdown",
   "metadata": {},
   "source": [
    "### Zonal Statistics\n"
   ]
  },
  {
   "cell_type": "code",
   "execution_count": 15,
   "metadata": {},
   "outputs": [],
   "source": [
    "# the NLCD impervous surfaces uses a value of 127 as NODATA. that is throwing off our calculations on the Mexico/US\n",
    "# border. I need to change that 127 to NODATA before the zonal statistics\n",
    "with arcpy.EnvManager(outputCoordinateSystem=sr, extent=SEraster, snapRaster=SEraster, cellSize=SEraster):\n",
    "    out_raster = arcpy.sa.Con(imp, imp, None, \"Value < 101\"); out_raster.save(\"imp2\")\n"
   ]
  },
  {
   "cell_type": "code",
   "execution_count": 16,
   "metadata": {},
   "outputs": [],
   "source": [
    "# calculate mean impervious surface per catchment\n",
    "with arcpy.EnvManager(outputCoordinateSystem=sr, extent=SEraster, snapRaster=SEraster, cellSize=SEraster):\n",
    "    out_raster = arcpy.sa.ZonalStatistics(catch, \"GRIDCODE\", \"imp2\", \"MEAN\", \"DATA\", \"CURRENT_SLICE\", 90); out_raster.save(\"ZStatNHDCatchImpervMean\")"
   ]
  },
  {
   "cell_type": "code",
   "execution_count": 17,
   "metadata": {},
   "outputs": [],
   "source": [
    "# need to take 100 - the percent impervious value so it becomes percent permeable\n",
    "out_raster = arcpy.sa.Minus(100, \"ZStatNHDCatchImpervMean\"); out_raster.save(\"permeable\")"
   ]
  },
  {
   "cell_type": "code",
   "execution_count": 18,
   "metadata": {},
   "outputs": [],
   "source": [
    "# reclassify permeable surface to create binned version\n",
    "\n",
    "# ArcGIS reclass includes the second value in the class for example,\n",
    "# 0 1 is <=1 (1 is included)\n",
    "# 1 5 is >1 - 5 (1 is not included, 5 is included)\n",
    "# 5 20 is >5 - 20 (5 is not included, 20 is included)\n",
    "\n",
    "out_raster = arcpy.sa.Reclassify(\"permeable\", \"VALUE\", \"0 70 1;70 90 2;90 95 3;95 100 4\", \"DATA\"); out_raster.save(\"indicator\")"
   ]
  },
  {
   "cell_type": "markdown",
   "metadata": {},
   "source": [
    "### Finalize indiator\n",
    "\n",
    "do final steps for all indicators to add description fields, clip and export to SE extent, clip and export to SA extent"
   ]
  },
  {
   "cell_type": "code",
   "execution_count": 19,
   "metadata": {},
   "outputs": [],
   "source": [
    "# set code block for next step\n",
    "codeblock = \"\"\"\n",
    "def Reclass(value):\n",
    "    if value == 4:\n",
    "        return '4 = >95% of catchment permeable (likely high water quality and supporting most sensitive aquatic species)'\n",
    "    elif value == 3:\n",
    "        return '3 = >90-95% of catchment permeable (likely declining water quality and supporting most aquatic species)'\n",
    "    elif value == 2:\n",
    "        return '2 = >70-90% of catchment permeable (likely degraded water quality and not supporting many aquatic species)'\n",
    "    elif value == 1:\n",
    "        return '1 = <=70% of catchment permeable (likely degraded instream flow, water quality, and aquatic species communities)'   \n",
    "\"\"\""
   ]
  },
  {
   "cell_type": "code",
   "execution_count": 20,
   "metadata": {},
   "outputs": [
    {
     "data": {
      "text/html": [
       "<h2>Output</h2>E:\\WORKING\\BaseBlueprint\\2022\\3_Indicators\\PermeableSurface\\PermeableSurface.gdb\\indicator<h2>Messages</h2>Start Time: Thursday, March 10, 2022 4:49:12 PM<br/>Adding descript to VAT_indicator...<br/>Succeeded at Thursday, March 10, 2022 4:49:12 PM (Elapsed Time: 0.06 seconds)<br/><style>.rendered_html td, .rendered_html th {text-align: left;}.rendered_html tbody {border: 1px solid black;}</style>"
      ],
      "text/plain": [
       "<Result 'E:\\\\WORKING\\\\BaseBlueprint\\\\2022\\\\3_Indicators\\\\PermeableSurface\\\\PermeableSurface.gdb\\\\indicator'>"
      ]
     },
     "execution_count": 20,
     "metadata": {},
     "output_type": "execute_result"
    }
   ],
   "source": [
    "# add and calculate description field to hold indicator values\n",
    "arcpy.management.CalculateField(\"indicator\", \"descript\", \"Reclass(!value!)\", \"PYTHON3\", codeblock, \"TEXT\")"
   ]
  },
  {
   "cell_type": "code",
   "execution_count": 21,
   "metadata": {},
   "outputs": [],
   "source": [
    "# set code block for next step\n",
    "codeblock = \"\"\"\n",
    "def Reclass1(Value):\n",
    "\tif Value == 4:\n",
    "\t\treturn 0\n",
    "\tif Value == 3:\n",
    "\t\treturn 97\n",
    "\tif Value == 2:\n",
    "\t\treturn 151\n",
    "\tif Value == 1:\n",
    "\t\treturn 204\n",
    "\telse:\n",
    "\t\treturn 255\n",
    "\t\t\n",
    "def Reclass2(Value):\n",
    "\tif Value == 4:\n",
    "\t\treturn 0\n",
    "\tif Value == 3:\n",
    "\t\treturn 69\n",
    "\tif Value == 2:\n",
    "\t\treturn 131\n",
    "\tif Value == 1:\n",
    "\t\treturn 204\n",
    "\telse:\n",
    "\t\treturn 255\n",
    "\t\t\n",
    "def Reclass3(Value):\n",
    "\tif Value == 4:\n",
    "\t\treturn 224\n",
    "\tif Value == 3:\n",
    "\t\treturn 237\n",
    "\tif Value == 2:\n",
    "\t\treturn 247\n",
    "\tif Value == 1:\n",
    "\t\treturn 255\n",
    "\telse:\n",
    "\t\treturn 255\n",
    "\"\"\""
   ]
  },
  {
   "cell_type": "code",
   "execution_count": 22,
   "metadata": {},
   "outputs": [
    {
     "data": {
      "text/html": [
       "<h2>Output</h2>E:\\WORKING\\BaseBlueprint\\2022\\3_Indicators\\PermeableSurface\\PermeableSurface.gdb\\indicator<h2>Messages</h2>Start Time: Thursday, March 10, 2022 4:49:12 PM<br/>Adding Blue to VAT_indicator...<br/>Succeeded at Thursday, March 10, 2022 4:49:12 PM (Elapsed Time: 0.04 seconds)<br/><style>.rendered_html td, .rendered_html th {text-align: left;}.rendered_html tbody {border: 1px solid black;}</style>"
      ],
      "text/plain": [
       "<Result 'E:\\\\WORKING\\\\BaseBlueprint\\\\2022\\\\3_Indicators\\\\PermeableSurface\\\\PermeableSurface.gdb\\\\indicator'>"
      ]
     },
     "execution_count": 22,
     "metadata": {},
     "output_type": "execute_result"
    }
   ],
   "source": [
    "# calculate Red field\n",
    "arcpy.management.CalculateField(\"indicator\", \"Red\", \"Reclass1(!Value!)\", \"PYTHON3\", codeblock, \"SHORT\")\n",
    "# calculate Green field\n",
    "arcpy.management.CalculateField(\"indicator\", \"Green\", \"Reclass2(!Value!)\", \"PYTHON3\", codeblock, \"SHORT\")\n",
    "# calculate Blue field\n",
    "arcpy.management.CalculateField(\"indicator\", \"Blue\", \"Reclass3(!Value!)\", \"PYTHON3\", codeblock, \"SHORT\")"
   ]
  },
  {
   "cell_type": "code",
   "execution_count": 23,
   "metadata": {
    "scrolled": true
   },
   "outputs": [],
   "source": [
    "# clip to SE 2021 Blueprint extent\n",
    "with arcpy.EnvManager(outputCoordinateSystem=sr, extent=SEraster, snapRaster=SEraster, cellSize=SEraster):\n",
    "    out_raster = arcpy.sa.ExtractByMask(\"indicator\", SEraster); out_raster.save(\"SEMask\")"
   ]
  },
  {
   "cell_type": "code",
   "execution_count": 24,
   "metadata": {},
   "outputs": [],
   "source": [
    "# export as .tif with SE extent\n",
    "with arcpy.EnvManager(outputCoordinateSystem=sr, extent=SEraster, snapRaster=SEraster, cellSize=SEraster):\n",
    "    arcpy.management.CopyRaster(\"SEMask\", SEout, '', None, \"255\", \"NONE\", \"NONE\", \"8_BIT_UNSIGNED\", \"NONE\", \"NONE\", \"TIFF\", \"NONE\", \"CURRENT_SLICE\", \"NO_TRANSPOSE\")"
   ]
  },
  {
   "cell_type": "code",
   "execution_count": 25,
   "metadata": {},
   "outputs": [
    {
     "name": "stdout",
     "output_type": "stream",
     "text": [
      "3225.4730026721954\n"
     ]
    }
   ],
   "source": [
    "# this prints the time it took this notebook to run in seconds\n",
    "end = time.time()\n",
    "print(end - start)"
   ]
  },
  {
   "cell_type": "code",
   "execution_count": null,
   "metadata": {},
   "outputs": [],
   "source": []
  }
 ],
 "metadata": {
  "kernelspec": {
   "display_name": "ArcGISPro",
   "language": "Python",
   "name": "python3"
  },
  "language_info": {
   "file_extension": ".py",
   "name": "python",
   "version": "3"
  }
 },
 "nbformat": 4,
 "nbformat_minor": 2
}
