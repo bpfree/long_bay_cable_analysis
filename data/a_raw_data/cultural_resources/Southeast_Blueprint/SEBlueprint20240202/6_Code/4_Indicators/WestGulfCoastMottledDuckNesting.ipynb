{
 "cells": [
  {
   "cell_type": "markdown",
   "metadata": {},
   "source": [
    "# West Gulf Coast Mottled Duck Nesting\n",
    "This is the 2023 update to this 2022 indicator for the 2022 base blueprint. This update includes added a 0 value for the analsyis extent. \n",
    "\n",
    "Created by Blair Tirpak\n",
    "Updated by Blair Tirpak on March 22, 2023\n",
    "Last run by Blair Tirpak on August 29, 2023 - updated color scheme"
   ]
  },
  {
   "cell_type": "code",
   "execution_count": 1,
   "metadata": {},
   "outputs": [],
   "source": [
    "# Import system modules\n",
    "import arcpy\n",
    "from arcpy import env\n",
    "from arcpy.sa import *"
   ]
  },
  {
   "cell_type": "code",
   "execution_count": 2,
   "metadata": {},
   "outputs": [],
   "source": [
    "# define spatial reference and workspaces\n",
    "sr= arcpy.SpatialReference(5070)\n",
    "#SourceWorkspace = \n",
    "env.workspace = r\"E:\\Blueprint-SE\\2023\\MODU\\MODUgrasslands.gdb\"\n",
    "# extent\n",
    "SEraster = r\"E:\\Blueprint-SE\\2023\\MODU\\BaseBlueprintExtent2022.tif\"\n",
    "# snap raster \n",
    "arcpy.env.snapRaster = SEraster\n",
    "arcpy.env.cellSize = SEraster"
   ]
  },
  {
   "cell_type": "code",
   "execution_count": 3,
   "metadata": {},
   "outputs": [],
   "source": [
    "# define inupts\n",
    "grass = r\"E:\\Blueprint-SE\\2023\\MODU\\JV\\MODU.gdb\\CurrentlySuitableNesting\"\n",
    "extent =  r\"E:\\Blueprint-SE\\2023\\MODU\\JV\\MODU_range_byInitiaveArea.shp\""
   ]
  },
  {
   "cell_type": "code",
   "execution_count": 4,
   "metadata": {},
   "outputs": [],
   "source": [
    "# define final outputs\n",
    "SEout = r\"E:\\Blueprint-SE\\2023\\MODU\\WestGulfCoastMottledDuckNesting.tif\""
   ]
  },
  {
   "cell_type": "code",
   "execution_count": 5,
   "metadata": {},
   "outputs": [
    {
     "data": {
      "text/html": [
       "<div class='gpresult'><h2>Messages</h2><div id='messages' data-messages='[\"Start Time: Tuesday, August 29, 2023 4:02:35 PM\",\"Succeeded at Tuesday, August 29, 2023 4:03:54 PM (Elapsed Time: 1 minutes 18 seconds)\"]' data-show='true'><div id = 'default' /></div></div>"
      ],
      "text/plain": [
       "<Result 'E:\\\\Blueprint-SE\\\\2023\\\\MODU\\\\MODUgrasslands.gdb\\\\grassland'>"
      ]
     },
     "execution_count": 5,
     "metadata": {},
     "output_type": "execute_result"
    }
   ],
   "source": [
    "arcpy.management.ProjectRaster(grass, \"grassland\", 'PROJCS[\"NAD_1983_Contiguous_USA_Albers\",GEOGCS[\"GCS_North_American_1983\",DATUM[\"D_North_American_1983\",SPHEROID[\"GRS_1980\",6378137.0,298.257222101]],PRIMEM[\"Greenwich\",0.0],UNIT[\"Degree\",0.0174532925199433]],PROJECTION[\"Albers\"],PARAMETER[\"False_Easting\",0.0],PARAMETER[\"False_Northing\",0.0],PARAMETER[\"Central_Meridian\",-96.0],PARAMETER[\"Standard_Parallel_1\",29.5],PARAMETER[\"Standard_Parallel_2\",45.5],PARAMETER[\"Latitude_Of_Origin\",23.0],UNIT[\"Meter\",1.0]]', \"BILINEAR\", \"30 30\", \"WGS_1984_(ITRF00)_To_NAD_1983\", None, 'PROJCS[\"WGS_1984_UTM_Zone_15N\",GEOGCS[\"GCS_WGS_1984\",DATUM[\"D_WGS_1984\",SPHEROID[\"WGS_1984\",6378137.0,298.257223563]],PRIMEM[\"Greenwich\",0.0],UNIT[\"Degree\",0.0174532925199433]],PROJECTION[\"Transverse_Mercator\"],PARAMETER[\"False_Easting\",500000.0],PARAMETER[\"False_Northing\",0.0],PARAMETER[\"Central_Meridian\",-93.0],PARAMETER[\"Scale_Factor\",0.9996],PARAMETER[\"Latitude_Of_Origin\",0.0],UNIT[\"Meter\",1.0]]', \"NO_VERTICAL\")"
   ]
  },
  {
   "cell_type": "markdown",
   "metadata": {},
   "source": [
    "### Start Analysis"
   ]
  },
  {
   "cell_type": "code",
   "execution_count": 6,
   "metadata": {},
   "outputs": [
    {
     "name": "stdout",
     "output_type": "stream",
     "text": [
      "E:\\Blueprint-SE\\2023\\MODU\\MODUgrasslands.gdb\n"
     ]
    }
   ],
   "source": [
    "# Print the current workspace to make sure I'm in the right spot\n",
    "print(arcpy.env.workspace)"
   ]
  },
  {
   "cell_type": "markdown",
   "metadata": {},
   "source": [
    "## Slice grassland layer into 10 equal area classes. "
   ]
  },
  {
   "cell_type": "code",
   "execution_count": 7,
   "metadata": {},
   "outputs": [],
   "source": [
    "# slice into 10 classes\n",
    "outSlice = Slice(\"grassland\", 10, \"EQUAL_AREA\", 1)\n",
    "outSlice.save(\"MODU_10cl\")"
   ]
  },
  {
   "cell_type": "markdown",
   "metadata": {},
   "source": [
    "## Create extent raster"
   ]
  },
  {
   "cell_type": "code",
   "execution_count": 8,
   "metadata": {},
   "outputs": [
    {
     "data": {
      "text/html": [
       "<div class='gpresult'><h2>Messages</h2><div id='messages' data-messages='[\"Start Time: Friday, May 19, 2023 2:40:09 PM\",\"Dissolving...\",\"Succeeded at Friday, May 19, 2023 2:40:16 PM (Elapsed Time: 6.97 seconds)\"]' data-show='true'><div id = 'default' /></div></div>"
      ],
      "text/plain": [
       "<Result 'E:\\\\Blueprint-SE\\\\2023\\\\MODU\\\\MODUgrasslands.gdb\\\\MODU_range_dis'>"
      ]
     },
     "execution_count": 8,
     "metadata": {},
     "output_type": "execute_result"
    }
   ],
   "source": [
    "# project extent file\n",
    "arcpy.management.Project(extent, \"MODU_range\", 'PROJCS[\"WGS_1984_UTM_Zone_15N\",GEOGCS[\"GCS_WGS_1984\",DATUM[\"D_WGS_1984\",SPHEROID[\"WGS_1984\",6378137.0,298.257223563]],PRIMEM[\"Greenwich\",0.0],UNIT[\"Degree\",0.0174532925199433]],PROJECTION[\"Transverse_Mercator\"],PARAMETER[\"False_Easting\",500000.0],PARAMETER[\"False_Northing\",0.0],PARAMETER[\"Central_Meridian\",-93.0],PARAMETER[\"Scale_Factor\",0.9996],PARAMETER[\"Latitude_Of_Origin\",0.0],UNIT[\"Meter\",1.0]]', None, 'PROJCS[\"WGS_1984_UTM_Zone_15N\",GEOGCS[\"GCS_WGS_1984\",DATUM[\"D_WGS_1984\",SPHEROID[\"WGS_1984\",6378137.0,298.257223563]],PRIMEM[\"Greenwich\",0.0],UNIT[\"Degree\",0.0174532925199433]],PROJECTION[\"Transverse_Mercator\"],PARAMETER[\"False_Easting\",500000.0],PARAMETER[\"False_Northing\",0.0],PARAMETER[\"Central_Meridian\",-93.0],PARAMETER[\"Scale_Factor\",0.9996],PARAMETER[\"Latitude_Of_Origin\",0.0],UNIT[\"Meter\",1.0]]', \"NO_PRESERVE_SHAPE\", None, \"NO_VERTICAL\")\n",
    "# disolve poly    \n",
    "arcpy.analysis.PairwiseDissolve(\"MODU_range\", \"MODU_range_dis\", None, None, \"MULTI_PART\")    "
   ]
  },
  {
   "cell_type": "code",
   "execution_count": 11,
   "metadata": {},
   "outputs": [],
   "source": [
    "with arcpy.EnvManager(outputCoordinateSystem=sr, extent=SEraster, snapRaster=SEraster, cellSize=SEraster):\n",
    "    arcpy.conversion.PolygonToRaster(\"MODU_range_dis\", \"OBJECTID\", \"MODU_range_R\", \"CELL_CENTER\", \"NONE\", r\"E:\\Blueprint-SE\\2022\\2022Indicators\\BBP_extent\\BaseBlueprintExtent2022.tif\", \"BUILD\")"
   ]
  },
  {
   "cell_type": "code",
   "execution_count": 12,
   "metadata": {},
   "outputs": [],
   "source": [
    "remap = RemapValue([[1, 0]])\n",
    "\n",
    "# Execute Reclassify\n",
    "Range0 = Reclassify(\"MODU_range_R\", \"Value\", remap, \"NODATA\")\n",
    "Range0.save(\"Range0\")"
   ]
  },
  {
   "cell_type": "code",
   "execution_count": 22,
   "metadata": {},
   "outputs": [
    {
     "data": {
      "text/html": [
       "<div class='gpresult'><h2>Messages</h2><div id='messages' data-messages='[\"Start Time: Friday, May 19, 2023 3:19:17 PM\",\"MODU_10cl is loading...\",\"Range0 is loading...\",\"Succeeded at Friday, May 19, 2023 3:25:35 PM (Elapsed Time: 6 minutes 18 seconds)\"]' data-show='true'><div id = 'default' /></div></div>"
      ],
      "text/plain": [
       "<Result 'E:\\\\Blueprint-SE\\\\2023\\\\MODU\\\\MODUgrasslands.gdb\\\\MODU_11cl'>"
      ]
     },
     "execution_count": 22,
     "metadata": {},
     "output_type": "execute_result"
    }
   ],
   "source": [
    "arcpy.MosaicToNewRaster_management(\"MODU_10cl;Range0\", env.workspace,\"MODU_11cl\", sr,\\\n",
    "                                   \"8_BIT_UNSIGNED\", 30, 1, \"MAXIMUM\", \"FIRST\")"
   ]
  },
  {
   "cell_type": "code",
   "execution_count": 23,
   "metadata": {},
   "outputs": [],
   "source": [
    "# clip slice to SE 2022 Blueprint extent\n",
    "with arcpy.EnvManager(outputCoordinateSystem=sr, extent=SEraster, snapRaster=SEraster, cellSize=SEraster):\n",
    "    out_raster = arcpy.sa.ExtractByMask(\"MODU_11cl\", SEraster); out_raster.save(\"MODU_11cl_clip\")"
   ]
  },
  {
   "cell_type": "markdown",
   "metadata": {},
   "source": [
    "### Finalize indiator\n",
    "\n",
    "do final steps for all indicators to add description fields, clip and export to SE extent, clip and export to SA extent"
   ]
  },
  {
   "cell_type": "code",
   "execution_count": 11,
   "metadata": {},
   "outputs": [],
   "source": [
    "# set code block for next step\n",
    "\n",
    "codeblock = \"\"\"\n",
    "def Reclass(v):\n",
    "\tif v == 10:\n",
    "\t\treturn '10 = 90th-100th percentile of suitable mottled duck nesting habitat'\n",
    "\telif v == 9:\n",
    "\t\treturn '9 = 80th-90th percentile of suitable mottled duck nesting habitat'\n",
    "\telif v == 8:\n",
    "\t\treturn '8 = 70th-80th percentile of suitable mottled duck nesting habitat'\n",
    "\telif v == 7:\n",
    "\t\treturn '7 = 60th-70th percentile of suitable mottled duck nesting habitat'    \n",
    "\telif v == 6:\n",
    "\t\treturn '6 = 50th-60th percentile of suitable mottled duck nesting habitat' \n",
    "\telif v == 5:\n",
    "\t\treturn '5 = 40th-50th percentile of suitable mottled duck nesting habitat'   \n",
    "\telif v == 4:\n",
    "\t\treturn '4 = 30th–40th percentile of suitable mottled duck nesting habitat'   \n",
    "\telif v == 3:\n",
    "\t\treturn '3 = 20th-30th percentile of suitable mottled duck nesting habitat'   \n",
    "\telif v == 2:\n",
    "\t\treturn '2 = 10th-20th percentile of suitable mottled duck nesting habitat'   \n",
    "\telif v == 1:\n",
    "\t\treturn '1 = 0-10th percentile of suitable mottled duck nesting habitat'   \n",
    "\telif v == 0:\n",
    "\t\treturn '0 = Not identified as suitable mottled duck nesting habitat (within TX and LA)'        \n",
    "\"\"\""
   ]
  },
  {
   "cell_type": "code",
   "execution_count": 12,
   "metadata": {},
   "outputs": [
    {
     "data": {
      "text/html": [
       "<div class='gpresult'><h2>Messages</h2><div id='messages' data-messages='[\"Start Time: Tuesday, May 23, 2023 8:47:38 PM\",\"Succeeded at Tuesday, May 23, 2023 8:47:38 PM (Elapsed Time: 0.07 seconds)\"]' data-show='true'><div id = 'default' /></div></div>"
      ],
      "text/plain": [
       "<Result 'MODU_11cl_clip'>"
      ]
     },
     "execution_count": 12,
     "metadata": {},
     "output_type": "execute_result"
    }
   ],
   "source": [
    "# add and calculate description field to hold indicator values\n",
    "arcpy.management.CalculateField(\"MODU_11cl_clip\", \"descript\", \"Reclass(!Value!)\", \"PYTHON3\", codeblock, \"TEXT\")"
   ]
  },
  {
   "cell_type": "markdown",
   "metadata": {},
   "source": [
    "### Code Color scheme"
   ]
  },
  {
   "cell_type": "code",
   "execution_count": 6,
   "metadata": {},
   "outputs": [],
   "source": [
    "# set code block for next step\n",
    "codeblock = \"\"\"\n",
    "def Reclass1(Value):\n",
    "\tif Value == 10:\n",
    "\t\treturn 128\n",
    "\tif Value == 9:\n",
    "\t\treturn 182\n",
    "\tif Value == 8:\n",
    "\t\treturn 219\n",
    "\tif Value == 7:\n",
    "\t\treturn 244\n",
    "\tif Value == 6:\n",
    "\t\treturn 253\n",
    "\tif Value == 5:\n",
    "\t\treturn 253\n",
    "\tif Value == 4:\n",
    "\t\treturn 254\n",
    "\tif Value == 3:\n",
    "\t\treturn 254\n",
    "\tif Value == 2:\n",
    "\t\treturn 255\n",
    "\tif Value == 1:\n",
    "\t\treturn 255\n",
    "\tif Value == 0:\n",
    "\t\treturn 255      \n",
    "\telse:\n",
    "\t\treturn 255\n",
    "\t\t\n",
    "def Reclass2(Value):\n",
    "\tif Value == 10:\n",
    "\t\treturn 0\n",
    "\tif Value == 9:\n",
    "\t\treturn 0\n",
    "\tif Value == 8:\n",
    "\t\treturn 20\n",
    "\tif Value == 7:\n",
    "\t\treturn 61\n",
    "\tif Value == 6:\n",
    "\t\treturn 113\n",
    "\tif Value == 5:\n",
    "\t\treturn 157\n",
    "\tif Value == 4:\n",
    "\t\treturn 191\n",
    "\tif Value == 3:\n",
    "\t\treturn 221\n",
    "\tif Value == 2:\n",
    "\t\treturn 239\n",
    "\tif Value == 1:\n",
    "\t\treturn 255\n",
    "\tif Value == 0:\n",
    "\t\treturn 255\n",
    "\telse:\n",
    "\t\treturn 255\n",
    "\t\t\n",
    "def Reclass3(Value):\n",
    "\tif Value == 10:\n",
    "\t\treturn 38\n",
    "\tif Value == 9:\n",
    "\t\treturn 38\n",
    "\tif Value == 8:\n",
    "\t\treturn 30\n",
    "\tif Value == 7:\n",
    "\t\treturn 37\n",
    "\tif Value == 6:\n",
    "\t\treturn 52\n",
    "\tif Value == 5:\n",
    "\t\treturn 67\n",
    "\tif Value == 4:\n",
    "\t\treturn 90\n",
    "\tif Value == 3:\n",
    "\t\treturn 127\n",
    "\tif Value == 2:\n",
    "\t\treturn 163\n",
    "\tif Value == 1:\n",
    "\t\treturn 190\n",
    "\tif Value == 0:\n",
    "\t\treturn 255\n",
    "\telse:\n",
    "\t\treturn 255\n",
    "\"\"\""
   ]
  },
  {
   "cell_type": "code",
   "execution_count": 7,
   "metadata": {},
   "outputs": [
    {
     "data": {
      "text/html": [
       "<div class='gpresult'><h2>Messages</h2><div id='messages' data-messages='[\"Start Time: Tuesday, August 29, 2023 4:12:16 PM\",\"Succeeded at Tuesday, August 29, 2023 4:12:17 PM (Elapsed Time: 0.32 seconds)\"]' data-show='true'><div id = 'default' /></div></div>"
      ],
      "text/plain": [
       "<Result 'MODU_11cl_clip'>"
      ]
     },
     "execution_count": 7,
     "metadata": {},
     "output_type": "execute_result"
    }
   ],
   "source": [
    "# calculate Red field\n",
    "arcpy.management.CalculateField(\"MODU_11cl_clip\", \"Red\", \"Reclass1(!Value!)\", \"PYTHON3\", codeblock, \"SHORT\")\n",
    "# calculate Green field\n",
    "arcpy.management.CalculateField(\"MODU_11cl_clip\", \"Green\", \"Reclass2(!Value!)\", \"PYTHON3\", codeblock, \"SHORT\")\n",
    "# calculate Blue field\n",
    "arcpy.management.CalculateField(\"MODU_11cl_clip\", \"Blue\", \"Reclass3(!Value!)\", \"PYTHON3\", codeblock, \"SHORT\")"
   ]
  },
  {
   "cell_type": "code",
   "execution_count": 8,
   "metadata": {},
   "outputs": [],
   "source": [
    "# export as .tif with SE extent\n",
    "with arcpy.EnvManager(outputCoordinateSystem=sr, extent=SEraster, snapRaster=SEraster, cellSize=SEraster):\n",
    "    arcpy.management.CopyRaster(\"MODU_11cl_clip\", SEout, '', None, \"255\", \"NONE\", \"NONE\", \"8_BIT_UNSIGNED\", \"NONE\", \"NONE\", \"TIFF\", \"NONE\", \"CURRENT_SLICE\", \"NO_TRANSPOSE\")"
   ]
  },
  {
   "cell_type": "markdown",
   "metadata": {},
   "source": [
    "## FIN"
   ]
  }
 ],
 "metadata": {
  "kernelspec": {
   "display_name": "ArcGISPro",
   "language": "Python",
   "name": "python3"
  },
  "language_info": {
   "file_extension": ".py",
   "name": "python",
   "version": "3"
  }
 },
 "nbformat": 4,
 "nbformat_minor": 2
}
