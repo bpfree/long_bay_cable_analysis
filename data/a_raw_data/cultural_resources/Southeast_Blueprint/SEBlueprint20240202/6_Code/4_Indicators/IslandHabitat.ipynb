{
 "cells": [
  {
   "cell_type": "markdown",
   "metadata": {},
   "source": [
    "# Island habitat\n",
    "\n",
    "This indicator was used in the Southeast Blueprint 2023. Code written by Rua Mordecai and Amy Keister"
   ]
  },
  {
   "cell_type": "code",
   "execution_count": 11,
   "metadata": {},
   "outputs": [],
   "source": [
    "import os\n",
    "import arcpy"
   ]
  },
  {
   "cell_type": "code",
   "execution_count": 12,
   "metadata": {},
   "outputs": [],
   "source": [
    "# define spatial reference and workspaces\n",
    "sr= arcpy.SpatialReference(5070)\n",
    "OutputWorkspace = r\"D:\\Blueprint\\2023\\finalIndicatorEdits\\ContinentalSoutheastBlueprint2023_FinalIndicators\\ContinentalSoutheastBlueprint2023_FinalIndicators\\SpatialData\""
   ]
  },
  {
   "cell_type": "code",
   "execution_count": 13,
   "metadata": {},
   "outputs": [],
   "source": [
    "# define raster used for cell size, extent, and snapping\n",
    "SERaster= r\"D:\\Blueprint\\2022\\Masks\\finalRegions_extent\\BaseBlueprintExtent2022.tif\""
   ]
  },
  {
   "cell_type": "code",
   "execution_count": 14,
   "metadata": {},
   "outputs": [],
   "source": [
    "# blueprint marine subregion to deal with noData issues\n",
    "MarineRaster= r\"D:\\Blueprint\\2023\\extent\\Marine_Extent_v1.tif\""
   ]
  },
  {
   "cell_type": "code",
   "execution_count": 15,
   "metadata": {},
   "outputs": [],
   "source": [
    "# define island boundary data\n",
    "smallIslands = r\"D:\\Blueprint\\2022\\Indicators\\Islands\\boundaries\\USGSEsriWCMC_GlobalIslandsv2_SmallIslands.shp\"\n",
    "bigIslands = r\"D:\\Blueprint\\2022\\Indicators\\Islands\\boundaries\\USGSEsriWCMC_GlobalIslandsv2_BigIslands.shp\""
   ]
  },
  {
   "cell_type": "code",
   "execution_count": 16,
   "metadata": {},
   "outputs": [],
   "source": [
    "# define critical habitat input data\n",
    "criticalHabitatData= r\"D:\\Blueprint\\2022\\Indicators\\Islands\\crithab_all_layers\\CRITHAB_POLY.shp\""
   ]
  },
  {
   "cell_type": "code",
   "execution_count": 17,
   "metadata": {},
   "outputs": [],
   "source": [
    "# define shapefile to clip island file\n",
    "SEVector = r\"D:\\Blueprint\\2022\\Subregions\\DraftBaseBlueprintSubRgn.shp\""
   ]
  },
  {
   "cell_type": "code",
   "execution_count": 18,
   "metadata": {},
   "outputs": [],
   "source": [
    "indicatorName = \"IslandHabitat.tif\""
   ]
  },
  {
   "cell_type": "markdown",
   "metadata": {},
   "source": [
    "## Start analysis"
   ]
  },
  {
   "cell_type": "code",
   "execution_count": 19,
   "metadata": {},
   "outputs": [],
   "source": [
    "# Change the workspace to where I am saving the outputs\n",
    "arcpy.env.workspace = OutputWorkspace"
   ]
  },
  {
   "cell_type": "code",
   "execution_count": 9,
   "metadata": {},
   "outputs": [
    {
     "data": {
      "text/html": [
       "<h2>Output</h2>D:\\Blueprint\\2022\\Indicators\\Islands\\working\\bigIslands_SE.shp<h2>Messages</h2>Start Time: Friday, June 24, 2022 10:15:12 AM<br/>Reading Features...<br/>Assembling Features...<br/>Cracking Features...<br/>Succeeded at Friday, June 24, 2022 10:16:01 AM (Elapsed Time: 49.08 seconds)<br/><style>.rendered_html td, .rendered_html th {text-align: left;}.rendered_html tbody {border: 1px solid black;}</style>"
      ],
      "text/plain": [
       "<Result 'D:\\\\Blueprint\\\\2022\\\\Indicators\\\\Islands\\\\working\\\\bigIslands_SE.shp'>"
      ]
     },
     "execution_count": 9,
     "metadata": {},
     "output_type": "execute_result"
    }
   ],
   "source": [
    "# Clip islands to Southeast\n",
    "arcpy.analysis.Clip(smallIslands, SEVector, \"smallIslands_SE.shp\", None)\n",
    "arcpy.analysis.Clip(bigIslands, SEVector, \"bigIslands_SE.shp\", None)"
   ]
  },
  {
   "cell_type": "code",
   "execution_count": 10,
   "metadata": {},
   "outputs": [],
   "source": [
    "# Merge big and small islands\n",
    "with arcpy.EnvManager(outputCoordinateSystem=sr):\n",
    "    arcpy.management.Merge(\"bigIslands_SE.shp;smallIslands_SE.shp\", \"AllIslands.shp\")"
   ]
  },
  {
   "cell_type": "code",
   "execution_count": 11,
   "metadata": {},
   "outputs": [],
   "source": [
    "# buffer islands to deal with no data. 40km is based on distance needed to close the gap between islands.\n",
    "# the largest gap is in SE Florida\n",
    "with arcpy.EnvManager(outputCoordinateSystem=sr):\n",
    "    arcpy.analysis.Buffer(\"AllIslands.shp\", \"AllIslandsBuffer40km.shp\", \"40 Kilometers\", \"FULL\", \"ROUND\", \"ALL\", None, \"PLANAR\")"
   ]
  },
  {
   "cell_type": "code",
   "execution_count": 12,
   "metadata": {},
   "outputs": [
    {
     "data": {
      "text/html": [
       "<div class='gpresult'><h2>Messages</h2><div id='messages' data-messages='[\"Start Time: Tuesday, June 27, 2023 7:49:13 AM\",\"Adding raster to AllIslandsBuffer40km...\",\"Succeeded at Tuesday, June 27, 2023 7:49:13 AM (Elapsed Time: 0.15 seconds)\"]' data-show='true'><div id = 'default' /></div></div>"
      ],
      "text/plain": [
       "<Result 'D:\\\\Blueprint\\\\2023\\\\Indicators\\\\Islands\\\\working\\\\AllIslandsBuffer40km.shp'>"
      ]
     },
     "execution_count": 12,
     "metadata": {},
     "output_type": "execute_result"
    }
   ],
   "source": [
    "# add field to convert to raster\n",
    "arcpy.management.CalculateField(\"AllIslandsBuffer40km.shp\", \"raster\", \"0\", \"PYTHON3\", '', \"SHORT\")"
   ]
  },
  {
   "cell_type": "code",
   "execution_count": 13,
   "metadata": {},
   "outputs": [],
   "source": [
    "# convert to 30m pixels \n",
    "with arcpy.EnvManager(outputCoordinateSystem=sr, extent=SERaster, snapRaster=SERaster, cellSize=SERaster):\n",
    "        arcpy.conversion.FeatureToRaster(in_features=\"AllIslandsBuffer40km.shp\", field=\"raster\", out_raster=\"zero.tif\", cell_size=SERaster)"
   ]
  },
  {
   "cell_type": "code",
   "execution_count": 14,
   "metadata": {},
   "outputs": [],
   "source": [
    "# Select critical habitat to use for this indicator\n",
    "out_raster = arcpy.management.SelectLayerByAttribute(criticalHabitatData, \"NEW_SELECTION\", \"comname = 'Piping Plover' Or comname = 'Loggerhead sea turtle' Or comname = 'Cape Sable Thoroughwort' Or comname = 'Florida semaphore Cactus' Or comname = 'Silver rice rat' Or comname = 'Bartrams hairstreak Butterfly'\", None)"
   ]
  },
  {
   "cell_type": "code",
   "execution_count": 15,
   "metadata": {},
   "outputs": [],
   "source": [
    "# Export the shapefile with the species removed\n",
    "with arcpy.EnvManager(outputCoordinateSystem=sr):\n",
    "    out_raster2 = arcpy.conversion.FeatureClassToFeatureClass(out_raster, OutputWorkspace, \"CriticalHabitatReduced.shp\")"
   ]
  },
  {
   "cell_type": "code",
   "execution_count": 16,
   "metadata": {},
   "outputs": [
    {
     "data": {
      "text/html": [
       "<div class='gpresult'><h2>Messages</h2><div id='messages' data-messages='[\"Start Time: Tuesday, June 27, 2023 7:50:31 AM\",\"Reading Features...\",\"Cracking Features...\",\"Assembling Features...\",\"Succeeded at Tuesday, June 27, 2023 8:14:24 AM (Elapsed Time: 23 minutes 52 seconds)\"]' data-show='true'><div id = 'default' /></div></div>"
      ],
      "text/plain": [
       "<Result 'D:\\\\Blueprint\\\\2023\\\\Indicators\\\\Islands\\\\working\\\\CriticalHabitatIslands.shp'>"
      ]
     },
     "execution_count": 16,
     "metadata": {},
     "output_type": "execute_result"
    }
   ],
   "source": [
    "# Clip critical habitat to islands\n",
    "arcpy.analysis.Clip(\"CriticalHabitatReduced.shp\", \"AllIslands.shp\", \"CriticalHabitatIslands.shp\", None)"
   ]
  },
  {
   "cell_type": "code",
   "execution_count": 17,
   "metadata": {},
   "outputs": [
    {
     "data": {
      "text/html": [
       "<div class='gpresult'><h2>Messages</h2><div id='messages' data-messages='[\"Start Time: Tuesday, June 27, 2023 8:14:26 AM\",\"Adding raster to CriticalHabitatIslands...\",\"Succeeded at Tuesday, June 27, 2023 8:14:26 AM (Elapsed Time: 0.14 seconds)\"]' data-show='true'><div id = 'default' /></div></div>"
      ],
      "text/plain": [
       "<Result 'D:\\\\Blueprint\\\\2023\\\\Indicators\\\\Islands\\\\working\\\\CriticalHabitatIslands.shp'>"
      ]
     },
     "execution_count": 17,
     "metadata": {},
     "output_type": "execute_result"
    }
   ],
   "source": [
    "# add a field island critical habitat to convert to raster, give a value of 2\n",
    "arcpy.management.CalculateField(\"CriticalHabitatIslands.shp\", \"raster\", \"2\", \"PYTHON3\", '', \"SHORT\")"
   ]
  },
  {
   "cell_type": "code",
   "execution_count": 18,
   "metadata": {},
   "outputs": [
    {
     "data": {
      "text/html": [
       "<div class='gpresult'><h2>Messages</h2><div id='messages' data-messages='[\"Start Time: Tuesday, June 27, 2023 8:14:26 AM\",\"Adding raster to AllIslands...\",\"Succeeded at Tuesday, June 27, 2023 8:14:27 AM (Elapsed Time: 1.40 seconds)\"]' data-show='true'><div id = 'default' /></div></div>"
      ],
      "text/plain": [
       "<Result 'D:\\\\Blueprint\\\\2023\\\\Indicators\\\\Islands\\\\working\\\\AllIslands.shp'>"
      ]
     },
     "execution_count": 18,
     "metadata": {},
     "output_type": "execute_result"
    }
   ],
   "source": [
    "# add a field to islands to convert to raster\n",
    "arcpy.management.CalculateField(\"AllIslands.shp\", \"raster\", \"1\", \"PYTHON3\", '', \"SHORT\")"
   ]
  },
  {
   "cell_type": "code",
   "execution_count": 19,
   "metadata": {},
   "outputs": [],
   "source": [
    "# convert critical habitat to raster\n",
    "with arcpy.EnvManager(outputCoordinateSystem=sr, extent=SERaster, snapRaster=SERaster, cellSize=SERaster):\n",
    "    arcpy.conversion.FeatureToRaster(in_features=\"CriticalHabitatIslands.shp\", field=\"raster\", out_raster=\"CriticalHabitatIslandsNull.tif\", cell_size=SERaster)"
   ]
  },
  {
   "cell_type": "code",
   "execution_count": 20,
   "metadata": {},
   "outputs": [],
   "source": [
    "# change critical habitat raster so there isn't noData on islands\n",
    "out_raster = arcpy.sa.Con(arcpy.sa.IsNull(\"CriticalHabitatIslandsNull.tif\"),0,\"CriticalHabitatIslandsNull.tif\"); out_raster.save(\"CriticalHabitatIslands.tif\")"
   ]
  },
  {
   "cell_type": "code",
   "execution_count": 14,
   "metadata": {},
   "outputs": [],
   "source": [
    "# convert islands to raster\n",
    "with arcpy.EnvManager(outputCoordinateSystem=sr, extent=SERaster, snapRaster=SERaster, cellSize=SERaster):\n",
    "    arcpy.conversion.FeatureToRaster(in_features=\"AllIslands.shp\", field=\"raster\", out_raster=\"AllIslandsRas.tif\", cell_size=SERaster)"
   ]
  },
  {
   "cell_type": "code",
   "execution_count": 15,
   "metadata": {},
   "outputs": [],
   "source": [
    "# Combine rasters for indicator categories\n",
    "out_raster = arcpy.sa.CellStatistics(\"CriticalHabitatIslands.tif;AllIslandsRas.tif;zero.tif\", \"MAXIMUM\", \"DATA\", \"SINGLE_BAND\"); out_raster.save(\"indic.tif\")"
   ]
  },
  {
   "cell_type": "code",
   "execution_count": 16,
   "metadata": {},
   "outputs": [],
   "source": [
    "# use cell statistics to combine the Marine and base blueprint extent\n",
    "# This will be used to remvoe deep marine areas outside the blueprint\n",
    "with arcpy.EnvManager(outputCoordinateSystem=sr, extent=SERaster, snapRaster=SERaster, cellSize=SERaster):\n",
    "    out_raster = arcpy.sa.CellStatistics([MarineRaster, SERaster], \"MAXIMUM\", \"DATA\", \"SINGLE_BAND\"); out_raster.save(\"FullExtent.tif\")"
   ]
  },
  {
   "cell_type": "code",
   "execution_count": 17,
   "metadata": {},
   "outputs": [],
   "source": [
    "# remove all areas outside the buffer we made above\n",
    "out_raster = arcpy.sa.ExtractByMask(\"indic.tif\", \"AllIslandsBuffer40km.shp\"); out_raster.save(\"indica.tif\")"
   ]
  },
  {
   "cell_type": "code",
   "execution_count": 10,
   "metadata": {},
   "outputs": [],
   "source": [
    "# clip to full extent of base and marine combined. \n",
    "with arcpy.EnvManager(outputCoordinateSystem=sr, extent=SERaster, snapRaster=SERaster, cellSize=SERaster):\n",
    "    out_raster = arcpy.sa.ExtractByMask(\"indica.tif\", \"FullExtent.tif\"); out_raster.save(indicatorName)"
   ]
  },
  {
   "cell_type": "markdown",
   "metadata": {},
   "source": [
    "## Finalize indicator"
   ]
  },
  {
   "cell_type": "code",
   "execution_count": 11,
   "metadata": {},
   "outputs": [],
   "source": [
    "# set code block for next step\n",
    "codeblock = \"\"\"\n",
    "def Reclass(value):\n",
    "    if value == 2:\n",
    "        return \"2 = Island critical habitat for any of six threatened and endangered species (piping plover, loggerhead sea turtle, Cape Sable thoroughwort, Florida semaphore cactus, silver rice rat, or Bartram’s hairstreak butterfly)\"        \n",
    "    elif value == 1:\n",
    "        return '1 = Other island area'\n",
    "    elif value == 0:\n",
    "        return '0 = Not a coastal island'\n",
    "\"\"\""
   ]
  },
  {
   "cell_type": "code",
   "execution_count": 12,
   "metadata": {},
   "outputs": [
    {
     "data": {
      "text/html": [
       "<div class='gpresult'><h2>Messages</h2><div id='messages' data-messages='[\"Start Time: Friday, June 30, 2023 10:30:25 AM\",\"Adding descript to IslandHabitat.tif.vat...\",\"Succeeded at Friday, June 30, 2023 10:30:25 AM (Elapsed Time: 0.08 seconds)\"]' data-show='true'><div id = 'default' /></div></div>"
      ],
      "text/plain": [
       "<Result 'D:\\\\Blueprint\\\\2023\\\\Indicators\\\\Islands\\\\working\\\\IslandHabitat.tif'>"
      ]
     },
     "execution_count": 12,
     "metadata": {},
     "output_type": "execute_result"
    }
   ],
   "source": [
    "# add and calculate description field to hold indicator values\n",
    "arcpy.management.CalculateField(indicatorName, \"descript\", \"Reclass(!value!)\", \"PYTHON3\", codeblock, \"TEXT\")"
   ]
  },
  {
   "cell_type": "code",
   "execution_count": 20,
   "metadata": {},
   "outputs": [],
   "source": [
    "# set code block for next step of adding RGB colors\n",
    "codeblock = \"\"\"\n",
    "def Reclass1(Value):\n",
    "\tif Value == 2:\n",
    "\t\treturn 151\n",
    "\telif Value == 1:\n",
    "\t\treturn 247\n",
    "\telse:\n",
    "\t\treturn 255\n",
    "\t\t\n",
    "def Reclass2(Value):\n",
    "\tif Value == 2:\n",
    "\t\treturn 57\n",
    "\telif Value == 1:\n",
    "\t\treturn 195\n",
    "\telse:\n",
    "\t\treturn 255\n",
    "\t\t\n",
    "def Reclass3(Value):\n",
    "\tif Value == 2:\n",
    "\t\treturn 13\n",
    "\telif Value == 1:\n",
    "\t\treturn 72\n",
    "\telse:\n",
    "\t\treturn 255\n",
    "\t\t\n",
    "\"\"\""
   ]
  },
  {
   "cell_type": "code",
   "execution_count": 21,
   "metadata": {},
   "outputs": [
    {
     "data": {
      "text/html": [
       "<div class='gpresult'><h2>Messages</h2><div id='messages' data-messages='[\"Start Time: Tuesday, September 12, 2023 1:07:09 PM\",\"Succeeded at Tuesday, September 12, 2023 1:07:09 PM (Elapsed Time: 0.16 seconds)\"]' data-show='true'><div id = 'default' /></div></div>"
      ],
      "text/plain": [
       "<Result 'D:\\\\Blueprint\\\\2023\\\\finalIndicatorEdits\\\\ContinentalSoutheastBlueprint2023_FinalIndicators\\\\ContinentalSoutheastBlueprint2023_FinalIndicators\\\\SpatialData\\\\IslandHabitat.tif'>"
      ]
     },
     "execution_count": 21,
     "metadata": {},
     "output_type": "execute_result"
    }
   ],
   "source": [
    "# calculate Red field\n",
    "arcpy.management.CalculateField(indicatorName, \"Red\", \"Reclass1(!Value!)\", \"PYTHON3\", codeblock, \"SHORT\")\n",
    "# calculate Green field\n",
    "arcpy.management.CalculateField(indicatorName, \"Green\", \"Reclass2(!Value!)\", \"PYTHON3\", codeblock, \"SHORT\")\n",
    "# calculate Blue field\n",
    "arcpy.management.CalculateField(indicatorName, \"Blue\", \"Reclass3(!Value!)\", \"PYTHON3\", codeblock, \"SHORT\")"
   ]
  },
  {
   "cell_type": "code",
   "execution_count": null,
   "metadata": {},
   "outputs": [],
   "source": []
  }
 ],
 "metadata": {
  "kernelspec": {
   "display_name": "ArcGISPro",
   "language": "Python",
   "name": "python3"
  },
  "language_info": {
   "file_extension": ".py",
   "name": "python",
   "version": "3"
  }
 },
 "nbformat": 4,
 "nbformat_minor": 2
}
