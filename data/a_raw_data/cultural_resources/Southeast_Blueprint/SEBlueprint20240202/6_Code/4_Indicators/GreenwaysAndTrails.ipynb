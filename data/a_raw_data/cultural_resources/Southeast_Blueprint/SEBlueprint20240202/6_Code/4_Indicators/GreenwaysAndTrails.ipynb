{
 "cells": [
  {
   "cell_type": "markdown",
   "metadata": {},
   "source": [
    "# Greenways and Trails\n",
    "\n",
    "This is an indicator for the 2023 base blueprint.\n",
    "\n",
    "Created by Amy Keister, last run by Amy Keister on 15 September, 2023. It took 6 hours and 44 minutes to run."
   ]
  },
  {
   "cell_type": "code",
   "execution_count": 1,
   "metadata": {},
   "outputs": [],
   "source": [
    "import os\n",
    "import arcpy\n",
    "import numpy"
   ]
  },
  {
   "cell_type": "code",
   "execution_count": 2,
   "metadata": {},
   "outputs": [],
   "source": [
    "import time\n",
    "start = time.time()"
   ]
  },
  {
   "cell_type": "code",
   "execution_count": 3,
   "metadata": {},
   "outputs": [],
   "source": [
    "# define spatial reference and workspaces\n",
    "sr= arcpy.SpatialReference(5070)\n",
    "#SourceWorkspace = \n",
    "OutWorkspace = r\"D:\\SE_Blueprint_2023\\5_Indicators_Tier2_UnClipped\\Greenw\\Greenw.gdb\""
   ]
  },
  {
   "cell_type": "code",
   "execution_count": 4,
   "metadata": {},
   "outputs": [],
   "source": [
    "# define final outputs\n",
    "Out = r\"D:\\SE_Blueprint_2023\\5_Indicators_Tier2_UnClipped\\Greenw\\GreenwaysAndTrails.tif\""
   ]
  },
  {
   "cell_type": "code",
   "execution_count": 5,
   "metadata": {},
   "outputs": [],
   "source": [
    "# define sub-indicator outputs to help with user support"
   ]
  },
  {
   "cell_type": "code",
   "execution_count": 6,
   "metadata": {},
   "outputs": [],
   "source": [
    "# define rasters used for cell size, extent, and snapping\n",
    "Rextent= r\"F:\\GIS_DATA\\SECAS\\SE_Blueprint_2022\\Southeast_Blueprint_2022_Data_Download\\SEBlueprint20221215\\Inputs\\BaseBlueprint\\1_ExtentLayers\\BaseBlueprintExtent2022.tif\""
   ]
  },
  {
   "cell_type": "code",
   "execution_count": 7,
   "metadata": {},
   "outputs": [],
   "source": [
    "# define additional inputs\n",
    "# OpenStreetMap highway IN ('footway', 'cycleway', 'bridleway', 'path')\n",
    "trails= r\"D:\\SE_Blueprint_2023\\5_Indicators_Tier2_UnClipped\\Greenw\\OpenStreetMap20230227\\Greenways.gpkg\\main.NotPrivateTrails\"\n",
    "sw= r\"D:\\SE_Blueprint_2023\\5_Indicators_Tier2_UnClipped\\Greenw\\OpenStreetMap20230227\\Greenways.gpkg\\main.Sidewalks\"\n",
    "# impervious surface\n",
    "imp= r\"F:\\GIS_DATA\\LanduseLandcover\\NLCD\\NLCD_impervious_2019_release_L48_all_files_20210604\\nlcd_2019_impervious_l48_20210604\\nlcd_2019_impervious_l48_20210604.img\""
   ]
  },
  {
   "cell_type": "markdown",
   "metadata": {},
   "source": [
    "### Start Analysis"
   ]
  },
  {
   "cell_type": "code",
   "execution_count": 8,
   "metadata": {},
   "outputs": [],
   "source": [
    "# Change the workspace to where I am saving the outputs\n",
    "arcpy.env.workspace = OutWorkspace"
   ]
  },
  {
   "cell_type": "code",
   "execution_count": 9,
   "metadata": {},
   "outputs": [
    {
     "name": "stdout",
     "output_type": "stream",
     "text": [
      "D:\\SE_Blueprint_2023\\5_Indicators_Tier2_UnClipped\\Greenw\\Greenw.gdb\n"
     ]
    }
   ],
   "source": [
    "# Print the current workspace to make sure I'm in the right spot\n",
    "print(arcpy.env.workspace)"
   ]
  },
  {
   "cell_type": "markdown",
   "metadata": {},
   "source": [
    "### Identify trails that we believe are connected\n",
    "There are gaps in the trails that are due to digitizing errors. If a trail is within 1 meter of another trail, we are assuming this is a digitizing error and not a real gap in the trail."
   ]
  },
  {
   "cell_type": "code",
   "execution_count": 20,
   "metadata": {},
   "outputs": [],
   "source": [
    "# convert all non-private trails to a geodatabase\n",
    "with arcpy.EnvManager(extent=Rextent):\n",
    "    arcpy.management.FeatureToLine(trails, \"NotPrivateTrails\", None, \"ATTRIBUTES\")"
   ]
  },
  {
   "cell_type": "code",
   "execution_count": 21,
   "metadata": {},
   "outputs": [],
   "source": [
    "# reproject trails\n",
    "with arcpy.EnvManager(outputCoordinateSystem=sr):\n",
    "    arcpy.management.CopyFeatures(\"NotPrivateTrails\", \"Trails1\", '', None, None, None)"
   ]
  },
  {
   "cell_type": "code",
   "execution_count": 22,
   "metadata": {},
   "outputs": [],
   "source": [
    "# buffer the trails by 1 meters\n",
    "with arcpy.EnvManager(outputCoordinateSystem=sr):\n",
    "    arcpy.analysis.Buffer(\"Trails1\", \"TrailsBuff\", \"1 Meters\", \"FULL\", \"ROUND\", \"NONE\", [], \"PLANAR\")"
   ]
  },
  {
   "cell_type": "code",
   "execution_count": 23,
   "metadata": {},
   "outputs": [
    {
     "data": {
      "text/html": [
       "<div class='gpresult'><h2>Messages</h2><div id='messages' data-messages='[\"Start Time: Wednesday, June 21, 2023 2:56:46 PM\",\"Dissolving...\",\"Succeeded at Wednesday, June 21, 2023 4:32:16 PM (Elapsed Time: 1 hours 35 minutes 30 seconds)\"]' data-show='true'><div id = 'default' /></div></div>"
      ],
      "text/plain": [
       "<Result 'D:\\\\SE_Blueprint_2023\\\\5_Indicators_Tier2_UnClipped\\\\Greenw\\\\Greenw.gdb\\\\TrailsBuffDis'>"
      ]
     },
     "execution_count": 23,
     "metadata": {},
     "output_type": "execute_result"
    }
   ],
   "source": [
    "# dissolve the buffered trails. Should be able to do this as a part of the function above, but it tends to crash so\n",
    "# I'm doing it seperately\n",
    "arcpy.management.Dissolve(\"TrailsBuff\", \"TrailsBuffDis\", [], [], \"SINGLE_PART\", \"DISSOLVE_LINES\")"
   ]
  },
  {
   "cell_type": "code",
   "execution_count": 24,
   "metadata": {},
   "outputs": [
    {
     "data": {
      "text/html": [
       "<div class='gpresult'><h2>Messages</h2><div id='messages' data-messages='[\"Start Time: Wednesday, June 21, 2023 4:32:17 PM\",\"Adding ID to TrailsBuffDis...\",\"Succeeded at Wednesday, June 21, 2023 4:32:36 PM (Elapsed Time: 18.36 seconds)\"]' data-show='true'><div id = 'default' /></div></div>"
      ],
      "text/plain": [
       "<Result 'D:\\\\SE_Blueprint_2023\\\\5_Indicators_Tier2_UnClipped\\\\Greenw\\\\Greenw.gdb\\\\TrailsBuffDis'>"
      ]
     },
     "execution_count": 24,
     "metadata": {},
     "output_type": "execute_result"
    }
   ],
   "source": [
    "# add and calculate a field to hold unique IDs for the buffered dissolved lines. This will be used to indentify trails\n",
    "# that are connected\n",
    "arcpy.management.CalculateField(\"TrailsBuffDis\", \"ID\", \"!OBJECTID!\", \"PYTHON3\", \"\", \"LONG\")"
   ]
  },
  {
   "cell_type": "code",
   "execution_count": 25,
   "metadata": {},
   "outputs": [],
   "source": [
    "# use a spatial join to attach the unique id from the buffered trails back to the original linework\n",
    "with arcpy.EnvManager(outputCoordinateSystem=sr):\n",
    "    arcpy.analysis.SpatialJoin(\"Trails1\", \"TrailsBuffDis\", \"Trails2\", \"JOIN_ONE_TO_ONE\", \"KEEP_ALL\", \"\", \"INTERSECT\", \"\", \"\")"
   ]
  },
  {
   "cell_type": "code",
   "execution_count": 26,
   "metadata": {},
   "outputs": [
    {
     "data": {
      "text/html": [
       "<div class='gpresult'><h2>Messages</h2><div id='messages' data-messages='[\"Start Time: Wednesday, June 21, 2023 5:53:32 PM\",\"Sorting Attributes...\",\"Dissolving...\",\"Succeeded at Wednesday, June 21, 2023 6:46:43 PM (Elapsed Time: 53 minutes 10 seconds)\"]' data-show='true'><div id = 'default' /></div></div>"
      ],
      "text/plain": [
       "<Result 'D:\\\\SE_Blueprint_2023\\\\5_Indicators_Tier2_UnClipped\\\\Greenw\\\\Greenw.gdb\\\\Trails2Dis'>"
      ]
     },
     "execution_count": 26,
     "metadata": {},
     "output_type": "execute_result"
    }
   ],
   "source": [
    "# dissolve trails to find length of connected trails\n",
    "arcpy.management.Dissolve(\"Trails2\", \"Trails2Dis\", \"ID\", \"\", \"MULTI_PART\", \"DISSOLVE_LINES\")"
   ]
  },
  {
   "cell_type": "code",
   "execution_count": 27,
   "metadata": {},
   "outputs": [
    {
     "data": {
      "text/html": [
       "<div class='gpresult'><h2>Messages</h2><div id='messages' data-messages='[\"Start Time: Wednesday, June 21, 2023 6:46:44 PM\",\"Succeeded at Wednesday, June 21, 2023 6:47:12 PM (Elapsed Time: 28.73 seconds)\"]' data-show='true'><div id = 'default' /></div></div>"
      ],
      "text/plain": [
       "<Result 'D:\\\\SE_Blueprint_2023\\\\5_Indicators_Tier2_UnClipped\\\\Greenw\\\\Greenw.gdb\\\\Trails2Dis'>"
      ]
     },
     "execution_count": 27,
     "metadata": {},
     "output_type": "execute_result"
    }
   ],
   "source": [
    "# add and calculate length field\n",
    "arcpy.management.CalculateGeometryAttributes(\"Trails2Dis\", \"LengthM LENGTH\", \"METERS\", '', sr, \"SAME_AS_INPUT\")"
   ]
  },
  {
   "cell_type": "code",
   "execution_count": 28,
   "metadata": {},
   "outputs": [],
   "source": [
    "# add and calculate length field\n",
    "#arcpy.management.CalculateField(\"Trails2Dis\", \"LengthM\", \"!shape.length@meters!\", \"PYTHON3\", \"\", \"DOUBLE\")"
   ]
  },
  {
   "cell_type": "code",
   "execution_count": 29,
   "metadata": {},
   "outputs": [
    {
     "data": {
      "text/html": [
       "<div class='gpresult'><h2>Messages</h2><div id='messages' data-messages='[\"Start Time: Wednesday, June 21, 2023 6:47:13 PM\",\"Succeeded at Wednesday, June 21, 2023 6:50:21 PM (Elapsed Time: 3 minutes 8 seconds)\"]' data-show='true'><div id = 'default' /></div></div>"
      ],
      "text/plain": [
       "<Result 'D:\\\\SE_Blueprint_2023\\\\5_Indicators_Tier2_UnClipped\\\\Greenw\\\\Greenw.gdb\\\\TrailLength'>"
      ]
     },
     "execution_count": 29,
     "metadata": {},
     "output_type": "execute_result"
    }
   ],
   "source": [
    "# create a raster based on the trail length value\n",
    "arcpy.conversion.PolylineToRaster(\"Trails2Dis\", \"LengthM\", \"TrailLength\", \"MAXIMUM_LENGTH\", \"NONE\", Rextent)"
   ]
  },
  {
   "cell_type": "code",
   "execution_count": 30,
   "metadata": {},
   "outputs": [],
   "source": [
    "# make an ISNull version of the trails length raster. This will be used later if we want to assign 0 to areas that are not trails\n",
    "out_raster = arcpy.sa.IsNull(\"TrailLength\"); out_raster.save(\"TrailLengthIsNull\")"
   ]
  },
  {
   "cell_type": "markdown",
   "metadata": {},
   "source": [
    "### Identify trails with names\n",
    "The data source doesn't distinguish between sidewalks and greenways/trails. To try to make that distinction, we found that in the South Atlantic, lines with names tended to be greenways/trails, while nameless lines tended to be sidewalks bordering roads. This doesn't work as well in other parts of the geography (like Missouri). This also may change over time, even in the South Atlantic, as people continue to update the Open street Map. We need to keep an eye on this. It would be better if the data source distinguished between sidewalks and more nature oriented trails."
   ]
  },
  {
   "cell_type": "code",
   "execution_count": 31,
   "metadata": {},
   "outputs": [],
   "source": [
    "# pull out trails with names\n",
    "#arcpy.analysis.Select(\"Trails2\", \"Trails2Names\", where_clause=\"name <> ''\")"
   ]
  },
  {
   "cell_type": "code",
   "execution_count": 32,
   "metadata": {},
   "outputs": [],
   "source": [
    "# create a raster based on trails with names\n",
    "#arcpy.conversion.PolylineToRaster(\"Trails2Names\", \"Join_Count\", \"TrailWNames\", \"MAXIMUM_LENGTH\", \"NONE\", SEraster)"
   ]
  },
  {
   "cell_type": "code",
   "execution_count": 33,
   "metadata": {},
   "outputs": [],
   "source": [
    "# make an ISNull version of the trails with names\n",
    "#out_raster = arcpy.sa.IsNull(\"TrailWNames\"); out_raster.save(\"TrailWNamesIsNull\")"
   ]
  },
  {
   "cell_type": "markdown",
   "metadata": {},
   "source": [
    "### Perform analysis to calcuate percent impervious near trails\n",
    "\n",
    "Nearby impervious: is defined as the average impervious surface within a 300 m radius circle surrounding the path. HOWEVER along that 300 m stretch of trail, we only count the impervious surface within a 45 m buffer on either side of the trail, since pixels nearer the trail have a bigger impact on the greenway/trail experience. So really this is looking forward and behind a person 300 m as they walk on the trail.\n",
    "\n",
    "Local impervious is defined as the percent impervious surface of the 30 m pixel that intersects the trail. "
   ]
  },
  {
   "cell_type": "code",
   "execution_count": 34,
   "metadata": {},
   "outputs": [
    {
     "data": {
      "text/html": [
       "<div class='gpresult'><h2>Messages</h2><div id='messages' data-messages='[\"Start Time: Wednesday, June 21, 2023 6:54:17 PM\",\"Succeeded at Wednesday, June 21, 2023 8:02:29 PM (Elapsed Time: 1 hours 8 minutes 11 seconds)\"]' data-show='true'><div id = 'default' /></div></div>"
      ],
      "text/plain": [
       "<Result 'D:\\\\SE_Blueprint_2023\\\\5_Indicators_Tier2_UnClipped\\\\Greenw\\\\Greenw.gdb\\\\Trails2Dis_45mbuff'>"
      ]
     },
     "execution_count": 34,
     "metadata": {},
     "output_type": "execute_result"
    }
   ],
   "source": [
    "# buffer all trails\n",
    "arcpy.analysis.Buffer(\"Trails2Dis\", \"Trails2Dis_45mbuff\", \"45 Meters\", \"FULL\", \"ROUND\", \"NONE\", \"\", \"PLANAR\")"
   ]
  },
  {
   "cell_type": "code",
   "execution_count": 35,
   "metadata": {},
   "outputs": [],
   "source": [
    "# extract NLCD within 45 meters around trails\n",
    "with arcpy.EnvManager(outputCoordinateSystem=sr, extent=Rextent, snapRaster=Rextent, cellSize=Rextent):\n",
    "    out_raster = arcpy.sa.ExtractByMask(imp, \"Trails2Dis_45mbuff\"); out_raster.save(\"Imp45\")"
   ]
  },
  {
   "cell_type": "code",
   "execution_count": 36,
   "metadata": {},
   "outputs": [],
   "source": [
    "# use focal statistics to calculate what we are calling \"nearby impervious\"\n",
    "out_raster = arcpy.sa.FocalStatistics(\"Imp45\", \"Circle 10 CELL\", \"MEAN\", \"DATA\"); out_raster.save(\"FocalStat\")"
   ]
  },
  {
   "cell_type": "code",
   "execution_count": 37,
   "metadata": {},
   "outputs": [],
   "source": [
    "# reduce this down again to the pixels that intersect the trails, since those are the only pixels we are scoring\n",
    "out_raster = arcpy.sa.ExtractByMask(\"FocalStat\", \"Trails2Dis\"); out_raster.save(\"ImpNearby\")"
   ]
  },
  {
   "cell_type": "code",
   "execution_count": 38,
   "metadata": {},
   "outputs": [],
   "source": [
    "# extract impervious surfact pixels that intersect trails\n",
    "out_raster = arcpy.sa.ExtractByMask(imp, \"Trails2Dis\"); out_raster.save(\"ImpLocal\")"
   ]
  },
  {
   "cell_type": "code",
   "execution_count": 39,
   "metadata": {},
   "outputs": [],
   "source": [
    "# calculate mean of nearby and local impervous surface\n",
    "out_raster= arcpy.sa.CellStatistics([\"ImpNearby\", \"ImpLocal\"], \"MEAN\", \"DATA\", \"SINGLE_BAND\"); out_raster.save(\"mean\")"
   ]
  },
  {
   "cell_type": "code",
   "execution_count": 40,
   "metadata": {},
   "outputs": [],
   "source": [
    "# use a nested conditional statement to classify the mean of the local and nearby impervious surface\n",
    "out_raster= arcpy.sa.Con(arcpy.Raster(\"mean\") >= 10, 1, arcpy.sa.Con(arcpy.Raster(\"mean\") >1, 2, arcpy.sa.Con(arcpy.Raster(\"mean\") <= 1, 3, 0))); out_raster.save(\"NatDef\")"
   ]
  },
  {
   "cell_type": "markdown",
   "metadata": {},
   "source": [
    "### Give a lower score trails identifed as sidewalks in the openstreetmap data\n",
    "This uses the sidewalk tag from open street map"
   ]
  },
  {
   "cell_type": "code",
   "execution_count": 41,
   "metadata": {},
   "outputs": [],
   "source": [
    "# convert all sidewalks to a geodatabase\n",
    "with arcpy.EnvManager(extent=Rextent):\n",
    "    arcpy.management.FeatureToLine(sw, \"Sidewalks\", None, \"ATTRIBUTES\")"
   ]
  },
  {
   "cell_type": "code",
   "execution_count": 42,
   "metadata": {},
   "outputs": [],
   "source": [
    "# reproject sidewalks\n",
    "with arcpy.EnvManager(outputCoordinateSystem=sr):\n",
    "    arcpy.management.CopyFeatures(\"Sidewalks\", \"Sidewalks1\", '', None, None, None)"
   ]
  },
  {
   "cell_type": "code",
   "execution_count": 43,
   "metadata": {},
   "outputs": [
    {
     "data": {
      "text/html": [
       "<div class='gpresult'><h2>Messages</h2><div id='messages' data-messages='[\"Start Time: Wednesday, June 21, 2023 9:04:19 PM\",\"Adding raster to Sidewalks1...\",\"Succeeded at Wednesday, June 21, 2023 9:04:34 PM (Elapsed Time: 15.18 seconds)\"]' data-show='true'><div id = 'default' /></div></div>"
      ],
      "text/plain": [
       "<Result 'D:\\\\SE_Blueprint_2023\\\\5_Indicators_Tier2_UnClipped\\\\Greenw\\\\Greenw.gdb\\\\Sidewalks1'>"
      ]
     },
     "execution_count": 43,
     "metadata": {},
     "output_type": "execute_result"
    }
   ],
   "source": [
    "# add and calculate a field to use to convert to raster\n",
    "arcpy.management.CalculateField(\"Sidewalks1\", \"raster\", \"1\", \"PYTHON3\", '', \"TEXT\", \"NO_ENFORCE_DOMAINS\")"
   ]
  },
  {
   "cell_type": "code",
   "execution_count": 44,
   "metadata": {},
   "outputs": [],
   "source": [
    "# create a raster from sidewalks\n",
    "with arcpy.EnvManager(outputCoordinateSystem=sr, extent=Rextent, snapRaster=Rextent, cellSize=Rextent):\n",
    "    arcpy.conversion.PolylineToRaster(\"Sidewalks1\", \"raster\", \"SidewalkR\", \"MAXIMUM_LENGTH\", \"NONE\", Rextent)"
   ]
  },
  {
   "cell_type": "code",
   "execution_count": 45,
   "metadata": {},
   "outputs": [],
   "source": [
    "# make an ISNull version of the sidewalks\n",
    "out_raster = arcpy.sa.IsNull(\"SidewalkR\"); out_raster.save(\"SidewalkRIsNull\")"
   ]
  },
  {
   "cell_type": "markdown",
   "metadata": {},
   "source": [
    "### Make legend values"
   ]
  },
  {
   "cell_type": "code",
   "execution_count": 46,
   "metadata": {},
   "outputs": [],
   "source": [
    "# use a nested conditional statement to assign legend values based on the mean impervious and trail length\n",
    "out_raster= arcpy.sa.Con((arcpy.Raster(\"mean\") <= 1) & (arcpy.Raster(\"TrailLength\") >= 40000),7, \\\n",
    "             arcpy.sa.Con(((arcpy.Raster(\"mean\") <= 1) & (arcpy.Raster(\"TrailLength\") >= 5000) | (arcpy.Raster(\"mean\") < 10) & (arcpy.Raster(\"TrailLength\") >= 40000)),6, \\\n",
    "                          arcpy.sa.Con(((arcpy.Raster(\"mean\") <= 1) & (arcpy.Raster(\"TrailLength\") >= 1900) | (arcpy.Raster(\"mean\") < 10) & (arcpy.Raster(\"TrailLength\") >= 5000)|(arcpy.Raster(\"mean\") >= 10) & (arcpy.Raster(\"TrailLength\") >= 40000)),5,\\\n",
    "                                       arcpy.sa.Con(((arcpy.Raster(\"mean\") <= 1) & (arcpy.Raster(\"TrailLength\") < 1900) | (arcpy.Raster(\"mean\") < 10) & (arcpy.Raster(\"TrailLength\") >= 1900)|(arcpy.Raster(\"mean\") >= 10) & (arcpy.Raster(\"TrailLength\") >= 5000)),4,\\\n",
    "                                                    arcpy.sa.Con(((arcpy.Raster(\"mean\") < 10) & (arcpy.Raster(\"TrailLength\") < 1900) | (arcpy.Raster(\"mean\") >= 10) & (arcpy.Raster(\"TrailLength\") >= 1900)),3,\\\n",
    "                                                                 arcpy.sa.Con(((arcpy.Raster(\"mean\") >= 10) & (arcpy.Raster(\"TrailLength\") < 1900)),2,1)))))) \\\n",
    "; out_raster.save(\"Part1\")"
   ]
  },
  {
   "cell_type": "code",
   "execution_count": 47,
   "metadata": {},
   "outputs": [],
   "source": [
    "# Step one of doing zero/NoData Reclassify to make NoData 1, this will let me to a time next\n",
    "with arcpy.EnvManager(outputCoordinateSystem=sr, extent=Rextent, snapRaster=Rextent, cellSize=Rextent):\n",
    "    out_raster = arcpy.sa.Reclassify(\"Part1\", \"Value\", \"NODATA 1;2 2;3 3;4 4;5 5;6 6\", \"DATA\"); out_raster.save(\"Part2\")"
   ]
  },
  {
   "cell_type": "code",
   "execution_count": 48,
   "metadata": {},
   "outputs": [],
   "source": [
    "# give all areas covered by impervious surface raster a 1 and everything else nodata\n",
    "with arcpy.EnvManager(outputCoordinateSystem=sr, extent=Rextent, snapRaster=Rextent, cellSize=Rextent):\n",
    "    #out_raster = arcpy.sa.Con(imp, 1, None, \"OID <> 127\"); out_raster.save(\"map\")\n",
    "    out_raster = arcpy.sa.Reclassify(imp, \"Value\", \"0 100 1;101 127 NODATA\", \"DATA\"); out_raster.save(\"map\")"
   ]
  },
  {
   "cell_type": "code",
   "execution_count": 49,
   "metadata": {},
   "outputs": [],
   "source": [
    "# Step two of doing zero/NoData\n",
    "out_raster= arcpy.sa.Times(\"Part2\", \"map\"); out_raster.save(\"Part3\")"
   ]
  },
  {
   "cell_type": "code",
   "execution_count": 50,
   "metadata": {},
   "outputs": [],
   "source": [
    "# Set three of doing zero/NoData. Reclassify to make zeros\n",
    "out_raster = arcpy.sa.Reclassify(\"Part3\", \"Value\", \"1 0;2 2;3 3;4 4;5 5;6 6\", \"DATA\"); out_raster.save(\"Part4\")"
   ]
  },
  {
   "cell_type": "code",
   "execution_count": 51,
   "metadata": {},
   "outputs": [],
   "source": [
    "# make trails that are tagged as sidewalks a value of 1, regardless of impervious\n",
    "out_raster= arcpy.sa.Con(\"SidewalkRIsNull\", \"Part4\", \"1\", \"Value = 1\"); out_raster.save(\"indicator\")"
   ]
  },
  {
   "cell_type": "markdown",
   "metadata": {},
   "source": [
    "### Finalize indiator\n",
    "\n",
    "do final steps for all indicators to add description fields, clip and export to SE extent"
   ]
  },
  {
   "cell_type": "code",
   "execution_count": 14,
   "metadata": {},
   "outputs": [],
   "source": [
    "# clip to SE 2022 Blueprint extent\n",
    "with arcpy.EnvManager(outputCoordinateSystem=sr, extent=Rextent, snapRaster=Rextent, cellSize=Rextent):\n",
    "    out_raster = arcpy.sa.ExtractByMask(\"indicator\", Rextent); out_raster.save(\"SEMask\")"
   ]
  },
  {
   "cell_type": "code",
   "execution_count": 15,
   "metadata": {},
   "outputs": [],
   "source": [
    "# export as .tif with SE extent\n",
    "with arcpy.EnvManager(outputCoordinateSystem=sr, extent=Rextent, snapRaster=Rextent, cellSize=Rextent):\n",
    "    arcpy.management.CopyRaster(\"SEMask\", Out , '', None, \"255\", \"NONE\", \"NONE\", \"8_BIT_UNSIGNED\", \"NONE\", \"NONE\", \"TIFF\", \"NONE\", \"CURRENT_SLICE\", \"NO_TRANSPOSE\")"
   ]
  },
  {
   "cell_type": "code",
   "execution_count": 1,
   "metadata": {},
   "outputs": [],
   "source": [
    "Out= r\"D:\\SE_Blueprint_2023\\5_IndicatorLegendColorFix\\GreenwaysAndTrails.tif\""
   ]
  },
  {
   "cell_type": "code",
   "execution_count": 2,
   "metadata": {},
   "outputs": [],
   "source": [
    "# set code block for next step\n",
    "\n",
    "codeblock = \"\"\"\n",
    "def Reclass(v):\n",
    "\tif v == 7:\n",
    "\t\treturn '7 = Mostly natural and connected for ≥40 km'\n",
    "\telif v == 6:\n",
    "\t\treturn '6 = Mostly natural and connected for 5 to <40 km or partly natural and connected for ≥40 km'\n",
    "\telif v == 5:\n",
    "\t\treturn '5 = Mostly natural and connected for 1.9 to <5 km, partly natural and connected for 5 to <40 km, or developed and connected for ≥40 km'\n",
    "\telif v == 4:\n",
    "\t\treturn '4 = Mostly natural and connected for <1.9 km, partly natural and connected for 1.9 to <5 km, or developed and connected for 5 to <40 km'\n",
    "\telif v == 3:\n",
    "\t\treturn '3 = Partly natural and connected for <1.9 km or developed and connected for 1.9 to <5 km'\n",
    "\telif v == 2:\n",
    "\t\treturn '2 = Developed and connected for <1.9 km'\n",
    "\telif v == 1:\n",
    "\t\treturn '1 = Sidewalk'\n",
    "\telif v == 0:\n",
    "\t\treturn '0 = Not identified as a trail, sidewalk, or other path'\n",
    "\"\"\""
   ]
  },
  {
   "cell_type": "code",
   "execution_count": 3,
   "metadata": {},
   "outputs": [
    {
     "data": {
      "text/html": [
       "<div class='gpresult'><h2>Messages</h2><div id='messages' data-messages='[\"Start Time: Tuesday, September 19, 2023 5:09:02 PM\",\"Succeeded at Tuesday, September 19, 2023 5:09:02 PM (Elapsed Time: 0.33 seconds)\"]' data-show='true'><div id = 'default' /></div></div>"
      ],
      "text/plain": [
       "<Result 'D:\\\\SE_Blueprint_2023\\\\5_IndicatorLegendColorFix\\\\GreenwaysAndTrails.tif'>"
      ]
     },
     "execution_count": 3,
     "metadata": {},
     "output_type": "execute_result"
    }
   ],
   "source": [
    "# add and calculate description field to hold indicator values\n",
    "arcpy.management.CalculateField(Out, \"descript\", \"Reclass(!Value!)\", \"PYTHON3\", codeblock, \"TEXT\")"
   ]
  },
  {
   "cell_type": "code",
   "execution_count": 12,
   "metadata": {},
   "outputs": [],
   "source": [
    "# set code block for next step\n",
    "codeblock = \"\"\"\n",
    "def Reclass1(Value):\n",
    "\tif Value == 7:\n",
    "\t\treturn 0\n",
    "\tif Value == 6:\n",
    "\t\treturn 105\n",
    "\tif Value == 5:\n",
    "\t\treturn 162\n",
    "\tif Value == 4:\n",
    "\t\treturn 201\n",
    "\tif Value == 3:\n",
    "\t\treturn 225\n",
    "\tif Value == 2:\n",
    "\t\treturn 234\n",
    "\tif Value == 1:\n",
    "\t\treturn 226\n",
    "\telse:\n",
    "\t\treturn 255\n",
    "\t\t\n",
    "def Reclass2(Value):\n",
    "\tif Value == 7:\n",
    "\t\treturn 24\n",
    "\tif Value == 6:\n",
    "\t\treturn 2\n",
    "\tif Value == 5:\n",
    "\t\treturn 17\n",
    "\tif Value == 4:\n",
    "\t\treturn 65\n",
    "\tif Value == 3:\n",
    "\t\treturn 116\n",
    "\tif Value == 2:\n",
    "\t\treturn 169\n",
    "\tif Value == 1:\n",
    "\t\treturn 226\n",
    "\telse:\n",
    "\t\treturn 255\n",
    "\t\t\n",
    "def Reclass3(Value):\n",
    "\tif Value == 7:\n",
    "\t\treturn 137\n",
    "\tif Value == 6:\n",
    "\t\treturn 141\n",
    "\tif Value == 5:\n",
    "\t\treturn 137\n",
    "\tif Value == 4:\n",
    "\t\treturn 118\n",
    "\tif Value == 3:\n",
    "\t\treturn 75\n",
    "\tif Value == 2:\n",
    "\t\treturn 22\n",
    "\tif Value == 1:\n",
    "\t\treturn 38\n",
    "\telse:\n",
    "\t\treturn 255\n",
    "\"\"\""
   ]
  },
  {
   "cell_type": "code",
   "execution_count": 13,
   "metadata": {},
   "outputs": [
    {
     "data": {
      "text/html": [
       "<div class='gpresult'><h2>Messages</h2><div id='messages' data-messages='[\"Start Time: Friday, September 15, 2023 12:06:25 PM\",\"Succeeded at Friday, September 15, 2023 12:06:25 PM (Elapsed Time: 0.17 seconds)\"]' data-show='true'><div id = 'default' /></div></div>"
      ],
      "text/plain": [
       "<Result 'indicator'>"
      ]
     },
     "execution_count": 13,
     "metadata": {},
     "output_type": "execute_result"
    }
   ],
   "source": [
    "# calculate Red field\n",
    "arcpy.management.CalculateField(Out, \"Red\", \"Reclass1(!Value!)\", \"PYTHON3\", codeblock, \"SHORT\")\n",
    "# calculate Green field\n",
    "arcpy.management.CalculateField(Out, \"Green\", \"Reclass2(!Value!)\", \"PYTHON3\", codeblock, \"SHORT\")\n",
    "# calculate Blue field\n",
    "arcpy.management.CalculateField(Out, \"Blue\", \"Reclass3(!Value!)\", \"PYTHON3\", codeblock, \"SHORT\")"
   ]
  },
  {
   "cell_type": "code",
   "execution_count": null,
   "metadata": {},
   "outputs": [],
   "source": [
    "# this prints the time it took this notebook to run in seconds\n",
    "end = time.time()\n",
    "print(end - start)"
   ]
  },
  {
   "cell_type": "code",
   "execution_count": null,
   "metadata": {},
   "outputs": [],
   "source": []
  }
 ],
 "metadata": {
  "kernelspec": {
   "display_name": "ArcGISPro",
   "language": "Python",
   "name": "python3"
  },
  "language_info": {
   "file_extension": ".py",
   "name": "python",
   "version": "3"
  }
 },
 "nbformat": 4,
 "nbformat_minor": 2
}
