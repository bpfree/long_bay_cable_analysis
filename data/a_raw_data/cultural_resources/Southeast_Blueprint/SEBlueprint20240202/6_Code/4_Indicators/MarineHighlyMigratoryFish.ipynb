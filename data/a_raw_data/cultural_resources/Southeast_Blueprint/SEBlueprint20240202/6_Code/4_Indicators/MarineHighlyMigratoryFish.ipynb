{
 "cells": [
  {
   "cell_type": "markdown",
   "metadata": {},
   "source": [
    "# Marine Highly Migratory Fish\n",
    "\n",
    "This indicator was used in the Southeast Blueprint 2023.\n",
    "Code written by Rua Mordecai and Amy Keister"
   ]
  },
  {
   "cell_type": "code",
   "execution_count": 51,
   "metadata": {},
   "outputs": [],
   "source": [
    "import os\n",
    "import arcpy"
   ]
  },
  {
   "cell_type": "code",
   "execution_count": 52,
   "metadata": {},
   "outputs": [],
   "source": [
    "# define spatial reference and workspaces\n",
    "sr= arcpy.SpatialReference(5070)\n",
    "#SourceWorkspace= \n",
    "OutWorkspace = r\"D:\\Blueprint\\2023\\finalIndicatorEdits\\ContinentalSoutheastBlueprint2023_FinalIndicators\\ContinentalSoutheastBlueprint2023_FinalIndicators\\SpatialData\""
   ]
  },
  {
   "cell_type": "code",
   "execution_count": 53,
   "metadata": {},
   "outputs": [],
   "source": [
    "# define final output name\n",
    "IndicatorFileName = \"MarineHighlyMigratoryFish.tif\""
   ]
  },
  {
   "cell_type": "code",
   "execution_count": 54,
   "metadata": {},
   "outputs": [],
   "source": [
    "# define raster used for cell size, extent, and snapping\n",
    "MarineRaster = r\"D:\\Blueprint\\2023\\extent\\Marine_Extent_v1.tif\""
   ]
  },
  {
   "cell_type": "code",
   "execution_count": 55,
   "metadata": {},
   "outputs": [],
   "source": [
    "# zonation outputs for tuna and blue shark\n",
    "tuna = r\"D:\\Blueprint\\2023\\Indicators\\Fish\\zonation\\tuna\\rankmap.tif\"\n",
    "shark = r\"D:\\Blueprint\\2023\\Indicators\\Fish\\zonation\\shark\\rankmap.tif\"\n",
    "# the data in the species folder used an r script to convert netCDF files to rasters with equal dimensions.\n",
    "sharkFolder = r\"D:\\Blueprint\\2023\\Indicators\\Fish\\BlueShark\"\n",
    "# file used to match dimensions in tuna zonation mask\n",
    "exampleFile = r\"D:\\Blueprint\\2023\\Indicators\\Fish\\NOAA_TUNA_OUTPUT\\GMIS_BFT25_FH_01_2015.nc.tiff\"\n",
    "# file used to match dimensions in blue shark zonation mask\n",
    "sharkFile = \"cBLUE_SHARK180-330cm_F_2015_01_Earth_Feeding.tif\""
   ]
  },
  {
   "cell_type": "markdown",
   "metadata": {},
   "source": [
    "### Start analysis"
   ]
  },
  {
   "cell_type": "code",
   "execution_count": 56,
   "metadata": {},
   "outputs": [],
   "source": [
    "# Set the output workspace\n",
    "arcpy.env.workspace = OutWorkspace"
   ]
  },
  {
   "cell_type": "markdown",
   "metadata": {},
   "source": [
    "### Prep blue shark data"
   ]
  },
  {
   "cell_type": "code",
   "execution_count": 48,
   "metadata": {},
   "outputs": [],
   "source": [
    "# Set the workspace to the shark data location\n",
    "arcpy.env.workspace = sharkFolder"
   ]
  },
  {
   "cell_type": "code",
   "execution_count": 49,
   "metadata": {},
   "outputs": [],
   "source": [
    "# make a list of indicators \n",
    "RList = arcpy.ListRasters() "
   ]
  },
  {
   "cell_type": "code",
   "execution_count": 50,
   "metadata": {},
   "outputs": [],
   "source": [
    "# loop through rasters while clipping and reprojecting them\n",
    "for r in RList:\n",
    "    outName = \"c\"+r\n",
    "    with arcpy.EnvManager(outputCoordinateSystem=MarineRaster, extent=MarineRaster, snapRaster=MarineRaster):\n",
    "        arcpy.management.Clip(r, \"\", outName, \"Marine_Extent_v1.tif\", \"1.79e+308\", \"NONE\", \"MAINTAIN_EXTENT\")"
   ]
  },
  {
   "cell_type": "code",
   "execution_count": 37,
   "metadata": {},
   "outputs": [],
   "source": [
    "# copy extent and match cell size of input data\n",
    "with arcpy.EnvManager(outputCoordinateSystem=sharkFile, snapRaster=sharkFile, extent=sharkFile, cellSize=sharkFile, cellAlignment=\"ALIGN_WITH_PROCESSING_EXTENT\"):\n",
    "    arcpy.management.CopyRaster(\"Marine_Extent_v1.tif\", \"sharkMask.tif\", '', None, \"0\", \"NONE\", \"NONE\", '', \"NONE\", \"NONE\", \"TIFF\", \"NONE\", \"CURRENT_SLICE\", \"NO_TRANSPOSE\")"
   ]
  },
  {
   "cell_type": "code",
   "execution_count": 38,
   "metadata": {},
   "outputs": [],
   "source": [
    "with arcpy.EnvManager(outputCoordinateSystem=sharkFile, extent=sharkFile):\n",
    "    arcpy.management.Clip(\"sharkMask.tif\",\"\", \"sharkMask2.tif\", \"\", \"0\", \"NONE\", \"MAINTAIN_EXTENT\")"
   ]
  },
  {
   "cell_type": "markdown",
   "metadata": {},
   "source": [
    "### Prep tuna data"
   ]
  },
  {
   "cell_type": "code",
   "execution_count": null,
   "metadata": {},
   "outputs": [],
   "source": [
    "# Set the output workspace\n",
    "arcpy.env.workspace = OutWorkspace"
   ]
  },
  {
   "cell_type": "code",
   "execution_count": 26,
   "metadata": {},
   "outputs": [],
   "source": [
    "# copy extent and match cell size of input data\n",
    "with arcpy.EnvManager(outputCoordinateSystem=exampleFile, snapRaster=exampleFile, extent=exampleFile, cellSize=exampleFile, cellAlignment=\"ALIGN_WITH_PROCESSING_EXTENT\"):\n",
    "    arcpy.management.CopyRaster(\"Marine_Extent_v1.tif\", \"tunaMask.tif\", '', None, \"0\", \"NONE\", \"NONE\", '', \"NONE\", \"NONE\", \"TIFF\", \"NONE\", \"CURRENT_SLICE\", \"NO_TRANSPOSE\")"
   ]
  },
  {
   "cell_type": "code",
   "execution_count": 10,
   "metadata": {},
   "outputs": [],
   "source": [
    "with arcpy.EnvManager(outputCoordinateSystem=exampleFile, extent=exampleFile):\n",
    "    arcpy.management.Clip(\"tunaMask.tif\",\"\", \"tunaMask2.tif\", \"\", \"0\", \"NONE\", \"MAINTAIN_EXTENT\")"
   ]
  },
  {
   "cell_type": "markdown",
   "metadata": {},
   "source": [
    "### Bring in zonation results"
   ]
  },
  {
   "cell_type": "code",
   "execution_count": 7,
   "metadata": {},
   "outputs": [],
   "source": [
    "# take tuna zonation results times 100\n",
    "out_raster = arcpy.sa.Times(tuna, 100); out_raster.save(\"tuna.tif\")"
   ]
  },
  {
   "cell_type": "code",
   "execution_count": 8,
   "metadata": {},
   "outputs": [],
   "source": [
    "# convert to integer\n",
    "out_raster = arcpy.sa.Int(\"tuna.tif\"); out_raster.save(\"tuna1.tif\")"
   ]
  },
  {
   "cell_type": "code",
   "execution_count": 9,
   "metadata": {},
   "outputs": [],
   "source": [
    "# Reclassify into bins and align with Marine extent. \n",
    "# Combine everything 0.3 and less b/c tuna didn't have enough info in part of the Atlantic to prioritize that bin\n",
    "with arcpy.EnvManager(outputCoordinateSystem=sr, extent=MarineRaster, snapRaster=MarineRaster, cellSize=MarineRaster):\n",
    "    out_raster = arcpy.sa.Reclassify('tuna1.tif', \"Value\", \"0 30 1;31 40 2;41 50 3;51 60 4;61 70 5;71 80 6;81 90 7;91 100 8\", \"DATA\"); out_raster.save(\"tunaBinned.tif\")"
   ]
  },
  {
   "cell_type": "code",
   "execution_count": 10,
   "metadata": {},
   "outputs": [],
   "source": [
    "# take tuna zonation results times 100\n",
    "out_raster = arcpy.sa.Times(shark, 100); out_raster.save(\"shark.tif\")"
   ]
  },
  {
   "cell_type": "code",
   "execution_count": 11,
   "metadata": {},
   "outputs": [],
   "source": [
    "# convert to integer\n",
    "out_raster = arcpy.sa.Int(\"shark.tif\"); out_raster.save(\"shark1.tif\")"
   ]
  },
  {
   "cell_type": "code",
   "execution_count": 12,
   "metadata": {},
   "outputs": [],
   "source": [
    "# Reclassify into bins and align with Marine extent. \n",
    "# Combine everything 0.3 and less b/c tuna didn't have enough info in part of the Atlantic to prioritize that bin\n",
    "with arcpy.EnvManager(outputCoordinateSystem=sr, extent=MarineRaster, snapRaster=MarineRaster, cellSize=MarineRaster):\n",
    "    out_raster = arcpy.sa.Reclassify('shark1.tif', \"Value\", \"0 30 1;31 40 2;41 50 3;51 60 4;61 70 5;71 80 6;81 90 7;91 100 8\", \"DATA\"); out_raster.save(\"sharkBinned.tif\")"
   ]
  },
  {
   "cell_type": "code",
   "execution_count": 20,
   "metadata": {},
   "outputs": [],
   "source": [
    "# combine the two zonation outputs by taking the max value of the two\n",
    "out_raster = arcpy.sa.CellStatistics(\"tunaBinned.tif;sharkBinned.tif\", \"MAXIMUM\", \"NODATA\", \"SINGLE_BAND\", 90, \"AUTO_DETECT\"); out_raster.save(IndicatorFileName)"
   ]
  },
  {
   "cell_type": "markdown",
   "metadata": {},
   "source": [
    "### Finalize indicator\n",
    "\n"
   ]
  },
  {
   "cell_type": "code",
   "execution_count": 57,
   "metadata": {},
   "outputs": [],
   "source": [
    "# set code block for next step\n",
    "codeblock = \"\"\"\n",
    "def Reclass(v):\n",
    "    if v == 8:\n",
    "        return '8 = >90th percentile of importance for bluefin tuna and skipjack tuna or blue shark'\n",
    "    elif v == 7:\n",
    "        return '7 = >80th-90th percentile of importance'  \n",
    "    elif v == 6:\n",
    "        return '6 = >70th-80th percentile of importance'  \n",
    "    elif v == 5:\n",
    "        return '5 = >60th-70th percentile of importance'\n",
    "    elif v == 4:\n",
    "        return '4 = >50th-60th percentile of importance'\n",
    "    elif v == 3:\n",
    "        return '3 = >40th-50th percentile of importance'\n",
    "    elif v == 2:\n",
    "        return '2 = >30th-40th percentile of importance'  \n",
    "    elif v == 1:\n",
    "        return '1 = ≤30th percentile of importance'\n",
    "\"\"\""
   ]
  },
  {
   "cell_type": "code",
   "execution_count": 58,
   "metadata": {},
   "outputs": [
    {
     "data": {
      "text/html": [
       "<div class='gpresult'><h2>Messages</h2><div id='messages' data-messages='[\"Start Time: Tuesday, September 12, 2023 1:39:14 PM\",\"Succeeded at Tuesday, September 12, 2023 1:39:14 PM (Elapsed Time: 0.40 seconds)\"]' data-show='true'><div id = 'default' /></div></div>"
      ],
      "text/plain": [
       "<Result 'D:\\\\Blueprint\\\\2023\\\\finalIndicatorEdits\\\\ContinentalSoutheastBlueprint2023_FinalIndicators\\\\ContinentalSoutheastBlueprint2023_FinalIndicators\\\\SpatialData\\\\MarineHighlyMigratoryFish.tif'>"
      ]
     },
     "execution_count": 58,
     "metadata": {},
     "output_type": "execute_result"
    }
   ],
   "source": [
    "# add and calculate description field to hold indicator values\n",
    "arcpy.management.CalculateField(IndicatorFileName, \"descript\", \"Reclass(!value!)\", \"PYTHON3\", codeblock, \"TEXT\")"
   ]
  },
  {
   "cell_type": "code",
   "execution_count": 59,
   "metadata": {},
   "outputs": [],
   "source": [
    "# set code block for next step\n",
    "codeblock = \"\"\"\n",
    "def Reclass1(Value):\n",
    "\tif Value == 8:\n",
    "\t\treturn 88\n",
    "\tif Value == 7:\n",
    "\t\treturn 128\n",
    "\tif Value == 6:\n",
    "\t\treturn 164\n",
    "\tif Value == 5:\n",
    "\t\treturn 192\n",
    "\tif Value == 4:\n",
    "\t\treturn 214\n",
    "\tif Value == 3:\n",
    "\t\treturn 232\n",
    "\tif Value == 2:\n",
    "\t\treturn 245\n",
    "\tif Value == 1:\n",
    "\t\treturn 248\n",
    "\telse:\n",
    "\t\treturn 255\n",
    "\t\t\n",
    "def Reclass2(Value):\n",
    "\tif Value == 8:\n",
    "\t\treturn 60\n",
    "\tif Value == 7:\n",
    "\t\treturn 70\n",
    "\tif Value == 6:\n",
    "\t\treturn 86\n",
    "\tif Value == 5:\n",
    "\t\treturn 108\n",
    "\tif Value == 4:\n",
    "\t\treturn 133\n",
    "\tif Value == 3:\n",
    "\t\treturn 160\n",
    "\tif Value == 2:\n",
    "\t\treturn 189\n",
    "\tif Value == 1:\n",
    "\t\treturn 220\n",
    "\telse:\n",
    "\t\treturn 255\n",
    "\t\t\n",
    "def Reclass3(Value):\n",
    "\tif Value == 8:\n",
    "\t\treturn 136\n",
    "\tif Value == 7:\n",
    "\t\treturn 154\n",
    "\tif Value == 6:\n",
    "\t\treturn 166\n",
    "\tif Value == 5:\n",
    "\t\treturn 173\n",
    "\tif Value == 4:\n",
    "\t\treturn 178\n",
    "\tif Value == 3:\n",
    "\t\treturn 184\n",
    "\tif Value == 2:\n",
    "\t\treturn 196\n",
    "\tif Value == 1:\n",
    "\t\treturn 217\n",
    "\telse:\n",
    "\t\treturn 255\n",
    "\t\t\n",
    "\"\"\""
   ]
  },
  {
   "cell_type": "code",
   "execution_count": 60,
   "metadata": {},
   "outputs": [
    {
     "data": {
      "text/html": [
       "<div class='gpresult'><h2>Messages</h2><div id='messages' data-messages='[\"Start Time: Tuesday, September 12, 2023 1:39:15 PM\",\"Succeeded at Tuesday, September 12, 2023 1:39:16 PM (Elapsed Time: 0.40 seconds)\"]' data-show='true'><div id = 'default' /></div></div>"
      ],
      "text/plain": [
       "<Result 'D:\\\\Blueprint\\\\2023\\\\finalIndicatorEdits\\\\ContinentalSoutheastBlueprint2023_FinalIndicators\\\\ContinentalSoutheastBlueprint2023_FinalIndicators\\\\SpatialData\\\\MarineHighlyMigratoryFish.tif'>"
      ]
     },
     "execution_count": 60,
     "metadata": {},
     "output_type": "execute_result"
    }
   ],
   "source": [
    "# calculate Red field\n",
    "arcpy.management.CalculateField(IndicatorFileName, \"Red\", \"Reclass1(!Value!)\", \"PYTHON3\", codeblock, \"SHORT\")\n",
    "# calculate Green field\n",
    "arcpy.management.CalculateField(IndicatorFileName, \"Green\", \"Reclass2(!Value!)\", \"PYTHON3\", codeblock, \"SHORT\")\n",
    "# calculate Blue field\n",
    "arcpy.management.CalculateField(IndicatorFileName, \"Blue\", \"Reclass3(!Value!)\", \"PYTHON3\", codeblock, \"SHORT\")"
   ]
  },
  {
   "cell_type": "code",
   "execution_count": null,
   "metadata": {},
   "outputs": [],
   "source": []
  }
 ],
 "metadata": {
  "kernelspec": {
   "display_name": "ArcGISPro",
   "language": "Python",
   "name": "python3"
  },
  "language_info": {
   "file_extension": ".py",
   "name": "python",
   "version": "3"
  }
 },
 "nbformat": 4,
 "nbformat_minor": 2
}
