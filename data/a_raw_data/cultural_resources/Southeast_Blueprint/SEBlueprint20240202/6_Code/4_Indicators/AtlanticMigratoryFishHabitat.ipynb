{
 "cells": [
  {
   "cell_type": "markdown",
   "metadata": {},
   "source": [
    "# Atlantic Migratory Fish Habitat Priority\n",
    "\n",
    "This indicator was used in 2022 Base Blueprint.\n",
    "\n",
    "It was modified from the 2021 SA indicator by change the extent to cover a larger area\n",
    "\n",
    "Created by Amy Keister, last run by Amy Keister 23 February, 2022\n"
   ]
  },
  {
   "cell_type": "code",
   "execution_count": 6,
   "metadata": {},
   "outputs": [],
   "source": [
    "import os\n",
    "import arcpy"
   ]
  },
  {
   "cell_type": "code",
   "execution_count": null,
   "metadata": {},
   "outputs": [],
   "source": [
    "import time\n",
    "start = time.time()"
   ]
  },
  {
   "cell_type": "code",
   "execution_count": 7,
   "metadata": {},
   "outputs": [],
   "source": [
    "# define spatial reference and workspaces\n",
    "sr = arcpy.SpatialReference(5070)\n",
    "#SourceWorkspace = \n",
    "OutWorkspace = r\"E:\\WORKING\\BaseBlueprint\\2022\\3_Indicators\\AtlanticMigratoryFishHabitat\\AtlanticMigratoryFishHabitat.gdb\""
   ]
  },
  {
   "cell_type": "code",
   "execution_count": 8,
   "metadata": {},
   "outputs": [],
   "source": [
    "# define final indicator outputs\n",
    "SEout = r\"E:\\WORKING\\BaseBlueprint\\2022\\3_Indicators\\AtlanticMigratoryFishHabitat.tif\""
   ]
  },
  {
   "cell_type": "code",
   "execution_count": 9,
   "metadata": {},
   "outputs": [],
   "source": [
    "# define rasters used for cell size, extent, and snapping\n",
    "SEraster= r\"E:\\WORKING\\BaseBlueprint\\2022\\2_Subregions\\BaseBlueprintExtent2022.tif\""
   ]
  },
  {
   "cell_type": "code",
   "execution_count": 10,
   "metadata": {},
   "outputs": [],
   "source": [
    "# define inputs\n",
    "# species layers from the SEACAP project\n",
    "sa= r\"F:\\GIS_DATA\\DecisionSupportTools\\ACFHP_FishHabitatConservationAreaMapping\\South Atlantic Diadromous Analysis\\data\\v101\\diadromous_northern_results.gdb\\Northern_Diadromous_Catchments_Corrected_05302019\"\n",
    "ma= r\"F:\\GIS_DATA\\DecisionSupportTools\\ACFHP_FishHabitatConservationAreaMapping\\Mid-Atlantic Diadromous Analysis\\data\\v101\\finallayers.gdb\\catchments_Mid_Atlantic\"\n",
    "# EPA floodplain\n",
    "FP= r\"F:\\GIS_DATA\\WaterResources\\Estimated_floodplain_CONUS\\Estimated_floodplain_CONUS.tif\""
   ]
  },
  {
   "cell_type": "markdown",
   "metadata": {},
   "source": [
    "## Start Analysis"
   ]
  },
  {
   "cell_type": "code",
   "execution_count": 6,
   "metadata": {},
   "outputs": [],
   "source": [
    "# Set the workspace where I want the output to go\n",
    "arcpy.env.workspace = OutWorkspace"
   ]
  },
  {
   "cell_type": "code",
   "execution_count": 7,
   "metadata": {},
   "outputs": [
    {
     "name": "stdout",
     "output_type": "stream",
     "text": [
      "E:\\WORKING\\BaseBlueprint\\2022\\3_Indicators\\AtlanticMigratoryFishHabitat\\AtlanticMigratoryFishHabitat.gdb\n"
     ]
    }
   ],
   "source": [
    "print(arcpy.env.workspace)"
   ]
  },
  {
   "cell_type": "markdown",
   "metadata": {},
   "source": [
    "### bring in ACFHP data"
   ]
  },
  {
   "cell_type": "code",
   "execution_count": 8,
   "metadata": {},
   "outputs": [],
   "source": [
    "# make a copy of the south atlantic layer for edits\n",
    "with arcpy.EnvManager(outputCoordinateSystem=sr):\n",
    "    arcpy.management.CopyFeatures(sa, \"sa\", '', None, None, None)"
   ]
  },
  {
   "cell_type": "code",
   "execution_count": 9,
   "metadata": {},
   "outputs": [],
   "source": [
    "# convert to raster\n",
    "with arcpy.EnvManager(outputCoordinateSystem=sr, snapRaster=SEraster):\n",
    "    arcpy.conversion.FeatureToRaster(in_features=\"sa\", field=\"FINALSCORE\", out_raster=\"saR\", cell_size=SEraster)"
   ]
  },
  {
   "cell_type": "code",
   "execution_count": 10,
   "metadata": {},
   "outputs": [],
   "source": [
    "# make a copy of the mid atlantic layer for edits\n",
    "with arcpy.EnvManager(outputCoordinateSystem=sr):\n",
    "    arcpy.management.CopyFeatures(ma, \"ma\", '', None, None, None)"
   ]
  },
  {
   "cell_type": "code",
   "execution_count": 11,
   "metadata": {},
   "outputs": [],
   "source": [
    "# convert to raster\n",
    "with arcpy.EnvManager(outputCoordinateSystem=sr, snapRaster=SEraster):\n",
    "    arcpy.conversion.FeatureToRaster(in_features=\"ma\", field=\"TotalPoints\", out_raster=\"maR\", cell_size=SEraster)"
   ]
  },
  {
   "cell_type": "code",
   "execution_count": 12,
   "metadata": {},
   "outputs": [],
   "source": [
    "# mosaic sa and ma rasters together\n",
    "#arcpy.management.MosaicToNewRaster(\"saR;maR\", OutWorkspace, \"sama\", SAraster, \"8_BIT_UNSIGNED\", None, 1, \"FIRST\", \"FIRST\")"
   ]
  },
  {
   "cell_type": "code",
   "execution_count": 13,
   "metadata": {},
   "outputs": [],
   "source": [
    "# mosaic to new raster is creating an output with bands of missing data switching to a new method to combine\n",
    "# use cell statistics to combine the raster\n",
    "with arcpy.EnvManager(outputCoordinateSystem=sr, extent=SEraster, snapRaster=SEraster):\n",
    "    out_raster = arcpy.sa.CellStatistics(\"saR;maR\", \"MAXIMUM\", \"DATA\", \"SINGLE_BAND\"); out_raster.save(\"saRmaR\")"
   ]
  },
  {
   "cell_type": "code",
   "execution_count": 14,
   "metadata": {},
   "outputs": [],
   "source": [
    "# reclassify\n",
    "out_raster = arcpy.sa.Reclassify(\"saRmaR\", \"Value\", \"0 0;10 1;20 2;30 3;40 4;50 5;60 6;70 7;80 8\", \"DATA\"); out_raster.save(r\"saRmaRrclss\")"
   ]
  },
  {
   "cell_type": "markdown",
   "metadata": {},
   "source": [
    "### clip to floodplains"
   ]
  },
  {
   "cell_type": "code",
   "execution_count": 15,
   "metadata": {},
   "outputs": [],
   "source": [
    "# Limit the result to the EPA floodplain\n",
    "with arcpy.EnvManager(outputCoordinateSystem=sr, snapRaster=SEraster):\n",
    "    out_raster = arcpy.sa.Con(FP, \"saRmaRrclss\", '',\"Value = 1\"); out_raster.save(\"indicator\")"
   ]
  },
  {
   "cell_type": "code",
   "execution_count": 16,
   "metadata": {},
   "outputs": [],
   "source": [
    "# If we want places outside the floodplain to be 0, we can use this one\n",
    "# out_raster = arcpy.sa.Con(FP, \"indicator2\", '0',\"Value = 1\"); out_raster.save(\"indicator\")"
   ]
  },
  {
   "cell_type": "markdown",
   "metadata": {},
   "source": [
    "### Finalize indiator\n",
    "\n",
    "do final steps for all indicators to add description fields, clip and export to SE extent, clip and export to SA extent"
   ]
  },
  {
   "cell_type": "code",
   "execution_count": 11,
   "metadata": {
    "scrolled": true
   },
   "outputs": [],
   "source": [
    "#clip to SE 2021 Blueprint extent\n",
    "with arcpy.EnvManager(outputCoordinateSystem=sr, snapRaster=SEraster, cellSize=SEraster):\n",
    "    out_raster = arcpy.sa.ExtractByMask(\"indicator\", SEraster); out_raster.save(\"SEMask\")"
   ]
  },
  {
   "cell_type": "code",
   "execution_count": 12,
   "metadata": {},
   "outputs": [],
   "source": [
    "#export as .tif\n",
    "with arcpy.EnvManager(outputCoordinateSystem=sr, snapRaster=SEraster, cellSize=SEraster):\n",
    "    arcpy.management.CopyRaster(\"SEMask\", SEout, '', None, \"15\", \"NONE\", \"NONE\", \"4_BIT\", \"NONE\", \"NONE\", \"TIFF\", \"NONE\", \"CURRENT_SLICE\", \"NO_TRANSPOSE\")"
   ]
  },
  {
   "cell_type": "code",
   "execution_count": 4,
   "metadata": {},
   "outputs": [],
   "source": [
    "# set code block for next step\n",
    "codeblock = \"\"\"\n",
    "def Reclass(value):\n",
    "    if value == 8:\n",
    "        return '8 = Final score of 80 (areas of excellent fish habitat)'\n",
    "    elif value == 7:\n",
    "        return '7 = Final score of 70 (areas of excellent fish habitat)' \n",
    "    elif value == 6:\n",
    "        return '6 = Final score of 60 (restoration opportunity areas)' \n",
    "    elif value == 5:\n",
    "        return '5 = Final score of 50 (restoration opportunity areas)'\n",
    "    elif value == 4:\n",
    "        return '4 = Final score of 40 (restoration opportunity areas)' \n",
    "    elif value == 3:\n",
    "        return '3 = Final score of 30 (restoration opportunity areas)' \n",
    "    elif value == 2:\n",
    "        return '2 = Final score of 20 (restoration opportunity areas)'\n",
    "    elif value == 1:\n",
    "        return '1 = Final score of 10 (degraded areas of opportunity)' \n",
    "    elif value == 0:\n",
    "        return '0 = Final score of 0 (degraded areas of opportunity)' \n",
    "\"\"\""
   ]
  },
  {
   "cell_type": "code",
   "execution_count": 5,
   "metadata": {},
   "outputs": [
    {
     "data": {
      "text/html": [
       "<div class='gpresult'><h2>Messages</h2><div id='messages' data-messages='[\"Start Time: Friday, September 15, 2023 11:51:25 PM\",\"Succeeded at Friday, September 15, 2023 11:51:25 PM (Elapsed Time: 0.20 seconds)\"]' data-show='true'><div id = 'default' /></div></div>"
      ],
      "text/plain": [
       "<Result 'D:\\\\SE_Blueprint_2023\\\\5_Indicators_Tier2_UnClipped\\\\AtlanticMig\\\\AtlanticMigratoryFishHabitat.tif'>"
      ]
     },
     "execution_count": 5,
     "metadata": {},
     "output_type": "execute_result"
    }
   ],
   "source": [
    "# add and calculate description field to hold indicator values\n",
    "arcpy.management.CalculateField(SEout, \"descript\", \"Reclass(!value!)\", \"PYTHON3\", codeblock, \"TEXT\")"
   ]
  },
  {
   "cell_type": "code",
   "execution_count": 6,
   "metadata": {},
   "outputs": [],
   "source": [
    "# set code block for next step\n",
    "codeblock = \"\"\"\n",
    "def Reclass1(Value):\n",
    "    if Value == 8:\n",
    "        return 2\n",
    "    elif Value == 7:\n",
    "        return 4\n",
    "    elif Value == 6:\n",
    "        return 5\n",
    "    elif Value == 5:\n",
    "        return 31\n",
    "    elif Value == 4:\n",
    "        return 77\n",
    "    elif Value == 3:\n",
    "        return 127\n",
    "    elif Value == 2:\n",
    "        return 168\n",
    "    elif Value == 1:\n",
    "        return 204\n",
    "    elif Value == 0:\n",
    "        return 229\n",
    "    else:\n",
    "        return 0\n",
    "\n",
    "def Reclass2(Value):\n",
    "    if Value == 8:\n",
    "        return 56\n",
    "    elif Value == 7:\n",
    "        return 85\n",
    "    elif Value == 6:\n",
    "        return 105\n",
    "    elif Value == 5:\n",
    "        return 129\n",
    "    elif Value == 4:\n",
    "        return 153\n",
    "    elif Value == 3:\n",
    "        return 173\n",
    "    elif Value == 2:\n",
    "        return 190\n",
    "    elif Value == 1:\n",
    "        return 207\n",
    "    elif Value == 0:\n",
    "        return 225\n",
    "    else:\n",
    "        return 0\n",
    "\n",
    "def Reclass3(Value):\n",
    "    if Value == 8:\n",
    "        return 88\n",
    "    elif Value == 7:\n",
    "        return 133\n",
    "    elif Value == 6:\n",
    "        return 165\n",
    "    elif Value == 5:\n",
    "        return 184\n",
    "    elif Value == 4:\n",
    "        return 198\n",
    "    elif Value == 3:\n",
    "        return 210\n",
    "    elif Value == 2:\n",
    "        return 220\n",
    "    elif Value == 1:\n",
    "        return 229\n",
    "    elif Value == 0:\n",
    "        return 239\n",
    "    else:\n",
    "        return 0\n",
    "\"\"\""
   ]
  },
  {
   "cell_type": "code",
   "execution_count": 7,
   "metadata": {},
   "outputs": [
    {
     "data": {
      "text/html": [
       "<div class='gpresult'><h2>Messages</h2><div id='messages' data-messages='[\"Start Time: Friday, September 15, 2023 11:51:25 PM\",\"Succeeded at Friday, September 15, 2023 11:51:26 PM (Elapsed Time: 0.14 seconds)\"]' data-show='true'><div id = 'default' /></div></div>"
      ],
      "text/plain": [
       "<Result 'D:\\\\SE_Blueprint_2023\\\\5_Indicators_Tier2_UnClipped\\\\AtlanticMig\\\\AtlanticMigratoryFishHabitat.tif'>"
      ]
     },
     "execution_count": 7,
     "metadata": {},
     "output_type": "execute_result"
    }
   ],
   "source": [
    "# calculate Red field\n",
    "arcpy.management.CalculateField(SEout, \"Red\", \"Reclass1(!Value!)\", \"PYTHON3\", codeblock, \"SHORT\")\n",
    "# calculate Green field\n",
    "arcpy.management.CalculateField(SEout, \"Green\", \"Reclass2(!Value!)\", \"PYTHON3\", codeblock, \"SHORT\")\n",
    "# calculate Blue field\n",
    "arcpy.management.CalculateField(SEout, \"Blue\", \"Reclass3(!Value!)\", \"PYTHON3\", codeblock, \"SHORT\")"
   ]
  },
  {
   "cell_type": "code",
   "execution_count": null,
   "metadata": {},
   "outputs": [],
   "source": [
    "end = time.time()\n",
    "print(end - start)"
   ]
  }
 ],
 "metadata": {
  "kernelspec": {
   "display_name": "ArcGISPro",
   "language": "Python",
   "name": "python3"
  },
  "language_info": {
   "file_extension": ".py",
   "name": "python",
   "version": "3"
  }
 },
 "nbformat": 4,
 "nbformat_minor": 2
}
