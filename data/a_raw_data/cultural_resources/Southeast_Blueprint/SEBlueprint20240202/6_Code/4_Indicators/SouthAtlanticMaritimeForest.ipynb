{
 "cells": [
  {
   "cell_type": "markdown",
   "metadata": {},
   "source": [
    "# South Atlantic Maritime Forest Extent\n",
    "\n",
    "This indicator was used in the 2023 blueprint.\n",
    "\n",
    "This indicator was originally made for the South Atlantic Blueprint. We made a minor update in 2023 to make this indicator match with our use of zero and nodata values.\n",
    "\n",
    "Created by Amy Keister, last run by Amy Keister on 15 September 2023. It took 40 minutes to run "
   ]
  },
  {
   "cell_type": "code",
   "execution_count": 101,
   "metadata": {},
   "outputs": [],
   "source": [
    "import os\n",
    "import arcpy"
   ]
  },
  {
   "cell_type": "code",
   "execution_count": 102,
   "metadata": {},
   "outputs": [],
   "source": [
    "import time\n",
    "start = time.time()"
   ]
  },
  {
   "cell_type": "code",
   "execution_count": 103,
   "metadata": {},
   "outputs": [],
   "source": [
    "# define spatial reference and workspaces\n",
    "sr= arcpy.SpatialReference(5070)\n",
    "#SourceWorkspace= \n",
    "OutWorkspace = r\"D:\\SE_Blueprint_2023\\5_Indicators_Tier2_UnClipped\\SouthAtlanticMar\\SouthAtlanticMa.gdb\""
   ]
  },
  {
   "cell_type": "code",
   "execution_count": 104,
   "metadata": {},
   "outputs": [],
   "source": [
    "# define final indicator outputs\n",
    "out = r\"D:\\SE_Blueprint_2023\\5_Indicators_Tier2_UnClipped\\SouthAtlanticMar\\SouthAtlanticMaritimeForest.tif\""
   ]
  },
  {
   "cell_type": "code",
   "execution_count": 105,
   "metadata": {},
   "outputs": [],
   "source": [
    "# define sub-indicator outputs to help with user support"
   ]
  },
  {
   "cell_type": "code",
   "execution_count": 106,
   "metadata": {},
   "outputs": [],
   "source": [
    "# define rasters used for cell size, extent, and snapping\n",
    "Rextent= r\"F:\\GIS_DATA\\SECAS\\SE_Blueprint_2022\\Southeast_Blueprint_2022_Data_Download\\SEBlueprint20221215\\Inputs\\BaseBlueprint\\1_ExtentLayers\\BaseBlueprintExtent2022.tif\""
   ]
  },
  {
   "cell_type": "code",
   "execution_count": 107,
   "metadata": {},
   "outputs": [],
   "source": [
    "# define additional inputs\n",
    "LF= r\"F:\\GIS_DATA\\LanduseLandcover\\Landfire\\LF2016_EVT_200_CONUS\\Tif\\LC16_EVT_200.tif\"\n",
    "subR= r\"F:\\GIS_DATA\\SECAS\\SE_Blueprint_2022\\Southeast_Blueprint_2022_Data_Download\\SEBlueprint20221215\\Inputs\\BaseBlueprint\\1_ExtentLayers\\BaseBlueprintSubRgn.shp\""
   ]
  },
  {
   "cell_type": "markdown",
   "metadata": {},
   "source": [
    "### Start Analysis"
   ]
  },
  {
   "cell_type": "code",
   "execution_count": 108,
   "metadata": {},
   "outputs": [],
   "source": [
    "# Set the workspace where I want the output to go\n",
    "arcpy.env.workspace = OutWorkspace"
   ]
  },
  {
   "cell_type": "code",
   "execution_count": 109,
   "metadata": {},
   "outputs": [
    {
     "name": "stdout",
     "output_type": "stream",
     "text": [
      "D:\\SE_Blueprint_2023\\5_Indicators_Tier2_UnClipped\\SouthAtlanticMar\\SouthAtlanticMa.gdb\n"
     ]
    }
   ],
   "source": [
    "# print workspace to make sure I'm in the right spot\n",
    "print(arcpy.env.workspace)"
   ]
  },
  {
   "cell_type": "markdown",
   "metadata": {},
   "source": [
    "## Bring in Landfire data"
   ]
  },
  {
   "cell_type": "code",
   "execution_count": 10,
   "metadata": {},
   "outputs": [],
   "source": [
    "# extract all classes in SE extent with maritime in the name\n",
    "# I have commented this out because it was helpful to explore, but not necessary to run\n",
    "#with arcpy.EnvManager(outputCoordinateSystem=sr, extent=Rextent, snapRaster=Rextent, cellSize=Rextent):\n",
    "#    out_raster = arcpy.sa.ExtractByAttributes(LF, \"EVT_NAME LIKE '%Maritime%'\"); out_raster.save(\"LF_WCMaritime\")"
   ]
  },
  {
   "cell_type": "code",
   "execution_count": 11,
   "metadata": {},
   "outputs": [],
   "source": [
    "# The above found all of the clases with \"Martime\" in the name, but there aren't any pixels in TX or West LA"
   ]
  },
  {
   "cell_type": "code",
   "execution_count": 12,
   "metadata": {},
   "outputs": [],
   "source": [
    "# extract all classes in SE extent with fring in the name\n",
    "# I have commented this out because it was helpful to explore, but not necessary to run\n",
    "#with arcpy.EnvManager(outputCoordinateSystem=sr, extent=Rextent, snapRaster=Rextent, cellSize=Rextent):\n",
    "#    out_raster = arcpy.sa.ExtractByAttributes(LF, \"EVT_NAME LIKE '%Fringe%'\"); out_raster.save(\"LF_WCFringe\")"
   ]
  },
  {
   "cell_type": "code",
   "execution_count": 13,
   "metadata": {},
   "outputs": [],
   "source": [
    "# It looks like there are similar classes in TX and West LA with the name \"Fringe.\" The above found all of \n",
    "# the clases with \"Fringe in the name. \n",
    "# One is called \"West Gulf Coastal Plain Chenier and Upper Texas Coastal Fringe Forest and Woodland\" with a value of 7339\n",
    "# the other is called \"Central and South Texas Coastal Fringe Forest and Woodland\" with a value of 7338\n",
    "# However, to expand this to the full area, we would really need a team of experts to see if fring is a similar ecosystem\n",
    "# to maritime forest"
   ]
  },
  {
   "cell_type": "code",
   "execution_count": 14,
   "metadata": {},
   "outputs": [],
   "source": [
    "# Pull out all Maritime or Fringe classes and give them a value of 1 using a conditinal statement\n",
    "# this makes all the background 0, not sure it will work with expand\n",
    "#with arcpy.EnvManager(outputCoordinateSystem=sr, extent=Rextent, snapRaster=Rextent, cellSize=Rextent):\n",
    "#    out_raster = arcpy.sa.Con(LF, 1, 0, \"Value IN (7336, 7337, 7338, 7339, 7361, 7380, 7382, 7379, 7384, 7426)\"); out_raster.save(\"MarOrFrng\")"
   ]
  },
  {
   "cell_type": "code",
   "execution_count": 15,
   "metadata": {},
   "outputs": [],
   "source": [
    "# Pull out all Maritime classes and give them a value of 1 using a conditinal statement\n",
    "# this makes all the background 0, not sure it will work with expand\n",
    "with arcpy.EnvManager(outputCoordinateSystem=sr, extent=Rextent, snapRaster=Rextent, cellSize=Rextent):\n",
    "    out_raster = arcpy.sa.Con(LF, 1, 0, \"Value IN (7336, 7337, 7361, 7379, 7380, 7382, 7384, 7426)\"); out_raster.save(\"Mar\")"
   ]
  },
  {
   "cell_type": "markdown",
   "metadata": {},
   "source": [
    "## Test making an extent for Brendan to use"
   ]
  },
  {
   "cell_type": "code",
   "execution_count": 16,
   "metadata": {},
   "outputs": [],
   "source": [
    "# expand maritime forest pixels by 50 km. This distance seems to make a continous extent including all coastal areas\n",
    "# however, after masking to SE Blueprint, it makes a weird 0 island on north atlantic coast\n",
    "# out_raster = arcpy.sa.Expand(\"Mar\", 1667, [1], \"DISTANCE\"); out_raster.save(\"MarExp1667\")"
   ]
  },
  {
   "cell_type": "code",
   "execution_count": 17,
   "metadata": {},
   "outputs": [],
   "source": [
    "# expand maritime forest pixels by 40 km to see if this fixes the werid island. \n",
    "#This distance seems to make a continous extent including all coastal areas, without the weird island \n",
    "out_raster = arcpy.sa.Expand(\"Mar\", 1333, [1], \"DISTANCE\"); out_raster.save(\"MarExp1333\")"
   ]
  },
  {
   "cell_type": "code",
   "execution_count": 18,
   "metadata": {},
   "outputs": [],
   "source": [
    "# expand maritime forest pixels by 25 km. This distance was too small to make continous extent including \n",
    "# all coastal areas \n",
    "#out_raster = arcpy.sa.Expand(\"MarOrFrng\", 833, [1], \"DISTANCE\"); out_raster.save(\"MarOrFrngExp833\")"
   ]
  },
  {
   "cell_type": "code",
   "execution_count": 19,
   "metadata": {},
   "outputs": [],
   "source": [
    "# shrink expansion to make it closer to the coast, while retaining the continuity on the coast\n",
    "# here I am shrinking by 30 km\n",
    "out_raster = arcpy.sa.Shrink(\"MarExp1333\", 1000, [1], \"DISTANCE\"); out_raster.save(\"MarExp1333Shrink1000\")"
   ]
  },
  {
   "cell_type": "code",
   "execution_count": 20,
   "metadata": {},
   "outputs": [],
   "source": [
    "# add in zeros using the buffer\n",
    "with arcpy.EnvManager(outputCoordinateSystem=sr, extent=Rextent, snapRaster=Rextent, cellSize=Rextent):\n",
    "    out_raster = arcpy.sa.Con(\"MarExp1333Shrink1000\", \"Mar\", None, \"Value = 1\"); out_raster.save(\"Mar0\")"
   ]
  },
  {
   "cell_type": "code",
   "execution_count": 21,
   "metadata": {},
   "outputs": [],
   "source": [
    "# use landfire to remove deep water marine\n",
    "# since we need to limit this back down to an approximation of the old SA LCC boundary, that process\n",
    "# removed the coast, so we didn't need this step\n",
    "#with arcpy.EnvManager(outputCoordinateSystem=sr, extent=Rextent, snapRaster=Rextent, cellSize=Rextent):\n",
    "#    out_raster = arcpy.sa.Con(LF, \"Mar0\", None, \"Value > 0\"); out_raster.save(\"indicator\")"
   ]
  },
  {
   "cell_type": "code",
   "execution_count": 22,
   "metadata": {},
   "outputs": [
    {
     "data": {
      "text/html": [
       "<div class='gpresult'><h2>Messages</h2><div id='messages' data-messages='[\"Start Time: Friday, June 2, 2023 10:31:43 AM\",\"Succeeded at Friday, June 2, 2023 10:31:44 AM (Elapsed Time: 0.22 seconds)\"]' data-show='true'><div id = 'default' /></div></div>"
      ],
      "text/plain": [
       "<Result 'D:\\\\SE_Blueprint_2023\\\\5_Indicators_Tier2_UnClipped\\\\SouthAtlanticMar\\\\SouthAtlanticMa.gdb\\\\sub'>"
      ]
     },
     "execution_count": 22,
     "metadata": {},
     "output_type": "execute_result"
    }
   ],
   "source": [
    "# pull out subregion(s) where indicator was used\n",
    "arcpy.analysis.Select(subR, \"sub\", \"SubRgn IN ('Atlantic Coastal Plain','East Gulf Coastal Plain')\")"
   ]
  },
  {
   "cell_type": "code",
   "execution_count": 23,
   "metadata": {},
   "outputs": [],
   "source": [
    "# clip to the base blueprint subregions that are closest to the old South Atlantic boundary\n",
    "# this removes the deep marine\n",
    "# this also makes the zonation results a little more reasonable. Ideally, we would expand this indicator\n",
    "# to include the whole Soutehast, but we need an indicator team and we don't have time for that now\n",
    "with arcpy.EnvManager(outputCoordinateSystem=sr, snapRaster=Rextent):\n",
    "    out_raster = arcpy.sa.ExtractByMask(\"Mar0\", \"sub\"); out_raster.save(\"indicator\")"
   ]
  },
  {
   "cell_type": "markdown",
   "metadata": {},
   "source": [
    "### Finalize indiator\n",
    "\n",
    "do final steps for all indicators to add description fields, clip and export to SE extent"
   ]
  },
  {
   "cell_type": "code",
   "execution_count": 24,
   "metadata": {},
   "outputs": [],
   "source": [
    "# set code block for next step\n",
    "codeblock = \"\"\"\n",
    "def Reclass(value):\n",
    "    if value == 1:\n",
    "        return '1 = Maritime forest'\n",
    "    elif value == 0:\n",
    "        return '0 = Not identified as maritime forest' \n",
    "\"\"\""
   ]
  },
  {
   "cell_type": "code",
   "execution_count": 25,
   "metadata": {},
   "outputs": [
    {
     "data": {
      "text/html": [
       "<div class='gpresult'><h2>Messages</h2><div id='messages' data-messages='[\"Start Time: Friday, June 2, 2023 10:32:14 AM\",\"Adding descript to VAT_indicator...\",\"Succeeded at Friday, June 2, 2023 10:32:14 AM (Elapsed Time: 0.05 seconds)\"]' data-show='true'><div id = 'default' /></div></div>"
      ],
      "text/plain": [
       "<Result 'D:\\\\SE_Blueprint_2023\\\\5_Indicators_Tier2_UnClipped\\\\SouthAtlanticMar\\\\SouthAtlanticMa.gdb\\\\indicator'>"
      ]
     },
     "execution_count": 25,
     "metadata": {},
     "output_type": "execute_result"
    }
   ],
   "source": [
    "# add and calculate description field to hold indicator values\n",
    "arcpy.management.CalculateField(\"indicator\", \"descript\", \"Reclass(!value!)\", \"PYTHON3\", codeblock, \"TEXT\")"
   ]
  },
  {
   "cell_type": "code",
   "execution_count": 110,
   "metadata": {},
   "outputs": [],
   "source": [
    "# set code block for next step\n",
    "codeblock = \"\"\"\n",
    "def Reclass1(Value):\n",
    "\tif Value == 1:\n",
    "\t\treturn 152\n",
    "\telse:\n",
    "\t\treturn 255\n",
    "\t\t\n",
    "def Reclass2(Value):\n",
    "\tif Value == 1:\n",
    "\t\treturn 230\n",
    "\telse:\n",
    "\t\treturn 255\n",
    "\t\t\n",
    "def Reclass3(Value):\n",
    "\tif Value == 1:\n",
    "\t\treturn 0\n",
    "\telse:\n",
    "\t\treturn 255\n",
    "\"\"\""
   ]
  },
  {
   "cell_type": "code",
   "execution_count": 111,
   "metadata": {},
   "outputs": [
    {
     "data": {
      "text/html": [
       "<div class='gpresult'><h2>Messages</h2><div id='messages' data-messages='[\"Start Time: Friday, September 15, 2023 3:34:28 PM\",\"Succeeded at Friday, September 15, 2023 3:34:28 PM (Elapsed Time: 0.21 seconds)\"]' data-show='true'><div id = 'default' /></div></div>"
      ],
      "text/plain": [
       "<Result 'indicator'>"
      ]
     },
     "execution_count": 111,
     "metadata": {},
     "output_type": "execute_result"
    }
   ],
   "source": [
    "# calculate Red field\n",
    "arcpy.management.CalculateField(\"indicator\", \"Red\", \"Reclass1(!Value!)\", \"PYTHON3\", codeblock, \"SHORT\")\n",
    "# calculate Green field\n",
    "arcpy.management.CalculateField(\"indicator\", \"Green\", \"Reclass2(!Value!)\", \"PYTHON3\", codeblock, \"SHORT\")\n",
    "# calculate Blue field\n",
    "arcpy.management.CalculateField(\"indicator\", \"Blue\", \"Reclass3(!Value!)\", \"PYTHON3\", codeblock, \"SHORT\")"
   ]
  },
  {
   "cell_type": "code",
   "execution_count": 112,
   "metadata": {},
   "outputs": [],
   "source": [
    "# clip to SE 2022 Blueprint extent\n",
    "with arcpy.EnvManager(outputCoordinateSystem=sr, snapRaster=Rextent, cellSize=Rextent):\n",
    "    out_raster = arcpy.sa.ExtractByMask(\"indicator\", Rextent); out_raster.save(\"SEMask\")"
   ]
  },
  {
   "cell_type": "code",
   "execution_count": 113,
   "metadata": {},
   "outputs": [],
   "source": [
    "# export as .tif\n",
    "with arcpy.EnvManager(outputCoordinateSystem=sr, snapRaster=Rextent, cellSize=Rextent):\n",
    "    arcpy.management.CopyRaster(\"SEMask\", out, '', None, \"255\", \"NONE\", \"NONE\", \"8_BIT_UNSIGNED\", \"NONE\", \"NONE\", \"TIFF\", \"NONE\", \"CURRENT_SLICE\", \"NO_TRANSPOSE\")"
   ]
  },
  {
   "cell_type": "code",
   "execution_count": 30,
   "metadata": {},
   "outputs": [
    {
     "name": "stdout",
     "output_type": "stream",
     "text": [
      "2481.6148438453674\n"
     ]
    }
   ],
   "source": [
    "end = time.time()\n",
    "print(end - start)"
   ]
  },
  {
   "cell_type": "code",
   "execution_count": null,
   "metadata": {},
   "outputs": [],
   "source": []
  }
 ],
 "metadata": {
  "kernelspec": {
   "display_name": "ArcGISPro",
   "language": "Python",
   "name": "python3"
  },
  "language_info": {
   "file_extension": ".py",
   "name": "python",
   "version": "3"
  }
 },
 "nbformat": 4,
 "nbformat_minor": 2
}
