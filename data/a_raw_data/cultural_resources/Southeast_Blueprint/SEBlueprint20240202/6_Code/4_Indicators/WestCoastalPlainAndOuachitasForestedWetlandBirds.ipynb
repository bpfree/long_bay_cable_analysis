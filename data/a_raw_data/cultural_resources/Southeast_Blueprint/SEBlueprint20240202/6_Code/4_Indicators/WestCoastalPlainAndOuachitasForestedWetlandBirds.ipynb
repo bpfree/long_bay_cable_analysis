{
 "cells": [
  {
   "cell_type": "markdown",
   "metadata": {},
   "source": [
    "# West Coastal Plain & Ouachitas Forested Wetland Birds\n",
    "\n",
    "This is an indicator for the 2023 base blueprint.\n",
    "\n",
    "The WGCPO Forested Wetland Decision Support Model prioritizes existing forested wetland habitat according to habitat suitability for the five Forested Wetland Umbrella Species (Acadian flycatcher, Kentucky warbler, prothonotary warbler, red-shouldered hawk, and yellow-throated warbler). \n",
    "\n",
    "Created by Amy Keister, last run by Amy Keister on 1 June 2023. I took 3 minutes to run this code."
   ]
  },
  {
   "cell_type": "code",
   "execution_count": 1,
   "metadata": {},
   "outputs": [],
   "source": [
    "import os\n",
    "import arcpy"
   ]
  },
  {
   "cell_type": "code",
   "execution_count": 2,
   "metadata": {},
   "outputs": [],
   "source": [
    "import time\n",
    "start = time.time()"
   ]
  },
  {
   "cell_type": "code",
   "execution_count": 3,
   "metadata": {},
   "outputs": [],
   "source": [
    "# define spatial reference and workspaces\n",
    "sr= arcpy.SpatialReference(5070)\n",
    "#SourceWorkspace= \n",
    "OutWorkspace = r\"D:\\SE_Blueprint_2023\\5_Indicators_Tier2_UnClipped\\WestCoastalPlainAndOuachitasFor\\WestCo.gdb\""
   ]
  },
  {
   "cell_type": "code",
   "execution_count": 4,
   "metadata": {},
   "outputs": [],
   "source": [
    "# define final indicator outputs\n",
    "Out = r\"D:\\SE_Blueprint_2023\\5_Indicators_Tier2_UnClipped\\WestCoastalPlainAndOuachitasFor\\WestCoastalPlainAndOuachitasForestedWetlandBirds.tif\""
   ]
  },
  {
   "cell_type": "code",
   "execution_count": 5,
   "metadata": {},
   "outputs": [],
   "source": [
    "# define sub-indicator outputs"
   ]
  },
  {
   "cell_type": "code",
   "execution_count": 6,
   "metadata": {},
   "outputs": [],
   "source": [
    "# define rasters used for cell size, extent, and snapping\n",
    "Rextent= r\"F:\\GIS_DATA\\SECAS\\SE_Blueprint_2022\\Southeast_Blueprint_2022_Data_Download\\SEBlueprint20221215\\Inputs\\BaseBlueprint\\1_ExtentLayers\\BaseBlueprintExtent2022.tif\""
   ]
  },
  {
   "cell_type": "code",
   "execution_count": 7,
   "metadata": {},
   "outputs": [],
   "source": [
    "# define inputs\n",
    "BLH= r\"F:\\GIS_DATA\\DecisionSupportTools\\LMVJV\\Final_combinedHSI_WGCPO_BLH_utm83\\NEW_Final_combinedHSI_WGCPO_BLH_utm83_clpd2_0917.img\""
   ]
  },
  {
   "cell_type": "markdown",
   "metadata": {},
   "source": [
    "## Start Analysis"
   ]
  },
  {
   "cell_type": "code",
   "execution_count": 8,
   "metadata": {},
   "outputs": [],
   "source": [
    "# Set the workspace where I want the output to go\n",
    "arcpy.env.workspace = OutWorkspace"
   ]
  },
  {
   "cell_type": "code",
   "execution_count": 9,
   "metadata": {},
   "outputs": [
    {
     "name": "stdout",
     "output_type": "stream",
     "text": [
      "D:\\SE_Blueprint_2023\\5_Indicators_Tier2_UnClipped\\WestCoastalPlainAndOuachitasFor\\WestCo.gdb\n"
     ]
    }
   ],
   "source": [
    "print(arcpy.env.workspace)"
   ]
  },
  {
   "cell_type": "markdown",
   "metadata": {},
   "source": [
    "## bring in LMVJV Bottomland Hardwood Bird priority data for the WGCPO"
   ]
  },
  {
   "cell_type": "code",
   "execution_count": 10,
   "metadata": {},
   "outputs": [
    {
     "data": {
      "text/html": [
       "<div class='gpresult'><h2>Messages</h2><div id='messages' data-messages='[\"Start Time: Thursday, June 29, 2023 3:49:10 PM\",\"Successfully converted:  F:\\\\GIS_DATA\\\\DecisionSupportTools\\\\LMVJV\\\\Final_combinedHSI_WGCPO_BLH_utm83\\\\NEW_Final_combinedHSI_WGCPO_BLH_utm83_clpd2_0917.img To D:\\\\SE_Blueprint_2023\\\\5_Indicators_Tier2_UnClipped\\\\WestCoastalPlainAndOuachitasFor\\\\WestCo.gdb\\\\NEW_Final_combinedHSI_WGCPO_BLH_utm83_clpd2_0917\",\"Succeeded at Thursday, June 29, 2023 3:49:52 PM (Elapsed Time: 42.22 seconds)\"]' data-show='true'><div id = 'default' /></div></div>"
      ],
      "text/plain": [
       "<Result ''>"
      ]
     },
     "execution_count": 10,
     "metadata": {},
     "output_type": "execute_result"
    }
   ],
   "source": [
    "# Bring in the LMVJV tif\n",
    "arcpy.conversion.RasterToGeodatabase(BLH, OutWorkspace, '')"
   ]
  },
  {
   "cell_type": "code",
   "execution_count": 11,
   "metadata": {},
   "outputs": [],
   "source": [
    "# reclassify to bin\n",
    "\n",
    "# ArcGIS reclass includes the second value in the class for example,\n",
    "# 0 1 is <=1 (1 is included)\n",
    "# 1 5 is >1 - 5 (1 is not included, 5 is included)\n",
    "# 5 20 is >5 - 20 (5 is not included, 20 is included)\n",
    "\n",
    "with arcpy.EnvManager(outputCoordinateSystem=sr, cellSize=Rextent):\n",
    "    out_raster = arcpy.sa.Reclassify(\"NEW_Final_combinedHSI_WGCPO_BLH_utm83_clpd2_0917\", \"VALUE\", \"0 0 0;0.00001 0.2 1;0.2 0.4 2;0.4 0.6 3;0.6 0.8 4;0.8 1 5\", \"DATA\"); out_raster.save(\"indicator\")"
   ]
  },
  {
   "cell_type": "markdown",
   "metadata": {},
   "source": [
    "### Finalize indiator\n",
    "\n",
    "do final steps for all indicators to add description fields, clip and export to SE extent, clip and export to SA extent"
   ]
  },
  {
   "cell_type": "code",
   "execution_count": 10,
   "metadata": {
    "scrolled": true
   },
   "outputs": [],
   "source": [
    "# clip to SE 2022 Blueprint extent\n",
    "with arcpy.EnvManager(outputCoordinateSystem=sr, snapRaster=Rextent, cellSize=Rextent):\n",
    "    out_raster = arcpy.sa.ExtractByMask(\"indicator\", Rextent); out_raster.save(\"SEMask2\")"
   ]
  },
  {
   "cell_type": "code",
   "execution_count": 11,
   "metadata": {},
   "outputs": [],
   "source": [
    "# export as .tif \n",
    "with arcpy.EnvManager(outputCoordinateSystem=sr, snapRaster=Rextent, cellSize=Rextent):\n",
    "    arcpy.management.CopyRaster(\"SEMask2\", Out, '', None, \"15\", \"NONE\", \"NONE\", \"4_BIT\", \"NONE\", \"NONE\", \"TIFF\", \"NONE\", \"CURRENT_SLICE\", \"NO_TRANSPOSE\")"
   ]
  },
  {
   "cell_type": "code",
   "execution_count": 12,
   "metadata": {},
   "outputs": [],
   "source": [
    "# set code block for next step\n",
    "codeblock = \"\"\"\n",
    "def Reclass(value):\n",
    "    if value == 5:\n",
    "        return '5 = High habitat suitability for forested wetland bird umbrella species (Acadian flycatcher, Kentucky warbler, yellow-throated warbler, prothonotary warbler, red-shouldered hawk) (score >80)'\n",
    "    elif value == 4:\n",
    "        return '4 = Medium-high habitat suitability (score >60-80)'\n",
    "    elif value == 3:\n",
    "        return '3 = Medium habitat suitability (score >40-60)'\n",
    "    elif value == 2:\n",
    "        return '2 = Medium-low habitat suitability (score >20-40)'\n",
    "    elif value == 1:\n",
    "        return '1 = Low habitat suitability for forested wetland bird umbrella species (score >0-20)'\n",
    "    elif value == 0:\n",
    "        return '0 = Not suitable for forested wetland bird umbrella species (score =0)'\n",
    "\"\"\""
   ]
  },
  {
   "cell_type": "code",
   "execution_count": 13,
   "metadata": {},
   "outputs": [
    {
     "data": {
      "text/html": [
       "<div class='gpresult'><h2>Messages</h2><div id='messages' data-messages='[\"Start Time: Friday, September 15, 2023 9:18:47 PM\",\"Succeeded at Friday, September 15, 2023 9:18:47 PM (Elapsed Time: 0.16 seconds)\"]' data-show='true'><div id = 'default' /></div></div>"
      ],
      "text/plain": [
       "<Result 'D:\\\\SE_Blueprint_2023\\\\5_Indicators_Tier2_UnClipped\\\\WestCoastalPlainAndOuachitasFor\\\\WestCoastalPlainAndOuachitasForestedWetlandBirds.tif'>"
      ]
     },
     "execution_count": 13,
     "metadata": {},
     "output_type": "execute_result"
    }
   ],
   "source": [
    "# add and calculate description field to hold indicator values\n",
    "arcpy.management.CalculateField(Out, \"descript\", \"Reclass(!Value!)\", \"PYTHON3\", codeblock, \"TEXT\")"
   ]
  },
  {
   "cell_type": "code",
   "execution_count": 14,
   "metadata": {},
   "outputs": [],
   "source": [
    "# set code block for next step\n",
    "codeblock = \"\"\"\n",
    "def Reclass1(Value):\n",
    "\tif Value == 5:\n",
    "\t\treturn 22\n",
    "\tif Value == 4:\n",
    "\t\treturn 124\n",
    "\tif Value == 3:\n",
    "\t\treturn 197\n",
    "\tif Value == 2:\n",
    "\t\treturn 232\n",
    "\tif Value == 1:\n",
    "\t\treturn 234\n",
    "\telse:\n",
    "\t\treturn 255\n",
    "\t\t\n",
    "def Reclass2(Value):\n",
    "\tif Value == 5:\n",
    "\t\treturn 74\n",
    "\tif Value == 4:\n",
    "\t\treturn 117\n",
    "\tif Value == 3:\n",
    "\t\treturn 146\n",
    "\tif Value == 2:\n",
    "\t\treturn 202\n",
    "\tif Value == 1:\n",
    "\t\treturn 224\n",
    "\telse:\n",
    "\t\treturn 255\n",
    "\t\t\n",
    "def Reclass3(Value):\n",
    "\tif Value == 5:\n",
    "\t\treturn 137\n",
    "\tif Value == 4:\n",
    "\t\treturn 153\n",
    "\tif Value == 3:\n",
    "\t\treturn 156\n",
    "\tif Value == 2:\n",
    "\t\treturn 170\n",
    "\tif Value == 1:\n",
    "\t\treturn 175\n",
    "\telse:\n",
    "\t\treturn 255\n",
    "\t\t\n",
    "\"\"\""
   ]
  },
  {
   "cell_type": "code",
   "execution_count": 15,
   "metadata": {},
   "outputs": [
    {
     "data": {
      "text/html": [
       "<div class='gpresult'><h2>Messages</h2><div id='messages' data-messages='[\"Start Time: Friday, September 15, 2023 9:18:47 PM\",\"Succeeded at Friday, September 15, 2023 9:18:47 PM (Elapsed Time: 0.16 seconds)\"]' data-show='true'><div id = 'default' /></div></div>"
      ],
      "text/plain": [
       "<Result 'D:\\\\SE_Blueprint_2023\\\\5_Indicators_Tier2_UnClipped\\\\WestCoastalPlainAndOuachitasFor\\\\WestCoastalPlainAndOuachitasForestedWetlandBirds.tif'>"
      ]
     },
     "execution_count": 15,
     "metadata": {},
     "output_type": "execute_result"
    }
   ],
   "source": [
    "# calculate Red field\n",
    "arcpy.management.CalculateField(Out, \"Red\", \"Reclass1(!Value!)\", \"PYTHON3\", codeblock, \"SHORT\")\n",
    "# calculate Green field\n",
    "arcpy.management.CalculateField(Out, \"Green\", \"Reclass2(!Value!)\", \"PYTHON3\", codeblock, \"SHORT\")\n",
    "# calculate Blue field\n",
    "arcpy.management.CalculateField(Out, \"Blue\", \"Reclass3(!Value!)\", \"PYTHON3\", codeblock, \"SHORT\")"
   ]
  },
  {
   "cell_type": "code",
   "execution_count": 18,
   "metadata": {},
   "outputs": [
    {
     "name": "stdout",
     "output_type": "stream",
     "text": [
      "209.58286881446838\n"
     ]
    }
   ],
   "source": [
    "end = time.time()\n",
    "print(end - start)"
   ]
  },
  {
   "cell_type": "code",
   "execution_count": null,
   "metadata": {},
   "outputs": [],
   "source": []
  }
 ],
 "metadata": {
  "kernelspec": {
   "display_name": "ArcGISPro",
   "language": "Python",
   "name": "python3"
  },
  "language_info": {
   "file_extension": ".py",
   "name": "python",
   "version": "3"
  }
 },
 "nbformat": 4,
 "nbformat_minor": 2
}
