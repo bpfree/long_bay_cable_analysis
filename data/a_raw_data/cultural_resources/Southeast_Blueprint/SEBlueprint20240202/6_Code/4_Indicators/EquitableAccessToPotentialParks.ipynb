{
 "cells": [
  {
   "cell_type": "markdown",
   "metadata": {},
   "source": [
    "# Equitable Access to Potential Parks\n",
    "\n",
    "This is an indicator for the 2023 base blueprint. \n",
    "\n",
    "We modified this slighty in 2023 year to add in zero values to make this indicator work better in our online viewers.\n",
    "\n",
    "Created by Amy Keister, last run by Amy Keister on 21 June 2023. It took 33 minutes to run."
   ]
  },
  {
   "cell_type": "code",
   "execution_count": 1,
   "metadata": {},
   "outputs": [],
   "source": [
    "import os\n",
    "import arcpy"
   ]
  },
  {
   "cell_type": "code",
   "execution_count": 2,
   "metadata": {},
   "outputs": [],
   "source": [
    "import time\n",
    "start = time.time()"
   ]
  },
  {
   "cell_type": "code",
   "execution_count": 3,
   "metadata": {},
   "outputs": [],
   "source": [
    "# define spatial reference and workspaces\n",
    "sr= arcpy.SpatialReference(5070)\n",
    "#SourceWorkspace= \n",
    "OutWorkspace = r\"D:\\SE_Blueprint_2023\\5_Indicators_Tier2_UnClipped\\Equit\\Equitab.gdb\""
   ]
  },
  {
   "cell_type": "code",
   "execution_count": 41,
   "metadata": {},
   "outputs": [],
   "source": [
    "# define final outputs\n",
    "Out = r\"D:\\SE_Blueprint_2023\\5_Indicators_Tier2_UnClipped\\Equit\\EquitableAccessToPotentialParks.tif\""
   ]
  },
  {
   "cell_type": "code",
   "execution_count": 5,
   "metadata": {},
   "outputs": [],
   "source": [
    "# define rasters used for cell size, extent, and snapping\n",
    "Rextent= r\"F:\\GIS_DATA\\SECAS\\SE_Blueprint_2022\\Southeast_Blueprint_2022_Data_Download\\SEBlueprint20221215\\Inputs\\BaseBlueprint\\1_ExtentLayers\\BaseBlueprintExtent2022.tif\""
   ]
  },
  {
   "cell_type": "code",
   "execution_count": 6,
   "metadata": {},
   "outputs": [],
   "source": [
    "# define inputs\n",
    "ParkRank= r\"F:\\GIS_DATA\\DecisionSupportTools\\TrustForPublicLand\\ParkServe_fgd_DataShare_08062021\\ParkServe_fgdb_DataShare_08062021.gdb\\ParkServe_ParkPriorityAreas_08062021\"\n",
    "svi= r\"F:\\GIS_DATA\\Cultural_Resources\\SocialVulnerabilityIndex\\SVI2018_US\\SVI2018_US_tract.shp\"\n",
    "#zmask= r\"E:\\WORKING\\BaseBlueprint\\2022\\4_SubregionsAndEdges\\SubregionsAndEdgesLargeRoads.gdb\\UrbResRoadND\"\n",
    "nlcd= r\"F:\\GIS_DATA\\LanduseLandcover\\NLCD\\NLCD_landcover_2019_release_all_files_20210604\\nlcd_2019_land_cover_l48_20210604\\nlcd_2019_land_cover_l48_20210604.img\"\n",
    "roads= r\"F:\\GIS_DATA\\Transporation\\OpenStreetMap\\roads_20210311.shp\""
   ]
  },
  {
   "cell_type": "markdown",
   "metadata": {},
   "source": [
    "### Start Analysis"
   ]
  },
  {
   "cell_type": "code",
   "execution_count": 7,
   "metadata": {},
   "outputs": [],
   "source": [
    "# Set the workspace where I want the output to go\n",
    "arcpy.env.workspace = OutWorkspace"
   ]
  },
  {
   "cell_type": "code",
   "execution_count": 8,
   "metadata": {},
   "outputs": [
    {
     "name": "stdout",
     "output_type": "stream",
     "text": [
      "D:\\SE_Blueprint_2023\\5_Indicators_Tier2_UnClipped\\Equit\\Equitab.gdb\n"
     ]
    }
   ],
   "source": [
    "# Print the current workspace to make sure I'm in the right spot\n",
    "print(arcpy.env.workspace)"
   ]
  },
  {
   "cell_type": "markdown",
   "metadata": {},
   "source": [
    "### TPL ParkServe Data\n"
   ]
  },
  {
   "cell_type": "code",
   "execution_count": 9,
   "metadata": {},
   "outputs": [],
   "source": [
    "# convert to raster using the \"ParkRank\" field\n",
    "with arcpy.EnvManager(outputCoordinateSystem=sr, extent=Rextent, snapRaster=Rextent, cellSize=Rextent):\n",
    "    arcpy.conversion.PolygonToRaster(ParkRank, \"ParkRank\", \"PR\", \"CELL_CENTER\", \"NONE\", 30)"
   ]
  },
  {
   "cell_type": "code",
   "execution_count": 10,
   "metadata": {},
   "outputs": [],
   "source": [
    "# reclassify\n",
    "with arcpy.EnvManager(outputCoordinateSystem=sr, extent=Rextent, snapRaster=Rextent, cellSize=Rextent):\n",
    "    out_raster = arcpy.sa.Reclassify(\"PR\", \"Value\", \"NODATA 0;0 0;1 1;2 2;3 3\", \"DATA\"); out_raster.save(\"PRrclss\")"
   ]
  },
  {
   "cell_type": "markdown",
   "metadata": {},
   "source": [
    "### wrangle CDC Social Vulnerability Index\n",
    "For this indicator in 2021, we are only going to score areas that have a higer score on the social vulnerability index"
   ]
  },
  {
   "cell_type": "code",
   "execution_count": 11,
   "metadata": {},
   "outputs": [
    {
     "data": {
      "text/html": [
       "<div class='gpresult'><h2>Messages</h2><div id='messages' data-messages='[\"Start Time: Thursday, June 22, 2023 12:26:34 PM\",\"Succeeded at Thursday, June 22, 2023 12:26:38 PM (Elapsed Time: 4.05 seconds)\"]' data-show='true'><div id = 'default' /></div></div>"
      ],
      "text/plain": [
       "<Result 'D:\\\\SE_Blueprint_2023\\\\5_Indicators_Tier2_UnClipped\\\\Equit\\\\Equitab.gdb\\\\svi'>"
      ]
     },
     "execution_count": 11,
     "metadata": {},
     "output_type": "execute_result"
    }
   ],
   "source": [
    "# make a copy of the SVI lines for edits\n",
    "arcpy.management.CopyFeatures(svi, \"svi\", '', None, None, None)"
   ]
  },
  {
   "cell_type": "code",
   "execution_count": 12,
   "metadata": {},
   "outputs": [],
   "source": [
    "# convert to raster\n",
    "with arcpy.EnvManager(outputCoordinateSystem=sr, extent=Rextent, snapRaster=Rextent, cellSize=Rextent):\n",
    "    arcpy.conversion.FeatureToRaster(in_features=\"svi\", field=\"RPL_Themes\", out_raster=\"RPL_Themes\", cell_size=Rextent)"
   ]
  },
  {
   "cell_type": "code",
   "execution_count": 13,
   "metadata": {},
   "outputs": [],
   "source": [
    "# use conditional statement to make a binary raster. We are testing the cuttoff. This test is RPL_THEMES greater\n",
    "# than .65\n",
    "out_raster = arcpy.sa.Con(\"RPL_Themes\", 1, 0, \"Value > .65\"); out_raster.save(\"RPL_Themes_GT0_65\")"
   ]
  },
  {
   "cell_type": "code",
   "execution_count": 14,
   "metadata": {},
   "outputs": [],
   "source": [
    "# limit TPL data to areas with greater than .65 in the RPL_Themes SVI scores \n",
    "out_raster = arcpy.sa.Times(\"PRrclss\", \"RPL_THEMES_GT0_65\"); out_raster.save(\"indicator\")"
   ]
  },
  {
   "cell_type": "markdown",
   "metadata": {},
   "source": [
    "### Finalize indiator\n",
    "\n",
    "do final steps for all indicators to add description fields, clip and export to SE extent, clip and export to SA extent"
   ]
  },
  {
   "cell_type": "code",
   "execution_count": 20,
   "metadata": {},
   "outputs": [],
   "source": [
    "# clip to SE 2022 Blueprint extent\n",
    "with arcpy.EnvManager(outputCoordinateSystem=sr, extent=Rextent, snapRaster=Rextent, cellSize=Rextent):\n",
    "    out_raster = arcpy.sa.ExtractByMask(\"indicator\", Rextent); out_raster.save(\"SEMask\")"
   ]
  },
  {
   "cell_type": "code",
   "execution_count": 21,
   "metadata": {},
   "outputs": [],
   "source": [
    "# export as .tif\n",
    "with arcpy.EnvManager(outputCoordinateSystem=sr, extent=Rextent, snapRaster=Rextent, cellSize=Rextent):\n",
    "    arcpy.management.CopyRaster(\"SEMask\", Out, '', None, \"15\", \"NONE\", \"NONE\", \"4_BIT\", \"NONE\", \"NONE\", \"TIFF\", \"NONE\", \"CURRENT_SLICE\", \"NO_TRANSPOSE\")"
   ]
  },
  {
   "cell_type": "code",
   "execution_count": 43,
   "metadata": {},
   "outputs": [],
   "source": [
    "# set code block for next step\n",
    "codeblock = \"\"\"\n",
    "def Reclass(value):\n",
    "    if value == 3:\n",
    "        return '3 = Very high priority for a new park that would create nearby equitable access'\n",
    "    elif value == 2:\n",
    "        return '2 = High priority for a new park that would create nearby equitable access'\n",
    "    elif value == 1:\n",
    "        return '1 = Moderate priority for a new park that would create nearby equitable access'\n",
    "    elif value == 0:\n",
    "        return '0 = Not identified as a priority for a new park that would create nearby equitable access (within urban areas)'\n",
    "\"\"\""
   ]
  },
  {
   "cell_type": "code",
   "execution_count": 44,
   "metadata": {},
   "outputs": [
    {
     "data": {
      "text/html": [
       "<div class='gpresult'><h2>Messages</h2><div id='messages' data-messages='[\"Start Time: Friday, September 15, 2023 7:36:28 PM\",\"Succeeded at Friday, September 15, 2023 7:36:28 PM (Elapsed Time: 0.12 seconds)\"]' data-show='true'><div id = 'default' /></div></div>"
      ],
      "text/plain": [
       "<Result 'D:\\\\SE_Blueprint_2023\\\\5_Indicators_Tier2_UnClipped\\\\Equit\\\\EquitableAccessToPotentialParks.tif'>"
      ]
     },
     "execution_count": 44,
     "metadata": {},
     "output_type": "execute_result"
    }
   ],
   "source": [
    "# add and calculate description field to hold indicator values\n",
    "arcpy.management.CalculateField(Out, \"descript\", \"Reclass(!value!)\", \"PYTHON3\", codeblock, \"TEXT\")"
   ]
  },
  {
   "cell_type": "code",
   "execution_count": 45,
   "metadata": {},
   "outputs": [],
   "source": [
    "# set code block for next step\n",
    "codeblock = \"\"\"\n",
    "def Reclass1(Value):\n",
    "\tif Value == 3:\n",
    "\t\treturn 112\n",
    "\tif Value == 2:\n",
    "\t\treturn 172\n",
    "\tif Value == 1:\n",
    "\t\treturn 223\n",
    "\telse:\n",
    "\t\treturn 255\n",
    "\t\t\n",
    "def Reclass2(Value):\n",
    "\tif Value == 3:\n",
    "\t\treturn 12\n",
    "\tif Value == 2:\n",
    "\t\treturn 102\n",
    "\tif Value == 1:\n",
    "\t\treturn 184\n",
    "\telse:\n",
    "\t\treturn 255\n",
    "\t\t\n",
    "def Reclass3(Value):\n",
    "\tif Value == 3:\n",
    "\t\treturn 242\n",
    "\tif Value == 2:\n",
    "\t\treturn 237\n",
    "\tif Value == 1:\n",
    "\t\treturn 230\n",
    "\telse:\n",
    "\t\treturn 255\n",
    "\"\"\""
   ]
  },
  {
   "cell_type": "code",
   "execution_count": 46,
   "metadata": {},
   "outputs": [
    {
     "data": {
      "text/html": [
       "<div class='gpresult'><h2>Messages</h2><div id='messages' data-messages='[\"Start Time: Friday, September 15, 2023 7:36:28 PM\",\"Succeeded at Friday, September 15, 2023 7:36:28 PM (Elapsed Time: 0.18 seconds)\"]' data-show='true'><div id = 'default' /></div></div>"
      ],
      "text/plain": [
       "<Result 'D:\\\\SE_Blueprint_2023\\\\5_Indicators_Tier2_UnClipped\\\\Equit\\\\EquitableAccessToPotentialParks.tif'>"
      ]
     },
     "execution_count": 46,
     "metadata": {},
     "output_type": "execute_result"
    }
   ],
   "source": [
    "# calculate Red field\n",
    "arcpy.management.CalculateField(Out, \"Red\", \"Reclass1(!Value!)\", \"PYTHON3\", codeblock, \"SHORT\")\n",
    "# calculate Green field\n",
    "arcpy.management.CalculateField(Out, \"Green\", \"Reclass2(!Value!)\", \"PYTHON3\", codeblock, \"SHORT\")\n",
    "# calculate Blue field\n",
    "arcpy.management.CalculateField(Out, \"Blue\", \"Reclass3(!Value!)\", \"PYTHON3\", codeblock, \"SHORT\")"
   ]
  },
  {
   "cell_type": "code",
   "execution_count": 22,
   "metadata": {},
   "outputs": [
    {
     "name": "stdout",
     "output_type": "stream",
     "text": [
      "1652.321837902069\n"
     ]
    }
   ],
   "source": [
    "end = time.time()\n",
    "print(end - start)"
   ]
  },
  {
   "cell_type": "code",
   "execution_count": null,
   "metadata": {},
   "outputs": [],
   "source": []
  }
 ],
 "metadata": {
  "kernelspec": {
   "display_name": "ArcGISPro",
   "language": "Python",
   "name": "python3"
  },
  "language_info": {
   "file_extension": ".py",
   "name": "python",
   "version": "3"
  }
 },
 "nbformat": 4,
 "nbformat_minor": 2
}
