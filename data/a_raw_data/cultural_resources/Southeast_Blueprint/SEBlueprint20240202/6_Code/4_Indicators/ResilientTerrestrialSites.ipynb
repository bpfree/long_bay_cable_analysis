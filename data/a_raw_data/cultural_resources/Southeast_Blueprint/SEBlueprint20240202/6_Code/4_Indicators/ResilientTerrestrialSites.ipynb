{
 "cells": [
  {
   "cell_type": "markdown",
   "metadata": {},
   "source": [
    "# Resilient Terrestrial Sites\n",
    "This is a draft indicator for the 2022 base blueprint.\n",
    "\n",
    "Created by Amy Keister, modified by Blair Tirpak\n",
    "last run by Blair Tirpak on February 24,2022"
   ]
  },
  {
   "cell_type": "code",
   "execution_count": 1,
   "metadata": {},
   "outputs": [],
   "source": [
    "import arcpy\n",
    "from arcpy import env\n",
    "from arcpy.sa import *"
   ]
  },
  {
   "cell_type": "code",
   "execution_count": 2,
   "metadata": {},
   "outputs": [],
   "source": [
    "# define spatial reference and workspaces\n",
    "sr= arcpy.SpatialReference(5070)\n",
    "#SourceWorkspace = \n",
    "OutWorkspace = r\"C:\\Data\\ResilientSites\\TerResilient.gdb\""
   ]
  },
  {
   "cell_type": "code",
   "execution_count": 3,
   "metadata": {},
   "outputs": [],
   "source": [
    "# define final outputs\n",
    "SEout = r\"C:\\Data\\ResilientSites\\ResilientTerrestrialSites.tif\""
   ]
  },
  {
   "cell_type": "code",
   "execution_count": 4,
   "metadata": {},
   "outputs": [],
   "source": [
    "# define sub-indicator outputs to help with user support"
   ]
  },
  {
   "cell_type": "code",
   "execution_count": 5,
   "metadata": {},
   "outputs": [],
   "source": [
    "# define rasters used for cell size, extent, and snapping\n",
    "# SE Extent with unapproved tribal land removed\n",
    "SEraster= r\"C:\\Data\\ResilientSites\\SEextent2022_BIA.tif\""
   ]
  },
  {
   "cell_type": "code",
   "execution_count": 6,
   "metadata": {},
   "outputs": [],
   "source": [
    "# define additional inputs\n",
    "TerRUS= r\"C:\\Data\\ResilientSites\\Resilience_update_2021\\resilience_update_2021.gdb\\Resilience\"\n"
   ]
  },
  {
   "cell_type": "markdown",
   "metadata": {},
   "source": [
    "### Start Analysis"
   ]
  },
  {
   "cell_type": "code",
   "execution_count": 7,
   "metadata": {},
   "outputs": [],
   "source": [
    "# Change the workspace to where I am saving the outputs\n",
    "arcpy.env.workspace = OutWorkspace"
   ]
  },
  {
   "cell_type": "code",
   "execution_count": 8,
   "metadata": {},
   "outputs": [
    {
     "name": "stdout",
     "output_type": "stream",
     "text": [
      "C:\\Data\\ResilientSites\\TerResilient.gdb\n"
     ]
    }
   ],
   "source": [
    "# Print the current workspace to make sure I'm in the right spot\n",
    "print(arcpy.env.workspace)"
   ]
  },
  {
   "cell_type": "markdown",
   "metadata": {},
   "source": [
    "### Relassify the terrestrial data"
   ]
  },
  {
   "cell_type": "code",
   "execution_count": 9,
   "metadata": {},
   "outputs": [],
   "source": [
    "# clip to SE 2022 Blueprint extent\n",
    "with arcpy.EnvManager(outputCoordinateSystem=sr, extent=SEraster, snapRaster=SEraster, cellSize=SEraster):\n",
    "    out_raster = arcpy.sa.ExtractByMask(TerRUS, SEraster); out_raster.save(\"TerRSE\")"
   ]
  },
  {
   "cell_type": "code",
   "execution_count": 10,
   "metadata": {},
   "outputs": [],
   "source": [
    "# reclassify the terrestrial data\n",
    "with arcpy.EnvManager(outputCoordinateSystem=sr, extent=SEraster, snapRaster=SEraster, cellSize=SEraster):\n",
    "    out_raster = arcpy.sa.Reclassify(\"TerRSE\", \"Value\", \\\n",
    "    \"-3503 -3502 NODATA;-3501 -3500 0;-3499 -2000 1;-1999 -1000 2;-999 -500 3;-499 500 4;501 1000 5;1001 2000 6;2001 3500 7\", \"DATA\"); \\\n",
    "    out_raster.save(\"TerRSERclss\")"
   ]
  },
  {
   "cell_type": "markdown",
   "metadata": {},
   "source": [
    "## Remove coastal extent"
   ]
  },
  {
   "cell_type": "code",
   "execution_count": null,
   "metadata": {},
   "outputs": [],
   "source": [
    "# copy raster to snap to terra data\n",
    "with arcpy.EnvManager(scratchWorkspace=r\"C:\\Data\\ResilientSites\\ResilientSites\\Default.gdb\", snapRaster=\"ResilientCoastalSites.tif\", workspace=r\"C:\\Data\\ResilientSites\\ResilientSites\\Default.gdb\"):\n",
    "    arcpy.management.CopyRaster(\"Coastal_data_extent\", r\"C:\\Data\\ResilientSites\\TerResilient.gdb\\Coastal\", '', None, \"127\", \"NONE\", \"NONE\", \"8_BIT_UNSIGNED\", \"NONE\", \"NONE\", \"GRID\", \"NONE\", \"CURRENT_SLICE\", \"NO_TRANSPOSE\")"
   ]
  },
  {
   "cell_type": "code",
   "execution_count": 12,
   "metadata": {},
   "outputs": [],
   "source": [
    "# reclass coastal to ID in extent\n",
    "out_raster = arcpy.sa.Reclassify(\"Coastal\", \"Value\", \"1 10;2 10\", \"NODATA\"); \n",
    "out_raster.save(\"Coastal1cl\")"
   ]
  },
  {
   "cell_type": "code",
   "execution_count": null,
   "metadata": {},
   "outputs": [],
   "source": [
    "arcpy.MosaicToNewRaster_management(\"TerRSERclss;Coastal1cl\", OutWorkspace,\"TerCoastal\", None, \"8_BIT_UNSIGNED\", None, 1, \"Maximum\",\"FIRST\")"
   ]
  },
  {
   "cell_type": "code",
   "execution_count": null,
   "metadata": {},
   "outputs": [],
   "source": [
    "remap = RemapValue([[10, \"NODATA\"], [7,7], [6,6], [5,5], [4,4], [3,3], [2,2], [1,1],[0,0]])\n",
    "out_raster = arcpy.sa.Reclassify(\"TerCoastal\", \"Value\", remap, \"NODATA\"); \n",
    "out_raster.save(\"Terra\")"
   ]
  },
  {
   "cell_type": "markdown",
   "metadata": {},
   "source": [
    "### Finalize indiator\n",
    "\n",
    "do final steps for all indicators to add description fields, clip and export to SE extent, clip and export to SA extent"
   ]
  },
  {
   "cell_type": "code",
   "execution_count": null,
   "metadata": {},
   "outputs": [],
   "source": [
    "# set code block for next step\n",
    "\n",
    "codeblock = \"\"\"\n",
    "def Reclass(v):\n",
    "\tif v == 7:\n",
    "\t\treturn '7 = Most resilient'\n",
    "\telif v == 6:\n",
    "\t\treturn '6 = More resilient'\n",
    "\telif v == 5:\n",
    "\t\treturn '5 = Slightly more resilient'\n",
    "\telif v == 4:\n",
    "\t\treturn '4 = Average/median resilience'\n",
    "\telif v == 3:\n",
    "\t\treturn '3 = Slightly less resilient'\n",
    "\telif v == 2:\n",
    "\t\treturn '2 = Less resilient'\n",
    "\telif v == 1:\n",
    "\t\treturn '1 = Least resilient'\n",
    "\telif v == 0:\n",
    "\t\treturn '0 = Developed'\n",
    "\"\"\""
   ]
  },
  {
   "cell_type": "code",
   "execution_count": null,
   "metadata": {},
   "outputs": [],
   "source": [
    "# add and calculate description field to hold indicator values\n",
    "arcpy.management.CalculateField(\"Terra\", \"descript\", \"Reclass(!Value!)\", \"PYTHON3\", codeblock, \"TEXT\")"
   ]
  },
  {
   "cell_type": "code",
   "execution_count": null,
   "metadata": {},
   "outputs": [],
   "source": [
    "# set code block for next step\n",
    "codeblock = \"\"\"\n",
    "def Reclass1(Value):\n",
    "\tif Value == 7:\n",
    "\t\treturn 32\n",
    "\tif Value == 6:\n",
    "\t\treturn 94\n",
    "\tif Value == 5:\n",
    "\t\treturn 169\n",
    "\tif Value == 4:\n",
    "\t\treturn 255\n",
    "\tif Value == 3:\n",
    "\t\treturn 224\n",
    "\tif Value == 2:\n",
    "\t\treturn 191\n",
    "\tif Value == 1:\n",
    "\t\treturn 156\n",
    "\tif Value == 0:\n",
    "\t\treturn 156\n",
    "\telse:\n",
    "\t\treturn 255\n",
    "\t\t\n",
    "def Reclass2(Value):\n",
    "\tif Value == 7:\n",
    "\t\treturn 89\n",
    "\tif Value == 6:\n",
    "\t\treturn 138\n",
    "\tif Value == 5:\n",
    "\t\treturn 194\n",
    "\tif Value == 4:\n",
    "\t\treturn 255\n",
    "\tif Value == 3:\n",
    "\t\treturn 192\n",
    "\tif Value == 2:\n",
    "\t\treturn 135\n",
    "\tif Value == 1:\n",
    "\t\treturn 85\n",
    "\tif Value == 0:\n",
    "\t\treturn 156\n",
    "\telse:\n",
    "\t\treturn 255\n",
    "\t\t\n",
    "def Reclass3(Value):\n",
    "\tif Value == 7:\n",
    "\t\treturn 5\n",
    "\tif Value == 6:\n",
    "\t\treturn 58\n",
    "\tif Value == 5:\n",
    "\t\treturn 118\n",
    "\tif Value == 4:\n",
    "\t\treturn 191\n",
    "\tif Value == 3:\n",
    "\t\treturn 128\n",
    "\tif Value == 2:\n",
    "\t\treturn 75\n",
    "\tif Value == 1:\n",
    "\t\treturn 31\n",
    "\tif Value == 0:\n",
    "\t\treturn 156\n",
    "\telse:\n",
    "\t\treturn 255\n",
    "\"\"\""
   ]
  },
  {
   "cell_type": "code",
   "execution_count": null,
   "metadata": {},
   "outputs": [],
   "source": [
    "# calculate Red field\n",
    "arcpy.management.CalculateField(\"Terra\", \"Red\", \"Reclass1(!Value!)\", \"PYTHON3\", codeblock, \"SHORT\")\n",
    "# calculate Green field\n",
    "arcpy.management.CalculateField(\"Terra\", \"Green\", \"Reclass2(!Value!)\", \"PYTHON3\", codeblock, \"SHORT\")\n",
    "# calculate Blue field\n",
    "arcpy.management.CalculateField(\"Terra\", \"Blue\", \"Reclass3(!Value!)\", \"PYTHON3\", codeblock, \"SHORT\")"
   ]
  },
  {
   "cell_type": "code",
   "execution_count": null,
   "metadata": {},
   "outputs": [],
   "source": [
    "# clip to SE 2022 Blueprint extent\n",
    "with arcpy.EnvManager(outputCoordinateSystem=sr, extent=SEraster, snapRaster=SEraster, cellSize=SEraster):\n",
    "    out_raster = arcpy.sa.ExtractByMask(\"Terra\", SEraster); out_raster.save(\"TerFinal\")"
   ]
  },
  {
   "cell_type": "code",
   "execution_count": null,
   "metadata": {},
   "outputs": [],
   "source": [
    "# export as .tif with SE extent\n",
    "with arcpy.EnvManager(outputCoordinateSystem=sr, extent=SEraster, snapRaster=SEraster, cellSize=SEraster):\n",
    "    arcpy.management.CopyRaster(\"TerFinal\", SEout , '', None, \"255\", \"NONE\", \"NONE\", \"8_BIT_UNSIGNED\", \"NONE\", \"NONE\", \"TIFF\", \"NONE\", \"CURRENT_SLICE\", \"NO_TRANSPOSE\")"
   ]
  },
  {
   "cell_type": "markdown",
   "metadata": {},
   "source": [
    "## END"
   ]
  }
 ],
 "metadata": {
  "kernelspec": {
   "display_name": "ArcGISPro",
   "language": "Python",
   "name": "python3"
  },
  "language_info": {
   "file_extension": ".py",
   "name": "python",
   "version": "3"
  }
 },
 "nbformat": 4,
 "nbformat_minor": 2
}
