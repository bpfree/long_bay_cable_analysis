{
 "cells": [
  {
   "cell_type": "markdown",
   "metadata": {},
   "source": [
    "# Atlantic Deep Sea Coral Richness\n",
    "\n",
    "This indicator was used in the Southeast Blueprint 2023.\n",
    "Code written by Rua Mordecai"
   ]
  },
  {
   "cell_type": "code",
   "execution_count": 69,
   "metadata": {},
   "outputs": [],
   "source": [
    "import os\n",
    "import arcpy"
   ]
  },
  {
   "cell_type": "code",
   "execution_count": 73,
   "metadata": {},
   "outputs": [],
   "source": [
    "# define spatial reference and workspaces\n",
    "sr= arcpy.SpatialReference(5070)\n",
    "OutWorkspace = r\"D:\\SE_Blueprint_2023\\4_Indicators\\AtlanticDeepSeaCoralRichness\\working\""
   ]
  },
  {
   "cell_type": "code",
   "execution_count": 74,
   "metadata": {},
   "outputs": [],
   "source": [
    "# define final output name\n",
    "IndicatorFileName = \"AtlanticDeepSeaCoralRichness.tif\""
   ]
  },
  {
   "cell_type": "code",
   "execution_count": null,
   "metadata": {},
   "outputs": [],
   "source": [
    "# define raster used for cell size, extent, and snapping\n",
    "MarineRaster= r\"D:\\Blueprint\\2023\\extent\\Marine_Extent_v1.tif\""
   ]
  },
  {
   "cell_type": "code",
   "execution_count": null,
   "metadata": {},
   "outputs": [],
   "source": [
    "# define inputs\n",
    "coralData = r\"D:\\Blueprint\\2023\\Indicators\\AtlanticDeepSeaCoral\\Classified_Predicted_DSC_Genus_Richness_Southeast\\Classified_Predicted_DSC_Genus_Richness_Southeast\\Classified_Predicted_DSC_Genus_Richness_Southeast.shp\""
   ]
  },
  {
   "cell_type": "code",
   "execution_count": null,
   "metadata": {},
   "outputs": [],
   "source": [
    "# Sometimes arcpro is fussy about not overwriting things\n",
    "arcpy.env.overwriteOutput = True"
   ]
  },
  {
   "cell_type": "markdown",
   "metadata": {},
   "source": [
    "### Start analysis"
   ]
  },
  {
   "cell_type": "code",
   "execution_count": 72,
   "metadata": {},
   "outputs": [],
   "source": [
    "# Set the output workspace\n",
    "arcpy.env.workspace = OutWorkspace"
   ]
  },
  {
   "cell_type": "code",
   "execution_count": null,
   "metadata": {},
   "outputs": [],
   "source": [
    "# Create dictionary to convert text descriptions into indicator values\n",
    "# Then make that dictionary usable in CalculateField but putting it in a codeblock within a function\n",
    "reClassCode = \"\"\"\n",
    "binConvert = {\"0 – 0.5\":1, \"0.5 – 1\":1, \"1 – 1.5\":2, \"1.5 – 2\":2, \"2 – 2.5\":3, \"2.5 – 3\":3,\n",
    "          \"3 – 3.5\":4,\"3.5 – 4\":4,\"4 – 5\":5,\">5\":5}\n",
    "def reClass(x):\n",
    "    return binConvert[x]\"\"\""
   ]
  },
  {
   "cell_type": "code",
   "execution_count": null,
   "metadata": {},
   "outputs": [],
   "source": [
    "# Make a copy of input data so I don't mess with the original\n",
    "arcpy.CopyFeatures_management(coralData, \"coral.shp\")"
   ]
  },
  {
   "cell_type": "code",
   "execution_count": null,
   "metadata": {
    "scrolled": true
   },
   "outputs": [],
   "source": [
    "# add a field to convert to raster and calculate the raster value based on dictionary above\n",
    "arcpy.management.CalculateField(\"coral.shp\", \"raster\", \"reClass(!GENUSRICH!)\", \"PYTHON3\", reClassCode, \"SHORT\")"
   ]
  },
  {
   "cell_type": "code",
   "execution_count": null,
   "metadata": {},
   "outputs": [],
   "source": [
    "# convert vector to raster\n",
    "arcpy.conversion.FeatureToRaster(in_features=\"coral.shp\", field=\"raster\", out_raster=\"coralClasses.tif\", cell_size=MarineRaster)"
   ]
  },
  {
   "cell_type": "code",
   "execution_count": null,
   "metadata": {},
   "outputs": [],
   "source": [
    "# export nonclipped version of indicator. This isn't working right now and I don't know why\n",
    "#with arcpy.EnvManager(outputCoordinateSystem=sr, extent=MarineRaster, snapRaster=MarineRaster, cellSize=MarineRaster):\n",
    "#    arcpy.management.CopyRaster(\"coralClasses.tif\", IndicatorFileName, '', None, \"255\", \"NONE\", \"NONE\", \"8_BIT_UNSIGNED\", \"NONE\", \"NONE\", \"TIFF\", \"NONE\", \"CURRENT_SLICE\", \"NO_TRANSPOSE\")"
   ]
  },
  {
   "cell_type": "code",
   "execution_count": null,
   "metadata": {},
   "outputs": [],
   "source": [
    "# clip raster to Marine extent\n",
    "with arcpy.EnvManager(outputCoordinateSystem=sr, extent=MarineRaster, snapRaster=MarineRaster, cellSize=MarineRaster):\n",
    "    out_raster = arcpy.sa.ExtractByMask(\"coralClasses.tif\", MarineRaster); out_raster.save(IndicatorFileName)"
   ]
  },
  {
   "cell_type": "markdown",
   "metadata": {},
   "source": [
    "### Finalize indicator\n",
    "\n"
   ]
  },
  {
   "cell_type": "code",
   "execution_count": 77,
   "metadata": {},
   "outputs": [],
   "source": [
    "# set code block for next step\n",
    "codeblock = \"\"\"\n",
    "def Reclass(value):\n",
    "    if value == 5:\n",
    "        return '5 = Highest predicted genus richness (>4)'\n",
    "    elif value == 4:\n",
    "        return '4 = High predicted genus richness (>3-4)'\n",
    "    elif value == 3:\n",
    "        return '3 = Medium predicted genus richness (>2-3)'\n",
    "    elif value == 2:\n",
    "        return '2 = Low predicted genus richness (>1-2)'\n",
    "    elif value == 1:\n",
    "        return '1 = Lowest predicted genus richness (0-1)'      \n",
    "\"\"\""
   ]
  },
  {
   "cell_type": "code",
   "execution_count": 78,
   "metadata": {},
   "outputs": [
    {
     "data": {
      "text/html": [
       "<div class='gpresult'><h2>Messages</h2><div id='messages' data-messages='[\"Start Time: Saturday, September 16, 2023 12:48:23 AM\",\"Succeeded at Saturday, September 16, 2023 12:48:23 AM (Elapsed Time: 0.11 seconds)\"]' data-show='true'><div id = 'default' /></div></div>"
      ],
      "text/plain": [
       "<Result 'D:\\\\SE_Blueprint_2023\\\\4_Indicators\\\\AtlanticDeepSeaCoralRichness\\\\working\\\\AtlanticDeepSeaCoralRichness.tif'>"
      ]
     },
     "execution_count": 78,
     "metadata": {},
     "output_type": "execute_result"
    }
   ],
   "source": [
    "# add and calculate description field to hold indicator values\n",
    "arcpy.management.CalculateField(IndicatorFileName, \"descript\", \"Reclass(!value!)\", \"PYTHON3\", codeblock, \"TEXT\")"
   ]
  },
  {
   "cell_type": "code",
   "execution_count": 79,
   "metadata": {},
   "outputs": [],
   "source": [
    "# set code block for next step\n",
    "codeblock = \"\"\"\n",
    "def Reclass1(Value):\n",
    "\tif Value == 5:\n",
    "\t\treturn 103\n",
    "\tif Value == 4:\n",
    "\t\treturn 145\n",
    "\tif Value == 3:\n",
    "\t\treturn 186\n",
    "\tif Value == 2:\n",
    "\t\treturn 214\n",
    "\tif Value == 1:\n",
    "\t\treturn 235\n",
    "\telse:\n",
    "\t\treturn 255\n",
    "\t\t\n",
    "def Reclass2(Value):\n",
    "\tif Value == 5:\n",
    "\t\treturn 34\n",
    "\tif Value == 4:\n",
    "\t\treturn 56\n",
    "\tif Value == 3:\n",
    "\t\treturn 82\n",
    "\tif Value == 2:\n",
    "\t\treturn 118\n",
    "\tif Value == 1:\n",
    "\t\treturn 158\n",
    "\telse:\n",
    "\t\treturn 255\n",
    "\t\t\n",
    "def Reclass3(Value):\n",
    "\tif Value == 5:\n",
    "\t\treturn 63\n",
    "\tif Value == 4:\n",
    "\t\treturn 87\n",
    "\tif Value == 3:\n",
    "\t\treturn 111\n",
    "\tif Value == 2:\n",
    "\t\treturn 137\n",
    "\tif Value == 1:\n",
    "\t\treturn 167\n",
    "\telse:\n",
    "\t\treturn 255\n",
    "\"\"\""
   ]
  },
  {
   "cell_type": "code",
   "execution_count": 80,
   "metadata": {},
   "outputs": [
    {
     "data": {
      "text/html": [
       "<div class='gpresult'><h2>Messages</h2><div id='messages' data-messages='[\"Start Time: Saturday, September 16, 2023 12:48:23 AM\",\"Succeeded at Saturday, September 16, 2023 12:48:24 AM (Elapsed Time: 0.11 seconds)\"]' data-show='true'><div id = 'default' /></div></div>"
      ],
      "text/plain": [
       "<Result 'D:\\\\SE_Blueprint_2023\\\\4_Indicators\\\\AtlanticDeepSeaCoralRichness\\\\working\\\\AtlanticDeepSeaCoralRichness.tif'>"
      ]
     },
     "execution_count": 80,
     "metadata": {},
     "output_type": "execute_result"
    }
   ],
   "source": [
    "# calculate Red field\n",
    "arcpy.management.CalculateField(IndicatorFileName, \"Red\", \"Reclass1(!Value!)\", \"PYTHON3\", codeblock, \"SHORT\")\n",
    "# calculate Green field\n",
    "arcpy.management.CalculateField(IndicatorFileName, \"Green\", \"Reclass2(!Value!)\", \"PYTHON3\", codeblock, \"SHORT\")\n",
    "# calculate Blue field\n",
    "arcpy.management.CalculateField(IndicatorFileName, \"Blue\", \"Reclass3(!Value!)\", \"PYTHON3\", codeblock, \"SHORT\")"
   ]
  },
  {
   "cell_type": "code",
   "execution_count": null,
   "metadata": {},
   "outputs": [],
   "source": []
  }
 ],
 "metadata": {
  "kernelspec": {
   "display_name": "ArcGISPro",
   "language": "Python",
   "name": "python3"
  },
  "language_info": {
   "file_extension": ".py",
   "name": "python",
   "version": "3"
  }
 },
 "nbformat": 4,
 "nbformat_minor": 2
}
