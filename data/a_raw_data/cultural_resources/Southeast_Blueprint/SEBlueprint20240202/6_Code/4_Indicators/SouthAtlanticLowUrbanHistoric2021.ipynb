{
 "cells": [
  {
   "cell_type": "markdown",
   "metadata": {},
   "source": [
    "# Low Urban Historic\n",
    "This indicator was used in South Atlantic 2021 Blueprint.\n",
    "\n",
    "It uses data representing the National Register of Historic Places. There is a national database for this from the park service, but the data has not been maintained and the polygons have huge slivers that are clearly errors. We dont use the polygon data from the national dataset. We do use the point data from the national dataset, but only in places where we don't have better data. \n",
    "\n",
    "We have state level data representing the National Register of Historic Places for a handfull of states. These data are more regularly maintained. When we have state level data, we use it. \n",
    "\n",
    "Because we haven't had time to re-run this indicaor, but we have wanted to make changes (like legend color changes). Some of those changes were made by hand and then just added to this code to try to keep a record. Due to those changes, it is possible that this code won't run as is. We have tried to add the steps we did by hand to this code, but it is also possible that we missed some things."
   ]
  },
  {
   "cell_type": "code",
   "execution_count": 1,
   "metadata": {},
   "outputs": [],
   "source": [
    "import os\n",
    "import arcpy"
   ]
  },
  {
   "cell_type": "code",
   "execution_count": 2,
   "metadata": {},
   "outputs": [],
   "source": [
    "# define spatial reference and workspaces\n",
    "sr= arcpy.SpatialReference(5070)\n",
    "NSourceWorkspace = r\"G:\\GIS_DATA\\Cultural_Resources\\NationalRegisterOfHistoricPlaces\\NRIS_CR_Standards_Public.gdb\"\n",
    "SSourceWorkspace = r\"G:\\GIS_DATA\\Cultural_Resources\\NationalRegisterOfHistoricPlacesStateData\"\n",
    "OutWorkspace = r\"E:\\WORKING\\Indicators\\Terrestrial\\LowUrbanHistoric\\2021\\LowUrbanHistoric.gdb\""
   ]
  },
  {
   "cell_type": "code",
   "execution_count": 334,
   "metadata": {},
   "outputs": [],
   "source": [
    "# define final outputs\n",
    "SEout = r\"E:\\WORKING\\BaseBlueprint\\2022\\4_Indicators\\SouthAtlanticLowUrbanHistoric\\SouthAtlanticLowUrbanHistoric11.tif\""
   ]
  },
  {
   "cell_type": "code",
   "execution_count": 340,
   "metadata": {},
   "outputs": [],
   "source": [
    "OutWorkspace = r\"E:\\WORKING\\BaseBlueprint\\2022\\4_Indicators\\SouthAtlanticLowUrbanHistoric\\SouthAtlanticLowUrbanHistoric.gdb\""
   ]
  },
  {
   "cell_type": "code",
   "execution_count": 322,
   "metadata": {},
   "outputs": [],
   "source": [
    "# define sub-indicator outputs to help with user support"
   ]
  },
  {
   "cell_type": "code",
   "execution_count": 323,
   "metadata": {},
   "outputs": [],
   "source": [
    "# define rasters used for cell size, extent, and snapping\n",
    "SEraster= r\"F:\\GIS_DATA\\SALCC_BLUEPRINT\\Version_2021\\Blueprint_2021_Data_Download_20220204\\1_ExtentLayers\\SA2021extent.tif\""
   ]
  },
  {
   "cell_type": "code",
   "execution_count": 6,
   "metadata": {},
   "outputs": [],
   "source": [
    "# define additional inputs\n",
    "# state boundaries\n",
    "states= r\"G:\\GIS_DATA\\Boundaries.gdb\\PoliticalLargeScale\\Counties_TigerLine_2015_State\"\n",
    "# A list of the state level point data to be used in this project \n",
    "SCpt='G:\\\\GIS_DATA\\\\Cultural_Resources\\\\NationalRegisterOfHistoricPlacesStateData\\\\StateVersions_NC_FL_SC_NationalRegister\\\\SC GIS Data_2019_0628_restrictedRemoved\\\\SC GIS Data_2019_0628\\\\NRHP Structures_Non-Restricted\\\\SC_NRHP_Structures_Non-Restricted.shp'\n",
    "VApt= 'G:\\\\GIS_DATA\\\\Cultural_Resources\\\\NationalRegisterOfHistoricPlacesStateData\\\\VDHR_HDs_and_Listed.gdb\\\\Listed_Site_Points_Virginia'\n",
    "# did not use all NC points, only points that seem to be from the national register based on their values in the YearNR field\n",
    "# I created the NC input seperately b/c that dataset was acting super weird and I could only get my select to work in an map session\n",
    "NCpt= 'G:\\\\GIS_DATA\\\\Cultural_Resources\\\\NationalRegisterOfHistoricPlacesStateData\\\\StateVersions_NC_FL_SC_NationalRegister\\\\NCHPO_GISdata_2019-06-03\\\\NCHPOpoints_YearNRnotblank.shp'\n",
    "nlcd= r\"G:\\GIS_DATA\\LanduseLandcover\\NLCD\\NLCD_Land_Cover_L48_20190424\\NLCD_2016_Land_Cover_L48_20190424_SECASbuff_N83.img\""
   ]
  },
  {
   "cell_type": "code",
   "execution_count": 324,
   "metadata": {},
   "outputs": [],
   "source": [
    "# define additional inputs\n",
    "SubR= r\"E:\\WORKING\\BaseBlueprint\\2022\\1_SubregionsAndExtent\\BaseBlueprintSubRgn.shp\"\n",
    "SAraster= r\"F:\\GIS_DATA\\SALCC_BLUEPRINT\\Version_2021\\Blueprint_2021_Data_Download_20220204\\1_ExtentLayers\\SA2021extent.tif\""
   ]
  },
  {
   "cell_type": "markdown",
   "metadata": {},
   "source": [
    "## National Park Service Register of Historic Places\n",
    "We use the national data for states where we don't have state level data."
   ]
  },
  {
   "cell_type": "markdown",
   "metadata": {},
   "source": [
    "### Merge all the points from the National Park Service Register of Historic Places"
   ]
  },
  {
   "cell_type": "code",
   "execution_count": 7,
   "metadata": {},
   "outputs": [],
   "source": [
    "# Set the workspace where the most recent download of the register of historic places is\n",
    "arcpy.env.workspace = NSourceWorkspace"
   ]
  },
  {
   "cell_type": "code",
   "execution_count": 8,
   "metadata": {},
   "outputs": [
    {
     "name": "stdout",
     "output_type": "stream",
     "text": [
      "G:\\GIS_DATA\\Cultural_Resources\\NationalRegisterOfHistoricPlaces\\NRIS_CR_Standards_Public.gdb\n"
     ]
    }
   ],
   "source": [
    "print(arcpy.env.workspace)"
   ]
  },
  {
   "cell_type": "code",
   "execution_count": 9,
   "metadata": {},
   "outputs": [],
   "source": [
    "#look in the source data from the National Park Service Register of Historic Places, make a list of all the point \n",
    "# feature classes\n",
    "FCList = []\n",
    "\n",
    "walk = arcpy.da.Walk(NSourceWorkspace, datatype=\"FeatureClass\", type=\"Point\")\n",
    "\n",
    "for dirpath, dirnames, filenames in walk:\n",
    "    for filename in filenames:\n",
    "        FCList.append(os.path.join(dirpath, filename))"
   ]
  },
  {
   "cell_type": "code",
   "execution_count": 10,
   "metadata": {},
   "outputs": [
    {
     "name": "stdout",
     "output_type": "stream",
     "text": [
      "['G:\\\\GIS_DATA\\\\Cultural_Resources\\\\NationalRegisterOfHistoricPlaces\\\\NRIS_CR_Standards_Public.gdb\\\\Historic_Buildings\\\\crbldg_pt', 'G:\\\\GIS_DATA\\\\Cultural_Resources\\\\NationalRegisterOfHistoricPlaces\\\\NRIS_CR_Standards_Public.gdb\\\\Historic_Sites\\\\crsite_pt', 'G:\\\\GIS_DATA\\\\Cultural_Resources\\\\NationalRegisterOfHistoricPlaces\\\\NRIS_CR_Standards_Public.gdb\\\\Historic_Districts\\\\crdist_pt', 'G:\\\\GIS_DATA\\\\Cultural_Resources\\\\NationalRegisterOfHistoricPlaces\\\\NRIS_CR_Standards_Public.gdb\\\\Historic_Objects\\\\crobj_pt', 'G:\\\\GIS_DATA\\\\Cultural_Resources\\\\NationalRegisterOfHistoricPlaces\\\\NRIS_CR_Standards_Public.gdb\\\\Historic_Structures\\\\crstru_pt']\n"
     ]
    }
   ],
   "source": [
    "#Print the list made in the above step to make sure it is correct\n",
    "print(FCList)"
   ]
  },
  {
   "cell_type": "code",
   "execution_count": 341,
   "metadata": {},
   "outputs": [],
   "source": [
    "# Change the workspace to where I am saving the outputs\n",
    "arcpy.env.workspace = OutWorkspace"
   ]
  },
  {
   "cell_type": "code",
   "execution_count": 342,
   "metadata": {},
   "outputs": [
    {
     "name": "stdout",
     "output_type": "stream",
     "text": [
      "E:\\WORKING\\BaseBlueprint\\2022\\4_Indicators\\SouthAtlanticLowUrbanHistoric\\SouthAtlanticLowUrbanHistoric.gdb\n"
     ]
    }
   ],
   "source": [
    "# Print the current workspace to make sure I'm in the right spot\n",
    "print(arcpy.env.workspace)"
   ]
  },
  {
   "cell_type": "code",
   "execution_count": 13,
   "metadata": {},
   "outputs": [],
   "source": [
    "# Merge all the point feature classes from the National Park Service Register of Historic Places, using the list \n",
    "# created above as the input\n",
    "with arcpy.EnvManager(outputCoordinateSystem=sr, extent=SEraster):\n",
    "    arcpy.management.Merge(FCList,'MergeNational', 'NO_SOURCE_INFO')"
   ]
  },
  {
   "cell_type": "markdown",
   "metadata": {},
   "source": [
    "### Remove points in states where we have more accurate state level data (Virginia, North Carolina, Florida, South Carolina). Then buffer remaining points by 100 meters."
   ]
  },
  {
   "cell_type": "code",
   "execution_count": 14,
   "metadata": {},
   "outputs": [
    {
     "name": "stdout",
     "output_type": "stream",
     "text": [
      "E:\\WORKING\\Indicators\\Terrestrial\\LowUrbanHistoric\\2021\\LowUrbanHistoric.gdb\n"
     ]
    }
   ],
   "source": [
    "print(arcpy.env.workspace)"
   ]
  },
  {
   "cell_type": "code",
   "execution_count": 15,
   "metadata": {},
   "outputs": [
    {
     "data": {
      "text/html": [
       "<h2>Output</h2>E:\\WORKING\\Indicators\\Terrestrial\\LowUrbanHistoric\\2021\\LowUrbanHistoric.gdb\\StatesWOData<h2>Messages</h2>Start Time: Friday, June 25, 2021 10:03:35 PM<br/>Succeeded at Friday, June 25, 2021 10:03:36 PM (Elapsed Time: 0.53 seconds)<br/><style>.rendered_html td, .rendered_html th {text-align: left;}.rendered_html tbody {border: 1px solid black;}</style>"
      ],
      "text/plain": [
       "<Result 'E:\\\\WORKING\\\\Indicators\\\\Terrestrial\\\\LowUrbanHistoric\\\\2021\\\\LowUrbanHistoric.gdb\\\\StatesWOData'>"
      ]
     },
     "execution_count": 15,
     "metadata": {},
     "output_type": "execute_result"
    }
   ],
   "source": [
    "# make a layer with all the states where we DO NOT have more accurate data\n",
    "arcpy.analysis.Select(states, \"StatesWOData\", \"STATEFP IN ('54','21','29','40','48','22','05','28','01','47','13','72','78')\")"
   ]
  },
  {
   "cell_type": "code",
   "execution_count": 16,
   "metadata": {},
   "outputs": [],
   "source": [
    "# clip points to states where we do not have more accurate data. \n",
    "with arcpy.EnvManager(outputCoordinateSystem=sr, extent=SEraster):\n",
    "    arcpy.analysis.Clip(\"MergeNational\", \"StatesWOData\", \"MergeNationalClip\")"
   ]
  },
  {
   "cell_type": "code",
   "execution_count": 17,
   "metadata": {},
   "outputs": [
    {
     "data": {
      "text/html": [
       "<h2>Output</h2>E:\\WORKING\\Indicators\\Terrestrial\\LowUrbanHistoric\\2021\\LowUrbanHistoric.gdb\\MergeNationalClipBuff<h2>Messages</h2>Start Time: Friday, June 25, 2021 10:03:43 PM<br/>Succeeded at Friday, June 25, 2021 10:03:48 PM (Elapsed Time: 5.67 seconds)<br/><style>.rendered_html td, .rendered_html th {text-align: left;}.rendered_html tbody {border: 1px solid black;}</style>"
      ],
      "text/plain": [
       "<Result 'E:\\\\WORKING\\\\Indicators\\\\Terrestrial\\\\LowUrbanHistoric\\\\2021\\\\LowUrbanHistoric.gdb\\\\MergeNationalClipBuff'>"
      ]
     },
     "execution_count": 17,
     "metadata": {},
     "output_type": "execute_result"
    }
   ],
   "source": [
    "# buffer the remaining points by 100 meters\n",
    "arcpy.analysis.Buffer(\"MergeNationalClip\", \"MergeNationalClipBuff\", \"100 Meters\", \"FULL\", \"ROUND\", \"NONE\", None, \"PLANAR\")"
   ]
  },
  {
   "cell_type": "markdown",
   "metadata": {},
   "source": [
    "## State Level Data for the National Register of Historic Place Data\n",
    "\n",
    "This is a little confusing, because this is still the National Register of Historic Places, but the states have MUCH more accurate locations than is in the Park Service layer"
   ]
  },
  {
   "cell_type": "markdown",
   "metadata": {},
   "source": [
    "### We start with the point data from the states\n",
    "\n",
    "For VA, SC, and Florida we use all the points. For North Carolina we have to remove some state designated areas that are not really national historic places\n",
    "\n",
    "There is something weird about the NC point shapefile. I can't interact with it much at all. I can't reproject it. I can't copy it into a geodatabase. I was able to use \"select by attribute\" on it to select points that had a blank in the YearNR field (YearNR <> ' '), but only in an arcGIS pro map session, not in the tool box or in notebooks. After selection, I was able to export it to a new shapefile. That is what I'm using as my input here."
   ]
  },
  {
   "cell_type": "code",
   "execution_count": 18,
   "metadata": {},
   "outputs": [],
   "source": [
    "# Set the workspace where I want to save my output\n",
    "arcpy.env.workspace = OutWorkspace"
   ]
  },
  {
   "cell_type": "code",
   "execution_count": 19,
   "metadata": {},
   "outputs": [
    {
     "name": "stdout",
     "output_type": "stream",
     "text": [
      "E:\\WORKING\\Indicators\\Terrestrial\\LowUrbanHistoric\\2021\\LowUrbanHistoric.gdb\n"
     ]
    }
   ],
   "source": [
    "print(arcpy.env.workspace)"
   ]
  },
  {
   "cell_type": "code",
   "execution_count": 20,
   "metadata": {},
   "outputs": [],
   "source": [
    "# Make a list of the state level point data to be used in this project \n",
    "StatePt = [SCpt, NCpt, VApt]"
   ]
  },
  {
   "cell_type": "code",
   "execution_count": 21,
   "metadata": {},
   "outputs": [],
   "source": [
    "# Merge all the point feature classes from the State Level National Register of Historic Places, using the list \n",
    "# created above as the input\n",
    "with arcpy.EnvManager(outputCoordinateSystem=sr, extent=SEraster):\n",
    "    arcpy.management.Merge(StatePt,'MergeStatePoint', 'NO_SOURCE_INFO')"
   ]
  },
  {
   "cell_type": "code",
   "execution_count": 22,
   "metadata": {},
   "outputs": [
    {
     "data": {
      "text/html": [
       "<h2>Output</h2>E:\\WORKING\\Indicators\\Terrestrial\\LowUrbanHistoric\\2021\\LowUrbanHistoric.gdb\\MergeStatePointBuff<h2>Messages</h2>Start Time: Friday, June 25, 2021 10:03:53 PM<br/>Succeeded at Friday, June 25, 2021 10:03:56 PM (Elapsed Time: 2.54 seconds)<br/><style>.rendered_html td, .rendered_html th {text-align: left;}.rendered_html tbody {border: 1px solid black;}</style>"
      ],
      "text/plain": [
       "<Result 'E:\\\\WORKING\\\\Indicators\\\\Terrestrial\\\\LowUrbanHistoric\\\\2021\\\\LowUrbanHistoric.gdb\\\\MergeStatePointBuff'>"
      ]
     },
     "execution_count": 22,
     "metadata": {},
     "output_type": "execute_result"
    }
   ],
   "source": [
    "# buffer the state points by 100 meters\n",
    "arcpy.analysis.Buffer(\"MergeStatePoint\", \"MergeStatePointBuff\", \"100 Meters\", \"FULL\", \"ROUND\", \"NONE\", None, \"PLANAR\")"
   ]
  },
  {
   "cell_type": "markdown",
   "metadata": {},
   "source": [
    "### Next we work with the polygon data from the states\n",
    "\n",
    "We use all of the polygon layers that were provided.\n"
   ]
  },
  {
   "cell_type": "code",
   "execution_count": 23,
   "metadata": {},
   "outputs": [],
   "source": [
    "# Set the workspace where the most recent download of the State level register of historic places is\n",
    "arcpy.env.workspace = SSourceWorkspace"
   ]
  },
  {
   "cell_type": "code",
   "execution_count": 24,
   "metadata": {},
   "outputs": [
    {
     "name": "stdout",
     "output_type": "stream",
     "text": [
      "G:\\GIS_DATA\\Cultural_Resources\\NationalRegisterOfHistoricPlacesStateData\n"
     ]
    }
   ],
   "source": [
    "print(arcpy.env.workspace)"
   ]
  },
  {
   "cell_type": "code",
   "execution_count": 25,
   "metadata": {},
   "outputs": [],
   "source": [
    "#look in the source data from the State level National Park Service Register of Historic Places, make a list of all \n",
    "# the polygon feature classes\n",
    "FCList2 = []\n",
    "\n",
    "walk = arcpy.da.Walk(SSourceWorkspace, datatype=\"FeatureClass\", type=\"Polygon\")\n",
    "\n",
    "for dirpath, dirnames, filenames in walk:\n",
    "    for filename in filenames:\n",
    "        FCList2.append(os.path.join(dirpath, filename))"
   ]
  },
  {
   "cell_type": "code",
   "execution_count": 26,
   "metadata": {},
   "outputs": [
    {
     "name": "stdout",
     "output_type": "stream",
     "text": [
      "['G:\\\\GIS_DATA\\\\Cultural_Resources\\\\NationalRegisterOfHistoricPlacesStateData\\\\StateVersions_NC_FL_SC_NationalRegister\\\\Janet Cakir NR GIS FL_june2019\\\\NationalRegister.shp', 'G:\\\\GIS_DATA\\\\Cultural_Resources\\\\NationalRegisterOfHistoricPlacesStateData\\\\StateVersions_NC_FL_SC_NationalRegister\\\\NCHPO_GISdata_2019-06-03\\\\Local_District_Boundaries.shp', 'G:\\\\GIS_DATA\\\\Cultural_Resources\\\\NationalRegisterOfHistoricPlacesStateData\\\\StateVersions_NC_FL_SC_NationalRegister\\\\NCHPO_GISdata_2019-06-03\\\\NCHPO_NR_SL_DOE_Boundaries.shp', 'G:\\\\GIS_DATA\\\\Cultural_Resources\\\\NationalRegisterOfHistoricPlacesStateData\\\\StateVersions_NC_FL_SC_NationalRegister\\\\SC GIS Data_2019_0628_restrictedRemoved\\\\SC GIS Data_2019_0628\\\\NRHP Districts and Areas_Non-Restricted\\\\SC_NRHP_Districts-Areas_Non-Restricted.shp', 'G:\\\\GIS_DATA\\\\Cultural_Resources\\\\NationalRegisterOfHistoricPlacesStateData\\\\VDHR_HDs_and_Listed.gdb\\\\Listed_Historic_District_Boundaries_Virginia']\n"
     ]
    }
   ],
   "source": [
    "print(FCList2)"
   ]
  },
  {
   "cell_type": "code",
   "execution_count": 27,
   "metadata": {},
   "outputs": [],
   "source": [
    "# Change the workspace to where I am saving the outputs\n",
    "arcpy.env.workspace = OutWorkspace"
   ]
  },
  {
   "cell_type": "code",
   "execution_count": 28,
   "metadata": {},
   "outputs": [
    {
     "name": "stdout",
     "output_type": "stream",
     "text": [
      "E:\\WORKING\\Indicators\\Terrestrial\\LowUrbanHistoric\\2021\\LowUrbanHistoric.gdb\n"
     ]
    }
   ],
   "source": [
    "print(arcpy.env.workspace)"
   ]
  },
  {
   "cell_type": "code",
   "execution_count": 29,
   "metadata": {},
   "outputs": [],
   "source": [
    "# Merge all the polygon feature classes from the State level National Register of Historic Places, using the list \n",
    "# created above as the input\n",
    "with arcpy.EnvManager(outputCoordinateSystem=sr, extent=SEraster):\n",
    "    arcpy.management.Merge(FCList2,'MergeStatePoly', 'NO_SOURCE_INFO')"
   ]
  },
  {
   "cell_type": "code",
   "execution_count": 30,
   "metadata": {},
   "outputs": [
    {
     "data": {
      "text/html": [
       "<h2>Output</h2>E:\\WORKING\\Indicators\\Terrestrial\\LowUrbanHistoric\\2021\\LowUrbanHistoric.gdb\\MergeStatePolyBuff<h2>Messages</h2>Start Time: Friday, June 25, 2021 10:04:04 PM<br/>Succeeded at Friday, June 25, 2021 10:09:36 PM (Elapsed Time: 5 minutes 32 seconds)<br/><style>.rendered_html td, .rendered_html th {text-align: left;}.rendered_html tbody {border: 1px solid black;}</style>"
      ],
      "text/plain": [
       "<Result 'E:\\\\WORKING\\\\Indicators\\\\Terrestrial\\\\LowUrbanHistoric\\\\2021\\\\LowUrbanHistoric.gdb\\\\MergeStatePolyBuff'>"
      ]
     },
     "execution_count": 30,
     "metadata": {},
     "output_type": "execute_result"
    }
   ],
   "source": [
    "# Buffer the merged polygon layer by 30 meters. We did this because some of the polygons are so small that they \n",
    "# weren't represented when we convereted to 30 meter rasters. The buffer allows them to be represented in the raster.\n",
    "arcpy.analysis.Buffer(\"MergeStatePoly\", \"MergeStatePolyBuff\", \"30 Meters\", \"FULL\", \"ROUND\", \"NONE\", None, \"PLANAR\")"
   ]
  },
  {
   "cell_type": "markdown",
   "metadata": {},
   "source": [
    "## Make a raster of all historic places\n",
    "\n",
    "Now we merge together the 3 different layers we made above: buffered national points for states we don't have data for, buffered state points, buffered state polygons"
   ]
  },
  {
   "cell_type": "code",
   "execution_count": 31,
   "metadata": {},
   "outputs": [
    {
     "data": {
      "text/html": [
       "<h2>Output</h2>E:\\WORKING\\Indicators\\Terrestrial\\LowUrbanHistoric\\2021\\LowUrbanHistoric.gdb\\MergeAllBuffered<h2>Messages</h2>Start Time: Friday, June 25, 2021 10:09:37 PM<br/>Succeeded at Friday, June 25, 2021 10:09:48 PM (Elapsed Time: 11.25 seconds)<br/><style>.rendered_html td, .rendered_html th {text-align: left;}.rendered_html tbody {border: 1px solid black;}</style>"
      ],
      "text/plain": [
       "<Result 'E:\\\\WORKING\\\\Indicators\\\\Terrestrial\\\\LowUrbanHistoric\\\\2021\\\\LowUrbanHistoric.gdb\\\\MergeAllBuffered'>"
      ]
     },
     "execution_count": 31,
     "metadata": {},
     "output_type": "execute_result"
    }
   ],
   "source": [
    "# Merge 3 processed inputs we made above\n",
    "arcpy.management.Merge([\"MergeStatePointBuff\",\"MergeStatePolyBuff\",\"MergeNationalClipBuff\"], \"MergeAllBuffered\", \"NO_SOURCE_INFO\")"
   ]
  },
  {
   "cell_type": "code",
   "execution_count": 32,
   "metadata": {},
   "outputs": [
    {
     "data": {
      "text/html": [
       "<h2>Output</h2>E:\\WORKING\\Indicators\\Terrestrial\\LowUrbanHistoric\\2021\\LowUrbanHistoric.gdb\\MergeAllBuffered<h2>Messages</h2>Start Time: Friday, June 25, 2021 10:09:48 PM<br/>Adding raster to MergeAllBuffered...<br/>Succeeded at Friday, June 25, 2021 10:10:01 PM (Elapsed Time: 12.10 seconds)<br/><style>.rendered_html td, .rendered_html th {text-align: left;}.rendered_html tbody {border: 1px solid black;}</style>"
      ],
      "text/plain": [
       "<Result 'E:\\\\WORKING\\\\Indicators\\\\Terrestrial\\\\LowUrbanHistoric\\\\2021\\\\LowUrbanHistoric.gdb\\\\MergeAllBuffered'>"
      ]
     },
     "execution_count": 32,
     "metadata": {},
     "output_type": "execute_result"
    }
   ],
   "source": [
    "# add and calculate a field that we can use to convert to a raster\n",
    "arcpy.management.CalculateField(\"MergeAllBuffered\", \"raster\", \"1\", \"PYTHON3\", '', \"TEXT\")"
   ]
  },
  {
   "cell_type": "code",
   "execution_count": 33,
   "metadata": {},
   "outputs": [],
   "source": [
    "# convert all historic polygon to raster\n",
    "with arcpy.EnvManager(outputCoordinateSystem=sr, extent=SEraster, snapRaster=SEraster, cellSize=SEraster):\n",
    "    arcpy.conversion.PolygonToRaster(\"MergeAllBuffered\", \"raster\", \"MergeAllBufferedr\", \"CELL_CENTER\", \"NONE\", SEraster)"
   ]
  },
  {
   "cell_type": "markdown",
   "metadata": {},
   "source": [
    "### Bring in NLCD\n",
    "\n",
    "These steps take the 2011 NLCD, pull out all urban classes as 1 and leave everything else as 0, then uses focal statistics\\mean to calculate the percent urban in a 270 meter radius (we used 270 instead of 250 since we are using 30 meter pixels).  All pixels that are < 50% urban in a 270 meter radius are considered low urban and are given a value of 1.  All pixels that are > 50% urban in a 279 meter radius are considered high urban and are give a value of 0. "
   ]
  },
  {
   "cell_type": "code",
   "execution_count": 34,
   "metadata": {},
   "outputs": [],
   "source": [
    "# Make sure I'm in the workspace to where I am saving the outputs\n",
    "arcpy.env.workspace = OutWorkspace"
   ]
  },
  {
   "cell_type": "code",
   "execution_count": 35,
   "metadata": {},
   "outputs": [
    {
     "name": "stdout",
     "output_type": "stream",
     "text": [
      "E:\\WORKING\\Indicators\\Terrestrial\\LowUrbanHistoric\\2021\\LowUrbanHistoric.gdb\n"
     ]
    }
   ],
   "source": [
    "# Print the current workspace to make sure I'm in the right spot\n",
    "print(arcpy.env.workspace)"
   ]
  },
  {
   "cell_type": "code",
   "execution_count": 36,
   "metadata": {},
   "outputs": [],
   "source": [
    "# Make a raster with the 4 urban classes as 1 and everything else is 0\n",
    "with arcpy.EnvManager(extent=SEraster):\n",
    "    out_raster = arcpy.sa.Con(nlcd, 1, 0, \"Value IN (21, 22, 23, 24)\"); out_raster.save(\"NLCDurb\")"
   ]
  },
  {
   "cell_type": "code",
   "execution_count": 37,
   "metadata": {},
   "outputs": [],
   "source": [
    "# calculate focal statistics on above raster. Cacluate mean in a circle neighborhood with a radius of 270 meters. This will give us the\n",
    "# percent urban in that focal window (because of how we reclassified above)\n",
    "# This ran before, and it runs now, but now I keep getting an error that I cannot save this to my workspace. Grr.\n",
    "# I'm going to try to save as a .tif to see if that works\n",
    "# nope still got the runtime error\n",
    "# problem solved, my harddrive was running out of space\n",
    "out_raster = arcpy.sa.FocalStatistics(\"NLCDurb\", \"Circle 270 MAP\", \"MEAN\", \"DATA\", 90); out_raster.save(\"M270m\")"
   ]
  },
  {
   "cell_type": "code",
   "execution_count": 38,
   "metadata": {},
   "outputs": [],
   "source": [
    "# reclassify so that all pixels that are > 50% urban in a 279 meter radius are considered high urban and are give a value of 0\n",
    "out_raster = arcpy.sa.Reclassify(\"M270m\", \"VALUE\", \"0 0.500000 1;0.500000 1 0\", \"DATA\"); out_raster.save(\"M270m50T\")"
   ]
  },
  {
   "cell_type": "code",
   "execution_count": 39,
   "metadata": {},
   "outputs": [],
   "source": [
    "# Mask out areas that are not historic by taking the percent urban raster times the historic areas raster\n",
    "out_raster = arcpy.sa.Times(\"MergeAllBufferedr\", \"M270m50T\"); out_raster.save(\"M270m50TH\")"
   ]
  },
  {
   "cell_type": "code",
   "execution_count": 40,
   "metadata": {},
   "outputs": [],
   "source": [
    "# We decided in the end to change the classification so that 0 = not a historic site, 1 = high urban historic site, 2 = low urban historic site\n",
    "out_raster = arcpy.sa.Reclassify(\"M270m50TH\", \"VALUE\", \"0 1;1 2;NODATA 0\" \"DATA\"); out_raster.save(\"LowUrbanHistoric\")"
   ]
  },
  {
   "cell_type": "code",
   "execution_count": 41,
   "metadata": {},
   "outputs": [],
   "source": [
    "# Prep NLCD so we can use it to assign NoData to oceans\n",
    "out_raster = arcpy.sa.SetNull(nlcd, 1, \"\\\"NLCD_Land\\\" = \\'Unclassified\\'\"); out_raster.save(\"NLCDUnNull\")"
   ]
  },
  {
   "cell_type": "code",
   "execution_count": 42,
   "metadata": {},
   "outputs": [],
   "source": [
    "out_raster = arcpy.sa.ExtractByMask(\"LowUrbanHistoric\", \"NLCDUnNull\"); out_raster.save(\"indicator\")"
   ]
  },
  {
   "cell_type": "markdown",
   "metadata": {},
   "source": [
    "## because we forgot to use this indicator in nearby subregion zonation runs, we had to go back and clip it down to just the subregion(s) used for zonation. For next year, we want to change this back to using this indicator everywhere it exists."
   ]
  },
  {
   "cell_type": "code",
   "execution_count": 343,
   "metadata": {},
   "outputs": [
    {
     "data": {
      "text/html": [
       "<h2>Output</h2>E:\\WORKING\\BaseBlueprint\\2022\\4_Indicators\\SouthAtlanticLowUrbanHistoric\\SouthAtlanticLowUrbanHistoric.gdb\\sub<h2>Messages</h2>Start Time: Wednesday, August 3, 2022 10:05:54 PM<br/>Succeeded at Wednesday, August 3, 2022 10:05:54 PM (Elapsed Time: 0.33 seconds)<br/><style>.rendered_html td, .rendered_html th {text-align: left;}.rendered_html tbody {border: 1px solid black;}</style>"
      ],
      "text/plain": [
       "<Result 'E:\\\\WORKING\\\\BaseBlueprint\\\\2022\\\\4_Indicators\\\\SouthAtlanticLowUrbanHistoric\\\\SouthAtlanticLowUrbanHistoric.gdb\\\\sub'>"
      ]
     },
     "execution_count": 343,
     "metadata": {},
     "output_type": "execute_result"
    }
   ],
   "source": [
    "# pull out subregion(s) where indicator was used\n",
    "arcpy.analysis.Select(SubR, \"sub\", \"SubRgn IN ('Atlantic Coastal Plain','East Gulf Coastal Plain Sub','Piedmont')\")"
   ]
  },
  {
   "cell_type": "code",
   "execution_count": 344,
   "metadata": {},
   "outputs": [],
   "source": [
    "# clip raster to subregion(s) where indicator was used\n",
    "with arcpy.EnvManager(outputCoordinateSystem=sr, snapRaster=SEraster):\n",
    "    out_raster = arcpy.sa.ExtractByMask(indicator1, \"sub\"); out_raster.save(\"indicator\")"
   ]
  },
  {
   "cell_type": "markdown",
   "metadata": {},
   "source": [
    "### Finalize indiator\n",
    "\n",
    "do final steps for all indicators to add description fields, clip and export to SE extent, clip and export to SA extent"
   ]
  },
  {
   "cell_type": "code",
   "execution_count": 345,
   "metadata": {},
   "outputs": [],
   "source": [
    "# set code block for next step\n",
    "codeblock = \"\"\"\n",
    "def Reclass(value):\n",
    "    if value == 2:\n",
    "        return '2 = Historic place with nearby low-urban buffer'\n",
    "    elif value == 1:\n",
    "        return '1 = Historic place with nearby high-urban buffer'\n",
    "    elif value == 0:\n",
    "        return '0 = Not in the National Register of Historic Places'    \n",
    "\"\"\""
   ]
  },
  {
   "cell_type": "code",
   "execution_count": 346,
   "metadata": {},
   "outputs": [
    {
     "data": {
      "text/html": [
       "<h2>Output</h2>a Layer object<h2>Messages</h2>Start Time: Wednesday, August 3, 2022 10:12:50 PM<br/>Succeeded at Wednesday, August 3, 2022 10:12:50 PM (Elapsed Time: 0.03 seconds)<br/><style>.rendered_html td, .rendered_html th {text-align: left;}.rendered_html tbody {border: 1px solid black;}</style>"
      ],
      "text/plain": [
       "<Result 'indicator'>"
      ]
     },
     "execution_count": 346,
     "metadata": {},
     "output_type": "execute_result"
    }
   ],
   "source": [
    "# add and calculate description field to hold indicator values\n",
    "arcpy.management.CalculateField(\"indicator\", \"descript\", \"Reclass(!value!)\", \"PYTHON3\", codeblock, \"TEXT\")"
   ]
  },
  {
   "cell_type": "code",
   "execution_count": 351,
   "metadata": {},
   "outputs": [],
   "source": [
    "# set code block for next step\n",
    "codeblock = \"\"\"\n",
    "def Reclass1(Value):\n",
    "\tif Value == 2:\n",
    "\t\treturn 93\n",
    "\tif Value == 1:\n",
    "\t\treturn 161\n",
    "\telse:\n",
    "\t\treturn 255\n",
    "\t\t\n",
    "def Reclass2(Value):\n",
    "\tif Value == 2:\n",
    "\t\treturn 64\n",
    "\tif Value == 1:\n",
    "\t\treturn 136\n",
    "\telse:\n",
    "\t\treturn 255\n",
    "\t\t\n",
    "def Reclass3(Value):\n",
    "\tif Value == 2:\n",
    "\t\treturn 55\n",
    "\tif Value == 1:\n",
    "\t\treturn 127\n",
    "\telse:\n",
    "\t\treturn 255\n",
    "\t\t\n",
    "\"\"\""
   ]
  },
  {
   "cell_type": "code",
   "execution_count": 352,
   "metadata": {},
   "outputs": [
    {
     "data": {
      "text/html": [
       "<h2>Output</h2>a Layer object<h2>Messages</h2>Start Time: Wednesday, August 3, 2022 10:16:57 PM<br/>Succeeded at Wednesday, August 3, 2022 10:16:57 PM (Elapsed Time: 0.02 seconds)<br/><style>.rendered_html td, .rendered_html th {text-align: left;}.rendered_html tbody {border: 1px solid black;}</style>"
      ],
      "text/plain": [
       "<Result 'indicator'>"
      ]
     },
     "execution_count": 352,
     "metadata": {},
     "output_type": "execute_result"
    }
   ],
   "source": [
    "# calculate Red field\n",
    "arcpy.management.CalculateField(\"indicator\", \"Red\", \"Reclass1(!Value!)\", \"PYTHON3\", codeblock, \"SHORT\")\n",
    "# calculate Green field\n",
    "arcpy.management.CalculateField(\"indicator\", \"Green\", \"Reclass2(!Value!)\", \"PYTHON3\", codeblock, \"SHORT\")\n",
    "# calculate Blue field\n",
    "arcpy.management.CalculateField(\"indicator\", \"Blue\", \"Reclass3(!Value!)\", \"PYTHON3\", codeblock, \"SHORT\")"
   ]
  },
  {
   "cell_type": "code",
   "execution_count": 353,
   "metadata": {},
   "outputs": [],
   "source": [
    "# clip to SE 2022 Blueprint extent\n",
    "with arcpy.EnvManager(outputCoordinateSystem=sr, snapRaster=SEraster, cellSize=SEraster):\n",
    "    out_raster = arcpy.sa.ExtractByMask(\"indicator\", SEraster); out_raster.save(\"SEMask2\")"
   ]
  },
  {
   "cell_type": "code",
   "execution_count": 354,
   "metadata": {},
   "outputs": [],
   "source": [
    "# export as .tif\n",
    "with arcpy.EnvManager(outputCoordinateSystem=sr, snapRaster=SEraster, cellSize=SEraster):\n",
    "    arcpy.management.CopyRaster(\"SEMask2\", SEout, '', None, \"255\", \"NONE\", \"NONE\", \"8_BIT_UNSIGNED\", \"NONE\", \"NONE\", \"TIFF\", \"NONE\", \"CURRENT_SLICE\", \"NO_TRANSPOSE\")"
   ]
  }
 ],
 "metadata": {
  "kernelspec": {
   "display_name": "ArcGISPro",
   "language": "Python",
   "name": "python3"
  },
  "language_info": {
   "file_extension": ".py",
   "name": "python",
   "version": "3"
  }
 },
 "nbformat": 4,
 "nbformat_minor": 2
}
