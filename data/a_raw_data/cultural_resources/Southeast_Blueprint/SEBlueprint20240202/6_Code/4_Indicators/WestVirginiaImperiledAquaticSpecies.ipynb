{
 "cells": [
  {
   "cell_type": "markdown",
   "metadata": {},
   "source": [
    "# Imperiled Aquatic Species\n",
    "\n",
    "This is a draft indicator for the 2023 blueprint minor update.\n",
    "\n",
    "This is a proposed change to the way we handle 0 vs nodata in our indicators.\n",
    "\n",
    "This must be run in ArcPro with an open map because of the join.\n",
    "\n",
    "Created by Amy Keister, last run by Amy Keister on 15 May, 2023. It took 40 minutes to run."
   ]
  },
  {
   "cell_type": "code",
   "execution_count": 27,
   "metadata": {},
   "outputs": [],
   "source": [
    "import os\n",
    "import arcpy"
   ]
  },
  {
   "cell_type": "code",
   "execution_count": 28,
   "metadata": {},
   "outputs": [],
   "source": [
    "import time\n",
    "start = time.time()"
   ]
  },
  {
   "cell_type": "code",
   "execution_count": 29,
   "metadata": {},
   "outputs": [],
   "source": [
    "# define spatial reference and workspaces\n",
    "sr= arcpy.SpatialReference(5070)\n",
    "#SourceWorkspace= \n",
    "OutWorkspace= r\"D:\\SE_Blueprint_2023\\5_Indicators_Tier2_UnClipped\\WestVirginiaImp\\WestVir.gdb\""
   ]
  },
  {
   "cell_type": "code",
   "execution_count": 30,
   "metadata": {},
   "outputs": [],
   "source": [
    "# define final outputs\n",
    "out = r\"D:\\SE_Blueprint_2023\\5_Indicators_Tier2_UnClipped\\WestVirginiaImp\\WestVirginiaImperiledAquaticSpecies.tif\""
   ]
  },
  {
   "cell_type": "code",
   "execution_count": 31,
   "metadata": {},
   "outputs": [],
   "source": [
    "# define rasters used for cell size, extent, and snapping\n",
    "Rextent= r\"F:\\GIS_DATA\\SECAS\\SE_Blueprint_2022\\Southeast_Blueprint_2022_Data_Download\\SEBlueprint20221215\\Inputs\\BaseBlueprint\\1_ExtentLayers\\BaseBlueprintExtent2022.tif\""
   ]
  },
  {
   "cell_type": "code",
   "execution_count": 32,
   "metadata": {},
   "outputs": [],
   "source": [
    "# define inputs\n",
    "#SARP = r\"F:\\GIS_DATA\\WaterResources\\SARP2023\\spp_HUC12.xlsx\"\n",
    "#SARP = r\"F:\\GIS_DATA\\WaterResources\\SARP2023\\spp_HUC12.xlsx\\Sheet1$\"\n",
    "Env = r\"F:\\GIS_DATA\\SpeciesAndHabitats\\EPAEnviroAtlas\\CONUS_metrics_Sep2021_FGDB\\CONUS_metrics_Sep2021_FGDB.gdb\\natureserve_NHDPv2_WBD\"\n",
    "FP = r\"F:\\GIS_DATA\\WaterResources\\Estimated_floodplain_CONUS\\Estimated_floodplain_CONUS.tif\"\n",
    "H12 = r\"F:\\GIS_DATA\\WaterResources\\NHD\\WBD_National_GDB\\WBD_National_GDB.gdb\\WBDHU12\"\n",
    "state= r\"F:\\GIS_DATA\\Boundaries\\States\\tl_rd22_us_state\\tl_rd22_us_state.shp\"\n",
    "catch = r\"F:\\GIS_DATA\\WaterResources\\NHD\\NHDPlusV21\\NHDPlusV21_Catchment.gdb\\Catchment\"\n",
    "# can't use high resolution for this purpose because the NC coast is messed up\n",
    "#catch= r\"F:\\GIS_DATA\\WaterResources\\NHD\\NHDPlus_H_National_Release_1_GDB\\NHDPlus_H_National_Release_1_GDB.gdb\\NHDPlusCatchment\""
   ]
  },
  {
   "cell_type": "markdown",
   "metadata": {},
   "source": [
    "### Start Analysis"
   ]
  },
  {
   "cell_type": "code",
   "execution_count": 33,
   "metadata": {},
   "outputs": [],
   "source": [
    "# Set the workspace where I want the output to go\n",
    "arcpy.env.workspace = OutWorkspace"
   ]
  },
  {
   "cell_type": "code",
   "execution_count": 34,
   "metadata": {},
   "outputs": [
    {
     "name": "stdout",
     "output_type": "stream",
     "text": [
      "D:\\SE_Blueprint_2023\\5_Indicators_Tier2_UnClipped\\WestVirginiaImp\\WestVir.gdb\n"
     ]
    }
   ],
   "source": [
    "# Print the current workspace to make sure I'm in the right spot\n",
    "print(arcpy.env.workspace)"
   ]
  },
  {
   "cell_type": "markdown",
   "metadata": {},
   "source": [
    "### SARP Data\n"
   ]
  },
  {
   "cell_type": "code",
   "execution_count": 18,
   "metadata": {},
   "outputs": [],
   "source": [
    "# make a copy of the HUC12 for edits\n",
    "with arcpy.EnvManager(outputCoordinateSystem=sr, extent=Rextent):\n",
    "    arcpy.management.CopyFeatures(H12, \"H12\", '', None, None, None)"
   ]
  },
  {
   "cell_type": "code",
   "execution_count": 19,
   "metadata": {},
   "outputs": [],
   "source": [
    "# join table from Enviro Atlas with HUC12\n",
    "with arcpy.EnvManager(outputCoordinateSystem=sr, extent=Rextent):\n",
    "    arcpy.management.AddJoin(\"H12\", \"huc12\", Env, \"HUC_12\", \"KEEP_ALL\", \"NO_INDEX_JOIN_FIELDS\")"
   ]
  },
  {
   "cell_type": "code",
   "execution_count": 20,
   "metadata": {},
   "outputs": [],
   "source": [
    "# convert to raster using the \"AQ_TOT_A\" field\n",
    "with arcpy.EnvManager(outputCoordinateSystem=sr, extent=Rextent, snapRaster=Rextent, cellSize=Rextent):\n",
    "    arcpy.conversion.PolygonToRaster(\"H12\", \"natureserve_NHDPv2_WBD.AQ_TOT_A\", \"AqTotA\", \"CELL_CENTER\", \"NONE\", 30)"
   ]
  },
  {
   "cell_type": "code",
   "execution_count": 21,
   "metadata": {},
   "outputs": [],
   "source": [
    "# reclassify\n",
    "with arcpy.EnvManager(outputCoordinateSystem=sr, extent=Rextent, snapRaster=Rextent, cellSize=Rextent):\n",
    "    out_raster = arcpy.sa.Reclassify(\"AqTotA\", \"Value\", \"NODATA 1;0 1;1 2;2 3;3 4;4 100 5\", \"DATA\"); out_raster.save(\"AqTotARclss\")"
   ]
  },
  {
   "cell_type": "code",
   "execution_count": 22,
   "metadata": {},
   "outputs": [],
   "source": [
    "# Limit the aquatic data to the EPA floodplain\n",
    "out_raster = arcpy.sa.Con(FP, \"AqTotARclss\", 0,\"Value = 1\"); out_raster.save(\"imperiled\")"
   ]
  },
  {
   "cell_type": "markdown",
   "metadata": {},
   "source": [
    "### Clip to medium resolution catchments"
   ]
  },
  {
   "cell_type": "code",
   "execution_count": 23,
   "metadata": {},
   "outputs": [],
   "source": [
    "# turn NHD medium resolution catchments to raster\n",
    "with arcpy.EnvManager(outputCoordinateSystem=sr, extent=Rextent, snapRaster=Rextent, cellSize=Rextent):\n",
    "    arcpy.conversion.PolygonToRaster(catch, \"GRIDCODE\", \"catchr\", \"CELL_CENTER\", \"NONE\", Rextent)"
   ]
  },
  {
   "cell_type": "code",
   "execution_count": 24,
   "metadata": {},
   "outputs": [],
   "source": [
    "# The EPA floodplain goes too far into the estuaries and oceans, we need to clip it back. We are using NHDPlus medium resolution \n",
    "# catchments for this\n",
    "out_raster = arcpy.sa.Con(\"catchr\", \"imperiled\", '',\"Value > 1\"); out_raster.save(\"imperiledA\")"
   ]
  },
  {
   "cell_type": "markdown",
   "metadata": {},
   "source": [
    "### Since these data are only used for West Virginia entirely, we need to remove everythging that isn't West Virginia"
   ]
  },
  {
   "cell_type": "code",
   "execution_count": 25,
   "metadata": {},
   "outputs": [],
   "source": [
    "# pull out west virgina from the state boundary file \n",
    "with arcpy.EnvManager(outputCoordinateSystem=sr, extent=Rextent):\n",
    "    arcpy.analysis.Select(state, \"WV\", \"STUSPS = 'WV'\")"
   ]
  },
  {
   "cell_type": "code",
   "execution_count": 26,
   "metadata": {},
   "outputs": [
    {
     "data": {
      "text/html": [
       "<div class='gpresult'><h2>Messages</h2><div id='messages' data-messages='[\"Start Time: Wednesday, May 17, 2023 4:13:43 PM\",\"Adding raster to WV...\",\"Succeeded at Wednesday, May 17, 2023 4:13:44 PM (Elapsed Time: 0.21 seconds)\"]' data-show='true'><div id = 'default' /></div></div>"
      ],
      "text/plain": [
       "<Result 'WV'>"
      ]
     },
     "execution_count": 26,
     "metadata": {},
     "output_type": "execute_result"
    }
   ],
   "source": [
    "# add field for raster conversion\n",
    "arcpy.management.CalculateField('WV', \"raster\", \"1\", \"PYTHON3\", \"\", \"SHORT\")"
   ]
  },
  {
   "cell_type": "code",
   "execution_count": 27,
   "metadata": {},
   "outputs": [],
   "source": [
    "# convert West Virginia polygon to raster\n",
    "with arcpy.EnvManager(outputCoordinateSystem=sr, extent=Rextent, snapRaster=Rextent, cellSize=Rextent):\n",
    "    arcpy.conversion.PolygonToRaster('WV', \"raster\", \"WVr\", \"CELL_CENTER\", \"NONE\", Rextent)"
   ]
  },
  {
   "cell_type": "code",
   "execution_count": 28,
   "metadata": {},
   "outputs": [],
   "source": [
    "# make all values in West Virginia nodata\n",
    "out_raster = arcpy.sa.Times(\"imperiledA\", \"WVr\"); out_raster.save('imperiledAq')"
   ]
  },
  {
   "cell_type": "markdown",
   "metadata": {},
   "source": [
    "### Finalize indiator\n",
    "\n",
    "do final steps for all indicators to add description fields, clip and export to SE extent, clip and export to SA extent"
   ]
  },
  {
   "cell_type": "code",
   "execution_count": 29,
   "metadata": {},
   "outputs": [],
   "source": [
    "# set code block for next step\n",
    "codeblock = \"\"\"\n",
    "def Reclass(value):\n",
    "    if value == 5:\n",
    "        return '5 = 4+ aquatic imperiled (G1/G2) or threatened/endangered animal species observed'\n",
    "    elif value == 4:\n",
    "        return '4 = 3 aquatic imperiled (G1/G2) or threatened/endangered animal species observed'\n",
    "    elif value == 3:\n",
    "        return '3 = 2 aquatic imperiled (G1/G2) or threatened/endangered animal species observed'\n",
    "    elif value == 2:\n",
    "        return '2 = 1 aquatic imperiled (G1/G2) or threatened/endangered animal species observed'\n",
    "    elif value == 1:\n",
    "        return '1 = 0 aquatic imperiled (G1/G2) or threatened/endangered animal species observed'\n",
    "    elif value == 0:\n",
    "        return '0 = Not identified as a floodplain' \n",
    "\"\"\""
   ]
  },
  {
   "cell_type": "code",
   "execution_count": 30,
   "metadata": {},
   "outputs": [
    {
     "data": {
      "text/html": [
       "<div class='gpresult'><h2>Messages</h2><div id='messages' data-messages='[\"Start Time: Wednesday, May 17, 2023 4:14:42 PM\",\"Adding descript to VAT_imperiledAq...\",\"Succeeded at Wednesday, May 17, 2023 4:14:42 PM (Elapsed Time: 0.19 seconds)\"]' data-show='true'><div id = 'default' /></div></div>"
      ],
      "text/plain": [
       "<Result 'D:\\\\SE_Blueprint_2023\\\\5_Indicators_Tier2_UnClipped\\\\WestVirginiaImp\\\\WestVir.gdb\\\\imperiledAq'>"
      ]
     },
     "execution_count": 30,
     "metadata": {},
     "output_type": "execute_result"
    }
   ],
   "source": [
    "# add and calculate description field to hold indicator values\n",
    "arcpy.management.CalculateField(\"imperiledAq\", \"descript\", \"Reclass(!value!)\", \"PYTHON3\", codeblock, \"TEXT\")"
   ]
  },
  {
   "cell_type": "code",
   "execution_count": 35,
   "metadata": {},
   "outputs": [],
   "source": [
    "# set code block for next step\n",
    "codeblock = \"\"\"\n",
    "def Reclass1(Value):\n",
    "\tif Value == 9:\n",
    "\t\treturn 8\n",
    "\tif Value == 8:\n",
    "\t\treturn 36\n",
    "\tif Value == 7:\n",
    "\t\treturn 32\n",
    "\tif Value == 6:\n",
    "\t\treturn 25\n",
    "\tif Value == 5:\n",
    "\t\treturn 57\n",
    "\tif Value == 4:\n",
    "\t\treturn 115\n",
    "\tif Value == 3:\n",
    "\t\treturn 187\n",
    "\tif Value == 2:\n",
    "\t\treturn 233\n",
    "\tif Value == 1:\n",
    "\t\treturn 255\n",
    "\tif Value == 0:\n",
    "\t\treturn 255\n",
    "\telse:\n",
    "\t\treturn 255\n",
    "\t\t\n",
    "def Reclass2(Value):\n",
    "\tif Value == 9:\n",
    "\t\treturn 29\n",
    "\tif Value == 8:\n",
    "\t\treturn 51\n",
    "\tif Value == 7:\n",
    "\t\treturn 93\n",
    "\tif Value == 6:\n",
    "\t\treturn 144\n",
    "\tif Value == 5:\n",
    "\t\treturn 181\n",
    "\tif Value == 4:\n",
    "\t\treturn 205\n",
    "\tif Value == 3:\n",
    "\t\treturn 233\n",
    "\tif Value == 2:\n",
    "\t\treturn 248\n",
    "\tif Value == 1:\n",
    "\t\treturn 255\n",
    "\tif Value == 0:\n",
    "\t\treturn 255\n",
    "\telse:\n",
    "\t\treturn 255\n",
    "\t\t\n",
    "def Reclass3(Value):\n",
    "\tif Value == 9:\n",
    "\t\treturn 88\n",
    "\tif Value == 8:\n",
    "\t\treturn 148\n",
    "\tif Value == 7:\n",
    "\t\treturn 168\n",
    "\tif Value == 6:\n",
    "\t\treturn 192\n",
    "\tif Value == 5:\n",
    "\t\treturn 196\n",
    "\tif Value == 4:\n",
    "\t\treturn 184\n",
    "\tif Value == 3:\n",
    "\t\treturn 161\n",
    "\tif Value == 2:\n",
    "\t\treturn 152\n",
    "\tif Value == 1:\n",
    "\t\treturn 192\n",
    "\tif Value == 0:\n",
    "\t\treturn 255\n",
    "\telse:\n",
    "\t\treturn 255\n",
    "\"\"\""
   ]
  },
  {
   "cell_type": "code",
   "execution_count": 36,
   "metadata": {},
   "outputs": [
    {
     "data": {
      "text/html": [
       "<div class='gpresult'><h2>Messages</h2><div id='messages' data-messages='[\"Start Time: Friday, September 15, 2023 1:00:28 PM\",\"Succeeded at Friday, September 15, 2023 1:00:28 PM (Elapsed Time: 0.34 seconds)\"]' data-show='true'><div id = 'default' /></div></div>"
      ],
      "text/plain": [
       "<Result 'imperiledAq'>"
      ]
     },
     "execution_count": 36,
     "metadata": {},
     "output_type": "execute_result"
    }
   ],
   "source": [
    "# calculate Red field\n",
    "arcpy.management.CalculateField(\"imperiledAq\", \"Red\", \"Reclass1(!Value!)\", \"PYTHON3\", codeblock, \"SHORT\")\n",
    "# calculate Green field\n",
    "arcpy.management.CalculateField(\"imperiledAq\", \"Green\", \"Reclass2(!Value!)\", \"PYTHON3\", codeblock, \"SHORT\")\n",
    "# calculate Blue field\n",
    "arcpy.management.CalculateField(\"imperiledAq\", \"Blue\", \"Reclass3(!Value!)\", \"PYTHON3\", codeblock, \"SHORT\")"
   ]
  },
  {
   "cell_type": "code",
   "execution_count": 37,
   "metadata": {},
   "outputs": [],
   "source": [
    "# clip to base Blueprint extent\n",
    "with arcpy.EnvManager(outputCoordinateSystem=sr, extent=Rextent, snapRaster=Rextent, cellSize=Rextent):\n",
    "    out_raster = arcpy.sa.ExtractByMask(\"imperiledAq\", Rextent); out_raster.save(\"mask\")"
   ]
  },
  {
   "cell_type": "code",
   "execution_count": 38,
   "metadata": {},
   "outputs": [],
   "source": [
    "# export as .tif with base extent\n",
    "with arcpy.EnvManager(outputCoordinateSystem=sr, extent=Rextent, snapRaster=Rextent, cellSize=Rextent):\n",
    "    arcpy.management.CopyRaster(\"mask\", out, '', None, \"255\", \"NONE\", \"NONE\", \"8_BIT_UNSIGNED\", \"NONE\", \"NONE\", \"TIFF\", \"NONE\", \"CURRENT_SLICE\", \"NO_TRANSPOSE\")"
   ]
  },
  {
   "cell_type": "code",
   "execution_count": 35,
   "metadata": {},
   "outputs": [
    {
     "name": "stdout",
     "output_type": "stream",
     "text": [
      "2028.027860403061\n"
     ]
    }
   ],
   "source": [
    "# this prints the time it took this notebook to run in seconds\n",
    "end = time.time()\n",
    "print(end - start)"
   ]
  },
  {
   "cell_type": "code",
   "execution_count": null,
   "metadata": {},
   "outputs": [],
   "source": []
  }
 ],
 "metadata": {
  "kernelspec": {
   "display_name": "ArcGISPro",
   "language": "Python",
   "name": "python3"
  },
  "language_info": {
   "file_extension": ".py",
   "name": "python",
   "version": "3"
  }
 },
 "nbformat": 4,
 "nbformat_minor": 2
}
