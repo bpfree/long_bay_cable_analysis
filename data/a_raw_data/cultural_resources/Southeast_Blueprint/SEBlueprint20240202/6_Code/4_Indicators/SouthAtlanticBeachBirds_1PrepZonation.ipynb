{
 "cells": [
  {
   "cell_type": "markdown",
   "metadata": {},
   "source": [
    "# South Atlantic BeachBirds\n",
    "\n",
    "This indicator was used in the 2022 base blueprint.\n",
    "\n",
    "In 2022, it was not used in all zonation areas where the source data overlaps, so we added a step to clip it down to the area where it was used in zonation. We will revisit the exent in 2023\n",
    "\n",
    "This indicator was originally made for the South Atlantic Blueprint using zonation to combine beach bird species data.\n",
    "\n",
    "Created by Amy Keister, last run by Amy Keister on 2 August 2022. It took 1 minute to run"
   ]
  },
  {
   "cell_type": "code",
   "execution_count": 1,
   "metadata": {},
   "outputs": [],
   "source": [
    "import os\n",
    "import arcpy"
   ]
  },
  {
   "cell_type": "code",
   "execution_count": 2,
   "metadata": {},
   "outputs": [],
   "source": [
    "import time\n",
    "start = time.time()"
   ]
  },
  {
   "cell_type": "code",
   "execution_count": 3,
   "metadata": {},
   "outputs": [],
   "source": [
    "# define spatial reference and workspaces\n",
    "sr= arcpy.SpatialReference(5070)\n",
    "#SourceWorkspace= \n",
    "OutWorkspace = r\"D:\\SE_Blueprint_2023\\5_Indicators_Tier2_UnClipped\\SouthAtlanticBeach\\SouthAtlanticBPrep.gdb\""
   ]
  },
  {
   "cell_type": "code",
   "execution_count": 4,
   "metadata": {},
   "outputs": [],
   "source": [
    "# define final indicator outputs\n",
    "#SEout = r\"D:\\SE_Blueprint_2023\\5_Indicators_Tier2_UnClipped\\SouthAtlanticBeach\\SouthAtlanticBeachBirds2023.tif\""
   ]
  },
  {
   "cell_type": "code",
   "execution_count": 5,
   "metadata": {},
   "outputs": [],
   "source": [
    "# define outputs to be used in zonation\n",
    "AMOY= r\"D:\\SE_Blueprint_2023\\5_Indicators_Tier2_UnClipped\\SouthAtlanticBeach\\AMOY.tif\"\n",
    "WIPL= r\"D:\\SE_Blueprint_2023\\5_Indicators_Tier2_UnClipped\\SouthAtlanticBeach\\WIPL.tif\"\n",
    "PIPL= r\"D:\\SE_Blueprint_2023\\5_Indicators_Tier2_UnClipped\\SouthAtlanticBeach\\PIPL.tif\"\n",
    "LETE= r\"D:\\SE_Blueprint_2023\\5_Indicators_Tier2_UnClipped\\SouthAtlanticBeach\\LETE.tif\"\n",
    "zMask= r\"D:\\SE_Blueprint_2023\\5_Indicators_Tier2_UnClipped\\SouthAtlanticBeach\\zMaskNo0.tif\""
   ]
  },
  {
   "cell_type": "code",
   "execution_count": 6,
   "metadata": {},
   "outputs": [],
   "source": [
    "# define rasters used for cell size, extent, and snapping\n",
    "Rextent= r\"F:\\GIS_DATA\\SECAS\\SE_Blueprint_2022\\Southeast_Blueprint_2022_Data_Download\\SEBlueprint20221215\\Inputs\\BaseBlueprint\\1_ExtentLayers\\BaseBlueprintExtent2022.tif\""
   ]
  },
  {
   "cell_type": "code",
   "execution_count": 7,
   "metadata": {},
   "outputs": [],
   "source": [
    "# define inputs\n",
    "birds= r\"F:\\GIS_DATA\\SpeciesAndHabitats\\BeachBirds\\2_0\\Beach_birds_core_area_blp0_no_edge_removal\\Beach_birds_core_area_no_edge_removal\\outputs\\Beach_birds_core_area_no_edge_removal.CAZ_.rank.compressed.tif\"\n",
    "#SubR= r\"E:\\WORKING\\BaseBlueprint\\2022\\1_SubregionsAndExtent\\BaseBlueprintSubRgn.shp\"\n",
    "VH= r\"F:\\GIS_DATA\\SpeciesAndHabitats\\BeachBirds\\VonHolle2011\\GIS\\SHOREBIRD_REGIONAL_POLY_WITH_RANK\\SHOREBIRD_REGIONAL_POLY_WITH_RANK.shp\"\n",
    "PIPLin= r\"F:\\GIS_DATA\\SpeciesAndHabitats\\BeachBirds\\2_0\\AlbersEA\\Bird_species\\PIPL_index_2km_90m.img\"\n",
    "LETEin= r\"F:\\GIS_DATA\\SpeciesAndHabitats\\BeachBirds\\2_0\\AlbersEA\\Bird_species\\LETE_rank_90m.img\"\n",
    "SAraster= r\"F:\\GIS_DATA\\SALCC_BLUEPRINT\\Version_2021\\Blueprint_2021_Data_Download_20220204\\1_ExtentLayers\\SA2021extent.tif\"\n",
    "Rextent= r\"F:\\GIS_DATA\\SECAS\\SE_Blueprint_2022\\Southeast_Blueprint_2022_Data_Download\\SEBlueprint20221215\\Inputs\\BaseBlueprint\\1_ExtentLayers\\BaseBlueprintExtent2022.tif\""
   ]
  },
  {
   "cell_type": "markdown",
   "metadata": {},
   "source": [
    "### Start analysis"
   ]
  },
  {
   "cell_type": "code",
   "execution_count": 8,
   "metadata": {},
   "outputs": [],
   "source": [
    "# Set the output workspace\n",
    "arcpy.env.workspace = OutWorkspace"
   ]
  },
  {
   "cell_type": "code",
   "execution_count": 9,
   "metadata": {},
   "outputs": [
    {
     "name": "stdout",
     "output_type": "stream",
     "text": [
      "D:\\SE_Blueprint_2023\\5_Indicators_Tier2_UnClipped\\SouthAtlanticBeach\\SouthAtlanticBPrep.gdb\n"
     ]
    }
   ],
   "source": [
    "print(arcpy.env.workspace)"
   ]
  },
  {
   "cell_type": "markdown",
   "metadata": {},
   "source": [
    "### Bring in zonation results from Brad"
   ]
  },
  {
   "cell_type": "code",
   "execution_count": 10,
   "metadata": {},
   "outputs": [],
   "source": [
    "# take zonation results times 100\n",
    "#out_raster = arcpy.sa.Times(birds, 100); out_raster.save(\"birds\")"
   ]
  },
  {
   "cell_type": "code",
   "execution_count": 11,
   "metadata": {},
   "outputs": [],
   "source": [
    "# reclassify\n",
    "#out_raster = arcpy.sa.Reclassify(\"birds\", \"VALUE\", \"0 20 1;20 40 2;40 60 3;60 80 4;80 100 5\", \"DATA\"); out_raster.save(\"indicator1\")"
   ]
  },
  {
   "cell_type": "markdown",
   "metadata": {},
   "source": [
    "### Make rasters from VonHolle data"
   ]
  },
  {
   "cell_type": "code",
   "execution_count": 12,
   "metadata": {},
   "outputs": [],
   "source": [
    "# make a copy of VonHolle Shorebird regional poly for edits\n",
    "with arcpy.EnvManager(outputCoordinateSystem=sr):\n",
    "    arcpy.management.CopyFeatures(VH, \"VH\", '', None, None, None)"
   ]
  },
  {
   "cell_type": "code",
   "execution_count": 13,
   "metadata": {},
   "outputs": [],
   "source": [
    "# buffer VonHolle data to make an estimate of extent\n",
    "# buffer by 50 km to try to retain nearshore hardbottom\n",
    "# 50 km was chosen by a quick visual exploration, this number might need to be tweaked\n",
    "with arcpy.EnvManager(outputCoordinateSystem=sr):\n",
    "    arcpy.analysis.Buffer(VH, \"VHbuff50\", \"50 Kilometers\", \"FULL\", \"ROUND\", \"None\", None, \"PLANAR\")"
   ]
  },
  {
   "cell_type": "code",
   "execution_count": 14,
   "metadata": {},
   "outputs": [
    {
     "data": {
      "text/html": [
       "<div class='gpresult'><h2>Messages</h2><div id='messages' data-messages='[\"Start Time: Friday, June 30, 2023 9:14:58 AM\",\"Sorting Attributes...\",\"Dissolving...\",\"Succeeded at Friday, June 30, 2023 9:14:58 AM (Elapsed Time: 0.22 seconds)\"]' data-show='true'><div id = 'default' /></div></div>"
      ],
      "text/plain": [
       "<Result 'D:\\\\SE_Blueprint_2023\\\\5_Indicators_Tier2_UnClipped\\\\SouthAtlanticBeach\\\\SouthAtlanticBPrep.gdb\\\\VHbuff50Dis'>"
      ]
     },
     "execution_count": 14,
     "metadata": {},
     "output_type": "execute_result"
    }
   ],
   "source": [
    "# dissolve buffers (when I try to dissolve while doing the buffer it takes forever)\n",
    "arcpy.management.Dissolve(\"VHbuff50\", \"VHbuff50Dis\", \"BUFF_DIST\", None, \"MULTI_PART\", \"DISSOLVE_LINES\")"
   ]
  },
  {
   "cell_type": "code",
   "execution_count": 15,
   "metadata": {},
   "outputs": [],
   "source": [
    "# add fields for raster conversion\n",
    "#arcpy.management.AddFields(\"VH\", \"WIPL_RANK_NUM SHORT # # # #;AMOY_RANK_NUM SHORT # # # #\")\n"
   ]
  },
  {
   "cell_type": "code",
   "execution_count": 16,
   "metadata": {},
   "outputs": [],
   "source": [
    "# set code block for next step\n",
    "codeblock = \"\"\"\n",
    "def Reclass(value):\n",
    "    if value == 'Extremely High':\n",
    "        return 6\n",
    "    elif value == 'Very High':\n",
    "        return 5\n",
    "    elif value == 'High':\n",
    "        return 4\n",
    "    elif value == 'Moderately High':\n",
    "        return 3\n",
    "    elif value == 'Moderate':\n",
    "        return 2 \n",
    "    elif value == 'Low':\n",
    "        return 1\n",
    "    elif value == 'None':\n",
    "        return 0 \n",
    "\"\"\""
   ]
  },
  {
   "cell_type": "code",
   "execution_count": 17,
   "metadata": {},
   "outputs": [
    {
     "data": {
      "text/html": [
       "<div class='gpresult'><h2>Messages</h2><div id='messages' data-messages='[\"Start Time: Friday, June 30, 2023 9:14:59 AM\",\"Adding WIPL_RANK_NUM to VH...\",\"Succeeded at Friday, June 30, 2023 9:14:59 AM (Elapsed Time: 0.06 seconds)\"]' data-show='true'><div id = 'default' /></div></div>"
      ],
      "text/plain": [
       "<Result 'VH'>"
      ]
     },
     "execution_count": 17,
     "metadata": {},
     "output_type": "execute_result"
    }
   ],
   "source": [
    "# add and calculate numeric field based on WIPL_RANK\n",
    "arcpy.management.CalculateField(\"VH\", \"WIPL_RANK_NUM\", \"Reclass(!WIPL_RANK!)\", \"PYTHON3\", codeblock, \"SHORT\")"
   ]
  },
  {
   "cell_type": "code",
   "execution_count": 18,
   "metadata": {},
   "outputs": [
    {
     "data": {
      "text/html": [
       "<div class='gpresult'><h2>Messages</h2><div id='messages' data-messages='[\"Start Time: Friday, June 30, 2023 9:14:59 AM\",\"Adding AMOY_RANK_NUM to VH...\",\"Succeeded at Friday, June 30, 2023 9:14:59 AM (Elapsed Time: 0.06 seconds)\"]' data-show='true'><div id = 'default' /></div></div>"
      ],
      "text/plain": [
       "<Result 'VH'>"
      ]
     },
     "execution_count": 18,
     "metadata": {},
     "output_type": "execute_result"
    }
   ],
   "source": [
    "# add and calculate numeric field based on AMOY_RANK\n",
    "arcpy.management.CalculateField(\"VH\", \"AMOY_RANK_NUM\", \"Reclass(!AMOY_RANK!)\", \"PYTHON3\", codeblock, \"SHORT\")"
   ]
  },
  {
   "cell_type": "code",
   "execution_count": 19,
   "metadata": {},
   "outputs": [],
   "source": [
    "# convert to raster using the numeric rank for American Oystercatcher\n",
    "with arcpy.EnvManager(outputCoordinateSystem=sr, extent=LETEin, snapRaster=Rextent, cellSize=Rextent):\n",
    "    arcpy.conversion.PolygonToRaster(\"VH\", \"AMOY_RANK_NUM\", AMOY, \"MAXIMUM_COMBINED_AREA\", \"NONE\", 30)"
   ]
  },
  {
   "cell_type": "code",
   "execution_count": 20,
   "metadata": {},
   "outputs": [],
   "source": [
    "# convert to raster using the numeric rank for Wilson's Plover\n",
    "with arcpy.EnvManager(outputCoordinateSystem=sr, extent=LETEin, snapRaster=Rextent, cellSize=Rextent):\n",
    "    arcpy.conversion.PolygonToRaster(\"VH\", \"WIPL_RANK_NUM\", WIPL, \"MAXIMUM_COMBINED_AREA\", \"NONE\", 30)"
   ]
  },
  {
   "cell_type": "markdown",
   "metadata": {},
   "source": [
    "### Make .tifs from Brad' data on Least Tern and Piping Plover"
   ]
  },
  {
   "cell_type": "code",
   "execution_count": 21,
   "metadata": {},
   "outputs": [],
   "source": [
    "# reproject least tern raster\n",
    "#with arcpy.EnvManager(outputCoordinateSystem=sr, mask=SAraster, extent=SAraster, snapRaster=SAraster):\n",
    "#    arcpy.management.ProjectRaster(LETEin, \"LETEp\", SAraster)"
   ]
  },
  {
   "cell_type": "code",
   "execution_count": 22,
   "metadata": {},
   "outputs": [],
   "source": [
    "# resample least tern raster as 30 meter\n",
    "with arcpy.EnvManager(outputCoordinateSystem=sr, extent=LETEin, snapRaster=Rextent, cellSize=Rextent):\n",
    "    arcpy.management.Resample(LETEin, \"LETE\", \"30 30\", \"NEAREST\")"
   ]
  },
  {
   "cell_type": "code",
   "execution_count": 23,
   "metadata": {},
   "outputs": [],
   "source": [
    "# export as .tif. For some reason when I tried to export as tif at the same time as resample, the extent was wrong\n",
    "with arcpy.EnvManager(outputCoordinateSystem=sr, extent=LETEin, snapRaster=Rextent, cellSize=Rextent):\n",
    "    arcpy.management.CopyRaster(\"LETE\", LETE, '', None, \"255\", \"NONE\", \"NONE\", \"8_BIT_UNSIGNED\", \"NONE\", \"NONE\", \"TIFF\", \"NONE\", \"CURRENT_SLICE\", \"NO_TRANSPOSE\")"
   ]
  },
  {
   "cell_type": "code",
   "execution_count": 24,
   "metadata": {},
   "outputs": [],
   "source": [
    "# resample and export piping plover raster as 30 meter .tif\n",
    "with arcpy.EnvManager(outputCoordinateSystem=sr, extent=LETEin, snapRaster=Rextent, cellSize=Rextent):\n",
    "    arcpy.management.Resample(PIPLin, \"PIPL\", \"30 30\", \"NEAREST\")"
   ]
  },
  {
   "cell_type": "code",
   "execution_count": 25,
   "metadata": {},
   "outputs": [],
   "source": [
    "# export as .tif. For some reason when I tried to export as tif at the same time as resample, the extent was wrong\n",
    "with arcpy.EnvManager(outputCoordinateSystem=sr, extent=LETEin, snapRaster=Rextent, cellSize=Rextent):\n",
    "    arcpy.management.CopyRaster(\"PIPL\", PIPL, '', None, \"255\", \"NONE\", \"NONE\", \"8_BIT_UNSIGNED\", \"NONE\", \"NONE\", \"TIFF\", \"NONE\", \"CURRENT_SLICE\", \"NO_TRANSPOSE\")"
   ]
  },
  {
   "cell_type": "markdown",
   "metadata": {},
   "source": [
    "### Make a mask for zonation"
   ]
  },
  {
   "cell_type": "code",
   "execution_count": 26,
   "metadata": {},
   "outputs": [],
   "source": [
    "# use cell statistics to combine all the data\n",
    "out_raster = arcpy.sa.CellStatistics(\"PIPL.tif;LETE.tif;WIPL.tif;AMOY.tif\", \"MAXIMUM\", \"DATA\", \"SINGLE_BAND\"); out_raster.save(\"all\")"
   ]
  },
  {
   "cell_type": "code",
   "execution_count": 29,
   "metadata": {},
   "outputs": [],
   "source": [
    "# reclassify the above raster to make a mask for zonation\n",
    "with arcpy.EnvManager(outputCoordinateSystem=sr, extent=LETEin, snapRaster=Rextent, cellSize=Rextent):\n",
    "    out_raster = arcpy.sa.Con(\"all\", \"1\", \"\", \"Value >0\"); out_raster.save(\"zMask\")"
   ]
  },
  {
   "cell_type": "code",
   "execution_count": 30,
   "metadata": {},
   "outputs": [],
   "source": [
    "# clip mask to the 50 km buffer around VonHolle data\n",
    "with arcpy.EnvManager(outputCoordinateSystem=sr, extent=LETEin, snapRaster=Rextent, cellSize=Rextent):\n",
    "    out_raster = arcpy.sa.ExtractByMask(\"zMask\", \"VHbuff50Dis\"); out_raster.save(\"zMask2\")"
   ]
  },
  {
   "cell_type": "code",
   "execution_count": 31,
   "metadata": {},
   "outputs": [],
   "source": [
    "# clip mask to the 50 km buffer around VonHolle data\n",
    "with arcpy.EnvManager(outputCoordinateSystem=sr, extent=LETEin, snapRaster=Rextent, cellSize=Rextent):\n",
    "    out_raster = arcpy.sa.ExtractByMask(\"zMask2\", SAraster); out_raster.save(zMask)"
   ]
  },
  {
   "cell_type": "code",
   "execution_count": 32,
   "metadata": {},
   "outputs": [
    {
     "name": "stdout",
     "output_type": "stream",
     "text": [
      "194.4865918159485\n"
     ]
    }
   ],
   "source": [
    "# this prints the time it took this notebook to run in seconds\n",
    "end = time.time()\n",
    "print(end - start)"
   ]
  },
  {
   "cell_type": "code",
   "execution_count": null,
   "metadata": {},
   "outputs": [],
   "source": []
  }
 ],
 "metadata": {
  "kernelspec": {
   "display_name": "ArcGISPro",
   "language": "Python",
   "name": "python3"
  },
  "language_info": {
   "file_extension": ".py",
   "name": "python",
   "version": "3"
  }
 },
 "nbformat": 4,
 "nbformat_minor": 2
}
