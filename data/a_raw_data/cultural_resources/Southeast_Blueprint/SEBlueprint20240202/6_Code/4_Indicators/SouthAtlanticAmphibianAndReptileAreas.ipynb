{
 "cells": [
  {
   "cell_type": "markdown",
   "metadata": {},
   "source": [
    "### South Atlantic Amphibian and reptile areas\n",
    "\n",
    "This indicator was used in the 2023 base blueprint.\n",
    "\n",
    "In 2022, it was not used in all zonation areas where the source data overlaps, so we added a step to clip it down to the area where it was used in zonation. \n",
    "\n",
    "In 2023, we fixed the extent issue and we also made the marine area NoData instead of zero, to better represent where these data are relevant. This code makes an output for the full extent.\n",
    "\n",
    "This indicator was originally made for the South Atlantic Blueprint.\n",
    "\n",
    "Created by Amy Keister, last run by Amy Keister on 10 May 2023. It took 10 minutes to run"
   ]
  },
  {
   "cell_type": "code",
   "execution_count": 1,
   "metadata": {
    "scrolled": true
   },
   "outputs": [],
   "source": [
    "import os\n",
    "import arcpy"
   ]
  },
  {
   "cell_type": "code",
   "execution_count": 2,
   "metadata": {
    "scrolled": true
   },
   "outputs": [],
   "source": [
    "import time\n",
    "start = time.time()"
   ]
  },
  {
   "cell_type": "code",
   "execution_count": 3,
   "metadata": {
    "scrolled": true
   },
   "outputs": [],
   "source": [
    "# define spatial reference and workspaces\n",
    "sr= arcpy.SpatialReference(5070)\n",
    "#SourceWorkspace= \n",
    "OutWorkspace = r\"D:\\SE_Blueprint_2023\\5_Indicators_Tier2_UnClipped\\SA_AmphibRept\\SouthAtlanticAmphi.gdb\""
   ]
  },
  {
   "cell_type": "code",
   "execution_count": 4,
   "metadata": {
    "scrolled": true
   },
   "outputs": [],
   "source": [
    "# define final indicator outputs\n",
    "out = r\"D:\\SE_Blueprint_2023\\5_Indicators_Tier2_UnClipped\\SA_AmphibRept\\SouthAtlanticAmphibianAndReptileAreas2023.tif\""
   ]
  },
  {
   "cell_type": "code",
   "execution_count": 5,
   "metadata": {
    "scrolled": true
   },
   "outputs": [],
   "source": [
    "# define sub-indicator outputs"
   ]
  },
  {
   "cell_type": "code",
   "execution_count": 6,
   "metadata": {
    "scrolled": true
   },
   "outputs": [],
   "source": [
    "# define rasters used for cell size, extent, and snapping\n",
    "Rextent= r\"F:\\GIS_DATA\\SECAS\\SE_Blueprint_2022\\Southeast_Blueprint_2022_Data_Download\\SEBlueprint20221215\\Inputs\\BaseBlueprint\\1_ExtentLayers\\BaseBlueprintExtent2022.tif\""
   ]
  },
  {
   "cell_type": "code",
   "execution_count": 7,
   "metadata": {
    "scrolled": true
   },
   "outputs": [],
   "source": [
    "# define inputs\n",
    "parca= r\"F:\\GIS_DATA\\SpeciesAndHabitats\\PARCA\\PARCA.gdb\\PARCAs_p_dissolve\"\n",
    "SAraster= r\"F:\\GIS_DATA\\SALCC_BLUEPRINT\\Version_2021\\Blueprint_2021_Data_Download_20220204\\1_ExtentLayers\\SA2021extent.tif\"\n",
    "nlcd= r\"F:\\GIS_DATA\\LanduseLandcover\\NLCD\\NLCD_landcover_2019_release_all_files_20210604\\nlcd_2019_land_cover_l48_20210604\\nlcd_2019_land_cover_l48_20210604.img\""
   ]
  },
  {
   "cell_type": "markdown",
   "metadata": {},
   "source": [
    "### Start analysis"
   ]
  },
  {
   "cell_type": "code",
   "execution_count": 8,
   "metadata": {
    "scrolled": true
   },
   "outputs": [],
   "source": [
    "# Set the output workspace\n",
    "arcpy.env.workspace = OutWorkspace"
   ]
  },
  {
   "cell_type": "code",
   "execution_count": 9,
   "metadata": {
    "scrolled": true
   },
   "outputs": [
    {
     "name": "stdout",
     "output_type": "stream",
     "text": [
      "D:\\SE_Blueprint_2023\\5_Indicators_Tier2_UnClipped\\SA_AmphibRept\\SouthAtlanticAmphi.gdb\n"
     ]
    }
   ],
   "source": [
    "print(arcpy.env.workspace)"
   ]
  },
  {
   "cell_type": "markdown",
   "metadata": {},
   "source": [
    "### Bring in polygon PARCA data"
   ]
  },
  {
   "cell_type": "code",
   "execution_count": 10,
   "metadata": {
    "scrolled": true
   },
   "outputs": [],
   "source": [
    "# convert to raster\n",
    "with arcpy.EnvManager(outputCoordinateSystem=sr, extent=SAraster, snapRaster=Rextent, cellSize=Rextent):\n",
    "    arcpy.conversion.FeatureToRaster(parca, \"raster\", \"parcaR\", cell_size=Rextent)"
   ]
  },
  {
   "cell_type": "code",
   "execution_count": 11,
   "metadata": {},
   "outputs": [],
   "source": [
    "# reclassify to make NoData areas zero\n",
    "#with arcpy.EnvManager(outputCoordinateSystem=sr, extent=SAraster, snapRaster=Rextent, cellSize=Rextent):\n",
    "#    out_raster = arcpy.sa.Reclassify(\"parcaR\", \"VALUE\", \"1 2;NODATA 0\", \"DATA\"); out_raster.save(\"parcaR0\")"
   ]
  },
  {
   "cell_type": "markdown",
   "metadata": {},
   "source": [
    "### Add zeros for study area and remove marine"
   ]
  },
  {
   "cell_type": "code",
   "execution_count": 12,
   "metadata": {
    "scrolled": true
   },
   "outputs": [],
   "source": [
    "# reclassify SA raster\n",
    "with arcpy.EnvManager(outputCoordinateSystem=sr, extent=SAraster, snapRaster=Rextent, cellSize=Rextent):\n",
    "    out_raster = arcpy.sa.Reclassify(SAraster, \"VALUE\", \"1 0;NODATA NODATA\", \"DATA\"); out_raster.save(\"sa\")"
   ]
  },
  {
   "cell_type": "code",
   "execution_count": 13,
   "metadata": {},
   "outputs": [],
   "source": [
    "# use South Atlantic extent to start the processof adding zeros\n",
    "#use cell statistics max to combine above rasters\n",
    "out_raster = arcpy.sa.CellStatistics(\"SA;parcaR\", \"MAXIMUM\", \"DATA\", \"SINGLE_BAND\", 90, \"AUTO_DETECT\"); out_raster.save(r\"parcaRsa\")"
   ]
  },
  {
   "cell_type": "code",
   "execution_count": 14,
   "metadata": {
    "scrolled": true
   },
   "outputs": [],
   "source": [
    "# to help with display in the Blueprint explorer, we are trying to have more consistant rules for when things are zero\n",
    "# and when they are nodata. Because the PARCA data only considered terrestrial species, it would make more sense to \n",
    "# have the marine areas be nodata. Since this project didn't designate a study area, we are using the old \n",
    "#We are using NLCD to remove the deep marine areas, just because it is quick and easy and we can \n",
    "# consistantly do it for several indicators like this.\n",
    "with arcpy.EnvManager(outputCoordinateSystem=sr, extent=Rextent, snapRaster=Rextent, cellSize=Rextent):\n",
    "    out_raster = arcpy.sa.Con(nlcd, \"parcaRsa\", None, \"Value > 0\"); out_raster.save(\"indicator\")"
   ]
  },
  {
   "cell_type": "markdown",
   "metadata": {},
   "source": [
    "### Finalize indiator\n",
    "\n",
    "do final steps for all indicators to add description fields, clip and export to SE extent, clip and export to SA extent\n",
    "\n",
    "for this one, since it isn't binned, we can't calculate a descript field."
   ]
  },
  {
   "cell_type": "code",
   "execution_count": 15,
   "metadata": {
    "scrolled": true
   },
   "outputs": [],
   "source": [
    "# set code block for next step\n",
    "codeblock = \"\"\"\n",
    "def Reclass(v):\n",
    "    if v == 1:\n",
    "        return '1 = Priority Amphibian and Reptile Conservation Area (PARCA)'\n",
    "    elif v == 0:\n",
    "        return '0 = Not a Priority Amphibian and Reptile Conservation Area (PARCA)'\n",
    "\"\"\""
   ]
  },
  {
   "cell_type": "code",
   "execution_count": 16,
   "metadata": {
    "scrolled": true
   },
   "outputs": [
    {
     "data": {
      "text/html": [
       "<div class='gpresult'><h2>Messages</h2><div id='messages' data-messages='[\"Start Time: Wednesday, May 10, 2023 1:05:31 PM\",\"Adding descript to VAT_indicator...\",\"Succeeded at Wednesday, May 10, 2023 1:05:31 PM (Elapsed Time: 0.06 seconds)\"]' data-show='true'><div id = 'default' /></div></div>"
      ],
      "text/plain": [
       "<Result 'D:\\\\SE_Blueprint_2023\\\\5_Indicators_Tier2_UnClipped\\\\SA_AmphibRept\\\\SouthAtlanticAmphi.gdb\\\\indicator'>"
      ]
     },
     "execution_count": 16,
     "metadata": {},
     "output_type": "execute_result"
    }
   ],
   "source": [
    "# add and calculate description field to hold indicator values\n",
    "arcpy.management.CalculateField(\"indicator\", \"descript\", \"Reclass(!value!)\", \"PYTHON3\", codeblock, \"TEXT\")"
   ]
  },
  {
   "cell_type": "code",
   "execution_count": 17,
   "metadata": {
    "scrolled": true
   },
   "outputs": [],
   "source": [
    "# set code block for next step\n",
    "codeblock = \"\"\"\n",
    "def Reclass1(Value):\n",
    "\tif Value == 1:\n",
    "\t\treturn 56\n",
    "\tif Value == 0:\n",
    "\t\treturn 255\n",
    "\telse:\n",
    "\t\treturn 255\n",
    "\t\t\n",
    "def Reclass2(Value):\n",
    "\tif Value == 1:\n",
    "\t\treturn 168\n",
    "\tif Value == 0:\n",
    "\t\treturn 255\n",
    "\telse:\n",
    "\t\treturn 255\n",
    "\t\t\n",
    "def Reclass3(Value):\n",
    "\tif Value == 1:\n",
    "\t\treturn 0\n",
    "\tif Value == 0:\n",
    "\t\treturn 255\n",
    "\telse:\n",
    "\t\treturn 255\n",
    "\"\"\""
   ]
  },
  {
   "cell_type": "code",
   "execution_count": 18,
   "metadata": {
    "scrolled": true
   },
   "outputs": [
    {
     "data": {
      "text/html": [
       "<div class='gpresult'><h2>Messages</h2><div id='messages' data-messages='[\"Start Time: Wednesday, May 10, 2023 1:05:31 PM\",\"Adding Blue to VAT_indicator...\",\"Succeeded at Wednesday, May 10, 2023 1:05:31 PM (Elapsed Time: 0.04 seconds)\"]' data-show='true'><div id = 'default' /></div></div>"
      ],
      "text/plain": [
       "<Result 'D:\\\\SE_Blueprint_2023\\\\5_Indicators_Tier2_UnClipped\\\\SA_AmphibRept\\\\SouthAtlanticAmphi.gdb\\\\indicator'>"
      ]
     },
     "execution_count": 18,
     "metadata": {},
     "output_type": "execute_result"
    }
   ],
   "source": [
    "# calculate Red field\n",
    "arcpy.management.CalculateField(\"indicator\", \"Red\", \"Reclass1(!Value!)\", \"PYTHON3\", codeblock, \"SHORT\")\n",
    "# calculate Green field\n",
    "arcpy.management.CalculateField(\"indicator\", \"Green\", \"Reclass2(!Value!)\", \"PYTHON3\", codeblock, \"SHORT\")\n",
    "# calculate Blue field\n",
    "arcpy.management.CalculateField(\"indicator\", \"Blue\", \"Reclass3(!Value!)\", \"PYTHON3\", codeblock, \"SHORT\")"
   ]
  },
  {
   "cell_type": "code",
   "execution_count": 19,
   "metadata": {
    "scrolled": true
   },
   "outputs": [],
   "source": [
    "# clip to SE 2022 Blueprint extent\n",
    "with arcpy.EnvManager(outputCoordinateSystem=sr, snapRaster=Rextent, cellSize=Rextent):\n",
    "    out_raster = arcpy.sa.ExtractByMask(\"indicator\", Rextent); out_raster.save(\"SEMask\")"
   ]
  },
  {
   "cell_type": "code",
   "execution_count": 21,
   "metadata": {
    "scrolled": true
   },
   "outputs": [],
   "source": [
    "# export as .tif\n",
    "with arcpy.EnvManager(outputCoordinateSystem=sr, snapRaster=Rextent, cellSize=Rextent):\n",
    "    arcpy.management.CopyRaster(\"SEMask\", out, '', None, \"255\", \"NONE\", \"NONE\", \"8_BIT_UNSIGNED\", \"NONE\", \"NONE\", \"TIFF\", \"NONE\", \"CURRENT_SLICE\", \"NO_TRANSPOSE\")"
   ]
  },
  {
   "cell_type": "code",
   "execution_count": 22,
   "metadata": {
    "scrolled": true
   },
   "outputs": [
    {
     "name": "stdout",
     "output_type": "stream",
     "text": [
      "569.5069105625153\n"
     ]
    }
   ],
   "source": [
    "end = time.time()\n",
    "print(end - start)"
   ]
  },
  {
   "cell_type": "code",
   "execution_count": null,
   "metadata": {
    "scrolled": true
   },
   "outputs": [],
   "source": []
  }
 ],
 "metadata": {
  "kernelspec": {
   "display_name": "ArcGISPro",
   "language": "Python",
   "name": "python3"
  },
  "language_info": {
   "file_extension": ".py",
   "name": "python",
   "version": "3"
  }
 },
 "nbformat": 4,
 "nbformat_minor": 2
}
