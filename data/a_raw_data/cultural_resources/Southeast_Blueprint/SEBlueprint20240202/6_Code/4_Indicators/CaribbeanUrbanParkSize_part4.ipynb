{
 "cells": [
  {
   "cell_type": "code",
   "execution_count": 1,
   "metadata": {},
   "outputs": [],
   "source": [
    "# define spatial reference and workspaces\n",
    "sr= arcpy.SpatialReference(5070)\n",
    "\n",
    "# define rasters used for cell size, extent, and snapping\n",
    "VIPRraster= r\"E:\\projects\\BP\\BP23\\extent\\VIPR_Extent_v6.tif\"\n",
    "#VIPRpoly = r\"E:\\projects\\BP\\BP23\\extent\\VIPR_Extent_v4.shp\"\n",
    "\n",
    "# define inputs\n",
    "out_raster2 = r\"E:\\projects\\BP\\BP23\\VIPR_UrbanParkSizev35.tif\""
   ]
  },
  {
   "cell_type": "code",
   "execution_count": 2,
   "metadata": {},
   "outputs": [],
   "source": [
    "out_raster3 = arcpy.management.BuildRasterAttributeTable(out_raster2, \"Overwrite\", \"NONE\")"
   ]
  },
  {
   "cell_type": "code",
   "execution_count": 3,
   "metadata": {},
   "outputs": [],
   "source": [
    "with arcpy.EnvManager(scratchWorkspace=r\"E:\\projects\\BP\\indicator review\\Default.gdb\", workspace=r\"E:\\projects\\BP\\indicator review\\Default.gdb\"):\n",
    "    out_raster5 = arcpy.ddd.Reclassify(out_raster3, \"Value\", \"1 1;2 2;3 3;4 4;5 5;6 6;NODATA 0\", r\"E:\\projects\\BP\\BP23\\VIPR_UrbanParkSizev36.tif\", \"DATA\")"
   ]
  },
  {
   "cell_type": "code",
   "execution_count": 4,
   "metadata": {},
   "outputs": [],
   "source": [
    "# set code block for next step\n",
    "codeblock = \"\"\"\n",
    "def Reclass(Value):\n",
    "    if Value == 6:\n",
    "        return \"6 = 75+ acre urban park\"\n",
    "    elif Value == 5:\n",
    "        return \"5 = 50 to <75 acre urban park\"\n",
    "    elif Value == 4:\n",
    "        return \"4 = 30 to <50 acre urban park\"\n",
    "    elif Value == 3:\n",
    "        return \"3 = 10 to <30 acre urban park\"\n",
    "    elif Value == 2:\n",
    "        return \"2 = 5 to <10 acre urban park\"\n",
    "    elif Value == 1:\n",
    "        return \"1 = <5 acre urban park\"\n",
    "    elif Value == 0:\n",
    "        return \"0 = Not identified as an urban park\"      \n",
    "\"\"\""
   ]
  },
  {
   "cell_type": "code",
   "execution_count": 7,
   "metadata": {},
   "outputs": [],
   "source": [
    "# Value R G B\n",
    "\n",
    "# set code block for next step\n",
    "codeblock_red = \"\"\"\n",
    "def Reclass(Value):\n",
    "    if Value == 6:\n",
    "        return \"53\"\n",
    "    elif Value == 5:\n",
    "        return \"109\"\n",
    "    elif Value == 4:\n",
    "        return \"165\"\n",
    "    elif Value == 3:\n",
    "        return \"208\"\n",
    "    elif Value == 2:\n",
    "        return \"232\"\n",
    "    elif Value == 1:\n",
    "        return \"255\"\n",
    "    elif Value == 0:\n",
    "        return \"255\"\n",
    "\"\"\"\n",
    "codeblock_green = \"\"\"\n",
    "def Reclass(Value):\n",
    "    if Value == 6:\n",
    "        return \"2\"\n",
    "    elif Value == 5:\n",
    "        return \"35\"\n",
    "    elif Value == 4:\n",
    "        return \"81\"\n",
    "    elif Value == 3:\n",
    "        return \"122\"\n",
    "    elif Value == 2:\n",
    "        return \"188\"\n",
    "    elif Value == 1:\n",
    "        return \"255\"\n",
    "    elif Value == 0:\n",
    "        return \"255\"\n",
    "\"\"\"\n",
    "codeblock_blue = \"\"\"\n",
    "def Reclass(Value):\n",
    "    if Value == 6:\n",
    "        return \"66\"\n",
    "    elif Value == 5:\n",
    "        return \"115\"\n",
    "    elif Value == 4:\n",
    "        return \"153\"\n",
    "    elif Value == 3:\n",
    "        return \"182\"\n",
    "    elif Value == 2:\n",
    "        return \"197\"\n",
    "    elif Value == 1:\n",
    "        return \"190\"\n",
    "    elif Value == 0:\n",
    "        return \"255\"\n",
    "\"\"\""
   ]
  },
  {
   "cell_type": "code",
   "execution_count": 8,
   "metadata": {},
   "outputs": [
    {
     "data": {
      "text/html": [
       "<div class='gpresult'><h2>Messages</h2><div id='messages' data-messages='[\"Start Time: Wednesday, August 23, 2023 12:53:48 PM\",\"Succeeded at Wednesday, August 23, 2023 12:53:48 PM (Elapsed Time: 0.02 seconds)\"]' data-show='true'><div id = 'default' /></div></div>"
      ],
      "text/plain": [
       "<Result 'E:\\\\projects\\\\BP\\\\BP23\\\\VIPR_UrbanParkSizev36.tif'>"
      ]
     },
     "execution_count": 8,
     "metadata": {},
     "output_type": "execute_result"
    }
   ],
   "source": [
    "arcpy.management.CalculateField(out_raster5, \"descript\", \"Reclass(!Value!)\", \"PYTHON3\", codeblock, \"TEXT\")\n",
    "arcpy.management.CalculateField(out_raster5, \"Red\", \"Reclass(!Value!)\", \"PYTHON3\", codeblock_red, \"LONG\")\n",
    "arcpy.management.CalculateField(out_raster5, \"Green\", \"Reclass(!Value!)\", \"PYTHON3\", codeblock_green, \"LONG\")\n",
    "arcpy.management.CalculateField(out_raster5, \"Blue\", \"Reclass(!Value!)\", \"PYTHON3\", codeblock_blue, \"LONG\")"
   ]
  },
  {
   "cell_type": "code",
   "execution_count": 8,
   "metadata": {
    "scrolled": true
   },
   "outputs": [],
   "source": [
    "# export as .tif \n",
    "with arcpy.EnvManager(outputCoordinateSystem=sr, extent=VIPRraster, snapRaster=VIPRraster, cellSize=VIPRraster):\n",
    "    out_raster5 = arcpy.sa.ExtractByMask(out_raster5, VIPRraster); out_raster5.save(r\"E:\\projects\\BP\\BP23\\UrbanParkSize_v37.tif\")"
   ]
  },
  {
   "cell_type": "code",
   "execution_count": null,
   "metadata": {},
   "outputs": [],
   "source": []
  }
 ],
 "metadata": {
  "kernelspec": {
   "display_name": "ArcGISPro",
   "language": "Python",
   "name": "python3"
  },
  "language_info": {
   "file_extension": ".py",
   "name": "python",
   "version": "3"
  }
 },
 "nbformat": 4,
 "nbformat_minor": 2
}
