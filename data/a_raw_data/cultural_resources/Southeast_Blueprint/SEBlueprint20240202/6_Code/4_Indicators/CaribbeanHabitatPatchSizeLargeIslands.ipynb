{
 "cells": [
  {
   "cell_type": "markdown",
   "metadata": {},
   "source": [
    "# Caribbean Habitat Patch Size (large islands)\n",
    "\n",
    "This is an indicator for use in Southeast Blueprint 2023. Code by Rua Mordecai."
   ]
  },
  {
   "cell_type": "markdown",
   "metadata": {},
   "source": [
    "## Import libraries and define variables"
   ]
  },
  {
   "cell_type": "code",
   "execution_count": 21,
   "metadata": {},
   "outputs": [],
   "source": [
    "import os\n",
    "import arcpy"
   ]
  },
  {
   "cell_type": "code",
   "execution_count": 22,
   "metadata": {},
   "outputs": [],
   "source": [
    "# define spatial reference, workspaces, and source data location\n",
    "sr= arcpy.SpatialReference(5070)\n",
    "OutputWorkspace = r\"D:\\Blueprint\\2023\\finalIndicatorEdits\\CaribbeanBlueprint2023_FinalIndicators\\CaribbeanBlueprint2023_FinalIndicators\\SpatialData\"\n",
    "landfire = r\"D:\\Landcover\\LF2020_Puerto_Rico_Virgin_Islands_220_IA\\LF2020_PRVI_220_IA\\LF2020_EVT_220_PRVI\\Tif\\LV20_EVT_220.tif\"\n",
    "landfireRoads = r\"D:\\Landcover\\LF2020_Puerto_Rico_Virgin_Islands_220_IA\\LF2020_PRVI_220_IA\\LF2020_Roads_220_PRVI\\Tif\\LV20_Roads_220.tif\""
   ]
  },
  {
   "cell_type": "code",
   "execution_count": 23,
   "metadata": {},
   "outputs": [],
   "source": [
    "# define final output name\n",
    "IndicatorFileName = \"CaribbeanHabitatPatchSizeLargeIslands.tif\""
   ]
  },
  {
   "cell_type": "code",
   "execution_count": 24,
   "metadata": {},
   "outputs": [],
   "source": [
    "# define raster used for cell size, extent, and snapping\n",
    "CaribbeanRaster= r\"D:\\Blueprint\\2023\\extent\\VIPR_Extent_v6.tif\""
   ]
  },
  {
   "cell_type": "code",
   "execution_count": 25,
   "metadata": {},
   "outputs": [],
   "source": [
    "# If looking at the impact of restoration in parcel, define the shapefile where all landcover should become natural\n",
    "# RestoreArea = r\"D:\\UserSupport\\USVI_RLA2023\\ParcelRLA\\ParcelRLA.shp\""
   ]
  },
  {
   "cell_type": "code",
   "execution_count": 26,
   "metadata": {},
   "outputs": [],
   "source": [
    "# island boundary data. This is for islands size and to separate ocean from fresh and brackish water\n",
    "islandBoundary = r\"D:\\Blueprint\\2023\\extent\\Islands3Size.tif\""
   ]
  },
  {
   "cell_type": "code",
   "execution_count": 27,
   "metadata": {},
   "outputs": [],
   "source": [
    "# Sometimes arcpro is fussy about not overwriting things\n",
    "arcpy.env.overwriteOutput = True"
   ]
  },
  {
   "cell_type": "markdown",
   "metadata": {},
   "source": [
    "## Start analysis"
   ]
  },
  {
   "cell_type": "code",
   "execution_count": 28,
   "metadata": {},
   "outputs": [],
   "source": [
    "# Set the source workspace for panther data\n",
    "arcpy.env.workspace = OutputWorkspace"
   ]
  },
  {
   "cell_type": "code",
   "execution_count": 36,
   "metadata": {},
   "outputs": [],
   "source": [
    "# Reclassify Landfire with natural as 1 and everything else NODATA. All classes in “EVT_NAME” that start with “Quarries”,\n",
    "# “Developed”, or “Agriculture” are considered unnatural. “Caribbean bush fruit and berries”, which captures sun coffee plantations,\n",
    "# is also considered unnatural. “Tropical agroforestry plantation”, which includes shade coffee is considered natural. \n",
    "# Water is classified as 1.\n",
    "with arcpy.EnvManager(outputCoordinateSystem=sr, extent=CaribbeanRaster, snapRaster=CaribbeanRaster, cellSize=CaribbeanRaster):\n",
    "    out_raster = arcpy.sa.Reclassify(landfire, \"Value\", \"-9999 NODATA;7292 1;7295 7296 NODATA;7297 7298 NODATA;7299 7300 NODATA;7754 NODATA;7755 NODATA;7838 NODATA;7861 7888 1;9303 9803 1\", \"DATA\"); out_raster.save(\"naturalOW.tif\")"
   ]
  },
  {
   "cell_type": "code",
   "execution_count": 37,
   "metadata": {},
   "outputs": [],
   "source": [
    "# prep islands boundary raster to remove ocean. Reclass so all islands have same value\n",
    "with arcpy.EnvManager(outputCoordinateSystem=sr, extent=CaribbeanRaster, snapRaster=CaribbeanRaster, cellSize=CaribbeanRaster):\n",
    "    out_raster = arcpy.sa.Reclassify(islandBoundary, \"Value\", \"1 NODATA;2 4 1\", \"DATA\"); out_raster.save(\"islandBoundaryBin.tif\")"
   ]
  },
  {
   "cell_type": "code",
   "execution_count": 38,
   "metadata": {},
   "outputs": [],
   "source": [
    "# Combine rasters to make ocean noData\n",
    "out_raster = arcpy.sa.Times(\"naturalOW.tif\", \"islandBoundaryBin.tif\"); out_raster.save(\"natural.tif\")"
   ]
  },
  {
   "cell_type": "code",
   "execution_count": 39,
   "metadata": {},
   "outputs": [],
   "source": [
    "# Reclassify Landfire roads with primary, secondary, and tertiary roads as NODATA. \n",
    "# Thinned road and other land pixels are 1. Thinned roads tend to get little to no traffic in the Caribbean and can look relatively natural \n",
    "with arcpy.EnvManager(outputCoordinateSystem=sr, extent=CaribbeanRaster, snapRaster=CaribbeanRaster, cellSize=CaribbeanRaster):\n",
    "    out_raster = arcpy.sa.Reclassify(landfireRoads, \"Value\", \"-9999 NODATA;0 1;20 22 NODATA;23 1\", \"DATA\"); out_raster.save(\"noRoad.tif\")"
   ]
  },
  {
   "cell_type": "markdown",
   "metadata": {},
   "source": [
    "### Uncomment this section if looking at impact of restoration"
   ]
  },
  {
   "cell_type": "code",
   "execution_count": 13,
   "metadata": {},
   "outputs": [],
   "source": [
    "# Make a copy of restoration shapefile\n",
    "# arcpy.management.CopyFeatures(RestoreArea, \"restoreArea.shp\")"
   ]
  },
  {
   "cell_type": "code",
   "execution_count": 14,
   "metadata": {},
   "outputs": [],
   "source": [
    "# add a field to convert to raster\n",
    "# arcpy.management.CalculateField(\"restoreArea.shp\", \"raster\", \"1\", \"PYTHON3\", '', \"SHORT\")"
   ]
  },
  {
   "cell_type": "code",
   "execution_count": 15,
   "metadata": {},
   "outputs": [],
   "source": [
    "# convert to raster and snap to landfire\n",
    "# with arcpy.EnvManager(outputCoordinateSystem=landfire, extent=landfire, snapRaster=landfire, cellSize=landfire):\n",
    "#    arcpy.conversion.FeatureToRaster(in_features=\"restoreArea.shp\", field=\"raster\", out_raster=\"restoreAreaR.tif\", cell_size=landfire)"
   ]
  },
  {
   "cell_type": "code",
   "execution_count": 16,
   "metadata": {},
   "outputs": [],
   "source": [
    "# Change noData pixels to 0  \n",
    "# out_raster = arcpy.sa.Reclassify(\"restoreAreaR.tif\", \"Value\", \"NODATA 0;1 1\", \"DATA\"); out_raster.save(\"restoreAreaRZ.tif\")"
   ]
  },
  {
   "cell_type": "code",
   "execution_count": 17,
   "metadata": {},
   "outputs": [],
   "source": [
    "# Copy raster so we can use it below but get back to the original name\n",
    "# arcpy.management.CopyRaster(\"natural.tif\",\"natural2.tif\")"
   ]
  },
  {
   "cell_type": "code",
   "execution_count": 18,
   "metadata": {},
   "outputs": [],
   "source": [
    "# change natural raster so anything in restoration area that's not natural becomes natural\n",
    "# out_raster = arcpy.sa.Con(arcpy.sa.Raster(\"restoreAreaRZ.tif\") > 0,1,\"natural2.tif\"); out_raster.save(\"natural.tif\")"
   ]
  },
  {
   "cell_type": "markdown",
   "metadata": {},
   "source": [
    "### Analysis continues"
   ]
  },
  {
   "cell_type": "code",
   "execution_count": 40,
   "metadata": {},
   "outputs": [],
   "source": [
    "# Combine rasters. Skip this line if doing restoration analysis\n",
    "out_raster = arcpy.sa.Times(\"natural.tif\", \"noRoad.tif\"); out_raster.save(\"naturalNoRoad.tif\")"
   ]
  },
  {
   "cell_type": "code",
   "execution_count": 41,
   "metadata": {},
   "outputs": [],
   "source": [
    "# figure out the size of groups that each pixels belong to\n",
    "out_raster = arcpy.sa.RegionGroup(\"NaturalNoRoad.tif\"); out_raster.save(\"NaturalNoRoad_regionGroup.tif\")"
   ]
  },
  {
   "cell_type": "code",
   "execution_count": 42,
   "metadata": {},
   "outputs": [],
   "source": [
    "# find patches greater than 449 pixels(about 100 acres). Technically 45 pixels is about 10.01 acres\n",
    "out_raster = arcpy.sa.Con(\"NaturalNoRoad_regionGroup.tif\", 1, 0, \"Count > 45\"); out_raster.save(\"NaturalNoRoad_regionGroup_gtr45.tif\")"
   ]
  },
  {
   "cell_type": "code",
   "execution_count": 43,
   "metadata": {},
   "outputs": [],
   "source": [
    "# find patches greater than 449 pixels(about 100 acres). Technically 449 pixels is about 99.85 acres\n",
    "out_raster = arcpy.sa.Con(\"NaturalNoRoad_regionGroup.tif\", 1, 0, \"Count > 449\"); out_raster.save(\"NaturalNoRoad_regionGroup_gtr449.tif\")"
   ]
  },
  {
   "cell_type": "code",
   "execution_count": 44,
   "metadata": {},
   "outputs": [],
   "source": [
    "# find patches greater than 4496 pixels(about 1000 acres). Technically 4496 is about 999.89 acres\n",
    "out_raster = arcpy.sa.Con(\"NaturalNoRoad_regionGroup.tif\", 1, 0, \"Count > 4496\"); out_raster.save(\"NaturalNoRoad_regionGroup_gtr4496.tif\")"
   ]
  },
  {
   "cell_type": "code",
   "execution_count": 45,
   "metadata": {},
   "outputs": [],
   "source": [
    "# find patches greater than 44965 pixels(about 10000 acres). Technically 44965 is about 999.98 acres\n",
    "out_raster = arcpy.sa.Con(\"NaturalNoRoad_regionGroup.tif\", 1, 0, \"Count > 44965\"); out_raster.save(\"NaturalNoRoad_regionGroup_gtr44965.tif\")"
   ]
  },
  {
   "cell_type": "code",
   "execution_count": 46,
   "metadata": {},
   "outputs": [],
   "source": [
    "# add rasters together\n",
    "output_raster = arcpy.ia.RasterCalculator([\"NaturalNoRoad_regionGroup_gtr44965.tif\",\"NaturalNoRoad_regionGroup_gtr4496.tif\",\"NaturalNoRoad_regionGroup_gtr449.tif\",\"NaturalNoRoad_regionGroup_gtr45.tif\"],['a','b','c','d'],'a + b + c + d'); output_raster.save(\"PatchBins.tif\")"
   ]
  },
  {
   "cell_type": "code",
   "execution_count": 47,
   "metadata": {},
   "outputs": [],
   "source": [
    "# Change noData pixels to 0 so we can separate nonnatural on land and ocean. Add 1 to everything to shift the legend \n",
    "out_raster = arcpy.sa.Reclassify(\"PatchBins.tif\", \"Value\", \"NODATA 0;0 1;1 2;2 3;3 4;4 5\", \"DATA\"); out_raster.save(\"PatchNoData.tif\")"
   ]
  },
  {
   "cell_type": "code",
   "execution_count": 48,
   "metadata": {},
   "outputs": [],
   "source": [
    "# Remove ocean\n",
    "out_raster = arcpy.sa.Times(\"PatchNoData.tif\", \"islandBoundaryBin.tif\"); out_raster.save(\"PatchBinsClean.tif\")"
   ]
  },
  {
   "cell_type": "code",
   "execution_count": 49,
   "metadata": {},
   "outputs": [],
   "source": [
    "# make mask for large islands\n",
    "out_raster = arcpy.sa.Reclassify(islandBoundary, \"Value\", \"1 NODATA;2 3 NODATA;4 1\", \"DATA\"); out_raster.save(\"LargeIslandMask.tif\")"
   ]
  },
  {
   "cell_type": "code",
   "execution_count": 50,
   "metadata": {},
   "outputs": [],
   "source": [
    "# Reduce to just islands for this indicator. Technically this includes both \"small\" and \"medium\" islands from the island boundary data\n",
    "out_raster = arcpy.sa.Times(\"LargeIslandMask.tif\", \"PatchBinsClean.tif\"); out_raster.save(\"largeIslandBins.tif\")"
   ]
  },
  {
   "cell_type": "code",
   "execution_count": 51,
   "metadata": {},
   "outputs": [],
   "source": [
    "# export nonclipped version of indicator\n",
    "#with arcpy.EnvManager(outputCoordinateSystem=sr, extent=CaribbeanRaster, snapRaster=CaribbeanRaster, cellSize=CaribbeanRaster):\n",
    "#    arcpy.management.CopyRaster(\"PatchBinsClean.tif\", IndicatorFileName, '', None, \"255\", \"NONE\", \"NONE\", \"8_BIT_UNSIGNED\", \"NONE\", \"NONE\", \"TIFF\", \"NONE\", \"CURRENT_SLICE\", \"NO_TRANSPOSE\")"
   ]
  },
  {
   "cell_type": "code",
   "execution_count": 52,
   "metadata": {},
   "outputs": [],
   "source": [
    "# clip raster to Caribbean extent\n",
    "with arcpy.EnvManager(outputCoordinateSystem=sr, extent=CaribbeanRaster, snapRaster=CaribbeanRaster, cellSize=CaribbeanRaster):\n",
    "    out_raster = arcpy.sa.ExtractByMask(\"largeIslandBins.tif\", CaribbeanRaster); out_raster.save(IndicatorFileName)"
   ]
  },
  {
   "cell_type": "markdown",
   "metadata": {},
   "source": [
    "## Finalize indicator"
   ]
  },
  {
   "cell_type": "code",
   "execution_count": 53,
   "metadata": {},
   "outputs": [],
   "source": [
    "# set code block for legend\n",
    "codeblock = \"\"\"\n",
    "def Reclass(value):\n",
    "    if value == 0:\n",
    "        return '0 = Developed or agriculture'    \n",
    "    elif value == 1:\n",
    "        return '1 = Very small patch (≤10 acres)'\n",
    "    elif value == 2:\n",
    "        return '2 = Small patch (>10-100 acres)'\n",
    "    elif value == 3:\n",
    "        return '3 = Medium patch (>100-1,000 acres)' \n",
    "    elif value == 4:\n",
    "        return '4 = Large patch (>1,000-10,000 acres)'\n",
    "    elif value == 5:\n",
    "        return '5 = Very large patch (>10,000 acres)'\n",
    "    \n",
    "\"\"\""
   ]
  },
  {
   "cell_type": "code",
   "execution_count": 54,
   "metadata": {},
   "outputs": [
    {
     "data": {
      "text/html": [
       "<div class='gpresult'><h2>Messages</h2><div id='messages' data-messages='[\"Start Time: Friday, July 14, 2023 9:06:05 AM\",\"Adding descript to CaribbeanHabitatPatchSizeLargeIslands.tif.vat...\",\"Succeeded at Friday, July 14, 2023 9:06:05 AM (Elapsed Time: 0.23 seconds)\"]' data-show='true'><div id = 'default' /></div></div>"
      ],
      "text/plain": [
       "<Result 'D:\\\\Blueprint\\\\2023\\\\Caribbean\\\\Indicators\\\\LandscapeIntegrity\\\\working\\\\CaribbeanHabitatPatchSizeLargeIslands.tif'>"
      ]
     },
     "execution_count": 54,
     "metadata": {},
     "output_type": "execute_result"
    }
   ],
   "source": [
    "# add and calculate description field to hold indicator values\n",
    "arcpy.management.CalculateField(IndicatorFileName, \"descript\", \"Reclass(!value!)\", \"PYTHON3\", codeblock, \"TEXT\")"
   ]
  },
  {
   "cell_type": "code",
   "execution_count": 29,
   "metadata": {},
   "outputs": [],
   "source": [
    "# set code block for next step\n",
    "codeblock = \"\"\"\n",
    "def Reclass1(Value):\n",
    "\tif Value == 5:\n",
    "\t\treturn 0\n",
    "\tif Value == 4:\n",
    "\t\treturn 16\n",
    "\tif Value == 3:\n",
    "\t\treturn 62\n",
    "\tif Value == 2:\n",
    "\t\treturn 121\n",
    "\tif Value == 1:\n",
    "\t\treturn 195\n",
    "\tif Value == 0:\n",
    "\t\treturn 255\n",
    "\telse:\n",
    "\t\treturn 255\n",
    "\t\t\n",
    "def Reclass2(Value):\n",
    "\tif Value == 5:\n",
    "\t\treturn 68\n",
    "\tif Value == 4:\n",
    "\t\treturn 123\n",
    "\tif Value == 3:\n",
    "\t\treturn 171\n",
    "\tif Value == 2:\n",
    "\t\treturn 202\n",
    "\tif Value == 1:\n",
    "\t\treturn 232\n",
    "\tif Value == 0:\n",
    "\t\treturn 255\n",
    "\telse:\n",
    "\t\treturn 255\n",
    "\t\t\n",
    "def Reclass3(Value):\n",
    "\tif Value == 5:\n",
    "\t\treturn 27\n",
    "\tif Value == 4:\n",
    "\t\treturn 55\n",
    "\tif Value == 3:\n",
    "\t\treturn 114\n",
    "\tif Value == 2:\n",
    "\t\treturn 177\n",
    "\tif Value == 1:\n",
    "\t\treturn 225\n",
    "\tif Value == 0:\n",
    "\t\treturn 255\n",
    "\telse:\n",
    "\t\treturn 255\n",
    "\t\t\n",
    "\"\"\""
   ]
  },
  {
   "cell_type": "code",
   "execution_count": 30,
   "metadata": {},
   "outputs": [
    {
     "data": {
      "text/html": [
       "<div class='gpresult'><h2>Messages</h2><div id='messages' data-messages='[\"Start Time: Thursday, September 14, 2023 9:24:27 AM\",\"Succeeded at Thursday, September 14, 2023 9:24:27 AM (Elapsed Time: 0.41 seconds)\"]' data-show='true'><div id = 'default' /></div></div>"
      ],
      "text/plain": [
       "<Result 'D:\\\\Blueprint\\\\2023\\\\finalIndicatorEdits\\\\CaribbeanBlueprint2023_FinalIndicators\\\\CaribbeanBlueprint2023_FinalIndicators\\\\SpatialData\\\\CaribbeanHabitatPatchSizeLargeIslands.tif'>"
      ]
     },
     "execution_count": 30,
     "metadata": {},
     "output_type": "execute_result"
    }
   ],
   "source": [
    "# calculate Red field\n",
    "arcpy.management.CalculateField(IndicatorFileName, \"Red\", \"Reclass1(!Value!)\", \"PYTHON3\", codeblock, \"SHORT\")\n",
    "# calculate Green field\n",
    "arcpy.management.CalculateField(IndicatorFileName, \"Green\", \"Reclass2(!Value!)\", \"PYTHON3\", codeblock, \"SHORT\")\n",
    "# calculate Blue field\n",
    "arcpy.management.CalculateField(IndicatorFileName, \"Blue\", \"Reclass3(!Value!)\", \"PYTHON3\", codeblock, \"SHORT\")"
   ]
  },
  {
   "cell_type": "code",
   "execution_count": null,
   "metadata": {},
   "outputs": [],
   "source": []
  }
 ],
 "metadata": {
  "kernelspec": {
   "display_name": "ArcGISPro",
   "language": "Python",
   "name": "python3"
  },
  "language_info": {
   "file_extension": ".py",
   "name": "python",
   "version": "3"
  }
 },
 "nbformat": 4,
 "nbformat_minor": 2
}
