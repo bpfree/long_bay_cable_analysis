{
 "cells": [
  {
   "cell_type": "markdown",
   "metadata": {},
   "source": [
    "# Caribbean seagrass\n",
    "\n",
    "This is code for Southeast Conservation Blueprint 2023. Written by Rua Mordecai."
   ]
  },
  {
   "cell_type": "markdown",
   "metadata": {},
   "source": [
    "## Import libraries and define variables"
   ]
  },
  {
   "cell_type": "code",
   "execution_count": 81,
   "metadata": {},
   "outputs": [],
   "source": [
    "import os\n",
    "import arcpy"
   ]
  },
  {
   "cell_type": "code",
   "execution_count": 82,
   "metadata": {},
   "outputs": [],
   "source": [
    "# define spatial reference, workspaces, and source data location\n",
    "sr= arcpy.SpatialReference(5070)\n",
    "OutputWorkspace = r\"D:\\Blueprint\\2023\\finalIndicatorEdits\\CaribbeanBlueprint2023_FinalIndicators\\CaribbeanBlueprint2023_FinalIndicators\\SpatialData\"\n",
    "benthicPR = r\"D:\\CaribbeanData\\TNC\\BenthicCondition\\BENTHIC_CONDITION_PRVI\\pr_mar_benhab4m_2021_EEZs_gridcode.tif\"\n",
    "benthicVI = r\"D:\\CaribbeanData\\TNC\\BenthicCondition\\BENTHIC_CONDITION_PRVI\\usvi_mar_benhab4m_2021_EEZs_gridcode.tif\"\n",
    "bathy = r\"D:\\CaribbeanData\\BATHYMETRY\\BATHYMETRY\\PR_bathy_crm.tif\""
   ]
  },
  {
   "cell_type": "code",
   "execution_count": 83,
   "metadata": {},
   "outputs": [],
   "source": [
    "# define final output name\n",
    "IndicatorFileName = \"CaribbeanSeagrass.tif\""
   ]
  },
  {
   "cell_type": "code",
   "execution_count": 84,
   "metadata": {},
   "outputs": [],
   "source": [
    "# define raster used for cell size, extent, and snapping\n",
    "CaribbeanRaster= r\"D:\\Blueprint\\2023\\extent\\VIPR_Extent_v6.tif\""
   ]
  },
  {
   "cell_type": "code",
   "execution_count": 85,
   "metadata": {},
   "outputs": [],
   "source": [
    "# Sometimes arcpro is fussy about not overwriting things\n",
    "arcpy.env.overwriteOutput = True"
   ]
  },
  {
   "cell_type": "markdown",
   "metadata": {},
   "source": [
    "## Start analysis"
   ]
  },
  {
   "cell_type": "markdown",
   "metadata": {},
   "source": [
    "### Prep data"
   ]
  },
  {
   "cell_type": "code",
   "execution_count": 86,
   "metadata": {},
   "outputs": [],
   "source": [
    "# Set the source workspace\n",
    "arcpy.env.workspace = OutputWorkspace"
   ]
  },
  {
   "cell_type": "code",
   "execution_count": 59,
   "metadata": {},
   "outputs": [
    {
     "data": {
      "text/html": [
       "<div class='gpresult'><h2>Messages</h2><div id='messages' data-messages='[\"Start Time: Tuesday, July 11, 2023 8:16:29 AM\",\"Building Pyramids...\",\"Succeeded at Tuesday, July 11, 2023 8:18:21 AM (Elapsed Time: 1 minutes 52 seconds)\"]' data-show='true'><div id = 'default' /></div></div>"
      ],
      "text/plain": [
       "<Result 'D:\\\\Blueprint\\\\2023\\\\Caribbean\\\\Indicators\\\\Seagrass\\\\working\\\\vipr_mar_benhab4m_2021_EEZs_gridcode.tif'>"
      ]
     },
     "execution_count": 59,
     "metadata": {},
     "output_type": "execute_result"
    }
   ],
   "source": [
    "# Combine TNC benthic data\n",
    "arcpy.management.MosaicToNewRaster(benthicPR+\";\"+benthicVI, OutputWorkspace, \"vipr_mar_benhab4m_2021_EEZs_gridcode.tif\", None, \"8_BIT_UNSIGNED\", None, 1, \"LAST\", \"FIRST\")"
   ]
  },
  {
   "cell_type": "code",
   "execution_count": 60,
   "metadata": {},
   "outputs": [],
   "source": [
    "# reproject benthic data and convert to 30 meters\n",
    "with arcpy.EnvManager(outputCoordinateSystem=sr, extent=CaribbeanRaster, snapRaster=CaribbeanRaster, cellSize=CaribbeanRaster):\n",
    "        arcpy.management.Resample(\"vipr_mar_benhab4m_2021_EEZs_gridcode.tif\", \"benthic.tif\", \"30 30\", \"MAJORITY\")"
   ]
  },
  {
   "cell_type": "code",
   "execution_count": 61,
   "metadata": {},
   "outputs": [],
   "source": [
    "# reclassify bathymetric data based on 13m and 5m shallow water threshold\n",
    "out_raster = arcpy.sa.Reclassify(bathy, \"Value\", \"-6488 -13 10;-13 -5 20;-5 0 30;0 1320 0\", \"DATA\"); out_raster.save(\"bathyBin.tif\")"
   ]
  },
  {
   "cell_type": "code",
   "execution_count": 62,
   "metadata": {},
   "outputs": [],
   "source": [
    "# reproject bathymetryenthic data and convert to 30 meters\n",
    "with arcpy.EnvManager(outputCoordinateSystem=sr, extent=CaribbeanRaster, snapRaster=CaribbeanRaster, cellSize=CaribbeanRaster):\n",
    "        arcpy.management.Resample(\"bathyBin.tif\", \"bathyBin30.tif\", \"30 30\", \"MAJORITY\")"
   ]
  },
  {
   "cell_type": "markdown",
   "metadata": {},
   "source": [
    "### Reclassify benthic habitat and combine"
   ]
  },
  {
   "cell_type": "code",
   "execution_count": 63,
   "metadata": {},
   "outputs": [],
   "source": [
    "# reclassify so dense seagrass is 2, sparse seagrass is 1, and everything else is 0\n",
    "with arcpy.EnvManager(outputCoordinateSystem=sr, extent=CaribbeanRaster, snapRaster=CaribbeanRaster, cellSize=CaribbeanRaster):\n",
    "    out_raster = arcpy.sa.Reclassify(\"benthic.tif\", \"Value\", \"1 11 0;12 1;13 2\", \"DATA\"); out_raster.save(\"TNCSeagrass.tif\")"
   ]
  },
  {
   "cell_type": "code",
   "execution_count": 64,
   "metadata": {},
   "outputs": [],
   "source": [
    "# Combine rasters for indicator categories\n",
    "out_raster = arcpy.sa.Plus(\"TNCSeagrass.tif\", \"bathyBin30.tif\"); out_raster.save(\"SeagrassBathy.tif\")"
   ]
  },
  {
   "cell_type": "code",
   "execution_count": 65,
   "metadata": {},
   "outputs": [],
   "source": [
    "# Reclassify for indicator categories. Bathymetry data is a little coarse and miss some near shore areas\n",
    "# so value of 1 and 2 are treated as shallow\n",
    "out_raster = arcpy.sa.Reclassify(\"SeagrassBathy.tif\", \"Value\", \"0 0;1 5;2 6;10 0;11 1;12 2;20 0;21 3;22 4;30 0;31 5;32 6\", \"DATA\"); out_raster.save(\"SeagrassBathyBin.tif\")"
   ]
  },
  {
   "cell_type": "code",
   "execution_count": 66,
   "metadata": {},
   "outputs": [],
   "source": [
    "# clip raster to Caribbean extent\n",
    "out_raster = arcpy.sa.ExtractByMask(\"SeagrassBathyBin.tif\", CaribbeanRaster); out_raster.save(IndicatorFileName)"
   ]
  },
  {
   "cell_type": "markdown",
   "metadata": {},
   "source": [
    "## Finalize indicator"
   ]
  },
  {
   "cell_type": "code",
   "execution_count": 67,
   "metadata": {},
   "outputs": [],
   "source": [
    "# set code block for legend\n",
    "codeblock = \"\"\"\n",
    "def Reclass(value):\n",
    "    if value == 0:\n",
    "        return '0 = Not seagrass'    \n",
    "    elif value == 1:\n",
    "        return '1 = Deep and sparse seagrass'\n",
    "    elif value == 2:\n",
    "        return '2 = Deep and dense seagrass'\n",
    "    elif value == 3:\n",
    "        return '3 = Shallow and sparse seagrass'\n",
    "    elif value == 4:\n",
    "        return '4 = Shallow and dense seagrass'\n",
    "    elif value == 5:\n",
    "        return '5 = Very shallow and sparse seagrass'\n",
    "    elif value == 6:\n",
    "        return '6 = Very shallow and dense seagrass'\n",
    "\"\"\""
   ]
  },
  {
   "cell_type": "code",
   "execution_count": 68,
   "metadata": {},
   "outputs": [
    {
     "data": {
      "text/html": [
       "<div class='gpresult'><h2>Messages</h2><div id='messages' data-messages='[\"Start Time: Tuesday, July 11, 2023 8:19:54 AM\",\"Adding descript to CaribbeanSeagrass.tif.vat...\",\"Succeeded at Tuesday, July 11, 2023 8:19:54 AM (Elapsed Time: 0.11 seconds)\"]' data-show='true'><div id = 'default' /></div></div>"
      ],
      "text/plain": [
       "<Result 'D:\\\\Blueprint\\\\2023\\\\Caribbean\\\\Indicators\\\\Seagrass\\\\working\\\\CaribbeanSeagrass.tif'>"
      ]
     },
     "execution_count": 68,
     "metadata": {},
     "output_type": "execute_result"
    }
   ],
   "source": [
    "# add and calculate description field to hold indicator values\n",
    "arcpy.management.CalculateField(IndicatorFileName, \"descript\", \"Reclass(!value!)\", \"PYTHON3\", codeblock, \"TEXT\")"
   ]
  },
  {
   "cell_type": "code",
   "execution_count": 87,
   "metadata": {},
   "outputs": [],
   "source": [
    "# set code block for next step\n",
    "codeblock = \"\"\"\n",
    "def Reclass1(Value):\n",
    "\tif Value == 6:\n",
    "\t\treturn 7\n",
    "\tif Value == 5:\n",
    "\t\treturn 18\n",
    "\tif Value == 4:\n",
    "\t\treturn 44\n",
    "\tif Value == 3:\n",
    "\t\treturn 88\n",
    "\tif Value == 2:\n",
    "\t\treturn 130\n",
    "\tif Value == 1:\n",
    "\t\treturn 211\n",
    "\tif Value == 0:\n",
    "\t\treturn 255\n",
    "\telse:\n",
    "\t\treturn 255\n",
    "\t\t\n",
    "def Reclass2(Value):\n",
    "\tif Value == 6:\n",
    "\t\treturn 64\n",
    "\tif Value == 5:\n",
    "\t\treturn 93\n",
    "\tif Value == 4:\n",
    "\t\treturn 130\n",
    "\tif Value == 3:\n",
    "\t\treturn 169\n",
    "\tif Value == 2:\n",
    "\t\treturn 208\n",
    "\tif Value == 1:\n",
    "\t\treturn 242\n",
    "\tif Value == 0:\n",
    "\t\treturn 255\n",
    "\telse:\n",
    "\t\treturn 255\n",
    "\t\t\n",
    "def Reclass3(Value):\n",
    "\tif Value == 6:\n",
    "\t\treturn 80\n",
    "\tif Value == 5:\n",
    "\t\treturn 104\n",
    "\tif Value == 4:\n",
    "\t\treturn 123\n",
    "\tif Value == 3:\n",
    "\t\treturn 133\n",
    "\tif Value == 2:\n",
    "\t\treturn 144\n",
    "\tif Value == 1:\n",
    "\t\treturn 163\n",
    "\tif Value == 0:\n",
    "\t\treturn 255\n",
    "\telse:\n",
    "\t\treturn 255\n",
    "\"\"\""
   ]
  },
  {
   "cell_type": "code",
   "execution_count": 88,
   "metadata": {},
   "outputs": [
    {
     "data": {
      "text/html": [
       "<div class='gpresult'><h2>Messages</h2><div id='messages' data-messages='[\"Start Time: Tuesday, September 12, 2023 2:11:43 PM\",\"Succeeded at Tuesday, September 12, 2023 2:11:44 PM (Elapsed Time: 0.43 seconds)\"]' data-show='true'><div id = 'default' /></div></div>"
      ],
      "text/plain": [
       "<Result 'D:\\\\Blueprint\\\\2023\\\\finalIndicatorEdits\\\\CaribbeanBlueprint2023_FinalIndicators\\\\CaribbeanBlueprint2023_FinalIndicators\\\\SpatialData\\\\CaribbeanSeagrass.tif'>"
      ]
     },
     "execution_count": 88,
     "metadata": {},
     "output_type": "execute_result"
    }
   ],
   "source": [
    "# calculate Red field\n",
    "arcpy.management.CalculateField(IndicatorFileName, \"Red\", \"Reclass1(!Value!)\", \"PYTHON3\", codeblock, \"SHORT\")\n",
    "# calculate Green field\n",
    "arcpy.management.CalculateField(IndicatorFileName, \"Green\", \"Reclass2(!Value!)\", \"PYTHON3\", codeblock, \"SHORT\")\n",
    "# calculate Blue field\n",
    "arcpy.management.CalculateField(IndicatorFileName, \"Blue\", \"Reclass3(!Value!)\", \"PYTHON3\", codeblock, \"SHORT\")"
   ]
  },
  {
   "cell_type": "code",
   "execution_count": null,
   "metadata": {},
   "outputs": [],
   "source": []
  }
 ],
 "metadata": {
  "kernelspec": {
   "display_name": "ArcGISPro",
   "language": "Python",
   "name": "python3"
  },
  "language_info": {
   "file_extension": ".py",
   "name": "python",
   "version": "3"
  }
 },
 "nbformat": 4,
 "nbformat_minor": 2
}
