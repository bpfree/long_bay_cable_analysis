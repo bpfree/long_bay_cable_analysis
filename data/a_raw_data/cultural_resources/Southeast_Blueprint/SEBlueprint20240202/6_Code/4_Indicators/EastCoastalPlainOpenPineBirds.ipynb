{
 "cells": [
  {
   "cell_type": "markdown",
   "metadata": {},
   "source": [
    "### East Coastal Plain Open Pine Birds\n",
    "\n",
    "This is a draft indicator for the 202 base blueprint.\n",
    "\n",
    "It is the same as the 2022 indicator, except zero values were added to represent the exent of the modeling effort.\n",
    "\n",
    "Created by Amy Keister, last run by Amy Keister on 1 June 2023. It took 10 minutes run."
   ]
  },
  {
   "cell_type": "code",
   "execution_count": 16,
   "metadata": {},
   "outputs": [],
   "source": [
    "import os\n",
    "import arcpy"
   ]
  },
  {
   "cell_type": "code",
   "execution_count": 17,
   "metadata": {},
   "outputs": [],
   "source": [
    "import time\n",
    "start = time.time()"
   ]
  },
  {
   "cell_type": "code",
   "execution_count": 18,
   "metadata": {},
   "outputs": [],
   "source": [
    "# define spatial reference and workspaces\n",
    "sr= arcpy.SpatialReference(5070)\n",
    "#SourceWorkspace= \n",
    "OutWorkspace = r\"D:\\SE_Blueprint_2023\\5_Indicators_Tier2_UnClipped\\EastCoastalPlainO\\EastCoastalPlainOpe.gdb\""
   ]
  },
  {
   "cell_type": "code",
   "execution_count": 19,
   "metadata": {},
   "outputs": [],
   "source": [
    "# define final indicator outputs\n",
    "Out = r\"D:\\SE_Blueprint_2023\\5_Indicators_Tier2_UnClipped\\EastCoastalPlainO\\EastCoastalPlainOpenPineBirds.tif\""
   ]
  },
  {
   "cell_type": "code",
   "execution_count": 20,
   "metadata": {},
   "outputs": [],
   "source": [
    "# define sub-indicator outputs"
   ]
  },
  {
   "cell_type": "code",
   "execution_count": 21,
   "metadata": {},
   "outputs": [],
   "source": [
    "# define rasters used for cell size, extent, and snapping\n",
    "Rextent= r\"F:\\GIS_DATA\\SECAS\\SE_Blueprint_2022\\Southeast_Blueprint_2022_Data_Download\\SEBlueprint20221215\\Inputs\\BaseBlueprint\\1_ExtentLayers\\BaseBlueprintExtent2022.tif\""
   ]
  },
  {
   "cell_type": "code",
   "execution_count": 22,
   "metadata": {},
   "outputs": [],
   "source": [
    "# define inputs\n",
    "OP= r\"F:\\GIS_DATA\\DecisionSupportTools\\EGCPJV\\bird_priority\\bird_priority.tif\"\n",
    "FP= r\"F:\\GIS_DATA\\WaterResources\\Estimated_floodplain_CONUS\\Estimated_floodplain_CONUS.tif\"\n",
    "NLCD= r\"F:\\GIS_DATA\\LanduseLandcover\\NLCD\\NLCD_landcover_2019_release_all_files_20210604\\nlcd_2019_land_cover_l48_20210604\\nlcd_2019_land_cover_l48_20210604.img\""
   ]
  },
  {
   "cell_type": "markdown",
   "metadata": {},
   "source": [
    "## Start Analysis"
   ]
  },
  {
   "cell_type": "code",
   "execution_count": 23,
   "metadata": {},
   "outputs": [],
   "source": [
    "# Set the workspace where I want the output to go\n",
    "arcpy.env.workspace = OutWorkspace"
   ]
  },
  {
   "cell_type": "code",
   "execution_count": 24,
   "metadata": {},
   "outputs": [
    {
     "name": "stdout",
     "output_type": "stream",
     "text": [
      "D:\\SE_Blueprint_2023\\5_Indicators_Tier2_UnClipped\\EastCoastalPlainO\\EastCoastalPlainOpe.gdb\n"
     ]
    }
   ],
   "source": [
    "print(arcpy.env.workspace)"
   ]
  },
  {
   "cell_type": "markdown",
   "metadata": {},
   "source": [
    "## bring in EGCP Open Pine Decision Support Tool"
   ]
  },
  {
   "cell_type": "code",
   "execution_count": 10,
   "metadata": {},
   "outputs": [
    {
     "data": {
      "text/html": [
       "<div class='gpresult'><h2>Messages</h2><div id='messages' data-messages='[\"Start Time: Thursday, June 29, 2023 10:44:54 AM\",\"Successfully converted:  F:\\\\GIS_DATA\\\\DecisionSupportTools\\\\EGCPJV\\\\bird_priority\\\\bird_priority.tif To D:\\\\SE_Blueprint_2023\\\\5_Indicators_Tier2_UnClipped\\\\EastCoastalPlainO\\\\EastCoastalPlainOpe.gdb\\\\bird_priority\",\"Succeeded at Thursday, June 29, 2023 10:44:57 AM (Elapsed Time: 2.13 seconds)\"]' data-show='true'><div id = 'default' /></div></div>"
      ],
      "text/plain": [
       "<Result ''>"
      ]
     },
     "execution_count": 10,
     "metadata": {},
     "output_type": "execute_result"
    }
   ],
   "source": [
    "# Bring in the EGCP tif\n",
    "arcpy.conversion.RasterToGeodatabase(OP, OutWorkspace, '')"
   ]
  },
  {
   "cell_type": "code",
   "execution_count": 11,
   "metadata": {},
   "outputs": [],
   "source": [
    "# remove EPA estimated floodplains, to try to narrow down the results to potential open pine habitat\n",
    "with arcpy.EnvManager(outputCoordinateSystem=NLCD, extent= OP, snapRaster=NLCD, cellSize=NLCD):\n",
    "    out_raster = arcpy.sa.Con(FP, \"bird_priority\", None, \"Value = 0\"); out_raster.save(\"bird_priority_noFP\")"
   ]
  },
  {
   "cell_type": "code",
   "execution_count": 12,
   "metadata": {},
   "outputs": [],
   "source": [
    "# pull out evergreen and mixed forest (42,43) from NLCD\n",
    "with arcpy.EnvManager(outputCoordinateSystem=NLCD, extent= OP, snapRaster=NLCD, cellSize=NLCD):\n",
    "    out_raster = arcpy.sa.Con(NLCD, 1, 0, \"Value = 42 Or Value = 43\"); out_raster.save(\"pine\")"
   ]
  },
  {
   "cell_type": "code",
   "execution_count": 13,
   "metadata": {},
   "outputs": [],
   "source": [
    "# remove areas that are not either mixed or evergreen forest from the 2019 NLCD, to try to narrow down the results to current open pine habitat\n",
    "with arcpy.EnvManager(outputCoordinateSystem=NLCD, extent= OP, snapRaster=NLCD, cellSize=NLCD):\n",
    "    out_raster = arcpy.sa.Times(\"pine\", \"bird_priority_noFP\"); out_raster.save(\"bird_priority_noFP_pine\")"
   ]
  },
  {
   "cell_type": "code",
   "execution_count": 14,
   "metadata": {},
   "outputs": [],
   "source": [
    "# reclassify to bin\n",
    "\n",
    "# ArcGIS reclass includes the second value in the class for example,\n",
    "# 0 1 is <=1 (1 is included)\n",
    "# 1 5 is >1 - 5 (1 is not included, 5 is included)\n",
    "# 5 20 is >5 - 20 (5 is not included, 20 is included)\n",
    "out_raster = arcpy.sa.Reclassify(\"bird_priority_noFP_pine\", \"VALUE\", \"0 0 0;1 20 1;20 40 2;40 60 3;60 80 4;80 100 5\", \"DATA\"); out_raster.save(\"rclss\")"
   ]
  },
  {
   "cell_type": "code",
   "execution_count": 15,
   "metadata": {},
   "outputs": [],
   "source": [
    "# get full extent of original data\n",
    "with arcpy.EnvManager(outputCoordinateSystem=NLCD, extent= OP, snapRaster=NLCD, cellSize=NLCD):\n",
    "    out_raster = arcpy.sa.Con(\"bird_priority\", 0, 0, \"Value > -1 \"); out_raster.save(\"full0\")"
   ]
  },
  {
   "cell_type": "code",
   "execution_count": 37,
   "metadata": {},
   "outputs": [],
   "source": [
    "# add in zeros\n",
    "with arcpy.EnvManager(outputCoordinateSystem=sr, extent=OP, snapRaster=Rextent, cellSize=Rextent):\n",
    "    out_raster = arcpy.sa.CellStatistics(\"full0;rclss\", \"MAXIMUM\", \"DATA\", \"SINGLE_BAND\", 90, \"AUTO_DETECT\"); out_raster.save(\"indicator\")"
   ]
  },
  {
   "cell_type": "markdown",
   "metadata": {},
   "source": [
    "### Finalize indiator\n",
    "\n",
    "do final steps for all indicators to add description fields, clip and export to SE extent, clip and export to SA extent"
   ]
  },
  {
   "cell_type": "code",
   "execution_count": 38,
   "metadata": {
    "scrolled": true
   },
   "outputs": [],
   "source": [
    "# clip to SE 2022 Blueprint extent\n",
    "with arcpy.EnvManager(outputCoordinateSystem=sr, snapRaster=Rextent, cellSize=Rextent):\n",
    "    out_raster = arcpy.sa.ExtractByMask(\"indicator\", Rextent); out_raster.save(\"SEMask\")"
   ]
  },
  {
   "cell_type": "code",
   "execution_count": 39,
   "metadata": {},
   "outputs": [],
   "source": [
    "# export as .tif\n",
    "with arcpy.EnvManager(outputCoordinateSystem=sr, snapRaster=Rextent, cellSize=Rextent):\n",
    "    arcpy.management.CopyRaster(\"SEMask\", Out, '', None, \"15\", \"NONE\", \"NONE\", \"4_BIT\", \"NONE\", \"NONE\", \"TIFF\", \"NONE\", \"CURRENT_SLICE\", \"NO_TRANSPOSE\")"
   ]
  },
  {
   "cell_type": "code",
   "execution_count": 40,
   "metadata": {},
   "outputs": [],
   "source": [
    "# set code block for next step\n",
    "codeblock = \"\"\"\n",
    "def Reclass(value):\n",
    "    if value == 5:\n",
    "        return '5 = High priority for open pine conservation for focal bird species (Bachman’s sparrow, red-cockaded woodpecker, Henslow’s sparrow, red-headed woodpecker, Northern bobwhite, and brown-headed nuthatch) (score >80-100)'\n",
    "    elif value == 4:\n",
    "        return '4 = Medium-high priority (score >60-80)'\n",
    "    elif value == 3:\n",
    "        return '3 = Medium priority (score >40-60)'\n",
    "    elif value == 2:\n",
    "        return '2 = Medium-low priority (score >20-40)'\n",
    "    elif value == 1:\n",
    "        return '1 = Low priority (score 0-20)'\n",
    "    elif value == 0:\n",
    "        return '0 = Not a priority (not identified as upland pine)'\n",
    "\"\"\""
   ]
  },
  {
   "cell_type": "code",
   "execution_count": 41,
   "metadata": {},
   "outputs": [
    {
     "data": {
      "text/html": [
       "<div class='gpresult'><h2>Messages</h2><div id='messages' data-messages='[\"Start Time: Friday, September 15, 2023 9:40:02 PM\",\"Adding descript to EastCoastalPlainOpenPineBirds.tif.vat...\",\"Succeeded at Friday, September 15, 2023 9:40:03 PM (Elapsed Time: 0.16 seconds)\"]' data-show='true'><div id = 'default' /></div></div>"
      ],
      "text/plain": [
       "<Result 'D:\\\\SE_Blueprint_2023\\\\5_Indicators_Tier2_UnClipped\\\\EastCoastalPlainO\\\\EastCoastalPlainOpenPineBirds.tif'>"
      ]
     },
     "execution_count": 41,
     "metadata": {},
     "output_type": "execute_result"
    }
   ],
   "source": [
    "# add and calculate description field to hold indicator values\n",
    "arcpy.management.CalculateField(Out, \"descript\", \"Reclass(!Value!)\", \"PYTHON3\", codeblock, \"TEXT\")"
   ]
  },
  {
   "cell_type": "code",
   "execution_count": 42,
   "metadata": {},
   "outputs": [],
   "source": [
    "# set code block for next step\n",
    "codeblock = \"\"\"\n",
    "def Reclass1(Value):\n",
    "\tif Value == 5:\n",
    "\t\treturn 103\n",
    "\tif Value == 4:\n",
    "\t\treturn 189\n",
    "\tif Value == 3:\n",
    "\t\treturn 228\n",
    "\tif Value == 2:\n",
    "\t\treturn 202\n",
    "\tif Value == 1:\n",
    "\t\treturn 226\n",
    "\telse:\n",
    "\t\treturn 255\n",
    "\t\t\n",
    "def Reclass2(Value):\n",
    "\tif Value == 5:\n",
    "\t\treturn 0\n",
    "\tif Value == 4:\n",
    "\t\treturn 12\n",
    "\tif Value == 3:\n",
    "\t\treturn 63\n",
    "\tif Value == 2:\n",
    "\t\treturn 150\n",
    "\tif Value == 1:\n",
    "\t\treturn 214\n",
    "\telse:\n",
    "\t\treturn 255\n",
    "\t\t\n",
    "def Reclass3(Value):\n",
    "\tif Value == 5:\n",
    "\t\treturn 31\n",
    "\tif Value == 4:\n",
    "\t\treturn 80\n",
    "\tif Value == 3:\n",
    "\t\treturn 152\n",
    "\tif Value == 2:\n",
    "\t\treturn 200\n",
    "\tif Value == 1:\n",
    "\t\treturn 233\n",
    "\telse:\n",
    "\t\treturn 255\n",
    "\t\t\n",
    "\"\"\""
   ]
  },
  {
   "cell_type": "code",
   "execution_count": 43,
   "metadata": {},
   "outputs": [
    {
     "data": {
      "text/html": [
       "<div class='gpresult'><h2>Messages</h2><div id='messages' data-messages='[\"Start Time: Friday, September 15, 2023 9:40:03 PM\",\"Adding Blue to EastCoastalPlainOpenPineBirds.tif.vat...\",\"Succeeded at Friday, September 15, 2023 9:40:03 PM (Elapsed Time: 0.14 seconds)\"]' data-show='true'><div id = 'default' /></div></div>"
      ],
      "text/plain": [
       "<Result 'D:\\\\SE_Blueprint_2023\\\\5_Indicators_Tier2_UnClipped\\\\EastCoastalPlainO\\\\EastCoastalPlainOpenPineBirds.tif'>"
      ]
     },
     "execution_count": 43,
     "metadata": {},
     "output_type": "execute_result"
    }
   ],
   "source": [
    "# calculate Red field\n",
    "arcpy.management.CalculateField(Out, \"Red\", \"Reclass1(!Value!)\", \"PYTHON3\", codeblock, \"SHORT\")\n",
    "# calculate Green field\n",
    "arcpy.management.CalculateField(Out, \"Green\", \"Reclass2(!Value!)\", \"PYTHON3\", codeblock, \"SHORT\")\n",
    "# calculate Blue field\n",
    "arcpy.management.CalculateField(Out, \"Blue\", \"Reclass3(!Value!)\", \"PYTHON3\", codeblock, \"SHORT\")"
   ]
  },
  {
   "cell_type": "code",
   "execution_count": 23,
   "metadata": {},
   "outputs": [
    {
     "name": "stdout",
     "output_type": "stream",
     "text": [
      "997.4286813735962\n"
     ]
    }
   ],
   "source": [
    "end = time.time()\n",
    "print(end - start)"
   ]
  },
  {
   "cell_type": "code",
   "execution_count": null,
   "metadata": {},
   "outputs": [],
   "source": []
  }
 ],
 "metadata": {
  "kernelspec": {
   "display_name": "ArcGISPro",
   "language": "Python",
   "name": "python3"
  },
  "language_info": {
   "file_extension": ".py",
   "name": "python",
   "version": "3"
  }
 },
 "nbformat": 4,
 "nbformat_minor": 2
}
