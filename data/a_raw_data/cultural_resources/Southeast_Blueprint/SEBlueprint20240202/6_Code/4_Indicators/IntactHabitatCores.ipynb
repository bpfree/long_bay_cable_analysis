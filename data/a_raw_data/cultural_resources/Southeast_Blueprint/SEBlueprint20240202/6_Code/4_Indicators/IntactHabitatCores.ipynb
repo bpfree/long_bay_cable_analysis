{
 "cells": [
  {
   "cell_type": "markdown",
   "metadata": {},
   "source": [
    "# Intact Habitat Cores\n",
    "\n",
    "This is an indicator for the 2022 base blueprint. We made a slight change in 2023 to make this indicator match our new guidance for zero/nodata value use.\n",
    "\n",
    "This code just joins the state level ESRI data, which was based on 2011 NLCD, along with other inputs.\n",
    "\n",
    "Ultimately, we need to either get ESRI to re-run this based on updated NLCD, or we need to re-run all the ESRI state level data based on 2019 NLCD, and any other updated inputs. It is a bear to get all the state level inputs.\n",
    "\n",
    "Created by Amy Keister, last run by Amy Keister on 23 February, 2022"
   ]
  },
  {
   "cell_type": "code",
   "execution_count": 1,
   "metadata": {
    "scrolled": true
   },
   "outputs": [],
   "source": [
    "import os, fnmatch\n",
    "import arcpy"
   ]
  },
  {
   "cell_type": "code",
   "execution_count": 2,
   "metadata": {},
   "outputs": [],
   "source": [
    "import time\n",
    "start = time.time()"
   ]
  },
  {
   "cell_type": "code",
   "execution_count": 3,
   "metadata": {
    "scrolled": true
   },
   "outputs": [],
   "source": [
    "# define spatial reference and workspaces\n",
    "sr= arcpy.SpatialReference(5070)\n",
    "SourceWorkspace = r\"F:\\GIS_DATA\\DecisionSupportTools\\GreenInfrastructureCenterCores\\MapPackageDownloads\\ExtractedData\"\n",
    "OutWorkspace = r\"D:\\SE_Blueprint_2023\\5_Indicators_Tier2_UnClipped\\Intact\\Intact.gdb\""
   ]
  },
  {
   "cell_type": "code",
   "execution_count": 14,
   "metadata": {
    "scrolled": true
   },
   "outputs": [],
   "source": [
    "# define final indicator outputs\n",
    "Out = r\"D:\\SE_Blueprint_2023\\5_Indicators_Tier2_UnClipped\\Intact\\IntactHabitatCores.tif\""
   ]
  },
  {
   "cell_type": "code",
   "execution_count": 5,
   "metadata": {
    "scrolled": true
   },
   "outputs": [],
   "source": [
    "# define sub-indicator outputs to help with user support"
   ]
  },
  {
   "cell_type": "code",
   "execution_count": 6,
   "metadata": {
    "scrolled": true
   },
   "outputs": [],
   "source": [
    "# define rasters used for cell size, extent, and snapping\n",
    "Rextent= r\"F:\\GIS_DATA\\SECAS\\SE_Blueprint_2022\\Southeast_Blueprint_2022_Data_Download\\SEBlueprint20221215\\Inputs\\BaseBlueprint\\1_ExtentLayers\\BaseBlueprintExtent2022.tif\""
   ]
  },
  {
   "cell_type": "code",
   "execution_count": 7,
   "metadata": {
    "scrolled": true
   },
   "outputs": [],
   "source": [
    "# define additional inputs\n",
    "NLCD= r\"F:\\GIS_DATA\\LanduseLandcover\\NLCD\\NLCD_landcover_2019_release_all_files_20210604\\nlcd_2019_land_cover_l48_20210604\\nlcd_2019_land_cover_l48_20210604.img\""
   ]
  },
  {
   "cell_type": "markdown",
   "metadata": {},
   "source": [
    "### Bring in ESRI cores"
   ]
  },
  {
   "cell_type": "code",
   "execution_count": 8,
   "metadata": {
    "scrolled": true
   },
   "outputs": [],
   "source": [
    "# Set the workspace where the downoaded ESRI data is\n",
    "arcpy.env.workspace = SourceWorkspace"
   ]
  },
  {
   "cell_type": "code",
   "execution_count": 9,
   "metadata": {
    "scrolled": true
   },
   "outputs": [
    {
     "name": "stdout",
     "output_type": "stream",
     "text": [
      "F:\\GIS_DATA\\DecisionSupportTools\\GreenInfrastructureCenterCores\\MapPackageDownloads\\ExtractedData\n"
     ]
    }
   ],
   "source": [
    "print(arcpy.env.workspace)"
   ]
  },
  {
   "cell_type": "code",
   "execution_count": 10,
   "metadata": {
    "scrolled": true
   },
   "outputs": [],
   "source": [
    "#look in the source data from ESRI make a list of all the habitat cores\n",
    "# feature classes\n",
    "FCList = []\n",
    "\n",
    "walk = arcpy.da.Walk(SourceWorkspace, datatype=\"FeatureClass\", type=\"Polygon\")\n",
    "\n",
    "for dirpath, dirnames, filenames in walk:\n",
    "    for filename in filenames:\n",
    "        FCList.append(os.path.join(dirpath, filename))"
   ]
  },
  {
   "cell_type": "code",
   "execution_count": 11,
   "metadata": {
    "scrolled": false
   },
   "outputs": [
    {
     "name": "stdout",
     "output_type": "stream",
     "text": [
      "['F:\\\\GIS_DATA\\\\DecisionSupportTools\\\\GreenInfrastructureCenterCores\\\\MapPackageDownloads\\\\ExtractedData\\\\AL_GreenInfoData_79175021-AE3D-43CF-856C-09ED583D3240\\\\v105\\\\data.gdb\\\\NHD_AREA', 'F:\\\\GIS_DATA\\\\DecisionSupportTools\\\\GreenInfrastructureCenterCores\\\\MapPackageDownloads\\\\ExtractedData\\\\AL_GreenInfoData_79175021-AE3D-43CF-856C-09ED583D3240\\\\v105\\\\data.gdb\\\\NHD_WATERBODY', 'F:\\\\GIS_DATA\\\\DecisionSupportTools\\\\GreenInfrastructureCenterCores\\\\MapPackageDownloads\\\\ExtractedData\\\\AL_GreenInfoData_79175021-AE3D-43CF-856C-09ED583D3240\\\\v105\\\\data.gdb\\\\NWI_WETLANDS', 'F:\\\\GIS_DATA\\\\DecisionSupportTools\\\\GreenInfrastructureCenterCores\\\\MapPackageDownloads\\\\ExtractedData\\\\AL_GreenInfoData_79175021-AE3D-43CF-856C-09ED583D3240\\\\v105\\\\data.gdb\\\\SSURGO', 'F:\\\\GIS_DATA\\\\DecisionSupportTools\\\\GreenInfrastructureCenterCores\\\\MapPackageDownloads\\\\ExtractedData\\\\AL_GreenInfoData_79175021-AE3D-43CF-856C-09ED583D3240\\\\v105\\\\data.gdb\\\\TNCREGIONS', 'F:\\\\GIS_DATA\\\\DecisionSupportTools\\\\GreenInfrastructureCenterCores\\\\MapPackageDownloads\\\\ExtractedData\\\\AL_GreenInfoData_79175021-AE3D-43CF-856C-09ED583D3240\\\\v105\\\\derivedgidata20170305.gdb\\\\HabitatCores20170305', 'F:\\\\GIS_DATA\\\\DecisionSupportTools\\\\GreenInfrastructureCenterCores\\\\MapPackageDownloads\\\\ExtractedData\\\\AL_GreenInfoData_79175021-AE3D-43CF-856C-09ED583D3240\\\\v105\\\\derivedgidata20170305.gdb\\\\Alabama', 'F:\\\\GIS_DATA\\\\DecisionSupportTools\\\\GreenInfrastructureCenterCores\\\\MapPackageDownloads\\\\ExtractedData\\\\AR_GreenInfoData_74AA5169-19E3-4925-96F3-F0A9DBF3656C\\\\v105\\\\data.gdb\\\\NHD_AREA', 'F:\\\\GIS_DATA\\\\DecisionSupportTools\\\\GreenInfrastructureCenterCores\\\\MapPackageDownloads\\\\ExtractedData\\\\AR_GreenInfoData_74AA5169-19E3-4925-96F3-F0A9DBF3656C\\\\v105\\\\data.gdb\\\\NHD_WATERBODY', 'F:\\\\GIS_DATA\\\\DecisionSupportTools\\\\GreenInfrastructureCenterCores\\\\MapPackageDownloads\\\\ExtractedData\\\\AR_GreenInfoData_74AA5169-19E3-4925-96F3-F0A9DBF3656C\\\\v105\\\\data.gdb\\\\NWI_WETLANDS', 'F:\\\\GIS_DATA\\\\DecisionSupportTools\\\\GreenInfrastructureCenterCores\\\\MapPackageDownloads\\\\ExtractedData\\\\AR_GreenInfoData_74AA5169-19E3-4925-96F3-F0A9DBF3656C\\\\v105\\\\data.gdb\\\\SSURGO', 'F:\\\\GIS_DATA\\\\DecisionSupportTools\\\\GreenInfrastructureCenterCores\\\\MapPackageDownloads\\\\ExtractedData\\\\AR_GreenInfoData_74AA5169-19E3-4925-96F3-F0A9DBF3656C\\\\v105\\\\data.gdb\\\\TNCREGIONS', 'F:\\\\GIS_DATA\\\\DecisionSupportTools\\\\GreenInfrastructureCenterCores\\\\MapPackageDownloads\\\\ExtractedData\\\\AR_GreenInfoData_74AA5169-19E3-4925-96F3-F0A9DBF3656C\\\\v105\\\\derivedgidata20170305.gdb\\\\HabitatCores20170305', 'F:\\\\GIS_DATA\\\\DecisionSupportTools\\\\GreenInfrastructureCenterCores\\\\MapPackageDownloads\\\\ExtractedData\\\\AR_GreenInfoData_74AA5169-19E3-4925-96F3-F0A9DBF3656C\\\\v105\\\\derivedgidata20170305.gdb\\\\Arkansas', 'F:\\\\GIS_DATA\\\\DecisionSupportTools\\\\GreenInfrastructureCenterCores\\\\MapPackageDownloads\\\\ExtractedData\\\\FL_GreenInfoData_63F9EC8E-FA7F-41C3-B677-780AF9A06807\\\\v105\\\\data.gdb\\\\NHD_AREA', 'F:\\\\GIS_DATA\\\\DecisionSupportTools\\\\GreenInfrastructureCenterCores\\\\MapPackageDownloads\\\\ExtractedData\\\\FL_GreenInfoData_63F9EC8E-FA7F-41C3-B677-780AF9A06807\\\\v105\\\\data.gdb\\\\NHD_WATERBODY', 'F:\\\\GIS_DATA\\\\DecisionSupportTools\\\\GreenInfrastructureCenterCores\\\\MapPackageDownloads\\\\ExtractedData\\\\FL_GreenInfoData_63F9EC8E-FA7F-41C3-B677-780AF9A06807\\\\v105\\\\data.gdb\\\\NWI_WETLANDS', 'F:\\\\GIS_DATA\\\\DecisionSupportTools\\\\GreenInfrastructureCenterCores\\\\MapPackageDownloads\\\\ExtractedData\\\\FL_GreenInfoData_63F9EC8E-FA7F-41C3-B677-780AF9A06807\\\\v105\\\\data.gdb\\\\SSURGO', 'F:\\\\GIS_DATA\\\\DecisionSupportTools\\\\GreenInfrastructureCenterCores\\\\MapPackageDownloads\\\\ExtractedData\\\\FL_GreenInfoData_63F9EC8E-FA7F-41C3-B677-780AF9A06807\\\\v105\\\\data.gdb\\\\TNCREGIONS', 'F:\\\\GIS_DATA\\\\DecisionSupportTools\\\\GreenInfrastructureCenterCores\\\\MapPackageDownloads\\\\ExtractedData\\\\FL_GreenInfoData_63F9EC8E-FA7F-41C3-B677-780AF9A06807\\\\v105\\\\derivedgidata20170305.gdb\\\\HabitatCores20170305', 'F:\\\\GIS_DATA\\\\DecisionSupportTools\\\\GreenInfrastructureCenterCores\\\\MapPackageDownloads\\\\ExtractedData\\\\FL_GreenInfoData_63F9EC8E-FA7F-41C3-B677-780AF9A06807\\\\v105\\\\derivedgidata20170305.gdb\\\\Florida', 'F:\\\\GIS_DATA\\\\DecisionSupportTools\\\\GreenInfrastructureCenterCores\\\\MapPackageDownloads\\\\ExtractedData\\\\GA_GreenInfoData_01A434FC-46D2-4C62-ADC3-575DAD67D86D\\\\v105\\\\data.gdb\\\\NHD_AREA', 'F:\\\\GIS_DATA\\\\DecisionSupportTools\\\\GreenInfrastructureCenterCores\\\\MapPackageDownloads\\\\ExtractedData\\\\GA_GreenInfoData_01A434FC-46D2-4C62-ADC3-575DAD67D86D\\\\v105\\\\data.gdb\\\\NHD_WATERBODY', 'F:\\\\GIS_DATA\\\\DecisionSupportTools\\\\GreenInfrastructureCenterCores\\\\MapPackageDownloads\\\\ExtractedData\\\\GA_GreenInfoData_01A434FC-46D2-4C62-ADC3-575DAD67D86D\\\\v105\\\\data.gdb\\\\NWI_WETLANDS', 'F:\\\\GIS_DATA\\\\DecisionSupportTools\\\\GreenInfrastructureCenterCores\\\\MapPackageDownloads\\\\ExtractedData\\\\GA_GreenInfoData_01A434FC-46D2-4C62-ADC3-575DAD67D86D\\\\v105\\\\data.gdb\\\\SSURGO', 'F:\\\\GIS_DATA\\\\DecisionSupportTools\\\\GreenInfrastructureCenterCores\\\\MapPackageDownloads\\\\ExtractedData\\\\GA_GreenInfoData_01A434FC-46D2-4C62-ADC3-575DAD67D86D\\\\v105\\\\data.gdb\\\\TNCREGIONS', 'F:\\\\GIS_DATA\\\\DecisionSupportTools\\\\GreenInfrastructureCenterCores\\\\MapPackageDownloads\\\\ExtractedData\\\\GA_GreenInfoData_01A434FC-46D2-4C62-ADC3-575DAD67D86D\\\\v105\\\\derivedgidata20170305.gdb\\\\HabitatCores20170305', 'F:\\\\GIS_DATA\\\\DecisionSupportTools\\\\GreenInfrastructureCenterCores\\\\MapPackageDownloads\\\\ExtractedData\\\\GA_GreenInfoData_01A434FC-46D2-4C62-ADC3-575DAD67D86D\\\\v105\\\\derivedgidata20170305.gdb\\\\Georgia', 'F:\\\\GIS_DATA\\\\DecisionSupportTools\\\\GreenInfrastructureCenterCores\\\\MapPackageDownloads\\\\ExtractedData\\\\IA_GreenInfoData_1EAAADFF-F7D3-4467-B08A-E3B3A74BE7F1\\\\v105\\\\data.gdb\\\\NHD_AREA', 'F:\\\\GIS_DATA\\\\DecisionSupportTools\\\\GreenInfrastructureCenterCores\\\\MapPackageDownloads\\\\ExtractedData\\\\IA_GreenInfoData_1EAAADFF-F7D3-4467-B08A-E3B3A74BE7F1\\\\v105\\\\data.gdb\\\\NHD_WATERBODY', 'F:\\\\GIS_DATA\\\\DecisionSupportTools\\\\GreenInfrastructureCenterCores\\\\MapPackageDownloads\\\\ExtractedData\\\\IA_GreenInfoData_1EAAADFF-F7D3-4467-B08A-E3B3A74BE7F1\\\\v105\\\\data.gdb\\\\NWI_WETLANDS', 'F:\\\\GIS_DATA\\\\DecisionSupportTools\\\\GreenInfrastructureCenterCores\\\\MapPackageDownloads\\\\ExtractedData\\\\IA_GreenInfoData_1EAAADFF-F7D3-4467-B08A-E3B3A74BE7F1\\\\v105\\\\data.gdb\\\\SSURGO', 'F:\\\\GIS_DATA\\\\DecisionSupportTools\\\\GreenInfrastructureCenterCores\\\\MapPackageDownloads\\\\ExtractedData\\\\IA_GreenInfoData_1EAAADFF-F7D3-4467-B08A-E3B3A74BE7F1\\\\v105\\\\data.gdb\\\\TNCREGIONS', 'F:\\\\GIS_DATA\\\\DecisionSupportTools\\\\GreenInfrastructureCenterCores\\\\MapPackageDownloads\\\\ExtractedData\\\\IA_GreenInfoData_1EAAADFF-F7D3-4467-B08A-E3B3A74BE7F1\\\\v105\\\\derivedgidata20170305.gdb\\\\HabitatCores20170305', 'F:\\\\GIS_DATA\\\\DecisionSupportTools\\\\GreenInfrastructureCenterCores\\\\MapPackageDownloads\\\\ExtractedData\\\\IA_GreenInfoData_1EAAADFF-F7D3-4467-B08A-E3B3A74BE7F1\\\\v105\\\\derivedgidata20170305.gdb\\\\Iowa', 'F:\\\\GIS_DATA\\\\DecisionSupportTools\\\\GreenInfrastructureCenterCores\\\\MapPackageDownloads\\\\ExtractedData\\\\KY_GreenInfoData_8474A6CB-9AB4-4391-A41F-E2CDCB98CF44\\\\v105\\\\data.gdb\\\\NHD_AREA', 'F:\\\\GIS_DATA\\\\DecisionSupportTools\\\\GreenInfrastructureCenterCores\\\\MapPackageDownloads\\\\ExtractedData\\\\KY_GreenInfoData_8474A6CB-9AB4-4391-A41F-E2CDCB98CF44\\\\v105\\\\data.gdb\\\\NHD_WATERBODY', 'F:\\\\GIS_DATA\\\\DecisionSupportTools\\\\GreenInfrastructureCenterCores\\\\MapPackageDownloads\\\\ExtractedData\\\\KY_GreenInfoData_8474A6CB-9AB4-4391-A41F-E2CDCB98CF44\\\\v105\\\\data.gdb\\\\NWI_WETLANDS', 'F:\\\\GIS_DATA\\\\DecisionSupportTools\\\\GreenInfrastructureCenterCores\\\\MapPackageDownloads\\\\ExtractedData\\\\KY_GreenInfoData_8474A6CB-9AB4-4391-A41F-E2CDCB98CF44\\\\v105\\\\data.gdb\\\\SSURGO', 'F:\\\\GIS_DATA\\\\DecisionSupportTools\\\\GreenInfrastructureCenterCores\\\\MapPackageDownloads\\\\ExtractedData\\\\KY_GreenInfoData_8474A6CB-9AB4-4391-A41F-E2CDCB98CF44\\\\v105\\\\data.gdb\\\\TNCREGIONS', 'F:\\\\GIS_DATA\\\\DecisionSupportTools\\\\GreenInfrastructureCenterCores\\\\MapPackageDownloads\\\\ExtractedData\\\\KY_GreenInfoData_8474A6CB-9AB4-4391-A41F-E2CDCB98CF44\\\\v105\\\\derivedgidata20170305.gdb\\\\HabitatCores20170305', 'F:\\\\GIS_DATA\\\\DecisionSupportTools\\\\GreenInfrastructureCenterCores\\\\MapPackageDownloads\\\\ExtractedData\\\\KY_GreenInfoData_8474A6CB-9AB4-4391-A41F-E2CDCB98CF44\\\\v105\\\\derivedgidata20170305.gdb\\\\Kentucky', 'F:\\\\GIS_DATA\\\\DecisionSupportTools\\\\GreenInfrastructureCenterCores\\\\MapPackageDownloads\\\\ExtractedData\\\\LA_GreenInfoData_EF2A1562-D475-4F49-ADBD-EFC5664ED8CF\\\\v105\\\\data.gdb\\\\NHD_AREA', 'F:\\\\GIS_DATA\\\\DecisionSupportTools\\\\GreenInfrastructureCenterCores\\\\MapPackageDownloads\\\\ExtractedData\\\\LA_GreenInfoData_EF2A1562-D475-4F49-ADBD-EFC5664ED8CF\\\\v105\\\\data.gdb\\\\NHD_WATERBODY', 'F:\\\\GIS_DATA\\\\DecisionSupportTools\\\\GreenInfrastructureCenterCores\\\\MapPackageDownloads\\\\ExtractedData\\\\LA_GreenInfoData_EF2A1562-D475-4F49-ADBD-EFC5664ED8CF\\\\v105\\\\data.gdb\\\\NWI_WETLANDS', 'F:\\\\GIS_DATA\\\\DecisionSupportTools\\\\GreenInfrastructureCenterCores\\\\MapPackageDownloads\\\\ExtractedData\\\\LA_GreenInfoData_EF2A1562-D475-4F49-ADBD-EFC5664ED8CF\\\\v105\\\\data.gdb\\\\SSURGO', 'F:\\\\GIS_DATA\\\\DecisionSupportTools\\\\GreenInfrastructureCenterCores\\\\MapPackageDownloads\\\\ExtractedData\\\\LA_GreenInfoData_EF2A1562-D475-4F49-ADBD-EFC5664ED8CF\\\\v105\\\\data.gdb\\\\TNCREGIONS', 'F:\\\\GIS_DATA\\\\DecisionSupportTools\\\\GreenInfrastructureCenterCores\\\\MapPackageDownloads\\\\ExtractedData\\\\LA_GreenInfoData_EF2A1562-D475-4F49-ADBD-EFC5664ED8CF\\\\v105\\\\derivedgidata20170305.gdb\\\\HabitatCores20170305', 'F:\\\\GIS_DATA\\\\DecisionSupportTools\\\\GreenInfrastructureCenterCores\\\\MapPackageDownloads\\\\ExtractedData\\\\LA_GreenInfoData_EF2A1562-D475-4F49-ADBD-EFC5664ED8CF\\\\v105\\\\derivedgidata20170305.gdb\\\\Louisiana', 'F:\\\\GIS_DATA\\\\DecisionSupportTools\\\\GreenInfrastructureCenterCores\\\\MapPackageDownloads\\\\ExtractedData\\\\MO_GreenInfoData_7572F88F-E93A-46AC-85F2-ECCBC7E5B471\\\\v105\\\\data.gdb\\\\NHD_AREA', 'F:\\\\GIS_DATA\\\\DecisionSupportTools\\\\GreenInfrastructureCenterCores\\\\MapPackageDownloads\\\\ExtractedData\\\\MO_GreenInfoData_7572F88F-E93A-46AC-85F2-ECCBC7E5B471\\\\v105\\\\data.gdb\\\\NHD_WATERBODY', 'F:\\\\GIS_DATA\\\\DecisionSupportTools\\\\GreenInfrastructureCenterCores\\\\MapPackageDownloads\\\\ExtractedData\\\\MO_GreenInfoData_7572F88F-E93A-46AC-85F2-ECCBC7E5B471\\\\v105\\\\data.gdb\\\\NWI_WETLANDS', 'F:\\\\GIS_DATA\\\\DecisionSupportTools\\\\GreenInfrastructureCenterCores\\\\MapPackageDownloads\\\\ExtractedData\\\\MO_GreenInfoData_7572F88F-E93A-46AC-85F2-ECCBC7E5B471\\\\v105\\\\data.gdb\\\\SSURGO', 'F:\\\\GIS_DATA\\\\DecisionSupportTools\\\\GreenInfrastructureCenterCores\\\\MapPackageDownloads\\\\ExtractedData\\\\MO_GreenInfoData_7572F88F-E93A-46AC-85F2-ECCBC7E5B471\\\\v105\\\\data.gdb\\\\TNCREGIONS', 'F:\\\\GIS_DATA\\\\DecisionSupportTools\\\\GreenInfrastructureCenterCores\\\\MapPackageDownloads\\\\ExtractedData\\\\MO_GreenInfoData_7572F88F-E93A-46AC-85F2-ECCBC7E5B471\\\\v105\\\\derivedgidata20170305.gdb\\\\HabitatCores20170305', 'F:\\\\GIS_DATA\\\\DecisionSupportTools\\\\GreenInfrastructureCenterCores\\\\MapPackageDownloads\\\\ExtractedData\\\\MO_GreenInfoData_7572F88F-E93A-46AC-85F2-ECCBC7E5B471\\\\v105\\\\derivedgidata20170305.gdb\\\\Missouri', 'F:\\\\GIS_DATA\\\\DecisionSupportTools\\\\GreenInfrastructureCenterCores\\\\MapPackageDownloads\\\\ExtractedData\\\\MS_GreenInfoData_56416455-C542-479B-B5A8-D27ABA918C5A\\\\v105\\\\data.gdb\\\\NHD_AREA', 'F:\\\\GIS_DATA\\\\DecisionSupportTools\\\\GreenInfrastructureCenterCores\\\\MapPackageDownloads\\\\ExtractedData\\\\MS_GreenInfoData_56416455-C542-479B-B5A8-D27ABA918C5A\\\\v105\\\\data.gdb\\\\NHD_WATERBODY', 'F:\\\\GIS_DATA\\\\DecisionSupportTools\\\\GreenInfrastructureCenterCores\\\\MapPackageDownloads\\\\ExtractedData\\\\MS_GreenInfoData_56416455-C542-479B-B5A8-D27ABA918C5A\\\\v105\\\\data.gdb\\\\NWI_WETLANDS', 'F:\\\\GIS_DATA\\\\DecisionSupportTools\\\\GreenInfrastructureCenterCores\\\\MapPackageDownloads\\\\ExtractedData\\\\MS_GreenInfoData_56416455-C542-479B-B5A8-D27ABA918C5A\\\\v105\\\\data.gdb\\\\SSURGO', 'F:\\\\GIS_DATA\\\\DecisionSupportTools\\\\GreenInfrastructureCenterCores\\\\MapPackageDownloads\\\\ExtractedData\\\\MS_GreenInfoData_56416455-C542-479B-B5A8-D27ABA918C5A\\\\v105\\\\data.gdb\\\\TNCREGIONS', 'F:\\\\GIS_DATA\\\\DecisionSupportTools\\\\GreenInfrastructureCenterCores\\\\MapPackageDownloads\\\\ExtractedData\\\\MS_GreenInfoData_56416455-C542-479B-B5A8-D27ABA918C5A\\\\v105\\\\derivedgidata20170305.gdb\\\\HabitatCores20170305', 'F:\\\\GIS_DATA\\\\DecisionSupportTools\\\\GreenInfrastructureCenterCores\\\\MapPackageDownloads\\\\ExtractedData\\\\MS_GreenInfoData_56416455-C542-479B-B5A8-D27ABA918C5A\\\\v105\\\\derivedgidata20170305.gdb\\\\Mississippi', 'F:\\\\GIS_DATA\\\\DecisionSupportTools\\\\GreenInfrastructureCenterCores\\\\MapPackageDownloads\\\\ExtractedData\\\\NC_GreenInfoData_DEAF84A7-36E0-48A8-8040-DF5BF86033D6\\\\v105\\\\data.gdb\\\\NHD_AREA', 'F:\\\\GIS_DATA\\\\DecisionSupportTools\\\\GreenInfrastructureCenterCores\\\\MapPackageDownloads\\\\ExtractedData\\\\NC_GreenInfoData_DEAF84A7-36E0-48A8-8040-DF5BF86033D6\\\\v105\\\\data.gdb\\\\NHD_WATERBODY', 'F:\\\\GIS_DATA\\\\DecisionSupportTools\\\\GreenInfrastructureCenterCores\\\\MapPackageDownloads\\\\ExtractedData\\\\NC_GreenInfoData_DEAF84A7-36E0-48A8-8040-DF5BF86033D6\\\\v105\\\\data.gdb\\\\NWI_WETLANDS', 'F:\\\\GIS_DATA\\\\DecisionSupportTools\\\\GreenInfrastructureCenterCores\\\\MapPackageDownloads\\\\ExtractedData\\\\NC_GreenInfoData_DEAF84A7-36E0-48A8-8040-DF5BF86033D6\\\\v105\\\\data.gdb\\\\SSURGO', 'F:\\\\GIS_DATA\\\\DecisionSupportTools\\\\GreenInfrastructureCenterCores\\\\MapPackageDownloads\\\\ExtractedData\\\\NC_GreenInfoData_DEAF84A7-36E0-48A8-8040-DF5BF86033D6\\\\v105\\\\data.gdb\\\\TNCREGIONS', 'F:\\\\GIS_DATA\\\\DecisionSupportTools\\\\GreenInfrastructureCenterCores\\\\MapPackageDownloads\\\\ExtractedData\\\\NC_GreenInfoData_DEAF84A7-36E0-48A8-8040-DF5BF86033D6\\\\v105\\\\derivedgidata20170305.gdb\\\\HabitatCores20170305', 'F:\\\\GIS_DATA\\\\DecisionSupportTools\\\\GreenInfrastructureCenterCores\\\\MapPackageDownloads\\\\ExtractedData\\\\NC_GreenInfoData_DEAF84A7-36E0-48A8-8040-DF5BF86033D6\\\\v105\\\\derivedgidata20170305.gdb\\\\North_Carolina', 'F:\\\\GIS_DATA\\\\DecisionSupportTools\\\\GreenInfrastructureCenterCores\\\\MapPackageDownloads\\\\ExtractedData\\\\OK_GreenInfoData_E1C98A77-DFF5-4CFF-8686-0926894AFCCA\\\\v105\\\\data.gdb\\\\NHD_AREA', 'F:\\\\GIS_DATA\\\\DecisionSupportTools\\\\GreenInfrastructureCenterCores\\\\MapPackageDownloads\\\\ExtractedData\\\\OK_GreenInfoData_E1C98A77-DFF5-4CFF-8686-0926894AFCCA\\\\v105\\\\data.gdb\\\\NHD_WATERBODY', 'F:\\\\GIS_DATA\\\\DecisionSupportTools\\\\GreenInfrastructureCenterCores\\\\MapPackageDownloads\\\\ExtractedData\\\\OK_GreenInfoData_E1C98A77-DFF5-4CFF-8686-0926894AFCCA\\\\v105\\\\data.gdb\\\\NWI_WETLANDS', 'F:\\\\GIS_DATA\\\\DecisionSupportTools\\\\GreenInfrastructureCenterCores\\\\MapPackageDownloads\\\\ExtractedData\\\\OK_GreenInfoData_E1C98A77-DFF5-4CFF-8686-0926894AFCCA\\\\v105\\\\data.gdb\\\\SSURGO', 'F:\\\\GIS_DATA\\\\DecisionSupportTools\\\\GreenInfrastructureCenterCores\\\\MapPackageDownloads\\\\ExtractedData\\\\OK_GreenInfoData_E1C98A77-DFF5-4CFF-8686-0926894AFCCA\\\\v105\\\\data.gdb\\\\TNCREGIONS', 'F:\\\\GIS_DATA\\\\DecisionSupportTools\\\\GreenInfrastructureCenterCores\\\\MapPackageDownloads\\\\ExtractedData\\\\OK_GreenInfoData_E1C98A77-DFF5-4CFF-8686-0926894AFCCA\\\\v105\\\\derivedgidata20170305.gdb\\\\HabitatCores20170305', 'F:\\\\GIS_DATA\\\\DecisionSupportTools\\\\GreenInfrastructureCenterCores\\\\MapPackageDownloads\\\\ExtractedData\\\\OK_GreenInfoData_E1C98A77-DFF5-4CFF-8686-0926894AFCCA\\\\v105\\\\derivedgidata20170305.gdb\\\\Oklahoma', 'F:\\\\GIS_DATA\\\\DecisionSupportTools\\\\GreenInfrastructureCenterCores\\\\MapPackageDownloads\\\\ExtractedData\\\\SC_GreenInfoData_4F9F2273-CCA6-4C7E-B205-7C6EB53C381D\\\\v105\\\\data.gdb\\\\NHD_AREA', 'F:\\\\GIS_DATA\\\\DecisionSupportTools\\\\GreenInfrastructureCenterCores\\\\MapPackageDownloads\\\\ExtractedData\\\\SC_GreenInfoData_4F9F2273-CCA6-4C7E-B205-7C6EB53C381D\\\\v105\\\\data.gdb\\\\NHD_WATERBODY', 'F:\\\\GIS_DATA\\\\DecisionSupportTools\\\\GreenInfrastructureCenterCores\\\\MapPackageDownloads\\\\ExtractedData\\\\SC_GreenInfoData_4F9F2273-CCA6-4C7E-B205-7C6EB53C381D\\\\v105\\\\data.gdb\\\\NWI_WETLANDS', 'F:\\\\GIS_DATA\\\\DecisionSupportTools\\\\GreenInfrastructureCenterCores\\\\MapPackageDownloads\\\\ExtractedData\\\\SC_GreenInfoData_4F9F2273-CCA6-4C7E-B205-7C6EB53C381D\\\\v105\\\\data.gdb\\\\SSURGO', 'F:\\\\GIS_DATA\\\\DecisionSupportTools\\\\GreenInfrastructureCenterCores\\\\MapPackageDownloads\\\\ExtractedData\\\\SC_GreenInfoData_4F9F2273-CCA6-4C7E-B205-7C6EB53C381D\\\\v105\\\\data.gdb\\\\TNCREGIONS', 'F:\\\\GIS_DATA\\\\DecisionSupportTools\\\\GreenInfrastructureCenterCores\\\\MapPackageDownloads\\\\ExtractedData\\\\SC_GreenInfoData_4F9F2273-CCA6-4C7E-B205-7C6EB53C381D\\\\v105\\\\derivedgidata20170305.gdb\\\\HabitatCores20170305', 'F:\\\\GIS_DATA\\\\DecisionSupportTools\\\\GreenInfrastructureCenterCores\\\\MapPackageDownloads\\\\ExtractedData\\\\SC_GreenInfoData_4F9F2273-CCA6-4C7E-B205-7C6EB53C381D\\\\v105\\\\derivedgidata20170305.gdb\\\\South_Carolina', 'F:\\\\GIS_DATA\\\\DecisionSupportTools\\\\GreenInfrastructureCenterCores\\\\MapPackageDownloads\\\\ExtractedData\\\\TN_GreenInfoData_2C89FCAB-F0F8-415B-B9BD-4E7CA7C77470\\\\v105\\\\data.gdb\\\\NHD_AREA', 'F:\\\\GIS_DATA\\\\DecisionSupportTools\\\\GreenInfrastructureCenterCores\\\\MapPackageDownloads\\\\ExtractedData\\\\TN_GreenInfoData_2C89FCAB-F0F8-415B-B9BD-4E7CA7C77470\\\\v105\\\\data.gdb\\\\NHD_WATERBODY', 'F:\\\\GIS_DATA\\\\DecisionSupportTools\\\\GreenInfrastructureCenterCores\\\\MapPackageDownloads\\\\ExtractedData\\\\TN_GreenInfoData_2C89FCAB-F0F8-415B-B9BD-4E7CA7C77470\\\\v105\\\\data.gdb\\\\NWI_WETLANDS', 'F:\\\\GIS_DATA\\\\DecisionSupportTools\\\\GreenInfrastructureCenterCores\\\\MapPackageDownloads\\\\ExtractedData\\\\TN_GreenInfoData_2C89FCAB-F0F8-415B-B9BD-4E7CA7C77470\\\\v105\\\\data.gdb\\\\SSURGO', 'F:\\\\GIS_DATA\\\\DecisionSupportTools\\\\GreenInfrastructureCenterCores\\\\MapPackageDownloads\\\\ExtractedData\\\\TN_GreenInfoData_2C89FCAB-F0F8-415B-B9BD-4E7CA7C77470\\\\v105\\\\data.gdb\\\\TNCREGIONS', 'F:\\\\GIS_DATA\\\\DecisionSupportTools\\\\GreenInfrastructureCenterCores\\\\MapPackageDownloads\\\\ExtractedData\\\\TN_GreenInfoData_2C89FCAB-F0F8-415B-B9BD-4E7CA7C77470\\\\v105\\\\derivedgidata20170305.gdb\\\\HabitatCores20170305', 'F:\\\\GIS_DATA\\\\DecisionSupportTools\\\\GreenInfrastructureCenterCores\\\\MapPackageDownloads\\\\ExtractedData\\\\TN_GreenInfoData_2C89FCAB-F0F8-415B-B9BD-4E7CA7C77470\\\\v105\\\\derivedgidata20170305.gdb\\\\Tennessee', 'F:\\\\GIS_DATA\\\\DecisionSupportTools\\\\GreenInfrastructureCenterCores\\\\MapPackageDownloads\\\\ExtractedData\\\\TX_GreenInfoData_22B2F5E9-07E6-4160-A7F8-F38302FD4979\\\\v105\\\\data.gdb\\\\NHD_AREA', 'F:\\\\GIS_DATA\\\\DecisionSupportTools\\\\GreenInfrastructureCenterCores\\\\MapPackageDownloads\\\\ExtractedData\\\\TX_GreenInfoData_22B2F5E9-07E6-4160-A7F8-F38302FD4979\\\\v105\\\\data.gdb\\\\NHD_WATERBODY', 'F:\\\\GIS_DATA\\\\DecisionSupportTools\\\\GreenInfrastructureCenterCores\\\\MapPackageDownloads\\\\ExtractedData\\\\TX_GreenInfoData_22B2F5E9-07E6-4160-A7F8-F38302FD4979\\\\v105\\\\data.gdb\\\\NWI_WETLANDS', 'F:\\\\GIS_DATA\\\\DecisionSupportTools\\\\GreenInfrastructureCenterCores\\\\MapPackageDownloads\\\\ExtractedData\\\\TX_GreenInfoData_22B2F5E9-07E6-4160-A7F8-F38302FD4979\\\\v105\\\\data.gdb\\\\SSURGO', 'F:\\\\GIS_DATA\\\\DecisionSupportTools\\\\GreenInfrastructureCenterCores\\\\MapPackageDownloads\\\\ExtractedData\\\\TX_GreenInfoData_22B2F5E9-07E6-4160-A7F8-F38302FD4979\\\\v105\\\\data.gdb\\\\TNCREGIONS', 'F:\\\\GIS_DATA\\\\DecisionSupportTools\\\\GreenInfrastructureCenterCores\\\\MapPackageDownloads\\\\ExtractedData\\\\TX_GreenInfoData_22B2F5E9-07E6-4160-A7F8-F38302FD4979\\\\v105\\\\derivedgidata20170305.gdb\\\\HabitatCores20170305', 'F:\\\\GIS_DATA\\\\DecisionSupportTools\\\\GreenInfrastructureCenterCores\\\\MapPackageDownloads\\\\ExtractedData\\\\TX_GreenInfoData_22B2F5E9-07E6-4160-A7F8-F38302FD4979\\\\v105\\\\derivedgidata20170305.gdb\\\\Texas', 'F:\\\\GIS_DATA\\\\DecisionSupportTools\\\\GreenInfrastructureCenterCores\\\\MapPackageDownloads\\\\ExtractedData\\\\VA_GreenInfoData_507AD11A-662E-451C-8C82-7E4516477B43\\\\v105\\\\data.gdb\\\\NHD_AREA', 'F:\\\\GIS_DATA\\\\DecisionSupportTools\\\\GreenInfrastructureCenterCores\\\\MapPackageDownloads\\\\ExtractedData\\\\VA_GreenInfoData_507AD11A-662E-451C-8C82-7E4516477B43\\\\v105\\\\data.gdb\\\\NHD_WATERBODY', 'F:\\\\GIS_DATA\\\\DecisionSupportTools\\\\GreenInfrastructureCenterCores\\\\MapPackageDownloads\\\\ExtractedData\\\\VA_GreenInfoData_507AD11A-662E-451C-8C82-7E4516477B43\\\\v105\\\\data.gdb\\\\NWI_WETLANDS', 'F:\\\\GIS_DATA\\\\DecisionSupportTools\\\\GreenInfrastructureCenterCores\\\\MapPackageDownloads\\\\ExtractedData\\\\VA_GreenInfoData_507AD11A-662E-451C-8C82-7E4516477B43\\\\v105\\\\data.gdb\\\\SSURGO', 'F:\\\\GIS_DATA\\\\DecisionSupportTools\\\\GreenInfrastructureCenterCores\\\\MapPackageDownloads\\\\ExtractedData\\\\VA_GreenInfoData_507AD11A-662E-451C-8C82-7E4516477B43\\\\v105\\\\data.gdb\\\\TNCREGIONS', 'F:\\\\GIS_DATA\\\\DecisionSupportTools\\\\GreenInfrastructureCenterCores\\\\MapPackageDownloads\\\\ExtractedData\\\\VA_GreenInfoData_507AD11A-662E-451C-8C82-7E4516477B43\\\\v105\\\\derivedgidata20170305.gdb\\\\HabitatCores20170305', 'F:\\\\GIS_DATA\\\\DecisionSupportTools\\\\GreenInfrastructureCenterCores\\\\MapPackageDownloads\\\\ExtractedData\\\\VA_GreenInfoData_507AD11A-662E-451C-8C82-7E4516477B43\\\\v105\\\\derivedgidata20170305.gdb\\\\Virginia', 'F:\\\\GIS_DATA\\\\DecisionSupportTools\\\\GreenInfrastructureCenterCores\\\\MapPackageDownloads\\\\ExtractedData\\\\WV_GreenInfoData_DAEE66C7-9C32-40E5-B2AA-C0FA63BBD366\\\\v105\\\\data.gdb\\\\NHD_AREA', 'F:\\\\GIS_DATA\\\\DecisionSupportTools\\\\GreenInfrastructureCenterCores\\\\MapPackageDownloads\\\\ExtractedData\\\\WV_GreenInfoData_DAEE66C7-9C32-40E5-B2AA-C0FA63BBD366\\\\v105\\\\data.gdb\\\\NHD_WATERBODY', 'F:\\\\GIS_DATA\\\\DecisionSupportTools\\\\GreenInfrastructureCenterCores\\\\MapPackageDownloads\\\\ExtractedData\\\\WV_GreenInfoData_DAEE66C7-9C32-40E5-B2AA-C0FA63BBD366\\\\v105\\\\data.gdb\\\\NWI_WETLANDS', 'F:\\\\GIS_DATA\\\\DecisionSupportTools\\\\GreenInfrastructureCenterCores\\\\MapPackageDownloads\\\\ExtractedData\\\\WV_GreenInfoData_DAEE66C7-9C32-40E5-B2AA-C0FA63BBD366\\\\v105\\\\data.gdb\\\\SSURGO', 'F:\\\\GIS_DATA\\\\DecisionSupportTools\\\\GreenInfrastructureCenterCores\\\\MapPackageDownloads\\\\ExtractedData\\\\WV_GreenInfoData_DAEE66C7-9C32-40E5-B2AA-C0FA63BBD366\\\\v105\\\\data.gdb\\\\TNCREGIONS', 'F:\\\\GIS_DATA\\\\DecisionSupportTools\\\\GreenInfrastructureCenterCores\\\\MapPackageDownloads\\\\ExtractedData\\\\WV_GreenInfoData_DAEE66C7-9C32-40E5-B2AA-C0FA63BBD366\\\\v105\\\\derivedgidata20170305.gdb\\\\HabitatCores20170305', 'F:\\\\GIS_DATA\\\\DecisionSupportTools\\\\GreenInfrastructureCenterCores\\\\MapPackageDownloads\\\\ExtractedData\\\\WV_GreenInfoData_DAEE66C7-9C32-40E5-B2AA-C0FA63BBD366\\\\v105\\\\derivedgidata20170305.gdb\\\\West_Virginia']"
     ]
    },
    {
     "name": "stdout",
     "output_type": "stream",
     "text": [
      "\n"
     ]
    }
   ],
   "source": [
    "#Print the list made in the above step to see what I found\n",
    "print(FCList)"
   ]
  },
  {
   "cell_type": "code",
   "execution_count": 12,
   "metadata": {
    "scrolled": true
   },
   "outputs": [],
   "source": [
    "# too many feature classes! need to narrrow down based on a wildcard to only list the cores\n",
    "FCListS =[]\n",
    "\n",
    "for fc in FCList:\n",
    "    if fnmatch.fnmatch(fc, \"*HabitatCores20170305\"):\n",
    "        FCListS.append(fc)"
   ]
  },
  {
   "cell_type": "code",
   "execution_count": 13,
   "metadata": {
    "scrolled": true
   },
   "outputs": [
    {
     "name": "stdout",
     "output_type": "stream",
     "text": [
      "['F:\\\\GIS_DATA\\\\DecisionSupportTools\\\\GreenInfrastructureCenterCores\\\\MapPackageDownloads\\\\ExtractedData\\\\AL_GreenInfoData_79175021-AE3D-43CF-856C-09ED583D3240\\\\v105\\\\derivedgidata20170305.gdb\\\\HabitatCores20170305', 'F:\\\\GIS_DATA\\\\DecisionSupportTools\\\\GreenInfrastructureCenterCores\\\\MapPackageDownloads\\\\ExtractedData\\\\AR_GreenInfoData_74AA5169-19E3-4925-96F3-F0A9DBF3656C\\\\v105\\\\derivedgidata20170305.gdb\\\\HabitatCores20170305', 'F:\\\\GIS_DATA\\\\DecisionSupportTools\\\\GreenInfrastructureCenterCores\\\\MapPackageDownloads\\\\ExtractedData\\\\FL_GreenInfoData_63F9EC8E-FA7F-41C3-B677-780AF9A06807\\\\v105\\\\derivedgidata20170305.gdb\\\\HabitatCores20170305', 'F:\\\\GIS_DATA\\\\DecisionSupportTools\\\\GreenInfrastructureCenterCores\\\\MapPackageDownloads\\\\ExtractedData\\\\GA_GreenInfoData_01A434FC-46D2-4C62-ADC3-575DAD67D86D\\\\v105\\\\derivedgidata20170305.gdb\\\\HabitatCores20170305', 'F:\\\\GIS_DATA\\\\DecisionSupportTools\\\\GreenInfrastructureCenterCores\\\\MapPackageDownloads\\\\ExtractedData\\\\IA_GreenInfoData_1EAAADFF-F7D3-4467-B08A-E3B3A74BE7F1\\\\v105\\\\derivedgidata20170305.gdb\\\\HabitatCores20170305', 'F:\\\\GIS_DATA\\\\DecisionSupportTools\\\\GreenInfrastructureCenterCores\\\\MapPackageDownloads\\\\ExtractedData\\\\KY_GreenInfoData_8474A6CB-9AB4-4391-A41F-E2CDCB98CF44\\\\v105\\\\derivedgidata20170305.gdb\\\\HabitatCores20170305', 'F:\\\\GIS_DATA\\\\DecisionSupportTools\\\\GreenInfrastructureCenterCores\\\\MapPackageDownloads\\\\ExtractedData\\\\LA_GreenInfoData_EF2A1562-D475-4F49-ADBD-EFC5664ED8CF\\\\v105\\\\derivedgidata20170305.gdb\\\\HabitatCores20170305', 'F:\\\\GIS_DATA\\\\DecisionSupportTools\\\\GreenInfrastructureCenterCores\\\\MapPackageDownloads\\\\ExtractedData\\\\MO_GreenInfoData_7572F88F-E93A-46AC-85F2-ECCBC7E5B471\\\\v105\\\\derivedgidata20170305.gdb\\\\HabitatCores20170305', 'F:\\\\GIS_DATA\\\\DecisionSupportTools\\\\GreenInfrastructureCenterCores\\\\MapPackageDownloads\\\\ExtractedData\\\\MS_GreenInfoData_56416455-C542-479B-B5A8-D27ABA918C5A\\\\v105\\\\derivedgidata20170305.gdb\\\\HabitatCores20170305', 'F:\\\\GIS_DATA\\\\DecisionSupportTools\\\\GreenInfrastructureCenterCores\\\\MapPackageDownloads\\\\ExtractedData\\\\NC_GreenInfoData_DEAF84A7-36E0-48A8-8040-DF5BF86033D6\\\\v105\\\\derivedgidata20170305.gdb\\\\HabitatCores20170305', 'F:\\\\GIS_DATA\\\\DecisionSupportTools\\\\GreenInfrastructureCenterCores\\\\MapPackageDownloads\\\\ExtractedData\\\\OK_GreenInfoData_E1C98A77-DFF5-4CFF-8686-0926894AFCCA\\\\v105\\\\derivedgidata20170305.gdb\\\\HabitatCores20170305', 'F:\\\\GIS_DATA\\\\DecisionSupportTools\\\\GreenInfrastructureCenterCores\\\\MapPackageDownloads\\\\ExtractedData\\\\SC_GreenInfoData_4F9F2273-CCA6-4C7E-B205-7C6EB53C381D\\\\v105\\\\derivedgidata20170305.gdb\\\\HabitatCores20170305', 'F:\\\\GIS_DATA\\\\DecisionSupportTools\\\\GreenInfrastructureCenterCores\\\\MapPackageDownloads\\\\ExtractedData\\\\TN_GreenInfoData_2C89FCAB-F0F8-415B-B9BD-4E7CA7C77470\\\\v105\\\\derivedgidata20170305.gdb\\\\HabitatCores20170305', 'F:\\\\GIS_DATA\\\\DecisionSupportTools\\\\GreenInfrastructureCenterCores\\\\MapPackageDownloads\\\\ExtractedData\\\\TX_GreenInfoData_22B2F5E9-07E6-4160-A7F8-F38302FD4979\\\\v105\\\\derivedgidata20170305.gdb\\\\HabitatCores20170305', 'F:\\\\GIS_DATA\\\\DecisionSupportTools\\\\GreenInfrastructureCenterCores\\\\MapPackageDownloads\\\\ExtractedData\\\\VA_GreenInfoData_507AD11A-662E-451C-8C82-7E4516477B43\\\\v105\\\\derivedgidata20170305.gdb\\\\HabitatCores20170305', 'F:\\\\GIS_DATA\\\\DecisionSupportTools\\\\GreenInfrastructureCenterCores\\\\MapPackageDownloads\\\\ExtractedData\\\\WV_GreenInfoData_DAEE66C7-9C32-40E5-B2AA-C0FA63BBD366\\\\v105\\\\derivedgidata20170305.gdb\\\\HabitatCores20170305']\n"
     ]
    }
   ],
   "source": [
    "print(FCListS)"
   ]
  },
  {
   "cell_type": "markdown",
   "metadata": {},
   "source": [
    "### Start Analysis"
   ]
  },
  {
   "cell_type": "code",
   "execution_count": 14,
   "metadata": {
    "scrolled": true
   },
   "outputs": [],
   "source": [
    "# Set the workspace where I want the output to go\n",
    "arcpy.env.workspace = OutWorkspace"
   ]
  },
  {
   "cell_type": "code",
   "execution_count": 15,
   "metadata": {
    "scrolled": true
   },
   "outputs": [
    {
     "name": "stdout",
     "output_type": "stream",
     "text": [
      "D:\\SE_Blueprint_2023\\5_Indicators_Tier2_UnClipped\\Intact\\Intact.gdb\n"
     ]
    }
   ],
   "source": [
    "print(arcpy.env.workspace)"
   ]
  },
  {
   "cell_type": "code",
   "execution_count": 16,
   "metadata": {
    "scrolled": true
   },
   "outputs": [
    {
     "data": {
      "text/html": [
       "<div class='gpresult'><h2>Messages</h2><div id='messages' data-messages='[\"Start Time: Wednesday, June 21, 2023 6:49:09 PM\",\"Succeeded at Wednesday, June 21, 2023 6:49:24 PM (Elapsed Time: 15.01 seconds)\"]' data-show='true'><div id = 'default' /></div></div>"
      ],
      "text/plain": [
       "<Result 'D:\\\\SE_Blueprint_2023\\\\5_Indicators_Tier2_UnClipped\\\\Intact\\\\Intact.gdb\\\\MergeCore'>"
      ]
     },
     "execution_count": 16,
     "metadata": {},
     "output_type": "execute_result"
    }
   ],
   "source": [
    "# Merge all ESRI core state polygons together\n",
    "arcpy.management.Merge(FCListS, \"MergeCore\", \"\", \"ADD_SOURCE_INFO\")"
   ]
  },
  {
   "cell_type": "code",
   "execution_count": 17,
   "metadata": {
    "scrolled": true
   },
   "outputs": [
    {
     "data": {
      "text/html": [
       "<div class='gpresult'><h2>Messages</h2><div id='messages' data-messages='[\"Start Time: Wednesday, June 21, 2023 6:49:24 PM\",\"17209 duplicate(s) from 16816 group(s) deleted.\",\"Succeeded at Wednesday, June 21, 2023 6:49:30 PM (Elapsed Time: 6.28 seconds)\"]' data-show='true'><div id = 'default' /></div></div>"
      ],
      "text/plain": [
       "<Result 'D:\\\\SE_Blueprint_2023\\\\5_Indicators_Tier2_UnClipped\\\\Intact\\\\Intact.gdb\\\\MergeCore'>"
      ]
     },
     "execution_count": 17,
     "metadata": {},
     "output_type": "execute_result"
    }
   ],
   "source": [
    "# remove duplicate polygons\n",
    "arcpy.management.DeleteIdentical(\"MergeCore\", \"Value\", None, 0)"
   ]
  },
  {
   "cell_type": "code",
   "execution_count": 19,
   "metadata": {
    "scrolled": true
   },
   "outputs": [],
   "source": [
    "# convert to raster based on core size acres field\n",
    "with arcpy.EnvManager(outputCoordinateSystem=sr, extent=Rextent, snapRaster=Rextent, cellSize=Rextent):\n",
    "    arcpy.conversion.PolygonToRaster(\"MergeCore\", \"Acres\", \"HabitatCores\", \"CELL_CENTER\", \"NONE\", Rextent)"
   ]
  },
  {
   "cell_type": "code",
   "execution_count": 20,
   "metadata": {
    "scrolled": true
   },
   "outputs": [],
   "source": [
    "# is null to take NODATA values from core raster and give them a value of 1\n",
    "out_raster = arcpy.sa.IsNull(\"HabitatCores\"); out_raster.save(\"HabitatCoresISNull\")"
   ]
  },
  {
   "cell_type": "code",
   "execution_count": 21,
   "metadata": {
    "scrolled": true
   },
   "outputs": [],
   "source": [
    "# this conditional statements makes makes the NODATA 0\n",
    "out_raster = arcpy.sa.Con(\"HabitatCoresISNull\", \"HabitatCores\", 0, \"Value = 0\"); out_raster.save(\"HabitatCores0\")"
   ]
  },
  {
   "cell_type": "code",
   "execution_count": 22,
   "metadata": {
    "scrolled": true
   },
   "outputs": [],
   "source": [
    "# make raster an integer \n",
    "# this is only important for back when we were making a continous raster\n",
    "#out_raster = arcpy.sa.Int(\"HabitatCores0\"); out_raster.save(\"HabitatCores0Int\")"
   ]
  },
  {
   "cell_type": "code",
   "execution_count": 23,
   "metadata": {
    "scrolled": true
   },
   "outputs": [],
   "source": [
    "# reclassify\n",
    "\n",
    "# ArcGIS reclass includes the second value in the class for example,\n",
    "# 0 1 is <=1 (1 is included)\n",
    "# 1 5 is >1 - 5 (1 is not included, 5 is included)\n",
    "# 5 20 is >5 - 20 (5 is not included, 20 is included)\n",
    "\n",
    "out_raster = arcpy.sa.Reclassify(\"HabitatCores0\", \"Value\", \"0 0 0;1 1000 1;1000 10000 2;10000 9000000 3\", \"DATA\"); out_raster.save(\"indicato\")"
   ]
  },
  {
   "cell_type": "code",
   "execution_count": 24,
   "metadata": {},
   "outputs": [],
   "source": [
    "# use NLCD extent to remove deep marine\n",
    "out_raster = arcpy.sa.Con(NLCD, \"indicato\", '', \"Value > 0\"); out_raster.save(\"indicator\")"
   ]
  },
  {
   "cell_type": "markdown",
   "metadata": {},
   "source": [
    "### Finalize indiator\n",
    "\n",
    "do final steps for all indicators to add description fields, clip and export to SE extent, clip and export to SA extent"
   ]
  },
  {
   "cell_type": "code",
   "execution_count": 29,
   "metadata": {
    "scrolled": false
   },
   "outputs": [],
   "source": [
    "# clip to SE 2021 Blueprint extent\n",
    "with arcpy.EnvManager(outputCoordinateSystem=sr, extent=Rextent, snapRaster=Rextent, cellSize=Rextent):\n",
    "    out_raster = arcpy.sa.ExtractByMask(\"indicator\", Rextent); out_raster.save(\"SEMask\")"
   ]
  },
  {
   "cell_type": "code",
   "execution_count": 30,
   "metadata": {
    "scrolled": true
   },
   "outputs": [],
   "source": [
    "# export as .tif with SE extent\n",
    "with arcpy.EnvManager(outputCoordinateSystem=sr, extent=Rextent, snapRaster=Rextent, cellSize=Rextent):\n",
    "    arcpy.management.CopyRaster(\"SEMask\", Out, '', None, \"15\", \"NONE\", \"NONE\", \"4_BIT\", \"NONE\", \"NONE\", \"TIFF\", \"NONE\", \"CURRENT_SLICE\", \"NO_TRANSPOSE\")"
   ]
  },
  {
   "cell_type": "code",
   "execution_count": 16,
   "metadata": {
    "scrolled": true
   },
   "outputs": [],
   "source": [
    "# set code block for next step\n",
    "codeblock = \"\"\"\n",
    "def Reclass(v):\n",
    "    if v == 3:\n",
    "        return '3 = Large core (>10,000 acres)'\n",
    "    elif v == 2:\n",
    "        return '2 = Medium core (>1,000-10,000 acres)'\n",
    "    elif v == 1:\n",
    "        return '1 = Small core (>100-1,000 acres)'\n",
    "    elif v == 0:\n",
    "        return '0 = Not a core'\n",
    "\"\"\""
   ]
  },
  {
   "cell_type": "code",
   "execution_count": 17,
   "metadata": {
    "scrolled": true
   },
   "outputs": [
    {
     "data": {
      "text/html": [
       "<div class='gpresult'><h2>Messages</h2><div id='messages' data-messages='[\"Start Time: Friday, September 15, 2023 5:16:09 PM\",\"Succeeded at Friday, September 15, 2023 5:16:09 PM (Elapsed Time: 0.13 seconds)\"]' data-show='true'><div id = 'default' /></div></div>"
      ],
      "text/plain": [
       "<Result 'D:\\\\SE_Blueprint_2023\\\\5_Indicators_Tier2_UnClipped\\\\Intact\\\\IntactHabitatCores.tif'>"
      ]
     },
     "execution_count": 17,
     "metadata": {},
     "output_type": "execute_result"
    }
   ],
   "source": [
    "# add and calculate description field to hold indicator values\n",
    "arcpy.management.CalculateField(Out, \"descript\", \"Reclass(!value!)\", \"PYTHON3\", codeblock, \"TEXT\")"
   ]
  },
  {
   "cell_type": "code",
   "execution_count": 18,
   "metadata": {},
   "outputs": [],
   "source": [
    "# set code block for next step\n",
    "codeblock = \"\"\"\n",
    "def Reclass1(Value):\n",
    "\tif Value == 3:\n",
    "\t\treturn 0\n",
    "\tif Value == 2:\n",
    "\t\treturn 16\n",
    "\tif Value == 1:\n",
    "\t\treturn 62\n",
    "\telse:\n",
    "\t\treturn 255\n",
    "\t\t\n",
    "def Reclass2(Value):\n",
    "\tif Value == 3:\n",
    "\t\treturn 68\n",
    "\tif Value == 2:\n",
    "\t\treturn 123\n",
    "\tif Value == 1:\n",
    "\t\treturn 171\n",
    "\telse:\n",
    "\t\treturn 255\n",
    "\t\t\n",
    "def Reclass3(Value):\n",
    "\tif Value == 3:\n",
    "\t\treturn 27\n",
    "\tif Value == 2:\n",
    "\t\treturn 55\n",
    "\tif Value == 1:\n",
    "\t\treturn 114\n",
    "\telse:\n",
    "\t\treturn 255\n",
    "\"\"\""
   ]
  },
  {
   "cell_type": "code",
   "execution_count": 19,
   "metadata": {},
   "outputs": [
    {
     "data": {
      "text/html": [
       "<div class='gpresult'><h2>Messages</h2><div id='messages' data-messages='[\"Start Time: Friday, September 15, 2023 5:16:09 PM\",\"Succeeded at Friday, September 15, 2023 5:16:09 PM (Elapsed Time: 0.13 seconds)\"]' data-show='true'><div id = 'default' /></div></div>"
      ],
      "text/plain": [
       "<Result 'D:\\\\SE_Blueprint_2023\\\\5_Indicators_Tier2_UnClipped\\\\Intact\\\\IntactHabitatCores.tif'>"
      ]
     },
     "execution_count": 19,
     "metadata": {},
     "output_type": "execute_result"
    }
   ],
   "source": [
    "# calculate Red field\n",
    "arcpy.management.CalculateField(Out, \"Red\", \"Reclass1(!Value!)\", \"PYTHON3\", codeblock, \"SHORT\")\n",
    "# calculate Green field\n",
    "arcpy.management.CalculateField(Out, \"Green\", \"Reclass2(!Value!)\", \"PYTHON3\", codeblock, \"SHORT\")\n",
    "# calculate Blue field\n",
    "arcpy.management.CalculateField(Out, \"Blue\", \"Reclass3(!Value!)\", \"PYTHON3\", codeblock, \"SHORT\")"
   ]
  },
  {
   "cell_type": "code",
   "execution_count": 31,
   "metadata": {},
   "outputs": [
    {
     "name": "stdout",
     "output_type": "stream",
     "text": [
      "3313.4667658805847\n"
     ]
    }
   ],
   "source": [
    "end = time.time()\n",
    "print(end - start)"
   ]
  },
  {
   "cell_type": "code",
   "execution_count": null,
   "metadata": {},
   "outputs": [],
   "source": []
  }
 ],
 "metadata": {
  "kernelspec": {
   "display_name": "ArcGISPro",
   "language": "Python",
   "name": "python3"
  },
  "language_info": {
   "file_extension": ".py",
   "name": "python",
   "version": "3"
  }
 },
 "nbformat": 4,
 "nbformat_minor": 2
}
