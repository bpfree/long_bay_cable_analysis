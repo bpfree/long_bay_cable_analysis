{
 "cells": [
  {
   "cell_type": "markdown",
   "metadata": {},
   "source": [
    "# Permeable Surface\n",
    "\n",
    "This indicator was made for the 2023 blueprint.\n",
    "\n",
    "Created by Amy Keister, last run by Amy Keister on 14 July 2023. It took 30 minutes to run. \n",
    "\n",
    "Because I am using a layer select, I have to run this in an arcPRO session with a map open.\n",
    "\n",
    "Also, The NHD cathcments didn't cover all the islands, so I used some selection rules based on the size of islands and their overlap. These won't translate to other regions. So those steps will only work for the Virgin Islands and Puerto Rico area.\n",
    "\n",
    "Also, these methods got way complex trying to get the islands to match the shoreline islands. If I have time I need to rethink all this. I was originaly doing the zonal statics at the original projection and cell size of the C-CAP. That seemed doable at first, but after working on adding in islands, this code has gotten really long and is taking a long time to run. It might not be worth it to do the analysis at the C-CAP cell size."
   ]
  },
  {
   "cell_type": "code",
   "execution_count": 1,
   "metadata": {},
   "outputs": [],
   "source": [
    "import os\n",
    "import arcpy"
   ]
  },
  {
   "cell_type": "code",
   "execution_count": 2,
   "metadata": {},
   "outputs": [],
   "source": [
    "import time\n",
    "start = time.time()"
   ]
  },
  {
   "cell_type": "code",
   "execution_count": 3,
   "metadata": {},
   "outputs": [],
   "source": [
    "# define spatial reference and workspaces\n",
    "sr= arcpy.SpatialReference(5070)\n",
    "#SourceWorkspace= \n",
    "OutWorkspace= r\"D:\\SE_Blueprint_2023\\4_Indicators\\CaribbeanPermeableSurface\\CaribbeanPermeabl.gdb\""
   ]
  },
  {
   "cell_type": "code",
   "execution_count": 4,
   "metadata": {},
   "outputs": [],
   "source": [
    "# define final indicator outputs\n",
    "Out = r\"D:\\SE_Blueprint_2023\\4_Indicators\\CaribbeanPermeableSurface\\CaribbeanPermeableSurface.tif\""
   ]
  },
  {
   "cell_type": "code",
   "execution_count": 5,
   "metadata": {},
   "outputs": [],
   "source": [
    "# define sub-indicator outputs to help with user support\n",
    "PR= r\"D:\\SE_Blueprint_2023\\4_Indicators\\CaribbeanPermeableSurface\\PermeableSurfacePR.tif\"\n",
    "ST= r\"D:\\SE_Blueprint_2023\\4_Indicators\\CaribbeanPermeableSurface\\PermeableSurfaceST.tif\"\n",
    "SJ= r\"D:\\SE_Blueprint_2023\\4_Indicators\\CaribbeanPermeableSurface\\PermeableSurfaceSJ.tif\"\n",
    "SC= r\"D:\\SE_Blueprint_2023\\4_Indicators\\CaribbeanPermeableSurface\\PermeableSurfaceSC.tif\"\n",
    "PR1= r\"D:\\SE_Blueprint_2023\\4_Indicators\\CaribbeanPermeableSurface\\PermeableSurfacePR1.tif\"\n",
    "ST1= r\"D:\\SE_Blueprint_2023\\4_Indicators\\CaribbeanPermeableSurface\\PermeableSurfaceST1.tif\"\n",
    "SJ1= r\"D:\\SE_Blueprint_2023\\4_Indicators\\CaribbeanPermeableSurface\\PermeableSurfaceSJ1.tif\"\n",
    "SC1= r\"D:\\SE_Blueprint_2023\\4_Indicators\\CaribbeanPermeableSurface\\PermeableSurfaceSC1.tif\""
   ]
  },
  {
   "cell_type": "code",
   "execution_count": 6,
   "metadata": {},
   "outputs": [],
   "source": [
    "# define rasters used for cell size, extent, and snapping\n",
    "Rextent= r\"D:\\SE_Blueprint_2023\\1_VIPR_Extent\\VIPR_Extent_v6.tif\""
   ]
  },
  {
   "cell_type": "code",
   "execution_count": 7,
   "metadata": {},
   "outputs": [],
   "source": [
    "# define inputs\n",
    "catch= r\"F:\\GIS_DATA\\WaterResources\\NHD\\NHDPlus_H_National_Release_1_GDB\\NHDPlus_H_National_Release_1_GDB.gdb\\NHDPlusCatchment\"\n",
    "\n",
    "# The ccap data is served up seperately for PR and each USVI island.\n",
    "# I did some pre-processing in another notebook named CCAPpre_JustExportTif.ipynb because\n",
    "# ArcPro is not working with the original download rasters for some reason. It won't ID them \n",
    "# correctly and it also \n",
    "# won't perform processes on them correctly. I've tried many things, most of them work in ArcPro \n",
    "# outside of phython. Outside of python, if I reproject and bring the output into a geodatabase, \n",
    "# then ArcPro starts recognizing these rasters. But when I tried this in python it didn't work. \n",
    "# I tried mosaicing them first but it didn't make a raster that ArcPro can deal with. Finally I was \n",
    "# able to get copy raster to create rasters that ArcPro will recognize, but even with that, I had \n",
    "# to reboot my machine to get this copy to work correctly in python.\n",
    "ccapPR= r\"F:\\GIS_DATA\\LanduseLandcover\\CCAP\\VIPR\\copyPR.tif\"\n",
    "ccapST= r\"F:\\GIS_DATA\\LanduseLandcover\\CCAP\\VIPR\\copyST.tif\"\n",
    "ccapSJ= r\"F:\\GIS_DATA\\LanduseLandcover\\CCAP\\VIPR\\copySJ.tif\"\n",
    "ccapSC= r\"F:\\GIS_DATA\\LanduseLandcover\\CCAP\\VIPR\\copySC.tif\"\n",
    "\n",
    "# This islands layer was made using the CUSP data. There is another set of code that was used to create it.\n",
    "isl= r\"D:\\SE_Blueprint_2023\\Islands\\Islands3Size.tif\"\n",
    "\n",
    "# there is a large missing catchment on the west coast of PR. I made this to fill it in\n",
    "missing= r\"F:\\GIS_DATA\\WaterResources\\NHD\\NHDPlus_H_National_Release_1_GDB\\MissingCatchPR.shp\"\n",
    "\n",
    "# since the catchments don't cover the small islands, we need to make a layer for those islands\n",
    "# I'm using the CUSP shoreline data, since it seems to have more recent shorelines\n",
    "shore =r\"F:\\GIS_DATA\\LanduseLandcover\\CUSP_Shoreline\\Southeast_Caribbean\\Southeast_Caribbean.shp\""
   ]
  },
  {
   "cell_type": "markdown",
   "metadata": {},
   "source": [
    "### Start Analysis"
   ]
  },
  {
   "cell_type": "code",
   "execution_count": 8,
   "metadata": {},
   "outputs": [],
   "source": [
    "# Set the workspace where I want the output to go\n",
    "arcpy.env.workspace = OutWorkspace"
   ]
  },
  {
   "cell_type": "code",
   "execution_count": 9,
   "metadata": {},
   "outputs": [
    {
     "name": "stdout",
     "output_type": "stream",
     "text": [
      "D:\\SE_Blueprint_2023\\4_Indicators\\CaribbeanPermeableSurface\\CaribbeanPermeabl.gdb\n"
     ]
    }
   ],
   "source": [
    "# Print the current workspace to make sure I'm in the right spot\n",
    "print(arcpy.env.workspace)"
   ]
  },
  {
   "cell_type": "markdown",
   "metadata": {},
   "source": [
    "### make islands for permeable surface\n",
    "\n",
    "Since the catchments don't cover small islands, I'm going to make them from the shoreline data. This is tricky because the convert line to raster method is different than the convert polygon to raster method.\n",
    "\n",
    "It is also tricky because, for this indicator, we don't want to duplicate islands already represented in the NHD plus, because then we create slivers aroudn those islands where the shoreline extent doesn't match the NHD extent."
   ]
  },
  {
   "cell_type": "code",
   "execution_count": 10,
   "metadata": {},
   "outputs": [],
   "source": [
    "# reclassify island layer\n",
    "#out_raster = arcpy.sa.Reclassify(isl, \"Value\", \"1 NODATA;2 1;3 1;4 1\", \"DATA\"); out_raster.save(\"isla\")"
   ]
  },
  {
   "cell_type": "code",
   "execution_count": 11,
   "metadata": {},
   "outputs": [],
   "source": [
    "# convert islands to polygons\n",
    "#arcpy.conversion.RasterToPolygon(\"isla\", \"islaP\", \"NO_SIMPLIFY\", \"Value\", \"SINGLE_OUTER_PART\", None)"
   ]
  },
  {
   "cell_type": "code",
   "execution_count": 12,
   "metadata": {},
   "outputs": [],
   "source": [
    "# convert shore lines to polygons\n",
    "# this doesn't work for the mainland of PR, because the shorelines do not connect at large river mouths\n",
    "# I may come back and work on this later if we do want to try to improve the shorelines on the large islands\n",
    "with arcpy.EnvManager(outputCoordinateSystem=sr, extent=Rextent):\n",
    "    arcpy.management.FeatureToPolygon(shore, \"islandtest\", None, \"NO_ATTRIBUTES\", None)"
   ]
  },
  {
   "cell_type": "code",
   "execution_count": 13,
   "metadata": {},
   "outputs": [
    {
     "data": {
      "text/html": [
       "<div class='gpresult'><h2>Messages</h2><div id='messages' data-messages='[\"Start Time: Friday, July 14, 2023 11:21:37 AM\",\"Adding dissolve to islandtest...\",\"Succeeded at Friday, July 14, 2023 11:21:37 AM (Elapsed Time: 0.21 seconds)\"]' data-show='true'><div id = 'default' /></div></div>"
      ],
      "text/plain": [
       "<Result 'D:\\\\SE_Blueprint_2023\\\\4_Indicators\\\\CaribbeanPermeableSurface\\\\CaribbeanPermeabl.gdb\\\\islandtest'>"
      ]
     },
     "execution_count": 13,
     "metadata": {},
     "output_type": "execute_result"
    }
   ],
   "source": [
    "# add a field so we can dissolve\n",
    "arcpy.management.CalculateField(\"islandtest\", \"dissolve\", \"1\", \"PYTHON3\", '', \"SHORT\", \"NO_ENFORCE_DOMAINS\")"
   ]
  },
  {
   "cell_type": "code",
   "execution_count": 14,
   "metadata": {},
   "outputs": [
    {
     "data": {
      "text/html": [
       "<div class='gpresult'><h2>Messages</h2><div id='messages' data-messages='[\"Start Time: Friday, July 14, 2023 11:21:37 AM\",\"Sorting Attributes...\",\"Dissolving...\",\"Succeeded at Friday, July 14, 2023 11:21:44 AM (Elapsed Time: 7.24 seconds)\"]' data-show='true'><div id = 'default' /></div></div>"
      ],
      "text/plain": [
       "<Result 'D:\\\\SE_Blueprint_2023\\\\4_Indicators\\\\CaribbeanPermeableSurface\\\\CaribbeanPermeabl.gdb\\\\islandtestdis'>"
      ]
     },
     "execution_count": 14,
     "metadata": {},
     "output_type": "execute_result"
    }
   ],
   "source": [
    "# dissolve islands so that waterbodies on islands are included as a part of the island\n",
    "arcpy.management.Dissolve(\"islandtest\", \"islandtestdis\", \"dissolve\", None, \"SINGLE_PART\", \"DISSOLVE_LINES\")"
   ]
  },
  {
   "cell_type": "code",
   "execution_count": 15,
   "metadata": {},
   "outputs": [],
   "source": [
    "# remove most island areas that overlap with or are near the NHD Plus catchments\n",
    "\n",
    "# I'm doing this because I don't want to get into the hassle of trying to improve the NHD Plus Catchment shoreline\n",
    "\n",
    "# first I do a select\n",
    "\n",
    "with arcpy.EnvManager(outputCoordinateSystem=sr, extent=Rextent):\n",
    "    arcpy.management.SelectLayerByLocation(\"islandtestdis\", \"INTERSECT\", catch, \"10 Meters\", \"NEW_SELECTION\", \"INVERT\")\n",
    "    # add back in the south part of Culebra\n",
    "    arcpy.management.SelectLayerByAttribute(\"islandtestdis\", \"ADD_TO_SELECTION\", \"Shape_Area > 2610000 And Shape_Area < 2620000\", None)\n"
   ]
  },
  {
   "cell_type": "code",
   "execution_count": 16,
   "metadata": {},
   "outputs": [],
   "source": [
    "# Now I make a new layer based on that select\n",
    "\n",
    "with arcpy.EnvManager(outputCoordinateSystem=sr, extent=Rextent):\n",
    "    arcpy.management.CopyFeatures(\"islandtestdis\", \"islandNoIntersect\", '', None, None, None)"
   ]
  },
  {
   "cell_type": "code",
   "execution_count": 17,
   "metadata": {},
   "outputs": [
    {
     "data": {
      "text/html": [
       "<div class='gpresult'><h2>Messages</h2><div id='messages' data-messages='[\"Start Time: Friday, July 14, 2023 11:22:05 AM\",\"Succeeded at Friday, July 14, 2023 11:22:05 AM (Elapsed Time: 0.00 seconds)\"]' data-show='true'><div id = 'default' /></div></div>"
      ],
      "text/plain": [
       "<Result 'islandtestdis_Layer8'>"
      ]
     },
     "execution_count": 17,
     "metadata": {},
     "output_type": "execute_result"
    }
   ],
   "source": [
    "# Now I clear that selection\n",
    "arcpy.management.SelectLayerByAttribute(\"islandtestdis\", \"CLEAR_SELECTION\", \"\", None)"
   ]
  },
  {
   "cell_type": "markdown",
   "metadata": {},
   "source": [
    "### Make small islands shorelines match shoreline indicator \n",
    "now the \"islandNoIntersect\" polygon is all the polygons that are not captured in NHD that we do want to \n",
    "measure permeable surface on. Because convert polygon to raster is different to convert line to raster, I'm going to do both poygon and line conversions now, so at least my small island boundaries will match the small island boundareis of the shoreline indicator. This won't help shoreline matching for the big islands, but I just don't have an easy way to fix that for this indicator\n"
   ]
  },
  {
   "cell_type": "code",
   "execution_count": 18,
   "metadata": {},
   "outputs": [
    {
     "data": {
      "text/html": [
       "<div class='gpresult'><h2>Messages</h2><div id='messages' data-messages='[\"Start Time: Friday, July 14, 2023 11:22:05 AM\",\"Adding raster to islandNoIntersect...\",\"Succeeded at Friday, July 14, 2023 11:22:05 AM (Elapsed Time: 0.18 seconds)\"]' data-show='true'><div id = 'default' /></div></div>"
      ],
      "text/plain": [
       "<Result 'D:\\\\SE_Blueprint_2023\\\\4_Indicators\\\\CaribbeanPermeableSurface\\\\CaribbeanPermeabl.gdb\\\\islandNoIntersect'>"
      ]
     },
     "execution_count": 18,
     "metadata": {},
     "output_type": "execute_result"
    }
   ],
   "source": [
    "# create a field to convert to raster\n",
    "arcpy.management.CalculateField(\"islandNoIntersect\", \"raster\", \"1\", \"PYTHON3\", '', \"SHORT\", \"NO_ENFORCE_DOMAINS\")"
   ]
  },
  {
   "cell_type": "code",
   "execution_count": 19,
   "metadata": {},
   "outputs": [
    {
     "data": {
      "text/html": [
       "<div class='gpresult'><h2>Messages</h2><div id='messages' data-messages='[\"Start Time: Friday, July 14, 2023 11:22:05 AM\",\"Succeeded at Friday, July 14, 2023 11:22:06 AM (Elapsed Time: 0.32 seconds)\"]' data-show='true'><div id = 'default' /></div></div>"
      ],
      "text/plain": [
       "<Result 'D:\\\\SE_Blueprint_2023\\\\4_Indicators\\\\CaribbeanPermeableSurface\\\\CaribbeanPermeabl.gdb\\\\islandNoIntersectLine'>"
      ]
     },
     "execution_count": 19,
     "metadata": {},
     "output_type": "execute_result"
    }
   ],
   "source": [
    "# convert polygons to lines\n",
    "#arcpy.management.PolygonToLine(\"islandNoIntersect\", \"ilandNoIntersectLine\", \"IDENTIFY_NEIGHBORS\")\n",
    "arcpy.management.PolygonToLine(\"islandNoIntersect\", \"islandNoIntersectLine\", \"IGNORE_NEIGHBORS\")"
   ]
  },
  {
   "cell_type": "code",
   "execution_count": 20,
   "metadata": {},
   "outputs": [],
   "source": [
    "# convert polygons to raster\n",
    "with arcpy.EnvManager(outputCoordinateSystem=sr, extent=Rextent, snapRaster=Rextent, cellSize=Rextent):\n",
    "    arcpy.conversion.FeatureToRaster(\"islandNoIntersect\", \"raster\", \"islandNoIntersectR\", 30)"
   ]
  },
  {
   "cell_type": "code",
   "execution_count": 21,
   "metadata": {},
   "outputs": [],
   "source": [
    "# convert lines to raster\n",
    "with arcpy.EnvManager(outputCoordinateSystem=sr, extent=Rextent, snapRaster=Rextent, cellSize=Rextent):\n",
    "    arcpy.conversion.FeatureToRaster(\"islandNoIntersectLine\", \"raster\", \"islandNoIntersectLineR\", 30)"
   ]
  },
  {
   "cell_type": "code",
   "execution_count": 22,
   "metadata": {},
   "outputs": [],
   "source": [
    "# combine \n",
    "out_raster = arcpy.sa.CellStatistics(\"islandNoIntersectR;islandNoIntersectLineR\", \"MAXIMUM\", \"DATA\", \"SINGLE_BAND\", 90, \"AUTO_DETECT\"); out_raster.save(\"NotNHDislandsR\")"
   ]
  },
  {
   "cell_type": "code",
   "execution_count": 23,
   "metadata": {},
   "outputs": [
    {
     "data": {
      "text/html": [
       "<div class='gpresult'><h2>Messages</h2><div id='messages' data-messages='[\"Start Time: Friday, July 14, 2023 11:22:12 AM\",\"Succeeded at Friday, July 14, 2023 11:22:13 AM (Elapsed Time: 0.82 seconds)\"]' data-show='true'><div id = 'default' /></div></div>"
      ],
      "text/plain": [
       "<Result 'D:\\\\SE_Blueprint_2023\\\\4_Indicators\\\\CaribbeanPermeableSurface\\\\CaribbeanPermeabl.gdb\\\\NotNHDislands'>"
      ]
     },
     "execution_count": 23,
     "metadata": {},
     "output_type": "execute_result"
    }
   ],
   "source": [
    "# convert islands to polygons\n",
    "arcpy.conversion.RasterToPolygon(\"NotNHDislandsR\", \"NotNHDislands\", \"NO_SIMPLIFY\", \"Value\", \"SINGLE_OUTER_PART\", None)"
   ]
  },
  {
   "cell_type": "code",
   "execution_count": 24,
   "metadata": {},
   "outputs": [
    {
     "data": {
      "text/html": [
       "<div class='gpresult'><h2>Messages</h2><div id='messages' data-messages='[\"Start Time: Friday, July 14, 2023 11:22:13 AM\",\"Adding IslandID to NotNHDislands...\",\"Succeeded at Friday, July 14, 2023 11:22:13 AM (Elapsed Time: 0.08 seconds)\"]' data-show='true'><div id = 'default' /></div></div>"
      ],
      "text/plain": [
       "<Result 'D:\\\\SE_Blueprint_2023\\\\4_Indicators\\\\CaribbeanPermeableSurface\\\\CaribbeanPermeabl.gdb\\\\NotNHDislands'>"
      ]
     },
     "execution_count": 24,
     "metadata": {},
     "output_type": "execute_result"
    }
   ],
   "source": [
    "# add an id field\n",
    "arcpy.management.CalculateField(\"NotNHDislands\", \"IslandID\", \"!OBJECTID!\", \"PYTHON3\", '', \"SHORT\", \"NO_ENFORCE_DOMAINS\")"
   ]
  },
  {
   "cell_type": "code",
   "execution_count": null,
   "metadata": {},
   "outputs": [],
   "source": []
  },
  {
   "cell_type": "code",
   "execution_count": null,
   "metadata": {},
   "outputs": [],
   "source": []
  },
  {
   "cell_type": "code",
   "execution_count": null,
   "metadata": {},
   "outputs": [],
   "source": []
  },
  {
   "cell_type": "code",
   "execution_count": null,
   "metadata": {},
   "outputs": [],
   "source": []
  },
  {
   "cell_type": "code",
   "execution_count": null,
   "metadata": {},
   "outputs": [],
   "source": []
  },
  {
   "cell_type": "code",
   "execution_count": null,
   "metadata": {},
   "outputs": [],
   "source": []
  },
  {
   "cell_type": "markdown",
   "metadata": {},
   "source": [
    "### Pull out impervious \n",
    "\n",
    "Since the CCAP data is finer resolution than the NLCD, and is binary, I running the analysis at the original scale"
   ]
  },
  {
   "cell_type": "code",
   "execution_count": 25,
   "metadata": {},
   "outputs": [],
   "source": [
    "# pull out impervious surface to make binary rasters\n",
    "# this didn't work because it made the background values natural\n",
    "\n",
    "#out_raster = arcpy.sa.Con(ccapPR, 100, 0, \"Value = 2\"); out_raster.save(\"ccapPRimp\")\n",
    "#out_raster = arcpy.sa.Con(ccapST, 100, 0, \"Value = 2\"); out_raster.save(\"ccapSTimp\")\n",
    "#out_raster = arcpy.sa.Con(ccapSJ, 100, 0, \"Value = 2\"); out_raster.save(\"ccapSJimp\")\n",
    "#out_raster = arcpy.sa.Con(ccapSC, 100, 0, \"Value = 2\"); out_raster.save(\"ccapSCimp\")"
   ]
  },
  {
   "cell_type": "code",
   "execution_count": 26,
   "metadata": {},
   "outputs": [],
   "source": [
    "# pull out impervious surface to make binary rasters\n",
    "out_raster = arcpy.sa.Con((arcpy.Raster(ccapPR) == 2), 100, arcpy.sa.Con((arcpy.Raster(ccapPR) > 2), 0, None)); out_raster.save(\"ccapPRimp1\")\n",
    "out_raster = arcpy.sa.Con((arcpy.Raster(ccapST) == 2), 100, arcpy.sa.Con((arcpy.Raster(ccapST) > 2), 0, None)); out_raster.save(\"ccapSTimp1\")\n",
    "out_raster = arcpy.sa.Con((arcpy.Raster(ccapSJ) == 2), 100, arcpy.sa.Con((arcpy.Raster(ccapSJ) > 2), 0, None)); out_raster.save(\"ccapSJimp1\")\n",
    "out_raster = arcpy.sa.Con((arcpy.Raster(ccapSC) == 2), 100, arcpy.sa.Con((arcpy.Raster(ccapSC) > 2), 0, None)); out_raster.save(\"ccapSCimp1\")"
   ]
  },
  {
   "cell_type": "markdown",
   "metadata": {},
   "source": [
    "### Zonal Statistics\n",
    "\n",
    "I ended up getting overlap in the NHD and smaller non NHD islands anyway, because I wanted to make the small islands shorelines match the shoreline indicator. So I decided to just run the zonal statistics on the NHD seperatelly from the small, non NHD islands. \n"
   ]
  },
  {
   "cell_type": "code",
   "execution_count": 27,
   "metadata": {},
   "outputs": [],
   "source": [
    "# make a copy of the catchments just for VIPR\n",
    "#with arcpy.EnvManager(outputCoordinateSystem=sr, extent=Rextent):\n",
    "#    arcpy.management.CopyFeatures(catch, \"catch\", '', None, None, None)"
   ]
  },
  {
   "cell_type": "code",
   "execution_count": 28,
   "metadata": {},
   "outputs": [],
   "source": [
    "# merge in the missing catchment\n",
    "with arcpy.EnvManager(outputCoordinateSystem=sr, extent=Rextent):\n",
    "    arcpy.analysis.Union([catch, missing], \"catch\", \"ALL\", None, \"GAPS\")"
   ]
  },
  {
   "cell_type": "code",
   "execution_count": 29,
   "metadata": {},
   "outputs": [
    {
     "data": {
      "text/html": [
       "<div class='gpresult'><h2>Messages</h2><div id='messages' data-messages='[\"Start Time: Friday, July 14, 2023 11:25:18 AM\",\"Adding UniqID to catch...\",\"Succeeded at Friday, July 14, 2023 11:25:19 AM (Elapsed Time: 0.41 seconds)\"]' data-show='true'><div id = 'default' /></div></div>"
      ],
      "text/plain": [
       "<Result 'D:\\\\SE_Blueprint_2023\\\\4_Indicators\\\\CaribbeanPermeableSurface\\\\CaribbeanPermeabl.gdb\\\\catch'>"
      ]
     },
     "execution_count": 29,
     "metadata": {},
     "output_type": "execute_result"
    }
   ],
   "source": [
    "# create a field to use in zonal statistics\n",
    "arcpy.management.CalculateField(\"catch\", \"UniqID\", \"!OBJECTID!\", \"PYTHON3\", '', \"SHORT\", \"NO_ENFORCE_DOMAINS\")"
   ]
  },
  {
   "cell_type": "code",
   "execution_count": 30,
   "metadata": {},
   "outputs": [],
   "source": [
    "# calculate mean impervious surface per catchment\n",
    "# running this in original projection/snap\n",
    "with arcpy.EnvManager(outputCoordinateSystem=ccapPR, extent=ccapPR, snapRaster=ccapPR, cellSize=ccapPR):\n",
    "    out_raster = arcpy.sa.ZonalStatistics(\"catch\", \"UniqID\", \"ccapPRimp1\", \"MEAN\", \"DATA\", \"CURRENT_SLICE\", 90); out_raster.save(\"ZStatNHDCatchImpervMeanPr\")\n",
    "with arcpy.EnvManager(outputCoordinateSystem=ccapST, extent=ccapST, snapRaster=ccapST, cellSize=ccapST):\n",
    "    out_raster = arcpy.sa.ZonalStatistics(\"catch\", \"UniqID\", \"ccapSTimp1\", \"MEAN\", \"DATA\", \"CURRENT_SLICE\", 90); out_raster.save(\"ZStatNHDCatchImpervMeanST\")\n",
    "with arcpy.EnvManager(outputCoordinateSystem=ccapSJ, extent=ccapSJ, snapRaster=ccapSJ, cellSize=ccapSJ):\n",
    "    out_raster = arcpy.sa.ZonalStatistics(\"catch\", \"UniqID\", \"ccapSJimp1\", \"MEAN\", \"DATA\", \"CURRENT_SLICE\", 90); out_raster.save(\"ZStatNHDCatchImpervMeanSJ\")\n",
    "with arcpy.EnvManager(outputCoordinateSystem=ccapSC, extent=ccapSC, snapRaster=ccapSC, cellSize=ccapSC):\n",
    "    out_raster = arcpy.sa.ZonalStatistics(\"catch\", \"UniqID\", \"ccapSCimp1\", \"MEAN\", \"DATA\", \"CURRENT_SLICE\", 90); out_raster.save(\"ZStatNHDCatchImpervMeanSC\")"
   ]
  },
  {
   "cell_type": "code",
   "execution_count": 31,
   "metadata": {},
   "outputs": [],
   "source": [
    "# need to take 100 - the percent impervious value so it becomes percent permeable\n",
    "out_raster = arcpy.sa.Minus(100, \"ZStatNHDCatchImpervMeanPR\"); out_raster.save(\"PR\")\n",
    "out_raster = arcpy.sa.Minus(100, \"ZStatNHDCatchImpervMeanST\"); out_raster.save(\"ST\")\n",
    "out_raster = arcpy.sa.Minus(100, \"ZStatNHDCatchImpervMeanSJ\"); out_raster.save(\"SJ\")\n",
    "out_raster = arcpy.sa.Minus(100, \"ZStatNHDCatchImpervMeanSC\"); out_raster.save(\"SC\")"
   ]
  },
  {
   "cell_type": "code",
   "execution_count": 32,
   "metadata": {},
   "outputs": [],
   "source": [
    "# convert to integer\n",
    "out_raster = arcpy.sa.Int(\"PR\"); out_raster.save(PR)\n",
    "out_raster = arcpy.sa.Int(\"ST\"); out_raster.save(ST)\n",
    "out_raster = arcpy.sa.Int(\"SJ\"); out_raster.save(SJ)\n",
    "out_raster = arcpy.sa.Int(\"SC\"); out_raster.save(SC)"
   ]
  },
  {
   "cell_type": "code",
   "execution_count": 33,
   "metadata": {},
   "outputs": [],
   "source": [
    "# reproject, convert to 30 meters\n",
    "with arcpy.EnvManager(outputCoordinateSystem=sr, extent=Rextent, snapRaster=Rextent, cellSize=Rextent):\n",
    "    arcpy.management.Resample(PR, \"PR30\", \"30 30\", \"MAJORITY\")\n",
    "    arcpy.management.Resample(ST, \"ST30\", \"30 30\", \"MAJORITY\")\n",
    "    arcpy.management.Resample(SJ, \"SJ30\", \"30 30\", \"MAJORITY\")\n",
    "    arcpy.management.Resample(SC, \"SC30\", \"30 30\", \"MAJORITY\")"
   ]
  },
  {
   "cell_type": "code",
   "execution_count": 34,
   "metadata": {},
   "outputs": [],
   "source": [
    "# use cell statistics to combine instead of mosaic because of overlap between SJ and ST\n",
    "with arcpy.EnvManager(outputCoordinateSystem=sr, extent=Rextent, snapRaster=Rextent, cellSize=Rextent):\n",
    "    out_raster = arcpy.sa.CellStatistics(\"PR30;ST30;SJ30;SC30\", \"MAXIMUM\", \"DATA\", \"SINGLE_BAND\", 90, \"AUTO_DETECT\"); out_raster.save(\"permeableNHD\")"
   ]
  },
  {
   "cell_type": "markdown",
   "metadata": {},
   "source": [
    "### Zonal Statistics\n",
    "\n",
    "I ended up getting overlap in the NHD and smaller non NHD islands anyway, because I wanted to make the small islands shorelines match the shoreline indicator. So I decided to just run the zonal statistics on the NHD seperatelly from the small, non NHD islands. \n"
   ]
  },
  {
   "cell_type": "code",
   "execution_count": 35,
   "metadata": {},
   "outputs": [],
   "source": [
    "# calculate mean impervious surface per small island not covered by NHD\n",
    "# running this in original projection/snap\n",
    "with arcpy.EnvManager(outputCoordinateSystem=ccapPR, extent=ccapPR, snapRaster=ccapPR, cellSize=ccapPR):\n",
    "    out_raster = arcpy.sa.ZonalStatistics(\"NotNHDislands\", \"IslandID\", \"ccapPRimp1\", \"MEAN\", \"DATA\", \"CURRENT_SLICE\", 90); out_raster.save(\"ZStatNHDCatchImpervMeanPr1\")\n",
    "with arcpy.EnvManager(outputCoordinateSystem=ccapST, extent=ccapST, snapRaster=ccapST, cellSize=ccapST):\n",
    "    out_raster = arcpy.sa.ZonalStatistics(\"NotNHDislands\", \"IslandID\", \"ccapSTimp1\", \"MEAN\", \"DATA\", \"CURRENT_SLICE\", 90); out_raster.save(\"ZStatNHDCatchImpervMeanST1\")\n",
    "with arcpy.EnvManager(outputCoordinateSystem=ccapSJ, extent=ccapSJ, snapRaster=ccapSJ, cellSize=ccapSJ):\n",
    "    out_raster = arcpy.sa.ZonalStatistics(\"NotNHDislands\", \"IslandID\", \"ccapSJimp1\", \"MEAN\", \"DATA\", \"CURRENT_SLICE\", 90); out_raster.save(\"ZStatNHDCatchImpervMeanSJ1\")\n",
    "with arcpy.EnvManager(outputCoordinateSystem=ccapSC, extent=ccapSC, snapRaster=ccapSC, cellSize=ccapSC):\n",
    "    out_raster = arcpy.sa.ZonalStatistics(\"NotNHDislands\", \"IslandID\", \"ccapSCimp1\", \"MEAN\", \"DATA\", \"CURRENT_SLICE\", 90); out_raster.save(\"ZStatNHDCatchImpervMeanSC1\")"
   ]
  },
  {
   "cell_type": "code",
   "execution_count": 36,
   "metadata": {},
   "outputs": [],
   "source": [
    "# need to take 100 - the percent impervious value so it becomes percent permeable\n",
    "out_raster = arcpy.sa.Minus(100, \"ZStatNHDCatchImpervMeanPR1\"); out_raster.save(\"PR1\")\n",
    "out_raster = arcpy.sa.Minus(100, \"ZStatNHDCatchImpervMeanST1\"); out_raster.save(\"ST1\")\n",
    "out_raster = arcpy.sa.Minus(100, \"ZStatNHDCatchImpervMeanSJ1\"); out_raster.save(\"SJ1\")\n",
    "out_raster = arcpy.sa.Minus(100, \"ZStatNHDCatchImpervMeanSC1\"); out_raster.save(\"SC1\")"
   ]
  },
  {
   "cell_type": "code",
   "execution_count": 37,
   "metadata": {},
   "outputs": [],
   "source": [
    "# convert to integer\n",
    "out_raster = arcpy.sa.Int(\"PR1\"); out_raster.save(PR1)\n",
    "out_raster = arcpy.sa.Int(\"ST1\"); out_raster.save(ST1)\n",
    "out_raster = arcpy.sa.Int(\"SJ1\"); out_raster.save(SJ1)\n",
    "out_raster = arcpy.sa.Int(\"SC1\"); out_raster.save(SC1)"
   ]
  },
  {
   "cell_type": "code",
   "execution_count": 38,
   "metadata": {},
   "outputs": [],
   "source": [
    "# reproject, convert to 30 meters\n",
    "with arcpy.EnvManager(outputCoordinateSystem=sr, extent=Rextent, snapRaster=Rextent, cellSize=Rextent):\n",
    "    arcpy.management.Resample(PR1, \"PR301\", \"30 30\", \"MAJORITY\")\n",
    "    arcpy.management.Resample(ST1, \"ST301\", \"30 30\", \"MAJORITY\")\n",
    "    arcpy.management.Resample(SJ1, \"SJ301\", \"30 30\", \"MAJORITY\")\n",
    "    arcpy.management.Resample(SC1, \"SC301\", \"30 30\", \"MAJORITY\")"
   ]
  },
  {
   "cell_type": "code",
   "execution_count": 39,
   "metadata": {},
   "outputs": [],
   "source": [
    "# use cell statistics to combine instead of mosaic because of overlap between SJ and ST\n",
    "with arcpy.EnvManager(outputCoordinateSystem=sr, extent=Rextent, snapRaster=Rextent, cellSize=Rextent):\n",
    "    out_raster = arcpy.sa.CellStatistics(\"PR301;ST301;SJ301;SC301\", \"MAXIMUM\", \"DATA\", \"SINGLE_BAND\", 90, \"AUTO_DETECT\"); out_raster.save(\"permeableIsl\")"
   ]
  },
  {
   "cell_type": "code",
   "execution_count": 40,
   "metadata": {},
   "outputs": [],
   "source": [
    "# use cell statistics to combine and choose minimum\n",
    "with arcpy.EnvManager(outputCoordinateSystem=sr, extent=Rextent, snapRaster=Rextent, cellSize=Rextent):\n",
    "    out_raster = arcpy.sa.CellStatistics(\"permeableNHD;permeableIsl\", \"MINIMUM\", \"DATA\", \"SINGLE_BAND\", 90, \"AUTO_DETECT\"); out_raster.save(\"permeable\")"
   ]
  },
  {
   "cell_type": "code",
   "execution_count": 41,
   "metadata": {},
   "outputs": [],
   "source": [
    "# reclassify permeable surface to create binned version\n",
    "\n",
    "# ArcGIS reclass includes the second value in the class for example,\n",
    "# 0 1 is <=1 (1 is included)\n",
    "# 1 5 is >1 - 5 (1 is not included, 5 is included)\n",
    "# 5 20 is >5 - 20 (5 is not included, 20 is included)\n",
    "\n",
    "out_raster = arcpy.sa.Reclassify(\"permeable\", \"VALUE\", \"0 70 1;70 90 2;90 95 3;95 100 4\", \"DATA\"); out_raster.save(\"indicator1\")"
   ]
  },
  {
   "cell_type": "markdown",
   "metadata": {},
   "source": [
    "### Finalize indiator\n",
    "\n",
    "do final steps for all indicators to add description fields, clip and export to extent"
   ]
  },
  {
   "cell_type": "code",
   "execution_count": 42,
   "metadata": {},
   "outputs": [],
   "source": [
    "# set code block for next step\n",
    "codeblock = \"\"\"\n",
    "def Reclass(value):\n",
    "    if value == 4:\n",
    "        return '4 = >95% of catchment or small island permeable (likely high water quality and supporting most sensitive aquatic species)'\n",
    "    elif value == 3:\n",
    "        return '3 = >90-95% of catchment or small island permeable (likely declining water quality and supporting most aquatic species)'\n",
    "    elif value == 2:\n",
    "        return '2 = >70-90% of catchment or small island permeable (likely degraded water quality and not supporting many aquatic species)'\n",
    "    elif value == 1:\n",
    "        return '1 = ≤70% of catchment or small island permeable (likely degraded instream flow, water quality, and aquatic species communities)'   \n",
    "\"\"\""
   ]
  },
  {
   "cell_type": "code",
   "execution_count": 43,
   "metadata": {},
   "outputs": [
    {
     "data": {
      "text/html": [
       "<div class='gpresult'><h2>Messages</h2><div id='messages' data-messages='[\"Start Time: Friday, July 14, 2023 11:38:40 AM\",\"Adding descript to VAT_indicator1...\",\"Succeeded at Friday, July 14, 2023 11:38:40 AM (Elapsed Time: 0.05 seconds)\"]' data-show='true'><div id = 'default' /></div></div>"
      ],
      "text/plain": [
       "<Result 'D:\\\\SE_Blueprint_2023\\\\4_Indicators\\\\CaribbeanPermeableSurface\\\\CaribbeanPermeabl.gdb\\\\indicator1'>"
      ]
     },
     "execution_count": 43,
     "metadata": {},
     "output_type": "execute_result"
    }
   ],
   "source": [
    "# add and calculate description field to hold indicator values\n",
    "arcpy.management.CalculateField(\"indicator1\", \"descript\", \"Reclass(!value!)\", \"PYTHON3\", codeblock, \"TEXT\")"
   ]
  },
  {
   "cell_type": "code",
   "execution_count": 44,
   "metadata": {},
   "outputs": [],
   "source": [
    "# set code block for next step\n",
    "codeblock = \"\"\"\n",
    "def Reclass1(Value):\n",
    "\tif Value == 4:\n",
    "\t\treturn 0\n",
    "\tif Value == 3:\n",
    "\t\treturn 97\n",
    "\tif Value == 2:\n",
    "\t\treturn 151\n",
    "\tif Value == 1:\n",
    "\t\treturn 204\n",
    "\telse:\n",
    "\t\treturn 255\n",
    "\t\t\n",
    "def Reclass2(Value):\n",
    "\tif Value == 4:\n",
    "\t\treturn 0\n",
    "\tif Value == 3:\n",
    "\t\treturn 69\n",
    "\tif Value == 2:\n",
    "\t\treturn 131\n",
    "\tif Value == 1:\n",
    "\t\treturn 204\n",
    "\telse:\n",
    "\t\treturn 255\n",
    "\t\t\n",
    "def Reclass3(Value):\n",
    "\tif Value == 4:\n",
    "\t\treturn 224\n",
    "\tif Value == 3:\n",
    "\t\treturn 237\n",
    "\tif Value == 2:\n",
    "\t\treturn 247\n",
    "\tif Value == 1:\n",
    "\t\treturn 255\n",
    "\telse:\n",
    "\t\treturn 255\n",
    "\"\"\""
   ]
  },
  {
   "cell_type": "code",
   "execution_count": 45,
   "metadata": {},
   "outputs": [
    {
     "data": {
      "text/html": [
       "<div class='gpresult'><h2>Messages</h2><div id='messages' data-messages='[\"Start Time: Friday, July 14, 2023 11:38:40 AM\",\"Adding Blue to VAT_indicator1...\",\"Succeeded at Friday, July 14, 2023 11:38:40 AM (Elapsed Time: 0.04 seconds)\"]' data-show='true'><div id = 'default' /></div></div>"
      ],
      "text/plain": [
       "<Result 'D:\\\\SE_Blueprint_2023\\\\4_Indicators\\\\CaribbeanPermeableSurface\\\\CaribbeanPermeabl.gdb\\\\indicator1'>"
      ]
     },
     "execution_count": 45,
     "metadata": {},
     "output_type": "execute_result"
    }
   ],
   "source": [
    "# calculate Red field\n",
    "arcpy.management.CalculateField(\"indicator1\", \"Red\", \"Reclass1(!Value!)\", \"PYTHON3\", codeblock, \"SHORT\")\n",
    "# calculate Green field\n",
    "arcpy.management.CalculateField(\"indicator1\", \"Green\", \"Reclass2(!Value!)\", \"PYTHON3\", codeblock, \"SHORT\")\n",
    "# calculate Blue field\n",
    "arcpy.management.CalculateField(\"indicator1\", \"Blue\", \"Reclass3(!Value!)\", \"PYTHON3\", codeblock, \"SHORT\")"
   ]
  },
  {
   "cell_type": "code",
   "execution_count": 46,
   "metadata": {
    "scrolled": true
   },
   "outputs": [],
   "source": [
    "# clip to extent\n",
    "with arcpy.EnvManager(outputCoordinateSystem=sr, extent=Rextent, snapRaster=Rextent, cellSize=Rextent):\n",
    "    out_raster = arcpy.sa.ExtractByMask(\"indicator1\", Rextent); out_raster.save(\"indicator2\")"
   ]
  },
  {
   "cell_type": "code",
   "execution_count": 47,
   "metadata": {},
   "outputs": [],
   "source": [
    "# export as .tif \n",
    "with arcpy.EnvManager(outputCoordinateSystem=sr, extent=Rextent, snapRaster=Rextent, cellSize=Rextent):\n",
    "    arcpy.management.CopyRaster(\"indicator2\", Out, '', None, \"255\", \"NONE\", \"NONE\", \"8_BIT_UNSIGNED\", \"NONE\", \"NONE\", \"TIFF\", \"NONE\", \"CURRENT_SLICE\", \"NO_TRANSPOSE\")"
   ]
  },
  {
   "cell_type": "code",
   "execution_count": 48,
   "metadata": {},
   "outputs": [
    {
     "name": "stdout",
     "output_type": "stream",
     "text": [
      "1084.78550863266\n"
     ]
    }
   ],
   "source": [
    "# this prints the time it took this notebook to run in seconds\n",
    "end = time.time()\n",
    "print(end - start)"
   ]
  },
  {
   "cell_type": "code",
   "execution_count": null,
   "metadata": {},
   "outputs": [],
   "source": []
  }
 ],
 "metadata": {
  "kernelspec": {
   "display_name": "ArcGISPro",
   "language": "Python",
   "name": "python3"
  },
  "language_info": {
   "file_extension": ".py",
   "name": "python",
   "version": "3"
  }
 },
 "nbformat": 4,
 "nbformat_minor": 2
}
