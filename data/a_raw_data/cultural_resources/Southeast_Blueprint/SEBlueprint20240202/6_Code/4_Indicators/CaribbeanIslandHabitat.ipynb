{
 "cells": [
  {
   "cell_type": "markdown",
   "metadata": {},
   "source": [
    "# Caribbean Island Habitat\n",
    "\n",
    "This indicator was used in 2023 Southeast Blueprint.\n",
    "\n",
    "Created by Rua Mordecai"
   ]
  },
  {
   "cell_type": "code",
   "execution_count": 31,
   "metadata": {},
   "outputs": [],
   "source": [
    "import os, string\n",
    "import arcpy\n",
    "# Use pandas since this indicator relies on a bunch of data manupulation from excel\n",
    "import pandas as pd\n",
    "from arcgis.features import GeoAccessor, GeoSeriesAccessor"
   ]
  },
  {
   "cell_type": "code",
   "execution_count": 32,
   "metadata": {},
   "outputs": [],
   "source": [
    "# spatial reference and workspaces\n",
    "sr= arcpy.SpatialReference(5070)\n",
    "OutputWorkspace = r\"D:\\Blueprint\\2023\\finalIndicatorEdits\\CaribbeanBlueprint2023_FinalIndicators\\CaribbeanBlueprint2023_FinalIndicators\\SpatialData\""
   ]
  },
  {
   "cell_type": "code",
   "execution_count": 33,
   "metadata": {},
   "outputs": [],
   "source": [
    "# raster used for cell size, extent, and snapping\n",
    "CaribbeanRaster = r\"D:\\Blueprint\\2023\\extent\\VIPR_Extent_v6.tif\""
   ]
  },
  {
   "cell_type": "code",
   "execution_count": 34,
   "metadata": {},
   "outputs": [],
   "source": [
    "# island boundary data\n",
    "islandBoundary = r\"D:\\Blueprint\\2023\\extent\\Islands3Size.tif\""
   ]
  },
  {
   "cell_type": "code",
   "execution_count": 35,
   "metadata": {},
   "outputs": [],
   "source": [
    "# critical habitat input data\n",
    "criticalHabitatData = r\"D:\\Blueprint\\2022\\Indicators\\Islands\\crithab_all_layers\\CRITHAB_POLY.shp\""
   ]
  },
  {
   "cell_type": "code",
   "execution_count": 36,
   "metadata": {},
   "outputs": [],
   "source": [
    "# threatened and invasive species input data\n",
    "invasiveAndThreatenedData = \"D:/Blueprint/2023/Caribbean/Indicators/Islands/ThreatenedIslandBiodiversityDatabase/CaribbeanData_TIBDataRequest_29Nov2022.xlsx\""
   ]
  },
  {
   "cell_type": "code",
   "execution_count": 37,
   "metadata": {},
   "outputs": [],
   "source": [
    "# location of GAP species data to provide more specifics for species on larger islands\n",
    "prGAP = r\"D:\\Blueprint\\2023\\Caribbean\\Indicators\\Islands\\SpeciesFromGAP\\PR\"\n",
    "viGAP = r\"D:\\Blueprint\\2023\\Caribbean\\Indicators\\Islands\\SpeciesFromGAP\\VI\""
   ]
  },
  {
   "cell_type": "code",
   "execution_count": 38,
   "metadata": {},
   "outputs": [],
   "source": [
    "indicatorName = \"CaribbeanIslandHabitat.tif\""
   ]
  },
  {
   "cell_type": "code",
   "execution_count": 39,
   "metadata": {},
   "outputs": [],
   "source": [
    "# Sometimes arcpro is fussy about not overwriting things\n",
    "arcpy.env.overwriteOutput = True"
   ]
  },
  {
   "cell_type": "markdown",
   "metadata": {},
   "source": [
    "## Prep threatened and invasive species data"
   ]
  },
  {
   "cell_type": "markdown",
   "metadata": {
    "heading_collapsed": true
   },
   "source": [
    "### Prep Puerto Rico gap data"
   ]
  },
  {
   "cell_type": "code",
   "execution_count": 10,
   "metadata": {
    "hidden": true
   },
   "outputs": [],
   "source": [
    "# change to data workspace\n",
    "arcpy.env.workspace = prGAP"
   ]
  },
  {
   "cell_type": "code",
   "execution_count": 11,
   "metadata": {
    "hidden": true
   },
   "outputs": [],
   "source": [
    "# make a list of indicators to be clipped\n",
    "RList = arcpy.ListRasters()"
   ]
  },
  {
   "cell_type": "code",
   "execution_count": 12,
   "metadata": {
    "hidden": true
   },
   "outputs": [
    {
     "name": "stdout",
     "output_type": "stream",
     "text": [
      "['agelaius_xanthomus_habitat.img', 'amazona_vittata_habitat.img', 'anolis_roosevelti_habitat.img', 'caprimulgus_noctitherus_habitat.img', 'caprimulgus_noctitherus_habitatFixed.img', 'eleutherodactylus_eneidae_habitat.img', 'eleutherodactylus_gryllus_habitat.img', 'eleutherodactylus_hedricki_habitat.img', 'eleutherodactylus_jasperi_habitat.img', 'eleutherodactylus_locustus_habitat.img', 'eleutherodactylus_portoricensis_habitat.img', 'eleutherodactylus_portoricensis_habitatFixed.img', 'eleutherodactylus_richmondi_habitat.img', 'eleutherodactylus_wightmanae_habitat.img', 'epicrates_monensis_granti_habitat.img', 'prSpCount.tif', 'spCount.tif', 'spCountClean.tif', 'sphaerodactylus_levinsi_habitat.img']\n"
     ]
    }
   ],
   "source": [
    "print(RList)"
   ]
  },
  {
   "cell_type": "code",
   "execution_count": 13,
   "metadata": {
    "hidden": true
   },
   "outputs": [],
   "source": [
    "# figure out how many species are included.DONT USE MORE THAN 26 or it'll cause weird issues\n",
    "prSpNum=len(RList)"
   ]
  },
  {
   "cell_type": "code",
   "execution_count": 14,
   "metadata": {
    "hidden": true
   },
   "outputs": [],
   "source": [
    "# Deal with screwy species layers. Format for this layer is 0/1 not 0/1/2\n",
    "if \"eleutherodactylus_portoricensis_habitat.img\" in RList:\n",
    "    out_raster = arcpy.sa.Plus(\"eleutherodactylus_portoricensis_habitat.img\", 1); out_raster.save(\"eleutherodactylus_portoricensis_habitatFixed.img\")\n",
    "    # replace old version with fixed version in raster list\n",
    "    RList=list(map(lambda x: x.replace('eleutherodactylus_portoricensis_habitat.img','eleutherodactylus_portoricensis_habitatFixed.img'),RList))       "
   ]
  },
  {
   "cell_type": "code",
   "execution_count": 15,
   "metadata": {
    "hidden": true
   },
   "outputs": [],
   "source": [
    "# Deal with screwy species layers. This this layer has a weird noData square in the middle of the island\n",
    "if \"caprimulgus_noctitherus_habitat.img\" in RList:\n",
    "    # change raster so weird noData square is 0 which is conistent with how noData is coded in other layers\n",
    "    out_raster = arcpy.sa.Con(arcpy.sa.IsNull(\"caprimulgus_noctitherus_habitat.img\"),0,\"caprimulgus_noctitherus_habitat.img\"); out_raster.save(\"caprimulgus_noctitherus_habitatFixed.img\")\n",
    "    # replace old version with fixed version in raster list\n",
    "    RList=list(map(lambda x: x.replace('caprimulgus_noctitherus_habitat.img','caprimulgus_noctitherus_habitatFixed.img'),RList))       "
   ]
  },
  {
   "cell_type": "code",
   "execution_count": 16,
   "metadata": {
    "hidden": true
   },
   "outputs": [
    {
     "name": "stdout",
     "output_type": "stream",
     "text": [
      "['agelaius_xanthomus_habitat.img', 'amazona_vittata_habitat.img', 'anolis_roosevelti_habitat.img', 'caprimulgus_noctitherus_habitatFixed.img', 'caprimulgus_noctitherus_habitatFixed.img', 'eleutherodactylus_eneidae_habitat.img', 'eleutherodactylus_gryllus_habitat.img', 'eleutherodactylus_hedricki_habitat.img', 'eleutherodactylus_jasperi_habitat.img', 'eleutherodactylus_locustus_habitat.img', 'eleutherodactylus_portoricensis_habitatFixed.img', 'eleutherodactylus_portoricensis_habitatFixed.img', 'eleutherodactylus_richmondi_habitat.img', 'eleutherodactylus_wightmanae_habitat.img', 'epicrates_monensis_granti_habitat.img', 'prSpCount.tif', 'spCount.tif', 'spCountClean.tif', 'sphaerodactylus_levinsi_habitat.img']\n"
     ]
    }
   ],
   "source": [
    "print(RList)"
   ]
  },
  {
   "cell_type": "code",
   "execution_count": 17,
   "metadata": {
    "hidden": true
   },
   "outputs": [],
   "source": [
    "# make a consecutive list of letters based on number of rasters\n",
    "prGAPLetters = list(string.ascii_lowercase)[:len(RList)]"
   ]
  },
  {
   "cell_type": "code",
   "execution_count": 18,
   "metadata": {
    "hidden": true
   },
   "outputs": [],
   "source": [
    "# make a formula using those letters\n",
    "prGAPFormula = ''\n",
    "for i in prGAPLetters:\n",
    "    prGAPFormula += i + \" + \"\n",
    "# remove the last + from the formula\n",
    "prGAPFormula = prGAPFormula[:-3]    "
   ]
  },
  {
   "cell_type": "code",
   "execution_count": 19,
   "metadata": {
    "hidden": true
   },
   "outputs": [],
   "source": [
    "#Sum rasters in raster calculator\n",
    "output_raster = arcpy.sa.RasterCalculator(RList,prGAPLetters,prGAPFormula); output_raster.save(\"sumSpecies.tif\")"
   ]
  },
  {
   "cell_type": "code",
   "execution_count": 20,
   "metadata": {
    "hidden": true
   },
   "outputs": [],
   "source": [
    "# Subtract the total number of species analyzed from the summed raster. This gets to the total number \n",
    "# of overlapping species per pixel b/c Puerto Rico gap has 1 for absense and 2 for presence\n",
    "out_raster = arcpy.sa.Minus(\"sumSpecies.tif\", prSpNum); out_raster.save(\"spCount.tif\")"
   ]
  },
  {
   "cell_type": "code",
   "execution_count": 21,
   "metadata": {
    "hidden": true
   },
   "outputs": [],
   "source": [
    "# Deal with zero values in inconsitently modeled coastal water and edges\n",
    "out_raster = arcpy.sa.Con(\"spCount.tif\", 0, \"spCount.tif\", \"Value < 0\"); out_raster.save(\"spCountClean.tif\")"
   ]
  },
  {
   "cell_type": "code",
   "execution_count": 22,
   "metadata": {
    "hidden": true
   },
   "outputs": [],
   "source": [
    "# Snap, convert noData to zero, and expand extent based on Caribbean Blueprint\n",
    "with arcpy.EnvManager(outputCoordinateSystem=sr, extent=CaribbeanRaster, snapRaster=CaribbeanRaster, cellSize=CaribbeanRaster):\n",
    "    out_raster = arcpy.sa.Con(arcpy.sa.IsNull(\"spCountClean.tif\"),0,\"spCountClean.tif\"); out_raster.save(\"prSpCount.tif\")"
   ]
  },
  {
   "cell_type": "markdown",
   "metadata": {
    "heading_collapsed": true
   },
   "source": [
    "### Prep VI GAP data"
   ]
  },
  {
   "cell_type": "code",
   "execution_count": 10,
   "metadata": {
    "hidden": true
   },
   "outputs": [],
   "source": [
    "# change to data workspace\n",
    "arcpy.env.workspace = viGAP"
   ]
  },
  {
   "cell_type": "code",
   "execution_count": 11,
   "metadata": {
    "hidden": true
   },
   "outputs": [],
   "source": [
    "# make a list of indicators to be clipped\n",
    "RList = arcpy.ListRasters()"
   ]
  },
  {
   "cell_type": "code",
   "execution_count": 12,
   "metadata": {
    "hidden": true,
    "scrolled": true
   },
   "outputs": [
    {
     "name": "stdout",
     "output_type": "stream",
     "text": [
      "['Eleutherodactylus_lentus_PHM.img', 'Epicrates_monensis_granti_PHM.img', 'viSpCount.tif', 'VIspCountClean.tif']\n"
     ]
    }
   ],
   "source": [
    "print(RList)"
   ]
  },
  {
   "cell_type": "code",
   "execution_count": 13,
   "metadata": {
    "hidden": true
   },
   "outputs": [],
   "source": [
    "# figure out how many species are included.DONT USE MORE THAN 26 or it'll cause weird issues\n",
    "viSpNum=len(RList)"
   ]
  },
  {
   "cell_type": "code",
   "execution_count": 14,
   "metadata": {
    "hidden": true
   },
   "outputs": [],
   "source": [
    "# make a consecutive list of letters based on number of rasters\n",
    "viGAPLetters = list(string.ascii_lowercase)[:len(RList)]"
   ]
  },
  {
   "cell_type": "code",
   "execution_count": 15,
   "metadata": {
    "hidden": true
   },
   "outputs": [],
   "source": [
    "# make a formula using those letters\n",
    "viGAPFormula = ''\n",
    "for i in viGAPLetters:\n",
    "    viGAPFormula += i + \" + \"\n",
    "# remove the last + from the formula\n",
    "viGAPFormula = viGAPFormula[:-3]    "
   ]
  },
  {
   "cell_type": "code",
   "execution_count": 16,
   "metadata": {
    "hidden": true
   },
   "outputs": [],
   "source": [
    "#Sum rasters in raster calculator\n",
    "output_raster = arcpy.sa.RasterCalculator(RList,viGAPLetters,viGAPFormula); output_raster.save(\"VIsumSpecies.tif\")"
   ]
  },
  {
   "cell_type": "code",
   "execution_count": 17,
   "metadata": {
    "hidden": true
   },
   "outputs": [],
   "source": [
    "# Subtract the total number of species analyzed from the summed raster. This gets to the total number \n",
    "# of overlapping species per pixel b/c Virgin Islands gap has 1 for absense and 2 for presence\n",
    "out_raster = arcpy.sa.Minus(\"VIsumSpecies.tif\", viSpNum); out_raster.save(\"VIspCount.tif\")"
   ]
  },
  {
   "cell_type": "code",
   "execution_count": 18,
   "metadata": {
    "hidden": true
   },
   "outputs": [],
   "source": [
    "# Deal with zero values used as noData\n",
    "out_raster = arcpy.sa.Con(\"VIspCount.tif\", 0, \"VIspCount.tif\", \"Value < 0\"); out_raster.save(\"VIspCountClean.tif\")"
   ]
  },
  {
   "cell_type": "code",
   "execution_count": 19,
   "metadata": {
    "hidden": true
   },
   "outputs": [],
   "source": [
    "# Snap, convert noData to zero, and expand extent based on Caribbean Blueprint\n",
    "with arcpy.EnvManager(outputCoordinateSystem=sr, extent=CaribbeanRaster, snapRaster=CaribbeanRaster, cellSize=CaribbeanRaster):\n",
    "    out_raster = arcpy.sa.Con(arcpy.sa.IsNull(\"VIspCountClean.tif\"),0,\"VIspCountClean.tif\"); out_raster.save(\"viSpCount.tif\")"
   ]
  },
  {
   "cell_type": "markdown",
   "metadata": {
    "heading_collapsed": true
   },
   "source": [
    "### Combine Puerto Rico and Virgin Islands data"
   ]
  },
  {
   "cell_type": "code",
   "execution_count": 40,
   "metadata": {
    "hidden": true
   },
   "outputs": [],
   "source": [
    "# Change the workspace to where I am saving the outputs\n",
    "arcpy.env.workspace = OutputWorkspace"
   ]
  },
  {
   "cell_type": "code",
   "execution_count": 21,
   "metadata": {
    "hidden": true
   },
   "outputs": [],
   "source": [
    "# Sum the layers\n",
    "out_raster = arcpy.sa.Plus(viGAP+r\"\\VIspCount.tif\", prGAP+r\"\\prspCount.tif\"); out_raster.save(\"GAPspCount.tif\")"
   ]
  },
  {
   "cell_type": "code",
   "execution_count": 22,
   "metadata": {
    "hidden": true
   },
   "outputs": [],
   "source": [
    "# Convert values to indicator bins\n",
    "out_raster = arcpy.sa.Con(\"GAPspCount.tif\", 2, \"GAPspCount.tif\", \"Value > 1\"); out_raster.save(\"GAPspBins.tif\")"
   ]
  },
  {
   "cell_type": "code",
   "execution_count": 23,
   "metadata": {
    "hidden": true
   },
   "outputs": [],
   "source": [
    "# Multiply the layers by 10 to make them easier to combine with other data\n",
    "out_raster = arcpy.sa.Times(\"GAPspBins.tif\", 10); out_raster.save(\"GAPspBins10.tif\")"
   ]
  },
  {
   "cell_type": "markdown",
   "metadata": {
    "heading_collapsed": true
   },
   "source": [
    "### Prep invasive data"
   ]
  },
  {
   "cell_type": "code",
   "execution_count": 24,
   "metadata": {
    "hidden": true
   },
   "outputs": [],
   "source": [
    "# read invasive data into pandas data frame\n",
    "invasiveSpeciesData = pd.read_excel(invasiveAndThreatenedData,sheet_name=\"Invasive Species on Islands\",usecols=\"A,B,C,E,F,G,H,J\")"
   ]
  },
  {
   "cell_type": "code",
   "execution_count": 25,
   "metadata": {
    "hidden": true
   },
   "outputs": [],
   "source": [
    "# Reduce data to only islands covered in 2023 Blueprint\n",
    "invasiveSpeciesDataVIPR = invasiveSpeciesData.query('Region_Archipelago in [\"Greater Antilles (Puerto Rican Islands)\", \"US Virgin Islands\",\"US Virgin Islands (St. Croix Islands)\",\"US Virgin Islands (St. Thomas Islands)\"]')"
   ]
  },
  {
   "cell_type": "code",
   "execution_count": 26,
   "metadata": {
    "hidden": true
   },
   "outputs": [],
   "source": [
    "# remove species records called 'NONE'. These are placeholders when an island doesn't have invasives\n",
    "invasiveSpeciesDataVIPR = invasiveSpeciesDataVIPR.query('Common_Name != \"NONE\"')"
   ]
  },
  {
   "cell_type": "code",
   "execution_count": 27,
   "metadata": {
    "hidden": true
   },
   "outputs": [],
   "source": [
    "# Each invasive species is a separate row. Get number of invasives by counting the rows for each island. \n",
    "# There are replacate island IDs so use the code instead of island name\n",
    "invasiveCounts = pd.pivot_table(invasiveSpeciesDataVIPR, index=['Island_GID_Code'], aggfunc= {\n",
    "    'Invasive_Status': 'count', 'Corrected_Area_KM2':'mean'})"
   ]
  },
  {
   "cell_type": "markdown",
   "metadata": {
    "heading_collapsed": true
   },
   "source": [
    "### Prep threatened species data"
   ]
  },
  {
   "cell_type": "code",
   "execution_count": 28,
   "metadata": {
    "hidden": true
   },
   "outputs": [],
   "source": [
    "# read threatened species data into pandas data frame\n",
    "threatenedSpeciesData = pd.read_excel(invasiveAndThreatenedData,sheet_name=\"Threatened Species on Islands\",usecols=\"F,G,H,J,K\")"
   ]
  },
  {
   "cell_type": "code",
   "execution_count": 29,
   "metadata": {
    "hidden": true
   },
   "outputs": [],
   "source": [
    "# Reduce data to only islands covered in 2023 Blueprint\n",
    "threatenedSpeciesDataVIPR = threatenedSpeciesData.query('Region_Archipelago in [\"Greater Antilles (Puerto Rican Islands)\", \"US Virgin Islands\",\"US Virgin Islands (St. Croix Islands)\",\"US Virgin Islands (St. Thomas Islands)\"]')"
   ]
  },
  {
   "cell_type": "code",
   "execution_count": 30,
   "metadata": {
    "hidden": true
   },
   "outputs": [],
   "source": [
    "# Include only records with current confirmed or potential breeding.\n",
    "# While info on exterpated species could be helpful in other places, all the ones in the 2023 Blueprint areas are on the large \n",
    "# islands >50km2 which get removed from this particular part of the analysis\n",
    "threatenedSpeciesDataVIPR = threatenedSpeciesDataVIPR.query('Present_Breeding_Status in [\"Confirmed\",\"Potential Breeding\"]')"
   ]
  },
  {
   "cell_type": "code",
   "execution_count": 31,
   "metadata": {
    "hidden": true
   },
   "outputs": [],
   "source": [
    "# Each threatened species is a separate row. Get number of threatened species by counting the rows for each island\n",
    "threatenedSpeciesCounts = pd.pivot_table(threatenedSpeciesDataVIPR, index=['Island_GID_Code'], aggfunc= {\n",
    "    'Present_Breeding_Status': 'count'})"
   ]
  },
  {
   "cell_type": "markdown",
   "metadata": {
    "heading_collapsed": true
   },
   "source": [
    "### Combine threatened and invasive data"
   ]
  },
  {
   "cell_type": "code",
   "execution_count": 32,
   "metadata": {
    "hidden": true,
    "scrolled": true
   },
   "outputs": [],
   "source": [
    "# Merge invasive and threatened species data. Since the data doesn't have zeros, use the Island_GID_Code field and\n",
    "# fill in missing data with 0\n",
    "speciesMerge = pd.merge(invasiveCounts, threatenedSpeciesCounts, how=\"outer\", left_index=True, right_index=True)\n",
    "speciesMergeFill = speciesMerge.fillna(0)\n"
   ]
  },
  {
   "cell_type": "code",
   "execution_count": 33,
   "metadata": {
    "hidden": true
   },
   "outputs": [],
   "source": [
    "# include only smaller islands (<50 km2). This removes islands roughly the size of St. Thomas and larger. That includes Mona, Vieques, St. Croix, St. John, and Puerto Rico\n",
    "speciesMergeSmallerIslands = speciesMergeFill.query('Corrected_Area_KM2 < 50')"
   ]
  },
  {
   "cell_type": "code",
   "execution_count": 34,
   "metadata": {
    "hidden": true
   },
   "outputs": [],
   "source": [
    "# read island info data\n",
    "islandInfoData = pd.read_excel(invasiveAndThreatenedData,sheet_name=\"Invasive Species on Islands\",usecols=\"A,B,C,E,F,G\")"
   ]
  },
  {
   "cell_type": "code",
   "execution_count": 35,
   "metadata": {
    "hidden": true
   },
   "outputs": [],
   "source": [
    "# Reduce data to only islands covered in 2023 Blueprint\n",
    "islandInfoDataVIPR = islandInfoData.query('Region_Archipelago in [\"Greater Antilles (Puerto Rican Islands)\", \"US Virgin Islands\",\"US Virgin Islands (St. Croix Islands)\",\"US Virgin Islands (St. Thomas Islands)\"]')"
   ]
  },
  {
   "cell_type": "code",
   "execution_count": 36,
   "metadata": {
    "hidden": true
   },
   "outputs": [],
   "source": [
    "# include only smaller islands (<50 km2). This removes islands roughly the size of St. Thomas and larger. That includes Mona, Vieques, St. Croix, St. John, and Puerto Rico\n",
    "islandInfoSmallerIslands = islandInfoDataVIPR.query('Corrected_Area_KM2 < 50')"
   ]
  },
  {
   "cell_type": "code",
   "execution_count": 37,
   "metadata": {
    "hidden": true
   },
   "outputs": [],
   "source": [
    "# get the latitude and Longitude for each island\n",
    "islandInfo = pd.pivot_table(islandInfoSmallerIslands, index=['Island_GID_Code'], aggfunc= {\n",
    "    'Corrected_Latitude': 'mean', 'Corrected_Longitude': 'mean'})"
   ]
  },
  {
   "cell_type": "code",
   "execution_count": 38,
   "metadata": {
    "hidden": true
   },
   "outputs": [],
   "source": [
    "# Combine species data and island lat/long\n",
    "islandSpeciesRaw = pd.merge(speciesMergeSmallerIslands, islandInfo, how=\"outer\", left_index=True, right_index=True)"
   ]
  },
  {
   "cell_type": "code",
   "execution_count": 39,
   "metadata": {
    "hidden": true
   },
   "outputs": [],
   "source": [
    "# Drop island size column and fill in no data in species columns with 0\n",
    "islandSpecies4column = islandSpeciesRaw.drop(['Corrected_Area_KM2'],axis = 1)"
   ]
  },
  {
   "cell_type": "code",
   "execution_count": 40,
   "metadata": {
    "hidden": true
   },
   "outputs": [],
   "source": [
    "islandSpecies = islandSpecies4column.fillna(0)"
   ]
  },
  {
   "cell_type": "code",
   "execution_count": 41,
   "metadata": {
    "hidden": true
   },
   "outputs": [],
   "source": [
    "# Add a new column that calculates the value for the indicator\n",
    "islandSpecies.loc[(islandSpecies['Invasive_Status'] == 0) & (islandSpecies['Present_Breeding_Status'] > 1), 'ValueForIndicator'] = 6\n",
    "islandSpecies.loc[(islandSpecies['Invasive_Status'] == 0) & (islandSpecies['Present_Breeding_Status'] == 1), 'ValueForIndicator'] = 5\n",
    "islandSpecies.loc[(islandSpecies['Invasive_Status'] == 0) & (islandSpecies['Present_Breeding_Status'] == 0), 'ValueForIndicator'] = 4\n",
    "islandSpecies.loc[(islandSpecies['Invasive_Status'] > 0) & (islandSpecies['Present_Breeding_Status'] > 1), 'ValueForIndicator'] = 3  \n",
    "islandSpecies.loc[(islandSpecies['Invasive_Status'] > 0) & (islandSpecies['Present_Breeding_Status'] == 1), 'ValueForIndicator'] = 2 \n",
    "islandSpecies.loc[(islandSpecies['Invasive_Status'] > 0) & (islandSpecies['Present_Breeding_Status'] == 0), 'ValueForIndicator'] = 1 "
   ]
  },
  {
   "cell_type": "markdown",
   "metadata": {},
   "source": [
    "## Start spatial analysis"
   ]
  },
  {
   "cell_type": "code",
   "execution_count": 10,
   "metadata": {},
   "outputs": [],
   "source": [
    "# Change the workspace to where I am saving the outputs\n",
    "arcpy.env.workspace = OutputWorkspace"
   ]
  },
  {
   "cell_type": "code",
   "execution_count": 43,
   "metadata": {},
   "outputs": [],
   "source": [
    "# Save species data as csv to use in ArcPro\n",
    "islandSpecies.to_csv(OutputWorkspace+\"\\islandSpecies.csv\")\n"
   ]
  },
  {
   "cell_type": "code",
   "execution_count": 44,
   "metadata": {
    "scrolled": true
   },
   "outputs": [
    {
     "data": {
      "text/html": [
       "<div class='gpresult'><h2>Messages</h2><div id='messages' data-messages='[\"Start Time: Tuesday, July 11, 2023 9:49:56 AM\",\"Succeeded at Tuesday, July 11, 2023 9:50:25 AM (Elapsed Time: 29.85 seconds)\"]' data-show='true'><div id = 'default' /></div></div>"
      ],
      "text/plain": [
       "<Result 'D:\\\\Blueprint\\\\2023\\\\Caribbean\\\\Indicators\\\\Islands\\\\working\\\\islandSpecies.shp'>"
      ]
     },
     "execution_count": 44,
     "metadata": {},
     "output_type": "execute_result"
    }
   ],
   "source": [
    "arcpy.management.XYTableToPoint(OutputWorkspace+\"\\islandSpecies.csv\", \"islandSpecies.shp\",\n",
    "                                \"Corrected_Longitude\", \"Corrected_Latitude\")"
   ]
  },
  {
   "cell_type": "code",
   "execution_count": 11,
   "metadata": {},
   "outputs": [],
   "source": [
    "# prep islands boundary raster. Reclass so all islands have same value\n",
    "out_raster = arcpy.sa.Reclassify(islandBoundary, \"Value\", \"1 NODATA;2 4 1\", \"DATA\"); out_raster.save(\"islandBoundaryBin.tif\")"
   ]
  },
  {
   "cell_type": "code",
   "execution_count": 12,
   "metadata": {},
   "outputs": [
    {
     "data": {
      "text/html": [
       "<div class='gpresult'><h2>Messages</h2><div id='messages' data-messages='[\"Start Time: Friday, July 14, 2023 8:00:00 AM\",\"Succeeded at Friday, July 14, 2023 8:00:01 AM (Elapsed Time: 1.81 seconds)\"]' data-show='true'><div id = 'default' /></div></div>"
      ],
      "text/plain": [
       "<Result 'D:\\\\Blueprint\\\\2023\\\\Caribbean\\\\Indicators\\\\Islands\\\\working\\\\islandBoundary.shp'>"
      ]
     },
     "execution_count": 12,
     "metadata": {},
     "output_type": "execute_result"
    }
   ],
   "source": [
    "# convert island raster to shapefile\n",
    "arcpy.conversion.RasterToPolygon(\"islandBoundaryBin.tif\", \"islandBoundary.shp\", \"NO_SIMPLIFY\", \"Value\", \"SINGLE_OUTER_PART\", None)"
   ]
  },
  {
   "cell_type": "code",
   "execution_count": 13,
   "metadata": {
    "scrolled": true
   },
   "outputs": [
    {
     "data": {
      "text/html": [
       "<div class='gpresult'><h2>Messages</h2><div id='messages' data-messages='[\"Start Time: Friday, July 14, 2023 8:00:04 AM\",\"Succeeded at Friday, July 14, 2023 8:00:04 AM (Elapsed Time: 0.75 seconds)\"]' data-show='true'><div id = 'default' /></div></div>"
      ],
      "text/plain": [
       "<Result 'D:\\\\Blueprint\\\\2023\\\\Caribbean\\\\Indicators\\\\Islands\\\\working\\\\IslandsAndSpeciesJoin.shp'>"
      ]
     },
     "execution_count": 13,
     "metadata": {},
     "output_type": "execute_result"
    }
   ],
   "source": [
    "# Join island boundaries and island species data\n",
    "arcpy.analysis.SpatialJoin(\"islandBoundary.shp\", \"islandSpecies.shp\", \"IslandsAndSpeciesJoin.shp\")"
   ]
  },
  {
   "cell_type": "code",
   "execution_count": 14,
   "metadata": {},
   "outputs": [],
   "source": [
    "# Remove specific species from critical habitat due to issues they cause. So far that only includes yellow-shouldered\n",
    "# Blackbird due to the large area of lower quality habitat it's critical habitat includes.\n",
    "out_raster = arcpy.management.SelectLayerByAttribute(criticalHabitatData, \"NEW_SELECTION\", \"comname <> 'Yellow-shouldered blackbird'\", None)"
   ]
  },
  {
   "cell_type": "code",
   "execution_count": 15,
   "metadata": {},
   "outputs": [],
   "source": [
    "# Export the shapefile with the species removed\n",
    "out_raster2 = arcpy.conversion.FeatureClassToFeatureClass(out_raster, OutputWorkspace, \"CriticalHabitatReduced.shp\")"
   ]
  },
  {
   "cell_type": "code",
   "execution_count": 16,
   "metadata": {
    "scrolled": true
   },
   "outputs": [
    {
     "data": {
      "text/html": [
       "<div class='gpresult'><h2>Messages</h2><div id='messages' data-messages='[\"Start Time: Friday, July 14, 2023 8:00:16 AM\",\"Reading Features...\",\"Cracking Features...\",\"Assembling Features...\",\"Succeeded at Friday, July 14, 2023 8:00:16 AM (Elapsed Time: 0.84 seconds)\"]' data-show='true'><div id = 'default' /></div></div>"
      ],
      "text/plain": [
       "<Result 'D:\\\\Blueprint\\\\2023\\\\Caribbean\\\\Indicators\\\\Islands\\\\working\\\\CriticalHabitatIslands.shp'>"
      ]
     },
     "execution_count": 16,
     "metadata": {},
     "output_type": "execute_result"
    }
   ],
   "source": [
    "# Clip critical habitat to islands\n",
    "arcpy.analysis.Clip(\"CriticalHabitatReduced.shp\", \"islandBoundary.shp\", \"CriticalHabitatIslands.shp\", None)"
   ]
  },
  {
   "cell_type": "code",
   "execution_count": 17,
   "metadata": {},
   "outputs": [
    {
     "data": {
      "text/html": [
       "<div class='gpresult'><h2>Messages</h2><div id='messages' data-messages='[\"Start Time: Friday, July 14, 2023 8:00:17 AM\",\"Adding raster to CriticalHabitatIslands...\",\"Succeeded at Friday, July 14, 2023 8:00:18 AM (Elapsed Time: 0.36 seconds)\"]' data-show='true'><div id = 'default' /></div></div>"
      ],
      "text/plain": [
       "<Result 'D:\\\\Blueprint\\\\2023\\\\Caribbean\\\\Indicators\\\\Islands\\\\working\\\\CriticalHabitatIslands.shp'>"
      ]
     },
     "execution_count": 17,
     "metadata": {},
     "output_type": "execute_result"
    }
   ],
   "source": [
    "# add a field island critical habitat to convert to raster, give a value of 100\n",
    "arcpy.management.CalculateField(\"CriticalHabitatIslands.shp\", \"raster\", \"100\", \"PYTHON3\", '', \"SHORT\")"
   ]
  },
  {
   "cell_type": "code",
   "execution_count": 18,
   "metadata": {},
   "outputs": [],
   "source": [
    "# convert critical habitat to raster\n",
    "with arcpy.EnvManager(outputCoordinateSystem=sr, extent=CaribbeanRaster, snapRaster=CaribbeanRaster, cellSize=CaribbeanRaster):\n",
    "    arcpy.conversion.FeatureToRaster(in_features=\"CriticalHabitatIslands.shp\", field=\"raster\", out_raster=\"CriticalHabitatIslandsNull.tif\", cell_size=CaribbeanRaster)"
   ]
  },
  {
   "cell_type": "code",
   "execution_count": 19,
   "metadata": {},
   "outputs": [],
   "source": [
    "# change critical habitat raster so there isn't noData on islands\n",
    "out_raster = arcpy.sa.Con(arcpy.sa.IsNull(\"CriticalHabitatIslandsNull.tif\"),0,\"CriticalHabitatIslandsNull.tif\"); out_raster.save(\"CriticalHabitatIslands.tif\")"
   ]
  },
  {
   "cell_type": "code",
   "execution_count": 20,
   "metadata": {},
   "outputs": [],
   "source": [
    "# convert islands to raster\n",
    "with arcpy.EnvManager(outputCoordinateSystem=sr, extent=CaribbeanRaster, snapRaster=CaribbeanRaster, cellSize=CaribbeanRaster):\n",
    "    arcpy.conversion.FeatureToRaster(in_features=\"IslandsAndSpeciesJoin.shp\", field=\"ValueForIn\", out_raster=\"SpeciesIslands.tif\", cell_size=CaribbeanRaster)"
   ]
  },
  {
   "cell_type": "code",
   "execution_count": 21,
   "metadata": {},
   "outputs": [],
   "source": [
    "# Combine rasters for indicator categories\n",
    "output_raster = arcpy.ia.RasterCalculator([\"CriticalHabitatIslands.tif\", \"SpeciesIslands.tif\",\"GAPspBins10.tif\"],['a','b','c'],'a + b + c'); output_raster.save(\"AllDataCombined.tif\")"
   ]
  },
  {
   "cell_type": "code",
   "execution_count": 22,
   "metadata": {},
   "outputs": [],
   "source": [
    "# Step 1 to convert to final indicator values. Convert all critical habitat to 7s\n",
    "out_raster = arcpy.sa.Con(\"AllDataCombined.tif\", 7, \"AllDataCombined.tif\", \"Value >= 100\"); out_raster.save(\"AllDataCombinedCrit7.tif\")"
   ]
  },
  {
   "cell_type": "code",
   "execution_count": 23,
   "metadata": {},
   "outputs": [],
   "source": [
    "# Step 2 to convert to final indicator values. Reclass the rest of the values.\n",
    "out_raster = arcpy.sa.Reclassify('AllDataCombinedCrit7.tif', \"Value\", \"NODATA 0;0 1;1 1;2 2;3 3;4 4;5 5;6 6;7 7;10 2;11 2;12 2;13 3;14 4;15 5;16 6;20 3;23 3\", \"DATA\"); out_raster.save(\"indicatorBin.tif\")"
   ]
  },
  {
   "cell_type": "code",
   "execution_count": 24,
   "metadata": {},
   "outputs": [],
   "source": [
    "# export nonclipped version of indicator\n",
    "#with arcpy.EnvManager(outputCoordinateSystem=sr, extent=CaribbeanRaster, snapRaster=CaribbeanRaster, cellSize=CaribbeanRaster):\n",
    "#    arcpy.management.CopyRaster(\"indicatorBin.tif\", indicatorName, '', None, \"255\", \"NONE\", \"NONE\", \"8_BIT_UNSIGNED\", \"NONE\", \"NONE\", \"TIFF\", \"NONE\", \"CURRENT_SLICE\", \"NO_TRANSPOSE\")"
   ]
  },
  {
   "cell_type": "code",
   "execution_count": 25,
   "metadata": {},
   "outputs": [],
   "source": [
    "# clip to Blueprint extent\n",
    "with arcpy.EnvManager(outputCoordinateSystem=sr, extent=CaribbeanRaster, snapRaster=CaribbeanRaster, cellSize=CaribbeanRaster):\n",
    "    out_raster = arcpy.sa.ExtractByMask(\"indicatorBin.tif\", CaribbeanRaster); out_raster.save(indicatorName)"
   ]
  },
  {
   "cell_type": "markdown",
   "metadata": {},
   "source": [
    "## Finalize indicator"
   ]
  },
  {
   "cell_type": "code",
   "execution_count": 26,
   "metadata": {},
   "outputs": [],
   "source": [
    "# set code block for next step\n",
    "codeblock = \"\"\"\n",
    "def Reclass(v):\n",
    "\tif v == 7:\n",
    "\t\treturn '7 = Island area with critical habitat for a threatened or endangered species'\n",
    "\telif v == 6:\n",
    "\t\treturn '6 = Island area with no invasive animals and 2+ imperiled species'\n",
    "\telif v == 5:\n",
    "\t\treturn '5 = Island area with no invasive animals and 1 imperiled species'\n",
    "\telif v == 4:\n",
    "\t\treturn '4 = Island area with no invasive animals'\n",
    "\telif v == 3:\n",
    "\t\treturn '3 = Island area with invasive animals and 2+ imperiled species'\n",
    "\telif v == 2:\n",
    "\t\treturn '2 = Island area with invasive animals and 1 imperiled species'\n",
    "\telif v == 1:\n",
    "\t\treturn '1 = Island area with invasive animals'\n",
    "\telif v == 0:\n",
    "\t\treturn '0 = Not an island'\n",
    "\"\"\""
   ]
  },
  {
   "cell_type": "code",
   "execution_count": 27,
   "metadata": {},
   "outputs": [
    {
     "data": {
      "text/html": [
       "<div class='gpresult'><h2>Messages</h2><div id='messages' data-messages='[\"Start Time: Friday, July 14, 2023 8:03:10 AM\",\"Adding descript to CaribbeanIslandHabitat.tif.vat...\",\"Succeeded at Friday, July 14, 2023 8:03:11 AM (Elapsed Time: 0.20 seconds)\"]' data-show='true'><div id = 'default' /></div></div>"
      ],
      "text/plain": [
       "<Result 'D:\\\\Blueprint\\\\2023\\\\Caribbean\\\\Indicators\\\\Islands\\\\working\\\\CaribbeanIslandHabitat.tif'>"
      ]
     },
     "execution_count": 27,
     "metadata": {},
     "output_type": "execute_result"
    }
   ],
   "source": [
    "# add and calculate description field to hold indicator values\n",
    "arcpy.management.CalculateField(indicatorName, \"descript\", \"Reclass(!value!)\", \"PYTHON3\", codeblock, \"TEXT\")"
   ]
  },
  {
   "cell_type": "code",
   "execution_count": 47,
   "metadata": {},
   "outputs": [],
   "source": [
    "# set code block for next step\n",
    "codeblock = \"\"\"\n",
    "def Reclass1(Value):\n",
    "\tif Value == 7:\n",
    "\t\treturn 107\n",
    "\tif Value == 6:\n",
    "\t\treturn 151\n",
    "\tif Value == 5:\n",
    "\t\treturn 196\n",
    "\tif Value == 4:\n",
    "\t\treturn 242\n",
    "\tif Value == 3:\n",
    "\t\treturn 247\n",
    "\tif Value == 2:\n",
    "\t\treturn 252\n",
    "\tif Value == 1:\n",
    "\t\treturn 255\n",
    "\telse:\n",
    "\t\treturn 255\n",
    "\t\t\n",
    "def Reclass2(Value):\n",
    "\tif Value == 7:\n",
    "\t\treturn 6\n",
    "\tif Value == 6:\n",
    "\t\treturn 57\n",
    "\tif Value == 5:\n",
    "\t\treturn 111\n",
    "\tif Value == 4:\n",
    "\t\treturn 167\n",
    "\tif Value == 3:\n",
    "\t\treturn 195\n",
    "\tif Value == 2:\n",
    "\t\treturn 224\n",
    "\tif Value == 1:\n",
    "\t\treturn 255\n",
    "\telse:\n",
    "\t\treturn 255\n",
    "\t\t\n",
    "def Reclass3(Value):\n",
    "\tif Value == 7:\n",
    "\t\treturn 1\n",
    "\tif Value == 6:\n",
    "\t\treturn 13\n",
    "\tif Value == 5:\n",
    "\t\treturn 28\n",
    "\tif Value == 4:\n",
    "\t\treturn 46\n",
    "\tif Value == 3:\n",
    "\t\treturn 72\n",
    "\tif Value == 2:\n",
    "\t\treturn 99\n",
    "\tif Value == 1:\n",
    "\t\treturn 128\n",
    "\telse:\n",
    "\t\treturn 255\n",
    "\"\"\""
   ]
  },
  {
   "cell_type": "code",
   "execution_count": 48,
   "metadata": {},
   "outputs": [
    {
     "data": {
      "text/html": [
       "<div class='gpresult'><h2>Messages</h2><div id='messages' data-messages='[\"Start Time: Thursday, September 14, 2023 9:45:24 AM\",\"Succeeded at Thursday, September 14, 2023 9:45:24 AM (Elapsed Time: 0.41 seconds)\"]' data-show='true'><div id = 'default' /></div></div>"
      ],
      "text/plain": [
       "<Result 'D:\\\\Blueprint\\\\2023\\\\finalIndicatorEdits\\\\CaribbeanBlueprint2023_FinalIndicators\\\\CaribbeanBlueprint2023_FinalIndicators\\\\SpatialData\\\\CaribbeanIslandHabitat.tif'>"
      ]
     },
     "execution_count": 48,
     "metadata": {},
     "output_type": "execute_result"
    }
   ],
   "source": [
    "# calculate Red field\n",
    "arcpy.management.CalculateField(indicatorName, \"Red\", \"Reclass1(!Value!)\", \"PYTHON3\", codeblock, \"SHORT\")\n",
    "# calculate Green field\n",
    "arcpy.management.CalculateField(indicatorName, \"Green\", \"Reclass2(!Value!)\", \"PYTHON3\", codeblock, \"SHORT\")\n",
    "# calculate Blue field\n",
    "arcpy.management.CalculateField(indicatorName, \"Blue\", \"Reclass3(!Value!)\", \"PYTHON3\", codeblock, \"SHORT\")"
   ]
  },
  {
   "cell_type": "code",
   "execution_count": null,
   "metadata": {},
   "outputs": [],
   "source": []
  }
 ],
 "metadata": {
  "kernelspec": {
   "display_name": "ArcGISPro",
   "language": "Python",
   "name": "python3"
  },
  "language_info": {
   "file_extension": ".py",
   "name": "python",
   "version": "3"
  }
 },
 "nbformat": 4,
 "nbformat_minor": 2
}
