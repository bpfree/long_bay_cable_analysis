{
 "cells": [
  {
   "cell_type": "markdown",
   "metadata": {},
   "source": [
    "## Great Plains Perennial Grasslands"
   ]
  },
  {
   "cell_type": "code",
   "execution_count": 1,
   "metadata": {},
   "outputs": [],
   "source": [
    "import os\n",
    "import arcpy"
   ]
  },
  {
   "cell_type": "code",
   "execution_count": 2,
   "metadata": {},
   "outputs": [],
   "source": [
    "# define spatial reference and workspaces\n",
    "sr= arcpy.SpatialReference(5070)\n",
    "OutputWorkspace = r\"D:\\Blueprint\\2022\\Indicators\\grasslands\\PerennialForbsAndGrass\\working\""
   ]
  },
  {
   "cell_type": "code",
   "execution_count": 3,
   "metadata": {},
   "outputs": [],
   "source": [
    "# define raster used for cell size, extent, and snapping\n",
    "SERaster= r\"D:\\Blueprint\\2022\\Masks\\finalRegions_extent\\BaseBlueprintExtent2022.tif\""
   ]
  },
  {
   "cell_type": "code",
   "execution_count": 4,
   "metadata": {},
   "outputs": [],
   "source": [
    "# define additional inputs\n",
    "nlcd= r\"D:\\Landcover\\nlcd_2019_land_cover_l48_20210604\\nlcd_2019_land_cover_l48_20210604.img\"\n",
    "BaseBlueprintSubregions = r\"D:\\Blueprint\\2022\\Masks\\finalRegions_extent\\DraftBaseBlueprintSubRgn.shp\"\n",
    "sourceData = r\"D:\\Blueprint\\2022\\Indicators\\grasslands\\vegetation-cover-v3-2020.tif\""
   ]
  },
  {
   "cell_type": "code",
   "execution_count": 5,
   "metadata": {},
   "outputs": [],
   "source": [
    "# define indicator name\n",
    "indicatorName = \"GreatPlainsPerennialGrasslands.tif\""
   ]
  },
  {
   "cell_type": "code",
   "execution_count": 23,
   "metadata": {},
   "outputs": [],
   "source": [
    "# define subregion masks to use\n",
    "subregionList = \"Edwards_Plateau_R.tif;High_Plains_and_Tablelands_R.tif;Plains_and_Timbers_R.tif;South_Texas_Plains_R.tif;Texas_Blackland_Prairies_R.tif\"\n",
    "#sub1 = r'D:\\Blueprint\\2022\\Masks\\FinalMasks\\FinalSubregionsAndEdgesLargeRoads\\Edwards_Plateau_R.tif'\n",
    "#sub2 = r'D:\\Blueprint\\2022\\Masks\\FinalMasks\\FinalSubregionsAndEdgesLargeRoads\\High_Plains_and_Tablelands_R.tif'\n",
    "#sub3 = r'D:\\Blueprint\\2022\\Masks\\FinalMasks\\FinalSubregionsAndEdgesLargeRoads\\Plains_and_Timbers_R.tif'\n",
    "#sub4 = r'D:\\Blueprint\\2022\\Masks\\FinalMasks\\FinalSubregionsAndEdgesLargeRoads\\South_Texas_Plains_R.tif'\n",
    "#sub5 = r'D:\\Blueprint\\2022\\Masks\\FinalMasks\\FinalSubregionsAndEdgesLargeRoads\\Texas_Blackland_Prairies_R.tif'"
   ]
  },
  {
   "cell_type": "markdown",
   "metadata": {},
   "source": [
    "## Begin analysis"
   ]
  },
  {
   "cell_type": "code",
   "execution_count": 24,
   "metadata": {
    "scrolled": true
   },
   "outputs": [],
   "source": [
    "# Set the workspace \n",
    "arcpy.env.workspace = OutputWorkspace"
   ]
  },
  {
   "cell_type": "code",
   "execution_count": 26,
   "metadata": {
    "scrolled": true
   },
   "outputs": [
    {
     "data": {
      "text/html": [
       "<h2>Output</h2>D:\\Blueprint\\2022\\Indicators\\grasslands\\PerennialForbsAndGrass\\working\\IndicatorRegionsMerged.tif<h2>Messages</h2>Start Time: Friday, June 24, 2022 3:45:01 PM<br/>Building Pyramids...<br/>Succeeded at Friday, June 24, 2022 3:45:38 PM (Elapsed Time: 36.74 seconds)<br/><style>.rendered_html td, .rendered_html th {text-align: left;}.rendered_html tbody {border: 1px solid black;}</style>"
      ],
      "text/plain": [
       "<Result 'D:\\\\Blueprint\\\\2022\\\\Indicators\\\\grasslands\\\\PerennialForbsAndGrass\\\\working\\\\IndicatorRegionsMerged.tif'>"
      ]
     },
     "execution_count": 26,
     "metadata": {},
     "output_type": "execute_result"
    }
   ],
   "source": [
    "# Merge rasters of the selected subregion boundaries\n",
    "arcpy.management.MosaicToNewRaster(subregionList, OutputWorkspace, \"IndicatorRegionsMerged.tif\", number_of_bands=1)                   "
   ]
  },
  {
   "cell_type": "code",
   "execution_count": null,
   "metadata": {},
   "outputs": [],
   "source": [
    "# Remove band 4 (perennial forb and grass) from the multiband source data for indicator region. Update this if expanding to larger area\n",
    "arcpy.management.MakeRasterLayer(\"vegetation-cover-v3-2020.tif\", \"perennialForbAndGrassSubregion.tif\", '', \"-107.32391860992 25.7404841784877 -94.5494038262524 37.2030851707942\", 4)"
   ]
  },
  {
   "cell_type": "code",
   "execution_count": 6,
   "metadata": {},
   "outputs": [],
   "source": [
    "# Make a raster to remove NLCD urban crop and water. They do that in the rangeland viewer for these data and it pulls out high values in less natural areas\n",
    "out_raster = arcpy.sa.Con(nlcd, 0, 1, \"Value = 11 OR Value = 21 OR Value = 22 OR Value = 23 OR Value = 24 OR Value = 82\"); out_raster.save(\"nlcdFilter.tif\")"
   ]
  },
  {
   "cell_type": "code",
   "execution_count": 6,
   "metadata": {},
   "outputs": [],
   "source": [
    "# Now remove urban crop and water\n",
    "out_raster = arcpy.sa.Times(\"perennialForbAndGrassSubregion.tif\", \"nlcdFilter.tif\"); out_raster.save(\"indicatorFiltered_NoUrbanOrCrop.tif\")"
   ]
  },
  {
   "cell_type": "code",
   "execution_count": 7,
   "metadata": {},
   "outputs": [],
   "source": [
    "# reclassify to create binned version. After looking at known sites and aerials, a 5 class equal bin seems reasonable\n",
    "out_raster = arcpy.sa.Reclassify(\"indicatorFiltered_NoUrbanOrCrop.tif\", \"Value\", \"0 20 1;21 40 2;41 60 3;61 80 4;81 100 5\", \"DATA\"); out_raster.save(\"indicatorFiltered_NoUrbanOrCrop_5class.tif\")"
   ]
  },
  {
   "cell_type": "code",
   "execution_count": 27,
   "metadata": {},
   "outputs": [],
   "source": [
    "# clip to indicator extent\n",
    "with arcpy.EnvManager(outputCoordinateSystem=sr, extent=SERaster, snapRaster=SERaster, cellSize=SERaster):\n",
    "    out_raster = arcpy.sa.ExtractByMask(\"indicatorFiltered_NoUrbanOrCrop_5class.tif\", \"IndicatorRegionsMerged.tif\"); out_raster.save(indicatorName)"
   ]
  },
  {
   "cell_type": "code",
   "execution_count": 28,
   "metadata": {},
   "outputs": [],
   "source": [
    "# set code block for next step\n",
    "codeblock = \"\"\"\n",
    "def Reclass(value):\n",
    "    if value == 5:\n",
    "        return '5 = 81-100% perennial forbs and perennial grass'\n",
    "    elif value == 4:\n",
    "        return '4 = 61-80% perennial forbs and perennial grass'\n",
    "    elif value == 3:\n",
    "        return '3 = 41-60% perennial forbs and perennial grass'\n",
    "    elif value == 2:\n",
    "        return '2 = 21-40% perennial forbs and perennial grass'\n",
    "    elif value == 1:\n",
    "        return '1 = 0-20% perennial forbs and perennial grass'      \n",
    "\"\"\""
   ]
  },
  {
   "cell_type": "code",
   "execution_count": 29,
   "metadata": {},
   "outputs": [
    {
     "data": {
      "text/html": [
       "<h2>Output</h2>D:\\Blueprint\\2022\\Indicators\\grasslands\\PerennialForbsAndGrass\\working\\GreatPlainsPerennialGrasslands.tif<h2>Messages</h2>Start Time: Friday, June 24, 2022 3:54:52 PM<br/>Adding descript to GreatPlainsPerennialGrasslands.tif.vat...<br/>Succeeded at Friday, June 24, 2022 3:54:53 PM (Elapsed Time: 0.61 seconds)<br/><style>.rendered_html td, .rendered_html th {text-align: left;}.rendered_html tbody {border: 1px solid black;}</style>"
      ],
      "text/plain": [
       "<Result 'D:\\\\Blueprint\\\\2022\\\\Indicators\\\\grasslands\\\\PerennialForbsAndGrass\\\\working\\\\GreatPlainsPerennialGrasslands.tif'>"
      ]
     },
     "execution_count": 29,
     "metadata": {},
     "output_type": "execute_result"
    }
   ],
   "source": [
    "# add and calculate description field to hold indicator values\n",
    "arcpy.management.CalculateField(\"GreatPlainsPerennialGrasslands.tif\", \"descript\", \"Reclass(!value!)\", \"PYTHON3\", codeblock, \"TEXT\")"
   ]
  },
  {
   "cell_type": "code",
   "execution_count": 30,
   "metadata": {},
   "outputs": [],
   "source": [
    "# set code block for next step of adding RGB colors\n",
    "codeblock = \"\"\"\n",
    "def Reclass1(Value):\n",
    "\tif Value == 5:\n",
    "\t\treturn 58\n",
    "\tif Value == 4:\n",
    "\t\treturn 105\n",
    "\tif Value == 3:\n",
    "\t\treturn 153\n",
    "\tif Value == 2:\n",
    "\t\treturn 203\n",
    "\tif Value == 1:\n",
    "\t\treturn 253\n",
    "\telse:\n",
    "\t\treturn 255\n",
    "\t\t\n",
    "def Reclass2(Value):\n",
    "\tif Value == 5:\n",
    "\t\treturn 67\n",
    "\tif Value == 4:\n",
    "\t\treturn 111\n",
    "\tif Value == 3:\n",
    "\t\treturn 157\n",
    "\tif Value == 2:\n",
    "\t\treturn 205\n",
    "\tif Value == 1:\n",
    "\t\treturn 254\n",
    "\telse:\n",
    "\t\treturn 255\n",
    "\t\t\n",
    "def Reclass3(Value):\n",
    "\tif Value == 5:\n",
    "\t\treturn 17\n",
    "\tif Value == 4:\n",
    "\t\treturn 58\n",
    "\tif Value == 3:\n",
    "\t\treturn 100\n",
    "\tif Value == 2:\n",
    "\t\treturn 144\n",
    "\tif Value == 1:\n",
    "\t\treturn 190\n",
    "\telse:\n",
    "\t\treturn 255\n",
    "\t\t\n",
    "\"\"\""
   ]
  },
  {
   "cell_type": "code",
   "execution_count": 31,
   "metadata": {},
   "outputs": [
    {
     "data": {
      "text/html": [
       "<h2>Output</h2>D:\\Blueprint\\2022\\Indicators\\grasslands\\PerennialForbsAndGrass\\working\\GreatPlainsPerennialGrasslands.tif<h2>Messages</h2>Start Time: Friday, June 24, 2022 3:54:56 PM<br/>Adding Blue to GreatPlainsPerennialGrasslands.tif.vat...<br/>Succeeded at Friday, June 24, 2022 3:54:56 PM (Elapsed Time: 0.07 seconds)<br/><style>.rendered_html td, .rendered_html th {text-align: left;}.rendered_html tbody {border: 1px solid black;}</style>"
      ],
      "text/plain": [
       "<Result 'D:\\\\Blueprint\\\\2022\\\\Indicators\\\\grasslands\\\\PerennialForbsAndGrass\\\\working\\\\GreatPlainsPerennialGrasslands.tif'>"
      ]
     },
     "execution_count": 31,
     "metadata": {},
     "output_type": "execute_result"
    }
   ],
   "source": [
    "# calculate Red field\n",
    "arcpy.management.CalculateField(\"GreatPlainsPerennialGrasslands.tif\", \"Red\", \"Reclass1(!Value!)\", \"PYTHON3\", codeblock, \"SHORT\")\n",
    "# calculate Green field\n",
    "arcpy.management.CalculateField(\"GreatPlainsPerennialGrasslands.tif\", \"Green\", \"Reclass2(!Value!)\", \"PYTHON3\", codeblock, \"SHORT\")\n",
    "# calculate Blue field\n",
    "arcpy.management.CalculateField(\"GreatPlainsPerennialGrasslands.tif\", \"Blue\", \"Reclass3(!Value!)\", \"PYTHON3\", codeblock, \"SHORT\")"
   ]
  },
  {
   "cell_type": "code",
   "execution_count": null,
   "metadata": {},
   "outputs": [],
   "source": []
  }
 ],
 "metadata": {
  "kernelspec": {
   "display_name": "ArcGISPro",
   "language": "Python",
   "name": "python3"
  },
  "language_info": {
   "file_extension": ".py",
   "name": "python",
   "version": "3"
  }
 },
 "nbformat": 4,
 "nbformat_minor": 2
}
