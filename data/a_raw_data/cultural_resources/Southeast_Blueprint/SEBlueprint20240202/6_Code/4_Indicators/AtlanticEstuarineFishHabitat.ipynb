{
 "cells": [
  {
   "cell_type": "markdown",
   "metadata": {},
   "source": [
    "# Atlantic Estuarine Fish Habitat\n",
    "\n",
    "This indicator was created for the 2022 Base Blueprint. It was modified from the 2021 SA indicator by change the extent to cover a larger area. However, it was later decided to not use it in the full extent in zonation. I'm saving this copy so we can revisit the extent in 2023\n",
    "\n",
    "Created by Amy Keister, last run by Amy Keister 1 August, 2022. It tookk 12 minutes to run."
   ]
  },
  {
   "cell_type": "code",
   "execution_count": 20,
   "metadata": {},
   "outputs": [],
   "source": [
    "import os\n",
    "import arcpy"
   ]
  },
  {
   "cell_type": "code",
   "execution_count": 21,
   "metadata": {},
   "outputs": [],
   "source": [
    "import time\n",
    "start = time.time()"
   ]
  },
  {
   "cell_type": "code",
   "execution_count": 22,
   "metadata": {},
   "outputs": [],
   "source": [
    "# define spatial reference and workspaces\n",
    "sr= arcpy.SpatialReference(5070)\n",
    "#SourceWorkspace= \n",
    "OutWorkspace = r\"D:\\SE_Blueprint_2023\\5_Indicators_Tier2_UnClipped\\AtlanticEst\\AtlanticEstua.gdb\""
   ]
  },
  {
   "cell_type": "code",
   "execution_count": 23,
   "metadata": {},
   "outputs": [],
   "source": [
    "# define final indicator outputs\n",
    "# this version will be for Brendan and for zonaiton because it has the full raster extent of the entire SE Blueprint\n",
    "#OutMaxE = r\"D:\\SE_Blueprint_2023\\5_Indicators_Tier2_UnClipped\\AtlanticEst\\AtlanticEstuarineFishHabitatMaxE.tif\"\n",
    "# this version will be for the download package \n",
    "OutMinE = r\"D:\\SE_Blueprint_2023\\5_Indicators_Tier2_UnClipped\\AtlanticEst\\AtlanticEstuarineFishHabitat.tif\""
   ]
  },
  {
   "cell_type": "code",
   "execution_count": 32,
   "metadata": {},
   "outputs": [],
   "source": [
    "# define rasters used for cell size, extent, and snapping\n",
    "Rextent= r\"D:\\SE_Blueprint_2023\\2_FullExtent\\SEBlueprint2023ExtentVIPR6.tif\""
   ]
  },
  {
   "cell_type": "code",
   "execution_count": 25,
   "metadata": {},
   "outputs": [],
   "source": [
    "# define inputs\n",
    "sa= r\"F:\\GIS_DATA\\DecisionSupportTools\\ACFHP_FishHabitatConservationAreaMapping\\South Atlantic Estuarine Analysis\\data\\v101\\estuarine.gdb\\Estuarine_Units_1sqkm_Northern05082018\"\n",
    "ma= r\"F:\\GIS_DATA\\DecisionSupportTools\\ACFHP_FishHabitatConservationAreaMapping\\Mid-Atlantic Estuarine Analysis\\data\\v101\\finallayers.gdb\\hexagons_Mid_Atlantic\"\n",
    "fl= r\"F:\\GIS_DATA\\DecisionSupportTools\\ACFHP_FishHabitatConservationAreaMapping\\South Florida Estuarine Analysis\\data\\v101\\estuarine.gdb\\Estuarine_Units_1sqkm_Southern05082018\"\n",
    "#MarineRaster= r\"D:\\SE_Blueprint_2023\\2_MarineExtents\\Marine_Extent_v1.tif\"\n",
    "#base= r\"F:\\GIS_DATA\\SECAS\\SE_Blueprint_2022\\Southeast_Blueprint_2022_Data_Download\\SEBlueprint20221215\\Inputs\\BaseBlueprint\\1_ExtentLayers\\BaseBlueprintExtent2022.tif\"\n",
    "#SEextent= r\"F:\\GIS_DATA\\SECAS\\SE_Blueprint_2022\\Southeast_Blueprint_2022_Data_Download\\SEBlueprint20221215\\SE_Blueprint_2022.tif\""
   ]
  },
  {
   "cell_type": "markdown",
   "metadata": {},
   "source": [
    "## Start Analysis"
   ]
  },
  {
   "cell_type": "code",
   "execution_count": 26,
   "metadata": {},
   "outputs": [],
   "source": [
    "# Set the workspace where I want the output to go\n",
    "arcpy.env.workspace = OutWorkspace"
   ]
  },
  {
   "cell_type": "code",
   "execution_count": 28,
   "metadata": {},
   "outputs": [
    {
     "name": "stdout",
     "output_type": "stream",
     "text": [
      "D:\\SE_Blueprint_2023\\5_Indicators_Tier2_UnClipped\\AtlanticEst\\AtlanticEstua.gdb\n"
     ]
    }
   ],
   "source": [
    "print(arcpy.env.workspace)"
   ]
  },
  {
   "cell_type": "markdown",
   "metadata": {},
   "source": [
    "## Start Analysis"
   ]
  },
  {
   "cell_type": "code",
   "execution_count": 27,
   "metadata": {},
   "outputs": [],
   "source": [
    "# make a copy of the south atlantic layer for edits\n",
    "with arcpy.EnvManager(outputCoordinateSystem=sr):\n",
    "    arcpy.management.CopyFeatures(sa, \"sa\", '', None, None, None)"
   ]
  },
  {
   "cell_type": "code",
   "execution_count": 9,
   "metadata": {},
   "outputs": [],
   "source": [
    "# convert to raster\n",
    "with arcpy.EnvManager(outputCoordinateSystem=sr, snapRaster=Rextent):\n",
    "    arcpy.conversion.FeatureToRaster(in_features=\"sa\", field=\"FINALSCORE\", out_raster=\"saR\", cell_size=Rextent)"
   ]
  },
  {
   "cell_type": "code",
   "execution_count": 10,
   "metadata": {},
   "outputs": [],
   "source": [
    "# make a copy of the mid atlantic layer for edits\n",
    "with arcpy.EnvManager(outputCoordinateSystem=sr):\n",
    "    arcpy.management.CopyFeatures(ma, \"ma\", '', None, None, None)"
   ]
  },
  {
   "cell_type": "code",
   "execution_count": 11,
   "metadata": {},
   "outputs": [],
   "source": [
    "# convert to raster\n",
    "with arcpy.EnvManager(outputCoordinateSystem=sr, snapRaster=Rextent):\n",
    "    arcpy.conversion.FeatureToRaster(in_features=\"ma\", field=\"TotalPoints\", out_raster=\"maR\", cell_size=Rextent)"
   ]
  },
  {
   "cell_type": "code",
   "execution_count": 12,
   "metadata": {},
   "outputs": [],
   "source": [
    "# make a copy of the florida layer for edits\n",
    "with arcpy.EnvManager(outputCoordinateSystem=sr):\n",
    "    arcpy.management.CopyFeatures(fl, \"fl\", '', None, None, None)"
   ]
  },
  {
   "cell_type": "code",
   "execution_count": 13,
   "metadata": {},
   "outputs": [],
   "source": [
    "# convert to raster\n",
    "with arcpy.EnvManager(outputCoordinateSystem=sr, snapRaster=Rextent):\n",
    "    arcpy.conversion.FeatureToRaster(in_features=\"fl\", field=\"FINALSCORE\", out_raster=\"flR\", cell_size=Rextent)"
   ]
  },
  {
   "cell_type": "code",
   "execution_count": 18,
   "metadata": {},
   "outputs": [
    {
     "data": {
      "text/html": [
       "<div class='gpresult'><h2>Messages</h2><div id='messages' data-messages='[\"Start Time: Thursday, July 6, 2023 1:31:00 PM\",\"Reading Features...\",\"Cracking Features...\",\"Assembling Features...\",\"Succeeded at Thursday, July 6, 2023 1:31:04 PM (Elapsed Time: 4.33 seconds)\"]' data-show='true'><div id = 'default' /></div></div>"
      ],
      "text/plain": [
       "<Result 'D:\\\\SE_Blueprint_2023\\\\5_Indicators_Tier2_UnClipped\\\\AtlanticEst\\\\AtlanticEstua.gdb\\\\samaflR'>"
      ]
     },
     "execution_count": 18,
     "metadata": {},
     "output_type": "execute_result"
    }
   ],
   "source": [
    "# i'm getting an error with my cell statistics, it says invalid output extent\n",
    "# I'm testing to see if using this helps\n",
    "arcpy.analysis.Union([sa,ma,fl], \"samaflR\", \"ONLY_FID\", None, \"GAPS\")"
   ]
  },
  {
   "cell_type": "code",
   "execution_count": 20,
   "metadata": {},
   "outputs": [],
   "source": [
    "# mosaic to new raster is creating an output with bands of missing data switching to a new method to combine\n",
    "# use cell statistics to combine the raster\n",
    "with arcpy.EnvManager(outputCoordinateSystem=sr, extent=\"samaflR\", snapRaster=Rextent):\n",
    "    out_raster = arcpy.sa.CellStatistics(\"saR;maR;flR1\", \"MAXIMUM\", \"DATA\", \"SINGLE_BAND\"); out_raster.save(\"saRmaRflR\")"
   ]
  },
  {
   "cell_type": "code",
   "execution_count": 22,
   "metadata": {},
   "outputs": [],
   "source": [
    "# reclassify\n",
    "out_raster = arcpy.sa.Reclassify(\"saRmaRflR\", \"Value\", \"0 0;10 1;20 2;30 3;40 4;50 5;60 6;70 7;80 8\", \"DATA\"); out_raster.save(\"indicator\")"
   ]
  },
  {
   "cell_type": "markdown",
   "metadata": {},
   "source": [
    "### Make a mask layer\n",
    "\n",
    "Since we didn't make a layer depicting the full extent of the continenial Southast blueprint, I have to make that now"
   ]
  },
  {
   "cell_type": "code",
   "execution_count": 23,
   "metadata": {},
   "outputs": [],
   "source": [
    "# use cell statistics to combine the Marine raster and base blueprint extent\n",
    "# This will be used to remvoe deep marine areas outside the blueprint\n",
    "#with arcpy.EnvManager(outputCoordinateSystem=sr, extent=Rextent, snapRaster=Rextent, cellSize=Rextent):\n",
    "#    out_raster = arcpy.sa.CellStatistics([MarineRaster, base], \"MAXIMUM\", \"DATA\", \"SINGLE_BAND\"); out_raster.save(\"FullExtent\")"
   ]
  },
  {
   "cell_type": "markdown",
   "metadata": {},
   "source": [
    "### Finalize indiator\n",
    "\n",
    "do final steps for all indicators to add description fields, clip and export to SE extent, clip and export to SA extent"
   ]
  },
  {
   "cell_type": "code",
   "execution_count": 24,
   "metadata": {},
   "outputs": [],
   "source": [
    "# set code block for next step\n",
    "codeblock = \"\"\"\n",
    "def Reclass(value):\n",
    "    if value == 8:\n",
    "        return '8 = Final score of 80 (areas of excellent fish habitat)'\n",
    "    elif value == 7:\n",
    "        return '7 = Final score of 70 (areas of excellent fish habitat)' \n",
    "    elif value == 6:\n",
    "        return '6 = Final score of 60 (restoration opportunity areas)' \n",
    "    elif value == 5:\n",
    "        return '5 = Final score of 50 (restoration opportunity areas)'\n",
    "    elif value == 4:\n",
    "        return '4 = Final score of 40 (restoration opportunity areas)' \n",
    "    elif value == 3:\n",
    "        return '3 = Final score of 30 (restoration opportunity areas)' \n",
    "    elif value == 2:\n",
    "        return '2 = Final score of 20 (restoration opportunity areas)'\n",
    "    elif value == 1:\n",
    "        return '1 = Final score of 10 (degraded areas of opportunity)' \n",
    "    elif value == 0:\n",
    "        return '0 = Final score of 0 (degraded areas of opportunity)' \n",
    "\"\"\""
   ]
  },
  {
   "cell_type": "code",
   "execution_count": 25,
   "metadata": {},
   "outputs": [
    {
     "data": {
      "text/html": [
       "<div class='gpresult'><h2>Messages</h2><div id='messages' data-messages='[\"Start Time: Thursday, July 6, 2023 1:33:06 PM\",\"Adding descript to VAT_indicator...\",\"Succeeded at Thursday, July 6, 2023 1:33:06 PM (Elapsed Time: 0.07 seconds)\"]' data-show='true'><div id = 'default' /></div></div>"
      ],
      "text/plain": [
       "<Result 'D:\\\\SE_Blueprint_2023\\\\5_Indicators_Tier2_UnClipped\\\\AtlanticEst\\\\AtlanticEstua.gdb\\\\indicator'>"
      ]
     },
     "execution_count": 25,
     "metadata": {},
     "output_type": "execute_result"
    }
   ],
   "source": [
    "# add and calculate description field to hold indicator values\n",
    "arcpy.management.CalculateField(\"indicator\", \"descript\", \"Reclass(!value!)\", \"PYTHON3\", codeblock, \"TEXT\")"
   ]
  },
  {
   "cell_type": "code",
   "execution_count": 29,
   "metadata": {},
   "outputs": [],
   "source": [
    "# set code block for next step\n",
    "codeblock = \"\"\"\n",
    "def Reclass1(Value):\n",
    "    if Value == 8:\n",
    "        return 8\n",
    "    elif Value == 7:\n",
    "        return 8\n",
    "    elif Value == 6:\n",
    "        return 32\n",
    "    elif Value == 5:\n",
    "        return 61\n",
    "    elif Value == 4:\n",
    "        return 95\n",
    "    elif Value == 3:\n",
    "        return 132\n",
    "    elif Value == 2:\n",
    "        return 170\n",
    "    elif Value == 1:\n",
    "        return 200\n",
    "    elif Value == 0:\n",
    "        return 219\n",
    "    else:\n",
    "        return 0\n",
    "\n",
    "def Reclass2(Value):\n",
    "    if Value == 8:\n",
    "        return 64\n",
    "    elif Value == 7:\n",
    "        return 98\n",
    "    elif Value == 6:\n",
    "        return 129\n",
    "    elif Value == 5:\n",
    "        return 161\n",
    "    elif Value == 4:\n",
    "        return 188\n",
    "    elif Value == 3:\n",
    "        return 208\n",
    "    elif Value == 2:\n",
    "        return 222\n",
    "    elif Value == 1:\n",
    "        return 234\n",
    "    elif Value == 0:\n",
    "        return 241\n",
    "    else:\n",
    "        return 0\n",
    "\n",
    "def Reclass3(Value):\n",
    "    if Value == 8:\n",
    "        return 129\n",
    "    elif Value == 7:\n",
    "        return 165\n",
    "    elif Value == 6:\n",
    "        return 184\n",
    "    elif Value == 5:\n",
    "        return 201\n",
    "    elif Value == 4:\n",
    "        return 205\n",
    "    elif Value == 3:\n",
    "        return 194\n",
    "    elif Value == 2:\n",
    "        return 182\n",
    "    elif Value == 1:\n",
    "        return 195\n",
    "    elif Value == 0:\n",
    "        return 213\n",
    "    else:\n",
    "        return 0\n",
    "\"\"\""
   ]
  },
  {
   "cell_type": "code",
   "execution_count": 30,
   "metadata": {},
   "outputs": [
    {
     "data": {
      "text/html": [
       "<div class='gpresult'><h2>Messages</h2><div id='messages' data-messages='[\"Start Time: Friday, September 15, 2023 5:36:27 PM\",\"Succeeded at Friday, September 15, 2023 5:36:27 PM (Elapsed Time: 0.18 seconds)\"]' data-show='true'><div id = 'default' /></div></div>"
      ],
      "text/plain": [
       "<Result 'indicator'>"
      ]
     },
     "execution_count": 30,
     "metadata": {},
     "output_type": "execute_result"
    }
   ],
   "source": [
    "# calculate Red field\n",
    "arcpy.management.CalculateField(\"indicator\", \"Red\", \"Reclass1(!Value!)\", \"PYTHON3\", codeblock, \"SHORT\")\n",
    "# calculate Green field\n",
    "arcpy.management.CalculateField(\"indicator\", \"Green\", \"Reclass2(!Value!)\", \"PYTHON3\", codeblock, \"SHORT\")\n",
    "# calculate Blue field\n",
    "arcpy.management.CalculateField(\"indicator\", \"Blue\", \"Reclass3(!Value!)\", \"PYTHON3\", codeblock, \"SHORT\")"
   ]
  },
  {
   "cell_type": "code",
   "execution_count": 33,
   "metadata": {
    "scrolled": true
   },
   "outputs": [],
   "source": [
    "# make the version for the download package that is the smallest extent nodata bounding box that is possible with these data\n",
    "with arcpy.EnvManager(outputCoordinateSystem=sr, snapRaster=Rextent, cellSize=Rextent):\n",
    "    out_raster = arcpy.sa.ExtractByMask(\"indicator\", Rextent); out_raster.save(\"MinE\")"
   ]
  },
  {
   "cell_type": "code",
   "execution_count": 34,
   "metadata": {},
   "outputs": [],
   "source": [
    "# export as .tif\n",
    "with arcpy.EnvManager(outputCoordinateSystem=sr, snapRaster=Rextent, cellSize=Rextent):\n",
    "    arcpy.management.CopyRaster(\"MinE\", OutMinE, '', None, \"15\", \"NONE\", \"NONE\", \"4_BIT\", \"NONE\", \"NONE\", \"TIFF\", \"NONE\", \"CURRENT_SLICE\", \"NO_TRANSPOSE\")"
   ]
  },
  {
   "cell_type": "code",
   "execution_count": 30,
   "metadata": {
    "scrolled": true
   },
   "outputs": [],
   "source": [
    "# make a version for Brendan with full SE blueprint extent bounding box\n",
    "#with arcpy.EnvManager(outputCoordinateSystem=sr, extent=Rextent, snapRaster=Rextent, cellSize=Rextent):\n",
    "#    out_raster = arcpy.sa.ExtractByMask(\"indicator\", Rextent); out_raster.save(\"MaxE\")"
   ]
  },
  {
   "cell_type": "code",
   "execution_count": 31,
   "metadata": {},
   "outputs": [],
   "source": [
    "# export as .tif\n",
    "#with arcpy.EnvManager(outputCoordinateSystem=sr, extent=Rextent, snapRaster=Rextent, cellSize=Rextent):\n",
    "#    arcpy.management.CopyRaster(\"MaxE\", OutMaxE, '', None, \"15\", \"NONE\", \"NONE\", \"4_BIT\", \"NONE\", \"NONE\", \"TIFF\", \"NONE\", \"CURRENT_SLICE\", \"NO_TRANSPOSE\")"
   ]
  },
  {
   "cell_type": "code",
   "execution_count": 32,
   "metadata": {},
   "outputs": [
    {
     "name": "stdout",
     "output_type": "stream",
     "text": [
      "3004.669203519821\n"
     ]
    }
   ],
   "source": [
    "end = time.time()\n",
    "print(end - start)"
   ]
  },
  {
   "cell_type": "code",
   "execution_count": null,
   "metadata": {},
   "outputs": [],
   "source": []
  }
 ],
 "metadata": {
  "kernelspec": {
   "display_name": "ArcGISPro",
   "language": "Python",
   "name": "python3"
  },
  "language_info": {
   "file_extension": ".py",
   "name": "python",
   "version": "3"
  }
 },
 "nbformat": 4,
 "nbformat_minor": 2
}
