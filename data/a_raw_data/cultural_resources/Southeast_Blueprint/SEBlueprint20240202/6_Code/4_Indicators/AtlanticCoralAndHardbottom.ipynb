{
 "cells": [
  {
   "cell_type": "markdown",
   "metadata": {},
   "source": [
    "# Atlantic coral and hardbottom habitat\n",
    "\n",
    "This indicator was used in the Southeast Blueprint 2023.\n",
    "\n",
    "Code written by Rua Mordecai and modified by Amy Keister\n",
    "\n",
    "Last run by Amy Keister on 23 June 2023. It took 50 minutes run."
   ]
  },
  {
   "cell_type": "code",
   "execution_count": 34,
   "metadata": {},
   "outputs": [],
   "source": [
    "import os, string\n",
    "import arcpy"
   ]
  },
  {
   "cell_type": "code",
   "execution_count": 35,
   "metadata": {},
   "outputs": [],
   "source": [
    "import time\n",
    "start = time.time()"
   ]
  },
  {
   "cell_type": "code",
   "execution_count": 36,
   "metadata": {},
   "outputs": [],
   "source": [
    "# define spatial reference and workspaces\n",
    "sr= arcpy.SpatialReference(5070)\n",
    "#SourceWorkspace= \n",
    "OutWorkspace = r\"D:\\SE_Blueprint_2023\\4_Indicators\\AtlanticCoralAndHardbottomFull\\Working\""
   ]
  },
  {
   "cell_type": "code",
   "execution_count": 37,
   "metadata": {},
   "outputs": [],
   "source": [
    "# define final output name\n",
    "Out= r\"D:\\SE_Blueprint_2023\\4_Indicators\\AtlanticCoralAndHardbottomFull\\AtlanticCoralAndHardbottom.tif\""
   ]
  },
  {
   "cell_type": "code",
   "execution_count": 38,
   "metadata": {},
   "outputs": [],
   "source": [
    "# define raster used for cell size, extent, and snapping\n",
    "MarineRaster= r\"D:\\SE_Blueprint_2023\\2_MarineExtents\\Marine_Extent_v1.tif\""
   ]
  },
  {
   "cell_type": "code",
   "execution_count": 39,
   "metadata": {},
   "outputs": [],
   "source": [
    "# define inputs\n",
    "# modeled hardbottom probabililty\n",
    "shallowHardbottomData = r\"D:\\SE_Blueprint_2023\\4_Indicators\\AtlanticCoralAndHardbottom\\InputData\\SE_Hardbottom_Modeling_Datasets\\Hardbottom_Final_Logistic_Prediction.tif\"\n",
    "deepHardbottomData = r\"D:\\SE_Blueprint_2023\\4_Indicators\\AtlanticCoralAndHardbottom\\InputData\\SoutheastUS_PredictiveModeling_DeepSeaCorals_Hardbottom\\Model_Predictions\\Hardbottom_Median_Prediction.tif\"\n",
    "# shipwreck data\n",
    "wrecks = r\"D:\\SE_Blueprint_2023\\4_Indicators\\AtlanticCoralAndHardbottom\\InputData\\ENC_Wrecks\\ENC_Wrecks.shp\"\n",
    "# artificial reefs\n",
    "artificialReefs = r\"D:\\SE_Blueprint_2023\\4_Indicators\\AtlanticCoralAndHardbottom\\InputData\\Artificial_Reefs\\Artificial_Reefs.shp\"\n",
    "# NOAA coral observations\n",
    "NOAACoralObs = r\"D:\\SE_Blueprint_2023\\4_Indicators\\AtlanticCoralAndHardbottom\\InputData\\deep_sea_corals_6cb7_510e_0a83_clean.csv\"\n",
    "# SAMBA hardbottom layer\n",
    "Hardbottom = \"F:\\\\GIS_DATA\\\\Marine\\\\SABMA\\\\SABMA_Final_02122015_SeafloorCoastal\\\\Seafloor\\\\Data\\\\Seafloor.gdb\\\\Hardbottom\"\n",
    "# Atlantic subregion boundaries to remove data from outside the Atlantic\n",
    "AtlanticMarine= r\"D:\\SE_Blueprint_2023\\2_MarineExtents\\Marine_SA_v1.tif\"\n",
    "AtlanticMarineSHP= r\"D:\\SE_Blueprint_2023\\2_MarineExtents\\Marine_SA_v1.shp\"\n",
    "# landform data for the Blake Plateau\n",
    "BLandform= r\"F:\\GIS_DATA\\Marine\\BlakePlateauLandform_DerekSowers\\ForUSFWS-20230622T134752Z-002\\ForUSFWS\\Blake_Landforms.tif\"\n",
    "# Gulf subregion boundaries to remove data that overlaps the gulf \n",
    "#GOM= r\"D:\\SE_Blueprint_2023\\2_MarineExtents\\Marine_GoM_v1.tif\"\n",
    "# Base blueprint extent as another way to try to keep nearshore in the atlantic\n",
    "base= r\"F:\\GIS_DATA\\SECAS\\SE_Blueprint_2022\\Southeast_Blueprint_2022_Data_Download\\SEBlueprint20221215\\Inputs\\BaseBlueprint\\1_ExtentLayers\\BaseBlueprintExtent2022.tif\"\n",
    "# NLCD is used to remove land\n",
    "NLCD= r\"F:\\GIS_DATA\\LanduseLandcover\\NLCD\\NLCD_landcover_2019_release_all_files_20210604\\nlcd_2019_land_cover_l48_20210604\\nlcd_2019_land_cover_l48_20210604.img\""
   ]
  },
  {
   "cell_type": "code",
   "execution_count": 40,
   "metadata": {},
   "outputs": [],
   "source": [
    "# Sometimes arcpro is fussy about not overwriting things\n",
    "arcpy.env.overwriteOutput = True"
   ]
  },
  {
   "cell_type": "markdown",
   "metadata": {},
   "source": [
    "### Start analysis"
   ]
  },
  {
   "cell_type": "code",
   "execution_count": 41,
   "metadata": {},
   "outputs": [],
   "source": [
    "# Set the output workspace\n",
    "arcpy.env.workspace = OutWorkspace"
   ]
  },
  {
   "cell_type": "code",
   "execution_count": 42,
   "metadata": {},
   "outputs": [
    {
     "name": "stdout",
     "output_type": "stream",
     "text": [
      "D:\\SE_Blueprint_2023\\4_Indicators\\AtlanticCoralAndHardbottomFull\\Working\n"
     ]
    }
   ],
   "source": [
    "# print workspace to make sure I'm in the right spot\n",
    "print(arcpy.env.workspace)"
   ]
  },
  {
   "cell_type": "markdown",
   "metadata": {},
   "source": [
    "### start to make zeros that capture the inland extent of this indicator\n",
    "There will be someoverlap with the gulf hardbottom and we have decided that is okay right now"
   ]
  },
  {
   "cell_type": "code",
   "execution_count": 10,
   "metadata": {},
   "outputs": [],
   "source": [
    "# buffer atlantic marine shapefile by 100 km to try to retain nearshore hardbottom\n",
    "# 100 km was chosen by a quick visual exploration, this number might need to be tweaked\n",
    "with arcpy.EnvManager(outputCoordinateSystem=sr):\n",
    "    arcpy.analysis.Buffer(AtlanticMarineSHP, \"Marine_SA_v1_Buffer100km.shp\", \"100 Kilometers\", \"FULL\", \"ROUND\", \"NONE\", None, \"PLANAR\")"
   ]
  },
  {
   "cell_type": "code",
   "execution_count": 11,
   "metadata": {},
   "outputs": [
    {
     "data": {
      "text/html": [
       "<div class='gpresult'><h2>Messages</h2><div id='messages' data-messages='[\"Start Time: Friday, June 30, 2023 3:48:31 PM\",\"Adding raster to Marine_SA_v1_Buffer100km...\",\"Succeeded at Friday, June 30, 2023 3:48:31 PM (Elapsed Time: 0.03 seconds)\"]' data-show='true'><div id = 'default' /></div></div>"
      ],
      "text/plain": [
       "<Result 'D:\\\\SE_Blueprint_2023\\\\4_Indicators\\\\AtlanticCoralAndHardbottomFull\\\\Working\\\\Marine_SA_v1_Buffer100km.shp'>"
      ]
     },
     "execution_count": 11,
     "metadata": {},
     "output_type": "execute_result"
    }
   ],
   "source": [
    "# add field to convert to raster\n",
    "arcpy.management.CalculateField(\"Marine_SA_v1_Buffer100km.shp\", \"raster\", \"0\", \"PYTHON3\", '', \"SHORT\")"
   ]
  },
  {
   "cell_type": "code",
   "execution_count": 12,
   "metadata": {},
   "outputs": [],
   "source": [
    "# convert to 30m pixels \n",
    "#with arcpy.EnvManager(outputCoordinateSystem=sr, extent=MarineRaster, snapRaster=AtlanticMarine, cellSize=AtlanticMarine):\n",
    "#        arcpy.conversion.FeatureToRaster(in_features=\"Marine_SA_v1_Buffer100km.shp\", field=\"raster\", out_raster=\"SAMzero.tif\", cell_size=AtlanticMarine)"
   ]
  },
  {
   "cell_type": "markdown",
   "metadata": {},
   "source": [
    "### Prep Hardbottom Probability data"
   ]
  },
  {
   "cell_type": "code",
   "execution_count": 13,
   "metadata": {},
   "outputs": [],
   "source": [
    "# Reclassify shallow hardbottom into quantiles\n",
    "out_raster = arcpy.sa.Reclassify(shallowHardbottomData, \"Value\", \"0 0.023 1;0.023 0.083 2;0.083 0.206 3;0.206 0.349 4;0.349 0.847 5\", \"DATA\"); out_raster.save(\"shallowBinned.tif\")"
   ]
  },
  {
   "cell_type": "code",
   "execution_count": 14,
   "metadata": {},
   "outputs": [],
   "source": [
    "# Reclassify deep hardbottom into quantiles\n",
    "out_raster = arcpy.sa.Reclassify(deepHardbottomData, \"Value\", \"0 0.128 1;0.128 0.320 2;0.320 0.640 3;0.640 0.949 4;0.949 1 5\", \"DATA\"); out_raster.save(\"deepBinned.tif\")"
   ]
  },
  {
   "cell_type": "code",
   "execution_count": 15,
   "metadata": {},
   "outputs": [],
   "source": [
    "# Combine shallow and deep hardbottom, use newer deepHardbottom data where there's overlap, and snap and reproject for Blueprint\n",
    "with arcpy.EnvManager(outputCoordinateSystem=sr, extent=deepHardbottomData, snapRaster=MarineRaster, cellSize=MarineRaster):\n",
    "    out_raster = arcpy.sa.Con(arcpy.sa.IsNull(\"shallowBinned.tif\"),\"deepBinned.tif\",arcpy.sa.Con(arcpy.sa.IsNull(\"deepBinned.tif\"),\"shallowBinned.tif\",\"deepBinned.tif\")); out_raster.save(\"prob.tif\")"
   ]
  },
  {
   "cell_type": "markdown",
   "metadata": {},
   "source": [
    "### Make a buffer of Hardbottom Probability data and combine it with the Atlantic Marine Buffer"
   ]
  },
  {
   "cell_type": "code",
   "execution_count": 16,
   "metadata": {},
   "outputs": [],
   "source": [
    "# reclass all probabivalues to 0\n",
    "out_raster = arcpy.sa.Con(\"prob.tif\", 1, \"\", \"Value > 0\"); out_raster.save(\"prob0.tif\")"
   ]
  },
  {
   "cell_type": "code",
   "execution_count": 17,
   "metadata": {},
   "outputs": [
    {
     "data": {
      "text/html": [
       "<div class='gpresult'><h2>Messages</h2><div id='messages' data-messages='[\"Start Time: Friday, June 30, 2023 3:56:49 PM\",\"Succeeded at Friday, June 30, 2023 3:56:49 PM (Elapsed Time: 0.19 seconds)\"]' data-show='true'><div id = 'default' /></div></div>"
      ],
      "text/plain": [
       "<Result 'D:\\\\SE_Blueprint_2023\\\\4_Indicators\\\\AtlanticCoralAndHardbottomFull\\\\Working\\\\prob0vectorBuf100km.shp'>"
      ]
     },
     "execution_count": 17,
     "metadata": {},
     "output_type": "execute_result"
    }
   ],
   "source": [
    "# need to buffer the probability data by 100 km also\n",
    "arcpy.conversion.RasterToPolygon(\"prob0.tif\", \"prob0vector.shp\", \"NO_SIMPLIFY\", \"Value\", \"SINGLE_OUTER_PART\", None)\n",
    "arcpy.analysis.Buffer(\"prob0vector.shp\", \"prob0vectorBuf100km.shp\", \"100 Kilometers\", \"FULL\", \"ROUND\", \"NONE\", None, \"PLANAR\")"
   ]
  },
  {
   "cell_type": "code",
   "execution_count": 18,
   "metadata": {},
   "outputs": [
    {
     "data": {
      "text/html": [
       "<div class='gpresult'><h2>Messages</h2><div id='messages' data-messages='[\"Start Time: Friday, June 30, 2023 3:56:49 PM\",\"Reading Features...\",\"Cracking Features...\",\"Assembling Features...\",\"Succeeded at Friday, June 30, 2023 3:56:49 PM (Elapsed Time: 0.08 seconds)\"]' data-show='true'><div id = 'default' /></div></div>"
      ],
      "text/plain": [
       "<Result 'D:\\\\SE_Blueprint_2023\\\\4_Indicators\\\\AtlanticCoralAndHardbottomFull\\\\Working\\\\All_Buffer100km.shp'>"
      ]
     },
     "execution_count": 18,
     "metadata": {},
     "output_type": "execute_result"
    }
   ],
   "source": [
    "# combine the SA marine buffer with the buffer of the probability data\n",
    "arcpy.analysis.Union(\"Marine_SA_v1_Buffer100km.shp #;prob0vectorBuf100km.shp #\", \"All_Buffer100km.shp\", \"ALL\", None, \"NO_GAPS\")"
   ]
  },
  {
   "cell_type": "code",
   "execution_count": 19,
   "metadata": {},
   "outputs": [],
   "source": [
    "# convert buffer area to a raster\n",
    "with arcpy.EnvManager(outputCoordinateSystem=sr, extent=MarineRaster, snapRaster=AtlanticMarine, cellSize=AtlanticMarine):\n",
    "        arcpy.conversion.FeatureToRaster(in_features=\"All_Buffer100km.shp\", field=\"raster\", out_raster=\"AllZero.tif\", cell_size=AtlanticMarine)"
   ]
  },
  {
   "cell_type": "markdown",
   "metadata": {},
   "source": [
    "### Prep landform data for the Blake Plateau\n",
    "In this raster\n",
    "1=Flat\n",
    "2=Peak\n",
    "3=Ridge\n",
    "6=Slope\n",
    "9=Valley\n",
    "\n",
    "Areas that are peaks, ridges, and slopes are indicaors that there are coral"
   ]
  },
  {
   "cell_type": "code",
   "execution_count": 20,
   "metadata": {},
   "outputs": [],
   "source": [
    "# pull out peaks, ridges, and slopes from the landform data\n",
    "with arcpy.EnvManager(outputCoordinateSystem=sr, extent=\"AllZero.tif\", snapRaster=AtlanticMarine, cellSize=AtlanticMarine):\n",
    "    out_raster = arcpy.sa.Con(BLandform, \"6\", \"\", where_clause=\"Value IN(2,3,6)\"); out_raster.save(\"BLandform2.tif\")"
   ]
  },
  {
   "cell_type": "markdown",
   "metadata": {},
   "source": [
    "### Prep anthropogenic hardbottom"
   ]
  },
  {
   "cell_type": "code",
   "execution_count": 21,
   "metadata": {},
   "outputs": [],
   "source": [
    "# combine shipwrecks, artificial reefs, and oil and gas platforms\n",
    "with arcpy.EnvManager(outputCoordinateSystem=sr, extent=\"AllZero.tif\", snapRaster=AtlanticMarine, cellSize=AtlanticMarine):\n",
    "    arcpy.management.Merge([wrecks,artificialReefs],\"anthroHardbottom.shp\", \"\", \"NO_SOURCE_INFO\")"
   ]
  },
  {
   "cell_type": "code",
   "execution_count": 22,
   "metadata": {},
   "outputs": [
    {
     "data": {
      "text/html": [
       "<div class='gpresult'><h2>Messages</h2><div id='messages' data-messages='[\"Start Time: Friday, June 30, 2023 4:03:03 PM\",\"Succeeded at Friday, June 30, 2023 4:03:07 PM (Elapsed Time: 3.22 seconds)\"]' data-show='true'><div id = 'default' /></div></div>"
      ],
      "text/plain": [
       "<Result 'D:\\\\SE_Blueprint_2023\\\\4_Indicators\\\\AtlanticCoralAndHardbottomFull\\\\Working\\\\anthroHardbottomBuf.shp'>"
      ]
     },
     "execution_count": 22,
     "metadata": {},
     "output_type": "execute_result"
    }
   ],
   "source": [
    "# Buffer anthropogenic known features to use as separate class\n",
    "arcpy.analysis.Buffer(\"anthroHardbottom.shp\", \"anthroHardbottomBuf.shp\", \"150 Meters\", \"FULL\", \"ROUND\", \"NONE\", None, \"PLANAR\")"
   ]
  },
  {
   "cell_type": "code",
   "execution_count": 23,
   "metadata": {},
   "outputs": [
    {
     "data": {
      "text/html": [
       "<div class='gpresult'><h2>Messages</h2><div id='messages' data-messages='[\"Start Time: Friday, June 30, 2023 4:03:07 PM\",\"Adding raster to anthroHardbottomBuf...\",\"Succeeded at Friday, June 30, 2023 4:03:07 PM (Elapsed Time: 0.55 seconds)\"]' data-show='true'><div id = 'default' /></div></div>"
      ],
      "text/plain": [
       "<Result 'D:\\\\SE_Blueprint_2023\\\\4_Indicators\\\\AtlanticCoralAndHardbottomFull\\\\Working\\\\anthroHardbottomBuf.shp'>"
      ]
     },
     "execution_count": 23,
     "metadata": {},
     "output_type": "execute_result"
    }
   ],
   "source": [
    "# add field to convert to raster\n",
    "arcpy.management.CalculateField(\"anthroHardbottomBuf.shp\", \"raster\", \"7\", \"PYTHON3\", '', \"SHORT\")"
   ]
  },
  {
   "cell_type": "code",
   "execution_count": 24,
   "metadata": {},
   "outputs": [],
   "source": [
    "# convert to 30m pixels \n",
    "with arcpy.EnvManager(outputCoordinateSystem=sr, extent=\"AllZero.tif\", snapRaster=AtlanticMarine, cellSize=AtlanticMarine):\n",
    "        arcpy.conversion.FeatureToRaster(in_features=\"anthroHardbottomBuf.shp\", field=\"raster\", out_raster=\"anthro.tif\", cell_size=AtlanticMarine)"
   ]
  },
  {
   "cell_type": "code",
   "execution_count": 25,
   "metadata": {},
   "outputs": [],
   "source": [
    "# reclassify so that noData is 0 \n",
    "#out_raster = arcpy.sa.Reclassify(\"anthroHardBottomRaster.tif\", \"Value\", \"NODATA 0;100 6\", \"DATA\"); out_raster.save(\"anthroHardBottomRasterZ.tif\")"
   ]
  },
  {
   "cell_type": "markdown",
   "metadata": {},
   "source": [
    "### Prep NOAA observed coral"
   ]
  },
  {
   "cell_type": "code",
   "execution_count": 26,
   "metadata": {},
   "outputs": [],
   "source": [
    "# convert NOAA coral observation csv to shapefile\n",
    "with arcpy.EnvManager(outputCoordinateSystem=sr, extent=\"AllZero.tif\", snapRaster=AtlanticMarine, cellSize=AtlanticMarine):\n",
    "    arcpy.management.XYTableToPoint(NOAACoralObs, \"NOAAObs.shp\", \"longitude\", \"latitude\", None, \"GEOGCS['GCS_WGS_1984',DATUM['D_WGS_1984',SPHEROID['WGS_1984',6378137.0,298.257223563]],PRIMEM['Greenwich',0.0],UNIT['Degree',0.0174532925199433]];-400 -400 1000000000;-100000 10000;-100000 10000;8.98315284119521E-09;0.001;0.001;IsHighPrecision\")"
   ]
  },
  {
   "cell_type": "code",
   "execution_count": 27,
   "metadata": {},
   "outputs": [],
   "source": [
    "# select just priority hard corals from observation. These are based on previous Atlantic work with these data\n",
    "out_raster = arcpy.management.SelectLayerByAttribute(\"NOAAObs.shp\", \"NEW_SELECTION\", \"Vernacular = 'stony coral (branching)' Or Vernacular = 'stony coral (cup coral)' Or Vernacular = 'stony coral (unspecified)' Or Vernacular = 'black coral' Or Vernacular = 'gorgonian coral'\", None)"
   ]
  },
  {
   "cell_type": "code",
   "execution_count": 28,
   "metadata": {},
   "outputs": [],
   "source": [
    "# Export the shapefile with the species removed\n",
    "out_raster2 = arcpy.conversion.FeatureClassToFeatureClass(out_raster, OutWorkspace, \"NOAAObsSelect.shp\")"
   ]
  },
  {
   "cell_type": "code",
   "execution_count": 29,
   "metadata": {},
   "outputs": [
    {
     "data": {
      "text/html": [
       "<div class='gpresult'><h2>Messages</h2><div id='messages' data-messages='[\"Start Time: Friday, June 30, 2023 4:06:28 PM\",\"Succeeded at Friday, June 30, 2023 4:06:39 PM (Elapsed Time: 11.07 seconds)\"]' data-show='true'><div id = 'default' /></div></div>"
      ],
      "text/plain": [
       "<Result 'D:\\\\SE_Blueprint_2023\\\\4_Indicators\\\\AtlanticCoralAndHardbottomFull\\\\Working\\\\NOAAObsSelectBuf.shp'>"
      ]
     },
     "execution_count": 29,
     "metadata": {},
     "output_type": "execute_result"
    }
   ],
   "source": [
    "# Buffer corals.\n",
    "arcpy.analysis.Buffer(\"NOAAObsSelect.shp\", \"NOAAObsSelectBuf.shp\", \"150 Meters\", \"FULL\", \"ROUND\", \"NONE\", None, \"PLANAR\")"
   ]
  },
  {
   "cell_type": "code",
   "execution_count": 30,
   "metadata": {},
   "outputs": [
    {
     "data": {
      "text/html": [
       "<div class='gpresult'><h2>Messages</h2><div id='messages' data-messages='[\"Start Time: Friday, June 30, 2023 4:06:40 PM\",\"Adding raster to NOAAObsSelectBuf...\",\"Succeeded at Friday, June 30, 2023 4:06:41 PM (Elapsed Time: 1.57 seconds)\"]' data-show='true'><div id = 'default' /></div></div>"
      ],
      "text/plain": [
       "<Result 'D:\\\\SE_Blueprint_2023\\\\4_Indicators\\\\AtlanticCoralAndHardbottomFull\\\\Working\\\\NOAAObsSelectBuf.shp'>"
      ]
     },
     "execution_count": 30,
     "metadata": {},
     "output_type": "execute_result"
    }
   ],
   "source": [
    "# add field to convert to raster\n",
    "arcpy.management.CalculateField(\"NOAAObsSelectBuf.shp\", \"raster\", \"8\", \"PYTHON3\", '', \"SHORT\")"
   ]
  },
  {
   "cell_type": "code",
   "execution_count": 31,
   "metadata": {},
   "outputs": [],
   "source": [
    "# convert to 30m pixels \n",
    "with arcpy.EnvManager(outputCoordinateSystem=sr, extent=\"AllZero.tif\", snapRaster=AtlanticMarine, cellSize=AtlanticMarine):\n",
    "        arcpy.conversion.FeatureToRaster(in_features=\"NOAAObsSelectBuf.shp\", field=\"raster\", out_raster=\"NOAAObsR.tif\", cell_size=AtlanticMarine)"
   ]
  },
  {
   "cell_type": "markdown",
   "metadata": {},
   "source": [
    "### prep SABMA Observed data"
   ]
  },
  {
   "cell_type": "code",
   "execution_count": 32,
   "metadata": {},
   "outputs": [],
   "source": [
    "# select, convert to raster, reclassify\n",
    "with arcpy.EnvManager(outputCoordinateSystem=sr, extent=\"AllZero.tif\", snapRaster=AtlanticMarine, cellSize=AtlanticMarine):\n",
    "    arcpy.analysis.Select(Hardbottom, \"sabmaObs.shp\", \"TEXT_DESC = '01. mapped hard bottom area'\")\n",
    "    arcpy.conversion.FeatureToRaster(\"sabmaObs.shp\", \"TEXT_DESC\", \"sabmaObsR.tif\", cell_size=AtlanticMarine)\n",
    "    out_raster = arcpy.sa.Reclassify(\"sabmaObsR.tif\", \"VALUE\", \"1 7\", \"DATA\"); out_raster.save(\"sabmaObsR1.tif\")"
   ]
  },
  {
   "cell_type": "markdown",
   "metadata": {},
   "source": [
    "### combine data sources"
   ]
  },
  {
   "cell_type": "code",
   "execution_count": 33,
   "metadata": {},
   "outputs": [],
   "source": [
    "# use cell statistics to combine all the data\n",
    "out_raster = arcpy.sa.CellStatistics(\"prob.tif;anthro.tif;BLandform2.tif;NOAAObsR.tif;sabmaObsR1.tif;AllZero.tif\", \"MAXIMUM\", \"DATA\", \"SINGLE_BAND\"); out_raster.save(\"ind.tif\")"
   ]
  },
  {
   "cell_type": "markdown",
   "metadata": {},
   "source": [
    "### use NLCD to remove land from indicator"
   ]
  },
  {
   "cell_type": "code",
   "execution_count": 34,
   "metadata": {},
   "outputs": [],
   "source": [
    "# use NLCD to remove land\n",
    "with arcpy.EnvManager(outputCoordinateSystem=sr, extent=\"AllZero.tif\", snapRaster=AtlanticMarine, cellSize=AtlanticMarine):\n",
    "    out_raster = arcpy.sa.Con(NLCD, \"ind.tif\", 0, \"Value IN (0, 11)\"); out_raster.save(\"indic.tif\")  "
   ]
  },
  {
   "cell_type": "markdown",
   "metadata": {},
   "source": [
    "### Finalize indicator\n",
    "\n"
   ]
  },
  {
   "cell_type": "code",
   "execution_count": 35,
   "metadata": {},
   "outputs": [],
   "source": [
    "# export nonclipped version of indicator\n",
    "#with arcpy.EnvManager(outputCoordinateSystem=sr, extent=MarineRaster, snapRaster=MarineRaster, cellSize=MarineRaster):\n",
    "#    arcpy.management.CopyRaster(\"coralClasses.tif\", IndicatorFileName, '', None, \"255\", \"NONE\", \"NONE\", \"8_BIT_UNSIGNED\", \"NONE\", \"NONE\", \"TIFF\", \"NONE\", \"CURRENT_SLICE\", \"NO_TRANSPOSE\")"
   ]
  },
  {
   "cell_type": "code",
   "execution_count": 36,
   "metadata": {},
   "outputs": [],
   "source": [
    "# use cell statistics to combine the Marine raster and base blueprint extent\n",
    "# This will be used to remvoe deep marine areas outside the blueprint\n",
    "with arcpy.EnvManager(outputCoordinateSystem=sr, extent=MarineRaster, snapRaster=MarineRaster, cellSize=MarineRaster):\n",
    "    out_raster = arcpy.sa.CellStatistics([MarineRaster, base], \"MAXIMUM\", \"DATA\", \"SINGLE_BAND\"); out_raster.save(\"FullExtent.tif\")"
   ]
  },
  {
   "cell_type": "code",
   "execution_count": 37,
   "metadata": {},
   "outputs": [],
   "source": [
    "# remove all areas outside the 100km buffer we made above\n",
    "out_raster = arcpy.sa.ExtractByMask(\"indic.tif\", \"AllZero.tif\"); out_raster.save(\"indica.tif\")"
   ]
  },
  {
   "cell_type": "code",
   "execution_count": 43,
   "metadata": {},
   "outputs": [],
   "source": [
    "# clip to full extent of base, atlantic, and gulf combined. Also make extent the same as the marine raster so it will work in zonation\n",
    "with arcpy.EnvManager(outputCoordinateSystem=sr, extent=MarineRaster, snapRaster=MarineRaster, cellSize=MarineRaster):\n",
    "    out_raster = arcpy.sa.ExtractByMask(\"indica.tif\", \"FullExtent.tif\"); out_raster.save(\"indicat.tif\")"
   ]
  },
  {
   "cell_type": "code",
   "execution_count": 44,
   "metadata": {},
   "outputs": [],
   "source": [
    "#export as 4 bit raster\n",
    "with arcpy.EnvManager(outputCoordinateSystem=sr, snapRaster=MarineRaster, cellSize=MarineRaster):\n",
    "    arcpy.management.CopyRaster(\"indicat.tif\", Out, '', None, \"15\", \"NONE\", \"NONE\", \"4_BIT\", \"NONE\", \"NONE\", \"TIFF\", \"NONE\", \"CURRENT_SLICE\", \"NO_TRANSPOSE\")"
   ]
  },
  {
   "cell_type": "code",
   "execution_count": 45,
   "metadata": {},
   "outputs": [],
   "source": [
    "# set code block for next step\n",
    "codeblock = \"\"\"\n",
    "def Reclass(value):  \n",
    "    if value == 8:\n",
    "        return '8 = Confirmed coral'\n",
    "    elif value == 7:\n",
    "        return '7 = Confirmed natural or human-created hardbottom (shipwrecks, artificial reefs)'\n",
    "    elif value == 6:\n",
    "        return '6 = Predicted cold water coral mounds (Blake Plateau)'\n",
    "    elif value == 5:\n",
    "        return '5 = Highest probability of hardbottom (>80th percentile)'\n",
    "    elif value == 4:\n",
    "        return '4 = High probability of hardbottom(>60th-80th percentile)'\n",
    "    elif value == 3:\n",
    "        return '3 = Medium probability of hardbottom (>40th-60th percentile)'\n",
    "    elif value == 2:\n",
    "        return '2 = Low probability of hardbottom (>20th-40th percentile)'\n",
    "    elif value == 1:\n",
    "        return '1 = Lowest probability of hardbottom (≤20th percentile)'    \n",
    "    elif value == 0:\n",
    "        return '0 = Not identified as hardbottom'      \n",
    "\"\"\""
   ]
  },
  {
   "cell_type": "code",
   "execution_count": 46,
   "metadata": {},
   "outputs": [
    {
     "data": {
      "text/html": [
       "<div class='gpresult'><h2>Messages</h2><div id='messages' data-messages='[\"Start Time: Saturday, September 16, 2023 12:20:22 AM\",\"Adding descript to AtlanticCoralAndHardbottom.tif.vat...\",\"Succeeded at Saturday, September 16, 2023 12:20:22 AM (Elapsed Time: 0.13 seconds)\"]' data-show='true'><div id = 'default' /></div></div>"
      ],
      "text/plain": [
       "<Result 'D:\\\\SE_Blueprint_2023\\\\4_Indicators\\\\AtlanticCoralAndHardbottomFull\\\\AtlanticCoralAndHardbottom.tif'>"
      ]
     },
     "execution_count": 46,
     "metadata": {},
     "output_type": "execute_result"
    }
   ],
   "source": [
    "# add and calculate description field to hold indicator values\n",
    "arcpy.management.CalculateField(Out, \"descript\", \"Reclass(!value!)\", \"PYTHON3\", codeblock, \"TEXT\")"
   ]
  },
  {
   "cell_type": "code",
   "execution_count": 47,
   "metadata": {},
   "outputs": [],
   "source": [
    "# set code block for next step\n",
    "codeblock = \"\"\"\n",
    "def Reclass1(Value):\n",
    "\tif Value == 8:\n",
    "\t\treturn 0\n",
    "\tif Value == 7:\n",
    "\t\treturn 23\n",
    "\tif Value == 6:\n",
    "\t\treturn 58\n",
    "\tif Value == 5:\n",
    "\t\treturn 132\n",
    "\tif Value == 4:\n",
    "\t\treturn 195\n",
    "\tif Value == 3:\n",
    "\t\treturn 244\n",
    "\tif Value == 2:\n",
    "\t\treturn 255\n",
    "\tif Value == 1:\n",
    "\t\treturn 255\n",
    "\telse:\n",
    "\t\treturn 255\n",
    "\t\t\n",
    "def Reclass2(Value):\n",
    "\tif Value == 8:\n",
    "\t\treturn 96\n",
    "\tif Value == 7:\n",
    "\t\treturn 118\n",
    "\tif Value == 6:\n",
    "\t\treturn 133\n",
    "\tif Value == 5:\n",
    "\t\treturn 138\n",
    "\tif Value == 4:\n",
    "\t\treturn 140\n",
    "\tif Value == 3:\n",
    "\t\treturn 156\n",
    "\tif Value == 2:\n",
    "\t\treturn 178\n",
    "\tif Value == 1:\n",
    "\t\treturn 202\n",
    "\telse:\n",
    "\t\treturn 255\n",
    "\t\t\n",
    "def Reclass3(Value):\n",
    "\tif Value == 8:\n",
    "\t\treturn 166\n",
    "\tif Value == 7:\n",
    "\t\treturn 187\n",
    "\tif Value == 6:\n",
    "\t\treturn 196\n",
    "\tif Value == 5:\n",
    "\t\treturn 191\n",
    "\tif Value == 4:\n",
    "\t\treturn 167\n",
    "\tif Value == 3:\n",
    "\t\treturn 145\n",
    "\tif Value == 2:\n",
    "\t\treturn 163\n",
    "\tif Value == 1:\n",
    "\t\treturn 191\n",
    "\telse:\n",
    "\t\treturn 255\n",
    "\"\"\""
   ]
  },
  {
   "cell_type": "code",
   "execution_count": 48,
   "metadata": {},
   "outputs": [
    {
     "data": {
      "text/html": [
       "<div class='gpresult'><h2>Messages</h2><div id='messages' data-messages='[\"Start Time: Saturday, September 16, 2023 12:20:23 AM\",\"Adding Blue to AtlanticCoralAndHardbottom.tif.vat...\",\"Succeeded at Saturday, September 16, 2023 12:20:23 AM (Elapsed Time: 0.13 seconds)\"]' data-show='true'><div id = 'default' /></div></div>"
      ],
      "text/plain": [
       "<Result 'D:\\\\SE_Blueprint_2023\\\\4_Indicators\\\\AtlanticCoralAndHardbottomFull\\\\AtlanticCoralAndHardbottom.tif'>"
      ]
     },
     "execution_count": 48,
     "metadata": {},
     "output_type": "execute_result"
    }
   ],
   "source": [
    "# calculate Red field\n",
    "arcpy.management.CalculateField(Out, \"Red\", \"Reclass1(!Value!)\", \"PYTHON3\", codeblock, \"SHORT\")\n",
    "# calculate Green field\n",
    "arcpy.management.CalculateField(Out, \"Green\", \"Reclass2(!Value!)\", \"PYTHON3\", codeblock, \"SHORT\")\n",
    "# calculate Blue field\n",
    "arcpy.management.CalculateField(Out, \"Blue\", \"Reclass3(!Value!)\", \"PYTHON3\", codeblock, \"SHORT\")"
   ]
  },
  {
   "cell_type": "code",
   "execution_count": 43,
   "metadata": {},
   "outputs": [
    {
     "name": "stdout",
     "output_type": "stream",
     "text": [
      "2937.105748653412\n"
     ]
    }
   ],
   "source": [
    "end = time.time()\n",
    "print(end - start)"
   ]
  },
  {
   "cell_type": "code",
   "execution_count": null,
   "metadata": {},
   "outputs": [],
   "source": []
  }
 ],
 "metadata": {
  "kernelspec": {
   "display_name": "ArcGISPro",
   "language": "Python",
   "name": "python3"
  },
  "language_info": {
   "file_extension": ".py",
   "name": "python",
   "version": "3"
  }
 },
 "nbformat": 4,
 "nbformat_minor": 2
}
