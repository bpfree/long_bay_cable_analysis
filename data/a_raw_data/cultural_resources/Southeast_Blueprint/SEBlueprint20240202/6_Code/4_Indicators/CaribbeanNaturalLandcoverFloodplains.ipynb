{
 "cells": [
  {
   "cell_type": "markdown",
   "metadata": {},
   "source": [
    "# Caribbean Natural Landcover in Floodplains\n",
    "\n",
    "This is an indicator for the 2023 base blueprint.\n",
    "\n",
    "Created by Amy Keister, last run by Amy Keister 15 Feb 2023. It took 4 minutes to run."
   ]
  },
  {
   "cell_type": "code",
   "execution_count": 78,
   "metadata": {},
   "outputs": [],
   "source": [
    "import os\n",
    "import arcpy"
   ]
  },
  {
   "cell_type": "code",
   "execution_count": 79,
   "metadata": {},
   "outputs": [],
   "source": [
    "import time\n",
    "start = time.time()"
   ]
  },
  {
   "cell_type": "code",
   "execution_count": 80,
   "metadata": {},
   "outputs": [],
   "source": [
    "# define spatial reference and workspaces\n",
    "sr= arcpy.SpatialReference(5070)\n",
    "#SourceWorkspace= \n",
    "OutWorkspace = r\"D:\\SE_Blueprint_2023\\4_Indicators\\CaribbeanNat\\CaribbeanNatu.gdb\""
   ]
  },
  {
   "cell_type": "code",
   "execution_count": 81,
   "metadata": {},
   "outputs": [],
   "source": [
    "# define final indicator outputs\n",
    "Out = r\"D:\\SE_Blueprint_2023\\4_Indicators\\CaribbeanNat\\CaribbeanNaturalLandcoverInFloodplains.tif\""
   ]
  },
  {
   "cell_type": "code",
   "execution_count": 82,
   "metadata": {},
   "outputs": [],
   "source": [
    "# define rasters used for cell size, extent, and snapping\n",
    "Rextent= r\"D:\\SE_Blueprint_2023\\1_VIPR_Extent\\VIPR_Extent_v6.tif\""
   ]
  },
  {
   "cell_type": "code",
   "execution_count": 83,
   "metadata": {},
   "outputs": [],
   "source": [
    "# define inputs\n",
    "catch= r\"F:\\GIS_DATA\\WaterResources\\NHD\\NHDPlus_H_National_Release_1_GDB\\NHDPlus_H_National_Release_1_GDB.gdb\\NHDPlusCatchment\"\n",
    "lulc= r\"F:\\GIS_DATA\\LanduseLandcover\\Landfire\\LF2020_Puerto_Rico_Virgin_Islands_220_IA\\LF2020_PRVI_220_IA\\LF2020_EVT_220_PRVI\\Tif\\LV20_EVT_220.tif\"\n",
    "FP = r\"F:\\GIS_DATA\\WaterResources\\VIPR_FEMA_FLOODPLAIN\\PRVI_Floodplain_5070.shp\"\n",
    "flow= r\"F:\\GIS_DATA\\WaterResources\\NHD\\NHDPlus_H_National_Release_1_GDB\\NHDPlus_H_National_Release_1_GDB.gdb\\NetworkNHDFlowline\"\n",
    "\n",
    "# there is a large missing catchment on the west coast of PR. I made this to fill it in\n",
    "missing= r\"F:\\GIS_DATA\\WaterResources\\NHD\\NHDPlus_H_National_Release_1_GDB\\MissingCatchPR.shp\""
   ]
  },
  {
   "cell_type": "markdown",
   "metadata": {},
   "source": [
    "### Start Analysis"
   ]
  },
  {
   "cell_type": "code",
   "execution_count": 84,
   "metadata": {},
   "outputs": [],
   "source": [
    "# Set the workspace where I want the output to go\n",
    "arcpy.env.workspace = OutWorkspace"
   ]
  },
  {
   "cell_type": "code",
   "execution_count": 85,
   "metadata": {},
   "outputs": [
    {
     "name": "stdout",
     "output_type": "stream",
     "text": [
      "D:\\SE_Blueprint_2023\\4_Indicators\\CaribbeanNat\\CaribbeanNatu.gdb\n"
     ]
    }
   ],
   "source": [
    "print(arcpy.env.workspace)"
   ]
  },
  {
   "cell_type": "markdown",
   "metadata": {},
   "source": [
    "### Wrangle Floodplain"
   ]
  },
  {
   "cell_type": "code",
   "execution_count": 9,
   "metadata": {},
   "outputs": [
    {
     "data": {
      "text/html": [
       "<div class='gpresult'><h2>Messages</h2><div id='messages' data-messages='[\"Start Time: Friday, July 14, 2023 1:50:19 PM\",\"Succeeded at Friday, July 14, 2023 1:50:20 PM (Elapsed Time: 0.47 seconds)\"]' data-show='true'><div id = 'default' /></div></div>"
      ],
      "text/plain": [
       "<Result 'D:\\\\SE_Blueprint_2023\\\\4_Indicators\\\\CaribbeanNat\\\\CaribbeanNatu.gdb\\\\FP'>"
      ]
     },
     "execution_count": 9,
     "metadata": {},
     "output_type": "execute_result"
    }
   ],
   "source": [
    "# make a copy of the flooplain vector\n",
    "arcpy.management.CopyFeatures(FP, \"FP\", '', None, None, None)"
   ]
  },
  {
   "cell_type": "code",
   "execution_count": 10,
   "metadata": {},
   "outputs": [
    {
     "data": {
      "text/html": [
       "<div class='gpresult'><h2>Messages</h2><div id='messages' data-messages='[\"Start Time: Friday, July 14, 2023 1:50:20 PM\",\"Adding raster to FP...\",\"Succeeded at Friday, July 14, 2023 1:50:20 PM (Elapsed Time: 0.06 seconds)\"]' data-show='true'><div id = 'default' /></div></div>"
      ],
      "text/plain": [
       "<Result 'D:\\\\SE_Blueprint_2023\\\\4_Indicators\\\\CaribbeanNat\\\\CaribbeanNatu.gdb\\\\FP'>"
      ]
     },
     "execution_count": 10,
     "metadata": {},
     "output_type": "execute_result"
    }
   ],
   "source": [
    "# add field to floodplain to prepare to convert to raster\n",
    "arcpy.management.CalculateField(\"FP\", \"raster\", \"1\", \"PYTHON3\", '', \"TEXT\", \"NO_ENFORCE_DOMAINS\")"
   ]
  },
  {
   "cell_type": "code",
   "execution_count": 11,
   "metadata": {},
   "outputs": [],
   "source": [
    "# convert floodplain to raster\n",
    "with arcpy.EnvManager(outputCoordinateSystem=sr, extent=Rextent, snapRaster=Rextent, cellSize=Rextent):\n",
    "    arcpy.conversion.PolygonToRaster(\"FP\", \"raster\", \"FPr\", \"CELL_CENTER\", \"NONE\", Rextent, \"BUILD\")"
   ]
  },
  {
   "cell_type": "markdown",
   "metadata": {},
   "source": [
    "### Explore adding in buffered flow lines"
   ]
  },
  {
   "cell_type": "code",
   "execution_count": 12,
   "metadata": {},
   "outputs": [],
   "source": [
    "# make a copy of the flowlines in the study area\n",
    "with arcpy.EnvManager(outputCoordinateSystem=sr, extent=Rextent):\n",
    "    arcpy.management.CopyFeatures(flow, \"flow\", '', None, None, None)"
   ]
  },
  {
   "cell_type": "code",
   "execution_count": 13,
   "metadata": {},
   "outputs": [
    {
     "data": {
      "text/html": [
       "<div class='gpresult'><h2>Messages</h2><div id='messages' data-messages='[\"Start Time: Friday, July 14, 2023 1:53:23 PM\",\"Succeeded at Friday, July 14, 2023 1:53:24 PM (Elapsed Time: 0.52 seconds)\"]' data-show='true'><div id = 'default' /></div></div>"
      ],
      "text/plain": [
       "<Result 'D:\\\\SE_Blueprint_2023\\\\4_Indicators\\\\CaribbeanNat\\\\CaribbeanNatu.gdb\\\\RS'>"
      ]
     },
     "execution_count": 13,
     "metadata": {},
     "output_type": "execute_result"
    }
   ],
   "source": [
    "# extract the stream/river lines\n",
    "# need to check with Kat to see which lines she uses\n",
    "arcpy.analysis.Select(\"flow\", \"RS\", \"ftype IN (460, 558)\")"
   ]
  },
  {
   "cell_type": "code",
   "execution_count": 14,
   "metadata": {},
   "outputs": [],
   "source": [
    "# buffer\n",
    "# need to check with Kat to see how large of a buffer she uses\n",
    "#arcpy.analysis.Buffer(\"RS\", \"RS30mBuff\", \"30 Meters\", \"FULL\", \"ROUND\", \"NONE\", None, \"PLANAR\")"
   ]
  },
  {
   "cell_type": "code",
   "execution_count": 15,
   "metadata": {},
   "outputs": [
    {
     "data": {
      "text/html": [
       "<div class='gpresult'><h2>Messages</h2><div id='messages' data-messages='[\"Start Time: Friday, July 14, 2023 1:53:24 PM\",\"Adding raster to RS...\",\"Succeeded at Friday, July 14, 2023 1:53:24 PM (Elapsed Time: 0.34 seconds)\"]' data-show='true'><div id = 'default' /></div></div>"
      ],
      "text/plain": [
       "<Result 'D:\\\\SE_Blueprint_2023\\\\4_Indicators\\\\CaribbeanNat\\\\CaribbeanNatu.gdb\\\\RS'>"
      ]
     },
     "execution_count": 15,
     "metadata": {},
     "output_type": "execute_result"
    }
   ],
   "source": [
    "# add field to prepare to convert to raster\n",
    "arcpy.management.CalculateField(\"RS\", \"raster\", \"1\", \"PYTHON3\", '', \"TEXT\", \"NO_ENFORCE_DOMAINS\")"
   ]
  },
  {
   "cell_type": "code",
   "execution_count": 16,
   "metadata": {},
   "outputs": [],
   "source": [
    "# convert to raster\n",
    "with arcpy.EnvManager(outputCoordinateSystem=sr, extent=Rextent, snapRaster=Rextent, cellSize=Rextent):\n",
    "    arcpy.conversion.FeatureToRaster(\"RS\", \"raster\", \"RSr\", 30)"
   ]
  },
  {
   "cell_type": "code",
   "execution_count": 17,
   "metadata": {},
   "outputs": [],
   "source": [
    "# use and expand to \"buffer\" the streams by 1 cell, this should create total stream width of ~90 meters\n",
    "out_raster = arcpy.sa.Expand(\"RSr\", 1, [1], \"\"); out_raster.save(\"RSrExpand1\")"
   ]
  },
  {
   "cell_type": "markdown",
   "metadata": {},
   "source": [
    "### Combine floodplains and buffered flow lines"
   ]
  },
  {
   "cell_type": "code",
   "execution_count": 18,
   "metadata": {},
   "outputs": [],
   "source": [
    "# mosaic the floodplain and buffered rasters\n",
    "with arcpy.EnvManager(outputCoordinateSystem=sr, extent=Rextent, snapRaster=Rextent, cellSize=Rextent):\n",
    "    arcpy.management.MosaicToNewRaster(\"FPr;RSrExpand1\", OutWorkspace, \"FPflow\", None, \"8_BIT_UNSIGNED\", None, 1, \"MAXIMUM\", \"FIRST\")"
   ]
  },
  {
   "cell_type": "code",
   "execution_count": null,
   "metadata": {},
   "outputs": [],
   "source": []
  },
  {
   "cell_type": "markdown",
   "metadata": {},
   "source": [
    "### Clip to floodplain and buffered flow lines"
   ]
  },
  {
   "cell_type": "code",
   "execution_count": 19,
   "metadata": {},
   "outputs": [],
   "source": [
    "# Limit landcover to the floodplain\n",
    "with arcpy.EnvManager(outputCoordinateSystem=sr, extent=Rextent, snapRaster=Rextent, cellSize=Rextent):\n",
    "    out_raster = arcpy.sa.Con(\"FPflow\", lulc, '',\"Value = 1\"); out_raster.save(\"lulcFP\")"
   ]
  },
  {
   "cell_type": "code",
   "execution_count": 20,
   "metadata": {},
   "outputs": [],
   "source": [
    "# reclassify if using NLCD\n",
    "#out_raster = arcpy.sa.Reclassify(\"nlcdFP\", \"VALUE\", \"11 1;21 0;22 0;23 0;24 0;31 1;41 1;42 1;43 1;52 1;71 1;81 0;82 0;90 1;95 1\", \"DATA\"); out_raster.save(\"lulcFPnat\")"
   ]
  },
  {
   "cell_type": "code",
   "execution_count": 21,
   "metadata": {},
   "outputs": [],
   "source": [
    "# Reclassify Landfire similarly to how we used NLCD to determine \"natural\"\n",
    "\n",
    "# check with Kat and indicator team to see if they like this way to divide natural from not natural\n",
    "\n",
    "out_raster = arcpy.sa.Con(\"lulcFP\", 1, 0, \"Value NOT IN (7295, 7296, 7297, 7298, 7299, 7300, 7754, 7755, 7838)\"); out_raster.save(\"lulcFPnat\")"
   ]
  },
  {
   "cell_type": "markdown",
   "metadata": {},
   "source": [
    "### zonal statistics"
   ]
  },
  {
   "cell_type": "code",
   "execution_count": 22,
   "metadata": {},
   "outputs": [],
   "source": [
    "# add in missing catchment on west side of Puerto Rico\n",
    "# I had created this catchment to fill in the gap. It is a weird error with sevearl narrow \"catchments\" \n",
    "# circling a donut hole\n",
    "\n",
    "with arcpy.EnvManager(outputCoordinateSystem=sr, extent=Rextent):\n",
    "    arcpy.analysis.Union([catch, missing], \"catch\", \"ALL\", None, \"NO_GAPS\")"
   ]
  },
  {
   "cell_type": "code",
   "execution_count": 23,
   "metadata": {},
   "outputs": [],
   "source": [
    "# zonal statistics. calculate mean natural cover in floodplain per catchment\n",
    "with arcpy.EnvManager(outputCoordinateSystem=sr, extent=Rextent, snapRaster=Rextent, cellSize=Rextent):\n",
    "    out_raster = arcpy.sa.ZonalStatistics(\"catch\", \"GRIDCODE\", \"lulcFPnat\", \"MEAN\", \"DATA\", \"CURRENT_SLICE\", 90); out_raster.save(\"ZStatNHDCatchNatFP\")"
   ]
  },
  {
   "cell_type": "code",
   "execution_count": 24,
   "metadata": {},
   "outputs": [],
   "source": [
    "# times\n",
    "out_raster = arcpy.sa.Times(\"ZStatNHDCatchNatFP\", 100); out_raster.save(\"ZStatNHDCatchNatFPx100\")"
   ]
  },
  {
   "cell_type": "code",
   "execution_count": 25,
   "metadata": {},
   "outputs": [],
   "source": [
    "# Limit to the floodplain. Have to do this again since my zonal stat was by catchment\n",
    "with arcpy.EnvManager(outputCoordinateSystem=sr, extent=Rextent, snapRaster=Rextent, cellSize=Rextent):\n",
    "    out_raster = arcpy.sa.Con(\"FPflow\", \"ZStatNHDCatchNatFPx100\", '',\"Value = 1\"); out_raster.save(\"ind\")"
   ]
  },
  {
   "cell_type": "code",
   "execution_count": 26,
   "metadata": {},
   "outputs": [],
   "source": [
    "# reclassify\n",
    "\n",
    "# ArcGIS reclass includes the second value in the class for example,\n",
    "# 0 1 is <=1 (1 is included)\n",
    "# 1 5 is >1 - 5 (1 is not included, 5 is included)\n",
    "# 5 20 is >5 - 20 (5 is not included, 20 is included)\n",
    "\n",
    "out_raster = arcpy.sa.Reclassify(\"ind\", \"VALUE\", \"NODATA 0;0 60 1;60 70 2;70 80 3;80 90 4;90 100 5\", \"DATA\"); out_raster.save(\"prelim\")"
   ]
  },
  {
   "cell_type": "markdown",
   "metadata": {},
   "source": [
    "### Prep data to make a zero class\n",
    "zeros will be areas where there are NHD data, and NoData will be areas where there is not NHD data"
   ]
  },
  {
   "cell_type": "code",
   "execution_count": 27,
   "metadata": {},
   "outputs": [
    {
     "data": {
      "text/html": [
       "<div class='gpresult'><h2>Messages</h2><div id='messages' data-messages='[\"Start Time: Friday, July 14, 2023 1:55:06 PM\",\"Adding raster to catch...\",\"Succeeded at Friday, July 14, 2023 1:55:07 PM (Elapsed Time: 0.37 seconds)\"]' data-show='true'><div id = 'default' /></div></div>"
      ],
      "text/plain": [
       "<Result 'D:\\\\SE_Blueprint_2023\\\\4_Indicators\\\\CaribbeanNat\\\\CaribbeanNatu.gdb\\\\catch'>"
      ]
     },
     "execution_count": 27,
     "metadata": {},
     "output_type": "execute_result"
    }
   ],
   "source": [
    "# add field to the catchment layer to prepare to convert to raster\n",
    "arcpy.management.CalculateField(\"catch\", \"raster\", \"1\", \"PYTHON3\", '', \"TEXT\", \"NO_ENFORCE_DOMAINS\")"
   ]
  },
  {
   "cell_type": "code",
   "execution_count": 28,
   "metadata": {},
   "outputs": [],
   "source": [
    "# convert to raster\n",
    "with arcpy.EnvManager(outputCoordinateSystem=sr, extent=Rextent, snapRaster=Rextent, cellSize=Rextent):\n",
    "    arcpy.conversion.FeatureToRaster(\"catch\", \"raster\", \"catch1\", 30)"
   ]
  },
  {
   "cell_type": "code",
   "execution_count": 29,
   "metadata": {},
   "outputs": [],
   "source": [
    "# clip back down to NHD catchment area\n",
    "out_raster= arcpy.sa.Times(\"prelim\", \"catch1\"); out_raster.save(\"indicator\")"
   ]
  },
  {
   "cell_type": "markdown",
   "metadata": {},
   "source": [
    "### Finalize indiator\n",
    "\n",
    "do final steps for all indicators to add description fields, clip and export to SE extent, clip and export to SA extent"
   ]
  },
  {
   "cell_type": "code",
   "execution_count": 30,
   "metadata": {},
   "outputs": [],
   "source": [
    "# set code block for next step\n",
    "codeblock = \"\"\"\n",
    "def Reclass(v):\n",
    "    if v == 5:\n",
    "        return '5 = >90% natural landcover within the estimated floodplain, by catchment'\n",
    "    elif v == 4:\n",
    "        return '4 = >80-90%'\n",
    "    elif v == 3:\n",
    "        return '3 = >70-80'\n",
    "    elif v == 2:\n",
    "        return '2 = >60-70%'\n",
    "    elif v == 1:\n",
    "        return '1 = ≤60% natural landcover within the estimated floodplain, by catchment'   \n",
    "    elif v == 0:\n",
    "        return '0 = Not identified as a floodplain'   \n",
    "\"\"\""
   ]
  },
  {
   "cell_type": "code",
   "execution_count": 31,
   "metadata": {},
   "outputs": [
    {
     "data": {
      "text/html": [
       "<div class='gpresult'><h2>Messages</h2><div id='messages' data-messages='[\"Start Time: Friday, July 14, 2023 1:55:13 PM\",\"Adding descript to VAT_indicator...\",\"Succeeded at Friday, July 14, 2023 1:55:13 PM (Elapsed Time: 0.06 seconds)\"]' data-show='true'><div id = 'default' /></div></div>"
      ],
      "text/plain": [
       "<Result 'D:\\\\SE_Blueprint_2023\\\\4_Indicators\\\\CaribbeanNat\\\\CaribbeanNatu.gdb\\\\indicator'>"
      ]
     },
     "execution_count": 31,
     "metadata": {},
     "output_type": "execute_result"
    }
   ],
   "source": [
    "# add and calculate description field to hold indicator values\n",
    "arcpy.management.CalculateField(\"indicator\", \"descript\", \"Reclass(!value!)\", \"PYTHON3\", codeblock, \"TEXT\")"
   ]
  },
  {
   "cell_type": "code",
   "execution_count": 86,
   "metadata": {},
   "outputs": [],
   "source": [
    "# set code block for next step\n",
    "codeblock = \"\"\"\n",
    "def Reclass1(Value):\n",
    "\tif Value == 5:\n",
    "\t\treturn 9\n",
    "\tif Value == 4:\n",
    "\t\treturn 61\n",
    "\tif Value == 3:\n",
    "\t\treturn 112\n",
    "\tif Value == 2:\n",
    "\t\treturn 152\n",
    "\tif Value == 1:\n",
    "\t\treturn 182\n",
    "\telse:\n",
    "\t\treturn 255\n",
    "\t\t\n",
    "def Reclass2(Value):\n",
    "\tif Value == 5:\n",
    "\t\treturn 13\n",
    "\tif Value == 4:\n",
    "\t\treturn 77\n",
    "\tif Value == 3:\n",
    "\t\treturn 144\n",
    "\tif Value == 2:\n",
    "\t\treturn 199\n",
    "\tif Value == 1:\n",
    "\t\treturn 239\n",
    "\telse:\n",
    "\t\treturn 255\n",
    "\t\t\n",
    "def Reclass3(Value):\n",
    "\tif Value == 5:\n",
    "\t\treturn 94\n",
    "\tif Value == 4:\n",
    "\t\treturn 138\n",
    "\tif Value == 3:\n",
    "\t\treturn 161\n",
    "\tif Value == 2:\n",
    "\t\treturn 173\n",
    "\tif Value == 1:\n",
    "\t\treturn 182\n",
    "\telse:\n",
    "\t\treturn 255\n",
    "\"\"\""
   ]
  },
  {
   "cell_type": "code",
   "execution_count": 87,
   "metadata": {},
   "outputs": [
    {
     "data": {
      "text/html": [
       "<div class='gpresult'><h2>Messages</h2><div id='messages' data-messages='[\"Start Time: Friday, September 15, 2023 2:18:57 PM\",\"Succeeded at Friday, September 15, 2023 2:18:57 PM (Elapsed Time: 0.20 seconds)\"]' data-show='true'><div id = 'default' /></div></div>"
      ],
      "text/plain": [
       "<Result 'indicator'>"
      ]
     },
     "execution_count": 87,
     "metadata": {},
     "output_type": "execute_result"
    }
   ],
   "source": [
    "# calculate Red field\n",
    "arcpy.management.CalculateField(\"indicator\", \"Red\", \"Reclass1(!Value!)\", \"PYTHON3\", codeblock, \"SHORT\")\n",
    "# calculate Green field\n",
    "arcpy.management.CalculateField(\"indicator\", \"Green\", \"Reclass2(!Value!)\", \"PYTHON3\", codeblock, \"SHORT\")\n",
    "# calculate Blue field\n",
    "arcpy.management.CalculateField(\"indicator\", \"Blue\", \"Reclass3(!Value!)\", \"PYTHON3\", codeblock, \"SHORT\")"
   ]
  },
  {
   "cell_type": "code",
   "execution_count": 88,
   "metadata": {},
   "outputs": [],
   "source": [
    "# clip to extent\n",
    "with arcpy.EnvManager(outputCoordinateSystem=sr, extent=Rextent, snapRaster=Rextent, cellSize=Rextent):\n",
    "    out_raster = arcpy.sa.ExtractByMask(\"indicator\", Rextent); out_raster.save(\"indicator1\")"
   ]
  },
  {
   "cell_type": "code",
   "execution_count": 89,
   "metadata": {},
   "outputs": [],
   "source": [
    "# export as .tif \n",
    "with arcpy.EnvManager(outputCoordinateSystem=sr, extent=Rextent, snapRaster=Rextent, cellSize=Rextent):\n",
    "    arcpy.management.CopyRaster(\"indicator1\", Out, '', None, \"255\", \"NONE\", \"NONE\", \"8_BIT_UNSIGNED\", \"NONE\", \"NONE\", \"TIFF\", \"NONE\", \"CURRENT_SLICE\", \"NO_TRANSPOSE\")"
   ]
  },
  {
   "cell_type": "code",
   "execution_count": 36,
   "metadata": {},
   "outputs": [
    {
     "name": "stdout",
     "output_type": "stream",
     "text": [
      "300.0489420890808\n"
     ]
    }
   ],
   "source": [
    "# this prints the time it took this notebook to run in seconds\n",
    "end = time.time()\n",
    "print(end - start)"
   ]
  },
  {
   "cell_type": "code",
   "execution_count": null,
   "metadata": {},
   "outputs": [],
   "source": []
  }
 ],
 "metadata": {
  "kernelspec": {
   "display_name": "ArcGISPro",
   "language": "Python",
   "name": "python3"
  },
  "language_info": {
   "file_extension": ".py",
   "name": "python",
   "version": "3"
  }
 },
 "nbformat": 4,
 "nbformat_minor": 2
}
