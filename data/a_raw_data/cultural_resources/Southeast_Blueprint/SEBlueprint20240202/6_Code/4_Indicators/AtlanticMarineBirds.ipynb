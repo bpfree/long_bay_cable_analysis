{
 "cells": [
  {
   "cell_type": "markdown",
   "metadata": {},
   "source": [
    "# Atlantic Marine Birds\n",
    "\n",
    "This indicator was used in the Southeast Blueprint 2023.\n",
    "Code written by Rua Mordecai and Amy Keister"
   ]
  },
  {
   "cell_type": "code",
   "execution_count": 10,
   "metadata": {},
   "outputs": [],
   "source": [
    "import os\n",
    "import arcpy"
   ]
  },
  {
   "cell_type": "code",
   "execution_count": 11,
   "metadata": {},
   "outputs": [],
   "source": [
    "# define spatial reference and workspaces\n",
    "sr= arcpy.SpatialReference(5070)\n",
    "OutWorkspace = r\"D:\\Blueprint\\2023\\finalIndicatorEdits\\ContinentalSoutheastBlueprint2023_FinalIndicators\\ContinentalSoutheastBlueprint2023_FinalIndicators\\SpatialData\""
   ]
  },
  {
   "cell_type": "code",
   "execution_count": 12,
   "metadata": {},
   "outputs": [],
   "source": [
    "# define final output name\n",
    "IndicatorFileName = \"AtlanticMarineBirds.tif\""
   ]
  },
  {
   "cell_type": "code",
   "execution_count": 13,
   "metadata": {},
   "outputs": [],
   "source": [
    "# define raster used for cell size, extent, and snapping\n",
    "MarineRaster= r\"D:\\Blueprint\\2023\\extent\\Marine_Extent_v1.tif\""
   ]
  },
  {
   "cell_type": "code",
   "execution_count": 14,
   "metadata": {},
   "outputs": [],
   "source": [
    "# define inputs\n",
    "bird= r\"D:\\Blueprint\\2023\\Indicators\\AtlanticMarineBirds\\zonation\\rankmap.tif\"\n",
    "nlcd = r\"D:\\Landcover\\nlcd_2019_land_cover_l48_20210604\\nlcd_2019_land_cover_l48_20210604.img\""
   ]
  },
  {
   "cell_type": "code",
   "execution_count": 15,
   "metadata": {},
   "outputs": [],
   "source": [
    "# Sometimes arcpro is fussy about not overwriting things\n",
    "arcpy.env.overwriteOutput = True"
   ]
  },
  {
   "cell_type": "markdown",
   "metadata": {},
   "source": [
    "### Start analysis"
   ]
  },
  {
   "cell_type": "code",
   "execution_count": 16,
   "metadata": {},
   "outputs": [],
   "source": [
    "# Set the output workspace\n",
    "arcpy.env.workspace = OutWorkspace"
   ]
  },
  {
   "cell_type": "markdown",
   "metadata": {},
   "source": [
    "### Bring in zonation results"
   ]
  },
  {
   "cell_type": "code",
   "execution_count": 27,
   "metadata": {
    "scrolled": true
   },
   "outputs": [],
   "source": [
    "# take zonation results times 100\n",
    "out_raster = arcpy.sa.Times(bird, 100); out_raster.save(\"bird.tif\")"
   ]
  },
  {
   "cell_type": "code",
   "execution_count": 28,
   "metadata": {},
   "outputs": [],
   "source": [
    "# convert to integer\n",
    "out_raster = arcpy.sa.Int(\"bird.tif\"); out_raster.save(\"indicator1.tif\")"
   ]
  },
  {
   "cell_type": "code",
   "execution_count": 8,
   "metadata": {},
   "outputs": [],
   "source": [
    "# Reclassify into bins and align with Marine extent\n",
    "with arcpy.EnvManager(outputCoordinateSystem=sr, extent=MarineRaster, snapRaster=MarineRaster, cellSize=MarineRaster):\n",
    "    out_raster = arcpy.sa.Reclassify('indicator1.tif', \"Value\", \"0 10 1;11 20 2;21 30 3;31 40 4;41 50 5;51 60 6;61 70 7;71 80 8;81 90 9;91 100 10\", \"DATA\"); out_raster.save(\"binned.tif\")"
   ]
  },
  {
   "cell_type": "code",
   "execution_count": 11,
   "metadata": {},
   "outputs": [],
   "source": [
    "# Make an water mask in NLCD to change all land pixels to 0\n",
    "with arcpy.EnvManager(outputCoordinateSystem=sr, extent=MarineRaster, snapRaster=MarineRaster, cellSize=MarineRaster):\n",
    "    out_raster = arcpy.sa.Reclassify(nlcd, \"Value\", \"0 11 1;12 95 0\"); out_raster.save(\"nlcdWaterMask.tif\")"
   ]
  },
  {
   "cell_type": "code",
   "execution_count": 12,
   "metadata": {},
   "outputs": [],
   "source": [
    "# use mask to turn land values to 0\n",
    "out_raster = arcpy.sa.Times(\"nlcdWaterMask.tif\", \"binned.tif\"); out_raster.save(IndicatorFileName)"
   ]
  },
  {
   "cell_type": "markdown",
   "metadata": {},
   "source": [
    "### Finalize indicator\n",
    "\n"
   ]
  },
  {
   "cell_type": "code",
   "execution_count": 17,
   "metadata": {},
   "outputs": [],
   "source": [
    "# set code block for next step\n",
    "codeblock = \"\"\"\n",
    "def Reclass(v):\n",
    "    if v == 10:\n",
    "        return '10 = >90th percentile of importance for marine bird index species (across the full East Coast study area)'\n",
    "    elif v == 9:\n",
    "        return '9 = >80th-90th percentile of importance'  \n",
    "    elif v == 8:\n",
    "        return '8 = >70th-80th percentile of importance'  \n",
    "    elif v == 7:\n",
    "        return '7 = >60th-70th percentile of importance'\n",
    "    elif v == 6:\n",
    "        return '6 = >50th-60th percentile of importance'\n",
    "    elif v == 5:\n",
    "        return '5 = >40th-50th percentile of importance'\n",
    "    elif v == 4:\n",
    "        return '4 = >30th-40th percentile of importance'  \n",
    "    elif v == 3:\n",
    "        return '3 = >20th-30th percentile of importance'  \n",
    "    elif v == 2:\n",
    "        return '2 = >10th-20th percentile of importance'\n",
    "    elif v == 1:\n",
    "        return '1 = ≤10th percentile of importance'\n",
    "    elif v == 0:\n",
    "        return '0 = Land'\n",
    "\"\"\""
   ]
  },
  {
   "cell_type": "code",
   "execution_count": 18,
   "metadata": {},
   "outputs": [
    {
     "data": {
      "text/html": [
       "<div class='gpresult'><h2>Messages</h2><div id='messages' data-messages='[\"Start Time: Tuesday, September 12, 2023 10:55:34 AM\",\"Succeeded at Tuesday, September 12, 2023 10:55:34 AM (Elapsed Time: 0.30 seconds)\"]' data-show='true'><div id = 'default' /></div></div>"
      ],
      "text/plain": [
       "<Result 'D:\\\\Blueprint\\\\2023\\\\finalIndicatorEdits\\\\ContinentalSoutheastBlueprint2023_FinalIndicators\\\\ContinentalSoutheastBlueprint2023_FinalIndicators\\\\SpatialData\\\\AtlanticMarineBirds.tif'>"
      ]
     },
     "execution_count": 18,
     "metadata": {},
     "output_type": "execute_result"
    }
   ],
   "source": [
    "# add and calculate description field to hold indicator values\n",
    "arcpy.management.CalculateField(IndicatorFileName, \"descript\", \"Reclass(!value!)\", \"PYTHON3\", codeblock, \"TEXT\")"
   ]
  },
  {
   "cell_type": "code",
   "execution_count": 15,
   "metadata": {},
   "outputs": [],
   "source": [
    "# set code block for next step\n",
    "codeblock = \"\"\"\n",
    "def Reclass1(Value):\n",
    "\tif Value == 10:\n",
    "\t\treturn 68\n",
    "\tif Value == 9:\n",
    "\t\treturn 72\n",
    "\tif Value == 8:\n",
    "\t\treturn 62\n",
    "\tif Value == 7:\n",
    "\t\treturn 49\n",
    "\tif Value == 6:\n",
    "\t\treturn 38\n",
    "\tif Value == 5:\n",
    "\t\treturn 31\n",
    "\tif Value == 4:\n",
    "\t\treturn 53\n",
    "\tif Value == 3:\n",
    "\t\treturn 109\n",
    "\tif Value == 2:\n",
    "\t\treturn 181\n",
    "\tif Value == 1:\n",
    "\t\treturn 254\n",
    "\telse:\n",
    "\t\treturn 255\n",
    "\t\t\n",
    "def Reclass2(Value):\n",
    "\tif Value == 10:\n",
    "\t\treturn 1\n",
    "\tif Value == 9:\n",
    "\t\treturn 40\n",
    "\tif Value == 8:\n",
    "\t\treturn 74\n",
    "\tif Value == 7:\n",
    "\t\treturn 104\n",
    "\tif Value == 6:\n",
    "\t\treturn 131\n",
    "\tif Value == 5:\n",
    "\t\treturn 158\n",
    "\tif Value == 4:\n",
    "\t\treturn 184\n",
    "\tif Value == 3:\n",
    "\t\treturn 207\n",
    "\tif Value == 2:\n",
    "\t\treturn 222\n",
    "\tif Value == 1:\n",
    "\t\treturn 232\n",
    "\telse:\n",
    "\t\treturn 255\n",
    "\t\t\n",
    "def Reclass3(Value):\n",
    "\tif Value == 10:\n",
    "\t\treturn 84\n",
    "\tif Value == 9:\n",
    "\t\treturn 120\n",
    "\tif Value == 8:\n",
    "\t\treturn 138\n",
    "\tif Value == 7:\n",
    "\t\treturn 142\n",
    "\tif Value == 6:\n",
    "\t\treturn 143\n",
    "\tif Value == 5:\n",
    "\t\treturn 137\n",
    "\tif Value == 4:\n",
    "\t\treturn 121\n",
    "\tif Value == 3:\n",
    "\t\treturn 90\n",
    "\tif Value == 2:\n",
    "\t\treturn 44\n",
    "\tif Value == 1:\n",
    "\t\treturn 37\n",
    "\telse:\n",
    "\t\treturn 255\n",
    "\t\t\n",
    "\"\"\""
   ]
  },
  {
   "cell_type": "code",
   "execution_count": 17,
   "metadata": {},
   "outputs": [
    {
     "data": {
      "text/html": [
       "<div class='gpresult'><h2>Messages</h2><div id='messages' data-messages='[\"Start Time: Thursday, June 29, 2023 3:49:22 PM\",\"Adding Blue to AtlanticMarineBirds.tif.vat...\",\"Succeeded at Thursday, June 29, 2023 3:49:22 PM (Elapsed Time: 0.07 seconds)\"]' data-show='true'><div id = 'default' /></div></div>"
      ],
      "text/plain": [
       "<Result 'AtlanticMarineBirds.tif'>"
      ]
     },
     "execution_count": 17,
     "metadata": {},
     "output_type": "execute_result"
    }
   ],
   "source": [
    "# calculate Red field\n",
    "arcpy.management.CalculateField(IndicatorFileName, \"Red\", \"Reclass1(!Value!)\", \"PYTHON3\", codeblock, \"SHORT\")\n",
    "# calculate Green field\n",
    "arcpy.management.CalculateField(IndicatorFileName, \"Green\", \"Reclass2(!Value!)\", \"PYTHON3\", codeblock, \"SHORT\")\n",
    "# calculate Blue field\n",
    "arcpy.management.CalculateField(IndicatorFileName, \"Blue\", \"Reclass3(!Value!)\", \"PYTHON3\", codeblock, \"SHORT\")"
   ]
  },
  {
   "cell_type": "code",
   "execution_count": null,
   "metadata": {},
   "outputs": [],
   "source": []
  }
 ],
 "metadata": {
  "kernelspec": {
   "display_name": "ArcGISPro",
   "language": "Python",
   "name": "python3"
  },
  "language_info": {
   "file_extension": ".py",
   "name": "python",
   "version": "3"
  }
 },
 "nbformat": 4,
 "nbformat_minor": 2
}
