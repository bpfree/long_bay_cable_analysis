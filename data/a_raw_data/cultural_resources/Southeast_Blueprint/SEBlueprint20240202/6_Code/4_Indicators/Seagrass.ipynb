{
 "cells": [
  {
   "cell_type": "code",
   "execution_count": 1,
   "metadata": {},
   "outputs": [],
   "source": [
    "#### define some inputs\n",
    "import arcpy, os\n",
    "\n",
    "sr= arcpy.SpatialReference(5070)\n",
    "OutWorkspace = r\"E:\\projects\\BP\\Indicators\\Seagrasses\"\n",
    "SEExtent= r\"E:\\projects\\BP\\1_Extent\\BaseBlueprintExtent2022.tif\"\n",
    "seagrass_poly = r\"E:\\projects\\BP\\Indicators\\Seagrasses\\Seagrasses.gdb\\Seagrasses\"\n",
    "seagrass_out = r\"E:\\projects\\BP\\Indicators\\Seagrasses\\Seagrasses.tif\""
   ]
  },
  {
   "cell_type": "code",
   "execution_count": 2,
   "metadata": {},
   "outputs": [],
   "source": [
    "##### polygon to raster\n",
    "with arcpy.EnvManager(outputCoordinateSystem=sr, snapRaster=SEExtent, pyramid=\"NONE\", extent=SEExtent, cellSize=SEExtent, workspace=OutWorkspace):\n",
    "    out_raster = arcpy.conversion.PolygonToRaster(seagrass_poly, \"class\", seagrass_out, \"CELL_CENTER\", \"NONE\", 30, \"BUILD\")"
   ]
  },
  {
   "cell_type": "code",
   "execution_count": 3,
   "metadata": {},
   "outputs": [
    {
     "data": {
      "text/html": [
       "<div class='gpresult'><h2>Messages</h2><div id='messages' data-messages='[\"Start Time: Tuesday, August 29, 2023 11:07:34 AM\",\"Succeeded at Tuesday, August 29, 2023 11:07:47 AM (Elapsed Time: 13.50 seconds)\"]' data-show='true'><div id = 'default' /></div></div>"
      ],
      "text/plain": [
       "<Result 'E:\\\\projects\\\\BP\\\\Indicators\\\\Seagrasses\\\\Seagrasses.tif'>"
      ]
     },
     "execution_count": 3,
     "metadata": {},
     "output_type": "execute_result"
    }
   ],
   "source": [
    "## create RAT\n",
    "arcpy.management.BuildRasterAttributeTable(out_raster, \"NONE\", \"NONE\")"
   ]
  },
  {
   "cell_type": "code",
   "execution_count": 4,
   "metadata": {},
   "outputs": [
    {
     "data": {
      "text/html": [
       "<div class='gpresult'><h2>Messages</h2><div id='messages' data-messages='[\"Start Time: Tuesday, August 29, 2023 11:08:00 AM\",\"Succeeded at Tuesday, August 29, 2023 11:08:00 AM (Elapsed Time: 0.03 seconds)\"]' data-show='true'><div id = 'default' /></div></div>"
      ],
      "text/plain": [
       "<Result 'E:\\\\projects\\\\BP\\\\Indicators\\\\Seagrasses\\\\Seagrasses.tif'>"
      ]
     },
     "execution_count": 4,
     "metadata": {},
     "output_type": "execute_result"
    }
   ],
   "source": [
    "#### add RGB and descript\n",
    "arcpy.management.AddField(out_raster, \"descript\", \"text\", 25)\n",
    "arcpy.management.CalculateField(out_raster, \"descript\", '\"1 = Seagrass present\"')\n",
    "arcpy.management.AddField(out_raster, \"Red\", \"long\", 9)\n",
    "arcpy.management.CalculateField(out_raster, \"Red\", '95')\n",
    "arcpy.management.AddField(out_raster, \"Green\", \"long\", 9)\n",
    "arcpy.management.CalculateField(out_raster, \"Green\", '177')\n",
    "arcpy.management.AddField(out_raster, \"Blue\", \"long\", 9)\n",
    "arcpy.management.CalculateField(out_raster, \"Blue\", '135')\n",
    "arcpy.management.DeleteField(out_raster, \"class\")"
   ]
  },
  {
   "cell_type": "code",
   "execution_count": 5,
   "metadata": {},
   "outputs": [
    {
     "data": {
      "text/html": [
       "<div class='gpresult'><h2>Messages</h2><div id='messages' data-messages='[\"Start Time: Tuesday, August 29, 2023 11:08:04 AM\",\"Building Pyramids...\",\"Calculating Statistics...\",\"Succeeded at Tuesday, August 29, 2023 11:08:51 AM (Elapsed Time: 47.04 seconds)\"]' data-show='true'><div id = 'default' /></div></div>"
      ],
      "text/plain": [
       "<Result 'E:\\\\projects\\\\BP\\\\Indicators\\\\Seagrasses\\\\Seagrass.tif'>"
      ]
     },
     "execution_count": 5,
     "metadata": {},
     "output_type": "execute_result"
    }
   ],
   "source": [
    "#### copy to new file.  \n",
    "arcpy.management.CopyRaster(out_raster, r\"E:\\projects\\BP\\Indicators\\Seagrasses\\Seagrass.tif\", '', None, \"0\", \"NONE\", \"NONE\", '', \"NONE\", \"NONE\", '', \"NONE\", \"CURRENT_SLICE\", \"NO_TRANSPOSE\")\n",
    "## with arcpy.EnvManager(outputCoordinateSystem=sr, snapRaster=SEextent, extent=SEExtent, cellSize=SEextent, mask=SEextent):\n",
    "##   out_raster = arcpy.sa.ExtractByMask(out_raster, \"BaseBlueprintExtent2022.tif\"); out_raster.save(seagrass_out)"
   ]
  }
 ],
 "metadata": {
  "kernelspec": {
   "display_name": "ArcGISPro",
   "language": "Python",
   "name": "python3"
  },
  "language_info": {
   "file_extension": ".py",
   "name": "python",
   "version": "3"
  }
 },
 "nbformat": 4,
 "nbformat_minor": 2
}
