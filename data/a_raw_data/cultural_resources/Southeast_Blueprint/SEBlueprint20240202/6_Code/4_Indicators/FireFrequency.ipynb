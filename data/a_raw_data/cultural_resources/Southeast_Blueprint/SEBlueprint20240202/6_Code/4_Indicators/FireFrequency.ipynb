{
 "cells": [
  {
   "cell_type": "markdown",
   "metadata": {},
   "source": [
    "# Fire Frequency\n",
    "\n",
    "This is a draft indicator for use in Southeast Blueprint 2022.\n",
    "\n",
    "\n"
   ]
  },
  {
   "cell_type": "code",
   "execution_count": 1,
   "metadata": {},
   "outputs": [],
   "source": [
    "import os\n",
    "import arcpy"
   ]
  },
  {
   "cell_type": "code",
   "execution_count": 1,
   "metadata": {},
   "outputs": [],
   "source": [
    "# define spatial reference and workspaces\n",
    "sr= arcpy.SpatialReference(5070)\n",
    "LBAOutputWorkspace = r\"E:\\projects\\BP\\Indicators\\FireFrequency\\working\\LBA\"\n",
    "LBAWorkspace = r\"E:\\generalgis\\BurnedArea\\LBArasters\\tif2process\"\n",
    "MTBSOutputWorkspace = r\"E:\\projects\\BP\\Indicators\\FireFrequency\\working\\MTBS\"\n",
    "MTBSWorkspace = r\"E:\\generalgis\\BurnedArea\\MTBSrasters\"\n",
    "OutputWorkspace = r\"E:\\projects\\BP\\Indicators\\FireFrequency\\working\"\n",
    "\n",
    "# define final output\n",
    "SEout = r\"e:\\projects\\BP\\Indicators\\FireFrequency\\working\\FireFrequency2.tif\"\n",
    "\n",
    "# define raster used for cell size, extent, and snapping\n",
    "SERaster= r\"E:\\projects\\BP\\1_Extent\\BaseBlueprintExtent2022.tif\"\n",
    "\n",
    "# define additional inputs - combination of NLCD and IF max 1=areas that can not burn (water, devevloped, ag, barren, Woody wetlands that are typically wet etc..)\n",
    "SEfiremask= r\"E:\\projects\\BP\\Indicators\\FireFrequency\\SE_firemask.tif\""
   ]
  },
  {
   "cell_type": "markdown",
   "metadata": {},
   "source": [
    "## collect source info for burned areas"
   ]
  },
  {
   "cell_type": "code",
   "execution_count": 3,
   "metadata": {},
   "outputs": [],
   "source": [
    "# create a list of all the rasters in the Landsat Burned Areas (LBA) workspace, including file paths\n",
    "LBArasters = []\n",
    "walk = arcpy.da.Walk(LBAWorkspace)\n",
    "for dirpath, dirnames, filenames in walk:\n",
    "    for filename in filenames:\n",
    "        LBArasters.append(os.path.join(dirpath,filename))"
   ]
  },
  {
   "cell_type": "code",
   "execution_count": 4,
   "metadata": {},
   "outputs": [],
   "source": [
    "# create a list of all the rasters in the MTBS workspace, including file paths\n",
    "MTBSrasters = []\n",
    "walk = arcpy.da.Walk(MTBSWorkspace)\n",
    "for dirpath, dirnames, filenames in walk:\n",
    "    for filename in filenames:\n",
    "        MTBSrasters.append(os.path.join(dirpath,filename))"
   ]
  },
  {
   "cell_type": "markdown",
   "metadata": {},
   "source": [
    "## Process LBA"
   ]
  },
  {
   "cell_type": "code",
   "execution_count": 5,
   "metadata": {},
   "outputs": [],
   "source": [
    "# Set the source workspace for Landsat Burned Areas (LBA) data\n",
    "arcpy.env.workspace = LBAWorkspace"
   ]
  },
  {
   "cell_type": "code",
   "execution_count": 6,
   "metadata": {
    "scrolled": false
   },
   "outputs": [
    {
     "name": "stdout",
     "output_type": "stream",
     "text": [
      "E:\\generalgis\\BurnedArea\\LBArasters\\tif2process\n",
      "['E:\\\\generalgis\\\\BurnedArea\\\\LBArasters\\\\tif2process\\\\LBA_CU_2013_20200415_C01_V01_BF_L8.tif', 'E:\\\\generalgis\\\\BurnedArea\\\\LBArasters\\\\tif2process\\\\LBA_CU_2014_20200415_C01_V01_BF_L8.tif', 'E:\\\\generalgis\\\\BurnedArea\\\\LBArasters\\\\tif2process\\\\LBA_CU_2015_20200415_C01_V01_BF_L8.tif', 'E:\\\\generalgis\\\\BurnedArea\\\\LBArasters\\\\tif2process\\\\LBA_CU_2016_20200415_C01_V01_BF_L8.tif', 'E:\\\\generalgis\\\\BurnedArea\\\\LBArasters\\\\tif2process\\\\LBA_CU_2017_20200415_C01_V01_BF_L8.tif', 'E:\\\\generalgis\\\\BurnedArea\\\\LBArasters\\\\tif2process\\\\LBA_CU_2018_20200415_C01_V01_BF_L8.tif', 'E:\\\\generalgis\\\\BurnedArea\\\\LBArasters\\\\tif2process\\\\LBA_CU_2019_20200415_C01_V01_BF_L8.tif', 'E:\\\\generalgis\\\\BurnedArea\\\\LBArasters\\\\tif2process\\\\LBA_CU_2020_20210922_C01_V01_BF_L8.tif', 'E:\\\\generalgis\\\\BurnedArea\\\\LBArasters\\\\tif2process\\\\LBA_CU_2021_20220218_C01_V01_BF_L8.tif']\n"
     ]
    }
   ],
   "source": [
    "print(arcpy.env.workspace)\n",
    "print(LBArasters)"
   ]
  },
  {
   "cell_type": "code",
   "execution_count": 10,
   "metadata": {},
   "outputs": [],
   "source": [
    "# reclass 2013 to make it consistent with other years - save to LBA working - CONUS\n",
    "with arcpy.EnvManager(workspace=LBAWorkspace):\n",
    "    out_raster = arcpy.sa.Con(\"LBA_CU_2013_20200415_C01_V01_BF_L8.tif\", 1, 0, \"Value >= 1\"); out_raster.save(\"LBA_CU_2013_20200415_C01_V01_BF_L8.tif\")"
   ]
  },
  {
   "cell_type": "code",
   "execution_count": 7,
   "metadata": {},
   "outputs": [],
   "source": [
    "# use cell statistics to combine data from 2013 - 2021 - SUM ALL CONUS - takes about 20min\n",
    "out_raster = arcpy.sa.CellStatistics(LBArasters, \"SUM\", \"DATA\", \"SINGLE_BAND\"); out_raster.save(\"LBABurn2013_2021.tif\")"
   ]
  },
  {
   "cell_type": "code",
   "execution_count": 8,
   "metadata": {},
   "outputs": [],
   "source": [
    "# Clip composite LBA fire rasters to southeast - takes about 20 min\n",
    "with arcpy.EnvManager(outputCoordinateSystem=sr, extent=SERaster, snapRaster=SERaster, cellSize=SERaster):\n",
    "     LBASE = arcpy.sa.ExtractByMask(out_raster, SERaster); LBASE.save('LBABurn2013_2021_SE.tif');   "
   ]
  },
  {
   "cell_type": "code",
   "execution_count": 9,
   "metadata": {},
   "outputs": [],
   "source": [
    "# mask with SE firemask\n",
    "with arcpy.EnvManager(outputCoordinateSystem=sr, snapRaster=SERaster, cellSize=SERaster):\n",
    "    LBASE_masked = arcpy.sa.Con(SEfiremask, 0, LBASE, \"Value >= 1\"); LBASE_masked.save('LBABurn2013_2021_SE_mask.tif')"
   ]
  },
  {
   "cell_type": "markdown",
   "metadata": {},
   "source": [
    "## Process MTBS"
   ]
  },
  {
   "cell_type": "code",
   "execution_count": 25,
   "metadata": {},
   "outputs": [],
   "source": [
    "# Set the source workspace for MTBS data\n",
    "arcpy.env.workspace = MTBSWorkspace"
   ]
  },
  {
   "cell_type": "code",
   "execution_count": 30,
   "metadata": {
    "scrolled": true
   },
   "outputs": [
    {
     "name": "stdout",
     "output_type": "stream",
     "text": [
      "E:\\generalgis\\BurnedArea\\MTBSrasters\n"
     ]
    }
   ],
   "source": [
    "print(arcpy.env.workspace)\n"
   ]
  },
  {
   "cell_type": "code",
   "execution_count": 28,
   "metadata": {},
   "outputs": [],
   "source": [
    "# use cell statistics to combine data from 2013 - 2020 - SUM ALL CONUS\n",
    "MTBS = arcpy.sa.CellStatistics(MTBSrasters, \"SUM\", \"DATA\", \"SINGLE_BAND\"); out_raster.save(\"MTBSBurn2013_2020.tif\")"
   ]
  },
  {
   "cell_type": "code",
   "execution_count": 29,
   "metadata": {},
   "outputs": [],
   "source": [
    "# clip sum of MTBS to SE\n",
    "with arcpy.EnvManager(outputCoordinateSystem=sr, extent=SERaster, snapRaster=SERaster, cellSize=SERaster):\n",
    "    MTBS_SE = arcpy.sa.ExtractByMask(MTBS, SERaster); out_raster.save('MTBSBurn2013_2020_SE.tif');"
   ]
  },
  {
   "cell_type": "code",
   "execution_count": 11,
   "metadata": {},
   "outputs": [],
   "source": [
    "MTBS_LBA = arcpy.sa.CellStatistics(r\"E:\\generalGIS\\BurnedArea\\MTBSrasters\\MTBSBurn2013_2020_SE.tif;E:\\generalGIS\\BurnedArea\\LBArasters\\tif2process\\LBABurn2013_2021_SE_mask.tif\", \"MAXIMUM\", \"DATA\", \"SINGLE_BAND\", 90, \"AUTO_DETECT\"); MTBS_LBA.save(SEout)"
   ]
  },
  {
   "cell_type": "code",
   "execution_count": 4,
   "metadata": {},
   "outputs": [
    {
     "name": "stdout",
     "output_type": "stream",
     "text": [
      "E:\\projects\\BP\\Indicators\\FireFrequency\\working\n"
     ]
    }
   ],
   "source": [
    "# reclassify to create binned version\n",
    "arcpy.env.workspace = OutputWorkspace\n",
    "print(arcpy.env.workspace)\n",
    "out_raster = arcpy.sa.Reclassify(SEout, \"Value\", \"NODATA 0;0 0;1 1;2 2;3 9 3\", \"DATA\"); out_raster.save(\"FireFreq_indicator.tif\")"
   ]
  },
  {
   "cell_type": "markdown",
   "metadata": {},
   "source": [
    "### Finalize indicator\n",
    "\n",
    "do final steps for all indicators to add description fields, clip and export to SE extent"
   ]
  },
  {
   "cell_type": "code",
   "execution_count": 5,
   "metadata": {},
   "outputs": [],
   "source": [
    "# set code block for next step\n",
    "codeblock = \"\"\"\n",
    "def Reclass(value):\n",
    "    if value == 3:\n",
    "        return '3 = Burned 3+ times from 2013-2021'\n",
    "    elif value == 2:\n",
    "        return '2 = Burned 2 times from 2013-2021'\n",
    "    elif value == 1:\n",
    "        return '1 = Burned 1 time from 2013-2021' \n",
    "    elif value == 0:\n",
    "        return '0 = Not burned from 2013-2021 or masked'  \n",
    "\"\"\""
   ]
  },
  {
   "cell_type": "code",
   "execution_count": 7,
   "metadata": {},
   "outputs": [],
   "source": [
    "# add and calculate description field to hold indicator values\n",
    "out_raster = arcpy.management.CalculateField(out_raster, \"descript\", \"Reclass(!value!)\", \"PYTHON3\", codeblock, \"TEXT\")"
   ]
  },
  {
   "cell_type": "code",
   "execution_count": 8,
   "metadata": {
    "scrolled": true
   },
   "outputs": [],
   "source": [
    "# clip to SE 2021 Blueprint extent\n",
    "#out_raster = arcpy.sa.ExtractByMask(\"FireFrequency_remask.tif\", r\"E:\\projects\\BP\\1_Extent\\BaseBlueprintExtent2022.tif\"); out_raster.save(r\"E:\\fire v3\\Default.gdb\\Extract_Fire1\")\n",
    "\n",
    "with arcpy.EnvManager(outputCoordinateSystem=sr, extent=SERaster, snapRaster=SERaster, cellSize=SERaster):\n",
    "    out_raster4 = arcpy.sa.ExtractByMask(out_raster, SERaster); out_raster4.save(SEout)"
   ]
  },
  {
   "cell_type": "code",
   "execution_count": 9,
   "metadata": {},
   "outputs": [],
   "source": [
    "# set code block for next step of adding RGB colors\n",
    "codeblock = \"\"\"\n",
    "def Reclass1(Value):\n",
    "\tif Value == 3:\n",
    "\t\treturn 230\n",
    "\tif Value == 2:\n",
    "\t\treturn 253\n",
    "\tif Value == 1:\n",
    "\t\treturn 254\n",
    "\telse:\n",
    "\t\treturn 255\n",
    "\t\t\n",
    "def Reclass2(Value):\n",
    "\tif Value == 3:\n",
    "\t\treturn 85\n",
    "\tif Value == 2:\n",
    "\t\treturn 174\n",
    "\tif Value == 1:\n",
    "\t\treturn 230\n",
    "\telse:\n",
    "\t\treturn 255\n",
    "\t\t\n",
    "def Reclass3(Value):\n",
    "\tif Value == 3:\n",
    "\t\treturn 13\n",
    "\tif Value == 2:\n",
    "\t\treturn 107\n",
    "\tif Value == 1:\n",
    "\t\treturn 206\n",
    "\telse:\n",
    "\t\treturn 255\n",
    "\t\t\n",
    "\"\"\""
   ]
  },
  {
   "cell_type": "code",
   "execution_count": 10,
   "metadata": {
    "scrolled": false
   },
   "outputs": [
    {
     "data": {
      "text/html": [
       "<div class='gpresult'><h2>Messages</h2><div id='messages' data-messages='[\"Start Time: Thursday, June 23, 2022 6:38:15 PM\",\"Adding Blue to FireFrequency2.tif.vat...\",\"Succeeded at Thursday, June 23, 2022 6:38:15 PM (Elapsed Time: 0.09 seconds)\"]' data-show='true'><div id = 'default' /></div></div>"
      ],
      "text/plain": [
       "<Result 'e:\\\\projects\\\\BP\\\\Indicators\\\\FireFrequency\\\\working\\\\FireFrequency2.tif'>"
      ]
     },
     "execution_count": 10,
     "metadata": {},
     "output_type": "execute_result"
    }
   ],
   "source": [
    "# calculate Red field\n",
    "arcpy.management.CalculateField(SEout, \"Red\", \"Reclass1(!Value!)\", \"PYTHON3\", codeblock, \"SHORT\")\n",
    "# calculate Green field\n",
    "arcpy.management.CalculateField(SEout, \"Green\", \"Reclass2(!Value!)\", \"PYTHON3\", codeblock, \"SHORT\")\n",
    "# calculate Blue field\n",
    "arcpy.management.CalculateField(SEout, \"Blue\", \"Reclass3(!Value!)\", \"PYTHON3\", codeblock, \"SHORT\")"
   ]
  },
  {
   "cell_type": "markdown",
   "metadata": {},
   "source": []
  }
 ],
 "metadata": {
  "kernelspec": {
   "display_name": "ArcGISPro",
   "language": "Python",
   "name": "python3"
  },
  "language_info": {
   "file_extension": ".py",
   "name": "python",
   "version": "3"
  }
 },
 "nbformat": 4,
 "nbformat_minor": 2
}
