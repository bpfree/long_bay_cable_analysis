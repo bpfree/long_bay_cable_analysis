{
 "cells": [
  {
   "cell_type": "markdown",
   "metadata": {},
   "source": [
    "# Caribbean shallow hardbottom and coral\n",
    "\n",
    "This is code for Southeast Conservation Blueprint 2023. Written by Rua Mordecai"
   ]
  },
  {
   "cell_type": "markdown",
   "metadata": {},
   "source": [
    "## Import libraries and define variables"
   ]
  },
  {
   "cell_type": "code",
   "execution_count": 87,
   "metadata": {},
   "outputs": [],
   "source": [
    "import os\n",
    "import arcpy"
   ]
  },
  {
   "cell_type": "code",
   "execution_count": 88,
   "metadata": {},
   "outputs": [],
   "source": [
    "# define spatial reference, workspaces, and source data location\n",
    "sr= arcpy.SpatialReference(5070)\n",
    "OutputWorkspace = r\"D:\\Blueprint\\2023\\finalIndicatorEdits\\CaribbeanBlueprint2023_FinalIndicators\\CaribbeanBlueprint2023_FinalIndicators\\SpatialData\"\n",
    "benthicPR = r\"D:\\CaribbeanData\\TNC\\BenthicCondition\\BENTHIC_CONDITION_PRVI\\pr_mar_benhab4m_2021_EEZs_gridcode.tif\"\n",
    "benthicVI = r\"D:\\CaribbeanData\\TNC\\BenthicCondition\\BENTHIC_CONDITION_PRVI\\usvi_mar_benhab4m_2021_EEZs_gridcode.tif\"\n",
    "refugia = r\"D:\\CaribbeanData\\TNC\\CoralRefugia_122021\\CoralRefugia_122021.shp\""
   ]
  },
  {
   "cell_type": "code",
   "execution_count": 89,
   "metadata": {},
   "outputs": [],
   "source": [
    "# define final output name\n",
    "IndicatorFileName = \"CaribbeanShallowHardbottomAndCoral.tif\""
   ]
  },
  {
   "cell_type": "code",
   "execution_count": 90,
   "metadata": {},
   "outputs": [],
   "source": [
    "# define raster used for cell size, extent, and snapping\n",
    "CaribbeanRaster= r\"D:\\Blueprint\\2023\\extent\\VIPR_Extent_v6.tif\""
   ]
  },
  {
   "cell_type": "code",
   "execution_count": 91,
   "metadata": {},
   "outputs": [],
   "source": [
    "# Sometimes arcpro is fussy about not overwriting things\n",
    "arcpy.env.overwriteOutput = True"
   ]
  },
  {
   "cell_type": "markdown",
   "metadata": {},
   "source": [
    "## Start analysis"
   ]
  },
  {
   "cell_type": "code",
   "execution_count": 92,
   "metadata": {},
   "outputs": [],
   "source": [
    "# Set the source workspace\n",
    "arcpy.env.workspace = OutputWorkspace"
   ]
  },
  {
   "cell_type": "code",
   "execution_count": 93,
   "metadata": {},
   "outputs": [],
   "source": [
    "# convert coral refugia rank to raster\n",
    "with arcpy.EnvManager(outputCoordinateSystem=sr, extent=CaribbeanRaster, snapRaster=CaribbeanRaster, cellSize=CaribbeanRaster):\n",
    "    arcpy.conversion.FeatureToRaster(in_features=refugia, field=\"rank_PRU\", out_raster=\"refugia.tif\", cell_size=CaribbeanRaster)"
   ]
  },
  {
   "cell_type": "code",
   "execution_count": 94,
   "metadata": {},
   "outputs": [],
   "source": [
    "# reclass to get look at below average and above average resilience.Zero in the rank meant it wasn't assessed so it's scored\n",
    "# the same as NoData\n",
    "out_raster = arcpy.sa.Reclassify(\"refugia.tif\", \"Value\", \"0 0;1 775 10;776 1552 100;NoData 0\", \"DATA\"); out_raster.save(\"refugiaBin.tif\")"
   ]
  },
  {
   "cell_type": "code",
   "execution_count": 95,
   "metadata": {
    "scrolled": true
   },
   "outputs": [
    {
     "data": {
      "text/html": [
       "<div class='gpresult'><h2>Messages</h2><div id='messages' data-messages='[\"Start Time: Tuesday, July 11, 2023 8:42:35 AM\",\"Building Pyramids...\",\"Succeeded at Tuesday, July 11, 2023 8:44:28 AM (Elapsed Time: 1 minutes 52 seconds)\"]' data-show='true'><div id = 'default' /></div></div>"
      ],
      "text/plain": [
       "<Result 'D:\\\\Blueprint\\\\2023\\\\Caribbean\\\\Indicators\\\\Coral\\\\working\\\\vipr_mar_benhab4m_2021_EEZs_gridcode.tif'>"
      ]
     },
     "execution_count": 95,
     "metadata": {},
     "output_type": "execute_result"
    }
   ],
   "source": [
    "arcpy.management.MosaicToNewRaster(benthicPR+\";\"+benthicVI, OutputWorkspace, \"vipr_mar_benhab4m_2021_EEZs_gridcode.tif\", None, \"8_BIT_UNSIGNED\", None, 1, \"LAST\", \"FIRST\")"
   ]
  },
  {
   "cell_type": "code",
   "execution_count": 96,
   "metadata": {},
   "outputs": [],
   "source": [
    "# reproject and convert to 30 meters\n",
    "with arcpy.EnvManager(outputCoordinateSystem=sr, extent=CaribbeanRaster, snapRaster=CaribbeanRaster, cellSize=CaribbeanRaster):\n",
    "        arcpy.management.Resample(\"vipr_mar_benhab4m_2021_EEZs_gridcode.tif\", \"benthic.tif\", \"30 30\", \"MAJORITY\")"
   ]
  },
  {
   "cell_type": "code",
   "execution_count": 97,
   "metadata": {},
   "outputs": [],
   "source": [
    "# put benthic data in to indicator categories. Boulders and rocks (11) do not occur in this extent but would be a category before\n",
    "# hardbottom sparse algae\n",
    "out_raster = arcpy.sa.Reclassify(\"benthic.tif\", \"Value\", \"1 5 3;6 2;7 1;8 10 0;11 1;12 13 0\", \"DATA\"); out_raster.save(\"benthicBin.tif\")"
   ]
  },
  {
   "cell_type": "code",
   "execution_count": 98,
   "metadata": {},
   "outputs": [],
   "source": [
    "# Combine rasters for indicator categories\n",
    "out_raster = arcpy.sa.Plus(\"benthicBin.tif\", \"refugiaBin.tif\"); out_raster.save(\"PlusRefugia.tif\")"
   ]
  },
  {
   "cell_type": "code",
   "execution_count": 99,
   "metadata": {},
   "outputs": [],
   "source": [
    "out_raster = arcpy.sa.Reclassify(\"PlusRefugia.tif\", \"Value\", \"0 0;1 1;2 2;3 4;10 0;11 1;12 2;13 3;100 0;101 1;102 2;103 5\", \"DATA\"); out_raster.save(\"PlusRefugiaBin.tif\")"
   ]
  },
  {
   "cell_type": "code",
   "execution_count": 100,
   "metadata": {},
   "outputs": [],
   "source": [
    "# clip raster to Caribbean extent\n",
    "out_raster = arcpy.sa.ExtractByMask(\"PlusRefugiaBin.tif\", CaribbeanRaster); out_raster.save(IndicatorFileName)"
   ]
  },
  {
   "cell_type": "markdown",
   "metadata": {},
   "source": [
    "## Finalize indicator"
   ]
  },
  {
   "cell_type": "code",
   "execution_count": 107,
   "metadata": {},
   "outputs": [],
   "source": [
    "# set code block for legend\n",
    "codeblock = \"\"\"\n",
    "def Reclass(value):\n",
    "    if value == 0:\n",
    "        return '0 = Not coral or hardbottom'\n",
    "    elif value == 1:\n",
    "        return '1 = Hardbottom with dense algae' \n",
    "    elif value == 2:\n",
    "        return '2 = Hardbottom with sparse algae'    \n",
    "    elif value == 3:\n",
    "        return '3 = Coral with below average climate resilience'\n",
    "    elif value == 4:\n",
    "        return '4 = Coral with unknown climate resilience'\n",
    "    elif value == 5:\n",
    "        return '5 = Coral with above average climate resilience'\n",
    "\"\"\""
   ]
  },
  {
   "cell_type": "code",
   "execution_count": 108,
   "metadata": {},
   "outputs": [
    {
     "data": {
      "text/html": [
       "<div class='gpresult'><h2>Messages</h2><div id='messages' data-messages='[\"Start Time: Tuesday, July 11, 2023 8:47:52 AM\",\"Adding descript to CaribbeanShallowHardbottomAndCoral.tif.vat...\",\"Succeeded at Tuesday, July 11, 2023 8:47:52 AM (Elapsed Time: 0.28 seconds)\"]' data-show='true'><div id = 'default' /></div></div>"
      ],
      "text/plain": [
       "<Result 'D:\\\\Blueprint\\\\2023\\\\Caribbean\\\\Indicators\\\\Coral\\\\working\\\\CaribbeanShallowHardbottomAndCoral.tif'>"
      ]
     },
     "execution_count": 108,
     "metadata": {},
     "output_type": "execute_result"
    }
   ],
   "source": [
    "# add and calculate description field to hold indicator values\n",
    "arcpy.management.CalculateField(IndicatorFileName, \"descript\", \"Reclass(!value!)\", \"PYTHON3\", codeblock, \"TEXT\")"
   ]
  },
  {
   "cell_type": "code",
   "execution_count": 93,
   "metadata": {},
   "outputs": [],
   "source": [
    "# set code block for next step\n",
    "codeblock = \"\"\"\n",
    "def Reclass1(Value):\n",
    "\tif Value == 5:\n",
    "\t\treturn 0\n",
    "\tif Value == 4:\n",
    "\t\treturn 39\n",
    "\tif Value == 3:\n",
    "\t\treturn 168\n",
    "\tif Value == 2:\n",
    "\t\treturn 255\n",
    "\tif Value == 1:\n",
    "\t\treturn 255\n",
    "\tif Value == 0:\n",
    "\t\treturn 255\n",
    "\telse:\n",
    "\t\treturn 255\n",
    "\t\t\n",
    "def Reclass2(Value):\n",
    "\tif Value == 5:\n",
    "\t\treturn 96\n",
    "\tif Value == 4:\n",
    "\t\treturn 130\n",
    "\tif Value == 3:\n",
    "\t\treturn 137\n",
    "\tif Value == 2:\n",
    "\t\treturn 161\n",
    "\tif Value == 1:\n",
    "\t\treturn 202\n",
    "\tif Value == 0:\n",
    "\t\treturn 255\n",
    "\telse:\n",
    "\t\treturn 255\n",
    "\t\t\n",
    "def Reclass3(Value):\n",
    "\tif Value == 5:\n",
    "\t\treturn 166\n",
    "\tif Value == 4:\n",
    "\t\treturn 196\n",
    "\tif Value == 3:\n",
    "\t\treturn 184\n",
    "\tif Value == 2:\n",
    "\t\treturn 142\n",
    "\tif Value == 1:\n",
    "\t\treturn 191\n",
    "\tif Value == 0:\n",
    "\t\treturn 255\n",
    "\telse:\n",
    "\t\treturn 255\n",
    "\t\t\n",
    "\"\"\""
   ]
  },
  {
   "cell_type": "code",
   "execution_count": 94,
   "metadata": {},
   "outputs": [
    {
     "data": {
      "text/html": [
       "<div class='gpresult'><h2>Messages</h2><div id='messages' data-messages='[\"Start Time: Thursday, September 14, 2023 10:21:04 AM\",\"Succeeded at Thursday, September 14, 2023 10:21:04 AM (Elapsed Time: 0.43 seconds)\"]' data-show='true'><div id = 'default' /></div></div>"
      ],
      "text/plain": [
       "<Result 'D:\\\\Blueprint\\\\2023\\\\finalIndicatorEdits\\\\CaribbeanBlueprint2023_FinalIndicators\\\\CaribbeanBlueprint2023_FinalIndicators\\\\SpatialData\\\\CaribbeanShallowHardbottomAndCoral.tif'>"
      ]
     },
     "execution_count": 94,
     "metadata": {},
     "output_type": "execute_result"
    }
   ],
   "source": [
    "# calculate Red field\n",
    "arcpy.management.CalculateField(IndicatorFileName, \"Red\", \"Reclass1(!Value!)\", \"PYTHON3\", codeblock, \"SHORT\")\n",
    "# calculate Green field\n",
    "arcpy.management.CalculateField(IndicatorFileName, \"Green\", \"Reclass2(!Value!)\", \"PYTHON3\", codeblock, \"SHORT\")\n",
    "# calculate Blue field\n",
    "arcpy.management.CalculateField(IndicatorFileName, \"Blue\", \"Reclass3(!Value!)\", \"PYTHON3\", codeblock, \"SHORT\")"
   ]
  },
  {
   "cell_type": "code",
   "execution_count": null,
   "metadata": {},
   "outputs": [],
   "source": []
  }
 ],
 "metadata": {
  "kernelspec": {
   "display_name": "ArcGISPro",
   "language": "Python",
   "name": "python3"
  },
  "language_info": {
   "file_extension": ".py",
   "name": "python",
   "version": "3"
  }
 },
 "nbformat": 4,
 "nbformat_minor": 2
}
