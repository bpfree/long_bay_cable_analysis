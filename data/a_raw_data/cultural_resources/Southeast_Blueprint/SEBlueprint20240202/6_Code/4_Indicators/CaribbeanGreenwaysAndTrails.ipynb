{
 "cells": [
  {
   "cell_type": "markdown",
   "metadata": {},
   "source": [
    "# Greenways and Trails\n",
    "\n",
    "This is an indicator for the 2023 Virgin Islands and Puerto Rico.\n",
    "\n",
    "Created by Amy Keister, last run by Amy Keister on Sept 15 2023. It took 40 minutes to run."
   ]
  },
  {
   "cell_type": "code",
   "execution_count": 39,
   "metadata": {},
   "outputs": [],
   "source": [
    "import os\n",
    "import arcpy\n",
    "import numpy"
   ]
  },
  {
   "cell_type": "code",
   "execution_count": 40,
   "metadata": {},
   "outputs": [],
   "source": [
    "import time\n",
    "start = time.time()"
   ]
  },
  {
   "cell_type": "code",
   "execution_count": 41,
   "metadata": {},
   "outputs": [],
   "source": [
    "# define spatial reference and workspaces\n",
    "sr= arcpy.SpatialReference(5070)\n",
    "#SourceWorkspace = \n",
    "OutWorkspace = r\"D:\\SE_Blueprint_2023\\4_Indicators\\CarGreenwaysAndTrails\\GandT20230713.gdb\""
   ]
  },
  {
   "cell_type": "code",
   "execution_count": 42,
   "metadata": {},
   "outputs": [],
   "source": [
    "# define final outputs\n",
    "Out1 = r\"D:\\SE_Blueprint_2023\\4_Indicators\\CarGreenwaysAndTrails\\CaribbeanGreenwaysAndTrails.tif\""
   ]
  },
  {
   "cell_type": "code",
   "execution_count": 43,
   "metadata": {},
   "outputs": [],
   "source": [
    "# define sub-indicator outputs to help with user support"
   ]
  },
  {
   "cell_type": "code",
   "execution_count": 44,
   "metadata": {},
   "outputs": [],
   "source": [
    "# define rasters used for cell size, extent, and snapping\n",
    "Rextent= r\"D:\\SE_Blueprint_2023\\1_VIPR_Extent\\VIPR_Extent_v6.tif\""
   ]
  },
  {
   "cell_type": "code",
   "execution_count": 45,
   "metadata": {},
   "outputs": [],
   "source": [
    "# define additional inputs\n",
    "# highway IN ('footway', 'cycleway', 'bridleway', 'path')\n",
    "trails= r\"D:\\SE_Blueprint_2023\\4_Indicators\\CarGreenwaysAndTrails\\OpenStreetMap20230624\\Greenways.gpkg\\main.NotPrivateTrails\"\n",
    "sw= r\"D:\\SE_Blueprint_2023\\4_Indicators\\CarGreenwaysAndTrails\\OpenStreetMap20230624\\Greenways.gpkg\\main.Sidewalks\"\n",
    "\n",
    "# The ccap data is served up seperately for PR and each USVI island\n",
    "# I did some pre-processing in another notebook named CCAPpre_JustExportTif.ipynb because\n",
    "# ArcPro is not working with the original download rasters for some reason. It won't ID them \n",
    "# correctly and it also \n",
    "# won't perform processes on them correctly. I've tried many things, most of them work in ArcPro \n",
    "# outside of phython. Outside of python, if I reproject and bring the output into a geodatabase, \n",
    "# then ArcPro starts recognizing these rasters. But when I tried this in python it didn't work. \n",
    "# I tried mosaicing them first but it didn't make a raster that ArcPro can deal with. Finally I was \n",
    "# able to get copy raster to create rasters that ArcPro will recognize, but even with that, I had \n",
    "# to reboot my machine to get this copy to work correctly in python.\n",
    "ccapPR= r\"F:\\GIS_DATA\\LanduseLandcover\\CCAP\\VIPR\\copyPR.tif\"\n",
    "ccapST= r\"F:\\GIS_DATA\\LanduseLandcover\\CCAP\\VIPR\\copyST.tif\"\n",
    "ccapSJ= r\"F:\\GIS_DATA\\LanduseLandcover\\CCAP\\VIPR\\copySJ.tif\"\n",
    "ccapSC= r\"F:\\GIS_DATA\\LanduseLandcover\\CCAP\\VIPR\\copySC.tif\""
   ]
  },
  {
   "cell_type": "markdown",
   "metadata": {},
   "source": [
    "### Start Analysis"
   ]
  },
  {
   "cell_type": "code",
   "execution_count": 46,
   "metadata": {},
   "outputs": [],
   "source": [
    "# Change the workspace to where I am saving the outputs\n",
    "arcpy.env.workspace = OutWorkspace"
   ]
  },
  {
   "cell_type": "code",
   "execution_count": 47,
   "metadata": {},
   "outputs": [
    {
     "name": "stdout",
     "output_type": "stream",
     "text": [
      "D:\\SE_Blueprint_2023\\4_Indicators\\CarGreenwaysAndTrails\\GandT20230713.gdb\n"
     ]
    }
   ],
   "source": [
    "# Print the current workspace to make sure I'm in the right spot\n",
    "print(arcpy.env.workspace)"
   ]
  },
  {
   "cell_type": "markdown",
   "metadata": {},
   "source": [
    "### Pull out impervious data and reproject/rescale\n",
    "\n",
    "Since the CCAP data is finer resolution than the NLCD, and is binary, I am testing converting it to 30 meters to make it more comaparable to the NLCD"
   ]
  },
  {
   "cell_type": "code",
   "execution_count": 10,
   "metadata": {},
   "outputs": [],
   "source": [
    "# pull out impervious surface to make binary rasters\n",
    "out_raster = arcpy.sa.Con(ccapPR, 100, 0, \"Value = 2\"); out_raster.save(\"ccapPRimp\")\n",
    "out_raster = arcpy.sa.Con(ccapST, 100, 0, \"Value = 2\"); out_raster.save(\"ccapSTimp\")\n",
    "out_raster = arcpy.sa.Con(ccapSJ, 100, 0, \"Value = 2\"); out_raster.save(\"ccapSJimp\")\n",
    "out_raster = arcpy.sa.Con(ccapSC, 100, 0, \"Value = 2\"); out_raster.save(\"ccapSCimp\")"
   ]
  },
  {
   "cell_type": "code",
   "execution_count": 11,
   "metadata": {},
   "outputs": [],
   "source": [
    "# Use focal statistics to calculate the percent of cells in a 30 meter square that are identified as impervious \n",
    "# in the CCAP data\n",
    "with arcpy.EnvManager(outputCoordinateSystem=sr):\n",
    "    out_raster = arcpy.sa.FocalStatistics(\"ccapPRimp\", \"Rectangle 30 30 MAP\", \"MEAN\", \"DATA\", 90); out_raster.save(\"ccapPRimpFS\")\n",
    "    out_raster = arcpy.sa.FocalStatistics(\"ccapSTimp\", \"Rectangle 30 30 MAP\", \"MEAN\", \"DATA\", 90); out_raster.save(\"ccapSTimpFS\")\n",
    "    out_raster = arcpy.sa.FocalStatistics(\"ccapSJimp\", \"Rectangle 30 30 MAP\", \"MEAN\", \"DATA\", 90); out_raster.save(\"ccapSJimpFS\")\n",
    "    out_raster = arcpy.sa.FocalStatistics(\"ccapSCimp\", \"Rectangle 30 30 MAP\", \"MEAN\", \"DATA\", 90); out_raster.save(\"ccapSCimpFS\")"
   ]
  },
  {
   "cell_type": "code",
   "execution_count": 12,
   "metadata": {},
   "outputs": [],
   "source": [
    "# reprojet and resample to 30 meter, the idea is that this will make something similar to the NLCD continuous \n",
    "# version of impervious surface\n",
    "with arcpy.EnvManager(outputCoordinateSystem=sr, extent=Rextent, snapRaster=Rextent, cellSize=Rextent):\n",
    "    arcpy.management.Resample(\"ccapPRimpFS\", \"ccapPRimpFSrs\", \"30 30\", \"NEAREST\")\n",
    "    arcpy.management.Resample(\"ccapSTimpFS\", \"ccapSTimpFSrs\", \"30 30\", \"NEAREST\")\n",
    "    arcpy.management.Resample(\"ccapSJimpFS\", \"ccapSJimpFSrs\", \"30 30\", \"NEAREST\")\n",
    "    arcpy.management.Resample(\"ccapSCimpFS\", \"ccapSCimpFSrs\", \"30 30\", \"NEAREST\")"
   ]
  },
  {
   "cell_type": "code",
   "execution_count": 13,
   "metadata": {},
   "outputs": [],
   "source": [
    "# use cell statistics to combine instead of mosaic because of overlap between SJ and ST\n",
    "with arcpy.EnvManager(outputCoordinateSystem=sr, extent=Rextent, snapRaster=Rextent, cellSize=Rextent):\n",
    "    out_raster = arcpy.sa.CellStatistics(\"ccapPRimpFSrs;ccapSTimpFSrs;ccapSJimpFSrs;ccapSCimpFSrs\", \"MAXIMUM\", \"DATA\", \"SINGLE_BAND\", 90, \"AUTO_DETECT\"); out_raster.save(\"IMP\")"
   ]
  },
  {
   "cell_type": "markdown",
   "metadata": {},
   "source": [
    "### Make 0/NoData distinction\n",
    "\n"
   ]
  },
  {
   "cell_type": "code",
   "execution_count": 14,
   "metadata": {},
   "outputs": [],
   "source": [
    "# pull identify which areas were mapped with C-CAP\n",
    "out_raster = arcpy.sa.SetNull(ccapPR, 1, \"Value = 0\"); out_raster.save(\"ccapPRmap\")\n",
    "out_raster = arcpy.sa.SetNull(ccapST, 1, \"Value = 0\"); out_raster.save(\"ccapSTmap\")\n",
    "out_raster = arcpy.sa.SetNull(ccapSJ, 1, \"Value = 0\"); out_raster.save(\"ccapSJmap\")\n",
    "out_raster = arcpy.sa.SetNull(ccapSC, 1, \"Value = 0\"); out_raster.save(\"ccapSCmap\")"
   ]
  },
  {
   "cell_type": "code",
   "execution_count": 15,
   "metadata": {},
   "outputs": [],
   "source": [
    "# reprojet and resample to 30 meter\n",
    "with arcpy.EnvManager(outputCoordinateSystem=sr, extent=Rextent, snapRaster=Rextent, cellSize=Rextent):\n",
    "    arcpy.management.Resample(\"ccapPRmap\", \"ccapPRmaprs\", \"30 30\", \"NEAREST\")\n",
    "    arcpy.management.Resample(\"ccapSTmap\", \"ccapSTmaprs\", \"30 30\", \"NEAREST\")\n",
    "    arcpy.management.Resample(\"ccapSJmap\", \"ccapSJmaprs\", \"30 30\", \"NEAREST\")\n",
    "    arcpy.management.Resample(\"ccapSCmap\", \"ccapSCmaprs\", \"30 30\", \"NEAREST\")"
   ]
  },
  {
   "cell_type": "code",
   "execution_count": 16,
   "metadata": {},
   "outputs": [],
   "source": [
    "# use cell statistics to combine instead of mosaic because of overlap between SJ and ST\n",
    "with arcpy.EnvManager(outputCoordinateSystem=sr, extent=Rextent, snapRaster=Rextent, cellSize=Rextent):\n",
    "    out_raster = arcpy.sa.CellStatistics(\"ccapPRmaprs;ccapSTmaprs;ccapSJmaprs;ccapSCmaprs\", \"MAXIMUM\", \"DATA\", \"SINGLE_BAND\", 90, \"AUTO_DETECT\"); out_raster.save(\"map\")"
   ]
  },
  {
   "cell_type": "markdown",
   "metadata": {},
   "source": [
    "### Explore Trail Data\n",
    "\n",
    "Change trail projection to the projection we are using for this analysis"
   ]
  },
  {
   "cell_type": "code",
   "execution_count": 17,
   "metadata": {},
   "outputs": [],
   "source": [
    "# convert all non-private trails to a geodatabase\n",
    "with arcpy.EnvManager(extent=Rextent):\n",
    "    arcpy.management.FeatureToLine(trails, \"NotPrivateTrails\", None, \"ATTRIBUTES\")"
   ]
  },
  {
   "cell_type": "code",
   "execution_count": 18,
   "metadata": {},
   "outputs": [],
   "source": [
    "# reproject trails\n",
    "with arcpy.EnvManager(outputCoordinateSystem=sr,extent=Rextent):\n",
    "    arcpy.management.CopyFeatures(\"NotPrivateTrails\", \"Trails1\", '', None, None, None)"
   ]
  },
  {
   "cell_type": "markdown",
   "metadata": {},
   "source": [
    "### Identify trails that we believe are connected\n",
    "There are gaps in the trails that are due to digitizing errors. If a trail is within 1 meter of another trail, we are assuming this is a digitizing error and not a real gap in the trail."
   ]
  },
  {
   "cell_type": "code",
   "execution_count": 19,
   "metadata": {},
   "outputs": [],
   "source": [
    "# buffer the trails by 1 meters\n",
    "with arcpy.EnvManager(outputCoordinateSystem=sr, extent=Rextent):\n",
    "    arcpy.analysis.Buffer(\"Trails1\", \"TrailsBuff\", \"1 Meters\", \"FULL\", \"ROUND\", \"NONE\", [], \"PLANAR\")"
   ]
  },
  {
   "cell_type": "code",
   "execution_count": 20,
   "metadata": {},
   "outputs": [
    {
     "data": {
      "text/html": [
       "<div class='gpresult'><h2>Messages</h2><div id='messages' data-messages='[\"Start Time: Thursday, July 13, 2023 4:08:39 PM\",\"Dissolving...\",\"Succeeded at Thursday, July 13, 2023 4:09:32 PM (Elapsed Time: 52.44 seconds)\"]' data-show='true'><div id = 'default' /></div></div>"
      ],
      "text/plain": [
       "<Result 'D:\\\\SE_Blueprint_2023\\\\4_Indicators\\\\CarGreenwaysAndTrails\\\\GandT20230713.gdb\\\\TrailsBuffDis'>"
      ]
     },
     "execution_count": 20,
     "metadata": {},
     "output_type": "execute_result"
    }
   ],
   "source": [
    "# dissolve the buffered trails. Should be able to do this as a part of the function above, but it tends to crash so\n",
    "# I'm doing it seperately\n",
    "arcpy.management.Dissolve(\"TrailsBuff\", \"TrailsBuffDis\", [], [], \"SINGLE_PART\", \"DISSOLVE_LINES\")"
   ]
  },
  {
   "cell_type": "code",
   "execution_count": 21,
   "metadata": {},
   "outputs": [
    {
     "data": {
      "text/html": [
       "<div class='gpresult'><h2>Messages</h2><div id='messages' data-messages='[\"Start Time: Thursday, July 13, 2023 4:09:32 PM\",\"Adding ID to TrailsBuffDis...\",\"Succeeded at Thursday, July 13, 2023 4:09:32 PM (Elapsed Time: 0.18 seconds)\"]' data-show='true'><div id = 'default' /></div></div>"
      ],
      "text/plain": [
       "<Result 'D:\\\\SE_Blueprint_2023\\\\4_Indicators\\\\CarGreenwaysAndTrails\\\\GandT20230713.gdb\\\\TrailsBuffDis'>"
      ]
     },
     "execution_count": 21,
     "metadata": {},
     "output_type": "execute_result"
    }
   ],
   "source": [
    "# add and calculate a field to hold unique IDs for the buffered dissolved lines. This will be used to indentify trails\n",
    "# that are connected\n",
    "arcpy.management.CalculateField(\"TrailsBuffDis\", \"ID\", \"!OBJECTID!\", \"PYTHON3\", \"\", \"LONG\")"
   ]
  },
  {
   "cell_type": "code",
   "execution_count": 22,
   "metadata": {},
   "outputs": [],
   "source": [
    "# use a spatial join to attach the unique id from the buffered trails back to the original linework\n",
    "with arcpy.EnvManager(outputCoordinateSystem=sr):\n",
    "    arcpy.analysis.SpatialJoin(\"Trails1\", \"TrailsBuffDis\", \"Trails2\", \"JOIN_ONE_TO_ONE\", \"KEEP_ALL\", \"\", \"INTERSECT\", \"\", \"\")"
   ]
  },
  {
   "cell_type": "code",
   "execution_count": 23,
   "metadata": {},
   "outputs": [
    {
     "data": {
      "text/html": [
       "<div class='gpresult'><h2>Messages</h2><div id='messages' data-messages='[\"Start Time: Thursday, July 13, 2023 4:09:34 PM\",\"Sorting Attributes...\",\"Dissolving...\",\"Succeeded at Thursday, July 13, 2023 4:09:36 PM (Elapsed Time: 1.48 seconds)\"]' data-show='true'><div id = 'default' /></div></div>"
      ],
      "text/plain": [
       "<Result 'D:\\\\SE_Blueprint_2023\\\\4_Indicators\\\\CarGreenwaysAndTrails\\\\GandT20230713.gdb\\\\Trails2Dis'>"
      ]
     },
     "execution_count": 23,
     "metadata": {},
     "output_type": "execute_result"
    }
   ],
   "source": [
    "# dissolve trails to find length of connected trails\n",
    "arcpy.management.Dissolve(\"Trails2\", \"Trails2Dis\", \"ID\", \"\", \"MULTI_PART\", \"DISSOLVE_LINES\")"
   ]
  },
  {
   "cell_type": "code",
   "execution_count": 24,
   "metadata": {},
   "outputs": [],
   "source": [
    "# add and calculate length field\n",
    "# this used to work, but it doesn't work anymore. \n",
    "#arcpy.management.CalculateField(\"Trails2Dis\", \"LengthM\", \"!shape.geom_Length@meters!\", \"PYTHON3\", \"\", \"DOUBLE\")"
   ]
  },
  {
   "cell_type": "code",
   "execution_count": 25,
   "metadata": {},
   "outputs": [
    {
     "data": {
      "text/html": [
       "<div class='gpresult'><h2>Messages</h2><div id='messages' data-messages='[\"Start Time: Thursday, July 13, 2023 4:09:36 PM\",\"Succeeded at Thursday, July 13, 2023 4:09:37 PM (Elapsed Time: 1.21 seconds)\"]' data-show='true'><div id = 'default' /></div></div>"
      ],
      "text/plain": [
       "<Result 'D:\\\\SE_Blueprint_2023\\\\4_Indicators\\\\CarGreenwaysAndTrails\\\\GandT20230713.gdb\\\\Trails2Dis'>"
      ]
     },
     "execution_count": 25,
     "metadata": {},
     "output_type": "execute_result"
    }
   ],
   "source": [
    "# add and calculate length field\n",
    "arcpy.management.CalculateGeometryAttributes(\"Trails2Dis\", \"LengthM LENGTH\", \"METERS\", '', sr, \"SAME_AS_INPUT\")"
   ]
  },
  {
   "cell_type": "code",
   "execution_count": 26,
   "metadata": {},
   "outputs": [],
   "source": [
    "# create a raster based on the trail length value\n",
    "with arcpy.EnvManager(outputCoordinateSystem=sr, extent=Rextent, snapRaster=Rextent, cellSize=Rextent):\n",
    "    arcpy.conversion.PolylineToRaster(\"Trails2Dis\", \"LengthM\", \"TrailLength\", \"MAXIMUM_LENGTH\", \"NONE\", Rextent)"
   ]
  },
  {
   "cell_type": "code",
   "execution_count": 27,
   "metadata": {},
   "outputs": [],
   "source": [
    "# make an ISNull version of the trails length raster. This will be used later if we want to assign 0 to areas that are not trails\n",
    "out_raster = arcpy.sa.IsNull(\"TrailLength\"); out_raster.save(\"TrailLengthIsNull\")"
   ]
  },
  {
   "cell_type": "markdown",
   "metadata": {},
   "source": [
    "### Perform analysis to calcuate percent impervious near trails\n",
    "\n",
    "Nearby impervious: is defined as the average impervious surface within a 300 m radius circle surrounding the path. HOWEVER along that 300 m stretch of trail, we only count the impervious surface within a 45 m buffer on either side of the trail, since pixels nearer the trail have a bigger impact on the greenway/trail experience. So really this is looking forward and behind a person 300 m as they walk on the trail.\n",
    "\n",
    "Local impervious is defined as the percent impervious surface of the 30 m pixel that intersects the trail. "
   ]
  },
  {
   "cell_type": "code",
   "execution_count": 28,
   "metadata": {},
   "outputs": [
    {
     "data": {
      "text/html": [
       "<div class='gpresult'><h2>Messages</h2><div id='messages' data-messages='[\"Start Time: Thursday, July 13, 2023 4:09:46 PM\",\"Succeeded at Thursday, July 13, 2023 4:09:51 PM (Elapsed Time: 4.27 seconds)\"]' data-show='true'><div id = 'default' /></div></div>"
      ],
      "text/plain": [
       "<Result 'D:\\\\SE_Blueprint_2023\\\\4_Indicators\\\\CarGreenwaysAndTrails\\\\GandT20230713.gdb\\\\Trails2Dis_45mbuff'>"
      ]
     },
     "execution_count": 28,
     "metadata": {},
     "output_type": "execute_result"
    }
   ],
   "source": [
    "# buffer all trails\n",
    "arcpy.analysis.Buffer(\"Trails2Dis\", \"Trails2Dis_45mbuff\", \"45 Meters\", \"FULL\", \"ROUND\", \"NONE\", \"\", \"PLANAR\")"
   ]
  },
  {
   "cell_type": "code",
   "execution_count": 29,
   "metadata": {},
   "outputs": [],
   "source": [
    "# extract impervious within 45 meters around trails\n",
    "with arcpy.EnvManager(outputCoordinateSystem=sr, extent=Rextent, snapRaster=Rextent, cellSize=Rextent):\n",
    "    out_raster = arcpy.sa.ExtractByMask(\"IMP\", \"Trails2Dis_45mbuff\"); out_raster.save(\"Imp45\")"
   ]
  },
  {
   "cell_type": "code",
   "execution_count": 30,
   "metadata": {},
   "outputs": [],
   "source": [
    "# use focal statistics to calculate what we are calling \"nearby impervious\"\n",
    "out_raster = arcpy.sa.FocalStatistics(\"Imp45\", \"Circle 10 CELL\", \"MEAN\", \"DATA\"); out_raster.save(\"FocalStat\")"
   ]
  },
  {
   "cell_type": "code",
   "execution_count": 31,
   "metadata": {},
   "outputs": [],
   "source": [
    "# reduce this down again to the pixels that intersect the trails, since those are the only pixels we are scoring\n",
    "out_raster = arcpy.sa.ExtractByMask(\"FocalStat\", \"Trails2Dis\"); out_raster.save(\"ImpNearby\")"
   ]
  },
  {
   "cell_type": "code",
   "execution_count": 32,
   "metadata": {},
   "outputs": [],
   "source": [
    "# extract impervious surfact pixels that intersect trails\n",
    "out_raster = arcpy.sa.ExtractByMask(\"IMP\", \"Trails2Dis\"); out_raster.save(\"ImpLocal\")"
   ]
  },
  {
   "cell_type": "code",
   "execution_count": 33,
   "metadata": {},
   "outputs": [],
   "source": [
    "# calculate mean of nearby and local impervous surface\n",
    "out_raster= arcpy.sa.CellStatistics([\"ImpNearby\", \"ImpLocal\"], \"MEAN\", \"DATA\", \"SINGLE_BAND\"); out_raster.save(\"mean\")"
   ]
  },
  {
   "cell_type": "code",
   "execution_count": 34,
   "metadata": {},
   "outputs": [],
   "source": [
    "# use a nested conditional statement to classify the mean of the local and nearby impervious surface\n",
    "out_raster= arcpy.sa.Con(arcpy.Raster(\"mean\") >= 10, 1, arcpy.sa.Con(arcpy.Raster(\"mean\") >1, 2, arcpy.sa.Con(arcpy.Raster(\"mean\") <= 1, 3, 0))); out_raster.save(\"NatDef\")"
   ]
  },
  {
   "cell_type": "markdown",
   "metadata": {},
   "source": [
    "### Give a lower score trails identifed as sidewalks in the openstreetmap data\n",
    "This uses the sidewalk tag from open street map"
   ]
  },
  {
   "cell_type": "code",
   "execution_count": 35,
   "metadata": {},
   "outputs": [],
   "source": [
    "# convert all sidewalks to a geodatabase\n",
    "with arcpy.EnvManager(extent=Rextent):\n",
    "    arcpy.management.FeatureToLine(sw, \"Sidewalks\", None, \"ATTRIBUTES\")"
   ]
  },
  {
   "cell_type": "code",
   "execution_count": 36,
   "metadata": {},
   "outputs": [],
   "source": [
    "# reproject sidewalks\n",
    "with arcpy.EnvManager(outputCoordinateSystem=sr, extent=Rextent):\n",
    "    arcpy.management.CopyFeatures(\"Sidewalks\", \"Sidewalks1\", '', None, None, None)"
   ]
  },
  {
   "cell_type": "code",
   "execution_count": 37,
   "metadata": {},
   "outputs": [
    {
     "data": {
      "text/html": [
       "<div class='gpresult'><h2>Messages</h2><div id='messages' data-messages='[\"Start Time: Thursday, July 13, 2023 4:10:33 PM\",\"Adding raster to Sidewalks1...\",\"Succeeded at Thursday, July 13, 2023 4:10:33 PM (Elapsed Time: 0.07 seconds)\"]' data-show='true'><div id = 'default' /></div></div>"
      ],
      "text/plain": [
       "<Result 'D:\\\\SE_Blueprint_2023\\\\4_Indicators\\\\CarGreenwaysAndTrails\\\\GandT20230713.gdb\\\\Sidewalks1'>"
      ]
     },
     "execution_count": 37,
     "metadata": {},
     "output_type": "execute_result"
    }
   ],
   "source": [
    "# add and calculate a field to use to convert to raster\n",
    "arcpy.management.CalculateField(\"Sidewalks1\", \"raster\", \"1\", \"PYTHON3\", '', \"TEXT\", \"NO_ENFORCE_DOMAINS\")"
   ]
  },
  {
   "cell_type": "code",
   "execution_count": 38,
   "metadata": {},
   "outputs": [],
   "source": [
    "# create a raster from sidewalks\n",
    "with arcpy.EnvManager(outputCoordinateSystem=sr, extent=Rextent, snapRaster=Rextent, cellSize=Rextent):\n",
    "    arcpy.conversion.PolylineToRaster(\"Sidewalks1\", \"raster\", \"SidewalkR\", \"MAXIMUM_LENGTH\", \"NONE\", Rextent)"
   ]
  },
  {
   "cell_type": "code",
   "execution_count": 39,
   "metadata": {},
   "outputs": [],
   "source": [
    "# make an ISNull version of the sidewalks\n",
    "out_raster = arcpy.sa.IsNull(\"SidewalkR\"); out_raster.save(\"SidewalkRIsNull\")"
   ]
  },
  {
   "cell_type": "markdown",
   "metadata": {},
   "source": [
    "### Make legend values"
   ]
  },
  {
   "cell_type": "code",
   "execution_count": 40,
   "metadata": {},
   "outputs": [],
   "source": [
    "# use a nested conditional statement to assign legend values based on the mean impervious and trail length\n",
    "out_raster= arcpy.sa.Con((arcpy.Raster(\"mean\") <= 1) & (arcpy.Raster(\"TrailLength\") >= 40000),7, \\\n",
    "             arcpy.sa.Con(((arcpy.Raster(\"mean\") <= 1) & (arcpy.Raster(\"TrailLength\") >= 5000) | (arcpy.Raster(\"mean\") < 10) & (arcpy.Raster(\"TrailLength\") >= 40000)),6, \\\n",
    "                          arcpy.sa.Con(((arcpy.Raster(\"mean\") <= 1) & (arcpy.Raster(\"TrailLength\") >= 1900) | (arcpy.Raster(\"mean\") < 10) & (arcpy.Raster(\"TrailLength\") >= 5000)|(arcpy.Raster(\"mean\") >= 10) & (arcpy.Raster(\"TrailLength\") >= 40000)),5,\\\n",
    "                                       arcpy.sa.Con(((arcpy.Raster(\"mean\") <= 1) & (arcpy.Raster(\"TrailLength\") < 1900) | (arcpy.Raster(\"mean\") < 10) & (arcpy.Raster(\"TrailLength\") >= 1900)|(arcpy.Raster(\"mean\") >= 10) & (arcpy.Raster(\"TrailLength\") >= 5000)),4,\\\n",
    "                                                    arcpy.sa.Con(((arcpy.Raster(\"mean\") < 10) & (arcpy.Raster(\"TrailLength\") < 1900) | (arcpy.Raster(\"mean\") >= 10) & (arcpy.Raster(\"TrailLength\") >= 1900)),3,\\\n",
    "                                                                 arcpy.sa.Con(((arcpy.Raster(\"mean\") >= 10) & (arcpy.Raster(\"TrailLength\") < 1900)),2,1)))))) \\\n",
    "; out_raster.save(\"Part1\")"
   ]
  },
  {
   "cell_type": "code",
   "execution_count": 41,
   "metadata": {},
   "outputs": [],
   "source": [
    "# Step one of doing zero/NoData Reclassify to make NoData 1, this will let me to a time next\n",
    "with arcpy.EnvManager(outputCoordinateSystem=sr, extent=Rextent, snapRaster=Rextent, cellSize=Rextent):\n",
    "    out_raster = arcpy.sa.Reclassify(\"Part1\", \"Value\", \"NODATA 1;2 2;3 3;4 4;5 5;6 6\", \"DATA\"); out_raster.save(\"Part2\")"
   ]
  },
  {
   "cell_type": "code",
   "execution_count": 42,
   "metadata": {},
   "outputs": [],
   "source": [
    "# Step two of doing zero/NoData\n",
    "out_raster= arcpy.sa.Times(\"Part2\", \"map\"); out_raster.save(\"Part3\")"
   ]
  },
  {
   "cell_type": "code",
   "execution_count": 43,
   "metadata": {},
   "outputs": [],
   "source": [
    "# Set three of doing zero/NoData. Reclassify to make zeros\n",
    "out_raster = arcpy.sa.Reclassify(\"Part3\", \"Value\", \"1 0;2 2;3 3;4 4;5 5;6 6\", \"DATA\"); out_raster.save(\"Part4\")"
   ]
  },
  {
   "cell_type": "code",
   "execution_count": 44,
   "metadata": {},
   "outputs": [],
   "source": [
    "# make trails that are tagged as sidewalks a value of 1, regardless of impervious\n",
    "with arcpy.EnvManager(outputCoordinateSystem=sr, extent=Rextent, snapRaster=Rextent, cellSize=Rextent):\n",
    "    out_raster= arcpy.sa.Con(\"SidewalkRIsNull\", \"Part4\", \"1\", \"Value = 1\"); out_raster.save(\"indicator\")"
   ]
  },
  {
   "cell_type": "markdown",
   "metadata": {},
   "source": [
    "### Finalize indiator\n",
    "\n",
    "do final steps for all indicators to add description fields, clip and export to SE extent"
   ]
  },
  {
   "cell_type": "code",
   "execution_count": 52,
   "metadata": {},
   "outputs": [],
   "source": [
    "# clip to extent\n",
    "with arcpy.EnvManager(outputCoordinateSystem=sr, extent=Rextent, snapRaster=Rextent, cellSize=Rextent):\n",
    "    out_raster = arcpy.sa.ExtractByMask(\"indicator\", Rextent); out_raster.save(\"indicator1\")"
   ]
  },
  {
   "cell_type": "code",
   "execution_count": 53,
   "metadata": {},
   "outputs": [],
   "source": [
    "# export as .tif \n",
    "with arcpy.EnvManager(outputCoordinateSystem=sr, extent=Rextent, snapRaster=Rextent, cellSize=Rextent):\n",
    "    arcpy.management.CopyRaster(\"indicator1\", Out1, '', None, \"255\", \"NONE\", \"NONE\", \"8_BIT_UNSIGNED\", \"NONE\", \"NONE\", \"TIFF\", \"NONE\", \"CURRENT_SLICE\", \"NO_TRANSPOSE\")"
   ]
  },
  {
   "cell_type": "code",
   "execution_count": 4,
   "metadata": {},
   "outputs": [],
   "source": [
    "Out= r\"D:\\SE_Blueprint_2023\\5_IndicatorLegendColorFix\\CaribbeanGreenwaysAndTrails.tif\""
   ]
  },
  {
   "cell_type": "code",
   "execution_count": 5,
   "metadata": {},
   "outputs": [],
   "source": [
    "# set code block for next step\n",
    "\n",
    "codeblock = \"\"\"\n",
    "def Reclass(v):\n",
    "\tif v == 7:\n",
    "\t\treturn '7 = Mostly natural and connected for ≥40 km'\n",
    "\telif v == 6:\n",
    "\t\treturn '6 = Mostly natural and connected for 5 to <40 km or partly natural and connected for ≥40 km'\n",
    "\telif v == 5:\n",
    "\t\treturn '5 = Mostly natural and connected for 1.9 to <5 km, partly natural and connected for 5 to <40 km, or developed and connected for ≥40 km'\n",
    "\telif v == 4:\n",
    "\t\treturn '4 = Mostly natural and connected for <1.9 km, partly natural and connected for 1.9 to <5 km, or developed and connected for 5 to <40 km'\n",
    "\telif v == 3:\n",
    "\t\treturn '3 = Partly natural and connected for <1.9 km or developed and connected for 1.9 to <5 km'\n",
    "\telif v == 2:\n",
    "\t\treturn '2 = Developed and connected for <1.9 km'\n",
    "\telif v == 1:\n",
    "\t\treturn '1 = Sidewalk'\n",
    "\telif v == 0:\n",
    "\t\treturn '0 = Not identified as a trail, sidewalk, or other path'\n",
    "\"\"\""
   ]
  },
  {
   "cell_type": "code",
   "execution_count": 6,
   "metadata": {},
   "outputs": [
    {
     "data": {
      "text/html": [
       "<div class='gpresult'><h2>Messages</h2><div id='messages' data-messages='[\"Start Time: Tuesday, September 19, 2023 5:11:38 PM\",\"Succeeded at Tuesday, September 19, 2023 5:11:39 PM (Elapsed Time: 0.12 seconds)\"]' data-show='true'><div id = 'default' /></div></div>"
      ],
      "text/plain": [
       "<Result 'D:\\\\SE_Blueprint_2023\\\\5_IndicatorLegendColorFix\\\\CaribbeanGreenwaysAndTrails.tif'>"
      ]
     },
     "execution_count": 6,
     "metadata": {},
     "output_type": "execute_result"
    }
   ],
   "source": [
    "# add and calculate description field to hold indicator values\n",
    "arcpy.management.CalculateField(Out, \"descript\", \"Reclass(!Value!)\", \"PYTHON3\", codeblock, \"TEXT\")"
   ]
  },
  {
   "cell_type": "code",
   "execution_count": 50,
   "metadata": {},
   "outputs": [],
   "source": [
    "# set code block for next step\n",
    "codeblock = \"\"\"\n",
    "def Reclass1(Value):\n",
    "\tif Value == 7:\n",
    "\t\treturn 0\n",
    "\tif Value == 6:\n",
    "\t\treturn 105\n",
    "\tif Value == 5:\n",
    "\t\treturn 162\n",
    "\tif Value == 4:\n",
    "\t\treturn 201\n",
    "\tif Value == 3:\n",
    "\t\treturn 225\n",
    "\tif Value == 2:\n",
    "\t\treturn 234\n",
    "\tif Value == 1:\n",
    "\t\treturn 226\n",
    "\telse:\n",
    "\t\treturn 255\n",
    "\t\t\n",
    "def Reclass2(Value):\n",
    "\tif Value == 7:\n",
    "\t\treturn 24\n",
    "\tif Value == 6:\n",
    "\t\treturn 2\n",
    "\tif Value == 5:\n",
    "\t\treturn 17\n",
    "\tif Value == 4:\n",
    "\t\treturn 65\n",
    "\tif Value == 3:\n",
    "\t\treturn 116\n",
    "\tif Value == 2:\n",
    "\t\treturn 169\n",
    "\tif Value == 1:\n",
    "\t\treturn 226\n",
    "\telse:\n",
    "\t\treturn 255\n",
    "\t\t\n",
    "def Reclass3(Value):\n",
    "\tif Value == 7:\n",
    "\t\treturn 137\n",
    "\tif Value == 6:\n",
    "\t\treturn 141\n",
    "\tif Value == 5:\n",
    "\t\treturn 137\n",
    "\tif Value == 4:\n",
    "\t\treturn 118\n",
    "\tif Value == 3:\n",
    "\t\treturn 75\n",
    "\tif Value == 2:\n",
    "\t\treturn 22\n",
    "\tif Value == 1:\n",
    "\t\treturn 38\n",
    "\telse:\n",
    "\t\treturn 255\n",
    "\"\"\""
   ]
  },
  {
   "cell_type": "code",
   "execution_count": 51,
   "metadata": {},
   "outputs": [
    {
     "data": {
      "text/html": [
       "<div class='gpresult'><h2>Messages</h2><div id='messages' data-messages='[\"Start Time: Friday, September 15, 2023 1:41:45 PM\",\"Succeeded at Friday, September 15, 2023 1:41:46 PM (Elapsed Time: 0.19 seconds)\"]' data-show='true'><div id = 'default' /></div></div>"
      ],
      "text/plain": [
       "<Result 'indicator'>"
      ]
     },
     "execution_count": 51,
     "metadata": {},
     "output_type": "execute_result"
    }
   ],
   "source": [
    "# calculate Red field\n",
    "arcpy.management.CalculateField(Out, \"Red\", \"Reclass1(!Value!)\", \"PYTHON3\", codeblock, \"SHORT\")\n",
    "# calculate Green field\n",
    "arcpy.management.CalculateField(Out, \"Green\", \"Reclass2(!Value!)\", \"PYTHON3\", codeblock, \"SHORT\")\n",
    "# calculate Blue field\n",
    "arcpy.management.CalculateField(Out, \"Blue\", \"Reclass3(!Value!)\", \"PYTHON3\", codeblock, \"SHORT\")"
   ]
  },
  {
   "cell_type": "code",
   "execution_count": null,
   "metadata": {},
   "outputs": [],
   "source": []
  },
  {
   "cell_type": "code",
   "execution_count": null,
   "metadata": {},
   "outputs": [],
   "source": [
    "# this prints the time it took this notebook to run in seconds\n",
    "end = time.time()\n",
    "print(end - start)"
   ]
  }
 ],
 "metadata": {
  "kernelspec": {
   "display_name": "ArcGISPro",
   "language": "Python",
   "name": "python3"
  },
  "language_info": {
   "file_extension": ".py",
   "name": "python",
   "version": "3"
  }
 },
 "nbformat": 4,
 "nbformat_minor": 2
}
