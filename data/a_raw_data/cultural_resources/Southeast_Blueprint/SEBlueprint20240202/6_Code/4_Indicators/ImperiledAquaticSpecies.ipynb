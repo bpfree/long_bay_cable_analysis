{
 "cells": [
  {
   "cell_type": "markdown",
   "metadata": {},
   "source": [
    "# Imperiled Aquatic Species\n",
    "\n",
    "This is an indicator for the 2023 blueprint minor update.\n",
    "\n",
    "This is a proposed change to the way we handle 0 vs nodata in our indicators.\n",
    "\n",
    "This also uses updated data because I didn't have the version of the SARP data that Daniel used in 2022.\n",
    "\n",
    "This must be run in ArcPro with an open map because of the join.\n",
    "\n",
    "Created by Amy Keister, last run by Amy Keister on 15 May, 2023. It took 40 minutes to run."
   ]
  },
  {
   "cell_type": "code",
   "execution_count": 16,
   "metadata": {},
   "outputs": [],
   "source": [
    "import os\n",
    "import arcpy"
   ]
  },
  {
   "cell_type": "code",
   "execution_count": 17,
   "metadata": {},
   "outputs": [],
   "source": [
    "import time\n",
    "start = time.time()"
   ]
  },
  {
   "cell_type": "code",
   "execution_count": 18,
   "metadata": {},
   "outputs": [],
   "source": [
    "# define spatial reference and workspaces\n",
    "sr= arcpy.SpatialReference(5070)\n",
    "#SourceWorkspace= \n",
    "OutWorkspace= r\"D:\\SE_Blueprint_2023\\5_Indicators_Tier2_UnClipped\\Imperiled\\ImperiledAqua.gdb\""
   ]
  },
  {
   "cell_type": "code",
   "execution_count": 19,
   "metadata": {},
   "outputs": [],
   "source": [
    "# define final outputs\n",
    "out = r\"D:\\SE_Blueprint_2023\\5_Indicators_Tier2_UnClipped\\Imperiled\\ImperiledAquaticSpecies2023.tif\""
   ]
  },
  {
   "cell_type": "code",
   "execution_count": 20,
   "metadata": {},
   "outputs": [],
   "source": [
    "# define rasters used for cell size, extent, and snapping\n",
    "Rextent= r\"F:\\GIS_DATA\\SECAS\\SE_Blueprint_2022\\Southeast_Blueprint_2022_Data_Download\\SEBlueprint20221215\\Inputs\\BaseBlueprint\\1_ExtentLayers\\BaseBlueprintExtent2022.tif\""
   ]
  },
  {
   "cell_type": "code",
   "execution_count": 21,
   "metadata": {},
   "outputs": [],
   "source": [
    "# define inputs\n",
    "#SARP = r\"F:\\GIS_DATA\\WaterResources\\SARP2023\\spp_HUC12.xlsx\"\n",
    "SARP = r\"F:\\GIS_DATA\\WaterResources\\SARP2023\\spp_HUC12.xlsx\\Sheet1$\"\n",
    "FP = r\"F:\\GIS_DATA\\WaterResources\\Estimated_floodplain_CONUS\\Estimated_floodplain_CONUS.tif\"\n",
    "H12 = r\"F:\\GIS_DATA\\WaterResources\\NHD\\WBD_National_GDB\\WBD_National_GDB.gdb\\WBDHU12\"\n",
    "state= r\"F:\\GIS_DATA\\Boundaries\\States\\tl_rd22_us_state\\tl_rd22_us_state.shp\"\n",
    "catch = r\"F:\\GIS_DATA\\WaterResources\\NHD\\NHDPlusV21\\NHDPlusV21_Catchment.gdb\\Catchment\"\n",
    "# can't use high resolution for this purpose because the NC coast is messed up\n",
    "#catch= r\"F:\\GIS_DATA\\WaterResources\\NHD\\NHDPlus_H_National_Release_1_GDB\\NHDPlus_H_National_Release_1_GDB.gdb\\NHDPlusCatchment\""
   ]
  },
  {
   "cell_type": "markdown",
   "metadata": {},
   "source": [
    "### Start Analysis"
   ]
  },
  {
   "cell_type": "code",
   "execution_count": 22,
   "metadata": {},
   "outputs": [],
   "source": [
    "# Set the workspace where I want the output to go\n",
    "arcpy.env.workspace = OutWorkspace"
   ]
  },
  {
   "cell_type": "code",
   "execution_count": null,
   "metadata": {},
   "outputs": [],
   "source": [
    "# Print the current workspace to make sure I'm in the right spot\n",
    "print(arcpy.env.workspace)"
   ]
  },
  {
   "cell_type": "markdown",
   "metadata": {},
   "source": [
    "### SARP Data\n"
   ]
  },
  {
   "cell_type": "code",
   "execution_count": 8,
   "metadata": {},
   "outputs": [],
   "source": [
    "# make a copy of the HUC12 for edits\n",
    "with arcpy.EnvManager(outputCoordinateSystem=sr, extent=Rextent):\n",
    "    arcpy.management.CopyFeatures(H12, \"H12\", '', None, None, None)"
   ]
  },
  {
   "cell_type": "code",
   "execution_count": 9,
   "metadata": {},
   "outputs": [],
   "source": [
    "# join excel file from SARP with HUC12\n",
    "with arcpy.EnvManager(outputCoordinateSystem=sr, extent=Rextent):\n",
    "    arcpy.management.AddJoin(\"H12\", \"huc12\", SARP, \"HUC12\", \"KEEP_ALL\", \"NO_INDEX_JOIN_FIELDS\")"
   ]
  },
  {
   "cell_type": "code",
   "execution_count": 10,
   "metadata": {},
   "outputs": [],
   "source": [
    "# convert to raster using the \"sgcn\" field\n",
    "with arcpy.EnvManager(outputCoordinateSystem=sr, extent=Rextent, snapRaster=Rextent, cellSize=Rextent):\n",
    "    arcpy.conversion.PolygonToRaster(\"H12\", \"Sheet1$.sgcn\", \"sgcn\", \"CELL_CENTER\", \"NONE\", 30)"
   ]
  },
  {
   "cell_type": "code",
   "execution_count": 11,
   "metadata": {},
   "outputs": [],
   "source": [
    "# reclassify\n",
    "with arcpy.EnvManager(outputCoordinateSystem=sr, extent=Rextent, snapRaster=Rextent, cellSize=Rextent):\n",
    "    out_raster = arcpy.sa.Reclassify(\"sgcn\", \"Value\", \"NODATA 1;0 1;1 2;2 3;3 4;4 5;5 6;6 7;7 8;8 100 9\", \"DATA\"); out_raster.save(\"sgcnRclss\")"
   ]
  },
  {
   "cell_type": "code",
   "execution_count": 12,
   "metadata": {},
   "outputs": [],
   "source": [
    "# Limit the aquatic data to the EPA floodplain\n",
    "out_raster = arcpy.sa.Con(FP, \"sgcnRclss\", 0,\"Value = 1\"); out_raster.save(\"imperiled\")"
   ]
  },
  {
   "cell_type": "markdown",
   "metadata": {},
   "source": [
    "### Clip to medium resolution catchments"
   ]
  },
  {
   "cell_type": "code",
   "execution_count": 13,
   "metadata": {},
   "outputs": [],
   "source": [
    "# turn NHD medium resolution catchments to raster\n",
    "with arcpy.EnvManager(outputCoordinateSystem=sr, extent=Rextent, snapRaster=Rextent, cellSize=Rextent):\n",
    "    arcpy.conversion.PolygonToRaster(catch, \"GRIDCODE\", \"catchr\", \"CELL_CENTER\", \"NONE\", Rextent)"
   ]
  },
  {
   "cell_type": "code",
   "execution_count": 14,
   "metadata": {},
   "outputs": [],
   "source": [
    "# The EPA floodplain goes too far into the estuaries and oceans, we need to clip it back. We are using NHDPlus medium resolution \n",
    "# catchments for this\n",
    "out_raster = arcpy.sa.Con(\"catchr\", \"imperiled\", '',\"Value > 1\"); out_raster.save(\"imperiledA\")"
   ]
  },
  {
   "cell_type": "markdown",
   "metadata": {},
   "source": [
    "### Since these data don't cover West Virginia entirely, we need to remove all of West Virginia"
   ]
  },
  {
   "cell_type": "code",
   "execution_count": 15,
   "metadata": {},
   "outputs": [],
   "source": [
    "# pull out west virgina from the state boundary file \n",
    "with arcpy.EnvManager(outputCoordinateSystem=sr, extent=Rextent):\n",
    "    arcpy.analysis.Select(state, \"WV\", \"STUSPS = 'WV'\")"
   ]
  },
  {
   "cell_type": "code",
   "execution_count": 16,
   "metadata": {},
   "outputs": [
    {
     "data": {
      "text/html": [
       "<div class='gpresult'><h2>Messages</h2><div id='messages' data-messages='[\"Start Time: Wednesday, May 17, 2023 3:47:39 PM\",\"Adding raster to WV...\",\"Succeeded at Wednesday, May 17, 2023 3:47:40 PM (Elapsed Time: 0.24 seconds)\"]' data-show='true'><div id = 'default' /></div></div>"
      ],
      "text/plain": [
       "<Result 'WV'>"
      ]
     },
     "execution_count": 16,
     "metadata": {},
     "output_type": "execute_result"
    }
   ],
   "source": [
    "# add field for raster conversion\n",
    "arcpy.management.CalculateField('WV', \"raster\", \"1\", \"PYTHON3\", \"\", \"SHORT\")"
   ]
  },
  {
   "cell_type": "code",
   "execution_count": 17,
   "metadata": {},
   "outputs": [],
   "source": [
    "# convert West Virginia polygon to raster\n",
    "with arcpy.EnvManager(outputCoordinateSystem=sr, extent=Rextent, snapRaster=Rextent, cellSize=Rextent):\n",
    "    arcpy.conversion.PolygonToRaster('WV', \"raster\", \"WVr\", \"CELL_CENTER\", \"NONE\", Rextent)"
   ]
  },
  {
   "cell_type": "code",
   "execution_count": 18,
   "metadata": {},
   "outputs": [],
   "source": [
    "# reclassify to prepare to remove WV\n",
    "with arcpy.EnvManager(outputCoordinateSystem=sr, extent=Rextent, snapRaster=Rextent, cellSize=Rextent):\n",
    "    out_raster = arcpy.sa.Reclassify(\"WVr\", \"Value\", \"NODATA 1;1 NODATA\", \"DATA\"); out_raster.save(\"WVrclss\")"
   ]
  },
  {
   "cell_type": "code",
   "execution_count": 19,
   "metadata": {},
   "outputs": [],
   "source": [
    "# make all values in West Virginia nodata\n",
    "out_raster = arcpy.sa.Times(\"imperiledA\", \"WVrclss\"); out_raster.save('imperiledAq')"
   ]
  },
  {
   "cell_type": "markdown",
   "metadata": {},
   "source": [
    "### Finalize indiator\n",
    "\n",
    "do final steps for all indicators to add description fields, clip and export to SE extent, clip and export to SA extent"
   ]
  },
  {
   "cell_type": "code",
   "execution_count": 20,
   "metadata": {},
   "outputs": [],
   "source": [
    "# set code block for next step\n",
    "codeblock = \"\"\"\n",
    "def Reclass(value):\n",
    "    if value == 9:\n",
    "        return '9 = 8+ aquatic animal Species of Greatest Conservation Need (SGCN) observed'\n",
    "    elif value == 8:\n",
    "        return '8 = 7 aquatic animal SGCN observed'\n",
    "    elif value == 7:\n",
    "        return '7 = 6 aquatic animal SGCN observed'\n",
    "    elif value == 6:\n",
    "        return '6 = 5 aquatic animal SGCN observed'\n",
    "    elif value == 5:\n",
    "        return '5 = 4 aquatic animal SGCN observed' \n",
    "    elif value == 4:\n",
    "        return '4 = 3 aquatic animal SGCN observed'\n",
    "    elif value == 3:\n",
    "        return '3 = 2 aquatic animal SGCN observed'\n",
    "    elif value == 2:\n",
    "        return '2 = 1 aquatic animal SGCN observed'\n",
    "    elif value == 1:\n",
    "        return '1 = 0 aquatic animal SGCN observed'\n",
    "    elif value == 0:\n",
    "        return '0 = Not identified as a floodplain (excluding West Virginia)' \n",
    "\"\"\""
   ]
  },
  {
   "cell_type": "code",
   "execution_count": 21,
   "metadata": {},
   "outputs": [
    {
     "data": {
      "text/html": [
       "<div class='gpresult'><h2>Messages</h2><div id='messages' data-messages='[\"Start Time: Wednesday, May 17, 2023 3:57:35 PM\",\"Adding descript to VAT_imperiledAq...\",\"Succeeded at Wednesday, May 17, 2023 3:57:35 PM (Elapsed Time: 0.21 seconds)\"]' data-show='true'><div id = 'default' /></div></div>"
      ],
      "text/plain": [
       "<Result 'D:\\\\SE_Blueprint_2023\\\\5_Indicators_Tier2_UnClipped\\\\Imperiled\\\\ImperiledAqua.gdb\\\\imperiledAq'>"
      ]
     },
     "execution_count": 21,
     "metadata": {},
     "output_type": "execute_result"
    }
   ],
   "source": [
    "# add and calculate description field to hold indicator values\n",
    "arcpy.management.CalculateField(\"imperiledAq\", \"descript\", \"Reclass(!value!)\", \"PYTHON3\", codeblock, \"TEXT\")"
   ]
  },
  {
   "cell_type": "code",
   "execution_count": 23,
   "metadata": {},
   "outputs": [],
   "source": [
    "# set code block for next step\n",
    "codeblock = \"\"\"\n",
    "def Reclass1(Value):\n",
    "\tif Value == 9:\n",
    "\t\treturn 8\n",
    "\tif Value == 8:\n",
    "\t\treturn 36\n",
    "\tif Value == 7:\n",
    "\t\treturn 32\n",
    "\tif Value == 6:\n",
    "\t\treturn 25\n",
    "\tif Value == 5:\n",
    "\t\treturn 57\n",
    "\tif Value == 4:\n",
    "\t\treturn 115\n",
    "\tif Value == 3:\n",
    "\t\treturn 187\n",
    "\tif Value == 2:\n",
    "\t\treturn 233\n",
    "\tif Value == 1:\n",
    "\t\treturn 255\n",
    "\tif Value == 0:\n",
    "\t\treturn 255\n",
    "\telse:\n",
    "\t\treturn 255\n",
    "\t\t\n",
    "def Reclass2(Value):\n",
    "\tif Value == 9:\n",
    "\t\treturn 29\n",
    "\tif Value == 8:\n",
    "\t\treturn 51\n",
    "\tif Value == 7:\n",
    "\t\treturn 93\n",
    "\tif Value == 6:\n",
    "\t\treturn 144\n",
    "\tif Value == 5:\n",
    "\t\treturn 181\n",
    "\tif Value == 4:\n",
    "\t\treturn 205\n",
    "\tif Value == 3:\n",
    "\t\treturn 233\n",
    "\tif Value == 2:\n",
    "\t\treturn 248\n",
    "\tif Value == 1:\n",
    "\t\treturn 255\n",
    "\tif Value == 0:\n",
    "\t\treturn 255\n",
    "\telse:\n",
    "\t\treturn 255\n",
    "\t\t\n",
    "def Reclass3(Value):\n",
    "\tif Value == 9:\n",
    "\t\treturn 88\n",
    "\tif Value == 8:\n",
    "\t\treturn 148\n",
    "\tif Value == 7:\n",
    "\t\treturn 168\n",
    "\tif Value == 6:\n",
    "\t\treturn 192\n",
    "\tif Value == 5:\n",
    "\t\treturn 196\n",
    "\tif Value == 4:\n",
    "\t\treturn 184\n",
    "\tif Value == 3:\n",
    "\t\treturn 161\n",
    "\tif Value == 2:\n",
    "\t\treturn 152\n",
    "\tif Value == 1:\n",
    "\t\treturn 192\n",
    "\tif Value == 0:\n",
    "\t\treturn 255\n",
    "\telse:\n",
    "\t\treturn 255\n",
    "\"\"\""
   ]
  },
  {
   "cell_type": "code",
   "execution_count": 24,
   "metadata": {},
   "outputs": [
    {
     "data": {
      "text/html": [
       "<div class='gpresult'><h2>Messages</h2><div id='messages' data-messages='[\"Start Time: Friday, September 15, 2023 12:29:19 PM\",\"Succeeded at Friday, September 15, 2023 12:29:19 PM (Elapsed Time: 0.22 seconds)\"]' data-show='true'><div id = 'default' /></div></div>"
      ],
      "text/plain": [
       "<Result 'imperiledAq'>"
      ]
     },
     "execution_count": 24,
     "metadata": {},
     "output_type": "execute_result"
    }
   ],
   "source": [
    "# calculate Red field\n",
    "arcpy.management.CalculateField(\"imperiledAq\", \"Red\", \"Reclass1(!Value!)\", \"PYTHON3\", codeblock, \"SHORT\")\n",
    "# calculate Green field\n",
    "arcpy.management.CalculateField(\"imperiledAq\", \"Green\", \"Reclass2(!Value!)\", \"PYTHON3\", codeblock, \"SHORT\")\n",
    "# calculate Blue field\n",
    "arcpy.management.CalculateField(\"imperiledAq\", \"Blue\", \"Reclass3(!Value!)\", \"PYTHON3\", codeblock, \"SHORT\")"
   ]
  },
  {
   "cell_type": "code",
   "execution_count": 25,
   "metadata": {},
   "outputs": [],
   "source": [
    "# clip to base Blueprint extent\n",
    "with arcpy.EnvManager(outputCoordinateSystem=sr, extent=Rextent, snapRaster=Rextent, cellSize=Rextent):\n",
    "    out_raster = arcpy.sa.ExtractByMask(\"imperiledAq\", Rextent); out_raster.save(\"mask\")"
   ]
  },
  {
   "cell_type": "code",
   "execution_count": 26,
   "metadata": {},
   "outputs": [],
   "source": [
    "# export as .tif with base extent\n",
    "with arcpy.EnvManager(outputCoordinateSystem=sr, extent=Rextent, snapRaster=Rextent, cellSize=Rextent):\n",
    "    arcpy.management.CopyRaster(\"mask\", out, '', None, \"255\", \"NONE\", \"NONE\", \"8_BIT_UNSIGNED\", \"NONE\", \"NONE\", \"TIFF\", \"NONE\", \"CURRENT_SLICE\", \"NO_TRANSPOSE\")"
   ]
  },
  {
   "cell_type": "code",
   "execution_count": 26,
   "metadata": {},
   "outputs": [
    {
     "name": "stdout",
     "output_type": "stream",
     "text": [
      "2778.162004709244\n"
     ]
    }
   ],
   "source": [
    "# this prints the time it took this notebook to run in seconds\n",
    "end = time.time()\n",
    "print(end - start)"
   ]
  },
  {
   "cell_type": "code",
   "execution_count": null,
   "metadata": {},
   "outputs": [],
   "source": []
  }
 ],
 "metadata": {
  "kernelspec": {
   "display_name": "ArcGISPro",
   "language": "Python",
   "name": "python3"
  },
  "language_info": {
   "file_extension": ".py",
   "name": "python",
   "version": "3"
  }
 },
 "nbformat": 4,
 "nbformat_minor": 2
}
