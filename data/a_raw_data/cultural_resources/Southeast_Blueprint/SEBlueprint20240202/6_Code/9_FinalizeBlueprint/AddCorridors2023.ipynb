{
 "cells": [
  {
   "cell_type": "markdown",
   "metadata": {},
   "source": [
    "# Make final Blueprint and corridor layers\n",
    "Combines the full surface corridor outputs with the zonation results to determine corridor cut offs and make final corridors and blueprint\n",
    "\n",
    "Created by Amy Keister, last run by Amy Keister on August 14, 2022. It took 3 hours to run"
   ]
  },
  {
   "cell_type": "code",
   "execution_count": 1,
   "metadata": {},
   "outputs": [],
   "source": [
    "import os\n",
    "import arcpy\n",
    "import numpy"
   ]
  },
  {
   "cell_type": "code",
   "execution_count": 2,
   "metadata": {},
   "outputs": [],
   "source": [
    "import time\n",
    "start = time.time()"
   ]
  },
  {
   "cell_type": "code",
   "execution_count": 3,
   "metadata": {},
   "outputs": [],
   "source": [
    "# define spatial reference and workspaces\n",
    "sr= arcpy.SpatialReference(5070)\n",
    "#SourceWorkspace = \n",
    "OutWorkspace = r\"D:\\SE_Blueprint_2023\\10_AddCorridors\\AddCorridors2023.gdb\"\n",
    "OutWorkspace2 = r\"D:\\SE_Blueprint_2023\\10_AddCorridors\\Final2023\""
   ]
  },
  {
   "cell_type": "code",
   "execution_count": 4,
   "metadata": {},
   "outputs": [],
   "source": [
    "# define final outputs\n",
    "IC = r\"D:\\SE_Blueprint_2023\\10_AddCorridors\\Final2023\\ContinentalInlandCorridors2023.tif\"\n",
    "MC = r\"D:\\SE_Blueprint_2023\\10_AddCorridors\\Final2023\\ContinentalMarineCorridors2023.tif\"\n",
    "# in the Caribbean we didn't separate marine from inland, we ran corridors across all\n",
    "VC = r\"D:\\SE_Blueprint_2023\\10_AddCorridors\\Final2023\\CaribbeanCorridors2023.tif\"\n",
    "Blue = r\"D:\\SE_Blueprint_2023\\10_AddCorridors\\Final2023\\Blueprint2023.tif\""
   ]
  },
  {
   "cell_type": "code",
   "execution_count": 5,
   "metadata": {},
   "outputs": [],
   "source": [
    "# define rasters used for cell size, extent, and snapping\n",
    "SEraster= r\"D:\\SE_Blueprint_2023\\2_FullExtent\\SEBlueprint2023ExtentVIPR6.tif\""
   ]
  },
  {
   "cell_type": "code",
   "execution_count": 6,
   "metadata": {},
   "outputs": [],
   "source": [
    "# define additional inputs\n",
    "#subR= r\"G:\\GIS_DATA\\SALCC_BLUEPRINT\\Version_2021\\Blueprint_2021_Download\\1_ExtentLayers\\SouthAtlantic2021Subregions.shp\"\n",
    "Zonation= r\"D:\\SE_Blueprint_2023\\7_CombineZonation\\CombineZonation.tif\"\n",
    "\n",
    "# this is the way we separate inland from marine on the Continental portion for the purposes of corridor analysis\n",
    "Inland= r\"D:\\SE_Blueprint_2023\\8_PrepLinkageMapperRuns\\A_ConInlandResistance.gdb\\InlandNearShoreBuffRNoEst\"\n",
    "\n",
    "# this is the VIPR extent, since we don't separate marine/inland in the VIPR area, we use this to mask\n",
    "VIPRe= r\"D:\\SE_Blueprint_2023\\1_VIPR_Extent\\VIPR_Extent_v6.tif\"\n",
    "\n",
    "InlandHub= r\"D:\\SE_Blueprint_2023\\8_PrepLinkageMapperRuns\\Ba_Con_LM_Input.gdb\\Hubs\"\n",
    "InlandCorr= r\"D:\\SE_Blueprint_2023\\9_Linkagemapper\\ContinentalInland\\ConInlandClipLMOutputToHex.gdb\\Mosaic2\"\n",
    "\n",
    "VIPRHub= r\"D:\\SE_Blueprint_2023\\8_PrepLinkageMapperRuns\\Ha_VIPR_LM_Input.gdb\\Hubs\"\n",
    "VIPRCorr= r\"D:\\SE_Blueprint_2023\\9_Linkagemapper\\VIPR\\LM1\\output\\corridors.gdb\\LM1_corridors\"\n",
    "\n",
    "EMarineHub= r\"D:\\SE_Blueprint_2023\\8_PrepLinkageMapperRuns\\Ea_ConMarine_LM_Input.gdb\\Hubs\"\n",
    "EMarineCorr= r\"D:\\SE_Blueprint_2023\\9_Linkagemapper\\ConMarine\\ConMarineClipLMOutputToSub.gdb\\Mosaic2\"\n",
    "\n",
    "# reservoir estimate with reservoirs as 0 and everything else as 1\n",
    "ResNull= r\"D:\\BaseBlueprint\\2022\\2_Reservoirs\\BaseBP_2022_ResNull.tif\""
   ]
  },
  {
   "cell_type": "markdown",
   "metadata": {
    "heading_collapsed": true
   },
   "source": [
    "# Start Analysis"
   ]
  },
  {
   "cell_type": "code",
   "execution_count": 7,
   "metadata": {
    "hidden": true
   },
   "outputs": [],
   "source": [
    "# Change the workspace to where I am saving the outputs\n",
    "arcpy.env.workspace = OutWorkspace"
   ]
  },
  {
   "cell_type": "code",
   "execution_count": 8,
   "metadata": {
    "hidden": true
   },
   "outputs": [
    {
     "name": "stdout",
     "output_type": "stream",
     "text": [
      "D:\\SE_Blueprint_2023\\10_AddCorridors\\AddCorridors2023.gdb\n"
     ]
    }
   ],
   "source": [
    "# Print the current workspace to make sure I'm in the right spot\n",
    "print(arcpy.env.workspace)"
   ]
  },
  {
   "cell_type": "markdown",
   "metadata": {
    "heading_collapsed": true
   },
   "source": [
    "# Continental inland"
   ]
  },
  {
   "cell_type": "markdown",
   "metadata": {
    "heading_collapsed": true,
    "hidden": true
   },
   "source": [
    "## inland hubs\n",
    "bring in inland hubs"
   ]
  },
  {
   "cell_type": "markdown",
   "metadata": {
    "hidden": true
   },
   "source": [
    "We need to make all hubs \"medium\" priority, if they aren't already, so that we don't have corridors going to no where. \n",
    "\n",
    "In 2021, we had a new problem with inland hubs created by the new Piedmont Prairie indicator. This indicator added some areas that are 15 miles long and only 30 meters wide to some hubs. We have to perform the corridor analysis at 90 meter resolution due to memory issues with Linkage Mapper 2.0.0 (which may get better with Linkage Mapper 3.1.0). During a linkage mapper run, the hubs are converted to rasters with the run resolution. This wasn't a problem before because our hubs did not have these very long very think protuberances. But now, that conversion splits the hubs with these protuberances into a bunch of small, non-contiguous pixles.This throws an error in Linkage Mapper. \n",
    "\n",
    "To address this I tried some more complicated things to try to retain the protuberances, but I ran out of time before I got it to work.\n",
    "\n",
    "In the end I just resampled the hubs to 90 meter pixels myself, which removed the protuberances (because they were no longer a part of the patch/clump for the hub and did not meet the 2,000 acre minimum size. Linkage Mapper requires a polygon input for corridors though, so for that purpose, I converted the hubs back to vector. These steps are done in the other code B_ContinentalInlandHubs.ipynb\n",
    "\n",
    "We are keeping these steps in case this happens again. Be aware the hubs look weird due to this."
   ]
  },
  {
   "cell_type": "code",
   "execution_count": 9,
   "metadata": {
    "hidden": true
   },
   "outputs": [
    {
     "data": {
      "text/html": [
       "<div class='gpresult'><h2>Messages</h2><div id='messages' data-messages='[\"Start Time: Saturday, September 16, 2023 12:59:22 AM\",\"Succeeded at Saturday, September 16, 2023 12:59:23 AM (Elapsed Time: 0.57 seconds)\"]' data-show='true'><div id = 'default' /></div></div>"
      ],
      "text/plain": [
       "<Result 'D:\\\\SE_Blueprint_2023\\\\10_AddCorridors\\\\AddCorridors2023.gdb\\\\ContinentalInlandHubs2023'>"
      ]
     },
     "execution_count": 9,
     "metadata": {},
     "output_type": "execute_result"
    }
   ],
   "source": [
    "# make a copy of hubs\n",
    "arcpy.management.CopyFeatures(InlandHub, \"ContinentalInlandHubs2023\", '', None, None, None)"
   ]
  },
  {
   "cell_type": "code",
   "execution_count": 10,
   "metadata": {
    "hidden": true
   },
   "outputs": [
    {
     "data": {
      "text/html": [
       "<div class='gpresult'><h2>Messages</h2><div id='messages' data-messages='[\"Start Time: Saturday, September 16, 2023 12:59:23 AM\",\"Adding raster to ContinentalInlandHubs2023...\",\"Succeeded at Saturday, September 16, 2023 12:59:23 AM (Elapsed Time: 0.18 seconds)\"]' data-show='true'><div id = 'default' /></div></div>"
      ],
      "text/plain": [
       "<Result 'D:\\\\SE_Blueprint_2023\\\\10_AddCorridors\\\\AddCorridors2023.gdb\\\\ContinentalInlandHubs2023'>"
      ]
     },
     "execution_count": 10,
     "metadata": {},
     "output_type": "execute_result"
    }
   ],
   "source": [
    "# add and calculate a field for converting hubs to rasters\n",
    "arcpy.management.CalculateField(\"ContinentalInlandHubs2023\", \"raster\", 1, \"PYTHON3\", '', \"SHORT\")"
   ]
  },
  {
   "cell_type": "code",
   "execution_count": 11,
   "metadata": {
    "hidden": true
   },
   "outputs": [],
   "source": [
    "# convert hubs to raster\n",
    "with arcpy.EnvManager(outputCoordinateSystem=sr, snapRaster=SEraster, cellSize=SEraster, extent=SEraster):\n",
    "    arcpy.conversion.PolygonToRaster(\"ContinentalInlandHubs2023\", \"raster\", \"InlandHubR\", \"CELL_CENTER\", \"NONE\", SEraster)"
   ]
  },
  {
   "cell_type": "code",
   "execution_count": 12,
   "metadata": {
    "hidden": true
   },
   "outputs": [],
   "source": [
    "# make NoData values 0\n",
    "out_raster = arcpy.sa.Reclassify(\"InlandHubR\", \"Value\", \"NODATA 0\", \"DATA\"); out_raster.save(\"InlandHub0\")"
   ]
  },
  {
   "cell_type": "code",
   "execution_count": 13,
   "metadata": {
    "hidden": true
   },
   "outputs": [
    {
     "data": {
      "text/html": [
       "<div class='gpresult'><h2>Messages</h2><div id='messages' data-messages='[\"Start Time: Saturday, September 16, 2023 1:14:47 AM\",\"D:\\\\SE_Blueprint_2023\\\\10_AddCorridors\\\\AddCorridors2023.gdb\\\\ContinentalInlandHubs2023 Successfully converted:  D:\\\\SE_Blueprint_2023\\\\10_AddCorridors\\\\Final2023\\\\ContinentalInlandHubs2023.shp\",\"Succeeded at Saturday, September 16, 2023 1:14:47 AM (Elapsed Time: 0.88 seconds)\"]' data-show='true'><div id = 'default' /></div></div>"
      ],
      "text/plain": [
       "<Result 'D:\\\\SE_Blueprint_2023\\\\10_AddCorridors\\\\Final2023'>"
      ]
     },
     "execution_count": 13,
     "metadata": {},
     "output_type": "execute_result"
    }
   ],
   "source": [
    "# export inland hubs for final data\n",
    "arcpy.conversion.FeatureClassToShapefile(\"ContinentalInlandHubs2023\", OutWorkspace2)"
   ]
  },
  {
   "cell_type": "markdown",
   "metadata": {
    "heading_collapsed": true,
    "hidden": true
   },
   "source": [
    "## zonation\n",
    "bring in zonation results and limit to inland areas"
   ]
  },
  {
   "cell_type": "markdown",
   "metadata": {
    "hidden": true
   },
   "source": [
    "The zonation results I'm bringing in have already been converted to integer, this was necessary so that we could rebalance the inland contenential zonation to account for the masks that we use in zonation 4"
   ]
  },
  {
   "cell_type": "code",
   "execution_count": 14,
   "metadata": {
    "hidden": true
   },
   "outputs": [],
   "source": [
    "# limit zonation results to inland areas\n",
    "out_raster = arcpy.sa.ExtractByMask(Zonation, Inland); out_raster.save(\"ZInland\")"
   ]
  },
  {
   "cell_type": "code",
   "execution_count": 15,
   "metadata": {
    "hidden": true
   },
   "outputs": [],
   "source": [
    "# use a conditional statement to identify areas that did not score high enough to be a priority (<49) and \n",
    "# give them a value of 0, keep the other values the same\n",
    "out_raster = arcpy.sa.Con(\"ZInland\", 0, \"ZInland\", \"Value < 49\"); out_raster.save(\"INoPri\")"
   ]
  },
  {
   "cell_type": "code",
   "execution_count": 16,
   "metadata": {
    "hidden": true
   },
   "outputs": [],
   "source": [
    "# use a conditional statement to identify areas that are the highest priority (>89) and \n",
    "# give them a value of 400, keep the other values the same\n",
    "\n",
    "# I'm chaning to value > 90 to match hubs\n",
    "\n",
    "out_raster = arcpy.sa.Con(\"INoPri\", 400, \"INoPri\", \"Value > 89\"); out_raster.save(\"INoPriH\")"
   ]
  },
  {
   "cell_type": "code",
   "execution_count": 17,
   "metadata": {
    "hidden": true
   },
   "outputs": [],
   "source": [
    "# use a conditional statement to identify areas that are the high priority (>74 and <400) and \n",
    "# give them a value of 300, keep the other values the same as above\n",
    "out_raster = arcpy.sa.Con(\"INoPriH\", 300, \"INoPriH\", \"Value > 74 And Value < 400\"); out_raster.save(\"INoPriHH\")"
   ]
  },
  {
   "cell_type": "markdown",
   "metadata": {
    "hidden": true
   },
   "source": [
    "The pixels that are still in question are the \"medium\" and \"corridors.\"  \n",
    "\n",
    "The starting point for \"medium\" is the zonation results from 50 - 74.  However, we want 5% to be corridors, so really Medium is 55 - 74 however, we also need to add in any secured areas that aren't already medium, so we may need to change that minimum value to make room for the extra secured areas, depending on how many were not already covered by other Highest, High, and Medium pixels. \n",
    "\n",
    "I'm going to try a lower bound of >55,this will give me values of 56-74 as medium, which should already cover around 19% then I'll have to add in the hubs not already covered, which have historically been around 1% \n",
    "\n",
    "I need to check this output to see how much of the area is covered by values of 1, those are hubs not already covered if it is more than 1%, I'll need to change the boundary this will be as close as get to giving corridors ~5% of the total area the total priority should add to 50%"
   ]
  },
  {
   "cell_type": "code",
   "execution_count": 18,
   "metadata": {
    "hidden": true
   },
   "outputs": [],
   "source": [
    "# bring in inland hubs that aren't captured already, give them a value of 1, otherwise, retain the value of the input\n",
    "out_raster = arcpy.sa.Con(\"INoPriHH\", \"INoPriHH\", \"InlandHub0\", \"Value > 55\"); out_raster.save(\"INoPriHH55Hubs\")"
   ]
  },
  {
   "cell_type": "code",
   "execution_count": 19,
   "metadata": {
    "hidden": true
   },
   "outputs": [],
   "source": [
    "# give reservoirs a value of 0\n",
    "out_raster = arcpy.sa.Times(\"INoPriHH55Hubs\",ResNull); out_raster.save(\"INoPriHH55HubsRes\")"
   ]
  },
  {
   "cell_type": "markdown",
   "metadata": {
    "heading_collapsed": true,
    "hidden": true
   },
   "source": [
    "## corridors\n",
    "bring in inland full corridor surface"
   ]
  },
  {
   "cell_type": "code",
   "execution_count": 20,
   "metadata": {
    "hidden": true
   },
   "outputs": [],
   "source": [
    "# clip to inland area\n",
    "with arcpy.EnvManager(outputCoordinateSystem=sr, snapRaster=SEraster, cellSize=SEraster, extent=SEraster):\n",
    "    out_raster = arcpy.sa.ExtractByMask(InlandCorr, SEraster); out_raster.save(\"InlandCorrSE\")"
   ]
  },
  {
   "cell_type": "code",
   "execution_count": 21,
   "metadata": {
    "hidden": true
   },
   "outputs": [],
   "source": [
    "# test different thresholds to see if I can get close to 5% corridors. The part of the \n",
    "# corridor that intersects with the Highest, High, and Medium doesn't count to the 5%\n",
    "# I'm going to start the test with values < 70,000, based on last year's result\n",
    "\n",
    "out_raster = arcpy.sa.Con(\"InlandCorrSE\", 100, 0, \"Value < 61000\"); out_raster.save(\"InlandCorr1\")"
   ]
  },
  {
   "cell_type": "code",
   "execution_count": 22,
   "metadata": {
    "hidden": true
   },
   "outputs": [],
   "source": [
    "# remove reservoirs from corridors\n",
    "# do this later because low is good in the corridor output\n",
    "out_raster = arcpy.sa.Times(\"InlandCorr1\",ResNull); out_raster.save(\"InlandCorr1Res\")"
   ]
  },
  {
   "cell_type": "code",
   "execution_count": 23,
   "metadata": {
    "hidden": true
   },
   "outputs": [],
   "source": [
    "# make NoData values 0\n",
    "with arcpy.EnvManager(outputCoordinateSystem=sr, mask=SEraster):\n",
    "    out_raster = arcpy.sa.Reclassify(\"InlandCorr1Res\", \"Value\", \"NODATA 0\", \"DATA\"); out_raster.save(\"InlandCorr1Res0\")"
   ]
  },
  {
   "cell_type": "markdown",
   "metadata": {
    "heading_collapsed": true,
    "hidden": true
   },
   "source": [
    "## combine zonation w/ corridors\n",
    "combine zonation with inland corridors"
   ]
  },
  {
   "cell_type": "code",
   "execution_count": 24,
   "metadata": {
    "hidden": true
   },
   "outputs": [],
   "source": [
    "# fill in the above corridor test into the zonation so I can test to see if I get the total of the 0 values to 50%\n",
    "# this would mean that all the non 0 values add up to 50%\n",
    "# check the count on the 0 values, divide by the sum of the count, check if it is 50%\n",
    "# on the 78,000 threshold, the 0 values in this output cover 50.0% of the area this is good\n",
    "out_raster = arcpy.sa.Con(\"INoPriHH55HubsRes\", \"INoPriHH55HubsRes\", \"InlandCorr1Res0\", \"Value > 0\"); out_raster.save(\"INoPriHH55HubsResCorr\")"
   ]
  },
  {
   "cell_type": "markdown",
   "metadata": {
    "hidden": true
   },
   "source": [
    "I take the attribute values from the above raster and put it in excel\n",
    "\n",
    "I take a sum of the count field, then divide the count for each class by that sum, to get percent area in each class\n",
    "\n",
    "- I want the class with values of 0 to equal 50%\n",
    "- I want the class with values of 100 to equal 5%\n",
    "- I want the class with values of 300 to equal 15%\n",
    "- I want the class with values of 400 to equal 10%\n",
    "\n",
    "- If the corridor class is more than 5%, I reduce the corridor threshold above and try again\n",
    "- If the corridor class is less than 5%, I increase the corridor threshold above and try again\n",
    "\n",
    "need to write code for this, in the short term I've just been doing this by hand"
   ]
  },
  {
   "cell_type": "code",
   "execution_count": 25,
   "metadata": {
    "hidden": true
   },
   "outputs": [],
   "source": [
    "# Change all those medium values to 200\n",
    "# this has all the info we need for inland blueprint, just needs to be reclassified\n",
    "with arcpy.EnvManager(outputCoordinateSystem=sr, snapRaster=SEraster, cellSize=SEraster, extent=SEraster, mask=SEraster):\n",
    "    out_raster = arcpy.sa.Con(\"INoPriHH55HubsResCorr\", 200, \"INoPriHH55HubsResCorr\", \"Value > 0 AND Value < 100\"); out_raster.save(\"INoPriHH55HubsResCorrM\")"
   ]
  },
  {
   "cell_type": "markdown",
   "metadata": {
    "hidden": true
   },
   "source": [
    "### Just to double check, I take the attribute values from the above raster and put it in excel\n",
    "\n",
    "I take a sum of the count field, then divide the count for each class by that sum, to get percent area in each class\n",
    "\n",
    "- I want the class with values of 0 to equal 50%\n",
    "- I want the class with values of 100 to equal 5%\n",
    "- I want the class with values of 200 to equal 20%\n",
    "- I want the class with values of 300 to equal 15%\n",
    "- I want the class with values of 400 to equal 10%\n",
    "\n",
    "need to write code for this, in the short term I've just been doing this by hand"
   ]
  },
  {
   "cell_type": "code",
   "execution_count": 26,
   "metadata": {
    "hidden": true
   },
   "outputs": [],
   "source": [
    "# reclass corridors for export\n",
    "with arcpy.EnvManager(outputCoordinateSystem=sr, snapRaster=SEraster, cellSize=SEraster, extent=SEraster, mask=SEraster):\n",
    "    out_raster = arcpy.sa.Con(\"InlandCorr1Res0\", 1, '', \"Value = 100\"); out_raster.save(\"InlandCorr1\")"
   ]
  },
  {
   "cell_type": "code",
   "execution_count": 27,
   "metadata": {
    "hidden": true
   },
   "outputs": [
    {
     "data": {
      "text/html": [
       "<div class='gpresult'><h2>Messages</h2><div id='messages' data-messages='[\"Start Time: Saturday, September 16, 2023 2:47:08 AM\",\"Building Pyramids...\",\"Calculating Statistics...\",\"Succeeded at Saturday, September 16, 2023 2:50:07 AM (Elapsed Time: 2 minutes 59 seconds)\"]' data-show='true'><div id = 'default' /></div></div>"
      ],
      "text/plain": [
       "<Result 'D:\\\\SE_Blueprint_2023\\\\10_AddCorridors\\\\Final2023\\\\ContinentalInlandCorridors2023.tif'>"
      ]
     },
     "execution_count": 27,
     "metadata": {},
     "output_type": "execute_result"
    }
   ],
   "source": [
    "# export corridors, now that we know the threshold is as good as we can get\n",
    "arcpy.management.CopyRaster(\"InlandCorr1\", IC, '', None, \"3\", \"NONE\", \"NONE\", \"2_BIT\", \"NONE\", \"NONE\", \"TIFF\", \"NONE\", \"CURRENT_SLICE\", \"NO_TRANSPOSE\")"
   ]
  },
  {
   "cell_type": "markdown",
   "metadata": {
    "heading_collapsed": true
   },
   "source": [
    "# Continental estuarine/marine"
   ]
  },
  {
   "cell_type": "markdown",
   "metadata": {
    "heading_collapsed": true,
    "hidden": true
   },
   "source": [
    "## estuarine/marine hubs\n",
    "bring in estuarine/marine hubs"
   ]
  },
  {
   "cell_type": "code",
   "execution_count": 28,
   "metadata": {
    "hidden": true
   },
   "outputs": [
    {
     "data": {
      "text/html": [
       "<div class='gpresult'><h2>Messages</h2><div id='messages' data-messages='[\"Start Time: Saturday, September 16, 2023 2:50:08 AM\",\"Succeeded at Saturday, September 16, 2023 2:50:08 AM (Elapsed Time: 0.63 seconds)\"]' data-show='true'><div id = 'default' /></div></div>"
      ],
      "text/plain": [
       "<Result 'D:\\\\SE_Blueprint_2023\\\\10_AddCorridors\\\\AddCorridors2023.gdb\\\\EMarineHub'>"
      ]
     },
     "execution_count": 28,
     "metadata": {},
     "output_type": "execute_result"
    }
   ],
   "source": [
    "# make a copy of hubs\n",
    "arcpy.management.CopyFeatures(EMarineHub, \"EMarineHub\", '', None, None, None)"
   ]
  },
  {
   "cell_type": "code",
   "execution_count": 29,
   "metadata": {
    "hidden": true
   },
   "outputs": [
    {
     "data": {
      "text/html": [
       "<div class='gpresult'><h2>Messages</h2><div id='messages' data-messages='[\"Start Time: Saturday, September 16, 2023 2:50:08 AM\",\"Adding raster to EMarineHub...\",\"Succeeded at Saturday, September 16, 2023 2:50:08 AM (Elapsed Time: 0.10 seconds)\"]' data-show='true'><div id = 'default' /></div></div>"
      ],
      "text/plain": [
       "<Result 'D:\\\\SE_Blueprint_2023\\\\10_AddCorridors\\\\AddCorridors2023.gdb\\\\EMarineHub'>"
      ]
     },
     "execution_count": 29,
     "metadata": {},
     "output_type": "execute_result"
    }
   ],
   "source": [
    "# add and calculate a field for converting hubs to rasters\n",
    "arcpy.management.CalculateField(\"EMarineHub\", \"raster\", 1, \"PYTHON3\", '', \"SHORT\")"
   ]
  },
  {
   "cell_type": "code",
   "execution_count": null,
   "metadata": {
    "hidden": true
   },
   "outputs": [],
   "source": []
  },
  {
   "cell_type": "code",
   "execution_count": null,
   "metadata": {
    "hidden": true
   },
   "outputs": [],
   "source": []
  },
  {
   "cell_type": "code",
   "execution_count": null,
   "metadata": {
    "hidden": true
   },
   "outputs": [],
   "source": []
  },
  {
   "cell_type": "code",
   "execution_count": 30,
   "metadata": {
    "hidden": true
   },
   "outputs": [],
   "source": [
    "# because we created these 90 meter resistance raster seperately and didn't specify something to snap to, they happened\n",
    "# to not snap together. I'm going to try to get them to snap by forcing the marine corrdior outputs to snap to the inland 90 meter raster\n",
    "Rextent90= r\"D:\\SE_Blueprint_2023\\8_PrepLinkageMapperRuns\\Ba_Con_LM_Input.gdb\\Resistance\""
   ]
  },
  {
   "cell_type": "code",
   "execution_count": 31,
   "metadata": {
    "hidden": true
   },
   "outputs": [],
   "source": [
    "# convert hubs to 90 meter raster and snap to inland 90 meter resistance raster\n",
    "with arcpy.EnvManager(outputCoordinateSystem=sr, snapRaster=Rextent90, cellSize=Rextent90):\n",
    "    arcpy.conversion.PolygonToRaster(\"EMarineHub\", \"raster\", \"EMarineHubR90\", \"CELL_CENTER\", \"NONE\", Rextent90)"
   ]
  },
  {
   "cell_type": "code",
   "execution_count": 32,
   "metadata": {
    "hidden": true
   },
   "outputs": [
    {
     "data": {
      "text/html": [
       "<div class='gpresult'><h2>Messages</h2><div id='messages' data-messages='[\"Start Time: Saturday, September 16, 2023 2:50:17 AM\",\"Succeeded at Saturday, September 16, 2023 2:50:21 AM (Elapsed Time: 3.95 seconds)\"]' data-show='true'><div id = 'default' /></div></div>"
      ],
      "text/plain": [
       "<Result 'D:\\\\SE_Blueprint_2023\\\\10_AddCorridors\\\\AddCorridors2023.gdb\\\\EstuarineAndMarineHubs2023'>"
      ]
     },
     "execution_count": 32,
     "metadata": {},
     "output_type": "execute_result"
    }
   ],
   "source": [
    "# convert re-snaped hubs back to vector\n",
    "arcpy.conversion.RasterToPolygon(\"EMarineHubR90\", \"EstuarineAndMarineHubs2023\", \"NO_SIMPLIFY\", \"Value\", \"MULTIPLE_OUTER_PART\", None)"
   ]
  },
  {
   "cell_type": "code",
   "execution_count": 33,
   "metadata": {
    "hidden": true
   },
   "outputs": [
    {
     "data": {
      "text/html": [
       "<div class='gpresult'><h2>Messages</h2><div id='messages' data-messages='[\"Start Time: Saturday, September 16, 2023 2:50:21 AM\",\"Adding raster to EstuarineAndMarineHubs2023...\",\"Succeeded at Saturday, September 16, 2023 2:50:21 AM (Elapsed Time: 0.17 seconds)\"]' data-show='true'><div id = 'default' /></div></div>"
      ],
      "text/plain": [
       "<Result 'D:\\\\SE_Blueprint_2023\\\\10_AddCorridors\\\\AddCorridors2023.gdb\\\\EstuarineAndMarineHubs2023'>"
      ]
     },
     "execution_count": 33,
     "metadata": {},
     "output_type": "execute_result"
    }
   ],
   "source": [
    "# add and calculate a field for converting hubs to rasters\n",
    "arcpy.management.CalculateField(\"EstuarineAndMarineHubs2023\", \"raster\", 1, \"PYTHON3\", '', \"SHORT\")"
   ]
  },
  {
   "cell_type": "code",
   "execution_count": null,
   "metadata": {
    "hidden": true
   },
   "outputs": [],
   "source": []
  },
  {
   "cell_type": "code",
   "execution_count": null,
   "metadata": {
    "hidden": true
   },
   "outputs": [],
   "source": []
  },
  {
   "cell_type": "code",
   "execution_count": 34,
   "metadata": {
    "hidden": true
   },
   "outputs": [],
   "source": [
    "# convert hubs to 30 meter raster\n",
    "with arcpy.EnvManager(outputCoordinateSystem=sr, snapRaster=SEraster, cellSize=SEraster, extent=SEraster):\n",
    "    arcpy.conversion.PolygonToRaster(\"EstuarineAndMarineHubs2023\", \"raster\", \"EMarineHubR\", \"CELL_CENTER\", \"NONE\", SEraster)"
   ]
  },
  {
   "cell_type": "code",
   "execution_count": 35,
   "metadata": {
    "hidden": true
   },
   "outputs": [],
   "source": [
    "# make NoData values 0\n",
    "out_raster = arcpy.sa.Reclassify(\"EMarineHubR\", \"Value\", \"NODATA 0\", \"DATA\"); out_raster.save(\"EMarineHub0\")"
   ]
  },
  {
   "cell_type": "code",
   "execution_count": 36,
   "metadata": {
    "hidden": true
   },
   "outputs": [],
   "source": [
    "# because the inland hubs and resistance didn't happen to snap the same way as the marine hubs and resistance when\n",
    "# we converted them seperately they are shifted 30 meters. I'm hacking a way to take that shift away. This is not ideal\n",
    "# and it also won't be a total fix. But at least we won't have the 30 meter shift\n"
   ]
  },
  {
   "cell_type": "code",
   "execution_count": 37,
   "metadata": {
    "hidden": true
   },
   "outputs": [
    {
     "data": {
      "text/html": [
       "<div class='gpresult'><h2>Messages</h2><div id='messages' data-messages='[\"Start Time: Saturday, September 16, 2023 3:06:35 AM\",\"D:\\\\SE_Blueprint_2023\\\\10_AddCorridors\\\\AddCorridors2023.gdb\\\\EstuarineAndMarineHubs2023 Successfully converted:  D:\\\\SE_Blueprint_2023\\\\10_AddCorridors\\\\Final2023\\\\EstuarineAndMarineHubs2023.shp\",\"Succeeded at Saturday, September 16, 2023 3:06:36 AM (Elapsed Time: 0.79 seconds)\"]' data-show='true'><div id = 'default' /></div></div>"
      ],
      "text/plain": [
       "<Result 'D:\\\\SE_Blueprint_2023\\\\10_AddCorridors\\\\Final2023'>"
      ]
     },
     "execution_count": 37,
     "metadata": {},
     "output_type": "execute_result"
    }
   ],
   "source": [
    "# export inland hubs for final data\n",
    "arcpy.conversion.FeatureClassToShapefile(\"EstuarineAndMarineHubs2023\", OutWorkspace2)"
   ]
  },
  {
   "cell_type": "markdown",
   "metadata": {
    "heading_collapsed": true,
    "hidden": true
   },
   "source": [
    "## zonation\n",
    "bring in zonation results and limit them to estuarine/marine areas"
   ]
  },
  {
   "cell_type": "markdown",
   "metadata": {
    "hidden": true
   },
   "source": [
    "The zonation results I'm bringing in have already been converted to integer, this was necessary for the Contenintal inland portion so that we could rebalance due to the zonation 4 mask. I went ahead and did it for all zonation results in 2023, but may want to rethink this when we switch all our analysis to zonation 5"
   ]
  },
  {
   "cell_type": "code",
   "execution_count": 38,
   "metadata": {
    "hidden": true
   },
   "outputs": [],
   "source": [
    "# reclassify to make estuarine/marine mask \n",
    "with arcpy.EnvManager(outputCoordinateSystem=sr, snapRaster=SEraster, cellSize=SEraster, extent=SEraster, mask=SEraster):\n",
    "    out_raster = arcpy.sa.Reclassify(Inland, \"Value\", \"NODATA 1;1 NODATA\", \"DATA\"); out_raster.save(\"EMarine\")"
   ]
  },
  {
   "cell_type": "code",
   "execution_count": 39,
   "metadata": {
    "hidden": true
   },
   "outputs": [],
   "source": [
    "# limit zonation results to estuarine/marine areas\n",
    "out_raster = arcpy.sa.ExtractByMask(Zonation, \"EMarine\"); out_raster.save(\"ZEMarine\")"
   ]
  },
  {
   "cell_type": "code",
   "execution_count": 40,
   "metadata": {
    "hidden": true
   },
   "outputs": [],
   "source": [
    "# use a conditional statement to identify areas that did not score high enough to be a priority (<49) and \n",
    "# give them a value of 0, keep the other values the same\n",
    "# for marine, I'm using <55 since I don't have extra secured area hubs, I tested a few and this seemed to work\n",
    "out_raster = arcpy.sa.Con(\"ZEMarine\", 0, \"ZEMarine\", \"Value < 57\"); out_raster.save(\"MNoPri\")"
   ]
  },
  {
   "cell_type": "code",
   "execution_count": 41,
   "metadata": {
    "hidden": true
   },
   "outputs": [],
   "source": [
    "# use a conditional statement to identify areas that are the highest priority (>89) and \n",
    "# give them a value of 400, keep the other values the same\n",
    "out_raster = arcpy.sa.Con(\"MNoPri\", 400, \"MNoPri\", \"Value > 90\"); out_raster.save(\"MNoPriH\")"
   ]
  },
  {
   "cell_type": "code",
   "execution_count": 42,
   "metadata": {
    "hidden": true
   },
   "outputs": [],
   "source": [
    "# use a conditional statement to identify areas that are the high priority (>74 and <400) and \n",
    "# give them a value of 300, keep the other values the same as above\n",
    "out_raster = arcpy.sa.Con(\"MNoPriH\", 300, \"MNoPriH\", \"Value > 75 And Value < 400\"); out_raster.save(\"MNoPriHH\")"
   ]
  },
  {
   "cell_type": "markdown",
   "metadata": {
    "heading_collapsed": true,
    "hidden": true
   },
   "source": [
    "## corridors\n",
    "bring in estuarine/marine corridors"
   ]
  },
  {
   "cell_type": "code",
   "execution_count": 43,
   "metadata": {
    "hidden": true
   },
   "outputs": [],
   "source": [
    "# test different thresholds to see if I can get close to 5% corridors. The part of the \n",
    "# corridor that intersects with the Highest, High, and Medium doesn't count to the 5%\n",
    "# I'm going to start the test with values < 78,000, based on last year's result\n",
    "# run the steps below to test\n",
    "#\n",
    "#<750,000 gave me 5.6% corridors, need a lower threshold,\n",
    "#<700,000 gave me 5.3% corridors, need a lower threshold,\n",
    "#<580,000 game me \n",
    "#\n",
    "# be aware that I have 11% in higest and 26% in high here, I think it is okay because this is adding in\n",
    "# estuaries all along the gulf, and priorities tend to be higer along the coast.\n",
    "out_raster = arcpy.sa.Con(EMarineCorr, 100, 0, \"Value < 360000\"); out_raster.save(\"EMarineCorr1\")"
   ]
  },
  {
   "cell_type": "code",
   "execution_count": 44,
   "metadata": {
    "hidden": true
   },
   "outputs": [],
   "source": [
    "# make NoData values 0\n",
    "with arcpy.EnvManager(outputCoordinateSystem=sr, mask=SEraster):\n",
    "    out_raster = arcpy.sa.Reclassify(\"EMarineCorr1\", \"Value\", \"NODATA 0\", \"DATA\"); out_raster.save(\"EMarineCorr10\")"
   ]
  },
  {
   "cell_type": "markdown",
   "metadata": {
    "heading_collapsed": true,
    "hidden": true
   },
   "source": [
    "## combine zonation w/ corridors\n",
    "combine zonation with estuarine/marine corridors"
   ]
  },
  {
   "cell_type": "code",
   "execution_count": 45,
   "metadata": {
    "hidden": true
   },
   "outputs": [],
   "source": [
    "# fill in the above corridor test into the zonation so I can test to see if I get the total of the 0 values to 50%\n",
    "# this would mean that all the non 0 values add up to 50%\n",
    "# check the count on the 0 values, divide by the sum of the count, check if it is 50%\n",
    "# on the 78,000 threshold, the 0 values in this output cover 50.0% of the area this is good\n",
    "out_raster = arcpy.sa.Con(\"MNoPriHH\", \"MNoPriHH\", \"EMarineCorr10\", \"Value > 0\"); out_raster.save(\"MNoPriHHCorr\")"
   ]
  },
  {
   "cell_type": "markdown",
   "metadata": {
    "hidden": true
   },
   "source": [
    "need to write code that calculates the sum of the count field in the above raster, then divides the count for the values that = 0 by the sum of the count. Want it to be 50%\n",
    "\n",
    "I take the attribute values from the above raster and put it in excel. I take a sum of the count field, then divide the count for each class by that sum, to get percent area in each class\n",
    "\n",
    "- I want the class with values of 0 to equal 50%\n",
    "- I want the class with values of 100 to equal 5%\n",
    "- I want the class with values of 300 to equal 15%\n",
    "- I want the class with values of 400 to equal 10%\n",
    "\n",
    "- If the corridor class is more than 5%, I reduce the corridor threshold above and try again\n",
    "- If the corridor class is less than 5%, I increase the corridor threshold above and try again\n",
    "\n",
    "need to write code for this, in the short term I've just been doing this by hand"
   ]
  },
  {
   "cell_type": "code",
   "execution_count": 46,
   "metadata": {
    "hidden": true
   },
   "outputs": [],
   "source": [
    "# Change all those medium values to 200\n",
    "# this has all the info we need for inland blueprint, just needs to be reclassified\n",
    "out_raster = arcpy.sa.Con(\"MNoPriHHCorr\", 200, \"MNoPriHHCorr\", \"Value > 0 AND Value < 100\"); out_raster.save(\"MNoPriHHCorrM\")"
   ]
  },
  {
   "cell_type": "markdown",
   "metadata": {
    "hidden": true
   },
   "source": [
    "I take the attribute values from the above raster and put it in excel. I take a sum of the count field, then divide the count for each class by that sum, to get percent area in each class\n",
    "\n",
    "- I want the class with values of 0 to equal 50%\n",
    "- I want the class with values of 100 to equal 5%\n",
    "- I want the class with values of 200 to equal 20%\n",
    "- I want the class with values of 300 to equal 15%\n",
    "- I want the class with values of 400 to equal 10%\n",
    "\n",
    "need to write code for this, in the short term I've just been doing this by hand"
   ]
  },
  {
   "cell_type": "code",
   "execution_count": 47,
   "metadata": {
    "hidden": true
   },
   "outputs": [],
   "source": [
    "# reclass corridors for export\n",
    "out_raster = arcpy.sa.Con(\"EMarineCorr10\", 1, '', \"Value = 100\"); out_raster.save(\"EMarineCorr10a1\")"
   ]
  },
  {
   "cell_type": "code",
   "execution_count": 48,
   "metadata": {
    "hidden": true
   },
   "outputs": [
    {
     "data": {
      "text/html": [
       "<div class='gpresult'><h2>Messages</h2><div id='messages' data-messages='[\"Start Time: Saturday, September 16, 2023 3:42:38 AM\",\"Building Pyramids...\",\"Calculating Statistics...\",\"Succeeded at Saturday, September 16, 2023 3:42:46 AM (Elapsed Time: 8.42 seconds)\"]' data-show='true'><div id = 'default' /></div></div>"
      ],
      "text/plain": [
       "<Result 'D:\\\\SE_Blueprint_2023\\\\10_AddCorridors\\\\Final2023\\\\ContinentalMarineCorridors2023.tif'>"
      ]
     },
     "execution_count": 48,
     "metadata": {},
     "output_type": "execute_result"
    }
   ],
   "source": [
    "# export corridors, now that we know the threshold is as good as we can get\n",
    "arcpy.management.CopyRaster(\"EMarineCorr10a1\", MC, '', None, \"3\", \"NONE\", \"NONE\", \"2_BIT\", \"NONE\", \"NONE\", \"TIFF\", \"NONE\", \"CURRENT_SLICE\", \"NO_TRANSPOSE\")"
   ]
  },
  {
   "cell_type": "markdown",
   "metadata": {
    "heading_collapsed": true
   },
   "source": [
    "# Caribbean"
   ]
  },
  {
   "cell_type": "markdown",
   "metadata": {
    "heading_collapsed": true,
    "hidden": true
   },
   "source": [
    "## Caribbean hubs\n",
    "bring in Caribbean hubs"
   ]
  },
  {
   "cell_type": "code",
   "execution_count": 49,
   "metadata": {
    "hidden": true
   },
   "outputs": [
    {
     "data": {
      "text/html": [
       "<div class='gpresult'><h2>Messages</h2><div id='messages' data-messages='[\"Start Time: Saturday, September 16, 2023 3:42:46 AM\",\"Succeeded at Saturday, September 16, 2023 3:42:46 AM (Elapsed Time: 0.32 seconds)\"]' data-show='true'><div id = 'default' /></div></div>"
      ],
      "text/plain": [
       "<Result 'D:\\\\SE_Blueprint_2023\\\\10_AddCorridors\\\\AddCorridors2023.gdb\\\\CaribbeanHubs2023'>"
      ]
     },
     "execution_count": 49,
     "metadata": {},
     "output_type": "execute_result"
    }
   ],
   "source": [
    "# make a copy of hubs\n",
    "arcpy.management.CopyFeatures(VIPRHub, \"CaribbeanHubs2023\", '', None, None, None)"
   ]
  },
  {
   "cell_type": "code",
   "execution_count": 50,
   "metadata": {
    "hidden": true
   },
   "outputs": [
    {
     "data": {
      "text/html": [
       "<div class='gpresult'><h2>Messages</h2><div id='messages' data-messages='[\"Start Time: Saturday, September 16, 2023 3:42:47 AM\",\"Adding raster to CaribbeanHubs2023...\",\"Succeeded at Saturday, September 16, 2023 3:42:47 AM (Elapsed Time: 0.09 seconds)\"]' data-show='true'><div id = 'default' /></div></div>"
      ],
      "text/plain": [
       "<Result 'D:\\\\SE_Blueprint_2023\\\\10_AddCorridors\\\\AddCorridors2023.gdb\\\\CaribbeanHubs2023'>"
      ]
     },
     "execution_count": 50,
     "metadata": {},
     "output_type": "execute_result"
    }
   ],
   "source": [
    "# add and calculate a field for converting hubs to rasters\n",
    "arcpy.management.CalculateField(\"CaribbeanHubs2023\", \"raster\", 1, \"PYTHON3\", '', \"SHORT\")"
   ]
  },
  {
   "cell_type": "code",
   "execution_count": 51,
   "metadata": {
    "hidden": true
   },
   "outputs": [],
   "source": [
    "# convert hubs to raster\n",
    "with arcpy.EnvManager(outputCoordinateSystem=sr, snapRaster=SEraster, cellSize=SEraster, extent=VIPRe):\n",
    "    arcpy.conversion.PolygonToRaster(\"CaribbeanHubs2023\", \"raster\", \"VIPRHubR\", \"CELL_CENTER\", \"NONE\", SEraster)"
   ]
  },
  {
   "cell_type": "code",
   "execution_count": 52,
   "metadata": {
    "hidden": true
   },
   "outputs": [],
   "source": [
    "# make NoData values 0\n",
    "out_raster = arcpy.sa.Reclassify(\"VIPRHubR\", \"Value\", \"NODATA 0\", \"DATA\"); out_raster.save(\"VIPRHub0\")"
   ]
  },
  {
   "cell_type": "code",
   "execution_count": 53,
   "metadata": {
    "hidden": true
   },
   "outputs": [
    {
     "data": {
      "text/html": [
       "<div class='gpresult'><h2>Messages</h2><div id='messages' data-messages='[\"Start Time: Saturday, September 16, 2023 3:42:54 AM\",\"D:\\\\SE_Blueprint_2023\\\\10_AddCorridors\\\\AddCorridors2023.gdb\\\\CaribbeanHubs2023 Successfully converted:  D:\\\\SE_Blueprint_2023\\\\10_AddCorridors\\\\Final2023\\\\CaribbeanHubs2023.shp\",\"Succeeded at Saturday, September 16, 2023 3:42:55 AM (Elapsed Time: 0.80 seconds)\"]' data-show='true'><div id = 'default' /></div></div>"
      ],
      "text/plain": [
       "<Result 'D:\\\\SE_Blueprint_2023\\\\10_AddCorridors\\\\Final2023'>"
      ]
     },
     "execution_count": 53,
     "metadata": {},
     "output_type": "execute_result"
    }
   ],
   "source": [
    "# export inland hubs for final data\n",
    "arcpy.conversion.FeatureClassToShapefile(\"CaribbeanHubs2023\", OutWorkspace2)"
   ]
  },
  {
   "cell_type": "markdown",
   "metadata": {
    "heading_collapsed": true,
    "hidden": true
   },
   "source": [
    "## zonation\n",
    "bring in zonation results and limit to Caribbean areas"
   ]
  },
  {
   "cell_type": "markdown",
   "metadata": {
    "hidden": true
   },
   "source": [
    "The zonation results I'm bringing in have already been converted to integer, this was necessary for the Contenintal inland portion so that we could rebalance due to the zonation 4 mask. I went ahead and did it for all zonation results in 2023, but may want to rethink this when we switch all our analysis to zonation 5\n"
   ]
  },
  {
   "cell_type": "code",
   "execution_count": 54,
   "metadata": {
    "hidden": true
   },
   "outputs": [],
   "source": [
    "# limit zonation results to Caribbean areas\n",
    "out_raster = arcpy.sa.ExtractByMask(Zonation, VIPRe); out_raster.save(\"Zvipr\")"
   ]
  },
  {
   "cell_type": "code",
   "execution_count": 55,
   "metadata": {
    "hidden": true
   },
   "outputs": [],
   "source": [
    "# use a conditional statement to identify areas that did not score high enough to be a priority (<49) and \n",
    "# give them a value of 0, keep the other values the same\n",
    "out_raster = arcpy.sa.Con(\"Zvipr\", 0, \"Zvipr\", \"Value < 49\"); out_raster.save(\"VNoPri\")"
   ]
  },
  {
   "cell_type": "code",
   "execution_count": 56,
   "metadata": {
    "hidden": true
   },
   "outputs": [],
   "source": [
    "# use a conditional statement to identify areas that are the highest priority (>89) and \n",
    "# give them a value of 400, keep the other values the same\n",
    "out_raster = arcpy.sa.Con(\"VNoPri\", 400, \"VNoPri\", \"Value > 89\"); out_raster.save(\"VNoPriH\")"
   ]
  },
  {
   "cell_type": "code",
   "execution_count": 57,
   "metadata": {
    "hidden": true
   },
   "outputs": [],
   "source": [
    "# use a conditional statement to identify areas that are the high priority (>74 and <400) and \n",
    "# give them a value of 300, keep the other values the same as above\n",
    "out_raster = arcpy.sa.Con(\"VNoPriH\", 300, \"VNoPriH\", \"Value > 74 And Value < 400\"); out_raster.save(\"VNoPriHH\")"
   ]
  },
  {
   "cell_type": "code",
   "execution_count": 58,
   "metadata": {
    "hidden": true
   },
   "outputs": [],
   "source": [
    "# bring in inland hubs that aren't captured already, give them a value of 1, otherwise, retain the value of the input\n",
    "out_raster = arcpy.sa.Con(\"VNoPriHH\", \"VNoPriHH\", \"VIPRHub0\", \"Value > 54\"); out_raster.save(\"VNoPriHH55Hubs\")"
   ]
  },
  {
   "cell_type": "markdown",
   "metadata": {
    "heading_collapsed": true,
    "hidden": true
   },
   "source": [
    "## corridors\n",
    "bring in Caribbean full corridor surface"
   ]
  },
  {
   "cell_type": "code",
   "execution_count": 59,
   "metadata": {
    "hidden": true
   },
   "outputs": [],
   "source": [
    "# test different thresholds to see if I can get close to 5% corridors. The part of the \n",
    "# corridor that intersects with the Highest, High, and Medium doesn't count to the 5%\n",
    "# I'm going to start the test with values < 70,000, based on last year's result\n",
    "\n",
    "out_raster = arcpy.sa.Con(VIPRCorr, 100, 0, \"Value < 27500\"); out_raster.save(\"VIPRCorr1\")"
   ]
  },
  {
   "cell_type": "code",
   "execution_count": 60,
   "metadata": {
    "hidden": true
   },
   "outputs": [],
   "source": [
    "# make NoData values 0\n",
    "with arcpy.EnvManager(outputCoordinateSystem=sr, mask=SEraster):\n",
    "    out_raster = arcpy.sa.Reclassify(\"VIPRCorr1\", \"Value\", \"NODATA 0\", \"DATA\"); out_raster.save(\"VIPRCorr10\")"
   ]
  },
  {
   "cell_type": "markdown",
   "metadata": {
    "heading_collapsed": true,
    "hidden": true
   },
   "source": [
    "## combine zonation w/ corridors\n",
    "combine zonation with Caribbean corridors"
   ]
  },
  {
   "cell_type": "code",
   "execution_count": 61,
   "metadata": {
    "hidden": true
   },
   "outputs": [],
   "source": [
    "# fill in the above corridor test into the zonation so I can test to see if I get the total of the 0 values to 50%\n",
    "# this would mean that all the non 0 values add up to 50%\n",
    "# check the count on the 0 values, divide by the sum of the count, check if it is 50%\n",
    "# on the 78,000 threshold, the 0 values in this output cover 50.0% of the area this is good\n",
    "out_raster = arcpy.sa.Con(\"VNoPriHH55Hubs\", \"VNoPriHH55Hubs\", \"VIPRCorr10\", \"Value > 0\"); out_raster.save(\"VNoPriHH55HubsCorr\")"
   ]
  },
  {
   "cell_type": "markdown",
   "metadata": {
    "hidden": true
   },
   "source": [
    "I take the attribute values from the above raster and put it in excel. I take a sum of the count field, then divide the count for each class by that sum, to get percent area in each class\n",
    "\n",
    "- I want the class with values of 0 to equal 50%\n",
    "- I want the class with values of 100 to equal 5%\n",
    "- I want the class with values of 300 to equal 15%\n",
    "- I want the class with values of 400 to equal 10%\n",
    "\n",
    "- If the corridor class is more than 5%, I reduce the corridor threshold above and try again\n",
    "- If the corridor class is less than 5%, I increase the corridor threshold above and try again\n",
    "\n",
    "need to write code for this, in the short term I've just been doing this by hand"
   ]
  },
  {
   "cell_type": "code",
   "execution_count": 62,
   "metadata": {
    "hidden": true
   },
   "outputs": [],
   "source": [
    "# Change all those medium values to 200\n",
    "# this has all the info we need for inland blueprint, just needs to be reclassified\n",
    "with arcpy.EnvManager(outputCoordinateSystem=sr, snapRaster=SEraster, cellSize=SEraster, extent=VIPRe, mask=SEraster):\n",
    "    out_raster = arcpy.sa.Con(\"VNoPriHH55HubsCorr\", 200, \"VNoPriHH55HubsCorr\", \"Value > 0 AND Value < 100\"); out_raster.save(\"VNoPriHH55HubsCorrM\")"
   ]
  },
  {
   "cell_type": "code",
   "execution_count": 63,
   "metadata": {
    "hidden": true
   },
   "outputs": [],
   "source": [
    "# reclass corridors for export\n",
    "with arcpy.EnvManager(outputCoordinateSystem=sr, snapRaster=SEraster, cellSize=SEraster, extent=VIPRe, mask=SEraster):\n",
    "    out_raster = arcpy.sa.Con(\"VIPRCorr10\", 1, '', \"Value = 100\"); out_raster.save(\"VCorr1\")"
   ]
  },
  {
   "cell_type": "code",
   "execution_count": 64,
   "metadata": {
    "hidden": true
   },
   "outputs": [
    {
     "data": {
      "text/html": [
       "<div class='gpresult'><h2>Messages</h2><div id='messages' data-messages='[\"Start Time: Saturday, September 16, 2023 3:43:40 AM\",\"Building Pyramids...\",\"Calculating Statistics...\",\"Succeeded at Saturday, September 16, 2023 3:43:41 AM (Elapsed Time: 0.98 seconds)\"]' data-show='true'><div id = 'default' /></div></div>"
      ],
      "text/plain": [
       "<Result 'D:\\\\SE_Blueprint_2023\\\\10_AddCorridors\\\\Final2023\\\\CaribbeanCorridors2023.tif'>"
      ]
     },
     "execution_count": 64,
     "metadata": {},
     "output_type": "execute_result"
    }
   ],
   "source": [
    "# export corridors, now that we know the threshold is as good as we can get\n",
    "arcpy.management.CopyRaster(\"VCorr1\", VC, '', None, \"3\", \"NONE\", \"NONE\", \"2_BIT\", \"NONE\", \"NONE\", \"TIFF\", \"NONE\", \"CURRENT_SLICE\", \"NO_TRANSPOSE\")"
   ]
  },
  {
   "cell_type": "code",
   "execution_count": null,
   "metadata": {
    "hidden": true
   },
   "outputs": [],
   "source": []
  },
  {
   "cell_type": "markdown",
   "metadata": {},
   "source": [
    "# Make the final Blueprint\n",
    "Combine Continental inland, Continental estuarine/marine, and Caribbean data"
   ]
  },
  {
   "cell_type": "code",
   "execution_count": 65,
   "metadata": {},
   "outputs": [],
   "source": [
    "# combine inland and estuarine/marine data using cell statistics maximum\n",
    "# combine rasters, keeping max value\n",
    "# combine rasters, keeping max value\n",
    "with arcpy.EnvManager(outputCoordinateSystem=sr, snapRaster=SEraster, cellSize=SEraster, extent=SEraster, mask=SEraster):\n",
    "    out_raster = arcpy.sa.CellStatistics([\"INoPriHH55HubsResCorrM\", \"MNoPriHHCorrM\",\"VNoPriHH55HubsCorrM\"],\"MAXIMUM\", \"DATA\", \"SINGLE_BAND\"); out_raster.save(\"IMVa\")"
   ]
  },
  {
   "cell_type": "code",
   "execution_count": 66,
   "metadata": {},
   "outputs": [],
   "source": [
    "# reclassify to final blueprint values\n",
    "out_raster = arcpy.sa.Reclassify(\"IMVa\", \"Value\", \"0 0;100 1;200 2;300 3;400 4\", \"DATA\"); out_raster.save(\"IMV\")"
   ]
  },
  {
   "cell_type": "code",
   "execution_count": 67,
   "metadata": {},
   "outputs": [
    {
     "data": {
      "text/plain": [
       "'D:\\\\SE_Blueprint_2023\\\\10_AddCorridors\\\\AddCorridors2023.gdb\\\\IMV'"
      ]
     },
     "execution_count": 67,
     "metadata": {},
     "output_type": "execute_result"
    }
   ],
   "source": [
    "# add multiple fields to hold descriptions and colors\n",
    "arcpy.management.AddFields(\"IMV\", field_description=[[\"Descript\", \"TEXT\", \"\", \"255\", \"\", \"\"], [\"Red\", \"SHORT\", \"\", \"\", \"\", \"\"], [\"Green\", \"SHORT\", \"\", \"\", \"\", \"\"], [\"Blue\", \"SHORT\", \"\", \"\", \"\", \"\"]])[0]"
   ]
  },
  {
   "cell_type": "code",
   "execution_count": 68,
   "metadata": {},
   "outputs": [
    {
     "data": {
      "text/html": [
       "<div class='gpresult'><h2>Messages</h2><div id='messages' data-messages='[\"Start Time: Saturday, September 16, 2023 3:58:01 AM\",\"Succeeded at Saturday, September 16, 2023 3:58:01 AM (Elapsed Time: 0.06 seconds)\"]' data-show='true'><div id = 'default' /></div></div>"
      ],
      "text/plain": [
       "<Result 'D:\\\\SE_Blueprint_2023\\\\10_AddCorridors\\\\AddCorridors2023.gdb\\\\IMV'>"
      ]
     },
     "execution_count": 68,
     "metadata": {},
     "output_type": "execute_result"
    }
   ],
   "source": [
    "# set code block for next step\n",
    "codeblock = \"\"\"\n",
    "def Reclass(Value):\n",
    "\tif Value == 4:\n",
    "\t\treturn 'Highest priority'\n",
    "\tif Value == 3:\n",
    "\t\treturn 'High priority'\n",
    "\tif Value == 2:\n",
    "\t\treturn 'Medium priority'\n",
    "\tif Value == 1:\n",
    "\t\treturn 'Priority connections'\n",
    "\telse:\n",
    "\t\treturn 'Lower priority'\n",
    "\t\t\n",
    "def Reclass1(Value):\n",
    "\tif Value == 4:\n",
    "\t\treturn 77\n",
    "\tif Value == 3:\n",
    "\t\treturn 132\n",
    "\tif Value == 2:\n",
    "\t\treturn 140\n",
    "\tif Value == 1:\n",
    "\t\treturn 108\n",
    "\telse:\n",
    "\t\treturn 255\n",
    "\t\t\n",
    "def Reclass2(Value):\n",
    "\tif Value == 4:\n",
    "\t\treturn 0\n",
    "\tif Value == 3:\n",
    "\t\treturn 63\n",
    "\tif Value == 2:\n",
    "\t\treturn 150\n",
    "\tif Value == 1:\n",
    "\t\treturn 108\n",
    "\telse:\n",
    "\t\treturn 255\n",
    "\t\t\n",
    "def Reclass3(Value):\n",
    "\tif Value == 4:\n",
    "\t\treturn 75\n",
    "\tif Value == 3:\n",
    "\t\treturn 152\n",
    "\tif Value == 2:\n",
    "\t\treturn 198\n",
    "\tif Value == 1:\n",
    "\t\treturn 108\n",
    "\telse:\n",
    "\t\treturn 255\n",
    "\"\"\"\n",
    "\n",
    "# calculate description field\n",
    "arcpy.management.CalculateField(\"IMV\", \"Descript\", \"Reclass(!Value!)\", \"PYTHON3\", codeblock, \"TEXT\")\n",
    "# calculate Red field\n",
    "arcpy.management.CalculateField(\"IMV\", \"Red\", \"Reclass1(!Value!)\", \"PYTHON3\", codeblock, \"SHORT\")\n",
    "# calculate Green field\n",
    "arcpy.management.CalculateField(\"IMV\", \"Green\", \"Reclass2(!Value!)\", \"PYTHON3\", codeblock, \"SHORT\")\n",
    "# calculate Blue field\n",
    "arcpy.management.CalculateField(\"IMV\", \"Blue\", \"Reclass3(!Value!)\", \"PYTHON3\", codeblock, \"SHORT\")"
   ]
  },
  {
   "cell_type": "code",
   "execution_count": 71,
   "metadata": {},
   "outputs": [
    {
     "data": {
      "text/html": [
       "<div class='gpresult'><h2>Messages</h2><div id='messages' data-messages='[\"Start Time: Sunday, September 17, 2023 11:50:24 PM\",\"Building Pyramids...\",\"Calculating Statistics...\",\"Succeeded at Sunday, September 17, 2023 11:55:09 PM (Elapsed Time: 4 minutes 45 seconds)\"]' data-show='true'><div id = 'default' /></div></div>"
      ],
      "text/plain": [
       "<Result 'D:\\\\SE_Blueprint_2023\\\\10_AddCorridors\\\\Final2023\\\\Blueprint2023.tif'>"
      ]
     },
     "execution_count": 71,
     "metadata": {},
     "output_type": "execute_result"
    }
   ],
   "source": [
    "# export as .tif \n",
    "arcpy.management.CopyRaster(\"IMV\", Blue, '', None, \"15\", \"NONE\", \"NONE\", \"4_BIT\", \"NONE\", \"NONE\", \"TIFF\", \"NONE\", \"CURRENT_SLICE\", \"NO_TRANSPOSE\")"
   ]
  },
  {
   "cell_type": "code",
   "execution_count": 70,
   "metadata": {},
   "outputs": [
    {
     "name": "stdout",
     "output_type": "stream",
     "text": [
      "10860.583675146103\n"
     ]
    }
   ],
   "source": [
    "end = time.time()\n",
    "print(end - start)"
   ]
  },
  {
   "cell_type": "code",
   "execution_count": null,
   "metadata": {},
   "outputs": [],
   "source": []
  },
  {
   "cell_type": "code",
   "execution_count": null,
   "metadata": {},
   "outputs": [],
   "source": []
  },
  {
   "cell_type": "code",
   "execution_count": null,
   "metadata": {},
   "outputs": [],
   "source": []
  },
  {
   "cell_type": "code",
   "execution_count": null,
   "metadata": {},
   "outputs": [],
   "source": []
  }
 ],
 "metadata": {
  "kernelspec": {
   "display_name": "ArcGISPro",
   "language": "Python",
   "name": "python3"
  },
  "language_info": {
   "file_extension": ".py",
   "name": "python",
   "version": "3"
  }
 },
 "nbformat": 4,
 "nbformat_minor": 2
}
