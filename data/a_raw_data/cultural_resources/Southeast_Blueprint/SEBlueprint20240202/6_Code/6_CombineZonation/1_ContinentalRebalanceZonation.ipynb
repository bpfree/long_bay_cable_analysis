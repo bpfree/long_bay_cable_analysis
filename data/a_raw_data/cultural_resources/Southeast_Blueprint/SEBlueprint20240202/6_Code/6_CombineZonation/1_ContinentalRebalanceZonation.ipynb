{
 "cells": [
  {
   "cell_type": "markdown",
   "metadata": {},
   "source": [
    "# Rebalance Zonation\n",
    "\n",
    "This rebalances the zonation results to correct for the removal of urban and reservoirs.\n",
    "\n",
    "Originally I had this code in with the code to combine all the zonation runs, but since we do a lot of testing of zonation results, it works better to have them seperate."
   ]
  },
  {
   "cell_type": "code",
   "execution_count": 438,
   "metadata": {},
   "outputs": [],
   "source": [
    "import os, fnmatch\n",
    "import arcpy"
   ]
  },
  {
   "cell_type": "code",
   "execution_count": 439,
   "metadata": {},
   "outputs": [],
   "source": [
    "import time\n",
    "start = time.time()"
   ]
  },
  {
   "cell_type": "code",
   "execution_count": 440,
   "metadata": {},
   "outputs": [],
   "source": [
    "# define spatial reference and workspaces\n",
    "sr= arcpy.SpatialReference(5070)\n",
    "\n",
    "# this is a working directory for intermediate files\n",
    "OutWorkspace = r\"D:\\SE_Blueprint_2023\\7_CombineZonation\\1_RebalanceZonation.gdb\""
   ]
  },
  {
   "cell_type": "code",
   "execution_count": 441,
   "metadata": {},
   "outputs": [],
   "source": [
    "# define final outputs\n",
    "OutTif = r\"D:\\SE_Blueprint_2023\\7_CombineZonation\\Z_\""
   ]
  },
  {
   "cell_type": "code",
   "execution_count": 442,
   "metadata": {},
   "outputs": [],
   "source": [
    "# define rasters used for cell size, extent, and snapping\n",
    "SEraster= r\"F:\\GIS_DATA\\SECAS\\SE_Blueprint_2022\\Southeast_Blueprint_2022_Data_Download\\SEBlueprint20221215\\Inputs\\BaseBlueprint\\1_ExtentLayers\\BaseBlueprintExtent2022.tif\""
   ]
  },
  {
   "cell_type": "code",
   "execution_count": 443,
   "metadata": {},
   "outputs": [],
   "source": [
    "# define additional inputs\n",
    "# this is the mask file that is used to calculate how much area was left out of each subregion\n",
    "Z= r\"D:\\SE_Blueprint_2023\\3_Edges\\2022SubregionsAndEdgesForWorkshops\\West_Gulf_Coastal_Plain_R.tif\"\n",
    "# this is the zonation output that we are rebalancing\n",
    "Zout= r\"D:\\SE_Blueprint_2023\\6_ZonationRuns\\Zonation\\West_Gulf_Coastal_Plain_2023\\West_Gulf_Coastal_Plain_2023.CAZ_E.rank.compressed.tif\""
   ]
  },
  {
   "cell_type": "markdown",
   "metadata": {},
   "source": [
    "### Start Analysis"
   ]
  },
  {
   "cell_type": "code",
   "execution_count": 444,
   "metadata": {},
   "outputs": [],
   "source": [
    "# Set the workspace where outputs go\n",
    "arcpy.env.workspace = OutWorkspace"
   ]
  },
  {
   "cell_type": "code",
   "execution_count": 445,
   "metadata": {},
   "outputs": [
    {
     "name": "stdout",
     "output_type": "stream",
     "text": [
      "D:\\SE_Blueprint_2023\\7_CombineZonation\\1_RebalanceZonation.gdb\n"
     ]
    }
   ],
   "source": [
    "print(arcpy.env.workspace)"
   ]
  },
  {
   "cell_type": "markdown",
   "metadata": {},
   "source": [
    "## Get Name of Input"
   ]
  },
  {
   "cell_type": "code",
   "execution_count": 446,
   "metadata": {},
   "outputs": [
    {
     "name": "stdout",
     "output_type": "stream",
     "text": [
      "West_Gulf_Coastal_Plain_2023.CAZ_E.rank.compressed.tif\n",
      "West_Gulf_Coastal_Plain_2023\n",
      "Stat_West_Gulf_Coastal_Plain_2023\n"
     ]
    }
   ],
   "source": [
    "# get name of input\n",
    "outName = os.path.basename(Zout)\n",
    "print(outName)\n",
    "outName2 = outName[:-26]\n",
    "print(outName2)\n",
    "test = \"Stat_\" + outName2\n",
    "print(test)"
   ]
  },
  {
   "cell_type": "markdown",
   "metadata": {},
   "source": [
    "### Find minimum stretch value "
   ]
  },
  {
   "cell_type": "code",
   "execution_count": 447,
   "metadata": {},
   "outputs": [
    {
     "data": {
      "text/html": [
       "<div class='gpresult'><h2>Messages</h2><div id='messages' data-messages='[\"Start Time: Monday, August 14, 2023 11:15:01 AM\",\"Adding MinValueInRescale to West_Gulf_Coastal_Plain_2023_Stat...\",\"Succeeded at Monday, August 14, 2023 11:15:01 AM (Elapsed Time: 0.07 seconds)\"]' data-show='true'><div id = 'default' /></div></div>"
      ],
      "text/plain": [
       "<Result 'D:\\\\SE_Blueprint_2023\\\\7_CombineZonation\\\\1_RebalanceZonation.gdb\\\\West_Gulf_Coastal_Plain_2023_Stat'>"
      ]
     },
     "execution_count": 447,
     "metadata": {},
     "output_type": "execute_result"
    }
   ],
   "source": [
    "# calculate statistics for 0/1 raster. \n",
    "# This is creating a new table. The table contains statistics for the 0/1 versions of the rasters used as a mask for\n",
    "# zonation. We need to rescale the zonation outputs because we have removed urban and reservoirs from each subregion. \n",
    "# We need to shift the zonation results up to account for all the areas that are really scoring poorly, due to being \n",
    "# urban or a reservoir. We calculate the sum of the count field. This is the total number of pixels in the subregion, \n",
    "# both 0 (urban or reservoir in the subregion) and 1 (area where zonation was allowed to prioritize in the subrgion).\n",
    "# Then we find the minumum from the count field. That is the smallest number in the count field, and based on how these\n",
    "# data were made, we know that is always the number of 0s (there are no subregions with more urban/reservoir than other\n",
    "# areas). \n",
    "arcpy.analysis.Statistics(Z, outName2 + \"_Stat\", \"Count SUM;Count MIN\", None)\n",
    "# use statistics to calcuate the minimum value in the rescale. We take the miniumum value in the count field (the number \n",
    "# of 0 pixels) divided by the sum of the count field (total number of pixels 0 and 1). This is the percent of the \n",
    "# subregion with 0 values. Then we take it times 100. This will be used as the lower value in our linear rescale function.\n",
    "arcpy.management.CalculateField(outName2 + \"_Stat\", \"MinValueInRescale\", \"(!MIN_Count! / !SUM_Count!) * 100\", \"PYTHON3\", '', \"DOUBLE\")"
   ]
  },
  {
   "cell_type": "markdown",
   "metadata": {},
   "source": [
    "### Bring in zonation results"
   ]
  },
  {
   "cell_type": "code",
   "execution_count": 448,
   "metadata": {},
   "outputs": [
    {
     "name": "stdout",
     "output_type": "stream",
     "text": [
      "3.7913406483401446\n"
     ]
    }
   ],
   "source": [
    "# now I need to take the value from the \"MinValueInRescale\" field and use it as the \"from scale\" in my linear rescale\n",
    "# how do I call up the value from this table in python?\n",
    "with arcpy.da.SearchCursor(outName2 + \"_Stat\", 'MinValueInRescale') as cursor:\n",
    "    for row in cursor:\n",
    "        zmin = (u'{0}'.format(row[0]))\n",
    "        print(zmin)"
   ]
  },
  {
   "cell_type": "code",
   "execution_count": 449,
   "metadata": {},
   "outputs": [],
   "source": [
    "# now I need to take the value from the \"MinValueInRescale\" field and use it as the \"from scale\" in my linear rescale\n",
    "# how do I call up the value from this table in python?\n",
    "out_raster = arcpy.sa.RescaleByFunction(Zout, \"LINEAR # # # # # #\", zmin, 100); out_raster.save(outName2 + \"_LinearRescale\")"
   ]
  },
  {
   "cell_type": "code",
   "execution_count": 450,
   "metadata": {},
   "outputs": [],
   "source": [
    "# now I need to assign 0 to all the areas that are were reservoirs or urban in that rescaled zonation result. Basically,\n",
    "# I'm slipping all those areas under the stack of the zonation results, they are all assumed to be worse than any of the \n",
    "# areas that we let zonation prioritize.\n",
    "out_raster = arcpy.sa.Con(Z, Z, outName2 + \"_LinearRescale\", \"Value = 0\"); out_raster.save(outName2 + \"UrbRes\")"
   ]
  },
  {
   "cell_type": "code",
   "execution_count": 451,
   "metadata": {},
   "outputs": [],
   "source": [
    "# convert to an integer\n",
    "out_raster = arcpy.sa.Int(outName2 + \"UrbRes\"); out_raster.save(outName2 + \"UrbResint\")"
   ]
  },
  {
   "cell_type": "code",
   "execution_count": 452,
   "metadata": {},
   "outputs": [
    {
     "data": {
      "text/html": [
       "<div class='gpresult'><h2>Messages</h2><div id='messages' data-messages='[\"Start Time: Monday, August 14, 2023 11:16:11 AM\",\"Building Pyramids...\",\"Calculating Statistics...\",\"Succeeded at Monday, August 14, 2023 11:16:17 AM (Elapsed Time: 5.96 seconds)\"]' data-show='true'><div id = 'default' /></div></div>"
      ],
      "text/plain": [
       "<Result 'D:\\\\SE_Blueprint_2023\\\\7_CombineZonation\\\\Z_West_Gulf_Coastal_Plain_2023.tif'>"
      ]
     },
     "execution_count": 452,
     "metadata": {},
     "output_type": "execute_result"
    }
   ],
   "source": [
    "# export as .tif \n",
    "arcpy.management.CopyRaster(outName2 + \"UrbResint\", OutTif + outName2 + \".tif\", '', None, \"255\", \"NONE\", \"NONE\", \"8_BIT_UNSIGNED\", \"NONE\", \"NONE\", \"TIFF\", \"NONE\", \"CURRENT_SLICE\", \"NO_TRANSPOSE\")"
   ]
  },
  {
   "cell_type": "code",
   "execution_count": 453,
   "metadata": {},
   "outputs": [
    {
     "name": "stdout",
     "output_type": "stream",
     "text": [
      "76.80943465232849\n"
     ]
    }
   ],
   "source": [
    "# this prints the time it took this notebook to run in seconds\n",
    "end = time.time()\n",
    "print(end - start)"
   ]
  },
  {
   "cell_type": "code",
   "execution_count": null,
   "metadata": {},
   "outputs": [],
   "source": []
  }
 ],
 "metadata": {
  "kernelspec": {
   "display_name": "ArcGISPro",
   "language": "Python",
   "name": "python3"
  },
  "language_info": {
   "file_extension": ".py",
   "name": "python",
   "version": "3"
  }
 },
 "nbformat": 4,
 "nbformat_minor": 2
}
