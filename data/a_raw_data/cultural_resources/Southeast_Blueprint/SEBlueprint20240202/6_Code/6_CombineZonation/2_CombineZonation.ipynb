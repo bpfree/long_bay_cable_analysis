{
 "cells": [
  {
   "cell_type": "markdown",
   "metadata": {},
   "source": [
    "# Combine subregional rebalanced zonation 4 runs and zonation 5 runs that don't need rebalancing\n",
    "\n",
    "This combines the rebalanced subregional zonation 4 results and the marine and Caribbean zonation 5 results into one raster\n",
    "\n",
    "Created by Amy Keister. Last run by Amy Keister on 8/14/2023. Took 2 hours to run."
   ]
  },
  {
   "cell_type": "code",
   "execution_count": 11,
   "metadata": {},
   "outputs": [],
   "source": [
    "import os, fnmatch\n",
    "import arcpy"
   ]
  },
  {
   "cell_type": "code",
   "execution_count": 12,
   "metadata": {},
   "outputs": [],
   "source": [
    "import time\n",
    "start = time.time()"
   ]
  },
  {
   "cell_type": "code",
   "execution_count": 13,
   "metadata": {},
   "outputs": [],
   "source": [
    "# define spatial reference and workspaces\n",
    "sr= arcpy.SpatialReference(5070)\n",
    "SourceWorkspace= r\"D:\\SE_Blueprint_2023\\7_CombineZonation\"\n",
    "OutWorkspace = r\"D:\\SE_Blueprint_2023\\7_CombineZonation\\2_Combine.gdb\""
   ]
  },
  {
   "cell_type": "code",
   "execution_count": 14,
   "metadata": {},
   "outputs": [],
   "source": [
    "OutTif = r\"D:\\SE_Blueprint_2023\\7_CombineZonation\\CombineZonation.tif\""
   ]
  },
  {
   "cell_type": "code",
   "execution_count": 15,
   "metadata": {},
   "outputs": [],
   "source": [
    "# full SE Blueprint extent\n",
    "Rextent= r\"D:\\SE_Blueprint_2023\\2_FullExtent\\SEBlueprint2023ExtentVIPR6.tif\""
   ]
  },
  {
   "cell_type": "code",
   "execution_count": 16,
   "metadata": {},
   "outputs": [],
   "source": [
    "# define additional inputs\n",
    "Marine= r\"D:\\SE_Blueprint_2023\\6_ZonationRuns\\Zonation\\Caribbean_2023\\rankmap.tif\"\n",
    "Car= r\"D:\\SE_Blueprint_2023\\6_ZonationRuns\\Zonation\\Marine_2023\\Marine_2023_CCandAtlEstXpoint1_NoSubCoreRule3to7\\rankmap.tif\""
   ]
  },
  {
   "cell_type": "markdown",
   "metadata": {},
   "source": [
    "### Start Analysis"
   ]
  },
  {
   "cell_type": "code",
   "execution_count": 17,
   "metadata": {},
   "outputs": [],
   "source": [
    "# Set the source workspace\n",
    "arcpy.env.workspace = SourceWorkspace"
   ]
  },
  {
   "cell_type": "code",
   "execution_count": 18,
   "metadata": {},
   "outputs": [
    {
     "name": "stdout",
     "output_type": "stream",
     "text": [
      "D:\\SE_Blueprint_2023\\7_CombineZonation\n"
     ]
    }
   ],
   "source": [
    "print(arcpy.env.workspace)"
   ]
  },
  {
   "cell_type": "markdown",
   "metadata": {},
   "source": [
    "## Rebalanced Zonation Results (Inland Subregions)"
   ]
  },
  {
   "cell_type": "code",
   "execution_count": 19,
   "metadata": {},
   "outputs": [
    {
     "name": "stdout",
     "output_type": "stream",
     "text": [
      "Z_Atlantic_Coastal_Plain_2023.tif\n",
      "Z_Central_Gulf_Coastal_Plain_2023.tif\n",
      "Z_Chihuahuan_Deserts_2023.tif\n",
      "Z_East_Gulf_Coastal_Plain_Sub_2023.tif\n",
      "Z_Edwards_Plateau_2023.tif\n",
      "Z_Florida_Peninsula_2023.tif\n",
      "Z_Gulf_Coastal_Prairies_2023.tif\n",
      "Z_High_Plains_and_Tablelands_2023.tif\n",
      "Z_Interior_Plateau_2023.tif\n",
      "Z_Mid_East_Gulf_Coastal_Plain_2023.tif\n",
      "Z_Mississippi_Alluvial_Valley_RZ_2023.tif\n",
      "Z_North_Appalachians_2023.tif\n",
      "Z_North_Missouri_2023.tif\n",
      "Z_Ouachita_2023.tif\n",
      "Z_Ozarks_and_Plains.tif\n",
      "Z_Piedmont_2023.tif\n",
      "Z_Plains_and_Timbers_2023.tif\n",
      "Z_South_Appalachians_2023.tif\n",
      "Z_South_Texas_Plains_2023.tif\n",
      "Z_Texas_Blackland_Prairies_2023.tif\n",
      "Z_West_Gulf_Coastal_Plain_2023.tif\n"
     ]
    }
   ],
   "source": [
    "# Get and print a list of the rebalanced zonation results\n",
    "rasters = arcpy.ListRasters(\"*\", \"TIF\")\n",
    "for raster in rasters:\n",
    "    print(raster)"
   ]
  },
  {
   "cell_type": "code",
   "execution_count": 20,
   "metadata": {},
   "outputs": [
    {
     "data": {
      "text/html": [
       "<div class='gpresult'><h2>Messages</h2><div id='messages' data-messages='[\"Start Time: Monday, August 14, 2023 4:39:47 PM\",\"D:\\\\SE_Blueprint_2023\\\\7_CombineZonation\\\\Z_Atlantic_Coastal_Plain_2023.tif is loading...\",\"D:\\\\SE_Blueprint_2023\\\\7_CombineZonation\\\\Z_Central_Gulf_Coastal_Plain_2023.tif is loading...\",\"D:\\\\SE_Blueprint_2023\\\\7_CombineZonation\\\\Z_Chihuahuan_Deserts_2023.tif is loading...\",\"D:\\\\SE_Blueprint_2023\\\\7_CombineZonation\\\\Z_East_Gulf_Coastal_Plain_Sub_2023.tif is loading...\",\"D:\\\\SE_Blueprint_2023\\\\7_CombineZonation\\\\Z_Edwards_Plateau_2023.tif is loading...\",\"D:\\\\SE_Blueprint_2023\\\\7_CombineZonation\\\\Z_Florida_Peninsula_2023.tif is loading...\",\"D:\\\\SE_Blueprint_2023\\\\7_CombineZonation\\\\Z_Gulf_Coastal_Prairies_2023.tif is loading...\",\"D:\\\\SE_Blueprint_2023\\\\7_CombineZonation\\\\Z_High_Plains_and_Tablelands_2023.tif is loading...\",\"D:\\\\SE_Blueprint_2023\\\\7_CombineZonation\\\\Z_Interior_Plateau_2023.tif is loading...\",\"D:\\\\SE_Blueprint_2023\\\\7_CombineZonation\\\\Z_Mid_East_Gulf_Coastal_Plain_2023.tif is loading...\",\"D:\\\\SE_Blueprint_2023\\\\7_CombineZonation\\\\Z_Mississippi_Alluvial_Valley_RZ_2023.tif is loading...\",\"D:\\\\SE_Blueprint_2023\\\\7_CombineZonation\\\\Z_North_Appalachians_2023.tif is loading...\",\"D:\\\\SE_Blueprint_2023\\\\7_CombineZonation\\\\Z_North_Missouri_2023.tif is loading...\",\"D:\\\\SE_Blueprint_2023\\\\7_CombineZonation\\\\Z_Ouachita_2023.tif is loading...\",\"D:\\\\SE_Blueprint_2023\\\\7_CombineZonation\\\\Z_Ozarks_and_Plains.tif is loading...\",\"D:\\\\SE_Blueprint_2023\\\\7_CombineZonation\\\\Z_Piedmont_2023.tif is loading...\",\"D:\\\\SE_Blueprint_2023\\\\7_CombineZonation\\\\Z_Plains_and_Timbers_2023.tif is loading...\",\"D:\\\\SE_Blueprint_2023\\\\7_CombineZonation\\\\Z_South_Appalachians_2023.tif is loading...\",\"D:\\\\SE_Blueprint_2023\\\\7_CombineZonation\\\\Z_South_Texas_Plains_2023.tif is loading...\",\"D:\\\\SE_Blueprint_2023\\\\7_CombineZonation\\\\Z_Texas_Blackland_Prairies_2023.tif is loading...\",\"D:\\\\SE_Blueprint_2023\\\\7_CombineZonation\\\\Z_West_Gulf_Coastal_Plain_2023.tif is loading...\",\"Succeeded at Monday, August 14, 2023 5:03:20 PM (Elapsed Time: 23 minutes 33 seconds)\"]' data-show='true'><div id = 'default' /></div></div>"
      ],
      "text/plain": [
       "<Result 'D:\\\\SE_Blueprint_2023\\\\7_CombineZonation\\\\2_Combine.gdb\\\\Mosaic1'>"
      ]
     },
     "execution_count": 20,
     "metadata": {},
     "output_type": "execute_result"
    }
   ],
   "source": [
    "# mosaic the rebalanced zonation results\n",
    "arcpy.management.MosaicToNewRaster(rasters, OutWorkspace, \"Mosaic1\", None, \"8_BIT_UNSIGNED\", None, 1, \"MAXIMUM\", \"FIRST\")"
   ]
  },
  {
   "cell_type": "markdown",
   "metadata": {},
   "source": [
    "## Unbalanced Zonation Results (Marine and Caribbean Subregions)"
   ]
  },
  {
   "cell_type": "code",
   "execution_count": 21,
   "metadata": {},
   "outputs": [],
   "source": [
    "# Set the workspace where outputs go\n",
    "arcpy.env.workspace = OutWorkspace"
   ]
  },
  {
   "cell_type": "markdown",
   "metadata": {},
   "source": [
    "### Stretch, round, and convert to integer"
   ]
  },
  {
   "cell_type": "code",
   "execution_count": 22,
   "metadata": {},
   "outputs": [],
   "source": [
    "# take times 100\n",
    "out_raster = arcpy.sa.Times(Marine, 100); out_raster.save(\"Marine100\")\n",
    "out_raster = arcpy.sa.Times(Car, 100); out_raster.save(\"Car100\")"
   ]
  },
  {
   "cell_type": "code",
   "execution_count": 23,
   "metadata": {},
   "outputs": [],
   "source": [
    "# Convert to integer\n",
    "out_raster = arcpy.sa.Int(\"Marine100\"); out_raster.save(\"Marine100_Int\")\n",
    "out_raster = arcpy.sa.Int(\"Car100\"); out_raster.save(\"Car100_Int\")"
   ]
  },
  {
   "cell_type": "code",
   "execution_count": 24,
   "metadata": {},
   "outputs": [
    {
     "name": "stdout",
     "output_type": "stream",
     "text": [
      "D:\\SE_Blueprint_2023\\7_CombineZonation\\2_Combine.gdb\n"
     ]
    }
   ],
   "source": [
    "print(arcpy.env.workspace)"
   ]
  },
  {
   "cell_type": "markdown",
   "metadata": {},
   "source": [
    "## Combine inland and marine"
   ]
  },
  {
   "cell_type": "code",
   "execution_count": 25,
   "metadata": {},
   "outputs": [
    {
     "data": {
      "text/html": [
       "<div class='gpresult'><h2>Messages</h2><div id='messages' data-messages='[\"Start Time: Monday, August 14, 2023 5:10:12 PM\",\"D:\\\\SE_Blueprint_2023\\\\7_CombineZonation\\\\2_Combine.gdb\\\\Mosaic1 is loading...\",\"D:\\\\SE_Blueprint_2023\\\\7_CombineZonation\\\\2_Combine.gdb\\\\Marine100_Int is loading...\",\"D:\\\\SE_Blueprint_2023\\\\7_CombineZonation\\\\2_Combine.gdb\\\\Car100_Int is loading...\",\"Succeeded at Monday, August 14, 2023 6:27:41 PM (Elapsed Time: 1 hours 17 minutes 28 seconds)\"]' data-show='true'><div id = 'default' /></div></div>"
      ],
      "text/plain": [
       "<Result 'D:\\\\SE_Blueprint_2023\\\\7_CombineZonation\\\\2_Combine.gdb\\\\Mosaic3'>"
      ]
     },
     "execution_count": 25,
     "metadata": {},
     "output_type": "execute_result"
    }
   ],
   "source": [
    "# mosaic subregions to new raster\n",
    "arcpy.management.MosaicToNewRaster(\"Mosaic1;Marine100_Int;Car100_Int\", OutWorkspace, \"Mosaic3\", None, \"8_BIT_UNSIGNED\", None, 1, \"MAXIMUM\", \"FIRST\")"
   ]
  },
  {
   "cell_type": "code",
   "execution_count": 36,
   "metadata": {},
   "outputs": [],
   "source": [
    "# take times 1 to see if it fixes the striping\n",
    "with arcpy.EnvManager(outputCoordinateSystem=sr, extent=Rextent, snapRaster=Rextent, cellSize=Rextent):\n",
    "    out_raster = arcpy.sa.Times(\"Mosaic3\", 1); out_raster.save(\"Mosaic4\")"
   ]
  },
  {
   "cell_type": "code",
   "execution_count": 37,
   "metadata": {},
   "outputs": [],
   "source": [
    "# export as .tif \n",
    "with arcpy.EnvManager(outputCoordinateSystem=sr, extent=Rextent, snapRaster=Rextent, cellSize=Rextent):\n",
    "    arcpy.management.CopyRaster(\"Mosaic4\", OutTif, '', None, \"255\", \"NONE\", \"NONE\", \"8_BIT_UNSIGNED\", \"NONE\", \"NONE\", \"TIFF\", \"NONE\", \"CURRENT_SLICE\", \"NO_TRANSPOSE\")"
   ]
  },
  {
   "cell_type": "code",
   "execution_count": 28,
   "metadata": {},
   "outputs": [
    {
     "name": "stdout",
     "output_type": "stream",
     "text": [
      "6904.8453776836395\n"
     ]
    }
   ],
   "source": [
    "end = time.time()\n",
    "print(end - start)"
   ]
  },
  {
   "cell_type": "code",
   "execution_count": null,
   "metadata": {},
   "outputs": [],
   "source": []
  },
  {
   "cell_type": "code",
   "execution_count": null,
   "metadata": {},
   "outputs": [],
   "source": []
  },
  {
   "cell_type": "code",
   "execution_count": null,
   "metadata": {},
   "outputs": [],
   "source": []
  },
  {
   "cell_type": "code",
   "execution_count": null,
   "metadata": {},
   "outputs": [],
   "source": []
  }
 ],
 "metadata": {
  "kernelspec": {
   "display_name": "ArcGISPro",
   "language": "Python",
   "name": "python3"
  },
  "language_info": {
   "file_extension": ".py",
   "name": "python",
   "version": "3"
  }
 },
 "nbformat": 4,
 "nbformat_minor": 2
}
