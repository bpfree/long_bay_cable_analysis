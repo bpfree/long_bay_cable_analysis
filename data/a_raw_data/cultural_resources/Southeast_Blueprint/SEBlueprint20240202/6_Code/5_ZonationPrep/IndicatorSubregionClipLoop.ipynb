{
 "cells": [
  {
   "cell_type": "markdown",
   "metadata": {},
   "source": [
    "# Clip indicators and make extent smaller for zonation subregion runs\n",
    "\n",
    "This code was used to clip the indicators for each zonation subregion. This was necessary because the entire Southeast region is too large. When we were working in just the South Atlantic, we could input all the full indicator layers, and use a subregion mask to mask down. But for the full Southeast, this is too big and zonation can't run. This code is used to both mask the indicators and make the extent match the subregion extent, so that zonation can run.\n",
    "\n",
    "It puts the outputs in the same directory as the inputs, but they will have names that start with A_ plus the subregion name so you can tell them apart. \n",
    "\n",
    "If an output has the same values as the input (usually ranging from 1 - 10ish), then there is overlap and the indicator should be used. If the output has a werid high max value (the value of NODATA in the input indicator, sometimes 65535 because some inputs were 16 bit unsigned) you know it doesn't overlap with this subregion."
   ]
  },
  {
   "cell_type": "code",
   "execution_count": 8,
   "metadata": {},
   "outputs": [],
   "source": [
    "import os, fnmatch\n",
    "import arcpy"
   ]
  },
  {
   "cell_type": "code",
   "execution_count": 9,
   "metadata": {},
   "outputs": [],
   "source": [
    "# define spatial reference and workspaces\n",
    "sr= arcpy.SpatialReference(5070)\n",
    "# folder that contains all the indicators\n",
    "SourceWorkspace= r\"C:\\zonation\\bin\\indicators\""
   ]
  },
  {
   "cell_type": "code",
   "execution_count": 10,
   "metadata": {},
   "outputs": [],
   "source": [
    "# define inputs\n",
    "# this is the subregion that will be used as the extent for cell size, extent, and snapping\n",
    "Subrgn= r\"C:\\zonation\\bin\\masks\\Piedmont_RZ.tif\"\n",
    "\n",
    "# this is the name that will be put in front of the output\n",
    "SubrgnN= \"Piedmont_\""
   ]
  },
  {
   "cell_type": "markdown",
   "metadata": {},
   "source": [
    "### Start Analysis"
   ]
  },
  {
   "cell_type": "code",
   "execution_count": 11,
   "metadata": {},
   "outputs": [],
   "source": [
    "# Set the workspace where the indicators are\n",
    "arcpy.env.workspace = SourceWorkspace"
   ]
  },
  {
   "cell_type": "markdown",
   "metadata": {},
   "source": [
    "### Make a list of indicators to be clipped\n",
    "Now that our extent is so large, we can no longer just input the full extent into our zonation subregion runs. We have to generate masks that have the extent for each subregion, and then we need to clip all the indicators for that zonation run to that smaller mask area as well. Blah."
   ]
  },
  {
   "cell_type": "code",
   "execution_count": 12,
   "metadata": {},
   "outputs": [],
   "source": [
    "# make a list of indicators to be clipped\n",
    "RList = arcpy.ListRasters() "
   ]
  },
  {
   "cell_type": "code",
   "execution_count": 13,
   "metadata": {
    "scrolled": false
   },
   "outputs": [
    {
     "name": "stdout",
     "output_type": "stream",
     "text": [
      "['IndicatorBins2019.tif']\n"
     ]
    }
   ],
   "source": [
    "# print list of indicators to make sure it looks right\n",
    "print(RList)"
   ]
  },
  {
   "cell_type": "markdown",
   "metadata": {},
   "source": [
    "### loop through indicators and clip to subregion"
   ]
  },
  {
   "cell_type": "code",
   "execution_count": 14,
   "metadata": {
    "scrolled": true
   },
   "outputs": [
    {
     "name": "stdout",
     "output_type": "stream",
     "text": [
      "finished clipping indicators\n"
     ]
    }
   ],
   "source": [
    "# Loop through all indicator rasters, clip to subregion and change extent\n",
    "for r in RList:\n",
    "    # wrap this in a try/except clause to deal with huge numbers as noData in some indicators \n",
    "    # These indicators only have noData values in this subregion but the code converts them \n",
    "    # to the numerical noData values which causes a runtime error if they're too large\n",
    "    try:\n",
    "        # Process: \n",
    "        with arcpy.EnvManager(outputCoordinateSystem=sr, extent=Subrgn, snapRaster=Subrgn, cellSize=Subrgn):\n",
    "            out_raster = arcpy.sa.ExtractByMask(r, Subrgn); out_raster.save(SubrgnN + r)\n",
    "            # it doesn't re-calculate statistic after the mask, so it still shows the old full attribute\n",
    "            # table, but adding statistics here also didn't fix the attribute table problem\n",
    "            #arcpy.management.CalculateStatistics(SubrgnN + r, 1, 1, [], \"OVERWRITE\", r\"in_memory\\feature_set1\")\n",
    "            # I ended up using ye old *1 trick to force statistics calculation, so we can tell\n",
    "            # which indicators overlap and which do not\n",
    "            out_raster = arcpy.sa.Times(SubrgnN + r, 1); out_raster.save('A_' + SubrgnN + r)\n",
    "            # this just does a bit of clean up and deletes the output with the old full attribute table\n",
    "            arcpy.management.Delete(SubrgnN + r, '')\n",
    "            arcpy.management.CalculateStatistics('A_' + SubrgnN + r, 1, 1, [], \"OVERWRITE\", r\"in_memory\\feature_set1\")\n",
    "    except RuntimeError:\n",
    "        print(r+\" is just noData and noData value is too large. Skipping this indicator\")\n",
    "        \n",
    "print (\"finished clipping indicators\") "
   ]
  },
  {
   "cell_type": "code",
   "execution_count": null,
   "metadata": {},
   "outputs": [],
   "source": []
  },
  {
   "cell_type": "code",
   "execution_count": null,
   "metadata": {},
   "outputs": [],
   "source": []
  }
 ],
 "metadata": {
  "kernelspec": {
   "display_name": "ArcGISPro",
   "language": "Python",
   "name": "python3"
  },
  "language_info": {
   "file_extension": ".py",
   "name": "python",
   "version": "3"
  }
 },
 "nbformat": 4,
 "nbformat_minor": 2
}
