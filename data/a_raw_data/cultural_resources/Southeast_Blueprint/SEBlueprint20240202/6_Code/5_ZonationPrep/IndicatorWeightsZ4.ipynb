{
 "cells": [
  {
   "cell_type": "markdown",
   "metadata": {},
   "source": [
    "# Calculate Zonation weights\n",
    "\n",
    "This code was used to extract subregional values to weight indicators for Zonation 4 runs in the 2023 Blueprint\n",
    "\n",
    "Code written by Rua Mordecai"
   ]
  },
  {
   "cell_type": "code",
   "execution_count": 1,
   "metadata": {},
   "outputs": [],
   "source": [
    "import os, fnmatch\n",
    "import arcpy"
   ]
  },
  {
   "cell_type": "code",
   "execution_count": 2,
   "metadata": {},
   "outputs": [],
   "source": [
    "# folder that contains the clipped indicators\n",
    "SourceWorkspace= r\"C:\\zonation\\bin\\indicators\""
   ]
  },
  {
   "cell_type": "code",
   "execution_count": 3,
   "metadata": {},
   "outputs": [],
   "source": [
    "# Total number of pixels in the subregion mask\n",
    "maskPixels = 184385461"
   ]
  },
  {
   "cell_type": "code",
   "execution_count": 4,
   "metadata": {},
   "outputs": [],
   "source": [
    "# Set the workspace where the indicators are\n",
    "arcpy.env.workspace = SourceWorkspace"
   ]
  },
  {
   "cell_type": "code",
   "execution_count": 5,
   "metadata": {},
   "outputs": [],
   "source": [
    "# make a list of indicators \n",
    "RList = arcpy.ListRasters() "
   ]
  },
  {
   "cell_type": "code",
   "execution_count": 6,
   "metadata": {
    "scrolled": true
   },
   "outputs": [
    {
     "name": "stdout",
     "output_type": "stream",
     "text": [
      "['AtlanticCoralAndHardbottomFull.tif', 'AtlanticDeepSeaCoralRichness.tif', 'AtlanticEstuarineFishHabitatMaxE.tif', 'AtlanticMarineBirds.tif', 'AtlanticMarineMammals.tif', 'AtlanticMigratoryFishHabitat.tif', 'AtlSubregion.tif', 'A_Marine_AtlanticCoralAndHardbottomFull.tif', 'A_Marine_AtlanticDeepSeaCoralRichness.tif', 'A_Marine_AtlanticEstuarineFishHabitatMaxE.tif', 'A_Marine_AtlanticMarineBirds.tif', 'A_Marine_AtlanticMarineMammals.tif', 'A_Marine_AtlanticMigratoryFishHabitat.tif', 'A_Marine_AtlSubregion.tif', 'A_Marine_CoastalShorelineCondition.tif', 'A_Marine_EastCoastalPlainOpenPineBirds.tif', 'A_Marine_EquitableAccessToPotentialParks.tif', 'A_Marine_EstuarineCoastalCondition_znd_final.tif', 'A_Marine_FireFrequency_ZND.tif', 'A_Marine_GreatPlainsPerennialGrasslands.tif', 'A_Marine_GreenwaysAndTrails.tif', 'A_Marine_GulfCoralAndHardbottom.tif', 'A_Marine_GulfDeepSeaCoralRichness.tif', 'A_Marine_GulfMarineMammals.tif', 'A_Marine_GulfMigratoryFishConnectivity2023.tif', 'A_Marine_GulfSeaTurtles.tif', 'A_Marine_GulfSubregion.tif', 'A_Marine_ImperiledAquaticSpecies2023.tif', 'A_Marine_IntactHabitatCores.tif', 'A_Marine_IslandHabitat.tif', 'A_Marine_MarineHighlyMigratoryFish.tif', 'A_Marine_MississippiAlluvialValleyForestBirds_Protection.tif', 'A_Marine_MississippiAlluvialValleyForestBirds_Reforestation.tif', 'A_Marine_NaturalLandcoverInFloodplains.tif', 'A_Marine_NetworkComplexity.tif', 'A_Marine_PermeableSurface.tif', 'A_Marine_Playas.tif', 'A_Marine_ResilientCoastalSites.tif', 'A_Marine_ResilientTerrestrialSites.tif', 'A_Marine_Seagrass_ZND.tif', 'A_Marine_SouthAtlanticAmphibianAndReptileAreas2023.tif', 'A_Marine_SouthAtlanticBeachBirds2023NoMax0.tif', 'A_Marine_SouthAtlanticForestBirds.tif', 'A_Marine_SouthAtlanticLowUrbanHistoric.tif', 'A_Marine_SouthAtlanticMaritimeForest.tif', 'A_Marine_StableCoastalWetlands.tif', 'A_Marine_UrbanParkSize_ZND.tif', 'A_Marine_WestCoastalPlainAndOuachitasForestedWetlandBirds.tif', 'A_Marine_WestGulfCoastMottledDuckNesting.tif', 'A_Marine_WestVirginiaImperiledAquaticSpecies2023.tif', 'CoastalShorelineCondition.tif', 'EastCoastalPlainOpenPineBirds.tif', 'EquitableAccessToPotentialParks.tif', 'EstuarineCoastalCondition_znd_final.tif', 'FireFrequency_ZND.tif', 'GreatPlainsPerennialGrasslands.tif', 'GreenwaysAndTrails.tif', 'GulfCoralAndHardbottom.tif', 'GulfDeepSeaCoralRichness.tif', 'GulfMarineMammals.tif', 'GulfMigratoryFishConnectivity2023.tif', 'GulfSeaTurtles.tif', 'GulfSubregion.tif', 'ImperiledAquaticSpecies2023.tif', 'IntactHabitatCores.tif', 'InteriorSoutheastGrasslands.tif', 'IslandHabitat.tif', 'MarineHighlyMigratoryFish.tif', 'MississippiAlluvialValleyForestBirds_Protection.tif', 'MississippiAlluvialValleyForestBirds_Reforestation.tif', 'NaturalLandcoverInFloodplains.tif', 'NetworkComplexity.tif', 'PermeableSurface.tif', 'Playas.tif', 'ResilientCoastalSites.tif', 'ResilientTerrestrialSites.tif', 'Seagrass_ZND.tif', 'SouthAtlanticAmphibianAndReptileAreas2023.tif', 'SouthAtlanticBeachBirds2023NoMax0.tif', 'SouthAtlanticForestBirds.tif', 'SouthAtlanticLowUrbanHistoric.tif', 'SouthAtlanticMaritimeForest.tif', 'StableCoastalWetlands.tif', 'UrbanParkSize_ZND.tif', 'WestCoastalPlainAndOuachitasForestedWetlandBirds.tif', 'WestCoastalPlainAndOuachitasOpenPineBirds.tif', 'WestGulfCoastMottledDuckNesting.tif', 'WestVirginiaImperiledAquaticSpecies2023.tif']\n"
     ]
    }
   ],
   "source": [
    "# print list of indicators to make sure it looks right\n",
    "print(RList)"
   ]
  },
  {
   "cell_type": "markdown",
   "metadata": {},
   "source": [
    "## Begin calculation of weights"
   ]
  },
  {
   "cell_type": "code",
   "execution_count": 7,
   "metadata": {},
   "outputs": [],
   "source": [
    "# Create a dictionary to store the results of the weight calculations\n",
    "weights = {}\n",
    "for r in RList:\n",
    "    weights[r] = 0"
   ]
  },
  {
   "cell_type": "code",
   "execution_count": 8,
   "metadata": {},
   "outputs": [],
   "source": [
    "# Loop through all indicator rasters \n",
    "for r in RList:    \n",
    "    # For each element in the attribute table\n",
    "    try:\n",
    "        for q in arcpy.da.SearchCursor(r, [\"VALUE\", \"COUNT\"]):\n",
    "            # Only include non-zero values. We ignore zeros in the weights.\n",
    "            if q[0] != 0:\n",
    "                # Sum up the nonzero occurrences for each indicator value\n",
    "                weights[r] += q[1]\n",
    "    except RuntimeError:\n",
    "        pass \n",
    "   "
   ]
  },
  {
   "cell_type": "code",
   "execution_count": 9,
   "metadata": {
    "scrolled": false
   },
   "outputs": [
    {
     "name": "stdout",
     "output_type": "stream",
     "text": [
      "0.35085346 2 1 1 0.25 C:/zonation/bin/indicators/AtlanticCoralAndHardbottomFull.tif\n",
      "0.25353989 2 1 1 0.25 C:/zonation/bin/indicators/AtlanticDeepSeaCoralRichness.tif\n",
      "0.10686183 2 1 1 0.25 C:/zonation/bin/indicators/AtlanticEstuarineFishHabitatMaxE.tif\n",
      "1.00000000 2 1 1 0.25 C:/zonation/bin/indicators/AtlanticMarineBirds.tif\n",
      "1.00000000 2 1 1 0.25 C:/zonation/bin/indicators/AtlanticMarineMammals.tif\n",
      "0.14994449 2 1 1 0.25 C:/zonation/bin/indicators/AtlanticMigratoryFishHabitat.tif\n",
      "0.44605714 2 1 1 0.25 C:/zonation/bin/indicators/AtlSubregion.tif\n",
      "0.33862182 2 1 1 0.25 C:/zonation/bin/indicators/A_Marine_AtlanticCoralAndHardbottomFull.tif\n",
      "0.25353989 2 1 1 0.25 C:/zonation/bin/indicators/A_Marine_AtlanticDeepSeaCoralRichness.tif\n",
      "0.00170640 2 1 1 0.25 C:/zonation/bin/indicators/A_Marine_AtlanticEstuarineFishHabitatMaxE.tif\n",
      "0.46258168 2 1 1 0.25 C:/zonation/bin/indicators/A_Marine_AtlanticMarineBirds.tif\n",
      "0.44802176 2 1 1 0.25 C:/zonation/bin/indicators/A_Marine_AtlanticMarineMammals.tif\n",
      "0.44605714 2 1 1 0.25 C:/zonation/bin/indicators/A_Marine_AtlSubregion.tif\n",
      "0.05017464 2 1 1 0.25 C:/zonation/bin/indicators/A_Marine_EstuarineCoastalCondition_znd_final.tif\n",
      "0.25636187 2 1 1 0.25 C:/zonation/bin/indicators/A_Marine_GulfCoralAndHardbottom.tif\n",
      "0.38387094 2 1 1 0.25 C:/zonation/bin/indicators/A_Marine_GulfDeepSeaCoralRichness.tif\n",
      "1.00000000 2 1 1 0.25 C:/zonation/bin/indicators/A_Marine_GulfMarineMammals.tif\n",
      "1.00000000 2 1 1 0.25 C:/zonation/bin/indicators/A_Marine_GulfSeaTurtles.tif\n",
      "1.00000000 2 1 1 0.25 C:/zonation/bin/indicators/A_Marine_GulfSubregion.tif\n",
      "1.00000000 2 1 1 0.25 C:/zonation/bin/indicators/A_Marine_MarineHighlyMigratoryFish.tif\n",
      "0.00656919 2 1 1 0.25 C:/zonation/bin/indicators/A_Marine_Seagrass_ZND.tif\n",
      "0.00014226 2 1 1 0.25 C:/zonation/bin/indicators/A_Marine_UrbanParkSize_ZND.tif\n",
      "0.01405670 2 1 1 0.25 C:/zonation/bin/indicators/CoastalShorelineCondition.tif\n",
      "0.12134836 2 1 1 0.25 C:/zonation/bin/indicators/EastCoastalPlainOpenPineBirds.tif\n",
      "0.07171700 2 1 1 0.25 C:/zonation/bin/indicators/EquitableAccessToPotentialParks.tif\n",
      "0.23057277 2 1 1 0.25 C:/zonation/bin/indicators/EstuarineCoastalCondition_znd_final.tif\n",
      "0.18780420 2 1 1 0.25 C:/zonation/bin/indicators/FireFrequency_ZND.tif\n",
      "0.49749680 2 1 1 0.25 C:/zonation/bin/indicators/GreatPlainsPerennialGrasslands.tif\n",
      "0.01485978 2 1 1 0.25 C:/zonation/bin/indicators/GreenwaysAndTrails.tif\n",
      "0.27414059 2 1 1 0.25 C:/zonation/bin/indicators/GulfCoralAndHardbottom.tif\n",
      "0.39925231 2 1 1 0.25 C:/zonation/bin/indicators/GulfDeepSeaCoralRichness.tif\n",
      "1.00000000 2 1 1 0.25 C:/zonation/bin/indicators/GulfMarineMammals.tif\n",
      "0.03240123 2 1 1 0.25 C:/zonation/bin/indicators/GulfMigratoryFishConnectivity2023.tif\n",
      "1.00000000 2 1 1 0.25 C:/zonation/bin/indicators/GulfSeaTurtles.tif\n",
      "1.00000000 2 1 1 0.25 C:/zonation/bin/indicators/GulfSubregion.tif\n",
      "0.35299368 2 1 1 0.25 C:/zonation/bin/indicators/ImperiledAquaticSpecies2023.tif\n",
      "1.00000000 2 1 1 0.25 C:/zonation/bin/indicators/IntactHabitatCores.tif\n",
      "0.24756234 2 1 1 0.25 C:/zonation/bin/indicators/InteriorSoutheastGrasslands.tif\n",
      "0.02891105 2 1 1 0.25 C:/zonation/bin/indicators/IslandHabitat.tif\n",
      "1.00000000 2 1 1 0.25 C:/zonation/bin/indicators/MarineHighlyMigratoryFish.tif\n",
      "0.03291525 2 1 1 0.25 C:/zonation/bin/indicators/MississippiAlluvialValleyForestBirds_Protection.tif\n",
      "0.15723794 2 1 1 0.25 C:/zonation/bin/indicators/MississippiAlluvialValleyForestBirds_Reforestation.tif\n",
      "0.35616810 2 1 1 0.25 C:/zonation/bin/indicators/NaturalLandcoverInFloodplains.tif\n",
      "0.34273651 2 1 1 0.25 C:/zonation/bin/indicators/NetworkComplexity.tif\n",
      "1.00000000 2 1 1 0.25 C:/zonation/bin/indicators/PermeableSurface.tif\n",
      "0.00408269 2 1 1 0.25 C:/zonation/bin/indicators/Playas.tif\n",
      "0.14550489 2 1 1 0.25 C:/zonation/bin/indicators/ResilientCoastalSites.tif\n",
      "1.00000000 2 1 1 0.25 C:/zonation/bin/indicators/ResilientTerrestrialSites.tif\n",
      "0.03091591 2 1 1 0.25 C:/zonation/bin/indicators/Seagrass_ZND.tif\n",
      "0.17404902 2 1 1 0.25 C:/zonation/bin/indicators/SouthAtlanticAmphibianAndReptileAreas2023.tif\n",
      "0.00156052 2 1 1 0.25 C:/zonation/bin/indicators/SouthAtlanticBeachBirds2023NoMax0.tif\n",
      "0.02872709 2 1 1 0.25 C:/zonation/bin/indicators/SouthAtlanticForestBirds.tif\n",
      "0.00592918 2 1 1 0.25 C:/zonation/bin/indicators/SouthAtlanticLowUrbanHistoric.tif\n",
      "0.00183232 2 1 1 0.25 C:/zonation/bin/indicators/SouthAtlanticMaritimeForest.tif\n",
      "0.06502404 2 1 1 0.25 C:/zonation/bin/indicators/StableCoastalWetlands.tif\n",
      "0.04789571 2 1 1 0.25 C:/zonation/bin/indicators/UrbanParkSize_ZND.tif\n",
      "0.05318315 2 1 1 0.25 C:/zonation/bin/indicators/WestCoastalPlainAndOuachitasForestedWetlandBirds.tif\n",
      "0.17428586 2 1 1 0.25 C:/zonation/bin/indicators/WestCoastalPlainAndOuachitasOpenPineBirds.tif\n",
      "0.04758995 2 1 1 0.25 C:/zonation/bin/indicators/WestGulfCoastMottledDuckNesting.tif\n",
      "0.00952327 2 1 1 0.25 C:/zonation/bin/indicators/WestVirginiaImperiledAquaticSpecies2023.tif\n"
     ]
    }
   ],
   "source": [
    "# Calculate weights based on total pixels in subregion mask\n",
    "for k in weights.keys():\n",
    "    # Get percent non-zero\n",
    "    weights[k]=weights[k]/maskPixels\n",
    "    # Adjust weight based on that percent non-zero\n",
    "    # Special rule for intact habitat cores\n",
    "    if k[-22:] == 'IntactHabitatCores.tif':\n",
    "        if weights[k] >= 0.3:\n",
    "            # No weight when >= 0.3\n",
    "            weights[k] = 1\n",
    "        elif weights[k] < 0.1:\n",
    "            # increase weights below 0.1\n",
    "            weights[k] *= 3\n",
    "    # Special rule for South Atlantic forest birds\n",
    "    elif k[-28:] == 'SouthAtlanticForestBirds.tif':        \n",
    "        if weights[k] > 0.5:\n",
    "            # No weight when > 0.5\n",
    "            weights[k] *= 0.1            \n",
    "        elif weights[k] < 0.1:\n",
    "            # increase weights below 0.1\n",
    "            weights[k] *= 0.3\n",
    "        else:\n",
    "            weights[k] *= 0.1\n",
    "    elif weights[k] > 0.5:        \n",
    "        # No weight when > 0.5        \n",
    "        weights[k] = 1\n",
    "    elif weights[k] < 0.1:\n",
    "        # increase weights below 0.1\n",
    "        weights[k] *= 3\n",
    "    # print weights in a nicely formatted way    \n",
    "    # if indicator has no value in a subregion the weight will be zero. Skip printing those\n",
    "    if weights[k] > 0:\n",
    "        # Stop python from using scientific notation for small numbers        \n",
    "        # Print results in zonation format while rounding to 7 decimal places to catch small values\n",
    "        print(f'{round(weights[k],8):.8f}'+' 2 1 1 0.25 '+SourceWorkspace.replace('\\\\','/')+'/'+k)\n",
    "        #print(f'{weights[k]:.7f}'str(round(result,7))+' 2 1 1 0.25 '+SourceWorkspace.replace('\\\\','/')+'/'+k)\n",
    "    "
   ]
  },
  {
   "cell_type": "code",
   "execution_count": null,
   "metadata": {},
   "outputs": [],
   "source": []
  },
  {
   "cell_type": "code",
   "execution_count": null,
   "metadata": {},
   "outputs": [],
   "source": []
  }
 ],
 "metadata": {
  "kernelspec": {
   "display_name": "ArcGISPro",
   "language": "Python",
   "name": "python3"
  },
  "language_info": {
   "file_extension": ".py",
   "name": "python",
   "version": "3"
  }
 },
 "nbformat": 4,
 "nbformat_minor": 2
}
