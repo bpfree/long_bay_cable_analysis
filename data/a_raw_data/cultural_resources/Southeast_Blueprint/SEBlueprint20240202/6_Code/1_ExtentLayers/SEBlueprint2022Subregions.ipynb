{
 "cells": [
  {
   "cell_type": "markdown",
   "metadata": {},
   "source": [
    "# Base blueprint subregions\n",
    "\n",
    "After working on the LMVJV indicators, I noticed that some of the subregions don't quite line up with the LMVJV subregions. I would prefer to have the flexibility to modify the subregions based on code in case for testing so I started making code for subregions in my spare time. This will be mostly coded, with limited hand editing steps at the end, which will make it easier to modify if partners request modifications. \n",
    "\n",
    "Created by Amy Keister, last run by Amy Keister on 6 December 2021."
   ]
  },
  {
   "cell_type": "code",
   "execution_count": 44,
   "metadata": {},
   "outputs": [],
   "source": [
    "import os\n",
    "import arcpy"
   ]
  },
  {
   "cell_type": "code",
   "execution_count": 45,
   "metadata": {},
   "outputs": [],
   "source": [
    "# define spatial reference and workspaces\n",
    "sr= arcpy.SpatialReference(5070)\n",
    "#SourceWorkspace= \n",
    "OutWorkspace = r\"E:\\WORKING\\BaseBlueprint\\2022\\1_SubregionsAndExtent\\SESubregions2022.gdb\""
   ]
  },
  {
   "cell_type": "code",
   "execution_count": 116,
   "metadata": {},
   "outputs": [],
   "source": [
    "# define final outputs\n",
    "ExtentOut = r\"E:\\WORKING\\BaseBlueprint\\2022\\1_SubregionsAndExtent\\BaseBlueprintExtent2022g.tif\"\n",
    "ShapeOut = r\"E:\\WORKING\\BaseBlueprint\\2022\\1_SubregionsAndExtent\""
   ]
  },
  {
   "cell_type": "code",
   "execution_count": 47,
   "metadata": {},
   "outputs": [],
   "source": [
    "# define inputs\n",
    "Eco= r\"F:\\GIS_DATA\\Boundaries\\Ecoregions\\Omernik\\us_eco_l4_state_boundaries\\us_eco_l4.shp\"\n",
    "H4= r\"F:\\GIS_DATA\\WaterResources\\NHD\\WBD_National_GDB\\WBD_National_GDB.gdb\\WBDHU4\"\n",
    "MaR= r\"F:\\GIS_DATA\\Boundaries\\Ecoregions\\Marine\\MarineEcoregions_L3_Shapefile\\NA_Marine_Ecoregions_L3\\data\\Marine_Ecoregions_updated\\Marine_Ecoregions_updated.shp\"\n",
    "State= r\"F:\\GIS_DATA\\Boundaries\\States\\tl_2021_us_state\\tl_2021_us_state.shp\"\n",
    "SA = r\"F:\\GIS_DATA\\SALCC_BLUEPRINT\\Version_2021\\Blueprint_2021_Data_Download_20220204\\1_ExtentLayers\\SouthAtlantic2021Extent.shp\"\n",
    "Square= r\"E:\\WORKING\\BaseBlueprint\\2022\\1_SubregionsAndExtent\\SquareForTesting.gdb\\square\"\n",
    "snap= r\"F:\\GIS_DATA\\LanduseLandcover\\NLCD\\NLCD_Land_Cover_L48_20190424\\NLCD_2016_Land_Cover_L48_20190424_SECASbuff_N83.img\""
   ]
  },
  {
   "cell_type": "markdown",
   "metadata": {},
   "source": [
    "## Start Analysis"
   ]
  },
  {
   "cell_type": "code",
   "execution_count": 48,
   "metadata": {},
   "outputs": [],
   "source": [
    "# Set the workspace where I want the output to go\n",
    "arcpy.env.workspace = OutWorkspace"
   ]
  },
  {
   "cell_type": "code",
   "execution_count": 49,
   "metadata": {},
   "outputs": [
    {
     "name": "stdout",
     "output_type": "stream",
     "text": [
      "E:\\WORKING\\BaseBlueprint\\2022\\1_SubregionsAndExtent\\SESubregions2022.gdb\n"
     ]
    }
   ],
   "source": [
    "print(arcpy.env.workspace)"
   ]
  },
  {
   "cell_type": "markdown",
   "metadata": {},
   "source": [
    "## Make copys of ecoregions"
   ]
  },
  {
   "cell_type": "code",
   "execution_count": 50,
   "metadata": {},
   "outputs": [],
   "source": [
    "# make a copy of the ecoregions so I can add a field\n",
    "with arcpy.EnvManager(outputCoordinateSystem=sr):\n",
    "    arcpy.management.CopyFeatures(Eco, \"eco\", '', None, None, None)"
   ]
  },
  {
   "cell_type": "markdown",
   "metadata": {},
   "source": [
    "## Do some initial grouping of ecoregions"
   ]
  },
  {
   "cell_type": "code",
   "execution_count": 51,
   "metadata": {},
   "outputs": [],
   "source": [
    "# THE OBJECTID WILL CHANGE WITH FRESH DOWNLOADS OF THIS DATA! NEED TO RECHECK THIS\n",
    "# I'm using the eco OBJECT ID insead of doing hand editing to to address what I'm calling \"islands\" where\n",
    "# the ecoregions have smaller non-contiguous polygons\n",
    "\n",
    "codeblock = \"\"\"\n",
    "def Reclass(OID):\n",
    "    if OID in [266]:\n",
    "        return \"Edwards Plateau in High Plains and Tablelands\"\n",
    "    elif OID in [2285,2284]:\n",
    "        return \"MAV in Texas-Louisiana Coast\"\n",
    "    elif OID in [1317,1291]:\n",
    "        return \"WGCP in MAV\"\n",
    "    elif OID in [2816]:\n",
    "        return \"River Hills in MAV\"\n",
    "    elif OID in [1925,1924]:\n",
    "        return \"S App in Interior Plateau\"\n",
    "    elif OID in [1827]:\n",
    "        return \"N Piedmont in S App\"\n",
    "    elif OID in [1812,1811]:\n",
    "        return \"Blue Ridge in S Piedmont\"\n",
    "    elif OID in [1814,1815,6895,6896,6897,6908]:\n",
    "        return \"Blue Ridge in N Piedmont\"\n",
    "    elif OID in [2827]:\n",
    "        return \"MAV in Interior Plateau\"\n",
    "    elif OID in [1813]:\n",
    "        return \"Blue Ridge in combo N/S Piedmont\"\n",
    "    elif OID in [1401]:\n",
    "        return \"N Piedmont in C Atlantic Coastal Plain\"\n",
    "\"\"\""
   ]
  },
  {
   "cell_type": "code",
   "execution_count": 52,
   "metadata": {},
   "outputs": [
    {
     "data": {
      "text/html": [
       "<h2>Output</h2>a Layer object<h2>Messages</h2>Start Time: Thursday, July 21, 2022 11:28:22 AM<br/>Adding Islands to eco...<br/>Succeeded at Thursday, July 21, 2022 11:28:23 AM (Elapsed Time: 0.58 seconds)<br/><style>.rendered_html td, .rendered_html th {text-align: left;}.rendered_html tbody {border: 1px solid black;}</style>"
      ],
      "text/plain": [
       "<Result 'eco'>"
      ]
     },
     "execution_count": 52,
     "metadata": {},
     "output_type": "execute_result"
    }
   ],
   "source": [
    "# add field to show \"islands\" of ecoregions that are not contiguous with the main ecoregion\n",
    "arcpy.management.CalculateField(\"eco\", \"Islands\", \"Reclass(!OBJECTID!)\", \"PYTHON3\", codeblock, \"TEXT\")                            "
   ]
  },
  {
   "cell_type": "code",
   "execution_count": 53,
   "metadata": {},
   "outputs": [],
   "source": [
    "# set codeblock for next step\n",
    "codeblock = \"\"\"\n",
    "def Reclass(sn):\n",
    "    if str(sn) in ('Texas','Oklahoma','Missouri','Arkansas','Louisiana','Mississippi','Alabama','Georgia','Tennessee','Kentucky','Florida','South Carolina','North Carolina','Virginia','West Virginia'):\n",
    "        return \"SECAS\"\n",
    "\"\"\""
   ]
  },
  {
   "cell_type": "code",
   "execution_count": 54,
   "metadata": {},
   "outputs": [
    {
     "data": {
      "text/html": [
       "<h2>Output</h2>a Layer object<h2>Messages</h2>Start Time: Thursday, July 21, 2022 11:28:23 AM<br/>Adding SECAS to eco...<br/>Succeeded at Thursday, July 21, 2022 11:28:24 AM (Elapsed Time: 0.69 seconds)<br/><style>.rendered_html td, .rendered_html th {text-align: left;}.rendered_html tbody {border: 1px solid black;}</style>"
      ],
      "text/plain": [
       "<Result 'eco'>"
      ]
     },
     "execution_count": 54,
     "metadata": {},
     "output_type": "execute_result"
    }
   ],
   "source": [
    "# select SECAS states\n",
    "arcpy.management.CalculateField(\"eco\", \"SECAS\", \"Reclass(!STATE_NAME!)\", \"PYTHON3\", codeblock, \"TEXT\")                            "
   ]
  },
  {
   "cell_type": "code",
   "execution_count": 55,
   "metadata": {},
   "outputs": [],
   "source": [
    "# set codeblock for next step\n",
    "codeblock = \"\"\"\n",
    "def Reclass(L3,L4):\n",
    "    if str(L3) in ('Chihuahuan Deserts','Arizona/New Mexico Mountains'):\n",
    "        return \"Chihuahuan Deserts\"\n",
    "    elif str(L3) in ('High Plains','Southwestern Tablelands'):\n",
    "        return \"High Plains and Tablelands\"\n",
    "    elif str(L3) in ('Central Great Plains','Cross Timbers','Flint Hills'):\n",
    "        return \"Plains and Timbers\"\n",
    "    elif str(L3) == 'Southern Texas Plains':\n",
    "        return \"South Texas Plains\"\n",
    "    elif str(L3) in ('Edwards Plateau'):\n",
    "        return \"Edwards Plateau\"\n",
    "    elif str(L3) in ('Texas Blackland Prairies','East Central Texas Plains'):\n",
    "        return \"Texas Blackland Prairies\"\n",
    "    elif str(L3) == 'Western Gulf Coastal Plain':\n",
    "        return \"Gulf Coastal Prairies\"\n",
    "    elif str(L3) in ('South Central Plains'):\n",
    "        return \"West Gulf Coastal Plain\"\n",
    "    elif str(L3) == 'Mississippi Alluvial Plain':\n",
    "        return \"Mississippi Alluvial Valley\"\n",
    "    elif str(L3) in ('Boston Mountains','Arkansas Valley','Ouachita Mountains'):\n",
    "        return \"Ouachita\"\n",
    "    elif str(L3) == 'Ozark Highlands':\n",
    "        return \"Ozarks and Plains\"\n",
    "    elif str(L4) in ('Osage Cuestas','Cherokee Plains'):\n",
    "        return \"Ozarks and Plains\"\n",
    "    elif str(L4) in ('Loess Flats and Till Plains','Claypan Prairie','Wooded Osage Plains','Upper Mississippi Alluvial Plain'):\n",
    "        return \"North Missouri\"\n",
    "    elif str(L3) == 'Western Corn Belt Plains':\n",
    "        return \"North Missouri\"\n",
    "    elif str(L3) in ('Interior Plateau'):\n",
    "        return \"Interior Plateau\"\n",
    "    elif str(L4) in ('Green River-Southern Wabash Lowlands','Caseyville Hills'):\n",
    "        return \"Interior Plateau\"     \n",
    "    elif str(L3) in ('Southeastern Plains','Southern Coastal Plain','Middle Atlantic Coastal Plain','Southern Florida Coastal Plain'):\n",
    "        return \"SE Plains\"\n",
    "    elif str(L4) in ('Loess Plains','Southern Rolling Plains','Baton Rouge Terrace'):\n",
    "        return \"SE Plains\"\n",
    "    elif str(L3) in ('Piedmont','Northern Piedmont'):\n",
    "        return \"Piedmont\"\n",
    "    elif str(L3) in ('Ridge and Valley','Southwestern Appalachians','Central Appalachians','Western Allegheny Plateau','Blue Ridge'):\n",
    "        return \"Appalachians\"     \n",
    "    elif str(L4) in ('River Hills'):\n",
    "        return \"River Hills\"    \n",
    "    elif str(L4) in ('Bluff Hills'):\n",
    "        return \"Bluff Hills\"    \n",
    "    elif str(L4) in ('Middle Mississippi Alluvial Plain'):\n",
    "        return \"Ozarks and Plains\"\n",
    "    elif str(L4) in ('Wabash-Ohio Bottomlands'):\n",
    "        return \"Wabash-Ohio Bottomlands\"\n",
    "\"\"\""
   ]
  },
  {
   "cell_type": "code",
   "execution_count": 56,
   "metadata": {},
   "outputs": [
    {
     "data": {
      "text/html": [
       "<h2>Output</h2>a Layer object<h2>Messages</h2>Start Time: Thursday, July 21, 2022 11:28:24 AM<br/>Adding EcoCombine to eco...<br/>Succeeded at Thursday, July 21, 2022 11:28:25 AM (Elapsed Time: 0.72 seconds)<br/><style>.rendered_html td, .rendered_html th {text-align: left;}.rendered_html tbody {border: 1px solid black;}</style>"
      ],
      "text/plain": [
       "<Result 'eco'>"
      ]
     },
     "execution_count": 56,
     "metadata": {},
     "output_type": "execute_result"
    }
   ],
   "source": [
    "# do some initial grouping of ecoregions, based on code above\n",
    "arcpy.management.CalculateField(\"eco\", \"EcoCombine\", \"Reclass(!US_L3NAME!,!US_L4NAME!)\", \"PYTHON3\", codeblock, \"TEXT\")                            "
   ]
  },
  {
   "cell_type": "markdown",
   "metadata": {},
   "source": [
    "## Make copys of HUC4"
   ]
  },
  {
   "cell_type": "code",
   "execution_count": 57,
   "metadata": {},
   "outputs": [],
   "source": [
    "# make a copy of the HUC4 so I can add a field\n",
    "with arcpy.EnvManager(outputCoordinateSystem=sr):\n",
    "    arcpy.management.CopyFeatures(H4, \"H4\", '', None, None, None)"
   ]
  },
  {
   "cell_type": "markdown",
   "metadata": {},
   "source": [
    "## Do some initial grouping of HUC4"
   ]
  },
  {
   "cell_type": "code",
   "execution_count": 58,
   "metadata": {},
   "outputs": [],
   "source": [
    "# set codeblock for next step\n",
    "codeblock = \"\"\"\n",
    "def Reclass(h4):\n",
    "    if str(h4) in ('0204','0208','0301','0302','0303','0304','0305','0306','0307','0308','0309','0310','0311','0312','0313','0314','0316','0317','0318','0808','0809','1201','1204','1203','1209','1210','1211','1309','2101','2102','0809'):\n",
    "        return \"SECAS\"\n",
    "\"\"\""
   ]
  },
  {
   "cell_type": "code",
   "execution_count": 59,
   "metadata": {},
   "outputs": [
    {
     "data": {
      "text/html": [
       "<h2>Output</h2>a Layer object<h2>Messages</h2>Start Time: Thursday, July 21, 2022 11:28:35 AM<br/>Adding SECASh to H4...<br/>Succeeded at Thursday, July 21, 2022 11:28:36 AM (Elapsed Time: 0.19 seconds)<br/><style>.rendered_html td, .rendered_html th {text-align: left;}.rendered_html tbody {border: 1px solid black;}</style>"
      ],
      "text/plain": [
       "<Result 'H4'>"
      ]
     },
     "execution_count": 59,
     "metadata": {},
     "output_type": "execute_result"
    }
   ],
   "source": [
    "# select near shore HUC4s that are a part of the SECAS area\n",
    "arcpy.management.CalculateField(\"H4\", \"SECASh\", \"Reclass(!HUC4!)\", \"PYTHON3\", codeblock, \"TEXT\")   "
   ]
  },
  {
   "cell_type": "markdown",
   "metadata": {},
   "source": [
    "## Union"
   ]
  },
  {
   "cell_type": "code",
   "execution_count": 60,
   "metadata": {},
   "outputs": [
    {
     "data": {
      "text/html": [
       "<h2>Output</h2>E:\\WORKING\\BaseBlueprint\\2022\\1_SubregionsAndExtent\\SESubregions2022.gdb\\ecoH4<h2>Messages</h2>Start Time: Thursday, July 21, 2022 11:28:36 AM<br/>Assembling Features...<br/>Reading Features...<br/>Cracking Features...<br/>Succeeded at Thursday, July 21, 2022 11:30:33 AM (Elapsed Time: 1 minutes 56 seconds)<br/><style>.rendered_html td, .rendered_html th {text-align: left;}.rendered_html tbody {border: 1px solid black;}</style>"
      ],
      "text/plain": [
       "<Result 'E:\\\\WORKING\\\\BaseBlueprint\\\\2022\\\\1_SubregionsAndExtent\\\\SESubregions2022.gdb\\\\ecoH4'>"
      ]
     },
     "execution_count": 60,
     "metadata": {},
     "output_type": "execute_result"
    }
   ],
   "source": [
    "# union eco and H4 layers that I did prelimiary grouping on above\n",
    "arcpy.analysis.Union([\"eco\", \"H4\"], \"ecoH4\", \"ALL\", None, \"NO_GAPS\")"
   ]
  },
  {
   "cell_type": "code",
   "execution_count": 61,
   "metadata": {},
   "outputs": [
    {
     "data": {
      "text/html": [
       "<h2>Output</h2>E:\\WORKING\\BaseBlueprint\\2022\\1_SubregionsAndExtent\\SESubregions2022.gdb\\ecoH4a<h2>Messages</h2>Start Time: Thursday, July 21, 2022 11:30:34 AM<br/>Succeeded at Thursday, July 21, 2022 11:30:35 AM (Elapsed Time: 0.99 seconds)<br/><style>.rendered_html td, .rendered_html th {text-align: left;}.rendered_html tbody {border: 1px solid black;}</style>"
      ],
      "text/plain": [
       "<Result 'E:\\\\WORKING\\\\BaseBlueprint\\\\2022\\\\1_SubregionsAndExtent\\\\SESubregions2022.gdb\\\\ecoH4a'>"
      ]
     },
     "execution_count": 61,
     "metadata": {},
     "output_type": "execute_result"
    }
   ],
   "source": [
    "# narrow down to closer to SECAS area based on the secas states and secas near shore HUC4s\n",
    "arcpy.analysis.Select(\"ecoH4\", \"ecoH4a\", \"STATE_NAME NOT IN ('Maryland', 'New Jersey', 'Delaware', 'New York', 'Pennsylvania') And (SECASh = 'SECAS' Or SECAS = 'SECAS')\")"
   ]
  },
  {
   "cell_type": "code",
   "execution_count": 62,
   "metadata": {},
   "outputs": [],
   "source": [
    "# set codeblock for next step\n",
    "codeblock = \"\"\"\n",
    "def Reclass(e,h,f):\n",
    "    if str(e) in ('Piedmont') and str(h) in ('Edisto-Santee','Altamaha-St. Marys','Ogeechee-Savannah','Apalachicola','Alabama') and f != -1:\n",
    "        return \"South Piedmont\"\n",
    "    elif str(e) in ('Piedmont') and str(h) in ('Chowan-Roanoke','Neuse-Pamlico','Potomac','Delaware-Mid Atlantic Coastal','Cape Fear','Pee Dee','Lower Chesapeake') and f != -1:\n",
    "        return \"North Piedmont\"\n",
    "    elif str(e) in ('Bluff Hills') and str(h) in ('Lower Mississippi-St. Francis')and f != -1:\n",
    "        return \"Mississippi Alluvial Valley\"\n",
    "    elif str(e) in ('River Hills') and str(h) in ('Upper Mississippi-Salt') and f != -1:\n",
    "        return \"North Missouri\"\n",
    "    elif str(e) in ('River Hills') and f != -1:\n",
    "        return \"Ozarks and Plains\"\n",
    "    elif str(e) in ('River Hills') and str(h) in ('Upper Mississippi-Salt') and f != -1:\n",
    "        return \"North Missouri\"\n",
    "    elif str(e) in ('Wabash-Ohio Bottomlands') and str(h) in ('Green') and f != -1:\n",
    "        return \"Interior Plateau\"\n",
    "    elif str(e) in ('Wabash-Ohio Bottomlands') and str(h) in ('Lower Mississippi-Hatchie') and f != -1:\n",
    "        return \"Mississippi Alluvial Valley\"\n",
    "    elif str(e) in ('SE Plains') and str(h) in ('Lower Chesapeake','Chowan-Roanoke','Neuse-Pamlico','Potomac','Delaware-Mid Atlantic Coastal'):\n",
    "        return \"North Atlantic Coastal Plain\"       \n",
    "    elif str(e) in ('SE Plains') and str(h) in ('Cape Fear','Pee Dee'):\n",
    "        return \"Central Atlantic Coastal Plain\"\n",
    "    elif str(e) in ('SE Plains') and str(h) in ('Edisto-Santee','Altamaha-St. Marys','Ogeechee-Savannah'):\n",
    "        return \"South Atlantic Coastal Plain\"\n",
    "    elif str(e) in ('SE Plains') and str(h) in ('Apalachicola','Ochlockonee','Suwannee'):\n",
    "        return \"East Gulf Coastal Plain Sub\" \n",
    "    elif str(e) in ('SE Plains') and str(h) in ('St. Johns','Peace-Tampa Bay','Southern Florida'):\n",
    "        return \"Florida Peninsula\" \n",
    "    elif str(e) in ('Wabash-Ohio Bottomlands') and f != -1:\n",
    "        return \"Interior Plateau\"\n",
    "    elif str(h) in ('Puerto Rico and Virgin Islands') and f == -1:\n",
    "        return \"Puerto Rico and Virgin Islands\"\n",
    "    elif str(e) in ('Appalachians') and str(h) in ('Middle Ohio','Upper Ohio','Kentucky-Licking','Monongahela','Kanawha','Big Sandy-Guyandotte','Chowan-Roanoke','Potomac','Lower Chesapeake','Scioto','Pee Dee') and f != -1:\n",
    "        return \"North Appalachians\"\n",
    "    elif str(e) in ('Appalachians') and str(h) in ('Alabama','Middle Tennessee-Elk','Apalachicola','Mobile-Tombigbee','Cumberland','Middle Tennessee-Hiwassee','Upper Tennessee','Ogeechee-Savannah','Edisto-Santee') and f != -1:\n",
    "        return \"South Appalachians\"\n",
    "    elif str(e) in ('SE Plains') and str(h) in ('Alabama','Choctawhatchee-Escambia'):\n",
    "        return \"Mid East Gulf Coastal Plain\" \n",
    "    elif str(e) in ('SE Plains','Bluff Hills'):\n",
    "        return \"Central Gulf Coastal Plain\"\n",
    "    elif str(h) in ('Mobile-Tombigbee','Pascagoula') and f == -1 :\n",
    "        return \"Central Gulf Coastal Plain\"\n",
    "    elif str(h) in ('Lower Mississippi','Pearl') and f == -1:\n",
    "        return \"Mississippi Alluvial Valley\"\n",
    "    elif str(h) in ('Nueces-Southwestern Texas Coastal','Lower Colorado-San Bernard Coastal','Galveston Bay-San Jacinto','Central Texas Coastal','Louisiana Coastal','Trinity') and f == -1:\n",
    "        return \"Gulf Coastal Prairies\"\n",
    "    elif str(e) in ('High Plains and Tablelands') and str(h) in ('Lower Pecos','Lower Colorado-San Bernard Coastal','Lower Brazos','Middle Brazos','Upper Colorado','Trinity','Brazos Headwaters') and f != -1:\n",
    "        return \"South High Plains and Tablelands\"\n",
    "    elif str(e) in ('High Plains and Tablelands') and f != -1:\n",
    "        return \"North High Plains and Tablelands\"\n",
    "    #elif str(e) in ('Plains and Timbers') and str(h) in ('Lower Pecos','Lower Colorado-San Bernard Coastal','Lower Brazos','Middle Brazos','Upper Colorado','Trinity','Brazos Headwaters') and f != -1:\n",
    "    #    return \"South Plains and Timbers\"\n",
    "    #elif str(e) in ('Plains and Timbers') and f != -1:\n",
    "    #    return \"North Plains and Timbers\"\n",
    "    elif str(h) in ('Lower Rio Grande') and f == -1:\n",
    "        return \"Delete\"\n",
    "    else:\n",
    "        return str(e) \n",
    "\"\"\""
   ]
  },
  {
   "cell_type": "code",
   "execution_count": 63,
   "metadata": {},
   "outputs": [
    {
     "data": {
      "text/html": [
       "<h2>Output</h2>a Layer object<h2>Messages</h2>Start Time: Thursday, July 21, 2022 11:30:35 AM<br/>Adding ecoH4Combine to ecoH4a...<br/>Succeeded at Thursday, July 21, 2022 11:30:36 AM (Elapsed Time: 0.48 seconds)<br/><style>.rendered_html td, .rendered_html th {text-align: left;}.rendered_html tbody {border: 1px solid black;}</style>"
      ],
      "text/plain": [
       "<Result 'ecoH4a'>"
      ]
     },
     "execution_count": 63,
     "metadata": {},
     "output_type": "execute_result"
    }
   ],
   "source": [
    "# This applies the code above to create the bulk of the eco regions. Because I'm using reclass and if/then, the order\n",
    "# matters a lot. If we re-order the if/then statements, we can get different results. This is basically saying things like\n",
    "# if the ecoregion is xx AND the HUC4 is xx, then make it this subregion. I also had to use the FID_eco to deal with\n",
    "# coastal areas where the ecoregion layer did not cover. Sometimes it was picking those when I didn't want it to.\n",
    "arcpy.management.CalculateField(\"ecoH4a\", \"ecoH4Combine\", \"Reclass(!EcoCombine!,!NAME!,!FID_eco!)\", \"PYTHON3\", codeblock, \"TEXT\")     "
   ]
  },
  {
   "cell_type": "code",
   "execution_count": 64,
   "metadata": {},
   "outputs": [],
   "source": [
    "# set codeblock for next step\n",
    "codeblock = \"\"\"\n",
    "def Reclass(e,i,f):\n",
    "    if str(i) in ('Blue Ridge in N Piedmont') and (f != -1):\n",
    "        return \"North Piedmont\"\n",
    "    elif str(i) in ('Blue Ridge in S Piedmont') and (f != -1):\n",
    "        return \"South Piedmont\"\n",
    "    elif str(i) in ('Edwards Plateau in High Plains and Tablelands') and (f != -1):\n",
    "        return \"South High Plains and Tablelands\"\n",
    "    elif str(i) in ('River Hills in MAV') and (f != -1):\n",
    "        return \"Mississippi Alluvial Valley\" \n",
    "    elif str(i) in ('MAV in Texas-Louisiana Coast') and (f != -1):\n",
    "        return \"Gulf Coastal Prairies\"\n",
    "    elif str(i) in ('S App in Interior Plateau') and (f != -1):\n",
    "        return \"Interior Plateau\"\n",
    "    elif str(i) in ('WGCP in MAV') and (f != -1):\n",
    "        return \"Mississippi Alluvial Valley\"\n",
    "    elif str(i) in ('N Piedmont in S App') and (f != -1):\n",
    "        return \"South Appalachians\"\n",
    "    elif str(i) in ('MAV in Interior Plateau') and (f != -1):\n",
    "        return \"Interior Plateau\"\n",
    "    elif str(i) in ('N Piedmont in C Atlantic Coastal Plain') and (f != -1):\n",
    "        return \"Central Atlantic Coastal Plain\"\n",
    "    else:\n",
    "        return str(e)\n",
    "\"\"\""
   ]
  },
  {
   "cell_type": "code",
   "execution_count": 65,
   "metadata": {},
   "outputs": [
    {
     "data": {
      "text/html": [
       "<h2>Output</h2>a Layer object<h2>Messages</h2>Start Time: Thursday, July 21, 2022 11:30:36 AM<br/>Succeeded at Thursday, July 21, 2022 11:30:36 AM (Elapsed Time: 0.28 seconds)<br/><style>.rendered_html td, .rendered_html th {text-align: left;}.rendered_html tbody {border: 1px solid black;}</style>"
      ],
      "text/plain": [
       "<Result 'ecoH4a'>"
      ]
     },
     "execution_count": 65,
     "metadata": {},
     "output_type": "execute_result"
    }
   ],
   "source": [
    "# this is takign care of the \"islands\" identifed above\n",
    "arcpy.management.CalculateField(\"ecoH4a\", \"ecoH4Combine\", \"Reclass(!ecoH4Combine!,!Islands!,!FID_eco!)\", \"PYTHON3\", codeblock, \"TEXT\")  "
   ]
  },
  {
   "cell_type": "code",
   "execution_count": 66,
   "metadata": {},
   "outputs": [],
   "source": [
    "# set codeblock for next step\n",
    "codeblock = \"\"\"\n",
    "def Reclass(e,i,h,f):\n",
    "    if (str(i) in ('Blue Ridge in combo N/S Piedmont')) and (str(h) in ('Edisto-Santee','Altamaha-St. Marys','Ogeechee-Savannah') and (f != -1)):\n",
    "        return \"South Piedmont\"\n",
    "    elif (str(i) in ('Blue Ridge in combo N/S Piedmont')) and (str(h) in ('Cape Fear','Pee Dee') and (f == 1813)):\n",
    "        return \"North Piedmont\"\n",
    "    else:\n",
    "        return str(e)\n",
    "\"\"\""
   ]
  },
  {
   "cell_type": "code",
   "execution_count": 67,
   "metadata": {},
   "outputs": [
    {
     "data": {
      "text/html": [
       "<h2>Output</h2>a Layer object<h2>Messages</h2>Start Time: Thursday, July 21, 2022 11:30:37 AM<br/>Succeeded at Thursday, July 21, 2022 11:30:37 AM (Elapsed Time: 0.62 seconds)<br/><style>.rendered_html td, .rendered_html th {text-align: left;}.rendered_html tbody {border: 1px solid black;}</style>"
      ],
      "text/plain": [
       "<Result 'ecoH4a'>"
      ]
     },
     "execution_count": 67,
     "metadata": {},
     "output_type": "execute_result"
    }
   ],
   "source": [
    "# this is taking care of the special \"island\" that crosses 2 final subregions identifed above\n",
    "arcpy.management.CalculateField(\"ecoH4a\", \"ecoH4Combine\", \"Reclass(!ecoH4Combine!,!Islands!,!Name!,!FID_eco!)\", \"PYTHON3\", codeblock, \"TEXT\")"
   ]
  },
  {
   "cell_type": "markdown",
   "metadata": {},
   "source": [
    "## Clip out states outside of SECAS\n",
    "I still have some NE states that are outside of SECAS, I need to clip them out. This is leaving coastal slivers\n",
    "that I will need to address later"
   ]
  },
  {
   "cell_type": "code",
   "execution_count": 68,
   "metadata": {},
   "outputs": [
    {
     "data": {
      "text/html": [
       "<h2>Output</h2>E:\\WORKING\\BaseBlueprint\\2022\\1_SubregionsAndExtent\\SESubregions2022.gdb\\state<h2>Messages</h2>Start Time: Thursday, July 21, 2022 11:30:38 AM<br/>Succeeded at Thursday, July 21, 2022 11:30:38 AM (Elapsed Time: 0.32 seconds)<br/><style>.rendered_html td, .rendered_html th {text-align: left;}.rendered_html tbody {border: 1px solid black;}</style>"
      ],
      "text/plain": [
       "<Result 'E:\\\\WORKING\\\\BaseBlueprint\\\\2022\\\\1_SubregionsAndExtent\\\\SESubregions2022.gdb\\\\state'>"
      ]
     },
     "execution_count": 68,
     "metadata": {},
     "output_type": "execute_result"
    }
   ],
   "source": [
    "# select states that need to be clipped out\n",
    "arcpy.analysis.Select(State, \"state\", \"STATEFP in ('10','34','36','42','24')\")"
   ]
  },
  {
   "cell_type": "code",
   "execution_count": 69,
   "metadata": {},
   "outputs": [
    {
     "data": {
      "text/html": [
       "<h2>Output</h2>E:\\WORKING\\BaseBlueprint\\2022\\1_SubregionsAndExtent\\SESubregions2022.gdb\\ecoH4b<h2>Messages</h2>Start Time: Thursday, July 21, 2022 11:30:39 AM<br/>Assembling Features...<br/>Reading Features...<br/>Cracking Features...<br/>Succeeded at Thursday, July 21, 2022 11:30:54 AM (Elapsed Time: 14.81 seconds)<br/><style>.rendered_html td, .rendered_html th {text-align: left;}.rendered_html tbody {border: 1px solid black;}</style>"
      ],
      "text/plain": [
       "<Result 'E:\\\\WORKING\\\\BaseBlueprint\\\\2022\\\\1_SubregionsAndExtent\\\\SESubregions2022.gdb\\\\ecoH4b'>"
      ]
     },
     "execution_count": 69,
     "metadata": {},
     "output_type": "execute_result"
    }
   ],
   "source": [
    "# erase non SECAS NE states\n",
    "arcpy.analysis.Erase(\"ecoH4a\", \"state\", \"ecoH4b\", None)"
   ]
  },
  {
   "cell_type": "code",
   "execution_count": 70,
   "metadata": {},
   "outputs": [
    {
     "data": {
      "text/html": [
       "<h2>Output</h2>E:\\WORKING\\BaseBlueprint\\2022\\1_SubregionsAndExtent\\SESubregions2022.gdb\\EcoH4c<h2>Messages</h2>Start Time: Thursday, July 21, 2022 11:30:54 AM<br/>Succeeded at Thursday, July 21, 2022 11:30:55 AM (Elapsed Time: 0.81 seconds)<br/><style>.rendered_html td, .rendered_html th {text-align: left;}.rendered_html tbody {border: 1px solid black;}</style>"
      ],
      "text/plain": [
       "<Result 'E:\\\\WORKING\\\\BaseBlueprint\\\\2022\\\\1_SubregionsAndExtent\\\\SESubregions2022.gdb\\\\EcoH4c'>"
      ]
     },
     "execution_count": 70,
     "metadata": {},
     "output_type": "execute_result"
    }
   ],
   "source": [
    "# select all features that don't have \"delete\" attribute (this removes some Mexico areas)\n",
    "arcpy.analysis.Select(\"EcoH4b\", \"EcoH4c\", \"ecoH4Combine <> 'Delete'\")"
   ]
  },
  {
   "cell_type": "code",
   "execution_count": 71,
   "metadata": {},
   "outputs": [
    {
     "data": {
      "text/html": [
       "<h2>Output</h2>E:\\WORKING\\BaseBlueprint\\2022\\1_SubregionsAndExtent\\SESubregions2022.gdb\\EcoH4e<h2>Messages</h2>Start Time: Thursday, July 21, 2022 11:30:56 AM<br/>Sorting Attributes...<br/>Dissolving...<br/>Succeeded at Thursday, July 21, 2022 11:31:01 AM (Elapsed Time: 5.69 seconds)<br/><style>.rendered_html td, .rendered_html th {text-align: left;}.rendered_html tbody {border: 1px solid black;}</style>"
      ],
      "text/plain": [
       "<Result 'E:\\\\WORKING\\\\BaseBlueprint\\\\2022\\\\1_SubregionsAndExtent\\\\SESubregions2022.gdb\\\\EcoH4e'>"
      ]
     },
     "execution_count": 71,
     "metadata": {},
     "output_type": "execute_result"
    }
   ],
   "source": [
    "# dissolve to remove extra lines so I can test simplifying\n",
    "arcpy.management.Dissolve(\"EcoH4c\", \"EcoH4e\", \"ecoH4Combine\", None, \"MULTI_PART\", \"DISSOLVE_LINES\")"
   ]
  },
  {
   "cell_type": "markdown",
   "metadata": {},
   "source": [
    "## do some testing for slivers and holes"
   ]
  },
  {
   "cell_type": "code",
   "execution_count": 72,
   "metadata": {},
   "outputs": [
    {
     "data": {
      "text/html": [
       "<h2>Output</h2>E:\\WORKING\\BaseBlueprint\\2022\\1_SubregionsAndExtent\\SESubregions2022.gdb\\EcoH4f<h2>Messages</h2>Start Time: Thursday, July 21, 2022 11:31:02 AM<br/>Succeeded at Thursday, July 21, 2022 11:31:02 AM (Elapsed Time: 0.39 seconds)<br/><style>.rendered_html td, .rendered_html th {text-align: left;}.rendered_html tbody {border: 1px solid black;}</style>"
      ],
      "text/plain": [
       "<Result 'E:\\\\WORKING\\\\BaseBlueprint\\\\2022\\\\1_SubregionsAndExtent\\\\SESubregions2022.gdb\\\\EcoH4f'>"
      ]
     },
     "execution_count": 72,
     "metadata": {},
     "output_type": "execute_result"
    }
   ],
   "source": [
    "# Multipart to Singlepart\n",
    "arcpy.management.MultipartToSinglepart(\"EcoH4e\", \"EcoH4f\")"
   ]
  },
  {
   "cell_type": "code",
   "execution_count": 73,
   "metadata": {},
   "outputs": [
    {
     "data": {
      "text/html": [
       "<h2>Output</h2><table><tr><th>id</th><th>value</th></tr><tr><td>0</td><td>E:\\WORKING\\BaseBlueprint\\2022\\1_SubregionsAndExtent\\SESubregions2022.gdb\\sub</td></tr><tr><td>1</td><td>E:\\WORKING\\BaseBlueprint\\2022\\1_SubregionsAndExtent\\SESubregions2022.gdb\\sub_Pnt</td></tr></table><h2>Messages</h2>Start Time: Thursday, July 21, 2022 11:31:03 AM<br/>Input vertex count:       300641<br/>Output vertex count:      294931<br/>Output/Input ratio:  98.100000 %<br/>Pass count:                    2<br/>Succeeded at Thursday, July 21, 2022 11:31:12 AM (Elapsed Time: 8.67 seconds)<br/><style>.rendered_html td, .rendered_html th {text-align: left;}.rendered_html tbody {border: 1px solid black;}</style>"
      ],
      "text/plain": [
       "<Result 'E:\\\\WORKING\\\\BaseBlueprint\\\\2022\\\\1_SubregionsAndExtent\\\\SESubregions2022.gdb\\\\sub'>"
      ]
     },
     "execution_count": 73,
     "metadata": {},
     "output_type": "execute_result"
    }
   ],
   "source": [
    "# simplify to get rid of interior slivers\n",
    "arcpy.cartography.SimplifyPolygon(\"EcoH4f\", \"sub\", \"BEND_SIMPLIFY\", \"1 Meters\", \"130000000 SquareMeters\", \"RESOLVE_ERRORS\", \"KEEP_COLLAPSED_POINTS\", None)"
   ]
  },
  {
   "cell_type": "code",
   "execution_count": 74,
   "metadata": {},
   "outputs": [
    {
     "data": {
      "text/html": [
       "<h2>Output</h2>E:\\WORKING\\BaseBlueprint\\2022\\1_SubregionsAndExtent\\SESubregions2022.gdb\\GapCheck<h2>Messages</h2>Start Time: Thursday, July 21, 2022 11:31:13 AM<br/>Assembling Features...<br/>Reading Features...<br/>Cracking Features...<br/>Succeeded at Thursday, July 21, 2022 11:31:15 AM (Elapsed Time: 2.35 seconds)<br/><style>.rendered_html td, .rendered_html th {text-align: left;}.rendered_html tbody {border: 1px solid black;}</style>"
      ],
      "text/plain": [
       "<Result 'E:\\\\WORKING\\\\BaseBlueprint\\\\2022\\\\1_SubregionsAndExtent\\\\SESubregions2022.gdb\\\\GapCheck'>"
      ]
     },
     "execution_count": 74,
     "metadata": {},
     "output_type": "execute_result"
    }
   ],
   "source": [
    "# union with a big square to try to find holes\n",
    "arcpy.analysis.Union([Square, \"sub\"], \"GapCheck\", \"ALL\", None, \"NO_GAPS\")"
   ]
  },
  {
   "cell_type": "code",
   "execution_count": 75,
   "metadata": {},
   "outputs": [],
   "source": [
    "#Look at output by hand at this time to try to find gaps"
   ]
  },
  {
   "cell_type": "code",
   "execution_count": 76,
   "metadata": {},
   "outputs": [],
   "source": [
    "#didn't find any gaps"
   ]
  },
  {
   "cell_type": "code",
   "execution_count": 77,
   "metadata": {},
   "outputs": [
    {
     "data": {
      "text/html": [
       "<h2>Output</h2>a Layer object<h2>Messages</h2>Start Time: Thursday, July 21, 2022 11:32:01 AM<br/>Adding subregion2 to sub...<br/>Succeeded at Thursday, July 21, 2022 11:32:01 AM (Elapsed Time: 0.17 seconds)<br/><style>.rendered_html td, .rendered_html th {text-align: left;}.rendered_html tbody {border: 1px solid black;}</style>"
      ],
      "text/plain": [
       "<Result 'sub'>"
      ]
     },
     "execution_count": 77,
     "metadata": {},
     "output_type": "execute_result"
    }
   ],
   "source": [
    "# add a field to hold the secondary subregion values\n",
    "arcpy.management.CalculateField(\"sub\", \"subregion2\", \"!ecoH4Combine!\", \"PYTHON3\", '', \"TEXT\")"
   ]
  },
  {
   "cell_type": "code",
   "execution_count": 78,
   "metadata": {},
   "outputs": [
    {
     "data": {
      "text/html": [
       "<h2>Output</h2>E:\\WORKING\\BaseBlueprint\\2022\\1_SubregionsAndExtent\\SESubregions2022.gdb\\sub2<h2>Messages</h2>Start Time: Thursday, July 21, 2022 11:32:02 AM<br/>Sorting Attributes...<br/>Dissolving...<br/>Succeeded at Thursday, July 21, 2022 11:32:02 AM (Elapsed Time: 0.52 seconds)<br/><style>.rendered_html td, .rendered_html th {text-align: left;}.rendered_html tbody {border: 1px solid black;}</style>"
      ],
      "text/plain": [
       "<Result 'E:\\\\WORKING\\\\BaseBlueprint\\\\2022\\\\1_SubregionsAndExtent\\\\SESubregions2022.gdb\\\\sub2'>"
      ]
     },
     "execution_count": 78,
     "metadata": {},
     "output_type": "execute_result"
    }
   ],
   "source": [
    "# dissovle to lump together Puerto Rico and VI\n",
    "arcpy.management.Dissolve(\"sub\", \"sub2\", \"subregion2\", None, \"MULTI_PART\", \"DISSOLVE_LINES\")"
   ]
  },
  {
   "cell_type": "markdown",
   "metadata": {},
   "source": [
    "## Add marine ecoregions for South Atlantic"
   ]
  },
  {
   "cell_type": "code",
   "execution_count": 79,
   "metadata": {},
   "outputs": [],
   "source": [
    "# pull out relevant level 1 marine subrgions\n",
    "with arcpy.EnvManager(outputCoordinateSystem=sr, extent=SA):\n",
    "    arcpy.analysis.Select(MaR, \"MarineSub\", \"NAME_L1 IN ('Carolinian Atlantic', 'Gulf Stream', 'Northern Gulf Stream Transition', 'Virginian Atlantic')\")"
   ]
  },
  {
   "cell_type": "code",
   "execution_count": 80,
   "metadata": {},
   "outputs": [],
   "source": [
    "# set code block for next step\n",
    "codeblock = \"\"\"\n",
    "def Reclass(value):\n",
    "    if value == 'Carolinian Atlantic' or value == 'Virginian Atlantic':\n",
    "        return 'Marine Shelf and Extension'\n",
    "    elif value == 'Gulf Stream' or value == 'Northern Gulf Stream Transition':\n",
    "        return 'Marine Gulf Stream'    \n",
    "\"\"\""
   ]
  },
  {
   "cell_type": "code",
   "execution_count": 81,
   "metadata": {},
   "outputs": [
    {
     "data": {
      "text/html": [
       "<h2>Output</h2>a Layer object<h2>Messages</h2>Start Time: Thursday, July 21, 2022 11:32:07 AM<br/>Adding dissolve to MarineSub...<br/>Succeeded at Thursday, July 21, 2022 11:32:07 AM (Elapsed Time: 0.15 seconds)<br/><style>.rendered_html td, .rendered_html th {text-align: left;}.rendered_html tbody {border: 1px solid black;}</style>"
      ],
      "text/plain": [
       "<Result 'MarineSub'>"
      ]
     },
     "execution_count": 81,
     "metadata": {},
     "output_type": "execute_result"
    }
   ],
   "source": [
    "# add and calculate a field to be used to dissolve\n",
    "arcpy.management.CalculateField(\"MarineSub\", \"dissolve\", \"Reclass(!NAME_L1!)\", \"PYTHON3\", codeblock, \"TEXT\")"
   ]
  },
  {
   "cell_type": "code",
   "execution_count": 82,
   "metadata": {},
   "outputs": [
    {
     "data": {
      "text/html": [
       "<h2>Output</h2>E:\\WORKING\\BaseBlueprint\\2022\\1_SubregionsAndExtent\\SESubregions2022.gdb\\MarineSub_Dissolve<h2>Messages</h2>Start Time: Thursday, July 21, 2022 11:32:08 AM<br/>Sorting Attributes...<br/>Dissolving...<br/>Succeeded at Thursday, July 21, 2022 11:32:08 AM (Elapsed Time: 0.37 seconds)<br/><style>.rendered_html td, .rendered_html th {text-align: left;}.rendered_html tbody {border: 1px solid black;}</style>"
      ],
      "text/plain": [
       "<Result 'E:\\\\WORKING\\\\BaseBlueprint\\\\2022\\\\1_SubregionsAndExtent\\\\SESubregions2022.gdb\\\\MarineSub_Dissolve'>"
      ]
     },
     "execution_count": 82,
     "metadata": {},
     "output_type": "execute_result"
    }
   ],
   "source": [
    "# perform dissolve\n",
    "arcpy.management.Dissolve(\"MarineSub\", \"MarineSub_Dissolve\", \"dissolve\", None, \"MULTI_PART\", \"DISSOLVE_LINES\")"
   ]
  },
  {
   "cell_type": "code",
   "execution_count": 83,
   "metadata": {},
   "outputs": [
    {
     "data": {
      "text/html": [
       "<h2>Output</h2>E:\\WORKING\\BaseBlueprint\\2022\\1_SubregionsAndExtent\\SESubregions2022.gdb\\GulfStream<h2>Messages</h2>Start Time: Thursday, July 21, 2022 11:32:09 AM<br/>Succeeded at Thursday, July 21, 2022 11:32:09 AM (Elapsed Time: 0.29 seconds)<br/><style>.rendered_html td, .rendered_html th {text-align: left;}.rendered_html tbody {border: 1px solid black;}</style>"
      ],
      "text/plain": [
       "<Result 'E:\\\\WORKING\\\\BaseBlueprint\\\\2022\\\\1_SubregionsAndExtent\\\\SESubregions2022.gdb\\\\GulfStream'>"
      ]
     },
     "execution_count": 83,
     "metadata": {},
     "output_type": "execute_result"
    }
   ],
   "source": [
    "# ugh, so many slivers! Change strategy. I'm going to use a buffer to try to get rid of slivers\n",
    "arcpy.analysis.Select(\"MarineSub_Dissolve\", \"GulfStream\", \"dissolve = 'Marine Gulf Stream'\")"
   ]
  },
  {
   "cell_type": "code",
   "execution_count": 84,
   "metadata": {},
   "outputs": [
    {
     "data": {
      "text/html": [
       "<h2>Output</h2>E:\\WORKING\\BaseBlueprint\\2022\\1_SubregionsAndExtent\\SESubregions2022.gdb\\GulfStream_Buffer100<h2>Messages</h2>Start Time: Thursday, July 21, 2022 11:32:10 AM<br/>Succeeded at Thursday, July 21, 2022 11:32:11 AM (Elapsed Time: 0.81 seconds)<br/><style>.rendered_html td, .rendered_html th {text-align: left;}.rendered_html tbody {border: 1px solid black;}</style>"
      ],
      "text/plain": [
       "<Result 'E:\\\\WORKING\\\\BaseBlueprint\\\\2022\\\\1_SubregionsAndExtent\\\\SESubregions2022.gdb\\\\GulfStream_Buffer100'>"
      ]
     },
     "execution_count": 84,
     "metadata": {},
     "output_type": "execute_result"
    }
   ],
   "source": [
    "# add a buffer to try to remove slivers\n",
    "arcpy.analysis.Buffer(\"GulfStream\", \"GulfStream_Buffer100\", \"100 Meters\", \"FULL\", \"ROUND\", \"ALL\", None, \"PLANAR\")"
   ]
  },
  {
   "cell_type": "code",
   "execution_count": 85,
   "metadata": {},
   "outputs": [
    {
     "data": {
      "text/html": [
       "<h2>Output</h2>E:\\WORKING\\BaseBlueprint\\2022\\1_SubregionsAndExtent\\SESubregions2022.gdb\\GulfStream_Buffer100neg100<h2>Messages</h2>Start Time: Thursday, July 21, 2022 11:32:11 AM<br/>Succeeded at Thursday, July 21, 2022 11:32:13 AM (Elapsed Time: 1.47 seconds)<br/><style>.rendered_html td, .rendered_html th {text-align: left;}.rendered_html tbody {border: 1px solid black;}</style>"
      ],
      "text/plain": [
       "<Result 'E:\\\\WORKING\\\\BaseBlueprint\\\\2022\\\\1_SubregionsAndExtent\\\\SESubregions2022.gdb\\\\GulfStream_Buffer100neg100'>"
      ]
     },
     "execution_count": 85,
     "metadata": {},
     "output_type": "execute_result"
    }
   ],
   "source": [
    "# do negative buffer to try to get back to rough original\n",
    "arcpy.analysis.Buffer(\"GulfStream_Buffer100\", \"GulfStream_Buffer100neg100\", \"-100 Meters\", \"FULL\", \"ROUND\", \"ALL\", None, \"PLANAR\")"
   ]
  },
  {
   "cell_type": "code",
   "execution_count": 86,
   "metadata": {},
   "outputs": [
    {
     "data": {
      "text/html": [
       "<h2>Output</h2>a Layer object<h2>Messages</h2>Start Time: Thursday, July 21, 2022 11:32:13 AM<br/>Adding subregion2 to GulfStream_Buffer100neg100...<br/>Succeeded at Thursday, July 21, 2022 11:32:13 AM (Elapsed Time: 0.11 seconds)<br/><style>.rendered_html td, .rendered_html th {text-align: left;}.rendered_html tbody {border: 1px solid black;}</style>"
      ],
      "text/plain": [
       "<Result 'GulfStream_Buffer100neg100'>"
      ]
     },
     "execution_count": 86,
     "metadata": {},
     "output_type": "execute_result"
    }
   ],
   "source": [
    "# add field\n",
    "# add a field to hold the secondary subregion values\n",
    "arcpy.management.CalculateField(\"GulfStream_Buffer100neg100\", \"subregion2\", \"'Marine Gulf Stream'\", \"PYTHON3\", '', \"TEXT\")"
   ]
  },
  {
   "cell_type": "code",
   "execution_count": 87,
   "metadata": {},
   "outputs": [
    {
     "data": {
      "text/html": [
       "<h2>Output</h2>E:\\WORKING\\BaseBlueprint\\2022\\1_SubregionsAndExtent\\SESubregions2022.gdb\\Shelf<h2>Messages</h2>Start Time: Thursday, July 21, 2022 11:32:14 AM<br/>Succeeded at Thursday, July 21, 2022 11:32:14 AM (Elapsed Time: 0.28 seconds)<br/><style>.rendered_html td, .rendered_html th {text-align: left;}.rendered_html tbody {border: 1px solid black;}</style>"
      ],
      "text/plain": [
       "<Result 'E:\\\\WORKING\\\\BaseBlueprint\\\\2022\\\\1_SubregionsAndExtent\\\\SESubregions2022.gdb\\\\Shelf'>"
      ]
     },
     "execution_count": 87,
     "metadata": {},
     "output_type": "execute_result"
    }
   ],
   "source": [
    "# Select shelf so I can do the same buffer on shelf, only this time I'll do 200  meters to close the gap between\n",
    "# the shelf and gulf stream. I also won't do a negative buffer, because I don't need to snap these lines back, they\n",
    "# will be removed where they overlap the inland subregions\n",
    "arcpy.analysis.Select(\"MarineSub_Dissolve\", \"Shelf\", \"dissolve = 'Marine Shelf and Extension'\")"
   ]
  },
  {
   "cell_type": "code",
   "execution_count": 88,
   "metadata": {},
   "outputs": [
    {
     "data": {
      "text/html": [
       "<h2>Output</h2>E:\\WORKING\\BaseBlueprint\\2022\\1_SubregionsAndExtent\\SESubregions2022.gdb\\Shelf_Buffer200<h2>Messages</h2>Start Time: Thursday, July 21, 2022 11:32:15 AM<br/>Succeeded at Thursday, July 21, 2022 11:32:15 AM (Elapsed Time: 0.77 seconds)<br/><style>.rendered_html td, .rendered_html th {text-align: left;}.rendered_html tbody {border: 1px solid black;}</style>"
      ],
      "text/plain": [
       "<Result 'E:\\\\WORKING\\\\BaseBlueprint\\\\2022\\\\1_SubregionsAndExtent\\\\SESubregions2022.gdb\\\\Shelf_Buffer200'>"
      ]
     },
     "execution_count": 88,
     "metadata": {},
     "output_type": "execute_result"
    }
   ],
   "source": [
    "# add a buffer to try to remove slivers\n",
    "arcpy.analysis.Buffer(\"Shelf\", \"Shelf_Buffer200\", \"200 Meters\", \"FULL\", \"ROUND\", \"ALL\", None, \"PLANAR\")"
   ]
  },
  {
   "cell_type": "code",
   "execution_count": 89,
   "metadata": {},
   "outputs": [
    {
     "data": {
      "text/html": [
       "<h2>Output</h2>a Layer object<h2>Messages</h2>Start Time: Thursday, July 21, 2022 11:32:16 AM<br/>Adding subregion2 to Shelf_Buffer200...<br/>Succeeded at Thursday, July 21, 2022 11:32:16 AM (Elapsed Time: 0.12 seconds)<br/><style>.rendered_html td, .rendered_html th {text-align: left;}.rendered_html tbody {border: 1px solid black;}</style>"
      ],
      "text/plain": [
       "<Result 'Shelf_Buffer200'>"
      ]
     },
     "execution_count": 89,
     "metadata": {},
     "output_type": "execute_result"
    }
   ],
   "source": [
    "# add field\n",
    "# add a field to hold the secondary subregion values\n",
    "arcpy.management.CalculateField(\"Shelf_Buffer200\", \"subregion2\", \"'Marine Shelf and Extension'\", \"PYTHON3\", '', \"TEXT\")"
   ]
  },
  {
   "cell_type": "code",
   "execution_count": 90,
   "metadata": {},
   "outputs": [
    {
     "data": {
      "text/html": [
       "<h2>Output</h2>E:\\WORKING\\BaseBlueprint\\2022\\1_SubregionsAndExtent\\SESubregions2022.gdb\\Update1<h2>Messages</h2>Start Time: Thursday, July 21, 2022 11:32:16 AM<br/>Assembling Features...<br/>Reading Features...<br/>Cracking Features...<br/>Succeeded at Thursday, July 21, 2022 11:32:17 AM (Elapsed Time: 0.50 seconds)<br/><style>.rendered_html td, .rendered_html th {text-align: left;}.rendered_html tbody {border: 1px solid black;}</style>"
      ],
      "text/plain": [
       "<Result 'E:\\\\WORKING\\\\BaseBlueprint\\\\2022\\\\1_SubregionsAndExtent\\\\SESubregions2022.gdb\\\\Update1'>"
      ]
     },
     "execution_count": 90,
     "metadata": {},
     "output_type": "execute_result"
    }
   ],
   "source": [
    "# use update to combine the 2 layers and keep one attribute for subregion2\n",
    "arcpy.analysis.Update(\"GulfStream_Buffer100neg100\", \"Shelf_Buffer200\", \"Update1\", \"BORDERS\", None)"
   ]
  },
  {
   "cell_type": "code",
   "execution_count": 91,
   "metadata": {},
   "outputs": [
    {
     "data": {
      "text/html": [
       "<h2>Output</h2>E:\\WORKING\\BaseBlueprint\\2022\\1_SubregionsAndExtent\\SESubregions2022.gdb\\GapCheck<h2>Messages</h2>Start Time: Thursday, July 21, 2022 11:32:18 AM<br/>Assembling Features...<br/>Reading Features...<br/>Cracking Features...<br/>Succeeded at Thursday, July 21, 2022 11:32:19 AM (Elapsed Time: 1.00 seconds)<br/><style>.rendered_html td, .rendered_html th {text-align: left;}.rendered_html tbody {border: 1px solid black;}</style>"
      ],
      "text/plain": [
       "<Result 'E:\\\\WORKING\\\\BaseBlueprint\\\\2022\\\\1_SubregionsAndExtent\\\\SESubregions2022.gdb\\\\GapCheck'>"
      ]
     },
     "execution_count": 91,
     "metadata": {},
     "output_type": "execute_result"
    }
   ],
   "source": [
    "# union with a big square to try to find holes\n",
    "arcpy.analysis.Union([Square, \"Update1\"], \"GapCheck\", \"ALL\", None, \"NO_GAPS\")"
   ]
  },
  {
   "cell_type": "code",
   "execution_count": 92,
   "metadata": {},
   "outputs": [
    {
     "data": {
      "text/html": [
       "<h2>Output</h2>E:\\WORKING\\BaseBlueprint\\2022\\1_SubregionsAndExtent\\SESubregions2022.gdb\\SAmarine<h2>Messages</h2>Start Time: Thursday, July 21, 2022 11:32:19 AM<br/>Reading Features...<br/>Assembling Features...<br/>Cracking Features...<br/>Succeeded at Thursday, July 21, 2022 11:32:21 AM (Elapsed Time: 1.39 seconds)<br/><style>.rendered_html td, .rendered_html th {text-align: left;}.rendered_html tbody {border: 1px solid black;}</style>"
      ],
      "text/plain": [
       "<Result 'E:\\\\WORKING\\\\BaseBlueprint\\\\2022\\\\1_SubregionsAndExtent\\\\SESubregions2022.gdb\\\\SAmarine'>"
      ]
     },
     "execution_count": 92,
     "metadata": {},
     "output_type": "execute_result"
    }
   ],
   "source": [
    "# clip to extent of South Atlantic\n",
    "arcpy.analysis.Clip(\"Update1\", SA, \"SAmarine\", None)"
   ]
  },
  {
   "cell_type": "code",
   "execution_count": 105,
   "metadata": {},
   "outputs": [
    {
     "data": {
      "text/html": [
       "<h2>Output</h2>E:\\WORKING\\BaseBlueprint\\2022\\1_SubregionsAndExtent\\SESubregions2022.gdb\\SAmarine2<h2>Messages</h2>Start Time: Thursday, July 21, 2022 11:36:25 AM<br/>Succeeded at Thursday, July 21, 2022 11:36:26 AM (Elapsed Time: 0.46 seconds)<br/><style>.rendered_html td, .rendered_html th {text-align: left;}.rendered_html tbody {border: 1px solid black;}</style>"
      ],
      "text/plain": [
       "<Result 'E:\\\\WORKING\\\\BaseBlueprint\\\\2022\\\\1_SubregionsAndExtent\\\\SESubregions2022.gdb\\\\SAmarine2'>"
      ]
     },
     "execution_count": 105,
     "metadata": {},
     "output_type": "execute_result"
    }
   ],
   "source": [
    "# Multipart to Singlepart just to make sure no slivers\n",
    "arcpy.management.MultipartToSinglepart(\"SAmarine\", \"SAmarine2\")"
   ]
  },
  {
   "cell_type": "markdown",
   "metadata": {},
   "source": [
    "# combine inland and marine subregions"
   ]
  },
  {
   "cell_type": "code",
   "execution_count": 106,
   "metadata": {},
   "outputs": [
    {
     "data": {
      "text/html": [
       "<h2>Output</h2>E:\\WORKING\\BaseBlueprint\\2022\\1_SubregionsAndExtent\\SESubregions2022.gdb\\SEBlueprintSubRgn1<h2>Messages</h2>Start Time: Thursday, July 21, 2022 11:36:27 AM<br/>Assembling Features...<br/>Reading Features...<br/>Cracking Features...<br/>Succeeded at Thursday, July 21, 2022 11:36:28 AM (Elapsed Time: 1.31 seconds)<br/><style>.rendered_html td, .rendered_html th {text-align: left;}.rendered_html tbody {border: 1px solid black;}</style>"
      ],
      "text/plain": [
       "<Result 'E:\\\\WORKING\\\\BaseBlueprint\\\\2022\\\\1_SubregionsAndExtent\\\\SESubregions2022.gdb\\\\SEBlueprintSubRgn1'>"
      ]
     },
     "execution_count": 106,
     "metadata": {},
     "output_type": "execute_result"
    }
   ],
   "source": [
    "# use update to combine the 2 layers and keep one attribute for subregion2\n",
    "arcpy.analysis.Update(\"SAmarine2\", \"sub2\", \"SEBlueprintSubRgn1\", \"BORDERS\", None)"
   ]
  },
  {
   "cell_type": "code",
   "execution_count": 107,
   "metadata": {},
   "outputs": [],
   "source": [
    "# set codeblock for next step\n",
    "codeblock = \"\"\"\n",
    "def Reclass(s,s2):\n",
    "    if str(s2) in ('North Atlantic Coastal Plain','Central Atlantic Coastal Plain','South Atlantic Coastal Plain'):\n",
    "        return \"Atlantic Coastal Plain\"\n",
    "    #elif str(s2) in ('North Appalachians','South Appalachians'):\n",
    "    #    return \"Appalachians\"\n",
    "    elif str(s2) in ('North Piedmont','South Piedmont'):\n",
    "        return \"Piedmont\"\n",
    "    elif str(s2) in ('South High Plains and Tablelands','North High Plains and Tablelands'):\n",
    "        return \"High Plains and Tablelands\"\n",
    "    #elif str(s2) in ('South Plains and Timbers','North Plains and Timbers'):\n",
    "    #    return \"Plains and Timbers\"\n",
    "    #elif str(s2) in ('Central Gulf Coastal Plain','Mid East Gulf Coastal Plain','East Gulf Coastal Plain Sub'):\n",
    "    #    return \"East Gulf Coastal Plain\"\n",
    "    else:\n",
    "        return str(s2)\n",
    "\"\"\""
   ]
  },
  {
   "cell_type": "code",
   "execution_count": 108,
   "metadata": {},
   "outputs": [
    {
     "data": {
      "text/html": [
       "<h2>Output</h2>a Layer object<h2>Messages</h2>Start Time: Thursday, July 21, 2022 11:36:29 AM<br/>Adding subregion to SEBlueprintSubRgn1...<br/>Succeeded at Thursday, July 21, 2022 11:36:29 AM (Elapsed Time: 0.22 seconds)<br/><style>.rendered_html td, .rendered_html th {text-align: left;}.rendered_html tbody {border: 1px solid black;}</style>"
      ],
      "text/plain": [
       "<Result 'SEBlueprintSubRgn1'>"
      ]
     },
     "execution_count": 108,
     "metadata": {},
     "output_type": "execute_result"
    }
   ],
   "source": [
    "# Add another field to hold the larger, combined subregion names\n",
    "arcpy.management.CalculateField(\"SEBlueprintSubRgn1\", \"subregion\", \"Reclass(!subregion!,!subregion2!)\", \"PYTHON3\", codeblock, \"TEXT\")  "
   ]
  },
  {
   "cell_type": "code",
   "execution_count": 109,
   "metadata": {},
   "outputs": [
    {
     "data": {
      "text/html": [
       "<h2>Output</h2>a Layer object<h2>Messages</h2>Start Time: Thursday, July 21, 2022 11:36:30 AM<br/>Adding SECAS to SEBlueprintSubRgn1...<br/>Succeeded at Thursday, July 21, 2022 11:36:30 AM (Elapsed Time: 0.20 seconds)<br/><style>.rendered_html td, .rendered_html th {text-align: left;}.rendered_html tbody {border: 1px solid black;}</style>"
      ],
      "text/plain": [
       "<Result 'SEBlueprintSubRgn1'>"
      ]
     },
     "execution_count": 109,
     "metadata": {},
     "output_type": "execute_result"
    }
   ],
   "source": [
    "# Add final fields, so they will be in order\n",
    "arcpy.management.CalculateField(\"SEBlueprintSubRgn1\", \"SubRgn\", \"!subregion!\", \"PYTHON3\", '', \"TEXT\")\n",
    "arcpy.management.CalculateField(\"SEBlueprintSubRgn1\", \"SubRgn_II\", \"!subregion2!\", \"PYTHON3\", '', \"TEXT\")\n",
    "arcpy.management.CalculateField(\"SEBlueprintSubRgn1\", \"SECAS\", \"'SECAS'\", \"PYTHON3\", '', \"TEXT\")"
   ]
  },
  {
   "cell_type": "code",
   "execution_count": 110,
   "metadata": {},
   "outputs": [
    {
     "data": {
      "text/html": [
       "<h2>Output</h2>a Layer object<h2>Messages</h2>Start Time: Thursday, July 21, 2022 11:36:31 AM<br/>Succeeded at Thursday, July 21, 2022 11:36:31 AM (Elapsed Time: 0.27 seconds)<br/><style>.rendered_html td, .rendered_html th {text-align: left;}.rendered_html tbody {border: 1px solid black;}</style>"
      ],
      "text/plain": [
       "<Result 'SEBlueprintSubRgn1'>"
      ]
     },
     "execution_count": 110,
     "metadata": {},
     "output_type": "execute_result"
    }
   ],
   "source": [
    "# delete extra fields\n",
    "arcpy.management.DeleteField(\"SEBlueprintSubRgn1\", \"subregion2;ORIG_FID;subregion\")"
   ]
  },
  {
   "cell_type": "code",
   "execution_count": 119,
   "metadata": {},
   "outputs": [
    {
     "data": {
      "text/html": [
       "<h2>Output</h2>E:\\WORKING\\BaseBlueprint\\2022\\1_SubregionsAndExtent\\SESubregions2022.gdb\\BaseBlueprintSubRgnPlusCar<h2>Messages</h2>Start Time: Thursday, July 21, 2022 11:39:06 AM<br/>Sorting Attributes...<br/>Dissolving...<br/>Succeeded at Thursday, July 21, 2022 11:39:06 AM (Elapsed Time: 0.60 seconds)<br/><style>.rendered_html td, .rendered_html th {text-align: left;}.rendered_html tbody {border: 1px solid black;}</style>"
      ],
      "text/plain": [
       "<Result 'E:\\\\WORKING\\\\BaseBlueprint\\\\2022\\\\1_SubregionsAndExtent\\\\SESubregions2022.gdb\\\\BaseBlueprintSubRgnPlusCar'>"
      ]
     },
     "execution_count": 119,
     "metadata": {},
     "output_type": "execute_result"
    }
   ],
   "source": [
    "# Dissolve to save the subregions we actually used in zonation\n",
    "arcpy.management.Dissolve(\"SEBlueprintSubRgn1\", \"BaseBlueprintSubRgnPlusCar\", \"SubRgn\", None, \"MULTI_PART\", \"DISSOLVE_LINES\")"
   ]
  },
  {
   "cell_type": "code",
   "execution_count": 120,
   "metadata": {},
   "outputs": [
    {
     "data": {
      "text/html": [
       "<h2>Output</h2>E:\\WORKING\\BaseBlueprint\\2022\\1_SubregionsAndExtent\\SESubregions2022.gdb\\BaseBlueprintSubRgn<h2>Messages</h2>Start Time: Thursday, July 21, 2022 11:39:11 AM<br/>Succeeded at Thursday, July 21, 2022 11:39:11 AM (Elapsed Time: 0.53 seconds)<br/><style>.rendered_html td, .rendered_html th {text-align: left;}.rendered_html tbody {border: 1px solid black;}</style>"
      ],
      "text/plain": [
       "<Result 'E:\\\\WORKING\\\\BaseBlueprint\\\\2022\\\\1_SubregionsAndExtent\\\\SESubregions2022.gdb\\\\BaseBlueprintSubRgn'>"
      ]
     },
     "execution_count": 120,
     "metadata": {},
     "output_type": "execute_result"
    }
   ],
   "source": [
    "# selecte the draft base blueprint area (not PR and VI)\n",
    "arcpy.analysis.Select(\"SEBlueprintSubRgn\", \"BaseBlueprintSubRgn\", \"SubRgn <> 'Puerto Rico and Virgin Islands'\")"
   ]
  },
  {
   "cell_type": "markdown",
   "metadata": {},
   "source": [
    "## Export"
   ]
  },
  {
   "cell_type": "code",
   "execution_count": 121,
   "metadata": {},
   "outputs": [],
   "source": [
    "#Export to shapefile\n",
    "with arcpy.EnvManager(outputCoordinateSystem=sr):\n",
    "    arcpy.conversion.FeatureClassToShapefile(\"BaseBlueprintSubRgn\", ShapeOut)"
   ]
  },
  {
   "cell_type": "code",
   "execution_count": 123,
   "metadata": {},
   "outputs": [],
   "source": [
    "#Export SE blueprint subregions to shapefile\n",
    "with arcpy.EnvManager(outputCoordinateSystem=sr):\n",
    "    arcpy.conversion.FeatureClassToShapefile(\"BaseBlueprintSubRgnPlusCar\", ShapeOut)"
   ]
  },
  {
   "cell_type": "code",
   "execution_count": null,
   "metadata": {},
   "outputs": [],
   "source": [
    "# convert to raster\n",
    "with arcpy.EnvManager(outputCoordinateSystem=sr, extent=snap, snapRaster=SA, cellSize=SA):\n",
    "    arcpy.conversion.PolygonToRaster(\"BaseBlueprintSubRgn\", \"SECAS\", ExtentOut, \"CELL_CENTER\", \"NONE\", 30)"
   ]
  },
  {
   "cell_type": "code",
   "execution_count": null,
   "metadata": {},
   "outputs": [],
   "source": []
  },
  {
   "cell_type": "code",
   "execution_count": null,
   "metadata": {},
   "outputs": [],
   "source": []
  }
 ],
 "metadata": {
  "kernelspec": {
   "display_name": "ArcGISPro",
   "language": "Python",
   "name": "python3"
  },
  "language_info": {
   "file_extension": ".py",
   "name": "python",
   "version": "3"
  }
 },
 "nbformat": 4,
 "nbformat_minor": 2
}
