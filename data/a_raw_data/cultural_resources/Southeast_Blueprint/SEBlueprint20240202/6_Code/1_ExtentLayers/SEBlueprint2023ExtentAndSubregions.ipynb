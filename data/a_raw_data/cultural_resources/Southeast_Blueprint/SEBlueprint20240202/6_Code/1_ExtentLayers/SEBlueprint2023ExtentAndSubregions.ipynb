{
 "cells": [
  {
   "cell_type": "markdown",
   "metadata": {},
   "source": [
    "# Southeast Blueprint 2023 Extent and subregions\n",
    "\n",
    "This creates the full extent of the 2023 Southeast blueprint.\n",
    "\n",
    "It uses the 2022 base blueprint extent as an input. It also uses the marine and Caribbean extent as an input.\n",
    "\n",
    "Created by Amy Keister, last run by Amy Keister 6 July 2023. It tookk 12 minutes to run."
   ]
  },
  {
   "cell_type": "code",
   "execution_count": 1,
   "metadata": {},
   "outputs": [],
   "source": [
    "import os\n",
    "import arcpy"
   ]
  },
  {
   "cell_type": "code",
   "execution_count": 2,
   "metadata": {},
   "outputs": [],
   "source": [
    "import time\n",
    "start = time.time()"
   ]
  },
  {
   "cell_type": "code",
   "execution_count": 3,
   "metadata": {},
   "outputs": [],
   "source": [
    "# define spatial reference and workspaces\n",
    "sr= arcpy.SpatialReference(5070)\n",
    "#SourceWorkspace= \n",
    "OutWorkspace = r\"D:\\SE_Blueprint_2023\\2_FullExtent\\FullExt.gdb\""
   ]
  },
  {
   "cell_type": "code",
   "execution_count": 39,
   "metadata": {},
   "outputs": [],
   "source": [
    "# define final indicator outputs\n",
    "Out1= r\"D:\\SE_Blueprint_2023\\2_FullExtent\\SEBlueprintForseableMaxExtentPossibleIssueWithDeepMarineBoundary.tif\"\n",
    "Out2= \"SEBlueprint2023SubregionsVIPR6\"\n",
    "Out2Folder= r\"D:\\SE_Blueprint_2023\\2_FullExtent\"\n",
    "Out3= r\"D:\\SE_Blueprint_2023\\2_FullExtent\\SEBlueprint2023ExtentVIPR6.tif\""
   ]
  },
  {
   "cell_type": "code",
   "execution_count": 5,
   "metadata": {},
   "outputs": [],
   "source": [
    "# define rasters used for cell size, extent, and snapping\n",
    "Rextent= r\"F:\\GIS_DATA\\SECAS\\SE_Blueprint_2022\\Southeast_Blueprint_2022_Data_Download\\SEBlueprint20221215\\Inputs\\BaseBlueprint\\1_ExtentLayers\\BaseBlueprintExtent2022.tif\""
   ]
  },
  {
   "cell_type": "code",
   "execution_count": 6,
   "metadata": {},
   "outputs": [],
   "source": [
    "# define inputs\n",
    "baseSub= r\"F:\\GIS_DATA\\SECAS\\SE_Blueprint_2022\\Southeast_Blueprint_2022_Data_Download\\SEBlueprint20221215\\Inputs\\BaseBlueprint\\1_ExtentLayers\\BaseBlueprintSubRgn.shp\"\n",
    "base= r\"F:\\GIS_DATA\\SECAS\\SE_Blueprint_2022\\Southeast_Blueprint_2022_Data_Download\\SEBlueprint20221215\\Inputs\\BaseBlueprint\\1_ExtentLayers\\BaseBlueprintExtent2022.tif\"\n",
    "SEextent= r\"F:\\GIS_DATA\\SECAS\\SE_Blueprint_2022\\Southeast_Blueprint_2022_Data_Download\\SEBlueprint20221215\\SE_Blueprint_2022.tif\"\n",
    "usMar= r\"F:\\GIS_DATA\\Boundaries\\USMaritimeLimitsAndBoundariesSHP\\USMaritimeLimitsNBoundaries.shp\"\n",
    "VIPR= r\"D:\\SE_Blueprint_2023\\1_VIPR_Extent\\VIPR_Extent_v6.tif\"\n",
    "MarineRaster= r\"D:\\SE_Blueprint_2023\\2_MarineExtents\\Marine_Extent_v1.tif\"\n",
    "#GulfM= r\"D:\\SE_Blueprint_2023\\2_MarineExtents\\Marine_GoM_v1.shp\"\n",
    "#AtlanticM= r\"D:\\SE_Blueprint_2023\\2_MarineExtents\\Marine_SA_v1.shp\"\n",
    "#SAm= r\"D:\\SE_Blueprint_2023\\2_MarineExtents\\Marine_SA_v1.tif\"\n",
    "GOMm= r\"D:\\SE_Blueprint_2023\\2_MarineExtents\\Marine_GoM_v1.tif\"\n",
    "Square= r\"D:\\BaseBlueprint\\2022\\1_SubregionsAndExtent\\SquareForTesting.gdb\\square\""
   ]
  },
  {
   "cell_type": "markdown",
   "metadata": {},
   "source": [
    "## Start Analysis"
   ]
  },
  {
   "cell_type": "code",
   "execution_count": 7,
   "metadata": {},
   "outputs": [],
   "source": [
    "# Set the workspace where I want the output to go\n",
    "arcpy.env.workspace = OutWorkspace"
   ]
  },
  {
   "cell_type": "code",
   "execution_count": 8,
   "metadata": {},
   "outputs": [
    {
     "name": "stdout",
     "output_type": "stream",
     "text": [
      "D:\\SE_Blueprint_2023\\2_FullExtent\\FullExt.gdb\n"
     ]
    }
   ],
   "source": [
    "# print workspace to make sure I'm in the right spot\n",
    "print(arcpy.env.workspace)"
   ]
  },
  {
   "cell_type": "markdown",
   "metadata": {},
   "source": [
    "### Try to estimate bounding largest possible bounding box for SE Blueprint for the forseable future\n",
    "\n",
    "This should include all SECAS states, Gulf, Atlantic, and Caribbean US maritime extents"
   ]
  },
  {
   "cell_type": "code",
   "execution_count": 9,
   "metadata": {},
   "outputs": [
    {
     "data": {
      "text/html": [
       "<div class='gpresult'><h2>Messages</h2><div id='messages' data-messages='[\"Start Time: Thursday, July 6, 2023 7:35:27 PM\",\"Succeeded at Thursday, July 6, 2023 7:35:28 PM (Elapsed Time: 0.26 seconds)\"]' data-show='true'><div id = 'default' /></div></div>"
      ],
      "text/plain": [
       "<Result 'D:\\\\SE_Blueprint_2023\\\\2_FullExtent\\\\FullExt.gdb\\\\usMarVIPR'>"
      ]
     },
     "execution_count": 9,
     "metadata": {},
     "output_type": "execute_result"
    }
   ],
   "source": [
    "# select VIPR from US maritime limits\n",
    "arcpy.analysis.Select(usMar, \"usMarVIPR\", \"REGION = 'Puerto Rico and U.S. Virgin Islands'\")"
   ]
  },
  {
   "cell_type": "code",
   "execution_count": 10,
   "metadata": {},
   "outputs": [
    {
     "data": {
      "text/html": [
       "<div class='gpresult'><h2>Messages</h2><div id='messages' data-messages='[\"Start Time: Thursday, July 6, 2023 7:35:28 PM\",\"Reading Features...\",\"Cracking Features...\",\"Assembling Features...\",\"Succeeded at Thursday, July 6, 2023 7:35:28 PM (Elapsed Time: 0.20 seconds)\"]' data-show='true'><div id = 'default' /></div></div>"
      ],
      "text/plain": [
       "<Result 'D:\\\\SE_Blueprint_2023\\\\2_FullExtent\\\\FullExt.gdb\\\\usMarVIPRp'>"
      ]
     },
     "execution_count": 10,
     "metadata": {},
     "output_type": "execute_result"
    }
   ],
   "source": [
    "# convert VIPR US martime limits from line to polygon\n",
    "arcpy.management.FeatureToPolygon(\"usMarVIPR\", \"usMarVIPRp\", None, \"ATTRIBUTES\", None)"
   ]
  },
  {
   "cell_type": "code",
   "execution_count": 11,
   "metadata": {},
   "outputs": [
    {
     "data": {
      "text/html": [
       "<div class='gpresult'><h2>Messages</h2><div id='messages' data-messages='[\"Start Time: Thursday, July 6, 2023 7:35:28 PM\",\"Adding raster to usMarVIPRp...\",\"Succeeded at Thursday, July 6, 2023 7:35:28 PM (Elapsed Time: 0.04 seconds)\"]' data-show='true'><div id = 'default' /></div></div>"
      ],
      "text/plain": [
       "<Result 'D:\\\\SE_Blueprint_2023\\\\2_FullExtent\\\\FullExt.gdb\\\\usMarVIPRp'>"
      ]
     },
     "execution_count": 11,
     "metadata": {},
     "output_type": "execute_result"
    }
   ],
   "source": [
    "# add and calculate field to convert to raster\n",
    "arcpy.management.CalculateField(\"usMarVIPRp\", \"raster\", \"1\", \"PYTHON3\", '', \"SHORT\")"
   ]
  },
  {
   "cell_type": "code",
   "execution_count": 12,
   "metadata": {},
   "outputs": [
    {
     "data": {
      "text/html": [
       "<div class='gpresult'><h2>Messages</h2><div id='messages' data-messages='[\"Start Time: Thursday, July 6, 2023 7:35:28 PM\",\"Reading Features...\",\"Cracking Features...\",\"Assembling Features...\",\"Succeeded at Thursday, July 6, 2023 7:35:29 PM (Elapsed Time: 0.74 seconds)\"]' data-show='true'><div id = 'default' /></div></div>"
      ],
      "text/plain": [
       "<Result 'D:\\\\SE_Blueprint_2023\\\\2_FullExtent\\\\FullExt.gdb\\\\BaseVIPR'>"
      ]
     },
     "execution_count": 12,
     "metadata": {},
     "output_type": "execute_result"
    }
   ],
   "source": [
    "# combine US maritime limits of VIPR with 2022 base blueprint subregions\n",
    "# this should get us the maximum extent\n",
    "arcpy.analysis.Union([baseSub, \"usMarVIPRp\"], \"BaseVIPR\", \"ONLY_FID\", None, \"GAPS\")"
   ]
  },
  {
   "cell_type": "code",
   "execution_count": 13,
   "metadata": {},
   "outputs": [
    {
     "data": {
      "text/html": [
       "<div class='gpresult'><h2>Messages</h2><div id='messages' data-messages='[\"Start Time: Thursday, July 6, 2023 7:35:29 PM\",\"Succeeded at Thursday, July 6, 2023 7:35:31 PM (Elapsed Time: 1.36 seconds)\"]' data-show='true'><div id = 'default' /></div></div>"
      ],
      "text/plain": [
       "<Result 'D:\\\\SE_Blueprint_2023\\\\2_FullExtent\\\\FullExt.gdb\\\\BaseVIPR27km'>"
      ]
     },
     "execution_count": 13,
     "metadata": {},
     "output_type": "execute_result"
    }
   ],
   "source": [
    "# buffer so the extent will be big enough for corridor analysis\n",
    "# even though this doesn't include the Atantic and Gulf marine extent as inputs, I think it will be big enough to \n",
    "# include those areas in the bounding box extent, which is all I want this for\n",
    "arcpy.analysis.Buffer(\"BaseVIPR\", \"BaseVIPR27km\", \"27 Kilometers\", \"FULL\", \"ROUND\", \"NONE\", None, \"PLANAR\")"
   ]
  },
  {
   "cell_type": "code",
   "execution_count": 14,
   "metadata": {},
   "outputs": [],
   "source": [
    "# convert to raster and snap to base blueprint 2022 extent\n",
    "with arcpy.EnvManager(outputCoordinateSystem=sr, snapRaster=Rextent):\n",
    "    arcpy.conversion.FeatureToRaster(in_features=\"usMarVIPRp\", field=\"raster\", out_raster=\"usMarVIPRr\", cell_size=Rextent)"
   ]
  },
  {
   "cell_type": "code",
   "execution_count": 36,
   "metadata": {},
   "outputs": [],
   "source": [
    "# use cell statistics to combine the Marine raster, base blueprint extent, and estimated max extent of VIPR\n",
    "# use the buffered combination of Base blueprint subregions and VIPR as the extent, \n",
    "with arcpy.EnvManager(outputCoordinateSystem=sr, extent=\"BaseVIPR27km\", snapRaster=Rextent, cellSize=Rextent):\n",
    "    out_raster = arcpy.sa.CellStatistics([MarineRaster, base, \"usMarVIPRr\"], \"MAXIMUM\", \"DATA\", \"SINGLE_BAND\"); out_raster.save(\"maxBlue\")"
   ]
  },
  {
   "cell_type": "code",
   "execution_count": null,
   "metadata": {},
   "outputs": [],
   "source": [
    "# Export as .tif\n",
    "with arcpy.EnvManager(outputCoordinateSystem=sr, extent=\"BaseVIPR27km\", snapRaster=Rextent, cellSize=Rextent):\n",
    "    arcpy.management.CopyRaster(\"maxBlue\", Out1, '', None, \"0\", \"NONE\", \"NONE\", \"1_BIT\", \"NONE\", \"NONE\", \"TIFF\", \"NONE\", \"CURRENT_SLICE\", \"NO_TRANSPOSE\")"
   ]
  },
  {
   "cell_type": "markdown",
   "metadata": {},
   "source": [
    "## Make a layer of all subregions that are relevant for 2023\n",
    "this is a bit confusing because even though the Atlantic and Gulf marine were ran in zonation together, the Atlanic and Gulf extents were used to clip some indicators, so we need them pulled out seperate"
   ]
  },
  {
   "cell_type": "markdown",
   "metadata": {},
   "source": [
    "### Gulf Marine"
   ]
  },
  {
   "cell_type": "code",
   "execution_count": 15,
   "metadata": {},
   "outputs": [
    {
     "data": {
      "text/html": [
       "<div class='gpresult'><h2>Messages</h2><div id='messages' data-messages='[\"Start Time: Thursday, July 6, 2023 7:35:43 PM\",\"Succeeded at Thursday, July 6, 2023 7:35:53 PM (Elapsed Time: 9.92 seconds)\"]' data-show='true'><div id = 'default' /></div></div>"
      ],
      "text/plain": [
       "<Result 'D:\\\\SE_Blueprint_2023\\\\2_FullExtent\\\\FullExt.gdb\\\\GOMmp'>"
      ]
     },
     "execution_count": 15,
     "metadata": {},
     "output_type": "execute_result"
    }
   ],
   "source": [
    "# bring in gulf marine raster and convert to vector\n",
    "arcpy.conversion.RasterToPolygon(GOMm, \"GOMmp\", \"NO_SIMPLIFY\", \"Value\", \"SINGLE_OUTER_PART\", None)"
   ]
  },
  {
   "cell_type": "code",
   "execution_count": 16,
   "metadata": {},
   "outputs": [
    {
     "data": {
      "text/html": [
       "<div class='gpresult'><h2>Messages</h2><div id='messages' data-messages='[\"Start Time: Thursday, July 6, 2023 7:35:53 PM\",\"Adding SubRgn to GOMmp...\",\"Succeeded at Thursday, July 6, 2023 7:35:53 PM (Elapsed Time: 0.05 seconds)\"]' data-show='true'><div id = 'default' /></div></div>"
      ],
      "text/plain": [
       "<Result 'D:\\\\SE_Blueprint_2023\\\\2_FullExtent\\\\FullExt.gdb\\\\GOMmp'>"
      ]
     },
     "execution_count": 16,
     "metadata": {},
     "output_type": "execute_result"
    }
   ],
   "source": [
    "# add field for subregion\n",
    "arcpy.management.CalculateField(\"GOMmp\", \"SubRgn\", '\"Gulf of Mexico\"', \"PYTHON3\", '', \"TEXT\")"
   ]
  },
  {
   "cell_type": "markdown",
   "metadata": {},
   "source": [
    "### Things I tried that didn't work\n",
    "I need to not have gaps between the base blueprint 2022 inland subregions and the new marine regions.\n",
    "The base bluperint 2022 inland subreigon vector has smooth lines because it was made from HUCs and ecoregions, the gulf marine vector has non-simplified lines, so there were slivers when tried to merge them. So I rasterized the 2022 base blueprint inland subregions, then converted back to vector without simplifying the polygons. This worked with the gulf of marine vector, that had non simplified lines alogn the inland boundary.\n",
    "I tried using Yvonne's atlantic marine raster, but it has a row of missing pixels in the north atlantic. So I tried using Yvonne's atlantic marine vector, but it has simplified polygons that leave gaps when merged with the now non simplified inland subregions. So I tried converting the vector to raster and got the same line of missing pixels. I was able to get it to convert to raster correctly after repairing the geomerty of the vector. Then I found I had problems with the overlap area of the gulf marine.\n",
    "So I decided to use Yvonne's gulf marine vector with the non simplified inland polygons and then use the full marine extent to fill in the atlantic marine, but then I found that the southern boundary of the gulf marine vector had smooth lines, so when I added in the full marine there were slivers at the bottom. \n"
   ]
  },
  {
   "cell_type": "code",
   "execution_count": 17,
   "metadata": {},
   "outputs": [],
   "source": [
    "# make a copy of the gulf marine layer for edits\n",
    "#with arcpy.EnvManager(outputCoordinateSystem=sr):\n",
    "#    arcpy.management.CopyFeatures(GulfM, \"GulfM1\", '', None, None, None)"
   ]
  },
  {
   "cell_type": "code",
   "execution_count": 18,
   "metadata": {},
   "outputs": [],
   "source": [
    "# make a copy of Yvonne's vector for edits\n",
    "#with arcpy.EnvManager(outputCoordinateSystem=sr):\n",
    "#    arcpy.management.CopyFeatures(AtlanticM, \"AtlanticM1\", '', None, None, None)"
   ]
  },
  {
   "cell_type": "code",
   "execution_count": 19,
   "metadata": {},
   "outputs": [],
   "source": [
    "# add field to conver to raster with no simplify option\n",
    "#arcpy.management.CalculateField(\"AtlanticM1\", \"SubRgn\", '\"Atlantic Marine\"', \"PYTHON3\", '', \"TEXT\")"
   ]
  },
  {
   "cell_type": "code",
   "execution_count": 20,
   "metadata": {},
   "outputs": [],
   "source": [
    "# do some cleaning to fix problem that is causing missing cells in raster\n",
    "#arcpy.management.RepairGeometry(\"AtlanticM1\", \"DELETE_NULL\", \"ESRI\")"
   ]
  },
  {
   "cell_type": "code",
   "execution_count": 21,
   "metadata": {},
   "outputs": [],
   "source": [
    "# Convert to raster, have to do this so I won't get slivers when I merge with the base blueprint\n",
    "#with arcpy.EnvManager(outputCoordinateSystem=sr, snapRaster=Rextent, extent = \"BaseVIPR27km\"):\n",
    "#    arcpy.conversion.FeatureToRaster(in_features=\"AtlanticM1\", field=\"SubRgn\", out_raster=\"AtlanticM1r\", cell_size=Rextent)"
   ]
  },
  {
   "cell_type": "code",
   "execution_count": 22,
   "metadata": {},
   "outputs": [],
   "source": [
    "# convert Atlantic marine back to vector\n",
    "#arcpy.conversion.RasterToPolygon(\"AtlanticM1r\", \"AtlanticM1rp\", \"NO_SIMPLIFY\", \"Value\", \"SINGLE_OUTER_PART\", None)"
   ]
  },
  {
   "cell_type": "markdown",
   "metadata": {},
   "source": [
    "### VIPR"
   ]
  },
  {
   "cell_type": "code",
   "execution_count": 23,
   "metadata": {},
   "outputs": [
    {
     "data": {
      "text/html": [
       "<div class='gpresult'><h2>Messages</h2><div id='messages' data-messages='[\"Start Time: Thursday, July 6, 2023 7:35:53 PM\",\"Succeeded at Thursday, July 6, 2023 7:35:54 PM (Elapsed Time: 0.83 seconds)\"]' data-show='true'><div id = 'default' /></div></div>"
      ],
      "text/plain": [
       "<Result 'D:\\\\SE_Blueprint_2023\\\\2_FullExtent\\\\FullExt.gdb\\\\VIPRp'>"
      ]
     },
     "execution_count": 23,
     "metadata": {},
     "output_type": "execute_result"
    }
   ],
   "source": [
    "# convert VIPR extent to vector\n",
    "arcpy.conversion.RasterToPolygon(VIPR, \"VIPRp\", \"NO_SIMPLIFY\", \"Value\", \"SINGLE_OUTER_PART\", None)"
   ]
  },
  {
   "cell_type": "code",
   "execution_count": 24,
   "metadata": {},
   "outputs": [
    {
     "data": {
      "text/html": [
       "<div class='gpresult'><h2>Messages</h2><div id='messages' data-messages='[\"Start Time: Thursday, July 6, 2023 7:35:54 PM\",\"Adding SubRgn to VIPRp...\",\"Succeeded at Thursday, July 6, 2023 7:35:54 PM (Elapsed Time: 0.07 seconds)\"]' data-show='true'><div id = 'default' /></div></div>"
      ],
      "text/plain": [
       "<Result 'D:\\\\SE_Blueprint_2023\\\\2_FullExtent\\\\FullExt.gdb\\\\VIPRp'>"
      ]
     },
     "execution_count": 24,
     "metadata": {},
     "output_type": "execute_result"
    }
   ],
   "source": [
    "# add field for subregion\n",
    "arcpy.management.CalculateField(\"VIPRp\", \"SubRgn\", '\"Caribbean\"', \"PYTHON3\", '', \"TEXT\")"
   ]
  },
  {
   "cell_type": "markdown",
   "metadata": {},
   "source": [
    "### Rasterize then vectorize base blueprint 2022 subregions"
   ]
  },
  {
   "cell_type": "code",
   "execution_count": 25,
   "metadata": {},
   "outputs": [
    {
     "data": {
      "text/html": [
       "<div class='gpresult'><h2>Messages</h2><div id='messages' data-messages='[\"Start Time: Thursday, July 6, 2023 7:35:55 PM\",\"Succeeded at Thursday, July 6, 2023 7:35:55 PM (Elapsed Time: 0.20 seconds)\"]' data-show='true'><div id = 'default' /></div></div>"
      ],
      "text/plain": [
       "<Result 'D:\\\\SE_Blueprint_2023\\\\2_FullExtent\\\\FullExt.gdb\\\\baseSubNoM'>"
      ]
     },
     "execution_count": 25,
     "metadata": {},
     "output_type": "execute_result"
    }
   ],
   "source": [
    "# make a vector base blueprint 2022 subregion file that does not contain the marine subregions\n",
    "arcpy.analysis.Select(baseSub, \"baseSubNoM\", \"SubRgn NOT IN ('Marine Shelf and Extension', 'Marine Gulf Stream')\")"
   ]
  },
  {
   "cell_type": "code",
   "execution_count": 26,
   "metadata": {},
   "outputs": [],
   "source": [
    "# convert 2022 base bluperint subregions to raster and snap to base blueprint 2022 extent\n",
    "with arcpy.EnvManager(outputCoordinateSystem=sr, snapRaster=Rextent, extent = \"BaseVIPR27km\"):\n",
    "    arcpy.conversion.FeatureToRaster(in_features=\"baseSubNoM\", field=\"SubRgn\", out_raster=\"BaseSubRgn\", cell_size=Rextent)"
   ]
  },
  {
   "cell_type": "code",
   "execution_count": 27,
   "metadata": {},
   "outputs": [
    {
     "data": {
      "text/html": [
       "<div class='gpresult'><h2>Messages</h2><div id='messages' data-messages='[\"Start Time: Thursday, July 6, 2023 7:37:50 PM\",\"Succeeded at Thursday, July 6, 2023 7:39:04 PM (Elapsed Time: 1 minutes 13 seconds)\"]' data-show='true'><div id = 'default' /></div></div>"
      ],
      "text/plain": [
       "<Result 'D:\\\\SE_Blueprint_2023\\\\2_FullExtent\\\\FullExt.gdb\\\\BaseSubRgnR'>"
      ]
     },
     "execution_count": 27,
     "metadata": {},
     "output_type": "execute_result"
    }
   ],
   "source": [
    "# convert 2022 base bluperint subregion raster back to vector\n",
    "arcpy.conversion.RasterToPolygon(\"BaseSubRgn\", \"BaseSubRgnR\", \"NO_SIMPLIFY\", \"SubRgn\", \"SINGLE_OUTER_PART\", None)"
   ]
  },
  {
   "cell_type": "code",
   "execution_count": 28,
   "metadata": {},
   "outputs": [
    {
     "data": {
      "text/html": [
       "<div class='gpresult'><h2>Messages</h2><div id='messages' data-messages='[\"Start Time: Thursday, July 6, 2023 7:39:04 PM\",\"Sorting Attributes...\",\"Dissolving...\",\"Succeeded at Thursday, July 6, 2023 7:39:07 PM (Elapsed Time: 3.20 seconds)\"]' data-show='true'><div id = 'default' /></div></div>"
      ],
      "text/plain": [
       "<Result 'D:\\\\SE_Blueprint_2023\\\\2_FullExtent\\\\FullExt.gdb\\\\BaseSubRgnRDis'>"
      ]
     },
     "execution_count": 28,
     "metadata": {},
     "output_type": "execute_result"
    }
   ],
   "source": [
    "arcpy.management.Dissolve(\"BaseSubRgnR\", \"BaseSubRgnRDis\", \"SubRgn\", None, \"MULTI_PART\", \"DISSOLVE_LINES\")"
   ]
  },
  {
   "cell_type": "markdown",
   "metadata": {},
   "source": [
    "### Merge base blueprint 2022 inland, Gulf marine, and VIPR"
   ]
  },
  {
   "cell_type": "code",
   "execution_count": 29,
   "metadata": {},
   "outputs": [
    {
     "data": {
      "text/html": [
       "<div class='gpresult'><h2>Messages</h2><div id='messages' data-messages='[\"Start Time: Thursday, July 6, 2023 7:39:08 PM\",\"Succeeded at Thursday, July 6, 2023 7:39:08 PM (Elapsed Time: 0.34 seconds)\"]' data-show='true'><div id = 'default' /></div></div>"
      ],
      "text/plain": [
       "<Result 'D:\\\\SE_Blueprint_2023\\\\2_FullExtent\\\\FullExt.gdb\\\\MergeSubRgnNoSA'>"
      ]
     },
     "execution_count": 29,
     "metadata": {},
     "output_type": "execute_result"
    }
   ],
   "source": [
    "# merge all subregions except South Atlantic, because that one has problems\n",
    "arcpy.management.Merge(\"BaseSubRgnRDis;GOMmp;VIPRp\", r\"MergeSubRgnNoSA\", 'SubRgn \"SubRgn\" true true false 27 Text 0 0,First,#,BaseSubRgnRDis,SubRgn,0,27,GOMmp,SubRgn,0,512,VIPRp,SubRgn,0,512', \"NO_SOURCE_INFO\")"
   ]
  },
  {
   "cell_type": "code",
   "execution_count": 30,
   "metadata": {},
   "outputs": [
    {
     "data": {
      "text/html": [
       "<div class='gpresult'><h2>Messages</h2><div id='messages' data-messages='[\"Start Time: Thursday, July 6, 2023 7:39:08 PM\",\"Sorting Attributes...\",\"Dissolving...\",\"Succeeded at Thursday, July 6, 2023 7:39:09 PM (Elapsed Time: 0.47 seconds)\"]' data-show='true'><div id = 'default' /></div></div>"
      ],
      "text/plain": [
       "<Result 'D:\\\\SE_Blueprint_2023\\\\2_FullExtent\\\\FullExt.gdb\\\\MergeSubRgnNoSADis'>"
      ]
     },
     "execution_count": 30,
     "metadata": {},
     "output_type": "execute_result"
    }
   ],
   "source": [
    "# Dissolve to clean up\n",
    "arcpy.management.Dissolve(\"MergeSubRgnNoSA\", \"MergeSubRgnNoSADis\", \"SubRgn\", None, \"MULTI_PART\", \"DISSOLVE_LINES\")"
   ]
  },
  {
   "cell_type": "markdown",
   "metadata": {},
   "source": [
    "### Use Yvonne's full marine raster to add in South Atlantic marine\n",
    "This was the only thing I was able to get to work without slivers, so long as I paired it with the raster gulf layer from Yvonne."
   ]
  },
  {
   "cell_type": "code",
   "execution_count": 31,
   "metadata": {},
   "outputs": [
    {
     "data": {
      "text/html": [
       "<div class='gpresult'><h2>Messages</h2><div id='messages' data-messages='[\"Start Time: Thursday, July 6, 2023 7:39:09 PM\",\"Succeeded at Thursday, July 6, 2023 7:40:34 PM (Elapsed Time: 1 minutes 24 seconds)\"]' data-show='true'><div id = 'default' /></div></div>"
      ],
      "text/plain": [
       "<Result 'D:\\\\SE_Blueprint_2023\\\\2_FullExtent\\\\FullExt.gdb\\\\MarineRasterp'>"
      ]
     },
     "execution_count": 31,
     "metadata": {},
     "output_type": "execute_result"
    }
   ],
   "source": [
    "# use the full marine raster to add in the South Atlantic portion\n",
    "# convert raster to vector\n",
    "arcpy.conversion.RasterToPolygon(MarineRaster, \"MarineRasterp\", \"NO_SIMPLIFY\", \"Value\", \"SINGLE_OUTER_PART\", None)"
   ]
  },
  {
   "cell_type": "code",
   "execution_count": 32,
   "metadata": {},
   "outputs": [
    {
     "data": {
      "text/html": [
       "<div class='gpresult'><h2>Messages</h2><div id='messages' data-messages='[\"Start Time: Thursday, July 6, 2023 7:40:34 PM\",\"Adding SubRgn to MarineRasterp...\",\"Succeeded at Thursday, July 6, 2023 7:40:34 PM (Elapsed Time: 0.06 seconds)\"]' data-show='true'><div id = 'default' /></div></div>"
      ],
      "text/plain": [
       "<Result 'D:\\\\SE_Blueprint_2023\\\\2_FullExtent\\\\FullExt.gdb\\\\MarineRasterp'>"
      ]
     },
     "execution_count": 32,
     "metadata": {},
     "output_type": "execute_result"
    }
   ],
   "source": [
    "# add field for subregion\n",
    "arcpy.management.CalculateField(\"MarineRasterp\", \"SubRgn\", '\"Atlantic Marine\"', \"PYTHON3\", '', \"TEXT\")"
   ]
  },
  {
   "cell_type": "code",
   "execution_count": 33,
   "metadata": {},
   "outputs": [
    {
     "data": {
      "text/html": [
       "<div class='gpresult'><h2>Messages</h2><div id='messages' data-messages='[\"Start Time: Thursday, July 6, 2023 7:40:34 PM\",\"Reading Features...\",\"Cracking Features...\",\"Assembling Features...\",\"Succeeded at Thursday, July 6, 2023 7:40:37 PM (Elapsed Time: 2.62 seconds)\"]' data-show='true'><div id = 'default' /></div></div>"
      ],
      "text/plain": [
       "<Result 'D:\\\\SE_Blueprint_2023\\\\2_FullExtent\\\\FullExt.gdb\\\\erase'>"
      ]
     },
     "execution_count": 33,
     "metadata": {},
     "output_type": "execute_result"
    }
   ],
   "source": [
    "# erase the GOM from the above raster\n",
    "arcpy.analysis.Erase(\"MarineRasterp\", \"MergeSubRgnNoSADis\", \"erase\", None)"
   ]
  },
  {
   "cell_type": "markdown",
   "metadata": {},
   "source": [
    "### Merge previously created inland/Gulf/VIPR with the above South Atlantic Marine"
   ]
  },
  {
   "cell_type": "code",
   "execution_count": 34,
   "metadata": {},
   "outputs": [
    {
     "data": {
      "text/html": [
       "<div class='gpresult'><h2>Messages</h2><div id='messages' data-messages='[\"Start Time: Thursday, July 6, 2023 7:40:37 PM\",\"Succeeded at Thursday, July 6, 2023 7:40:37 PM (Elapsed Time: 0.33 seconds)\"]' data-show='true'><div id = 'default' /></div></div>"
      ],
      "text/plain": [
       "<Result 'D:\\\\SE_Blueprint_2023\\\\2_FullExtent\\\\FullExt.gdb\\\\MergeSubRgn'>"
      ]
     },
     "execution_count": 34,
     "metadata": {},
     "output_type": "execute_result"
    }
   ],
   "source": [
    "# merge again, now including SA marine created from full marine\n",
    "arcpy.management.Merge(\"MergeSubRgnNoSADis;erase\", \"MergeSubRgn\", 'SubRgn \"SubRgn\" true true false 27 Text 0 0,First,#,MergeSubRgnNoSADis,SubRgn,0,27,erase,SubRgn,0,512', \"NO_SOURCE_INFO\")"
   ]
  },
  {
   "cell_type": "markdown",
   "metadata": {},
   "source": [
    "### do some testing for slivers and holes\n",
    "I need to check this output to make sure that there are no slivers"
   ]
  },
  {
   "cell_type": "code",
   "execution_count": 35,
   "metadata": {},
   "outputs": [
    {
     "data": {
      "text/html": [
       "<div class='gpresult'><h2>Messages</h2><div id='messages' data-messages='[\"Start Time: Thursday, July 6, 2023 7:40:37 PM\",\"Reading Features...\",\"Cracking Features...\",\"Assembling Features...\",\"Succeeded at Thursday, July 6, 2023 7:40:44 PM (Elapsed Time: 6.46 seconds)\"]' data-show='true'><div id = 'default' /></div></div>"
      ],
      "text/plain": [
       "<Result 'D:\\\\SE_Blueprint_2023\\\\2_FullExtent\\\\FullExt.gdb\\\\GapCheck'>"
      ]
     },
     "execution_count": 35,
     "metadata": {},
     "output_type": "execute_result"
    }
   ],
   "source": [
    "# union with a big square to try to find holes\n",
    "arcpy.analysis.Union([Square, \"MergeSubRgn\"], \"GapCheck\", \"ALL\", None, \"NO_GAPS\")"
   ]
  },
  {
   "cell_type": "code",
   "execution_count": 40,
   "metadata": {},
   "outputs": [
    {
     "data": {
      "text/html": [
       "<div class='gpresult'><h2>Messages</h2><div id='messages' data-messages='[\"Start Time: Thursday, July 6, 2023 9:41:24 PM\",\"Succeeded at Thursday, July 6, 2023 9:41:24 PM (Elapsed Time: 0.27 seconds)\"]' data-show='true'><div id = 'default' /></div></div>"
      ],
      "text/plain": [
       "<Result 'D:\\\\SE_Blueprint_2023\\\\2_FullExtent\\\\FullExt.gdb\\\\SEBlueprint2023SubregionsVIPR6'>"
      ]
     },
     "execution_count": 40,
     "metadata": {},
     "output_type": "execute_result"
    }
   ],
   "source": [
    "# I didn't find any slivers in the GapCheck layer, so I'm ready to export this subregion vector\n",
    "# make a copy of this just to change the name\n",
    "arcpy.management.CopyFeatures(\"MergeSubRgn\", Out2, '', None, None, None)"
   ]
  },
  {
   "cell_type": "code",
   "execution_count": 44,
   "metadata": {},
   "outputs": [],
   "source": [
    "# export subregion vector layer to shapefile\n",
    "with arcpy.EnvManager(outputCoordinateSystem=sr, extent = \"BaseVIPR27km\"):\n",
    "    arcpy.conversion.FeatureClassToShapefile(Out2, Out2Folder)"
   ]
  },
  {
   "cell_type": "markdown",
   "metadata": {},
   "source": [
    "### Make a layer showing the full extent of the SE Blueprint 2023"
   ]
  },
  {
   "cell_type": "code",
   "execution_count": 42,
   "metadata": {},
   "outputs": [
    {
     "data": {
      "text/html": [
       "<div class='gpresult'><h2>Messages</h2><div id='messages' data-messages='[\"Start Time: Thursday, July 6, 2023 9:44:14 PM\",\"Adding raster to MergeSubRgn...\",\"Succeeded at Thursday, July 6, 2023 9:44:14 PM (Elapsed Time: 0.08 seconds)\"]' data-show='true'><div id = 'default' /></div></div>"
      ],
      "text/plain": [
       "<Result 'D:\\\\SE_Blueprint_2023\\\\2_FullExtent\\\\FullExt.gdb\\\\MergeSubRgn'>"
      ]
     },
     "execution_count": 42,
     "metadata": {},
     "output_type": "execute_result"
    }
   ],
   "source": [
    "# add a field to vector subregion layer for raster converion\n",
    "arcpy.management.CalculateField(\"MergeSubRgn\", \"raster\", \"1\", \"PYTHON3\", '', \"SHORT\")"
   ]
  },
  {
   "cell_type": "code",
   "execution_count": 43,
   "metadata": {},
   "outputs": [],
   "source": [
    "# convert new to raster \n",
    "with arcpy.EnvManager(outputCoordinateSystem=sr, snapRaster=Rextent, extent = \"BaseVIPR27km\"):\n",
    "    arcpy.conversion.FeatureToRaster(in_features=\"MergeSubRgn\", field=\"raster\", out_raster=Out3, cell_size=Rextent)"
   ]
  },
  {
   "cell_type": "code",
   "execution_count": null,
   "metadata": {},
   "outputs": [],
   "source": []
  },
  {
   "cell_type": "code",
   "execution_count": null,
   "metadata": {},
   "outputs": [],
   "source": [
    "end = time.time()\n",
    "print(end - start)"
   ]
  },
  {
   "cell_type": "code",
   "execution_count": null,
   "metadata": {},
   "outputs": [],
   "source": []
  }
 ],
 "metadata": {
  "kernelspec": {
   "display_name": "ArcGISPro",
   "language": "Python",
   "name": "python3"
  },
  "language_info": {
   "file_extension": ".py",
   "name": "python",
   "version": "3"
  }
 },
 "nbformat": 4,
 "nbformat_minor": 2
}
