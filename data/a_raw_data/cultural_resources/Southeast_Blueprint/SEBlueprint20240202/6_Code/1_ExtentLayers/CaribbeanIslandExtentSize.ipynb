{
 "cells": [
  {
   "cell_type": "markdown",
   "metadata": {},
   "source": [
    "# Islands\n",
    "\n",
    "In the Virgin Islands / Puerto Rico area we are running into several places where it would be helpful to have a consistent 30 meter raster depiction of islands.\n",
    "\n",
    "This is an attempt to make that.\n",
    "\n",
    "We are using the CUSP shorelines for an indicator, and they have a pretty detailed shoreline, so we are going to try to match to that.\n",
    "\n",
    "Because I am doing a layer select, this code doesn't work unless is is run with an open map in Pro"
   ]
  },
  {
   "cell_type": "code",
   "execution_count": 82,
   "metadata": {},
   "outputs": [],
   "source": [
    "import os\n",
    "import arcpy"
   ]
  },
  {
   "cell_type": "code",
   "execution_count": 83,
   "metadata": {},
   "outputs": [],
   "source": [
    "import time\n",
    "start = time.time()"
   ]
  },
  {
   "cell_type": "code",
   "execution_count": 84,
   "metadata": {},
   "outputs": [],
   "source": [
    "# define spatial reference and workspaces\n",
    "sr= arcpy.SpatialReference(5070)\n",
    "#SourceWorkspace= \n",
    "OutWorkspace= r\"D:\\SE_Blueprint_2023\\Islands\\Isl.gdb\""
   ]
  },
  {
   "cell_type": "code",
   "execution_count": 85,
   "metadata": {},
   "outputs": [],
   "source": [
    "# define final indicator outputs\n",
    "Out = r\"D:\\SE_Blueprint_2023\\Islands\\IslandsR.tif\"\n",
    "Out2 = r\"D:\\SE_Blueprint_2023\\Islands\\Islands3Size.tif\"\n",
    "OutL = r\"D:\\SE_Blueprint_2023\\Islands\\IslandLarge.tif\"\n",
    "OutM = r\"D:\\SE_Blueprint_2023\\Islands\\IslandMedium.tif\"\n",
    "OutS = r\"D:\\SE_Blueprint_2023\\Islands\\IslandSmall.tif\"\n",
    "OutMar = r\"D:\\SE_Blueprint_2023\\Islands\\Marine.tif\"\n",
    "OutSMar = r\"D:\\SE_Blueprint_2023\\Islands\\IslandSmallOrMarine.tif\""
   ]
  },
  {
   "cell_type": "code",
   "execution_count": 86,
   "metadata": {},
   "outputs": [],
   "source": [
    "# define sub-indicator outputs to help with user support\n"
   ]
  },
  {
   "cell_type": "code",
   "execution_count": 87,
   "metadata": {},
   "outputs": [],
   "source": [
    "# define rasters used for cell size, extent, and snapping\n",
    "Rextent= r\"D:\\SE_Blueprint_2023\\1_VIPR_Extent\\VIPR_Extent_v6.tif\""
   ]
  },
  {
   "cell_type": "code",
   "execution_count": 88,
   "metadata": {},
   "outputs": [],
   "source": [
    "# define inputs\n",
    "\n",
    "# since the catchments don't cover the small islands, we need to make a layer for those islands\n",
    "# I'm using the CUSP shoreline data, since it seems to have more recent shorelines\n",
    "shore =r\"F:\\GIS_DATA\\LanduseLandcover\\CUSP_Shoreline\\Southeast_Caribbean\\Southeast_Caribbean.shp\"\n"
   ]
  },
  {
   "cell_type": "markdown",
   "metadata": {},
   "source": [
    "### Start Analysis"
   ]
  },
  {
   "cell_type": "code",
   "execution_count": 89,
   "metadata": {},
   "outputs": [],
   "source": [
    "# Set the workspace where I want the output to go\n",
    "arcpy.env.workspace = OutWorkspace"
   ]
  },
  {
   "cell_type": "code",
   "execution_count": 90,
   "metadata": {},
   "outputs": [
    {
     "name": "stdout",
     "output_type": "stream",
     "text": [
      "D:\\SE_Blueprint_2023\\Islands\\Isl.gdb\n"
     ]
    }
   ],
   "source": [
    "# Print the current workspace to make sure I'm in the right spot\n",
    "print(arcpy.env.workspace)"
   ]
  },
  {
   "cell_type": "markdown",
   "metadata": {},
   "source": [
    "### make islands"
   ]
  },
  {
   "cell_type": "code",
   "execution_count": 91,
   "metadata": {},
   "outputs": [],
   "source": [
    "# make a copy of the shoreline dataset that only covers VIPR, reproject to our projection\n",
    "with arcpy.EnvManager(outputCoordinateSystem=sr, extent=Rextent):\n",
    "    arcpy.management.CopyFeatures(shore, \"shore1\", '', None, None, None)"
   ]
  },
  {
   "cell_type": "code",
   "execution_count": 92,
   "metadata": {},
   "outputs": [
    {
     "data": {
      "text/html": [
       "<div class='gpresult'><h2>Messages</h2><div id='messages' data-messages='[\"Start Time: Thursday, July 13, 2023 7:29:26 PM\",\"Adding dis to shore1...\",\"Succeeded at Thursday, July 13, 2023 7:29:26 PM (Elapsed Time: 0.33 seconds)\"]' data-show='true'><div id = 'default' /></div></div>"
      ],
      "text/plain": [
       "<Result 'D:\\\\SE_Blueprint_2023\\\\Islands\\\\Isl.gdb\\\\shore1'>"
      ]
     },
     "execution_count": 92,
     "metadata": {},
     "output_type": "execute_result"
    }
   ],
   "source": [
    "# add and calculate a field to disolve on\n",
    "arcpy.management.CalculateField(\"shore1\", \"dis\", \"1\", \"PYTHON3\", \"\", \"LONG\")"
   ]
  },
  {
   "cell_type": "code",
   "execution_count": 93,
   "metadata": {},
   "outputs": [
    {
     "data": {
      "text/html": [
       "<div class='gpresult'><h2>Messages</h2><div id='messages' data-messages='[\"Start Time: Thursday, July 13, 2023 7:29:26 PM\",\"Sorting Attributes...\",\"Dissolving...\",\"Succeeded at Thursday, July 13, 2023 7:29:51 PM (Elapsed Time: 24.55 seconds)\"]' data-show='true'><div id = 'default' /></div></div>"
      ],
      "text/plain": [
       "<Result 'D:\\\\SE_Blueprint_2023\\\\Islands\\\\Isl.gdb\\\\shore1Dis'>"
      ]
     },
     "execution_count": 93,
     "metadata": {},
     "output_type": "execute_result"
    }
   ],
   "source": [
    "# dissolve the shorelines to see where they don't connect\n",
    "arcpy.management.Dissolve(\"shore1\", \"shore1Dis\", \"dis\", None, \"SINGLE_PART\", \"DISSOLVE_LINES\")"
   ]
  },
  {
   "cell_type": "markdown",
   "metadata": {},
   "source": [
    "### Do some weird stuff to get the PR polygon to close\n",
    "\n",
    "The CUSP data doesn't close the polygons on the big island of Puerto Rico, so I have to do some werid stuff to get that one.\n"
   ]
  },
  {
   "cell_type": "code",
   "execution_count": 94,
   "metadata": {},
   "outputs": [
    {
     "data": {
      "text/html": [
       "<div class='gpresult'><h2>Messages</h2><div id='messages' data-messages='[\"Start Time: Thursday, July 13, 2023 7:29:51 PM\",\"Succeeded at Thursday, July 13, 2023 7:29:51 PM (Elapsed Time: 0.33 seconds)\"]' data-show='true'><div id = 'default' /></div></div>"
      ],
      "text/plain": [
       "<Result 'D:\\\\SE_Blueprint_2023\\\\Islands\\\\Isl.gdb\\\\shore1DisEdit'>"
      ]
     },
     "execution_count": 94,
     "metadata": {},
     "output_type": "execute_result"
    }
   ],
   "source": [
    "# make a copy of the dissolved shorelines so we'll have one to edit and one to save\n",
    "arcpy.management.CopyFeatures(\"shore1Dis\", \"shore1DisEdit\", '', None, None, None)"
   ]
  },
  {
   "cell_type": "code",
   "execution_count": 95,
   "metadata": {},
   "outputs": [],
   "source": [
    "# Use the integrate tool to snap nearby nodes together, to collapse the lines on the big island of PR\n",
    "# we need this for the big island of PR, but we are doing it for everything here\n",
    "with arcpy.EnvManager(XYTolerance=\"8 Meters\"):\n",
    "    arcpy.analysis.PairwiseIntegrate(\"shore1DisEdit\", None)"
   ]
  },
  {
   "cell_type": "code",
   "execution_count": 96,
   "metadata": {},
   "outputs": [],
   "source": [
    "# convert modified shore lines to polygons\n",
    "with arcpy.EnvManager(outputCoordinateSystem=sr, extent=Rextent):\n",
    "    arcpy.management.FeatureToPolygon(\"shore1DisEdit\", \"Prtest\", None, \"NO_ATTRIBUTES\", None)"
   ]
  },
  {
   "cell_type": "code",
   "execution_count": 97,
   "metadata": {},
   "outputs": [
    {
     "data": {
      "text/html": [
       "<div class='gpresult'><h2>Messages</h2><div id='messages' data-messages='[\"Start Time: Thursday, July 13, 2023 7:29:55 PM\",\"Adding dissolve to PrTest...\",\"Succeeded at Thursday, July 13, 2023 7:29:55 PM (Elapsed Time: 0.09 seconds)\"]' data-show='true'><div id = 'default' /></div></div>"
      ],
      "text/plain": [
       "<Result 'D:\\\\SE_Blueprint_2023\\\\Islands\\\\Isl.gdb\\\\PrTest'>"
      ]
     },
     "execution_count": 97,
     "metadata": {},
     "output_type": "execute_result"
    }
   ],
   "source": [
    "# add a field so we can dissolve\n",
    "arcpy.management.CalculateField(\"PrTest\", \"dissolve\", \"1\", \"PYTHON3\", '', \"SHORT\", \"NO_ENFORCE_DOMAINS\")"
   ]
  },
  {
   "cell_type": "code",
   "execution_count": 98,
   "metadata": {},
   "outputs": [
    {
     "data": {
      "text/html": [
       "<div class='gpresult'><h2>Messages</h2><div id='messages' data-messages='[\"Start Time: Thursday, July 13, 2023 7:29:55 PM\",\"Sorting Attributes...\",\"Dissolving...\",\"Succeeded at Thursday, July 13, 2023 7:29:55 PM (Elapsed Time: 0.26 seconds)\"]' data-show='true'><div id = 'default' /></div></div>"
      ],
      "text/plain": [
       "<Result 'D:\\\\SE_Blueprint_2023\\\\Islands\\\\Isl.gdb\\\\PrTestDis'>"
      ]
     },
     "execution_count": 98,
     "metadata": {},
     "output_type": "execute_result"
    }
   ],
   "source": [
    "# dissolve islands so that waterbodies on islands are included as a part of the island\n",
    "arcpy.management.Dissolve(\"PrTest\", \"PrTestDis\", \"dissolve\", None, \"SINGLE_PART\", \"DISSOLVE_LINES\")"
   ]
  },
  {
   "cell_type": "code",
   "execution_count": 99,
   "metadata": {},
   "outputs": [
    {
     "data": {
      "text/html": [
       "<div class='gpresult'><h2>Messages</h2><div id='messages' data-messages='[\"Start Time: Thursday, July 13, 2023 7:29:55 PM\",\"Succeeded at Thursday, July 13, 2023 7:29:56 PM (Elapsed Time: 0.15 seconds)\"]' data-show='true'><div id = 'default' /></div></div>"
      ],
      "text/plain": [
       "<Result 'D:\\\\SE_Blueprint_2023\\\\Islands\\\\Isl.gdb\\\\PR'>"
      ]
     },
     "execution_count": 99,
     "metadata": {},
     "output_type": "execute_result"
    }
   ],
   "source": [
    "# select out the big island of PR\n",
    "arcpy.analysis.Select(\"PrTestDis\", \"PR\", \"Shape_Area > 8000000000\")"
   ]
  },
  {
   "cell_type": "markdown",
   "metadata": {},
   "source": [
    "### Make the rest of the islands\n",
    "\n",
    "Now I need to go back and make the rest of the islands"
   ]
  },
  {
   "cell_type": "code",
   "execution_count": 100,
   "metadata": {},
   "outputs": [],
   "source": [
    "# convert shore lines to polygons\n",
    "with arcpy.EnvManager(outputCoordinateSystem=sr, extent=Rextent):\n",
    "    arcpy.management.FeatureToPolygon(\"shore1Dis\", \"islandtest\", None, \"NO_ATTRIBUTES\", None)"
   ]
  },
  {
   "cell_type": "code",
   "execution_count": 101,
   "metadata": {},
   "outputs": [
    {
     "data": {
      "text/html": [
       "<div class='gpresult'><h2>Messages</h2><div id='messages' data-messages='[\"Start Time: Thursday, July 13, 2023 7:30:05 PM\",\"Adding dissolve to islandTest...\",\"Succeeded at Thursday, July 13, 2023 7:30:05 PM (Elapsed Time: 0.20 seconds)\"]' data-show='true'><div id = 'default' /></div></div>"
      ],
      "text/plain": [
       "<Result 'D:\\\\SE_Blueprint_2023\\\\Islands\\\\Isl.gdb\\\\islandTest'>"
      ]
     },
     "execution_count": 101,
     "metadata": {},
     "output_type": "execute_result"
    }
   ],
   "source": [
    "# add a field so we can dissolve\n",
    "arcpy.management.CalculateField(\"islandTest\", \"dissolve\", \"1\", \"PYTHON3\", '', \"SHORT\", \"NO_ENFORCE_DOMAINS\")"
   ]
  },
  {
   "cell_type": "code",
   "execution_count": 102,
   "metadata": {},
   "outputs": [
    {
     "data": {
      "text/html": [
       "<div class='gpresult'><h2>Messages</h2><div id='messages' data-messages='[\"Start Time: Thursday, July 13, 2023 7:30:05 PM\",\"Sorting Attributes...\",\"Dissolving...\",\"Succeeded at Thursday, July 13, 2023 7:30:13 PM (Elapsed Time: 7.06 seconds)\"]' data-show='true'><div id = 'default' /></div></div>"
      ],
      "text/plain": [
       "<Result 'D:\\\\SE_Blueprint_2023\\\\Islands\\\\Isl.gdb\\\\islandTestdis'>"
      ]
     },
     "execution_count": 102,
     "metadata": {},
     "output_type": "execute_result"
    }
   ],
   "source": [
    "# dissolve islands so that waterbodies on islands are included as a part of the island\n",
    "arcpy.management.Dissolve(\"islandTest\", \"islandTestdis\", \"dissolve\", None, \"SINGLE_PART\", \"DISSOLVE_LINES\")"
   ]
  },
  {
   "cell_type": "markdown",
   "metadata": {},
   "source": [
    "### Make the rest of the islands\n",
    "\n",
    "Now I need to keep only the PR island and the other islands"
   ]
  },
  {
   "cell_type": "code",
   "execution_count": 103,
   "metadata": {},
   "outputs": [],
   "source": [
    "# remove most island areas that overlap with the big PR island I just made\n",
    "\n",
    "# first I do a select\n",
    "\n",
    "with arcpy.EnvManager(outputCoordinateSystem=sr, extent=Rextent):\n",
    "    arcpy.management.SelectLayerByLocation(\"islandtestdis\", \"INTERSECT\", \"PR\", \"\", \"NEW_SELECTION\", \"INVERT\")\n",
    "    # add back in the south part of Culebra\n",
    "    arcpy.management.SelectLayerByAttribute(\"islandtestdis\", \"ADD_TO_SELECTION\", \"Shape_Area > 2610000 And Shape_Area < 2620000\", None)\n"
   ]
  },
  {
   "cell_type": "code",
   "execution_count": 104,
   "metadata": {},
   "outputs": [],
   "source": [
    "# Now I make a new layer based on that select\n",
    "\n",
    "with arcpy.EnvManager(outputCoordinateSystem=sr, extent=Rextent):\n",
    "    arcpy.management.CopyFeatures(\"islandtestdis\", \"islandNoIntersect\", '', None, None, None)\n"
   ]
  },
  {
   "cell_type": "code",
   "execution_count": 105,
   "metadata": {},
   "outputs": [
    {
     "data": {
      "text/html": [
       "<div class='gpresult'><h2>Messages</h2><div id='messages' data-messages='[\"Start Time: Thursday, July 13, 2023 7:30:13 PM\",\"Succeeded at Thursday, July 13, 2023 7:30:14 PM (Elapsed Time: 0.01 seconds)\"]' data-show='true'><div id = 'default' /></div></div>"
      ],
      "text/plain": [
       "<Result 'islandtestdis_Layer26'>"
      ]
     },
     "execution_count": 105,
     "metadata": {},
     "output_type": "execute_result"
    }
   ],
   "source": [
    "# Now I clear that selection\n",
    "arcpy.management.SelectLayerByAttribute(\"islandtestdis\", \"CLEAR_SELECTION\", \"\", None)\n"
   ]
  },
  {
   "cell_type": "code",
   "execution_count": 106,
   "metadata": {},
   "outputs": [],
   "source": [
    "# remove remaining islands smaller than 900 square meters\n",
    "#arcpy.analysis.Select(\"islandNoIntersect\", \"islands\", \"Shape_Area > 900\")"
   ]
  },
  {
   "cell_type": "code",
   "execution_count": 107,
   "metadata": {},
   "outputs": [
    {
     "data": {
      "text/html": [
       "<div class='gpresult'><h2>Messages</h2><div id='messages' data-messages='[\"Start Time: Thursday, July 13, 2023 7:30:14 PM\",\"Adding IslandID to islandNoIntersect...\",\"Succeeded at Thursday, July 13, 2023 7:30:14 PM (Elapsed Time: 0.20 seconds)\"]' data-show='true'><div id = 'default' /></div></div>"
      ],
      "text/plain": [
       "<Result 'D:\\\\SE_Blueprint_2023\\\\Islands\\\\Isl.gdb\\\\islandNoIntersect'>"
      ]
     },
     "execution_count": 107,
     "metadata": {},
     "output_type": "execute_result"
    }
   ],
   "source": [
    "# add an id field\n",
    "arcpy.management.CalculateField(\"islandNoIntersect\", \"IslandID\", \"!OBJECTID!\", \"PYTHON3\", '', \"SHORT\", \"NO_ENFORCE_DOMAINS\")"
   ]
  },
  {
   "cell_type": "code",
   "execution_count": 108,
   "metadata": {},
   "outputs": [],
   "source": [
    "# merge Islands with the PR big island\n",
    "with arcpy.EnvManager(outputCoordinateSystem=sr, extent=Rextent):\n",
    "    arcpy.analysis.Union([\"islandNoIntersect\",\"PR\"], \"islands\", \"ALL\", None, \"GAPS\")"
   ]
  },
  {
   "cell_type": "code",
   "execution_count": 109,
   "metadata": {},
   "outputs": [
    {
     "data": {
      "text/html": [
       "<div class='gpresult'><h2>Messages</h2><div id='messages' data-messages='[\"Start Time: Thursday, July 13, 2023 7:30:21 PM\",\"Adding UniqID to islands...\",\"Succeeded at Thursday, July 13, 2023 7:30:21 PM (Elapsed Time: 0.29 seconds)\"]' data-show='true'><div id = 'default' /></div></div>"
      ],
      "text/plain": [
       "<Result 'D:\\\\SE_Blueprint_2023\\\\Islands\\\\Isl.gdb\\\\islands'>"
      ]
     },
     "execution_count": 109,
     "metadata": {},
     "output_type": "execute_result"
    }
   ],
   "source": [
    "# create a field to make uniqu ids for islands\n",
    "arcpy.management.CalculateField(\"islands\", \"UniqID\", \"!OBJECTID!\", \"PYTHON3\", '', \"SHORT\", \"NO_ENFORCE_DOMAINS\")"
   ]
  },
  {
   "cell_type": "code",
   "execution_count": 110,
   "metadata": {},
   "outputs": [
    {
     "data": {
      "text/html": [
       "<div class='gpresult'><h2>Messages</h2><div id='messages' data-messages='[\"Start Time: Thursday, July 13, 2023 7:30:22 PM\",\"Adding raster to islands...\",\"Succeeded at Thursday, July 13, 2023 7:30:22 PM (Elapsed Time: 0.18 seconds)\"]' data-show='true'><div id = 'default' /></div></div>"
      ],
      "text/plain": [
       "<Result 'D:\\\\SE_Blueprint_2023\\\\Islands\\\\Isl.gdb\\\\islands'>"
      ]
     },
     "execution_count": 110,
     "metadata": {},
     "output_type": "execute_result"
    }
   ],
   "source": [
    "# create a field to convert to raster\n",
    "arcpy.management.CalculateField(\"islands\", \"raster\", \"1\", \"PYTHON3\", '', \"SHORT\", \"NO_ENFORCE_DOMAINS\")"
   ]
  },
  {
   "cell_type": "code",
   "execution_count": null,
   "metadata": {},
   "outputs": [],
   "source": []
  },
  {
   "cell_type": "code",
   "execution_count": 111,
   "metadata": {},
   "outputs": [],
   "source": [
    "# convert polygons to raster\n",
    "with arcpy.EnvManager(outputCoordinateSystem=sr, extent=Rextent, snapRaster=Rextent, cellSize=Rextent):\n",
    "    arcpy.conversion.FeatureToRaster(\"islands\", \"raster\", \"islandsR\", 30)"
   ]
  },
  {
   "cell_type": "code",
   "execution_count": 112,
   "metadata": {},
   "outputs": [],
   "source": [
    "# convert lines to raster\n",
    "with arcpy.EnvManager(outputCoordinateSystem=sr, extent=Rextent, snapRaster=Rextent, cellSize=Rextent):\n",
    "    arcpy.conversion.FeatureToRaster(\"shore1\", \"dis\", \"shore1R\", 30)"
   ]
  },
  {
   "cell_type": "code",
   "execution_count": 113,
   "metadata": {},
   "outputs": [],
   "source": [
    "# combine \n",
    "out_raster = arcpy.sa.CellStatistics(\"islandsR;shore1R\", \"MAXIMUM\", \"DATA\", \"SINGLE_BAND\", 90, \"AUTO_DETECT\"); out_raster.save(\"islandsR2\")"
   ]
  },
  {
   "cell_type": "code",
   "execution_count": null,
   "metadata": {},
   "outputs": [],
   "source": []
  },
  {
   "cell_type": "code",
   "execution_count": 114,
   "metadata": {},
   "outputs": [],
   "source": [
    "# clump to give unique values to individual islands\n",
    "out_raster = arcpy.sa.RegionGroup(\"islandsR2\", \"FOUR\", \"WITHIN\", \"ADD_LINK\", None); out_raster.save(\"islands2rg\")"
   ]
  },
  {
   "cell_type": "code",
   "execution_count": 115,
   "metadata": {},
   "outputs": [],
   "source": [
    "# reclassify to make 3 island size classes to distinguish the big island of PR from medium sized islands\n",
    "# from small islands. Also make not islands a 1, so we can use that for marine\n",
    "with arcpy.EnvManager(outputCoordinateSystem=sr, extent=Rextent, snapRaster=Rextent, cellSize=Rextent):\n",
    "    out_raster = arcpy.sa.Reclassify(\"islands2rg\", \"Count\", \"NODATA 1;0 30000 2;30000 8000000 3; 8000000 10000000 4\", \"DATA\"); out_raster.save(\"island3size\")"
   ]
  },
  {
   "cell_type": "code",
   "execution_count": 116,
   "metadata": {},
   "outputs": [],
   "source": [
    "# make a raster for the big island\n",
    "out_raster= arcpy.sa.Con(\"island3size\", 1, 0, \"Value = 4\"); out_raster.save(OutL)"
   ]
  },
  {
   "cell_type": "code",
   "execution_count": 117,
   "metadata": {},
   "outputs": [],
   "source": [
    "# make a raster for the medium islands\n",
    "out_raster= arcpy.sa.Con(\"island3size\", 1, 0, \"Value = 3\"); out_raster.save(OutM)"
   ]
  },
  {
   "cell_type": "code",
   "execution_count": 118,
   "metadata": {},
   "outputs": [],
   "source": [
    "# make a raster for the smaill islands\n",
    "out_raster= arcpy.sa.Con(\"island3size\", 1, 0, \"Value = 2\"); out_raster.save(OutS)"
   ]
  },
  {
   "cell_type": "code",
   "execution_count": 119,
   "metadata": {},
   "outputs": [],
   "source": [
    "# make a raster for the smaill island plus marine\n",
    "out_raster = arcpy.sa.Con(\"island3size\", 1, 0, \"Value IN (1, 2)\"); out_raster.save(OutSMar)"
   ]
  },
  {
   "cell_type": "code",
   "execution_count": 120,
   "metadata": {},
   "outputs": [],
   "source": [
    "# make a raster for the marine only\n",
    "out_raster= arcpy.sa.Con(\"island3size\", 1, 0, \"Value = 1\"); out_raster.save(OutMar)"
   ]
  },
  {
   "cell_type": "code",
   "execution_count": 122,
   "metadata": {},
   "outputs": [
    {
     "data": {
      "text/html": [
       "<div class='gpresult'><h2>Messages</h2><div id='messages' data-messages='[\"Start Time: Thursday, July 13, 2023 7:35:30 PM\",\"Succeeded at Thursday, July 13, 2023 7:35:30 PM (Elapsed Time: 0.30 seconds)\"]' data-show='true'><div id = 'default' /></div></div>"
      ],
      "text/plain": [
       "<Result 'D:\\\\SE_Blueprint_2023\\\\Islands\\\\Islands.shp'>"
      ]
     },
     "execution_count": 122,
     "metadata": {},
     "output_type": "execute_result"
    }
   ],
   "source": [
    "# export vector islands\n",
    "arcpy.management.CopyFeatures(\"islands\", r\"D:\\SE_Blueprint_2023\\Islands\\Islands.shp\", '', None, None, None)"
   ]
  },
  {
   "cell_type": "markdown",
   "metadata": {},
   "source": [
    "### Finalize indiator\n",
    "\n",
    "do final steps for all indicators to add description fields, clip and export to extent"
   ]
  },
  {
   "cell_type": "code",
   "execution_count": 123,
   "metadata": {},
   "outputs": [],
   "source": [
    "# set code block for next step\n",
    "\n",
    "codeblock = \"\"\"\n",
    "def Reclass(v):   \n",
    "\tif v == 4:\n",
    "\t\treturn '4 = Large island'\n",
    "\telif v == 3:\n",
    "\t\treturn '3 = Medium island'\n",
    "\telif v == 2:\n",
    "\t\treturn '2 = Small island'\n",
    "\telif v == 1:\n",
    "\t\treturn '1 = Marine'\n",
    "\"\"\""
   ]
  },
  {
   "cell_type": "code",
   "execution_count": 124,
   "metadata": {},
   "outputs": [
    {
     "data": {
      "text/html": [
       "<div class='gpresult'><h2>Messages</h2><div id='messages' data-messages='[\"Start Time: Thursday, July 13, 2023 7:35:31 PM\",\"Adding descript to VAT_island3size...\",\"Succeeded at Thursday, July 13, 2023 7:35:31 PM (Elapsed Time: 0.04 seconds)\"]' data-show='true'><div id = 'default' /></div></div>"
      ],
      "text/plain": [
       "<Result 'D:\\\\SE_Blueprint_2023\\\\Islands\\\\Isl.gdb\\\\island3size'>"
      ]
     },
     "execution_count": 124,
     "metadata": {},
     "output_type": "execute_result"
    }
   ],
   "source": [
    "# add and calculate description field to hold indicator values\n",
    "arcpy.management.CalculateField(\"island3size\", \"descript\", \"Reclass(!value!)\", \"PYTHON3\", codeblock, \"TEXT\")"
   ]
  },
  {
   "cell_type": "code",
   "execution_count": 125,
   "metadata": {
    "scrolled": true
   },
   "outputs": [],
   "source": [
    "# clip to extent\n",
    "# with arcpy.EnvManager(outputCoordinateSystem=sr, extent=Rextent, snapRaster=Rextent, cellSize=Rextent):\n",
    "#    out_raster = arcpy.sa.ExtractByMask(\"indicator\", Rextent); out_raster.save(\"indicator1\")"
   ]
  },
  {
   "cell_type": "code",
   "execution_count": 126,
   "metadata": {},
   "outputs": [],
   "source": [
    "# export as .tif \n",
    "with arcpy.EnvManager(outputCoordinateSystem=sr, extent=Rextent, snapRaster=Rextent, cellSize=Rextent):\n",
    "    arcpy.management.CopyRaster(\"island3size\", Out2, '', None, \"255\", \"NONE\", \"NONE\", \"8_BIT_UNSIGNED\", \"NONE\", \"NONE\", \"TIFF\", \"NONE\", \"CURRENT_SLICE\", \"NO_TRANSPOSE\")"
   ]
  },
  {
   "cell_type": "code",
   "execution_count": 127,
   "metadata": {},
   "outputs": [],
   "source": [
    "# export as .tif \n",
    "with arcpy.EnvManager(outputCoordinateSystem=sr, extent=Rextent, snapRaster=Rextent, cellSize=Rextent):\n",
    "    arcpy.management.CopyRaster(\"islandsR2\", Out, '', None, \"255\", \"NONE\", \"NONE\", \"8_BIT_UNSIGNED\", \"NONE\", \"NONE\", \"TIFF\", \"NONE\", \"CURRENT_SLICE\", \"NO_TRANSPOSE\")"
   ]
  },
  {
   "cell_type": "code",
   "execution_count": 128,
   "metadata": {},
   "outputs": [
    {
     "name": "stdout",
     "output_type": "stream",
     "text": [
      "368.6805348396301\n"
     ]
    }
   ],
   "source": [
    "# this prints the time it took this notebook to run in seconds\n",
    "end = time.time()\n",
    "print(end - start)"
   ]
  },
  {
   "cell_type": "code",
   "execution_count": null,
   "metadata": {},
   "outputs": [],
   "source": []
  },
  {
   "cell_type": "code",
   "execution_count": null,
   "metadata": {},
   "outputs": [],
   "source": []
  }
 ],
 "metadata": {
  "kernelspec": {
   "display_name": "ArcGISPro",
   "language": "Python",
   "name": "python3"
  },
  "language_info": {
   "file_extension": ".py",
   "name": "python",
   "version": "3"
  }
 },
 "nbformat": 4,
 "nbformat_minor": 2
}
