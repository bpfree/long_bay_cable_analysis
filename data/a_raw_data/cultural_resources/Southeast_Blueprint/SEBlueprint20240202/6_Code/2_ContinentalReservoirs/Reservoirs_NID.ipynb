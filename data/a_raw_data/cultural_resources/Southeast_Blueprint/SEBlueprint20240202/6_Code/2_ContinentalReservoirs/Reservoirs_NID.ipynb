{
 "cells": [
  {
   "cell_type": "markdown",
   "metadata": {},
   "source": [
    "# Reservoirs\n",
    "This code was used to identify reservoirs and that layer was then used to create the subregions and edges inputs for the 2022 SE blueprint\n",
    "\n",
    "Known issues: \n",
    "1. Some barriers are not included in the National Inventory of Dams (NID) and the adjacent impounded waterbodies are therefore omitted. These are mostly farm ponds, but may also include larger impoundments.  These need to be manually added in.  \n",
    "2. Some misclassifications exist in the NHD (e.g. reservoir classified as swamp/marsh or stream/river).  These need to be manually added in. \n",
    "\n",
    "Create a reservoir layer\n",
    "Options examined for identifying “Natural” Open Water vs. \"Reservoirs\":\n",
    "\n",
    "1. Pre-release of LAGOS - https://aslopubs.onlinelibrary.wiley.com/doi/10.1002/lol2.10203; Natural Lake / Reservoir Classification through machine learning; shoreline development index; NID; NWI; NHD – seems to rely most heavily on SDI a. Lake extent delineation is not robust b. I requested a pre-pub version of the data for LA and NC. NL/RES classification is ok for NC, but fails badly for LA. Examples: i. Aquaculture ponds classed as natural lakes ii. Natural coastal lakes - classed as res iii. Oxbows - classed as res\n",
    "2. USGS 1938 land cover raster – a. includes oldest dams (pre-1938) b. coarse resolution (250m)\n",
    "3. TNC resilient sites a. Removes all open water\n",
    "4. EPA ICLUS - https://www.epa.gov/gcx/iclus-downloads a. Relies on NHD identifications of reservoir/lake/pond which is horrible.\n",
    "5. Inundation Frequency (IF) is robust for open water extent at 20-30 m resolution: a. Can run for more recent years b. intersect with NLCD to exclude swamp, aquaculture\n",
    "6. Shoreline Development Index (SDI) only applied to NHD-HR a. same misclassification issues as in approach #1 above\n",
    "7. NHD-HR waterbodies and a. Within 200m of NID (2019) locations (https://nid.sec.usace.army.mil/ords/f?p=105:19:4229959037931::NO:::) or b. Within 50m of flowline that is within 50m of NID location\n",
    "\n",
    "This code uses option #7. After that automated approach was applied, IF was used to guide hand editing for some of the most glaring omissions - usually caused by missing or misplacement of an NID barrier.\n",
    "Note that NHD HR is huge and exceedingly difficult to manipulate due to its size.  \n",
    "Preprocessing steps to select and clip down to the SE should only be run if you have a LOT of time!  "
   ]
  },
  {
   "cell_type": "code",
   "execution_count": 1,
   "metadata": {},
   "outputs": [],
   "source": [
    "import os\n",
    "import arcpy"
   ]
  },
  {
   "cell_type": "code",
   "execution_count": 2,
   "metadata": {},
   "outputs": [],
   "source": [
    "# define spatial reference and workspaces\n",
    "sr= arcpy.SpatialReference(5070)\n",
    "sr_geo= arcpy.SpatialReference(4326)\n",
    "#SourceWorkspace= \n",
    "OutWorkspace = r\"E:\\projects\\BP\\indicator review\\Default.gdb\""
   ]
  },
  {
   "cell_type": "code",
   "execution_count": 3,
   "metadata": {},
   "outputs": [],
   "source": [
    "# define rasters used for cell size, extent, and snapping\n",
    "SEExtent= r\"E:\\projects\\BP\\1_Extent\\BaseBPExtent2022.tif\""
   ]
  },
  {
   "cell_type": "code",
   "execution_count": 4,
   "metadata": {},
   "outputs": [],
   "source": [
    "# define inputs\n",
    "nhdwb= r\"E:\\generalGIS\\NHD\\NHD_H_National_GDB\\NHD_H_National_GDB.gdb\\Hydrography\\NHDWaterbody\"\n",
    "nhdflowlines= r\"E:\\generalGIS\\NHD\\NHD_H_National_GDB\\NHD_H_National_GDB.gdb\\Hydrography\\NHDFlowline\""
   ]
  },
  {
   "cell_type": "markdown",
   "metadata": {},
   "source": [
    "### Start analysis"
   ]
  },
  {
   "cell_type": "code",
   "execution_count": 4,
   "metadata": {},
   "outputs": [],
   "source": [
    "# Set the output workspace\n",
    "arcpy.env.workspace = OutWorkspace"
   ]
  },
  {
   "cell_type": "code",
   "execution_count": 6,
   "metadata": {},
   "outputs": [
    {
     "name": "stdout",
     "output_type": "stream",
     "text": [
      "E:\\projects\\BP\\indicator review\\Default.gdb\n"
     ]
    }
   ],
   "source": [
    "print(arcpy.env.workspace)"
   ]
  },
  {
   "cell_type": "code",
   "execution_count": 5,
   "metadata": {},
   "outputs": [],
   "source": [
    "## takes a long time - select only lake/pond and reservoir from NHD waterbodies\n",
    "NHDlakepond = arcpy.management.SelectLayerByAttribute(nhdwb, \"NEW_SELECTION\", \"FTYPE = 390 Or FTYPE = 436\", None)"
   ]
  },
  {
   "cell_type": "code",
   "execution_count": 6,
   "metadata": {},
   "outputs": [],
   "source": [
    "## takes a long time - select only lake/pond and reservoir in the BaseBP extent from all lakepond\n",
    "NHDlakepondSE = arcpy.management.SelectLayerByLocation(NHDlakepond, \"INTERSECT\", \"BaseBPExtent_2022\", None, \"SUBSET_SELECTION\", \"NOT_INVERT\")"
   ]
  },
  {
   "cell_type": "code",
   "execution_count": 7,
   "metadata": {},
   "outputs": [
    {
     "data": {
      "text/html": [
       "<h2>Output</h2>E:\\projects\\BP\\indicator review\\Default.gdb\\lakepondSE<h2>Messages</h2>Start Time: Tuesday, March 8, 2022 8:46:59 AM<br/>Succeeded at Tuesday, March 8, 2022 8:54:59 AM (Elapsed Time: 8 minutes 0 seconds)<br/><style>.rendered_html td, .rendered_html th {text-align: left;}.rendered_html tbody {border: 1px solid black;}</style>"
      ],
      "text/plain": [
       "<Result 'E:\\\\projects\\\\BP\\\\indicator review\\\\Default.gdb\\\\lakepondSE'>"
      ]
     },
     "execution_count": 7,
     "metadata": {},
     "output_type": "execute_result"
    }
   ],
   "source": [
    "## takes a long time - save selection - 8 min\n",
    "arcpy.conversion.FeatureClassToFeatureClass(NHDlakepondSE, OutWorkspace, \"lakepondSE\", '', 'PERMANENT_IDENTIFIER \"PERMANENT_IDENTIFIER\" true true false 40 Text 0 0,First,#,NHDWaterbody,PERMANENT_IDENTIFIER,0,40;FDATE \"FDATE\" true true false 8 Date 0 0,First,#,NHDWaterbody,FDATE,-1,-1;RESOLUTION \"Resolution\" true true false 4 Long 0 0,First,#,NHDWaterbody,RESOLUTION,-1,-1;GNIS_ID \"GNIS_ID\" true true false 10 Text 0 0,First,#,NHDWaterbody,GNIS_ID,0,10;GNIS_NAME \"GNIS_NAME\" true true false 65 Text 0 0,First,#,NHDWaterbody,GNIS_NAME,0,65;AREASQKM \"AREASQKM\" true true false 8 Double 0 0,First,#,NHDWaterbody,AREASQKM,-1,-1;ELEVATION \"Elevation\" true true false 8 Double 0 0,First,#,NHDWaterbody,ELEVATION,-1,-1;REACHCODE \"REACHCODE\" true true false 14 Text 0 0,First,#,NHDWaterbody,REACHCODE,0,14;FTYPE \"FType\" true true false 4 Long 0 0,First,#,NHDWaterbody,FTYPE,-1,-1;FCODE \"FCode\" true true false 4 Long 0 0,First,#,NHDWaterbody,FCODE,-1,-1;GLOBALID \"GLOBALID\" false false true 38 GlobalID 0 0,First,#,NHDWaterbody,GLOBALID,-1,-1;VISIBILITYFILTER \"VisibilityFilter\" true true false 4 Long 0 0,First,#,NHDWaterbody,VISIBILITYFILTER,-1,-1;SHAPE_Length \"SHAPE_Length\" false true true 8 Double 0 0,First,#,NHDWaterbody,SHAPE_Length,-1,-1;SHAPE_Area \"SHAPE_Area\" false true true 8 Double 0 0,First,#,NHDWaterbody,SHAPE_Area,-1,-1', '')"
   ]
  },
  {
   "cell_type": "code",
   "execution_count": 8,
   "metadata": {},
   "outputs": [],
   "source": [
    "# takes a looooong time - select out NHD flowlines in the SE\n",
    "SEFlowlines = arcpy.management.SelectLayerByLocation(nhdflowlines, \"INTERSECT\", \"BaseBPExtent_2022\", None, \"NEW_SELECTION\", \"NOT_INVERT\")\n",
    "## over 2 hours and still didn't finish saving!"
   ]
  },
  {
   "cell_type": "code",
   "execution_count": null,
   "metadata": {},
   "outputs": [],
   "source": []
  },
  {
   "cell_type": "code",
   "execution_count": 9,
   "metadata": {},
   "outputs": [],
   "source": [
    "# make a layer from NID data\n",
    "NID = arcpy.MakeXYEventLayer_management(r'E:\\generalgis\\ACE\\NID2019_U.csv',\"LONGITUDE\",\"LATITUDE\",\"NID\",sr_geo)"
   ]
  },
  {
   "cell_type": "code",
   "execution_count": 10,
   "metadata": {},
   "outputs": [],
   "source": [
    "# select the flowlines that are within 50m of NID locations \n",
    "#with arcpy.EnvManager(scratchWorkspace=r\"E:\\projects\\BP\\indicator review\\Default.gdb\", workspace=r\"E:\\projects\\BP\\indicator review\\Default.gdb\"):\n",
    "NIDflowlines = arcpy.management.SelectLayerByLocation(SEFlowlines, \"WITHIN_A_DISTANCE\", NID , \"50 Meters\", \"NEW_SELECTION\", \"NOT_INVERT\")"
   ]
  },
  {
   "cell_type": "code",
   "execution_count": 16,
   "metadata": {},
   "outputs": [],
   "source": [
    "# make a copy of the flowline selection \n",
    "flowlines_50m = arcpy.management.CopyFeatures(NIDflowlines, \"flowlines_within50m_NID\", '', None, None, None)"
   ]
  },
  {
   "cell_type": "code",
   "execution_count": 17,
   "metadata": {},
   "outputs": [
    {
     "data": {
      "text/html": [
       "<h2>Output</h2><table><tr><th>id</th><th>value</th></tr><tr><td>0</td><td>a Layer object</td></tr><tr><td>1</td><td>nhdSE_Layer4</td></tr><tr><td>2</td><td>38654</td></tr></table><h2>Messages</h2>Start Time: Monday, March 7, 2022 1:27:00 PM<br/>Succeeded at Monday, March 7, 2022 1:27:54 PM (Elapsed Time: 53.29 seconds)<br/><style>.rendered_html td, .rendered_html th {text-align: left;}.rendered_html tbody {border: 1px solid black;}</style>"
      ],
      "text/plain": [
       "<Result 'nhdSE_Layer4'>"
      ]
     },
     "execution_count": 17,
     "metadata": {},
     "output_type": "execute_result"
    }
   ],
   "source": [
    "# select waterbodies that are close to NHDflowlines (50m) that are close to points (50m) (FROM ABOVE)\n",
    "#with arcpy.EnvManager(scratchWorkspace=r\"E:\\projects\\BP\\indicator review\\Default.gdb\", workspace=r\"E:\\projects\\BP\\indicator review\\Default.gdb\"):\n",
    "arcpy.management.SelectLayerByLocation(nhdSEr\"E:\\gflhj\\Default.gdb\\nhdSE\", \"WITHIN_A_DISTANCE\", flowlines_50m, \"50 Meters\", \"NEW_SELECTION\", \"NOT_INVERT\")"
   ]
  },
  {
   "cell_type": "code",
   "execution_count": 19,
   "metadata": {},
   "outputs": [],
   "source": [
    "# add to the above selection: waterbodies that are within 200m of an NID location \n",
    "#with arcpy.EnvManager(scratchWorkspace=r\"E:\\projects\\BP\\indicator review\\Default.gdb\", workspace=r\"E:\\projects\\BP\\indicator review\\Default.gdb\"):\n",
    "alllake = arcpy.management.SelectLayerByLocation(\"nhdSE\", \"WITHIN_A_DISTANCE\", \"NID\", \"200 Meters\", \"ADD_TO_SELECTION\", \"NOT_INVERT\")"
   ]
  },
  {
   "cell_type": "code",
   "execution_count": 20,
   "metadata": {},
   "outputs": [
    {
     "data": {
      "text/html": [
       "<h2>Output</h2><table><tr><th>id</th><th>value</th></tr><tr><td>0</td><td>a Layer object</td></tr><tr><td>1</td><td>nhdSE</td></tr><tr><td>2</td><td>47771</td></tr></table><h2>Messages</h2>Start Time: Monday, March 7, 2022 2:08:47 PM<br/>Succeeded at Monday, March 7, 2022 2:15:03 PM (Elapsed Time: 6 minutes 16 seconds)<br/><style>.rendered_html td, .rendered_html th {text-align: left;}.rendered_html tbody {border: 1px solid black;}</style>"
      ],
      "text/plain": [
       "<Result 'nhdSE'>"
      ]
     },
     "execution_count": 20,
     "metadata": {},
     "output_type": "execute_result"
    }
   ],
   "source": [
    "# add to the above selection: waterbodies that are within 5m of a selected waterbody\n",
    "#with arcpy.EnvManager(scratchWorkspace=r\"E:\\projects\\BP\\indicator review\\Default.gdb\", workspace=r\"E:\\projects\\BP\\indicator review\\Default.gdb\"):\n",
    "arcpy.management.SelectLayerByLocation(alllake, \"WITHIN_A_DISTANCE\", alllake, \"5 Meters\", \"ADD_TO_SELECTION\", \"NOT_INVERT\")"
   ]
  },
  {
   "cell_type": "code",
   "execution_count": 19,
   "metadata": {},
   "outputs": [
    {
     "data": {
      "text/html": [
       "<h2>Output</h2>E:\\projects\\BP\\indicator review\\Default.gdb\\draft_reservoirs<h2>Messages</h2>Start Time: Friday, October 15, 2021 1:22:48 PM<br/>Succeeded at Friday, October 15, 2021 1:22:52 PM (Elapsed Time: 3.98 seconds)<br/><style>.rendered_html td, .rendered_html th {text-align: left;}.rendered_html tbody {border: 1px solid black;}</style>"
      ],
      "text/plain": [
       "<Result 'E:\\\\projects\\\\BP\\\\indicator review\\\\Default.gdb\\\\draft_reservoirs'>"
      ]
     },
     "execution_count": 19,
     "metadata": {},
     "output_type": "execute_result"
    }
   ],
   "source": [
    "# the above selection is the draft reservoir selection - SAVE TO OUTPUT\n",
    "arcpy.conversion.FeatureClassToFeatureClass(\"nhdSE_Layer4\", r\"E:\\gflhj\\Default.gdb\", \"NHDWB_SE\", '', 'PERMANENT_IDENTIFIER \"PERMANENT_IDENTIFIER\" true true false 40 Text 0 0,First,#,nhdSE_Layer4,PERMANENT_IDENTIFIER,0,40;FDATE \"FDATE\" true true false 8 Date 0 0,First,#,nhdSE_Layer4,FDATE,-1,-1;RESOLUTION \"Resolution\" true true false 4 Long 0 0,First,#,nhdSE_Layer4,RESOLUTION,-1,-1;GNIS_ID \"GNIS_ID\" true true false 10 Text 0 0,First,#,nhdSE_Layer4,GNIS_ID,0,10;GNIS_NAME \"GNIS_NAME\" true true false 65 Text 0 0,First,#,nhdSE_Layer4,GNIS_NAME,0,65;AREASQKM \"AREASQKM\" true true false 8 Double 0 0,First,#,nhdSE_Layer4,AREASQKM,-1,-1;ELEVATION \"Elevation\" true true false 8 Double 0 0,First,#,nhdSE_Layer4,ELEVATION,-1,-1;REACHCODE \"REACHCODE\" true true false 14 Text 0 0,First,#,nhdSE_Layer4,REACHCODE,0,14;FTYPE \"FType\" true true false 4 Long 0 0,First,#,nhdSE_Layer4,FTYPE,-1,-1;FCODE \"FCode\" true true false 4 Long 0 0,First,#,nhdSE_Layer4,FCODE,-1,-1;GLOBALID \"GLOBALID\" false false false 38 GlobalID 0 0,First,#,nhdSE_Layer4,GLOBALID,-1,-1;VISIBILITYFILTER \"VisibilityFilter\" true true false 4 Long 0 0,First,#,nhdSE_Layer4,VISIBILITYFILTER,-1,-1;Shape_Length \"Shape_Length\" false true true 8 Double 0 0,First,#,nhdSE_Layer4,Shape_Length,-1,-1;Shape_Area \"Shape_Area\" false true true 8 Double 0 0,First,#,nhdSE_Layer4,Shape_Area,-1,-1', '')"
   ]
  },
  {
   "cell_type": "code",
   "execution_count": 8,
   "metadata": {},
   "outputs": [
    {
     "data": {
      "text/html": [
       "<h2>Output</h2>a Layer object<h2>Messages</h2>Start Time: Friday, October 15, 2021 1:36:49 PM<br/>Adding raster to draft_reservoirs...<br/>Succeeded at Friday, October 15, 2021 1:36:53 PM (Elapsed Time: 3.91 seconds)<br/><style>.rendered_html td, .rendered_html th {text-align: left;}.rendered_html tbody {border: 1px solid black;}</style>"
      ],
      "text/plain": [
       "<Result 'draft_reservoirs'>"
      ]
     },
     "execution_count": 8,
     "metadata": {},
     "output_type": "execute_result"
    }
   ],
   "source": [
    "# add and calculate field to use to create the raster\n",
    "arcpy.management.CalculateField(\"draft_reservoirs\", \"raster\", 1, \"PYTHON3\", '', \"SHORT\")"
   ]
  },
  {
   "cell_type": "code",
   "execution_count": 9,
   "metadata": {},
   "outputs": [],
   "source": [
    "# convert to raster \n",
    "with arcpy.EnvManager(outputCoordinateSystem=sr, extent=SAraster, snapRaster=SAraster, cellSize=SEExtent):\n",
    "    arcpy.conversion.PolygonToRaster(\"draft_reservoirs\", \"raster\", \"res\", \"CELL_CENTER\", \"NONE\", SEExtent)"
   ]
  },
  {
   "cell_type": "code",
   "execution_count": 19,
   "metadata": {},
   "outputs": [],
   "source": [
    "# reclass so that reservoirs are NODATA and everyting else is 1\n",
    "out_raster = arcpy.sa.IsNull(\"res\"); out_raster.save(\"resNull\")"
   ]
  },
  {
   "cell_type": "code",
   "execution_count": null,
   "metadata": {
    "collapsed": true
   },
   "outputs": [],
   "source": []
  },
  {
   "cell_type": "code",
   "execution_count": null,
   "metadata": {
    "collapsed": true
   },
   "outputs": [],
   "source": []
  }
 ],
 "metadata": {
  "kernelspec": {
   "display_name": "ArcGISPro",
   "language": "Python",
   "name": "python3"
  },
  "language_info": {
   "file_extension": ".py",
   "name": "python",
   "version": "3"
  }
 },
 "nbformat": 4,
 "nbformat_minor": 2
}
