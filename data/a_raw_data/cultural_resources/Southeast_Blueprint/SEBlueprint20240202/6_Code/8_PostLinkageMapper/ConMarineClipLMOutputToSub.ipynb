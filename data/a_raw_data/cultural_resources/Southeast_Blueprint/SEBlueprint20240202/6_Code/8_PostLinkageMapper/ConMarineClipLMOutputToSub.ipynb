{
 "cells": [
  {
   "cell_type": "markdown",
   "metadata": {},
   "source": [
    "# Combine Corridors\n",
    "This code takes the corridors that were created for the marine subregions and mosaics them together.\n",
    "\n",
    "I can't easily remove the buffered area with these, so I'm just using the maximum value\n",
    "\n",
    "\n",
    "Created by Amy Keister, last run by Amy Keister on "
   ]
  },
  {
   "cell_type": "code",
   "execution_count": 1,
   "metadata": {},
   "outputs": [],
   "source": [
    "import os\n",
    "import arcpy\n",
    "import numpy"
   ]
  },
  {
   "cell_type": "code",
   "execution_count": 2,
   "metadata": {},
   "outputs": [],
   "source": [
    "import time\n",
    "start = time.time()"
   ]
  },
  {
   "cell_type": "code",
   "execution_count": 3,
   "metadata": {},
   "outputs": [],
   "source": [
    "# define spatial reference and workspaces\n",
    "sr= arcpy.SpatialReference(5070)\n",
    "#SourceWorkspace = \n",
    "OutWorkspace = r\"D:\\SE_Blueprint_2023\\9_Linkagemapper\\ConMarine\\ConMarineClipLMOutputToSub.gdb\""
   ]
  },
  {
   "cell_type": "code",
   "execution_count": 4,
   "metadata": {},
   "outputs": [],
   "source": [
    "# define final outputs\n"
   ]
  },
  {
   "cell_type": "code",
   "execution_count": 5,
   "metadata": {},
   "outputs": [],
   "source": [
    "# define sub-indicator outputs to help with user support\n"
   ]
  },
  {
   "cell_type": "code",
   "execution_count": 6,
   "metadata": {},
   "outputs": [],
   "source": [
    "# define rasters used for cell size, extent, and snapping\n",
    "# it is important to use the 90 meter resistance raster as the snap, since we had to resample to get corridors to run\n",
    "#Rextent= r\"D:\\SE_Blueprint_2023\\8_PrepLinkageMapperRuns\\Ea_ConMarine_LM_Input.gdb\\Resistance\"\n",
    "# because we created these 90 meter resistance raster seperately and didn't specify something to snap to, they happened\n",
    "# to not snap together. I'm going to try to get them to snap by forcing the marine corrdior outputs to snap to the inland 90 meter raster\n",
    "Rextent= r\"D:\\SE_Blueprint_2023\\8_PrepLinkageMapperRuns\\Ba_Con_LM_Input.gdb\\Resistance\""
   ]
  },
  {
   "cell_type": "code",
   "execution_count": 7,
   "metadata": {},
   "outputs": [],
   "source": [
    "# define additional inputs\n",
    "#Resist= r\"E:\\WORKING\\BaseBlueprint\\2022\\7_PrepLinkageMapperRuns\\LMInput\\MosaicInRoadX_90mBilinear.tif\"\n",
    "#Hub= r\"E:\\WORKING\\BaseBlueprint\\2022\\7_PrepLinkageMapperRuns\\Hubs.shp\"\n",
    "#GoM= r\"D:\\SE_Blueprint_2023\\8_PrepLinkageMapperRuns\\E_ConMarineResistanceAndHubs.gdb\\GulfOfMexico\"\n",
    "#Am= r\"D:\\SE_Blueprint_2023\\8_PrepLinkageMapperRuns\\E_ConMarineResistanceAndHubs.gdb\\Atlantic\"\n",
    "\n",
    "LMa= r\"D:\\SE_Blueprint_2023\\9_Linkagemapper\\ConMarine\\LMa_OutputOnly\\output\\corridors.gdb\\LMa_corridors\"\n",
    "LMg= r\"D:\\SE_Blueprint_2023\\9_Linkagemapper\\ConMarine\\LMg_OutputOnly\\output\\corridors.gdb\\LMg_corridors\"\n"
   ]
  },
  {
   "cell_type": "markdown",
   "metadata": {},
   "source": [
    "# Start Analysis"
   ]
  },
  {
   "cell_type": "code",
   "execution_count": 8,
   "metadata": {},
   "outputs": [],
   "source": [
    "# Change the workspace to where I am saving the outputs\n",
    "arcpy.env.workspace = OutWorkspace"
   ]
  },
  {
   "cell_type": "code",
   "execution_count": 9,
   "metadata": {},
   "outputs": [
    {
     "name": "stdout",
     "output_type": "stream",
     "text": [
      "D:\\SE_Blueprint_2023\\9_Linkagemapper\\ConMarine\\ConMarineClipLMOutputToSub.gdb\n"
     ]
    }
   ],
   "source": [
    "# Print the current workspace to make sure I'm in the right spot\n",
    "print(arcpy.env.workspace)"
   ]
  },
  {
   "cell_type": "markdown",
   "metadata": {},
   "source": [
    "# mosaic the two subregions"
   ]
  },
  {
   "cell_type": "code",
   "execution_count": 13,
   "metadata": {},
   "outputs": [],
   "source": [
    "# mosaic clipped corridors together\n",
    "with arcpy.EnvManager(snapRaster=Rextent):\n",
    "    arcpy.management.MosaicToNewRaster([LMa,LMg], OutWorkspace, \"Mosaic\", None, \"32_BIT_SIGNED\", None, 1, \"MAXIMUM\", \"FIRST\")"
   ]
  },
  {
   "cell_type": "code",
   "execution_count": 14,
   "metadata": {},
   "outputs": [],
   "source": [
    "# Take times 1 because output is stripy\n",
    "with arcpy.EnvManager(snapRaster=Rextent):\n",
    "    out_raster = arcpy.sa.Times(\"Mosaic\", 1); out_raster.save(\"Mosaic2\")"
   ]
  },
  {
   "cell_type": "code",
   "execution_count": 12,
   "metadata": {},
   "outputs": [
    {
     "name": "stdout",
     "output_type": "stream",
     "text": [
      "156.55168175697327\n"
     ]
    }
   ],
   "source": [
    "end = time.time()\n",
    "print(end - start)"
   ]
  },
  {
   "cell_type": "code",
   "execution_count": null,
   "metadata": {},
   "outputs": [],
   "source": []
  }
 ],
 "metadata": {
  "kernelspec": {
   "display_name": "ArcGISPro",
   "language": "Python",
   "name": "python3"
  },
  "language_info": {
   "file_extension": ".py",
   "name": "python",
   "version": "3"
  }
 },
 "nbformat": 4,
 "nbformat_minor": 2
}
