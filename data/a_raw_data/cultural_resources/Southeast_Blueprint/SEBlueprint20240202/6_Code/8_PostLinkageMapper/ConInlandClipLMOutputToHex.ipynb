{
 "cells": [
  {
   "cell_type": "markdown",
   "metadata": {},
   "source": [
    "# Combine Corridors\n",
    "This code takes the corridors that were created for the buffered hexagons, removes the buffered area, and mosaics them together.\n",
    "\n",
    "\n",
    "Created by Amy Keister, last run by Amy Keister on "
   ]
  },
  {
   "cell_type": "code",
   "execution_count": 19,
   "metadata": {},
   "outputs": [],
   "source": [
    "import os\n",
    "import arcpy\n",
    "import numpy"
   ]
  },
  {
   "cell_type": "code",
   "execution_count": 20,
   "metadata": {},
   "outputs": [],
   "source": [
    "import time\n",
    "start = time.time()"
   ]
  },
  {
   "cell_type": "code",
   "execution_count": 21,
   "metadata": {},
   "outputs": [],
   "source": [
    "# define spatial reference and workspaces\n",
    "sr= arcpy.SpatialReference(5070)\n",
    "#SourceWorkspace = \n",
    "OutWorkspace = r\"D:\\SE_Blueprint_2023\\9_Linkagemapper\\ContinentalInland\\ConInlandClipLMOutputToHex.gdb\""
   ]
  },
  {
   "cell_type": "code",
   "execution_count": 22,
   "metadata": {},
   "outputs": [],
   "source": [
    "# define final outputs\n"
   ]
  },
  {
   "cell_type": "code",
   "execution_count": 23,
   "metadata": {},
   "outputs": [],
   "source": [
    "# define sub-indicator outputs to help with user support\n"
   ]
  },
  {
   "cell_type": "code",
   "execution_count": 24,
   "metadata": {},
   "outputs": [],
   "source": [
    "# define rasters used for cell size, extent, and snapping\n",
    "# it is important to use the 90 meter resistance raster as the snap, since we had to resample to get corridors to run\n",
    "Rextent= r\"D:\\SE_Blueprint_2023\\8_PrepLinkageMapperRuns\\Ba_Con_LM_Input.gdb\\Resistance\""
   ]
  },
  {
   "cell_type": "code",
   "execution_count": 25,
   "metadata": {},
   "outputs": [],
   "source": [
    "# define additional inputs\n",
    "#Resist= r\"E:\\WORKING\\BaseBlueprint\\2022\\7_PrepLinkageMapperRuns\\LMInput\\MosaicInRoadX_90mBilinear.tif\"\n",
    "#Hub= r\"E:\\WORKING\\BaseBlueprint\\2022\\7_PrepLinkageMapperRuns\\Hubs.shp\"\n",
    "Hex= r\"D:\\SE_Blueprint_2023\\8_PrepLinkageMapperRuns\\Hexagons500000_2023.shp\"\n",
    "\n",
    "A1c= r\"D:\\SE_Blueprint_2023\\9_Linkagemapper\\ContinentalInland\\La1_OutputOnly\\output\\corridors.gdb\\La1_corridors\"\n",
    "A2c= r\"D:\\SE_Blueprint_2023\\9_Linkagemapper\\ContinentalInland\\La2_OutputOnly\\output\\corridors.gdb\\La2_corridors\"\n",
    "B1c= r\"D:\\SE_Blueprint_2023\\9_Linkagemapper\\ContinentalInland\\Lb1_OutputOnly\\output\\corridors.gdb\\Lb1_corridors\"\n",
    "B2c= r\"D:\\SE_Blueprint_2023\\9_Linkagemapper\\ContinentalInland\\Lb2_OutputOnly\\output\\corridors.gdb\\Lb2_corridors\"\n",
    "B3c= r\"D:\\SE_Blueprint_2023\\9_Linkagemapper\\ContinentalInland\\Lb3_OutputOnly\\output\\corridors.gdb\\Lb3_corridors\"\n",
    "C1c= r\"D:\\SE_Blueprint_2023\\9_Linkagemapper\\ContinentalInland\\Lc1_OutputOnly\\output\\corridors.gdb\\Lc1_corridors\"\n",
    "C2c= r\"D:\\SE_Blueprint_2023\\9_Linkagemapper\\ContinentalInland\\Lc2_OutputOnly\\output\\corridors.gdb\\Lc2_corridors\"\n",
    "D1c= r\"D:\\SE_Blueprint_2023\\9_Linkagemapper\\ContinentalInland\\Ld1_OutputOnly\\output\\corridors.gdb\\Ld1_corridors\"\n",
    "D2c= r\"D:\\SE_Blueprint_2023\\9_Linkagemapper\\ContinentalInland\\Ld2_OutputOnly\\output\\corridors.gdb\\Ld2_corridors\"\n",
    "D3c= r\"D:\\SE_Blueprint_2023\\9_Linkagemapper\\ContinentalInland\\Ld3_OutputOnly\\output\\corridors.gdb\\Ld3_corridors\"\n",
    "E1c= r\"D:\\SE_Blueprint_2023\\9_Linkagemapper\\ContinentalInland\\Le1_OutputOnly\\output\\corridors.gdb\\Le1_corridors\"\n"
   ]
  },
  {
   "cell_type": "markdown",
   "metadata": {},
   "source": [
    "# Start Analysis"
   ]
  },
  {
   "cell_type": "code",
   "execution_count": 26,
   "metadata": {},
   "outputs": [],
   "source": [
    "# Change the workspace to where I am saving the outputs\n",
    "arcpy.env.workspace = OutWorkspace"
   ]
  },
  {
   "cell_type": "code",
   "execution_count": 27,
   "metadata": {},
   "outputs": [
    {
     "name": "stdout",
     "output_type": "stream",
     "text": [
      "D:\\SE_Blueprint_2023\\9_Linkagemapper\\ContinentalInland\\ConInlandClipLMOutputToHex.gdb\n"
     ]
    }
   ],
   "source": [
    "# Print the current workspace to make sure I'm in the right spot\n",
    "print(arcpy.env.workspace)"
   ]
  },
  {
   "cell_type": "markdown",
   "metadata": {},
   "source": [
    "# Make individual feature classes for each buffered hexagon"
   ]
  },
  {
   "cell_type": "code",
   "execution_count": 28,
   "metadata": {},
   "outputs": [
    {
     "data": {
      "text/html": [
       "<div class='gpresult'><h2>Messages</h2><div id='messages' data-messages='[\"Start Time: Tuesday, September 5, 2023 10:51:01 AM\",\"Succeeded at Tuesday, September 5, 2023 10:51:02 AM (Elapsed Time: 0.51 seconds)\"]' data-show='true'><div id = 'default' /></div></div>"
      ],
      "text/plain": [
       "<Result 'D:\\\\SE_Blueprint_2023\\\\9_Linkagemapper\\\\ContinentalInland\\\\ConInlandClipLMOutputToHex.gdb\\\\Hex_90mBuff'>"
      ]
     },
     "execution_count": 28,
     "metadata": {},
     "output_type": "execute_result"
    }
   ],
   "source": [
    "# I have to slightly buffer the hexagons because I was losing a pixel on some areas after the clip\n",
    "arcpy.analysis.Buffer(Hex, \"Hex_90mBuff\", \"90 Meters\", \"FULL\", \"ROUND\", \"NONE\", None, \"PLANAR\")"
   ]
  },
  {
   "cell_type": "code",
   "execution_count": 29,
   "metadata": {},
   "outputs": [
    {
     "data": {
      "text/html": [
       "<div class='gpresult'><h2>Messages</h2><div id='messages' data-messages='[\"Start Time: Tuesday, September 5, 2023 10:51:02 AM\",\"Value(s) A-1 written to D:\\\\SE_Blueprint_2023\\\\9_Linkagemapper\\\\ContinentalInland\\\\ConInlandClipLMOutputToHex.gdb\\\\A_1.\",\"Value(s) A-2 written to D:\\\\SE_Blueprint_2023\\\\9_Linkagemapper\\\\ContinentalInland\\\\ConInlandClipLMOutputToHex.gdb\\\\A_2.\",\"Value(s) B-1 written to D:\\\\SE_Blueprint_2023\\\\9_Linkagemapper\\\\ContinentalInland\\\\ConInlandClipLMOutputToHex.gdb\\\\B_1.\",\"Value(s) B-2 written to D:\\\\SE_Blueprint_2023\\\\9_Linkagemapper\\\\ContinentalInland\\\\ConInlandClipLMOutputToHex.gdb\\\\B_2.\",\"Value(s) B-3 written to D:\\\\SE_Blueprint_2023\\\\9_Linkagemapper\\\\ContinentalInland\\\\ConInlandClipLMOutputToHex.gdb\\\\B_3.\",\"Value(s) C-1 written to D:\\\\SE_Blueprint_2023\\\\9_Linkagemapper\\\\ContinentalInland\\\\ConInlandClipLMOutputToHex.gdb\\\\C_1.\",\"Value(s) C-2 written to D:\\\\SE_Blueprint_2023\\\\9_Linkagemapper\\\\ContinentalInland\\\\ConInlandClipLMOutputToHex.gdb\\\\C_2.\",\"Value(s) D-1 written to D:\\\\SE_Blueprint_2023\\\\9_Linkagemapper\\\\ContinentalInland\\\\ConInlandClipLMOutputToHex.gdb\\\\D_1.\",\"Value(s) D-2 written to D:\\\\SE_Blueprint_2023\\\\9_Linkagemapper\\\\ContinentalInland\\\\ConInlandClipLMOutputToHex.gdb\\\\D_2.\",\"Value(s) D-3 written to D:\\\\SE_Blueprint_2023\\\\9_Linkagemapper\\\\ContinentalInland\\\\ConInlandClipLMOutputToHex.gdb\\\\D_3.\",\"Value(s) E-1 written to D:\\\\SE_Blueprint_2023\\\\9_Linkagemapper\\\\ContinentalInland\\\\ConInlandClipLMOutputToHex.gdb\\\\E_1.\",\"Succeeded at Tuesday, September 5, 2023 10:51:05 AM (Elapsed Time: 2.94 seconds)\"]' data-show='true'><div id = 'default' /></div></div>"
      ],
      "text/plain": [
       "<Result 'D:\\\\SE_Blueprint_2023\\\\9_Linkagemapper\\\\ContinentalInland\\\\ConInlandClipLMOutputToHex.gdb'>"
      ]
     },
     "execution_count": 29,
     "metadata": {},
     "output_type": "execute_result"
    }
   ],
   "source": [
    "# make individual feature classes for each hexagon\n",
    "arcpy.analysis.SplitByAttributes(\"Hex_90mBuff\", OutWorkspace, \"GRID_ID\")"
   ]
  },
  {
   "cell_type": "markdown",
   "metadata": {},
   "source": [
    "# Clip corridor outputs back down to hexagon"
   ]
  },
  {
   "cell_type": "code",
   "execution_count": 30,
   "metadata": {},
   "outputs": [],
   "source": [
    "# make a list of all feature classes\n",
    "#FCList = arcpy.ListFeatureClasses() "
   ]
  },
  {
   "cell_type": "code",
   "execution_count": 31,
   "metadata": {},
   "outputs": [],
   "source": [
    "#Print the list made in the above step to see what I found\n",
    "#print(FCList)"
   ]
  },
  {
   "cell_type": "code",
   "execution_count": 32,
   "metadata": {},
   "outputs": [],
   "source": [
    "# remove the full buffered hexagon from the list\n",
    "#FCList.remove(\"Hex_200kmBuff\")"
   ]
  },
  {
   "cell_type": "code",
   "execution_count": 33,
   "metadata": {},
   "outputs": [],
   "source": [
    "#Print the list made in the above step to see what I found\n",
    "#print(FCList)"
   ]
  },
  {
   "cell_type": "code",
   "execution_count": 34,
   "metadata": {},
   "outputs": [],
   "source": [
    "# I couldn't get a loop to work because I need to loop through two lists and get them to match up so that \n",
    "# the right raster is cliped by the right hex\n",
    "\n",
    "# Loop to clip resistance raster to buffered hexagons\n",
    "\n",
    "#for fc in FCList:\n",
    "\n",
    " #    output = fc + \"_corridors_truncated_at_200k\"\n",
    "\n",
    "     # Process: Buffer\n",
    "  #   with arcpy.EnvManager(snapRaster=SEraster):\n",
    "   #     out_raster = arcpy.sa.ExtractByMask(Resist, fc); out_raster.save(output)\n",
    "    #    out_raster = arcpy.sa.ExtractByMask(A1c, OutWorkspace + \"\\A_1\"); out_raster.save(\"A1_corridors_truncated_at_200k\")\n",
    "\n",
    "#print (\"finished clipping raster\") "
   ]
  },
  {
   "cell_type": "code",
   "execution_count": 35,
   "metadata": {},
   "outputs": [],
   "source": [
    "with arcpy.EnvManager(snapRaster=Rextent):\n",
    "        out_raster = arcpy.sa.ExtractByMask(A1c, OutWorkspace + \"\\A_1\"); out_raster.save(\"A1_corridors\")"
   ]
  },
  {
   "cell_type": "code",
   "execution_count": 36,
   "metadata": {},
   "outputs": [],
   "source": [
    "with arcpy.EnvManager(snapRaster=Rextent):\n",
    "        out_raster = arcpy.sa.ExtractByMask(A2c, OutWorkspace + \"\\A_2\"); out_raster.save(\"A2_corridors\")"
   ]
  },
  {
   "cell_type": "code",
   "execution_count": 37,
   "metadata": {},
   "outputs": [],
   "source": [
    "with arcpy.EnvManager(snapRaster=Rextent):\n",
    "        out_raster = arcpy.sa.ExtractByMask(B1c, OutWorkspace + \"\\B_1\"); out_raster.save(\"B1_corridors\")"
   ]
  },
  {
   "cell_type": "code",
   "execution_count": 38,
   "metadata": {},
   "outputs": [],
   "source": [
    "with arcpy.EnvManager(snapRaster=Rextent):\n",
    "        out_raster = arcpy.sa.ExtractByMask(B2c, OutWorkspace + \"\\B_2\"); out_raster.save(\"B2_corridors\")"
   ]
  },
  {
   "cell_type": "code",
   "execution_count": 39,
   "metadata": {},
   "outputs": [],
   "source": [
    "with arcpy.EnvManager(snapRaster=Rextent):\n",
    "        out_raster = arcpy.sa.ExtractByMask(B3c, OutWorkspace + \"\\B_3\"); out_raster.save(\"B3_corridors\")"
   ]
  },
  {
   "cell_type": "code",
   "execution_count": 40,
   "metadata": {},
   "outputs": [],
   "source": [
    "with arcpy.EnvManager(snapRaster=Rextent):\n",
    "        out_raster = arcpy.sa.ExtractByMask(C1c, OutWorkspace + \"\\C_1\"); out_raster.save(\"C1_corridors\")"
   ]
  },
  {
   "cell_type": "code",
   "execution_count": 41,
   "metadata": {},
   "outputs": [],
   "source": [
    "with arcpy.EnvManager(snapRaster=Rextent):\n",
    "        out_raster = arcpy.sa.ExtractByMask(C2c, OutWorkspace + \"\\C_2\"); out_raster.save(\"C2_corridors\")"
   ]
  },
  {
   "cell_type": "code",
   "execution_count": 42,
   "metadata": {},
   "outputs": [],
   "source": [
    "with arcpy.EnvManager(snapRaster=Rextent):\n",
    "        out_raster = arcpy.sa.ExtractByMask(D1c, OutWorkspace + \"\\D_1\"); out_raster.save(\"D1_corridors\")"
   ]
  },
  {
   "cell_type": "code",
   "execution_count": 43,
   "metadata": {},
   "outputs": [],
   "source": [
    "with arcpy.EnvManager(snapRaster=Rextent):\n",
    "        out_raster = arcpy.sa.ExtractByMask(D2c, OutWorkspace + \"\\D_2\"); out_raster.save(\"D2_corridors\")"
   ]
  },
  {
   "cell_type": "code",
   "execution_count": 44,
   "metadata": {},
   "outputs": [],
   "source": [
    "with arcpy.EnvManager(snapRaster=Rextent):\n",
    "        out_raster = arcpy.sa.ExtractByMask(D3c, OutWorkspace + \"\\D_3\"); out_raster.save(\"D3_corridors\")"
   ]
  },
  {
   "cell_type": "code",
   "execution_count": 45,
   "metadata": {},
   "outputs": [],
   "source": [
    "with arcpy.EnvManager(snapRaster=Rextent):\n",
    "        out_raster = arcpy.sa.ExtractByMask(E1c, OutWorkspace + \"\\E_1\"); out_raster.save(\"E1_corridors\")"
   ]
  },
  {
   "cell_type": "markdown",
   "metadata": {},
   "source": [
    "# Make a list of rasters in geodatabase and mosaic them"
   ]
  },
  {
   "cell_type": "code",
   "execution_count": 46,
   "metadata": {},
   "outputs": [],
   "source": [
    "# make a list of all feature classes\n",
    "RList = arcpy.ListRasters() "
   ]
  },
  {
   "cell_type": "code",
   "execution_count": 47,
   "metadata": {},
   "outputs": [
    {
     "name": "stdout",
     "output_type": "stream",
     "text": [
      "['A1_corridors_truncated_at_200k', 'A2_corridors_truncated_at_200k', 'B1_corridors_truncated_at_200k', 'B2_corridors_truncated_at_200k', 'B3_corridors_truncated_at_200k', 'C1_corridors_truncated_at_200k', 'C2_corridors_truncated_at_200k', 'D1_corridors_truncated_at_200k', 'D2_corridors_truncated_at_200k', 'D3_corridors_truncated_at_200k', 'E1_corridors_truncated_at_200k']\n"
     ]
    }
   ],
   "source": [
    "#Print the list made in the above step to see what I found\n",
    "print(RList)"
   ]
  },
  {
   "cell_type": "code",
   "execution_count": 48,
   "metadata": {},
   "outputs": [
    {
     "data": {
      "text/html": [
       "<div class='gpresult'><h2>Messages</h2><div id='messages' data-messages='[\"Start Time: Tuesday, September 5, 2023 10:57:33 AM\",\"D:\\\\SE_Blueprint_2023\\\\9_Linkagemapper\\\\ContinentalInland\\\\ConInlandClipLMOutputToHex.gdb\\\\A1_corridors_truncated_at_200k is loading...\",\"D:\\\\SE_Blueprint_2023\\\\9_Linkagemapper\\\\ContinentalInland\\\\ConInlandClipLMOutputToHex.gdb\\\\A2_corridors_truncated_at_200k is loading...\",\"D:\\\\SE_Blueprint_2023\\\\9_Linkagemapper\\\\ContinentalInland\\\\ConInlandClipLMOutputToHex.gdb\\\\B1_corridors_truncated_at_200k is loading...\",\"D:\\\\SE_Blueprint_2023\\\\9_Linkagemapper\\\\ContinentalInland\\\\ConInlandClipLMOutputToHex.gdb\\\\B2_corridors_truncated_at_200k is loading...\",\"D:\\\\SE_Blueprint_2023\\\\9_Linkagemapper\\\\ContinentalInland\\\\ConInlandClipLMOutputToHex.gdb\\\\B3_corridors_truncated_at_200k is loading...\",\"D:\\\\SE_Blueprint_2023\\\\9_Linkagemapper\\\\ContinentalInland\\\\ConInlandClipLMOutputToHex.gdb\\\\C1_corridors_truncated_at_200k is loading...\",\"D:\\\\SE_Blueprint_2023\\\\9_Linkagemapper\\\\ContinentalInland\\\\ConInlandClipLMOutputToHex.gdb\\\\C2_corridors_truncated_at_200k is loading...\",\"D:\\\\SE_Blueprint_2023\\\\9_Linkagemapper\\\\ContinentalInland\\\\ConInlandClipLMOutputToHex.gdb\\\\D1_corridors_truncated_at_200k is loading...\",\"D:\\\\SE_Blueprint_2023\\\\9_Linkagemapper\\\\ContinentalInland\\\\ConInlandClipLMOutputToHex.gdb\\\\D2_corridors_truncated_at_200k is loading...\",\"D:\\\\SE_Blueprint_2023\\\\9_Linkagemapper\\\\ContinentalInland\\\\ConInlandClipLMOutputToHex.gdb\\\\D3_corridors_truncated_at_200k is loading...\",\"D:\\\\SE_Blueprint_2023\\\\9_Linkagemapper\\\\ContinentalInland\\\\ConInlandClipLMOutputToHex.gdb\\\\E1_corridors_truncated_at_200k is loading...\",\"Succeeded at Tuesday, September 5, 2023 11:02:02 AM (Elapsed Time: 4 minutes 29 seconds)\"]' data-show='true'><div id = 'default' /></div></div>"
      ],
      "text/plain": [
       "<Result 'D:\\\\SE_Blueprint_2023\\\\9_Linkagemapper\\\\ContinentalInland\\\\ConInlandClipLMOutputToHex.gdb\\\\Mosaic'>"
      ]
     },
     "execution_count": 48,
     "metadata": {},
     "output_type": "execute_result"
    }
   ],
   "source": [
    "# mosaic clipped corridors together\n",
    "arcpy.management.MosaicToNewRaster(RList, OutWorkspace, \"Mosaic\", None, \"32_BIT_SIGNED\", None, 1, \"FIRST\", \"FIRST\")"
   ]
  },
  {
   "cell_type": "code",
   "execution_count": 49,
   "metadata": {},
   "outputs": [],
   "source": [
    "# Take times 1 because output is stripy\n",
    "out_raster = arcpy.sa.Times(\"Mosaic\", 1); out_raster.save(\"Mosaic2\")"
   ]
  },
  {
   "cell_type": "code",
   "execution_count": 50,
   "metadata": {},
   "outputs": [
    {
     "name": "stdout",
     "output_type": "stream",
     "text": [
      "695.0215392112732\n"
     ]
    }
   ],
   "source": [
    "end = time.time()\n",
    "print(end - start)"
   ]
  }
 ],
 "metadata": {
  "kernelspec": {
   "display_name": "ArcGISPro",
   "language": "Python",
   "name": "python3"
  },
  "language_info": {
   "file_extension": ".py",
   "name": "python",
   "version": "3"
  }
 },
 "nbformat": 4,
 "nbformat_minor": 2
}
